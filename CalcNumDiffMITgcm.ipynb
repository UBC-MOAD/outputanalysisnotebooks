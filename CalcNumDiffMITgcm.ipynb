{
 "metadata": {
  "name": ""
 },
 "nbformat": 3,
 "nbformat_minor": 0,
 "worksheets": [
  {
   "cells": [
    {
     "cell_type": "markdown",
     "metadata": {},
     "source": [
      "Calculate Numerical Diffusivity\n",
      "============================\n",
      "\n",
      "This ipython notebook calculates the numerical diffusivity on a tracer, associated to a specific configuration of the MITgcm. In particular, t was developed to calculate the equavalent diffusivity $\\kappa$, defined (here) as $\\kappa = \\kappa_{pres}+\\kappa_{num}$, where $\\kappa_{pres}$ \n",
      "is the prescibed or explicit tracer diffusivity one imposes on the model and $k_{num}$ is the additional diffusivity due to numerical truncation errors. Note that there are two $\\kappa_{pres}$ and therefore two $\\kappa$, one for the horizontal dimensions and one for the vertical one.\n",
      "\n",
      "These calculations try to reproduce the method used by [1] Abernathy et al. 2010, [2] Hill et al. 2011[3], Leibensperger and Plumb, 2013 to determine the numerical diffusivity MITgcm Southern Ocean configurations [1,2] and a baroclinic flow simulation simulation [3].\n",
      "\n",
      "The method goes as follows:\n",
      "\n",
      "From the evolution equation for the variance of the tracer concentration in the model output\n",
      "\n",
      "\\begin{equation}\n",
      "\\frac{1}{2}\\frac{\\partial{\\overline{q^{2}}}}{\\partial{t}}=-\\kappa_{h} \\overline{|\\nabla_h q|^2}-\\kappa_{v} \\overline{(\\frac{\\partial{q}}{\\partial {z}})^{2}}\n",
      "\\end{equation}\n",
      "\n",
      "one can fit by a least squares regression, suitable values of $\\kappa_h$ and $\\kappa_v$ that satisfy the equation."
     ]
    },
    {
     "cell_type": "code",
     "collapsed": false,
     "input": [
      "#KRM\n",
      "import os\n",
      "\n",
      "import numpy as np\n",
      "\n",
      "import matplotlib.pyplot as plt\n",
      "\n",
      "from scipy.stats import nanmean\n",
      "\n",
      "from math import *\n",
      "\n",
      "%matplotlib inline\n",
      "\n",
      "import numpy as np\n",
      "\n",
      "import matplotlib.colors as mcolors\n",
      "\n",
      "from netCDF4 import Dataset\n",
      "\n",
      "import pylab as pl\n",
      "\n",
      "from decimal import getcontext, Decimal, Inexact"
     ],
     "language": "python",
     "metadata": {},
     "outputs": [],
     "prompt_number": 1
    },
    {
     "cell_type": "code",
     "collapsed": false,
     "input": [
      "#'''\n",
      "#NAME\n",
      "#    Custom Colormaps for Matplotlib\n",
      "#PURPOSE\n",
      "#    This program shows how to implement make_cmap which is a function that\n",
      "#    generates a colorbar.  If you want to look at different color schemes,\n",
      "#    check out https://kuler.adobe.com/create.\n",
      "#PROGRAMMER(S)\n",
      "#    Chris Slocum\n",
      "#REVISION HISTORY\n",
      "#    20130411 -- Initial version created\n",
      "#    20140313 -- Small changes made and code posted online\n",
      "#    20140320 -- Added the ability to set the position of each color\n",
      "#'''\n",
      "\n",
      "def make_cmap(colors, position=None, bit=False):\n",
      "    #'''\n",
      "    #make_cmap takes a list of tuples which contain RGB values. The RGB\n",
      "    #values may either be in 8-bit [0 to 255] (in which bit must be set to\n",
      "    #rue when called) or arithmetic [0 to 1] (default). make_cmap returns\n",
      "    #a cmap with equally spaced colors.\n",
      "    #Arrange your tuples so that the first color is the lowest value for the\n",
      "    #colorbar and the last is the highest.\n",
      "    #position contains values from 0 to 1 to dictate the location of each color.\n",
      "    #'''\n",
      "    import matplotlib as mpl\n",
      "    import numpy as np\n",
      "    bit_rgb = np.linspace(0,1,256)\n",
      "    if position == None:\n",
      "        position = np.linspace(0,1,len(colors))\n",
      "    else:\n",
      "        if len(position) != len(colors):\n",
      "            sys.exit(\"position length must be the same as colors\")\n",
      "        elif position[0] != 0 or position[-1] != 1:\n",
      "            sys.exit(\"position must start with 0 and end with 1\")\n",
      "    if bit:\n",
      "        for i in range(len(colors)):\n",
      "            colors[i] = (bit_rgb[colors[i][0]],\n",
      "                         bit_rgb[colors[i][1]],\n",
      "                         bit_rgb[colors[i][2]])\n",
      "    cdict = {'red':[], 'green':[], 'blue':[]}\n",
      "    for pos, color in zip(position, colors):\n",
      "        cdict['red'].append((pos, color[0], color[0]))\n",
      "        cdict['green'].append((pos, color[1], color[1]))\n",
      "        cdict['blue'].append((pos, color[2], color[2]))\n",
      "\n",
      "    cmap = mpl.colors.LinearSegmentedColormap('my_colormap',cdict,256)\n",
      "    return cmap"
     ],
     "language": "python",
     "metadata": {},
     "outputs": [],
     "prompt_number": 2
    },
    {
     "cell_type": "code",
     "collapsed": false,
     "input": [
      "# Get field from MITgcm netCDF output\n",
      "#\n",
      "# statefile : string with /path/to/state.0000000000.t001.nc\n",
      "# fieldname : string with the variable name as written on the netCDF file ('Temp', 'S','Eta', etc.)\n",
      "#\n",
      "def getField(statefile, fieldname):\n",
      "    \n",
      "    StateOut = Dataset(statefile)\n",
      "    \n",
      "    Fld = StateOut.variables[fieldname][:]\n",
      "    \n",
      "    shFld = np.shape(Fld)\n",
      "    \n",
      "    if len(shFld) == 1:\n",
      "        \n",
      "        return Fld\n",
      "    \n",
      "    if len(shFld) == 2:\n",
      "        \n",
      "        Fld2 = np.reshape(Fld,(shFld[0],shFld[1])) # reshape to pcolor order\n",
      "        return Fld2 \n",
      "    \n",
      "    elif len(shFld) == 3:\n",
      "        \n",
      "        Fld2 = np.zeros((shFld[0],shFld[1],shFld[2])) \n",
      "        Fld2 = np.reshape(Fld,(shFld[0],shFld[1],shFld[2])) # reshape to pcolor order\n",
      "        return Fld2 \n",
      "        \n",
      "    elif len(shFld) == 4:\n",
      "        \n",
      "        Fld2 = np.zeros((shFld[0],shFld[1],shFld[2],shFld[3])) \n",
      "        Fld2 = np.reshape(Fld,(shFld[0],shFld[1],shFld[2],shFld[3])) # reshape to pcolor order\n",
      "        return Fld2\n",
      "        \n",
      "    else:\n",
      "        \n",
      "        print (' Check size of field ')\n",
      "    \n",
      "    \n"
     ],
     "language": "python",
     "metadata": {},
     "outputs": [],
     "prompt_number": 3
    },
    {
     "cell_type": "code",
     "collapsed": false,
     "input": [
      "\n",
      "def dsum(iterable):\n",
      "    \n",
      "    \"Full precision summation using Decimal objects for intermediate values\"\n",
      "    # Transform (exactly) a float to m * 2 ** e where m and e are integers.\n",
      "    # Convert (mant, exp) to a Decimal and add to the cumulative sum.\n",
      "    # If the precision is too small for exact conversion and addition,\n",
      "    # then retry with a larger precision.\n",
      "    from decimal import getcontext, Decimal, Inexact\n",
      "    getcontext().traps[Inexact] = True\n",
      "\n",
      "    total = Decimal(0)\n",
      "    for x in iterable:\n",
      "        mant, exp = frexp(x)\n",
      "        mant, exp = int(mant * 2.0 ** 53), exp-53\n",
      "        while True:\n",
      "            try:\n",
      "                total += mant * Decimal(2) ** exp\n",
      "                break\n",
      "            except Inexact:\n",
      "                getcontext().prec += 1\n",
      "    return float(total)\n"
     ],
     "language": "python",
     "metadata": {},
     "outputs": [],
     "prompt_number": 4
    },
    {
     "cell_type": "markdown",
     "metadata": {},
     "source": [
      "Important input parameters:\n",
      "------------------------"
     ]
    },
    {
     "cell_type": "code",
     "collapsed": false,
     "input": [
      "nx = 120  # number of x points in domain\n",
      "ny = 90  # number of y points in domain\n",
      "nz = 35   # number of z levels in domain\n",
      "nt = 19   # number of output files (n time) "
     ],
     "language": "python",
     "metadata": {},
     "outputs": [],
     "prompt_number": 5
    },
    {
     "cell_type": "markdown",
     "metadata": {},
     "source": [
      "Load output filenames:\n"
     ]
    },
    {
     "cell_type": "code",
     "collapsed": false,
     "input": [
      "### Load output filenames ###\n",
      "\n",
      "filename = '/ocean/kramosmu/MITgcm/CanyonUpwelling/120x90x35_UpwLinRampWind_1Tr_LinProfiles/run17/state.0000000000.glob.nc'\n",
      "StateOut = Dataset(filename)\n",
      "\n",
      "filename2 = '/ocean/kramosmu/MITgcm/CanyonUpwelling/120x90x35_UpwLinRampWind_1Tr_LinProfiles/run17/grid.glob.nc'\n",
      "GridOut = Dataset(filename2)\n",
      "#for dimobj in StateOut.variables.values():\n",
      "#    print dimobj\n",
      "filename3 = '/ocean/kramosmu/MITgcm/CanyonUpwelling/120x90x35_UpwLinRampWind_1Tr_LinProfiles/run17/ptracers.0000000000.glob.nc'\n",
      "PtracersOut = Dataset(filename3)\n"
     ],
     "language": "python",
     "metadata": {},
     "outputs": [],
     "prompt_number": 33
    },
    {
     "cell_type": "markdown",
     "metadata": {},
     "source": [
      "Make some plots "
     ]
    },
    {
     "cell_type": "code",
     "collapsed": false,
     "input": [
      "plt.rcParams.update({'font.size':13})\n",
      "\n",
      "tracer1=getField(filename,'Temp')\n",
      "\n",
      "tracer1msk = np.ma.masked_values(tracer1, 0)\n",
      "\n",
      "MASK = np.ma.getmask(tracer1msk)\n",
      "\n",
      "### PLOT TRACER 1 at zlev and time###\n",
      "\n",
      "zlev =20\n",
      "time =15\n",
      "\n",
      "plt.figure(figsize=(10,7))\n",
      "\n",
      "ax=plt.gca()\n",
      "ax.set_axis_bgcolor((205/255.0, 201/255.0, 201/255.0))\n",
      "\n",
      "plt.contourf(tracer1msk[time,zlev,:,:],30, cmap='rainbow')\n",
      "cb = plt.colorbar()\n",
      "cb.set_label('C', position=(0, 1),rotation=0)\n",
      "\n",
      "z=StateOut.variables['Z']\n",
      "\n",
      "plt.title(\"Tracer at z=%d m\" % -z[zlev])\n",
      "\n",
      " \n",
      "plt.figure(figsize=(10,7))\n",
      "\n",
      "ax=plt.gca()\n",
      "ax.set_axis_bgcolor((205/255.0, 201/255.0, 201/255.0))\n",
      "\n",
      "plt.contourf(tracer1msk[time,:,:,60],30, cmap='rainbow')\n",
      "plt.gca().invert_yaxis()\n",
      "cb = plt.colorbar()\n",
      "cb.set_label('C', position=(0, 1),rotation=0)\n",
      "\n",
      "z=StateOut.variables['Z']\n",
      "\n",
      "plt.title(\"Tracer at x=60 nx\")\n",
      "\n",
      "\n"
     ],
     "language": "python",
     "metadata": {},
     "outputs": [
      {
       "metadata": {},
       "output_type": "pyout",
       "prompt_number": 34,
       "text": [
        "<matplotlib.text.Text at 0x9ce0f90>"
       ]
      },
      {
       "metadata": {},
       "output_type": "display_data",
       "png": "[encoded data removed]",
       "text": [
        "<matplotlib.figure.Figure at 0x9537590>"
       ]
      },
      {
       "metadata": {},
       "output_type": "display_data",
       "png": "[encoded data removed]",
       "text": [
        "<matplotlib.figure.Figure at 0xa14d250>"
       ]
      }
     ],
     "prompt_number": 34
    },
    {
     "cell_type": "markdown",
     "metadata": {},
     "source": [
      "Calculate the volume of the domain\n",
      "-------------------------------\n",
      "The volume of a tracer cell (remember we have an Arakawa C grid, so this changes depending on which kind of cell we are thinking about) is given by\n",
      "\n",
      "$V(i,j,k)=depth \\times area = (hfacC(i,j,k)\\times dRf(k)) \\times rA(i,j) = (hfacC(i,j,k)\\times dRf(k)) \\times dXg(i,j) \\times dYg(i,j)$,\n",
      "\n",
      "where hfacC is the fraction of the cell that is open (not occupied with land). So, the total volume of the domain is \n",
      "\n",
      "$\\sum\\limits_{i=1}^{nx}{\\sum\\limits_{j=1}^{ny}{\\sum\\limits_{k=1}^{nz}{(hfacC(i,j,k)\\times dRf(k)) \\times rA(i,j)}}}$"
     ]
    },
    {
     "cell_type": "code",
     "collapsed": false,
     "input": [
      "DomVolume = 0.0\n",
      "\n",
      "hFacC = getField(filename2,'HFacC')\n",
      "drF   = getField(filename2,'drF')\n",
      "rAC   = getField(filename2,'rA')\n",
      "\n",
      "\n",
      "for ii in np.arange(nx):\n",
      "    \n",
      "    for jj in np.arange(ny):\n",
      "        \n",
      "        for kk in np.arange(nz):\n",
      "            \n",
      "            DomVolume = DomVolume + hFacC[kk,jj,ii]*drF[kk]*rAC[jj,ii]\n",
      "                \n",
      "print('\\n The total volume is %e m^3 \\n' %DomVolume)\n"
     ],
     "language": "python",
     "metadata": {},
     "outputs": [
      {
       "output_type": "stream",
       "stream": "stdout",
       "text": [
        "\n",
        " The total volume is 5.893446e+12 m^3 \n",
        "\n"
       ]
      }
     ],
     "prompt_number": 35
    },
    {
     "cell_type": "markdown",
     "metadata": {},
     "source": [
      "1st Term: The volume-weighted average of the squared concentration\n",
      "-------------------------------------------------------------\n",
      "The first term in the variance evolution equation is $\\frac{1}{2}\\frac{\\partial{\\overline{q^{2}}}}{\\partial{t}}$. Note that we care about the time derivative of the variance, so that the mean concentration that usually appears in the definition of variance will not play a role here, since it is constant in time (we are not putting in or letting out any tracer). \n",
      "\n",
      "We are going to calculate $\\overline{q^2}$, the volume-weighted average of the squared concentration, and then the time derivative of that using a centered difference scheme."
     ]
    },
    {
     "cell_type": "code",
     "collapsed": false,
     "input": [
      "### Calculate the volume-weighted mean of q^2\n",
      "\n",
      "q2mean = np.zeros((nt,1))\n",
      "\n",
      "for tt in np.arange(nt):\n",
      "    q2sum = 0.0\n",
      "    for kk in np.arange(nz):\n",
      "        \n",
      "        for jj in np.arange(ny):\n",
      "            \n",
      "            q2sum = q2sum + np.sum(((hFacC[kk,jj,:]*drF[kk]*rAC[jj,:])/DomVolume)*(tracer1[tt,kk,jj,:])**2)\n",
      "                \n",
      "    q2mean[tt] = q2sum\n",
      "   \n",
      "    print('volume-weighted mean of q^2 nt=%d is %e  \\n' %(tt, q2mean[tt]))\n",
      "\n"
     ],
     "language": "python",
     "metadata": {},
     "outputs": [
      {
       "output_type": "stream",
       "stream": "stdout",
       "text": [
        "volume-weighted mean of q^2 nt=0 is 9.428273e+01  \n",
        "\n",
        "volume-weighted mean of q^2 nt=1 is 9.427102e+01  \n"
       ]
      },
      {
       "output_type": "stream",
       "stream": "stdout",
       "text": [
        "\n",
        "volume-weighted mean of q^2 nt=2 is 9.426647e+01  \n"
       ]
      },
      {
       "output_type": "stream",
       "stream": "stdout",
       "text": [
        "\n",
        "volume-weighted mean of q^2 nt=3 is 9.425954e+01  \n"
       ]
      },
      {
       "output_type": "stream",
       "stream": "stdout",
       "text": [
        "\n",
        "volume-weighted mean of q^2 nt=4 is 9.425387e+01  \n"
       ]
      },
      {
       "output_type": "stream",
       "stream": "stdout",
       "text": [
        "\n",
        "volume-weighted mean of q^2 nt=5 is 9.424884e+01  \n"
       ]
      },
      {
       "output_type": "stream",
       "stream": "stdout",
       "text": [
        "\n",
        "volume-weighted mean of q^2 nt=6 is 9.424305e+01  \n"
       ]
      },
      {
       "output_type": "stream",
       "stream": "stdout",
       "text": [
        "\n",
        "volume-weighted mean of q^2 nt=7 is 9.423735e+01  \n"
       ]
      },
      {
       "output_type": "stream",
       "stream": "stdout",
       "text": [
        "\n",
        "volume-weighted mean of q^2 nt=8 is 9.423196e+01  \n"
       ]
      },
      {
       "output_type": "stream",
       "stream": "stdout",
       "text": [
        "\n",
        "volume-weighted mean of q^2 nt=9 is 9.422603e+01  \n"
       ]
      },
      {
       "output_type": "stream",
       "stream": "stdout",
       "text": [
        "\n",
        "volume-weighted mean of q^2 nt=10 is 9.422030e+01  \n"
       ]
      },
      {
       "output_type": "stream",
       "stream": "stdout",
       "text": [
        "\n",
        "volume-weighted mean of q^2 nt=11 is 9.421475e+01  \n"
       ]
      },
      {
       "output_type": "stream",
       "stream": "stdout",
       "text": [
        "\n",
        "volume-weighted mean of q^2 nt=12 is 9.420884e+01  \n"
       ]
      },
      {
       "output_type": "stream",
       "stream": "stdout",
       "text": [
        "\n",
        "volume-weighted mean of q^2 nt=13 is 9.420309e+01  \n"
       ]
      },
      {
       "output_type": "stream",
       "stream": "stdout",
       "text": [
        "\n",
        "volume-weighted mean of q^2 nt=14 is 9.419756e+01  \n"
       ]
      },
      {
       "output_type": "stream",
       "stream": "stdout",
       "text": [
        "\n",
        "volume-weighted mean of q^2 nt=15 is 9.419171e+01  \n"
       ]
      },
      {
       "output_type": "stream",
       "stream": "stdout",
       "text": [
        "\n",
        "volume-weighted mean of q^2 nt=16 is 9.418593e+01  \n"
       ]
      },
      {
       "output_type": "stream",
       "stream": "stdout",
       "text": [
        "\n",
        "volume-weighted mean of q^2 nt=17 is 9.418031e+01  \n"
       ]
      },
      {
       "output_type": "stream",
       "stream": "stdout",
       "text": [
        "\n",
        "volume-weighted mean of q^2 nt=18 is 9.417445e+01  \n"
       ]
      },
      {
       "output_type": "stream",
       "stream": "stdout",
       "text": [
        "\n"
       ]
      }
     ],
     "prompt_number": 36
    },
    {
     "cell_type": "code",
     "collapsed": false,
     "input": [
      "### Calculate time derivative \n",
      "dt = (3600.*12.) # half day\n",
      "\n",
      "\n",
      "\n",
      "dqdt = np.zeros(nt-2)\n",
      "\n",
      "for tt in np.arange(nt-2):\n",
      "    \n",
      "    dqdt[tt] = (q2mean[tt+2]-q2mean[tt])/(2.*dt) # approximation of time derivative of v-w mean q^2\n",
      "      "
     ],
     "language": "python",
     "metadata": {},
     "outputs": [],
     "prompt_number": 37
    },
    {
     "cell_type": "markdown",
     "metadata": {},
     "source": [
      "2nd Term: The volume-weighted average of the squared horizontal gradient\n",
      "------------------------------------------------------------------\n",
      "The second term in the variance evolution equation is $-\\kappa_{h} \\overline{|\\nabla_h q|^2}$. Next, we calculate the square of the horizontal gradient $|\\nabla_h q|^2=(\\frac{\\partial{q}}{\\partial{x}})^2+(\\frac{\\partial{q}}{\\partial{y}})^2$.\n",
      "\n",
      "Spatial derivatives are approximated using a centered-difference scheme."
     ]
    },
    {
     "cell_type": "code",
     "collapsed": false,
     "input": [
      "\n",
      "### Calculate mean of (dq/dx)^2 + (dq/dy)^2)\n",
      "\n",
      "dxG = getField(filename2,'dxG')\n",
      "dyG = getField(filename2,'dyG')\n",
      "\n",
      "qmeanDh = np.zeros((nt,1))\n",
      "qmeanDx = np.zeros((nt,1))\n",
      "qmeanDy = np.zeros((nt,1))\n",
      "\n",
      "for tt in np.arange(nt):\n",
      "    \n",
      "    sumDx = 0.0\n",
      "    \n",
      "    tracer2dx = tracer1[tt,:,:,2:nx]\n",
      "    tracer0dx = tracer1[tt,:,:,0:nx-2]\n",
      "    tracerDerX = ((tracer2dx-tracer0dx)/(2.0*dxG[:,1:nx-1]))**2\n",
      "    #print tracerDerX\n",
      "    \n",
      "    for kk in np.arange(nz):\n",
      "        for jj in np.arange(ny):\n",
      "            sumDx = sumDx + np.sum((hFacC[kk,jj,1:nx-1]*drF[kk]*rAC[jj,1:nx-1])*(tracerDerX[kk,jj,:]))\n",
      "          \n",
      "        #print(sumDx)    \n",
      "    \n",
      "    qmeanDx[tt] = sumDx/DomVolume\n",
      "    \n",
      "    print('The v-w mean of (dq/dx)^2 at nt=%d is %e \\n' % (tt,qmeanDx[tt]))            \n",
      "   \n",
      "    \n",
      "for tt in np.arange(nt):\n",
      "    \n",
      "    sumDy = 0.0\n",
      "    \n",
      "    tracer2dy = tracer1[tt,:,2:ny,:]\n",
      "    tracer0dy = tracer1[tt,:,0:ny-2,:]\n",
      "    tracerDerY = ((tracer2dy-tracer0dy)/(2.0*dyG[1:ny-1,:]))**2\n",
      "    \n",
      "    \n",
      "    for kk in np.arange(nz):\n",
      "        for ii in np.arange(nx):\n",
      "            sumDy = sumDy + np.sum((hFacC[kk,1:ny-1,ii]*drF[kk]*rAC[1:ny-1,ii])*(tracerDerY[kk,:,ii]))\n",
      "            \n",
      "    qmeanDy[tt] = sumDy/DomVolume \n",
      "    \n",
      "    print('The v-w mean of (dq/dy)^2 at nt=%d is %e \\n' % (tt,qmeanDy[tt]))            \n",
      "\n",
      "                \n",
      "qmeanDh = qmeanDx + qmeanDy\n"
     ],
     "language": "python",
     "metadata": {},
     "outputs": [
      {
       "output_type": "stream",
       "stream": "stdout",
       "text": [
        "The v-w mean of (dq/dx)^2 at nt=0 is 7.588210e-08 \n",
        "\n",
        "The v-w mean of (dq/dx)^2 at nt=1 is 7.582639e-08 \n"
       ]
      },
      {
       "output_type": "stream",
       "stream": "stdout",
       "text": [
        "\n",
        "The v-w mean of (dq/dx)^2 at nt=2 is 7.580188e-08 \n"
       ]
      },
      {
       "output_type": "stream",
       "stream": "stdout",
       "text": [
        "\n",
        "The v-w mean of (dq/dx)^2 at nt=3 is 7.577799e-08 \n"
       ]
      },
      {
       "output_type": "stream",
       "stream": "stdout",
       "text": [
        "\n",
        "The v-w mean of (dq/dx)^2 at nt=4 is 7.575774e-08 \n"
       ]
      },
      {
       "output_type": "stream",
       "stream": "stdout",
       "text": [
        "\n",
        "The v-w mean of (dq/dx)^2 at nt=5 is 7.574046e-08 \n",
        "\n",
        "The v-w mean of (dq/dx)^2 at nt=6 is 7.572248e-08 \n"
       ]
      },
      {
       "output_type": "stream",
       "stream": "stdout",
       "text": [
        "\n",
        "The v-w mean of (dq/dx)^2 at nt=7 is 7.570481e-08 \n"
       ]
      },
      {
       "output_type": "stream",
       "stream": "stdout",
       "text": [
        "\n",
        "The v-w mean of (dq/dx)^2 at nt=8 is 7.568844e-08 \n",
        "\n",
        "The v-w mean of (dq/dx)^2 at nt=9 is 7.567221e-08 \n"
       ]
      },
      {
       "output_type": "stream",
       "stream": "stdout",
       "text": [
        "\n",
        "The v-w mean of (dq/dx)^2 at nt=10 is 7.565631e-08 \n"
       ]
      },
      {
       "output_type": "stream",
       "stream": "stdout",
       "text": [
        "\n",
        "The v-w mean of (dq/dx)^2 at nt=11 is 7.564087e-08 \n",
        "\n",
        "The v-w mean of (dq/dx)^2 at nt=12 is 7.562525e-08 \n"
       ]
      },
      {
       "output_type": "stream",
       "stream": "stdout",
       "text": [
        "\n",
        "The v-w mean of (dq/dx)^2 at nt=13 is 7.561021e-08 \n"
       ]
      },
      {
       "output_type": "stream",
       "stream": "stdout",
       "text": [
        "\n",
        "The v-w mean of (dq/dx)^2 at nt=14 is 7.559552e-08 \n",
        "\n",
        "The v-w mean of (dq/dx)^2 at nt=15 is 7.558035e-08 \n"
       ]
      },
      {
       "output_type": "stream",
       "stream": "stdout",
       "text": [
        "\n",
        "The v-w mean of (dq/dx)^2 at nt=16 is 7.556591e-08 \n"
       ]
      },
      {
       "output_type": "stream",
       "stream": "stdout",
       "text": [
        "\n",
        "The v-w mean of (dq/dx)^2 at nt=17 is 7.555191e-08 \n",
        "\n",
        "The v-w mean of (dq/dx)^2 at nt=18 is 7.553740e-08 \n"
       ]
      },
      {
       "output_type": "stream",
       "stream": "stdout",
       "text": [
        "\n",
        "The v-w mean of (dq/dy)^2 at nt=0 is 2.126116e-07 \n"
       ]
      },
      {
       "output_type": "stream",
       "stream": "stdout",
       "text": [
        "\n",
        "The v-w mean of (dq/dy)^2 at nt=1 is 2.024994e-07 \n"
       ]
      },
      {
       "output_type": "stream",
       "stream": "stdout",
       "text": [
        "\n",
        "The v-w mean of (dq/dy)^2 at nt=2 is 2.024484e-07 \n"
       ]
      },
      {
       "output_type": "stream",
       "stream": "stdout",
       "text": [
        "\n",
        "The v-w mean of (dq/dy)^2 at nt=3 is 2.024107e-07 \n"
       ]
      },
      {
       "output_type": "stream",
       "stream": "stdout",
       "text": [
        "\n",
        "The v-w mean of (dq/dy)^2 at nt=4 is 2.023715e-07 \n"
       ]
      },
      {
       "output_type": "stream",
       "stream": "stdout",
       "text": [
        "\n",
        "The v-w mean of (dq/dy)^2 at nt=5 is 2.023299e-07 \n"
       ]
      },
      {
       "output_type": "stream",
       "stream": "stdout",
       "text": [
        "\n",
        "The v-w mean of (dq/dy)^2 at nt=6 is 2.022860e-07 \n"
       ]
      },
      {
       "output_type": "stream",
       "stream": "stdout",
       "text": [
        "\n",
        "The v-w mean of (dq/dy)^2 at nt=7 is 2.022415e-07 \n"
       ]
      },
      {
       "output_type": "stream",
       "stream": "stdout",
       "text": [
        "\n",
        "The v-w mean of (dq/dy)^2 at nt=8 is 2.021971e-07 \n"
       ]
      },
      {
       "output_type": "stream",
       "stream": "stdout",
       "text": [
        "\n",
        "The v-w mean of (dq/dy)^2 at nt=9 is 2.021527e-07 \n"
       ]
      },
      {
       "output_type": "stream",
       "stream": "stdout",
       "text": [
        "\n",
        "The v-w mean of (dq/dy)^2 at nt=10 is 2.021086e-07 \n"
       ]
      },
      {
       "output_type": "stream",
       "stream": "stdout",
       "text": [
        "\n",
        "The v-w mean of (dq/dy)^2 at nt=11 is 2.020639e-07 \n"
       ]
      },
      {
       "output_type": "stream",
       "stream": "stdout",
       "text": [
        "\n",
        "The v-w mean of (dq/dy)^2 at nt=12 is 2.020192e-07 \n"
       ]
      },
      {
       "output_type": "stream",
       "stream": "stdout",
       "text": [
        "\n",
        "The v-w mean of (dq/dy)^2 at nt=13 is 2.019752e-07 \n"
       ]
      },
      {
       "output_type": "stream",
       "stream": "stdout",
       "text": [
        "\n",
        "The v-w mean of (dq/dy)^2 at nt=14 is 2.019311e-07 \n"
       ]
      },
      {
       "output_type": "stream",
       "stream": "stdout",
       "text": [
        "\n",
        "The v-w mean of (dq/dy)^2 at nt=15 is 2.018867e-07 \n"
       ]
      },
      {
       "output_type": "stream",
       "stream": "stdout",
       "text": [
        "\n",
        "The v-w mean of (dq/dy)^2 at nt=16 is 2.018432e-07 \n"
       ]
      },
      {
       "output_type": "stream",
       "stream": "stdout",
       "text": [
        "\n",
        "The v-w mean of (dq/dy)^2 at nt=17 is 2.018000e-07 \n"
       ]
      },
      {
       "output_type": "stream",
       "stream": "stdout",
       "text": [
        "\n",
        "The v-w mean of (dq/dy)^2 at nt=18 is 2.017565e-07 \n"
       ]
      },
      {
       "output_type": "stream",
       "stream": "stdout",
       "text": [
        "\n"
       ]
      }
     ],
     "prompt_number": 38
    },
    {
     "cell_type": "markdown",
     "metadata": {},
     "source": [
      "3rd Term: The volume-weighted average of the squared vertical derivative\n",
      "------------------------------------------------------------------\n",
      "The third term in the variance evolution equation is $-\\kappa_{v} \\overline{(\\frac{\\partial{q}}{\\partial{z}})^2}$. Next, we calculate the square of the vertical gradient $(\\frac{\\partial{q}}{\\partial{z}})^2$.\n",
      "\n",
      "The vertical derivative is approximated using a centered-difference scheme."
     ]
    },
    {
     "cell_type": "code",
     "collapsed": false,
     "input": [
      "### Calculate mean of (dq/dz)^2 \n",
      "\n",
      "qmeanDz = np.zeros((nt,1))\n",
      "\n",
      "\n",
      "for tt in np.arange(nt):\n",
      "    qsumDz = 0.0\n",
      "    for ii in np.arange(nx):\n",
      "        \n",
      "        for jj in np.arange(ny):\n",
      "            \n",
      "            for kk in np.arange(nz-2):\n",
      "                \n",
      "                if (hFacC[kk,jj,ii]*drF[kk])+(hFacC[kk+1,jj,ii]*drF[kk+1]) == 0:\n",
      "                    \n",
      "                    continue\n",
      "                    \n",
      "                else :\n",
      "                    \n",
      "                   qsumDz =qsumDz +(hFacC[kk,jj,ii]*drF[kk]*rAC[jj,ii])*(((tracer1[tt,kk+2,jj,ii]-tracer1[tt,kk,jj,ii])/((hFacC[kk+1,jj,ii]*drF[kk+1])+(hFacC[kk,jj,ii]*drF[kk])))**2)\n",
      "                   \n",
      "    qmeanDz[tt] = qsumDz/DomVolume\n",
      "    \n",
      "    print('Mean (dq/dz)^2 at nt=%d is %e \\n' %(tt, qmeanDz[tt]))\n",
      "  \n",
      "\n",
      "    \n",
      "    \n"
     ],
     "language": "python",
     "metadata": {},
     "outputs": [
      {
       "output_type": "stream",
       "stream": "stdout",
       "text": [
        "Mean (dq/dz)^2 at nt=0 is 4.173886e-02 \n",
        "\n",
        "Mean (dq/dz)^2 at nt=1 is 4.173124e-02 \n"
       ]
      },
      {
       "output_type": "stream",
       "stream": "stdout",
       "text": [
        "\n",
        "Mean (dq/dz)^2 at nt=2 is 4.174733e-02 \n"
       ]
      },
      {
       "output_type": "stream",
       "stream": "stdout",
       "text": [
        "\n",
        "Mean (dq/dz)^2 at nt=3 is 4.175934e-02 \n"
       ]
      },
      {
       "output_type": "stream",
       "stream": "stdout",
       "text": [
        "\n",
        "Mean (dq/dz)^2 at nt=4 is 4.176884e-02 \n"
       ]
      },
      {
       "output_type": "stream",
       "stream": "stdout",
       "text": [
        "\n",
        "Mean (dq/dz)^2 at nt=5 is 4.177629e-02 \n"
       ]
      },
      {
       "output_type": "stream",
       "stream": "stdout",
       "text": [
        "\n",
        "Mean (dq/dz)^2 at nt=6 is 4.178189e-02 \n"
       ]
      },
      {
       "output_type": "stream",
       "stream": "stdout",
       "text": [
        "\n",
        "Mean (dq/dz)^2 at nt=7 is 4.178591e-02 \n"
       ]
      },
      {
       "output_type": "stream",
       "stream": "stdout",
       "text": [
        "\n",
        "Mean (dq/dz)^2 at nt=8 is 4.178854e-02 \n"
       ]
      },
      {
       "output_type": "stream",
       "stream": "stdout",
       "text": [
        "\n",
        "Mean (dq/dz)^2 at nt=9 is 4.178985e-02 \n"
       ]
      },
      {
       "output_type": "stream",
       "stream": "stdout",
       "text": [
        "\n",
        "Mean (dq/dz)^2 at nt=10 is 4.179000e-02 \n"
       ]
      },
      {
       "output_type": "stream",
       "stream": "stdout",
       "text": [
        "\n",
        "Mean (dq/dz)^2 at nt=11 is 4.178909e-02 \n"
       ]
      },
      {
       "output_type": "stream",
       "stream": "stdout",
       "text": [
        "\n",
        "Mean (dq/dz)^2 at nt=12 is 4.178722e-02 \n"
       ]
      },
      {
       "output_type": "stream",
       "stream": "stdout",
       "text": [
        "\n",
        "Mean (dq/dz)^2 at nt=13 is 4.178449e-02 \n"
       ]
      },
      {
       "output_type": "stream",
       "stream": "stdout",
       "text": [
        "\n",
        "Mean (dq/dz)^2 at nt=14 is 4.178100e-02 \n"
       ]
      },
      {
       "output_type": "stream",
       "stream": "stdout",
       "text": [
        "\n",
        "Mean (dq/dz)^2 at nt=15 is 4.177680e-02 \n"
       ]
      },
      {
       "output_type": "stream",
       "stream": "stdout",
       "text": [
        "\n",
        "Mean (dq/dz)^2 at nt=16 is 4.177199e-02 \n"
       ]
      },
      {
       "output_type": "stream",
       "stream": "stdout",
       "text": [
        "\n",
        "Mean (dq/dz)^2 at nt=17 is 4.176660e-02 \n"
       ]
      },
      {
       "output_type": "stream",
       "stream": "stdout",
       "text": [
        "\n",
        "Mean (dq/dz)^2 at nt=18 is 4.176069e-02 \n"
       ]
      },
      {
       "output_type": "stream",
       "stream": "stdout",
       "text": [
        "\n"
       ]
      }
     ],
     "prompt_number": 39
    },
    {
     "cell_type": "code",
     "collapsed": false,
     "input": [],
     "language": "python",
     "metadata": {},
     "outputs": [],
     "prompt_number": 39
    },
    {
     "cell_type": "code",
     "collapsed": false,
     "input": [
      "\n",
      "fig1=plt.figure(figsize=(21,3))\n",
      "\n",
      "plt.subplot(1,3,1)\n",
      "ax=plt.gca()\n",
      "ax.set_axis_bgcolor((205/255.0, 201/255.0, 201/255.0))\n",
      "\n",
      "plt.plot(qmeanDh[1:len(qmeanDh)-1],dqdt)\n",
      "\n",
      "\n",
      "plt.xlabel('$<|\\partial_{h}q|^2>$')\n",
      "\n",
      "plt.ylabel('$\\partial{<q^2>}/\\partial{t}$')\n",
      "    \n",
      "\n",
      "plt.subplot(1,3,2)\n",
      "ax=plt.gca()\n",
      "ax.set_axis_bgcolor((205/255.0, 201/255.0, 201/255.0))\n",
      "\n",
      "plt.plot(qmeanDz[1:len(qmeanDz)-1],dqdt)\n",
      "\n",
      "\n",
      "plt.xlabel('$<\\partial{q^2}/\\partial{z}>$')\n",
      "\n",
      "plt.ylabel('$\\partial{<q^2>}/\\partial{t}$')\n",
      "\n",
      "plt.subplot(1,3,3)\n",
      "ax=plt.gca()\n",
      "ax.set_axis_bgcolor((205/255.0, 201/255.0, 201/255.0))\n",
      "\n",
      "plt.plot(np.arange(0,nt*0.5,0.5),q2mean)\n",
      "\n",
      "plt.xlabel('days')\n",
      "\n",
      "plt.ylabel('$<q^2>$')\n",
      "\n",
      "plt.tight_layout()"
     ],
     "language": "python",
     "metadata": {},
     "outputs": [
      {
       "metadata": {},
       "output_type": "display_data",
       "png": "[encoded data removed]",
       "text": [
        "<matplotlib.figure.Figure at 0xa158590>"
       ]
      }
     ],
     "prompt_number": 40
    },
    {
     "cell_type": "code",
     "collapsed": false,
     "input": [
      "import pandas as pd\n",
      "import statsmodels.api as sm\n",
      "\n",
      "dt = 1*3600.0*12.0 # 1/2 day\n",
      "\n",
      "x = np.column_stack((qmeanDh[1:len(qmeanDh)-1], qmeanDz[1:len(qmeanDz)-1])) #variance of space derivatives\n",
      "\n",
      "y = 0.5*dqdt[0:len(dqdt)]\n",
      "\n",
      "\n",
      "## fit a OLS model with intercept \n",
      "#x = sm.add_constant(x)\n",
      "#est = sm.OLS(y, x).fit()\n",
      "est = sm.GLS(y,x).fit()\n",
      "est.summary()\n"
     ],
     "language": "python",
     "metadata": {},
     "outputs": [
      {
       "html": [
        "<table class=\"simpletable\">\n",
        "<caption>GLS Regression Results</caption>\n",
        "<tr>\n",
        "  <th>Dep. Variable:</th>            <td>y</td>        <th>  R-squared:         </th> <td>   0.992</td>\n",
        "</tr>\n",
        "<tr>\n",
        "  <th>Model:</th>                   <td>GLS</td>       <th>  Adj. R-squared:    </th> <td>   0.991</td>\n",
        "</tr>\n",
        "<tr>\n",
        "  <th>Method:</th>             <td>Least Squares</td>  <th>  F-statistic:       </th> <td>   978.7</td>\n",
        "</tr>\n",
        "<tr>\n",
        "  <th>Date:</th>             <td>Tue, 09 Sep 2014</td> <th>  Prob (F-statistic):</th> <td>1.28e-16</td>\n",
        "</tr>\n",
        "<tr>\n",
        "  <th>Time:</th>                 <td>12:58:17</td>     <th>  Log-Likelihood:    </th> <td>  297.89</td>\n",
        "</tr>\n",
        "<tr>\n",
        "  <th>No. Observations:</th>      <td>    17</td>      <th>  AIC:               </th> <td>  -591.8</td>\n",
        "</tr>\n",
        "<tr>\n",
        "  <th>Df Residuals:</th>          <td>    15</td>      <th>  BIC:               </th> <td>  -590.1</td>\n",
        "</tr>\n",
        "<tr>\n",
        "  <th>Df Model:</th>              <td>     2</td>      <th>                     </th>     <td> </td>   \n",
        "</tr>\n",
        "</table>\n",
        "<table class=\"simpletable\">\n",
        "<tr>\n",
        "   <td></td>     <th>coef</th>     <th>std err</th>      <th>t</th>      <th>P>|t|</th> <th>[95.0% Conf. Int.]</th> \n",
        "</tr>\n",
        "<tr>\n",
        "  <th>x1</th> <td>  -10.1374</td> <td>    4.226</td> <td>   -2.399</td> <td> 0.030</td> <td>  -19.145    -1.129</td>\n",
        "</tr>\n",
        "<tr>\n",
        "  <th>x2</th> <td>  6.58e-05</td> <td> 2.81e-05</td> <td>    2.341</td> <td> 0.033</td> <td> 5.89e-06     0.000</td>\n",
        "</tr>\n",
        "</table>\n",
        "<table class=\"simpletable\">\n",
        "<tr>\n",
        "  <th>Omnibus:</th>       <td>13.231</td> <th>  Durbin-Watson:     </th> <td>   1.471</td>\n",
        "</tr>\n",
        "<tr>\n",
        "  <th>Prob(Omnibus):</th> <td> 0.001</td> <th>  Jarque-Bera (JB):  </th> <td>  11.709</td>\n",
        "</tr>\n",
        "<tr>\n",
        "  <th>Skew:</th>          <td>-1.301</td> <th>  Prob(JB):          </th> <td> 0.00287</td>\n",
        "</tr>\n",
        "<tr>\n",
        "  <th>Kurtosis:</th>      <td> 6.124</td> <th>  Cond. No.          </th> <td>1.15e+08</td>\n",
        "</tr>\n",
        "</table>"
       ],
       "metadata": {},
       "output_type": "pyout",
       "prompt_number": 41,
       "text": [
        "<class 'statsmodels.iolib.summary.Summary'>\n",
        "\"\"\"\n",
        "                            GLS Regression Results                            \n",
        "==============================================================================\n",
        "Dep. Variable:                      y   R-squared:                       0.992\n",
        "Model:                            GLS   Adj. R-squared:                  0.991\n",
        "Method:                 Least Squares   F-statistic:                     978.7\n",
        "Date:                Tue, 09 Sep 2014   Prob (F-statistic):           1.28e-16\n",
        "Time:                        12:58:17   Log-Likelihood:                 297.89\n",
        "No. Observations:                  17   AIC:                            -591.8\n",
        "Df Residuals:                      15   BIC:                            -590.1\n",
        "Df Model:                           2                                         \n",
        "==============================================================================\n",
        "                 coef    std err          t      P>|t|      [95.0% Conf. Int.]\n",
        "------------------------------------------------------------------------------\n",
        "x1           -10.1374      4.226     -2.399      0.030       -19.145    -1.129\n",
        "x2           6.58e-05   2.81e-05      2.341      0.033      5.89e-06     0.000\n",
        "==============================================================================\n",
        "Omnibus:                       13.231   Durbin-Watson:                   1.471\n",
        "Prob(Omnibus):                  0.001   Jarque-Bera (JB):               11.709\n",
        "Skew:                          -1.301   Prob(JB):                      0.00287\n",
        "Kurtosis:                       6.124   Cond. No.                     1.15e+08\n",
        "==============================================================================\n",
        "\n",
        "Warnings:\n",
        "[1] The smallest eigenvalue is 2.24e-18. This might indicate that there are\n",
        "strong multicollinearity problems or that the design matrix is singular.\n",
        "\"\"\""
       ]
      }
     ],
     "prompt_number": 41
    },
    {
     "cell_type": "code",
     "collapsed": false,
     "input": [
      "\n",
      "\n"
     ],
     "language": "python",
     "metadata": {},
     "outputs": [],
     "prompt_number": 73
    },
    {
     "cell_type": "code",
     "collapsed": false,
     "input": [],
     "language": "python",
     "metadata": {},
     "outputs": [],
     "prompt_number": 21
    },
    {
     "cell_type": "code",
     "collapsed": false,
     "input": [],
     "language": "python",
     "metadata": {},
     "outputs": []
    }
   ],
   "metadata": {}
  }
 ]
}