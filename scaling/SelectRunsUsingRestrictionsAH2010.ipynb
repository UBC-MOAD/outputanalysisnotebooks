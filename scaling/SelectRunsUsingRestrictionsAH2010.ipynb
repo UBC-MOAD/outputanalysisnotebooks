{
 "cells": [
  {
   "cell_type": "markdown",
   "metadata": {},
   "source": [
    "## Select runs based on scaling restrictions and assumptions in AH2010\n",
    "\n",
    "In this notebook I select the runs that match the dynamical restrictions imposed in \\\\Allen and Hickey, 2010\\\\ (AH2010). "
   ]
  },
  {
   "cell_type": "markdown",
   "metadata": {},
   "source": [
    "These restictions are:\n",
    "\n",
    "1) Nearly uniform incoming flow along the length of the canyon.\n",
    "\n",
    "2) Weak to moderate flow: $\\mathcal{F}R_w<0.2$, where $\\mathcal{F}=R_o/(0.9+R_o)$\n",
    "\n",
    "3) Uniform stratification over the depth of upwelling.\n",
    "\n",
    "4) Shallow shelf break $B_s=NH_s/fL<2$\n",
    "\n",
    "5) Steep walls and stratified water column so that the bottom boundary layer is arrested within the canyon. See notebook \n",
    "EkmanLayerArrestTime.ipynb.\n",
    "\n",
    "7) Narrow canyon: $W<2a$ where $a=NH_s/f$ is the Rossby raadius of deformation.\n",
    "\n",
    "8) Regular shape of the canyon at the upstream corner.\n",
    "\n",
    "9) Sloped continental shelf.\n",
    "\n",
    "Restrictions 5, 8 and 9 are geometric and satisified by all runs. Restriction 1 is also satisfied in all runs since they are forced in the same way. Restriction 3 is staisfied by all runs too since the initial stratification is uniform throughout the water column.\n",
    "\n",
    "In the following, we select the runs that satisfy restrictions 2, 4 and 7.\n"
   ]
  },
  {
   "cell_type": "code",
   "execution_count": 5,
   "metadata": {
    "collapsed": true
   },
   "outputs": [],
   "source": [
    "import cmocean as cmo\n",
    "import matplotlib.pyplot as plt\n",
    "%matplotlib inline\n",
    "from netCDF4 import Dataset\n",
    "import numpy as np\n",
    "import pandas as pd\n",
    "import seaborn as sns\n",
    "import xarray as xr\n",
    "import os\n",
    "import sys"
   ]
  },
  {
   "cell_type": "code",
   "execution_count": 6,
   "metadata": {
    "collapsed": true
   },
   "outputs": [],
   "source": [
    "# Set appearance options seaborn\n",
    "\n",
    "sns.set_style('white')\n",
    "sns.set_context('notebook')"
   ]
  },
  {
   "cell_type": "code",
   "execution_count": 8,
   "metadata": {
    "collapsed": false
   },
   "outputs": [],
   "source": [
    "lib_path = os.path.abspath('../PythonScripts/Paper1Figures') # Add absolute path to my python scripts\n",
    "sys.path.append(lib_path)\n",
    "\n",
    "import canyon_records \n",
    "import nocanyon_records\n",
    "\n",
    "records = canyon_records.main()\n",
    "recordsNoC = nocanyon_records.main()"
   ]
  },
  {
   "cell_type": "code",
   "execution_count": null,
   "metadata": {
    "collapsed": false
   },
   "outputs": [],
   "source": []
  },
  {
   "cell_type": "markdown",
   "metadata": {},
   "source": [
    "### Define constants and non dimensional numbers"
   ]
  },
  {
   "cell_type": "code",
   "execution_count": 9,
   "metadata": {
    "collapsed": true
   },
   "outputs": [],
   "source": [
    "# Constants and scales\n",
    "\n",
    "L = 6400.0 # canyon length\n",
    "R = 5000.0 # Upstream radius of curvature\n",
    "g = 9.81 # accel. gravity\n",
    "Wsb = 13000 # Width at shelf break\n",
    "Hs = 150.0 # Shelf break depth\n",
    "\n",
    "# NOTE: The default values of all functions correspond to the base case\n",
    "\n",
    "def Dh(f=9.66E-4,L=6400.0,N=5.5E-3):\n",
    "    '''Vertical scale Dh'''\n",
    "    retun(f*L/(N))\n",
    "    \n",
    "def Z(U=0.36,L=6400.0,N=5.5E-3,R=5000.0):\n",
    "    '''Depth of upwelling as scaled in Allen and Hickey 2010'''\n",
    "    return((1.4*U*(L**(1/2)))/(Nos*(R**(1/2))))\n",
    "\n",
    "def Ro(U=0.36,f=9.66E-4,R=5000.0):\n",
    "    '''Rossby number using radius of curvature as length scale'''\n",
    "    return(U/(f*R))\n",
    "\n",
    "def F(Ro):\n",
    "    '''Function that estimates the hability of the flow to follow isobaths'''\n",
    "    return(Ro/(0.9+Ro))\n",
    "\n",
    "def Rw(U=0.36,f=9.66E-5,Wsb=13000.0): \n",
    "    '''Rossby number using width at shelf break as length scale'''\n",
    "    return(U/(f*Wsb))\n",
    "\n",
    "def Bu(N=5.5E-3,f=9.66E-5,L=6400.0,Hs=150.0):\n",
    "    '''Burger number'''\n",
    "    return(N*Hs/(f*L))\n",
    "\n",
    "def RossbyRad(N=5.5E-3,Hs=150.0,f=9.66E-4):\n",
    "    '''1st Rossby radius of deformation'''\n",
    "    return(N*Hs/f)\n"
   ]
  },
  {
   "cell_type": "markdown",
   "metadata": {},
   "source": [
    "### Check restrictions"
   ]
  },
  {
   "cell_type": "code",
   "execution_count": 10,
   "metadata": {
    "collapsed": false
   },
   "outputs": [
    {
     "name": "stdout",
     "output_type": "stream",
     "text": [
      "\u001b[1;31;32mrun CNTDIFF_run43 satisfies moderate flow restriction: F*Rw = 0.128747 < 0.2\n",
      "\u001b[1;31;32mrun CNTDIFF_run43 satisfies shallow shelf restriction: Bu = 1.334433 <= 2\n",
      "\u001b[1;31;32mrun CNTDIFF_run43 satisfies narrow canyon restriction: 2a = 17080.745342 >= 13000 m \n",
      "\n",
      "\u001b[1;31;32mrun CNTDIFF_run43 Rossby numbers are : Ro=0.741201, RL=0.579063, RWsb=0.285077  \n",
      "\n",
      "\u001b[1;31;32mrun CNTDIFF_run38 satisfies moderate flow restriction: F*Rw = 0.128747 < 0.2\n",
      "\u001b[1;31;32mrun CNTDIFF_run38 satisfies shallow shelf restriction: Bu = 1.334433 <= 2\n",
      "\u001b[1;31;32mrun CNTDIFF_run38 satisfies narrow canyon restriction: 2a = 17080.745342 >= 13000 m \n",
      "\n",
      "\u001b[1;31;32mrun CNTDIFF_run38 Rossby numbers are : Ro=0.741201, RL=0.579063, RWsb=0.285077  \n",
      "\n",
      "\u001b[1;31;32mrun CNTDIFF_run37 satisfies moderate flow restriction: F*Rw = 0.128747 < 0.2\n",
      "\u001b[1;31;32mrun CNTDIFF_run37 satisfies shallow shelf restriction: Bu = 1.334433 <= 2\n",
      "\u001b[1;31;32mrun CNTDIFF_run37 satisfies narrow canyon restriction: 2a = 17080.745342 >= 13000 m \n",
      "\n",
      "\u001b[1;31;32mrun CNTDIFF_run37 Rossby numbers are : Ro=0.741201, RL=0.579063, RWsb=0.285077  \n",
      "\n",
      "\u001b[1;31;32mrun CNTDIFF_run36 satisfies moderate flow restriction: F*Rw = 0.128747 < 0.2\n",
      "\u001b[1;31;32mrun CNTDIFF_run36 satisfies shallow shelf restriction: Bu = 1.334433 <= 2\n",
      "\u001b[1;31;32mrun CNTDIFF_run36 satisfies narrow canyon restriction: 2a = 17080.745342 >= 13000 m \n",
      "\n",
      "\u001b[1;31;32mrun CNTDIFF_run36 Rossby numbers are : Ro=0.741201, RL=0.579063, RWsb=0.285077  \n",
      "\n",
      "\u001b[1;31;32mrun CNTDIFF_run45 satisfies moderate flow restriction: F*Rw = 0.128747 < 0.2\n",
      "\u001b[1;31;32mrun CNTDIFF_run45 satisfies shallow shelf restriction: Bu = 1.528533 <= 2\n",
      "\u001b[1;31;32mrun CNTDIFF_run45 satisfies narrow canyon restriction: 2a = 19565.217391 >= 13000 m \n",
      "\n",
      "\u001b[1;31;32mrun CNTDIFF_run45 Rossby numbers are : Ro=0.741201, RL=0.579063, RWsb=0.285077  \n",
      "\n",
      "\u001b[1;31;32mrun CNTDIFF_run73 satisfies moderate flow restriction: F*Rw = 0.128747 < 0.2\n",
      "\u001b[1;31;32mrun CNTDIFF_run73 satisfies shallow shelf restriction: Bu = 1.795419 <= 2\n",
      "\u001b[1;31;32mrun CNTDIFF_run73 satisfies narrow canyon restriction: 2a = 22981.366460 >= 13000 m \n",
      "\n",
      "\u001b[1;31;32mrun CNTDIFF_run73 Rossby numbers are : Ro=0.741201, RL=0.579063, RWsb=0.285077  \n",
      "\n",
      "\u001b[1;31;32mrun CNTDIFF_run75 satisfies moderate flow restriction: F*Rw = 0.128747 < 0.2\n",
      "\u001b[1;31;32mrun CNTDIFF_run75 satisfies shallow shelf restriction: Bu = 1.091809 <= 2\n",
      "\u001b[1;31;32mrun CNTDIFF_run75 satisfies narrow canyon restriction: 2a = 13975.155280 >= 13000 m \n",
      "\n",
      "\u001b[1;31;32mrun CNTDIFF_run75 Rossby numbers are : Ro=0.741201, RL=0.579063, RWsb=0.285077  \n",
      "\n",
      "\u001b[1;31;32mrun CNTDIFF_run67 satisfies moderate flow restriction: F*Rw = 0.122014 < 0.2\n",
      "\u001b[1;31;32mrun CNTDIFF_run67 satisfies shallow shelf restriction: Bu = 1.289062 <= 2\n",
      "\u001b[1;31;32mrun CNTDIFF_run67 satisfies narrow canyon restriction: 2a = 16500.000000 >= 13000 m \n",
      "\n",
      "\u001b[1;31;32mrun CNTDIFF_run67 Rossby numbers are : Ro=0.716000, RL=0.559375, RWsb=0.275385  \n",
      "\n",
      "\u001b[1;31;32mrun CNTDIFF_run51 satisfies moderate flow restriction: F*Rw = 0.182447 < 0.2\n",
      "\u001b[1;31;32mrun CNTDIFF_run51 satisfies shallow shelf restriction: Bu = 1.678467 <= 2\n",
      "\u001b[1;31;32mrun CNTDIFF_run51 satisfies narrow canyon restriction: 2a = 21484.375000 >= 13000 m \n",
      "\n",
      "\u001b[1;31;32mrun CNTDIFF_run51 Rossby numbers are : Ro=0.932292, RL=0.728353, RWsb=0.358574  \n",
      "\n",
      "\u001b[1;31;32mrun CNTDIFF_run69 satisfies moderate flow restriction: F*Rw = 0.153875 < 0.2\n",
      "\u001b[1;31;32mrun CNTDIFF_run69 satisfies shallow shelf restriction: Bu = 1.498910 <= 2\n",
      "\u001b[1;31;32mrun CNTDIFF_run69 satisfies narrow canyon restriction: 2a = 19186.046512 >= 13000 m \n",
      "\n",
      "\u001b[1;31;32mrun CNTDIFF_run69 Rossby numbers are : Ro=0.832558, RL=0.650436, RWsb=0.320215  \n",
      "\n",
      "\u001b[1;31;30mrun CNTDIFF_run71 doesn't satisfy moderate flow restriction: F*Rw = 0.238457\n",
      "\u001b[1;31;30mrun CNTDIFF_run71 doesn't satisfy shallow shelf restriction: Bu = 2.014160\n",
      "\u001b[1;31;32mrun CNTDIFF_run71 satisfies narrow canyon restriction: 2a = 25781.250000 >= 13000 m \n",
      "\n",
      "\u001b[1;31;32mrun CNTDIFF_run71 Rossby numbers are : Ro=1.118750, RL=0.874023, RWsb=0.430288  \n",
      "\n",
      "\u001b[1;31;32mrun 3DVISC_run01 satisfies moderate flow restriction: F*Rw = 0.128747 < 0.2\n",
      "\u001b[1;31;32mrun 3DVISC_run01 satisfies shallow shelf restriction: Bu = 1.334433 <= 2\n",
      "\u001b[1;31;32mrun 3DVISC_run01 satisfies narrow canyon restriction: 2a = 17080.745342 >= 13000 m \n",
      "\n",
      "\u001b[1;31;32mrun 3DVISC_run01 Rossby numbers are : Ro=0.741201, RL=0.579063, RWsb=0.285077  \n",
      "\n",
      "\u001b[1;31;32mrun 3DVISC_run02 satisfies moderate flow restriction: F*Rw = 0.128747 < 0.2\n",
      "\u001b[1;31;32mrun 3DVISC_run02 satisfies shallow shelf restriction: Bu = 1.334433 <= 2\n",
      "\u001b[1;31;32mrun 3DVISC_run02 satisfies narrow canyon restriction: 2a = 17080.745342 >= 13000 m \n",
      "\n",
      "\u001b[1;31;32mrun 3DVISC_run02 Rossby numbers are : Ro=0.741201, RL=0.579063, RWsb=0.285077  \n",
      "\n",
      "\u001b[1;31;32mrun 3DVISC_run03 satisfies moderate flow restriction: F*Rw = 0.128747 < 0.2\n",
      "\u001b[1;31;32mrun 3DVISC_run03 satisfies shallow shelf restriction: Bu = 1.334433 <= 2\n",
      "\u001b[1;31;32mrun 3DVISC_run03 satisfies narrow canyon restriction: 2a = 17080.745342 >= 13000 m \n",
      "\n",
      "\u001b[1;31;32mrun 3DVISC_run03 Rossby numbers are : Ro=0.741201, RL=0.579063, RWsb=0.285077  \n",
      "\n",
      "\u001b[1;31;32mrun 3DVISC_run04 satisfies moderate flow restriction: F*Rw = 0.128747 < 0.2\n",
      "\u001b[1;31;32mrun 3DVISC_run04 satisfies shallow shelf restriction: Bu = 1.334433 <= 2\n",
      "\u001b[1;31;32mrun 3DVISC_run04 satisfies narrow canyon restriction: 2a = 17080.745342 >= 13000 m \n",
      "\n",
      "\u001b[1;31;32mrun 3DVISC_run04 Rossby numbers are : Ro=0.741201, RL=0.579063, RWsb=0.285077  \n",
      "\n",
      "\u001b[1;31;32mrun LOW_BF_run01 satisfies moderate flow restriction: F*Rw = 0.069383 < 0.2\n",
      "\u001b[1;31;32mrun LOW_BF_run01 satisfies shallow shelf restriction: Bu = 1.334433 <= 2\n",
      "\u001b[1;31;32mrun LOW_BF_run01 satisfies narrow canyon restriction: 2a = 17080.745342 >= 13000 m \n",
      "\n",
      "\u001b[1;31;32mrun LOW_BF_run01 Rossby numbers are : Ro=0.503106, RL=0.393051, RWsb=0.193502  \n",
      "\n",
      "\u001b[1;31;32mrun LOWER_BF_run01 satisfies moderate flow restriction: F*Rw = 0.095483 < 0.2\n",
      "\u001b[1;31;32mrun LOWER_BF_run01 satisfies shallow shelf restriction: Bu = 1.334433 <= 2\n",
      "\u001b[1;31;32mrun LOWER_BF_run01 satisfies narrow canyon restriction: 2a = 17080.745342 >= 13000 m \n",
      "\n",
      "\u001b[1;31;32mrun LOWER_BF_run01 Rossby numbers are : Ro=0.612836, RL=0.478778, RWsb=0.235706  \n",
      "\n"
     ]
    }
   ],
   "source": [
    "for run in records:\n",
    "    \n",
    "    # restriction 2, moderate flow: F*Rw < 0.2\n",
    "    run.moderate = F(Ro(run.u,run.f,R))*Rw(run.u,run.f,Wsb)\n",
    "    \n",
    "    if run.moderate < 0.2:\n",
    "        print('\\033[1;31;32mrun %s satisfies moderate flow restriction: F*Rw = %f < 0.2' %(run.name,run.moderate))\n",
    "    else:\n",
    "        print('\\033[1;31;30mrun %s doesn\\'t satisfy moderate flow restriction: F*Rw = %f' %(run.name,run.moderate))\n",
    "    \n",
    "    # restriction 4, shallow shelf break: Bs<2\n",
    "    run.Burger = Bu(run.N,run.f,L,Hs)\n",
    "    \n",
    "    if run.Burger <= 2:\n",
    "        print('\\033[1;31;32mrun %s satisfies shallow shelf restriction: Bu = %f <= 2' %(run.name,run.Burger))\n",
    "    else:\n",
    "        print('\\033[1;31;30mrun %s doesn\\'t satisfy shallow shelf restriction: Bu = %f' %(run.name,run.Burger))\n",
    "    \n",
    "    # restriction 7, narrow canyon: Wsb < 2a\n",
    "    run.narrow = 2*RossbyRad(run.N,Hs,run.f)\n",
    "    \n",
    "    if run.narrow >= Wsb:\n",
    "        print('\\033[1;31;32mrun %s satisfies narrow canyon restriction: 2a = %f >= 13000 m \\n' %(run.name,run.narrow))\n",
    "    else:\n",
    "        print('\\033[1;31;30mrun %s doesn\\'t satisfy narrow canyon restriction: 2a = %f < 13000 m \\n' %(run.name,run.narrow))\n",
    "    \n",
    "    \n",
    "    # Print Ro, Rl, Rw\n",
    "    RO = Ro(run.u,run.f,R)\n",
    "    RL = Ro(run.u,run.f,L)\n",
    "    RWsb = Ro(run.u,run.f,Wsb)\n",
    "    print('\\033[1;31;32mrun %s Rossby numbers are : Ro=%f, RL=%f, RWsb=%f  \\n' %(run.name,RO,RL,RWsb))\n",
    "    \n"
   ]
  },
  {
   "cell_type": "markdown",
   "metadata": {},
   "source": [
    "From all the runs, we need to exclude:\n",
    "    \n",
    "    * Run 44 and 46: the stratification is too small and they do not behave as narrow canyons since the rossby radius ends up being too big.\n",
    "    \n",
    "    * Run 52 does not satisfy the moderate flow restriction because f is too small, nor the shallow shelf restriction.\n",
    "    \n",
    "    * run 71 does not satisfy the moderate flow restriction because f is too small, nor the shallow shelf restriction. Still , it is close to the bounds, so I'll keep it."
   ]
  },
  {
   "cell_type": "code",
   "execution_count": null,
   "metadata": {
    "collapsed": false
   },
   "outputs": [],
   "source": [
    "print(CNTDIFF_f64.name,CNTDIFF_f64.N,CNTDIFF_f64.f)\n",
    "print(CNTDIFF_f48.name,CNTDIFF_f48.N,CNTDIFF_f48.f)\n",
    "print(CNTDIFF_N30.name,CNTDIFF_N30.N,CNTDIFF_N30.f)\n",
    "print(CNTDIFF_N39.name,CNTDIFF_N39.N,CNTDIFF_N39.f)"
   ]
  },
  {
   "cell_type": "code",
   "execution_count": null,
   "metadata": {
    "collapsed": true
   },
   "outputs": [],
   "source": []
  }
 ],
 "metadata": {
  "anaconda-cloud": {},
  "kernelspec": {
   "display_name": "Python [conda root]",
   "language": "python",
   "name": "conda-root-py"
  },
  "language_info": {
   "codemirror_mode": {
    "name": "ipython",
    "version": 3
   },
   "file_extension": ".py",
   "mimetype": "text/x-python",
   "name": "python",
   "nbconvert_exporter": "python",
   "pygments_lexer": "ipython3",
   "version": "3.5.2"
  }
 },
 "nbformat": 4,
 "nbformat_minor": 1
}
