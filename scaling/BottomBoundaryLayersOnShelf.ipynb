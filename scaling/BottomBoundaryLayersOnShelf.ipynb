{
 "cells": [
  {
   "cell_type": "markdown",
   "metadata": {},
   "source": [
    "## Bottom boundary layers on the shelf"
   ]
  },
  {
   "cell_type": "markdown",
   "metadata": {},
   "source": [
    "To calculate or scale what the maximum stratification will be on the shelf and within the canyon after some time t, let's frst see if the bootm boundary layers on the shelf scale as the literature says.\n",
    "\n",
    "Middleton and Ramsden (1996) The evolution of the bottom boundary layer on the sloping continental shelf: A numerical study, JGR (101):\n",
    "\n",
    "Depth of upwelling bottom boundary layer H,\n",
    "\n",
    "$H=h_p(1+S^{1/2})^{-1}$\n",
    "\n",
    "where $h_p=C_D^{1/2}u_g(fN)^{-1/2}$ is the height of the flat shelf bottom boundary layer, and $S=(N\\alpha/f)^{2}$ is a topographic Burger number. I will take $u_g$, the interior velocity alongshore as my calculated scale U after the body forcing has spun-up, $C_D$ the bottom drag coefficeint as 0.002, the same as I have in the model. \n",
    "\n",
    "I calculated $\\alpha$, the slope for the shelf in EkmanLayerArrestTime.ipynb, and I got a value of 0.005.\n",
    "\n",
    "I will change all the $N$'s here to $N_0$, the initial value of stratification."
   ]
  },
  {
   "cell_type": "code",
   "execution_count": null,
   "metadata": {
    "collapsed": true
   },
   "outputs": [],
   "source": []
  }
 ],
 "metadata": {
  "anaconda-cloud": {},
  "kernelspec": {
   "display_name": "Python [conda root]",
   "language": "python",
   "name": "conda-root-py"
  },
  "language_info": {
   "codemirror_mode": {
    "name": "ipython",
    "version": 3
   },
   "file_extension": ".py",
   "mimetype": "text/x-python",
   "name": "python",
   "nbconvert_exporter": "python",
   "pygments_lexer": "ipython3",
   "version": "3.5.2"
  }
 },
 "nbformat": 4,
 "nbformat_minor": 1
}
