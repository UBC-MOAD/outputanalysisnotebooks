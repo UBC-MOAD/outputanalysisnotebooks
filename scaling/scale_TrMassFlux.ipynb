{
 "cells": [
  {
   "cell_type": "markdown",
   "metadata": {},
   "source": [
    "### Tracer mass on shelf\n",
    "\n",
    "Look at tracer mass flux $\\Phi_{Tr}$ calculated as transport of water with tracer concentration higher or equal that threshold across shelf and canyon lid times its concentration. The threshold is the tracer concentration at shelf break depth.\n",
    "\n",
    "Scale tracer mass flux onto shelf as:\n",
    "\n",
    "$\\Phi_{Tr}=\\bar{C}\\Phi_{HCW}$\n",
    "\n",
    "Where $\\bar{C}$ is proportional to $-(Z/H_s)(1-3t/Tau)\\delta_zC_0)/2(H_{sb}+H_h)$ (See scaling in scale_TrGradient_within_canyon), and $\\Phi_{HCW}$ is the upwelling flux, defined in Howatt and Allen, 2013."
   ]
  },
  {
   "cell_type": "code",
   "execution_count": 1,
   "metadata": {
    "collapsed": false
   },
   "outputs": [],
   "source": [
    "#%load_ext autoreload\n",
    "#%autoreload 2\n",
    "\n",
    "import matplotlib.pyplot as plt\n",
    "%matplotlib inline\n",
    "from netCDF4 import Dataset\n",
    "import numpy as np\n",
    "import pandas as pd\n",
    "import scipy.stats \n",
    "import seaborn as sns\n",
    "\n",
    "import canyon_tools.metrics_tools as mtt \n",
    "import canyon_tools.readout_tools as rout"
   ]
  },
  {
   "cell_type": "code",
   "execution_count": 2,
   "metadata": {
    "collapsed": true
   },
   "outputs": [],
   "source": [
    "def Tracer_AlongShelf(Tr,TrAdv,MaskC,rA,hFacC,drF,yin,zfin,xi,yi,nzlim):\n",
    "    '''\n",
    "    INPUT----------------------------------------------------------------------------------------------------------------\n",
    "    Tr    : Array with concentration values for a tracer. Until this function is more general, size 19x90x360x360\n",
    "    TrAdv : Array with concentration values for low diffusivity tracer. Until this function is more general, size 19x90x360x360\n",
    "    MaskC : Land mask for tracer\n",
    "    nzlim : The nz index under which to look for water properties\n",
    "    rA    : Area of cell faces at C points (360x360)\n",
    "    fFacC : Fraction of open cell (90x360x360)\n",
    "    drF   : Distance between cell faces (90)\n",
    "    yin   : across-shore index of shelf break\n",
    "    zfin  : shelf break index + 1 \n",
    "    xi    : initial profile x index\n",
    "    yi    : initial profile y index\n",
    "    \n",
    "    OUTPUT----------------------------------------------------------------------------------------------------------------\n",
    "    TrMass =  Array with the mass of tracer over the shelf in HCW [t,360] at every time output.\n",
    "    Total_Tracer =  Array with the mass of tracer (m^3*[C]*l/m^3) at each x-position over the shelf [t,360] at \n",
    "                    every time output. \n",
    "    -----------------------------------------------------------------------------------------------------------------------\n",
    "    '''\n",
    "    maskExp = mtt.maskExpand(MaskC,TrAdv)\n",
    "\n",
    "    TrMask=np.ma.array(TrAdv,mask=maskExp)   \n",
    "    \n",
    "    trlim = TrMask[0,nzlim,yi,xi]\n",
    "\n",
    "    print('tracer limit concentration is: ',trlim)\n",
    "\n",
    "\n",
    "    # mask cells with tracer concentration < trlim on shelf\n",
    "    HighConc_Masked = np.ma.masked_less(TrMask[:,:zfin,yin:,:], trlim) \n",
    "    HighConc_Mask = HighConc_Masked.mask\n",
    "\n",
    "    #Get volume of water of cells with relatively high concentration\n",
    "    rA_exp = np.expand_dims(rA[yin:,:],0)\n",
    "    drF_exp = np.expand_dims(np.expand_dims(drF[:zfin],1),1)\n",
    "    rA_exp = rA_exp + np.zeros(hFacC[:zfin,yin:,:].shape)\n",
    "    drF_exp = drF_exp + np.zeros(hFacC[:zfin,yin:,:].shape)\n",
    "\n",
    "    ShelfVolume = hFacC[:zfin,yin:,:]*drF_exp*rA_exp\n",
    "    ShelfVolume_exp = np.expand_dims(ShelfVolume,0)\n",
    "    ShelfVolume_exp = ShelfVolume_exp + np.zeros(HighConc_Mask.shape)\n",
    "   \n",
    "    HighConc_CellVol = np.ma.masked_array(ShelfVolume_exp,mask = HighConc_Mask) \n",
    "    TrConc_HCW = np.ma.masked_array(Tr[:,:zfin,yin:,:],mask = HighConc_Mask) \n",
    "\n",
    "    MassTrHighConc =np.ma.sum(np.ma.sum(np.sum(HighConc_CellVol*TrConc_HCW*1000,axis = 1),axis=1),axis=1)\n",
    "\n",
    "    #Get total mass of tracer on shelf\n",
    "    Total_Tracer = np.ma.sum(np.ma.sum(np.sum(ShelfVolume_exp*TrMask[:,:zfin,yin:,:]*1000.0,axis = 1),axis=1),axis=1)\n",
    "     # 1 m^3 = 1000 l\n",
    "\n",
    "    return (MassTrHighConc, Total_Tracer)"
   ]
  },
  {
   "cell_type": "code",
   "execution_count": 3,
   "metadata": {
    "collapsed": false
   },
   "outputs": [],
   "source": [
    "# Set appearance options seaborn\n",
    "\n",
    "sns.set_style('white')\n",
    "sns.set_context('notebook')\n"
   ]
  },
  {
   "cell_type": "code",
   "execution_count": 4,
   "metadata": {
    "collapsed": false
   },
   "outputs": [],
   "source": [
    "CanyonGrid='/ocean/kramosmu/MITgcm/TracerExperiments/CNTDIFF/run38/gridGlob.nc'\n",
    "CanyonGridOut = Dataset(CanyonGrid)\n",
    "\n",
    "CanyonGridNoC='/ocean/kramosmu/MITgcm/TracerExperiments/CNTDIFF/run42/gridGlob.nc'\n",
    "CanyonGridOutNoC = Dataset(CanyonGridNoC)\n",
    "\n",
    "CanyonState='/ocean/kramosmu/MITgcm/TracerExperiments/CNTDIFF/run38/stateGlob.nc'\n",
    "CanyonStateOut = Dataset(CanyonState)\n",
    "\n",
    "# Grid variables\n",
    "nx = 360\n",
    "ny = 360\n",
    "nz = 90\n",
    "nt = 19 # t dimension size \n",
    "\n",
    "xc = rout.getField(CanyonGrid, 'XC') # x coords tracer cells\n",
    "yc = rout.getField(CanyonGrid, 'YC') # y coords tracer cells\n",
    "rc = CanyonGridOut.variables['RC']\n",
    "dxg = rout.getField(CanyonGrid, 'dxG') # x coords tracer cells\n",
    "dyg = rout.getField(CanyonGrid, 'dyG') # y coords tracer cells\n",
    "\n",
    "bathy = rout.getField(CanyonGrid, 'Depth')\n",
    "hFacC = rout.getField(CanyonGrid, 'HFacC')\n",
    "MaskC = rout.getMask(CanyonGrid, 'HFacC')\n",
    "\n",
    "bathyNoC = rout.getField(CanyonGridNoC, 'Depth')\n",
    "hFacCNoC = rout.getField(CanyonGridNoC, 'HFacC')\n",
    "MaskCNoC = rout.getMask(CanyonGridNoC, 'HFacC')\n",
    "\n",
    "rA = rout.getField(CanyonGrid, 'rA')\n",
    "\n",
    "z = CanyonStateOut.variables['Z']\n",
    "drF = CanyonGridOut.variables['drF']\n",
    "time = CanyonStateOut.variables['T']"
   ]
  },
  {
   "cell_type": "code",
   "execution_count": 5,
   "metadata": {
    "collapsed": false
   },
   "outputs": [],
   "source": [
    "import os\n",
    "import sys\n",
    "lib_path = os.path.abspath('../PythonScripts/Paper1Figures/') # Add absolute path to my python scripts\n",
    "sys.path.append(lib_path)\n",
    "\n",
    "import canyon_records \n",
    "import nocanyon_records"
   ]
  },
  {
   "cell_type": "code",
   "execution_count": 6,
   "metadata": {
    "collapsed": true
   },
   "outputs": [],
   "source": [
    "records = canyon_records.main()\n",
    "recordsNoC = nocanyon_records.main()"
   ]
  },
  {
   "cell_type": "code",
   "execution_count": 7,
   "metadata": {
    "collapsed": true
   },
   "outputs": [],
   "source": [
    "# Constants and scales\n",
    "\n",
    "L = 6400.0 # canyon length\n",
    "R = 5000.0 # Upstream radius of curvature\n",
    "g = 9.81 # accel. gravity\n",
    "Wsb = 13000 # Width at shelf break\n",
    "Hs = 150.0 # Shelf break depth\n",
    "Hh = 132.0 # Not real head depth\n",
    "s = 0.005 # shelf slope \n",
    "W = 8300 # mid-length width\n",
    "# NOTE: The default values of all functions correspond to the base case\n",
    "\n",
    "def Dh(f=9.66E-4,L=6400.0,N=5.5E-3):\n",
    "    '''Vertical scale Dh'''\n",
    "    return((f*L)/(N))\n",
    "    \n",
    "def Ro(U=0.37,f=9.66E-4,R=5000.0):\n",
    "    '''Rossby number using radius of curvature as length scale'''\n",
    "    return(U/(f*R))\n",
    "\n",
    "def F(Ro):\n",
    "    '''Function that estimates the ability of the flow to follow isobaths'''\n",
    "    return(Ro/(0.9+Ro))\n",
    "\n",
    "def Bu(N=5.5E-3,f=9.66E-5,L=6400.0,Hs=150.0):\n",
    "    '''Burger number'''\n",
    "    return(N*Hs/(f*L))\n",
    "\n",
    "def RossbyRad(N=5.5E-3,Hs=150.0,f=9.66E-4):\n",
    "    '''1st Rossby radius of deformation'''\n",
    "    return(N*Hs/f)\n",
    "\n",
    "def Phi(U=0.37,f=9.66E-5,L=6400,R=5000.0,Wsb=13000,N=0.0055):\n",
    "    ''' flux of upwelling as in Allen and Hickey 2010 , with expected coef of 1/4'''\n",
    "    f2 = (0.9**(1.5))*((Ro(U,f,R))/(1+(Ro(U,f,R)/0.9)))**(1.5)\n",
    "    f3 = Ro(U,f,L)**(0.5)\n",
    "    return(f2*f3)"
   ]
  },
  {
   "cell_type": "code",
   "execution_count": null,
   "metadata": {
    "collapsed": false
   },
   "outputs": [
    {
     "name": "stdout",
     "output_type": "stream",
     "text": [
      "tracer limit concentration is:  7.21757\n",
      "tracer limit concentration is:  7.21757\n",
      "tracer limit concentration is:  7.21757\n",
      "tracer limit concentration is:  7.21757\n",
      "tracer limit concentration is:  7.21757\n",
      "tracer limit concentration is:  7.21757\n",
      "tracer limit concentration is:  7.21757\n",
      "tracer limit concentration is:  7.21757\n",
      "tracer limit concentration is:  7.21757\n",
      "tracer limit concentration is:  7.21757\n",
      "tracer limit concentration is:  7.21757\n",
      "tracer limit concentration is:  7.21757\n",
      "tracer limit concentration is:  7.21757\n",
      "tracer limit concentration is:  7.21757\n",
      "tracer limit concentration is:  7.21757\n",
      "tracer limit concentration is:  7.21757\n",
      "tracer limit concentration is:  7.21757\n"
     ]
    }
   ],
   "source": [
    "# Save HCW at each 1/2 day into class record.\n",
    "\n",
    "for record in records:\n",
    "    \n",
    "    filename=('/ocean/kramosmu/MITgcm/TracerExperiments/%s/%s/ptracersGlob.nc' %(record.exp_code,record.run_num))\n",
    "    \n",
    "    Tr1 = rout.getField(filename,'Tr1') \n",
    "    Tr2 = rout.getField(filename,'Tr2') \n",
    "     \n",
    "    record.TrMass, TotTrMass = Tracer_AlongShelf(Tr1,Tr2, MaskCNoC, rA, hFacCNoC, drF[:], 227, 30,  180, 50,29)\n",
    "    "
   ]
  },
  {
   "cell_type": "code",
   "execution_count": null,
   "metadata": {
    "collapsed": false
   },
   "outputs": [
    {
     "name": "stdout",
     "output_type": "stream",
     "text": [
      "tracer limit concentration is:  7.21757\n",
      "tracer limit concentration is:  7.21757\n"
     ]
    }
   ],
   "source": [
    "# Save HCW at each 1/2 day into class record.\n",
    "\n",
    "for record in recordsNoC:\n",
    "    \n",
    "    filename=('/ocean/kramosmu/MITgcm/TracerExperiments/%s/%s/ptracersGlob.nc' %(record.exp_code,record.run_num))\n",
    "    Tr1 = rout.getField(filename,'Tr1') \n",
    "    Tr2 = rout.getField(filename,'Tr2') \n",
    "    \n",
    "    record.TrMass, TotTrMass = Tracer_AlongShelf(Tr1,Tr2, MaskCNoC, rA, hFacCNoC, drF[:], 227, 30,  180, 50,29)\n",
    "    "
   ]
  },
  {
   "cell_type": "code",
   "execution_count": null,
   "metadata": {
    "collapsed": false
   },
   "outputs": [],
   "source": []
  },
  {
   "cell_type": "code",
   "execution_count": null,
   "metadata": {
    "collapsed": false
   },
   "outputs": [],
   "source": []
  },
  {
   "cell_type": "markdown",
   "metadata": {},
   "source": [
    "### Tracer mass of HCW on shelf"
   ]
  },
  {
   "cell_type": "code",
   "execution_count": null,
   "metadata": {
    "collapsed": false
   },
   "outputs": [],
   "source": [
    "# Choose only the runs that satisfy all restrictions in Allen and Hickey (2010)\n",
    "\n",
    "fig,ax = plt.subplots(1,1,figsize=(8,6))\n",
    "labels=[]\n",
    "\n",
    "for rec,recNoC in zip(records,recordsNoC):\n",
    "    \n",
    "    plt1 = ax.plot(time[:]/(3600*24),((rec.TrMass)-(recNoC.TrMass))/TotTrMass,\n",
    "                   marker = rec.mstyle,\n",
    "                   markersize = rec.msize,\n",
    "                   color = sns.xkcd_rgb[rec.color],\n",
    "                   label=rec.label)\n",
    "   \n",
    "    ax.set_title('Tracer mass upwelled onto the shelf')\n",
    "    ax.set_ylabel('Tracer Mass in pool/ Initial tracer mass on shelf ')\n",
    "    ax.set_xlabel('Days')\n",
    "\n",
    "    ax.legend(bbox_to_anchor=(1.3,1))\n",
    "\n",
    "plt.show()\n",
    "\n"
   ]
  },
  {
   "cell_type": "code",
   "execution_count": null,
   "metadata": {
    "collapsed": false
   },
   "outputs": [],
   "source": [
    "fig,ax = plt.subplots(1,1,figsize=(8,6))\n",
    "labels=[]\n",
    "\n",
    "for rec in records:\n",
    "    \n",
    "    plt1 = ax.plot(time[:]/(3600*24),rec.TrMass/TotTrMass,\n",
    "                   marker = rec.mstyle,\n",
    "                   markersize = rec.msize,\n",
    "                   color = sns.xkcd_rgb[rec.color],\n",
    "                   label=rec.label)\n",
    "   \n",
    "    ax.set_title('Tracer Mass in  HCW: Canyon case')\n",
    "    ax.set_ylabel('Tracer Mass HCW/ Initial tracer mass')\n",
    "    ax.set_xlabel('Days')\n",
    "\n",
    "    ax.legend(bbox_to_anchor=(1.3,1))\n",
    "\n",
    "plt.show()\n",
    "\n"
   ]
  },
  {
   "cell_type": "code",
   "execution_count": null,
   "metadata": {
    "collapsed": false
   },
   "outputs": [],
   "source": [
    "fig,ax = plt.subplots(1,1,figsize=(8,6))\n",
    "labels=[]\n",
    "\n",
    "for recNoC in recordsNoC:\n",
    "    \n",
    "    plt1 = ax.plot(time[:]/(3600*24),recNoC.TrMass/TotTrMass,\n",
    "                   marker = recNoC.mstyle,\n",
    "                   markersize = recNoC.msize,\n",
    "                   color = sns.xkcd_rgb[recNoC.color],\n",
    "                   label=recNoC.label)\n",
    "   \n",
    "    ax.set_title('Tracer Mass in  HCW: No canyon case')\n",
    "    ax.set_ylabel('Tracer Mass HCW/ Initial tracer mass')\n",
    "    ax.set_xlabel('Days')\n",
    "\n",
    "    ax.legend(bbox_to_anchor=(1.3,1))\n",
    "\n",
    "plt.show()\n",
    "\n"
   ]
  },
  {
   "cell_type": "markdown",
   "metadata": {
    "collapsed": true
   },
   "source": [
    "###Tacer mass flux compared to $\\bar{C}\\Phi_{HA2013}$ \n",
    "\n",
    "Upwelling flux from Howatt and Allen (2013) is:\n",
    "\n",
    "$\\frac{\\Phi_{AH}}{UWD_h}= 0.91\\mathcal{F}_w^{3/2}R_L^{1/2}(1-1.21S_E)^3+0.07$, \n",
    "\n",
    "where \n",
    "\n",
    "$S_E=\\frac{sN}{f(\\mathcal{F}_w/R_L)^{1/2}}$\n",
    "\n",
    "while $\\bar C$ is proportional to $(-(Z/H_s)(1-3t/Tau)\\delta_zC_0)/2(H_{sb}+H_h)$\n",
    "\n",
    "where $\\delta_zC_0=-0.035983276367187497$"
   ]
  },
  {
   "cell_type": "code",
   "execution_count": null,
   "metadata": {
    "collapsed": false,
    "scrolled": true
   },
   "outputs": [],
   "source": [
    "fig,ax = plt.subplots(1,1,figsize=(8,6))\n",
    "labels=[]\n",
    "t=4 # days\n",
    "Hh=132.0\n",
    "\n",
    "for rec,recNoC in zip(records,recordsNoC):\n",
    "    \n",
    "    Z = ((rec.f*rec.u*F(Ro(rec.u,rec.f,R))*L)**(0.5))/rec.N\n",
    "    TauNo = 1-(3*t*24*3600*rec.kv/((Z**2)))\n",
    "    \n",
    "    Se = (s*rec.N)/(rec.f*((F(Ro(rec.u,rec.f,W))/Ro(rec.u,rec.f,L))**(1/2)))\n",
    "    HA2013=(rec.u*W*Dh(rec.f,L,rec.N))*((0.91*(F(Ro(rec.u,rec.f,W))**(3/2))*(Ro(rec.u,rec.f,L)**(1/2))*((1-1.21*Se)**3))+0.07)\n",
    "    \n",
    "    plt1 = ax.plot(1000*HA2013*((-(Z/Hs)*(TauNo))*(Hs+Hh)*-0.03598)/2.0,\n",
    "                   (((rec.TrMass[8])-(rec.TrMass[6]))/(time[8]-time[6])),\n",
    "                   marker = rec.mstyle,\n",
    "                   markersize = rec.msize,\n",
    "                   color = sns.xkcd_rgb[rec.color],\n",
    "                   label=rec.label)\n",
    "   \n",
    "    ax.set_title('Tracer Mass upwelled (canyon case) scaled as $C \\Phi_{HA2013}$')\n",
    "    ax.set_xlabel('$C_{can} \\Phi_{HA2013}$  (Mol/s)')\n",
    "    ax.set_ylabel('Tr mass flux (Mol/s)')\n",
    "\n",
    "    ax.legend(bbox_to_anchor=(1.3,1))\n",
    "    \n",
    "plt.show()\n",
    "\n"
   ]
  },
  {
   "cell_type": "code",
   "execution_count": null,
   "metadata": {
    "collapsed": false
   },
   "outputs": [],
   "source": [
    "fig,ax = plt.subplots(1,1,figsize=(8,6))\n",
    "labels=[]\n",
    "t=4 # days\n",
    "Hh=132.0\n",
    "\n",
    "for rec,recNoC in zip(records,recordsNoC):\n",
    "    \n",
    "    Z = ((rec.f*rec.u*F(Ro(rec.u,rec.f,R))*L)**(0.5))/rec.N\n",
    "    TauNo = 1-((3*t*24*3600*rec.kv)/(Z**2))\n",
    "     \n",
    "    Se = (s*rec.N)/(rec.f*((F(Ro(rec.u,rec.f,W))/Ro(rec.u,rec.f,L))**(1/2)))\n",
    "    HA2013=(rec.u*W*Dh(rec.f,L,rec.N))*((0.91*(F(Ro(rec.u,rec.f,W))**(3/2))*(Ro(rec.u,rec.f,L)**(1/2))*((1-1.21*Se)**3))+0.07)\n",
    "    \n",
    "    plt1 = ax.plot(1000*HA2013*((-(Z/Hs)*(TauNo))*(Hs+Hh)*-0.03598)/2.0,\n",
    "                   (((rec.TrMass[8]-recNoC.TrMass[8])-(rec.TrMass[6]-recNoC.TrMass[6]))/(time[8]-time[6])),\n",
    "                   marker = rec.mstyle,\n",
    "                   markersize = rec.msize,\n",
    "                   color = sns.xkcd_rgb[rec.color],\n",
    "                   label=rec.label)\n",
    "   \n",
    "    ax.set_title('Tracer Mass upwelled scaled as $C \\Phi_{HA2013}$')\n",
    "    ax.set_xlabel('$C_{can} \\Phi_{HA2013}$  (Mol/s)')\n",
    "    ax.set_ylabel('Tr mass flux (Mol/s)')\n",
    "\n",
    "    ax.legend(bbox_to_anchor=(1.3,1))\n",
    "    \n",
    "plt.show()\n",
    "\n"
   ]
  },
  {
   "cell_type": "markdown",
   "metadata": {
    "collapsed": false
   },
   "source": [
    "### Using corrected stratification (kv) to calculate $\\Phi$ "
   ]
  },
  {
   "cell_type": "code",
   "execution_count": null,
   "metadata": {
    "collapsed": false
   },
   "outputs": [],
   "source": [
    "fig,ax = plt.subplots(1,1,figsize=(8,6))\n",
    "labels=[]\n",
    "t=4 # days\n",
    "Hh=132.0\n",
    "\n",
    "for rec,recNoC in zip(records,recordsNoC):\n",
    "    \n",
    "    Z = ((rec.f*rec.u*F(Ro(rec.u,rec.f,R))*L)**(0.5))/rec.N\n",
    "    TauNo = 1-((4*t*24*3600*rec.kv)/(Z**2))\n",
    "    \n",
    "    rec.Z=Z\n",
    "    rec.TauNo=TauNo\n",
    "    \n",
    "    Napprox=((Z/Hs)*(TauNo))*rec.N\n",
    "    \n",
    "    Se = (s*Napprox)/(rec.f*((F(Ro(rec.u,rec.f,W))/Ro(rec.u,rec.f,L))**(1/2)))\n",
    "    HA2013=(rec.u*W*Dh(rec.f,L,Napprox))*((0.91*(F(Ro(rec.u,rec.f,W))**(3/2))*(Ro(rec.u,rec.f,L)**(1/2))*((1-1.21*Se)**3))+0.07)\n",
    "    rec.HA2013=HA2013\n",
    "    plt1 = ax.plot(1000*HA2013*((-(Z/Hs)*(TauNo))*(Hs+Hh)*-0.03598)/2.0,\n",
    "                   (((rec.TrMass[8]-recNoC.TrMass[8])-(rec.TrMass[6]-recNoC.TrMass[6]))/(time[8]-time[6])),\n",
    "                   marker = rec.mstyle,\n",
    "                   markersize = rec.msize,\n",
    "                   color = sns.xkcd_rgb[rec.color],\n",
    "                   label=rec.label)\n",
    "   \n",
    "    ax.set_title('Tracer Mass upwelled scaled as $C \\Phi_{HA2013}$, using N approx')\n",
    "    ax.set_xlabel('$C_{can} \\Phi_{HA2013}$  (Mol/s)')\n",
    "    ax.set_ylabel('Tr mass flux (Mol/s)')\n",
    "\n",
    "    ax.legend(bbox_to_anchor=(1.3,1))\n",
    " \n",
    "\n",
    "#Linear fit\n",
    "\n",
    "maxN_array_Kv = np.array([(((rec.TrMass[8]-recNoC.TrMass[8])-(rec.TrMass[6]-recNoC.TrMass[6]))/(time[8]-time[6])) \n",
    "                          for rec,recNoC in zip(records,recordsNoC)])\n",
    "tilt_array_Kv = np.array([1000*rec.HA2013*((-(rec.Z/Hs)*(rec.TauNo))*(Hs+Hh)*-0.03598)/2.0 \n",
    "                          for rec,recNoC in zip(records,recordsNoC)])\n",
    "\n",
    "x_fit = np.linspace(1E8, 3.5E8, 50)\n",
    "\n",
    "slope_Kv, intercept_Kv, r_value_Kv, p_value_Kv, std_err_Kv = scipy.stats.linregress(tilt_array_Kv,maxN_array_Kv)\n",
    "\n",
    "plt3 = ax.plot(x_fit,slope_Kv*x_fit+intercept_Kv,'-k')\n",
    "\n",
    "mean_sq_err_Kv = np.mean((maxN_array_Kv-(slope_Kv*tilt_array_Kv+intercept_Kv))**2)\n",
    "\n",
    "upper_bound = ax.plot(x_fit,slope_Kv*x_fit+intercept_Kv+(mean_sq_err_Kv)**(0.5),linestyle = '--',color='0.5')\n",
    "lower_bound = ax.plot(x_fit,slope_Kv*x_fit+intercept_Kv-(mean_sq_err_Kv)**(0.5),linestyle = '--',color='0.5')\n",
    "ax.legend(bbox_to_anchor=(1.4,1))\n",
    "\n",
    "\n",
    "plt.show()\n",
    "\n",
    "print(slope_Kv,intercept_Kv)\n"
   ]
  },
  {
   "cell_type": "code",
   "execution_count": null,
   "metadata": {
    "collapsed": false
   },
   "outputs": [],
   "source": [
    "fig,ax = plt.subplots(1,1,figsize=(8,6))\n",
    "labels=[]\n",
    "t=4 # days\n",
    "Hh=132.0\n",
    "\n",
    "for rec,recNoC in zip(records,recordsNoC):\n",
    "    \n",
    "    Z = ((rec.f*rec.u*F(Ro(rec.u,rec.f,R))*L)**(0.5))/rec.N\n",
    "    TauNo = 1-((4*t*24*3600*rec.kv)/(Z**2))\n",
    "    \n",
    "    rec.Z=Z\n",
    "    rec.TauNo=TauNo\n",
    "    \n",
    "    Napprox=((Z/Hs)*(TauNo))*rec.N\n",
    "    \n",
    "    Se = (s*Napprox)/(rec.f*((F(Ro(rec.u,rec.f,W))/Ro(rec.u,rec.f,L))**(1/2)))\n",
    "    HA2013=(rec.u*W*Dh(rec.f,L,Napprox))*((0.91*(F(Ro(rec.u,rec.f,W))**(3/2))*(Ro(rec.u,rec.f,L)**(1/2))*((1-1.21*Se)**3))+0.07)\n",
    "    rec.HA2013=HA2013\n",
    "    plt1 = ax.plot((1.19*1000*HA2013*((-(Z/Hs)*(TauNo))*(Hs+Hh)*(-0.03598))/2.0)-100499027.028,\n",
    "                   (((rec.TrMass[8]-recNoC.TrMass[8])-(rec.TrMass[6]-recNoC.TrMass[6]))/(time[8]-time[6])),\n",
    "                   marker = rec.mstyle,\n",
    "                   markersize = rec.msize,\n",
    "                   color = sns.xkcd_rgb[rec.color],\n",
    "                   label=rec.label)\n",
    "    ax.plot(np.linspace(0.5E8,3.0E8,50),np.linspace(0.5E8,3.0E8,50),'k-')\n",
    "    ax.set_title('Tracer Mass upwelled scaled as $C \\Phi_{HA2013}$, using N approx')\n",
    "    ax.set_xlabel('$1.19C_{can} \\Phi_{HA2013}-10^{-8}$  (Mol/s)')\n",
    "    ax.set_ylabel('Tr mass flux (Mol/s)')\n",
    "\n",
    "    ax.legend(bbox_to_anchor=(1.3,1))\n",
    "\n",
    "\n",
    "plt.show()\n",
    "\n"
   ]
  },
  {
   "cell_type": "code",
   "execution_count": null,
   "metadata": {
    "collapsed": false
   },
   "outputs": [],
   "source": [
    "flux_file43 = '/ocean/kramosmu/MITgcm/TracerExperiments/CNTDIFF/run43/FluxTR01Glob.nc'\n",
    "flux_file38 = '/ocean/kramosmu/MITgcm/TracerExperiments/CNTDIFF/run38/FluxTR01Glob.nc'\n",
    "flux_file37 = '/ocean/kramosmu/MITgcm/TracerExperiments/CNTDIFF/run37/FluxTR01Glob.nc'\n",
    "flux_file36 = '/ocean/kramosmu/MITgcm/TracerExperiments/CNTDIFF/run36/FluxTR01Glob.nc'\n",
    "\n",
    "flux_fileN63 = '/ocean/kramosmu/MITgcm/TracerExperiments/CNTDIFF/run45/FluxTR01Glob.nc'\n",
    "flux_fileN74 = '/ocean/kramosmu/MITgcm/TracerExperiments/CNTDIFF/run73/FluxTR01Glob.nc'\n",
    "flux_fileN45 = '/ocean/kramosmu/MITgcm/TracerExperiments/CNTDIFF/run75/FluxTR01Glob.nc'\n",
    "\n",
    "flux_filef10 = '/ocean/kramosmu/MITgcm/TracerExperiments/CNTDIFF/run67/FluxTR01Glob.nc'\n",
    "flux_filef76 = '/ocean/kramosmu/MITgcm/TracerExperiments/CNTDIFF/run51/FluxTR01Glob.nc'\n",
    "flux_filef86 = '/ocean/kramosmu/MITgcm/TracerExperiments/CNTDIFF/run69/FluxTR01Glob.nc'\n",
    "flux_filef64 = '/ocean/kramosmu/MITgcm/TracerExperiments/CNTDIFF/run71/FluxTR01Glob.nc'\n",
    "\n",
    "flux_file3D04 = '/ocean/kramosmu/MITgcm/TracerExperiments/3DVISC/run01/FluxTR01Glob.nc'\n",
    "flux_file3D05 = '/ocean/kramosmu/MITgcm/TracerExperiments/3DVISC/run02/FluxTR01Glob.nc'\n",
    "flux_file3D06 = '/ocean/kramosmu/MITgcm/TracerExperiments/3DVISC/run03/FluxTR01Glob.nc'\n",
    "flux_file3D07 = '/ocean/kramosmu/MITgcm/TracerExperiments/3DVISC/run04/FluxTR01Glob.nc'\n",
    "flux_fileU26 = '/ocean/kramosmu/MITgcm/TracerExperiments/LOW_BF/run01/FluxTR01Glob.nc'\n",
    "flux_fileU32 = '/ocean/kramosmu/MITgcm/TracerExperiments/LOWER_BF/run01/FluxTR01Glob.nc'\n"
   ]
  },
  {
   "cell_type": "code",
   "execution_count": null,
   "metadata": {
    "collapsed": false
   },
   "outputs": [],
   "source": [
    "import xarray as xr"
   ]
  },
  {
   "cell_type": "code",
   "execution_count": null,
   "metadata": {
    "collapsed": false
   },
   "outputs": [],
   "source": [
    "grid = xr.open_dataset(CanyonGrid)\n",
    "\n",
    "FluxFiles =[flux_file43 ,\n",
    "            flux_file38, \n",
    "            flux_file37,\n",
    "            flux_file36, \n",
    "            flux_fileN63, \n",
    "            flux_fileN74, \n",
    "            flux_fileN45, \n",
    "            flux_filef10, \n",
    "            flux_filef76, \n",
    "            flux_filef86,\n",
    "            flux_filef64, \n",
    "            flux_file3D04, \n",
    "            flux_file3D05, \n",
    "            flux_file3D06, \n",
    "            flux_file3D07 ,\n",
    "            flux_fileU26,\n",
    "            flux_fileU32]\n",
    "\n",
    "for file,rec in  zip(FluxFiles,records):\n",
    "    dataset = xr.open_dataset(file)\n",
    "    \n",
    "    TotTr01 = (dataset.WTRAC01.isel(Zmd000090=29, X= slice(120,240), Y=slice(229,267)))\n",
    "    rAexp = np.expand_dims(grid.rA.isel(X= slice(120,240), Y=slice(229,267)),0)\n",
    "    rAexp = np.zeros(np.shape(TotTr01)) + rAexp\n",
    "    totalV = ((TotTr01 * rAexp).sum(dim='X')).sum(dim='Y')\n",
    "    rec.TotTrFlux=(totalV).isel(T=slice(6,9)).mean(dim='T')"
   ]
  },
  {
   "cell_type": "code",
   "execution_count": null,
   "metadata": {
    "collapsed": false
   },
   "outputs": [],
   "source": [
    "fig,ax = plt.subplots(1,1,figsize=(8,6))\n",
    "labels=[]\n",
    "t=4 # days\n",
    "Hh=132.0\n",
    "\n",
    "for rec,recNoC in zip(records,recordsNoC):\n",
    "    \n",
    "    plt1 = ax.plot(rec.TotTrFlux*1000,\n",
    "                   (((rec.TrMass[8]-recNoC.TrMass[8])-(rec.TrMass[6]-recNoC.TrMass[6]))/(time[8]-time[6])),\n",
    "                   marker = rec.mstyle,\n",
    "                   markersize = rec.msize,\n",
    "                   color = sns.xkcd_rgb[rec.color],\n",
    "                   label=rec.label)\n",
    "    ax.plot(np.linspace(1E8,3E8,100),np.linspace(1E8,3E8,100),'k-')\n",
    "    ax.set_title('Tracer Mass flux vs tracer mass flux from diagnostics')\n",
    "    ax.set_xlabel(' Tracer mass flux from diagnostics  (Mol/s)')\n",
    "    ax.set_ylabel('Tr mass flux (Mol/s)')\n",
    "\n",
    "    ax.legend(bbox_to_anchor=(1.3,1))\n",
    "    \n",
    "plt.show()"
   ]
  },
  {
   "cell_type": "code",
   "execution_count": null,
   "metadata": {
    "collapsed": false
   },
   "outputs": [],
   "source": [
    "fig,ax = plt.subplots(1,1,figsize=(8,6))\n",
    "labels=[]\n",
    "t=4 # days\n",
    "Hh=132.0\n",
    "\n",
    "for rec,recNoC in zip(records,recordsNoC):\n",
    "    \n",
    "    Z = ((rec.f*rec.u*F(Ro(rec.u,rec.f,R))*L)**(0.5))/rec.N\n",
    "    TauNo = 1-((4*t*24*3600*rec.kv)/(Z**2))\n",
    "    \n",
    "    Napprox=((Z/Hs)*(TauNo))*rec.N\n",
    "    \n",
    "    Se = (s*Napprox)/(rec.f*((F(Ro(rec.u,rec.f,W))/Ro(rec.u,rec.f,L))**(1/2)))\n",
    "    HA2013=(rec.u*W*Dh(rec.f,L,Napprox))*((0.91*(F(Ro(rec.u,rec.f,W))**(3/2))*(Ro(rec.u,rec.f,L)**(1/2))*((1-1.21*Se)**3))+0.07)\n",
    "    rec.HA2013=HA2013\n",
    "    plt1 = ax.plot(1000*HA2013*((-(Z/Hs)*(TauNo))*(Hs+Hh)*-0.03598)/2.0,\n",
    "                   (rec.TotTrFlux*1000),\n",
    "                   marker = rec.mstyle,\n",
    "                   markersize = rec.msize,\n",
    "                   color = sns.xkcd_rgb[rec.color],\n",
    "                   label=rec.label)\n",
    "   \n",
    "    ax.set_title('Tracer Mass upwelled scaled as $C \\Phi_{HA2013}$, using N approx')\n",
    "    ax.set_xlabel('$C_{can} \\Phi_{HA2013}$  (Mol/s)')\n",
    "    ax.set_ylabel('Tr mass flux diagnostics (Mol/s)')\n",
    "\n",
    "    ax.legend(bbox_to_anchor=(1.3,1))\n",
    "    \n",
    "#Linear fit\n",
    "\n",
    "maxN_array_Kv = np.array([rec.TotTrFlux*1000 for rec,recNoC in zip(records,recordsNoC)])\n",
    "tilt_array_Kv = np.array([1000*rec.HA2013*((-(rec.Z/Hs)*(rec.TauNo))*(Hs+Hh)*-0.03598)/2.0 \n",
    "                          for rec,recNoC in zip(records,recordsNoC)])\n",
    "\n",
    "x_fit = np.linspace(1E8, 3.5E8, 50)\n",
    "\n",
    "slope_Kv, intercept_Kv, r_value_Kv, p_value_Kv, std_err_Kv = scipy.stats.linregress(tilt_array_Kv,maxN_array_Kv)\n",
    "\n",
    "plt3 = ax.plot(x_fit,slope_Kv*x_fit+intercept_Kv,'-k')\n",
    "\n",
    "mean_sq_err_Kv = np.mean((maxN_array_Kv-(slope_Kv*tilt_array_Kv+intercept_Kv))**2)\n",
    "\n",
    "upper_bound = ax.plot(x_fit,slope_Kv*x_fit+intercept_Kv+(mean_sq_err_Kv)**(0.5),linestyle = '--',color='0.5')\n",
    "lower_bound = ax.plot(x_fit,slope_Kv*x_fit+intercept_Kv-(mean_sq_err_Kv)**(0.5),linestyle = '--',color='0.5')\n",
    "ax.legend(bbox_to_anchor=(1.4,1))\n",
    "\n",
    "plt.show()\n",
    "\n"
   ]
  },
  {
   "cell_type": "code",
   "execution_count": null,
   "metadata": {
    "collapsed": true
   },
   "outputs": [],
   "source": []
  }
 ],
 "metadata": {
  "anaconda-cloud": {},
  "kernelspec": {
   "display_name": "Python [conda root]",
   "language": "python",
   "name": "conda-root-py"
  },
  "language_info": {
   "codemirror_mode": {
    "name": "ipython",
    "version": 3
   },
   "file_extension": ".py",
   "mimetype": "text/x-python",
   "name": "python",
   "nbconvert_exporter": "python",
   "pygments_lexer": "ipython3",
   "version": "3.5.2"
  }
 },
 "nbformat": 4,
 "nbformat_minor": 1
}
