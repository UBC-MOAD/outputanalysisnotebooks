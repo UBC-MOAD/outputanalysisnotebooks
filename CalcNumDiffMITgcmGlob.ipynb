{
 "metadata": {
  "name": ""
 },
 "nbformat": 3,
 "nbformat_minor": 0,
 "worksheets": [
  {
   "cells": [
    {
     "cell_type": "markdown",
     "metadata": {},
     "source": [
      "Calculate Numerical Diffusivity\n",
      "============================\n",
      "\n",
      "(For global files, output glued from miltiprocessor runs)\n",
      "\n",
      "This ipython notebook calculates the numerical diffusivity experienced by a tracer, associated to a specific configuration of the MITgcm. In particular, it was developed to calculate the equivalent diffusivity $\\kappa$, defined (here) as $\\kappa = \\kappa_{pres}+\\kappa_{num}$, where $\\kappa_{pres}$ \n",
      "is the prescibed or explicit tracer diffusivity one imposes on the model and $k_{num}$ is the additional diffusivity due to numerical truncation errors. Note that there are two $\\kappa_{pres}$ and therefore two $\\kappa$, one for the horizontal dimensions and one for the vertical one.\n",
      "\n",
      "These calculations try to reproduce the method used by [1] Abernathy et al. 2010, [2] Hill et al. 2011, and [3] Leibensperger and Plumb, 2013 to determine the numerical diffusivity MITgcm Southern Ocean configurations [1,2] and a baroclinic flow simulation simulation [3].\n",
      "\n",
      "The method goes as follows:\n",
      "\n",
      "From the evolution equation for the variance of the tracer concentration in the model output\n",
      "\n",
      "\\begin{equation}\n",
      "\\frac{1}{2}\\frac{\\partial{\\overline{q^{2}}}}{\\partial{t}}=-\\kappa_{h} \\overline{|\\nabla_h q|^2}-\\kappa_{v} \\overline{(\\frac{\\partial{q}}{\\partial {z}})^{2}}\n",
      "\\end{equation}\n",
      "\n",
      "one can fit by a least squares regression, suitable values of $\\kappa_h$ and $\\kappa_v$ that satisfy the equation."
     ]
    },
    {
     "cell_type": "code",
     "collapsed": false,
     "input": [
      "#KRM\n",
      "import os\n",
      "\n",
      "import numpy as np\n",
      "\n",
      "import matplotlib.pyplot as plt\n",
      "\n",
      "from scipy.stats import nanmean\n",
      "\n",
      "from math import *\n",
      "\n",
      "%matplotlib inline\n",
      "\n",
      "import numpy as np\n",
      "\n",
      "import matplotlib.colors as mcolors\n",
      "\n",
      "from netCDF4 import Dataset\n",
      "\n",
      "import pylab as pl\n",
      "\n",
      "from decimal import getcontext, Decimal, Inexact"
     ],
     "language": "python",
     "metadata": {},
     "outputs": [],
     "prompt_number": 26
    },
    {
     "cell_type": "code",
     "collapsed": false,
     "input": [
      "#'''\n",
      "#NAME\n",
      "#    Custom Colormaps for Matplotlib\n",
      "#PURPOSE\n",
      "#    This program shows how to implement make_cmap which is a function that\n",
      "#    generates a colorbar.  If you want to look at different color schemes,\n",
      "#    check out https://kuler.adobe.com/create.\n",
      "#PROGRAMMER(S)\n",
      "#    Chris Slocum\n",
      "#REVISION HISTORY\n",
      "#    20130411 -- Initial version created\n",
      "#    20140313 -- Small changes made and code posted online\n",
      "#    20140320 -- Added the ability to set the position of each color\n",
      "#'''\n",
      "\n",
      "def make_cmap(colors, position=None, bit=False):\n",
      "    #'''\n",
      "    #make_cmap takes a list of tuples which contain RGB values. The RGB\n",
      "    #values may either be in 8-bit [0 to 255] (in which bit must be set to\n",
      "    #rue when called) or arithmetic [0 to 1] (default). make_cmap returns\n",
      "    #a cmap with equally spaced colors.\n",
      "    #Arrange your tuples so that the first color is the lowest value for the\n",
      "    #colorbar and the last is the highest.\n",
      "    #position contains values from 0 to 1 to dictate the location of each color.\n",
      "    #'''\n",
      "    import matplotlib as mpl\n",
      "    import numpy as np\n",
      "    bit_rgb = np.linspace(0,1,256)\n",
      "    if position == None:\n",
      "        position = np.linspace(0,1,len(colors))\n",
      "    else:\n",
      "        if len(position) != len(colors):\n",
      "            sys.exit(\"position length must be the same as colors\")\n",
      "        elif position[0] != 0 or position[-1] != 1:\n",
      "            sys.exit(\"position must start with 0 and end with 1\")\n",
      "    if bit:\n",
      "        for i in range(len(colors)):\n",
      "            colors[i] = (bit_rgb[colors[i][0]],\n",
      "                         bit_rgb[colors[i][1]],\n",
      "                         bit_rgb[colors[i][2]])\n",
      "    cdict = {'red':[], 'green':[], 'blue':[]}\n",
      "    for pos, color in zip(position, colors):\n",
      "        cdict['red'].append((pos, color[0], color[0]))\n",
      "        cdict['green'].append((pos, color[1], color[1]))\n",
      "        cdict['blue'].append((pos, color[2], color[2]))\n",
      "\n",
      "    cmap = mpl.colors.LinearSegmentedColormap('my_colormap',cdict,256)\n",
      "    return cmap"
     ],
     "language": "python",
     "metadata": {},
     "outputs": [],
     "prompt_number": 27
    },
    {
     "cell_type": "code",
     "collapsed": false,
     "input": [
      "# Get field from MITgcm netCDF output\n",
      "#\n",
      "# statefile : string with /path/to/state.0000000000.t001.nc\n",
      "# fieldname : string with the variable name as written on the netCDF file ('Temp', 'S','Eta', etc.)\n",
      "#\n",
      "def getField(statefile, fieldname):\n",
      "    \n",
      "    StateOut = Dataset(statefile)\n",
      "    \n",
      "    Fld = StateOut.variables[fieldname][:]\n",
      "    \n",
      "    shFld = np.shape(Fld)\n",
      "    \n",
      "    if len(shFld) == 1:\n",
      "        \n",
      "        return Fld\n",
      "    \n",
      "    if len(shFld) == 2:\n",
      "        \n",
      "        Fld2 = np.reshape(Fld,(shFld[0],shFld[1])) # reshape to pcolor order\n",
      "        return Fld2 \n",
      "    \n",
      "    elif len(shFld) == 3:\n",
      "        \n",
      "        Fld2 = np.zeros((shFld[0],shFld[1],shFld[2])) \n",
      "        Fld2 = np.reshape(Fld,(shFld[0],shFld[1],shFld[2])) # reshape to pcolor order\n",
      "        return Fld2 \n",
      "        \n",
      "    elif len(shFld) == 4:\n",
      "        \n",
      "        Fld2 = np.zeros((shFld[0],shFld[1],shFld[2],shFld[3])) \n",
      "        Fld2 = np.reshape(Fld,(shFld[0],shFld[1],shFld[2],shFld[3])) # reshape to pcolor order\n",
      "        return Fld2\n",
      "        \n",
      "    else:\n",
      "        \n",
      "        print (' Check size of field ')\n",
      "    \n",
      "    \n"
     ],
     "language": "python",
     "metadata": {},
     "outputs": [],
     "prompt_number": 28
    },
    {
     "cell_type": "code",
     "collapsed": false,
     "input": [
      "\n",
      "def dsum(iterable):\n",
      "    \n",
      "    \"Full precision summation using Decimal objects for intermediate values\"\n",
      "    # Transform (exactly) a float to m * 2 ** e where m and e are integers.\n",
      "    # Convert (mant, exp) to a Decimal and add to the cumulative sum.\n",
      "    # If the precision is too small for exact conversion and addition,\n",
      "    # then retry with a larger precision.\n",
      "    from decimal import getcontext, Decimal, Inexact\n",
      "    getcontext().traps[Inexact] = True\n",
      "\n",
      "    total = Decimal(0)\n",
      "    for x in iterable:\n",
      "        mant, exp = frexp(x)\n",
      "        mant, exp = int(mant * 2.0 ** 53), exp-53\n",
      "        while True:\n",
      "            try:\n",
      "                total += mant * Decimal(2) ** exp\n",
      "                break\n",
      "            except Inexact:\n",
      "                getcontext().prec += 1\n",
      "    return float(total)\n"
     ],
     "language": "python",
     "metadata": {},
     "outputs": [],
     "prompt_number": 29
    },
    {
     "cell_type": "markdown",
     "metadata": {},
     "source": [
      "Important input parameters:\n",
      "------------------------"
     ]
    },
    {
     "cell_type": "code",
     "collapsed": false,
     "input": [
      "#nx = 120  # number of x points in domain\n",
      "#ny = 90  # number of y points in domain\n",
      "#nz = 35   # number of z levels in domain\n",
      "#nt = 10   # number of output files (n time) \n",
      "\n",
      "nx = 360  # number of x points in domain\n",
      "ny = 360  # number of y points in domain\n",
      "nz = 90   # number of z levels in domain\n",
      "nt = 10  # number of output files (n time) "
     ],
     "language": "python",
     "metadata": {},
     "outputs": [],
     "prompt_number": 30
    },
    {
     "cell_type": "markdown",
     "metadata": {},
     "source": [
      "Load output filenames:\n"
     ]
    },
    {
     "cell_type": "code",
     "collapsed": false,
     "input": [
      "### Load output filenames ###\n",
      "\n",
      "filename = '/ocean/kramosmu/MITgcm/CanyonUpwelling/360x360x90_BodyForcing_6Tr_LinProfiles/run02/tave.0000000000.glob.nc'#'/ocean/kramosmu/MITgcm/CanyonUpwelling/120x90x35_UpwLinRampWind_1Tr_LinProfiles/run30/output_0001/state.0000000000.t001.nc'\n",
      "StateOut = Dataset(filename)\n",
      "#for dimobj in StateOut.variables.values():\n",
      "#    print dimobj\n",
      "\n",
      "filename2 = '/ocean/kramosmu/MITgcm/CanyonUpwelling/360x360x90_BodyForcing_1Tr/run01/mnc_0001/grid.t001.nc'#'/ocean/kramosmu/MITgcm/CanyonUpwelling/120x90x35_UpwLinRampWind_1Tr_LinProfiles/run30/output_0001/grid.t001.nc'\n",
      "GridOut = Dataset(filename2)\n",
      "#for dimobj in StateOut.variables.values():\n",
      "#    print dimobj\n",
      "filename3 = '/ocean/kramosmu/MITgcm/CanyonUpwelling/360x360x90_BodyForcing_6Tr_LinProfiles/run02/ptr_tave.0000000000.glob.nc'#'/ocean/kramosmu/MITgcm/CanyonUpwelling/120x90x35_UpwLinRampWind_1Tr_LinProfiles/run30/output_0001/ptracers.0000000000.t001.nc'\n",
      "PtracersOut = Dataset(filename3)\n"
     ],
     "language": "python",
     "metadata": {},
     "outputs": [],
     "prompt_number": 31
    },
    {
     "cell_type": "markdown",
     "metadata": {},
     "source": [
      "Make some plots "
     ]
    },
    {
     "cell_type": "code",
     "collapsed": false,
     "input": [
      "tracer1 = getField(filename3,'Tr5')\n",
      "\n",
      "tracer1msk = np.ma.masked_values(tracer1, 0)\n",
      "\n",
      "MASK = np.ma.getmask(tracer1msk)\n",
      "   \n",
      "    \n",
      "### PLOT TRACER 1 at zlev and time###\n",
      "\n",
      "zlev = 20\n",
      "time = 0\n",
      "\n",
      "plt.rcParams.update({'font.size':13})\n",
      "plt.figure(figsize=(10,7))\n",
      "\n",
      "ax=plt.gca()\n",
      "ax.set_axis_bgcolor((205/255.0, 201/255.0, 201/255.0))\n",
      "\n",
      "plt.contourf(tracer1msk[time,zlev,:,:],30, cmap='rainbow')\n",
      "cb = plt.colorbar()\n",
      "cb.set_label('C', position=(0, 1),rotation=0)\n",
      "\n",
      "z=StateOut.variables['Z']\n",
      "\n",
      "plt.title(\"Tracer at z=%d m\" % -z[zlev])\n",
      "\n",
      " \n",
      "plt.figure(figsize=(10,7))\n",
      "\n",
      "ax=plt.gca()\n",
      "ax.set_axis_bgcolor((205/255.0, 201/255.0, 201/255.0))\n",
      "\n",
      "plt.contourf(tracer1msk[time,:,:,60],30, cmap='rainbow')\n",
      "plt.gca().invert_yaxis()\n",
      "cb = plt.colorbar()\n",
      "cb.set_label('C', position=(0, 1),rotation=0)\n",
      "\n",
      "z=StateOut.variables['Z']\n",
      "\n",
      "plt.title(\"Tracer at x=60 nx\")\n",
      "\n",
      "\n"
     ],
     "language": "python",
     "metadata": {},
     "outputs": [
      {
       "metadata": {},
       "output_type": "pyout",
       "prompt_number": 78,
       "text": [
        "<matplotlib.text.Text at 0x7585450>"
       ]
      },
      {
       "metadata": {},
       "output_type": "display_data",
       "png": "[encoded data removed]",
       "text": [
        "<matplotlib.figure.Figure at 0x70e3250>"
       ]
      },
      {
       "metadata": {},
       "output_type": "display_data",
       "png": "[encoded data removed]",
       "text": [
        "<matplotlib.figure.Figure at 0x4a73590>"
       ]
      }
     ],
     "prompt_number": 78
    },
    {
     "cell_type": "markdown",
     "metadata": {},
     "source": [
      "Calculate the volume of the domain\n",
      "-------------------------------\n",
      "The volume of a tracer cell (remember we have an Arakawa C grid, so this changes depending on which kind of cell we are thinking about) is given by\n",
      "\n",
      "$V(i,j,k)=depth \\times area = (hfacC(i,j,k)\\times dRf(k)) \\times rA(i,j) = (hfacC(i,j,k)\\times dRf(k)) \\times dXg(i,j) \\times dYg(i,j)$,\n",
      "\n",
      "where hfacC is the fraction of the cell that is open (not occupied with land). So, the total volume of the domain is \n",
      "\n",
      "$\\sum\\limits_{i=1}^{nx}{\\sum\\limits_{j=1}^{ny}{\\sum\\limits_{k=1}^{nz}{(hfacC(i,j,k)\\times dRf(k)) \\times rA(i,j)}}}$"
     ]
    },
    {
     "cell_type": "code",
     "collapsed": false,
     "input": [
      "Dom=0.0\n",
      "DomVolume=0.0\n",
      "\n",
      "hFacC = getField(filename2,'HFacC')\n",
      "drF   = getField(filename2,'drF')\n",
      "rAC   = getField(filename2,'rA')\n",
      "\n",
      "\n",
      "for ii in np.arange(nx):\n",
      "    \n",
      "    for jj in np.arange(ny):\n",
      "        \n",
      "        Dom = Dom + hFacC[:,jj,ii]*drF[:]*rAC[jj,ii]\n",
      "\n",
      "DomVolume=sum(Dom)\n",
      "print('\\n The total volume is %e m^3 \\n' %DomVolume)\n"
     ],
     "language": "python",
     "metadata": {},
     "outputs": [
      {
       "output_type": "stream",
       "stream": "stdout",
       "text": [
        "\n",
        " The total volume is 6.102853e+12 m^3 \n",
        "\n"
       ]
      }
     ],
     "prompt_number": 79
    },
    {
     "cell_type": "markdown",
     "metadata": {},
     "source": [
      "1st Term: The volume-weighted average of the squared concentration\n",
      "-------------------------------------------------------------\n",
      "The first term in the variance evolution equation is $\\frac{1}{2}\\frac{\\partial{\\overline{q^{2}}}}{\\partial{t}}$. Note that we care about the time derivative of the variance, so that the mean concentration that usually appears in the definition of variance will not play a role here, since it is constant in time (we are not putting in or letting out any tracer). \n",
      "\n",
      "We are going to calculate $\\overline{q^2}$, the volume-weighted average of the squared concentration, and then the time derivative of that using a centered difference scheme."
     ]
    },
    {
     "cell_type": "code",
     "collapsed": false,
     "input": [
      "### Calculate the volume-weighted mean of q^2\n",
      "\n",
      "q2mean = np.zeros((nt,1))\n",
      "\n",
      "for tt in np.arange(nt):\n",
      "    q2sum = 0.0\n",
      "    for kk in np.arange(nz):\n",
      "        \n",
      "        for jj in np.arange(ny):\n",
      "            \n",
      "            q2sum = q2sum + np.sum(((hFacC[kk,jj,:]*drF[kk]*rAC[jj,:])/DomVolume)*(tracer1[tt,kk,jj,:])**2)\n",
      "                \n",
      "    q2mean[tt] = q2sum\n",
      "   \n",
      "    print('volume-weighted mean of q^2 nt=%d is %e  \\n' %(tt, q2mean[tt]))\n",
      "\n"
     ],
     "language": "python",
     "metadata": {},
     "outputs": [
      {
       "output_type": "stream",
       "stream": "stdout",
       "text": [
        "volume-weighted mean of q^2 nt=0 is 5.102666e+02  \n",
        "\n",
        "volume-weighted mean of q^2 nt=1 is 4.641340e+02  \n"
       ]
      },
      {
       "output_type": "stream",
       "stream": "stdout",
       "text": [
        "\n",
        "volume-weighted mean of q^2 nt=2 is 4.501812e+02  \n"
       ]
      },
      {
       "output_type": "stream",
       "stream": "stdout",
       "text": [
        "\n",
        "volume-weighted mean of q^2 nt=3 is 4.452379e+02  \n"
       ]
      },
      {
       "output_type": "stream",
       "stream": "stdout",
       "text": [
        "\n",
        "volume-weighted mean of q^2 nt=4 is 4.432554e+02  \n"
       ]
      },
      {
       "output_type": "stream",
       "stream": "stdout",
       "text": [
        "\n",
        "volume-weighted mean of q^2 nt=5 is 4.422911e+02  \n"
       ]
      },
      {
       "output_type": "stream",
       "stream": "stdout",
       "text": [
        "\n",
        "volume-weighted mean of q^2 nt=6 is 4.417853e+02  \n"
       ]
      },
      {
       "output_type": "stream",
       "stream": "stdout",
       "text": [
        "\n",
        "volume-weighted mean of q^2 nt=7 is 4.415508e+02  \n"
       ]
      },
      {
       "output_type": "stream",
       "stream": "stdout",
       "text": [
        "\n",
        "volume-weighted mean of q^2 nt=8 is 4.413793e+02  \n"
       ]
      },
      {
       "output_type": "stream",
       "stream": "stdout",
       "text": [
        "\n",
        "volume-weighted mean of q^2 nt=9 is 4.412380e+02  \n"
       ]
      },
      {
       "output_type": "stream",
       "stream": "stdout",
       "text": [
        "\n"
       ]
      }
     ],
     "prompt_number": 80
    },
    {
     "cell_type": "code",
     "collapsed": false,
     "input": [
      "### Calculate time derivative \n",
      "dt = (3600.*12.) # half day\n",
      "\n",
      "dqdt = np.zeros(nt-2)\n",
      "\n",
      "for tt in np.arange(nt-2):\n",
      "    \n",
      "    dqdt[tt] = (q2mean[tt+2]-q2mean[tt])/(2.*dt) # approximation of time derivative of v-w mean q^2\n",
      "      "
     ],
     "language": "python",
     "metadata": {},
     "outputs": [],
     "prompt_number": 81
    },
    {
     "cell_type": "markdown",
     "metadata": {},
     "source": [
      "2nd Term: The volume-weighted average of the squared horizontal gradient\n",
      "------------------------------------------------------------------\n",
      "The second term in the variance evolution equation is $-\\kappa_{h} \\overline{|\\nabla_h q|^2}$. Next, we calculate the square of the horizontal gradient $|\\nabla_h q|^2=(\\frac{\\partial{q}}{\\partial{x}})^2+(\\frac{\\partial{q}}{\\partial{y}})^2$.\n",
      "\n",
      "Spatial derivatives are approximated using a centered-difference scheme."
     ]
    },
    {
     "cell_type": "code",
     "collapsed": false,
     "input": [
      "\n",
      "### Calculate mean of (dq/dx)^2 + (dq/dy)^2)\n",
      "\n",
      "dxG = getField(filename2,'dxG')\n",
      "dyG = getField(filename2,'dyG')\n",
      "\n",
      "qmeanDh = np.zeros((nt,1))\n",
      "qmeanDx = np.zeros((nt,1))\n",
      "qmeanDy = np.zeros((nt,1))\n",
      "\n",
      "for tt in np.arange(nt):\n",
      "    \n",
      "    sumDx = 0.0\n",
      "    \n",
      "    tracer2dx = tracer1[tt,:,:,2:nx]\n",
      "    tracer0dx = tracer1[tt,:,:,0:nx-2]\n",
      "    tracerDerX = ((tracer2dx-tracer0dx)/(2.0*dxG[:-1,1:nx-1]))**2\n",
      "    \n",
      "    \n",
      "    for kk in np.arange(nz):\n",
      "        for jj in np.arange(ny):\n",
      "            sumDx = sumDx + np.sum((hFacC[kk,jj,1:nx-1]*drF[kk]*rAC[jj,1:nx-1])*(tracerDerX[kk,jj,:]))\n",
      "          \n",
      "        #print(sumDx)    \n",
      "    \n",
      "    qmeanDx[tt] = sumDx/DomVolume\n",
      "    \n",
      "    print('The v-w mean of (dq/dx)^2 at nt=%d is %e \\n' % (tt,qmeanDx[tt]))            \n",
      "   \n",
      "    \n",
      "for tt in np.arange(nt):\n",
      "    \n",
      "    sumDy = 0.0\n",
      "    \n",
      "    tracer2dy = tracer1[tt,:,2:ny,:]\n",
      "    tracer0dy = tracer1[tt,:,0:ny-2,:]\n",
      "    tracerDerY = ((tracer2dy-tracer0dy)/(2.0*dyG[1:ny-1,:-1]))**2\n",
      "    \n",
      "    \n",
      "    for kk in np.arange(nz):\n",
      "        for ii in np.arange(nx):\n",
      "            sumDy = sumDy + np.sum((hFacC[kk,1:ny-1,ii]*drF[kk]*rAC[1:ny-1,ii])*(tracerDerY[kk,:,ii]))\n",
      "            \n",
      "    qmeanDy[tt] = sumDy/DomVolume \n",
      "    \n",
      "    print('The v-w mean of (dq/dy)^2 at nt=%d is %e \\n' % (tt,qmeanDy[tt]))            \n",
      "\n",
      "                \n",
      "qmeanDh = qmeanDx + qmeanDy\n"
     ],
     "language": "python",
     "metadata": {},
     "outputs": [
      {
       "output_type": "stream",
       "stream": "stdout",
       "text": [
        "The v-w mean of (dq/dx)^2 at nt=0 is 2.023410e-06 \n",
        "\n",
        "The v-w mean of (dq/dx)^2 at nt=1 is 1.413322e-06 \n"
       ]
      },
      {
       "output_type": "stream",
       "stream": "stdout",
       "text": [
        "\n",
        "The v-w mean of (dq/dx)^2 at nt=2 is 1.127260e-06 \n"
       ]
      },
      {
       "output_type": "stream",
       "stream": "stdout",
       "text": [
        "\n",
        "The v-w mean of (dq/dx)^2 at nt=3 is 8.201572e-07 \n"
       ]
      },
      {
       "output_type": "stream",
       "stream": "stdout",
       "text": [
        "\n",
        "The v-w mean of (dq/dx)^2 at nt=4 is 6.599211e-07 \n"
       ]
      },
      {
       "output_type": "stream",
       "stream": "stdout",
       "text": [
        "\n",
        "The v-w mean of (dq/dx)^2 at nt=5 is 5.649565e-07 \n"
       ]
      },
      {
       "output_type": "stream",
       "stream": "stdout",
       "text": [
        "\n",
        "The v-w mean of (dq/dx)^2 at nt=6 is 5.330503e-07 \n"
       ]
      },
      {
       "output_type": "stream",
       "stream": "stdout",
       "text": [
        "\n",
        "The v-w mean of (dq/dx)^2 at nt=7 is 5.513010e-07 \n"
       ]
      },
      {
       "output_type": "stream",
       "stream": "stdout",
       "text": [
        "\n",
        "The v-w mean of (dq/dx)^2 at nt=8 is 5.330182e-07 \n"
       ]
      },
      {
       "output_type": "stream",
       "stream": "stdout",
       "text": [
        "\n",
        "The v-w mean of (dq/dx)^2 at nt=9 is 5.016216e-07 \n"
       ]
      },
      {
       "output_type": "stream",
       "stream": "stdout",
       "text": [
        "\n",
        "The v-w mean of (dq/dy)^2 at nt=0 is 6.427223e-06 \n"
       ]
      },
      {
       "output_type": "stream",
       "stream": "stdout",
       "text": [
        "\n",
        "The v-w mean of (dq/dy)^2 at nt=1 is 4.561694e-06 \n"
       ]
      },
      {
       "output_type": "stream",
       "stream": "stdout",
       "text": [
        "\n",
        "The v-w mean of (dq/dy)^2 at nt=2 is 3.857274e-06 \n"
       ]
      },
      {
       "output_type": "stream",
       "stream": "stdout",
       "text": [
        "\n",
        "The v-w mean of (dq/dy)^2 at nt=3 is 3.483634e-06 \n"
       ]
      },
      {
       "output_type": "stream",
       "stream": "stdout",
       "text": [
        "\n",
        "The v-w mean of (dq/dy)^2 at nt=4 is 3.283760e-06 \n"
       ]
      },
      {
       "output_type": "stream",
       "stream": "stdout",
       "text": [
        "\n",
        "The v-w mean of (dq/dy)^2 at nt=5 is 3.199735e-06 \n"
       ]
      },
      {
       "output_type": "stream",
       "stream": "stdout",
       "text": [
        "\n",
        "The v-w mean of (dq/dy)^2 at nt=6 is 3.126418e-06 \n"
       ]
      },
      {
       "output_type": "stream",
       "stream": "stdout",
       "text": [
        "\n",
        "The v-w mean of (dq/dy)^2 at nt=7 is 3.089124e-06 \n"
       ]
      },
      {
       "output_type": "stream",
       "stream": "stdout",
       "text": [
        "\n",
        "The v-w mean of (dq/dy)^2 at nt=8 is 3.087190e-06 \n"
       ]
      },
      {
       "output_type": "stream",
       "stream": "stdout",
       "text": [
        "\n",
        "The v-w mean of (dq/dy)^2 at nt=9 is 3.081658e-06 \n"
       ]
      },
      {
       "output_type": "stream",
       "stream": "stdout",
       "text": [
        "\n"
       ]
      }
     ],
     "prompt_number": 82
    },
    {
     "cell_type": "code",
     "collapsed": false,
     "input": [],
     "language": "python",
     "metadata": {},
     "outputs": [],
     "prompt_number": 82
    },
    {
     "cell_type": "markdown",
     "metadata": {},
     "source": [
      "3rd Term: The volume-weighted average of the squared vertical derivative\n",
      "------------------------------------------------------------------\n",
      "The third term in the variance evolution equation is $-\\kappa_{v} \\overline{(\\frac{\\partial{q}}{\\partial{z}})^2}$. Next, we calculate the square of the vertical gradient $(\\frac{\\partial{q}}{\\partial{z}})^2$.\n",
      "\n",
      "The vertical derivative is approximated using a centered-difference scheme."
     ]
    },
    {
     "cell_type": "code",
     "collapsed": false,
     "input": [
      "### Calculate mean of (dq/dz)^2 \n",
      "\n",
      "qmeanDz = np.zeros((nt,1))\n",
      "\n",
      "\n",
      "for tt in np.arange(nt):\n",
      "    qsumDz = 0.0\n",
      "    for ii in np.arange(nx):\n",
      "        \n",
      "        for jj in np.arange(ny):\n",
      "            \n",
      "            for kk in np.arange(nz-2):\n",
      "                \n",
      "                if (hFacC[kk,jj,ii]*drF[kk])+(hFacC[kk+1,jj,ii]*drF[kk+1]) == 0:\n",
      "                    \n",
      "                    continue\n",
      "                    \n",
      "                else :\n",
      "                    \n",
      "                   qsumDz =qsumDz +(hFacC[kk,jj,ii]*drF[kk]*rAC[jj,ii])*(((tracer1[tt,kk+2,jj,ii]-tracer1[tt,kk,jj,ii])/((hFacC[kk+1,jj,ii]*drF[kk+1])+(hFacC[kk,jj,ii]*drF[kk])))**2)\n",
      "                   \n",
      "    qmeanDz[tt] = qsumDz/DomVolume\n",
      "    \n",
      "    print('Mean (dq/dz)^2 at nt=%d is %e \\n' %(tt, qmeanDz[tt]))\n",
      "  \n",
      "\n",
      "    \n",
      "    \n"
     ],
     "language": "python",
     "metadata": {},
     "outputs": [
      {
       "output_type": "stream",
       "stream": "stdout",
       "text": [
        "Mean (dq/dz)^2 at nt=0 is 3.810315e-02 \n",
        "\n",
        "Mean (dq/dz)^2 at nt=1 is 2.703776e-02 \n"
       ]
      },
      {
       "output_type": "stream",
       "stream": "stdout",
       "text": [
        "\n",
        "Mean (dq/dz)^2 at nt=2 is 2.742958e-02 \n"
       ]
      },
      {
       "output_type": "stream",
       "stream": "stdout",
       "text": [
        "\n",
        "Mean (dq/dz)^2 at nt=3 is 2.840859e-02 \n"
       ]
      },
      {
       "output_type": "stream",
       "stream": "stdout",
       "text": [
        "\n",
        "Mean (dq/dz)^2 at nt=4 is 2.950646e-02 \n"
       ]
      },
      {
       "output_type": "stream",
       "stream": "stdout",
       "text": [
        "\n",
        "Mean (dq/dz)^2 at nt=5 is 3.048540e-02 \n"
       ]
      },
      {
       "output_type": "stream",
       "stream": "stdout",
       "text": [
        "\n",
        "Mean (dq/dz)^2 at nt=6 is 3.028547e-02 \n"
       ]
      },
      {
       "output_type": "stream",
       "stream": "stdout",
       "text": [
        "\n",
        "Mean (dq/dz)^2 at nt=7 is 3.007359e-02 \n"
       ]
      },
      {
       "output_type": "stream",
       "stream": "stdout",
       "text": [
        "\n",
        "Mean (dq/dz)^2 at nt=8 is 3.032591e-02 \n"
       ]
      },
      {
       "output_type": "stream",
       "stream": "stdout",
       "text": [
        "\n",
        "Mean (dq/dz)^2 at nt=9 is 3.049262e-02 \n"
       ]
      },
      {
       "output_type": "stream",
       "stream": "stdout",
       "text": [
        "\n"
       ]
      }
     ],
     "prompt_number": 83
    },
    {
     "cell_type": "markdown",
     "metadata": {},
     "source": [
      "Tracer variance plots:\n",
      "--------------------"
     ]
    },
    {
     "cell_type": "code",
     "collapsed": false,
     "input": [
      "\n",
      "fig1=plt.figure(figsize=(21,3))\n",
      "\n",
      "plt.subplot(1,3,1)\n",
      "ax=plt.gca()\n",
      "ax.set_axis_bgcolor((205/255.0, 201/255.0, 201/255.0))\n",
      "\n",
      "plt.plot(qmeanDh[1:len(qmeanDh)-1],dqdt)\n",
      "\n",
      "\n",
      "plt.xlabel('$<|\\partial_{h}q|^2>$')\n",
      "\n",
      "plt.ylabel('$\\partial{<q^2>}/\\partial{t}$')\n",
      "    \n",
      "\n",
      "plt.subplot(1,3,2)\n",
      "ax=plt.gca()\n",
      "ax.set_axis_bgcolor((205/255.0, 201/255.0, 201/255.0))\n",
      "\n",
      "plt.plot(qmeanDz[1:len(qmeanDz)-1],dqdt)\n",
      "\n",
      "\n",
      "plt.xlabel('$<\\partial{q^2}/\\partial{z}>$')\n",
      "\n",
      "plt.ylabel('$\\partial{<q^2>}/\\partial{t}$')\n",
      "\n",
      "plt.subplot(1,3,3)\n",
      "ax=plt.gca()\n",
      "ax.set_axis_bgcolor((205/255.0, 201/255.0, 201/255.0))\n",
      "\n",
      "plt.plot(np.arange(0,nt*2,2.0),q2mean)\n",
      "\n",
      "plt.xlabel('hours')\n",
      "\n",
      "plt.ylabel('$<q^2>$')\n",
      "\n",
      "plt.tight_layout()"
     ],
     "language": "python",
     "metadata": {},
     "outputs": [
      {
       "metadata": {},
       "output_type": "display_data",
       "png": "[encoded data removed]",
       "text": [
        "<matplotlib.figure.Figure at 0xad22d90>"
       ]
      }
     ],
     "prompt_number": 84
    },
    {
     "cell_type": "markdown",
     "metadata": {},
     "source": [
      "Linear regression for $\\kappa_h$ and $\\kappa_v$\n",
      "------------------------------------------\n",
      "\n",
      "In the regression results box, x1 corresponds to $\\kappa_h$ and x2 to $\\kappa_v$."
     ]
    },
    {
     "cell_type": "code",
     "collapsed": false,
     "input": [
      "import pandas as pd\n",
      "import statsmodels.api as sm\n",
      "\n",
      "dt = 1*3600.0*24.0 # 2hrs\n",
      "\n",
      "x = np.column_stack((qmeanDh[4:len(qmeanDh)-1], qmeanDz[4:len(qmeanDz)-1])) #variance of space derivatives\n",
      "\n",
      "y = 0.5*dqdt[3:len(dqdt)]\n",
      "\n",
      "\n",
      "## fit a OLS model with intercept \n",
      "#x = sm.add_constant(x)\n",
      "#est = sm.OLS(y, x).fit()\n",
      "est = sm.GLS(y,x).fit()\n",
      "est.summary()\n"
     ],
     "language": "python",
     "metadata": {},
     "outputs": [
      {
       "html": [
        "<table class=\"simpletable\">\n",
        "<caption>GLS Regression Results</caption>\n",
        "<tr>\n",
        "  <th>Dep. Variable:</th>            <td>y</td>        <th>  R-squared:         </th> <td>   0.984</td>\n",
        "</tr>\n",
        "<tr>\n",
        "  <th>Model:</th>                   <td>GLS</td>       <th>  Adj. R-squared:    </th> <td>   0.973</td>\n",
        "</tr>\n",
        "<tr>\n",
        "  <th>Method:</th>             <td>Least Squares</td>  <th>  F-statistic:       </th> <td>   91.26</td>\n",
        "</tr>\n",
        "<tr>\n",
        "  <th>Date:</th>             <td>Fri, 05 Dec 2014</td> <th>  Prob (F-statistic):</th>  <td>0.00206</td>\n",
        "</tr>\n",
        "<tr>\n",
        "  <th>Time:</th>                 <td>14:08:46</td>     <th>  Log-Likelihood:    </th> <td>  61.400</td>\n",
        "</tr>\n",
        "<tr>\n",
        "  <th>No. Observations:</th>      <td>     5</td>      <th>  AIC:               </th> <td>  -118.8</td>\n",
        "</tr>\n",
        "<tr>\n",
        "  <th>Df Residuals:</th>          <td>     3</td>      <th>  BIC:               </th> <td>  -119.6</td>\n",
        "</tr>\n",
        "<tr>\n",
        "  <th>Df Model:</th>              <td>     2</td>      <th>                     </th>     <td> </td>   \n",
        "</tr>\n",
        "</table>\n",
        "<table class=\"simpletable\">\n",
        "<tr>\n",
        "   <td></td>     <th>coef</th>     <th>std err</th>      <th>t</th>      <th>P>|t|</th> <th>[95.0% Conf. Int.]</th> \n",
        "</tr>\n",
        "<tr>\n",
        "  <th>x1</th> <td>  -36.4510</td> <td>    4.235</td> <td>   -8.608</td> <td> 0.003</td> <td>  -49.928   -22.974</td>\n",
        "</tr>\n",
        "<tr>\n",
        "  <th>x2</th> <td>    0.0043</td> <td>    0.001</td> <td>    8.173</td> <td> 0.004</td> <td>    0.003     0.006</td>\n",
        "</tr>\n",
        "</table>\n",
        "<table class=\"simpletable\">\n",
        "<tr>\n",
        "  <th>Omnibus:</th>       <td>   nan</td> <th>  Durbin-Watson:     </th> <td>   1.979</td>\n",
        "</tr>\n",
        "<tr>\n",
        "  <th>Prob(Omnibus):</th> <td>   nan</td> <th>  Jarque-Bera (JB):  </th> <td>   0.202</td>\n",
        "</tr>\n",
        "<tr>\n",
        "  <th>Skew:</th>          <td>-0.223</td> <th>  Prob(JB):          </th> <td>   0.904</td>\n",
        "</tr>\n",
        "<tr>\n",
        "  <th>Kurtosis:</th>      <td> 2.122</td> <th>  Cond. No.          </th> <td>1.97e+05</td>\n",
        "</tr>\n",
        "</table>"
       ],
       "metadata": {},
       "output_type": "pyout",
       "prompt_number": 85,
       "text": [
        "<class 'statsmodels.iolib.summary.Summary'>\n",
        "\"\"\"\n",
        "                            GLS Regression Results                            \n",
        "==============================================================================\n",
        "Dep. Variable:                      y   R-squared:                       0.984\n",
        "Model:                            GLS   Adj. R-squared:                  0.973\n",
        "Method:                 Least Squares   F-statistic:                     91.26\n",
        "Date:                Fri, 05 Dec 2014   Prob (F-statistic):            0.00206\n",
        "Time:                        14:08:46   Log-Likelihood:                 61.400\n",
        "No. Observations:                   5   AIC:                            -118.8\n",
        "Df Residuals:                       3   BIC:                            -119.6\n",
        "Df Model:                           2                                         \n",
        "==============================================================================\n",
        "                 coef    std err          t      P>|t|      [95.0% Conf. Int.]\n",
        "------------------------------------------------------------------------------\n",
        "x1           -36.4510      4.235     -8.608      0.003       -49.928   -22.974\n",
        "x2             0.0043      0.001      8.173      0.004         0.003     0.006\n",
        "==============================================================================\n",
        "Omnibus:                          nan   Durbin-Watson:                   1.979\n",
        "Prob(Omnibus):                    nan   Jarque-Bera (JB):                0.202\n",
        "Skew:                          -0.223   Prob(JB):                        0.904\n",
        "Kurtosis:                       2.122   Cond. No.                     1.97e+05\n",
        "==============================================================================\n",
        "\n",
        "Warnings:\n",
        "[1] The smallest eigenvalue is 1.17e-13. This might indicate that there are\n",
        "strong multicollinearity problems or that the design matrix is singular.\n",
        "\"\"\""
       ]
      }
     ],
     "prompt_number": 85
    },
    {
     "cell_type": "code",
     "collapsed": false,
     "input": [
      "\n",
      "dt = 1*3600.0*24.0 # 2hrs\n",
      "\n",
      "#x = np.column_stack((qmeanDh[1:len(qmeanDh)-1], qmeanDz[1:len(qmeanDz)-1])) #variance of space derivatives\n",
      "\n",
      "y = 0.5*dqdt[0:len(dqdt)]\n",
      "\n",
      "x1=qmeanDh[1:len(qmeanDh)-1]\n",
      "x2=qmeanDz[1:len(qmeanDz)-1]\n",
      "print(np.shape(dqdt))\n",
      "print(np.shape(qmeanDh))\n",
      "\n",
      "## fit a OLS model with intercept \n",
      "#x = sm.add_constant(x)\n",
      "#est = sm.OLS(y, x).fit()\n",
      "est = sm.GLS(y,x1).fit()\n",
      "est.summary()\n"
     ],
     "language": "python",
     "metadata": {},
     "outputs": [
      {
       "output_type": "stream",
       "stream": "stdout",
       "text": [
        "(8,)\n",
        "(10, 1)\n"
       ]
      },
      {
       "html": [
        "<table class=\"simpletable\">\n",
        "<caption>GLS Regression Results</caption>\n",
        "<tr>\n",
        "  <th>Dep. Variable:</th>            <td>y</td>        <th>  R-squared:         </th> <td>   0.427</td>\n",
        "</tr>\n",
        "<tr>\n",
        "  <th>Model:</th>                   <td>GLS</td>       <th>  Adj. R-squared:    </th> <td>   0.345</td>\n",
        "</tr>\n",
        "<tr>\n",
        "  <th>Method:</th>             <td>Least Squares</td>  <th>  F-statistic:       </th> <td>   5.220</td>\n",
        "</tr>\n",
        "<tr>\n",
        "  <th>Date:</th>             <td>Fri, 05 Dec 2014</td> <th>  Prob (F-statistic):</th>  <td>0.0563</td> \n",
        "</tr>\n",
        "<tr>\n",
        "  <th>Time:</th>                 <td>14:08:51</td>     <th>  Log-Likelihood:    </th> <td>  62.471</td>\n",
        "</tr>\n",
        "<tr>\n",
        "  <th>No. Observations:</th>      <td>     8</td>      <th>  AIC:               </th> <td>  -122.9</td>\n",
        "</tr>\n",
        "<tr>\n",
        "  <th>Df Residuals:</th>          <td>     7</td>      <th>  BIC:               </th> <td>  -122.9</td>\n",
        "</tr>\n",
        "<tr>\n",
        "  <th>Df Model:</th>              <td>     1</td>      <th>                     </th>     <td> </td>   \n",
        "</tr>\n",
        "</table>\n",
        "<table class=\"simpletable\">\n",
        "<tr>\n",
        "   <td></td>     <th>coef</th>     <th>std err</th>      <th>t</th>      <th>P>|t|</th> <th>[95.0% Conf. Int.]</th> \n",
        "</tr>\n",
        "<tr>\n",
        "  <th>x1</th> <td>  -19.6927</td> <td>    8.620</td> <td>   -2.285</td> <td> 0.056</td> <td>  -40.075     0.689</td>\n",
        "</tr>\n",
        "</table>\n",
        "<table class=\"simpletable\">\n",
        "<tr>\n",
        "  <th>Omnibus:</th>       <td>18.036</td> <th>  Durbin-Watson:     </th> <td>   0.664</td>\n",
        "</tr>\n",
        "<tr>\n",
        "  <th>Prob(Omnibus):</th> <td> 0.000</td> <th>  Jarque-Bera (JB):  </th> <td>   7.159</td>\n",
        "</tr>\n",
        "<tr>\n",
        "  <th>Skew:</th>          <td>-1.995</td> <th>  Prob(JB):          </th> <td>  0.0279</td>\n",
        "</tr>\n",
        "<tr>\n",
        "  <th>Kurtosis:</th>      <td> 5.356</td> <th>  Cond. No.          </th> <td>    1.00</td>\n",
        "</tr>\n",
        "</table>"
       ],
       "metadata": {},
       "output_type": "pyout",
       "prompt_number": 86,
       "text": [
        "<class 'statsmodels.iolib.summary.Summary'>\n",
        "\"\"\"\n",
        "                            GLS Regression Results                            \n",
        "==============================================================================\n",
        "Dep. Variable:                      y   R-squared:                       0.427\n",
        "Model:                            GLS   Adj. R-squared:                  0.345\n",
        "Method:                 Least Squares   F-statistic:                     5.220\n",
        "Date:                Fri, 05 Dec 2014   Prob (F-statistic):             0.0563\n",
        "Time:                        14:08:51   Log-Likelihood:                 62.471\n",
        "No. Observations:                   8   AIC:                            -122.9\n",
        "Df Residuals:                       7   BIC:                            -122.9\n",
        "Df Model:                           1                                         \n",
        "==============================================================================\n",
        "                 coef    std err          t      P>|t|      [95.0% Conf. Int.]\n",
        "------------------------------------------------------------------------------\n",
        "x1           -19.6927      8.620     -2.285      0.056       -40.075     0.689\n",
        "==============================================================================\n",
        "Omnibus:                       18.036   Durbin-Watson:                   0.664\n",
        "Prob(Omnibus):                  0.000   Jarque-Bera (JB):                7.159\n",
        "Skew:                          -1.995   Prob(JB):                       0.0279\n",
        "Kurtosis:                       5.356   Cond. No.                         1.00\n",
        "==============================================================================\n",
        "\"\"\""
       ]
      }
     ],
     "prompt_number": 86
    },
    {
     "cell_type": "code",
     "collapsed": false,
     "input": [
      "dt = 1*3600.0*24.0 # 2hrs\n",
      "\n",
      "x = np.column_stack((qmeanDh[1:len(qmeanDh)-1], qmeanDz[1:len(qmeanDz)-1])) #variance of space derivatives\n",
      "\n",
      "y = 0.5*dqdt[0:len(dqdt)]\n",
      "\n",
      "x1=qmeanDh[1:len(qmeanDh)-1]\n",
      "x2=qmeanDz[1:len(qmeanDz)-1]\n",
      "## fit a OLS model with intercept \n",
      "#x = sm.add_constant(x)\n",
      "#est = sm.OLS(y, x).fit()\n",
      "est = sm.GLS(y,x2).fit()\n",
      "est.summary()\n"
     ],
     "language": "python",
     "metadata": {},
     "outputs": [
      {
       "html": [
        "<table class=\"simpletable\">\n",
        "<caption>GLS Regression Results</caption>\n",
        "<tr>\n",
        "  <th>Dep. Variable:</th>            <td>y</td>        <th>  R-squared:         </th> <td>   0.230</td>\n",
        "</tr>\n",
        "<tr>\n",
        "  <th>Model:</th>                   <td>GLS</td>       <th>  Adj. R-squared:    </th> <td>   0.120</td>\n",
        "</tr>\n",
        "<tr>\n",
        "  <th>Method:</th>             <td>Least Squares</td>  <th>  F-statistic:       </th> <td>   2.091</td>\n",
        "</tr>\n",
        "<tr>\n",
        "  <th>Date:</th>             <td>Fri, 05 Dec 2014</td> <th>  Prob (F-statistic):</th>  <td> 0.191</td> \n",
        "</tr>\n",
        "<tr>\n",
        "  <th>Time:</th>                 <td>14:08:54</td>     <th>  Log-Likelihood:    </th> <td>  61.288</td>\n",
        "</tr>\n",
        "<tr>\n",
        "  <th>No. Observations:</th>      <td>     8</td>      <th>  AIC:               </th> <td>  -120.6</td>\n",
        "</tr>\n",
        "<tr>\n",
        "  <th>Df Residuals:</th>          <td>     7</td>      <th>  BIC:               </th> <td>  -120.5</td>\n",
        "</tr>\n",
        "<tr>\n",
        "  <th>Df Model:</th>              <td>     1</td>      <th>                     </th>     <td> </td>   \n",
        "</tr>\n",
        "</table>\n",
        "<table class=\"simpletable\">\n",
        "<tr>\n",
        "   <td></td>     <th>coef</th>     <th>std err</th>      <th>t</th>      <th>P>|t|</th> <th>[95.0% Conf. Int.]</th> \n",
        "</tr>\n",
        "<tr>\n",
        "  <th>x1</th> <td>   -0.0021</td> <td>    0.001</td> <td>   -1.446</td> <td> 0.191</td> <td>   -0.006     0.001</td>\n",
        "</tr>\n",
        "</table>\n",
        "<table class=\"simpletable\">\n",
        "<tr>\n",
        "  <th>Omnibus:</th>       <td>16.062</td> <th>  Durbin-Watson:     </th> <td>   0.607</td>\n",
        "</tr>\n",
        "<tr>\n",
        "  <th>Prob(Omnibus):</th> <td> 0.000</td> <th>  Jarque-Bera (JB):  </th> <td>   6.114</td>\n",
        "</tr>\n",
        "<tr>\n",
        "  <th>Skew:</th>          <td>-1.885</td> <th>  Prob(JB):          </th> <td>  0.0470</td>\n",
        "</tr>\n",
        "<tr>\n",
        "  <th>Kurtosis:</th>      <td> 5.032</td> <th>  Cond. No.          </th> <td>    1.00</td>\n",
        "</tr>\n",
        "</table>"
       ],
       "metadata": {},
       "output_type": "pyout",
       "prompt_number": 87,
       "text": [
        "<class 'statsmodels.iolib.summary.Summary'>\n",
        "\"\"\"\n",
        "                            GLS Regression Results                            \n",
        "==============================================================================\n",
        "Dep. Variable:                      y   R-squared:                       0.230\n",
        "Model:                            GLS   Adj. R-squared:                  0.120\n",
        "Method:                 Least Squares   F-statistic:                     2.091\n",
        "Date:                Fri, 05 Dec 2014   Prob (F-statistic):              0.191\n",
        "Time:                        14:08:54   Log-Likelihood:                 61.288\n",
        "No. Observations:                   8   AIC:                            -120.6\n",
        "Df Residuals:                       7   BIC:                            -120.5\n",
        "Df Model:                           1                                         \n",
        "==============================================================================\n",
        "                 coef    std err          t      P>|t|      [95.0% Conf. Int.]\n",
        "------------------------------------------------------------------------------\n",
        "x1            -0.0021      0.001     -1.446      0.191        -0.006     0.001\n",
        "==============================================================================\n",
        "Omnibus:                       16.062   Durbin-Watson:                   0.607\n",
        "Prob(Omnibus):                  0.000   Jarque-Bera (JB):                6.114\n",
        "Skew:                          -1.885   Prob(JB):                       0.0470\n",
        "Kurtosis:                       5.032   Cond. No.                         1.00\n",
        "==============================================================================\n",
        "\"\"\""
       ]
      }
     ],
     "prompt_number": 87
    },
    {
     "cell_type": "code",
     "collapsed": false,
     "input": [],
     "language": "python",
     "metadata": {},
     "outputs": [],
     "prompt_number": 87
    },
    {
     "cell_type": "code",
     "collapsed": false,
     "input": [],
     "language": "python",
     "metadata": {},
     "outputs": []
    }
   ],
   "metadata": {}
  }
 ]
}