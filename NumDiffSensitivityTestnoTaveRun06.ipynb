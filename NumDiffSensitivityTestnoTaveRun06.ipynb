{
 "metadata": {
  "name": ""
 },
 "nbformat": 3,
 "nbformat_minor": 0,
 "worksheets": [
  {
   "cells": [
    {
     "cell_type": "markdown",
     "metadata": {},
     "source": [
      "Model sensitivity to different values of horizontal and vertical prescribed diffusivity coefficients."
     ]
    },
    {
     "cell_type": "markdown",
     "metadata": {},
     "source": [
      "Sensitivity to Explicit Diffusivity Coefficients\n",
      "============================\n",
      "\n",
      "This ipython notebook investigates the model sensitivity to different values of horizontal and vertical prescribed diffusivity coeffiecients. Experiment 360x360x90_BodyForcing_6tr_LinProfiles has upwelling body forcing and a horizontal gradient in the initial tracer concentration. Run03 explores values of horizontal diffusivity (1E-7 to 50) with fixed vertical diffusivity (1E-5). "
     ]
    },
    {
     "cell_type": "code",
     "collapsed": false,
     "input": [
      "#KRM\n",
      "import os\n",
      "\n",
      "import numpy as np\n",
      "\n",
      "import matplotlib.pyplot as plt\n",
      "\n",
      "from scipy.stats import nanmean\n",
      "\n",
      "from math import *\n",
      "\n",
      "%matplotlib inline\n",
      "\n",
      "import numpy as np\n",
      "\n",
      "import matplotlib.colors as mcolors\n",
      "\n",
      "from netCDF4 import Dataset\n",
      "\n",
      "import pylab as pl\n",
      "\n",
      "from decimal import getcontext, Decimal, Inexact\n",
      "\n",
      "import statsmodels.api as sm\n",
      "\n",
      "import pandas as pd"
     ],
     "language": "python",
     "metadata": {},
     "outputs": [],
     "prompt_number": 1
    },
    {
     "cell_type": "code",
     "collapsed": false,
     "input": [
      "#lib_path = os.path.abspath('../PythonModulesMITgcm') # Add absolute path to my python scripts\n",
      "#sys.path.append(lib_path)\n",
      "\n",
      "import NumDiffTools as dif"
     ],
     "language": "python",
     "metadata": {},
     "outputs": [],
     "prompt_number": 2
    },
    {
     "cell_type": "markdown",
     "metadata": {},
     "source": [
      "Important input parameters:\n",
      "------------------------"
     ]
    },
    {
     "cell_type": "code",
     "collapsed": false,
     "input": [
      "nx = 360  # number of x points in domain\n",
      "ny = 360  # number of y points in domain\n",
      "nz = 90  # number of z levels in domain\n",
      "nt = 21   # number of output files (n time) \n",
      "delt= 12*3600.0 # time interval between model output"
     ],
     "language": "python",
     "metadata": {},
     "outputs": [],
     "prompt_number": 3
    },
    {
     "cell_type": "markdown",
     "metadata": {},
     "source": [
      "Load output filenames:\n"
     ]
    },
    {
     "cell_type": "code",
     "collapsed": false,
     "input": [
      "### Load output filenames ###\n",
      "\n",
      "filename = '/ocean/kramosmu/MITgcm/CanyonUpwelling/360x360x90_BodyForcing_6Tr_LinProfiles/run03notave/mnc_0001/state.0000000000.glob.nc'\n",
      "StateOut = Dataset(filename)\n",
      "#for dimobj in StateOut.variables.values():\n",
      "#    print dimobj\n",
      "\n",
      "filename2 = '/ocean/kramosmu/MITgcm/CanyonUpwelling/360x360x90_BodyForcing_1Tr/run01/mnc_0001/grid.t001.nc'\n",
      "GridOut = Dataset(filename2)\n",
      "#for dimobj in GridOut.variables.values():\n",
      "  #  print dimobj\n",
      "\n",
      "filename3 = '/ocean/kramosmu/MITgcm/CanyonUpwelling/360x360x90_BodyForcing_6Tr_LinProfiles/run06notave/ptracers.0000000000.glob.nc'\n",
      "PtracersOut = Dataset(filename3)\n",
      "#for dimobj in PtracersOut.variables.values():\n",
      "#    print dimobj\n"
     ],
     "language": "python",
     "metadata": {},
     "outputs": [],
     "prompt_number": 4
    },
    {
     "cell_type": "markdown",
     "metadata": {},
     "source": [
      "Horizontal diffusivity sensitivity\n",
      "--------------------\n",
      "\n",
      "Let's calculate the horizontal and vertical diffusivity for each of the 2 tracers in run05notave."
     ]
    },
    {
     "cell_type": "code",
     "collapsed": false,
     "input": [
      "tracer1 = dif.getField(filename3,'Tr1')\n",
      "\n",
      "tracer1msk = np.ma.masked_values(tracer1, 0)\n",
      "\n",
      "MASK = np.ma.getmask(tracer1msk)\n",
      "   \n",
      "    \n",
      "tracer2 = dif.getField(filename3,'Tr2')\n",
      "\n",
      "tracer2msk = np.ma.masked_values(tracer2, 0)\n",
      "\n",
      "\n",
      "\n"
     ],
     "language": "python",
     "metadata": {},
     "outputs": [],
     "prompt_number": 5
    },
    {
     "cell_type": "markdown",
     "metadata": {},
     "source": [
      "\n",
      "Calculate the volume of the domain\n"
     ]
    },
    {
     "cell_type": "code",
     "collapsed": false,
     "input": [
      "DomVol = 0.0\n",
      "    \n",
      "hFacC = dif.getField(filename2,'HFacC')\n",
      "drF   = dif.getField(filename2,'drF')\n",
      "rAC   = dif.getField(filename2,'rA')\n",
      "    \n",
      "for jj in np.arange(ny):\n",
      "    for kk in np.arange(nz):\n",
      "      DomVol = DomVol + hFacC[kk,jj,:]*drF[kk]*rAC[jj,:]\n",
      "    #print DomVol\n",
      "  #print('\\n The total volume is %e m^3 \\n' %DomVolume)\n",
      "   \n",
      "DomVolume=sum(DomVol)\n",
      "print DomVolume    \n"
     ],
     "language": "python",
     "metadata": {},
     "outputs": [
      {
       "output_type": "stream",
       "stream": "stdout",
       "text": [
        "6.10285330795e+12\n"
       ]
      }
     ],
     "prompt_number": 6
    },
    {
     "cell_type": "markdown",
     "metadata": {},
     "source": [
      "Tracer 1\n"
     ]
    },
    {
     "cell_type": "code",
     "collapsed": false,
     "input": [
      "q2mean1 = dif.CalcVariance(nt, nz, ny, nx, DomVolume, hFacC, drF, rAC, tracer1)\n",
      "print('done')\n",
      "dqdt1 = dif.CalcTimeDer(q2mean1, nt, delt)\n",
      "print('done')\n",
      "qmeanDh1 = dif.CalcAvgHorGrad(filename2, nt,nz,ny,nx,tracer1,DomVolume,hFacC, drF, rAC)\n",
      "print('done')\n",
      "qmeanDz1=dif.CalcAvgVerGrad(filename2, nt,nz,ny,nx,tracer1,DomVolume,hFacC, drF, rAC)\n",
      "print('done')\n",
      "\n",
      "esth1=dif.FitDiffusivity(-qmeanDh1[1:len(qmeanDh1)-1],dqdt1[0:len(dqdt1)], delt)\n",
      "print(esth1.params)\n",
      "\n",
      "estv1=dif.FitDiffusivity(-qmeanDz1[1:len(qmeanDz1)-1],dqdt1[0:len(dqdt1)], delt)\n",
      "print(estv1.params)\n",
      "\n",
      "print esth1.summary()\n",
      "print estv1.summary()"
     ],
     "language": "python",
     "metadata": {},
     "outputs": [
      {
       "output_type": "stream",
       "stream": "stdout",
       "text": [
        "done\n",
        "done\n",
        "done"
       ]
      },
      {
       "output_type": "stream",
       "stream": "stdout",
       "text": [
        "\n",
        "done"
       ]
      },
      {
       "output_type": "stream",
       "stream": "stdout",
       "text": [
        "\n",
        "[ 0.91614013]\n",
        "[ 0.00018402]\n",
        "                            OLS Regression Results                            \n",
        "==============================================================================\n",
        "Dep. Variable:                      y   R-squared:                       0.880\n",
        "Model:                            OLS   Adj. R-squared:                  0.873\n",
        "Method:                 Least Squares   F-statistic:                     131.7\n",
        "Date:                Mon, 12 Jan 2015   Prob (F-statistic):           1.03e-09\n",
        "Time:                        13:54:39   Log-Likelihood:                 178.81\n",
        "No. Observations:                  19   AIC:                            -355.6\n",
        "Df Residuals:                      18   BIC:                            -354.7\n",
        "Df Model:                           1                                         \n",
        "==============================================================================\n",
        "                 coef    std err          t      P>|t|      [95.0% Conf. Int.]\n",
        "------------------------------------------------------------------------------\n",
        "x1             0.9161      0.080     11.475      0.000         0.748     1.084\n",
        "==============================================================================\n",
        "Omnibus:                        2.364   Durbin-Watson:                   0.041\n",
        "Prob(Omnibus):                  0.307   Jarque-Bera (JB):                1.913\n",
        "Skew:                           0.674   Prob(JB):                        0.384\n",
        "Kurtosis:                       2.224   Cond. No.                         1.00\n",
        "==============================================================================\n",
        "                            OLS Regression Results                            \n",
        "==============================================================================\n",
        "Dep. Variable:                      y   R-squared:                       0.967\n",
        "Model:                            OLS   Adj. R-squared:                  0.966\n",
        "Method:                 Least Squares   F-statistic:                     535.6\n",
        "Date:                Mon, 12 Jan 2015   Prob (F-statistic):           7.64e-15\n",
        "Time:                        13:54:39   Log-Likelihood:                 191.23\n",
        "No. Observations:                  19   AIC:                            -380.5\n",
        "Df Residuals:                      18   BIC:                            -379.5\n",
        "Df Model:                           1                                         \n",
        "==============================================================================\n",
        "                 coef    std err          t      P>|t|      [95.0% Conf. Int.]\n",
        "------------------------------------------------------------------------------\n",
        "x1             0.0002   7.95e-06     23.143      0.000         0.000     0.000\n",
        "==============================================================================\n",
        "Omnibus:                        2.915   Durbin-Watson:                   0.084\n",
        "Prob(Omnibus):                  0.233   Jarque-Bera (JB):                2.280\n",
        "Skew:                           0.819   Prob(JB):                        0.320\n",
        "Kurtosis:                       2.557   Cond. No.                         1.00\n",
        "==============================================================================\n"
       ]
      },
      {
       "output_type": "stream",
       "stream": "stderr",
       "text": [
        "/home/kramosmu/anaconda/lib/python2.7/site-packages/scipy/stats/stats.py:1276: UserWarning: kurtosistest only valid for n>=20 ... continuing anyway, n=19\n",
        "  int(n))\n"
       ]
      }
     ],
     "prompt_number": 7
    },
    {
     "cell_type": "markdown",
     "metadata": {},
     "source": [
      "Tracer 2"
     ]
    },
    {
     "cell_type": "code",
     "collapsed": false,
     "input": [
      "q2mean2 = dif.CalcVariance(nt, nz, ny, nx, DomVolume, hFacC, drF, rAC, tracer2)\n",
      "print('done')\n",
      "dqdt2 = dif.CalcTimeDer(q2mean2, nt, delt)\n",
      "print('done')\n",
      "qmeanDh2 = dif.CalcAvgHorGrad(filename2, nt,nz,ny,nx,tracer2,DomVolume,hFacC, drF, rAC)\n",
      "print('done')\n",
      "qmeanDz2=dif.CalcAvgVerGrad(filename2, nt,nz,ny,nx,tracer2,DomVolume,hFacC, drF, rAC)\n",
      "print('done')\n",
      "\n",
      "esth2=dif.FitDiffusivity(-qmeanDh2[1:len(qmeanDh2)-1],dqdt2[0:len(dqdt2)], delt)\n",
      "print(esth2.params)\n",
      "\n",
      "estv2=dif.FitDiffusivity(-qmeanDz2[1:len(qmeanDz2)-1],dqdt2[0:len(dqdt2)], delt)\n",
      "print(estv2.params)\n",
      "\n",
      "print esth2.summary()\n",
      "print estv2.summary()"
     ],
     "language": "python",
     "metadata": {},
     "outputs": [
      {
       "output_type": "stream",
       "stream": "stdout",
       "text": [
        "done\n",
        "done\n",
        "done"
       ]
      },
      {
       "output_type": "stream",
       "stream": "stdout",
       "text": [
        "\n",
        "done"
       ]
      },
      {
       "output_type": "stream",
       "stream": "stdout",
       "text": [
        "\n",
        "[ 0.99660439]\n",
        "[ 0.00019305]\n",
        "                            OLS Regression Results                            \n",
        "==============================================================================\n",
        "Dep. Variable:                      y   R-squared:                       0.892\n",
        "Model:                            OLS   Adj. R-squared:                  0.886\n",
        "Method:                 Least Squares   F-statistic:                     148.4\n",
        "Date:                Mon, 12 Jan 2015   Prob (F-statistic):           3.95e-10\n",
        "Time:                        14:41:36   Log-Likelihood:                 179.38\n",
        "No. Observations:                  19   AIC:                            -356.8\n",
        "Df Residuals:                      18   BIC:                            -355.8\n",
        "Df Model:                           1                                         \n",
        "==============================================================================\n",
        "                 coef    std err          t      P>|t|      [95.0% Conf. Int.]\n",
        "------------------------------------------------------------------------------\n",
        "x1             0.9966      0.082     12.183      0.000         0.825     1.168\n",
        "==============================================================================\n",
        "Omnibus:                        2.355   Durbin-Watson:                   0.043\n",
        "Prob(Omnibus):                  0.308   Jarque-Bera (JB):                1.914\n",
        "Skew:                           0.678   Prob(JB):                        0.384\n",
        "Kurtosis:                       2.241   Cond. No.                         1.00\n",
        "==============================================================================\n",
        "                            OLS Regression Results                            \n",
        "==============================================================================\n",
        "Dep. Variable:                      y   R-squared:                       0.957\n",
        "Model:                            OLS   Adj. R-squared:                  0.954\n",
        "Method:                 Least Squares   F-statistic:                     399.5\n",
        "Date:                Mon, 12 Jan 2015   Prob (F-statistic):           9.73e-14\n",
        "Time:                        14:41:36   Log-Likelihood:                 188.12\n",
        "No. Observations:                  19   AIC:                            -374.2\n",
        "Df Residuals:                      18   BIC:                            -373.3\n",
        "Df Model:                           1                                         \n",
        "==============================================================================\n",
        "                 coef    std err          t      P>|t|      [95.0% Conf. Int.]\n",
        "------------------------------------------------------------------------------\n",
        "x1             0.0002   9.66e-06     19.989      0.000         0.000     0.000\n",
        "==============================================================================\n",
        "Omnibus:                        2.551   Durbin-Watson:                   0.067\n",
        "Prob(Omnibus):                  0.279   Jarque-Bera (JB):                2.081\n",
        "Skew:                           0.731   Prob(JB):                        0.353\n",
        "Kurtosis:                       2.298   Cond. No.                         1.00\n",
        "==============================================================================\n"
       ]
      }
     ],
     "prompt_number": 8
    },
    {
     "cell_type": "markdown",
     "metadata": {},
     "source": [
      "Tracer 3"
     ]
    },
    {
     "cell_type": "code",
     "collapsed": false,
     "input": [],
     "language": "python",
     "metadata": {},
     "outputs": [],
     "prompt_number": 8
    },
    {
     "cell_type": "markdown",
     "metadata": {},
     "source": [
      "Tracer 4"
     ]
    },
    {
     "cell_type": "code",
     "collapsed": false,
     "input": [],
     "language": "python",
     "metadata": {},
     "outputs": [],
     "prompt_number": 8
    },
    {
     "cell_type": "markdown",
     "metadata": {},
     "source": [
      "Tracer 5"
     ]
    },
    {
     "cell_type": "code",
     "collapsed": false,
     "input": [],
     "language": "python",
     "metadata": {},
     "outputs": [],
     "prompt_number": 8
    },
    {
     "cell_type": "markdown",
     "metadata": {},
     "source": [
      "Tracer 6"
     ]
    },
    {
     "cell_type": "code",
     "collapsed": false,
     "input": [],
     "language": "python",
     "metadata": {},
     "outputs": [],
     "prompt_number": 8
    },
    {
     "cell_type": "markdown",
     "metadata": {},
     "source": [
      "Tracer variance plots:\n",
      "--------------------"
     ]
    },
    {
     "cell_type": "code",
     "collapsed": false,
     "input": [
      "kh1=esth1.params\n",
      "kv1=estv1.params\n",
      "\n",
      "kh2=esth2.params\n",
      "kv2=estv2.params\n",
      "\n",
      "\n",
      "\n",
      "\n",
      "fig1=plt.figure(figsize=(21,3))\n",
      "\n",
      "plt.subplot(1,3,1)\n",
      "ax=plt.gca()\n",
      "\n",
      "\n",
      "plt.plot(qmeanDh1[1:len(qmeanDh1)-1],dqdt1)\n",
      "plt.plot(qmeanDh2[1:len(qmeanDh2)-1],dqdt2)\n",
      "\n",
      "\n",
      "plt.xlabel('$<|\\partial_{h}q|^2>$')\n",
      "\n",
      "plt.ylabel('$\\partial{<q^2>}/\\partial{t}$')\n",
      "    \n",
      "\n",
      "plt.subplot(1,3,2)\n",
      "ax=plt.gca()\n",
      "\n",
      "plt.plot(qmeanDz1[1:len(qmeanDz1)-1],dqdt1)\n",
      "plt.plot(qmeanDz2[1:len(qmeanDz2)-1],dqdt2)\n",
      "\n",
      "\n",
      "\n",
      "plt.xlabel('$<\\partial{q^2}/\\partial{z}>$')\n",
      "\n",
      "plt.ylabel('$\\partial{<q^2>}/\\partial{t}$')\n",
      "\n",
      "plt.subplot(1,3,3)\n",
      "ax=plt.gca()\n",
      "\n",
      "\n",
      "plt.plot(np.arange(0,nt,1),q2mean1)\n",
      "plt.plot(np.arange(0,nt,1),q2mean2)\n",
      "\n",
      "plt.xlabel('hours')\n",
      "\n",
      "plt.ylabel('$<q^2>$')\n",
      "\n",
      "plt.tight_layout()"
     ],
     "language": "python",
     "metadata": {},
     "outputs": [
      {
       "metadata": {},
       "output_type": "display_data",
       "png": "[encoded data removed]",
       "text": [
        "<matplotlib.figure.Figure at 0x4f89c50>"
       ]
      }
     ],
     "prompt_number": 9
    },
    {
     "cell_type": "markdown",
     "metadata": {},
     "source": [
      "Numerical diffusivities as a function of prescribed vertical diffusivity"
     ]
    },
    {
     "cell_type": "code",
     "collapsed": false,
     "input": [
      "\n"
     ],
     "language": "python",
     "metadata": {},
     "outputs": [],
     "prompt_number": 9
    },
    {
     "cell_type": "code",
     "collapsed": false,
     "input": [],
     "language": "python",
     "metadata": {},
     "outputs": [],
     "prompt_number": 16
    },
    {
     "cell_type": "code",
     "collapsed": false,
     "input": [
      "\n"
     ],
     "language": "python",
     "metadata": {},
     "outputs": [],
     "prompt_number": 16
    },
    {
     "cell_type": "code",
     "collapsed": false,
     "input": [],
     "language": "python",
     "metadata": {},
     "outputs": [],
     "prompt_number": 16
    },
    {
     "cell_type": "code",
     "collapsed": false,
     "input": [],
     "language": "python",
     "metadata": {},
     "outputs": [],
     "prompt_number": 16
    }
   ],
   "metadata": {}
  }
 ]
}