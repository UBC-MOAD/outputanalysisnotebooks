{
 "cells": [
  {
   "cell_type": "code",
   "execution_count": 1,
   "metadata": {
    "collapsed": true
   },
   "outputs": [],
   "source": [
    "#KRM\n",
    "\n",
    "import numpy as np\n",
    "\n",
    "import matplotlib.pyplot as plt\n",
    "\n",
    "import matplotlib.colors as mcolors\n",
    "\n",
    "import matplotlib.cm as cm\n",
    "\n",
    "from math import *\n",
    "\n",
    "from MITgcmutils import rdmds\n",
    "\n",
    "from mpl_toolkits.mplot3d.axes3d import Axes3D\n",
    "\n",
    "import scipy.io\n",
    "\n",
    "import scipy as spy\n",
    "\n",
    "%matplotlib inline\n",
    "\n",
    "from netCDF4 import Dataset\n",
    "\n",
    "import pylab as pl\n",
    "\n",
    "import os \n",
    "\n",
    "import sys\n",
    "\n",
    "import seaborn as sns\n",
    "\n"
   ]
  },
  {
   "cell_type": "code",
   "execution_count": 2,
   "metadata": {
    "collapsed": false
   },
   "outputs": [],
   "source": [
    "lib_path = os.path.abspath('../../Building_canyon/BuildCanyon/PythonModulesMITgcm') # Add absolute path to my python scripts\n",
    "sys.path.append(lib_path)\n",
    "\n",
    "import ReadOutTools_MITgcm as rout \n",
    "import MetricsPythonTools as mpt\n",
    "\n",
    "#lib_path = os.path.abspath('/Users/anakarinarm/SubmarineCanyonsResearch/PythonModulesMITgcm') # Add absolute path to my python scripts\n",
    "\n",
    "#sys.path.append(lib_path)\n",
    "\n",
    "#import ReadOutTools_MITgcm as rout \n"
   ]
  },
  {
   "cell_type": "code",
   "execution_count": 3,
   "metadata": {
    "collapsed": true
   },
   "outputs": [],
   "source": [
    "sns.set()\n",
    "sns.set_style('white')\n",
    "sns.set_context('talk')"
   ]
  },
  {
   "cell_type": "code",
   "execution_count": 4,
   "metadata": {
    "collapsed": false
   },
   "outputs": [],
   "source": [
    "#Base case, iso =1 , No 3d diff.\n",
    "#CanyonGrid='/ocean/kramosmu/MITgcm/TracerExperiments/CNTDIFF/run03/gridGlob.nc'\n",
    "CanyonGrid='/ocean/kramosmu/MITgcm/TracerExperiments/3DDIFF/run07/gridGlob.nc'\n",
    "CanyonGridOut = Dataset(CanyonGrid)\n",
    "\n",
    "CanyonState='/ocean/kramosmu/MITgcm/TracerExperiments/3DDIFF/run07/stateGlob.nc'\n",
    "CanyonStateOut = Dataset(CanyonState)\n",
    "\n",
    "Ptracer3D='/ocean/kramosmu/MITgcm/TracerExperiments/3DDIFF/run07/ptracersGlob.nc'\n",
    "PtracerOut3D = Dataset(Ptracer3D)\n",
    "\n"
   ]
  },
  {
   "cell_type": "code",
   "execution_count": 5,
   "metadata": {
    "collapsed": false
   },
   "outputs": [],
   "source": [
    "nx = 360\n",
    "ny = 360\n",
    "nz = 90\n",
    "nt = 19 # t dimension size \n",
    "\n",
    "xc = rout.getField(CanyonGrid, 'XC') # x coords tracer cells\n",
    "yc = rout.getField(CanyonGrid, 'YC') # y coords tracer cells\n",
    "rc = CanyonGridOut.variables['RC']\n",
    "bathy = rout.getField(CanyonGrid, 'Depth')\n",
    "\n",
    "hFacC = rout.getField(CanyonGrid, 'HFacC')\n",
    "MaskC = rout.getMask(CanyonGrid, 'HFacC')\n",
    "\n",
    "z = CanyonStateOut.variables['Z']\n",
    "\n"
   ]
  },
  {
   "cell_type": "code",
   "execution_count": 6,
   "metadata": {
    "collapsed": false
   },
   "outputs": [],
   "source": [
    "Tr1 = rout.getField(Ptracer3D,'Tr1') # \n"
   ]
  },
  {
   "cell_type": "markdown",
   "metadata": {
    "collapsed": false
   },
   "source": [
    "## Isopycnal surfaces"
   ]
  },
  {
   "cell_type": "code",
   "execution_count": 7,
   "metadata": {
    "collapsed": false
   },
   "outputs": [],
   "source": [
    "phiHyd = '/ocean/kramosmu/MITgcm/TracerExperiments/3DDIFF/run07/phiHydGlob.nc'\n",
    "pout = Dataset(phiHyd)\n",
    "\n",
    "Temp = rout.getField(CanyonState,'Temp')\n",
    "S = rout.getField(CanyonState,'S')\n",
    "\n",
    "phiHydOut = Dataset(phiHyd)\n",
    "P = phiHydOut.variables['phiHyd']\n",
    "#P = rout.getField(phiHyd,'phiHyd')\n"
   ]
  },
  {
   "cell_type": "code",
   "execution_count": 8,
   "metadata": {
    "collapsed": false
   },
   "outputs": [
    {
     "name": "stderr",
     "output_type": "stream",
     "text": [
      "/ocean/kramosmu/MITgcm/TracerExperiments/BARKLEY/run02/RhoRef.meta\n"
     ]
    }
   ],
   "source": [
    "RhoRef = np.squeeze(rdmds('/ocean/kramosmu/MITgcm/TracerExperiments/BARKLEY/run02/RhoRef'))\n",
    "\n",
    "depth = bathy\n",
    "\n",
    "nzlim = 30\n",
    "\n",
    "g = 9.81 # ms^-2\n",
    "\n",
    "maskExp = mpt.maskExpand(MaskC,Tr1)\n",
    "\n",
    "TempMask=np.ma.array(Temp,mask=maskExp)   \n",
    "SMask=np.ma.array(S,mask=maskExp)   \n"
   ]
  },
  {
   "cell_type": "code",
   "execution_count": 9,
   "metadata": {
    "collapsed": false
   },
   "outputs": [],
   "source": [
    "# Calculate density and N\n",
    "\n",
    "alpha = 1.7E-4/237 # 1/degC\n",
    "beta = 7.6E-4\n",
    "\n",
    "#Linear eq. of state \n",
    "rho = RhoRef[30]*(np.ones(np.shape(TempMask[:,:50,:,:])) - alpha*(TempMask[:,:50,:,:]) + beta*(SMask[:,:50,:,:]))\n"
   ]
  },
  {
   "cell_type": "code",
   "execution_count": null,
   "metadata": {
    "collapsed": false
   },
   "outputs": [
    {
     "data": {
      "text/plain": [
       "1024.3581422513255"
      ]
     },
     "execution_count": 10,
     "metadata": {},
     "output_type": "execute_result"
    }
   ],
   "source": [
    "# Find max density on shelf\n",
    "maxRho = np.max (rho[:,:30,227,:])\n",
    "maxRho"
   ]
  },
  {
   "cell_type": "code",
   "execution_count": null,
   "metadata": {
    "collapsed": false
   },
   "outputs": [],
   "source": []
  },
  {
   "cell_type": "code",
   "execution_count": null,
   "metadata": {
    "collapsed": false
   },
   "outputs": [],
   "source": [
    "densDepths = np.empty((19,360,360))\n",
    "    \n",
    "for tt in range(18):\n",
    "    DensInd = np.argmax(rho[tt,:,:,:]>=maxRho,axis=0) \n",
    "    for i in range(360):\n",
    "        for j in range(360):\n",
    "            densDepths[tt,i,j] = z[DensInd[i,j]]\n",
    "\n",
    "print(np.shape(densDepths))\n",
    "DensDepthsMasked = np.ma.masked_values(densDepths,-2.5)\n",
    "densDepths[np.where(np.ma.getmask(DensDepthsMasked)==True)] = np.nan\n",
    "\n",
    "    \n"
   ]
  },
  {
   "cell_type": "code",
   "execution_count": null,
   "metadata": {
    "collapsed": false
   },
   "outputs": [],
   "source": []
  },
  {
   "cell_type": "code",
   "execution_count": null,
   "metadata": {
    "collapsed": false
   },
   "outputs": [],
   "source": [
    "plt.rcParams['contour.negative_linestyle'] = 'solid' # default is to have negative contours with dashed lines\n",
    "plt.rcParams.update({'font.size':20})\n",
    "\n",
    "\n",
    "for tt in range(18):\n",
    "    fig,((ax1)) = plt.subplots(1, 1, figsize=(12,4 ))\n",
    "\n",
    "    iso = ax1.contourf(xc[160:-75,:]/1000.0,yc[160:-75,:]/1000.0,densDepths[tt,160:-75,:],20,cmap='rainbow',vmin=-200,vmax=-80)\n",
    "    cb = fig.colorbar(iso, shrink=1,ax=ax1)\n",
    "\n",
    "    cb.set_label('m')\n",
    "    cset = ax1.contour(xc[160:-75,:]/1000.0,yc[160:-75,:]/1000.0,-bathy[160:-75,:],[-300,-200, rc[30],-125,-100,-75,-50],colors=['0.50','0.50','k','0.50','0.50','0.50','0.50'],linewidth=1, rstride=2, cstride=2,zdir='z')\n",
    "\n",
    "    ax1.set_aspect('auto')\n",
    "    plt.title('3D Run07 - depth of %1.2f $kg/m^3$ isopycnal at day %0.1f ' %( maxRho,tt/2.0))\n",
    "    plt.ylabel('Across-shore distance (km)')\n",
    "    plt.xlabel('Alongshore distance (km)')\n",
    "    \n",
    "      \n",
    "    plt.show()\n",
    "\n",
    "#fig.save"
   ]
  },
  {
   "cell_type": "markdown",
   "metadata": {},
   "source": [
    "From this plots, the depth of upwelling (difference in depths of the deepest isopycnal that can be found on the shelf) is 90 m."
   ]
  },
  {
   "cell_type": "code",
   "execution_count": null,
   "metadata": {
    "collapsed": false
   },
   "outputs": [],
   "source": [
    "maxRho = 1024.0\n",
    "densDepths = np.empty((19,360,360))\n",
    "    \n",
    "for tt in range(18):\n",
    "    DensInd = np.argmax(rho[tt,:,:,:]>=maxRho,axis=0) \n",
    "    for i in range(360):\n",
    "        for j in range(360):\n",
    "            densDepths[tt,i,j] = z[DensInd[i,j]]\n",
    "\n",
    "print(np.shape(densDepths))\n",
    "DensDepthsMasked = np.ma.masked_values(densDepths,-2.5)\n",
    "densDepths[np.where(np.ma.getmask(DensDepthsMasked)==True)] = np.nan\n",
    "\n"
   ]
  },
  {
   "cell_type": "code",
   "execution_count": null,
   "metadata": {
    "collapsed": true
   },
   "outputs": [],
   "source": [
    "plt.rcParams['contour.negative_linestyle'] = 'solid' # default is to have negative contours with dashed lines\n",
    "plt.rcParams.update({'font.size':20})\n",
    "\n",
    "for tt in range(18):\n",
    "    fig,((ax1)) = plt.subplots(1, 1, figsize=(12,4 ))\n",
    "\n",
    "    iso = ax1.contourf(xc[160:-75,:]/1000.0,yc[160:-75,:]/1000.0,densDepths[tt,160:-75,:],20,cmap='rainbow',vmin=-200,vmax=-80)\n",
    "    cb = fig.colorbar(iso, shrink=1,ax=ax1)\n",
    "\n",
    "    cb.set_label('m')\n",
    "    cset = ax1.contour(xc[160:-75,:]/1000.0,yc[160:-75,:]/1000.0,-bathy[160:-75,:],[-300,-200, rc[30],-125,-100,-75,-50],colors=['0.50','0.50','k','0.50','0.50','0.50','0.50'],linewidth=1, rstride=2, cstride=2,zdir='z')\n",
    "\n",
    "    ax1.set_aspect('auto')\n",
    "    plt.title('3D Run07 - depth of %1.2f $kg/m^3$ isopycnal at day %0.1f ' %( maxRho,tt/2.0))\n",
    "    plt.ylabel('Across-shore distance (km)')\n",
    "    plt.xlabel('Alongshore distance (km)')\n",
    "    \n",
    "      \n",
    "    plt.show()\n",
    "\n",
    "#fig.save"
   ]
  }
 ],
 "metadata": {
  "kernelspec": {
   "display_name": "Python 2",
   "language": "python",
   "name": "python2"
  },
  "language_info": {
   "codemirror_mode": {
    "name": "ipython",
    "version": 2
   },
   "file_extension": ".py",
   "mimetype": "text/x-python",
   "name": "python",
   "nbconvert_exporter": "python",
   "pygments_lexer": "ipython2",
   "version": "2.7.11"
  }
 },
 "nbformat": 4,
 "nbformat_minor": 0
}
