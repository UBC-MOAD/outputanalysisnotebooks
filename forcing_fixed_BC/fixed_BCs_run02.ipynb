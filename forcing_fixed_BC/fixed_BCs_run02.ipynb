{
 "cells": [
  {
   "cell_type": "markdown",
   "metadata": {},
   "source": [
    "## Fixed boundaries - run02"
   ]
  },
  {
   "cell_type": "markdown",
   "metadata": {},
   "source": [
    "This run has fixed boundary conditions u,v and initial T, S, Tr fields from run42 .The fields were the same cross section taken at day 3. This run is a test case to set up a longer run in Bugaboo."
   ]
  },
  {
   "cell_type": "code",
   "execution_count": 1,
   "metadata": {
    "collapsed": true
   },
   "outputs": [],
   "source": [
    "from math import *\n",
    "import matplotlib.pyplot as plt\n",
    "%matplotlib inline\n",
    "import os\n",
    "from netCDF4 import Dataset\n",
    "import numpy as np\n",
    "import pandas as pd\n",
    "import seaborn as sns\n",
    "import struct\n",
    "import xarray as xr"
   ]
  },
  {
   "cell_type": "code",
   "execution_count": null,
   "metadata": {
    "collapsed": true
   },
   "outputs": [],
   "source": [
    "grid_file = '/ocean/kramosmu/MITgcm_BugabooTests/MITgcm/EW_OBCS/run02/'\n",
    "state_file = '/ocean/kramosmu/MITgcm_BugabooTests/MITgcm/EW_OBCS/run02/'\n",
    "ptracers_file = '/ocean/kramosmu/MITgcm_BugabooTests/MITgcm/EW_OBCS/run02/'\n",
    "\n",
    "grid = xr.open_dataset(grid_file)\n",
    "state = xr.open_dataset(state_file)\n",
    "ptracers = xr.open_dataset(ptracers_file)"
   ]
  },
  {
   "cell_type": "code",
   "execution_count": null,
   "metadata": {
    "collapsed": true
   },
   "outputs": [],
   "source": [
    "u_0 = state.U.isel(Xp1=120, T=0)\n",
    "v_0 = state.V.isel(X=120, T=0)\n",
    "\n"
   ]
  }
 ],
 "metadata": {
  "kernelspec": {
   "display_name": "Python 2",
   "language": "python",
   "name": "python2"
  },
  "language_info": {
   "codemirror_mode": {
    "name": "ipython",
    "version": 2
   },
   "file_extension": ".py",
   "mimetype": "text/x-python",
   "name": "python",
   "nbconvert_exporter": "python",
   "pygments_lexer": "ipython2",
   "version": "2.7.12"
  }
 },
 "nbformat": 4,
 "nbformat_minor": 0
}
