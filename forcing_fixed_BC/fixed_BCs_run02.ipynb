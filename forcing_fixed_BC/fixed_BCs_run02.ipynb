{
 "cells": [
  {
   "cell_type": "markdown",
   "metadata": {},
   "source": [
    "## Fixed boundaries - run02"
   ]
  },
  {
   "cell_type": "markdown",
   "metadata": {},
   "source": [
    "This run has fixed boundary conditions u,v and initial T, S, Tr fields from run42 .The fields were the same cross section taken at day 3. This run is a test case to set up a longer run in Bugaboo."
   ]
  },
  {
   "cell_type": "code",
   "execution_count": 1,
   "metadata": {
    "collapsed": true
   },
   "outputs": [],
   "source": [
    "from math import *\n",
    "import matplotlib.pyplot as plt\n",
    "%matplotlib inline\n",
    "import os\n",
    "from netCDF4 import Dataset\n",
    "import numpy as np\n",
    "import pandas as pd\n",
    "import seaborn as sns\n",
    "import struct\n",
    "import xarray as xr"
   ]
  },
  {
   "cell_type": "code",
   "execution_count": null,
   "metadata": {
    "collapsed": true
   },
   "outputs": [],
   "source": [
    "grid_file = '/ocean/kramosmu/MITgcm_BugabooTests/MITgcm/EW_OBCS/run02/mnc_001/'\n",
    "state_file = '/ocean/kramosmu/MITgcm_BugabooTests/MITgcm/EW_OBCS/run02/mnc_001/'\n",
    "ptracers_file = '/ocean/kramosmu/MITgcm_BugabooTests/MITgcm/EW_OBCS/run02/mnc_001/'\n",
    "\n",
    "grid = xr.open_dataset(grid_file)\n",
    "state = xr.open_dataset(state_file)\n",
    "ptracers = xr.open_dataset(ptracers_file)"
   ]
  },
  {
   "cell_type": "markdown",
   "metadata": {
    "collapsed": true
   },
   "source": [
    "## Let's see what did the model read\n"
   ]
  },
  {
   "cell_type": "code",
   "execution_count": null,
   "metadata": {
    "collapsed": true
   },
   "outputs": [],
   "source": [
    "u_0 = state.U.isel(Xp1=120, T=0)\n",
    "v_0 = state.V.isel(X=120, T=0)\n",
    "\n",
    "u_bdy = state.U.isel(Xp1=0, T=0)\n",
    "v_bdy = state.V.isel(X=0, T=0)\n",
    "\n",
    "Temp_0 = state.Temp.isel(X=120, T=0)\n",
    "S_0 = state.S.isel(X=120, T=0)\n",
    "Tr_0 = ptracers.Tr1.isel(X=120, T=0)"
   ]
  },
  {
   "cell_type": "code",
   "execution_count": null,
   "metadata": {
    "collapsed": true
   },
   "outputs": [],
   "source": [
    "sns.set_context('talk')\n",
    "fig,ax = plt.subplots(1,2,figsize=(18,6), sharey = True)\n",
    "\n",
    "cf1 = ax[0].contourf(grid.Y/1000,grid.RC,u_0,20, cmap = 'rainbow')\n",
    "plt.colorbar(cf1,ax = ax[0])\n",
    "ax[0].set_title('Initial U at xi=120')\n",
    "ax[0].set_xlabel('CS distance (m)')\n",
    "\n",
    "cf2 = ax[1].contourf(grid.Yp1/1000,grid.RC,v_0,20, cmap = 'rainbow')\n",
    "plt.colorbar(cf2,ax = ax[1])\n",
    "ax[1].set_title('initial V at xi =120')\n",
    "ax[1].set_xlabel('CS distance (m)')\n"
   ]
  },
  {
   "cell_type": "code",
   "execution_count": null,
   "metadata": {
    "collapsed": true
   },
   "outputs": [],
   "source": [
    "sns.set_context('talk')\n",
    "fig,ax = plt.subplots(1,2,figsize=(18,6), sharey = True)\n",
    "\n",
    "cf1 = ax[0].contourf(grid.Y/1000,grid.RC,u_bdy,20, cmap = 'rainbow')\n",
    "plt.colorbar(cf1,ax = ax[0])\n",
    "ax[0].set_title('Initial U - W bdy')\n",
    "ax[0].set_xlabel('CS distance (m)')\n",
    "\n",
    "cf2 = ax[1].contourf(grid.Yp1/1000,grid.RC,v_bdy,20, cmap = 'rainbow')\n",
    "plt.colorbar(cf2,ax = ax[1])\n",
    "ax[1].set_title('initial V - W bdy')\n",
    "ax[1].set_xlabel('CS distance (m)')\n"
   ]
  },
  {
   "cell_type": "code",
   "execution_count": null,
   "metadata": {
    "collapsed": true
   },
   "outputs": [],
   "source": [
    "sns.set_context('talk')\n",
    "fig,ax = plt.subplots(1,3,figsize=(18,6), sharey = True)\n",
    "\n",
    "cf1 = ax[0].contourf(grid.Y/1000,grid.RC,Temp_0,20, cmap = 'viridis')\n",
    "plt.colorbar(cf1,ax = ax[0])\n",
    "ax[0].set_title('Initial temp at xi=120')\n",
    "ax[0].set_xlabel('CS distance (m)')\n",
    "\n",
    "pl1 = ax[1].plot(S_0[:,50],grid.RC)\n",
    "ax[1].set_title('Initial salinity profile at xi=120, yi=50')\n",
    "ax[1].set_xlabel('Salinity')\n",
    "\n",
    "cf3 = ax[2].contourf(grid.Y/1000,grid.RC,Tr_0,20, cmap = 'viridis')\n",
    "plt.colorbar(cf3,ax = ax[2])\n",
    "ax[2].set_title('Initial tracer conc. at xi=120')\n",
    "ax[2].set_xlabel('CS distance (m)')\n",
    "\n"
   ]
  },
  {
   "cell_type": "code",
   "execution_count": null,
   "metadata": {
    "collapsed": true
   },
   "outputs": [],
   "source": []
  }
 ],
 "metadata": {
  "anaconda-cloud": {},
  "kernelspec": {
   "display_name": "Python [mypython3]",
   "language": "python",
   "name": "Python [mypython3]"
  },
  "language_info": {
   "codemirror_mode": {
    "name": "ipython",
    "version": 3
   },
   "file_extension": ".py",
   "mimetype": "text/x-python",
   "name": "python",
   "nbconvert_exporter": "python",
   "pygments_lexer": "ipython3",
   "version": "3.5.2"
  }
 },
 "nbformat": 4,
 "nbformat_minor": 0
}
