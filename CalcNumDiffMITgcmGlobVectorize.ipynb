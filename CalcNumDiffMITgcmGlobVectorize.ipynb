{
 "cells": [
  {
   "cell_type": "markdown",
   "metadata": {},
   "source": [
    "Calculate Numerical Diffusivity\n",
    "============================\n",
    "\n",
    "(For global files, output glued from miltiprocessor runs)\n",
    "\n",
    "This ipython notebook calculates the numerical diffusivity experienced by a tracer, associated to a specific configuration of the MITgcm. In particular, it was developed to calculate the equivalent diffusivity $\\kappa$, defined (here) as $\\kappa = \\kappa_{pres}+\\kappa_{num}$, where $\\kappa_{pres}$ \n",
    "is the prescibed or explicit tracer diffusivity one imposes on the model and $k_{num}$ is the additional diffusivity due to numerical truncation errors. Note that there are two $\\kappa_{pres}$ and therefore two $\\kappa$, one for the horizontal dimensions and one for the vertical one.\n",
    "\n",
    "These calculations try to reproduce the method used by [1] Abernathy et al. 2010, [2] Hill et al. 2011, and [3] Leibensperger and Plumb, 2013 to determine the numerical diffusivity MITgcm Southern Ocean configurations [1,2] and a baroclinic flow simulation simulation [3].\n",
    "\n",
    "The method goes as follows:\n",
    "\n",
    "From the evolution equation for the variance of the tracer concentration in the model output\n",
    "\n",
    "\\begin{equation}\n",
    "\\frac{1}{2}\\frac{\\partial{\\overline{q^{2}}}}{\\partial{t}}=-\\kappa_{h} \\overline{|\\nabla_h q|^2}-\\kappa_{v} \\overline{(\\frac{\\partial{q}}{\\partial {z}})^{2}}\n",
    "\\end{equation}\n",
    "\n",
    "one can fit by a least squares regression, suitable values of $\\kappa_h$ and $\\kappa_v$ that satisfy the equation."
   ]
  },
  {
   "cell_type": "code",
   "execution_count": 1,
   "metadata": {
    "collapsed": false
   },
   "outputs": [],
   "source": [
    "#KRM\n",
    "import os\n",
    "\n",
    "import numpy as np\n",
    "\n",
    "import matplotlib.pyplot as plt\n",
    "\n",
    "from scipy.stats import nanmean\n",
    "\n",
    "from math import *\n",
    "\n",
    "%matplotlib inline\n",
    "\n",
    "import numpy as np\n",
    "\n",
    "import matplotlib.colors as mcolors\n",
    "\n",
    "from netCDF4 import Dataset\n",
    "\n",
    "import pylab as pl\n",
    "\n",
    "from decimal import getcontext, Decimal, Inexact"
   ]
  },
  {
   "cell_type": "code",
   "execution_count": 2,
   "metadata": {
    "collapsed": false
   },
   "outputs": [],
   "source": [
    "#'''\n",
    "#NAME\n",
    "#    Custom Colormaps for Matplotlib\n",
    "#PURPOSE\n",
    "#    This program shows how to implement make_cmap which is a function that\n",
    "#    generates a colorbar.  If you want to look at different color schemes,\n",
    "#    check out https://kuler.adobe.com/create.\n",
    "#PROGRAMMER(S)\n",
    "#    Chris Slocum\n",
    "#REVISION HISTORY\n",
    "#    20130411 -- Initial version created\n",
    "#    20140313 -- Small changes made and code posted online\n",
    "#    20140320 -- Added the ability to set the position of each color\n",
    "#'''\n",
    "\n",
    "def make_cmap(colors, position=None, bit=False):\n",
    "    #'''\n",
    "    #make_cmap takes a list of tuples which contain RGB values. The RGB\n",
    "    #values may either be in 8-bit [0 to 255] (in which bit must be set to\n",
    "    #rue when called) or arithmetic [0 to 1] (default). make_cmap returns\n",
    "    #a cmap with equally spaced colors.\n",
    "    #Arrange your tuples so that the first color is the lowest value for the\n",
    "    #colorbar and the last is the highest.\n",
    "    #position contains values from 0 to 1 to dictate the location of each color.\n",
    "    #'''\n",
    "    import matplotlib as mpl\n",
    "    import numpy as np\n",
    "    bit_rgb = np.linspace(0,1,256)\n",
    "    if position == None:\n",
    "        position = np.linspace(0,1,len(colors))\n",
    "    else:\n",
    "        if len(position) != len(colors):\n",
    "            sys.exit(\"position length must be the same as colors\")\n",
    "        elif position[0] != 0 or position[-1] != 1:\n",
    "            sys.exit(\"position must start with 0 and end with 1\")\n",
    "    if bit:\n",
    "        for i in range(len(colors)):\n",
    "            colors[i] = (bit_rgb[colors[i][0]],\n",
    "                         bit_rgb[colors[i][1]],\n",
    "                         bit_rgb[colors[i][2]])\n",
    "    cdict = {'red':[], 'green':[], 'blue':[]}\n",
    "    for pos, color in zip(position, colors):\n",
    "        cdict['red'].append((pos, color[0], color[0]))\n",
    "        cdict['green'].append((pos, color[1], color[1]))\n",
    "        cdict['blue'].append((pos, color[2], color[2]))\n",
    "\n",
    "    cmap = mpl.colors.LinearSegmentedColormap('my_colormap',cdict,256)\n",
    "    return cmap"
   ]
  },
  {
   "cell_type": "code",
   "execution_count": 3,
   "metadata": {
    "collapsed": false
   },
   "outputs": [],
   "source": [
    "# Get field from MITgcm netCDF output\n",
    "#\n",
    "# statefile : string with /path/to/state.0000000000.t001.nc\n",
    "# fieldname : string with the variable name as written on the netCDF file ('Temp', 'S','Eta', etc.)\n",
    "#\n",
    "def getField(statefile, fieldname):\n",
    "    \n",
    "    StateOut = Dataset(statefile)\n",
    "    \n",
    "    Fld = StateOut.variables[fieldname][:]\n",
    "    \n",
    "    shFld = np.shape(Fld)\n",
    "    \n",
    "    if len(shFld) == 1:\n",
    "        \n",
    "        return Fld\n",
    "    \n",
    "    if len(shFld) == 2:\n",
    "        \n",
    "        Fld2 = np.reshape(Fld,(shFld[0],shFld[1])) # reshape to pcolor order\n",
    "        return Fld2 \n",
    "    \n",
    "    elif len(shFld) == 3:\n",
    "        \n",
    "        Fld2 = np.zeros((shFld[0],shFld[1],shFld[2])) \n",
    "        Fld2 = np.reshape(Fld,(shFld[0],shFld[1],shFld[2])) # reshape to pcolor order\n",
    "        return Fld2 \n",
    "        \n",
    "    elif len(shFld) == 4:\n",
    "        \n",
    "        Fld2 = np.zeros((shFld[0],shFld[1],shFld[2],shFld[3])) \n",
    "        Fld2 = np.reshape(Fld,(shFld[0],shFld[1],shFld[2],shFld[3])) # reshape to pcolor order\n",
    "        return Fld2\n",
    "        \n",
    "    else:\n",
    "        \n",
    "        print (' Check size of field ')\n",
    "    \n",
    "    \n"
   ]
  },
  {
   "cell_type": "code",
   "execution_count": 4,
   "metadata": {
    "collapsed": false
   },
   "outputs": [],
   "source": [
    "\n",
    "def dsum(iterable):\n",
    "    \n",
    "    \"Full precision summation using Decimal objects for intermediate values\"\n",
    "    # Transform (exactly) a float to m * 2 ** e where m and e are integers.\n",
    "    # Convert (mant, exp) to a Decimal and add to the cumulative sum.\n",
    "    # If the precision is too small for exact conversion and addition,\n",
    "    # then retry with a larger precision.\n",
    "    from decimal import getcontext, Decimal, Inexact\n",
    "    getcontext().traps[Inexact] = True\n",
    "\n",
    "    total = Decimal(0)\n",
    "    for x in iterable:\n",
    "        mant, exp = frexp(x)\n",
    "        mant, exp = int(mant * 2.0 ** 53), exp-53\n",
    "        while True:\n",
    "            try:\n",
    "                total += mant * Decimal(2) ** exp\n",
    "                break\n",
    "            except Inexact:\n",
    "                getcontext().prec += 1\n",
    "    return float(total)\n"
   ]
  },
  {
   "cell_type": "markdown",
   "metadata": {},
   "source": [
    "Important input parameters:\n",
    "------------------------"
   ]
  },
  {
   "cell_type": "code",
   "execution_count": 5,
   "metadata": {
    "collapsed": false
   },
   "outputs": [],
   "source": [
    "#nx = 120  # number of x points in domain\n",
    "#ny = 90  # number of y points in domain\n",
    "#nz = 35   # number of z levels in domain\n",
    "#nt = 10   # number of output files (n time) \n",
    "\n",
    "nx = 360  # number of x points in domain\n",
    "ny = 360  # number of y points in domain\n",
    "nz = 35   # number of z levels in domain\n",
    "nt = 10  # number of output files (n time) \n",
    "delt= 12*3600.0 # time interval between model output"
   ]
  },
  {
   "cell_type": "markdown",
   "metadata": {},
   "source": [
    "Load output filenames:\n"
   ]
  },
  {
   "cell_type": "code",
   "execution_count": 6,
   "metadata": {
    "collapsed": false
   },
   "outputs": [],
   "source": [
    "### Load output filenames ###\n",
    "\n",
    "filename = '/ocean/kramosmu/MITgcm/CanyonUpwelling/360x360x90_BodyForcing_6Tr_LinProfiles/run02/tave.0000000000.glob.nc'#'/ocean/kramosmu/MITgcm/CanyonUpwelling/120x90x35_UpwLinRampWind_1Tr_LinProfiles/run30/output_0001/state.0000000000.t001.nc'\n",
    "StateOut = Dataset(filename)\n",
    "#for dimobj in StateOut.variables.values():\n",
    "#    print dimobj\n",
    "\n",
    "filename2 = '/ocean/kramosmu/MITgcm/CanyonUpwelling/360x360x90_BodyForcing_1Tr/run01/mnc_0001/grid.t001.nc'#'/ocean/kramosmu/MITgcm/CanyonUpwelling/120x90x35_UpwLinRampWind_1Tr_LinProfiles/run30/output_0001/grid.t001.nc'\n",
    "GridOut = Dataset(filename2)\n",
    "#for dimobj in StateOut.variables.values():\n",
    "#    print dimobj\n",
    "filename3 = '/ocean/kramosmu/MITgcm/CanyonUpwelling/360x360x90_BodyForcing_6Tr_LinProfiles/run02/ptr_tave.0000000000.glob.nc'#'/ocean/kramosmu/MITgcm/CanyonUpwelling/120x90x35_UpwLinRampWind_1Tr_LinProfiles/run30/output_0001/ptracers.0000000000.t001.nc'\n",
    "PtracersOut = Dataset(filename3)\n"
   ]
  },
  {
   "cell_type": "markdown",
   "metadata": {},
   "source": [
    "Make some plots "
   ]
  },
  {
   "cell_type": "code",
   "execution_count": 7,
   "metadata": {
    "collapsed": false
   },
   "outputs": [
    {
     "data": {
      "text/plain": [
       "<matplotlib.text.Text at 0x4776050>"
      ]
     },
     "execution_count": 7,
     "metadata": {},
     "output_type": "execute_result"
    },
    {
     "data": {
      "image/png": "[encoded data removed]",
      "text/plain": [
       "<matplotlib.figure.Figure at 0x458c990>"
      ]
     },
     "metadata": {},
     "output_type": "display_data"
    },
    {
     "data": {
      "image/png": "[encoded data removed]",
      "text/plain": [
       "<matplotlib.figure.Figure at 0x4764490>"
      ]
     },
     "metadata": {},
     "output_type": "display_data"
    }
   ],
   "source": [
    "tracer1 = getField(filename3,'Tr3')\n",
    "\n",
    "tracer1msk = np.ma.masked_values(tracer1, 0)\n",
    "\n",
    "MASK = np.ma.getmask(tracer1msk)\n",
    "   \n",
    "    \n",
    "### PLOT TRACER 1 at zlev and time###\n",
    "\n",
    "zlev = 20\n",
    "time = 0\n",
    "\n",
    "plt.rcParams.update({'font.size':13})\n",
    "plt.figure(figsize=(10,7))\n",
    "\n",
    "ax=plt.gca()\n",
    "ax.set_axis_bgcolor((205/255.0, 201/255.0, 201/255.0))\n",
    "\n",
    "plt.contourf(tracer1msk[time,zlev,:,:],30, cmap='rainbow')\n",
    "cb = plt.colorbar()\n",
    "cb.set_label('C', position=(0, 1),rotation=0)\n",
    "\n",
    "z=StateOut.variables['Z']\n",
    "\n",
    "plt.title(\"Tracer at z=%d m\" % -z[zlev])\n",
    "\n",
    " \n",
    "plt.figure(figsize=(10,7))\n",
    "\n",
    "ax=plt.gca()\n",
    "ax.set_axis_bgcolor((205/255.0, 201/255.0, 201/255.0))\n",
    "\n",
    "plt.contourf(tracer1msk[time,:,:,60],30, cmap='rainbow')\n",
    "plt.gca().invert_yaxis()\n",
    "cb = plt.colorbar()\n",
    "cb.set_label('C', position=(0, 1),rotation=0)\n",
    "\n",
    "z=StateOut.variables['Z']\n",
    "\n",
    "plt.title(\"Tracer at x=60 nx\")\n",
    "\n",
    "\n"
   ]
  },
  {
   "cell_type": "markdown",
   "metadata": {},
   "source": [
    "Calculate the volume of the domain\n",
    "-------------------------------\n",
    "The volume of a tracer cell (remember we have an Arakawa C grid, so this changes depending on which kind of cell we are thinking about) is given by\n",
    "\n",
    "$V(i,j,k)=depth \\times area = (hfacC(i,j,k)\\times dRf(k)) \\times rA(i,j) = (hfacC(i,j,k)\\times dRf(k)) \\times dXg(i,j) \\times dYg(i,j)$,\n",
    "\n",
    "where hfacC is the fraction of the cell that is open (not occupied with land). So, the total volume of the domain is \n",
    "\n",
    "$\\sum\\limits_{i=1}^{nx}{\\sum\\limits_{j=1}^{ny}{\\sum\\limits_{k=1}^{nz}{(hfacC(i,j,k)\\times dRf(k)) \\times rA(i,j)}}}$"
   ]
  },
  {
   "cell_type": "code",
   "execution_count": 8,
   "metadata": {
    "collapsed": false
   },
   "outputs": [
    {
     "name": "stdout",
     "output_type": "stream",
     "text": [
      "\n",
      " The total volume is 6.102853e+12 m^3 \n",
      "\n"
     ]
    }
   ],
   "source": [
    "Dom=0.0\n",
    "DomVolume=0.0\n",
    "\n",
    "hFacC = getField(filename2,'HFacC')\n",
    "drF   = getField(filename2,'drF')\n",
    "rAC   = getField(filename2,'rA')\n",
    "\n",
    "\n",
    "for ii in np.arange(nx):\n",
    "    \n",
    "    for jj in np.arange(ny):\n",
    "        \n",
    "        Dom = Dom + hFacC[:,jj,ii]*drF[:]*rAC[jj,ii]\n",
    "\n",
    "DomVolume=sum(Dom)\n",
    "print('\\n The total volume is %e m^3 \\n' %DomVolume)\n"
   ]
  },
  {
   "cell_type": "markdown",
   "metadata": {},
   "source": [
    "1st Term: The volume-weighted average of the squared concentration\n",
    "-------------------------------------------------------------\n",
    "The first term in the variance evolution equation is $\\frac{1}{2}\\frac{\\partial{\\overline{q^{2}}}}{\\partial{t}}$. Note that we care about the time derivative of the variance, so that the mean concentration that usually appears in the definition of variance will not play a role here, since it is constant in time (we are not putting in or letting out any tracer). \n",
    "\n",
    "We are going to calculate $\\overline{q^2}$, the volume-weighted average of the squared concentration, and then the time derivative of that using a centered difference scheme."
   ]
  },
  {
   "cell_type": "code",
   "execution_count": 9,
   "metadata": {
    "collapsed": false
   },
   "outputs": [
    {
     "name": "stdout",
     "output_type": "stream",
     "text": [
      "volume-weighted mean of q^2 nt=0 is 5.674921e+02  \n",
      "\n",
      "volume-weighted mean of q^2 nt=1 is 5.657738e+02  \n",
      "\n",
      "volume-weighted mean of q^2 nt=2 is 5.642867e+02  \n",
      "\n",
      "volume-weighted mean of q^2 nt=3 is 5.627659e+02  \n",
      "\n",
      "volume-weighted mean of q^2 nt=4 is 5.612857e+02  \n",
      "\n",
      "volume-weighted mean of q^2 nt=5 is 5.598320e+02  \n",
      "\n",
      "volume-weighted mean of q^2 nt=6 is 5.583752e+02  \n",
      "\n",
      "volume-weighted mean of q^2 nt=7 is 5.569846e+02  \n",
      "\n",
      "volume-weighted mean of q^2 nt=8 is 5.556685e+02  \n",
      "\n",
      "volume-weighted mean of q^2 nt=9 is 5.544492e+02  \n",
      "\n"
     ]
    }
   ],
   "source": [
    "### Calculate the volume-weighted mean of q^2\n",
    "\n",
    "q2mean = np.zeros((nt,1))\n",
    "\n",
    "for tt in np.arange(nt):\n",
    "    q2sum = 0.0\n",
    "    for kk in np.arange(nz):\n",
    "        \n",
    "        for jj in np.arange(ny):\n",
    "            \n",
    "            q2sum = q2sum + np.sum(((hFacC[kk,jj,:]*drF[kk]*rAC[jj,:])/DomVolume)*(tracer1[tt,kk,jj,:])**2)\n",
    "                \n",
    "    q2mean[tt] = q2sum\n",
    "   \n",
    "    print('volume-weighted mean of q^2 nt=%d is %e  \\n' %(tt, q2mean[tt]))\n",
    "\n"
   ]
  },
  {
   "cell_type": "code",
   "execution_count": 10,
   "metadata": {
    "collapsed": false
   },
   "outputs": [],
   "source": [
    "### Calculate time derivative \n",
    "dt = (3600.*12.) # half day\n",
    "\n",
    "dqdt = np.zeros(nt-2)\n",
    "\n",
    "for tt in np.arange(nt-2):\n",
    "    \n",
    "    dqdt[tt] = (q2mean[tt+2]-q2mean[tt])/(2.*dt) # approximation of time derivative of v-w mean q^2\n",
    "      "
   ]
  },
  {
   "cell_type": "markdown",
   "metadata": {},
   "source": [
    "2nd Term: The volume-weighted average of the squared horizontal gradient\n",
    "------------------------------------------------------------------\n",
    "The second term in the variance evolution equation is $-\\kappa_{h} \\overline{|\\nabla_h q|^2}$. Next, we calculate the square of the horizontal gradient $|\\nabla_h q|^2=(\\frac{\\partial{q}}{\\partial{x}})^2+(\\frac{\\partial{q}}{\\partial{y}})^2$.\n",
    "\n",
    "Spatial derivatives are approximated using a centered-difference scheme."
   ]
  },
  {
   "cell_type": "code",
   "execution_count": 11,
   "metadata": {
    "collapsed": false
   },
   "outputs": [
    {
     "name": "stdout",
     "output_type": "stream",
     "text": [
      "The v-w mean of (dq/dx)^2 at nt=0 is 3.168370e-06 \n",
      "\n",
      "The v-w mean of (dq/dx)^2 at nt=1 is 3.124439e-06 \n",
      "\n",
      "The v-w mean of (dq/dx)^2 at nt=2 is 3.120465e-06 \n",
      "\n",
      "The v-w mean of (dq/dx)^2 at nt=3 is 3.095684e-06 \n",
      "\n",
      "The v-w mean of (dq/dx)^2 at nt=4 is 3.064058e-06 \n",
      "\n",
      "The v-w mean of (dq/dx)^2 at nt=5 is 3.035546e-06 \n",
      "\n",
      "The v-w mean of (dq/dx)^2 at nt=6 is 3.004878e-06 \n",
      "\n",
      "The v-w mean of (dq/dx)^2 at nt=7 is 2.974307e-06 \n",
      "\n",
      "The v-w mean of (dq/dx)^2 at nt=8 is 2.942859e-06 \n",
      "\n",
      "The v-w mean of (dq/dx)^2 at nt=9 is 2.916984e-06 \n",
      "\n",
      "The v-w mean of (dq/dy)^2 at nt=0 is 9.175775e-06 \n",
      "\n",
      "The v-w mean of (dq/dy)^2 at nt=1 is 9.044391e-06 \n",
      "\n",
      "The v-w mean of (dq/dy)^2 at nt=2 is 8.993252e-06 \n",
      "\n",
      "The v-w mean of (dq/dy)^2 at nt=3 is 8.907490e-06 \n",
      "\n",
      "The v-w mean of (dq/dy)^2 at nt=4 is 8.813079e-06 \n",
      "\n",
      "The v-w mean of (dq/dy)^2 at nt=5 is 8.730148e-06 \n",
      "\n",
      "The v-w mean of (dq/dy)^2 at nt=6 is 8.656169e-06 \n",
      "\n",
      "The v-w mean of (dq/dy)^2 at nt=7 is 8.581672e-06 \n",
      "\n",
      "The v-w mean of (dq/dy)^2 at nt=8 is 8.510047e-06 \n",
      "\n",
      "The v-w mean of (dq/dy)^2 at nt=9 is 8.438798e-06 \n",
      "\n"
     ]
    }
   ],
   "source": [
    "\n",
    "### Calculate mean of (dq/dx)^2 + (dq/dy)^2)\n",
    "\n",
    "dxG = getField(filename2,'dxG')\n",
    "dyG = getField(filename2,'dyG')\n",
    "\n",
    "qmeanDh = np.zeros((nt,1))\n",
    "qmeanDx = np.zeros((nt,1))\n",
    "qmeanDy = np.zeros((nt,1))\n",
    "\n",
    "for tt in np.arange(nt):\n",
    "    \n",
    "    sumDx = 0.0\n",
    "    \n",
    "    tracer2dx = tracer1[tt,:,:,2:nx]\n",
    "    tracer0dx = tracer1[tt,:,:,0:nx-2]\n",
    "    tracerDerX = ((tracer2dx-tracer0dx)/(2.0*dxG[:-1,1:nx-1]))**2\n",
    "    \n",
    "    \n",
    "    for kk in np.arange(nz):\n",
    "        for jj in np.arange(ny):\n",
    "            sumDx = sumDx + np.sum((hFacC[kk,jj,1:nx-1]*drF[kk]*rAC[jj,1:nx-1])*(tracerDerX[kk,jj,:]))\n",
    "          \n",
    "        #print(sumDx)    \n",
    "    \n",
    "    qmeanDx[tt] = sumDx/DomVolume\n",
    "    \n",
    "    print('The v-w mean of (dq/dx)^2 at nt=%d is %e \\n' % (tt,qmeanDx[tt]))            \n",
    "   \n",
    "    \n",
    "for tt in np.arange(nt):\n",
    "    \n",
    "    sumDy = 0.0\n",
    "    \n",
    "    tracer2dy = tracer1[tt,:,2:ny,:]\n",
    "    tracer0dy = tracer1[tt,:,0:ny-2,:]\n",
    "    tracerDerY = ((tracer2dy-tracer0dy)/(2.0*dyG[1:ny-1,:-1]))**2\n",
    "    \n",
    "    \n",
    "    for kk in np.arange(nz):\n",
    "        for ii in np.arange(nx):\n",
    "            sumDy = sumDy + np.sum((hFacC[kk,1:ny-1,ii]*drF[kk]*rAC[1:ny-1,ii])*(tracerDerY[kk,:,ii]))\n",
    "            \n",
    "    qmeanDy[tt] = sumDy/DomVolume \n",
    "    \n",
    "    print('The v-w mean of (dq/dy)^2 at nt=%d is %e \\n' % (tt,qmeanDy[tt]))            \n",
    "\n",
    "                \n",
    "qmeanDh = qmeanDx + qmeanDy\n"
   ]
  },
  {
   "cell_type": "code",
   "execution_count": 11,
   "metadata": {
    "collapsed": false
   },
   "outputs": [],
   "source": []
  },
  {
   "cell_type": "markdown",
   "metadata": {},
   "source": [
    "3rd Term: The volume-weighted average of the squared vertical derivative\n",
    "------------------------------------------------------------------\n",
    "The third term in the variance evolution equation is $-\\kappa_{v} \\overline{(\\frac{\\partial{q}}{\\partial{z}})^2}$. Next, we calculate the square of the vertical gradient $(\\frac{\\partial{q}}{\\partial{z}})^2$.\n",
    "\n",
    "The vertical derivative is approximated using a centered-difference scheme."
   ]
  },
  {
   "cell_type": "code",
   "execution_count": 13,
   "metadata": {
    "collapsed": false
   },
   "outputs": [
    {
     "name": "stdout",
     "output_type": "stream",
     "text": [
      "Mean (dq/dz)^2 at nt=0 is nan \n",
      "\n",
      "Mean (dq/dz)^2 at nt=1 is nan \n",
      "\n",
      "Mean (dq/dz)^2 at nt=2 is nan \n",
      "\n",
      "Mean (dq/dz)^2 at nt=3 is nan \n",
      "\n",
      "Mean (dq/dz)^2 at nt=4 is nan \n",
      "\n",
      "Mean (dq/dz)^2 at nt=5 is nan \n",
      "\n",
      "Mean (dq/dz)^2 at nt=6 is nan \n",
      "\n",
      "Mean (dq/dz)^2 at nt=7 is nan \n",
      "\n",
      "Mean (dq/dz)^2 at nt=8 is nan \n",
      "\n",
      "Mean (dq/dz)^2 at nt=9 is nan \n",
      "\n"
     ]
    }
   ],
   "source": [
    "### Calculate mean of (dq/dz)^2 \n",
    "\n",
    "qmeanDz = np.zeros((nt,1))\n",
    "\n",
    "\n",
    "for tt in np.arange(nt):\n",
    "    qsumDz = 0.0\n",
    "    \n",
    "    for jj in np.arange(ny):\n",
    "        \n",
    "        for kk in np.arange(nz-2):\n",
    "            \n",
    "            qsumDz = qsumDz +(hFacC[kk,jj,:]*drF[kk]*rAC[jj,:])*(((tracer1[tt,kk+2,jj,:]-tracer1[tt,kk,jj,:])/((hFacC[kk+1,jj,:]*drF[kk+1])+(hFacC[kk,jj,:]*drF[kk])))**2)\n",
    "                   \n",
    "    qmeanDz[tt] = (sum(qsumDz))/DomVolume\n",
    "    \n",
    "    print('Mean (dq/dz)^2 at nt=%d is %e \\n' %(tt, qmeanDz[tt]))\n",
    "  \n",
    "\n",
    "    \n",
    "    \n"
   ]
  },
  {
   "cell_type": "markdown",
   "metadata": {},
   "source": [
    "Tracer variance plots:\n",
    "--------------------"
   ]
  },
  {
   "cell_type": "code",
   "execution_count": 62,
   "metadata": {
    "collapsed": false
   },
   "outputs": [
    {
     "data": {
      "image/png": "[encoded data removed]",
      "text/plain": [
       "<matplotlib.figure.Figure at 0x9843810>"
      ]
     },
     "metadata": {},
     "output_type": "display_data"
    }
   ],
   "source": [
    "\n",
    "fig1=plt.figure(figsize=(21,3))\n",
    "\n",
    "plt.subplot(1,3,1)\n",
    "ax=plt.gca()\n",
    "ax.set_axis_bgcolor((205/255.0, 201/255.0, 201/255.0))\n",
    "\n",
    "plt.plot(qmeanDh[1:len(qmeanDh)-1],dqdt)\n",
    "\n",
    "\n",
    "plt.xlabel('$<|\\partial_{h}q|^2>$')\n",
    "\n",
    "plt.ylabel('$\\partial{<q^2>}/\\partial{t}$')\n",
    "    \n",
    "\n",
    "plt.subplot(1,3,2)\n",
    "ax=plt.gca()\n",
    "ax.set_axis_bgcolor((205/255.0, 201/255.0, 201/255.0))\n",
    "\n",
    "plt.plot(qmeanDz[1:len(qmeanDz)-1],dqdt)\n",
    "\n",
    "\n",
    "plt.xlabel('$<\\partial{q^2}/\\partial{z}>$')\n",
    "\n",
    "plt.ylabel('$\\partial{<q^2>}/\\partial{t}$')\n",
    "\n",
    "plt.subplot(1,3,3)\n",
    "ax=plt.gca()\n",
    "ax.set_axis_bgcolor((205/255.0, 201/255.0, 201/255.0))\n",
    "\n",
    "plt.plot(np.arange(0,nt*2,2.0),q2mean)\n",
    "\n",
    "plt.xlabel('hours')\n",
    "\n",
    "plt.ylabel('$<q^2>$')\n",
    "\n",
    "plt.tight_layout()"
   ]
  },
  {
   "cell_type": "markdown",
   "metadata": {},
   "source": [
    "Linear regression for $\\kappa_h$ and $\\kappa_v$\n",
    "------------------------------------------\n",
    "\n",
    "In the regression results box, x1 corresponds to $\\kappa_h$ and x2 to $\\kappa_v$."
   ]
  },
  {
   "cell_type": "code",
   "execution_count": 63,
   "metadata": {
    "collapsed": false
   },
   "outputs": [
    {
     "data": {
      "text/html": [
       "<table class=\"simpletable\">\n",
       "<caption>GLS Regression Results</caption>\n",
       "<tr>\n",
       "  <th>Dep. Variable:</th>            <td>y</td>        <th>  R-squared:         </th> <td>   1.000</td>\n",
       "</tr>\n",
       "<tr>\n",
       "  <th>Model:</th>                   <td>GLS</td>       <th>  Adj. R-squared:    </th> <td>   0.999</td>\n",
       "</tr>\n",
       "<tr>\n",
       "  <th>Method:</th>             <td>Least Squares</td>  <th>  F-statistic:       </th> <td>   4271.</td>\n",
       "</tr>\n",
       "<tr>\n",
       "  <th>Date:</th>             <td>Fri, 05 Dec 2014</td> <th>  Prob (F-statistic):</th> <td>6.58e-06</td>\n",
       "</tr>\n",
       "<tr>\n",
       "  <th>Time:</th>                 <td>13:00:50</td>     <th>  Log-Likelihood:    </th> <td>  67.959</td>\n",
       "</tr>\n",
       "<tr>\n",
       "  <th>No. Observations:</th>      <td>     5</td>      <th>  AIC:               </th> <td>  -131.9</td>\n",
       "</tr>\n",
       "<tr>\n",
       "  <th>Df Residuals:</th>          <td>     3</td>      <th>  BIC:               </th> <td>  -132.7</td>\n",
       "</tr>\n",
       "<tr>\n",
       "  <th>Df Model:</th>              <td>     2</td>      <th>                     </th>     <td> </td>   \n",
       "</tr>\n",
       "</table>\n",
       "<table class=\"simpletable\">\n",
       "<tr>\n",
       "   <td></td>     <th>coef</th>     <th>std err</th>      <th>t</th>      <th>P>|t|</th> <th>[95.0% Conf. Int.]</th> \n",
       "</tr>\n",
       "<tr>\n",
       "  <th>x1</th> <td>  -90.9932</td> <td>   26.382</td> <td>   -3.449</td> <td> 0.041</td> <td> -174.954    -7.033</td>\n",
       "</tr>\n",
       "<tr>\n",
       "  <th>x2</th> <td>    0.0179</td> <td>    0.005</td> <td>    3.397</td> <td> 0.043</td> <td>    0.001     0.035</td>\n",
       "</tr>\n",
       "</table>\n",
       "<table class=\"simpletable\">\n",
       "<tr>\n",
       "  <th>Omnibus:</th>       <td>   nan</td> <th>  Durbin-Watson:     </th> <td>   2.713</td>\n",
       "</tr>\n",
       "<tr>\n",
       "  <th>Prob(Omnibus):</th> <td>   nan</td> <th>  Jarque-Bera (JB):  </th> <td>   0.703</td>\n",
       "</tr>\n",
       "<tr>\n",
       "  <th>Skew:</th>          <td>-0.279</td> <th>  Prob(JB):          </th> <td>   0.704</td>\n",
       "</tr>\n",
       "<tr>\n",
       "  <th>Kurtosis:</th>      <td> 1.250</td> <th>  Cond. No.          </th> <td>8.82e+06</td>\n",
       "</tr>\n",
       "</table>"
      ],
      "text/plain": [
       "<class 'statsmodels.iolib.summary.Summary'>\n",
       "\"\"\"\n",
       "                            GLS Regression Results                            \n",
       "==============================================================================\n",
       "Dep. Variable:                      y   R-squared:                       1.000\n",
       "Model:                            GLS   Adj. R-squared:                  0.999\n",
       "Method:                 Least Squares   F-statistic:                     4271.\n",
       "Date:                Fri, 05 Dec 2014   Prob (F-statistic):           6.58e-06\n",
       "Time:                        13:00:50   Log-Likelihood:                 67.959\n",
       "No. Observations:                   5   AIC:                            -131.9\n",
       "Df Residuals:                       3   BIC:                            -132.7\n",
       "Df Model:                           2                                         \n",
       "==============================================================================\n",
       "                 coef    std err          t      P>|t|      [95.0% Conf. Int.]\n",
       "------------------------------------------------------------------------------\n",
       "x1           -90.9932     26.382     -3.449      0.041      -174.954    -7.033\n",
       "x2             0.0179      0.005      3.397      0.043         0.001     0.035\n",
       "==============================================================================\n",
       "Omnibus:                          nan   Durbin-Watson:                   2.713\n",
       "Prob(Omnibus):                    nan   Jarque-Bera (JB):                0.703\n",
       "Skew:                          -0.279   Prob(JB):                        0.704\n",
       "Kurtosis:                       1.250   Cond. No.                     8.82e+06\n",
       "==============================================================================\n",
       "\n",
       "Warnings:\n",
       "[1] The smallest eigenvalue is 2.19e-16. This might indicate that there are\n",
       "strong multicollinearity problems or that the design matrix is singular.\n",
       "\"\"\""
      ]
     },
     "execution_count": 63,
     "metadata": {},
     "output_type": "execute_result"
    }
   ],
   "source": [
    "import pandas as pd\n",
    "import statsmodels.api as sm\n",
    "\n",
    "dt = 1*3600.0*24.0 # 2hrs\n",
    "\n",
    "x = np.column_stack((qmeanDh[4:len(qmeanDh)-1], qmeanDz[4:len(qmeanDz)-1])) #variance of space derivatives\n",
    "\n",
    "y = 0.5*dqdt[3:len(dqdt)]\n",
    "\n",
    "\n",
    "## fit a OLS model with intercept \n",
    "#x = sm.add_constant(x)\n",
    "#est = sm.OLS(y, x).fit()\n",
    "est = sm.GLS(y,x).fit()\n",
    "est.summary()\n"
   ]
  },
  {
   "cell_type": "code",
   "execution_count": 64,
   "metadata": {
    "collapsed": false
   },
   "outputs": [
    {
     "name": "stdout",
     "output_type": "stream",
     "text": [
      "(8,)\n",
      "(10, 1)\n"
     ]
    },
    {
     "data": {
      "text/html": [
       "<table class=\"simpletable\">\n",
       "<caption>GLS Regression Results</caption>\n",
       "<tr>\n",
       "  <th>Dep. Variable:</th>            <td>y</td>        <th>  R-squared:         </th> <td>   0.998</td>\n",
       "</tr>\n",
       "<tr>\n",
       "  <th>Model:</th>                   <td>GLS</td>       <th>  Adj. R-squared:    </th> <td>   0.998</td>\n",
       "</tr>\n",
       "<tr>\n",
       "  <th>Method:</th>             <td>Least Squares</td>  <th>  F-statistic:       </th> <td>   3227.</td>\n",
       "</tr>\n",
       "<tr>\n",
       "  <th>Date:</th>             <td>Fri, 05 Dec 2014</td> <th>  Prob (F-statistic):</th> <td>1.37e-10</td>\n",
       "</tr>\n",
       "<tr>\n",
       "  <th>Time:</th>                 <td>13:00:51</td>     <th>  Log-Likelihood:    </th> <td>  101.15</td>\n",
       "</tr>\n",
       "<tr>\n",
       "  <th>No. Observations:</th>      <td>     8</td>      <th>  AIC:               </th> <td>  -200.3</td>\n",
       "</tr>\n",
       "<tr>\n",
       "  <th>Df Residuals:</th>          <td>     7</td>      <th>  BIC:               </th> <td>  -200.2</td>\n",
       "</tr>\n",
       "<tr>\n",
       "  <th>Df Model:</th>              <td>     1</td>      <th>                     </th>     <td> </td>   \n",
       "</tr>\n",
       "</table>\n",
       "<table class=\"simpletable\">\n",
       "<tr>\n",
       "   <td></td>     <th>coef</th>     <th>std err</th>      <th>t</th>      <th>P>|t|</th> <th>[95.0% Conf. Int.]</th> \n",
       "</tr>\n",
       "<tr>\n",
       "  <th>x1</th> <td>   -1.4173</td> <td>    0.025</td> <td>  -56.807</td> <td> 0.000</td> <td>   -1.476    -1.358</td>\n",
       "</tr>\n",
       "</table>\n",
       "<table class=\"simpletable\">\n",
       "<tr>\n",
       "  <th>Omnibus:</th>       <td> 1.648</td> <th>  Durbin-Watson:     </th> <td>   0.492</td>\n",
       "</tr>\n",
       "<tr>\n",
       "  <th>Prob(Omnibus):</th> <td> 0.439</td> <th>  Jarque-Bera (JB):  </th> <td>   0.258</td>\n",
       "</tr>\n",
       "<tr>\n",
       "  <th>Skew:</th>          <td> 0.440</td> <th>  Prob(JB):          </th> <td>   0.879</td>\n",
       "</tr>\n",
       "<tr>\n",
       "  <th>Kurtosis:</th>      <td> 3.025</td> <th>  Cond. No.          </th> <td>    1.00</td>\n",
       "</tr>\n",
       "</table>"
      ],
      "text/plain": [
       "<class 'statsmodels.iolib.summary.Summary'>\n",
       "\"\"\"\n",
       "                            GLS Regression Results                            \n",
       "==============================================================================\n",
       "Dep. Variable:                      y   R-squared:                       0.998\n",
       "Model:                            GLS   Adj. R-squared:                  0.998\n",
       "Method:                 Least Squares   F-statistic:                     3227.\n",
       "Date:                Fri, 05 Dec 2014   Prob (F-statistic):           1.37e-10\n",
       "Time:                        13:00:51   Log-Likelihood:                 101.15\n",
       "No. Observations:                   8   AIC:                            -200.3\n",
       "Df Residuals:                       7   BIC:                            -200.2\n",
       "Df Model:                           1                                         \n",
       "==============================================================================\n",
       "                 coef    std err          t      P>|t|      [95.0% Conf. Int.]\n",
       "------------------------------------------------------------------------------\n",
       "x1            -1.4173      0.025    -56.807      0.000        -1.476    -1.358\n",
       "==============================================================================\n",
       "Omnibus:                        1.648   Durbin-Watson:                   0.492\n",
       "Prob(Omnibus):                  0.439   Jarque-Bera (JB):                0.258\n",
       "Skew:                           0.440   Prob(JB):                        0.879\n",
       "Kurtosis:                       3.025   Cond. No.                         1.00\n",
       "==============================================================================\n",
       "\"\"\""
      ]
     },
     "execution_count": 64,
     "metadata": {},
     "output_type": "execute_result"
    }
   ],
   "source": [
    "\n",
    "dt = 1*3600.0*24.0 # 2hrs\n",
    "\n",
    "#x = np.column_stack((qmeanDh[1:len(qmeanDh)-1], qmeanDz[1:len(qmeanDz)-1])) #variance of space derivatives\n",
    "\n",
    "y = 0.5*dqdt[0:len(dqdt)]\n",
    "\n",
    "x1=qmeanDh[1:len(qmeanDh)-1]\n",
    "x2=qmeanDz[1:len(qmeanDz)-1]\n",
    "print(np.shape(dqdt))\n",
    "print(np.shape(qmeanDh))\n",
    "\n",
    "## fit a OLS model with intercept \n",
    "#x = sm.add_constant(x)\n",
    "#est = sm.OLS(y, x).fit()\n",
    "est = sm.GLS(y,x1).fit()\n",
    "est.summary()\n"
   ]
  },
  {
   "cell_type": "code",
   "execution_count": 65,
   "metadata": {
    "collapsed": false
   },
   "outputs": [
    {
     "data": {
      "text/html": [
       "<table class=\"simpletable\">\n",
       "<caption>GLS Regression Results</caption>\n",
       "<tr>\n",
       "  <th>Dep. Variable:</th>            <td>y</td>        <th>  R-squared:         </th> <td>   0.998</td>\n",
       "</tr>\n",
       "<tr>\n",
       "  <th>Model:</th>                   <td>GLS</td>       <th>  Adj. R-squared:    </th> <td>   0.998</td>\n",
       "</tr>\n",
       "<tr>\n",
       "  <th>Method:</th>             <td>Least Squares</td>  <th>  F-statistic:       </th> <td>   3788.</td>\n",
       "</tr>\n",
       "<tr>\n",
       "  <th>Date:</th>             <td>Fri, 05 Dec 2014</td> <th>  Prob (F-statistic):</th> <td>7.85e-11</td>\n",
       "</tr>\n",
       "<tr>\n",
       "  <th>Time:</th>                 <td>13:00:53</td>     <th>  Log-Likelihood:    </th> <td>  101.79</td>\n",
       "</tr>\n",
       "<tr>\n",
       "  <th>No. Observations:</th>      <td>     8</td>      <th>  AIC:               </th> <td>  -201.6</td>\n",
       "</tr>\n",
       "<tr>\n",
       "  <th>Df Residuals:</th>          <td>     7</td>      <th>  BIC:               </th> <td>  -201.5</td>\n",
       "</tr>\n",
       "<tr>\n",
       "  <th>Df Model:</th>              <td>     1</td>      <th>                     </th>     <td> </td>   \n",
       "</tr>\n",
       "</table>\n",
       "<table class=\"simpletable\">\n",
       "<tr>\n",
       "   <td></td>     <th>coef</th>     <th>std err</th>      <th>t</th>      <th>P>|t|</th> <th>[95.0% Conf. Int.]</th> \n",
       "</tr>\n",
       "<tr>\n",
       "  <th>x1</th> <td>   -0.0003</td> <td> 4.58e-06</td> <td>  -61.545</td> <td> 0.000</td> <td>   -0.000    -0.000</td>\n",
       "</tr>\n",
       "</table>\n",
       "<table class=\"simpletable\">\n",
       "<tr>\n",
       "  <th>Omnibus:</th>       <td> 2.684</td> <th>  Durbin-Watson:     </th> <td>   0.559</td>\n",
       "</tr>\n",
       "<tr>\n",
       "  <th>Prob(Omnibus):</th> <td> 0.261</td> <th>  Jarque-Bera (JB):  </th> <td>   0.651</td>\n",
       "</tr>\n",
       "<tr>\n",
       "  <th>Skew:</th>          <td> 0.696</td> <th>  Prob(JB):          </th> <td>   0.722</td>\n",
       "</tr>\n",
       "<tr>\n",
       "  <th>Kurtosis:</th>      <td> 3.121</td> <th>  Cond. No.          </th> <td>    1.00</td>\n",
       "</tr>\n",
       "</table>"
      ],
      "text/plain": [
       "<class 'statsmodels.iolib.summary.Summary'>\n",
       "\"\"\"\n",
       "                            GLS Regression Results                            \n",
       "==============================================================================\n",
       "Dep. Variable:                      y   R-squared:                       0.998\n",
       "Model:                            GLS   Adj. R-squared:                  0.998\n",
       "Method:                 Least Squares   F-statistic:                     3788.\n",
       "Date:                Fri, 05 Dec 2014   Prob (F-statistic):           7.85e-11\n",
       "Time:                        13:00:53   Log-Likelihood:                 101.79\n",
       "No. Observations:                   8   AIC:                            -201.6\n",
       "Df Residuals:                       7   BIC:                            -201.5\n",
       "Df Model:                           1                                         \n",
       "==============================================================================\n",
       "                 coef    std err          t      P>|t|      [95.0% Conf. Int.]\n",
       "------------------------------------------------------------------------------\n",
       "x1            -0.0003   4.58e-06    -61.545      0.000        -0.000    -0.000\n",
       "==============================================================================\n",
       "Omnibus:                        2.684   Durbin-Watson:                   0.559\n",
       "Prob(Omnibus):                  0.261   Jarque-Bera (JB):                0.651\n",
       "Skew:                           0.696   Prob(JB):                        0.722\n",
       "Kurtosis:                       3.121   Cond. No.                         1.00\n",
       "==============================================================================\n",
       "\"\"\""
      ]
     },
     "execution_count": 65,
     "metadata": {},
     "output_type": "execute_result"
    }
   ],
   "source": [
    "dt = 1*3600.0*24.0 # 2hrs\n",
    "\n",
    "x = np.column_stack((qmeanDh[1:len(qmeanDh)-1], qmeanDz[1:len(qmeanDz)-1])) #variance of space derivatives\n",
    "\n",
    "y = 0.5*dqdt[0:len(dqdt)]\n",
    "\n",
    "x1=qmeanDh[1:len(qmeanDh)-1]\n",
    "x2=qmeanDz[1:len(qmeanDz)-1]\n",
    "## fit a OLS model with intercept \n",
    "#x = sm.add_constant(x)\n",
    "#est = sm.OLS(y, x).fit()\n",
    "est = sm.GLS(y,x2).fit()\n",
    "est.summary()\n"
   ]
  },
  {
   "cell_type": "code",
   "execution_count": 65,
   "metadata": {
    "collapsed": false
   },
   "outputs": [],
   "source": []
  },
  {
   "cell_type": "code",
   "execution_count": null,
   "metadata": {
    "collapsed": false
   },
   "outputs": [],
   "source": []
  }
 ],
 "metadata": {
  "kernelspec": {
   "display_name": "Python 2",
   "language": "python",
   "name": "python2"
  },
  "language_info": {
   "codemirror_mode": {
    "name": "ipython",
    "version": 2
   },
   "file_extension": ".py",
   "mimetype": "text/x-python",
   "name": "python",
   "nbconvert_exporter": "python",
   "pygments_lexer": "ipython2",
   "version": "2.7.11"
  }
 },
 "nbformat": 4,
 "nbformat_minor": 0
}
