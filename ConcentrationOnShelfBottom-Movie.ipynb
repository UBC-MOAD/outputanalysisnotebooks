{
 "cells": [
  {
   "cell_type": "markdown",
   "metadata": {},
   "source": [
    "# Mapping tracer concentration on shelf bottom"
   ]
  },
  {
   "cell_type": "markdown",
   "metadata": {},
   "source": [
    "Map hcw on shelf by looking at bottom cells and multiplying their concentration by their area.\n",
    "\n",
    "\n",
    "The algorithm: Using hfacC finfd the first occurrence of an open cell, grab the x,y,z index and then use  those indices to fing the corresponding tracer concentration."
   ]
  },
  {
   "cell_type": "code",
   "execution_count": 1,
   "metadata": {
    "collapsed": true
   },
   "outputs": [],
   "source": [
    "#KRM\n",
    "\n",
    "import numpy as np\n",
    "\n",
    "import matplotlib.pyplot as plt\n",
    "\n",
    "import matplotlib.colors as mcolors\n",
    "\n",
    "import matplotlib.cm as cm\n",
    "\n",
    "import matplotlib as mpl\n",
    "\n",
    "from math import *\n",
    "\n",
    "from mpl_toolkits.mplot3d.axes3d import Axes3D\n",
    "\n",
    "import scipy.io\n",
    "\n",
    "import scipy as spy\n",
    "\n",
    "from netCDF4 import Dataset\n",
    "\n",
    "import pylab as pl\n",
    "\n",
    "import os \n",
    "\n",
    "import sys\n",
    "\n",
    "import seaborn as sns\n"
   ]
  },
  {
   "cell_type": "code",
   "execution_count": 2,
   "metadata": {
    "collapsed": true
   },
   "outputs": [],
   "source": [
    "lib_path = os.path.abspath('../../Building_canyon/BuildCanyon/PythonModulesMITgcm') # Add absolute path to my python scripts\n",
    "sys.path.append(lib_path)\n",
    "\n",
    "import ReadOutTools_MITgcm as rout \n"
   ]
  },
  {
   "cell_type": "code",
   "execution_count": 3,
   "metadata": {
    "collapsed": true
   },
   "outputs": [],
   "source": [
    "sns.set()\n",
    "sns.set_style('white')\n",
    "sns.set_context('talk')"
   ]
  },
  {
   "cell_type": "code",
   "execution_count": 4,
   "metadata": {
    "collapsed": false
   },
   "outputs": [],
   "source": [
    "#Base case, iso =1 , No 3d diff.\n",
    "#CanyonGrid='/ocean/kramosmu/MITgcm/TracerExperiments/CNTDIFF/run03/gridGlob.nc'\n",
    "CanyonGrid='/ocean/kramosmu/MITgcm/TracerExperiments/CNTDIFF/run03/gridGlob.nc'\n",
    "CanyonGridOut = Dataset(CanyonGrid)\n",
    "\n",
    "NoCCanyonGrid='/ocean/kramosmu/MITgcm/TracerExperiments/CNTDIFF/run07/gridGlob.nc'\n",
    "NoCCanyonGridOut = Dataset(NoCCanyonGrid)\n",
    "\n",
    "CanyonState='/ocean/kramosmu/MITgcm/TracerExperiments/CNTDIFF/run03/stateGlob.nc'\n",
    "CanyonStateOut = Dataset(CanyonState)\n",
    "\n",
    "Ptracer='/ocean/kramosmu/MITgcm/TracerExperiments/CNTDIFF/run03/ptracersGlob.nc'\n",
    "PtracerOut = Dataset(Ptracer)\n",
    "\n",
    "Ptracer12='/ocean/kramosmu/MITgcm/TracerExperiments/CNTDIFF/run12/ptracersGlob.nc'\n",
    "PtracerOut12 = Dataset(Ptracer12)\n",
    "\n",
    "Ptracer07='/ocean/kramosmu/MITgcm/TracerExperiments/CNTDIFF/run07/ptracersGlob.nc'\n",
    "PtracerOut07 = Dataset(Ptracer07)\n",
    "\n",
    "Ptracer25='/ocean/kramosmu/MITgcm/TracerExperiments/CNTDIFF/run25/ptracersGlob.nc'\n",
    "PtracerOut25 = Dataset(Ptracer25)\n",
    "\n",
    "\n",
    "#PtracerNoC='/ocean/kramosmu/MITgcm/TracerExperiments/CNTDIFF/run07/ptracersGlob.nc'\n",
    "#PtracerNoCOut = Dataset(PtracerNoC)\n"
   ]
  },
  {
   "cell_type": "code",
   "execution_count": 5,
   "metadata": {
    "collapsed": false
   },
   "outputs": [],
   "source": [
    "nx = 360\n",
    "ny = 360\n",
    "nz = 90\n",
    "nt = 19 # t dimension size \n",
    "\n",
    "xc = rout.getField(CanyonGrid, 'XC') # x coords tracer cells\n",
    "yc = rout.getField(CanyonGrid, 'YC') # y coords tracer cells\n",
    "rc = CanyonGridOut.variables['RC']\n",
    "bathy = rout.getField(CanyonGrid, 'Depth')\n",
    "bathyNoC = rout.getField(NoCCanyonGrid, 'Depth')\n",
    "\n",
    "hFacC = rout.getField(CanyonGrid, 'HFacC')\n",
    "MaskC = rout.getMask(CanyonGrid, 'HFacC')\n",
    "\n",
    "hFacCNoC = rout.getField(NoCCanyonGrid, 'HFacC')\n",
    "MaskCNoC = rout.getMask(NoCCanyonGrid, 'HFacC')\n",
    "rANoC = rout.getField(NoCCanyonGrid, 'rA')\n",
    "rA = rout.getField(CanyonGrid, 'rA')\n",
    "\n",
    "z = CanyonStateOut.variables['Z']\n",
    "\n",
    "time = CanyonStateOut.variables['T']"
   ]
  },
  {
   "cell_type": "code",
   "execution_count": 6,
   "metadata": {
    "collapsed": true
   },
   "outputs": [],
   "source": [
    "Tr03 = rout.getField(Ptracer,'Tr1') # \n"
   ]
  },
  {
   "cell_type": "code",
   "execution_count": 7,
   "metadata": {
    "collapsed": true
   },
   "outputs": [],
   "source": [
    "Tr12 = rout.getField(Ptracer12,'Tr3') # \n"
   ]
  },
  {
   "cell_type": "code",
   "execution_count": 8,
   "metadata": {
    "collapsed": true
   },
   "outputs": [],
   "source": [
    "Tr07 = rout.getField(Ptracer07,'Tr1') # "
   ]
  },
  {
   "cell_type": "code",
   "execution_count": 9,
   "metadata": {
    "collapsed": true
   },
   "outputs": [],
   "source": [
    "Tr25 = rout.getField(Ptracer25,'Tr1') # "
   ]
  },
  {
   "cell_type": "code",
   "execution_count": 10,
   "metadata": {
    "collapsed": false
   },
   "outputs": [],
   "source": [
    "def ConcArea(Tr, hfac, ra):\n",
    "    '''Tr: tracer field (nt,nz,ny,nx)\n",
    "       hfac: fraction of open cell at center (nz,ny,nx)\n",
    "       ra: array of cell horizontal areas (ny,nx)\n",
    "       RETURNS:\n",
    "       ConcArea = concentration at cell closest to bottom times its area (nt,ny,nx)\n",
    "       Conc = cocnetration near bottom (nt,ny,nx)'''\n",
    "    \n",
    "    ConcArea = np.empty((19,360,360))\n",
    "    Conc = np.empty((19,360,360))\n",
    "    Area = np.empty((360,360))\n",
    "    BottomInd = np.argmax(hfac[::-1,:,:]>0.0,axis=0) # start looking for first no-land cell from the bottom up.\n",
    "    BottomInd = np.ones(np.shape(BottomInd))*89 - BottomInd # Get index of unreversed z axis\n",
    "\n",
    "    print(np.shape(BottomInd))\n",
    "    for tt in range(19):\n",
    "        #print(tt)\n",
    "        for i in range(360):\n",
    "            for j in range(360):\n",
    "                TrBottom = Tr[tt,BottomInd[i,j],i,j]\n",
    "                ConcArea[tt,i,j] = TrBottom*ra[i,j]\n",
    "                Conc[tt,i,j] = TrBottom\n",
    "                Area[i,j] = ra[i,j]\n",
    "    \n",
    "    print(np.shape(ConcArea))\n",
    "\n",
    "    #ConcAreaMasked = np.ma.masked_values(ConcDepths,-2.5)\n",
    "    #ConcDepths[np.where(np.ma.getmask(ConcDepthsMasked)==True)] = np.nan\n",
    "    return (ConcArea,Conc, Area)"
   ]
  },
  {
   "cell_type": "code",
   "execution_count": null,
   "metadata": {
    "collapsed": false
   },
   "outputs": [],
   "source": []
  },
  {
   "cell_type": "code",
   "execution_count": 11,
   "metadata": {
    "collapsed": false
   },
   "outputs": [
    {
     "name": "stdout",
     "output_type": "stream",
     "text": [
      "(360, 360)\n",
      "(19, 360, 360)\n"
     ]
    },
    {
     "name": "stderr",
     "output_type": "stream",
     "text": [
      "/home/kramosmu/anaconda/lib/python2.7/site-packages/ipykernel/__main__.py:20: DeprecationWarning: using a non-integer number instead of an integer will result in an error in the future\n"
     ]
    }
   ],
   "source": [
    "ConcArea1,Conc1,Area1=ConcArea(Tr03, hFacCNoC, rANoC)"
   ]
  },
  {
   "cell_type": "code",
   "execution_count": null,
   "metadata": {
    "collapsed": false
   },
   "outputs": [],
   "source": [
    "\n"
   ]
  },
  {
   "cell_type": "code",
   "execution_count": 12,
   "metadata": {
    "collapsed": false
   },
   "outputs": [
    {
     "name": "stdout",
     "output_type": "stream",
     "text": [
      "(360, 360)\n",
      "(19, 360, 360)\n"
     ]
    },
    {
     "name": "stderr",
     "output_type": "stream",
     "text": [
      "/home/kramosmu/anaconda/lib/python2.7/site-packages/ipykernel/__main__.py:20: DeprecationWarning: using a non-integer number instead of an integer will result in an error in the future\n"
     ]
    }
   ],
   "source": [
    "ConcArea3,Conc3,Area3=ConcArea(Tr12, hFacCNoC, rANoC)"
   ]
  },
  {
   "cell_type": "code",
   "execution_count": null,
   "metadata": {
    "collapsed": false
   },
   "outputs": [],
   "source": []
  },
  {
   "cell_type": "markdown",
   "metadata": {
    "collapsed": true
   },
   "source": [
    "Note that I used the flat shelf mask to find the \"shelf bottom\". This means that the region over the canyon is the concentration*area over the lid of the canyon."
   ]
  },
  {
   "cell_type": "code",
   "execution_count": 13,
   "metadata": {
    "collapsed": false
   },
   "outputs": [
    {
     "name": "stdout",
     "output_type": "stream",
     "text": [
      "(360, 360)\n",
      "(19, 360, 360)\n"
     ]
    },
    {
     "name": "stderr",
     "output_type": "stream",
     "text": [
      "/home/kramosmu/anaconda/lib/python2.7/site-packages/ipykernel/__main__.py:20: DeprecationWarning: using a non-integer number instead of an integer will result in an error in the future\n"
     ]
    }
   ],
   "source": [
    "ConcArea1noc,Conc1noc,Area1noc=ConcArea(Tr07, hFacCNoC, rANoC)"
   ]
  },
  {
   "cell_type": "code",
   "execution_count": 14,
   "metadata": {
    "collapsed": false
   },
   "outputs": [
    {
     "name": "stdout",
     "output_type": "stream",
     "text": [
      "(360, 360)\n",
      "(19, 360, 360)\n"
     ]
    },
    {
     "name": "stderr",
     "output_type": "stream",
     "text": [
      "/home/kramosmu/anaconda/lib/python2.7/site-packages/ipykernel/__main__.py:20: DeprecationWarning: using a non-integer number instead of an integer will result in an error in the future\n"
     ]
    }
   ],
   "source": [
    "ConcArea3noc,Conc3noc,Area3noc=ConcArea(Tr25, hFacCNoC, rANoC)"
   ]
  },
  {
   "cell_type": "code",
   "execution_count": null,
   "metadata": {
    "collapsed": false,
    "scrolled": false
   },
   "outputs": [],
   "source": []
  },
  {
   "cell_type": "code",
   "execution_count": 15,
   "metadata": {
    "collapsed": true
   },
   "outputs": [],
   "source": [
    "import matplotlib.animation as animation"
   ]
  },
  {
   "cell_type": "code",
   "execution_count": null,
   "metadata": {
    "collapsed": true
   },
   "outputs": [],
   "source": []
  },
  {
   "cell_type": "code",
   "execution_count": 64,
   "metadata": {
    "collapsed": true
   },
   "outputs": [],
   "source": [
    "def Plot(tt,ax1,ax2,ax3):\n",
    "    ax1.clear()\n",
    "    iso = ax1.contourf(xc[227:300,100:]/1000.0,yc[227:300,100:]/1000.0,\n",
    "                       Conc1[tt,227:300,100:],20,\n",
    "                       vmax=8.8, vmin=3.5,\n",
    "                       cmap='Spectral_r')\n",
    "    \n",
    "    cset = ax1.contour(xc[227:300,100:]/1000.0,yc[227:300,100:]/1000.0,-bathy[227:300,100:],\n",
    "                       [ rc[30],-125,-100,-75,-50],\n",
    "                       colors=['k','0.50','0.50','0.50','0.50'],\n",
    "                       linewidth=1, \n",
    "                       rstride=2, \n",
    "                       cstride=2,\n",
    "                       zdir='z')\n",
    "    \n",
    "    ax1.clabel(cset, inline=1, fontsize=10)\n",
    "    ax1.set_aspect('auto')\n",
    "    ax1.set_title('Base case')\n",
    "    ax1.set_ylabel('Across-shore distance (km)')\n",
    "    ax1.set_xlabel('Alongshore distance (km)')\n",
    "    \n",
    "    #-------------------------------------------------------------------------------------------------------------------\n",
    "    ax2.clear()\n",
    "    iso2 = ax2.contourf(xc[227:300,100:]/1000.0,yc[227:300,100:]/1000.0,\n",
    "                        Conc1noc[tt,227:300,100:],20,\n",
    "                        vmax=8.8, vmin=3.5,\n",
    "                        cmap='Spectral_r')\n",
    "    \n",
    "    if tt==1:\n",
    "        cax,kw = mpl.colorbar.make_axes([ax1,ax2],location='bottom',shrink=0.7,pad=0.2)\n",
    "        cb = plt.colorbar(iso2, cax=cax,**kw)\n",
    "        cb.set_label('Mol/l')\n",
    "    \n",
    "    cset = ax2.contour(xc[227:300,100:]/1000.0,yc[227:300,100:]/1000.0,-bathyNoC[227:300,100:],\n",
    "                       [ rc[30],-125,-100,-75,-50], \n",
    "                       colors=['k','0.50','0.50','0.50','0.50'],\n",
    "                       linewidth=1, \n",
    "                       rstride=2, \n",
    "                       cstride=2,\n",
    "                       zdir='z')\n",
    "    ax2.clabel(cset, inline=1, fontsize=10)\n",
    "    ax2.set_aspect('auto')\n",
    "    ax2.set_title('Flat shelf')\n",
    "    ax2.set_xlabel('Alongshore distance (km)')\n",
    "    \n",
    "    #-------------------------------------------------------------------------------------------------------------------\n",
    "    ax3.clear()\n",
    "    iso3 = ax3.contourf(xc[227:300,100:]/1000.0,yc[227:300,100:]/1000.0,\n",
    "                        Conc1[tt,227:300,100:]-Conc1noc[tt,227:300,100:],15,\n",
    "                        vmax=2.2, vmin=-2.2,\n",
    "                        cmap='PiYG')\n",
    "    \n",
    "    if tt==1:\n",
    "        #tickCB = np.linspace(-2.2, 2.2, 6, endpoint=True)\n",
    "        cax3,kw = mpl.colorbar.make_axes([ax3],location='bottom',shrink=1.1,pad=0.2)\n",
    "        cb3 = plt.colorbar(iso3, cax=cax3 ,**kw)\n",
    "        cb3.set_label('Mol/l')\n",
    "    \n",
    "    cset = ax3.contour(xc[227:300,100:]/1000.0,yc[227:300,100:]/1000.0,-bathy[227:300,100:],\n",
    "                       [ rc[30],-125,-100,-75,-50],\n",
    "                       colors=['k','0.50','0.50','0.50','0.50'],\n",
    "                       linewidth=1, \n",
    "                       rstride=2, \n",
    "                       cstride=2,\n",
    "                       zdir='z')\n",
    "    \n",
    "    ax3.clabel(cset, inline=1, fontsize=10)\n",
    "    ax3.set_aspect('auto')\n",
    "    ax3.set_title('Canyon effect - day %0.1f ' %(tt/2.0))\n",
    "    ax3.set_xlabel('Alongshore distance (km)')\n",
    "    \n",
    "    \n",
    "    \n"
   ]
  },
  {
   "cell_type": "code",
   "execution_count": 75,
   "metadata": {
    "collapsed": false
   },
   "outputs": [],
   "source": [
    "## Animation\n",
    "#N=5\n",
    "\n",
    "\n",
    "#Empty figures\n",
    "sns.set_context('talk', font_scale=1.0)\n",
    "fig,((ax1),(ax2),(ax3)) = plt.subplots(1, 3, figsize=((12, 5)),sharey=True)\n",
    "\n",
    "#Initial image\n",
    "def init():\n",
    "    Plot(0,ax1,ax2,ax3)\n",
    "    #plt.tight_layout()\n",
    "    #return[ax1,ax2,ax3,ax4,ax5,ax6,ax7,ax8,ax9]\n",
    "    \n",
    "\n",
    "def animate(tt):\n",
    "    Plot(tt,ax1,ax2,ax3)\n",
    "    #plt.tight_layout()\n",
    "#The animation function (max frames=47)   \n",
    "\n",
    "\n",
    "anim = animation.FuncAnimation(fig, animate, init_func=init, frames=18,interval=400,blit=False, repeat=False)\n",
    "\n",
    "##A line that makes it all work\n",
    "mywriter = animation.FFMpegWriter()\n",
    "##Save in current folder\n",
    "anim.save('TracerShelfBottom_BaseCase.mp4',writer=mywriter,fps=2, dpi = 350, bitrate = 1000000, codec = \"libx264\")\n",
    "\n",
    "plt.show()\n"
   ]
  },
  {
   "cell_type": "code",
   "execution_count": null,
   "metadata": {
    "collapsed": true
   },
   "outputs": [],
   "source": []
  },
  {
   "cell_type": "code",
   "execution_count": null,
   "metadata": {
    "collapsed": true
   },
   "outputs": [],
   "source": []
  }
 ],
 "metadata": {
  "kernelspec": {
   "display_name": "Python 2",
   "language": "python",
   "name": "python2"
  },
  "language_info": {
   "codemirror_mode": {
    "name": "ipython",
    "version": 2
   },
   "file_extension": ".py",
   "mimetype": "text/x-python",
   "name": "python",
   "nbconvert_exporter": "python",
   "pygments_lexer": "ipython2",
   "version": "2.7.11"
  }
 },
 "nbformat": 4,
 "nbformat_minor": 0
}
