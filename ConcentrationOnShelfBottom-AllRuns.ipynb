{
 "cells": [
  {
   "cell_type": "markdown",
   "metadata": {},
   "source": [
    "# Tracer concentration on shelf bottom"
   ]
  },
  {
   "cell_type": "markdown",
   "metadata": {},
   "source": [
    "Map hcw on shelf by looking at bottom cells and multiplying their concentration by their area.\n",
    "\n",
    "\n",
    "The algorithm:"
   ]
  },
  {
   "cell_type": "code",
   "execution_count": 1,
   "metadata": {
    "collapsed": true
   },
   "outputs": [],
   "source": [
    "#KRM\n",
    "\n",
    "import numpy as np\n",
    "\n",
    "import matplotlib.pyplot as plt\n",
    "\n",
    "import matplotlib.colors as mcolors\n",
    "\n",
    "import matplotlib.cm as cm\n",
    "\n",
    "from math import *\n",
    "\n",
    "from mpl_toolkits.mplot3d.axes3d import Axes3D\n",
    "\n",
    "import scipy.io\n",
    "\n",
    "import scipy as spy\n",
    "\n",
    "%matplotlib inline\n",
    "\n",
    "from netCDF4 import Dataset\n",
    "\n",
    "import pylab as pl\n",
    "\n",
    "import os \n",
    "\n",
    "import sys\n",
    "\n",
    "import seaborn as sns\n"
   ]
  },
  {
   "cell_type": "code",
   "execution_count": 2,
   "metadata": {
    "collapsed": true
   },
   "outputs": [],
   "source": [
    "lib_path = os.path.abspath('../../Building_canyon/BuildCanyon/PythonModulesMITgcm') # Add absolute path to my python scripts\n",
    "sys.path.append(lib_path)\n",
    "\n",
    "import ReadOutTools_MITgcm as rout \n"
   ]
  },
  {
   "cell_type": "code",
   "execution_count": 3,
   "metadata": {
    "collapsed": true
   },
   "outputs": [],
   "source": [
    "sns.set()\n",
    "sns.set_style('white')\n",
    "sns.set_context('talk')"
   ]
  },
  {
   "cell_type": "code",
   "execution_count": 4,
   "metadata": {
    "collapsed": false
   },
   "outputs": [],
   "source": [
    "#Base case, iso =1 , No 3d diff.\n",
    "#CanyonGrid='/ocean/kramosmu/MITgcm/TracerExperiments/CNTDIFF/run03/gridGlob.nc'\n",
    "CanyonGrid='/ocean/kramosmu/MITgcm/TracerExperiments/CNTDIFF/run03/gridGlob.nc'\n",
    "CanyonGridOut = Dataset(CanyonGrid)\n",
    "\n",
    "NoCCanyonGrid='/ocean/kramosmu/MITgcm/TracerExperiments/CNTDIFF/run07/gridGlob.nc'\n",
    "NoCCanyonGridOut = Dataset(NoCCanyonGrid)\n",
    "\n",
    "CanyonState='/ocean/kramosmu/MITgcm/TracerExperiments/CNTDIFF/run03/stateGlob.nc'\n",
    "CanyonStateOut = Dataset(CanyonState)\n"
   ]
  },
  {
   "cell_type": "code",
   "execution_count": null,
   "metadata": {
    "collapsed": true
   },
   "outputs": [],
   "source": [
    "labelsListCanyon = ['High iso',\n",
    "                    'Base', \n",
    "                    'low iso',\n",
    "                    'kv=1E-4',\n",
    "                    'kv=1E-3',\n",
    "                    'N=3.9E-3',\n",
    "                    'N=6.3E-3',\n",
    "                    'N=3.0E-3',\n",
    "                    'kv=1E-7',\n",
    "                    'f=7.68E-5',\n",
    "                    'f=4.84E-5',\n",
    "                    'kv=3.8E-5',\n",
    "                    'kv=2.8E-5',\n",
    "                    'kv_can=1E-7, kv_out=1E-3',\n",
    "                    'kv_can=1E-7, kv_out=1E-4',\n",
    "                    'kv_can=1E-5, kv_out=1E-3',\n",
    "                    'kv_can=1E-5, kv_out=1E-4',\n",
    "]\n",
    "\n",
    "labelsListFlat = ['Base flat',\n",
    "                  'f=7.68E-5 flat',\n",
    "                  'f=4.84E-5 flat',\n",
    "                  'kv=1E-4 flat',\n",
    "                  'kv=1E-3 flat',\n",
    "                  'N=3.9E-3 flat',\n",
    "                  'N=6.3E-3 flat',\n",
    "                  'N=3.0E-3 flat',\n",
    "                  'kv=1E-7 flat',\n",
    "]\n"
   ]
  },
  {
   "cell_type": "code",
   "execution_count": 5,
   "metadata": {
    "collapsed": false
   },
   "outputs": [],
   "source": [
    "nx = 360\n",
    "ny = 360\n",
    "nz = 90\n",
    "nt = 19 # t dimension size \n",
    "\n",
    "xc = rout.getField(CanyonGrid, 'XC') # x coords tracer cells\n",
    "yc = rout.getField(CanyonGrid, 'YC') # y coords tracer cells\n",
    "rc = CanyonGridOut.variables['RC']\n",
    "bathy = rout.getField(CanyonGrid, 'Depth')\n",
    "bathyNoC = rout.getField(NoCCanyonGrid, 'Depth')\n",
    "\n",
    "hFacC = rout.getField(CanyonGrid, 'HFacC')\n",
    "MaskC = rout.getMask(CanyonGrid, 'HFacC')\n",
    "\n",
    "hFacCNoC = rout.getField(NoCCanyonGrid, 'HFacC')\n",
    "MaskCNoC = rout.getMask(NoCCanyonGrid, 'HFacC')\n",
    "rANoC = rout.getField(NoCCanyonGrid, 'rA')\n",
    "rA = rout.getField(CanyonGrid, 'rA')\n",
    "\n",
    "z = CanyonStateOut.variables['Z']\n",
    "\n",
    "time = CanyonStateOut.variables['T']"
   ]
  },
  {
   "cell_type": "markdown",
   "metadata": {
    "collapsed": true
   },
   "source": [
    "## Area-weighted average concentration\n",
    "\n",
    "$$\\frac{\\sum_{i=1}^{n} C_iA_i}{A_{shelf}}$$\n",
    "\n",
    "where $n$ is the total number of cells that constitute the shelf bottom, $C_i$ is the concentration in the $i-th$ cell, $A_i$ its area and $A_{shelf}$ the sum of all the cell areas."
   ]
  },
  {
   "cell_type": "code",
   "execution_count": 6,
   "metadata": {
    "collapsed": false
   },
   "outputs": [
    {
     "ename": "IndentationError",
     "evalue": "unexpected indent (<ipython-input-6-563f72cbfaed>, line 2)",
     "output_type": "error",
     "traceback": [
      "\u001b[1;36m  File \u001b[1;32m\"<ipython-input-6-563f72cbfaed>\"\u001b[1;36m, line \u001b[1;32m2\u001b[0m\n\u001b[1;33m    key0 = ['N2_tt00']\u001b[0m\n\u001b[1;37m    ^\u001b[0m\n\u001b[1;31mIndentationError\u001b[0m\u001b[1;31m:\u001b[0m unexpected indent\n"
     ]
    }
   ],
   "source": [
    "fileCanyon = 'results/metricsDataFrames/bottomConcentrationAreaCanyonRuns.csv'\n",
    "\n",
    "df = pd.read_csv(fileCanyon)\n",
    "columns = df.columns.values.tolist()\n",
    "\n",
    "time = df['time']\n",
    "\n",
    "bottomConcCanyon = np.empty((len(time),len(labelsListCanyon)))\n",
    "\n",
    "for col in columns[2:]:\n",
    "    bottomConcCanyon[:,ii] = df[col] \n",
    "\n"
   ]
  },
  {
   "cell_type": "code",
   "execution_count": null,
   "metadata": {
    "collapsed": false
   },
   "outputs": [],
   "source": [
    "fileFlat = 'results/metricsDataFrames/bottomConcentrationAreaFlatRuns.csv'\n",
    "\n",
    "df2 = pd.read_csv(fileFlat)\n",
    "columns2 = df2.columns.values.tolist()\n",
    "\n",
    "bottomConcFlat = np.empty((len(time),len(labelsListFlat)))\n",
    "\n",
    "for col in columns2[2:]:\n",
    "    bottomConcFlat[:,ii] = df2[col] \n",
    "\n"
   ]
  },
  {
   "cell_type": "code",
   "execution_count": null,
   "metadata": {
    "collapsed": false
   },
   "outputs": [],
   "source": []
  },
  {
   "cell_type": "code",
   "execution_count": null,
   "metadata": {
    "collapsed": false
   },
   "outputs": [],
   "source": []
  },
  {
   "cell_type": "code",
   "execution_count": null,
   "metadata": {
    "collapsed": false
   },
   "outputs": [],
   "source": []
  },
  {
   "cell_type": "code",
   "execution_count": null,
   "metadata": {
    "collapsed": false
   },
   "outputs": [],
   "source": []
  },
  {
   "cell_type": "markdown",
   "metadata": {
    "collapsed": true
   },
   "source": [
    "Note that I used the flat shelf mask to find the \"shelf bottom\". This means that the region over the canyon is the concentration*area over the lid of the canyon."
   ]
  },
  {
   "cell_type": "code",
   "execution_count": null,
   "metadata": {
    "collapsed": false
   },
   "outputs": [],
   "source": []
  },
  {
   "cell_type": "code",
   "execution_count": null,
   "metadata": {
    "collapsed": false
   },
   "outputs": [],
   "source": []
  },
  {
   "cell_type": "code",
   "execution_count": null,
   "metadata": {
    "collapsed": false,
    "scrolled": false
   },
   "outputs": [],
   "source": []
  },
  {
   "cell_type": "markdown",
   "metadata": {
    "collapsed": true
   },
   "source": []
  },
  {
   "cell_type": "code",
   "execution_count": null,
   "metadata": {
    "collapsed": true
   },
   "outputs": [],
   "source": []
  },
  {
   "cell_type": "code",
   "execution_count": null,
   "metadata": {
    "collapsed": true
   },
   "outputs": [],
   "source": [
    "sns.set_context('talk', font_scale=1.0)\n",
    "\n",
    "\n",
    "    \n",
    "fig,((ax1),(ax2)) = plt.subplots(1, 2, figsize=(20, 4),  sharey=True, sharex=True)\n",
    "    \n",
    "iso = ax1.contourf(xc[227:,:],yc[227:,:],Conc1noc[tt,227:,:]-Conc1[0,227:,:],20,\n",
    "                       vmin=-1.8,vmax=1.8,cmap='RdYlBu_r')\n",
    "cb = plt.colorbar(iso, shrink=1,ax=ax1)\n",
    "#cb.set_label('')\n",
    "cset = ax1.contour(xc[227:,:],yc[227:,:],-bathyNoC[227:,:],[-300,-200, rc[30],-125,-100,-75,-50],\n",
    "                       colors=['0.50','0.50','k','0.50','0.50','0.50','0.50'],linewidth=1, rstride=2, cstride=2,zdir='z')\n",
    "\n",
    "ax1.set_aspect('auto')\n",
    "ax1.set_title('Tr1 Shelf bottom C-C(t=0) day %0.1f ' %(tt/2.0))\n",
    "ax1.set_ylabel('Across-shore distance (m)')\n",
    "ax1.set_xlabel('Alongshore distance (m)')\n",
    "    \n",
    "iso2 = ax2.contourf(xc[227:,:],yc[227:,:],Conc3noc[tt,227:,:]-Conc3[0,227:,:],20,\n",
    "                        vmin=-1.8,vmax=1.8,cmap='RdYlBu_r')\n",
    "    cb2 = plt.colorbar(iso2, shrink=1,ax=ax2)\n",
    "    #cb2.set_label('m')\n",
    "    cset = ax2.contour(xc[227:,:],yc[227:,:],-bathyNoC[227:,:],[-300,-200, rc[30],-125,-100,-75,-50],\n",
    "                       colors=['0.50','0.50','k','0.50','0.50','0.50','0.50'],linewidth=1, rstride=2, cstride=2,zdir='z')\n",
    "\n",
    "    ax2.set_aspect('auto')\n",
    "    ax2.set_title('Tr3 Shelf bottom C-C(t=0) day %0.1f ' %(tt/2.0))\n",
    "    #ax2.set_ylabel('Across-shore distance (m)')\n",
    "    ax2.set_xlabel('Alongshore distance (m)')\n",
    "    \n",
    "    plt.tight_layout\n",
    "    plt.show\n",
    "\n",
    "#fig.savefig('/ocean/kramosmu/Figures/BathyShelfBoxComplete.eps', format='eps', dpi=1000, bbox_inches='tight')"
   ]
  }
 ],
 "metadata": {
  "kernelspec": {
   "display_name": "Python 2",
   "language": "python",
   "name": "python2"
  },
  "language_info": {
   "codemirror_mode": {
    "name": "ipython",
    "version": 2
   },
   "file_extension": ".py",
   "mimetype": "text/x-python",
   "name": "python",
   "nbconvert_exporter": "python",
   "pygments_lexer": "ipython2",
   "version": "2.7.11"
  }
 },
 "nbformat": 4,
 "nbformat_minor": 0
}
