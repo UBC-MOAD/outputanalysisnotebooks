{
 "cells": [
  {
   "cell_type": "markdown",
   "metadata": {},
   "source": [
    "## Depth integrated tracer on shelf per km along shelf, splitted into inner shelf and outer shelf\n",
    "\n",
    "This notebooks looks at the **effect of the canyon** on upwelling the inner and outer shelves. Effect of the canyon is defined here as the residual between a run with a canyon bathymetry and one with a flat shelf."
   ]
  },
  {
   "cell_type": "code",
   "execution_count": 1,
   "metadata": {
    "collapsed": false
   },
   "outputs": [],
   "source": [
    "#import gsw as sw # Gibbs seawater package\n",
    "\n",
    "from math import *\n",
    "\n",
    "import matplotlib.pyplot as plt\n",
    "\n",
    "import matplotlib.colors as mcolors\n",
    "\n",
    "%matplotlib inline\n",
    "\n",
    "#from MITgcmutils import rdmds\n",
    "\n",
    "from netCDF4 import Dataset\n",
    "\n",
    "import numpy as np\n",
    "\n",
    "import os \n",
    "\n",
    "import pandas as pd\n",
    "\n",
    "import pylab as pl\n",
    "\n",
    "import scipy.io\n",
    "\n",
    "import scipy as spy\n",
    "\n",
    "import seaborn as sns\n",
    "\n",
    "import sys"
   ]
  },
  {
   "cell_type": "code",
   "execution_count": 2,
   "metadata": {
    "collapsed": false
   },
   "outputs": [],
   "source": [
    "lib_path = os.path.abspath('../../Building_canyon/BuildCanyon/PythonModulesMITgcm') # Add absolute path to my python scripts\n",
    "#lib_path = os.path.abspath('../BuildCanyon/PythonModulesMITgcm') # Add absolute path to my python scripts\n",
    "\n",
    "sys.path.append(lib_path)\n",
    "\n",
    "import ReadOutTools_MITgcm as rout \n",
    "import MetricsPythonTools as mpt\n"
   ]
  },
  {
   "cell_type": "code",
   "execution_count": 3,
   "metadata": {
    "collapsed": false
   },
   "outputs": [],
   "source": [
    "sns.set()\n",
    "sns.set_style('white')\n",
    "sns.set_context('talk')"
   ]
  },
  {
   "cell_type": "code",
   "execution_count": 4,
   "metadata": {
    "collapsed": true
   },
   "outputs": [],
   "source": [
    "# plotting functions\n",
    "def plotCanyonPos(ax,UpX,DnX):\n",
    "    ax.axvline(UpX,color='0.70',linestyle='--')\n",
    "    ax.axvline(DnX,color='0.70',linestyle='--')\n",
    "\n",
    "def plotZeroLine(ax):\n",
    "    ax.axhline(y=0,color='0.70',linestyle='-')\n",
    "    \n"
   ]
  },
  {
   "cell_type": "code",
   "execution_count": 5,
   "metadata": {
    "collapsed": false
   },
   "outputs": [],
   "source": [
    "#Exp\n",
    "CGrid = '/ocean/kramosmu/MITgcm/TracerExperiments/CNTDIFF/run03/gridGlob.nc' \n",
    "CGridOut = Dataset(CGrid)\n",
    "\n",
    "CGridNoC = '/ocean/kramosmu/MITgcm/TracerExperiments/CNTDIFF/run07/gridGlob.nc' \n",
    "CGridNoCOut = Dataset(CGridNoC)\n",
    "#------------------------------------------------------------------------------------\n",
    "Ptracers = '/ocean/kramosmu/MITgcm/TracerExperiments/CNTDIFF/run03/ptracersGlob.nc' \n",
    "PtracersOut = Dataset(Ptracers)\n",
    "\n",
    "PtracersNoC = '/ocean/kramosmu/MITgcm/TracerExperiments/CNTDIFF/run07/ptracersGlob.nc' #No canyon\n",
    "PtracersOutNoC = Dataset(PtracersNoC)\n",
    "#------------------------------------ Kv ----------------------------------------------\n",
    "Ptracers11 = '/ocean/kramosmu/MITgcm/TracerExperiments/CNTDIFF/run11/ptracersGlob.nc' \n",
    "Ptracers12 = '/ocean/kramosmu/MITgcm/TracerExperiments/CNTDIFF/run12/ptracersGlob.nc' \n",
    "\n",
    "Ptracers24 = '/ocean/kramosmu/MITgcm/TracerExperiments/CNTDIFF/run24/ptracersGlob.nc' #No canyon\n",
    "Ptracers25 = '/ocean/kramosmu/MITgcm/TracerExperiments/CNTDIFF/run25/ptracersGlob.nc' #No canyon\n",
    "#----------------------------------- N -----------------------------------------------\n",
    "Ptracers14 = '/ocean/kramosmu/MITgcm/TracerExperiments/CNTDIFF/run14/ptracersGlob.nc' \n",
    "Ptracers15 = '/ocean/kramosmu/MITgcm/TracerExperiments/CNTDIFF/run15/ptracersGlob.nc' \n",
    "Ptracers16 = '/ocean/kramosmu/MITgcm/TracerExperiments/CNTDIFF/run16/ptracersGlob.nc' \n",
    "Ptracers17 = '/ocean/kramosmu/MITgcm/TracerExperiments/CNTDIFF/run17/ptracersGlob.nc' \n",
    "\n",
    "Ptracers26 = '/ocean/kramosmu/MITgcm/TracerExperiments/CNTDIFF/run26/ptracersGlob.nc' #No canyon\n",
    "Ptracers27 = '/ocean/kramosmu/MITgcm/TracerExperiments/CNTDIFF/run27/ptracersGlob.nc' #No canyon\n",
    "Ptracers28 = '/ocean/kramosmu/MITgcm/TracerExperiments/CNTDIFF/run28/ptracersGlob.nc' #No canyon\n",
    "Ptracers30 = '/ocean/kramosmu/MITgcm/TracerExperiments/CNTDIFF/run30/ptracersGlob.nc' #No canyon\n",
    "\n",
    "#---------------------------------- f --------------------------------------------------\n",
    "Ptracers18 = '/ocean/kramosmu/MITgcm/TracerExperiments/CNTDIFF/run18/ptracersGlob.nc' \n",
    "Ptracers19 = '/ocean/kramosmu/MITgcm/TracerExperiments/CNTDIFF/run19/ptracersGlob.nc' \n",
    "\n",
    "Ptracers22 = '/ocean/kramosmu/MITgcm/TracerExperiments/CNTDIFF/run22/ptracersGlob.nc' #No canyon\n",
    "Ptracers23 = '/ocean/kramosmu/MITgcm/TracerExperiments/CNTDIFF/run23/ptracersGlob.nc' #No canyon\n",
    "#---------------------------------- Kv 3D ----------------------------------------------\n",
    "Ptracers043D = '/ocean/kramosmu/MITgcm/TracerExperiments/3DDIFF/run04/ptracersGlob.nc' \n",
    "Ptracers053D = '/ocean/kramosmu/MITgcm/TracerExperiments/3DDIFF/run05/ptracersGlob.nc' \n",
    "Ptracers063D = '/ocean/kramosmu/MITgcm/TracerExperiments/3DDIFF/run06/ptracersGlob.nc' \n",
    "Ptracers073D = '/ocean/kramosmu/MITgcm/TracerExperiments/3DDIFF/run07/ptracersGlob.nc' \n",
    "\n",
    "\n",
    "State = '/ocean/kramosmu/MITgcm/TracerExperiments/CNTDIFF/run03/stateGlob.nc' \n",
    "StateNoC = '/ocean/kramosmu/MITgcm/TracerExperiments/CNTDIFF/run07/stateGlob.nc' \n",
    "\n"
   ]
  },
  {
   "cell_type": "code",
   "execution_count": 6,
   "metadata": {
    "collapsed": false
   },
   "outputs": [],
   "source": [
    "# General input\n",
    "\n",
    "nx = 360\n",
    "ny = 360\n",
    "nz = 90\n",
    "nt = 19 # t dimension size \n",
    "numTr = 22 # number of tracers in total (CNT =22, 3D = 4, total = 19)\n",
    "\n",
    "rc = CGridNoCOut.variables['RC']\n",
    "dxf = CGridNoCOut.variables['dxF']\n",
    "xc = rout.getField(CGridNoC, 'XC') # x coords tracer cells\n",
    "yc = rout.getField(CGridNoC, 'YC') # y coords tracer cells\n",
    "\n",
    "rA = rout.getField(CGridNoC, 'rA') \n",
    "depth = rout.getField(CGrid, 'Depth')\n",
    "drF = CGridNoCOut.variables['drF'] # vertical distance between faces\n",
    "drC = CGridNoCOut.variables['drC'] # vertical distance between centers\n",
    "\n",
    "hFacC = rout.getField(CGridNoC, 'HFacC')\n",
    "mask_NoC = rout.getMask(CGridNoC, 'HFacC')\n",
    "\n",
    "\n",
    "times = np.arange(0,nt,1)\n",
    "\n",
    "#print(drC[:])\n",
    "#print(np.shape(drC))"
   ]
  },
  {
   "cell_type": "code",
   "execution_count": 7,
   "metadata": {
    "collapsed": false
   },
   "outputs": [],
   "source": [
    "def HCW_Tracer_AlongShelf_Split(Tr,MaskC,nzlim,rA,hFacC,drF,yin,yfin,zfin,xi,yi):\n",
    "  '''\n",
    "  INPUT----------------------------------------------------------------------------------------------------------------\n",
    "    Tr    : Array with concentration values for a tracer. Until this function is more general, this should be size 19x90x360x360\n",
    "    MaskC : Land mask for tracer\n",
    "    nzlim : The nz index under which to look for water properties\n",
    "    rA    : Area of cell faces at C points (360x360)\n",
    "    fFacC : Fraction of open cell (90x360x360)\n",
    "    drF   : Distance between cell faces (90)\n",
    "    yin   : first across-shore index of shelf division\n",
    "    yfin  : final across-shore index of shelf division\n",
    "    zfin  : shelf break index + 1 \n",
    "    xi    : initial profile x index\n",
    "    yi    : initial profile y index\n",
    "    \n",
    "    OUTPUT----------------------------------------------------------------------------------------------------------------\n",
    "    VolWaterHighConc =  Array with the volume of water over the shelf [t,360] at every time output.\n",
    "    Total_Tracer =  Array with the mass of tracer (m^3*[C]*l/m^3) at each x-position over the shelf [t,360] at \n",
    "                    every time output. \n",
    "                                                \n",
    "  -----------------------------------------------------------------------------------------------------------------------\n",
    "  '''\n",
    "  maskExp = mpt.maskExpand(MaskC,Tr)\n",
    "\n",
    "  TrMask=np.ma.array(Tr,mask=maskExp)   \n",
    "    \n",
    "  trlim = TrMask[0,nzlim,yi,xi]\n",
    "    \n",
    "  print('tracer limit concentration is: ',trlim)\n",
    "    \n",
    "    \n",
    "  # mask cells with tracer concentration < trlim on shelf\n",
    "  HighConc_Masked = np.ma.masked_less(TrMask[:,:zfin,yin:yfin,:], trlim) \n",
    "  HighConc_Mask = HighConc_Masked.mask\n",
    "    \n",
    "  #Get volume of water of cells with relatively high concentration\n",
    "  rA_exp = np.expand_dims(rA[yin:yfin,:],0)\n",
    "  drF_exp = np.expand_dims(np.expand_dims(drF[:zfin],1),1)\n",
    "  rA_exp = rA_exp + np.zeros(hFacC[:zfin,yin:yfin,:].shape)\n",
    "  drF_exp = drF_exp + np.zeros(hFacC[:zfin,yin:yfin,:].shape)\n",
    "    \n",
    "  ShelfVolume = hFacC[:zfin,yin:yfin,:]*drF_exp*rA_exp\n",
    "  ShelfVolume_exp = np.expand_dims(ShelfVolume,0)\n",
    "  ShelfVolume_exp = ShelfVolume_exp + np.zeros(HighConc_Mask.shape)\n",
    "    \n",
    "  HighConc_CellVol = np.ma.masked_array(ShelfVolume_exp,mask = HighConc_Mask) \n",
    "  VolWaterHighConc =np.ma.sum(np.ma.sum(HighConc_CellVol,axis = 1),axis=1)\n",
    "    \n",
    "   #Get total mass of tracer on shelf\n",
    "  Total_Tracer = np.ma.sum(np.ma.sum(ShelfVolume_exp*TrMask[:,:zfin,yin:yfin,:]*1000.0,axis = 1),axis=1)\n",
    "   # 1 m^3 = 1000 l\n",
    "    \n",
    "  return (VolWaterHighConc, Total_Tracer)"
   ]
  },
  {
   "cell_type": "code",
   "execution_count": 8,
   "metadata": {
    "collapsed": true
   },
   "outputs": [],
   "source": [
    "def HCW_Tracer_AlongShelf_Split(rA,hFacC,drF,yin,yfin,zfin):\n",
    "    \n",
    "    rA_exp = np.expand_dims(rA[yin:yfin,:],0)\n",
    "    drF_exp = np.expand_dims(np.expand_dims(drF[:zfin],1),1)\n",
    "    rA_exp = rA_exp + np.zeros(hFacC[:zfin,yin:yfin,:].shape)\n",
    "    drF_exp = drF_exp + np.zeros(hFacC[:zfin,yin:yfin,:].shape)\n",
    " \n",
    "    Volume = np.ma.sum(hFacC[:zfin,yin:yfin,:]*drF_exp*rA_exp)\n",
    "    \n",
    "    return Volume"
   ]
  },
  {
   "cell_type": "code",
   "execution_count": 9,
   "metadata": {
    "collapsed": false
   },
   "outputs": [
    {
     "name": "stdout",
     "output_type": "stream",
     "text": [
      "y index for shelfbreak, 100m depth and 50 m depth\n",
      "depth[227,0] is 147.753973 \n",
      "depth[267,0] is 100.000000 \n",
      "depth[359,0] is 20.000000 \n",
      "('Shelf volume ($m^3$) is', 252519140999.81555)\n",
      "('inner volume ($m^3$) is', 136675732439.04407)\n",
      "('Outer volume ($m^3$) is', 121104105706.60306)\n"
     ]
    },
    {
     "name": "stderr",
     "output_type": "stream",
     "text": [
      "/home/kramosmu/anaconda/lib/python2.7/site-packages/matplotlib/text.py:52: UnicodeWarning: Unicode equal comparison failed to convert both arguments to Unicode - interpreting them as being unequal\n",
      "  if rotation in ('horizontal', None):\n",
      "/home/kramosmu/anaconda/lib/python2.7/site-packages/matplotlib/text.py:54: UnicodeWarning: Unicode equal comparison failed to convert both arguments to Unicode - interpreting them as being unequal\n",
      "  elif rotation == 'vertical':\n"
     ]
    },
    {
     "data": {
      "image/png": "[encoded data removed]",
      "text/plain": [
       "<matplotlib.figure.Figure at 0x7f91615c9490>"
      ]
     },
     "metadata": {},
     "output_type": "display_data"
    }
   ],
   "source": [
    "contour = plt.contour(xc[1,:],yc[:,1],depth,[50,100,150,200,400,600,800,1000,1200],colors='0.60')\n",
    "plt.clabel(contour, inline=1, fontsize=10)\n",
    "plt.axhline(yc[267,1],color='k',linestyle='--')\n",
    "plt.axhline(yc[227,1],color='k',linestyle='--')\n",
    "\n",
    "print('y index for shelfbreak, 100m depth and 50 m depth')\n",
    "print('depth[227,0] is %f ' % depth[227,0])\n",
    "print('depth[267,0] is %f ' % depth[267,0])\n",
    "print('depth[359,0] is %f ' % depth[359,0])\n",
    "\n",
    "ShelfVol = HCW_Tracer_AlongShelf_Split(rA,hFacC,drF,227,359,30)\n",
    "InnerVol = HCW_Tracer_AlongShelf_Split(rA,hFacC,drF,267,359,30)\n",
    "OuterVol = HCW_Tracer_AlongShelf_Split(rA,hFacC,drF,227,269,30)\n",
    "print('Shelf volume ($m^3$) is' , ShelfVol)\n",
    "print('inner volume ($m^3$) is' , InnerVol)\n",
    "print('Outer volume ($m^3$) is' , OuterVol)"
   ]
  },
  {
   "cell_type": "code",
   "execution_count": 10,
   "metadata": {
    "collapsed": false
   },
   "outputs": [],
   "source": [
    "Tr1 = rout.getField(Ptracers, 'Tr1')\n",
    "Tr1NoC = rout.getField(PtracersNoC, 'Tr1')"
   ]
  },
  {
   "cell_type": "markdown",
   "metadata": {},
   "source": [
    "## Changing Diffusivity"
   ]
  },
  {
   "cell_type": "code",
   "execution_count": 11,
   "metadata": {
    "collapsed": false
   },
   "outputs": [
    {
     "ename": "TypeError",
     "evalue": "HCW_Tracer_AlongShelf_Split() takes exactly 6 arguments (11 given)",
     "output_type": "error",
     "traceback": [
      "\u001b[1;31m---------------------------------------------------------------------------\u001b[0m",
      "\u001b[1;31mTypeError\u001b[0m                                 Traceback (most recent call last)",
      "\u001b[1;32m<ipython-input-11-7c224cbf2fef>\u001b[0m in \u001b[0;36m<module>\u001b[1;34m()\u001b[0m\n\u001b[1;32m----> 1\u001b[1;33m \u001b[0mHCWout\u001b[0m\u001b[1;33m,\u001b[0m\u001b[0mTrMassout\u001b[0m \u001b[1;33m=\u001b[0m \u001b[0mHCW_Tracer_AlongShelf_Split\u001b[0m\u001b[1;33m(\u001b[0m\u001b[0mTr1\u001b[0m\u001b[1;33m,\u001b[0m\u001b[0mmask_NoC\u001b[0m\u001b[1;33m,\u001b[0m\u001b[1;36m30\u001b[0m\u001b[1;33m,\u001b[0m\u001b[0mrA\u001b[0m\u001b[1;33m,\u001b[0m\u001b[0mhFacC\u001b[0m\u001b[1;33m,\u001b[0m\u001b[0mdrF\u001b[0m\u001b[1;33m,\u001b[0m\u001b[1;36m227\u001b[0m\u001b[1;33m,\u001b[0m\u001b[1;36m267\u001b[0m\u001b[1;33m,\u001b[0m\u001b[1;36m30\u001b[0m\u001b[1;33m,\u001b[0m\u001b[1;36m180\u001b[0m\u001b[1;33m,\u001b[0m\u001b[1;36m50\u001b[0m\u001b[1;33m)\u001b[0m\u001b[1;33m\u001b[0m\u001b[0m\n\u001b[0m\u001b[0;32m      2\u001b[0m \u001b[0mHCWin\u001b[0m\u001b[1;33m,\u001b[0m\u001b[0mTrMassin\u001b[0m \u001b[1;33m=\u001b[0m \u001b[0mHCW_Tracer_AlongShelf_Split\u001b[0m\u001b[1;33m(\u001b[0m\u001b[0mTr1\u001b[0m\u001b[1;33m,\u001b[0m\u001b[0mmask_NoC\u001b[0m\u001b[1;33m,\u001b[0m\u001b[1;36m30\u001b[0m\u001b[1;33m,\u001b[0m\u001b[0mrA\u001b[0m\u001b[1;33m,\u001b[0m\u001b[0mhFacC\u001b[0m\u001b[1;33m,\u001b[0m\u001b[0mdrF\u001b[0m\u001b[1;33m,\u001b[0m\u001b[1;36m267\u001b[0m\u001b[1;33m,\u001b[0m\u001b[1;36m359\u001b[0m\u001b[1;33m,\u001b[0m\u001b[1;36m30\u001b[0m\u001b[1;33m,\u001b[0m\u001b[1;36m180\u001b[0m\u001b[1;33m,\u001b[0m\u001b[1;36m50\u001b[0m\u001b[1;33m)\u001b[0m\u001b[1;33m\u001b[0m\u001b[0m\n\u001b[0;32m      3\u001b[0m \u001b[1;33m\u001b[0m\u001b[0m\n\u001b[0;32m      4\u001b[0m \u001b[0mHCWNoCout\u001b[0m\u001b[1;33m,\u001b[0m\u001b[0mTrMassNoCout\u001b[0m \u001b[1;33m=\u001b[0m \u001b[0mHCW_Tracer_AlongShelf_Split\u001b[0m\u001b[1;33m(\u001b[0m\u001b[0mTr1NoC\u001b[0m\u001b[1;33m,\u001b[0m\u001b[0mmask_NoC\u001b[0m\u001b[1;33m,\u001b[0m\u001b[1;36m30\u001b[0m\u001b[1;33m,\u001b[0m\u001b[0mrA\u001b[0m\u001b[1;33m,\u001b[0m\u001b[0mhFacC\u001b[0m\u001b[1;33m,\u001b[0m\u001b[0mdrF\u001b[0m\u001b[1;33m,\u001b[0m\u001b[1;36m227\u001b[0m\u001b[1;33m,\u001b[0m\u001b[1;36m267\u001b[0m\u001b[1;33m,\u001b[0m\u001b[1;36m30\u001b[0m\u001b[1;33m,\u001b[0m\u001b[1;36m180\u001b[0m\u001b[1;33m,\u001b[0m\u001b[1;36m50\u001b[0m\u001b[1;33m)\u001b[0m\u001b[1;33m\u001b[0m\u001b[0m\n\u001b[0;32m      5\u001b[0m \u001b[0mHCWNoCin\u001b[0m\u001b[1;33m,\u001b[0m\u001b[0mTrMassNoCin\u001b[0m \u001b[1;33m=\u001b[0m \u001b[0mHCW_Tracer_AlongShelf_Split\u001b[0m\u001b[1;33m(\u001b[0m\u001b[0mTr1NoC\u001b[0m\u001b[1;33m,\u001b[0m\u001b[0mmask_NoC\u001b[0m\u001b[1;33m,\u001b[0m\u001b[1;36m30\u001b[0m\u001b[1;33m,\u001b[0m\u001b[0mrA\u001b[0m\u001b[1;33m,\u001b[0m\u001b[0mhFacC\u001b[0m\u001b[1;33m,\u001b[0m\u001b[0mdrF\u001b[0m\u001b[1;33m,\u001b[0m\u001b[1;36m267\u001b[0m\u001b[1;33m,\u001b[0m\u001b[1;36m359\u001b[0m\u001b[1;33m,\u001b[0m\u001b[1;36m30\u001b[0m\u001b[1;33m,\u001b[0m\u001b[1;36m180\u001b[0m\u001b[1;33m,\u001b[0m\u001b[1;36m50\u001b[0m\u001b[1;33m)\u001b[0m\u001b[1;33m\u001b[0m\u001b[0m\n",
      "\u001b[1;31mTypeError\u001b[0m: HCW_Tracer_AlongShelf_Split() takes exactly 6 arguments (11 given)"
     ]
    }
   ],
   "source": [
    "HCWout,TrMassout = HCW_Tracer_AlongShelf_Split(Tr1,mask_NoC,30,rA,hFacC,drF,227,267,30,180,50)\n",
    "HCWin,TrMassin = HCW_Tracer_AlongShelf_Split(Tr1,mask_NoC,30,rA,hFacC,drF,267,359,30,180,50)\n",
    "\n",
    "HCWNoCout,TrMassNoCout = HCW_Tracer_AlongShelf_Split(Tr1NoC,mask_NoC,30,rA,hFacC,drF,227,267,30,180,50)\n",
    "HCWNoCin,TrMassNoCin = HCW_Tracer_AlongShelf_Split(Tr1NoC,mask_NoC,30,rA,hFacC,drF,267,359,30,180,50)\n",
    "\n"
   ]
  },
  {
   "cell_type": "code",
   "execution_count": null,
   "metadata": {
    "collapsed": false
   },
   "outputs": [],
   "source": [
    "Tra = rout.getField(Ptracers11, 'Tr2')\n",
    "Trb = rout.getField(Ptracers12, 'Tr3')\n",
    "Tre = rout.getField(Ptracers17, 'Tr1')\n",
    "\n",
    "Trc = rout.getField(Ptracers24, 'Tr1')\n",
    "Trd = rout.getField(Ptracers25, 'Tr1')\n",
    "Trf = rout.getField(Ptracers30, 'Tr1')"
   ]
  },
  {
   "cell_type": "code",
   "execution_count": null,
   "metadata": {
    "collapsed": false,
    "scrolled": false
   },
   "outputs": [],
   "source": [
    "HCW11out,TrMass11out = HCW_Tracer_AlongShelf_Split(Tra,mask_NoC,30,rA,hFacC,drF,227,267,30,180,50)\n",
    "HCW12out,TrMass12out = HCW_Tracer_AlongShelf_Split(Trb,mask_NoC,30,rA,hFacC,drF,227,267,30,180,50)\n",
    "HCW17out,TrMass17out = HCW_Tracer_AlongShelf_Split(Tre,mask_NoC,30,rA,hFacC,drF,227,267,30,180,50)\n",
    "\n",
    "HCW11in,TrMass11in = HCW_Tracer_AlongShelf_Split(Tra,mask_NoC,30,rA,hFacC,drF,267,359,30,180,50)\n",
    "HCW12in,TrMass12in = HCW_Tracer_AlongShelf_Split(Trb,mask_NoC,30,rA,hFacC,drF,267,359,30,180,50)\n",
    "HCW17in,TrMass17in = HCW_Tracer_AlongShelf_Split(Tre,mask_NoC,30,rA,hFacC,drF,267,359,30,180,50)\n",
    "\n",
    "HCW24out,TrMass24out = HCW_Tracer_AlongShelf_Split(Trc,mask_NoC,30,rA,hFacC,drF,227,267,30,180,50)\n",
    "HCW25out,TrMass25out = HCW_Tracer_AlongShelf_Split(Trd,mask_NoC,30,rA,hFacC,drF,227,267,30,180,50)\n",
    "HCW30out,TrMass30out = HCW_Tracer_AlongShelf_Split(Trf,mask_NoC,30,rA,hFacC,drF,227,267,30,180,50)\n",
    "\n",
    "HCW24in,TrMass24in = HCW_Tracer_AlongShelf_Split(Trc,mask_NoC,30,rA,hFacC,drF,267,359,30,180,50)\n",
    "HCW25in,TrMass25in = HCW_Tracer_AlongShelf_Split(Trd,mask_NoC,30,rA,hFacC,drF,267,359,30,180,50)\n",
    "HCW30in,TrMass30in = HCW_Tracer_AlongShelf_Split(Trf,mask_NoC,30,rA,hFacC,drF,267,359,30,180,50)\n"
   ]
  },
  {
   "cell_type": "code",
   "execution_count": null,
   "metadata": {
    "collapsed": false
   },
   "outputs": [],
   "source": [
    "fig,((ax1,ax2,ax3),(ax4,ax5,ax6),(ax7,ax8,ax9)) = plt.subplots(3,3, figsize = (14,12),sharex=True, sharey=True)\n",
    "\n",
    "axlist = [ax1,ax2,ax3,ax4,ax5,ax6,ax7,ax8,ax9]\n",
    "\n",
    "times = [2,4,6,8,10,12,14,16,18]\n",
    "for ii,ax in zip(times,axlist):\n",
    "    plotZeroLine(ax)\n",
    "    ax.plot(xc[1,:]/1000,(HCW17out[ii,:]-HCW30out[ii,:])/(1000*dxf[0,:]),sns.xkcd_rgb[\"forest\"],label='$\\kappa_v=10^{-7}m^2s^{-1}$')\n",
    "    ax.plot(xc[1,:]/1000,(HCWout[ii,:]-HCWNoCout[ii,:])/(1000*dxf[0,:]),sns.xkcd_rgb[\"kelly green\"],label='Base $\\kappa_v=10^{-5}m^2s^{-1}$')\n",
    "    ax.plot(xc[1,:]/1000,(HCW11out[ii,:]-HCW24out[ii,:])/(1000*dxf[0,:]),sns.xkcd_rgb[\"leaf\"],label='$\\kappa_v=10^{-4}m^2s^{-1}$')\n",
    "    ax.plot(xc[1,:]/1000,(HCW12out[ii,:]-HCW25out[ii,:])/(1000*dxf[0,:]),sns.xkcd_rgb[\"jade\"],label='$\\kappa_v=10^{-3}m^2s^{-1}$')\n",
    "    \n",
    "    ax.set_title('day %d' %(ii/2))\n",
    "    plotCanyonPos(ax,xc[1,120]/1000,xc[1,240]/1000)\n",
    "\n",
    "ax1.legend(loc=0)\n",
    "ax8.set_xlabel('Alongshore distance (km)')\n",
    "ax4.set_ylabel('Volume HCW per m ($10^3$ $m^3$)')\n",
    "ax2.set_title('Outer Shelf, day 2')\n",
    "    \n",
    "plt.tight_layout()"
   ]
  },
  {
   "cell_type": "code",
   "execution_count": null,
   "metadata": {
    "collapsed": false
   },
   "outputs": [],
   "source": [
    "fig,((ax1,ax2,ax3),(ax4,ax5,ax6),(ax7,ax8,ax9)) = plt.subplots(3,3, figsize = (14,12),sharex=True, sharey=True)\n",
    "\n",
    "axlist = [ax1,ax2,ax3,ax4,ax5,ax6,ax7,ax8,ax9]\n",
    "\n",
    "times = [2,4,6,8,10,12,14,16,18]\n",
    "for ii,ax in zip(times,axlist):\n",
    "    plotZeroLine(ax)\n",
    "    ax.plot(xc[1,:]/1000,(HCW17in[ii,:].data-HCW30in[ii,:].data)/(1000*dxf[0,:]),sns.xkcd_rgb[\"forest\"],label='$\\kappa_v=10^{-7}m^2s^{-1}$')\n",
    "    ax.plot(xc[1,:]/1000,(HCWin[ii,:].data-HCWNoCin[ii,:].data)/(1000*dxf[0,:]),sns.xkcd_rgb[\"kelly green\"],label='Base $\\kappa_v=10^{-5}m^2s^{-1}$')\n",
    "    ax.plot(xc[1,:]/1000,(HCW11in[ii,:].data-HCW24in[ii,:].data)/(1000*dxf[0,:]),sns.xkcd_rgb[\"leaf\"],label='$\\kappa_v=10^{-4}m^2s^{-1}$')\n",
    "    ax.plot(xc[1,:]/1000,(HCW12in[ii,:].data-HCW25in[ii,:].data)/(1000*dxf[0,:]),sns.xkcd_rgb[\"jade\"],label='$\\kappa_v=10^{-3}m^2s^{-1}$')\n",
    "    \n",
    "    \n",
    "    ax.set_title('day %d' %(ii/2))\n",
    "    plotCanyonPos(ax,xc[1,120]/1000,xc[1,240]/1000)\n",
    "\n",
    "ax1.legend(loc=0)\n",
    "ax8.set_xlabel('Alongshore distance (km)')\n",
    "ax4.set_ylabel('Volume HCW per m ($10^3$ $m^3$)')\n",
    "ax2.set_title('Inner Shelf, day 2')\n",
    "    \n",
    "plt.tight_layout()\n",
    "\n"
   ]
  },
  {
   "cell_type": "code",
   "execution_count": null,
   "metadata": {
    "collapsed": false
   },
   "outputs": [],
   "source": [
    "fig,((ax1,ax2,ax3),(ax4,ax5,ax6),(ax7,ax8,ax9)) = plt.subplots(3,3, figsize = (14,12),sharex=True, sharey=True)\n",
    "\n",
    "axlist = [ax1,ax2,ax3,ax4,ax5,ax6,ax7,ax8,ax9]\n",
    "\n",
    "times = [2,4,6,8,10,12,14,16,18]\n",
    "for ii,ax in zip(times,axlist):\n",
    "    plotZeroLine(ax)\n",
    "    ax.plot(xc[1,:]/1000,(TrMass17out[ii,:]-TrMass30out[ii,:])/(1000000*dxf[0,:]),sns.xkcd_rgb[\"forest\"],label='$\\kappa_v=10^{-7}m^2s^{-1}$')\n",
    "    ax.plot(xc[1,:]/1000,(TrMassout[ii,:]-TrMassNoCout[ii,:])/(1000000*dxf[0,:]),sns.xkcd_rgb[\"kelly green\"],label='Base $\\kappa_v=10^{-5}m^2s^{-1}$')\n",
    "    ax.plot(xc[1,:]/1000,(TrMass11out[ii,:]-TrMass24out[ii,:])/(1000000*dxf[0,:]),sns.xkcd_rgb[\"leaf\"],label='$\\kappa_v=10^{-4}m^2s^{-1}$')\n",
    "    ax.plot(xc[1,:]/1000,(TrMass12out[ii,:]-TrMass25out[ii,:])/(1000000*dxf[0,:]),sns.xkcd_rgb[\"jade\"],label='$\\kappa_v=10^{-3}m^2s^{-1}$')\n",
    "    \n",
    "    \n",
    "    ax.set_title('day %d' %(ii/2))\n",
    "    plotCanyonPos(ax,xc[1,120]/1000,xc[1,240]/1000)\n",
    "\n",
    "ax1.legend(loc=0)\n",
    "ax8.set_xlabel('Alongshore distance (km)')\n",
    "ax4.set_ylabel('Tracer mass per m ($10^6$ $[C]m^3$)')\n",
    "ax2.set_title('Outer Shelf, day 2')\n",
    "plt.tight_layout()    \n"
   ]
  },
  {
   "cell_type": "code",
   "execution_count": null,
   "metadata": {
    "collapsed": false
   },
   "outputs": [],
   "source": [
    "fig,((ax1,ax2,ax3),(ax4,ax5,ax6),(ax7,ax8,ax9)) = plt.subplots(3,3, figsize = (14,12),sharex=True, sharey=True)\n",
    "\n",
    "axlist = [ax1,ax2,ax3,ax4,ax5,ax6,ax7,ax8,ax9]\n",
    "\n",
    "times = [2,4,6,8,10,12,14,16,18]\n",
    "for ii,ax in zip(times,axlist):\n",
    "    plotZeroLine(ax)\n",
    "    ax.plot(xc[1,:]/1000,(TrMass17in[ii,:]-TrMass30in[ii,:])/(1000000*dxf[0,:]),sns.xkcd_rgb[\"forest\"],label='$\\kappa_v=10^{-7}m^2s^{-1}$')\n",
    "    ax.plot(xc[1,:]/1000,(TrMassin[ii,:]-TrMassNoCin[ii,:])/(1000000*dxf[0,:]),sns.xkcd_rgb[\"kelly green\"],label='Base $\\kappa_v=10^{-5}m^2s^{-1}$')\n",
    "    ax.plot(xc[1,:]/1000,(TrMass11in[ii,:]-TrMass24in[ii,:])/(1000000*dxf[0,:]),sns.xkcd_rgb[\"leaf\"],label='$\\kappa_v=10^{-4}m^2s^{-1}$')\n",
    "    ax.plot(xc[1,:]/1000,(TrMass12in[ii,:]-TrMass25in[ii,:])/(1000000*dxf[0,:]),sns.xkcd_rgb[\"jade\"],label='$\\kappa_v=10^{-3}m^2s^{-1}$')\n",
    "    \n",
    "    \n",
    "    ax.set_title('day %d' %(ii/2))\n",
    "    plotCanyonPos(ax,xc[1,120]/1000,xc[1,240]/1000)\n",
    "\n",
    "ax1.legend(loc=0)\n",
    "ax8.set_xlabel('Alongshore distance (km)')\n",
    "ax4.set_ylabel('Tracer mass per m ($10^6$ $[C]m^3$)')\n",
    "ax2.set_title('Inner Shelf, day 2')\n",
    "plt.tight_layout()    \n"
   ]
  },
  {
   "cell_type": "code",
   "execution_count": null,
   "metadata": {
    "collapsed": false
   },
   "outputs": [],
   "source": [
    "fig,(ax1,ax2) = plt.subplots(2,1, figsize = (10,10),sharex=True)\n",
    "\n",
    "tt = np.arange(19)\n",
    "\n",
    "ax1.plot(tt/2.,np.sum((TrMass17out-TrMass30out),axis=1)/1.E14,sns.xkcd_rgb[\"forest\"],marker = 'o',label='$\\kappa_v=10^{-7}m^2s^{-1}$')\n",
    "ax1.plot(tt/2.,np.sum((TrMassout-TrMassNoCout),axis=1)/1.E14,sns.xkcd_rgb[\"kelly green\"],marker = 'o',label='Base $\\kappa_v=10^{-5}m^2s^{-1}$')\n",
    "ax1.plot(tt/2.,np.sum((TrMass11out-TrMass24out),axis=1)/1.E14,sns.xkcd_rgb[\"leaf\"],marker = 'o',label='$\\kappa_v=10^{-4}m^2s^{-1}$')\n",
    "ax1.plot(tt/2.,np.sum((TrMass12out-TrMass25out),axis=1)/1.E14,sns.xkcd_rgb[\"jade\"],marker = 'o',label='$\\kappa_v=10^{-3}m^2s^{-1}$')\n",
    "   \n",
    "ax2.plot(tt/2.,np.sum(HCW17out-HCW30out,axis=1)/1.E10,sns.xkcd_rgb[\"forest\"],marker = 'o',label='$\\kappa_v=10^{-7}m^2s^{-1}$')\n",
    "ax2.plot(tt/2.,np.sum(HCWout-HCWNoCout,axis=1)/1.E10,sns.xkcd_rgb[\"kelly green\"],marker = 'o',label='Base $\\kappa_v=10^{-5}m^2s^{-1}$')\n",
    "ax2.plot(tt/2.,np.sum(HCW11out-HCW24out,axis=1)/1.E10,sns.xkcd_rgb[\"leaf\"],marker = 'o',label='$\\kappa_v=10^{-4}m^2s^{-1}$')\n",
    "ax2.plot(tt/2.,np.sum(HCW12out-HCW25out,axis=1)/1.E10,sns.xkcd_rgb[\"jade\"],marker = 'o',label='$\\kappa_v=10^{-3}m^2s^{-1}$')\n",
    "  \n",
    "    \n",
    "ax1.legend(loc=0)\n",
    "ax2.set_xlabel('Day')\n",
    "ax1.set_ylabel('Tracer mass per m ($10^{14}$ $[C]m^3$)')\n",
    "ax2.set_ylabel('HCW volume per m ($10^{10}$ $m^3$)')\n",
    "ax1.set_title('Outer Shelf')\n",
    "plt.tight_layout()\n",
    "\n",
    "plt.show()\n",
    "\n"
   ]
  },
  {
   "cell_type": "code",
   "execution_count": null,
   "metadata": {
    "collapsed": false
   },
   "outputs": [],
   "source": [
    "fig,(ax1,ax2) = plt.subplots(2,1, figsize = (10,10),sharex=True)\n",
    "\n",
    "tt = np.arange(19)\n",
    "plotZeroLine(ax1)\n",
    "ax1.plot(tt/2.,np.sum(TrMass17in-TrMass30in,axis=1)/1.E14,sns.xkcd_rgb[\"forest\"],marker = 'o',label='$\\kappa_v=10^{-7}m^2s^{-1}$')\n",
    "ax1.plot(tt/2.,np.sum(TrMassin-TrMassNoCin,axis=1)/1.E14,sns.xkcd_rgb[\"kelly green\"],marker = 'o',label='Base $\\kappa_v=10^{-5}m^2s^{-1}$')\n",
    "ax1.plot(tt/2.,np.sum(TrMass11in-TrMass24in,axis=1)/1.E14,sns.xkcd_rgb[\"leaf\"],marker = 'o',label='$\\kappa_v=10^{-4}m^2s^{-1}$')\n",
    "ax1.plot(tt/2.,np.sum(TrMass12in-TrMass25in,axis=1)/1.E14,sns.xkcd_rgb[\"jade\"],marker = 'o',label='$\\kappa_v=10^{-3}m^2s^{-1}$')\n",
    "\n",
    "ax2.plot(tt/2.,np.sum(HCW17in.data-HCW30in.data,axis=1)/1.E10,sns.xkcd_rgb[\"forest\"],marker = 'o',label='$\\kappa_v=10^{-7}m^2s^{-1}$')\n",
    "ax2.plot(tt/2.,np.sum(HCWin.data-HCWNoCin.data,axis=1)/1.E10,sns.xkcd_rgb[\"kelly green\"],marker = 'o',label='Base $\\kappa_v=10^{-5}m^2s^{-1}$')\n",
    "ax2.plot(tt/2.,np.sum(HCW11in.data-HCW24in.data,axis=1)/1.E10,sns.xkcd_rgb[\"leaf\"],marker = 'o',label='$\\kappa_v=10^{-4}m^2s^{-1}$')\n",
    "ax2.plot(tt/2.,np.sum(HCW12in.data-HCW25in.data,axis=1)/1.E10,sns.xkcd_rgb[\"jade\"],marker = 'o',label='$\\kappa_v=10^{-3}m^2s^{-1}$')\n",
    "  \n",
    "    \n",
    "ax1.legend(loc=0)\n",
    "ax2.set_xlabel('Day')\n",
    "ax1.set_ylabel('Tracer mass per m ($10^{14}$ $[C]m^3$)')\n",
    "ax2.set_ylabel('HCW volume per m ($10^{10}$ $m^3$)')\n",
    "ax1.set_title('Inner Shelf')\n",
    "plt.tight_layout()\n",
    "\n",
    "plt.show()\n",
    "\n"
   ]
  },
  {
   "cell_type": "markdown",
   "metadata": {
    "collapsed": false
   },
   "source": [
    "## Changing geography of diapycnal diffusivity "
   ]
  },
  {
   "cell_type": "code",
   "execution_count": null,
   "metadata": {
    "collapsed": true
   },
   "outputs": [],
   "source": [
    "Tra = rout.getField(Ptracers043D, 'Tr1')\n",
    "Trb = rout.getField(Ptracers053D, 'Tr1')\n",
    "Trc = rout.getField(Ptracers063D, 'Tr1')\n",
    "Trd = rout.getField(Ptracers073D, 'Tr1')\n",
    "\n",
    "Tre = rout.getField(Ptracers30, 'Tr1')\n"
   ]
  },
  {
   "cell_type": "code",
   "execution_count": null,
   "metadata": {
    "collapsed": false
   },
   "outputs": [],
   "source": [
    "HCW043Dout,TrMass043Dout = HCW_Tracer_AlongShelf_Split(Tra,mask_NoC,30,rA,hFacC,drF,227,267,30,180,50)\n",
    "HCW053Dout,TrMass053Dout = HCW_Tracer_AlongShelf_Split(Trb,mask_NoC,30,rA,hFacC,drF,227,267,30,180,50)\n",
    "HCW063Dout,TrMass063Dout = HCW_Tracer_AlongShelf_Split(Trc,mask_NoC,30,rA,hFacC,drF,227,267,30,180,50)\n",
    "HCW073Dout,TrMass073Dout = HCW_Tracer_AlongShelf_Split(Trd,mask_NoC,30,rA,hFacC,drF,227,267,30,180,50)\n",
    "HCW30out,TrMass30out = HCW_Tracer_AlongShelf_Split(Tre,mask_NoC,30,rA,hFacC,drF,227,267,30,180,50)\n",
    "\n",
    "HCW043Din,TrMass043Din = HCW_Tracer_AlongShelf_Split(Tra,mask_NoC,30,rA,hFacC,drF,267,359,30,180,50)\n",
    "HCW053Din,TrMass053Din = HCW_Tracer_AlongShelf_Split(Trb,mask_NoC,30,rA,hFacC,drF,267,359,30,180,50)\n",
    "HCW063Din,TrMass063Din = HCW_Tracer_AlongShelf_Split(Trc,mask_NoC,30,rA,hFacC,drF,267,359,30,180,50)\n",
    "HCW073Din,TrMass073Din = HCW_Tracer_AlongShelf_Split(Trd,mask_NoC,30,rA,hFacC,drF,267,359,30,180,50)\n",
    "HCW30in,TrMass30in = HCW_Tracer_AlongShelf_Split(Tre,mask_NoC,30,rA,hFacC,drF,267,359,30,180,50)"
   ]
  },
  {
   "cell_type": "code",
   "execution_count": null,
   "metadata": {
    "collapsed": false
   },
   "outputs": [],
   "source": [
    "fig,((ax1,ax2,ax3),(ax4,ax5,ax6),(ax7,ax8,ax9)) = plt.subplots(3,3, figsize = (14,12),sharex=True, sharey=True)\n",
    "\n",
    "axlist = [ax1,ax2,ax3,ax4,ax5,ax6,ax7,ax8,ax9]\n",
    "\n",
    "times = [2,4,6,8,10,12,14,16,18]\n",
    "for ii,ax in zip(times,axlist):\n",
    "    plotZeroLine(ax)\n",
    "    ax.plot(xc[1,:]/1000,(HCWout[ii,:]-HCWNoCout[ii,:])/(1000*dxf[0,:]),sns.xkcd_rgb[\"kelly green\"],label='Base $\\kappa_v=10^{-5}m^2s^{-1}$')\n",
    "    ax.plot(xc[1,:]/1000,(HCW043Dout[ii,:]-HCW30out[ii,:])/(1000*dxf[0,:]),sns.xkcd_rgb[\"royal purple\"],label='$\\kappa_vin=10^{-3},\\kappa_vout=10^{-5}m^2s^{-1}$')\n",
    "    ax.plot(xc[1,:]/1000,(HCW053Dout[ii,:]-HCW30out[ii,:])/(1000*dxf[0,:]),sns.xkcd_rgb[\"muted purple\"],label='$\\kappa_vin=10^{-4},\\kappa_vout=10^{-5}m^2s^{-1}$')\n",
    "    ax.plot(xc[1,:]/1000,(HCW063Dout[ii,:]-HCWNoCout[ii,:])/(1000*dxf[0,:]),sns.xkcd_rgb[\"dark hot pink\"],label='$\\kappa_vin=10^{-3},\\kappa_vout=10^{-5}m^2s^{-1}$')\n",
    "    ax.plot(xc[1,:]/1000,(HCW073Dout[ii,:]-HCWNoCout[ii,:])/(1000*dxf[0,:]),sns.xkcd_rgb[\"muted pink\"],label='$\\kappa_vin=10^{-4},\\kappa_vout=10^{-5}m^2s^{-1}$')\n",
    "    \n",
    "    \n",
    "    ax.set_title('day %d' %(ii/2))\n",
    "    plotCanyonPos(ax,xc[1,120]/1000,xc[1,240]/1000)\n",
    "\n",
    "ax1.legend(loc=0)\n",
    "ax8.set_xlabel('Alongshore distance (km)')\n",
    "ax4.set_ylabel('Volume HCW per m ($10^3$ $m^3$)')\n",
    "ax2.set_title('Outer Shelf, day 2')\n",
    "plt.tight_layout()    \n"
   ]
  },
  {
   "cell_type": "code",
   "execution_count": null,
   "metadata": {
    "collapsed": false
   },
   "outputs": [],
   "source": [
    "fig,((ax1,ax2,ax3),(ax4,ax5,ax6),(ax7,ax8,ax9)) = plt.subplots(3,3, figsize = (14,12),sharex=True, sharey=True)\n",
    "\n",
    "axlist = [ax1,ax2,ax3,ax4,ax5,ax6,ax7,ax8,ax9]\n",
    "\n",
    "times = [2,4,6,8,10,12,14,16,18]\n",
    "for ii,ax in zip(times,axlist):\n",
    "    plotZeroLine(ax)\n",
    "    ax.plot(xc[1,:]/1000,(HCWin[ii,:].data-HCWNoCin[ii,:].data)/(1000*dxf[0,:]),sns.xkcd_rgb[\"kelly green\"],label='Base $\\kappa_v=10^{-5}m^2s^{-1}$')\n",
    "    ax.plot(xc[1,:]/1000,(HCW043Din[ii,:].data-HCW30in[ii,:].data)/(1000*dxf[0,:]),sns.xkcd_rgb[\"royal purple\"],label='$\\kappa_vin=10^{-3},\\kappa_vout=10^{-7}m^2s^{-1}$')\n",
    "    ax.plot(xc[1,:]/1000,(HCW053Din[ii,:].data-HCW30in[ii,:].data)/(1000*dxf[0,:]),sns.xkcd_rgb[\"muted purple\"],label='$\\kappa_vin=10^{-4},\\kappa_vout=10^{-7}m^2s^{-1}$')\n",
    "    ax.plot(xc[1,:]/1000,(HCW063Din[ii,:].data-HCWNoCin[ii,:].data)/(1000*dxf[0,:]),sns.xkcd_rgb[\"dark hot pink\"],label='$\\kappa_vin=10^{-3},\\kappa_vout=10^{-5}m^2s^{-1}$')\n",
    "    ax.plot(xc[1,:]/1000,(HCW073Din[ii,:].data-HCWNoCin[ii,:].data)/(1000*dxf[0,:]),sns.xkcd_rgb[\"muted pink\"],label='$\\kappa_vin=10^{-4},\\kappa_vout=10^{-5}m^2s^{-1}$')\n",
    "    \n",
    "    \n",
    "    ax.set_title('day %d' %(ii/2))\n",
    "    plotCanyonPos(ax,xc[1,120]/1000,xc[1,240]/1000)\n",
    "\n",
    "ax1.legend(loc=0)\n",
    "ax8.set_xlabel('Alongshore distance (km)')\n",
    "ax4.set_ylabel('Volume HCW per m ($10^3$ $m^3$)')\n",
    "ax2.set_title('Inner Shelf, day 2')\n",
    "plt.tight_layout()    \n"
   ]
  },
  {
   "cell_type": "code",
   "execution_count": null,
   "metadata": {
    "collapsed": false
   },
   "outputs": [],
   "source": [
    "fig,((ax1,ax2,ax3),(ax4,ax5,ax6),(ax7,ax8,ax9)) = plt.subplots(3,3, figsize = (14,12),sharex=True, sharey=True)\n",
    "\n",
    "axlist = [ax1,ax2,ax3,ax4,ax5,ax6,ax7,ax8,ax9]\n",
    "\n",
    "times = [2,4,6,8,10,12,14,16,18]\n",
    "for ii,ax in zip(times,axlist):\n",
    "    plotZeroLine(ax)\n",
    "    ax.plot(xc[1,:]/1000,(TrMassout[ii,:]-TrMassNoCout[ii,:])/(1000000*dxf[0,:]),sns.xkcd_rgb[\"kelly green\"],label='Base $\\kappa_v=10^{-5}m^2s^{-1}$')\n",
    "    ax.plot(xc[1,:]/1000,(TrMass043Dout[ii,:]-TrMass30out[ii,:])/(1000000*dxf[0,:]),sns.xkcd_rgb[\"royal purple\"],label='$\\kappa_vin=10^{-3},\\kappa_vout=10^{-7}m^2s^{-1}$')\n",
    "    ax.plot(xc[1,:]/1000,(TrMass053Dout[ii,:]-TrMass30out[ii,:])/(1000000*dxf[0,:]),sns.xkcd_rgb[\"muted purple\"],label='$\\kappa_vin=10^{-4},\\kappa_vout=10^{-7}m^2s^{-1}$')\n",
    "    ax.plot(xc[1,:]/1000,(TrMass063Dout[ii,:]-TrMassNoCout[ii,:])/(1000000*dxf[0,:]),sns.xkcd_rgb[\"dark hot pink\"],label='$\\kappa_vin=10^{-3},\\kappa_vout=10^{-5}m^2s^{-1}$')\n",
    "    ax.plot(xc[1,:]/1000,(TrMass073Dout[ii,:]-TrMassNoCout[ii,:])/(1000000*dxf[0,:]),sns.xkcd_rgb[\"muted pink\"],label='$\\kappa_vin=10^{-4},\\kappa_vout=10^{-5}m^2s^{-1}$')\n",
    "    \n",
    "    \n",
    "    ax.set_title('day %d' %(ii/2))\n",
    "    plotCanyonPos(ax,xc[1,120]/1000,xc[1,240]/1000)\n",
    "\n",
    "ax1.legend(loc=0)\n",
    "ax8.set_xlabel('Alongshore distance (km)')\n",
    "ax4.set_ylabel('Tracer mass per m ($10^6$ $[C]m^3$)')\n",
    "ax2.set_title('Outer Shelf, day 2')\n",
    "    \n",
    "plt.tight_layout()"
   ]
  },
  {
   "cell_type": "code",
   "execution_count": null,
   "metadata": {
    "collapsed": false
   },
   "outputs": [],
   "source": [
    "fig,((ax1,ax2,ax3),(ax4,ax5,ax6),(ax7,ax8,ax9)) = plt.subplots(3,3, figsize = (14,12),sharex=True, sharey=True)\n",
    "\n",
    "axlist = [ax1,ax2,ax3,ax4,ax5,ax6,ax7,ax8,ax9]\n",
    "\n",
    "times = [2,4,6,8,10,12,14,16,18]\n",
    "for ii,ax in zip(times,axlist):\n",
    "    plotZeroLine(ax)\n",
    "    ax.plot(xc[1,:]/1000,(TrMassin[ii,:]-TrMassNoCin[ii,:])/(1000000*dxf[0,:]),sns.xkcd_rgb[\"kelly green\"],label='Base $\\kappa_v=10^{-5}m^2s^{-1}$')\n",
    "    ax.plot(xc[1,:]/1000,(TrMass043Din[ii,:]-TrMass30in[ii,:])/(1000000*dxf[0,:]),sns.xkcd_rgb[\"royal purple\"],label='$\\kappa_vin=10^{-3},\\kappa_vout=10^{-7}m^2s^{-1}$')\n",
    "    ax.plot(xc[1,:]/1000,(TrMass053Din[ii,:]-TrMass30in[ii,:])/(1000000*dxf[0,:]),sns.xkcd_rgb[\"muted purple\"],label='$\\kappa_vin=10^{-4},\\kappa_vout=10^{-7}m^2s^{-1}$')\n",
    "    ax.plot(xc[1,:]/1000,(TrMass063Din[ii,:]-TrMassNoCin[ii,:])/(1000000*dxf[0,:]),sns.xkcd_rgb[\"dark hot pink\"],label='$\\kappa_vin=10^{-3},\\kappa_vout=10^{-5}m^2s^{-1}$')\n",
    "    ax.plot(xc[1,:]/1000,(TrMass073Din[ii,:]-TrMassNoCin[ii,:])/(1000000*dxf[0,:]),sns.xkcd_rgb[\"muted pink\"],label='$\\kappa_vin=10^{-4},\\kappa_vout=10^{-5}m^2s^{-1}$')\n",
    "    \n",
    "    \n",
    "    ax.set_title('day %d' %(ii/2))\n",
    "    plotCanyonPos(ax,xc[1,120]/1000,xc[1,240]/1000)\n",
    "\n",
    "ax1.legend(loc=0)\n",
    "ax8.set_xlabel('Alongshore distance (km)')\n",
    "ax4.set_ylabel('Tracer mass per m ($10^6$ $[C]m^3$)')\n",
    "ax2.set_title('Inner Shelf, day 2')\n",
    "    \n",
    "plt.tight_layout()"
   ]
  },
  {
   "cell_type": "code",
   "execution_count": null,
   "metadata": {
    "collapsed": false
   },
   "outputs": [],
   "source": [
    "fig,(ax1,ax2) = plt.subplots(2,1, figsize = (10,10),sharex=True)\n",
    "\n",
    "tt = np.arange(19)\n",
    "\n",
    "ax1.plot(tt/2.,np.sum(TrMassout-TrMassNoCout,axis=1)/1.E14,sns.xkcd_rgb[\"kelly green\"],marker = 'o',label='Base $\\kappa_v=10^{-5}m^2s^{-1}$')\n",
    "ax1.plot(tt/2.,np.sum(TrMass043Dout-TrMass30out,axis=1)/1.E14,sns.xkcd_rgb[\"royal purple\"],marker = 'o',label='$\\kappa_vin=10^{-3},\\kappa_vout=10^{-7}m^2s^{-1}$')\n",
    "ax1.plot(tt/2.,np.sum(TrMass053Dout-TrMass30out,axis=1)/1.E14,sns.xkcd_rgb[\"muted purple\"],marker = 'o',label='$\\kappa_vin=10^{-4},\\kappa_vout=10^{-7}m^2s^{-1}$')\n",
    "ax1.plot(tt/2.,np.sum(TrMass063Dout-TrMassNoCout,axis=1)/1.E14,sns.xkcd_rgb[\"dark hot pink\"],marker = 'o',label='$\\kappa_vin=10^{-3},\\kappa_vout=10^{-5}m^2s^{-1}$')\n",
    "ax1.plot(tt/2.,np.sum(TrMass073Dout-TrMassNoCout,axis=1)/1.E14,sns.xkcd_rgb[\"muted pink\"],marker = 'o',label='$\\kappa_vin=10^{-4},\\kappa_vout=10^{-5}m^2s^{-1}$')\n",
    "   \n",
    "ax2.plot(tt/2.,np.sum(HCWout-HCWNoCout,axis=1)/1.E10,sns.xkcd_rgb[\"kelly green\"],marker = 'o',label='Base $\\kappa_v=10^{-5}m^2s^{-1}$')\n",
    "ax2.plot(tt/2.,np.sum(HCW043Dout-HCW30out,axis=1)/1.E10,sns.xkcd_rgb[\"royal purple\"],marker = 'o',label='$\\kappa_vin=10^{-3},\\kappa_vout=10^{-7}m^2s^{-1}$')\n",
    "ax2.plot(tt/2.,np.sum(HCW053Dout-HCW30out,axis=1)/1.E10,sns.xkcd_rgb[\"muted purple\"],marker = 'o',label='$\\kappa_vin=10^{-4},\\kappa_vout=10^{-7}m^2s^{-1}$')\n",
    "ax2.plot(tt/2.,np.sum(HCW063Dout-HCWNoCout,axis=1)/1.E10,sns.xkcd_rgb[\"dark hot pink\"],marker = 'o',label='$\\kappa_vin=10^{-3},\\kappa_vout=10^{-5}m^2s^{-1}$')\n",
    "ax2.plot(tt/2.,np.sum(HCW073Dout-HCWNoCout,axis=1)/1.E10,sns.xkcd_rgb[\"muted pink\"],marker = 'o',label='$\\kappa_vin=10^{-4},\\kappa_vout=10^{-5}m^2s^{-1}$')\n",
    "  \n",
    "    \n",
    "ax1.legend(loc=0)\n",
    "ax2.set_xlabel('Day')\n",
    "ax1.set_ylabel('Tracer mass per m ($10^{14}$ $[C]m^3$)')\n",
    "ax2.set_ylabel('HCW volume per m ($10^{10}$ $m^3$)')\n",
    "ax1.set_title('Outer Shelf')\n",
    "plt.tight_layout()\n",
    "\n",
    "plt.show()\n",
    "\n"
   ]
  },
  {
   "cell_type": "code",
   "execution_count": null,
   "metadata": {
    "collapsed": false
   },
   "outputs": [],
   "source": [
    "fig,(ax1,ax2) = plt.subplots(2,1, figsize = (10,10),sharex=True)\n",
    "\n",
    "tt = np.arange(19)\n",
    "plotZeroLine(ax1)\n",
    "ax1.plot(tt/2.,np.sum(TrMassin-TrMassNoCin,axis=1)/1.E14,sns.xkcd_rgb[\"kelly green\"],marker = 'o',label='Base $\\kappa_v=10^{-5}m^2s^{-1}$')\n",
    "ax1.plot(tt/2.,np.sum(TrMass043Din-TrMass30in,axis=1)/1.E14,sns.xkcd_rgb[\"royal purple\"],marker = 'o',label='$\\kappa_vin=10^{-3},\\kappa_vout=10^{-7}m^2s^{-1}$')\n",
    "ax1.plot(tt/2.,np.sum(TrMass053Din-TrMass30in,axis=1)/1.E14,sns.xkcd_rgb[\"muted purple\"],marker = 'o',label='$\\kappa_vin=10^{-4},\\kappa_vout=10^{-7}m^2s^{-1}$')\n",
    "ax1.plot(tt/2.,np.sum(TrMass063Din-TrMassNoCin,axis=1)/1.E14,sns.xkcd_rgb[\"dark hot pink\"],marker = 'o',label='$\\kappa_vin=10^{-3},\\kappa_vout=10^{-5}m^2s^{-1}$')\n",
    "ax1.plot(tt/2.,np.sum(TrMass073Din-TrMassNoCin,axis=1)/1.E14,sns.xkcd_rgb[\"muted pink\"],marker = 'o',label='$\\kappa_vin=10^{-4},\\kappa_vout=10^{-5}m^2s^{-1}$')\n",
    "   \n",
    "ax2.plot(tt/2.,np.sum(HCWin.data-HCWNoCin.data,axis=1)/1.E10,sns.xkcd_rgb[\"kelly green\"],marker = 'o',label='Base $\\kappa_v=10^{-5}m^2s^{-1}$')\n",
    "ax2.plot(tt/2.,np.sum(HCW043Din.data-HCW30in.data,axis=1)/1.E10,sns.xkcd_rgb[\"royal purple\"],marker = 'o',label='$\\kappa_vin=10^{-3},\\kappa_vout=10^{-7}m^2s^{-1}$')\n",
    "ax2.plot(tt/2.,np.sum(HCW053Din.data-HCW30in.data,axis=1)/1.E10,sns.xkcd_rgb[\"muted purple\"],marker = 'o',label='$\\kappa_vin=10^{-4},\\kappa_vout=10^{-7}m^2s^{-1}$')\n",
    "ax2.plot(tt/2.,np.sum(HCW063Din.data-HCWNoCin.data,axis=1)/1.E10,sns.xkcd_rgb[\"dark hot pink\"],marker = 'o',label='$\\kappa_vin=10^{-3},\\kappa_vout=10^{-5}m^2s^{-1}$')\n",
    "ax2.plot(tt/2.,np.sum(HCW073Din.data-HCWNoCin.data,axis=1)/1.E10,sns.xkcd_rgb[\"muted pink\"],marker = 'o',label='$\\kappa_vin=10^{-4},\\kappa_vout=10^{-5}m^2s^{-1}$')\n",
    "  \n",
    "    \n",
    "ax1.legend(loc=0)\n",
    "ax2.set_xlabel('Day')\n",
    "ax1.set_ylabel('Tracer mass per m ($10^{14}$ $[C]m^3$)')\n",
    "ax2.set_ylabel('HCW volume per m ($10^{10}$ $m^3$)')\n",
    "ax1.set_title('Inner Shelf')\n",
    "plt.tight_layout()\n",
    "\n",
    "plt.show()\n"
   ]
  },
  {
   "cell_type": "markdown",
   "metadata": {
    "collapsed": false
   },
   "source": [
    "## Changing initial stratification"
   ]
  },
  {
   "cell_type": "code",
   "execution_count": null,
   "metadata": {
    "collapsed": true
   },
   "outputs": [],
   "source": [
    "Tra = rout.getField(Ptracers14, 'Tr1')\n",
    "Trb = rout.getField(Ptracers15, 'Tr1')\n",
    "Trc = rout.getField(Ptracers16, 'Tr1')\n",
    "\n",
    "Trd = rout.getField(Ptracers26, 'Tr1')\n",
    "Tre = rout.getField(Ptracers27, 'Tr1')\n",
    "Trf = rout.getField(Ptracers28, 'Tr1')\n"
   ]
  },
  {
   "cell_type": "code",
   "execution_count": null,
   "metadata": {
    "collapsed": false
   },
   "outputs": [],
   "source": [
    "HCW14out,TrMass14out = HCW_Tracer_AlongShelf_Split(Tra,mask_NoC,30,rA,hFacC,drF,227,267,30,180,50)\n",
    "HCW15out,TrMass15out = HCW_Tracer_AlongShelf_Split(Trb,mask_NoC,30,rA,hFacC,drF,227,267,30,180,50)\n",
    "HCW16out,TrMass16out = HCW_Tracer_AlongShelf_Split(Trc,mask_NoC,30,rA,hFacC,drF,227,267,30,180,50)\n",
    "\n",
    "HCW26out,TrMass26out = HCW_Tracer_AlongShelf_Split(Trd,mask_NoC,30,rA,hFacC,drF,227,267,30,180,50)\n",
    "HCW27out,TrMass27out = HCW_Tracer_AlongShelf_Split(Tre,mask_NoC,30,rA,hFacC,drF,227,267,30,180,50)\n",
    "HCW28out,TrMass28out = HCW_Tracer_AlongShelf_Split(Trf,mask_NoC,30,rA,hFacC,drF,227,267,30,180,50)\n",
    "\n",
    "HCW14in,TrMass14in = HCW_Tracer_AlongShelf_Split(Tra,mask_NoC,30,rA,hFacC,drF,267,359,30,180,50)\n",
    "HCW15in,TrMass15in = HCW_Tracer_AlongShelf_Split(Trb,mask_NoC,30,rA,hFacC,drF,267,359,30,180,50)\n",
    "HCW16in,TrMass16in = HCW_Tracer_AlongShelf_Split(Trc,mask_NoC,30,rA,hFacC,drF,267,359,30,180,50)\n",
    "\n",
    "HCW26in,TrMass26in = HCW_Tracer_AlongShelf_Split(Trd,mask_NoC,30,rA,hFacC,drF,267,359,30,180,50)\n",
    "HCW27in,TrMass27in = HCW_Tracer_AlongShelf_Split(Tre,mask_NoC,30,rA,hFacC,drF,267,359,30,180,50)\n",
    "HCW28in,TrMass28in = HCW_Tracer_AlongShelf_Split(Trf,mask_NoC,30,rA,hFacC,drF,267,359,30,180,50)\n"
   ]
  },
  {
   "cell_type": "code",
   "execution_count": null,
   "metadata": {
    "collapsed": false
   },
   "outputs": [],
   "source": [
    "fig,((ax1,ax2,ax3),(ax4,ax5,ax6),(ax7,ax8,ax9)) = plt.subplots(3,3, figsize = (14,12),sharex=True, sharey=True)\n",
    "\n",
    "axlist = [ax1,ax2,ax3,ax4,ax5,ax6,ax7,ax8,ax9]\n",
    "\n",
    "times = [2,4,6,8,10,12,14,16,18]\n",
    "for ii,ax in zip(times,axlist):\n",
    "    plotZeroLine(ax)\n",
    "    ax.plot(xc[1,:]/1000,(HCW16out[ii,:]-HCW28out[ii,:])/(1000*dxf[0,:]),sns.xkcd_rgb[\"bright red\"],label='$N=3.0E-3s^{-1}$')\n",
    "    ax.plot(xc[1,:]/1000,(HCW14out[ii,:]-HCW26out[ii,:])/(1000*dxf[0,:]),sns.xkcd_rgb[\"blood orange\"],label='$N=3.9E-3s^{-1}$')\n",
    "    ax.plot(xc[1,:]/1000,(HCWout[ii,:]-HCWNoCout[ii,:])/(1000*dxf[0,:]),sns.xkcd_rgb[\"kelly green\"],label='Base $N=5.5E-3s^{-1}$')\n",
    "    ax.plot(xc[1,:]/1000,(HCW15out[ii,:]-HCW27out[ii,:])/(1000*dxf[0,:]),sns.xkcd_rgb[\"saffron\"],label='$N=6.3E-3s^{-1}$')\n",
    "    \n",
    "    \n",
    "    ax.set_title('day %d' %(ii/2))\n",
    "    plotCanyonPos(ax,xc[1,120]/1000,xc[1,240]/1000)\n",
    "\n",
    "ax1.legend(loc=0)\n",
    "ax8.set_xlabel('Alongshore distance (km)')\n",
    "ax4.set_ylabel('Volume HCW per m ($10^3$ $m^3$)')\n",
    "ax2.set_title('Outer Shelf, day 2')\n",
    "plt.tight_layout()\n"
   ]
  },
  {
   "cell_type": "code",
   "execution_count": null,
   "metadata": {
    "collapsed": false
   },
   "outputs": [],
   "source": [
    "fig,((ax1,ax2,ax3),(ax4,ax5,ax6),(ax7,ax8,ax9)) = plt.subplots(3,3, figsize = (14,12),sharex=True, sharey=True)\n",
    "\n",
    "axlist = [ax1,ax2,ax3,ax4,ax5,ax6,ax7,ax8,ax9]\n",
    "\n",
    "times = [2,4,6,8,10,12,14,16,18]\n",
    "for ii,ax in zip(times,axlist):\n",
    "    plotZeroLine(ax)\n",
    "    ax.plot(xc[1,:]/1000,(HCW16in[ii,:].data-HCW28in[ii,:].data)/(1000*dxf[0,:]),sns.xkcd_rgb[\"bright red\"],label='$N=3.0E-3s^{-1}$')\n",
    "    ax.plot(xc[1,:]/1000,(HCW14in[ii,:].data-HCW26in[ii,:].data)/(1000*dxf[0,:]),sns.xkcd_rgb[\"blood orange\"],label='$N=3.9E-3s^{-1}$')\n",
    "    ax.plot(xc[1,:]/1000,(HCWin[ii,:].data-HCWNoCin[ii,:].data)/(1000*dxf[0,:]),sns.xkcd_rgb[\"kelly green\"],label='Base $N=5.5E-3s^{-1}$')\n",
    "    ax.plot(xc[1,:]/1000,(HCW15in[ii,:].data-HCW27in[ii,:].data)/(1000*dxf[0,:]),sns.xkcd_rgb[\"saffron\"],label='$N=6.3E-3s^{-1}$')\n",
    "    \n",
    "    \n",
    "    ax.set_title('day %d' %(ii/2))\n",
    "    plotCanyonPos(ax,xc[1,120]/1000,xc[1,240]/1000)\n",
    "\n",
    "ax1.legend(loc=0)\n",
    "ax8.set_xlabel('Alongshore distance (km)')\n",
    "ax4.set_ylabel('Volume HCW per m ($10^3$ $m^3$)')\n",
    "ax2.set_title('Inner Shelf, day 2')\n",
    "plt.tight_layout()\n"
   ]
  },
  {
   "cell_type": "code",
   "execution_count": null,
   "metadata": {
    "collapsed": false
   },
   "outputs": [],
   "source": [
    "fig,((ax1,ax2,ax3),(ax4,ax5,ax6),(ax7,ax8,ax9)) = plt.subplots(3,3, figsize = (14,12),sharex=True, sharey=True)\n",
    "\n",
    "axlist = [ax1,ax2,ax3,ax4,ax5,ax6,ax7,ax8,ax9]\n",
    "\n",
    "times = [2,4,6,8,10,12,14,16,18]\n",
    "for ii,ax in zip(times,axlist):\n",
    "    plotZeroLine(ax)\n",
    "    ax.plot(xc[1,:]/1000,(TrMass16out[ii,:]-TrMass28out[ii,:])/(1000000*dxf[0,:]),sns.xkcd_rgb[\"bright red\"],label='$N=3.0E-3s^{-1}$')\n",
    "    ax.plot(xc[1,:]/1000,(TrMass14out[ii,:]-TrMass26out[ii,:])/(1000000*dxf[0,:]),sns.xkcd_rgb[\"blood orange\"],label='$N=3.9E-3s^{-1}$')\n",
    "    ax.plot(xc[1,:]/1000,(TrMassout[ii,:]-TrMassNoCout[ii,:])/(1000000*dxf[0,:]),sns.xkcd_rgb[\"kelly green\"],label='Base $N=5.5E-3s^{-1}$')\n",
    "    ax.plot(xc[1,:]/1000,(TrMass15out[ii,:]-TrMass25out[ii,:])/(1000000*dxf[0,:]),sns.xkcd_rgb[\"saffron\"],label='$N=6.3E-3s^{-1}$')\n",
    "   \n",
    "    \n",
    "    ax.set_title('day %d' %(ii/2))\n",
    "    plotCanyonPos(ax,xc[1,120]/1000,xc[1,240]/1000)\n",
    "\n",
    "ax1.legend(loc=0)\n",
    "ax8.set_xlabel('Alongshore distance (km)')\n",
    "ax4.set_ylabel('Tracer mass per m ($10^6$ $[C]m^3$)')\n",
    "ax2.set_title('Outer Shelf, day 2')\n",
    "\n",
    "plt.tight_layout()"
   ]
  },
  {
   "cell_type": "code",
   "execution_count": null,
   "metadata": {
    "collapsed": false
   },
   "outputs": [],
   "source": [
    "fig,((ax1,ax2,ax3),(ax4,ax5,ax6),(ax7,ax8,ax9)) = plt.subplots(3,3, figsize = (14,12),sharex=True, sharey=True)\n",
    "\n",
    "axlist = [ax1,ax2,ax3,ax4,ax5,ax6,ax7,ax8,ax9]\n",
    "\n",
    "times = [2,4,6,8,10,12,14,16,18]\n",
    "for ii,ax in zip(times,axlist):\n",
    "    ax.plot(xc[1,:]/1000,(TrMass16in[ii,:]-TrMass28in[ii,:])/(1000000*dxf[0,:]),sns.xkcd_rgb[\"bright red\"],label='$N=3.0E-3s^{-1}$')\n",
    "    ax.plot(xc[1,:]/1000,(TrMass14in[ii,:]-TrMass26in[ii,:])/(1000000*dxf[0,:]),sns.xkcd_rgb[\"blood orange\"],label='$N=3.9E-3s^{-1}$')\n",
    "    ax.plot(xc[1,:]/1000,(TrMassin[ii,:]-TrMassNoCin[ii,:])/(1000000*dxf[0,:]),sns.xkcd_rgb[\"kelly green\"],label='Base $N=5.5E-3s^{-1}$')\n",
    "    ax.plot(xc[1,:]/1000,(TrMass15in[ii,:]-TrMass27in[ii,:])/(1000000*dxf[0,:]),sns.xkcd_rgb[\"saffron\"],label='$N=6.3E-3s^{-1}$')\n",
    "   \n",
    "    \n",
    "    ax.set_title('day %d' %(ii/2))\n",
    "    plotCanyonPos(ax,xc[1,120]/1000,xc[1,240]/1000)\n",
    "\n",
    "ax1.legend(loc=0)\n",
    "ax8.set_xlabel('Alongshore distance (km)')\n",
    "ax4.set_ylabel('Tracer mass per m ($10^6$ $[C]m^3$)')\n",
    "ax2.set_title('Inner Shelf, day 2')\n",
    "plt.tight_layout()"
   ]
  },
  {
   "cell_type": "code",
   "execution_count": null,
   "metadata": {
    "collapsed": false
   },
   "outputs": [],
   "source": [
    "fig,(ax1,ax2) = plt.subplots(2,1, figsize = (10,10),sharex=True)\n",
    "\n",
    "tt = np.arange(19)\n",
    "\n",
    "ax1.plot(tt/2.,np.sum(TrMass16out-TrMass28out,axis=1)/1.E14,sns.xkcd_rgb[\"bright red\"],marker = 'o',label='$N=3.0E-3s^{-1}$')\n",
    "ax1.plot(tt/2.,np.sum(TrMass14out-TrMass26out,axis=1)/1.E14,sns.xkcd_rgb[\"blood orange\"],marker = 'o',label='$N=3.9E-3s^{-1}$')\n",
    "ax1.plot(tt/2.,np.sum(TrMassout-TrMassNoCout,axis=1)/1.E14,sns.xkcd_rgb[\"kelly green\"],marker = 'o',label='Base $N=5.5E-3s^{-1}$')\n",
    "ax1.plot(tt/2.,np.sum(TrMass15out-TrMass27out,axis=1)/1.E14,sns.xkcd_rgb[\"saffron\"],marker = 'o',label='$N=6.3E-3s^{-1}$')\n",
    "   \n",
    "ax2.plot(tt/2.,np.sum(HCW16out-HCW28out,axis=1)/1.E10,sns.xkcd_rgb[\"bright red\"],marker = 'o',label='$N=3.0E-3s^{-1}$')\n",
    "ax2.plot(tt/2.,np.sum(HCW14out-HCW26out,axis=1)/1.E10,sns.xkcd_rgb[\"blood orange\"],marker = 'o',label='$N=3.9E-3s^{-1}$')\n",
    "ax2.plot(tt/2.,np.sum(HCWout-HCWNoCout,axis=1)/1.E10,sns.xkcd_rgb[\"kelly green\"],marker = 'o',label='Base $N=5.5E-3s^{-1}$')\n",
    "ax2.plot(tt/2.,np.sum(HCW15out-HCW27out,axis=1)/1.E10,sns.xkcd_rgb[\"saffron\"],marker = 'o',label='$N=6.3E-3s^{-1}$')\n",
    "     \n",
    "    \n",
    "ax1.legend(loc=0)\n",
    "ax2.set_xlabel('Day')\n",
    "ax1.set_ylabel('Tracer mass per m ($10^{14}$ $[C]m^3$)')\n",
    "ax2.set_ylabel('HCW volume per m ($10^{10}$ $m^3$)')\n",
    "ax1.set_title('Outer shelf')\n",
    "plt.tight_layout()\n",
    "plt.show()\n",
    "\n"
   ]
  },
  {
   "cell_type": "code",
   "execution_count": null,
   "metadata": {
    "collapsed": false
   },
   "outputs": [],
   "source": [
    "fig,(ax1,ax2) = plt.subplots(2,1, figsize = (10,10),sharex=True)\n",
    "\n",
    "tt = np.arange(19)\n",
    "plotZeroLine(ax1)\n",
    "ax1.plot(tt/2.,np.sum(TrMass16in-TrMass28in,axis=1)/1.E14,sns.xkcd_rgb[\"bright red\"],marker = 'o',label='$N=3.0E-3s^{-1}$')\n",
    "ax1.plot(tt/2.,np.sum(TrMass14in-TrMass26in,axis=1)/1.E14,sns.xkcd_rgb[\"blood orange\"],marker = 'o',label='$N=3.9E-3s^{-1}$')\n",
    "ax1.plot(tt/2.,np.sum(TrMassin-TrMassNoCin,axis=1)/1.E14,sns.xkcd_rgb[\"kelly green\"],marker = 'o',label='Base $N=5.5E-3s^{-1}$')\n",
    "ax1.plot(tt/2.,np.sum(TrMass15in-TrMass27in,axis=1)/1.E14,sns.xkcd_rgb[\"saffron\"],marker = 'o',label='$N=6.3E-3s^{-1}$')\n",
    "   \n",
    "ax2.plot(tt/2.,np.sum(HCW16in.data-HCW28in.data,axis=1)/1.E10,sns.xkcd_rgb[\"bright red\"],marker = 'o',label='$N=3.0E-3s^{-1}$')\n",
    "ax2.plot(tt/2.,np.sum(HCW14in.data-HCW26in.data,axis=1)/1.E10,sns.xkcd_rgb[\"blood orange\"],marker = 'o',label='$N=3.9E-3s^{-1}$')\n",
    "ax2.plot(tt/2.,np.sum(HCWin.data-HCWNoCin.data,axis=1)/1.E10,sns.xkcd_rgb[\"kelly green\"],marker = 'o',label='Base $N=5.5E-3s^{-1}$')\n",
    "ax2.plot(tt/2.,np.sum(HCW15in.data-HCW27in.data,axis=1)/1.E10,sns.xkcd_rgb[\"saffron\"],marker = 'o',label='$N=6.3E-3s^{-1}$')\n",
    "     \n",
    "    \n",
    "ax1.legend(loc=0)\n",
    "ax2.set_xlabel('Day')\n",
    "ax1.set_ylabel('Tracer mass per m ($10^{14}$ $[C]m^3$)')\n",
    "ax2.set_ylabel('HCW volume per m ($10^{10}$ $m^3$)')\n",
    "ax1.set_title('Inner shelf')\n",
    "plt.tight_layout()\n",
    "plt.show()\n",
    "\n"
   ]
  },
  {
   "cell_type": "markdown",
   "metadata": {},
   "source": [
    "## Changing latitude (f)"
   ]
  },
  {
   "cell_type": "code",
   "execution_count": null,
   "metadata": {
    "collapsed": false
   },
   "outputs": [],
   "source": [
    "Tra = rout.getField(Ptracers18, 'Tr1')\n",
    "Trb = rout.getField(Ptracers19, 'Tr1')\n",
    "Trc = rout.getField(Ptracers22, 'Tr1')\n",
    "Trd = rout.getField(Ptracers23, 'Tr1')"
   ]
  },
  {
   "cell_type": "code",
   "execution_count": null,
   "metadata": {
    "collapsed": false
   },
   "outputs": [],
   "source": [
    "HCW18out,TrMass18out = HCW_Tracer_AlongShelf_Split(Tra,mask_NoC,30,rA,hFacC,drF,227,267,30,180,50)\n",
    "HCW19out,TrMass19out = HCW_Tracer_AlongShelf_Split(Trb,mask_NoC,30,rA,hFacC,drF,227,267,30,180,50)\n",
    "HCW22out,TrMass22out = HCW_Tracer_AlongShelf_Split(Trc,mask_NoC,30,rA,hFacC,drF,227,267,30,180,50)\n",
    "HCW23out,TrMass23out = HCW_Tracer_AlongShelf_Split(Trd,mask_NoC,30,rA,hFacC,drF,227,267,30,180,50)\n",
    "\n",
    "HCW18in,TrMass18in = HCW_Tracer_AlongShelf_Split(Tra,mask_NoC,30,rA,hFacC,drF,267,359,30,180,50)\n",
    "HCW19in,TrMass19in = HCW_Tracer_AlongShelf_Split(Trb,mask_NoC,30,rA,hFacC,drF,267,359,30,180,50)\n",
    "HCW22in,TrMass22in = HCW_Tracer_AlongShelf_Split(Trc,mask_NoC,30,rA,hFacC,drF,267,359,30,180,50)\n",
    "HCW23in,TrMass23in = HCW_Tracer_AlongShelf_Split(Trd,mask_NoC,30,rA,hFacC,drF,267,359,30,180,50)\n"
   ]
  },
  {
   "cell_type": "code",
   "execution_count": null,
   "metadata": {
    "collapsed": false
   },
   "outputs": [],
   "source": [
    "fig,((ax1,ax2,ax3),(ax4,ax5,ax6),(ax7,ax8,ax9)) = plt.subplots(3,3, figsize = (13,11),sharex=True, sharey=True)\n",
    "\n",
    "axlist = [ax1,ax2,ax3,ax4,ax5,ax6,ax7,ax8,ax9]\n",
    "\n",
    "times = [2,4,6,8,10,12,14,16,18]\n",
    "for ii,ax in zip(times,axlist):\n",
    "    plotZeroLine(ax)\n",
    "    ax.plot(xc[1,:]/1000,(HCWout[ii,:]-HCWNoCout[ii,:])/(1000*dxf[0,:]),sns.xkcd_rgb[\"kelly green\"],label='Base $f=9.66E-5s^{-1}$')\n",
    "    ax.plot(xc[1,:]/1000,(HCW18out[ii,:]-HCW22out[ii,:])/(1000*dxf[0,:]),sns.xkcd_rgb[\"sapphire\"],label='$f=7.68E-5s^{-1}$')\n",
    "    ax.plot(xc[1,:]/1000,(HCW19out[ii,:]-HCW23out[ii,:])/(1000*dxf[0,:]),sns.xkcd_rgb[\"cerulean\"],label='$f=4.84E-5s^{-1}$')\n",
    "    \n",
    "    \n",
    "    ax.set_title('day %d' %(ii/2))\n",
    "    plotCanyonPos(ax,xc[1,120]/1000,xc[1,240]/1000)\n",
    "\n",
    "ax1.legend(loc=0)\n",
    "ax8.set_xlabel('Alongshore distance (km)')\n",
    "ax4.set_ylabel('Volume HCW per m ($10^3$ $m^3$)')\n",
    "ax2.set_title('Outer Shelf, day 2')\n",
    "plt.tight_layout()"
   ]
  },
  {
   "cell_type": "code",
   "execution_count": null,
   "metadata": {
    "collapsed": false
   },
   "outputs": [],
   "source": [
    "fig,((ax1,ax2,ax3),(ax4,ax5,ax6),(ax7,ax8,ax9)) = plt.subplots(3,3, figsize = (13,11),sharex=True, sharey=True)\n",
    "\n",
    "axlist = [ax1,ax2,ax3,ax4,ax5,ax6,ax7,ax8,ax9]\n",
    "\n",
    "times = [2,4,6,8,10,12,14,16,18]\n",
    "for ii,ax in zip(times,axlist):\n",
    "    \n",
    "    ax.plot(xc[1,:]/1000,(HCWin[ii,:].data-HCWNoCin[ii,:].data)/(1000*dxf[0,:]),sns.xkcd_rgb[\"kelly green\"],label='Base $f=9.66E-5s^{-1}$')\n",
    "    ax.plot(xc[1,:]/1000,(HCW18in[ii,:].data-HCW22in[ii,:].data)/(1000*dxf[0,:]),sns.xkcd_rgb[\"sapphire\"],label='$f=7.68E-5s^{-1}$')\n",
    "    ax.plot(xc[1,:]/1000,(HCW19in[ii,:].data-HCW23in[ii,:].data)/(1000*dxf[0,:]),sns.xkcd_rgb[\"cerulean\"],label='$f=4.84E-5s^{-1}$')\n",
    "    \n",
    "    \n",
    "    ax.set_title('day %d' %(ii/2))\n",
    "    plotCanyonPos(ax,xc[1,120]/1000,xc[1,240]/1000)\n",
    "\n",
    "ax1.legend(loc=0)\n",
    "ax8.set_xlabel('Alongshore distance (km)')\n",
    "ax4.set_ylabel('Volume HCW per m ($10^3$ $m^3$)')\n",
    "ax2.set_title('Inner Shelf, day 2')\n",
    "plt.tight_layout()"
   ]
  },
  {
   "cell_type": "code",
   "execution_count": null,
   "metadata": {
    "collapsed": false
   },
   "outputs": [],
   "source": [
    "fig,((ax1,ax2,ax3),(ax4,ax5,ax6),(ax7,ax8,ax9)) = plt.subplots(3,3, figsize = (13,11),sharex=True, sharey=True)\n",
    "\n",
    "axlist = [ax1,ax2,ax3,ax4,ax5,ax6,ax7,ax8,ax9]\n",
    "\n",
    "times = [2,4,6,8,10,12,14,16,18]\n",
    "for ii,ax in zip(times,axlist):\n",
    "    plotZeroLine(ax)\n",
    "    ax.plot(xc[1,:]/1000,(TrMassout[ii,:]-TrMassNoCout[ii,:])/(1000000*dxf[0,:]),sns.xkcd_rgb[\"kelly green\"],label='Base $f=9.66E-5s^{-1}$')\n",
    "    ax.plot(xc[1,:]/1000,(TrMass18out[ii,:]-TrMass22out[ii,:])/(1000000*dxf[0,:]),sns.xkcd_rgb[\"sapphire\"],label='$f=7.68E-5s^{-1}$')\n",
    "    ax.plot(xc[1,:]/1000,(TrMass19out[ii,:]-TrMass23out[ii,:])/(1000000*dxf[0,:]),sns.xkcd_rgb[\"cerulean\"],label='$f=4.84E-5s^{-1}$')\n",
    "    \n",
    "    \n",
    "    ax.set_title('day %d' %(ii/2))\n",
    "    plotCanyonPos(ax,xc[1,120]/1000,xc[1,240]/1000)\n",
    "\n",
    "ax1.legend(loc=0)\n",
    "ax8.set_xlabel('Alongshore distance (km)')\n",
    "ax4.set_ylabel('Tracer mass per m ($10^6$ $[C]m^3$)')\n",
    "ax2.set_title('Outer Shelf, day 2')\n",
    "\n",
    "plt.tight_layout()"
   ]
  },
  {
   "cell_type": "code",
   "execution_count": null,
   "metadata": {
    "collapsed": false
   },
   "outputs": [],
   "source": [
    "fig,((ax1,ax2,ax3),(ax4,ax5,ax6),(ax7,ax8,ax9)) = plt.subplots(3,3, figsize = (13,11),sharex=True, sharey=True)\n",
    "\n",
    "axlist = [ax1,ax2,ax3,ax4,ax5,ax6,ax7,ax8,ax9]\n",
    "\n",
    "times = [2,4,6,8,10,12,14,16,18]\n",
    "for ii,ax in zip(times,axlist):\n",
    "    plotZeroLine(ax)\n",
    "    ax.plot(xc[1,:]/1000,(TrMassin[ii,:]-TrMassNoCin[ii,:])/(1000000*dxf[0,:]),sns.xkcd_rgb[\"kelly green\"],label='Base $f=9.66E-5s^{-1}$')\n",
    "    ax.plot(xc[1,:]/1000,(TrMass18in[ii,:]-TrMass22in[ii,:])/(1000000*dxf[0,:]),sns.xkcd_rgb[\"sapphire\"],label='$f=7.68E-5s^{-1}$')\n",
    "    ax.plot(xc[1,:]/1000,(TrMass19in[ii,:]-TrMass23in[ii,:])/(1000000*dxf[0,:]),sns.xkcd_rgb[\"cerulean\"],label='$f=4.84E-5s^{-1}$')\n",
    "    \n",
    "    \n",
    "    ax.set_title('day %d' %(ii/2))\n",
    "    plotCanyonPos(ax,xc[1,120]/1000,xc[1,240]/1000)\n",
    "\n",
    "ax1.legend(loc=0)\n",
    "ax8.set_xlabel('Alongshore distance (km)')\n",
    "ax4.set_ylabel('Tracer mass per m ($10^6$ $[C]m^3$)')\n",
    "ax2.set_title('Inner Shelf, day 2')\n",
    "\n",
    "plt.tight_layout()"
   ]
  },
  {
   "cell_type": "code",
   "execution_count": null,
   "metadata": {
    "collapsed": false
   },
   "outputs": [],
   "source": [
    "fig,(ax1,ax2) = plt.subplots(2,1, figsize = (10,10),sharex=True)\n",
    "\n",
    "tt = np.arange(19)\n",
    "\n",
    "ax2.plot(tt/2.,np.sum(HCWout-HCWNoCout,axis=1)/1.E10,sns.xkcd_rgb[\"kelly green\"],marker='o',label='Base $f=9.66E-5s^{-1}$')\n",
    "ax2.plot(tt/2.,np.sum(HCW18out-HCW22out,axis=1)/1.E10,sns.xkcd_rgb[\"sapphire\"],marker='o',label='$f=7.68E-5s^{-1}$')\n",
    "ax2.plot(tt/2.,np.sum(HCW19out-HCW23out,axis=1)/1.E10,sns.xkcd_rgb[\"cerulean\"],marker='o',label='f=4.84E-5s^{-1}$')\n",
    " \n",
    "ax1.plot(tt/2.,np.sum(TrMassout-TrMassNoCout,axis=1)/1.E14,sns.xkcd_rgb[\"kelly green\"],marker='o',label='Base $f=9.66E-5s^{-1}$')\n",
    "ax1.plot(tt/2.,np.sum(TrMass18out-TrMass22out,axis=1)/1.E14,sns.xkcd_rgb[\"sapphire\"],marker='o',label='$f=7.68E-5s^{-1}$')\n",
    "ax1.plot(tt/2.,np.sum(TrMass19out-TrMass23out,axis=1)/1.E14,sns.xkcd_rgb[\"cerulean\"],marker='o',label='$f=4.84E-5s^{-1}$')\n",
    "        \n",
    "ax1.set_title('Outer shelf')   \n",
    "ax1.legend(loc=0)\n",
    "ax2.set_xlabel('Day')\n",
    "ax1.set_ylabel('Tracer mass per m ($10^{14}$ $[C]m^3$)')\n",
    "ax2.set_ylabel('HCW volume per m ($10^{10}$ $m^3$)')\n",
    "\n",
    "plt.tight_layout()\n",
    "plt.show()\n",
    "\n"
   ]
  },
  {
   "cell_type": "code",
   "execution_count": null,
   "metadata": {
    "collapsed": false
   },
   "outputs": [],
   "source": [
    "fig,(ax1,ax2) = plt.subplots(2,1, figsize = (10,10),sharex=True)\n",
    "\n",
    "tt = np.arange(19)\n",
    "plotZeroLine(ax1)\n",
    "ax2.plot(tt/2.,np.sum(HCWin.data-HCWNoCin.data,axis=1)/1.E10,sns.xkcd_rgb[\"kelly green\"],marker='o',label='Base $f=9.66E-5s^{-1}$')\n",
    "ax2.plot(tt/2.,np.sum(HCW18in.data-HCW22in.data,axis=1)/1.E10,sns.xkcd_rgb[\"sapphire\"],marker='o',label='$f=7.68E-5s^{-1}$')\n",
    "ax2.plot(tt/2.,np.sum(HCW19in.data-HCW23in.data,axis=1)/1.E10,sns.xkcd_rgb[\"cerulean\"],marker='o',label='f=4.84E-5s^{-1}$')\n",
    " \n",
    "ax1.plot(tt/2.,np.sum(TrMassin.data-TrMassNoCin.data,axis=1)/1.E14,sns.xkcd_rgb[\"kelly green\"],marker='o',label='Base $f=9.66E-5s^{-1}$')\n",
    "ax1.plot(tt/2.,np.sum(TrMass18in.data-TrMass22in.data,axis=1)/1.E14,sns.xkcd_rgb[\"sapphire\"],marker='o',label='$f=7.68E-5s^{-1}$')\n",
    "ax1.plot(tt/2.,np.sum(TrMass19in.data-TrMass23in.data,axis=1)/1.E14,sns.xkcd_rgb[\"cerulean\"],marker='o',label='$f=4.84E-5s^{-1}$')\n",
    "        \n",
    "ax1.set_title('Inner shelf')     \n",
    "ax1.legend(loc=0)\n",
    "ax2.set_xlabel('Inner shelf, day')\n",
    "ax1.set_ylabel('Tracer mass per m ($10^{14}$ $[C]m^3$)')\n",
    "ax2.set_ylabel('HCW volume per m ($10^{10}$ $m^3$)')\n",
    "plt.tight_layout()\n",
    "plt.show()\n",
    "\n"
   ]
  },
  {
   "cell_type": "markdown",
   "metadata": {},
   "source": [
    "## All variations together"
   ]
  },
  {
   "cell_type": "markdown",
   "metadata": {},
   "source": [
    "### Outer shelf"
   ]
  },
  {
   "cell_type": "code",
   "execution_count": null,
   "metadata": {
    "collapsed": false
   },
   "outputs": [],
   "source": [
    "fig,((ax1,ax2,ax3),(ax4,ax5,ax6),(ax7,ax8,ax9)) = plt.subplots(3,3, figsize = (13,11),sharex=True, sharey=True)\n",
    "\n",
    "axlist = [ax1,ax2,ax3,ax4,ax5,ax6,ax7,ax8,ax9]\n",
    "\n",
    "times = [2,4,6,8,10,12,14,16,18]\n",
    "for ii,ax in zip(times,axlist):\n",
    "    ax.axhline(0,color='0.70',linestyle='-')\n",
    "    ax.plot(xc[1,:]/1000,(HCWout[ii,:].data-HCWNoCout[ii,:].data)/(1000*dxf[0,:]),sns.xkcd_rgb[\"kelly green\"],label='Base $f=9.66E-5s^{-1}$')\n",
    "    ax.plot(xc[1,:]/1000,(HCW11out[ii,:].data-HCW24out[ii,:].data)/(1000*dxf[0,:]),sns.xkcd_rgb[\"forest\"],label='$\\kappa_v=10^{-4}m^2s^{-1}$')\n",
    "    ax.plot(xc[1,:]/1000,(HCW12out[ii,:].data-HCW25out[ii,:].data)/(1000*dxf[0,:]),sns.xkcd_rgb[\"leaf\"],label='$\\kappa_v=10^{-3}m^2s^{-1}$')\n",
    "    ax.plot(xc[1,:]/1000,(HCW063Dout[ii,:].data-HCWNoCout[ii,:].data)/(1000*dxf[0,:]),sns.xkcd_rgb[\"dark hot pink\"],label='$\\kappa_vin=10^{-3},\\kappa_vout=10^{-5}m^2s^{-1}$')\n",
    "    ax.plot(xc[1,:]/1000,(HCW073Dout[ii,:].data-HCWNoCout[ii,:].data)/(1000*dxf[0,:]),sns.xkcd_rgb[\"muted pink\"],label='$\\kappa_vin=10^{-4},\\kappa_vout=10^{-5}m^2s^{-1}$')\n",
    "    ax.plot(xc[1,:]/1000,(HCW16out[ii,:].data-HCW28out[ii,:].data)/(1000*dxf[0,:]),sns.xkcd_rgb[\"bright red\"],label='$N=3.0E-3s^{-1}$')\n",
    "    ax.plot(xc[1,:]/1000,(HCW14out[ii,:].data-HCW26out[ii,:].data)/(1000*dxf[0,:]),sns.xkcd_rgb[\"blood orange\"],label='$N=3.9E-3s^{-1}$')\n",
    "    ax.plot(xc[1,:]/1000,(HCW15out[ii,:].data-HCW27out[ii,:].data)/(1000*dxf[0,:]),sns.xkcd_rgb[\"saffron\"],label='$N=6.3E-3s^{-1}$')\n",
    "    ax.plot(xc[1,:]/1000,(HCW18out[ii,:].data-HCW22out[ii,:].data)/(1000*dxf[0,:]),sns.xkcd_rgb[\"sapphire\"],label='$f=7.68E-5s^{-1}$')\n",
    "    ax.plot(xc[1,:]/1000,(HCW19out[ii,:].data-HCW23out[ii,:].data)/(1000*dxf[0,:]),sns.xkcd_rgb[\"cerulean\"],label='$f=4.84E-5s^{-1}$')\n",
    "    \n",
    "    \n",
    "    ax.set_title('day %d' %(ii/2))\n",
    "    plotCanyonPos(ax,xc[1,120]/1000,xc[1,240]/1000)\n",
    "\n",
    "ax2.set_title('Outer shelf, day 2')\n",
    "ax3.legend(loc ='upper right', bbox_to_anchor=(2,1))\n",
    "ax8.set_xlabel('Alongshore distance (km)')\n",
    "ax4.set_ylabel('Volume HCW per m ($10^3$ $m^3$)')\n",
    "plt.tight_layout()\n"
   ]
  },
  {
   "cell_type": "code",
   "execution_count": null,
   "metadata": {
    "collapsed": false
   },
   "outputs": [],
   "source": [
    "fig,((ax1,ax2,ax3),(ax4,ax5,ax6),(ax7,ax8,ax9)) = plt.subplots(3,3, figsize = (13,11),sharex=True, sharey=True)\n",
    "\n",
    "axlist = [ax1,ax2,ax3,ax4,ax5,ax6,ax7,ax8,ax9]\n",
    "\n",
    "times = [2,4,6,8,10,12,14,16,18]\n",
    "for ii,ax in zip(times,axlist):\n",
    "    \n",
    "    ax.plot(xc[1,:]/1000,(TrMassout[ii,:]-TrMassNoCout[ii,:])/(1000000*dxf[0,:]),sns.xkcd_rgb[\"kelly green\"],label='Base $f=9.66E-5s^{-1}$')\n",
    "    ax.plot(xc[1,:]/1000,(TrMass11out[ii,:]-TrMass24out[ii,:])/(1000000*dxf[0,:]),sns.xkcd_rgb[\"forest\"],label='$\\kappa_v=10^{-4}m^2s^{-1}$')\n",
    "    ax.plot(xc[1,:]/1000,(TrMass12out[ii,:]-TrMass25out[ii,:])/(1000000*dxf[0,:]),sns.xkcd_rgb[\"leaf\"],label='$\\kappa_v=10^{-3}m^2s^{-1}$')\n",
    "    ax.plot(xc[1,:]/1000,(TrMass063Dout[ii,:]-TrMassNoCout[ii,:])/(1000000*dxf[0,:]),sns.xkcd_rgb[\"dark hot pink\"],label='$\\kappa_vin=10^{-3},\\kappa_vout=10^{-5}m^2s^{-1}$')\n",
    "    ax.plot(xc[1,:]/1000,(TrMass073Dout[ii,:]-TrMassNoCout[ii,:])/(1000000*dxf[0,:]),sns.xkcd_rgb[\"muted pink\"],label='$\\kappa_vin=10^{-4},\\kappa_vout=10^{-5}m^2s^{-1}$')\n",
    "    ax.plot(xc[1,:]/1000,(TrMass16out[ii,:]-TrMass28out[ii,:])/(1000000*dxf[0,:]),sns.xkcd_rgb[\"bright red\"],label='$N=3.0E-3s^{-1}$')\n",
    "    ax.plot(xc[1,:]/1000,(TrMass14out[ii,:]-TrMass26out[ii,:])/(1000000*dxf[0,:]),sns.xkcd_rgb[\"blood orange\"],label='$N=3.9E-3s^{-1}$')\n",
    "    ax.plot(xc[1,:]/1000,(TrMass15out[ii,:]-TrMass27out[ii,:])/(1000000*dxf[0,:]),sns.xkcd_rgb[\"saffron\"],label='$N=6.3E-3s^{-1}$')\n",
    "    ax.plot(xc[1,:]/1000,(TrMass18out[ii,:]-TrMass22out[ii,:])/(1000000*dxf[0,:]),sns.xkcd_rgb[\"sapphire\"],label='$f=7.68E-5s^{-1}$')\n",
    "    ax.plot(xc[1,:]/1000,(TrMass19out[ii,:]-TrMass23out[ii,:])/(1000000*dxf[0,:]),sns.xkcd_rgb[\"cerulean\"],label='$f=4.84E-5s^{-1}$')\n",
    "    \n",
    "    \n",
    "    ax.set_title('day %d' %(ii/2))\n",
    "    plotCanyonPos(ax,xc[1,120]/1000,xc[1,240]/1000)\n",
    "\n",
    "ax3.legend(loc ='upper right', bbox_to_anchor=(2,1))\n",
    "ax8.set_xlabel('Alongshore distance (km)')\n",
    "ax4.set_ylabel('Tracer mass per m ($10^6$ $[C]m^3$)')\n",
    "ax2.set_title('Outer shelf, day 2')\n",
    "plt.tight_layout()"
   ]
  },
  {
   "cell_type": "code",
   "execution_count": null,
   "metadata": {
    "collapsed": false
   },
   "outputs": [],
   "source": [
    "fig,(ax1,ax2) = plt.subplots(2,1, figsize = (10,10),sharex=True)\n",
    "\n",
    "tt = np.arange(19)\n",
    "\n",
    "\n",
    "ax2.plot(tt/2.,np.sum(HCWout-HCWNoCout,axis=1)/OuterVol,sns.xkcd_rgb[\"kelly green\"],marker = 'o',label='Base $f=9.66E-5s^{-1}$')\n",
    "ax2.plot(tt/2.,np.sum(HCW11out-HCW24out,axis=1)/OuterVol,sns.xkcd_rgb[\"forest\"],marker = 'o',label='$\\kappa_v=10^{-4}m^2s^{-1}$')\n",
    "ax2.plot(tt/2.,np.sum(HCW12out-HCW25out,axis=1)/OuterVol,sns.xkcd_rgb[\"leaf\"],marker = 'o',label='$\\kappa_v=10^{-3}m^2s^{-1}$')\n",
    "ax2.plot(tt/2.,np.sum(HCW043Dout-HCW30out,axis=1)/OuterVol,sns.xkcd_rgb[\"royal purple\"],marker = 'o',label='$\\kappa_vin=10^{-3},\\kappa_vout=10^{-7}m^2s^{-1}$')\n",
    "ax2.plot(tt/2.,np.sum(HCW053Dout-HCW30out,axis=1)/OuterVol,sns.xkcd_rgb[\"muted purple\"],marker = 'o',label='$\\kappa_vin=10^{-4},\\kappa_vout=10^{-7}m^2s^{-1}$')\n",
    "ax2.plot(tt/2.,np.sum(HCW063Dout-HCWNoCout,axis=1)/OuterVol,sns.xkcd_rgb[\"dark hot pink\"],marker = 'o',label='$\\kappa_vin=10^{-3},\\kappa_vout=10^{-5}m^2s^{-1}$')\n",
    "ax2.plot(tt/2.,np.sum(HCW073Dout-HCWNoCout,axis=1)/OuterVol,sns.xkcd_rgb[\"muted pink\"],marker = 'o',label='$\\kappa_vin=10^{-4},\\kappa_vout=10^{-5}m^2s^{-1}$')\n",
    "ax2.plot(tt/2.,np.sum(HCW18out-HCW22out,axis=1)/OuterVol,sns.xkcd_rgb[\"sapphire\"],marker = 'o',label='$f=7.68E-5s^{-1}$')\n",
    "ax2.plot(tt/2.,np.sum(HCW19out-HCW23out,axis=1)/OuterVol,sns.xkcd_rgb[\"cerulean\"],marker = 'o',label='f=4.84E-5s^{-1}$')\n",
    "ax2.plot(tt/2.,np.sum(HCW16out-HCW28out,axis=1)/OuterVol,sns.xkcd_rgb[\"bright red\"],marker = 'o',label='$N=3.0E-3s^{-1}$')\n",
    "ax2.plot(tt/2.,np.sum(HCW14out-HCW26out,axis=1)/OuterVol,sns.xkcd_rgb[\"blood orange\"],marker = 'o',label='$N=3.9E-3s^{-1}$')\n",
    "ax2.plot(tt/2.,np.sum(HCW15out-HCW27out,axis=1)/OuterVol,sns.xkcd_rgb[\"saffron\"],marker = 'o',label='$N=6.3E-3s^{-1}$')\n",
    "\n",
    "   \n",
    "ax1.plot(tt/2.,np.sum(TrMassout-TrMassNoCout,axis=1)/np.sum(TrMassNoCout[0,:]),sns.xkcd_rgb[\"kelly green\"],marker = 'o',label='Base $f=9.66E-5s^{-1}$')\n",
    "ax1.plot(tt/2.,np.sum(TrMass11out-TrMass24out,axis=1)/np.sum(TrMassNoCout[0,:]),sns.xkcd_rgb[\"forest\"],marker = 'o',label='$\\kappa_v=10^{-4}m^2s^{-1}$')\n",
    "ax1.plot(tt/2.,np.sum(TrMass12out-TrMass25out,axis=1)/np.sum(TrMassNoCout[0,:]),sns.xkcd_rgb[\"leaf\"],marker = 'o',label='$\\kappa_v=10^{-3}m^2s^{-1}$')\n",
    "ax1.plot(tt/2.,np.sum(TrMass043Dout-TrMass30out,axis=1)/np.sum(TrMassNoCout[0,:]),sns.xkcd_rgb[\"royal purple\"],marker = 'o',label='$\\kappa_vin=10^{-3},\\kappa_vout=10^{-7}m^2s^{-1}$')\n",
    "ax1.plot(tt/2.,np.sum(TrMass053Dout-TrMass30out,axis=1)/np.sum(TrMassNoCout[0,:]),sns.xkcd_rgb[\"muted purple\"],marker = 'o',label='$\\kappa_vin=10^{-4},\\kappa_vout=10^{-7}m^2s^{-1}$')\n",
    "ax1.plot(tt/2.,np.sum(TrMass063Dout-TrMassNoCout,axis=1)/np.sum(TrMassNoCout[0,:]),sns.xkcd_rgb[\"dark hot pink\"],marker = 'o',label='$\\kappa_vin=10^{-3},\\kappa_vout=10^{-5}m^2s^{-1}$')\n",
    "ax1.plot(tt/2.,np.sum(TrMass073Dout-TrMassNoCout,axis=1)/np.sum(TrMassNoCout[0,:]),sns.xkcd_rgb[\"muted pink\"],marker = 'o',label='$\\kappa_vin=10^{-4},\\kappa_vout=10^{-5}m^2s^{-1}$')\n",
    "ax1.plot(tt/2.,np.sum(TrMass16out-TrMass28out,axis=1)/np.sum(TrMassNoCout[0,:]),sns.xkcd_rgb[\"bright red\"],marker = 'o',label='$N=3.0E-3s^{-1}$')\n",
    "ax1.plot(tt/2.,np.sum(TrMass14out-TrMass26out,axis=1)/np.sum(TrMassNoCout[0,:]),sns.xkcd_rgb[\"blood orange\"],marker = 'o',label='$N=3.9E-3s^{-1}$')\n",
    "ax1.plot(tt/2.,np.sum(TrMass15out-TrMass27out,axis=1)/np.sum(TrMassNoCout[0,:]),sns.xkcd_rgb[\"saffron\"],marker = 'o',label='$N=6.3E-3s^{-1}$')\n",
    "ax1.plot(tt/2.,np.sum(TrMass18out-TrMass22out,axis=1)/np.sum(TrMassNoCout[0,:]),sns.xkcd_rgb[\"sapphire\"],marker = 'o',label='$f=7.68E-5s^{-1}$')\n",
    "ax1.plot(tt/2.,np.sum(TrMass19out-TrMass23out,axis=1)/np.sum(TrMassNoCout[0,:]),sns.xkcd_rgb[\"cerulean\"],marker = 'o',label='$f=4.84E-5s^{-1}$')\n",
    "        \n",
    "    \n",
    "ax1.legend(loc ='upper right', bbox_to_anchor=(1.4,1))\n",
    "ax2.set_xlabel('Day')\n",
    "ax1.set_ylabel('Normalized tracer mass effect ($T-T_{flat}/T_{flat}0$) ')\n",
    "ax2.set_ylabel('HCW volume / Outer shelf volume')\n",
    "ax1.set_title('Outer Shelf')\n",
    "plt.tight_layout()\n",
    "plt.show()"
   ]
  },
  {
   "cell_type": "markdown",
   "metadata": {},
   "source": [
    "### Inner shelf"
   ]
  },
  {
   "cell_type": "code",
   "execution_count": null,
   "metadata": {
    "collapsed": false
   },
   "outputs": [],
   "source": [
    "fig,((ax1,ax2,ax3),(ax4,ax5,ax6),(ax7,ax8,ax9)) = plt.subplots(3,3, figsize = (13,11),sharex=True, sharey=True)\n",
    "\n",
    "axlist = [ax1,ax2,ax3,ax4,ax5,ax6,ax7,ax8,ax9]\n",
    "\n",
    "times = [2,4,6,8,10,12,14,16,18]\n",
    "for ii,ax in zip(times,axlist):\n",
    "    ax.axhline(0,color='0.70',linestyle='-')\n",
    "    ax.plot(xc[1,:]/1000,(HCWin[ii,:].data-HCWNoCin[ii,:].data)/(1000*dxf[0,:]),sns.xkcd_rgb[\"kelly green\"],label='Base $f=9.66E-5s^{-1}$')\n",
    "    ax.plot(xc[1,:]/1000,(HCW11in[ii,:].data-HCW24in[ii,:].data)/(1000*dxf[0,:]),sns.xkcd_rgb[\"forest\"],label='$\\kappa_v=10^{-4}m^2s^{-1}$')\n",
    "    ax.plot(xc[1,:]/1000,(HCW12in[ii,:].data-HCW25in[ii,:].data)/(1000*dxf[0,:]),sns.xkcd_rgb[\"leaf\"],label='$\\kappa_v=10^{-3}m^2s^{-1}$')\n",
    "    ax.plot(xc[1,:]/1000,(HCW043Din[ii,:].data-HCW30in[ii,:].data)/(1000*dxf[0,:]),sns.xkcd_rgb[\"royal purple\"],label='$\\kappa_vin=10^{-3},\\kappa_vout=10^{-7}m^2s^{-1}$')\n",
    "    ax.plot(xc[1,:]/1000,(HCW053Din[ii,:].data-HCW30in[ii,:].data)/(1000*dxf[0,:]),sns.xkcd_rgb[\"muted purple\"],label='$\\kappa_vin=10^{-4},\\kappa_vout=10^{-7}m^2s^{-1}$')\n",
    "    ax.plot(xc[1,:]/1000,(HCW063Din[ii,:].data-HCWNoCin[ii,:].data)/(1000*dxf[0,:]),sns.xkcd_rgb[\"dark hot pink\"],label='$\\kappa_vin=10^{-3},\\kappa_vout=10^{-5}m^2s^{-1}$')\n",
    "    ax.plot(xc[1,:]/1000,(HCW073Din[ii,:].data-HCWNoCin[ii,:].data)/(1000*dxf[0,:]),sns.xkcd_rgb[\"muted pink\"],label='$\\kappa_vin=10^{-4},\\kappa_vout=10^{-5}m^2s^{-1}$')\n",
    "    ax.plot(xc[1,:]/1000,(HCW16in[ii,:].data-HCW28in[ii,:].data)/(1000*dxf[0,:]),sns.xkcd_rgb[\"bright red\"],label='$N=3.0E-3s^{-1}$')\n",
    "    ax.plot(xc[1,:]/1000,(HCW14in[ii,:].data-HCW26in[ii,:].data)/(1000*dxf[0,:]),sns.xkcd_rgb[\"blood orange\"],label='$N=3.9E-3s^{-1}$')\n",
    "    ax.plot(xc[1,:]/1000,(HCW15in[ii,:].data-HCW27in[ii,:].data)/(1000*dxf[0,:]),sns.xkcd_rgb[\"saffron\"],label='$N=6.3E-3s^{-1}$')\n",
    "    ax.plot(xc[1,:]/1000,(HCW18in[ii,:].data-HCW22in[ii,:].data)/(1000*dxf[0,:]),sns.xkcd_rgb[\"sapphire\"],label='$f=7.68E-5s^{-1}$')\n",
    "    ax.plot(xc[1,:]/1000,(HCW19in[ii,:].data-HCW23in[ii,:].data)/(1000*dxf[0,:]),sns.xkcd_rgb[\"cerulean\"],label='$f=4.84E-5s^{-1}$')\n",
    "    \n",
    "    \n",
    "    ax.set_title('day %d' %(ii/2))\n",
    "    plotCanyonPos(ax,xc[1,120]/1000,xc[1,240]/1000)\n",
    "\n",
    "ax2.set_title('Inner shelf, day 2')\n",
    "ax3.legend(loc ='upper right', bbox_to_anchor=(2,1))\n",
    "ax8.set_xlabel('Alongshore distance (km)')\n",
    "ax4.set_ylabel('Volume HCW per m ($10^3$ $m^3$)')\n",
    "plt.tight_layout()\n"
   ]
  },
  {
   "cell_type": "code",
   "execution_count": null,
   "metadata": {
    "collapsed": false
   },
   "outputs": [],
   "source": [
    "fig,((ax1,ax2,ax3),(ax4,ax5,ax6),(ax7,ax8,ax9)) = plt.subplots(3,3, figsize = (13,11),sharex=True, sharey=True)\n",
    "\n",
    "axlist = [ax1,ax2,ax3,ax4,ax5,ax6,ax7,ax8,ax9]\n",
    "\n",
    "times = [2,4,6,8,10,12,14,16,18]\n",
    "for ii,ax in zip(times,axlist):\n",
    "    \n",
    "    ax.plot(xc[1,:]/1000,(TrMassin[ii,:]-TrMassNoCin[ii,:])/(1000000*dxf[0,:]),sns.xkcd_rgb[\"kelly green\"],label='Base $f=9.66E-5s^{-1}$')\n",
    "    ax.plot(xc[1,:]/1000,(TrMass11in[ii,:]-TrMass24in[ii,:])/(1000000*dxf[0,:]),sns.xkcd_rgb[\"forest\"],label='$\\kappa_v=10^{-4}m^2s^{-1}$')\n",
    "    ax.plot(xc[1,:]/1000,(TrMass12in[ii,:]-TrMass25in[ii,:])/(1000000*dxf[0,:]),sns.xkcd_rgb[\"leaf\"],label='$\\kappa_v=10^{-3}m^2s^{-1}$')\n",
    "    ax.plot(xc[1,:]/1000,(TrMass043Din[ii,:]-TrMass30in[ii,:])/(1000000*dxf[0,:]),sns.xkcd_rgb[\"royal purple\"],label='$\\kappa_vin=10^{-3},\\kappa_vout=10^{-7}m^2s^{-1}$')\n",
    "    ax.plot(xc[1,:]/1000,(TrMass053Din[ii,:]-TrMass30in[ii,:])/(1000000*dxf[0,:]),sns.xkcd_rgb[\"muted purple\"],label='$\\kappa_vin=10^{-4},\\kappa_vout=10^{-7}m^2s^{-1}$')\n",
    "    ax.plot(xc[1,:]/1000,(TrMass063Din[ii,:]-TrMassNoCin[ii,:])/(1000000*dxf[0,:]),sns.xkcd_rgb[\"dark hot pink\"],label='$\\kappa_vin=10^{-3},\\kappa_vout=10^{-5}m^2s^{-1}$')\n",
    "    ax.plot(xc[1,:]/1000,(TrMass073Din[ii,:]-TrMassNoCin[ii,:])/(1000000*dxf[0,:]),sns.xkcd_rgb[\"muted pink\"],label='$\\kappa_vin=10^{-4},\\kappa_vout=10^{-5}m^2s^{-1}$')\n",
    "    ax.plot(xc[1,:]/1000,(TrMass16in[ii,:]-TrMass28in[ii,:])/(1000000*dxf[0,:]),sns.xkcd_rgb[\"bright red\"],label='$N=3.0E-3s^{-1}$')\n",
    "    ax.plot(xc[1,:]/1000,(TrMass14in[ii,:]-TrMass26in[ii,:])/(1000000*dxf[0,:]),sns.xkcd_rgb[\"blood orange\"],label='$N=3.9E-3s^{-1}$')\n",
    "    ax.plot(xc[1,:]/1000,(TrMass15in[ii,:]-TrMass27in[ii,:])/(1000000*dxf[0,:]),sns.xkcd_rgb[\"saffron\"],label='$N=6.3E-3s^{-1}$')\n",
    "    ax.plot(xc[1,:]/1000,(TrMass18in[ii,:]-TrMass22in[ii,:])/(1000000*dxf[0,:]),sns.xkcd_rgb[\"sapphire\"],label='$f=7.68E-5s^{-1}$')\n",
    "    ax.plot(xc[1,:]/1000,(TrMass19in[ii,:]-TrMass23in[ii,:])/(1000000*dxf[0,:]),sns.xkcd_rgb[\"cerulean\"],label='$f=4.84E-5s^{-1}$')\n",
    "    \n",
    "    \n",
    "    ax.set_title('day %d' %(ii/2))\n",
    "    plotCanyonPos(ax,xc[1,120]/1000,xc[1,240]/1000)\n",
    "\n",
    "ax3.legend(loc ='upper right', bbox_to_anchor=(2,1))\n",
    "ax8.set_xlabel('Alongshore distance (km)')\n",
    "ax4.set_ylabel('Tracer mass per m ($10^6$ $[C]m^3$)')\n",
    "ax2.set_title('Inner shelf, day 2')\n",
    "plt.tight_layout()"
   ]
  },
  {
   "cell_type": "code",
   "execution_count": null,
   "metadata": {
    "collapsed": false
   },
   "outputs": [],
   "source": [
    "fig,(ax1,ax2) = plt.subplots(2,1, figsize = (10,10),sharex=True)\n",
    "\n",
    "tt = np.arange(19)\n",
    "\n",
    "\n",
    "ax2.plot(tt/2.,np.sum(HCWin.data-HCWNoCin.data,axis=1)/InnerVol,sns.xkcd_rgb[\"kelly green\"],marker = 'o',label='Base $f=9.66E-5s^{-1}$')\n",
    "ax2.plot(tt/2.,np.sum(HCW11in.data-HCW24in.data,axis=1)/InnerVol,sns.xkcd_rgb[\"forest\"],marker = 'o',label='$\\kappa_v=10^{-4}m^2s^{-1}$')\n",
    "ax2.plot(tt/2.,np.sum(HCW12in.data-HCW25in.data,axis=1)/InnerVol,sns.xkcd_rgb[\"leaf\"],marker = 'o',label='$\\kappa_v=10^{-3}m^2s^{-1}$')\n",
    "ax2.plot(tt/2.,np.sum(HCW043Din.data-HCW30in.data,axis=1)/InnerVol,sns.xkcd_rgb[\"royal purple\"],marker = 'o',label='$\\kappa_vin=10^{-3},\\kappa_vout=10^{-7}m^2s^{-1}$')\n",
    "ax2.plot(tt/2.,np.sum(HCW053Din.data-HCW30in.data,axis=1)/InnerVol,sns.xkcd_rgb[\"muted purple\"],marker = 'o',label='$\\kappa_vin=10^{-4},\\kappa_vout=10^{-7}m^2s^{-1}$')\n",
    "ax2.plot(tt/2.,np.sum(HCW063Din.data-HCWNoCin.data,axis=1)/InnerVol,sns.xkcd_rgb[\"dark hot pink\"],marker = 'o',label='$\\kappa_vin=10^{-3},\\kappa_vout=10^{-5}m^2s^{-1}$')\n",
    "ax2.plot(tt/2.,np.sum(HCW073Din.data-HCWNoCin.data,axis=1)/InnerVol,sns.xkcd_rgb[\"muted pink\"],marker = 'o',label='$\\kappa_vin=10^{-4},\\kappa_vout=10^{-5}m^2s^{-1}$')\n",
    "ax2.plot(tt/2.,np.sum(HCW18in.data-HCW22in.data,axis=1)/InnerVol,sns.xkcd_rgb[\"sapphire\"],marker = 'o',label='$f=7.68E-5s^{-1}$')\n",
    "ax2.plot(tt/2.,np.sum(HCW19in.data-HCW23in.data,axis=1)/InnerVol,sns.xkcd_rgb[\"cerulean\"],marker = 'o',label='f=4.84E-5s^{-1}$')\n",
    "ax2.plot(tt/2.,np.sum(HCW16in.data-HCW28in.data,axis=1)/InnerVol,sns.xkcd_rgb[\"bright red\"],marker = 'o',label='$N=3.0E-3s^{-1}$')\n",
    "ax2.plot(tt/2.,np.sum(HCW14in.data-HCW26in.data,axis=1)/InnerVol,sns.xkcd_rgb[\"blood orange\"],marker = 'o',label='$N=3.9E-3s^{-1}$')\n",
    "ax2.plot(tt/2.,np.sum(HCW15in.data-HCW27in.data,axis=1)/InnerVol,sns.xkcd_rgb[\"saffron\"],marker = 'o',label='$N=6.3E-3s^{-1}$')\n",
    "\n",
    "   \n",
    "ax1.plot(tt/2.,np.sum(TrMassin-TrMassNoCin,axis=1)/np.sum(TrMassNoCin[0,:]),sns.xkcd_rgb[\"kelly green\"],marker = 'o',label='Base $f=9.66E-5s^{-1}$')\n",
    "ax1.plot(tt/2.,np.sum(TrMass11in-TrMass24in,axis=1)/np.sum(TrMass24in[0,:]),sns.xkcd_rgb[\"forest\"],marker = 'o',label='$\\kappa_v=10^{-4}m^2s^{-1}$')\n",
    "ax1.plot(tt/2.,np.sum(TrMass12in-TrMass25in,axis=1)/np.sum(TrMass25in[0,:]),sns.xkcd_rgb[\"leaf\"],marker = 'o',label='$\\kappa_v=10^{-3}m^2s^{-1}$')\n",
    "ax1.plot(tt/2.,np.sum(TrMass043Din-TrMass30in,axis=1)/np.sum(TrMass30in[0,:]),sns.xkcd_rgb[\"royal purple\"],marker = 'o',label='$\\kappa_vin=10^{-3},\\kappa_vout=10^{-7}m^2s^{-1}$')\n",
    "ax1.plot(tt/2.,np.sum(TrMass053Din-TrMass30in,axis=1)/np.sum(TrMass30in[0,:]),sns.xkcd_rgb[\"muted purple\"],marker = 'o',label='$\\kappa_vin=10^{-4},\\kappa_vout=10^{-7}m^2s^{-1}$')\n",
    "ax1.plot(tt/2.,np.sum(TrMass063Din-TrMassNoCin,axis=1)/np.sum(TrMassNoCin[0,:]),sns.xkcd_rgb[\"dark hot pink\"],marker = 'o',label='$\\kappa_vin=10^{-3},\\kappa_vout=10^{-5}m^2s^{-1}$')\n",
    "ax1.plot(tt/2.,np.sum(TrMass073Din-TrMassNoCin,axis=1)/np.sum(TrMassNoCin[0,:]),sns.xkcd_rgb[\"muted pink\"],marker = 'o',label='$\\kappa_vin=10^{-4},\\kappa_vout=10^{-5}m^2s^{-1}$')\n",
    "ax1.plot(tt/2.,np.sum(TrMass16in-TrMass28in,axis=1)/np.sum(TrMass28in[0,:]),sns.xkcd_rgb[\"bright red\"],marker = 'o',label='$N=3.0E-3s^{-1}$')\n",
    "ax1.plot(tt/2.,np.sum(TrMass14in-TrMass26in,axis=1)/np.sum(TrMass26in[0,:]),sns.xkcd_rgb[\"blood orange\"],marker = 'o',label='$N=3.9E-3s^{-1}$')\n",
    "ax1.plot(tt/2.,np.sum(TrMass15in-TrMass27in,axis=1)/np.sum(TrMass27in[0,:]),sns.xkcd_rgb[\"saffron\"],marker = 'o',label='$N=6.3E-3s^{-1}$')\n",
    "ax1.plot(tt/2.,np.sum(TrMass18in-TrMass22in,axis=1)/np.sum(TrMass22in[0,:]),sns.xkcd_rgb[\"sapphire\"],marker = 'o',label='$f=7.68E-5s^{-1}$')\n",
    "ax1.plot(tt/2.,np.sum(TrMass19in-TrMass23in,axis=1)/np.sum(TrMass23in[0,:]),sns.xkcd_rgb[\"cerulean\"],marker = 'o',label='$f=4.84E-5s^{-1}$')\n",
    "        \n",
    "    \n",
    "ax1.legend(loc ='upper right', bbox_to_anchor=(1.4,1))\n",
    "ax2.set_xlabel('Day')\n",
    "ax1.set_ylabel('Normalized tracer mass effect ($T-T_{flat}/T_{flat}0$) ')\n",
    "ax2.set_ylabel('HCW volume / Inner shelf volume')\n",
    "ax1.set_title('Inner Shelf')\n",
    "plt.tight_layout()\n",
    "plt.show()"
   ]
  },
  {
   "cell_type": "code",
   "execution_count": null,
   "metadata": {
    "collapsed": false
   },
   "outputs": [],
   "source": [
    "fig,(ax1,ax2) = plt.subplots(2,1, figsize = (10,10),sharex=True)\n",
    "\n",
    "tt = np.arange(19)\n",
    "\n",
    "\n",
    "ax2.plot(tt/2.,np.sum(HCWin.data-HCWNoCin.data,axis=1)/InnerVol,sns.xkcd_rgb[\"kelly green\"],marker = 'o',label='Base $f=9.66E-5s^{-1}$')\n",
    "ax2.plot(tt/2.,np.sum(HCW11in.data-HCW24in.data,axis=1)/InnerVol,sns.xkcd_rgb[\"forest\"],marker = 'o',label='$\\kappa_v=10^{-4}m^2s^{-1}$')\n",
    "ax2.plot(tt/2.,np.sum(HCW12in.data-HCW25in.data,axis=1)/InnerVol,sns.xkcd_rgb[\"leaf\"],marker = 'o',label='$\\kappa_v=10^{-3}m^2s^{-1}$')\n",
    "ax2.plot(tt/2.,np.sum(HCW043Din.data-HCW30in.data,axis=1)/InnerVol,sns.xkcd_rgb[\"royal purple\"],marker = 'o',label='$\\kappa_vin=10^{-3},\\kappa_vout=10^{-7}m^2s^{-1}$')\n",
    "ax2.plot(tt/2.,np.sum(HCW053Din.data-HCW30in.data,axis=1)/InnerVol,sns.xkcd_rgb[\"muted purple\"],marker = 'o',label='$\\kappa_vin=10^{-4},\\kappa_vout=10^{-7}m^2s^{-1}$')\n",
    "ax2.plot(tt/2.,np.sum(HCW063Din.data-HCWNoCin.data,axis=1)/InnerVol,sns.xkcd_rgb[\"dark hot pink\"],marker = 'o',label='$\\kappa_vin=10^{-3},\\kappa_vout=10^{-5}m^2s^{-1}$')\n",
    "ax2.plot(tt/2.,np.sum(HCW073Din.data-HCWNoCin.data,axis=1)/InnerVol,sns.xkcd_rgb[\"muted pink\"],marker = 'o',label='$\\kappa_vin=10^{-4},\\kappa_vout=10^{-5}m^2s^{-1}$')\n",
    "ax2.plot(tt/2.,np.sum(HCW18in.data-HCW22in.data,axis=1)/InnerVol,sns.xkcd_rgb[\"sapphire\"],marker = 'o',label='$f=7.68E-5s^{-1}$')\n",
    "ax2.plot(tt/2.,np.sum(HCW19in.data-HCW23in.data,axis=1)/InnerVol,sns.xkcd_rgb[\"cerulean\"],marker = 'o',label='f=4.84E-5s^{-1}$')\n",
    "#ax2.plot(tt/2.,np.sum(HCW16in.data-HCW28in.data,axis=1)/InnerVol,sns.xkcd_rgb[\"bright red\"],marker = 'o',label='$N=3.0E-3s^{-1}$')\n",
    "#ax2.plot(tt/2.,np.sum(HCW14in.data-HCW26in.data,axis=1)/InnerVol,sns.xkcd_rgb[\"blood orange\"],marker = 'o',label='$N=3.9E-3s^{-1}$')\n",
    "#ax2.plot(tt/2.,np.sum(HCW15in.data-HCW27in.data,axis=1)/InnerVol,sns.xkcd_rgb[\"saffron\"],marker = 'o',label='$N=6.3E-3s^{-1}$')\n",
    "\n",
    "   \n",
    "ax1.plot(tt/2.,np.sum(TrMassin-TrMassNoCin,axis=1)/np.sum(TrMassNoCin[0,:]),sns.xkcd_rgb[\"kelly green\"],marker = 'o',label='Base $f=9.66E-5s^{-1}$')\n",
    "ax1.plot(tt/2.,np.sum(TrMass11in-TrMass24in,axis=1)/np.sum(TrMass24in[0,:]),sns.xkcd_rgb[\"forest\"],marker = 'o',label='$\\kappa_v=10^{-4}m^2s^{-1}$')\n",
    "ax1.plot(tt/2.,np.sum(TrMass12in-TrMass25in,axis=1)/np.sum(TrMass25in[0,:]),sns.xkcd_rgb[\"leaf\"],marker = 'o',label='$\\kappa_v=10^{-3}m^2s^{-1}$')\n",
    "ax1.plot(tt/2.,np.sum(TrMass043Din-TrMass30in,axis=1)/np.sum(TrMass30in[0,:]),sns.xkcd_rgb[\"royal purple\"],marker = 'o',label='$\\kappa_vin=10^{-3},\\kappa_vout=10^{-7}m^2s^{-1}$')\n",
    "ax1.plot(tt/2.,np.sum(TrMass053Din-TrMass30in,axis=1)/np.sum(TrMass30in[0,:]),sns.xkcd_rgb[\"muted purple\"],marker = 'o',label='$\\kappa_vin=10^{-4},\\kappa_vout=10^{-7}m^2s^{-1}$')\n",
    "ax1.plot(tt/2.,np.sum(TrMass063Din-TrMassNoCin,axis=1)/np.sum(TrMassNoCin[0,:]),sns.xkcd_rgb[\"dark hot pink\"],marker = 'o',label='$\\kappa_vin=10^{-3},\\kappa_vout=10^{-5}m^2s^{-1}$')\n",
    "ax1.plot(tt/2.,np.sum(TrMass073Din-TrMassNoCin,axis=1)/np.sum(TrMassNoCin[0,:]),sns.xkcd_rgb[\"muted pink\"],marker = 'o',label='$\\kappa_vin=10^{-4},\\kappa_vout=10^{-5}m^2s^{-1}$')\n",
    "#ax1.plot(tt/2.,np.sum(TrMass16in-TrMass28in,axis=1)/np.sum(TrMass28in[0,:]),sns.xkcd_rgb[\"bright red\"],marker = 'o',label='$N=3.0E-3s^{-1}$')\n",
    "#ax1.plot(tt/2.,np.sum(TrMass14in-TrMass26in,axis=1)/np.sum(TrMass26in[0,:]),sns.xkcd_rgb[\"blood orange\"],marker = 'o',label='$N=3.9E-3s^{-1}$')\n",
    "#ax1.plot(tt/2.,np.sum(TrMass15in-TrMass27in,axis=1)/np.sum(TrMass27in[0,:]),sns.xkcd_rgb[\"saffron\"],marker = 'o',label='$N=6.3E-3s^{-1}$')\n",
    "ax1.plot(tt/2.,np.sum(TrMass18in-TrMass22in,axis=1)/np.sum(TrMass22in[0,:]),sns.xkcd_rgb[\"sapphire\"],marker = 'o',label='$f=7.68E-5s^{-1}$')\n",
    "ax1.plot(tt/2.,np.sum(TrMass19in-TrMass23in,axis=1)/np.sum(TrMass23in[0,:]),sns.xkcd_rgb[\"cerulean\"],marker = 'o',label='$f=4.84E-5s^{-1}$')\n",
    "        \n",
    "    \n",
    "ax1.legend(loc ='upper right', bbox_to_anchor=(1.4,1))\n",
    "ax2.set_xlabel('Day')\n",
    "ax1.set_ylabel('Normalized tracer mass effect ($T-T_{flat}/T_{flat}0$) ')\n",
    "ax2.set_ylabel('HCW volume / Inner shelf volume')\n",
    "ax1.set_title('Inner Shelf')\n",
    "plt.tight_layout()\n",
    "plt.show()"
   ]
  },
  {
   "cell_type": "markdown",
   "metadata": {
    "collapsed": false
   },
   "source": [
    "### Process the rest of the runs and save dataframe\n"
   ]
  },
  {
   "cell_type": "code",
   "execution_count": null,
   "metadata": {
    "collapsed": false
   },
   "outputs": [],
   "source": [
    "# Process the rest of the runs to save pandas dataframe\n",
    "Ptracers02 = '/ocean/kramosmu/MITgcm/TracerExperiments/CNTDIFF/run02/ptracersGlob.nc' \n",
    "Ptracers04 = '/ocean/kramosmu/MITgcm/TracerExperiments/CNTDIFF/run04/ptracersGlob.nc' \n",
    "Ptracers20 = '/ocean/kramosmu/MITgcm/TracerExperiments/CNTDIFF/run20/ptracersGlob.nc' \n",
    "\n",
    "Tra = rout.getField(Ptracers02, 'Tr1')\n",
    "Trb = rout.getField(Ptracers04, 'Tr1')\n",
    "Trc = rout.getField(Ptracers20, 'Tr2')\n",
    "\n",
    "HCW02out,TrMass02out = HCW_Tracer_AlongShelf_Split(Tra,mask_NoC,30,rA,hFacC,drF,227,267,30,180,50)\n",
    "HCW04out,TrMass04out = HCW_Tracer_AlongShelf_Split(Trb,mask_NoC,30,rA,hFacC,drF,227,267,30,180,50)\n",
    "HCW20out,TrMass20out = HCW_Tracer_AlongShelf_Split(Trc,mask_NoC,30,rA,hFacC,drF,227,267,30,180,50)\n",
    "\n",
    "HCW02in,TrMass02in = HCW_Tracer_AlongShelf_Split(Tra,mask_NoC,30,rA,hFacC,drF,267,359,30,180,50)\n",
    "HCW04in,TrMass04in = HCW_Tracer_AlongShelf_Split(Trb,mask_NoC,30,rA,hFacC,drF,267,359,30,180,50)\n",
    "HCW20in,TrMass20in = HCW_Tracer_AlongShelf_Split(Trc,mask_NoC,30,rA,hFacC,drF,267,359,30,180,50)\n"
   ]
  },
  {
   "cell_type": "code",
   "execution_count": null,
   "metadata": {
    "collapsed": false,
    "scrolled": false
   },
   "outputs": [],
   "source": [
    "runs = ['02','03','04','07','11','12','14','15','16','17','18','19','20','043D','053D','063D','073D']\n",
    "\n",
    "DHCW_dataOut = np.zeros(len(runs))\n",
    "DTrMass_dataOut = np.zeros(len(runs))\n",
    "# HCW\n",
    "DHCW_dataOut[0] = ((np.sum(HCW02out,axis=1)[18]-np.sum(HCW02out,axis=1)[10])/(4*3600.0*24))\n",
    "DHCW_dataOut[1] = ((np.sum(HCWout,axis=1)[18]-np.sum(HCWout,axis=1)[10])/(4*3600.0*24))\n",
    "DHCW_dataOut[2] = ((np.sum(HCW04out,axis=1)[18]-np.sum(HCW04out,axis=1)[10])/(4*3600.0*24))\n",
    "DHCW_dataOut[3] = ((np.sum(HCWNoCout,axis=1)[18]-np.sum(HCWNoCout,axis=1)[10])/(4*3600.0*24))\n",
    "DHCW_dataOut[4] = ((np.sum(HCW11out,axis=1)[18]-np.sum(HCW11out,axis=1)[10])/(4*3600.0*24))\n",
    "DHCW_dataOut[5] = ((np.sum(HCW12out,axis=1)[18]-np.sum(HCW12out,axis=1)[10])/(4*3600.0*24))\n",
    "DHCW_dataOut[6] = ((np.sum(HCW14out,axis=1)[18]-np.sum(HCW14out,axis=1)[10])/(4*3600.0*24))\n",
    "DHCW_dataOut[7] = ((np.sum(HCW15out,axis=1)[18]-np.sum(HCW15out,axis=1)[10])/(4*3600.0*24))\n",
    "DHCW_dataOut[8] = ((np.sum(HCW16out,axis=1)[18]-np.sum(HCW16out,axis=1)[10])/(4*3600.0*24))\n",
    "DHCW_dataOut[9] = ((np.sum(HCW17out,axis=1)[18]-np.sum(HCW17out,axis=1)[10])/(4*3600.0*24))\n",
    "DHCW_dataOut[10] = ((np.sum(HCW18out,axis=1)[18]-np.sum(HCW18out,axis=1)[10])/(4*3600.0*24))\n",
    "DHCW_dataOut[11] = ((np.sum(HCW19out,axis=1)[18]-np.sum(HCW19out,axis=1)[10])/(4*3600.0*24))\n",
    "DHCW_dataOut[12] = ((np.sum(HCW20out,axis=1)[18]-np.sum(HCW20out,axis=1)[10])/(4*3600.0*24))\n",
    "\n",
    "DHCW_dataOut[13] = ((np.sum(HCW043Dout,axis=1)[18]-np.sum(HCW043Dout,axis=1)[10])/(4*3600.0*24))\n",
    "DHCW_dataOut[14] = ((np.sum(HCW053Dout,axis=1)[18]-np.sum(HCW053Dout,axis=1)[10])/(4*3600.0*24))\n",
    "DHCW_dataOut[15] = ((np.sum(HCW063Dout,axis=1)[18]-np.sum(HCW063Dout,axis=1)[10])/(4*3600.0*24))\n",
    "DHCW_dataOut[16] = ((np.sum(HCW073Dout,axis=1)[18]-np.sum(HCW073Dout,axis=1)[10])/(4*3600.0*24))\n",
    "\n",
    " \n",
    "\n",
    "#Tracer mass\n",
    "DTrMass_dataOut[0] = ((np.sum(TrMass02out,axis=1)[18]-np.sum(TrMass02out,axis=1)[10])/(4*3600.0*24))\n",
    "DTrMass_dataOut[1] =((np.sum(TrMassout,axis=1)[18]-np.sum(TrMassout,axis=1)[10])/(4*3600.0*24))\n",
    "DTrMass_dataOut[2] =((np.sum(TrMass04out,axis=1)[18]-np.sum(TrMass04out,axis=1)[10])/(4*3600.0*24))\n",
    "DTrMass_dataOut[3] =((np.sum(TrMassNoCout,axis=1)[18]-np.sum(TrMassNoCout,axis=1)[10])/(4*3600.0*24))\n",
    "DTrMass_dataOut[4] =((np.sum(TrMass11out,axis=1)[18]-np.sum(TrMass11out,axis=1)[10])/(4*3600.0*24))\n",
    "DTrMass_dataOut[5] =((np.sum(TrMass12out,axis=1)[18]-np.sum(TrMass12out,axis=1)[10])/(4*3600.0*24))\n",
    "DTrMass_dataOut[6] =((np.sum(TrMass14out,axis=1)[18]-np.sum(TrMass14out,axis=1)[10])/(4*3600.0*24))\n",
    "DTrMass_dataOut[7] =((np.sum(TrMass15out,axis=1)[18]-np.sum(TrMass15out,axis=1)[10])/(4*3600.0*24))\n",
    "DTrMass_dataOut[8] =((np.sum(TrMass16out,axis=1)[18]-np.sum(TrMass16out,axis=1)[10])/(4*3600.0*24))\n",
    "DTrMass_dataOut[9] =((np.sum(TrMass17out,axis=1)[18]-np.sum(TrMass17out,axis=1)[10])/(4*3600.0*24))\n",
    "DTrMass_dataOut[10] =((np.sum(TrMass18out,axis=1)[18]-np.sum(TrMass18out,axis=1)[10])/(4*3600.0*24))\n",
    "DTrMass_dataOut[11] =((np.sum(TrMass19out,axis=1)[18]-np.sum(TrMass19out,axis=1)[10])/(4*3600.0*24))\n",
    "DTrMass_dataOut[12] =((np.sum(TrMass20out,axis=1)[18]-np.sum(TrMass20out,axis=1)[10])/(4*3600.0*24))\n",
    "\n",
    " \n",
    "DTrMass_dataOut[13] =((np.sum(TrMass043Dout,axis=1)[18]-np.sum(TrMass043Dout,axis=1)[10])/(4*3600.0*24))\n",
    "DTrMass_dataOut[14] =((np.sum(TrMass053Dout,axis=1)[18]-np.sum(TrMass053Dout,axis=1)[10])/(4*3600.0*24))\n",
    "DTrMass_dataOut[15] =((np.sum(TrMass063Dout,axis=1)[18]-np.sum(TrMass063Dout,axis=1)[10])/(4*3600.0*24))\n",
    "DTrMass_dataOut[16] =((np.sum(TrMass073Dout,axis=1)[18]-np.sum(TrMass073Dout,axis=1)[10])/(4*3600.0*24))"
   ]
  },
  {
   "cell_type": "code",
   "execution_count": null,
   "metadata": {
    "collapsed": false
   },
   "outputs": [],
   "source": [
    "runs = ['02','03','04','07','11','12','14','15','16','17','18','19','20','043D','053D','063D','073D']\n",
    "\n",
    "DHCW_dataIn = np.zeros(len(runs))\n",
    "DTrMass_dataIn = np.zeros(len(runs))\n",
    "# HCW\n",
    "DHCW_dataIn[0] = ((np.sum(HCW02in,axis=1)[18]-np.sum(HCW02in,axis=1)[10])/(4*3600.0*24))\n",
    "DHCW_dataIn[1] = ((np.sum(HCWin,axis=1)[18]-np.sum(HCWin,axis=1)[10])/(4*3600.0*24))\n",
    "DHCW_dataIn[2] = ((np.sum(HCW04in,axis=1)[18]-np.sum(HCW04in,axis=1)[10])/(4*3600.0*24))\n",
    "DHCW_dataIn[3] = ((np.sum(HCWNoCin,axis=1)[18]-np.sum(HCWNoCin,axis=1)[10])/(4*3600.0*24))\n",
    "DHCW_dataIn[4] = ((np.sum(HCW11in,axis=1)[18]-np.sum(HCW11in,axis=1)[10])/(4*3600.0*24))\n",
    "DHCW_dataIn[5] = ((np.sum(HCW12in,axis=1)[18]-np.sum(HCW12in,axis=1)[10])/(4*3600.0*24))\n",
    "DHCW_dataIn[6] = ((np.sum(HCW14in,axis=1)[18]-np.sum(HCW14in,axis=1)[10])/(4*3600.0*24))\n",
    "DHCW_dataIn[7] = ((np.sum(HCW15in,axis=1)[18]-np.sum(HCW15in,axis=1)[10])/(4*3600.0*24))\n",
    "DHCW_dataIn[8] = ((np.sum(HCW16in,axis=1)[18]-np.sum(HCW16in,axis=1)[10])/(4*3600.0*24))\n",
    "DHCW_dataIn[9] = ((np.sum(HCW17in,axis=1)[18]-np.sum(HCW17in,axis=1)[10])/(4*3600.0*24))\n",
    "DHCW_dataIn[10] = ((np.sum(HCW18in,axis=1)[18]-np.sum(HCW18in,axis=1)[10])/(4*3600.0*24))\n",
    "DHCW_dataIn[11] = ((np.sum(HCW19in,axis=1)[18]-np.sum(HCW19in,axis=1)[10])/(4*3600.0*24))\n",
    "DHCW_dataIn[12] = ((np.sum(HCW20in,axis=1)[18]-np.sum(HCW20in,axis=1)[10])/(4*3600.0*24))\n",
    "\n",
    "DHCW_dataIn[13] = ((np.sum(HCW043Din,axis=1)[18]-np.sum(HCW043Din,axis=1)[10])/(4*3600.0*24))\n",
    "DHCW_dataIn[14] = ((np.sum(HCW053Din,axis=1)[18]-np.sum(HCW053Din,axis=1)[10])/(4*3600.0*24))\n",
    "DHCW_dataIn[15] = ((np.sum(HCW063Din,axis=1)[18]-np.sum(HCW063Din,axis=1)[10])/(4*3600.0*24))\n",
    "DHCW_dataIn[16] = ((np.sum(HCW073Din,axis=1)[18]-np.sum(HCW073Din,axis=1)[10])/(4*3600.0*24))\n",
    "\n",
    " \n",
    "\n",
    "#Tracer mass\n",
    "DTrMass_dataIn[0] = ((np.sum(TrMass02in,axis=1)[18]-np.sum(TrMass02in,axis=1)[10])/(4*3600.0*24))\n",
    "DTrMass_dataIn[1] =((np.sum(TrMassin,axis=1)[18]-np.sum(TrMassin,axis=1)[10])/(4*3600.0*24))\n",
    "DTrMass_dataIn[2] =((np.sum(TrMass04in,axis=1)[18]-np.sum(TrMass04in,axis=1)[10])/(4*3600.0*24))\n",
    "DTrMass_dataIn[3] =((np.sum(TrMassNoCin,axis=1)[18]-np.sum(TrMassNoCin,axis=1)[10])/(4*3600.0*24))\n",
    "DTrMass_dataIn[4] =((np.sum(TrMass11in,axis=1)[18]-np.sum(TrMass11in,axis=1)[10])/(4*3600.0*24))\n",
    "DTrMass_dataIn[5] =((np.sum(TrMass12in,axis=1)[18]-np.sum(TrMass12in,axis=1)[10])/(4*3600.0*24))\n",
    "DTrMass_dataIn[6] =((np.sum(TrMass14in,axis=1)[18]-np.sum(TrMass14in,axis=1)[10])/(4*3600.0*24))\n",
    "DTrMass_dataIn[7] =((np.sum(TrMass15in,axis=1)[18]-np.sum(TrMass15in,axis=1)[10])/(4*3600.0*24))\n",
    "DTrMass_dataIn[8] =((np.sum(TrMass16in,axis=1)[18]-np.sum(TrMass16in,axis=1)[10])/(4*3600.0*24))\n",
    "DTrMass_dataIn[9] =((np.sum(TrMass17in,axis=1)[18]-np.sum(TrMass17in,axis=1)[10])/(4*3600.0*24))\n",
    "DTrMass_dataIn[10] =((np.sum(TrMass18in,axis=1)[18]-np.sum(TrMass18in,axis=1)[10])/(4*3600.0*24))\n",
    "DTrMass_dataIn[11] =((np.sum(TrMass19in,axis=1)[18]-np.sum(TrMass19in,axis=1)[10])/(4*3600.0*24))\n",
    "DTrMass_dataIn[12] =((np.sum(TrMass20in,axis=1)[18]-np.sum(TrMass20in,axis=1)[10])/(4*3600.0*24))\n",
    "\n",
    " \n",
    "DTrMass_dataIn[13] =((np.sum(TrMass043Din,axis=1)[18]-np.sum(TrMass043Din,axis=1)[10])/(4*3600.0*24))\n",
    "DTrMass_dataIn[14] =((np.sum(TrMass053Din,axis=1)[18]-np.sum(TrMass053Din,axis=1)[10])/(4*3600.0*24))\n",
    "DTrMass_dataIn[15] =((np.sum(TrMass063Din,axis=1)[18]-np.sum(TrMass063Din,axis=1)[10])/(4*3600.0*24))\n",
    "DTrMass_dataIn[16] =((np.sum(TrMass073Din,axis=1)[18]-np.sum(TrMass073Din,axis=1)[10])/(4*3600.0*24))"
   ]
  },
  {
   "cell_type": "code",
   "execution_count": null,
   "metadata": {
    "collapsed": false
   },
   "outputs": [],
   "source": [
    "# save data frame\n",
    "raw_data = {'RunNum':runs,'deltaHCW_Out': DHCW_dataOut,'deltaTrMass_Out': DTrMass_dataOut,'deltaHCW_In': DHCW_dataIn,\n",
    "            'deltaTrMass_In': DTrMass_dataIn}\n",
    "\n",
    "df = pd.DataFrame(raw_data, columns = ['eRunNum','deltaHCW_Out','deltaTrMass_Out','deltaHCW_In','deltaTrMass_In'])\n",
    "\n",
    "filename = ('results/metricsDataFrames/DeltaTrInOutShelf_CanyonEffect.csv' )\n",
    "df.to_csv(filename)"
   ]
  },
  {
   "cell_type": "markdown",
   "metadata": {
    "collapsed": false,
    "scrolled": false
   },
   "source": []
  },
  {
   "cell_type": "code",
   "execution_count": null,
   "metadata": {
    "collapsed": false
   },
   "outputs": [],
   "source": []
  },
  {
   "cell_type": "code",
   "execution_count": null,
   "metadata": {
    "collapsed": false
   },
   "outputs": [],
   "source": []
  },
  {
   "cell_type": "code",
   "execution_count": null,
   "metadata": {
    "collapsed": false
   },
   "outputs": [],
   "source": []
  },
  {
   "cell_type": "code",
   "execution_count": null,
   "metadata": {
    "collapsed": false
   },
   "outputs": [],
   "source": []
  },
  {
   "cell_type": "code",
   "execution_count": null,
   "metadata": {
    "collapsed": false
   },
   "outputs": [],
   "source": []
  },
  {
   "cell_type": "code",
   "execution_count": null,
   "metadata": {
    "collapsed": false
   },
   "outputs": [],
   "source": []
  },
  {
   "cell_type": "code",
   "execution_count": null,
   "metadata": {
    "collapsed": true
   },
   "outputs": [],
   "source": [
    "\n"
   ]
  }
 ],
 "metadata": {
  "kernelspec": {
   "display_name": "Python 3",
   "language": "python",
   "name": "python3"
  },
  "language_info": {
   "codemirror_mode": {
    "name": "ipython",
    "version": 3
   },
   "file_extension": ".py",
   "mimetype": "text/x-python",
   "name": "python",
   "nbconvert_exporter": "python",
   "pygments_lexer": "ipython3",
   "version": "3.5.1"
  }
 },
 "nbformat": 4,
 "nbformat_minor": 0
}
