{
 "metadata": {
  "name": ""
 },
 "nbformat": 3,
 "nbformat_minor": 0,
 "worksheets": [
  {
   "cells": [
    {
     "cell_type": "markdown",
     "metadata": {},
     "source": [
      "This ipython notebook contains functions to read binary meta/data files form MITgcm output and funtions to plot colormaps of the variables"
     ]
    },
    {
     "cell_type": "code",
     "collapsed": false,
     "input": [
      "#KRM\n",
      "\n",
      "import sys\n",
      "\n",
      "# append MITgcm python utilities\n",
      "sys.path.append('/ocean/kramosmu/MITgcm/utils/python/MITgcmutils')\n",
      "from MITgcmutils import rdmds\n",
      "\n",
      "import os\n",
      "\n",
      "import numpy as np\n",
      "\n",
      "import matplotlib.pyplot as plt\n",
      "\n",
      "from scipy.stats import nanmean\n",
      "\n",
      "from math import *\n",
      "\n",
      "import scipy.io\n",
      "\n",
      "%matplotlib inline"
     ],
     "language": "python",
     "metadata": {},
     "outputs": [],
     "prompt_number": 22
    },
    {
     "cell_type": "code",
     "collapsed": false,
     "input": [
      "\n",
      "IniPath = os.getcwd()  #Current path (/ocean/kramosmu/OutputAnalysis)\n",
      "\n",
      "OutPath = '/ocean/kramosmu/MITgcm/CanyonUpwelling/TEST_W_SOUTHOBC/120x90x10_UpwSteadyWind_1TrNO3_BCC_SouthNorthOpen_zi10'     # Where the MITgcm run output is\n",
      "\n",
      "os.chdir(OutPath)\n",
      "\n",
      "fld = rdmds('T',[0], fill_value=np.nan) #(This gives np.shape(U)=no.iters,nz,ny,nx) \n",
      "\n",
      "depth = rdmds('Depth') \n",
      "\n"
     ],
     "language": "python",
     "metadata": {},
     "outputs": [
      {
       "output_type": "stream",
       "stream": "stderr",
       "text": [
        "T.0000000000.001.001.meta\n",
        "Depth.001.001.meta\n"
       ]
      }
     ],
     "prompt_number": 23
    },
    {
     "cell_type": "code",
     "collapsed": false,
     "input": [
      "print(np.shape(fld))\n",
      "#fld2 = np.reshape(fld,[10,90,90],'F') # Using the option 'C' is very important, it gives the 'C' order (columns then rows) option \n",
      "                                     # 'F' is fortran style (rows then columns\n",
      "np.shape(depth)\n",
      "depth2=np.reshape(depth,[120,90])\n",
      "plt.pcolor(depth2)"
     ],
     "language": "python",
     "metadata": {},
     "outputs": [
      {
       "output_type": "stream",
       "stream": "stdout",
       "text": [
        "(10, 90, 120)\n"
       ]
      },
      {
       "metadata": {},
       "output_type": "pyout",
       "prompt_number": 24,
       "text": [
        "<matplotlib.collections.PolyCollection at 0xce02510>"
       ]
      },
      {
       "metadata": {},
       "output_type": "display_data",
       "png": "[encoded data removed]",
       "text": [
        "<matplotlib.figure.Figure at 0xb8b5bd0>"
       ]
      }
     ],
     "prompt_number": 24
    },
    {
     "cell_type": "code",
     "collapsed": false,
     "input": [
      "plt.figure(figsize=(8,6))\n",
      "\n",
      "\n",
      "#CS = plt.pcolor(U[1,5,:,:])\n",
      "##plt.clabel(CS, inline=1,\n",
      "##           fmt='%1.0f',\n",
      "##           fontsize=12)\n",
      "\n",
      "#plt.colorbar(CS)\n",
      "\n",
      "fld2 = np.reshape(fld, 120*90*10)\n",
      "fld3 = np.reshape(fld2,[10,120,90])\n",
      "\n",
      "plt.rcParams['contour.negative_linestyle'] = 'solid'\n",
      "\n",
      "CS2 = plt.pcolor(fld3[3,:,:])\n",
      "\n",
      "#plt.clabel(CS2, inline=1,\n",
      "#           fmt='%1.0f',\n",
      "#           fontsize=12)\n",
      "plt.colorbar()"
     ],
     "language": "python",
     "metadata": {},
     "outputs": [
      {
       "metadata": {},
       "output_type": "pyout",
       "prompt_number": 25,
       "text": [
        "<matplotlib.colorbar.Colorbar instance at 0xe117488>"
       ]
      },
      {
       "metadata": {},
       "output_type": "display_data",
       "png": "[encoded data removed]",
       "text": [
        "<matplotlib.figure.Figure at 0xdb0b850>"
       ]
      }
     ],
     "prompt_number": 25
    },
    {
     "cell_type": "code",
     "collapsed": false,
     "input": [],
     "language": "python",
     "metadata": {},
     "outputs": []
    }
   ],
   "metadata": {}
  }
 ]
}