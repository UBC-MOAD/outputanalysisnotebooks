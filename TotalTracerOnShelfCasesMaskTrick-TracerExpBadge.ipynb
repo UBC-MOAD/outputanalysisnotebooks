{
 "cells": [
  {
   "cell_type": "markdown",
   "metadata": {},
   "source": [
    "## How much tracer is there on the shelf?\n",
    "\n",
    "This notebook explores the effects of changing the vertical diffusivity (constant, 3D), changing the isopycnal diffusivity in GMREDI and having a canyon vs a flat shelf on the total amount of tracer (mass) on the shelf at a certain time and place."
   ]
  },
  {
   "cell_type": "code",
   "execution_count": 1,
   "metadata": {
    "collapsed": false
   },
   "outputs": [
    {
     "name": "stderr",
     "output_type": "stream",
     "text": [
      "/home/kramosmu/anaconda/lib/python2.7/site-packages/mpl_toolkits/__init__.py:2: UserWarning: Module MITgcmutils was already imported from MITgcmutils/__init__.pyc, but /home/kramosmu/anaconda/lib/python2.7/site-packages/MITgcmutils-0.1.0-py2.7.egg is being added to sys.path\n",
      "  __import__('pkg_resources').declare_namespace(__name__)\n"
     ]
    }
   ],
   "source": [
    "#import gsw as sw # Gibbs seawater package\n",
    "\n",
    "from math import *\n",
    "\n",
    "import matplotlib.pyplot as plt\n",
    "\n",
    "import matplotlib.colors as mcolors\n",
    "\n",
    "%matplotlib inline\n",
    "\n",
    "from MITgcmutils import rdmds\n",
    "\n",
    "from netCDF4 import Dataset\n",
    "\n",
    "import numpy as np\n",
    "\n",
    "import os \n",
    "\n",
    "import pylab as pl\n",
    "\n",
    "import scipy.io\n",
    "\n",
    "import scipy as spy\n",
    "\n",
    "import seaborn as sns\n",
    "\n",
    "import sys"
   ]
  },
  {
   "cell_type": "code",
   "execution_count": 2,
   "metadata": {
    "collapsed": true
   },
   "outputs": [],
   "source": [
    "lib_path = os.path.abspath('../../Building_canyon/BuildCanyon/PythonModulesMITgcm') # Add absolute path to my python scripts\n",
    "sys.path.append(lib_path)\n",
    "\n",
    "import ReadOutTools_MITgcm as rout \n"
   ]
  },
  {
   "cell_type": "code",
   "execution_count": 3,
   "metadata": {
    "collapsed": true
   },
   "outputs": [],
   "source": [
    "sns.set()\n",
    "sns.set_style('darkgrid')\n",
    "sns.set_context('talk')"
   ]
  },
  {
   "cell_type": "code",
   "execution_count": 4,
   "metadata": {
    "collapsed": false
   },
   "outputs": [],
   "source": [
    "#Grid to use for all calculations \n",
    "NoCGrid = '/ocean/kramosmu/MITgcm/TracerExperiments/NOGMREDI/run06/gridGlob.nc' # Smallest volume grid, closed bdy, no canyon.\n",
    "NoCGridOut = Dataset(NoCGrid)\n",
    "\n",
    "#Varying-K_iso runs CNTDIFF:\n",
    "CNTrun02 = '/ocean/kramosmu/MITgcm/TracerExperiments/CNTDIFF/run02/stateGlob.nc'\n",
    "StateOut02 = Dataset(CNTrun02)\n",
    "CNTrun02Tr = '/ocean/kramosmu/MITgcm/TracerExperiments/CNTDIFF/run02/ptracersGlob.nc'\n",
    "CNTrun03Tr = '/ocean/kramosmu/MITgcm/TracerExperiments/CNTDIFF/run03/ptracersGlob.nc'\n",
    "CNTrun04Tr = '/ocean/kramosmu/MITgcm/TracerExperiments/CNTDIFF/run04/ptracersGlob.nc'\n",
    "CNTrun07Tr = '/ocean/kramosmu/MITgcm/TracerExperiments/CNTDIFF/run07/ptracersGlob.nc'\n",
    "\n",
    "#Varying-K_v 3D runs\n",
    "DIFF3Drun04Tr = '/ocean/kramosmu/MITgcm/TracerExperiments/3DDIFF/run04/ptracersGlob.nc'\n",
    "DIFF3Drun05Tr = '/ocean/kramosmu/MITgcm/TracerExperiments/3DDIFF/run05/ptracersGlob.nc'\n",
    "DIFF3Drun06Tr = '/ocean/kramosmu/MITgcm/TracerExperiments/3DDIFF/run06/ptracersGlob.nc'\n",
    "DIFF3Drun07Tr = '/ocean/kramosmu/MITgcm/TracerExperiments/3DDIFF/run07/ptracersGlob.nc'\n",
    "\n",
    "#No GMREDI runs\n",
    "NORrun02Tr = '/ocean/kramosmu/MITgcm/TracerExperiments/NOGMREDI/run02/ptracersGlob.nc'\n",
    "NORrun03Tr = '/ocean/kramosmu/MITgcm/TracerExperiments/NOGMREDI/run03/ptracersGlob.nc'\n",
    "NORrun04Tr = '/ocean/kramosmu/MITgcm/TracerExperiments/NOGMREDI/run04/ptracersGlob.nc' # No canyon case\n",
    "NORrun05Tr = '/ocean/kramosmu/MITgcm/TracerExperiments/NOGMREDI/run05/ptracersGlob.nc' # Closed Bdies\n",
    "NORrun06Tr = '/ocean/kramosmu/MITgcm/TracerExperiments/NOGMREDI/run06/ptracersGlob.nc' # Closed Bdies, no canyon\n",
    "\n"
   ]
  },
  {
   "cell_type": "code",
   "execution_count": 5,
   "metadata": {
    "collapsed": false
   },
   "outputs": [],
   "source": [
    "# General input\n",
    "\n",
    "nx = 360\n",
    "ny = 360\n",
    "nz = 90\n",
    "nt = 19 # t dimension size \n",
    "\n",
    "rc = NoCGridOut.variables['RC']\n",
    "xc = rout.getField(NoCGrid, 'XC') # x coords tracer cells\n",
    "yc = rout.getField(NoCGrid, 'YC') # y coords tracer cells\n",
    "\n",
    "drF = NoCGridOut.variables['drF'] # vertical distance between faces\n",
    "dxG = rout.getField(NoCGrid,'dxG')\n",
    "\n",
    "Mask = rout.getMask(NoCGrid,'HFacC') \n",
    "hFacC = rout.getField(NoCGrid,'HFacC') \n",
    "rA = rout.getField(NoCGrid,'rA') \n",
    "drF= NoCGridOut.variables['drF']\n"
   ]
  },
  {
   "cell_type": "code",
   "execution_count": 6,
   "metadata": {
    "collapsed": false
   },
   "outputs": [],
   "source": [
    "# Load tracers variable K_iso\n",
    "CNT02Tr1 = rout.getField(CNTrun02Tr,'Tr1') # Tracer 1 CNT run02 , Kz = E-5\n",
    "CNT02Tr3 = rout.getField(CNTrun02Tr,'Tr3') # Tracer 3 CNT run02 , Kz = E-3\n",
    "CNT03Tr1 = rout.getField(CNTrun03Tr,'Tr1') # Tracer 1 CNT run03 , Kz = E-5\n",
    "CNT03Tr2 = rout.getField(CNTrun03Tr,'Tr2') # Tracer 1 CNT run03 , Kz = E-5\n",
    "CNT03Tr3 = rout.getField(CNTrun03Tr,'Tr3') # Tracer 3 CNT run03 , Kz = E-3\n",
    "CNT04Tr1 = rout.getField(CNTrun04Tr,'Tr1') # Tracer 1 CNT run04 , Kz = E-5\n",
    "CNT04Tr3 = rout.getField(CNTrun04Tr,'Tr3') # Tracer 3 CNT run04 , Kz = E-3\n",
    "CNT07Tr1 = rout.getField(CNTrun07Tr,'Tr1') # Tracer 1 CNT run04 , Kz = E-5\n",
    "CNT07Tr3 = rout.getField(CNTrun07Tr,'Tr3') # Tracer 3 CNT run04 , Kz = E-3\n"
   ]
  },
  {
   "cell_type": "code",
   "execution_count": 7,
   "metadata": {
    "collapsed": true
   },
   "outputs": [],
   "source": [
    "# Load tracers variable K_v\n",
    "DIFF3D04Tr1 = rout.getField(DIFF3Drun04Tr,'Tr1') # Tracer 1 3D run01 , Kz = E-7 out, E-3 in\n",
    "DIFF3D05Tr1 = rout.getField(DIFF3Drun05Tr,'Tr1') # Tracer 1 3D run02 , Kz = E-7 out, E-4 in\n",
    "DIFF3D06Tr1 = rout.getField(DIFF3Drun06Tr,'Tr1') # Tracer 1 3D run06 , Kz = E-5 out, E-4 in\n",
    "DIFF3D07Tr1 = rout.getField(DIFF3Drun07Tr,'Tr1') # Tracer 1 3D run03 , Kz = E-5 out, E-4 in\n"
   ]
  },
  {
   "cell_type": "code",
   "execution_count": 8,
   "metadata": {
    "collapsed": false
   },
   "outputs": [
    {
     "ename": "MemoryError",
     "evalue": "",
     "output_type": "error",
     "traceback": [
      "\u001b[1;31m---------------------------------------------------------------------------\u001b[0m",
      "\u001b[1;31mMemoryError\u001b[0m                               Traceback (most recent call last)",
      "\u001b[1;32m<ipython-input-8-5e9d379467db>\u001b[0m in \u001b[0;36m<module>\u001b[1;34m()\u001b[0m\n\u001b[0;32m      9\u001b[0m \u001b[0mNOR05Tr3\u001b[0m \u001b[1;33m=\u001b[0m \u001b[0mrout\u001b[0m\u001b[1;33m.\u001b[0m\u001b[0mgetField\u001b[0m\u001b[1;33m(\u001b[0m\u001b[0mNORrun05Tr\u001b[0m\u001b[1;33m,\u001b[0m\u001b[1;34m'Tr3'\u001b[0m\u001b[1;33m)\u001b[0m \u001b[1;31m# Tracer 3 NoREDI run05 Closed Bdies\u001b[0m\u001b[1;33m\u001b[0m\u001b[0m\n\u001b[0;32m     10\u001b[0m \u001b[0mNOR06Tr1\u001b[0m \u001b[1;33m=\u001b[0m \u001b[0mrout\u001b[0m\u001b[1;33m.\u001b[0m\u001b[0mgetField\u001b[0m\u001b[1;33m(\u001b[0m\u001b[0mNORrun06Tr\u001b[0m\u001b[1;33m,\u001b[0m\u001b[1;34m'Tr1'\u001b[0m\u001b[1;33m)\u001b[0m \u001b[1;31m# Tracer 1 NoREDI run06 Closed Bdies, no canyon\u001b[0m\u001b[1;33m\u001b[0m\u001b[0m\n\u001b[1;32m---> 11\u001b[1;33m \u001b[0mNOR06Tr3\u001b[0m \u001b[1;33m=\u001b[0m \u001b[0mrout\u001b[0m\u001b[1;33m.\u001b[0m\u001b[0mgetField\u001b[0m\u001b[1;33m(\u001b[0m\u001b[0mNORrun06Tr\u001b[0m\u001b[1;33m,\u001b[0m\u001b[1;34m'Tr3'\u001b[0m\u001b[1;33m)\u001b[0m \u001b[1;31m# Tracer 3 NoREDI run06 Closed Bdies, no canyon\u001b[0m\u001b[1;33m\u001b[0m\u001b[0m\n\u001b[0m",
      "\u001b[1;32m/ocean/kramosmu/Building_canyon/BuildCanyon/PythonModulesMITgcm/ReadOutTools_MITgcm.pyc\u001b[0m in \u001b[0;36mgetField\u001b[1;34m(statefile, fieldname)\u001b[0m\n\u001b[0;32m     38\u001b[0m     \u001b[1;32melif\u001b[0m \u001b[0mlen\u001b[0m\u001b[1;33m(\u001b[0m\u001b[0mshFld\u001b[0m\u001b[1;33m)\u001b[0m \u001b[1;33m==\u001b[0m \u001b[1;36m4\u001b[0m\u001b[1;33m:\u001b[0m\u001b[1;33m\u001b[0m\u001b[0m\n\u001b[0;32m     39\u001b[0m \u001b[1;33m\u001b[0m\u001b[0m\n\u001b[1;32m---> 40\u001b[1;33m         \u001b[0mFld2\u001b[0m \u001b[1;33m=\u001b[0m \u001b[0mnp\u001b[0m\u001b[1;33m.\u001b[0m\u001b[0mzeros\u001b[0m\u001b[1;33m(\u001b[0m\u001b[1;33m(\u001b[0m\u001b[0mshFld\u001b[0m\u001b[1;33m[\u001b[0m\u001b[1;36m0\u001b[0m\u001b[1;33m]\u001b[0m\u001b[1;33m,\u001b[0m\u001b[0mshFld\u001b[0m\u001b[1;33m[\u001b[0m\u001b[1;36m1\u001b[0m\u001b[1;33m]\u001b[0m\u001b[1;33m,\u001b[0m\u001b[0mshFld\u001b[0m\u001b[1;33m[\u001b[0m\u001b[1;36m2\u001b[0m\u001b[1;33m]\u001b[0m\u001b[1;33m,\u001b[0m\u001b[0mshFld\u001b[0m\u001b[1;33m[\u001b[0m\u001b[1;36m3\u001b[0m\u001b[1;33m]\u001b[0m\u001b[1;33m)\u001b[0m\u001b[1;33m)\u001b[0m\u001b[1;33m\u001b[0m\u001b[0m\n\u001b[0m\u001b[0;32m     41\u001b[0m         \u001b[0mFld2\u001b[0m \u001b[1;33m=\u001b[0m \u001b[0mnp\u001b[0m\u001b[1;33m.\u001b[0m\u001b[0mreshape\u001b[0m\u001b[1;33m(\u001b[0m\u001b[0mFld\u001b[0m\u001b[1;33m,\u001b[0m\u001b[1;33m(\u001b[0m\u001b[0mshFld\u001b[0m\u001b[1;33m[\u001b[0m\u001b[1;36m0\u001b[0m\u001b[1;33m]\u001b[0m\u001b[1;33m,\u001b[0m\u001b[0mshFld\u001b[0m\u001b[1;33m[\u001b[0m\u001b[1;36m1\u001b[0m\u001b[1;33m]\u001b[0m\u001b[1;33m,\u001b[0m\u001b[0mshFld\u001b[0m\u001b[1;33m[\u001b[0m\u001b[1;36m2\u001b[0m\u001b[1;33m]\u001b[0m\u001b[1;33m,\u001b[0m\u001b[0mshFld\u001b[0m\u001b[1;33m[\u001b[0m\u001b[1;36m3\u001b[0m\u001b[1;33m]\u001b[0m\u001b[1;33m)\u001b[0m\u001b[1;33m)\u001b[0m \u001b[1;31m# reshape to pcolor order\u001b[0m\u001b[1;33m\u001b[0m\u001b[0m\n\u001b[0;32m     42\u001b[0m         \u001b[1;32mreturn\u001b[0m \u001b[0mFld2\u001b[0m\u001b[1;33m\u001b[0m\u001b[0m\n",
      "\u001b[1;31mMemoryError\u001b[0m: "
     ]
    }
   ],
   "source": [
    "# Load tracers of no REDI run\n",
    "NOR02Tr1 = rout.getField(NORrun02Tr,'Tr1') # Tracer 1 NoREDI run02 , Kz = E-5\n",
    "NOR02Tr3 = rout.getField(NORrun02Tr,'Tr3') # Tracer 3 NoREDI run02 , Kz = E-3 \n",
    "NOR03Tr1 = rout.getField(NORrun03Tr,'Tr1') # Tracer 1 NoREDI run03 , Kz = E-5\n",
    "NOR03Tr3 = rout.getField(NORrun03Tr,'Tr3') # Tracer 3 NoREDI run03 , Kz = E-3 \n",
    "NOR04Tr1 = rout.getField(NORrun04Tr,'Tr1') # Tracer 1 NoC NoR run04 No Redi , Kz = E-5\n",
    "NOR04Tr3 = rout.getField(NORrun04Tr,'Tr3') # Tracer 3 NoC NoR run04 No redi , Kz = E-3 \n",
    "NOR05Tr1 = rout.getField(NORrun05Tr,'Tr1') # Tracer 1 NoREDI run05 Closed Bdies\n",
    "NOR05Tr3 = rout.getField(NORrun05Tr,'Tr3') # Tracer 3 NoREDI run05 Closed Bdies\n",
    "NOR06Tr1 = rout.getField(NORrun06Tr,'Tr1') # Tracer 1 NoREDI run06 Closed Bdies, no canyon\n",
    "NOR06Tr3 = rout.getField(NORrun06Tr,'Tr3') # Tracer 3 NoREDI run06 Closed Bdies, no canyon\n"
   ]
  },
  {
   "cell_type": "markdown",
   "metadata": {},
   "source": [
    "### How much water with concentration higher than a limit is there on the shelf at each time? How much tracer mass?"
   ]
  },
  {
   "cell_type": "code",
   "execution_count": null,
   "metadata": {
    "collapsed": false
   },
   "outputs": [],
   "source": [
    "def HowMuchWaterX(Tr,MaskC,nzlim,rA,hFacC,drF,yin,zfin):\n",
    "    '''\n",
    "    INPUT----------------------------------------------------------------------------------------------------------------\n",
    "    Tr    : Array with concentration values for a tracer. Until this function is more general, this should be size 19x90x360x360\n",
    "    MaskC : Land mask for tracer\n",
    "    nzlim : The nz index under which to look for water properties\n",
    "    rA    : Area of cell faces at C points (360x360)\n",
    "    fFacC : Fraction of open cell (90x360x360)\n",
    "    drF   : Distance between cell faces (90)\n",
    "    yin   : across-shore index of shelf break\n",
    "    zfin  : shelf break index + 1 \n",
    "    OUTPUT----------------------------------------------------------------------------------------------------------------\n",
    "    VolWaterHighConc =  Array with the volume of water over the shelf [:,:30,227:,:] at every time output.\n",
    "    Total_Tracer =  Array with the mass of tracer (Mol) at each x-position over the shelf [:,:30,227:,:] at every time output.\n",
    "          Total mass of tracer at xx on the shelf.\n",
    "                                                \n",
    "    -----------------------------------------------------------------------------------------------------------------------\n",
    "    '''\n",
    "    mask_expand = np.expand_dims(MaskC,0)\n",
    "    mask_expand = mask_expand + np.zeros(Tr.shape)\n",
    "\n",
    "    TrMask0=np.ma.array(Tr[0,:,:,:],mask=mask_expand[0,:,:,:])\n",
    "        \n",
    "    trlim = TrMask0[nzlim,50,180]\n",
    "    \n",
    "    hFacCSwap = np.swapaxes(hFacC, 0, 2)\n",
    "    \n",
    "    print('tracer limit is: ',trlim)\n",
    "    \n",
    "    TrMask=np.ma.array(Tr,mask=mask_expand)\n",
    "    \n",
    "    WaterX = 0\n",
    "    \n",
    "    # Make mask for cells with tracer concentration >= trlim on shelf\n",
    "    HighConc_Masked = np.ma.masked_less(TrMask[:,:zfin,yin:,:], trlim) \n",
    "    HighConc_Mask = HighConc_Masked.mask\n",
    "    \n",
    "    #Get volume of water of cells with relatively high concentration\n",
    "    rA_exp = np.expand_dims(rA[yin:,:],0)\n",
    "    drF_exp = np.expand_dims(np.expand_dims(drF[:zfin],1),1)\n",
    "    rA_exp = rA_exp + np.zeros(hFacC[:zfin,yin:,:].shape)\n",
    "    drF_exp = drF_exp + np.zeros(hFacC[:zfin,yin:,:].shape)\n",
    "    \n",
    "    ShelfVolume = hFacC[:zfin,yin:,:]*drF_exp*rA_exp\n",
    "    ShelfVolume_exp = np.expand_dims(ShelfVolume,0)\n",
    "    ShelfVolume_exp = ShelfVolume_exp + np.zeros(HighConc_Mask.shape)\n",
    "    \n",
    "    HighConc_CellVol = np.ma.masked_array(ShelfVolume_exp,mask = HighConc_Mask) \n",
    "    VolWaterHighConc = np.sum(np.sum(np.sum(HighConc_CellVol,axis = 1),axis=1),axis=1)\n",
    "    \n",
    "    #Get total mass of tracer on shelf\n",
    "    Total_Tracer = np.sum(np.sum(np.sum(ShelfVolume_exp*TrMask[:,:zfin,yin:,:]*1000.0,axis = 1),axis=1),axis=1) # 1 m^3 = 1000 l\n",
    "    \n",
    "    return (VolWaterHighConc, Total_Tracer)"
   ]
  },
  {
   "cell_type": "markdown",
   "metadata": {},
   "source": [
    "### Calculate volume on shelf of high tracer concentration water and tracer mass. "
   ]
  },
  {
   "cell_type": "code",
   "execution_count": null,
   "metadata": {
    "collapsed": false
   },
   "outputs": [],
   "source": [
    "\n",
    "\n",
    "(WatCNT02Tr1, TrMassCNT02Tr1) = HowMuchWaterX(CNT02Tr1,Mask,30,rA,hFacC,drF,227,30) \n",
    "(WatCNT02Tr3, TrMassCNT02Tr3) = HowMuchWaterX(CNT02Tr3,Mask,30,rA,hFacC,drF,227,30) \n",
    "(WatCNT03Tr1, TrMassCNT03Tr1) = HowMuchWaterX(CNT03Tr1,Mask,30,rA,hFacC,drF,227,30) \n",
    "(WatCNT03Tr2, TrMassCNT03Tr2) = HowMuchWaterX(CNT03Tr2,Mask,30,rA,hFacC,drF,227,30) \n",
    "(WatCNT03Tr3, TrMassCNT03Tr3) = HowMuchWaterX(CNT03Tr3,Mask,30,rA,hFacC,drF,227,30) \n",
    "(WatCNT04Tr1, TrMassCNT04Tr1) = HowMuchWaterX(CNT04Tr1,Mask,30,rA,hFacC,drF,227,30) \n",
    "(WatCNT04Tr3, TrMassCNT04Tr3) = HowMuchWaterX(CNT04Tr3,Mask,30,rA,hFacC,drF,227,30) \n",
    "(WatCNT07Tr1, TrMassCNT07Tr1) = HowMuchWaterX(CNT07Tr1,Mask,30,rA,hFacC,drF,227,30) \n",
    "(WatCNT07Tr3, TrMassCNT07Tr3) = HowMuchWaterX(CNT07Tr3,Mask,30,rA,hFacC,drF,227,30) \n",
    "        \n",
    "    \n",
    "   "
   ]
  },
  {
   "cell_type": "code",
   "execution_count": null,
   "metadata": {
    "collapsed": false
   },
   "outputs": [],
   "source": [
    "\n",
    "( WatNOR02Tr1, TrMassNOR02Tr1) = HowMuchWaterX(NOR02Tr1,Mask,30,rA,hFacC,drF,227,30) \n",
    "( WatNOR02Tr3, TrMassNOR02Tr3) = HowMuchWaterX(NOR02Tr3,Mask,30,rA,hFacC,drF,227,30) \n",
    "( WatNOR04Tr1, TrMassNOR04Tr1) = HowMuchWaterX(NOR04Tr1,Mask,30,rA,hFacC,drF,227,30) \n",
    "( WatNOR04Tr3, TrMassNOR04Tr3) = HowMuchWaterX(NOR04Tr3,Mask,30,rA,hFacC,drF,227,30) \n",
    "( WatNOR05Tr1, TrMassNOR05Tr1) = HowMuchWaterX(NOR05Tr1,Mask,30,rA,hFacC,drF,227,30) \n",
    "( WatNOR05Tr3, TrMassNOR05Tr3) = HowMuchWaterX(NOR05Tr3,Mask,30,rA,hFacC,drF,227,30) \n",
    "( WatNOR06Tr1, TrMassNOR06Tr1) = HowMuchWaterX(NOR06Tr1,Mask,30,rA,hFacC,drF,227,30) \n",
    "( WatNOR06Tr3, TrMassNOR06Tr3) = HowMuchWaterX(NOR06Tr3,Mask,30,rA,hFacC,drF,227,30) \n",
    "       \n",
    "   "
   ]
  },
  {
   "cell_type": "code",
   "execution_count": null,
   "metadata": {
    "collapsed": false
   },
   "outputs": [],
   "source": [
    "\n",
    "(Wat3D04Tr1, TrMass3D04Tr1) = HowMuchWaterX(DIFF3D04Tr1,Mask,30,rA,hFacC,drF,227,30) \n",
    "(Wat3D06Tr1, TrMass3D06Tr1) = HowMuchWaterX(DIFF3D06Tr1,Mask,30,rA,hFacC,drF,227,30) \n",
    "(Wat3D07Tr1, TrMass3D07Tr1) = HowMuchWaterX(DIFF3D07Tr1,Mask,30,rA,hFacC,drF,227,30) \n",
    "(Wat3D05Tr1, TrMass3D05Tr1) = HowMuchWaterX(DIFF3D05Tr1,Mask,30,rA,hFacC,drF,227,30)       \n",
    "   \n",
    "    "
   ]
  },
  {
   "cell_type": "markdown",
   "metadata": {},
   "source": [
    "### Case 1: Changing $K_{iso}$ in GMREDI"
   ]
  },
  {
   "cell_type": "code",
   "execution_count": null,
   "metadata": {
    "collapsed": false
   },
   "outputs": [],
   "source": [
    "fig45=plt.figure(figsize=(10,15))\n",
    "sns.set(context='talk', style='whitegrid', font='sans-serif', font_scale=1,rc={\"lines.linewidth\": 1.5})\n",
    "\n",
    "times = np.arange(0,nt,1)\n",
    "\n",
    "ax1 = plt.subplot(2,1,1)\n",
    "\n",
    "line1 = ax1.plot(times/2.0, TrMassCNT02Tr1,'o-',label='$K_{iso}=10m^2s^{-1}$, $k_v=10^{-5}m^2s^{-1}$')\n",
    "line2 = ax1.plot(times/2.0, TrMassCNT03Tr1,'o-', label='$K_{iso}=1m^2s^{-1}$, $k_v=10^{-5}m^2s^{-1}$')\n",
    "line3 = ax1.plot(times/2.0, TrMassCNT04Tr1,'o-', label='$K_{iso}=0.1m^2s^{-1}$, $k_v=10^{-5}m^2s^{-1}$')\n",
    "line4 = ax1.plot(times/2.0, TrMassNOR02Tr1,'o-', label='$K_{h}=10^{-5}m^2s^{-1}$, $k_v=10^{-5}m^2s^{-1}$')\n",
    "\n",
    "plt.ylabel('Tracer mass over shelf ($mol$) ')\n",
    "plt.xlabel('Day')\n",
    "\n",
    "\n",
    "ax2 = plt.subplot(2,1,2)\n",
    "\n",
    "line1 = ax2.plot(times/2.0, WatCNT02Tr1,'o-',label='$K_{iso}=10m^2s^{-1}, k_v=10^{-5}m^2s^{-1}$')\n",
    "line2 = ax2.plot(times/2.0, WatCNT03Tr1,'o-', label='$K_{iso}=1m^2s^{-1}, k_v=10^{-5}m^2s^{-1}$')\n",
    "line3 = ax2.plot(times/2.0, WatCNT04Tr1,'o-', label='$K_{iso}=0.1m^2s^{-1}, k_v=10^{-5}m^2s^{-1}$')\n",
    "line4 = ax2.plot(times/2.0, WatNOR02Tr1,'o-', label='$K_{h}=10^{-5}m^2s^{-1}, k_v=10^{-5}m^2s^{-1}$')\n",
    "\n",
    "plt.ylabel('Water with C > 7.4 $mol$ $l^{-1}$ ($m^3$)')\n",
    "plt.xlabel('Day')\n",
    "    \n",
    "handles, labels = ax1.get_legend_handles_labels()\n",
    "ax1.legend(handles, labels, loc=0)\n",
    "   \n",
    "handles, labels = ax2.get_legend_handles_labels()\n",
    "ax2.legend(handles, labels,loc=0)\n",
    "\n",
    "\n",
    "#fig45.savefig('/ocean/kramosmu/Figures/WaterVolumeOverShelf/MassOverShelfIsoEffectTr1.eps', format='eps', dpi=1000, bbox_inches='tight')\n",
    "\n",
    "        \n",
    "        \n"
   ]
  },
  {
   "cell_type": "code",
   "execution_count": null,
   "metadata": {
    "collapsed": false
   },
   "outputs": [],
   "source": [
    "\n",
    "\n",
    "fig45=plt.figure(figsize=(10,15))\n",
    "sns.set(context='talk', style='whitegrid', font='sans-serif', font_scale=1,rc={\"lines.linewidth\": 1.5})\n",
    "\n",
    "times = np.arange(0,nt,1)\n",
    "\n",
    "ax1 = plt.subplot(2,1,1)\n",
    "\n",
    "line1 = ax1.plot(times/2.0, TrMassCNT02Tr3,'o-',label='$K_{iso}=10m^2s^{-1}$, $k_v=10^{-3}m^2s^{-1}$')\n",
    "line2 = ax1.plot(times/2.0, TrMassCNT03Tr3,'o-', label='$K_{iso}=1m^2s^{-1}$, $k_v=10^{-3}m^2s^{-1}$')\n",
    "line3 = ax1.plot(times/2.0, TrMassCNT04Tr3,'o-', label='$K_{iso}=0.1m^2s^{-1}$, $k_v=10^{-3}m^2s^{-1}$')\n",
    "line4 = ax1.plot(times/2.0, TrMassNOR02Tr3,'o-', label='$K_{h}=10^{-5}m^2s^{-1}$, $k_v=10^{-3}m^2s^{-1}$')\n",
    "\n",
    "plt.ylabel('Tracer mass over shelf ($mol$) ')\n",
    "plt.xlabel('Day')\n",
    "\n",
    "\n",
    "ax2 = plt.subplot(2,1,2)\n",
    "\n",
    "line1 = ax2.plot(times/2.0, WatCNT02Tr3,'o-',label='$K_{iso}=10m^2s^{-1}, k_v=10^{-3}m^2s^{-1}$')\n",
    "line2 = ax2.plot(times/2.0, WatCNT03Tr3,'o-', label='$K_{iso}=1m^2s^{-1}, k_v=10^{-3}m^2s^{-1}$')\n",
    "line3 = ax2.plot(times/2.0, WatCNT04Tr3,'o-', label='$K_{iso}=0.1m^2s^{-1}, k_v=10^{-3}m^2s^{-1}$')\n",
    "line4 = ax2.plot(times/2.0, WatNOR02Tr3,'o-', label='$K_{h}=10^{-5}m^2s^{-1}, k_v=10^{-3}m^2s^{-1}$')\n",
    "\n",
    "plt.ylabel('Water with C > 7.4 $mol$ $l^{-1}$ ($m^3$)')\n",
    "plt.xlabel('Day')\n",
    "    \n",
    "handles, labels = ax1.get_legend_handles_labels()\n",
    "ax1.legend(handles, labels, loc=0)\n",
    "   \n",
    "handles, labels = ax2.get_legend_handles_labels()\n",
    "ax2.legend(handles, labels,loc=0)\n",
    "\n",
    "\n",
    "#fig45.savefig('/ocean/kramosmu/Figures/WaterVolumeOverShelf/MassOverShelfIsoEffectTr3.eps', format='eps', dpi=1000, bbox_inches='tight')\n",
    "\n",
    "        \n",
    "        \n"
   ]
  },
  {
   "cell_type": "markdown",
   "metadata": {},
   "source": [
    "### Effect of Changing 3D Diff"
   ]
  },
  {
   "cell_type": "code",
   "execution_count": null,
   "metadata": {
    "collapsed": false
   },
   "outputs": [],
   "source": [
    "fig45=plt.figure(figsize=(10,15))\n",
    "sns.set(context='talk', style='whitegrid', font='sans-serif', font_scale=1,rc={\"lines.linewidth\": 1.5})\n",
    "\n",
    "times = np.arange(0,nt,1)\n",
    "\n",
    "ax1 = plt.subplot(2,1,1)\n",
    "\n",
    "line1 = ax1.plot(times/2.0, TrMass3D06Tr1,'o-',label='$K_{iso}=1m^2s^{-1}$, $k_{v_{in}}=10^{-3}m^2s^{-1}$,$k_{v_{out}}=10^{-5}m^2s^{-1}$')\n",
    "line2 = ax1.plot(times/2.0, TrMassCNT03Tr1,'o-', label='$K_{iso}=1m^2s^{-1}$, $k_v=10^{-5}m^2s^{-1}$')\n",
    "line3 = ax1.plot(times/2.0, TrMassCNT03Tr3,'o-', label='$K_{iso}=1m^2s^{-1}$, $k_v=10^{-3}m^2s^{-1}$')\n",
    "\n",
    "plt.ylabel('Tracer mass over shelf ($mol$) ')\n",
    "plt.xlabel('Day')\n",
    "\n",
    "\n",
    "ax2 = plt.subplot(2,1,2)\n",
    "\n",
    "line1 = ax2.plot(times/2.0, Wat3D06Tr1,'o-',label='$K_{iso}=1m^2s^{-1}$, $k_{v_{in}}=10^{-3}m^2s^{-1}$,$k_{v_{out}}=10^{-5}m^2s^{-1}$')\n",
    "line2 = ax2.plot(times/2.0, WatCNT03Tr1,'o-', label='$K_{iso}=1m^2s^{-1}, k_v=10^{-5}m^2s^{-1}$')\n",
    "line3 = ax2.plot(times/2.0, WatCNT03Tr3,'o-', label='$K_{iso}=1m^2s^{-1}, k_v=10^{-3}m^2s^{-1}$')\n",
    "\n",
    "plt.ylabel('Water with C > 7.4 $mol$ $l^{-1}$ ($m^3$)')\n",
    "plt.xlabel('Day')\n",
    "    \n",
    "handles, labels = ax1.get_legend_handles_labels()\n",
    "ax1.legend(handles, labels, loc=0)\n",
    "   \n",
    "handles, labels = ax2.get_legend_handles_labels()\n",
    "ax2.legend(handles, labels,loc=0)\n",
    "\n",
    "\n",
    "#fig45.savefig('/ocean/kramosmu/Figures/WaterVolumeOverShelf/MassOverShelf3DDiffEffect1.eps', format='eps', dpi=1000, bbox_inches='tight')\n",
    "\n",
    "        \n",
    "        \n"
   ]
  },
  {
   "cell_type": "code",
   "execution_count": null,
   "metadata": {
    "collapsed": false
   },
   "outputs": [],
   "source": [
    "fig45=plt.figure(figsize=(10,15))\n",
    "sns.set(context='talk', style='whitegrid', font='sans-serif', font_scale=1,rc={\"lines.linewidth\": 1.5})\n",
    "\n",
    "times = np.arange(0,nt,1)\n",
    "times2 = np.arange(0,16,1)\n",
    "\n",
    "ax1 = plt.subplot(2,1,1)\n",
    "\n",
    "\n",
    "line1 = ax1.plot(times/2.0, TrMass3D04Tr1,'o-',label='$k_{v_{in}}=10^{-3}m^2s^{-1}$,$k_{v_{out}}=10^{-7}m^2s^{-1}$')\n",
    "line2 = ax1.plot(times/2.0, TrMass3D05Tr1,'o-', label='$k_{v_{in}}=10^{-4}m^2s^{-1}$,$k_{v_{out}}=10^{-7}m^2s^{-1}$')\n",
    "line3 = ax1.plot(times/2.0, TrMass3D06Tr1,'o-', label='$k_{v_{in}}=10^{-3}m^2s^{-1}$,$k_{v_{out}}=10^{-5}m^2s^{-1}$')\n",
    "line4 = ax1.plot(times/2.0, TrMass3D07Tr1,'o-', label='$k_{v_{in}}=10^{-4}m^2s^{-1}$,$k_{v_{out}}=10^{-5}m^2s^{-1}$')\n",
    "\n",
    "plt.ylabel('Tracer mass over shelf ($mol$) ')\n",
    "plt.xlabel('Day')\n",
    "\n",
    "\n",
    "ax2 = plt.subplot(2,1,2)\n",
    "\n",
    "line1 = ax2.plot(times/2.0, Wat3D04Tr1,'o-',label='$k_{v_{in}}=10^{-3}m^2s^{-1}$,$k_{v_{out}}=10^{-7}m^2s^{-1}$')\n",
    "line2 = ax2.plot(times/2.0, Wat3D05Tr1,'o-', label='$k_{v_{in}}=10^{-4}m^2s^{-1}$,$k_{v_{out}}=10^{-7}m^2s^{-1}$')\n",
    "line3 = ax2.plot(times/2.0, Wat3D06Tr1,'o-', label='$k_{v_{in}}=10^{-3}m^2s^{-1}$,$k_{v_{out}}=10^{-5}m^2s^{-1}$')\n",
    "line4 = ax2.plot(times/2.0, Wat3D07Tr1,'o-', label='$k_{v_{in}}=10^{-4}m^2s^{-1}$,$k_{v_{out}}=10^{-5}m^2s^{-1}$')\n",
    "\n",
    "plt.ylabel('Water with C > 7.4 $mol$ $l^{-1}$ ($m^3$)')\n",
    "plt.xlabel('Day')\n",
    "    \n",
    "handles, labels = ax1.get_legend_handles_labels()\n",
    "ax1.legend(handles, labels, loc=0)\n",
    "   \n",
    "handles, labels = ax2.get_legend_handles_labels()\n",
    "ax2.legend(handles, labels,loc=0)\n",
    "\n",
    "\n",
    "#fig45.savefig('/ocean/kramosmu/Figures/WaterVolumeOverShelf/MassOverShelf3DDiffEffect2.eps', format='eps', dpi=1000, bbox_inches='tight')\n",
    "\n"
   ]
  },
  {
   "cell_type": "markdown",
   "metadata": {},
   "source": []
  },
  {
   "cell_type": "markdown",
   "metadata": {},
   "source": [
    "### Effect of horizontal diffusivity in NOREDI"
   ]
  },
  {
   "cell_type": "code",
   "execution_count": null,
   "metadata": {
    "collapsed": false
   },
   "outputs": [],
   "source": [
    "fig45=plt.figure(figsize=(10,15))\n",
    "sns.set(context='talk', style='whitegrid', font='sans-serif', font_scale=1,rc={\"lines.linewidth\": 1.5})\n",
    "\n",
    "times = np.arange(0,nt,1)\n",
    "\n",
    "ax1 = plt.subplot(2,1,1)\n",
    "\n",
    "line1 = ax1.plot(times/2.0, TrMassNOR02Tr1,'o-',label='$k_h=10^{-5}m^2s^{-1}$,$k_v=10^{-5}m^2s^{-1}$')\n",
    "line2 = ax1.plot(times/2.0, TrMassNOR02Tr3,'o-', label='$k_h=10^{-5}m^2s^{-1}$,$k_v=10^{-3}m^2s^{-1}$')\n",
    "#line3 = ax1.plot(times/2.0, TrMassNOR03Tr1,'o-', label='$k_h=10^{-7}m^2s^{-1}$,$k_v=10^{-5}m^2s^{-1}$')\n",
    "#line3 = ax1.plot(times/2.0, TrMassNOR03Tr3,'o-', label='$k_h=10^{-7}m^2s^{-1}$,$k_v=10^{-3}m^2s^{-1}$')\n",
    "\n",
    "plt.ylabel('Tracer mass over shelf ($mol$) ')\n",
    "plt.xlabel('Day')\n",
    "\n",
    "\n",
    "ax2 = plt.subplot(2,1,2)\n",
    "\n",
    "line1 = ax2.plot(times/2.0, WatNOR02Tr1,'o-',label='$k_h=10^{-5}m^2s^{-1}$,$k_v=10^{-5}m^2s^{-1}$')\n",
    "line2 = ax2.plot(times/2.0, WatNOR02Tr3,'o-', label='$k_h=10^{-5}m^2s^{-1}$,$k_v=10^{-3}m^2s^{-1}$')\n",
    "#line3 = ax2.plot(times/2.0, WatNOR03Tr1,'o-', label='$k_h=10^{-7}m^2s^{-1}$,$k_v=10^{-5}m^2s^{-1}$')\n",
    "#line3 = ax2.plot(times/2.0, WatNOR03Tr3,'o-', label='$k_h=10^{-7}m^2s^{-1}$,$k_v=10^{-3}m^2s^{-1}$')\n",
    "\n",
    "plt.ylabel('Water with C > 7.4 $mol$ $l^{-1}$ ($m^3$)')\n",
    "plt.xlabel('Day')\n",
    "    \n",
    "handles, labels = ax1.get_legend_handles_labels()\n",
    "ax1.legend(handles, labels, loc=0)\n",
    "   \n",
    "handles, labels = ax2.get_legend_handles_labels()\n",
    "ax2.legend(handles, labels,loc=0)\n",
    "\n",
    "\n",
    "#fig45.savefig('/ocean/kramosmu/Figures/WaterVolumeOverShelf/MassOverShelfNOREDIHorDiffEffect.eps', format='eps', dpi=1000, bbox_inches='tight')\n",
    "\n"
   ]
  },
  {
   "cell_type": "markdown",
   "metadata": {},
   "source": [
    "### Canyon Effects\n",
    "#### A) Numerical "
   ]
  },
  {
   "cell_type": "code",
   "execution_count": null,
   "metadata": {
    "collapsed": false
   },
   "outputs": [],
   "source": [
    "fig45=plt.figure(figsize=(10,15))\n",
    "sns.set(context='talk', style='whitegrid', font='sans-serif', font_scale=1,rc={\"lines.linewidth\": 1.5})\n",
    "\n",
    "times = np.arange(0,nt,1)\n",
    "\n",
    "ax1 = plt.subplot(2,1,1)\n",
    "\n",
    "line1 = ax1.plot(times/2.0, TrMassCNT07Tr1,'o-',label='No canyon REDI, $k_v=10^{-5}m^2s^{-1}$')\n",
    "line2 = ax1.plot(times/2.0, TrMassNOR04Tr1,'o-', label='No canyon NoREDI, $k_v=10^{-5}m^2s^{-1}$')\n",
    "line3 = ax1.plot(times/2.0, TrMassNOR06Tr1,'o-', label='No canyon NOREDI Closed N&S, $k_v=10^{-5}m^2s^{-1}$')\n",
    "\n",
    "plt.ylabel('Tracer mass over shelf ($mol$) ')\n",
    "plt.xlabel('Day')\n",
    "\n",
    "\n",
    "ax2 = plt.subplot(2,1,2)\n",
    "\n",
    "line1 = ax2.plot(times/2.0, WatCNT07Tr1,'o-',label='No canyon REDI, $k_v=10^{-5}m^2s^{-1}$')\n",
    "line2 = ax2.plot(times/2.0, WatNOR04Tr1,'o-', label='No canyon NoREDI, $k_v=10^{-5}m^2s^{-1}$')\n",
    "line3 = ax2.plot(times/2.0, WatNOR06Tr1,'o-', label='No canyon NOREDI Closed N&S, $k_v=10^{-5}m^2s^{-1}$')\n",
    "\n",
    "plt.ylabel('Water with C > 7.4 $mol$ $l^{-1}$ ($m^3$)')\n",
    "plt.xlabel('Day')\n",
    "    \n",
    "handles, labels = ax1.get_legend_handles_labels()\n",
    "ax1.legend(handles, labels, loc=0)\n",
    "   \n",
    "handles, labels = ax2.get_legend_handles_labels()\n",
    "ax2.legend(handles, labels,loc=0)\n",
    "\n",
    "\n",
    "#fig45.savefig('/ocean/kramosmu/Figures/WaterVolumeOverShelf/MassOverShelfNoCanyonCasesTr1.eps', format='eps', dpi=1000, bbox_inches='tight')\n",
    "\n"
   ]
  },
  {
   "cell_type": "code",
   "execution_count": null,
   "metadata": {
    "collapsed": false
   },
   "outputs": [],
   "source": [
    "fig45=plt.figure(figsize=(10,15))\n",
    "sns.set(context='talk', style='whitegrid', font='sans-serif', font_scale=1,rc={\"lines.linewidth\": 1.5})\n",
    "\n",
    "times = np.arange(0,nt,1)\n",
    "\n",
    "ax1 = plt.subplot(2,1,1)\n",
    "\n",
    "line1 = ax1.plot(times/2.0, TrMassCNT07Tr3,'o-',label='No canyon - REDI, $k_v=10^{-3}m^2s^{-1}$')\n",
    "line2 = ax1.plot(times/2.0, TrMassNOR04Tr3,'o-', label='No canyon - NoREDI, $k_v=10^{-3}m^2s^{-1}$')\n",
    "line3 = ax1.plot(times/2.0, TrMassNOR06Tr3,'o-', label='No canyon - NOREDI Closed N&S, $k_v=10^{-3}m^2s^{-1}$')\n",
    "\n",
    "plt.ylabel('Tracer mass over shelf ($mol$) ')\n",
    "plt.xlabel('Day')\n",
    "\n",
    "\n",
    "ax2 = plt.subplot(2,1,2)\n",
    "\n",
    "line1 = ax2.plot(times/2.0, WatCNT07Tr3,'o-',label='No canyon - REDI, $k_v=10^{-3}m^2s^{-1}$')\n",
    "line2 = ax2.plot(times/2.0, WatNOR04Tr3,'o-', label='No canyon - NoREDI, $k_v=10^{-3}m^2s^{-1}$')\n",
    "line3 = ax2.plot(times/2.0, WatNOR06Tr3,'o-', label='No canyon - NOREDI Closed N&S, $k_v=10^{-3}m^2s^{-1}$')\n",
    "\n",
    "plt.ylabel('Water with C > 7.4 $mol$ $l^{-1}$ ($m^3$)')\n",
    "plt.xlabel('Day')\n",
    "    \n",
    "handles, labels = ax1.get_legend_handles_labels()\n",
    "ax1.legend(handles, labels, loc=0)\n",
    "   \n",
    "handles, labels = ax2.get_legend_handles_labels()\n",
    "ax2.legend(handles, labels,loc=0)\n",
    "\n",
    "\n",
    "#fig45.savefig('/ocean/kramosmu/Figures/WaterVolumeOverShelf/MassOverShelfNoCanyonCasesTr3.eps', format='eps', dpi=1000, bbox_inches='tight')\n",
    "\n"
   ]
  },
  {
   "cell_type": "markdown",
   "metadata": {},
   "source": [
    "#### B) Effects of enhanced vertical diffusivity within the canyon"
   ]
  },
  {
   "cell_type": "code",
   "execution_count": null,
   "metadata": {
    "collapsed": false
   },
   "outputs": [],
   "source": [
    "fig45=plt.figure(figsize=(10,15))\n",
    "sns.set(context='talk', style='whitegrid', font='sans-serif', font_scale=1,rc={\"lines.linewidth\": 1.5})\n",
    "\n",
    "times = np.arange(0,nt,1)\n",
    "\n",
    "ax1 = plt.subplot(2,1,1)\n",
    "\n",
    "line1 = ax1.plot(times/2.0, TrMassCNT03Tr1-TrMassCNT07Tr1,'o-',label='REDI-NoC $k_v=10^{-5}m^2s^{-1}$ ')\n",
    "line3 = ax1.plot(times/2.0, TrMass3D07Tr1-TrMassCNT07Tr1,'o-', label='3D-NoC $k_{v_{in}}=10^{-4}m^2s^{-1}$,$k_{v_{out}}=10^{-5}m^2s^{-1}$')\n",
    "line3 = ax1.plot(times/2.0, TrMass3D06Tr1-TrMassCNT07Tr1,'o-', label='3D-NoC $k_{v_{in}}=10^{-3}m^2s^{-1}$,$k_{v_{out}}=10^{-5}m^2s^{-1}$')\n",
    "\n",
    "plt.ylabel('Tracer mass over shelf ($mol$) ')\n",
    "plt.xlabel('Day')\n",
    "\n",
    "\n",
    "ax2 = plt.subplot(2,1,2)\n",
    "\n",
    "line1 = ax2.plot(times/2.0, WatCNT03Tr1-WatCNT07Tr1,'o-',label='REDI-NoC $k_v=10^{-5}m^2s^{-1}$')\n",
    "line3 = ax2.plot(times/2.0, Wat3D07Tr1-WatCNT07Tr1,'o-', label='3D-NoC $k_{v_{in}}=10^{-4}m^2s^{-1}$,$k_{v_{out}}=10^{-5}m^2s^{-1}$')\n",
    "line3 = ax2.plot(times/2.0, Wat3D06Tr1-WatCNT07Tr1,'o-', label='3D-NoC $k_{v_{in}}=10^{-3}m^2s^{-1}$,$k_{v_{out}}=10^{-5}m^2s^{-1}$')\n",
    "\n",
    "plt.ylabel('Water with C > 7.4 $mol$ $l^{-1}$ ($m^3$)')\n",
    "plt.xlabel('Day')\n",
    "    \n",
    "handles, labels = ax1.get_legend_handles_labels()\n",
    "ax1.legend(handles, labels, loc=0)\n",
    "   \n",
    "handles, labels = ax2.get_legend_handles_labels()\n",
    "ax2.legend(handles, labels,loc=0)\n",
    "\n",
    "\n",
    "#fig45.savefig('/ocean/kramosmu/Figures/WaterVolumeOverShelf/MassOverShelfNoCanyonEnhancedDiff.eps', format='eps', dpi=1000, bbox_inches='tight')\n"
   ]
  },
  {
   "cell_type": "markdown",
   "metadata": {},
   "source": [
    "#### C) Boundary effects"
   ]
  },
  {
   "cell_type": "code",
   "execution_count": null,
   "metadata": {
    "collapsed": false
   },
   "outputs": [],
   "source": [
    "fig45=plt.figure(figsize=(10,15))\n",
    "sns.set(context='talk', style='whitegrid', font='sans-serif', font_scale=1,rc={\"lines.linewidth\": 1.5})\n",
    "\n",
    "times = np.arange(0,nt,1)\n",
    "\n",
    "ax1 = plt.subplot(2,1,1)\n",
    "\n",
    "line1 = ax1.plot(times/2.0, TrMassNOR05Tr1,'o-',label='NOREDI, Closed N&S $k_v=10^{-5}m^2s^{-1}$ ')\n",
    "line3 = ax1.plot(times/2.0, TrMassNOR02Tr1,'o-', label='NOREDI, $k_{v}=10^{-5}m^2s^{-1}$')\n",
    "line1 = ax1.plot(times/2.0, TrMassNOR05Tr3,'o-',label='NOREDI, Closed N&S $k_v=10^{-3}m^2s^{-1}$ ')\n",
    "line3 = ax1.plot(times/2.0, TrMassNOR02Tr3,'o-', label='NOREDI, $k_{v}=10^{-3}m^2s^{-1}$')\n",
    "\n",
    "plt.ylabel('Tracer mass over shelf ($mol$) ')\n",
    "plt.xlabel('Day')\n",
    "\n",
    "\n",
    "ax2 = plt.subplot(2,1,2)\n",
    "\n",
    "line1 = ax2.plot(times/2.0, WatNOR05Tr1,'o-',label='NOREDI, Closed N&S $k_v=10^{-5}m^2s^{-1}$ ')\n",
    "line3 = ax2.plot(times/2.0, WatNOR02Tr1,'o-', label='NOREDI, $k_v=10^{-5}m^2s^{-1}$ ')\n",
    "line1 = ax2.plot(times/2.0, WatNOR05Tr3,'o-',label='NOREDI, Closed N&S $k_v=10^{-3}m^2s^{-1}$ ')\n",
    "line3 = ax2.plot(times/2.0, WatNOR02Tr3,'o-', label='NOREDI, $k_v=10^{-3}m^2s^{-1}$ ')\n",
    "\n",
    "plt.ylabel('Water with C > 7.4 $mol$ $l^{-1}$ ($m^3$)')\n",
    "plt.xlabel('Day')\n",
    "    \n",
    "handles, labels = ax1.get_legend_handles_labels()\n",
    "ax1.legend(handles, labels, loc=0)\n",
    "   \n",
    "handles, labels = ax2.get_legend_handles_labels()\n",
    "ax2.legend(handles, labels,loc=0)\n",
    "\n"
   ]
  },
  {
   "cell_type": "code",
   "execution_count": null,
   "metadata": {
    "collapsed": false
   },
   "outputs": [],
   "source": [
    "fig45=plt.figure(figsize=(10,15))\n",
    "sns.set(context='talk', style='whitegrid', font='sans-serif', font_scale=1,rc={\"lines.linewidth\": 1.5})\n",
    "\n",
    "times = np.arange(0,nt,1)\n",
    "\n",
    "ax1 = plt.subplot(2,1,1)\n",
    "\n",
    "line1 = ax1.plot(times/2.0, TrMassNOR06Tr1,'o-',label='NOREDI NoC, Closed N&S $k_v=10^{-5}m^2s^{-1}$ ')\n",
    "line3 = ax1.plot(times/2.0, TrMassNOR04Tr1,'o-', label='NOREDI NoC, $k_{v}=10^{-5}m^2s^{-1}$')\n",
    "line1 = ax1.plot(times/2.0, TrMassNOR06Tr3,'o-',label='NOREDI NoC, Closed N&S $k_v=10^{-3}m^2s^{-1}$ ')\n",
    "line3 = ax1.plot(times/2.0, TrMassNOR04Tr3,'o-', label='NOREDI NoC, $k_{v}=10^{-3}m^2s^{-1}$')\n",
    "\n",
    "plt.ylabel('Tracer mass over shelf ($mol$) ')\n",
    "plt.xlabel('Day')\n",
    "\n",
    "\n",
    "ax2 = plt.subplot(2,1,2)\n",
    "\n",
    "line1 = ax2.plot(times/2.0, WatNOR06Tr1,'o-',label='NOREDI NoC, Closed N&S $k_v=10^{-5}m^2s^{-1}$ ')\n",
    "line3 = ax2.plot(times/2.0, WatNOR04Tr1,'o-', label='NOREDI NoC, $k_v=10^{-5}m^2s^{-1}$ ')\n",
    "line1 = ax2.plot(times/2.0, WatNOR06Tr3,'o-',label='NOREDI NoC, Closed N&S $k_v=10^{-3}m^2s^{-1}$ ')\n",
    "line3 = ax2.plot(times/2.0, WatNOR04Tr3,'o-', label='NOREDI NoC, $k_v=10^{-3}m^2s^{-1}$ ')\n",
    "\n",
    "plt.ylabel('Water with C > 7.4 $mol$ $l^{-1}$ ($m^3$)')\n",
    "plt.xlabel('Day')\n",
    "    \n",
    "handles, labels = ax1.get_legend_handles_labels()\n",
    "ax1.legend(handles, labels, loc=0)\n",
    "   \n",
    "handles, labels = ax2.get_legend_handles_labels()\n",
    "ax2.legend(handles, labels,loc=0)\n"
   ]
  },
  {
   "cell_type": "code",
   "execution_count": null,
   "metadata": {
    "collapsed": false
   },
   "outputs": [],
   "source": [
    "fig45=plt.figure(figsize=(10,15))\n",
    "sns.set(context='talk', style='whitegrid', font='sans-serif', font_scale=1,rc={\"lines.linewidth\": 1.5})\n",
    "\n",
    "times = np.arange(0,nt,1)\n",
    "\n",
    "ax1 = plt.subplot(2,1,1)\n",
    "\n",
    "line1 = ax1.plot(times/2.0, TrMassNOR05Tr1-TrMassNOR06Tr1,'o-',label='Closed- Closed NoC, $k_v=10^{-5}m^2s^{-1}$ ')\n",
    "line3 = ax1.plot(times/2.0, TrMassNOR02Tr1-TrMassNOR04Tr1,'o-', label='NOREDI - NOREDI NoC, $k_{v}=10^{-5}m^2s^{-1}$')\n",
    "\n",
    "plt.ylabel('Tracer mass over shelf ($mol$) ')\n",
    "plt.xlabel('Day')\n",
    "\n",
    "\n",
    "ax2 = plt.subplot(2,1,2)\n",
    "\n",
    "line1 = ax2.plot(times/2.0, WatNOR05Tr1-WatNOR06Tr1,'o-',label='Closed N&S - Closed NoC, $k_v=10^{-5}m^2s^{-1}$ ')\n",
    "line3 = ax2.plot(times/2.0, WatNOR02Tr1-WatNOR04Tr1,'o-', label='NOREDI- NOREDI NoC , $k_v=10^{-5}m^2s^{-1}$ ')\n",
    "\n",
    "plt.ylabel('Water with C > 7.4 $mol$ $l^{-1}$ ($m^3$)')\n",
    "plt.xlabel('Day')\n",
    "    \n",
    "handles, labels = ax1.get_legend_handles_labels()\n",
    "ax1.legend(handles, labels, loc=0)\n",
    "   \n",
    "handles, labels = ax2.get_legend_handles_labels()\n",
    "ax2.legend(handles, labels,loc=0)\n"
   ]
  },
  {
   "cell_type": "code",
   "execution_count": null,
   "metadata": {
    "collapsed": false
   },
   "outputs": [],
   "source": [
    "fig45=plt.figure(figsize=(10,15))\n",
    "sns.set(context='talk', style='whitegrid', font='sans-serif', font_scale=1,rc={\"lines.linewidth\": 1.5})\n",
    "\n",
    "times = np.arange(0,nt,1)\n",
    "\n",
    "ax1 = plt.subplot(2,1,1)\n",
    "\n",
    "line1 = ax1.plot(times/2.0, TrMassNOR05Tr3-TrMassNOR06Tr3,'o-',label='Closed- Closed NoC, $k_v=10^{-3}m^2s^{-1}$ ')\n",
    "line3 = ax1.plot(times/2.0, TrMassNOR02Tr3-TrMassNOR04Tr3,'o-', label='NOREDI - NOREDI NoC, $k_{v}=10^{-3}m^2s^{-1}$')\n",
    "\n",
    "plt.ylabel('Tracer mass over shelf ($mol$) ')\n",
    "plt.xlabel('Day')\n",
    "\n",
    "\n",
    "ax2 = plt.subplot(2,1,2)\n",
    "\n",
    "line1 = ax2.plot(times/2.0, WatNOR05Tr3-WatNOR06Tr3,'o-',label='Closed N&S - Closed NoC, $k_v=10^{-3}m^2s^{-1}$ ')\n",
    "line3 = ax2.plot(times/2.0, WatNOR02Tr3-WatNOR04Tr3,'o-', label='NOREDI- NOREDI NoC , $k_v=10^{-3}m^2s^{-1}$ ')\n",
    "\n",
    "plt.ylabel('Water with C > 7.4 $mol$ $l^{-1}$ ($m^3$)')\n",
    "plt.xlabel('Day')\n",
    "    \n",
    "handles, labels = ax1.get_legend_handles_labels()\n",
    "ax1.legend(handles, labels, loc=0)\n",
    "   \n",
    "handles, labels = ax2.get_legend_handles_labels()\n",
    "ax2.legend(handles, labels,loc=0)\n"
   ]
  },
  {
   "cell_type": "markdown",
   "metadata": {},
   "source": [
    "#### D) Dynamical effect"
   ]
  },
  {
   "cell_type": "code",
   "execution_count": null,
   "metadata": {
    "collapsed": false
   },
   "outputs": [],
   "source": [
    "fig45=plt.figure(figsize=(10,15))\n",
    "sns.set(context='talk', style='whitegrid', font='sans-serif', font_scale=1,rc={\"lines.linewidth\": 1.5})\n",
    "\n",
    "times = np.arange(0,nt,1)\n",
    "\n",
    "ax1 = plt.subplot(2,1,1)\n",
    "\n",
    "line1 = ax1.plot(times/2.0, TrMassNOR02Tr1,'o-',label='Canyon NOREDI, $k_v=10^{-5}m^2s^{-1}$')\n",
    "line2 = ax1.plot(times/2.0, TrMassNOR04Tr1,'o-', label='No canyon NOREDI, $k_v=10^{-5}m^2s^{-1}$')\n",
    "#line3 = ax1.plot(times/2.0, TrMassNOR02Tr1-TrMassNOR04Tr1,'o-', label='Canyon effect, $k_v=10^{-5}m^2s^{-1}$')\n",
    "\n",
    "plt.ylabel('Tracer mass over shelf ($mol$) ')\n",
    "plt.xlabel('Day')\n",
    "\n",
    "\n",
    "ax2 = plt.subplot(2,1,2)\n",
    "\n",
    "line1 = ax2.plot(times/2.0, WatNOR02Tr1,'o-',label='Canyon REDI, $k_v=10^{-5}m^2s^{-1}$')\n",
    "line2 = ax2.plot(times/2.0, WatNOR04Tr1,'o-', label='No canyon NOREDI, $k_v=10^{-5}m^2s^{-1}$')\n",
    "line3 = ax2.plot(times/2.0, WatNOR02Tr1-WatNOR04Tr1,'o-', label='Cnyon effect, $k_v=10^{-5}m^2s^{-1}$')\n",
    "\n",
    "plt.ylabel('Water with C > 7.4 $mol$ $l^{-1}$ ($m^3$)')\n",
    "plt.xlabel('Day')\n",
    "    \n",
    "handles, labels = ax1.get_legend_handles_labels()\n",
    "ax1.legend(handles, labels, loc=0)\n",
    "   \n",
    "handles, labels = ax2.get_legend_handles_labels()\n",
    "ax2.legend(handles, labels,loc=0)\n",
    "\n",
    "\n",
    "#fig45.savefig('/ocean/kramosmu/Figures/WaterVolumeOverShelf/MassOverShelfNoCanyonCasesTr1.eps', format='eps', dpi=1000, bbox_inches='tight')\n"
   ]
  },
  {
   "cell_type": "code",
   "execution_count": null,
   "metadata": {
    "collapsed": true
   },
   "outputs": [],
   "source": [
    "\n",
    "\n"
   ]
  },
  {
   "cell_type": "code",
   "execution_count": null,
   "metadata": {
    "collapsed": true
   },
   "outputs": [],
   "source": []
  }
 ],
 "metadata": {
  "kernelspec": {
   "display_name": "Python 2",
   "language": "python",
   "name": "python2"
  },
  "language_info": {
   "codemirror_mode": {
    "name": "ipython",
    "version": 2
   },
   "file_extension": ".py",
   "mimetype": "text/x-python",
   "name": "python",
   "nbconvert_exporter": "python",
   "pygments_lexer": "ipython2",
   "version": "2.7.9"
  }
 },
 "nbformat": 4,
 "nbformat_minor": 0
}
