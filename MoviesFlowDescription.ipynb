{
 "cells": [
  {
   "cell_type": "markdown",
   "metadata": {},
   "source": [
    "### Movies for U, V, W, T, S, Tracers - Aids to visualize the flow"
   ]
  },
  {
   "cell_type": "code",
   "execution_count": 2,
   "metadata": {
    "collapsed": true
   },
   "outputs": [],
   "source": [
    "#KRM\n",
    "\n",
    "import numpy as np\n",
    "\n",
    "import matplotlib.pyplot as plt\n",
    "\n",
    "import matplotlib.colors as mcolors\n",
    "\n",
    "import matplotlib as mpl\n",
    "#%matplotlib inline\n",
    "from math import *\n",
    "\n",
    "import scipy.io\n",
    "\n",
    "import scipy as spy\n",
    "\n",
    "from netCDF4 import Dataset\n",
    "\n",
    "import pylab as pl\n",
    "\n",
    "import os \n",
    "\n",
    "import sys\n",
    "\n",
    "import seaborn as sns"
   ]
  },
  {
   "cell_type": "code",
   "execution_count": 3,
   "metadata": {
    "collapsed": true
   },
   "outputs": [],
   "source": [
    "lib_path = os.path.abspath('../../Building_canyon/BuildCanyon/PythonModulesMITgcm') # Add absolute path to my python scripts\n",
    "sys.path.append(lib_path)\n",
    "\n",
    "import ReadOutTools_MITgcm as rout \n"
   ]
  },
  {
   "cell_type": "code",
   "execution_count": 13,
   "metadata": {
    "collapsed": true
   },
   "outputs": [],
   "source": [
    "CanyonGrid='/ocean/kramosmu/MITgcm/CanyonUpwelling/360x360x90_3Tr_LinProfiles_BarkleyHyd_GMREDI_FluxDiagnostics/run01/gridGlob.nc'\n",
    "CanyonGridOut = Dataset(CanyonGrid)\n",
    "\n",
    "CanyonState='/ocean/kramosmu/MITgcm/CanyonUpwelling/360x360x90_3Tr_LinProfiles_BarkleyHyd_GMREDI_FluxDiagnostics/run01/stateGlob.nc'\n",
    "CanyonStateOut = Dataset(CanyonState)\n",
    "\n",
    "CanyonPtracers='/ocean/kramosmu/MITgcm/CanyonUpwelling/360x360x90_3Tr_LinProfiles_BarkleyHyd_GMREDI_FluxDiagnostics/run01/stateGlob.nc'\n",
    "CanyonPtracersOut = Dataset(CanyonPtracers)\n",
    "\n"
   ]
  },
  {
   "cell_type": "code",
   "execution_count": 14,
   "metadata": {
    "collapsed": false
   },
   "outputs": [],
   "source": [
    "#for dimobj in CanyonStateOut.variables.values():\n",
    "#    print dimobj"
   ]
  },
  {
   "cell_type": "code",
   "execution_count": 15,
   "metadata": {
    "collapsed": true
   },
   "outputs": [],
   "source": [
    "# General input\n",
    "\n",
    "nx = 360\n",
    "ny = 360\n",
    "nz = 90\n",
    "nt = 19 # t dimension size \n",
    "\n",
    "z = CanyonStateOut.variables['Z']\n",
    "Time = CanyonStateOut.variables['T']\n",
    "\n",
    "xc = rout.getField(CanyonGrid, 'XC') # x coords tracer cells\n",
    "yc = rout.getField(CanyonGrid, 'YC') # y coords tracer cells\n",
    "\n",
    "bathy = rout.getField(CanyonGrid, 'Depth')\n",
    "\n",
    "hFacC = rout.getField(CanyonGrid, 'HFacC')\n",
    "MaskC = rout.getMask(CanyonGrid, 'HFacC')\n",
    "\n",
    "hFacW = rout.getField(CanyonGrid, 'HFacW') # (Z,Y,Xp1) for zonal fluxes\n",
    "MaskW = rout.getMask(CanyonGrid,'HFacW') \n",
    "\n",
    "hFacS = rout.getField(CanyonGrid, 'HFacS') # (Z,Yp1,X) for meridional fluxes\n",
    "MaskS = rout.getMask(CanyonGrid,'HFacS') \n"
   ]
  },
  {
   "cell_type": "code",
   "execution_count": 16,
   "metadata": {
    "collapsed": false
   },
   "outputs": [],
   "source": [
    "# Load velocity components\n",
    "uu = rout.getField(CanyonState,'U')\n",
    "vv = rout.getField(CanyonState,'V')\n",
    "W = rout.getField(CanyonState,'W')\n",
    "\n",
    "U,V = rout.unstagger(uu,vv)\n",
    "\n"
   ]
  },
  {
   "cell_type": "code",
   "execution_count": 17,
   "metadata": {
    "collapsed": false
   },
   "outputs": [
    {
     "name": "stdout",
     "output_type": "stream",
     "text": [
      "(0.44712499, -0.14684488)\n",
      "(0.13805558, -0.15556709)\n",
      "(0.002690153, -0.0033017974)\n"
     ]
    }
   ],
   "source": [
    "print(np.max(uu), np.min(uu))\n",
    "print(np.max(vv), np.min(vv))\n",
    "print(np.max(W), np.min(W))\n",
    "\n",
    "Umax = np.max(uu)\n",
    "Wmax = np.max(W)"
   ]
  },
  {
   "cell_type": "code",
   "execution_count": 18,
   "metadata": {
    "collapsed": true
   },
   "outputs": [],
   "source": [
    "import matplotlib.animation as animation"
   ]
  },
  {
   "cell_type": "code",
   "execution_count": 19,
   "metadata": {
    "collapsed": false
   },
   "outputs": [],
   "source": [
    "sns.set()\n",
    "sns.set_style('white')\n",
    "spdcmap = sns.cubehelix_palette(light=1, as_cmap=True)\n",
    "divmap = sns.diverging_palette(255, 100, l=60, n=7, center=\"dark\", as_cmap=True)"
   ]
  },
  {
   "cell_type": "code",
   "execution_count": 20,
   "metadata": {
    "collapsed": false
   },
   "outputs": [],
   "source": [
    "def Plot1(t,ax1):\n",
    "    Uplot=np.ma.array(U[t,:,:,xslice],mask=MaskC[:,1:,xslice])\n",
    "    csU = np.linspace(-1.0,1.0,num=25)\n",
    "    mesh=ax1.contourf(yc[100:-1,200],z[:58],Uplot[:58,100:]/Umax,csU,cmap='RdYlGn_r')\n",
    "    if t == 1:    \n",
    "        cbar=plt.colorbar(mesh,ax=ax1,cmap =\"RdYlGn_r\")\n",
    "    ax1.set_axis_bgcolor((205/255.0, 201/255.0, 201/255.0))\n",
    "    ax1.set_xlabel('Across-shore distance [m]')\n",
    "    ax1.set_ylabel('Depth [m]')\n",
    "    ax1.set_title('Alongshore velocity at day %0.1f' %(t/2.0))\n",
    "\n",
    "def Plot2(t,ax2):    \n",
    "    Uplot=np.ma.array(U[t,:,yslice,:],mask=MaskC[:,yslice,:])\n",
    "    csU = np.linspace(-0.8,0.8,num=25)\n",
    "    mesh=ax2.contourf(xc[200,100:260],z[:58],Uplot[:58,100:260]/Umax,csU,cmap='RdYlGn_r')\n",
    "    if t == 1:\n",
    "        cbar=plt.colorbar(mesh,ax=ax2)\n",
    "    ax2.set_axis_bgcolor((205/255.0, 201/255.0, 201/255.0))\n",
    "    ax2.set_xlabel('Alongshore distance [m]')\n",
    "    ax2.set_ylabel('Depth [m]')\n",
    "    ax2.set_title('Alongshore velocity')\n",
    "    \n",
    "def Plot3(t,ax3):    \n",
    "    uplane = np.ma.array(U[t,zslice2,:,1:],mask=MaskC[zslice2,1:,1:])\n",
    "    vplane = np.ma.array(V[t,zslice2,1:,:],mask=MaskC[zslice2,1:,1:])\n",
    "    spd = np.sqrt(uplane**2+vplane**2)\n",
    "    csSpd = np.linspace(0,1,num=25)\n",
    "    mesh=ax3.contourf(xc[150:250,1:],yc[150:250,1:],spd[150:250,:]/Umax,csSpd,cmap=spdcmap)\n",
    "    if t == 1:\n",
    "        cbar=plt.colorbar(mesh,ax=ax3)\n",
    "    CS = ax3.contour(xc[150:250,1:],yc[150:250,1:],bathy[150:250,1:],[145],colors='k',linewidths=[2.0] )\n",
    "    vect = ax3.quiver(xc[150:250:5, 1::15], yc[150:250:5, 1::15], uplane[150:250:5, ::15]/Umax, vplane[150:250:5, ::15]/Umax\n",
    "                      , color='k')\n",
    "    \n",
    "    ax3.set_axis_bgcolor((205/255.0, 201/255.0, 201/255.0))\n",
    "    ax3.set_xlabel('Alongshore distance [m]')\n",
    "    ax3.set_ylabel('Across-shore distance [m]')\n",
    "    ax3.set_title('Horizontal velocity above shelf break')\n",
    "\n",
    "def Plot4(t,ax4):\n",
    "    Vplot=np.ma.array(V[t,:,:,xslice],mask=MaskC[:,:,xslice])\n",
    "    csV = np.linspace(-0.2,0.2,num=25)\n",
    "    mesh=ax4.contourf(yc[100:,200],z[:58],Vplot[:58,100:]/Umax,csV,cmap='RdYlGn_r')\n",
    "    if t == 1:\n",
    "        cbar=plt.colorbar(mesh,ax=ax4)\n",
    "    ax4.set_axis_bgcolor((205/255.0, 201/255.0, 201/255.0))\n",
    "    ax4.set_xlabel('Across-shore distance [m]')\n",
    "    ax4.set_ylabel('Depth [m]')\n",
    "    ax4.set_title('Across-shore velocity')\n",
    "    \n",
    "def Plot5(t,ax5):    \n",
    "    Vplot=np.ma.array(V[t,:,yslice,:],mask=MaskC[:,yslice,1:])\n",
    "    csV = np.linspace(-0.3,0.3,num=25)\n",
    "    mesh=ax5.contourf(xc[200,100:260],z[:58],Vplot[:58,100:260]/Umax,csV,cmap='RdYlGn_r')\n",
    "    if t == 1:\n",
    "        cbar=plt.colorbar(mesh,ax=ax5)\n",
    "    ax5.set_axis_bgcolor((205/255.0, 201/255.0, 201/255.0))\n",
    "    ax5.set_xlabel('Alongshore distance [m]')\n",
    "    ax5.set_ylabel('Depth [m]')\n",
    "    ax5.set_title('Across-shore velocity')\n",
    "\n",
    "def Plot6(t,ax6):\n",
    "    uplane = np.ma.array(U[t,zslice,:,1:],mask=MaskC[zslice,1:,1:])\n",
    "    vplane = np.ma.array(V[t,zslice,1:,:],mask=MaskC[zslice,1:,1:])\n",
    "    spd = np.sqrt(uplane**2+vplane**2)\n",
    "    csSpd = np.linspace(0,1,num=25)\n",
    "    mesh=ax6.contourf(xc[150:250,1:],yc[150:250,1:],spd[150:250,:]/Umax,csSpd,cmap=spdcmap)\n",
    "    if t == 1:\n",
    "        cbar=plt.colorbar(mesh,ax=ax6)\n",
    "    vect = ax6.quiver(xc[150:250:5, 1::15], yc[150:250:5, 1::15], uplane[150:250:5, ::15]/Umax, vplane[150:250:5, ::15]/Umax,\n",
    "            pivot='mid', color='k')\n",
    "    CS = ax6.contour(xc[150:250,1:],yc[150:250,1:],bathy[150:250,1:],[148],colors='k',linewidths=[2.25] )\n",
    "    ax6.set_axis_bgcolor((205/255.0, 201/255.0, 201/255.0))\n",
    "    ax6.set_xlabel('Alongshore distance [m]')\n",
    "    ax6.set_ylabel('Across-shore distance [m]')\n",
    "    ax6.set_title('Horizontal velocity at shelf break')\n",
    "\n",
    "def Plot7(t,ax7):\n",
    "    Wplot=np.ma.array(W[t,:,:,xslice],mask=MaskC[:,:,xslice])\n",
    "    csW = np.linspace(-0.4,0.4,num=30)\n",
    "    mesh=ax7.contourf(yc[100:,200],z[:58],Wplot[:58,100:]/Wmax,csW,cmap='RdYlGn_r')\n",
    "    if t == 1:\n",
    "        cbar=plt.colorbar(mesh,ax=ax7)\n",
    "    ax7.set_axis_bgcolor((205/255.0, 201/255.0, 201/255.0))\n",
    "    ax7.set_xlabel('Across-shore distance [m]')\n",
    "    ax7.set_ylabel('Depth [m]')\n",
    "    ax7.set_title('Vertical velocity')\n",
    "\n",
    "def Plot8(t,ax8):\n",
    "    Wplot=np.ma.array(W[t,:,yslice,:],mask=MaskC[:,yslice,:])\n",
    "    csW = np.linspace(-0.65,0.65,num=30)\n",
    "    mesh=ax8.contourf(xc[200,100:260],z[:58],Wplot[:58,100:260]/Wmax,csW,cmap='RdYlGn_r')\n",
    "    if t == 1:\n",
    "        cbar=plt.colorbar(mesh,ax=ax8)\n",
    "    ax8.set_axis_bgcolor((205/255.0, 201/255.0, 201/255.0))\n",
    "    ax8.set_xlabel('Alongshore distance [m]')\n",
    "    ax8.set_ylabel('Depth [m]')\n",
    "    ax8.set_title('Vertical velocity')\n",
    "    \n",
    "def Plot9(t,ax9):\n",
    "    wplane = np.ma.array(W[t,zslice,:,:],mask=MaskC[zslice,:,:])\n",
    "    csW = np.linspace(-1,1,num=30)\n",
    "    mesh=ax9.contourf(xc[150:250,:],yc[150:250,:],wplane[150:250,:]/Wmax,csW,cmap='RdYlGn_r')\n",
    "    if t == 1:\n",
    "        cbar=plt.colorbar(mesh,ax=ax9)\n",
    "    CS = ax9.contour(xc[150:250,1:],yc[150:250,1:],bathy[150:250,1:],[145],colors='k',linewidths=[2.25] )\n",
    "    ax9.set_axis_bgcolor((205/255.0, 201/255.0, 201/255.0))\n",
    "    ax9.set_xlabel('Alongshore distance [m]')\n",
    "    ax9.set_ylabel('Across-shore distance [m]')\n",
    "    ax9.set_title('Vertical velocity at shelf break')"
   ]
  },
  {
   "cell_type": "code",
   "execution_count": null,
   "metadata": {
    "collapsed": false
   },
   "outputs": [],
   "source": [
    "## Animation\n",
    "#N=5\n",
    "xslice=180\n",
    "yslice=200\n",
    "zslice= 29 # shelf break index\n",
    "zslice2= 23 \n",
    "\n",
    "#Empty figures\n",
    "fig,((ax1,ax2,ax3),(ax4, ax5,ax6),(ax7,ax8,ax9))  = plt.subplots(3, 3, figsize=(20, 14))\n",
    "\n",
    "#Initial image\n",
    "def init():\n",
    "    Plot1(0,ax1)\n",
    "    Plot2(0,ax2)\n",
    "    Plot3(0,ax3)\n",
    "    Plot4(0,ax4)\n",
    "    Plot5(0,ax5)\n",
    "    Plot6(0,ax6)\n",
    "    Plot7(0,ax7)\n",
    "    Plot8(0,ax8)\n",
    "    Plot9(0,ax9)\n",
    "    \n",
    "    plt.tight_layout()\n",
    "    #return[ax1,ax2,ax3,ax4,ax5,ax6,ax7,ax8,ax9]\n",
    "    \n",
    "\n",
    "def animate(tt):\n",
    "    Plot1(tt,ax1)\n",
    "    Plot2(tt,ax2)\n",
    "    Plot3(tt,ax3)\n",
    "    Plot4(tt,ax4)\n",
    "    Plot5(tt,ax5)\n",
    "    Plot6(tt,ax6)\n",
    "    Plot7(tt,ax7)\n",
    "    Plot8(tt,ax8)\n",
    "    Plot9(tt,ax9)\n",
    "    plt.tight_layout()\n",
    "#The animation function (max frames=47)   \n",
    "\n",
    "\n",
    "anim = animation.FuncAnimation(fig, animate, init_func=init,frames=18, interval = 200,blit=False, repeat=False)\n",
    "\n",
    "##A line that makes it all work\n",
    "mywriter = animation.FFMpegWriter()\n",
    "\n",
    "##Save in current folder\n",
    "anim.save('Vel_GMREDI_FluxDiagnostics_run01.mp4',writer=mywriter,fps=0.2, dpi = 400, bitrate = 1000000, codec = \"libx264\")\n",
    "\n",
    "plt.show()\n",
    "\n"
   ]
  },
  {
   "cell_type": "code",
   "execution_count": null,
   "metadata": {
    "collapsed": false
   },
   "outputs": [],
   "source": [
    "\n",
    "\n"
   ]
  },
  {
   "cell_type": "code",
   "execution_count": null,
   "metadata": {
    "collapsed": true
   },
   "outputs": [],
   "source": []
  }
 ],
 "metadata": {
  "kernelspec": {
   "display_name": "Python 2",
   "language": "python",
   "name": "python2"
  },
  "language_info": {
   "codemirror_mode": {
    "name": "ipython",
    "version": 2
   },
   "file_extension": ".py",
   "mimetype": "text/x-python",
   "name": "python",
   "nbconvert_exporter": "python",
   "pygments_lexer": "ipython2",
   "version": "2.7.9"
  }
 },
 "nbformat": 4,
 "nbformat_minor": 0
}
