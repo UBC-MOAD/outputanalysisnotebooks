{
 "metadata": {
  "name": ""
 },
 "nbformat": 3,
 "nbformat_minor": 0,
 "worksheets": [
  {
   "cells": [
    {
     "cell_type": "markdown",
     "metadata": {},
     "source": [
      "Model sensitivity to different values of horizontal and vertical prescribed diffusivity coefficients."
     ]
    },
    {
     "cell_type": "markdown",
     "metadata": {},
     "source": [
      "Sensitivity to Explicit Diffusivity Coefficients\n",
      "============================\n",
      "\n",
      "This ipython notebook investigates the model sensitivity to different values of horizontal and vertical prescribed diffusivity coeffiecients. Experiment 360x360x90_BodyForcing_6tr_LinProfiles has upwelling body forcing and a vertical gradient in the initial tracer concentration. Run02 explores values of vertical diffusivity (1E-7 to 10) keeping horizontal diffusivity fixed (1E-5)."
     ]
    },
    {
     "cell_type": "code",
     "collapsed": false,
     "input": [
      "#KRM\n",
      "import os\n",
      "\n",
      "import numpy as np\n",
      "\n",
      "import matplotlib.pyplot as plt\n",
      "\n",
      "from scipy.stats import nanmean\n",
      "\n",
      "from math import *\n",
      "\n",
      "%matplotlib inline\n",
      "\n",
      "import numpy as np\n",
      "\n",
      "import matplotlib.colors as mcolors\n",
      "\n",
      "from netCDF4 import Dataset\n",
      "\n",
      "import pylab as pl\n",
      "\n",
      "from decimal import getcontext, Decimal, Inexact\n",
      "\n",
      "import statsmodels.api as sm\n",
      "\n",
      "import pandas as pd"
     ],
     "language": "python",
     "metadata": {},
     "outputs": [],
     "prompt_number": 1
    },
    {
     "cell_type": "code",
     "collapsed": false,
     "input": [
      "#lib_path = os.path.abspath('../PythonModulesMITgcm') # Add absolute path to my python scripts\n",
      "#sys.path.append(lib_path)\n",
      "\n",
      "import NumDiffTools as dif"
     ],
     "language": "python",
     "metadata": {},
     "outputs": [],
     "prompt_number": 2
    },
    {
     "cell_type": "markdown",
     "metadata": {},
     "source": [
      "Important input parameters:\n",
      "------------------------"
     ]
    },
    {
     "cell_type": "code",
     "collapsed": false,
     "input": [
      "nx = 360  # number of x points in domain\n",
      "ny = 360  # number of y points in domain\n",
      "nz = 90  # number of z levels in domain\n",
      "nt = 21   # number of output files (n time) \n",
      "delt= 12*3600.0 # time interval between model output"
     ],
     "language": "python",
     "metadata": {},
     "outputs": [],
     "prompt_number": 3
    },
    {
     "cell_type": "markdown",
     "metadata": {},
     "source": [
      "Load output filenames:\n"
     ]
    },
    {
     "cell_type": "code",
     "collapsed": false,
     "input": [
      "### Load output filenames ###\n",
      "\n",
      "filename = '/ocean/kramosmu/MITgcm/CanyonUpwelling/360x360x90_BodyForcing_6Tr_LinProfiles/run02notave/mnc_0001/state.0000000000.glob.nc'\n",
      "StateOut = Dataset(filename)\n",
      "#for dimobj in StateOut.variables.values():\n",
      "#    print dimobj\n",
      "\n",
      "filename2 = '/ocean/kramosmu/MITgcm/CanyonUpwelling/360x360x90_BodyForcing_1Tr/run01/mnc_0001/grid.t001.nc'\n",
      "GridOut = Dataset(filename2)\n",
      "#for dimobj in GridOut.variables.values():\n",
      "#    print dimobj\n",
      "\n",
      "filename3 = '/ocean/kramosmu/MITgcm/CanyonUpwelling/360x360x90_BodyForcing_6Tr_LinProfiles/run02notave/mnc_0001/ptracers.0000000000.glob.nc'\n",
      "PtracersOut = Dataset(filename3)\n",
      "#for dimobj in PtracersOut.variables.values():\n",
      "#    print dimobj\n"
     ],
     "language": "python",
     "metadata": {},
     "outputs": [],
     "prompt_number": 4
    },
    {
     "cell_type": "markdown",
     "metadata": {},
     "source": [
      "Vertical diffusivity Sensitivity\n",
      "--------------------\n",
      "\n",
      "Let's calculate the horizontal and vertical diffusivity for each of the 6 tracers in run02."
     ]
    },
    {
     "cell_type": "code",
     "collapsed": false,
     "input": [
      "tracer1 = dif.getField(filename3,'Tr1')\n",
      "\n",
      "tracer1msk = np.ma.masked_values(tracer1, 0)\n",
      "\n",
      "MASK = np.ma.getmask(tracer1msk)\n",
      "   \n",
      "    \n",
      "tracer2 = dif.getField(filename3,'Tr2')\n",
      "\n",
      "tracer2msk = np.ma.masked_values(tracer2, 0)\n",
      "\n",
      "\n",
      "\n",
      "tracer3 = dif.getField(filename3,'Tr3')\n",
      "\n",
      "tracer3msk = np.ma.masked_values(tracer3, 0)\n",
      "\n",
      "\n",
      "tracer4 = dif.getField(filename3,'Tr4')\n",
      "\n",
      "tracer4msk = np.ma.masked_values(tracer4, 0)\n",
      "\n",
      "\n",
      "tracer5 = dif.getField(filename3,'Tr5')\n",
      "\n",
      "tracer1msk = np.ma.masked_values(tracer1, 0)\n",
      "\n",
      "\n",
      "tracer6 = dif.getField(filename3,'Tr6')\n",
      "\n",
      "tracer6msk = np.ma.masked_values(tracer6, 0)\n"
     ],
     "language": "python",
     "metadata": {},
     "outputs": [],
     "prompt_number": 5
    },
    {
     "cell_type": "markdown",
     "metadata": {},
     "source": [
      "\n",
      "Calculate the volume of the domain\n"
     ]
    },
    {
     "cell_type": "code",
     "collapsed": false,
     "input": [
      "DomVol = 0.0\n",
      "    \n",
      "hFacC = dif.getField(filename2,'HFacC')\n",
      "drF   = dif.getField(filename2,'drF')\n",
      "rAC   = dif.getField(filename2,'rA')\n",
      "    \n",
      "for jj in np.arange(ny):\n",
      "    for kk in np.arange(nz):\n",
      "      DomVol = DomVol + hFacC[kk,jj,:]*drF[kk]*rAC[jj,:]\n",
      "    #print DomVol\n",
      "  #print('\\n The total volume is %e m^3 \\n' %DomVolume)\n",
      "   \n",
      "DomVolume=sum(DomVol)\n",
      "print DomVolume  \n",
      "#vol = dif.CalcDomVolume(filename2, nx, ny, nz)\n",
      "\n",
      "#DomVolume = vol[0]\n",
      "#hFacC = vol[1]\n",
      "#drF = vol[2]\n",
      "#rAC = vol[3]\n",
      "\n",
      "#print(DomVolume)"
     ],
     "language": "python",
     "metadata": {},
     "outputs": [
      {
       "output_type": "stream",
       "stream": "stdout",
       "text": [
        "6.10285330795e+12\n"
       ]
      }
     ],
     "prompt_number": 6
    },
    {
     "cell_type": "markdown",
     "metadata": {},
     "source": [
      "Tracer 1\n"
     ]
    },
    {
     "cell_type": "code",
     "collapsed": false,
     "input": [
      "q2mean1 = dif.CalcVariance(nt, nz, ny, nx, DomVolume, hFacC, drF, rAC, tracer1)\n",
      "print('done')\n",
      "dqdt1 = dif.CalcTimeDer(q2mean1, nt, delt)\n",
      "print('done')\n",
      "qmeanDh1 = dif.CalcAvgHorGrad(filename2, nt,nz,ny,nx,tracer1,DomVolume,hFacC, drF, rAC)\n",
      "print('done')\n",
      "qmeanDz1=dif.CalcAvgVerGrad(filename2, nt,nz,ny,nx,tracer1,DomVolume,hFacC, drF, rAC)\n",
      "print('done')\n",
      "\n",
      "esth1=dif.FitDiffusivity(qmeanDh1[1:len(qmeanDh1)-1],dqdt1[0:len(dqdt1)], delt)\n",
      "print(esth1.params)\n",
      "\n",
      "estv1=dif.FitDiffusivity(qmeanDz1[1:len(qmeanDz1)-1],dqdt1[0:len(dqdt1)], delt)\n",
      "print(estv1.params)\n",
      "\n",
      "print esth1.summary()\n",
      "print estv1.summary()"
     ],
     "language": "python",
     "metadata": {},
     "outputs": [
      {
       "output_type": "stream",
       "stream": "stdout",
       "text": [
        "done\n",
        "done\n",
        "done"
       ]
      },
      {
       "output_type": "stream",
       "stream": "stdout",
       "text": [
        "\n",
        "done"
       ]
      },
      {
       "output_type": "stream",
       "stream": "stdout",
       "text": [
        "\n",
        "[ 0.16607058]"
       ]
      },
      {
       "output_type": "stream",
       "stream": "stdout",
       "text": [
        "\n",
        "[  3.39395630e-05]\n",
        "                            OLS Regression Results                            \n",
        "==============================================================================\n",
        "Dep. Variable:                      y   R-squared:                       0.959\n",
        "Model:                            OLS   Adj. R-squared:                  0.956\n",
        "Method:                 Least Squares   F-statistic:                     416.1\n",
        "Date:                Thu, 08 Jan 2015   Prob (F-statistic):           6.85e-14\n",
        "Time:                        10:00:30   Log-Likelihood:                 250.55\n",
        "No. Observations:                  19   AIC:                            -499.1\n",
        "Df Residuals:                      18   BIC:                            -498.2\n",
        "Df Model:                           1                                         \n",
        "==============================================================================\n",
        "                 coef    std err          t      P>|t|      [95.0% Conf. Int.]\n",
        "------------------------------------------------------------------------------\n",
        "x1             0.1661      0.008     20.398      0.000         0.149     0.183\n",
        "==============================================================================\n",
        "Omnibus:                       11.187   Durbin-Watson:                   0.487\n",
        "Prob(Omnibus):                  0.004   Jarque-Bera (JB):                9.475\n",
        "Skew:                          -1.130   Prob(JB):                      0.00876\n",
        "Kurtosis:                       5.619   Cond. No.                         1.00\n",
        "=============================================================================="
       ]
      },
      {
       "output_type": "stream",
       "stream": "stdout",
       "text": [
        "\n",
        "                            OLS Regression Results                            \n",
        "==============================================================================\n",
        "Dep. Variable:                      y   R-squared:                       0.961\n",
        "Model:                            OLS   Adj. R-squared:                  0.959\n",
        "Method:                 Least Squares   F-statistic:                     443.0\n",
        "Date:                Thu, 08 Jan 2015   Prob (F-statistic):           3.98e-14\n",
        "Time:                        10:00:30   Log-Likelihood:                 251.12\n",
        "No. Observations:                  19   AIC:                            -500.2\n",
        "Df Residuals:                      18   BIC:                            -499.3\n",
        "Df Model:                           1                                         \n",
        "==============================================================================\n",
        "                 coef    std err          t      P>|t|      [95.0% Conf. Int.]\n",
        "------------------------------------------------------------------------------\n",
        "x1          3.394e-05   1.61e-06     21.047      0.000      3.06e-05  3.73e-05\n",
        "==============================================================================\n",
        "Omnibus:                        8.963   Durbin-Watson:                   0.524\n",
        "Prob(Omnibus):                  0.011   Jarque-Bera (JB):                6.568\n",
        "Skew:                          -0.979   Prob(JB):                       0.0375\n",
        "Kurtosis:                       5.112   Cond. No.                         1.00\n",
        "==============================================================================\n"
       ]
      },
      {
       "output_type": "stream",
       "stream": "stderr",
       "text": [
        "/home/kramosmu/anaconda/lib/python2.7/site-packages/scipy/stats/stats.py:1276: UserWarning: kurtosistest only valid for n>=20 ... continuing anyway, n=19\n",
        "  int(n))\n"
       ]
      }
     ],
     "prompt_number": 8
    },
    {
     "cell_type": "markdown",
     "metadata": {},
     "source": [
      "Tracer 2"
     ]
    },
    {
     "cell_type": "code",
     "collapsed": false,
     "input": [
      "q2mean2 = dif.CalcVariance(nt, nz, ny, nx, DomVolume, hFacC, drF, rAC, tracer2)\n",
      "print('done')\n",
      "dqdt2 = dif.CalcTimeDer(q2mean2, nt, delt)\n",
      "print('done')\n",
      "qmeanDh2 = dif.CalcAvgHorGrad(filename2, nt,nz,ny,nx,tracer2,DomVolume,hFacC, drF, rAC)\n",
      "print('done')\n",
      "qmeanDz2=dif.CalcAvgVerGrad(filename2, nt,nz,ny,nx,tracer2,DomVolume,hFacC, drF, rAC)\n",
      "print('done')\n",
      "\n",
      "esth2=dif.FitDiffusivity(qmeanDh2[1:len(qmeanDh2)-1],dqdt2[0:len(dqdt2)], delt)\n",
      "print(esth2.params)\n",
      "\n",
      "estv2=dif.FitDiffusivity(qmeanDz2[1:len(qmeanDz2)-1],dqdt2[0:len(dqdt2)], delt)\n",
      "print(estv2.params)\n",
      "\n",
      "print esth2.summary()\n",
      "print estv2.summary()"
     ],
     "language": "python",
     "metadata": {},
     "outputs": [
      {
       "output_type": "stream",
       "stream": "stdout",
       "text": [
        "done\n",
        "done\n",
        "done"
       ]
      },
      {
       "output_type": "stream",
       "stream": "stdout",
       "text": [
        "\n",
        "done"
       ]
      },
      {
       "output_type": "stream",
       "stream": "stdout",
       "text": [
        "\n",
        "[ 0.06661726]\n",
        "[  1.44375857e-05]\n",
        "                            OLS Regression Results                            \n",
        "==============================================================================\n",
        "Dep. Variable:                      y   R-squared:                       0.779\n",
        "Model:                            OLS   Adj. R-squared:                  0.766\n",
        "Method:                 Least Squares   F-statistic:                     63.28\n",
        "Date:                Thu, 08 Jan 2015   Prob (F-statistic):           2.66e-07\n",
        "Time:                        10:47:32   Log-Likelihood:                 250.39\n",
        "No. Observations:                  19   AIC:                            -498.8\n",
        "Df Residuals:                      18   BIC:                            -497.8\n",
        "Df Model:                           1                                         \n",
        "==============================================================================\n",
        "                 coef    std err          t      P>|t|      [95.0% Conf. Int.]\n",
        "------------------------------------------------------------------------------\n",
        "x1             0.0666      0.008      7.955      0.000         0.049     0.084\n",
        "==============================================================================\n",
        "Omnibus:                       11.395   Durbin-Watson:                   0.491\n",
        "Prob(Omnibus):                  0.003   Jarque-Bera (JB):                9.791\n",
        "Skew:                          -1.142   Prob(JB):                      0.00748\n",
        "Kurtosis:                       5.674   Cond. No.                         1.00\n",
        "==============================================================================\n",
        "                            OLS Regression Results                            \n",
        "==============================================================================\n",
        "Dep. Variable:                      y   R-squared:                       0.778\n",
        "Model:                            OLS   Adj. R-squared:                  0.766\n",
        "Method:                 Least Squares   F-statistic:                     63.20\n",
        "Date:                Thu, 08 Jan 2015   Prob (F-statistic):           2.68e-07\n",
        "Time:                        10:47:32   Log-Likelihood:                 250.38\n",
        "No. Observations:                  19   AIC:                            -498.8\n",
        "Df Residuals:                      18   BIC:                            -497.8\n",
        "Df Model:                           1                                         \n",
        "==============================================================================\n",
        "                 coef    std err          t      P>|t|      [95.0% Conf. Int.]\n",
        "------------------------------------------------------------------------------\n",
        "x1          1.444e-05   1.82e-06      7.950      0.000      1.06e-05  1.83e-05\n",
        "==============================================================================\n",
        "Omnibus:                       11.085   Durbin-Watson:                   0.493\n",
        "Prob(Omnibus):                  0.004   Jarque-Bera (JB):                9.403\n",
        "Skew:                          -1.113   Prob(JB):                      0.00908\n",
        "Kurtosis:                       5.630   Cond. No.                         1.00\n",
        "==============================================================================\n"
       ]
      }
     ],
     "prompt_number": 9
    },
    {
     "cell_type": "markdown",
     "metadata": {},
     "source": [
      "Tracer 3"
     ]
    },
    {
     "cell_type": "code",
     "collapsed": false,
     "input": [
      "q2mean3 = dif.CalcVariance(nt, nz, ny, nx, DomVolume, hFacC, drF, rAC, tracer3)\n",
      "print('done')\n",
      "dqdt3 = dif.CalcTimeDer(q2mean3, nt, delt)\n",
      "print('done')\n",
      "qmeanDh3 = dif.CalcAvgHorGrad(filename2, nt,nz,ny,nx,tracer3,DomVolume,hFacC, drF, rAC)\n",
      "print('done')\n",
      "qmeanDz3=dif.CalcAvgVerGrad(filename2, nt,nz,ny,nx,tracer3,DomVolume,hFacC, drF, rAC)\n",
      "print('done')\n",
      "\n",
      "esth3=dif.FitDiffusivity(-qmeanDh3[1:len(qmeanDh3)-1],dqdt3[0:len(dqdt3)], delt)\n",
      "print(esth3.params)\n",
      "\n",
      "estv3=dif.FitDiffusivity(-qmeanDz3[1:len(qmeanDz3)-1],dqdt3[0:len(dqdt3)], delt)\n",
      "print(estv3.params)\n",
      "\n",
      "print esth3.summary()\n",
      "print estv3.summary()\n"
     ],
     "language": "python",
     "metadata": {},
     "outputs": [
      {
       "output_type": "stream",
       "stream": "stdout",
       "text": [
        "done\n",
        "done\n",
        "done"
       ]
      },
      {
       "output_type": "stream",
       "stream": "stdout",
       "text": [
        "\n",
        "done"
       ]
      },
      {
       "output_type": "stream",
       "stream": "stdout",
       "text": [
        "\n",
        "[ 0.71387129]\n",
        "[ 0.00016762]\n",
        "                            OLS Regression Results                            \n",
        "==============================================================================\n",
        "Dep. Variable:                      y   R-squared:                       0.991\n",
        "Model:                            OLS   Adj. R-squared:                  0.991\n",
        "Method:                 Least Squares   F-statistic:                     2052.\n",
        "Date:                Thu, 08 Jan 2015   Prob (F-statistic):           5.30e-20\n",
        "Time:                        11:46:22   Log-Likelihood:                 239.99\n",
        "No. Observations:                  19   AIC:                            -478.0\n",
        "Df Residuals:                      18   BIC:                            -477.0\n",
        "Df Model:                           1                                         \n",
        "==============================================================================\n",
        "                 coef    std err          t      P>|t|      [95.0% Conf. Int.]\n",
        "------------------------------------------------------------------------------\n",
        "x1             0.7139      0.016     45.295      0.000         0.681     0.747\n",
        "==============================================================================\n",
        "Omnibus:                       13.964   Durbin-Watson:                   0.270\n",
        "Prob(Omnibus):                  0.001   Jarque-Bera (JB):               13.489\n",
        "Skew:                          -1.349   Prob(JB):                      0.00118\n",
        "Kurtosis:                       6.123   Cond. No.                         1.00\n",
        "==============================================================================\n",
        "                            OLS Regression Results                            \n",
        "==============================================================================\n",
        "Dep. Variable:                      y   R-squared:                       0.993\n",
        "Model:                            OLS   Adj. R-squared:                  0.992\n",
        "Method:                 Least Squares   F-statistic:                     2436.\n",
        "Date:                Thu, 08 Jan 2015   Prob (F-statistic):           1.14e-20\n",
        "Time:                        11:46:22   Log-Likelihood:                 241.61\n",
        "No. Observations:                  19   AIC:                            -481.2\n",
        "Df Residuals:                      18   BIC:                            -480.3\n",
        "Df Model:                           1                                         \n",
        "==============================================================================\n",
        "                 coef    std err          t      P>|t|      [95.0% Conf. Int.]\n",
        "------------------------------------------------------------------------------\n",
        "x1             0.0002    3.4e-06     49.357      0.000         0.000     0.000\n",
        "==============================================================================\n",
        "Omnibus:                       11.279   Durbin-Watson:                   0.274\n",
        "Prob(Omnibus):                  0.004   Jarque-Bera (JB):                9.724\n",
        "Skew:                          -1.121   Prob(JB):                      0.00774\n",
        "Kurtosis:                       5.693   Cond. No.                         1.00\n",
        "==============================================================================\n"
       ]
      }
     ],
     "prompt_number": 10
    },
    {
     "cell_type": "markdown",
     "metadata": {},
     "source": [
      "Tracer 4"
     ]
    },
    {
     "cell_type": "code",
     "collapsed": false,
     "input": [
      "q2mean4 = dif.CalcVariance(nt, nz, ny, nx, DomVolume, hFacC, drF, rAC, tracer4)\n",
      "print('done')\n",
      "dqdt4 = dif.CalcTimeDer(q2mean4, nt, delt)\n",
      "print('done')\n",
      "qmeanDh4 = dif.CalcAvgHorGrad(filename2, nt,nz,ny,nx,tracer4,DomVolume,hFacC, drF, rAC)\n",
      "print('done')\n",
      "qmeanDz4=dif.CalcAvgVerGrad(filename2, nt,nz,ny,nx,tracer4,DomVolume,hFacC, drF, rAC)\n",
      "print('done')\n",
      "\n",
      "esth4=dif.FitDiffusivity(-qmeanDh4[1:len(qmeanDh4)-1],dqdt4[0:len(dqdt4)], delt)\n",
      "print(esth4.params)\n",
      "\n",
      "estv4=dif.FitDiffusivity(-qmeanDz4[1:len(qmeanDz4)-1],dqdt4[0:len(dqdt4)], delt)\n",
      "print(estv4.params)\n",
      "\n",
      "kh4=esth4.params\n",
      "kv4=estv4.params\n",
      "\n",
      "print esth4.summary()\n",
      "print estv4.summary()"
     ],
     "language": "python",
     "metadata": {},
     "outputs": [
      {
       "output_type": "stream",
       "stream": "stdout",
       "text": [
        "done\n",
        "done\n",
        "done"
       ]
      },
      {
       "output_type": "stream",
       "stream": "stdout",
       "text": [
        "\n",
        "done"
       ]
      },
      {
       "output_type": "stream",
       "stream": "stdout",
       "text": [
        "\n",
        "[ 6.21836179]\n",
        "[ 0.00147335]\n",
        "                            OLS Regression Results                            \n",
        "==============================================================================\n",
        "Dep. Variable:                      y   R-squared:                       0.950\n",
        "Model:                            OLS   Adj. R-squared:                  0.948\n",
        "Method:                 Least Squares   F-statistic:                     344.8\n",
        "Date:                Thu, 08 Jan 2015   Prob (F-statistic):           3.45e-13\n",
        "Time:                        12:29:21   Log-Likelihood:                 187.70\n",
        "No. Observations:                  19   AIC:                            -373.4\n",
        "Df Residuals:                      18   BIC:                            -372.5\n",
        "Df Model:                           1                                         \n",
        "==============================================================================\n",
        "                 coef    std err          t      P>|t|      [95.0% Conf. Int.]\n",
        "------------------------------------------------------------------------------\n",
        "x1             6.2184      0.335     18.570      0.000         5.515     6.922\n",
        "==============================================================================\n",
        "Omnibus:                        3.856   Durbin-Watson:                   0.067\n",
        "Prob(Omnibus):                  0.145   Jarque-Bera (JB):                2.537\n",
        "Skew:                          -0.895   Prob(JB):                        0.281\n",
        "Kurtosis:                       3.038   Cond. No.                         1.00\n",
        "==============================================================================\n",
        "                            OLS Regression Results                            \n",
        "==============================================================================\n",
        "Dep. Variable:                      y   R-squared:                       0.931\n",
        "Model:                            OLS   Adj. R-squared:                  0.928\n",
        "Method:                 Least Squares   F-statistic:                     244.3\n",
        "Date:                Thu, 08 Jan 2015   Prob (F-statistic):           6.46e-12\n",
        "Time:                        12:29:21   Log-Likelihood:                 184.62\n",
        "No. Observations:                  19   AIC:                            -367.2\n",
        "Df Residuals:                      18   BIC:                            -366.3\n",
        "Df Model:                           1                                         \n",
        "==============================================================================\n",
        "                 coef    std err          t      P>|t|      [95.0% Conf. Int.]\n",
        "------------------------------------------------------------------------------\n",
        "x1             0.0015   9.43e-05     15.630      0.000         0.001     0.002\n",
        "==============================================================================\n",
        "Omnibus:                        1.990   Durbin-Watson:                   0.050\n",
        "Prob(Omnibus):                  0.370   Jarque-Bera (JB):                1.623\n",
        "Skew:                          -0.660   Prob(JB):                        0.444\n",
        "Kurtosis:                       2.445   Cond. No.                         1.00\n",
        "==============================================================================\n"
       ]
      }
     ],
     "prompt_number": 11
    },
    {
     "cell_type": "markdown",
     "metadata": {},
     "source": [
      "Tracer 5"
     ]
    },
    {
     "cell_type": "code",
     "collapsed": false,
     "input": [
      "q2mean5 = dif.CalcVariance(nt, nz, ny, nx, DomVolume, hFacC, drF, rAC, tracer5)\n",
      "print('done')\n",
      "dqdt5 = dif.CalcTimeDer(q2mean5, nt, delt)\n",
      "print('done')\n",
      "qmeanDh5 = dif.CalcAvgHorGrad(filename2, nt,nz,ny,nx,tracer5,DomVolume,hFacC, drF, rAC)\n",
      "print('done')\n",
      "qmeanDz5=dif.CalcAvgVerGrad(filename2, nt,nz,ny,nx,tracer5,DomVolume,hFacC, drF, rAC)\n",
      "print('done')\n",
      "\n",
      "esth5=dif.FitDiffusivity(-qmeanDh5[1:len(qmeanDh5)-1],dqdt5[0:len(dqdt5)], delt)\n",
      "print(esth5.params)\n",
      "\n",
      "estv5=dif.FitDiffusivity(-qmeanDz5[1:len(qmeanDz5)-1],dqdt5[0:len(dqdt5)], delt)\n",
      "print(estv5.params)\n",
      "\n",
      "print esth5.summary()\n",
      "print estv5.summary()"
     ],
     "language": "python",
     "metadata": {},
     "outputs": [
      {
       "output_type": "stream",
       "stream": "stdout",
       "text": [
        "done\n",
        "done\n",
        "done"
       ]
      },
      {
       "output_type": "stream",
       "stream": "stdout",
       "text": [
        "\n",
        "done"
       ]
      },
      {
       "output_type": "stream",
       "stream": "stdout",
       "text": [
        "\n",
        "[ 18.94886874]\n",
        "[ 0.00244524]\n",
        "                            OLS Regression Results                            \n",
        "==============================================================================\n",
        "Dep. Variable:                      y   R-squared:                       0.409\n",
        "Model:                            OLS   Adj. R-squared:                  0.376\n",
        "Method:                 Least Squares   F-statistic:                     12.46\n",
        "Date:                Thu, 08 Jan 2015   Prob (F-statistic):            0.00239\n",
        "Time:                        13:12:27   Log-Likelihood:                 146.90\n",
        "No. Observations:                  19   AIC:                            -291.8\n",
        "Df Residuals:                      18   BIC:                            -290.9\n",
        "Df Model:                           1                                         \n",
        "==============================================================================\n",
        "                 coef    std err          t      P>|t|      [95.0% Conf. Int.]\n",
        "------------------------------------------------------------------------------\n",
        "x1            18.9489      5.368      3.530      0.002         7.670    30.227\n",
        "==============================================================================\n",
        "Omnibus:                       35.437   Durbin-Watson:                   0.323\n",
        "Prob(Omnibus):                  0.000   Jarque-Bera (JB):               78.879\n",
        "Skew:                          -2.974   Prob(JB):                     7.44e-18\n",
        "Kurtosis:                      11.016   Cond. No.                         1.00\n",
        "==============================================================================\n",
        "                            OLS Regression Results                            \n",
        "==============================================================================\n",
        "Dep. Variable:                      y   R-squared:                       0.205\n",
        "Model:                            OLS   Adj. R-squared:                  0.161\n",
        "Method:                 Least Squares   F-statistic:                     4.655\n",
        "Date:                Thu, 08 Jan 2015   Prob (F-statistic):             0.0447\n",
        "Time:                        13:12:27   Log-Likelihood:                 144.09\n",
        "No. Observations:                  19   AIC:                            -286.2\n",
        "Df Residuals:                      18   BIC:                            -285.2\n",
        "Df Model:                           1                                         \n",
        "==============================================================================\n",
        "                 coef    std err          t      P>|t|      [95.0% Conf. Int.]\n",
        "------------------------------------------------------------------------------\n",
        "x1             0.0024      0.001      2.158      0.045      6.42e-05     0.005\n",
        "==============================================================================\n",
        "Omnibus:                       31.075   Durbin-Watson:                   0.277\n",
        "Prob(Omnibus):                  0.000   Jarque-Bera (JB):               56.586\n",
        "Skew:                          -2.688   Prob(JB):                     5.16e-13\n",
        "Kurtosis:                       9.525   Cond. No.                         1.00\n",
        "==============================================================================\n"
       ]
      }
     ],
     "prompt_number": 12
    },
    {
     "cell_type": "markdown",
     "metadata": {},
     "source": [
      "Tracer 6"
     ]
    },
    {
     "cell_type": "code",
     "collapsed": false,
     "input": [
      "q2mean6 = dif.CalcVariance(nt, nz, ny, nx, DomVolume, hFacC, drF, rAC, tracer6)\n",
      "print('done')\n",
      "dqdt6 = dif.CalcTimeDer(q2mean6, nt, delt)\n",
      "print('done')\n",
      "qmeanDh6 = dif.CalcAvgHorGrad(filename2, nt,nz,ny,nx,tracer6,DomVolume,hFacC, drF, rAC)\n",
      "print('done')\n",
      "qmeanDz6=dif.CalcAvgVerGrad(filename2, nt,nz,ny,nx,tracer6,DomVolume,hFacC, drF, rAC)\n",
      "print('done')\n",
      "\n",
      "esth6=dif.FitDiffusivity(-qmeanDh6[1:len(qmeanDh6)-1],dqdt6[0:len(dqdt6)], delt)\n",
      "\n",
      "print(esth6.params)\n",
      "\n",
      "estv6=dif.FitDiffusivity(-qmeanDz6[1:len(qmeanDz6)-1],dqdt6[0:len(dqdt6)], delt)\n",
      "print(estv6.params)\n",
      "\n",
      "print esth6.summary()\n",
      "print estv6.summary()"
     ],
     "language": "python",
     "metadata": {},
     "outputs": [
      {
       "output_type": "stream",
       "stream": "stdout",
       "text": [
        "done\n",
        "done\n",
        "done"
       ]
      },
      {
       "output_type": "stream",
       "stream": "stdout",
       "text": [
        "\n",
        "done"
       ]
      },
      {
       "output_type": "stream",
       "stream": "stdout",
       "text": [
        "\n",
        "[ 11.40200332]\n",
        "[ 0.00114031]\n",
        "                            OLS Regression Results                            \n",
        "==============================================================================\n",
        "Dep. Variable:                      y   R-squared:                       0.074\n",
        "Model:                            OLS   Adj. R-squared:                  0.023\n",
        "Method:                 Least Squares   F-statistic:                     1.444\n",
        "Date:                Thu, 08 Jan 2015   Prob (F-statistic):              0.245\n",
        "Time:                        13:55:31   Log-Likelihood:                 139.47\n",
        "No. Observations:                  19   AIC:                            -276.9\n",
        "Df Residuals:                      18   BIC:                            -276.0\n",
        "Df Model:                           1                                         \n",
        "==============================================================================\n",
        "                 coef    std err          t      P>|t|      [95.0% Conf. Int.]\n",
        "------------------------------------------------------------------------------\n",
        "x1            11.4020      9.490      1.201      0.245        -8.535    31.339\n",
        "==============================================================================\n",
        "Omnibus:                       49.508   Durbin-Watson:                   1.069\n",
        "Prob(Omnibus):                  0.000   Jarque-Bera (JB):              207.004\n",
        "Skew:                          -4.005   Prob(JB):                     1.12e-45\n",
        "Kurtosis:                      17.047   Cond. No.                         1.00\n",
        "==============================================================================\n",
        "                            OLS Regression Results                            \n",
        "==============================================================================\n",
        "Dep. Variable:                      y   R-squared:                       0.031\n",
        "Model:                            OLS   Adj. R-squared:                 -0.023\n",
        "Method:                 Least Squares   F-statistic:                    0.5786\n",
        "Date:                Thu, 08 Jan 2015   Prob (F-statistic):              0.457\n",
        "Time:                        13:55:31   Log-Likelihood:                 139.03\n",
        "No. Observations:                  19   AIC:                            -276.1\n",
        "Df Residuals:                      18   BIC:                            -275.1\n",
        "Df Model:                           1                                         \n",
        "==============================================================================\n",
        "                 coef    std err          t      P>|t|      [95.0% Conf. Int.]\n",
        "------------------------------------------------------------------------------\n",
        "x1             0.0011      0.001      0.761      0.457        -0.002     0.004\n",
        "==============================================================================\n",
        "Omnibus:                       49.490   Durbin-Watson:                   1.026\n",
        "Prob(Omnibus):                  0.000   Jarque-Bera (JB):              206.786\n",
        "Skew:                          -4.004   Prob(JB):                     1.25e-45\n",
        "Kurtosis:                      17.039   Cond. No.                         1.00\n",
        "==============================================================================\n"
       ]
      }
     ],
     "prompt_number": 13
    },
    {
     "cell_type": "markdown",
     "metadata": {},
     "source": [
      "Tracer variance plots:\n",
      "--------------------"
     ]
    },
    {
     "cell_type": "code",
     "collapsed": false,
     "input": [
      "kh1=esth1.params\n",
      "kv1=estv1.params\n",
      "\n",
      "kh2=esth2.params\n",
      "kv2=estv2.params\n",
      "\n",
      "kh3=esth3.params\n",
      "kv3=estv3.params\n",
      "\n",
      "kh4=esth4.params\n",
      "kv4=estv4.params\n",
      "\n",
      "kh5=esth5.params\n",
      "kv5=estv5.params\n",
      "\n",
      "kh6=esth6.params\n",
      "kv6=estv6.params\n",
      "\n",
      "\n",
      "fig1=plt.figure(figsize=(21,3))\n",
      "\n",
      "plt.subplot(1,3,1)\n",
      "ax=plt.gca()\n",
      "\n",
      "\n",
      "plt.plot(qmeanDh1[1:len(qmeanDh1)-1],dqdt1)\n",
      "plt.plot(qmeanDh2[1:len(qmeanDh2)-1],dqdt2)\n",
      "plt.plot(qmeanDh3[1:len(qmeanDh3)-1],dqdt3)\n",
      "plt.plot(qmeanDh4[1:len(qmeanDh4)-1],dqdt4)\n",
      "plt.plot(qmeanDh5[1:len(qmeanDh5)-1],dqdt5)\n",
      "plt.plot(qmeanDh6[1:len(qmeanDh6)-1],dqdt6)\n",
      "\n",
      "\n",
      "plt.xlabel('$<|\\partial_{h}q|^2>$')\n",
      "\n",
      "plt.ylabel('$\\partial{<q^2>}/\\partial{t}$')\n",
      "    \n",
      "\n",
      "plt.subplot(1,3,2)\n",
      "ax=plt.gca()\n",
      "\n",
      "plt.plot(qmeanDz1[1:len(qmeanDz1)-1],dqdt1)\n",
      "plt.plot(qmeanDz2[1:len(qmeanDz2)-1],dqdt2)\n",
      "plt.plot(qmeanDz3[1:len(qmeanDz3)-1],dqdt3)\n",
      "plt.plot(qmeanDz4[1:len(qmeanDz4)-1],dqdt4)\n",
      "plt.plot(qmeanDz5[1:len(qmeanDz5)-1],dqdt5)\n",
      "plt.plot(qmeanDz6[1:len(qmeanDz6)-1],dqdt6)\n",
      "\n",
      "\n",
      "plt.xlabel('$<\\partial{q^2}/\\partial{z}>$')\n",
      "\n",
      "plt.ylabel('$\\partial{<q^2>}/\\partial{t}$')\n",
      "\n",
      "plt.subplot(1,3,3)\n",
      "ax=plt.gca()\n",
      "\n",
      "\n",
      "plt.plot(np.arange(0,nt,1),q2mean1)\n",
      "plt.plot(np.arange(0,nt,1),q2mean2)\n",
      "plt.plot(np.arange(0,nt,1),q2mean3)\n",
      "plt.plot(np.arange(0,nt,1),q2mean4)\n",
      "plt.plot(np.arange(0,nt,1),q2mean5)\n",
      "plt.plot(np.arange(0,nt,1),q2mean6)\n",
      "\n",
      "\n",
      "\n",
      "plt.xlabel('hours')\n",
      "\n",
      "plt.ylabel('$<q^2>$')\n",
      "\n",
      "plt.tight_layout()"
     ],
     "language": "python",
     "metadata": {},
     "outputs": [
      {
       "metadata": {},
       "output_type": "display_data",
       "png": "[encoded data removed]",
       "text": [
        "<matplotlib.figure.Figure at 0x54f7ed0>"
       ]
      }
     ],
     "prompt_number": 14
    },
    {
     "cell_type": "markdown",
     "metadata": {},
     "source": [
      "Numerical diffusivities as a function of prescribed vertical diffusivity"
     ]
    },
    {
     "cell_type": "code",
     "collapsed": false,
     "input": [
      "fig1=plt.figure(figsize=(15,6))\n",
      "\n",
      "plt.subplot(1,2,1)\n",
      "ax1=plt.gca()\n",
      "\n",
      "ax1.plot()\n",
      "ax1.plot()\n",
      "#ax.plot((10E-7,10E-3,10E-2,10E-1,1.0,10.0),(esth1.params,esth2.params,esth3.params,esth4.params,esth5.params,esth6.params))\n",
      "ax1.plot((10**-7,10**-3,10**-2,10**-1,1.0,10.0),(kh1,kh2,kh3,kh4,kh5,kh6),'ro')\n",
      "#ax1.set_yscale('symlog')\n",
      "#ax1.set_xscale('symlog')\n",
      "plt.xlabel('Kv')\n",
      "\n",
      "plt.ylabel('Khnum')\n",
      "    \n",
      "plt.subplot(1,2,2)\n",
      "ax2=plt.gca()\n",
      "\n",
      "ax2.plot()\n",
      "ax2.plot()\n",
      "#ax.plot((10E-7,10E-3,10E-2,10E-1,1.0,10.0),(estv1.params,estv2.params,estv3.params,estv4.params,estv5.params,estv6.params))\n",
      "ax2.plot((10**-7,10**-3,10**-2,10**-1,1.0,10.0),(kv1,kv2,kv3,kv4,kv5,kv6),'bo')\n",
      "\n",
      "#ax2.set_yscale('symlog')\n",
      "#ax2.set_xscale('symlog')\n",
      "\n",
      "plt.xlabel('Kv')\n",
      "\n",
      "plt.ylabel('Kvnum')\n",
      "   \n"
     ],
     "language": "python",
     "metadata": {},
     "outputs": [
      {
       "metadata": {},
       "output_type": "pyout",
       "prompt_number": 15,
       "text": [
        "<matplotlib.text.Text at 0x57f7810>"
       ]
      },
      {
       "metadata": {},
       "output_type": "display_data",
       "png": "[encoded data removed]",
       "text": [
        "<matplotlib.figure.Figure at 0x54fa610>"
       ]
      }
     ],
     "prompt_number": 15
    },
    {
     "cell_type": "code",
     "collapsed": false,
     "input": [],
     "language": "python",
     "metadata": {},
     "outputs": [],
     "prompt_number": 15
    },
    {
     "cell_type": "code",
     "collapsed": false,
     "input": [
      "\n"
     ],
     "language": "python",
     "metadata": {},
     "outputs": [],
     "prompt_number": 15
    },
    {
     "cell_type": "code",
     "collapsed": false,
     "input": [],
     "language": "python",
     "metadata": {},
     "outputs": [],
     "prompt_number": 15
    },
    {
     "cell_type": "code",
     "collapsed": false,
     "input": [],
     "language": "python",
     "metadata": {},
     "outputs": [],
     "prompt_number": 15
    }
   ],
   "metadata": {}
  }
 ]
}