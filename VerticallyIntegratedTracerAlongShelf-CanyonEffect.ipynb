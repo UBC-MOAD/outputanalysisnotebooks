{
 "cells": [
  {
   "cell_type": "markdown",
   "metadata": {},
   "source": [
    "## Depth integrated tracer on shelf per km along shelf\n",
    "This notebook has plots for showing the canyon effect on total tracer mass on shelf and volume of HCW along the coast for all runs. **Canyon effect** is defined as the residual from subtracting a flat shelf run from a canyon run with the exact same configuration (other than not having a canyon). "
   ]
  },
  {
   "cell_type": "code",
   "execution_count": 2,
   "metadata": {
    "collapsed": false
   },
   "outputs": [],
   "source": [
    "#import gsw as sw # Gibbs seawater package\n",
    "\n",
    "from math import *\n",
    "\n",
    "import matplotlib.pyplot as plt\n",
    "\n",
    "import matplotlib.colors as mcolors\n",
    "\n",
    "%matplotlib inline\n",
    "\n",
    "#from MITgcmutils import rdmds\n",
    "\n",
    "from netCDF4 import Dataset\n",
    "\n",
    "import numpy as np\n",
    "\n",
    "import os \n",
    "\n",
    "import pandas as pd\n",
    "\n",
    "import pylab as pl\n",
    "\n",
    "import scipy.io\n",
    "\n",
    "import scipy as spy\n",
    "\n",
    "import seaborn as sns\n",
    "\n",
    "import sys"
   ]
  },
  {
   "cell_type": "code",
   "execution_count": 3,
   "metadata": {
    "collapsed": false
   },
   "outputs": [],
   "source": [
    "lib_path = os.path.abspath('../../Building_canyon/BuildCanyon/PythonModulesMITgcm') # Add absolute path to my python scripts\n",
    "#lib_path = os.path.abspath('../BuildCanyon/PythonModulesMITgcm') # Add absolute path to my python scripts\n",
    "\n",
    "sys.path.append(lib_path)\n",
    "\n",
    "import ReadOutTools_MITgcm as rout \n",
    "import MetricsPythonTools as mpt\n"
   ]
  },
  {
   "cell_type": "code",
   "execution_count": 4,
   "metadata": {
    "collapsed": false
   },
   "outputs": [],
   "source": [
    "sns.set()\n",
    "sns.set_style('white')\n",
    "sns.set_context('talk')"
   ]
  },
  {
   "cell_type": "code",
   "execution_count": 5,
   "metadata": {
    "collapsed": true
   },
   "outputs": [],
   "source": [
    "# plotting functions\n",
    "def plotCanyonPos(ax,UpX,DnX):\n",
    "    ax.axvline(UpX,color='0.70',linestyle='--')\n",
    "    ax.axvline(DnX,color='0.70',linestyle='--')\n"
   ]
  },
  {
   "cell_type": "code",
   "execution_count": 6,
   "metadata": {
    "collapsed": false
   },
   "outputs": [
    {
     "name": "stdout",
     "output_type": "stream",
     "text": [
      "<type 'netCDF4.Dimension'>: name = 'Z', size = 90\n",
      "\n",
      "<type 'netCDF4.Dimension'>: name = 'Zp1', size = 91\n",
      "\n",
      "<type 'netCDF4.Dimension'>: name = 'Zu', size = 90\n",
      "\n",
      "<type 'netCDF4.Dimension'>: name = 'Zl', size = 90\n",
      "\n",
      "<type 'netCDF4.Dimension'>: name = 'X', size = 360\n",
      "\n",
      "<type 'netCDF4.Dimension'>: name = 'Y', size = 360\n",
      "\n",
      "<type 'netCDF4.Dimension'>: name = 'Xp1', size = 361\n",
      "\n",
      "<type 'netCDF4.Dimension'>: name = 'Yp1', size = 361\n",
      "\n"
     ]
    }
   ],
   "source": [
    "#Exp\n",
    "CGrid = '/ocean/kramosmu/MITgcm/TracerExperiments/CNTDIFF/run03/gridGlob.nc' \n",
    "CGridOut = Dataset(CGrid)\n",
    "for dimobj in CGridOut.dimensions.values():\n",
    "    print dimobj\n",
    "\n",
    "CGridNoC = '/ocean/kramosmu/MITgcm/TracerExperiments/CNTDIFF/run07/gridGlob.nc' \n",
    "CGridNoCOut = Dataset(CGridNoC)\n",
    "#------------------------------------------------------------------------------------\n",
    "Ptracers = '/ocean/kramosmu/MITgcm/TracerExperiments/CNTDIFF/run03/ptracersGlob.nc' \n",
    "PtracersOut = Dataset(Ptracers)\n",
    "\n",
    "PtracersNoC = '/ocean/kramosmu/MITgcm/TracerExperiments/CNTDIFF/run07/ptracersGlob.nc' #No canyon\n",
    "PtracersOutNoC = Dataset(PtracersNoC)\n",
    "#------------------------------------ Kv ----------------------------------------------\n",
    "Ptracers11 = '/ocean/kramosmu/MITgcm/TracerExperiments/CNTDIFF/run11/ptracersGlob.nc' \n",
    "Ptracers12 = '/ocean/kramosmu/MITgcm/TracerExperiments/CNTDIFF/run12/ptracersGlob.nc' \n",
    "\n",
    "Ptracers24 = '/ocean/kramosmu/MITgcm/TracerExperiments/CNTDIFF/run24/ptracersGlob.nc' #No canyon\n",
    "Ptracers25 = '/ocean/kramosmu/MITgcm/TracerExperiments/CNTDIFF/run25/ptracersGlob.nc' #No canyon\n",
    "#----------------------------------- N -----------------------------------------------\n",
    "Ptracers14 = '/ocean/kramosmu/MITgcm/TracerExperiments/CNTDIFF/run14/ptracersGlob.nc' \n",
    "Ptracers15 = '/ocean/kramosmu/MITgcm/TracerExperiments/CNTDIFF/run15/ptracersGlob.nc' \n",
    "Ptracers16 = '/ocean/kramosmu/MITgcm/TracerExperiments/CNTDIFF/run16/ptracersGlob.nc' \n",
    "Ptracers17 = '/ocean/kramosmu/MITgcm/TracerExperiments/CNTDIFF/run17/ptracersGlob.nc' \n",
    "\n",
    "Ptracers26 = '/ocean/kramosmu/MITgcm/TracerExperiments/CNTDIFF/run26/ptracersGlob.nc' #No canyon\n",
    "Ptracers27 = '/ocean/kramosmu/MITgcm/TracerExperiments/CNTDIFF/run27/ptracersGlob.nc' #No canyon\n",
    "Ptracers28 = '/ocean/kramosmu/MITgcm/TracerExperiments/CNTDIFF/run28/ptracersGlob.nc' #No canyon\n",
    "Ptracers30 = '/ocean/kramosmu/MITgcm/TracerExperiments/CNTDIFF/run30/ptracersGlob.nc' #No canyon\n",
    "\n",
    "#---------------------------------- f --------------------------------------------------\n",
    "Ptracers18 = '/ocean/kramosmu/MITgcm/TracerExperiments/CNTDIFF/run18/ptracersGlob.nc' \n",
    "Ptracers19 = '/ocean/kramosmu/MITgcm/TracerExperiments/CNTDIFF/run19/ptracersGlob.nc' \n",
    "\n",
    "Ptracers22 = '/ocean/kramosmu/MITgcm/TracerExperiments/CNTDIFF/run22/ptracersGlob.nc' #No canyon\n",
    "Ptracers23 = '/ocean/kramosmu/MITgcm/TracerExperiments/CNTDIFF/run23/ptracersGlob.nc' #No canyon\n",
    "#---------------------------------- Kv 3D ----------------------------------------------\n",
    "Ptracers043D = '/ocean/kramosmu/MITgcm/TracerExperiments/3DDIFF/run04/ptracersGlob.nc' \n",
    "Ptracers053D = '/ocean/kramosmu/MITgcm/TracerExperiments/3DDIFF/run05/ptracersGlob.nc' \n",
    "Ptracers063D = '/ocean/kramosmu/MITgcm/TracerExperiments/3DDIFF/run06/ptracersGlob.nc' \n",
    "Ptracers073D = '/ocean/kramosmu/MITgcm/TracerExperiments/3DDIFF/run07/ptracersGlob.nc' \n",
    "\n",
    "\n",
    "State = '/ocean/kramosmu/MITgcm/TracerExperiments/CNTDIFF/run03/stateGlob.nc' \n",
    "StateNoC = '/ocean/kramosmu/MITgcm/TracerExperiments/CNTDIFF/run07/stateGlob.nc' \n",
    "\n",
    "\n"
   ]
  },
  {
   "cell_type": "code",
   "execution_count": 7,
   "metadata": {
    "collapsed": false
   },
   "outputs": [],
   "source": [
    "# General input\n",
    "\n",
    "nx = 360\n",
    "ny = 360\n",
    "nz = 90\n",
    "nt = 19 # t dimension size \n",
    "numTr = 22 # number of tracers in total (CNT =22, 3D = 4, total = 19)\n",
    "\n",
    "rc = CGridNoCOut.variables['RC']\n",
    "dxf = CGridNoCOut.variables['dxF']\n",
    "xc = rout.getField(CGridNoC, 'XC') # x coords tracer cells\n",
    "yc = rout.getField(CGridNoC, 'YC') # y coords tracer cells\n",
    "\n",
    "rA = rout.getField(CGridNoC, 'rA') \n",
    "\n",
    "drF = CGridNoCOut.variables['drF'] # vertical distance between faces\n",
    "drC = CGridNoCOut.variables['drC'] # vertical distance between centers\n",
    "\n",
    "hFacC = rout.getField(CGridNoC, 'HFacC')\n",
    "mask_NoC = rout.getMask(CGridNoC, 'HFacC')\n",
    "\n",
    "times = np.arange(0,nt,1)\n",
    "\n",
    "#print(drC[:])\n",
    "#print(np.shape(drC))"
   ]
  },
  {
   "cell_type": "code",
   "execution_count": 8,
   "metadata": {
    "collapsed": false
   },
   "outputs": [],
   "source": [
    "def HCW_Tracer_AlongShelf(Tr,MaskC,nzlim,rA,hFacC,drF,yin,zfin,xi,yi):\n",
    "  '''\n",
    "  INPUT----------------------------------------------------------------------------------------------------------------\n",
    "    Tr    : Array with concentration values for a tracer. Until this function is more general, this should be size 19x90x360x360\n",
    "    MaskC : Land mask for tracer\n",
    "    nzlim : The nz index under which to look for water properties\n",
    "    rA    : Area of cell faces at C points (360x360)\n",
    "    fFacC : Fraction of open cell (90x360x360)\n",
    "    drF   : Distance between cell faces (90)\n",
    "    yin   : across-shore index of shelf break\n",
    "    zfin  : shelf break index + 1 \n",
    "    xi    : initial profile x index\n",
    "    yi    : initial profile y index\n",
    "    \n",
    "    OUTPUT----------------------------------------------------------------------------------------------------------------\n",
    "    VolWaterHighConc =  Array with the volume of water over the shelf [t,360] at every time output.\n",
    "    Total_Tracer =  Array with the mass of tracer (m^3*[C]*l/m^3) at each x-position over the shelf [t,360] at \n",
    "                    every time output. \n",
    "                                                \n",
    "  -----------------------------------------------------------------------------------------------------------------------\n",
    "  '''\n",
    "  maskExp = mpt.maskExpand(MaskC,Tr)\n",
    "\n",
    "  TrMask=np.ma.array(Tr,mask=maskExp)   \n",
    "    \n",
    "  trlim = TrMask[0,nzlim,yi,xi]\n",
    "    \n",
    "  print('tracer limit concentration is: ',trlim)\n",
    "    \n",
    "    \n",
    "  # mask cells with tracer concentration < trlim on shelf\n",
    "  HighConc_Masked = np.ma.masked_less(TrMask[:,:zfin,yin:,:], trlim) \n",
    "  HighConc_Mask = HighConc_Masked.mask\n",
    "    \n",
    "  #Get volume of water of cells with relatively high concentration\n",
    "  rA_exp = np.expand_dims(rA[yin:,:],0)\n",
    "  drF_exp = np.expand_dims(np.expand_dims(drF[:zfin],1),1)\n",
    "  rA_exp = rA_exp + np.zeros(hFacC[:zfin,yin:,:].shape)\n",
    "  drF_exp = drF_exp + np.zeros(hFacC[:zfin,yin:,:].shape)\n",
    "    \n",
    "  ShelfVolume = hFacC[:zfin,yin:,:]*drF_exp*rA_exp\n",
    "  ShelfVolume_exp = np.expand_dims(ShelfVolume,0)\n",
    "  ShelfVolume_exp = ShelfVolume_exp + np.zeros(HighConc_Mask.shape)\n",
    "    \n",
    "  HighConc_CellVol = np.ma.masked_array(ShelfVolume_exp,mask = HighConc_Mask) \n",
    "  VolWaterHighConc =np.ma.sum(np.ma.sum(HighConc_CellVol,axis = 1),axis=1)\n",
    "    \n",
    "   #Get total mass of tracer on shelf\n",
    "  Total_Tracer = np.ma.sum(np.ma.sum(ShelfVolume_exp*TrMask[:,:zfin,yin:,:]*1000.0,axis = 1),axis=1)\n",
    "   # 1 m^3 = 1000 l\n",
    "    \n",
    "  return (VolWaterHighConc, Total_Tracer)"
   ]
  },
  {
   "cell_type": "code",
   "execution_count": 9,
   "metadata": {
    "collapsed": false
   },
   "outputs": [],
   "source": [
    "Tra = rout.getField(Ptracers, 'Tr1')\n",
    "Trb = rout.getField(PtracersNoC, 'Tr1')"
   ]
  },
  {
   "cell_type": "code",
   "execution_count": null,
   "metadata": {
    "collapsed": false
   },
   "outputs": [
    {
     "name": "stdout",
     "output_type": "stream",
     "text": [
      "('tracer limit concentration is: ', 7.3974895)\n",
      "('tracer limit concentration is: ', 7.3974895)\n"
     ]
    }
   ],
   "source": [
    "HCW,TrMass = HCW_Tracer_AlongShelf(Tra,mask_NoC,30,rA,hFacC,drF,227,30,180,50)\n",
    "HCWNoC,TrMassNoC = HCW_Tracer_AlongShelf(Trb,mask_NoC,30,rA,hFacC,drF,227,30,180,50)"
   ]
  },
  {
   "cell_type": "markdown",
   "metadata": {},
   "source": [
    "## Changing Diffusivity"
   ]
  },
  {
   "cell_type": "code",
   "execution_count": null,
   "metadata": {
    "collapsed": false
   },
   "outputs": [],
   "source": [
    "Tra = rout.getField(Ptracers11, 'Tr2')\n",
    "Trb = rout.getField(Ptracers12, 'Tr3')\n",
    "Trc = rout.getField(Ptracers24, 'Tr1')\n",
    "Trd = rout.getField(Ptracers25, 'Tr1')\n",
    "Tre = rout.getField(Ptracers17, 'Tr1')\n",
    "Trf = rout.getField(Ptracers30, 'Tr1')"
   ]
  },
  {
   "cell_type": "code",
   "execution_count": null,
   "metadata": {
    "collapsed": false
   },
   "outputs": [],
   "source": [
    "HCW11,TrMass11 = HCW_Tracer_AlongShelf(Tra,mask_NoC,30,rA,hFacC,drF,227,30,180,50)\n",
    "HCW12,TrMass12 = HCW_Tracer_AlongShelf(Trb,mask_NoC,30,rA,hFacC,drF,227,30,180,50)\n",
    "HCW17,TrMass17 = HCW_Tracer_AlongShelf(Tre,mask_NoC,30,rA,hFacC,drF,227,30,180,50)\n",
    "\n",
    "HCW24,TrMass24 = HCW_Tracer_AlongShelf(Trc,mask_NoC,30,rA,hFacC,drF,227,30,180,50)\n",
    "HCW25,TrMass25 = HCW_Tracer_AlongShelf(Trd,mask_NoC,30,rA,hFacC,drF,227,30,180,50)\n",
    "HCW30,TrMass30 = HCW_Tracer_AlongShelf(Trf,mask_NoC,30,rA,hFacC,drF,227,30,180,50)"
   ]
  },
  {
   "cell_type": "code",
   "execution_count": null,
   "metadata": {
    "collapsed": false
   },
   "outputs": [],
   "source": [
    "fig,((ax1,ax2,ax3),(ax4,ax5,ax6),(ax7,ax8,ax9)) = plt.subplots(3,3, figsize = (14,12),sharex=True, sharey=True)\n",
    "\n",
    "axlist = [ax1,ax2,ax3,ax4,ax5,ax6,ax7,ax8,ax9]\n",
    "\n",
    "times = [2,4,6,8,10,12,14,16,18]\n",
    "for ii,ax in zip(times,axlist):\n",
    "    ax.axhline(0,color='0.70',linestyle='-')\n",
    "    ax.plot(xc[1,:]/1000,(HCW17[ii,:]-HCW30[ii,:])/(1000*dxf[0,:]),sns.xkcd_rgb[\"forest\"],label='$\\kappa_v=10^{-7}m^2s^{-1}$')\n",
    "    ax.plot(xc[1,:]/1000,(HCW[ii,:]-HCWNoC[ii,:])/(1000*dxf[0,:]),sns.xkcd_rgb[\"kelly green\"],label='Base $\\kappa_v=10^{-5}m^2s^{-1}$')\n",
    "    ax.plot(xc[1,:]/1000,(HCW11[ii,:]-HCW24[ii,:])/(1000*dxf[0,:]),sns.xkcd_rgb[\"leaf\"],label='$\\kappa_v=10^{-4}m^2s^{-1}$')\n",
    "    ax.plot(xc[1,:]/1000,(HCW12[ii,:]-HCW25[ii,:])/(1000*dxf[0,:]),sns.xkcd_rgb[\"jade\"],label='$\\kappa_v=10^{-3}m^2s^{-1}$')\n",
    "    ax.set_title('day %d' %(ii/2))\n",
    "    plotCanyonPos(ax,xc[1,120]/1000,xc[1,240]/1000)\n",
    "\n",
    "ax1.legend(loc=0)\n",
    "ax8.set_xlabel('Alongshore distance (km)')\n",
    "ax4.set_ylabel('Volume HCW per m ($10^3$ $m^3$)')\n",
    "\n",
    "    \n",
    "plt.tight_layout()"
   ]
  },
  {
   "cell_type": "code",
   "execution_count": null,
   "metadata": {
    "collapsed": false
   },
   "outputs": [],
   "source": [
    "fig,((ax1,ax2,ax3),(ax4,ax5,ax6),(ax7,ax8,ax9)) = plt.subplots(3,3, figsize = (14,12),sharex=True, sharey=True)\n",
    "\n",
    "axlist = [ax1,ax2,ax3,ax4,ax5,ax6,ax7,ax8,ax9]\n",
    "\n",
    "times = [2,4,6,8,10,12,14,16,18]\n",
    "for ii,ax in zip(times,axlist):\n",
    "    ax.axhline(0,color='0.70',linestyle='-')\n",
    "    ax.plot(xc[1,:]/1000,(TrMass17[ii,:]-TrMass30[ii,:])/(1000000*dxf[0,:]),sns.xkcd_rgb[\"forest\"],label='$\\kappa_v=10^{-7}m^2s^{-1}$')\n",
    "    ax.plot(xc[1,:]/1000,(TrMass[ii,:]-TrMassNoC[ii,:])/(1000000*dxf[0,:]),sns.xkcd_rgb[\"kelly green\"],label='Base $\\kappa_v=10^{-5}m^2s^{-1}$')\n",
    "    ax.plot(xc[1,:]/1000,(TrMass11[ii,:]-TrMass24[ii,:])/(1000000*dxf[0,:]),sns.xkcd_rgb[\"leaf\"],label='$\\kappa_v=10^{-4}m^2s^{-1}$')\n",
    "    ax.plot(xc[1,:]/1000,(TrMass12[ii,:]-TrMass25[ii,:])/(1000000*dxf[0,:]),sns.xkcd_rgb[\"jade\"],label='$\\kappa_v=10^{-3}m^2s^{-1}$')\n",
    "   \n",
    "    \n",
    "    ax.set_title('day %d' %(ii/2))\n",
    "    plotCanyonPos(ax,xc[1,120]/1000,xc[1,240]/1000)\n",
    "\n",
    "ax1.legend(loc=0)\n",
    "ax8.set_xlabel('Alongshore distance (km)')\n",
    "ax4.set_ylabel('Tracer mass per m ($10^6$ $[C]m^3$)')\n",
    "\n",
    "plt.tight_layout()    \n"
   ]
  },
  {
   "cell_type": "code",
   "execution_count": null,
   "metadata": {
    "collapsed": false
   },
   "outputs": [],
   "source": [
    "fig,(ax1,ax2) = plt.subplots(2,1, figsize = (10,10),sharex=True)\n",
    "\n",
    "tt = np.arange(19)\n",
    "\n",
    "ax1.plot(tt/2.,np.sum(TrMass17-TrMass30,axis=1)/1.E14,sns.xkcd_rgb[\"forest\"],marker = 'o',label='$\\kappa_v=10^{-7}m^2s^{-1}$')\n",
    "ax1.plot(tt/2.,np.sum(TrMass-TrMassNoC,axis=1)/1.E14,sns.xkcd_rgb[\"kelly green\"],marker = 'o',label='Base $\\kappa_v=10^{-5}m^2s^{-1}$')\n",
    "ax1.plot(tt/2.,np.sum(TrMass11-TrMass24,axis=1)/1.E14,sns.xkcd_rgb[\"leaf\"],marker = 'o',label='$\\kappa_v=10^{-4}m^2s^{-1}$')\n",
    "ax1.plot(tt/2.,np.sum(TrMass12-TrMass25,axis=1)/1.E14,sns.xkcd_rgb[\"jade\"],marker = 'o',label='$\\kappa_v=10^{-3}m^2s^{-1}$')\n",
    "   \n",
    "ax2.plot(tt/2.,np.sum(HCW17-HCW30,axis=1)/1.E10,sns.xkcd_rgb[\"forest\"],marker = 'o',label='$\\kappa_v=10^{-7}m^2s^{-1}$')\n",
    "ax2.plot(tt/2.,np.sum(HCW-HCWNoC,axis=1)/1.E10,sns.xkcd_rgb[\"kelly green\"],marker = 'o',label='Base $\\kappa_v=10^{-5}m^2s^{-1}$')\n",
    "ax2.plot(tt/2.,np.sum(HCW11-HCW24,axis=1)/1.E10,sns.xkcd_rgb[\"leaf\"],marker = 'o',label='$\\kappa_v=10^{-4}m^2s^{-1}$')\n",
    "ax2.plot(tt/2.,np.sum(HCW12-HCW25,axis=1)/1.E10,sns.xkcd_rgb[\"jade\"],marker = 'o',label='$\\kappa_v=10^{-3}m^2s^{-1}$')\n",
    "  \n",
    "    \n",
    "ax1.legend(loc=0)\n",
    "ax2.set_xlabel('Day')\n",
    "ax1.set_ylabel('Tracer mass per m ($10^{14}$ $[C]m^3$)')\n",
    "ax2.set_ylabel('HCW volume per m ($10^{10}$ $m^3$)')\n",
    "plt.tight_layout()\n",
    "\n",
    "plt.show()\n",
    "\n"
   ]
  },
  {
   "cell_type": "markdown",
   "metadata": {
    "collapsed": false
   },
   "source": [
    "## Changing geography of diapycnal diffusivity "
   ]
  },
  {
   "cell_type": "code",
   "execution_count": null,
   "metadata": {
    "collapsed": false
   },
   "outputs": [],
   "source": [
    "Tra = rout.getField(Ptracers043D, 'Tr1')\n",
    "Trb= rout.getField(Ptracers053D, 'Tr1')\n",
    "Trc = rout.getField(Ptracers063D, 'Tr1')\n",
    "Trd = rout.getField(Ptracers073D, 'Tr1')"
   ]
  },
  {
   "cell_type": "code",
   "execution_count": null,
   "metadata": {
    "collapsed": false
   },
   "outputs": [],
   "source": [
    "HCW043D,TrMass043D = HCW_Tracer_AlongShelf(Tra,mask_NoC,30,rA,hFacC,drF,227,30,180,50)\n",
    "HCW053D,TrMass053D = HCW_Tracer_AlongShelf(Trb,mask_NoC,30,rA,hFacC,drF,227,30,180,50)\n",
    "HCW063D,TrMass063D = HCW_Tracer_AlongShelf(Trc,mask_NoC,30,rA,hFacC,drF,227,30,180,50)\n",
    "HCW073D,TrMass073D = HCW_Tracer_AlongShelf(Trd,mask_NoC,30,rA,hFacC,drF,227,30,180,50)"
   ]
  },
  {
   "cell_type": "code",
   "execution_count": null,
   "metadata": {
    "collapsed": false
   },
   "outputs": [],
   "source": [
    "fig,((ax1,ax2,ax3),(ax4,ax5,ax6),(ax7,ax8,ax9)) = plt.subplots(3,3, figsize = (14,12),sharex=True, sharey=True)\n",
    "\n",
    "axlist = [ax1,ax2,ax3,ax4,ax5,ax6,ax7,ax8,ax9]\n",
    "\n",
    "times = [2,4,6,8,10,12,14,16,18]\n",
    "for ii,ax in zip(times,axlist):\n",
    "    ax.axhline(0,color='0.70',linestyle='-')\n",
    "    ax.plot(xc[1,:]/1000,(HCW[ii,:]-HCWNoC[ii,:])/(1000*dxf[0,:]),sns.xkcd_rgb[\"kelly green\"],label='Base $\\kappa_v=10^{-5}m^2s^{-1}$')\n",
    "    ax.plot(xc[1,:]/1000,(HCW043D[ii,:]-HCW30[ii,:])/(1000*dxf[0,:]),sns.xkcd_rgb[\"royal purple\"],label='$\\kappa_vin=10^{-3},\\kappa_vout=10^{-7}m^2s^{-1}$')\n",
    "    ax.plot(xc[1,:]/1000,(HCW053D[ii,:]-HCW30[ii,:])/(1000*dxf[0,:]),sns.xkcd_rgb[\"muted purple\"],label='$\\kappa_vin=10^{-4},\\kappa_vout=10^{-7}m^2s^{-1}$')\n",
    "    ax.plot(xc[1,:]/1000,(HCW063D[ii,:]-HCWNoC[ii,:])/(1000*dxf[0,:]),sns.xkcd_rgb[\"dark hot pink\"],label='$\\kappa_vin=10^{-3},\\kappa_vout=10^{-5}m^2s^{-1}$')\n",
    "    ax.plot(xc[1,:]/1000,(HCW073D[ii,:]-HCWNoC[ii,:])/(1000*dxf[0,:]),sns.xkcd_rgb[\"muted pink\"],label='$\\kappa_vin=10^{-4},\\kappa_vout=10^{-5}m^2s^{-1}$')\n",
    "    \n",
    "    \n",
    "    ax.set_title('day %d' %(ii/2))\n",
    "    plotCanyonPos(ax,xc[1,120]/1000,xc[1,240]/1000)\n",
    "\n",
    "ax1.legend(loc=0)\n",
    "ax8.set_xlabel('Alongshore distance (km)')\n",
    "ax4.set_ylabel('Volume HCW per m ($10^3$ $m^3$)')\n",
    "\n",
    "plt.tight_layout()    \n"
   ]
  },
  {
   "cell_type": "code",
   "execution_count": null,
   "metadata": {
    "collapsed": false
   },
   "outputs": [],
   "source": [
    "fig,((ax1,ax2,ax3),(ax4,ax5,ax6),(ax7,ax8,ax9)) = plt.subplots(3,3, figsize = (14,12),sharex=True, sharey=True)\n",
    "\n",
    "axlist = [ax1,ax2,ax3,ax4,ax5,ax6,ax7,ax8,ax9]\n",
    "\n",
    "times = [2,4,6,8,10,12,14,16,18]\n",
    "for ii,ax in zip(times,axlist):\n",
    "    ax.axhline(0,color='0.70',linestyle='-')\n",
    "    ax.plot(xc[1,:]/1000,(TrMass[ii,:]-TrMassNoC[ii,:])/(1000000*dxf[0,:]),sns.xkcd_rgb[\"kelly green\"],label='Base $\\kappa_v=10^{-5}m^2s^{-1}$')\n",
    "    ax.plot(xc[1,:]/1000,(TrMass043D[ii,:]-TrMass30[ii,:])/(1000000*dxf[0,:]),sns.xkcd_rgb[\"royal purple\"],label='$\\kappa_vin=10^{-3},\\kappa_vout=10^{-7}m^2s^{-1}$')\n",
    "    ax.plot(xc[1,:]/1000,(TrMass053D[ii,:]-TrMass30[ii,:])/(1000000*dxf[0,:]),sns.xkcd_rgb[\"muted purple\"],label='$\\kappa_vin=10^{-4},\\kappa_vout=10^{-7}m^2s^{-1}$')\n",
    "    ax.plot(xc[1,:]/1000,(TrMass063D[ii,:]-TrMassNoC[ii,:])/(1000000*dxf[0,:]),sns.xkcd_rgb[\"dark hot pink\"],label='$\\kappa_vin=10^{-3},\\kappa_vout=10^{-5}m^2s^{-1}$')\n",
    "    ax.plot(xc[1,:]/1000,(TrMass073D[ii,:]-TrMassNoC[ii,:])/(1000000*dxf[0,:]),sns.xkcd_rgb[\"muted pink\"],label='$\\kappa_vin=10^{-4},\\kappa_vout=10^{-5}m^2s^{-1}$')\n",
    "    \n",
    "    \n",
    "    ax.set_title('day %d' %(ii/2))\n",
    "    plotCanyonPos(ax,xc[1,120]/1000,xc[1,240]/1000)\n",
    "\n",
    "ax1.legend(loc=0)\n",
    "ax8.set_xlabel('Alongshore distance (km)')\n",
    "ax4.set_ylabel('Tracer mass per m ($10^6$ $[C]m^3$)')\n",
    "\n",
    "    \n",
    "plt.tight_layout()"
   ]
  },
  {
   "cell_type": "code",
   "execution_count": null,
   "metadata": {
    "collapsed": false
   },
   "outputs": [],
   "source": [
    "fig,(ax1,ax2) = plt.subplots(2,1, figsize = (10,10),sharex=True)\n",
    "\n",
    "tt = np.arange(19)\n",
    "\n",
    "ax1.plot(tt/2.,np.sum(TrMass-TrMassNoC,axis=1)/1.E14,sns.xkcd_rgb[\"kelly green\"],marker = 'o',label='Base $\\kappa_v=10^{-5}m^2s^{-1}$')\n",
    "ax1.plot(tt/2.,np.sum(TrMass043D-TrMass30,axis=1)/1.E14,sns.xkcd_rgb[\"royal purple\"],marker = 'o',label='$\\kappa_vin=10^{-3},\\kappa_vout=10^{-7}m^2s^{-1}$')\n",
    "ax1.plot(tt/2.,np.sum(TrMass053D-TrMass30,axis=1)/1.E14,sns.xkcd_rgb[\"muted purple\"],marker = 'o',label='$\\kappa_vin=10^{-4},\\kappa_vout=10^{-7}m^2s^{-1}$')\n",
    "ax1.plot(tt/2.,np.sum(TrMass063D-TrMassNoC,axis=1)/1.E14,sns.xkcd_rgb[\"dark hot pink\"],marker = 'o',label='$\\kappa_vin=10^{-3},\\kappa_vout=10^{-5}m^2s^{-1}$')\n",
    "ax1.plot(tt/2.,np.sum(TrMass073D-TrMassNoC,axis=1)/1.E14,sns.xkcd_rgb[\"muted pink\"],marker = 'o',label='$\\kappa_vin=10^{-4},\\kappa_vout=10^{-5}m^2s^{-1}$')\n",
    "   \n",
    "ax2.plot(tt/2.,np.sum(HCW-HCWNoC,axis=1)/1.E10,sns.xkcd_rgb[\"kelly green\"],marker = 'o',label='Base $\\kappa_v=10^{-5}m^2s^{-1}$')\n",
    "ax2.plot(tt/2.,np.sum(HCW043D-HCW30,axis=1)/1.E10,sns.xkcd_rgb[\"royal purple\"],marker = 'o',label='$\\kappa_vin=10^{-3},\\kappa_vout=10^{-7}m^2s^{-1}$')\n",
    "ax2.plot(tt/2.,np.sum(HCW053D-HCW30,axis=1)/1.E10,sns.xkcd_rgb[\"muted purple\"],marker = 'o',label='$\\kappa_vin=10^{-4},\\kappa_vout=10^{-7}m^2s^{-1}$')\n",
    "ax2.plot(tt/2.,np.sum(HCW063D-HCWNoC,axis=1)/1.E10,sns.xkcd_rgb[\"dark hot pink\"],marker = 'o',label='$\\kappa_vin=10^{-3},\\kappa_vout=10^{-5}m^2s^{-1}$')\n",
    "ax2.plot(tt/2.,np.sum(HCW073D-HCWNoC,axis=1)/1.E10,sns.xkcd_rgb[\"muted pink\"],marker = 'o',label='$\\kappa_vin=10^{-4},\\kappa_vout=10^{-5}m^2s^{-1}$')\n",
    "  \n",
    "    \n",
    "ax1.legend(loc=0)\n",
    "ax2.set_xlabel('Day')\n",
    "ax1.set_ylabel('Tracer mass per m ($10^{14}$ $[C]m^3$)')\n",
    "ax2.set_ylabel('HCW volume per m ($10^{10}$ $m^3$)')\n",
    "plt.tight_layout()\n",
    "\n",
    "plt.show()\n"
   ]
  },
  {
   "cell_type": "markdown",
   "metadata": {
    "collapsed": false
   },
   "source": [
    "## Changing initial stratification"
   ]
  },
  {
   "cell_type": "code",
   "execution_count": null,
   "metadata": {
    "collapsed": true
   },
   "outputs": [],
   "source": [
    "Tra = rout.getField(Ptracers14, 'Tr1')\n",
    "Trb = rout.getField(Ptracers15, 'Tr1')\n",
    "Trc = rout.getField(Ptracers16, 'Tr1')\n",
    "Trd = rout.getField(Ptracers26, 'Tr1')\n",
    "Tre = rout.getField(Ptracers27, 'Tr1')\n",
    "Trf = rout.getField(Ptracers28, 'Tr1')\n"
   ]
  },
  {
   "cell_type": "code",
   "execution_count": null,
   "metadata": {
    "collapsed": false
   },
   "outputs": [],
   "source": [
    "HCW14,TrMass14 = HCW_Tracer_AlongShelf(Tra,mask_NoC,30,rA,hFacC,drF,227,30,180,50)\n",
    "HCW15,TrMass15 = HCW_Tracer_AlongShelf(Trb,mask_NoC,30,rA,hFacC,drF,227,30,180,50)\n",
    "HCW16,TrMass16 = HCW_Tracer_AlongShelf(Trc,mask_NoC,30,rA,hFacC,drF,227,30,180,50)\n",
    "HCW26,TrMass26 = HCW_Tracer_AlongShelf(Trd,mask_NoC,30,rA,hFacC,drF,227,30,180,50)\n",
    "HCW27,TrMass27 = HCW_Tracer_AlongShelf(Tre,mask_NoC,30,rA,hFacC,drF,227,30,180,50)\n",
    "HCW28,TrMass28 = HCW_Tracer_AlongShelf(Trf,mask_NoC,30,rA,hFacC,drF,227,30,180,50)\n"
   ]
  },
  {
   "cell_type": "code",
   "execution_count": null,
   "metadata": {
    "collapsed": false
   },
   "outputs": [],
   "source": [
    "fig,((ax1,ax2,ax3),(ax4,ax5,ax6),(ax7,ax8,ax9)) = plt.subplots(3,3, figsize = (14,12),sharex=True, sharey=True)\n",
    "\n",
    "axlist = [ax1,ax2,ax3,ax4,ax5,ax6,ax7,ax8,ax9]\n",
    "\n",
    "times = [2,4,6,8,10,12,14,16,18]\n",
    "for ii,ax in zip(times,axlist):\n",
    "    \n",
    "    ax.axhline(0,color='0.70',linestyle='-')\n",
    "    ax.plot(xc[1,:]/1000,(HCW16[ii,:]-HCW28[ii,:])/(1000*dxf[0,:]),sns.xkcd_rgb[\"bright red\"],label='$N=3.0E-3s^{-1}$')\n",
    "    ax.plot(xc[1,:]/1000,(HCW14[ii,:]-HCW26[ii,:])/(1000*dxf[0,:]),sns.xkcd_rgb[\"blood orange\"],label='$N=3.9E-3s^{-1}$')\n",
    "    ax.plot(xc[1,:]/1000,(HCW[ii,:]-HCWNoC[ii,:])/(1000*dxf[0,:]),sns.xkcd_rgb[\"kelly green\"],label='Base $N=5.5E-3s^{-1}$')\n",
    "    ax.plot(xc[1,:]/1000,(HCW15[ii,:]-HCW27[ii,:])/(1000*dxf[0,:]),sns.xkcd_rgb[\"saffron\"],label='$N=6.3E-3s^{-1}$')\n",
    "    \n",
    "    \n",
    "    ax.set_title('day %d' %(ii/2))\n",
    "    plotCanyonPos(ax,xc[1,120]/1000,xc[1,240]/1000)\n",
    "\n",
    "ax1.legend(loc=0)\n",
    "ax8.set_xlabel('Alongshore distance (km)')\n",
    "ax4.set_ylabel('Volume HCW per m ($10^3$ $m^3$)')\n",
    "plt.tight_layout()\n"
   ]
  },
  {
   "cell_type": "code",
   "execution_count": null,
   "metadata": {
    "collapsed": false
   },
   "outputs": [],
   "source": [
    "fig,((ax1,ax2,ax3),(ax4,ax5,ax6),(ax7,ax8,ax9)) = plt.subplots(3,3, figsize = (14,12),sharex=True, sharey=True)\n",
    "\n",
    "axlist = [ax1,ax2,ax3,ax4,ax5,ax6,ax7,ax8,ax9]\n",
    "\n",
    "times = [2,4,6,8,10,12,14,16,18]\n",
    "for ii,ax in zip(times,axlist):\n",
    "    ax.axhline(0,color='0.70',linestyle='-')\n",
    "    ax.plot(xc[1,:]/1000,(TrMass16[ii,:]-TrMass28[ii,:])/(1000000*dxf[0,:]),sns.xkcd_rgb[\"bright red\"],label='$N=3.0E-3s^{-1}$')\n",
    "    ax.plot(xc[1,:]/1000,(TrMass14[ii,:]-TrMass26[ii,:])/(1000000*dxf[0,:]),sns.xkcd_rgb[\"blood orange\"],label='$N=3.9E-3s^{-1}$')\n",
    "    ax.plot(xc[1,:]/1000,(TrMass[ii,:]-TrMassNoC[ii,:])/(1000000*dxf[0,:]),sns.xkcd_rgb[\"kelly green\"],label='Base $N=5.5E-3s^{-1}$')\n",
    "    ax.plot(xc[1,:]/1000,(TrMass15[ii,:]-TrMass27[ii,:])/(1000000*dxf[0,:]),sns.xkcd_rgb[\"saffron\"],label='$N=6.3E-3s^{-1}$')\n",
    "   \n",
    "    \n",
    "    ax.set_title('day %d' %(ii/2))\n",
    "    plotCanyonPos(ax,xc[1,120]/1000,xc[1,240]/1000)\n",
    "\n",
    "ax1.legend(loc=0)\n",
    "ax8.set_xlabel('Alongshore distance (km)')\n",
    "ax4.set_ylabel('Tracer mass per m ($10^6$ $[C]m^3$)')\n",
    "\n",
    "plt.tight_layout()"
   ]
  },
  {
   "cell_type": "code",
   "execution_count": null,
   "metadata": {
    "collapsed": false
   },
   "outputs": [],
   "source": [
    "fig,(ax1,ax2) = plt.subplots(2,1, figsize = (10,10),sharex=True)\n",
    "\n",
    "tt = np.arange(19)\n",
    "\n",
    "ax1.plot(tt/2.,np.sum(TrMass16-TrMass28 ,axis=1)/1.E14,sns.xkcd_rgb[\"bright red\"],label='$N=3.0E-3s^{-1}$')\n",
    "ax1.plot(tt/2.,np.sum(TrMass14-TrMass26 ,axis=1)/1.E14,sns.xkcd_rgb[\"blood orange\"],label='$N=3.9E-3s^{-1}$')\n",
    "ax1.plot(tt/2.,np.sum(TrMass-TrMassNoC ,axis=1)/1.E14,sns.xkcd_rgb[\"kelly green\"],label='Base $N=5.5E-3s^{-1}$')\n",
    "ax1.plot(tt/2.,np.sum(TrMass15-TrMass27 ,axis=1)/1.E14,sns.xkcd_rgb[\"saffron\"],label='$N=6.3E-3s^{-1}$')\n",
    "   \n",
    "ax2.plot(tt/2.,np.sum(HCW16-HCW28 ,axis=1)/1.E10,sns.xkcd_rgb[\"bright red\"],label='$N=3.0E-3s^{-1}$')\n",
    "ax2.plot(tt/2.,np.sum(HCW14-HCW26 ,axis=1)/1.E10,sns.xkcd_rgb[\"blood orange\"],label='$N=3.9E-3s^{-1}$')\n",
    "ax2.plot(tt/2.,np.sum(HCW-HCWNoC ,axis=1)/1.E10,sns.xkcd_rgb[\"kelly green\"],label='Base $N=5.5E-3s^{-1}$')\n",
    "ax2.plot(tt/2.,np.sum(HCW15-HCW27 ,axis=1)/1.E10,sns.xkcd_rgb[\"saffron\"],label='$N=6.3E-3s^{-1}$')\n",
    "     \n",
    "    \n",
    "ax1.legend(loc=0)\n",
    "ax2.set_xlabel('Day')\n",
    "ax1.set_ylabel('Tracer mass per m ($10^{14}$ $[C]m^3$)')\n",
    "ax2.set_ylabel('HCW volume per m ($10^{10}$ $m^3$)')\n",
    "plt.tight_layout()\n",
    "plt.show()\n",
    "\n"
   ]
  },
  {
   "cell_type": "markdown",
   "metadata": {},
   "source": [
    "## Changing latitude (f)"
   ]
  },
  {
   "cell_type": "code",
   "execution_count": null,
   "metadata": {
    "collapsed": false
   },
   "outputs": [],
   "source": [
    "Tra = rout.getField(Ptracers18, 'Tr1')\n",
    "Trb = rout.getField(Ptracers19, 'Tr1')\n",
    "Trc = rout.getField(Ptracers22, 'Tr1')\n",
    "Trd = rout.getField(Ptracers23, 'Tr1')"
   ]
  },
  {
   "cell_type": "code",
   "execution_count": null,
   "metadata": {
    "collapsed": false
   },
   "outputs": [],
   "source": [
    "HCW18,TrMass18 = HCW_Tracer_AlongShelf(Tra,mask_NoC,30,rA,hFacC,drF,227,30,180,50)\n",
    "HCW19,TrMass19 = HCW_Tracer_AlongShelf(Trb,mask_NoC,30,rA,hFacC,drF,227,30,180,50)\n",
    "HCW22,TrMass22 = HCW_Tracer_AlongShelf(Trc,mask_NoC,30,rA,hFacC,drF,227,30,180,50)\n",
    "HCW23,TrMass23 = HCW_Tracer_AlongShelf(Trd,mask_NoC,30,rA,hFacC,drF,227,30,180,50)\n"
   ]
  },
  {
   "cell_type": "code",
   "execution_count": null,
   "metadata": {
    "collapsed": false
   },
   "outputs": [],
   "source": [
    "fig,((ax1,ax2,ax3),(ax4,ax5,ax6),(ax7,ax8,ax9)) = plt.subplots(3,3, figsize = (13,11),sharex=True, sharey=True)\n",
    "\n",
    "axlist = [ax1,ax2,ax3,ax4,ax5,ax6,ax7,ax8,ax9]\n",
    "\n",
    "times = [2,4,6,8,10,12,14,16,18]\n",
    "for ii,ax in zip(times,axlist):\n",
    "    ax.axhline(0,color='0.70',linestyle='-')\n",
    "    ax.plot(xc[1,:]/1000,(HCW[ii,:]-HCWNoC[ii,:])/(1000*dxf[0,:]),sns.xkcd_rgb[\"kelly green\"],label='Base $f=9.66E-5s^{-1}$')\n",
    "    ax.plot(xc[1,:]/1000,(HCW18[ii,:]-HCW22[ii,:])/(1000*dxf[0,:]),sns.xkcd_rgb[\"sapphire\"],label='$f=7.68E-5s^{-1}$')\n",
    "    ax.plot(xc[1,:]/1000,(HCW19[ii,:]-HCW23[ii,:])/(1000*dxf[0,:]),sns.xkcd_rgb[\"cerulean\"],label='$f=4.84E-5s^{-1}$')\n",
    "    \n",
    "    \n",
    "    ax.set_title('day %d' %(ii/2))\n",
    "    plotCanyonPos(ax,xc[1,120]/1000,xc[1,240]/1000)\n",
    "\n",
    "ax1.legend(loc=0)\n",
    "ax8.set_xlabel('Alongshore distance (km)')\n",
    "ax4.set_ylabel('Volume HCW per m ($10^3$ $m^3$)')\n",
    "plt.tight_layout()"
   ]
  },
  {
   "cell_type": "code",
   "execution_count": null,
   "metadata": {
    "collapsed": false
   },
   "outputs": [],
   "source": [
    "fig,((ax1,ax2,ax3),(ax4,ax5,ax6),(ax7,ax8,ax9)) = plt.subplots(3,3, figsize = (13,11),sharex=True, sharey=True)\n",
    "\n",
    "axlist = [ax1,ax2,ax3,ax4,ax5,ax6,ax7,ax8,ax9]\n",
    "\n",
    "times = [2,4,6,8,10,12,14,16,18]\n",
    "for ii,ax in zip(times,axlist):\n",
    "    ax.axhline(0,color='0.70',linestyle='-')\n",
    "    ax.plot(xc[1,:]/1000,(TrMass[ii,:]-TrMassNoC[ii,:])/(1000000*dxf[0,:]),sns.xkcd_rgb[\"kelly green\"],label='Base $f=9.66E-5s^{-1}$')\n",
    "    ax.plot(xc[1,:]/1000,(TrMass18[ii,:]-TrMass22[ii,:])/(1000000*dxf[0,:]),sns.xkcd_rgb[\"sapphire\"],label='$f=7.68E-5s^{-1}$')\n",
    "    ax.plot(xc[1,:]/1000,(TrMass19[ii,:]-TrMass23[ii,:])/(1000000*dxf[0,:]),sns.xkcd_rgb[\"cerulean\"],label='$f=4.84E-5s^{-1}$')\n",
    "    \n",
    "    \n",
    "    ax.set_title('day %d' %(ii/2))\n",
    "    plotCanyonPos(ax,xc[1,120]/1000,xc[1,240]/1000)\n",
    "\n",
    "ax1.legend(loc=0)\n",
    "ax8.set_xlabel('Alongshore distance (km)')\n",
    "ax4.set_ylabel('Tracer mass per m ($10^6$ $[C]m^3$)')\n",
    "\n",
    "plt.tight_layout()"
   ]
  },
  {
   "cell_type": "code",
   "execution_count": null,
   "metadata": {
    "collapsed": false
   },
   "outputs": [],
   "source": [
    "fig,(ax1,ax2) = plt.subplots(2,1, figsize = (10,10),sharex=True)\n",
    "\n",
    "tt = np.arange(19)\n",
    "\n",
    "\n",
    "ax2.plot(tt/2.,np.sum(HCW-HCWNoC,axis=1)/1.E10,sns.xkcd_rgb[\"kelly green\"],label='Base $f=9.66E-5s^{-1}$')\n",
    "ax2.plot(tt/2.,np.sum(HCW18-HCW22,axis=1)/1.E10,sns.xkcd_rgb[\"sapphire\"],label='$f=7.68E-5s^{-1}$')\n",
    "ax2.plot(tt/2.,np.sum(HCW19-HCW23,axis=1)/1.E10,sns.xkcd_rgb[\"cerulean\"],label='f=4.84E-5s^{-1}$')\n",
    " \n",
    "ax1.plot(tt/2.,np.sum(TrMass-TrMassNoC,axis=1)/1.E14,sns.xkcd_rgb[\"kelly green\"],label='Base $f=9.66E-5s^{-1}$')\n",
    "ax1.plot(tt/2.,np.sum(TrMass18-TrMass22,axis=1)/1.E14,sns.xkcd_rgb[\"sapphire\"],label='$f=7.68E-5s^{-1}$')\n",
    "ax1.plot(tt/2.,np.sum(TrMass19-TrMass23,axis=1)/1.E14,sns.xkcd_rgb[\"cerulean\"],label='$f=4.84E-5s^{-1}$')\n",
    "        \n",
    "    \n",
    "ax1.legend(loc=0)\n",
    "ax2.set_xlabel('Day')\n",
    "ax1.set_ylabel('Tracer mass per m ($10^{14}$ $[C]m^3$)')\n",
    "ax2.set_ylabel('HCW volume per m ($10^{10}$ $m^3$)')\n",
    "plt.tight_layout()\n",
    "plt.show()"
   ]
  },
  {
   "cell_type": "markdown",
   "metadata": {},
   "source": [
    "## All variations together"
   ]
  },
  {
   "cell_type": "code",
   "execution_count": null,
   "metadata": {
    "collapsed": false
   },
   "outputs": [],
   "source": [
    "fig,((ax1,ax2,ax3),(ax4,ax5,ax6),(ax7,ax8,ax9)) = plt.subplots(3,3, figsize = (13,11),sharex=True, sharey=True)\n",
    "\n",
    "axlist = [ax1,ax2,ax3,ax4,ax5,ax6,ax7,ax8,ax9]\n",
    "\n",
    "times = [2,4,6,8,10,12,14,16,18]\n",
    "for ii,ax in zip(times,axlist):\n",
    "    ax.axhline(0,color='0.70',linestyle='-')\n",
    "    ax.plot(xc[1,:]/1000,(HCW[ii,:]-HCWNoC[ii,:])/(1000*dxf[0,:]),sns.xkcd_rgb[\"kelly green\"],label='Base $f=9.66E-5s^{-1}$')\n",
    "    ax.plot(xc[1,:]/1000,(HCW17[ii,:]-HCW30[ii,:])/(1000*dxf[0,:]),sns.xkcd_rgb[\"forest\"],label='$\\kappa_v=10^{-7}m^2s^{-1}$')\n",
    "    ax.plot(xc[1,:]/1000,(HCW11[ii,:]-HCW24[ii,:])/(1000*dxf[0,:]),sns.xkcd_rgb[\"leaf\"],label='$\\kappa_v=10^{-4}m^2s^{-1}$')\n",
    "    ax.plot(xc[1,:]/1000,(HCW12[ii,:]-HCW25[ii,:])/(1000*dxf[0,:]),sns.xkcd_rgb[\"jade\"],label='$\\kappa_v=10^{-3}m^2s^{-1}$')\n",
    "    ax.plot(xc[1,:]/1000,(HCW043D[ii,:]-HCW30[ii,:])/(1000*dxf[0,:]),sns.xkcd_rgb[\"royal purple\"],label='$\\kappa_vin=10^{-3},\\kappa_vout=10^{-7}m^2s^{-1}$')\n",
    "    ax.plot(xc[1,:]/1000,(HCW053D[ii,:]-HCW30[ii,:])/(1000*dxf[0,:]),sns.xkcd_rgb[\"muted purple\"],label='$\\kappa_vin=10^{-4},\\kappa_vout=10^{-7}m^2s^{-1}$')\n",
    "    ax.plot(xc[1,:]/1000,(HCW063D[ii,:]-HCWNoC[ii,:])/(1000*dxf[0,:]),sns.xkcd_rgb[\"dark hot pink\"],label='$\\kappa_vin=10^{-3},\\kappa_vout=10^{-5}m^2s^{-1}$')\n",
    "    ax.plot(xc[1,:]/1000,(HCW073D[ii,:]-HCWNoC[ii,:])/(1000*dxf[0,:]),sns.xkcd_rgb[\"muted pink\"],label='$\\kappa_vin=10^{-4},\\kappa_vout=10^{-5}m^2s^{-1}$')\n",
    "    ax.plot(xc[1,:]/1000,(HCW16[ii,:]-HCW28[ii,:])/(1000*dxf[0,:]),sns.xkcd_rgb[\"bright red\"],label='$N=3.0E-3s^{-1}$')\n",
    "    ax.plot(xc[1,:]/1000,(HCW14[ii,:]-HCW26[ii,:])/(1000*dxf[0,:]),sns.xkcd_rgb[\"blood orange\"],label='$N=3.9E-3s^{-1}$')\n",
    "    ax.plot(xc[1,:]/1000,(HCW15[ii,:]-HCW27[ii,:])/(1000*dxf[0,:]),sns.xkcd_rgb[\"saffron\"],label='$N=6.3E-3s^{-1}$')\n",
    "    ax.plot(xc[1,:]/1000,(HCW18[ii,:]-HCW22[ii,:])/(1000*dxf[0,:]),sns.xkcd_rgb[\"sapphire\"],label='$f=7.68E-5s^{-1}$')\n",
    "    ax.plot(xc[1,:]/1000,(HCW19[ii,:]-HCW23[ii,:])/(1000*dxf[0,:]),sns.xkcd_rgb[\"cerulean\"],label='$f=4.84E-5s^{-1}$')\n",
    "    \n",
    "    \n",
    "    ax.set_title('day %d' %(ii/2))\n",
    "    plotCanyonPos(ax,xc[1,120]/1000,xc[1,240]/1000)\n",
    "\n",
    "ax3.legend(loc ='upper right', bbox_to_anchor=(2,1))\n",
    "ax8.set_xlabel('Alongshore distance (km)')\n",
    "ax4.set_ylabel('Volume HCW per m ($10^3$ $m^3$)')\n",
    "plt.tight_layout()\n",
    "\n"
   ]
  },
  {
   "cell_type": "code",
   "execution_count": null,
   "metadata": {
    "collapsed": false
   },
   "outputs": [],
   "source": [
    "fig,((ax1,ax2,ax3),(ax4,ax5,ax6),(ax7,ax8,ax9)) = plt.subplots(3,3, figsize = (13,11),sharex=True, sharey=True)\n",
    "\n",
    "axlist = [ax1,ax2,ax3,ax4,ax5,ax6,ax7,ax8,ax9]\n",
    "\n",
    "times = [2,4,6,8,10,12,14,16,18]\n",
    "for ii,ax in zip(times,axlist):\n",
    "    ax.axhline(0,color='0.70',linestyle='-')\n",
    "    ax.plot(xc[1,:]/1000,(TrMass[ii,:]-TrMassNoC[ii,:])/(1000000*dxf[0,:]),sns.xkcd_rgb[\"kelly green\"],label='Base $f=9.66E-5s^{-1}$')\n",
    "    ax.plot(xc[1,:]/1000,(TrMass17[ii,:]-TrMass30[ii,:])/(1000000*dxf[0,:]),sns.xkcd_rgb[\"forest\"],label='$\\kappa_v=10^{-7}m^2s^{-1}$')\n",
    "    ax.plot(xc[1,:]/1000,(TrMass11[ii,:]-TrMass24[ii,:])/(1000000*dxf[0,:]),sns.xkcd_rgb[\"leaf\"],label='$\\kappa_v=10^{-4}m^2s^{-1}$')\n",
    "    ax.plot(xc[1,:]/1000,(TrMass12[ii,:]-TrMass25[ii,:])/(1000000*dxf[0,:]),sns.xkcd_rgb[\"jade\"],label='$\\kappa_v=10^{-3}m^2s^{-1}$')\n",
    "    ax.plot(xc[1,:]/1000,(TrMass043D[ii,:]-TrMass30[ii,:])/(1000000*dxf[0,:]),sns.xkcd_rgb[\"royal purple\"],label='$\\kappa_vin=10^{-3},\\kappa_vout=10^{-7}m^2s^{-1}$')\n",
    "    ax.plot(xc[1,:]/1000,(TrMass053D[ii,:]-TrMass30[ii,:])/(1000000*dxf[0,:]),sns.xkcd_rgb[\"muted purple\"],label='$\\kappa_vin=10^{-4},\\kappa_vout=10^{-7}m^2s^{-1}$')\n",
    "    ax.plot(xc[1,:]/1000,(TrMass063D[ii,:]-TrMassNoC[ii,:])/(1000000*dxf[0,:]),sns.xkcd_rgb[\"dark hot pink\"],label='$\\kappa_vin=10^{-3},\\kappa_vout=10^{-5}m^2s^{-1}$')\n",
    "    ax.plot(xc[1,:]/1000,(TrMass073D[ii,:]-TrMassNoC[ii,:])/(1000000*dxf[0,:]),sns.xkcd_rgb[\"muted pink\"],label='$\\kappa_vin=10^{-4},\\kappa_vout=10^{-5}m^2s^{-1}$')\n",
    "    ax.plot(xc[1,:]/1000,(TrMass16[ii,:]-TrMass28[ii,:])/(1000000*dxf[0,:]),sns.xkcd_rgb[\"bright red\"],label='$N=3.0E-3s^{-1}$')\n",
    "    ax.plot(xc[1,:]/1000,(TrMass14[ii,:]-TrMass26[ii,:])/(1000000*dxf[0,:]),sns.xkcd_rgb[\"blood orange\"],label='$N=3.9E-3s^{-1}$')\n",
    "    ax.plot(xc[1,:]/1000,(TrMass15[ii,:]-TrMass27[ii,:])/(1000000*dxf[0,:]),sns.xkcd_rgb[\"saffron\"],label='$N=6.3E-3s^{-1}$')\n",
    "    ax.plot(xc[1,:]/1000,(TrMass18[ii,:]-TrMass22[ii,:])/(1000000*dxf[0,:]),sns.xkcd_rgb[\"sapphire\"],label='$f=7.68E-5s^{-1}$')\n",
    "    ax.plot(xc[1,:]/1000,(TrMass19[ii,:]-TrMass23[ii,:])/(1000000*dxf[0,:]),sns.xkcd_rgb[\"cerulean\"],label='$f=4.84E-5s^{-1}$')\n",
    "    \n",
    "    \n",
    "    ax.set_title('day %d' %(ii/2))\n",
    "    plotCanyonPos(ax,xc[1,120]/1000,xc[1,240]/1000)\n",
    "\n",
    "ax3.legend(loc ='upper right', bbox_to_anchor=(2,1))\n",
    "ax8.set_xlabel('Alongshore distance (km)')\n",
    "ax4.set_ylabel('Tracer mass per m ($10^6$ $[C]m^3$)')\n",
    "\n",
    "plt.tight_layout()"
   ]
  },
  {
   "cell_type": "code",
   "execution_count": null,
   "metadata": {
    "collapsed": false
   },
   "outputs": [],
   "source": [
    "fig,(ax1,ax2) = plt.subplots(2,1, figsize = (10,10),sharex=True)\n",
    "\n",
    "tt = np.arange(19)\n",
    "\n",
    "\n",
    "ax2.plot(tt/2.,np.sum(HCW-HCWNoC,axis=1)/1.E10,sns.xkcd_rgb[\"kelly green\"],marker = 'o',label='Base $f=9.66E-5s^{-1}$')\n",
    "ax2.plot(tt/2.,np.sum(HCW17-HCW30,axis=1)/1.E10,sns.xkcd_rgb[\"forest\"],marker = 'o',label='$\\kappa_v=10^{-7}m^2s^{-1}$')\n",
    "ax2.plot(tt/2.,np.sum(HCW11-HCW24,axis=1)/1.E10,sns.xkcd_rgb[\"leaf\"],marker = 'o',label='$\\kappa_v=10^{-4}m^2s^{-1}$')\n",
    "ax2.plot(tt/2.,np.sum(HCW12-HCW25,axis=1)/1.E10,sns.xkcd_rgb[\"jade\"],marker = 'o',label='$\\kappa_v=10^{-3}m^2s^{-1}$')\n",
    "ax2.plot(tt/2.,np.sum(HCW043D-HCW30,axis=1)/1.E10,sns.xkcd_rgb[\"royal purple\"],marker = 'o',label='$\\kappa_vin=10^{-3},\\kappa_vout=10^{-7}m^2s^{-1}$')\n",
    "ax2.plot(tt/2.,np.sum(HCW053D-HCW30,axis=1)/1.E10,sns.xkcd_rgb[\"muted purple\"],marker = 'o',label='$\\kappa_vin=10^{-4},\\kappa_vout=10^{-7}m^2s^{-1}$')\n",
    "ax2.plot(tt/2.,np.sum(HCW063D-HCWNoC,axis=1)/1.E10,sns.xkcd_rgb[\"dark hot pink\"],marker = 'o',label='$\\kappa_vin=10^{-3},\\kappa_vout=10^{-5}m^2s^{-1}$')\n",
    "ax2.plot(tt/2.,np.sum(HCW073D-HCWNoC,axis=1)/1.E10,sns.xkcd_rgb[\"muted pink\"],marker = 'o',label='$\\kappa_vin=10^{-4},\\kappa_vout=10^{-5}m^2s^{-1}$')\n",
    "ax2.plot(tt/2.,np.sum(HCW18-HCW22,axis=1)/1.E10,sns.xkcd_rgb[\"sapphire\"],marker = 'o',label='$f=7.68E-5s^{-1}$')\n",
    "ax2.plot(tt/2.,np.sum(HCW19-HCW23,axis=1)/1.E10,sns.xkcd_rgb[\"cerulean\"],marker = 'o',label='f=4.84E-5s^{-1}$')\n",
    "ax2.plot(tt/2.,np.sum(HCW16-HCW28 ,axis=1)/1.E10,sns.xkcd_rgb[\"bright red\"],marker = 'o',label='$N=3.0E-3s^{-1}$')\n",
    "ax2.plot(tt/2.,np.sum(HCW14-HCW26 ,axis=1)/1.E10,sns.xkcd_rgb[\"blood orange\"],marker = 'o',label='$N=3.9E-3s^{-1}$')\n",
    "ax2.plot(tt/2.,np.sum(HCW15-HCW27 ,axis=1)/1.E10,sns.xkcd_rgb[\"saffron\"],marker = 'o',label='$N=6.3E-3s^{-1}$')\n",
    "\n",
    "   \n",
    "ax1.plot(tt/2.,np.sum(TrMass-TrMassNoC,axis=1)/1.E14,sns.xkcd_rgb[\"kelly green\"],marker = 'o',label='Base $f=9.66E-5s^{-1}$')\n",
    "ax1.plot(tt/2.,np.sum(TrMass17-TrMass30,axis=1)/1.E14,sns.xkcd_rgb[\"forest\"],marker = 'o',label='$\\kappa_v=10^{-7}m^2s^{-1}$')\n",
    "ax1.plot(tt/2.,np.sum(TrMass11-TrMass24,axis=1)/1.E14,sns.xkcd_rgb[\"leaf\"],marker = 'o',label='$\\kappa_v=10^{-4}m^2s^{-1}$')\n",
    "ax1.plot(tt/2.,np.sum(TrMass12-TrMass25,axis=1)/1.E14,sns.xkcd_rgb[\"jade\"],marker = 'o',label='$\\kappa_v=10^{-3}m^2s^{-1}$')\n",
    "ax1.plot(tt/2.,np.sum(TrMass043D-TrMass30,axis=1)/1.E14,sns.xkcd_rgb[\"royal purple\"],marker = 'o',label='$\\kappa_vin=10^{-3},\\kappa_vout=10^{-7}m^2s^{-1}$')\n",
    "ax1.plot(tt/2.,np.sum(TrMass053D-TrMass30,axis=1)/1.E14,sns.xkcd_rgb[\"muted purple\"],marker = 'o',label='$\\kappa_vin=10^{-4},\\kappa_vout=10^{-7}m^2s^{-1}$')\n",
    "ax1.plot(tt/2.,np.sum(TrMass063D-TrMassNoC,axis=1)/1.E14,sns.xkcd_rgb[\"dark hot pink\"],marker = 'o',label='$\\kappa_vin=10^{-3},\\kappa_vout=10^{-5}m^2s^{-1}$')\n",
    "ax1.plot(tt/2.,np.sum(TrMass073D-TrMassNoC,axis=1)/1.E14,sns.xkcd_rgb[\"muted pink\"],marker = 'o',label='$\\kappa_vin=10^{-4},\\kappa_vout=10^{-5}m^2s^{-1}$')\n",
    "ax1.plot(tt/2.,np.sum(TrMass16-TrMass28 ,axis=1)/1.E14,sns.xkcd_rgb[\"bright red\"],marker = 'o',label='$N=3.0E-3s^{-1}$')\n",
    "ax1.plot(tt/2.,np.sum(TrMass14-TrMass26 ,axis=1)/1.E14,sns.xkcd_rgb[\"blood orange\"],marker = 'o',label='$N=3.9E-3s^{-1}$')\n",
    "ax1.plot(tt/2.,np.sum(TrMass15-TrMass27 ,axis=1)/1.E14,sns.xkcd_rgb[\"saffron\"],marker = 'o',label='$N=6.3E-3s^{-1}$')\n",
    "ax1.plot(tt/2.,np.sum(TrMass18-TrMass22,axis=1)/1.E14,sns.xkcd_rgb[\"sapphire\"],marker = 'o',label='$f=7.68E-5s^{-1}$')\n",
    "ax1.plot(tt/2.,np.sum(TrMass19-TrMass23,axis=1)/1.E14,sns.xkcd_rgb[\"cerulean\"],marker = 'o',label='$f=4.84E-5s^{-1}$')\n",
    "        \n",
    "    \n",
    "ax1.legend(loc ='upper right', bbox_to_anchor=(1.4,1))\n",
    "ax2.set_xlabel('Day')\n",
    "ax1.set_ylabel('Tracer mass per m ($10^{14}$ $[C]m^3$)')\n",
    "ax2.set_ylabel('HCW volume per m ($10^{10}$ $m^3$)')\n",
    "plt.tight_layout()\n",
    "plt.show()"
   ]
  },
  {
   "cell_type": "code",
   "execution_count": null,
   "metadata": {
    "collapsed": false
   },
   "outputs": [],
   "source": [
    "sns.set_context('talk', font_scale=1.2)\n",
    "\n",
    "fig,(ax1) = plt.subplots(1,1, figsize = (10,6),sharex=True)\n",
    "\n",
    "    \n",
    "    \n",
    "\n",
    "\n",
    "tt = np.arange(19)\n",
    "   \n",
    "ax1.plot(tt/2.,(np.sum(TrMass,axis=1)/np.sum(TrMass, axis=1)[0])-\n",
    "         (np.sum(TrMassNoC,axis=1)/np.sum(TrMassNoC,axis=1)[0]),\n",
    "         sns.xkcd_rgb[\"kelly green\"],marker = 'o',label='Base $f=9.66E-5s^{-1}$')\n",
    "\n",
    "ax1.plot(tt/2.,(np.sum(TrMass17,axis=1)/np.sum(TrMass17, axis=1)[0])-\n",
    "         (np.sum(TrMass30,axis=1)/np.sum(TrMass30,axis=1)[0]),\n",
    "         sns.xkcd_rgb[\"forest\"],marker = 'o',label='$\\kappa_v=10^{-7}m^2s^{-1}$')\n",
    "\n",
    "ax1.plot(tt/2.,(np.sum(TrMass11,axis=1)/np.sum(TrMass11, axis=1)[0])\n",
    "         -(np.sum(TrMass24,axis=1)-np.sum(TrMass24,axis=1)[0]),\n",
    "         sns.xkcd_rgb[\"leaf\"],marker = 'o',label='$\\kappa_v=10^{-4}m^2s^{-1}$')\n",
    "\n",
    "ax1.plot(tt/2.,(np.sum(TrMass12,axis=1)-np.sum(TrMass25,axis=1))/\n",
    "         np.sum(TrMass12, axis=1)[0],sns.xkcd_rgb[\"jade\"],marker = 'o',label='$\\kappa_v=10^{-3}m^2s^{-1}$')\n",
    "\n",
    "ax1.plot(tt/2.,(np.sum(TrMass043D,axis=1)-np.sum(TrMass30,axis=1))/\n",
    "         np.sum(TrMass043D, axis=1)[0],sns.xkcd_rgb[\"purplish\"],marker = 'o',label='$\\kappa_vin=10^{-3},\\kappa_vout=10^{-7}m^2s^{-1}$')\n",
    "\n",
    "ax1.plot(tt/2.,(np.sum(TrMass053D,axis=1)-np.sum(TrMass30,axis=1))/\n",
    "         np.sum(TrMass053D, axis=1)[0],sns.xkcd_rgb[\"cerise\"],marker = 'o',label='$\\kappa_vin=10^{-4},\\kappa_vout=10^{-7}m^2s^{-1}$')\n",
    "\n",
    "ax1.plot(tt/2.,(np.sum(TrMass063D,axis=1)-np.sum(TrMassNoC,axis=1))/\n",
    "         np.sum(TrMass063D, axis=1)[0],sns.xkcd_rgb[\"amethyst\"],marker = 'o',label='$\\kappa_vin=10^{-3},\\kappa_vout=10^{-5}m^2s^{-1}$')\n",
    "\n",
    "ax1.plot(tt/2.,(np.sum(TrMass073D,axis=1)-np.sum(TrMassNoC,axis=1))/\n",
    "         np.sum(TrMass073D, axis=1)[0],sns.xkcd_rgb[\"lavender pink\"],marker = 'o',label='$\\kappa_vin=10^{-4},\\kappa_vout=10^{-5}m^2s^{-1}$')\n",
    "\n",
    "ax1.plot(tt/2.,(np.sum(TrMass16,axis=1)-np.sum(TrMass28 ,axis=1))/\n",
    "         np.sum(TrMass16, axis=1)[0],sns.xkcd_rgb[\"nice blue\"],marker = 'o',label='$N=3.0E-3s^{-1}$')\n",
    "\n",
    "ax1.plot(tt/2.,(np.sum(TrMass14,axis=1)-np.sum(TrMass26 ,axis=1))/\n",
    "         np.sum(TrMass14, axis=1)[0],sns.xkcd_rgb[\"navy blue\"],marker = 'o',label='$N=3.9E-3s^{-1}$')\n",
    "\n",
    "ax1.plot(tt/2.,(np.sum(TrMass15,axis=1)-np.sum(TrMass27 ,axis=1))/\n",
    "         np.sum(TrMass15, axis=1)[0],sns.xkcd_rgb[\"sapphire\"],marker = 'o',label='$N=6.3E-3s^{-1}$')\n",
    "\n",
    "ax1.plot(tt/2.,(np.sum(TrMass18,axis=1)-np.sum(TrMass22,axis=1))/\n",
    "         np.sum(TrMass18, axis=1)[0],sns.xkcd_rgb[\"red orange\"],marker = 'o',label='$f=7.68E-5s^{-1}$')\n",
    "\n",
    "ax1.plot(tt/2.,(np.sum(TrMass19,axis=1)-np.sum(TrMass23,axis=1))/\n",
    "         np.sum(TrMass19, axis=1)[0],sns.xkcd_rgb[\"tangerine\"],marker = 'o',label='$f=4.84E-5s^{-1}$')\n",
    "        \n",
    "    \n",
    "ax1.legend(loc ='upper right', bbox_to_anchor=(1.4,1))\n",
    "ax1.set_xlabel('Day')\n",
    "ax1.set_ylabel('$(M / M_0)-(M_{flat} / M_{0flat})$')\n",
    "plt.tight_layout()\n",
    "plt.show()\n",
    "\n",
    "fig.savefig('/home/kramosmu/Documents/CMOS2016/Figures/TrMassOthers.pdf',format='pdf',dpi=1000,bbox_inches='tight')\n"
   ]
  },
  {
   "cell_type": "markdown",
   "metadata": {
    "collapsed": false
   },
   "source": [
    "### Process the rest of the runs and save dataframe\n"
   ]
  },
  {
   "cell_type": "code",
   "execution_count": null,
   "metadata": {
    "collapsed": false
   },
   "outputs": [],
   "source": [
    "# Process the rest of the runs to save pandas dataframe\n",
    "Ptracers02 = '/ocean/kramosmu/MITgcm/TracerExperiments/CNTDIFF/run02/ptracersGlob.nc' \n",
    "Ptracers04 = '/ocean/kramosmu/MITgcm/TracerExperiments/CNTDIFF/run04/ptracersGlob.nc' \n",
    "Ptracers20 = '/ocean/kramosmu/MITgcm/TracerExperiments/CNTDIFF/run20/ptracersGlob.nc' \n",
    "\n",
    "Tra = rout.getField(Ptracers02, 'Tr1')\n",
    "Trb = rout.getField(Ptracers04, 'Tr1')\n",
    "Trc = rout.getField(Ptracers20, 'Tr2')\n",
    "\n",
    "HCW02,TrMass02 = HCW_Tracer_AlongShelf(Tra,mask_NoC,30,rA,hFacC,drF,227,30,180,50)\n",
    "HCW04,TrMass04 = HCW_Tracer_AlongShelf(Trb,mask_NoC,30,rA,hFacC,drF,227,30,180,50)\n",
    "HCW20,TrMass20 = HCW_Tracer_AlongShelf(Trc,mask_NoC,30,rA,hFacC,drF,227,30,180,50)\n"
   ]
  },
  {
   "cell_type": "code",
   "execution_count": null,
   "metadata": {
    "collapsed": false,
    "scrolled": false
   },
   "outputs": [],
   "source": [
    "runs = ['02','03','04','07','11','12','14','15','16','17','18','19','20','043D','053D','063D','073D']\n",
    "\n",
    "DHCW_data = np.zeros(len(runs))\n",
    "DTrMass_data = np.zeros(len(runs))\n",
    "# HCW\n",
    "DHCW_data[0] = ((np.sum(HCW02-HCW07,axis=1)[18]-np.sum(HCW02-HCW07,axis=1)[10])/(4*3600.0*24))\n",
    "DHCW_data[1] = ((np.sum(HCW-HCW07,axis=1)[18]-np.sum(HCW-HCW07,axis=1)[10])/(4*3600.0*24))\n",
    "DHCW_data[2] = ((np.sum(HCW04-HCW07,axis=1)[18]-np.sum(HCW04-HCW07,axis=1)[10])/(4*3600.0*24))\n",
    "DHCW_data[3] = ((np.sum(HCWNoC-HCW07,axis=1)[18]-np.sum(HCWNoC-HCW07,axis=1)[10])/(4*3600.0*24))\n",
    "DHCW_data[4] = ((np.sum(HCW11-HCW24,axis=1)[18]-np.sum(HCW11-HCW24,axis=1)[10])/(4*3600.0*24))\n",
    "DHCW_data[5] = ((np.sum(HCW12-HCW25,axis=1)[18]-np.sum(HCW12-HCW25,axis=1)[10])/(4*3600.0*24))\n",
    "DHCW_data[6] = ((np.sum(HCW14-HCW26,axis=1)[18]-np.sum(HCW14-HCW26,axis=1)[10])/(4*3600.0*24))\n",
    "DHCW_data[7] = ((np.sum(HCW15-HCW27,axis=1)[18]-np.sum(HCW15-HCW27,axis=1)[10])/(4*3600.0*24))\n",
    "DHCW_data[8] = ((np.sum(HCW16-HCW28,axis=1)[18]-np.sum(HCW16-HCW28,axis=1)[10])/(4*3600.0*24))\n",
    "DHCW_data[9] = ((np.sum(HCW17-HCW30,axis=1)[18]-np.sum(HCW17-HCW30,axis=1)[10])/(4*3600.0*24))\n",
    "DHCW_data[10] = ((np.sum(HCW18-HCW22,axis=1)[18]-np.sum(HCW18-HCW22,axis=1)[10])/(4*3600.0*24))\n",
    "DHCW_data[11] = ((np.sum(HCW19-HCW23,axis=1)[18]-np.sum(HCW19-HCW23,axis=1)[10])/(4*3600.0*24))\n",
    "DHCW_data[12] = ((np.sum(HCW20-HCW07,axis=1)[18]-np.sum(HCW20-HCW07,axis=1)[10])/(4*3600.0*24))\n",
    "\n",
    "DHCW_data[13] = ((np.sum(HCW043D-HCW30,axis=1)[18]-np.sum(HCW043D-HCW30,axis=1)[10])/(4*3600.0*24))\n",
    "DHCW_data[14] = ((np.sum(HCW053D-HCW30,axis=1)[18]-np.sum(HCW053D-HCW30,axis=1)[10])/(4*3600.0*24))\n",
    "DHCW_data[15] = ((np.sum(HCW063D-HCW07,axis=1)[18]-np.sum(HCW063D-HCW07,axis=1)[10])/(4*3600.0*24))\n",
    "DHCW_data[16] = ((np.sum(HCW073D-HCW07,axis=1)[18]-np.sum(HCW073D-HCW07,axis=1)[10])/(4*3600.0*24))\n",
    "\n",
    " \n",
    "\n",
    "#Tracer mass\n",
    "DTrMass_data[0] = ((np.sum(TrMass02-TrMass07,axis=1)[18]-np.sum(TrMass02-TrMass07,axis=1)[10])/(4*3600.0*24))\n",
    "DTrMass_data[1] =((np.sum(TrMass-TrMass07,axis=1)[18]-np.sum(TrMass-TrMass07,axis=1)[10])/(4*3600.0*24))\n",
    "DTrMass_data[2] =((np.sum(TrMass04-TrMass07,axis=1)[18]-np.sum(TrMass04-TrMass07,axis=1)[10])/(4*3600.0*24))\n",
    "DTrMass_data[3] =((np.sum(TrMassNoC-TrMass07,axis=1)[18]-np.sum(TrMassNoC-TrMass07,axis=1)[10])/(4*3600.0*24))\n",
    "DTrMass_data[4] =((np.sum(TrMass11-TrMass24,axis=1)[18]-np.sum(TrMass11-TrMass24,axis=1)[10])/(4*3600.0*24))\n",
    "DTrMass_data[5] =((np.sum(TrMass12-TrMass25,axis=1)[18]-np.sum(TrMass12-TrMass25,axis=1)[10])/(4*3600.0*24))\n",
    "DTrMass_data[6] =((np.sum(TrMass14-TrMass26,axis=1)[18]-np.sum(TrMass14-TrMass26,axis=1)[10])/(4*3600.0*24))\n",
    "DTrMass_data[7] =((np.sum(TrMass15-TrMass27,axis=1)[18]-np.sum(TrMass15-TrMass27,axis=1)[10])/(4*3600.0*24))\n",
    "DTrMass_data[8] =((np.sum(TrMass16-TrMass28,axis=1)[18]-np.sum(TrMass16-TrMass28,axis=1)[10])/(4*3600.0*24))\n",
    "DTrMass_data[9] =((np.sum(TrMass17-TrMass30,axis=1)[18]-np.sum(TrMass17-TrMass30,axis=1)[10])/(4*3600.0*24))\n",
    "DTrMass_data[10] =((np.sum(TrMass18-TrMass22,axis=1)[18]-np.sum(TrMass18-TrMass22,axis=1)[10])/(4*3600.0*24))\n",
    "DTrMass_data[11] =((np.sum(TrMass19-TrMass23,axis=1)[18]-np.sum(TrMass19-TrMass23,axis=1)[10])/(4*3600.0*24))\n",
    "DTrMass_data[12] =((np.sum(TrMass20-TrMass07,axis=1)[18]-np.sum(TrMass20-TrMass07,axis=1)[10])/(4*3600.0*24))\n",
    "\n",
    " \n",
    "DTrMass_data[13] =((np.sum(TrMass043D-TrMass30,axis=1)[18]-np.sum(TrMass043D-TrMass30,axis=1)[10])/(4*3600.0*24))\n",
    "DTrMass_data[14] =((np.sum(TrMass053D-TrMass30,axis=1)[18]-np.sum(TrMass053D-TrMass30,axis=1)[10])/(4*3600.0*24))\n",
    "DTrMass_data[15] =((np.sum(TrMass063D-TrMass07,axis=1)[18]-np.sum(TrMass063D-TrMass07,axis=1)[10])/(4*3600.0*24))\n",
    "DTrMass_data[16] =((np.sum(TrMass073D-TrMass07,axis=1)[18]-np.sum(TrMass073D-TrMass07,axis=1)[10])/(4*3600.0*24))"
   ]
  },
  {
   "cell_type": "code",
   "execution_count": null,
   "metadata": {
    "collapsed": false
   },
   "outputs": [],
   "source": [
    "# save data frame\n",
    "raw_data = {'RunNum':runs,'deltaHCW': DHCW_data,'deltaTrMass': DTrMass_data}\n",
    "\n",
    "df = pd.DataFrame(raw_data, columns = ['eRunNum','deltaHCW','deltaTrMass'])\n",
    "\n",
    "filename = ('results/metricsDataFrames/DeltaTrOnShelfCanyonEffect.csv' )\n",
    "df.to_csv(filename)"
   ]
  },
  {
   "cell_type": "markdown",
   "metadata": {
    "collapsed": false,
    "scrolled": false
   },
   "source": []
  },
  {
   "cell_type": "code",
   "execution_count": null,
   "metadata": {
    "collapsed": false
   },
   "outputs": [],
   "source": []
  },
  {
   "cell_type": "code",
   "execution_count": null,
   "metadata": {
    "collapsed": false
   },
   "outputs": [],
   "source": []
  },
  {
   "cell_type": "code",
   "execution_count": null,
   "metadata": {
    "collapsed": false
   },
   "outputs": [],
   "source": []
  },
  {
   "cell_type": "code",
   "execution_count": null,
   "metadata": {
    "collapsed": false
   },
   "outputs": [],
   "source": []
  },
  {
   "cell_type": "code",
   "execution_count": null,
   "metadata": {
    "collapsed": false
   },
   "outputs": [],
   "source": []
  },
  {
   "cell_type": "code",
   "execution_count": null,
   "metadata": {
    "collapsed": false
   },
   "outputs": [],
   "source": []
  },
  {
   "cell_type": "code",
   "execution_count": null,
   "metadata": {
    "collapsed": true
   },
   "outputs": [],
   "source": [
    "\n"
   ]
  }
 ],
 "metadata": {
  "kernelspec": {
   "display_name": "Python 2",
   "language": "python",
   "name": "python2"
  },
  "language_info": {
   "codemirror_mode": {
    "name": "ipython",
    "version": 2
   },
   "file_extension": ".py",
   "mimetype": "text/x-python",
   "name": "python",
   "nbconvert_exporter": "python",
   "pygments_lexer": "ipython2",
   "version": "2.7.11"
  }
 },
 "nbformat": 4,
 "nbformat_minor": 0
}
