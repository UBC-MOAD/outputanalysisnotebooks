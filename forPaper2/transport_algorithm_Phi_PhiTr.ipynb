{
 "cells": [
  {
   "cell_type": "markdown",
   "metadata": {},
   "source": [
    "### Transport algorithm to calculate upwelled water (and tracer) \n",
    "\n",
    "Define shelf boundary and calculate volume of water transported onto the shelf through cells with $C_i \\ge C_s$"
   ]
  },
  {
   "cell_type": "code",
   "execution_count": 1,
   "metadata": {
    "collapsed": true
   },
   "outputs": [],
   "source": [
    "#import gsw as sw # Gibbs seawater package\n",
    "import cmocean as cmo\n",
    "import matplotlib.pyplot as plt\n",
    "import matplotlib.colors as mcolors\n",
    "import matplotlib.gridspec as gspec\n",
    "%matplotlib inline\n",
    "from netCDF4 import Dataset\n",
    "import numpy as np\n",
    "import pandas as pd\n",
    "import seaborn as sns\n",
    "import sys\n",
    "import xarray as xr\n",
    "import canyon_tools.readout_tools as rout \n",
    "import canyon_tools.metrics_tools as mpt"
   ]
  },
  {
   "cell_type": "code",
   "execution_count": 2,
   "metadata": {
    "collapsed": false
   },
   "outputs": [
    {
     "data": {
      "text/html": [
       "<script>\n",
       "code_show=true; \n",
       "function code_toggle() {\n",
       " if (code_show){\n",
       " $('div.input').hide();\n",
       " } else {\n",
       " $('div.input').show();\n",
       " }\n",
       " code_show = !code_show\n",
       "} \n",
       "$( document ).ready(code_toggle);\n",
       "</script>\n",
       "<form action=\"javascript:code_toggle()\"><input type=\"submit\" value=\"Click here to toggle on/off the raw code.\"></form>"
      ],
      "text/plain": [
       "<IPython.core.display.HTML object>"
      ]
     },
     "execution_count": 2,
     "metadata": {},
     "output_type": "execute_result"
    }
   ],
   "source": [
    "from IPython.display import HTML\n",
    "\n",
    "HTML('''<script>\n",
    "code_show=true; \n",
    "function code_toggle() {\n",
    " if (code_show){\n",
    " $('div.input').hide();\n",
    " } else {\n",
    " $('div.input').show();\n",
    " }\n",
    " code_show = !code_show\n",
    "} \n",
    "$( document ).ready(code_toggle);\n",
    "</script>\n",
    "<form action=\"javascript:code_toggle()\"><input type=\"submit\" value=\"Click here to toggle on/off the raw code.\"></form>''')\n"
   ]
  },
  {
   "cell_type": "code",
   "execution_count": 3,
   "metadata": {
    "collapsed": true
   },
   "outputs": [],
   "source": [
    "sns.set_context('notebook')\n",
    "sns.set_style('white')"
   ]
  },
  {
   "cell_type": "code",
   "execution_count": 4,
   "metadata": {
    "collapsed": true
   },
   "outputs": [],
   "source": [
    "def calc_rho(RhoRef,T,S,alpha=2.0E-4, beta=7.4E-4):\n",
    "    \"\"\"-----------------------------------------------------------------------------\n",
    "    calc_rho calculates the density profile using a linear equation of state.\n",
    "    \n",
    "    INPUT:\n",
    "    state: xarray dataframe\n",
    "    RhoRef : reference density at the same z as T and S slices. Can be a scalar or a \n",
    "             vector, depending on the size of T and S.\n",
    "    T, S   : should be 4D arrays \n",
    "    alpha = 2.0E-4 # 1/degC, thermal expansion coefficient\n",
    "    beta = 7.4E-4, haline expansion coefficient\n",
    "    OUTPUT:\n",
    "    rho - Density [nz]\n",
    "    -----------------------------------------------------------------------------\"\"\"\n",
    "    \n",
    "    \n",
    "    rho = RhoRef*np.ones(np.shape(T)) - alpha*(T) + beta*(S)\n",
    "    return rho\n",
    "\n",
    "def call_rho(tslice,state,zslice,yslice,xslice):\n",
    "    T = state.Temp.isel(T=tslice,Z=zslice,X=xslice,Y=yslice)\n",
    "    S = state.S.isel(T=tslice,Z=zslice,X=xslice,Y=yslice)\n",
    "    rho = calc_rho(RhoRef,T,S,alpha=2.0E-4, beta=7.4E-4)\n",
    "    return(rho) "
   ]
  },
  {
   "cell_type": "markdown",
   "metadata": {},
   "source": [
    "### Input \n",
    "\n",
    "Select experiment, runs, indices, tracer"
   ]
  },
  {
   "cell_type": "code",
   "execution_count": 5,
   "metadata": {
    "collapsed": true
   },
   "outputs": [],
   "source": [
    "# Select experiment and run\n",
    "exp = 'UPW_10TR_BF3_AST'\n",
    "run = '04_Ast03_No_Cny_Argo'\n",
    "\n",
    "# Define subdomain alongshelf  (5W)\n",
    "W1 = 120               # downstream x-ind for canyon mouth: 140 Barkley,120 Astoria \n",
    "W2 = 240               # upstream x-ind for canyon mouth: 220 Barkley, 240 Astoria\n",
    "num_cells = 100         # num of cells to extend domain upstream and downstream of the canyon mouth: 79 Bar, 100 Ast\n",
    "W_ini = W1 - num_cells # Start of CS section, alongshore index\n",
    "W_end = W2 + num_cells # End of CS section, alongshore index\n",
    "\n",
    "# Shelfbreak indices\n",
    "y_ind = 129 # sb index 129 for Barkley and Astoria\n",
    "z_ind = 29 # sb index: 39 Barkley, 29 Astoria\n",
    "\n",
    "# CS and LID slices\n",
    "x_slice = slice(W_ini,W_end) # subdomain slice alongshelf\n",
    "x_slice_vert = slice(W_ini,W_end)  # x-slice for LID\n",
    "y_slice_vert = slice(y_ind,y_ind+100) # y-slice for LID\n",
    "\n",
    "# Virtual station x and y indices (to get initial profile)\n",
    "x_st = 180\n",
    "y_st = 50\n",
    "\n",
    "RhoRef = 999.79998779 "
   ]
  },
  {
   "cell_type": "code",
   "execution_count": 6,
   "metadata": {
    "collapsed": false
   },
   "outputs": [],
   "source": [
    "# get bathy variables and xarray datasets\n",
    "Grid = '/data/kramosmu/results/TracerExperiments/%s/%s/gridGlob.nc' %(exp,run) \n",
    "with Dataset(Grid, 'r') as nbl:\n",
    "    Z = nbl.variables['RC'][:]\n",
    "    Y = nbl.variables['Y'][:]\n",
    "    X = nbl.variables['X'][:]\n",
    "    hFac = nbl.variables['HFacC'][:]\n",
    "    Depth = nbl.variables['Depth'][:]\n",
    "    hfac = np.ma.masked_values(hFac, 0)\n",
    "    maskC = np.ma.getmask(hfac)\n",
    "    rA = nbl.variables['rA'][:]\n",
    "    dxg = nbl.variables['dxG'][:]\n",
    "    drf = nbl.variables['drF'][:]\n",
    "    Zf = nbl.variables['RF'][:]\n",
    "\n",
    "State = '/data/kramosmu/results/TracerExperiments/%s/%s/stateGlob.nc' %(exp, run) \n",
    "st = xr.open_dataset(State)\n",
    "\n",
    "Ptracer = '/data/kramosmu/results/TracerExperiments/%s/%s/ptracersGlob.nc' %(exp, run) \n",
    "ptr = xr.open_dataset(Ptracer)"
   ]
  },
  {
   "cell_type": "markdown",
   "metadata": {},
   "source": [
    "**Algorithm**"
   ]
  },
  {
   "cell_type": "code",
   "execution_count": 7,
   "metadata": {
    "collapsed": false
   },
   "outputs": [],
   "source": [
    "# Get threshold concentration Cs\n",
    "Cs = ptr.Tr01[0,z_ind,y_st,x_st]\n",
    "t_slice = slice(0,19)\n",
    "\n",
    "# Mask tracer 1 at Cs and LID using Cs criterion\n",
    "Tr_adv = np.ma.masked_less(ptr.Tr01[t_slice,:z_ind+1,y_ind,x_slice], Cs)\n",
    "Tr_adv_v = np.ma.masked_less(ptr.Tr01[t_slice,z_ind,y_slice_vert,x_slice_vert], Cs)\n",
    "\n",
    "# Get tracer mask\n",
    "mask_cs = np.ma.getmask(Tr_adv)\n",
    "mask_vert = np.ma.getmask(Tr_adv_v)\n",
    "\n",
    "# Get V and unstagger\n",
    "V = st.V.isel(T = t_slice, Z=slice(0,z_ind+1))\n",
    "V = np.add(V[..., :-1, :], V[..., 1:, :]) / 2\n",
    "V_CS = V[...,y_ind,x_slice]\n",
    "\n",
    "# Apply tracer mask to unstaggered V\n",
    "V_upw = np.ma.masked_array(V_CS, mask = mask_cs)\n",
    "\n",
    "# Calculate water transport\n",
    "drf_exp = np.expand_dims(np.expand_dims(drf[:z_ind+1],1),0)\n",
    "drf_exp = drf_exp + np.zeros(mask_cs.shape)\n",
    "\n",
    "dxg_exp = np.expand_dims(np.expand_dims(dxg[y_ind,x_slice],0),0)\n",
    "dxg_exp = dxg_exp + np.zeros(mask_cs.shape)\n",
    "\n",
    "hfac_exp = mpt.maskExpand(hfac[:z_ind+1,y_ind,x_slice],mask_cs)\n",
    "wat_CS = drf_exp*dxg_exp*hfac_exp*V_upw\n",
    "\n",
    "# Calculate tracer transport\n",
    "density = call_rho(t_slice,st,slice(0,z_ind+1),y_ind,x_slice)\n",
    "Tr01_CS = wat_CS * np.ma.masked_array(ptr.Tr01[t_slice,:z_ind+1,y_ind,x_slice], mask = mask_cs)\n",
    "Tr02_CS = wat_CS * np.ma.masked_array(ptr.Tr02[t_slice,:z_ind+1,y_ind,x_slice], mask = mask_cs)\n",
    "Tr04_CS = wat_CS * np.ma.masked_array(ptr.Tr04[t_slice,:z_ind+1,y_ind,x_slice], mask = mask_cs)\n",
    "Tr05_CS = wat_CS * np.ma.masked_array(ptr.Tr05[t_slice,:z_ind+1,y_ind,x_slice], mask = mask_cs)\n",
    "Tr06_CS = wat_CS * np.ma.masked_array(ptr.Tr06[t_slice,:z_ind+1,y_ind,x_slice], mask = mask_cs)\n",
    "Tr07_CS = wat_CS * np.ma.masked_array(ptr.Tr07[t_slice,:z_ind+1,y_ind,x_slice], mask = mask_cs)\n",
    "Tr08_CS = wat_CS * np.ma.masked_array(ptr.Tr08[t_slice,:z_ind+1,y_ind,x_slice], mask = mask_cs)\n",
    "Tr03 = density * ptr.Tr03[t_slice,:z_ind+1,y_ind,x_slice]/1000\n",
    "Tr03_CS = wat_CS * np.ma.masked_array(Tr03, mask = mask_cs)\n",
    "Tr09 = density * ptr.Tr09[t_slice,:z_ind+1,y_ind,x_slice]/1000\n",
    "Tr09_CS = wat_CS * np.ma.masked_array(Tr09, mask = mask_cs)\n",
    "Tr10 = density * ptr.Tr10[t_slice,:z_ind+1,y_ind,x_slice]/1000\n",
    "Tr10_CS = wat_CS * np.ma.masked_array(Tr10, mask = mask_cs)\n",
    "\n",
    "# Select W at LID\n",
    "W_LID = st.W[t_slice,z_ind,y_slice_vert,x_slice_vert]\n",
    "\n",
    "# Apply tracer mask to W and calculate vertical transport of water\n",
    "rA_exp = np.expand_dims(rA[y_slice_vert,x_slice_vert], 0)\n",
    "rA_exp = rA_exp + np.zeros(np.shape(W_LID))\n",
    "wat_LID = np.ma.masked_array(W_LID*rA_exp, mask=mask_vert)\n",
    "\n",
    "# Caluclate vertical transport of tracer (units uM or nM)\n",
    "density = call_rho(t_slice,st,z_ind,y_slice_vert,x_slice_vert)\n",
    "Tr01_LID = wat_LID * np.ma.masked_array(ptr.Tr01[t_slice,z_ind,y_slice_vert,x_slice_vert], mask = mask_vert)\n",
    "Tr02_LID = wat_LID * np.ma.masked_array(ptr.Tr02[t_slice,z_ind,y_slice_vert,x_slice_vert], mask = mask_vert)\n",
    "Tr04_LID = wat_LID * np.ma.masked_array(ptr.Tr04[t_slice,z_ind,y_slice_vert,x_slice_vert], mask = mask_vert)\n",
    "Tr05_LID = wat_LID * np.ma.masked_array(ptr.Tr05[t_slice,z_ind,y_slice_vert,x_slice_vert], mask = mask_vert)\n",
    "Tr06_LID = wat_LID * np.ma.masked_array(ptr.Tr06[t_slice,z_ind,y_slice_vert,x_slice_vert], mask = mask_vert)\n",
    "Tr07_LID = wat_LID * np.ma.masked_array(ptr.Tr07[t_slice,z_ind,y_slice_vert,x_slice_vert], mask = mask_vert)\n",
    "Tr08_LID = wat_LID * np.ma.masked_array(ptr.Tr08[t_slice,z_ind,y_slice_vert,x_slice_vert], mask = mask_vert)\n",
    "Tr03 = density * ptr.Tr03[t_slice,z_ind,y_slice_vert,x_slice_vert]/1000\n",
    "Tr03_LID = wat_LID * np.ma.masked_array(Tr03, mask = mask_vert)\n",
    "Tr09 = density * ptr.Tr09[t_slice,z_ind,y_slice_vert,x_slice_vert]/1000\n",
    "Tr09_LID = wat_LID * np.ma.masked_array(Tr09, mask = mask_vert)\n",
    "Tr10 = density * ptr.Tr10[t_slice,z_ind,y_slice_vert,x_slice_vert]/1000\n",
    "Tr10_LID = wat_LID * np.ma.masked_array(Tr10, mask = mask_vert)\n",
    "\n",
    "# Calculate water and tracer fluxes Phi and Phi Tr\n",
    "phi = np.sum(np.sum(wat_LID,axis=1),axis=1)+np.sum(np.sum(wat_CS,axis=1),axis=1)\n",
    "phiTr01 = np.sum(np.sum(Tr01_LID,axis=1),axis=1)+np.sum(np.sum(Tr01_CS,axis=1),axis=1)\n",
    "phiTr02 = np.sum(np.sum(Tr02_LID,axis=1),axis=1)+np.sum(np.sum(Tr02_CS,axis=1),axis=1)\n",
    "phiTr03 = np.sum(np.sum(Tr03_LID,axis=1),axis=1)+np.sum(np.sum(Tr03_CS,axis=1),axis=1)\n",
    "phiTr04 = np.sum(np.sum(Tr04_LID,axis=1),axis=1)+np.sum(np.sum(Tr04_CS,axis=1),axis=1)\n",
    "phiTr05 = np.sum(np.sum(Tr05_LID,axis=1),axis=1)+np.sum(np.sum(Tr05_CS,axis=1),axis=1)\n",
    "phiTr06 = np.sum(np.sum(Tr06_LID,axis=1),axis=1)+np.sum(np.sum(Tr06_CS,axis=1),axis=1)\n",
    "phiTr07 = np.sum(np.sum(Tr07_LID,axis=1),axis=1)+np.sum(np.sum(Tr07_CS,axis=1),axis=1)\n",
    "phiTr08 = np.sum(np.sum(Tr08_LID,axis=1),axis=1)+np.sum(np.sum(Tr08_CS,axis=1),axis=1)\n",
    "phiTr09 = np.sum(np.sum(Tr09_LID,axis=1),axis=1)+np.sum(np.sum(Tr09_CS,axis=1),axis=1)\n",
    "phiTr10 = np.sum(np.sum(Tr10_LID,axis=1),axis=1)+np.sum(np.sum(Tr10_CS,axis=1),axis=1)"
   ]
  },
  {
   "cell_type": "code",
   "execution_count": 8,
   "metadata": {
    "collapsed": false
   },
   "outputs": [
    {
     "name": "stdout",
     "output_type": "stream",
     "text": [
      "/data/kramosmu/results/TracerExperiments/UPW_10TR_BF3_AST/phi_phiTr_transAlg_04_Ast03_No_Cny_Argo.csv\n"
     ]
    }
   ],
   "source": [
    "time = np.arange(0,19,1)/2\n",
    "raw_data = {'time' : time,'Phi': phi,'phiTr01':phiTr01,'phiTr02':phiTr02,\n",
    "            'phiTr03':phiTr03,'phiTr04':phiTr04,'phiTr05':phiTr05,\n",
    "            'phiTr06':phiTr06,'phiTr07':phiTr07,'phiTr08':phiTr08,\n",
    "            'phiTr09':phiTr09,'phiTr10':phiTr10}\n",
    "df = pd.DataFrame(raw_data, columns = ['time' ,'HCW','TrMassHCW','TotTrMass'])\n",
    "\n",
    "filename1 = ('/data/kramosmu/results/TracerExperiments/%s/phi_phiTr_transAlg_%s.csv' %(exp,run))\n",
    "df.to_csv(filename1)\n",
    "print(filename1)"
   ]
  },
  {
   "cell_type": "code",
   "execution_count": 9,
   "metadata": {
    "collapsed": false
   },
   "outputs": [
    {
     "name": "stdout",
     "output_type": "stream",
     "text": [
      "Mean upwelling flux days 4-9 is 6.88e+04 m^3s^{-1} \\pm 4.11e+03\n"
     ]
    },
    {
     "data": {
      "image/png": "[encoded data removed]",
      "text/plain": [
       "<Figure size 576x396 with 1 Axes>"
      ]
     },
     "metadata": {},
     "output_type": "display_data"
    }
   ],
   "source": [
    "phi = np.sum(np.sum(wat_CS,axis=1),axis=1)+np.sum(np.sum(wat_LID,axis=1),axis=1)\n",
    "\n",
    "plt.plot(time,phi, label=run)\n",
    "plt.legend()\n",
    "plt.xlabel('day')\n",
    "plt.ylabel('Upwelling flux / m$^3$s$^{-1}$')\n",
    "print('Mean upwelling flux days 4-9 is %1.2e m^3s^{-1} \\pm %1.2e' %(np.mean(phi[8:]),np.std(phi[8:])))"
   ]
  },
  {
   "cell_type": "code",
   "execution_count": null,
   "metadata": {
    "collapsed": false
   },
   "outputs": [],
   "source": []
  },
  {
   "cell_type": "code",
   "execution_count": null,
   "metadata": {
    "collapsed": true
   },
   "outputs": [],
   "source": []
  }
 ],
 "metadata": {
  "anaconda-cloud": {},
  "kernelspec": {
   "display_name": "Python [default]",
   "language": "python",
   "name": "python3"
  },
  "language_info": {
   "codemirror_mode": {
    "name": "ipython",
    "version": 3
   },
   "file_extension": ".py",
   "mimetype": "text/x-python",
   "name": "python",
   "nbconvert_exporter": "python",
   "pygments_lexer": "ipython3",
   "version": "3.5.4"
  }
 },
 "nbformat": 4,
 "nbformat_minor": 1
}
