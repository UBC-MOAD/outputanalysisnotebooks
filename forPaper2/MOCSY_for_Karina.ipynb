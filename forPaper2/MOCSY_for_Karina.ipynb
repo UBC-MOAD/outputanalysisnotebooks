{
 "cells": [
  {
   "cell_type": "code",
   "execution_count": 1,
   "metadata": {
    "collapsed": false
   },
   "outputs": [
    {
     "data": {
      "text/html": [
       "<script>\n",
       "code_show=true; \n",
       "function code_toggle() {\n",
       " if (code_show){\n",
       " $('div.input').hide();\n",
       " } else {\n",
       " $('div.input').show();\n",
       " }\n",
       " code_show = !code_show\n",
       "} \n",
       "$( document ).ready(code_toggle);\n",
       "</script>\n",
       "<form action=\"javascript:code_toggle()\"><input type=\"submit\" value=\"Click here to toggle on/off the raw code.\"></form>"
      ],
      "text/plain": [
       "<IPython.core.display.HTML object>"
      ]
     },
     "execution_count": 1,
     "metadata": {},
     "output_type": "execute_result"
    }
   ],
   "source": [
    "from IPython.display import HTML\n",
    "\n",
    "HTML('''<script>\n",
    "code_show=true; \n",
    "function code_toggle() {\n",
    " if (code_show){\n",
    " $('div.input').hide();\n",
    " } else {\n",
    " $('div.input').show();\n",
    " }\n",
    " code_show = !code_show\n",
    "} \n",
    "$( document ).ready(code_toggle);\n",
    "</script>\n",
    "<form action=\"javascript:code_toggle()\"><input type=\"submit\" value=\"Click here to toggle on/off the raw code.\"></form>''')"
   ]
  },
  {
   "cell_type": "markdown",
   "metadata": {},
   "source": [
    "# \n",
    "A few things:\n",
    "\n",
    "-I've downloaded and compiled mocsy on the /data machines at /data/tjarniko/mocsy, so you need to either append that path or redownload it/ recompile it (no reason probably not to use my download)\n",
    "\n",
    "-Need to use in_situ T, psu. \n",
    "\n",
    "-Pretty good docs are here, I didn't read them the first time around, oops http://ocmip5.ipsl.jussieu.fr/mocsy/\n",
    "\n",
    "-it only takes 1D arrays, so you need to use np.ravel\n",
    "\n",
    "-The formulation is like this:\n",
    "\n",
    "    response_tup = mocsy.mvars(temp=Tr, sal=Sr, alk=TAr, dic=DICr, \n",
    "                       sil=zero, phos=zero, patm=Pr, depth=zero, lat=zero, \n",
    "                        optcon='mol/m3', optt='Tinsitu', optp='m',\n",
    "                        optb = 'l10', optk1k2='m10', optkf = 'dg', optgas = 'Pinsitu')\n",
    "    pH,pco2,fco2,co2,hco3,co3,OmegaA,OmegaC,BetaD,DENis,p,Tis = response_tup\n",
    "\n",
    "where I've selected the best optb, optk1k2, optkf options. They're (slightly) different constants in formulations of the carbonate chemistry system. they're pretty similar, esp for your work (probably limited freshwater?)\n",
    "\n",
    "-silicate and phosphate do affect OmegaA a little bit, but really just a little bit, I wouldn't worry about it. Same with latitude (which again factors into one of the parameterzations)\n",
    "\n",
    "-atmospheric pressure should be in Patm (i usually say 1 unless I'm calculating it online) \n",
    "\n",
    "-depth can be in meters or dbar, I use meters.\n"
   ]
  },
  {
   "cell_type": "code",
   "execution_count": 1,
   "metadata": {
    "collapsed": false
   },
   "outputs": [
    {
     "name": "stdout",
     "output_type": "stream",
     "text": [
      "Once deleted, variables cannot be recovered. Proceed (y/[n])? y\n"
     ]
    }
   ],
   "source": [
    "%reset"
   ]
  },
  {
   "cell_type": "code",
   "execution_count": 1,
   "metadata": {
    "collapsed": false
   },
   "outputs": [],
   "source": [
    "import sys\n",
    "sys.path.append('/data/kramosmu/mocsy')\n",
    "import mocsy\n",
    "\n",
    "# import time\n",
    "import numpy as np\n",
    "import matplotlib.pyplot as plt\n",
    "# import matplotlib.patches as patches\n",
    "# from oct2py import octave\n",
    "import seawater as sw\n",
    "# from __future__ import print_function\n",
    "# from numpy import *\n",
    "# from scipy import *\n",
    "# import matplotlib.pyplot as plt\n",
    "\n",
    "# import matplotlib.pyplot as plt\n",
    "# from matplotlib import reload\n",
    "# plt.style.use('ggplot')\n",
    "import netCDF4 as nc\n",
    "# import numpy as np\n",
    "# import cmocean as cm\n",
    "\n",
    "# \"\"\n",
    "# from salishsea_tools import (\n",
    "#     nc_tools,\n",
    "#     viz_tools,\n",
    "#     geo_tools,\n",
    "#     tidetools\n",
    "# )\n",
    "\n",
    "%matplotlib inline"
   ]
  },
  {
   "cell_type": "code",
   "execution_count": 2,
   "metadata": {
    "collapsed": true
   },
   "outputs": [],
   "source": [
    "DIC = np.arange(1500,2500,100)\n",
    "TA = np.zeros_like(DIC)\n",
    "S = np.zeros_like(DIC)\n",
    "T = np.zeros_like(DIC)\n",
    "depth = np.zeros_like(DIC)\n",
    "Surf_p = np.zeros_like(DIC)\n",
    "zero  = np.zeros_like(DIC)\n",
    "\n",
    "Surf_p[:] = 1\n",
    "T[:] = 10\n",
    "S[:] = 31\n",
    "TA[:] = 2050\n",
    "\n",
    "DICumL = DIC*1e-3\n",
    "TAumL = TA*1e-3\n",
    "\n",
    "#initialize to standard values. \n"
   ]
  },
  {
   "cell_type": "code",
   "execution_count": 3,
   "metadata": {
    "collapsed": false
   },
   "outputs": [],
   "source": [
    "response_tup = mocsy.mvars(temp=T, sal=S, alk=TAumL, dic=DICumL, \n",
    "                   sil=zero, phos=zero, patm=Surf_p, depth=zero, lat=zero, \n",
    "                    optcon='mol/m3', optt='Tinsitu', optp='m',\n",
    "                    optb = 'l10', optk1k2='m10', optkf = 'dg', optgas = 'Pinsitu')\n",
    "pH,pco2,fco2,co2,hco3,co3,OmegaA,OmegaC,BetaD,DENis,p,Tis = response_tup\n",
    "\n"
   ]
  },
  {
   "cell_type": "code",
   "execution_count": 4,
   "metadata": {
    "collapsed": false
   },
   "outputs": [
    {
     "name": "stdout",
     "output_type": "stream",
     "text": [
      "[5.39744178 4.42647751 3.46433235 2.52086556 1.62073257 0.84641823\n",
      " 0.38260997 0.20604314 0.13529941 0.0997249 ]\n"
     ]
    }
   ],
   "source": [
    "print(OmegaA)"
   ]
  },
  {
   "cell_type": "code",
   "execution_count": 5,
   "metadata": {
    "collapsed": false
   },
   "outputs": [
    {
     "data": {
      "image/png": "[encoded data removed]",
      "text/plain": [
       "<Figure size 864x360 with 2 Axes>"
      ]
     },
     "metadata": {},
     "output_type": "display_data"
    }
   ],
   "source": [
    "fig = plt.figure(figsize=(12,5))\n",
    "\n",
    "for i in range(1,3):\n",
    "    if i == 1:\n",
    "        ax = fig.add_subplot(1,2,i)\n",
    "        ax.plot(DIC,OmegaA)\n",
    "        ax.set_title('OmegaA at varying DIC, S = 31, T = 10, TA = 2050 uM/L')\n",
    "        \n",
    "    if i == 2:\n",
    "        ax = fig.add_subplot(1,2,i)\n",
    "        ax.plot(DIC,pH)\n",
    "        ax.set_title('pH at varying DIC, S = 31, T = 10, TA = 2050 uM/L')"
   ]
  },
  {
   "cell_type": "code",
   "execution_count": null,
   "metadata": {
    "collapsed": false
   },
   "outputs": [],
   "source": []
  },
  {
   "cell_type": "code",
   "execution_count": null,
   "metadata": {
    "collapsed": false
   },
   "outputs": [],
   "source": []
  },
  {
   "cell_type": "code",
   "execution_count": null,
   "metadata": {
    "collapsed": false
   },
   "outputs": [],
   "source": []
  },
  {
   "cell_type": "code",
   "execution_count": null,
   "metadata": {
    "collapsed": true
   },
   "outputs": [],
   "source": []
  }
 ],
 "metadata": {
  "anaconda-cloud": {},
  "kernelspec": {
   "display_name": "Python [default]",
   "language": "python",
   "name": "python3"
  },
  "language_info": {
   "codemirror_mode": {
    "name": "ipython",
    "version": 3
   },
   "file_extension": ".py",
   "mimetype": "text/x-python",
   "name": "python",
   "nbconvert_exporter": "python",
   "pygments_lexer": "ipython3",
   "version": "3.5.4"
  }
 },
 "nbformat": 4,
 "nbformat_minor": 2
}
