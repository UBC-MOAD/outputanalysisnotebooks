{
 "cells": [
  {
   "cell_type": "markdown",
   "metadata": {},
   "source": [
    "## Prepare input for Brink code for Lab runs\n",
    "\n",
    "* Shelf profile\n",
    "* Stratification\n",
    "* Input to all answers in code set up\n",
    "\n",
    "Structure and snippets from Idalia's notebook ([https://nbviewer.jupyter.org/urls/bitbucket.org/CanyonsUBC/analysis_mackenzie_canyon/raw/tip/notebooks/general_circulation/Brink_program.ipynb])"
   ]
  },
  {
   "cell_type": "code",
   "execution_count": 12,
   "metadata": {
    "collapsed": true
   },
   "outputs": [],
   "source": [
    "import cmocean as cmo\n",
    "import gsw\n",
    "import matplotlib.pyplot as plt\n",
    "from netCDF4 import Dataset\n",
    "import numpy as np\n",
    "import pandas as pd\n",
    "import scipy as sc, scipy.io\n",
    "from scipy import interpolate\n",
    "from scipy.interpolate import interp1d\n",
    "import scipy.io as sio\n",
    "\n",
    "%matplotlib inline"
   ]
  },
  {
   "cell_type": "code",
   "execution_count": 69,
   "metadata": {
    "collapsed": true
   },
   "outputs": [],
   "source": [
    "def calc_rho(RhoRef,T,S,alpha=2.0E-4, beta=7.4E-4):\n",
    "    \"\"\"-----------------------------------------------------------------------------\n",
    "    calc_rho calculates the density in the water column using a linear equation of state.\n",
    "    \n",
    "    INPUT:\n",
    "    RhoRef : reference density at the same z as T and S slices. Can be a scalar or a \n",
    "             vector, depending on the size of T and S.\n",
    "    T, S   : should be either arrays or scalars (if arrays, in coordinate order (...,Z, Y , X )) \n",
    "    alpha = 2.0E-4 # 1/degC, thermal expansion coefficient\n",
    "    beta = 7.4E-4, haline expansion coefficient\n",
    "    OUTPUT:\n",
    "    rho - Density [...,ny,nx]\n",
    "    -----------------------------------------------------------------------------\"\"\"\n",
    "    \n",
    "    #Linear eq. of state \n",
    "    rho = RhoRef*(np.ones(np.shape(T)) - alpha*(T[...]) + beta*(S[...]))\n",
    "    return rho\n",
    "\n",
    "def calc_N2_lab(RhoRef,rho,drC):\n",
    "    '''INPUT:\n",
    "    RhoRef: reference density (scalar)\n",
    "    rho: density (1D array)\n",
    "    drC: vertical spacing between \n",
    "    OUTPUT:\n",
    "    N2: buoyancy frequency squared (1D array size nz-2)'''\n",
    "    \n",
    "    g = 9.81 # m/s^2\n",
    "    N2 = ((-g/RhoRef)*((rho[2:] - rho[:-2])/(drC[2:]+drC[:-2])))            \n",
    "    return(N2)\n",
    "\n",
    "def time2dist(max_depth, time):\n",
    "    '''Convert time of measurement to distance - Not correct yet because \n",
    "    profiles goes faster at the top and slower at the bottom \n",
    "    so dt to dx conversion factor is not constant '''\n",
    "    depth = np.zeros(np.shape(time))\n",
    "    time_norm = time-time[0]\n",
    "    depth = (time_norm * max_depth) / np.max(time_norm)\n",
    "    return(depth)\n",
    "\n",
    "def densP(read):\n",
    "    ''' Calibration from 02 May 2019 in ANK_P20_probes_02may19.ipynb'''\n",
    "    fitP = 0.998176+(0.001940*read)+(0.001296*read**2)-(0.000073*read**3)\n",
    "    return(fitP)\n"
   ]
  },
  {
   "cell_type": "markdown",
   "metadata": {},
   "source": [
    "### 1. Shelf profile"
   ]
  },
  {
   "cell_type": "code",
   "execution_count": 14,
   "metadata": {
    "collapsed": false
   },
   "outputs": [],
   "source": [
    "bat_file = 'BathySpacing01.nc'\n",
    "bathy = Dataset(bat_file)\n",
    "depth = bathy['Bathymetry'][:]\n",
    "X = bathy['X'][:]\n",
    "Y = bathy['Y'][:]\n"
   ]
  },
  {
   "cell_type": "code",
   "execution_count": 15,
   "metadata": {
    "collapsed": false
   },
   "outputs": [
    {
     "data": {
      "text/plain": [
       "<class 'netCDF4._netCDF4.Dataset'>\n",
       "root group (NETCDF4 data model, file format HDF5):\n",
       "    title: Spacing bathymetry 01\n",
       "    author: Karina Ramos Musalem\n",
       "    institution: Dept of Earth, Ocean & Atmospheric Sciences, University of British Columbia\n",
       "    source: bitbucket.org/CanyonsUBC/BuildCanyon/Bathymetry/GenerateTankBathymetry_Inserts.ipynb\n",
       "    description: Spacing bathymetry for 3D printing. Make into stl file. Three of these make up for all the space between 2 canyon inserts\n",
       "    timeStamp: Fri Sep 14 14:29:35 2018\n",
       "    dimensions(sizes): x(200), y(200)\n",
       "    variables(dimensions): float64 \u001b[4mX\u001b[0m(y,x), float64 \u001b[4mY\u001b[0m(y,x), float64 \u001b[4mBathymetry\u001b[0m(y,x)\n",
       "    groups: "
      ]
     },
     "execution_count": 15,
     "metadata": {},
     "output_type": "execute_result"
    }
   ],
   "source": [
    "bathy"
   ]
  },
  {
   "cell_type": "code",
   "execution_count": 16,
   "metadata": {
    "collapsed": false
   },
   "outputs": [],
   "source": [
    "# Cross-shelf points for input (depth, distance pairs)\n",
    "\n",
    "cs_points = 80\n",
    "y_interp = np.linspace(X[0,0],np.round(np.max(X[0,:]),3), cs_points)\n",
    "\n",
    "f_int = interpolate.interp1d((X[0,::-1]), depth[0,:]-(depth[0,-1]) , fill_value='extrapolate')\n",
    "cs_interp = np.round(f_int(y_interp),5)\n"
   ]
  },
  {
   "cell_type": "code",
   "execution_count": 17,
   "metadata": {
    "collapsed": false
   },
   "outputs": [
    {
     "data": {
      "text/plain": [
       "Text(0.5,0,'Cross-shelf distance / km')"
      ]
     },
     "execution_count": 17,
     "metadata": {},
     "output_type": "execute_result"
    },
    {
     "data": {
      "image/png": "[encoded data removed]",
      "text/plain": [
       "<Figure size 1440x360 with 2 Axes>"
      ]
     },
     "metadata": {},
     "output_type": "display_data"
    }
   ],
   "source": [
    "fig, ax = plt.subplots(1,2,figsize=(20,5))\n",
    "\n",
    "ax[0].contour(X,Y,depth, 10)\n",
    "ax[0].set_ylabel('Alongshelf distance / km')\n",
    "ax[0].set_xlabel('Cross-shelf distance/ km')\n",
    "ax[0].set_aspect(1)\n",
    "\n",
    "ax[1].plot(X[0,::-1]-X[0,0],depth[0,:]-(depth[0,-1]), 'o-')\n",
    "ax[1].plot(y_interp[::]-X[0,0],cs_interp, 'o-') # revert because 0 distance has to be at the coast\n",
    "ax[1].axhline(0,color='0.5', linestyle='--')\n",
    "ax[1].set_ylabel('Depth / m')\n",
    "ax[1].set_xlabel('Cross-shelf distance / km')"
   ]
  },
  {
   "cell_type": "code",
   "execution_count": null,
   "metadata": {
    "collapsed": false
   },
   "outputs": [],
   "source": []
  },
  {
   "cell_type": "markdown",
   "metadata": {},
   "source": [
    "### 2. Stratification ($N^2$)"
   ]
  },
  {
   "cell_type": "code",
   "execution_count": 65,
   "metadata": {
    "collapsed": false
   },
   "outputs": [
    {
     "data": {
      "text/plain": [
       "Text(0,0.5,'depth / m')"
      ]
     },
     "execution_count": 65,
     "metadata": {},
     "output_type": "execute_result"
    },
    {
     "data": {
      "image/png": "[encoded data removed]",
      "text/plain": [
       "<Figure size 576x288 with 1 Axes>"
      ]
     },
     "metadata": {},
     "output_type": "display_data"
    }
   ],
   "source": [
    "# Find interp function velocity of the profiler\n",
    "df = pd.read_csv('/ocean/kramosmu/MultipleCanyons/lab/Conduino/Calibration/notebooks/mass_A.txt', \n",
    "                 delim_whitespace=True, header=1)\n",
    "\n",
    "tp = np.array(df['t'][28:]-df['t'][28])\n",
    "yp = np.array(df['y'][28:])\n",
    "\n",
    "ts = tp[0:-1]\n",
    "vs = (yp[1:]-yp[:-1])/(tp[1:]-tp[:-1])\n",
    "\n",
    "vel_interp = interp1d(ts, vs)\n",
    "\n",
    "# get probe measurements\n",
    "file = '/ocean/kramosmu/MultipleCanyons/lab/Conduino/Calibration/probe_interference_19may19/P20_profiler.mat'\n",
    "mat = sio.loadmat(file, squeeze_me=True)\n",
    "dens = densP(mat['ch3'][:])\n",
    "time = mat['time']\n",
    "ind = 5\n",
    "t_probe = time[ind:99]-time[ind]\n",
    "dens_probe = dens[ind:99]\n",
    "v_probe = vel_interp(t_probe)\n",
    "d_probe = np.zeros(np.shape(t_probe))\n",
    "\n",
    "# integrate velocity to get distance\n",
    "for ii in range(1,len(t_probe)):\n",
    "    d_probe[ii] = (v_probe[ii]*(t_probe[ii]-t_probe[ii-1]))+d_probe[ii-1] \n",
    "\n",
    "# Append measurement from bottom\n",
    "d_probe = np.append(d_probe,-0.095)\n",
    "dens_probe = np.append(dens_probe,1.02674)\n",
    "\n",
    "# plot\n",
    "fig, ax = plt.subplots(1,1,figsize=(8,4))\n",
    "ax.plot(dens_probe*1000, d_probe, 'o')\n",
    "\n",
    "ax.set_xlabel('density / kg m$^{-3}$')\n",
    "ax.set_ylabel('depth / m')"
   ]
  },
  {
   "cell_type": "code",
   "execution_count": null,
   "metadata": {
    "collapsed": false
   },
   "outputs": [],
   "source": []
  },
  {
   "cell_type": "code",
   "execution_count": 70,
   "metadata": {
    "collapsed": false
   },
   "outputs": [],
   "source": [
    "RhoRef = 999.750 # density bucket 2, fresh water\n",
    "Rho = dens_probe*1000\n",
    "dep = d_probe\n",
    "dz = dep[1:]-dep[:-1]\n",
    "\n",
    "N2 = calc_N2_lab(RhoRef,Rho[:-1],dz)"
   ]
  },
  {
   "cell_type": "code",
   "execution_count": 71,
   "metadata": {
    "collapsed": false
   },
   "outputs": [],
   "source": [
    "# Vertical levels for input and interpolation. Model requires a surface value for N^2.\n",
    "nlevs = 30\n",
    "z_interp = np.linspace(np.round(np.min(dep),4),0, nlevs)\n",
    "z_increment = np.round(np.mean(np.abs(z_interp[1:]-z_interp[:-1])),1)\n",
    "\n",
    "f_int = interpolate.interp1d(dep[1:-2], N2, fill_value='extrapolate')\n",
    "N2_interp = np.round(f_int(z_interp),12)"
   ]
  },
  {
   "cell_type": "code",
   "execution_count": 74,
   "metadata": {
    "collapsed": false
   },
   "outputs": [
    {
     "name": "stdout",
     "output_type": "stream",
     "text": [
      "[       nan        nan        nan        nan 0.86755756 1.12060186\n",
      " 0.6281304  0.59583984 1.68578824 0.94888283 1.33186708 0.78636624\n",
      " 1.14673726 1.09091314 1.32982523 1.23147935 1.45140101 1.37899467\n",
      " 1.45665102 1.68071797 1.77990094 1.49527427 1.11455227 1.3321669\n",
      " 1.22067993 1.69515443 1.31773896 0.99740966 3.18557206        nan]\n"
     ]
    },
    {
     "data": {
      "image/png": "[encoded data removed]",
      "text/plain": [
       "<Figure size 360x360 with 2 Axes>"
      ]
     },
     "metadata": {},
     "output_type": "display_data"
    }
   ],
   "source": [
    "fig, ax = plt.subplots(1,2,figsize=(5,5), sharey=True)\n",
    "\n",
    "ax[0].plot(Rho, dep)\n",
    "ax[0].set_xlabel('density / kg m$^{-3}$')\n",
    "ax[0].set_ylabel('depth / cm')\n",
    "\n",
    "ax[1].plot(N2, dep[1:-2], label='N2')\n",
    "ax[1].plot(N2_interp, z_interp,'o',color='orangered', label='interp')\n",
    "\n",
    "ax[1].set_xlabel('N$^2$ / s$^{-2}$')\n",
    "ax[1].set_ylabel('depth / m')\n",
    "ax[1].legend(loc=0)\n",
    "print(np.sqrt(N2_interp))"
   ]
  },
  {
   "cell_type": "markdown",
   "metadata": {},
   "source": [
    "### 3. Alongshore velocity and bottom friction"
   ]
  },
  {
   "cell_type": "code",
   "execution_count": null,
   "metadata": {
    "collapsed": true
   },
   "outputs": [],
   "source": []
  },
  {
   "cell_type": "markdown",
   "metadata": {},
   "source": [
    "### 4. Wave length "
   ]
  },
  {
   "cell_type": "markdown",
   "metadata": {
    "collapsed": false
   },
   "source": [
    "A possible lengthscale for this is the separation between canyon heads or half of that."
   ]
  },
  {
   "cell_type": "code",
   "execution_count": 75,
   "metadata": {
    "collapsed": false
   },
   "outputs": [
    {
     "name": "stdout",
     "output_type": "stream",
     "text": [
      "1.2566370614359172\n"
     ]
    }
   ],
   "source": [
    "dist_heads = 10 # cm\n",
    "k = (2*np.pi)/(dist_heads*0.5) # 1/cm\n",
    "\n",
    "print(k)"
   ]
  },
  {
   "cell_type": "markdown",
   "metadata": {},
   "source": [
    "### 5. Wave frequency\n",
    "\n",
    "Possible timescale is the \"blocking time\" and by that I mean the time it takes for the $\\Delta \\rho$ signal in the upstream canyon to be the same as signal for a 1 canyon run (see http://localhost:8888/notebooks/notebooks/exp_30mar19.ipynb). Although that time is longer than the upwelling forcing time."
   ]
  },
  {
   "cell_type": "code",
   "execution_count": 76,
   "metadata": {
    "collapsed": false
   },
   "outputs": [
    {
     "name": "stdout",
     "output_type": "stream",
     "text": [
      "0.10471975511965977\n"
     ]
    }
   ],
   "source": [
    "block_time = 60 # sec\n",
    "\n",
    "omega = 2*np.pi/60 #1/sec\n",
    "\n",
    "print(omega)"
   ]
  },
  {
   "cell_type": "markdown",
   "metadata": {},
   "source": [
    "### Answers required for code initialization"
   ]
  },
  {
   "cell_type": "code",
   "execution_count": 77,
   "metadata": {
    "collapsed": false
   },
   "outputs": [],
   "source": [
    "wavenumber = k #(1/cm)\n",
    "wavenumber_first = np.round(wavenumber*0.1,10)\n",
    "freq_per_sec = omega\n",
    "numb_freq = 200\n",
    "increment = np.round(wavenumber_first*0.1,10)\n",
    "\n",
    "f = 0.75 # rad/s  table angular velocity"
   ]
  },
  {
   "cell_type": "code",
   "execution_count": 80,
   "metadata": {
    "collapsed": false
   },
   "outputs": [
    {
     "name": "stdout",
     "output_type": "stream",
     "text": [
      "How many total gridpoints do you want in the cross shelf direction? (nn)\n",
      "80\n",
      "\n",
      "How many total gridpoints do you want in the vertical? (mm)\n",
      "30\n",
      "\n",
      "First guess at frequency (rad/sec)? \n",
      "0.10471975511965977\n",
      "\n",
      "Enter 0 for a rigid lid, 1 for a free surface (del) \n",
      "1\n",
      "\n",
      "Enter 0 for a closed x= 0 boundary, 1 for open (icbc) \n",
      "0\n",
      "\n",
      "Enter 0 for a closed x =xmax boundary, 1 for an open (iobc)\n",
      "1\n",
      "\n",
      "Enter 1 for general frequency, wavenumber or 0 for long wave limit \n",
      "1\n",
      "\n",
      "Enter the Coriolis parameter (f) (rad/sec) \n",
      "0.75\n",
      "\n",
      "Enter the domain width (xmax) (km)\n",
      "0.00021200000000000003\n",
      "\n",
      "Enter the nominal fractional accuracy for the solution (eps) \n",
      "0.001\n",
      "\n",
      "Enter the number of frequencies to be computed (npts) \n",
      "200\n",
      "***** tests  1\n",
      "\n",
      "Enter the first alongshore wavenumber to use (rlz) (rad/cm) \n",
      "0.1256637061\n",
      "\n",
      "Enter the wavenumber increment to use after rlz (drl) (rad/cm)\n",
      "0.0125663706\n",
      "\n",
      "How many distance, depth pairs will you provide (ndep >=1)\n",
      "81\n",
      "\n",
      "Array of offshore distances for depth values (xdep in km) (dimension ndep)\n",
      "[0.000495   0.00049142 0.00048784 0.00048425 0.00048067 0.00047709\n",
      " 0.00047351 0.00046992 0.00046634 0.00046276 0.00045918 0.00045559\n",
      " 0.00045201 0.00044843 0.00044485 0.00044127 0.00043768 0.0004341\n",
      " 0.00043052 0.00042694 0.00042335 0.00041977 0.00041619 0.00041261\n",
      " 0.00040903 0.00040544 0.00040186 0.00039828 0.0003947  0.00039111\n",
      " 0.00038753 0.00038395 0.00038037 0.00037678 0.0003732  0.00036962\n",
      " 0.00036604 0.00036246 0.00035887 0.00035529 0.00035171 0.00034813\n",
      " 0.00034454 0.00034096 0.00033738 0.0003338  0.00033022 0.00032663\n",
      " 0.00032305 0.00031947 0.00031589 0.0003123  0.00030872 0.00030514\n",
      " 0.00030156 0.00029797 0.00029439 0.00029081 0.00028723 0.00028365\n",
      " 0.00028006 0.00027648 0.0002729  0.00026932 0.00026573 0.00026215\n",
      " 0.00025857 0.00025499 0.00025141 0.00024782 0.00024424 0.00024066\n",
      " 0.00023708 0.00023349 0.00022991 0.00022633 0.00022275 0.00021916\n",
      " 0.00021558 0.000212  ]\n",
      "\n",
      "Array of depths corresponding to xdep (depr in m)\n",
      "[-0.       0.00028  0.00057  0.00085  0.00113  0.00142  0.0017   0.00198\n",
      "  0.00227  0.00255  0.00283  0.00312  0.0034   0.00368  0.00397  0.00425\n",
      "  0.00453  0.00482  0.0051   0.00538  0.00566  0.00595  0.00623  0.00651\n",
      "  0.0068   0.00708  0.00736  0.00765  0.00793  0.00821  0.0085   0.00878\n",
      "  0.00906  0.00935  0.00963  0.00991  0.0102   0.01048  0.01076  0.01105\n",
      "  0.01133  0.01161  0.0119   0.01218  0.01246  0.01275  0.01303  0.01331\n",
      "  0.0136   0.01388  0.01416  0.01445  0.01473  0.01501  0.0153   0.01558\n",
      "  0.01586  0.01615  0.01643  0.01671  0.01714  0.02052  0.0241   0.02768\n",
      "  0.03127  0.03485  0.03843  0.04201  0.04559  0.04918  0.05276  0.05634\n",
      "  0.05992  0.06351  0.06709  0.07067  0.07425  0.07784  0.08142  0.085  ]\n",
      "\n",
      "Number of distance, bottom friction pairs to read (nr) \n",
      "2\n",
      "\n",
      "Offshore distances for bottom friction values (xr in km) \n",
      "[0 0.00021200000000000003]\n",
      "\n",
      "Array of bottom friction values corresponding to xr (rr in cm/sec)\n"
     ]
    },
    {
     "ename": "NameError",
     "evalue": "name 'bfr' is not defined",
     "output_type": "error",
     "traceback": [
      "\u001b[0;31m---------------------------------------------------------------------------\u001b[0m",
      "\u001b[0;31mNameError\u001b[0m                                 Traceback (most recent call last)",
      "\u001b[0;32m<ipython-input-80-5d9260bafd4b>\u001b[0m in \u001b[0;36m<module>\u001b[0;34m()\u001b[0m\n\u001b[1;32m     38\u001b[0m \u001b[0mprint\u001b[0m\u001b[0;34m(\u001b[0m\u001b[0;34m'[0 '\u001b[0m\u001b[0;34m+\u001b[0m\u001b[0mstr\u001b[0m\u001b[0;34m(\u001b[0m\u001b[0mwidth\u001b[0m\u001b[0;34m)\u001b[0m\u001b[0;34m+\u001b[0m\u001b[0;34m']'\u001b[0m\u001b[0;34m)\u001b[0m\u001b[0;34m\u001b[0m\u001b[0m\n\u001b[1;32m     39\u001b[0m \u001b[0mprint\u001b[0m\u001b[0;34m(\u001b[0m\u001b[0;34m'\\nArray of bottom friction values corresponding to xr (rr in cm/sec)'\u001b[0m\u001b[0;34m)\u001b[0m\u001b[0;34m\u001b[0m\u001b[0m\n\u001b[0;32m---> 40\u001b[0;31m \u001b[0mprint\u001b[0m\u001b[0;34m(\u001b[0m\u001b[0;34m'['\u001b[0m \u001b[0;34m+\u001b[0m \u001b[0mstr\u001b[0m\u001b[0;34m(\u001b[0m\u001b[0mabs\u001b[0m\u001b[0;34m(\u001b[0m\u001b[0mbfr\u001b[0m\u001b[0;34m)\u001b[0m\u001b[0;34m)\u001b[0m \u001b[0;34m+\u001b[0m \u001b[0;34m' '\u001b[0m \u001b[0;34m+\u001b[0m \u001b[0mstr\u001b[0m\u001b[0;34m(\u001b[0m\u001b[0mabs\u001b[0m\u001b[0;34m(\u001b[0m\u001b[0mbfr\u001b[0m\u001b[0;34m)\u001b[0m\u001b[0;34m)\u001b[0m \u001b[0;34m+\u001b[0m \u001b[0;34m'] (C_D_min * u_mean_cm)'\u001b[0m\u001b[0;34m)\u001b[0m\u001b[0;34m\u001b[0m\u001b[0m\n\u001b[0m\u001b[1;32m     41\u001b[0m \u001b[0mprint\u001b[0m\u001b[0;34m(\u001b[0m\u001b[0;34m'\\nNumber of Nsquared values to read? (nnsq)'\u001b[0m\u001b[0;34m)\u001b[0m\u001b[0;34m\u001b[0m\u001b[0m\n\u001b[1;32m     42\u001b[0m \u001b[0mprint\u001b[0m\u001b[0;34m(\u001b[0m\u001b[0mlen\u001b[0m\u001b[0;34m(\u001b[0m\u001b[0mN2_interp\u001b[0m\u001b[0;34m)\u001b[0m\u001b[0;34m)\u001b[0m\u001b[0;34m\u001b[0m\u001b[0m\n",
      "\u001b[0;31mNameError\u001b[0m: name 'bfr' is not defined"
     ]
    }
   ],
   "source": [
    "print('How many total gridpoints do you want in the cross shelf direction? (nn)')\n",
    "print(cs_points)  \n",
    "print('\\nHow many total gridpoints do you want in the vertical? (mm)')\n",
    "print(nlevs)\n",
    "print('\\nFirst guess at frequency (rad/sec)? ')\n",
    "print(freq_per_sec)\n",
    "print('\\nEnter 0 for a rigid lid, 1 for a free surface (del) ')\n",
    "print(1)\n",
    "print('\\nEnter 0 for a closed x= 0 boundary, 1 for open (icbc) ')\n",
    "print(0)\n",
    "print('\\nEnter 0 for a closed x =xmax boundary, 1 for an open (iobc)')\n",
    "print(1)\n",
    "print('\\nEnter 1 for general frequency, wavenumber or 0 for long wave limit ')\n",
    "print(1)\n",
    "print('\\nEnter the Coriolis parameter (f) (rad/sec) ')\n",
    "print(f)\n",
    "print('\\nEnter the domain width (xmax) (km)')\n",
    "width = y_interp[0]/1000\n",
    "print(width)\n",
    "print('\\nEnter the nominal fractional accuracy for the solution (eps) ')\n",
    "print(0.001)\n",
    "print('\\nEnter the number of frequencies to be computed (npts) ')\n",
    "print(numb_freq)\n",
    "print('***** tests ', 1)\n",
    "print('\\nEnter the first alongshore wavenumber to use (rlz) (rad/cm) ')\n",
    "print(wavenumber_first)\n",
    "print('\\nEnter the wavenumber increment to use after rlz (drl) (rad/cm)')\n",
    "print(increment)\n",
    "print('\\nHow many distance, depth pairs will you provide (ndep >=1)')\n",
    "print(len(cs_interp)+1)  \n",
    "print('\\nArray of offshore distances for depth values (xdep in km) (dimension ndep)')\n",
    "print(y_interp[::-1]/1000)\n",
    "print('\\nArray of depths corresponding to xdep (depr in m)') # positive!\n",
    "print(-cs_interp)\n",
    "print('\\nNumber of distance, bottom friction pairs to read (nr) ')\n",
    "print(2)\n",
    "print('\\nOffshore distances for bottom friction values (xr in km) ')\n",
    "print('[0 '+str(width)+']')\n",
    "print('\\nArray of bottom friction values corresponding to xr (rr in cm/sec)')\n",
    "print('[' + str(abs(bfr)) + ' ' + str(abs(bfr)) + '] (C_D_min * u_mean_cm)')\n",
    "print('\\nNumber of Nsquared values to read? (nnsq)')\n",
    "print(len(N2_interp))\n",
    "print('\\nDepth increment for input of Nsquared values? (zr in m)')\n",
    "print(z_increment)\n",
    "print('\\nExponential tail length for Nsquared extrapolation (alph in km')\n",
    "print(2)\n",
    "print('\\nNsquared values starting at the surface (nsqr in rad^2/sec^2) (nnsq values)')\n",
    "print(N2_interp)\n",
    "print('\\nInput peak value of mean alongshore flow (vzero: cm/sec)')\n",
    "print(0, '(but max vel is '+str(np.round(max_vel*100,1))+')')\n",
    "print('Input distance offshore to peak mean flow (km)')# 2.2\n",
    "print('Input depth of peak mean flow (m)')#100\n",
    "print('Downward exponential scale of mean flow? (m)')#1100\n",
    "print('Upward exponential scale of mean flow? (m)')#100\n",
    "print('Offshore exponential scale of mean flow? (km)')#40\n",
    "print('Onshore exponential scale of mean flow? (km)')#100\n",
    "print('Enter 1 for undisturbed Nsquared offshore, 0 for onshore 1')\n"
   ]
  },
  {
   "cell_type": "markdown",
   "metadata": {
    "collapsed": false
   },
   "source": [
    "#### Frequency assuming standing waves"
   ]
  },
  {
   "cell_type": "code",
   "execution_count": null,
   "metadata": {
    "collapsed": false
   },
   "outputs": [],
   "source": [
    "kv = (2*np.pi/(50E5))\n",
    "U = 30 # cm/s\n",
    "\n",
    "omega_v = U*kv\n",
    "print(omega_v)"
   ]
  },
  {
   "cell_type": "code",
   "execution_count": null,
   "metadata": {
    "collapsed": false
   },
   "outputs": [],
   "source": [
    "kw = k/100\n",
    "U = 30 # cm/s\n",
    "\n",
    "omega_w = U*kw\n",
    "print(omega_w)"
   ]
  },
  {
   "cell_type": "code",
   "execution_count": null,
   "metadata": {
    "collapsed": false
   },
   "outputs": [],
   "source": [
    "(2*3.14)/15"
   ]
  },
  {
   "cell_type": "code",
   "execution_count": null,
   "metadata": {
    "collapsed": true
   },
   "outputs": [],
   "source": []
  }
 ],
 "metadata": {
  "anaconda-cloud": {},
  "kernelspec": {
   "display_name": "Python [default]",
   "language": "python",
   "name": "python3"
  },
  "language_info": {
   "codemirror_mode": {
    "name": "ipython",
    "version": 3
   },
   "file_extension": ".py",
   "mimetype": "text/x-python",
   "name": "python",
   "nbconvert_exporter": "python",
   "pygments_lexer": "ipython3",
   "version": "3.5.4"
  }
 },
 "nbformat": 4,
 "nbformat_minor": 1
}
