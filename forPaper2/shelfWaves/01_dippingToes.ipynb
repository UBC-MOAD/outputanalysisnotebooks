{
 "cells": [
  {
   "cell_type": "markdown",
   "metadata": {},
   "source": [
    "### Dipping toes into Brink code (again)"
   ]
  },
  {
   "cell_type": "code",
   "execution_count": null,
   "metadata": {
    "collapsed": true
   },
   "outputs": [],
   "source": [
    "import numpy as np\n",
    "import netCDF4 as nc\n",
    "import os\n",
    "import scipy.io as sio\n",
    "from scipy import interpolate\n",
    "import matplotlib\n",
    "import matplotlib.pyplot as plt\n",
    "import matplotlib.cm as cm\n",
    "import cmocean as cmo\n",
    "from salishsea_tools.nc_tools import scDataset\n",
    "import sys\n",
    "from matplotlib import colors\n",
    "sys.path.append('/ocean/imachuca/Canyons/analysis_mackenzie_canyon/notebooks/general_circulation/')\n",
    "import general_functions\n",
    "sys.path.append('/ocean/imachuca/Canyons/analysis_mackenzie_canyon/notebooks/upwelling_depth/')\n",
    "import upwelling_functions\n",
    "%matplotlib inline\n",
    "from IPython.display import Image\n",
    "import warnings\n",
    "warnings.filterwarnings(\"ignore\")\n"
   ]
  },
  {
   "cell_type": "code",
   "execution_count": null,
   "metadata": {
    "collapsed": true
   },
   "outputs": [],
   "source": [
    "# From Idalia's email\n",
    "\n",
    "# dispersion curve\n",
    "output = np.loadtxt('/ocean/imachuca/CTW_Brink/output/dispc_J.dat')\n",
    "disp_k = output[:, 0] #rad/cm\n",
    "disp_f = output[:, 1] #rad/sec\n",
    "\n",
    "# Brink mode\n",
    "file = sio.loadmat('/ocean/imachuca/CTW_Brink/output/figures_J1.mat')\n",
    "z, xpl, xxx, zzz = file['z'][0,:], file['xpl'][0,:], file['xxx'][0,:], file['zzz'][0,:]\n",
    "k, f = file['wavenumber'][0][0], file['frequency'][0][0]\n",
    "# (u is cross-shore and v is alongshore in Brink. so, I'm flipping them back right here)\n",
    "p0, v0, u0, w0, r0 = file['p_profile'], file['u_profile'], file['v_profile'], file['w_profile'], file['r_profile']\n",
    "R = file['ratio_for_wave'][0][0]\n",
    "\n",
    "\n",
    "print('ratio', R)\n",
    "\n",
    "\n",
    "w = w0 * 0.01 * scale # cms-1 to ms-1 and normalization\n",
    "u = u0 * 0.01 * scale # cms-1 to ms-1 and normalization \n",
    "v = v0 * 0.01 * scale # cms-1 to ms-1 and normalization \n",
    "r = r0 * 1.0 * scale # mg/cm³ to kg/m³ and normalization\n",
    "p = p0 * 0.1 * scale # dyn/cm² to 0.1 Pa (or kg m-1 s-2) and normalization\n",
    "\n",
    "\n",
    "ax.plot(disp_k, disp_f, c='k', lw=3, zorder=1)\n",
    "ax.scatter(k, f, s=350, c='forestgreen', zorder=2, marker='o')\n",
    "\n",
    "\n",
    "p3 = ax3.contourf(xpl, z, w, levels=levels, cmap=cmap, vmin=-1*vm, vmax=vm, zorder=1)\n",
    "ax3.contour(xpl, z, w, levels=[0], linewidths=3, linestyles='-', colors='k', zorder=2)\n",
    "ax3.fill_between(xxx, zzz.min(), zzz, facecolor=landc, zorder=3)\n",
    "\n"
   ]
  }
 ],
 "metadata": {
  "anaconda-cloud": {},
  "kernelspec": {
   "display_name": "Python [default]",
   "language": "python",
   "name": "python3"
  },
  "language_info": {
   "codemirror_mode": {
    "name": "ipython",
    "version": 3
   },
   "file_extension": ".py",
   "mimetype": "text/x-python",
   "name": "python",
   "nbconvert_exporter": "python",
   "pygments_lexer": "ipython3",
   "version": "3.5.4"
  }
 },
 "nbformat": 4,
 "nbformat_minor": 1
}
