{
 "cells": [
  {
   "cell_type": "code",
   "execution_count": 1,
   "metadata": {
    "collapsed": true
   },
   "outputs": [],
   "source": [
    "#===============================================================================================\n",
    "# IUGG 2019 Plots\n",
    "#\n",
    "#  Tracer flux as a function of parameters\n",
    "#\n",
    "#  * scaling\n",
    "#==============================================================================================="
   ]
  },
  {
   "cell_type": "code",
   "execution_count": 2,
   "metadata": {
    "collapsed": true
   },
   "outputs": [],
   "source": [
    "#import gsw as sw # Gibbs seawater package\n",
    "import cmocean as cmo\n",
    "import matplotlib.pyplot as plt\n",
    "import matplotlib.colors as mcolors\n",
    "import matplotlib.gridspec as gspec\n",
    "from matplotlib.lines import Line2D\n",
    "%matplotlib inline\n",
    "from netCDF4 import Dataset\n",
    "import numpy as np\n",
    "import pandas as pd\n",
    "import scipy.stats\n",
    "import seaborn as sns\n",
    "import sys\n",
    "import xarray as xr\n",
    "import canyon_tools.readout_tools as rout \n",
    "import canyon_tools.metrics_tools as mpt"
   ]
  },
  {
   "cell_type": "code",
   "execution_count": 3,
   "metadata": {
    "collapsed": true
   },
   "outputs": [],
   "source": [
    "sns.set_style('white')\n",
    "sns.set_context('talk')\n",
    "\n",
    "def calc_rho(RhoRef,T,S,alpha=2.0E-4, beta=7.4E-4):\n",
    "    \"\"\"-----------------------------------------------------------------------------\n",
    "    calc_rho calculates the density profile using a linear equation of state.\n",
    "    \n",
    "    INPUT:\n",
    "    state: xarray dataframe\n",
    "    RhoRef : reference density at the same z as T and S slices. Can be a scalar or a \n",
    "             vector, depending on the size of T and S.\n",
    "    T, S   : should be 1D arrays size nz\n",
    "    alpha = 2.0E-4 # 1/degC, thermal expansion coefficient\n",
    "    beta = 7.4E-4, haline expansion coefficient\n",
    "    OUTPUT:\n",
    "    rho - Density [nz]\n",
    "    -----------------------------------------------------------------------------\"\"\"\n",
    "    \n",
    "    #Linear eq. of state \n",
    "    rho = RhoRef*(np.ones(np.shape(T[:])) - alpha*(T[:]) + beta*(S[:]))\n",
    "    return rho\n",
    "\n",
    "def call_rho(t,state,zslice,xind,yind):\n",
    "    T = state.Temp.isel(T=t,Z=zslice,X=xind,Y=yind)\n",
    "    S = state.S.isel(T=t,Z=zslice,X=xind,Y=yind)\n",
    "    rho = calc_rho(RhoRef,T,S,alpha=2.0E-4, beta=7.4E-4)\n",
    "    return(rho) \n",
    "\n",
    "def Dh(f,L,N):\n",
    "    '''Vertical scale Dh'''\n",
    "    return((f*L)/(N))\n",
    "    \n",
    "def Ro(U,f,R):\n",
    "    '''Rossby number'''\n",
    "    return(U/(f*R))\n",
    "\n",
    "def F(Ro):\n",
    "    '''Function that estimates the ability of the flow to follow isobaths'''\n",
    "    return(Ro/(0.9+Ro))\n",
    "\n",
    "def Bu(N,f,W,Hs):\n",
    "    '''Burger number'''\n",
    "    return((N*Hs)/(f*W))\n",
    "\n",
    "def RossbyRad(N,Hs,f):\n",
    "    '''1st Rossby radius of deformation'''\n",
    "    return((N*Hs)/f)\n",
    "\n",
    "def SE(s,N,f,Fw,Rl):\n",
    "    '''Slope effect '''\n",
    "    return((s*N)/(f*(Fw/Rl)**0.5))\n",
    "\n",
    "def Z(U,f,L,W,N,s):\n",
    "    '''depth of upwelling as in Howatt and Allen 2013'''\n",
    "    return(1.8*(F(Ro(U,f,W))*Ro(U,f,L))**(0.5) *(1-0.42*SE(s,N,f,F(Ro(U,f,W)),Ro(U,f,L)))+0.05)\n",
    "\n"
   ]
  },
  {
   "cell_type": "code",
   "execution_count": 5,
   "metadata": {
    "collapsed": false
   },
   "outputs": [],
   "source": [
    "g = 9.81 # accel. gravity\n",
    "s = np.array([0.00230,0.00230,0.00454,0.00454]) # shelf slope \n",
    "N = np.array([0.0055,0.0088,0.0055,0.0038]) # Initial at 152.5 m\n",
    "f = np.array([1.0E-4,1.05E-4,1.0E-4,1.08E-4])\n",
    "U = np.array([0.3,0.329,0.3,0.288])\n",
    "Wiso = np.array([8900,8900,8300,8300])\n",
    "L = np.array([21800,21800,6400,6400])\n",
    "K = np.array([1E-5,1E-5,1E-5,1E-5])\n",
    "sb_Ast = 29 # shelf break z-index Astoria\n",
    "sb_Bar = 39 # shelf break z-index Barkley\n",
    "\n",
    "head_zind = [19,19,34,34]\n",
    "Z_zind = [30,20,14,21]\n",
    "\n",
    "RhoRef = 999.79998779 # It is constant in all my runs, can't run rdmds\n",
    "\n",
    "grid_fileB = '/data/kramosmu/results/TracerExperiments/UPW_10TR_BF4_BAR/01_Bar03/gridGlob.nc'\n",
    "grid_fileA = '/data/kramosmu/results/TracerExperiments/UPW_10TR_BF2_AST/01_Ast03/gridGlob.nc'\n",
    "ptr_fileB = '/data/kramosmu/results/TracerExperiments/UPW_10TR_BF4_BAR/01_Bar03/ptracersGlob.nc'\n",
    "ptr_fileA = '/data/kramosmu/results/TracerExperiments/UPW_10TR_BF2_AST/01_Ast03/ptracersGlob.nc'\n",
    "state_fileA = '/data/kramosmu/results/TracerExperiments/UPW_10TR_BF2_AST/01_Ast03/stateGlob.nc'\n",
    "stateA = xr.open_dataset(state_fileA)\n",
    "state_fileB = '/data/kramosmu/results/TracerExperiments/UPW_10TR_BF4_BAR/01_Bar03/stateGlob.nc'\n",
    "stateB = xr.open_dataset(state_fileB)\n",
    "\n",
    "with Dataset(ptr_fileA, 'r') as nbl:\n",
    "    time = nbl.variables['T'][:]\n",
    "\n",
    "with Dataset(grid_fileA, 'r') as nbl:\n",
    "        drC_A = nbl.variables['drC'][:] \n",
    "\n",
    "with Dataset(grid_fileB, 'r') as nbl:\n",
    "        drC_B = nbl.variables['drC'][:] \n",
    "        \n",
    "\n",
    "tracers = ['Tr01','Tr02','Tr03','Tr04','Tr05','Tr06','Tr07','Tr08','Tr09','Tr10']\n",
    "sb_conc_A = np.empty(len(tracers))\n",
    "sb_conc_B = np.empty(len(tracers))\n",
    "sb_gradtop_A = np.empty(len(tracers))\n",
    "sb_gradtop_B = np.empty(len(tracers))\n",
    "sb_gradZ_Ast = np.empty(len(tracers))\n",
    "sb_gradZ_Argo = np.empty(len(tracers))\n",
    "sb_gradZ_Bar = np.empty(len(tracers))\n",
    "sb_gradZ_Path = np.empty(len(tracers))\n",
    "\n",
    "\n",
    "for ii, trac in zip(range(len(tracers)),tracers):\n",
    "    for pfile,sb_array,gradtop_array,\\\n",
    "    sb_ind,drc,state in zip([ptr_fileA, ptr_fileB],\n",
    "                            [sb_conc_A, sb_conc_B],\n",
    "                            [sb_gradtop_A, sb_gradtop_B],\n",
    "                            [sb_Ast, sb_Bar],\n",
    "                            [drC_A, drC_B],\n",
    "                            [stateA, stateB]):\n",
    "        with Dataset(pfile, 'r') as nbl:\n",
    "            if (trac == 'Tr07' or trac == 'Tr08'):\n",
    "                tr_profile = 1E-3*nbl.variables[trac][0,:,10,180] # nM to muM\n",
    "              \n",
    "            elif (trac == 'Tr03' or (trac == 'Tr09' or trac == 'Tr10')):\n",
    "                profile = nbl.variables[trac][0,:,10,180]\n",
    "                density = call_rho(0,state,slice(0,104),180,20)\n",
    "                tr_profile = density.data*profile.data/1000 # mumol/kg muM to \n",
    "            else:\n",
    "                tr_profile = nbl.variables[trac][0,:,10,180] # muM\n",
    "            \n",
    "            tr_grad = (tr_profile[2:]-tr_profile[:-2])/(drc[3:]+drc[1:-2])\n",
    "                \n",
    "            sb_array[ii] = tr_profile[sb_ind]\n",
    "            gradtop_array[ii] = np.nanmean(tr_grad[sb_ind-8:sb_ind])     \n",
    "            \n",
    "            \n",
    "for ii, trac in zip(range(len(tracers)),tracers):\n",
    "    for pfile,head_ind,Z_ind,grad_array,drc,state in zip([ptr_fileA,ptr_fileA,ptr_fileB,ptr_fileB],\n",
    "                                                        head_zind, Z_zind,\n",
    "                                                        [sb_gradZ_Ast,sb_gradZ_Argo,\n",
    "                                                        sb_gradZ_Bar,sb_gradZ_Path],\n",
    "                                                        [drC_A, drC_A,drC_B, drC_B],\n",
    "                                                        [stateA, stateA,stateB, stateB]):\n",
    "        with Dataset(pfile, 'r') as nbl:\n",
    "            if (trac == 'Tr07' or trac == 'Tr08'):\n",
    "                tr_profile = 1E-3*nbl.variables[trac][0,:,10,180] # nM to muM\n",
    "              \n",
    "            elif (trac == 'Tr03' or (trac == 'Tr09' or trac == 'Tr10')):\n",
    "                profile = nbl.variables[trac][0,:,10,180]\n",
    "                density = call_rho(0,state,slice(0,104),180,20)\n",
    "                tr_profile = density.data*profile.data/1000 # mumol/kg muM to \n",
    "            else:\n",
    "                tr_profile = nbl.variables[trac][0,:,10,180] # muM\n",
    "            \n",
    "            tr_grad = (tr_profile[2:]-tr_profile[:-2])/(drc[3:]+drc[1:-2])\n",
    "            grad_array[ii] = np.nanmean(tr_grad[head_ind:head_ind+Z_ind]) "
   ]
  },
  {
   "cell_type": "code",
   "execution_count": 6,
   "metadata": {
    "collapsed": true
   },
   "outputs": [],
   "source": [
    "labels_exp = ['AST', 'ARGO','BAR', 'PATH']\n",
    "labels_tra = ['Linear','Salinity','Oxygen','Nitrate','Silicate','Phosphate','Nitrous Oxide','Methane','DIC','Alkalinity']\n",
    "colours = ['#332288','#44AA99','#117733','#999933','#DDCC77','#CC6677','#882255','#AA4499', 'dimgray', 'tan']\n",
    "tracer_keys = ['phiTr01','phiTr02','phiTr03','phiTr04','phiTr05','phiTr06',\n",
    "              'phiTr07','phiTr08','phiTr09','phiTr10']\n",
    "\n",
    "factors = [1,1,1,1,1,1,1E-3,1E-3,1,1]\n",
    "markers=['o','^','s','d']\n",
    "exps = ['UPW_10TR_BF2_AST','UPW_10TR_BF2_AST','UPW_10TR_BF4_BAR','UPW_10TR_BF4_BAR']\n",
    "runs_phi = ['01_Ast03','03_Ast03_Argo','01_Bar03','03_Bar03_Path']\n",
    "\n",
    "sb_conc = [sb_conc_A, sb_conc_A, sb_conc_B, sb_conc_B]\n",
    "sb_grad = [sb_gradZ_Ast,sb_gradZ_Argo, sb_gradZ_Bar,sb_gradZ_Path]\n",
    "sb_gradtop = [sb_gradtop_A,sb_gradtop_A, sb_gradtop_B,sb_gradtop_B]"
   ]
  },
  {
   "cell_type": "code",
   "execution_count": 7,
   "metadata": {
    "collapsed": false
   },
   "outputs": [
    {
     "name": "stdout",
     "output_type": "stream",
     "text": [
      "slope = 0.57, intercept = 0.982, r-value = 0.966, std_err = 0.025\n"
     ]
    }
   ],
   "source": [
    "#---- Fit PhiTr --------------------------------------------------------------------\n",
    "Phi_array = np.zeros(40)\n",
    "x_array = np.zeros(40)\n",
    "\n",
    "kk = 0\n",
    "\n",
    "for tr, ii in zip(tracer_keys, range(len(labels_tra))):\n",
    "    for run_phi,lab_exp,exp,grad,conc,ff,nn,uu,ll,ww,ss in zip(runs_phi,\n",
    "                                                               labels_exp,\n",
    "                                                               exps,\n",
    "                                                               sb_grad,\n",
    "                                                               sb_conc,\n",
    "                                                               f,N,U,L,Wiso,s,\n",
    "                                                               ):\n",
    "\n",
    "        ZZ = Z(uu,ff,ll,ww,nn,ss)*Dh(ff,ll,nn)\n",
    "        Cs=conc[ii]\n",
    "        \n",
    "        file = ('/data/kramosmu/results/TracerExperiments/%s/phi_phiTr_transAlg_%s.csv' %(exp,run_phi))\n",
    "        df = pd.read_csv(file)\n",
    "        if (tr == 'phiTr07' or tr == 'phiTr08'):\n",
    "            TrMass = df[tr][:]# nMm^3 to muMm^3 and muMm^3 to mumol\n",
    "            HCW = 1000*df['Phi'][:]# m^3 to l\n",
    "        else:\n",
    "            TrMass = 1E3*df[tr][:] # nMm^3 to muMm^3 and muMm^3 to mumol\n",
    "            HCW = 1000*df['Phi'][:]# m^3 to l\n",
    "        \n",
    "        PhiTr = np.mean(np.array(TrMass[8:18]))\n",
    "        Phi = np.mean(np.array(HCW[8:18]))\n",
    "        Phi_array[kk]=PhiTr/(Phi*Cs)\n",
    "        x_array[kk] = ZZ*grad[ii]/Cs\n",
    "        \n",
    "        kk = kk+1 \n",
    "\n",
    "slope, intercept, r_value, p_value, std_err = scipy.stats.linregress(x_array,Phi_array)\n",
    "\n",
    "print('slope = %1.2f, intercept = %1.3f, r-value = %1.3f, std_err = %1.3f' \\\n",
    "      %(slope, intercept, r_value, std_err))\n"
   ]
  },
  {
   "cell_type": "code",
   "execution_count": 19,
   "metadata": {
    "collapsed": false
   },
   "outputs": [
    {
     "data": {
      "image/png": "[encoded data removed]",
      "text/plain": [
       "<Figure size 288x288 with 1 Axes>"
      ]
     },
     "metadata": {},
     "output_type": "display_data"
    }
   ],
   "source": [
    "# ----------- Plot fitted data ------------------------------------\n",
    "fig,ax0 = plt.subplots(1,1,figsize=(4,4))\n",
    "ax0.plot(np.linspace(0.7,2,20),np.linspace(0.7,2,20),'-',color='0.5')\n",
    "kk = 0\n",
    "\n",
    "for tr_lab, col in zip(labels_tra, colours):\n",
    "    for mark in markers:\n",
    "\n",
    "        ax0.plot(slope*(x_array[kk])+intercept,Phi_array[kk], marker=mark,markerfacecolor=col, \n",
    "                 markeredgecolor='0.3', markeredgewidth=1, markersize=11)\n",
    "       \n",
    "        kk = kk+1\n",
    "\n",
    "ax0.yaxis.set_tick_params(pad=2)\n",
    "ax0.xaxis.set_tick_params(pad=2)\n",
    "\n",
    "legend_runs     = [Line2D([0], [0], marker='o',color='w', label='AST',\n",
    "                          markerfacecolor='k', mec='k',markersize=11),\n",
    "                   Line2D([0], [0], marker='^',color='w', label='ARGO',\n",
    "                          markerfacecolor='k', mec='k',markersize=11),\n",
    "                   Line2D([0], [0], marker='s',color='w', label='BAR',\n",
    "                          markerfacecolor='k', mec='k',markersize=11),\n",
    "                   Line2D([0], [0], marker='d',color='w', label='PATH',\n",
    "                          markerfacecolor='k', mec='k',markersize=11),\n",
    "                   ]\n",
    "\n",
    "for ii in range(len(colours)):\n",
    "    legend_runs.append(Line2D([0], [0], marker='s',color='w', label=labels_tra[ii],\n",
    "                        markerfacecolor=colours[ii], mec=colours[ii],markersize=11),)\n",
    "\n",
    "ax0.legend(handles=legend_runs, bbox_to_anchor=(1,1.1), handletextpad=0)\n",
    "ax0.set_xlabel(r'%1.2f$ (Z \\partial_zC / C_{sb})$ + %1.2f' %(slope,intercept), labelpad=0)\n",
    "ax0.set_ylabel('$\\Phi_{Tr}$ model / $\\Phi C_{sb}$ model', labelpad=0)\n",
    "ax0.set_aspect(1)\n",
    "\n",
    "plt.savefig('04_PhiTr_scaling.pdf',format='pdf', bbox_inches='tight')"
   ]
  },
  {
   "cell_type": "code",
   "execution_count": 23,
   "metadata": {
    "collapsed": false
   },
   "outputs": [
    {
     "name": "stdout",
     "output_type": "stream",
     "text": [
      "slope = 7.56e-06, intercept = -3.687, r-value = 0.900, std_err = 5.941e-07\n"
     ]
    }
   ],
   "source": [
    "labels_exp = ['AST', 'ARGO','BAR', 'PATH']\n",
    "factors = [1,1,1,1,1,1,1E-3,1E-3,1,1]\n",
    "exp_files = ['../../saved_calcs/pool_AST.nc',\n",
    "             '../../saved_calcs/pool_ARGO.nc',\n",
    "             '../../saved_calcs/pool_BAR.nc',\n",
    "             '../../saved_calcs/pool_PATH.nc']\n",
    "runs = ['UPW_10TR_BF2_AST_01','UPW_10TR_BF2_AST_03','UPW_10TR_BF4_BAR_01','UPW_10TR_BF4_BAR_03']\n",
    "exps = ['UPW_10TR_BF2_AST','UPW_10TR_BF2_AST','UPW_10TR_BF4_BAR','UPW_10TR_BF4_BAR']\n",
    "runs_phi = ['01_Ast03','03_Ast03_Argo','01_Bar03','03_Bar03_Path']\n",
    "can_Area = [1.8E8, 1.8E8, 8.7E7, 8.7E7]\n",
    "\n",
    "area_array = np.zeros(40)\n",
    "Pi_array = np.zeros(40)\n",
    "kk = 0\n",
    "\n",
    "for ii, col in zip(range(len(labels_tra)),colours):\n",
    "    for file,run,lab_exp, can_area,exp, \\\n",
    "    grad,gradtop,conc,ff,nn,uu,ll,ww,ss,KK in zip(exp_files, \n",
    "                                                  runs,\n",
    "                                                  labels_exp,\n",
    "                                                  can_Area,exps,\n",
    "                                                  sb_grad,\n",
    "                                                  sb_gradtop,\n",
    "                                                  sb_conc,\n",
    "                                                  f,N,U,L,Wiso,s,K,\n",
    "                                                  ):\n",
    "\n",
    "        ZZ = Z(uu,ff,ll,ww,nn,ss)*Dh(ff,ll,nn)\n",
    "        Cs=conc[ii]\n",
    "         \n",
    "        # Plot area vs tau\n",
    "        with Dataset(file, 'r') as nbl:\n",
    "            area = nbl.variables['area']\n",
    "            if can_area > 8.8E7:\n",
    "                if lab_exp=='AST':\n",
    "                    Pi_array[kk]=uu*ZZ*grad[ii]/(KK*gradtop[ii])\n",
    "                    area_array[kk]=np.nanmax(area[ii,:])/can_area\n",
    "                else:\n",
    "                    Pi_array[kk]=uu*ZZ*grad[ii]/(KK*gradtop[ii])\n",
    "                    area_array[kk]=np.nanmax(area[ii,:])/can_area\n",
    "            else:\n",
    "                if lab_exp=='BAR':\n",
    "                    Pi_array[kk]=uu*ZZ*grad[ii]/(KK*gradtop[ii])\n",
    "                    area_array[kk]=np.nanmax(area[ii,:])/can_area\n",
    "                else:\n",
    "                    Pi_array[kk]=uu*ZZ*grad[ii]/(KK*gradtop[ii])\n",
    "                    area_array[kk]=np.nanmax(area[ii,:])/can_area\n",
    "        \n",
    "            kk=kk+1     \n",
    "         \n",
    "\n",
    "slope0, intercept0, r_value0, p_value0, std_err0 = scipy.stats.linregress(Pi_array,area_array)\n",
    "\n",
    "print('slope = %1.2e, intercept = %1.3f, r-value = %1.3f, std_err = %1.3e' \\\n",
    "      %(slope0, intercept0, r_value0, std_err0))\n"
   ]
  },
  {
   "cell_type": "code",
   "execution_count": 44,
   "metadata": {
    "collapsed": false
   },
   "outputs": [
    {
     "data": {
      "image/png": "[encoded data removed]",
      "text/plain": [
       "<Figure size 288x288 with 1 Axes>"
      ]
     },
     "metadata": {},
     "output_type": "display_data"
    }
   ],
   "source": [
    "# ----------- Plot fitted data ------------------------------------\n",
    "fig,ax0 = plt.subplots(1,1,figsize=(4,4))\n",
    "ax0.plot(np.linspace(0,50,20),np.linspace(0,50,20),'-',color='0.5')\n",
    "kk = 0\n",
    "\n",
    "for tr_lab, col in zip(labels_tra, colours):\n",
    "    for mark in markers:\n",
    "\n",
    "        ax0.plot(slope0*(Pi_array[kk])+intercept0,area_array[kk], marker=mark,markerfacecolor=col, \n",
    "                 markeredgecolor='0.3', markeredgewidth=1, markersize=11)\n",
    "       \n",
    "        kk = kk+1\n",
    "\n",
    "ax0.yaxis.set_tick_params(pad=2)\n",
    "ax0.xaxis.set_tick_params(pad=2)\n",
    "\n",
    "legend_runs     = [Line2D([0], [0], marker='o',color='w', label='AST',\n",
    "                          markerfacecolor='k', mec='k',markersize=11),\n",
    "                   Line2D([0], [0], marker='^',color='w', label='ARGO',\n",
    "                          markerfacecolor='k', mec='k',markersize=11),\n",
    "                   Line2D([0], [0], marker='s',color='w', label='BAR',\n",
    "                          markerfacecolor='k', mec='k',markersize=11),\n",
    "                   Line2D([0], [0], marker='d',color='w', label='PATH',\n",
    "                          markerfacecolor='k', mec='k',markersize=11),\n",
    "                   ]\n",
    "\n",
    "for ii in range(len(colours)):\n",
    "    legend_runs.append(Line2D([0], [0], marker='s',color='w', label=labels_tra[ii],\n",
    "                        markerfacecolor=colours[ii], mec=colours[ii],markersize=11),)\n",
    "\n",
    "ax0.legend(handles=legend_runs, bbox_to_anchor=(1,1.1), handletextpad=0)\n",
    "ax0.set_xlabel(r'7.56x10$^{-6}$$\\Pi$%1.2f' %(intercept0), labelpad=0)\n",
    "ax0.set_ylabel('max ($A_{pool}$) / $A_{can}$', labelpad=0)\n",
    "ax0.set_aspect(1)\n",
    "\n",
    "ax0.text(1,45,r'$\\Pi=\\frac{UZ\\partial_zC}{K\\partial_zC_{top}}$', fontsize=20)\n",
    "plt.savefig('05_PoolArea_scaling.pdf',format='pdf', bbox_inches='tight')"
   ]
  },
  {
   "cell_type": "code",
   "execution_count": null,
   "metadata": {
    "collapsed": false
   },
   "outputs": [],
   "source": []
  },
  {
   "cell_type": "code",
   "execution_count": null,
   "metadata": {
    "collapsed": true
   },
   "outputs": [],
   "source": []
  },
  {
   "cell_type": "code",
   "execution_count": null,
   "metadata": {
    "collapsed": true
   },
   "outputs": [],
   "source": []
  }
 ],
 "metadata": {
  "anaconda-cloud": {},
  "kernelspec": {
   "display_name": "Python [default]",
   "language": "python",
   "name": "python3"
  },
  "language_info": {
   "codemirror_mode": {
    "name": "ipython",
    "version": 3
   },
   "file_extension": ".py",
   "mimetype": "text/x-python",
   "name": "python",
   "nbconvert_exporter": "python",
   "pygments_lexer": "ipython3",
   "version": "3.5.4"
  }
 },
 "nbformat": 4,
 "nbformat_minor": 1
}
