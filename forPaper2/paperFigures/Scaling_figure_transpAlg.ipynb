{
 "cells": [
  {
   "cell_type": "markdown",
   "metadata": {},
   "source": [
    "### Scaling figure"
   ]
  },
  {
   "cell_type": "code",
   "execution_count": 1,
   "metadata": {
    "collapsed": false
   },
   "outputs": [],
   "source": [
    "import cmocean as cmo\n",
    "from netCDF4 import Dataset\n",
    "import matplotlib.pyplot as plt\n",
    "import matplotlib as mpl\n",
    "from matplotlib.lines import Line2D\n",
    "%matplotlib inline\n",
    "import numpy as np\n",
    "import pandas as pd\n",
    "import seaborn as sns\n",
    "import canyon_tools.readout_tools as rout\n",
    "import canyon_tools.savitzky_golay as sg\n",
    "import xarray as xr\n",
    "import matplotlib.gridspec as gspec"
   ]
  },
  {
   "cell_type": "code",
   "execution_count": 2,
   "metadata": {
    "collapsed": false
   },
   "outputs": [
    {
     "data": {
      "text/html": [
       "<script>\n",
       "code_show=true; \n",
       "function code_toggle() {\n",
       " if (code_show){\n",
       " $('div.input').hide();\n",
       " } else {\n",
       " $('div.input').show();\n",
       " }\n",
       " code_show = !code_show\n",
       "} \n",
       "$( document ).ready(code_toggle);\n",
       "</script>\n",
       "<form action=\"javascript:code_toggle()\"><input type=\"submit\" value=\"Click here to toggle on/off the raw code.\"></form>"
      ],
      "text/plain": [
       "<IPython.core.display.HTML object>"
      ]
     },
     "execution_count": 2,
     "metadata": {},
     "output_type": "execute_result"
    }
   ],
   "source": [
    "from IPython.display import HTML\n",
    "\n",
    "HTML('''<script>\n",
    "code_show=true; \n",
    "function code_toggle() {\n",
    " if (code_show){\n",
    " $('div.input').hide();\n",
    " } else {\n",
    " $('div.input').show();\n",
    " }\n",
    " code_show = !code_show\n",
    "} \n",
    "$( document ).ready(code_toggle);\n",
    "</script>\n",
    "<form action=\"javascript:code_toggle()\"><input type=\"submit\" value=\"Click here to toggle on/off the raw code.\"></form>''')\n"
   ]
  },
  {
   "cell_type": "code",
   "execution_count": 3,
   "metadata": {
    "collapsed": false
   },
   "outputs": [],
   "source": [
    "sns.set_context('paper')\n",
    "sns.set_style('white')"
   ]
  },
  {
   "cell_type": "code",
   "execution_count": 4,
   "metadata": {
    "collapsed": true
   },
   "outputs": [],
   "source": [
    "def calc_rho(RhoRef,T,S,alpha=2.0E-4, beta=7.4E-4):\n",
    "    \"\"\"-----------------------------------------------------------------------------\n",
    "    calc_rho calculates the density profile using a linear equation of state.\n",
    "    \n",
    "    INPUT:\n",
    "    state: xarray dataframe\n",
    "    RhoRef : reference density at the same z as T and S slices. Can be a scalar or a \n",
    "             vector, depending on the size of T and S.\n",
    "    T, S   : should be 1D arrays size nz\n",
    "    alpha = 2.0E-4 # 1/degC, thermal expansion coefficient\n",
    "    beta = 7.4E-4, haline expansion coefficient\n",
    "    OUTPUT:\n",
    "    rho - Density [nz]\n",
    "    -----------------------------------------------------------------------------\"\"\"\n",
    "    \n",
    "    #Linear eq. of state \n",
    "    rho = RhoRef*(np.ones(np.shape(T[:])) - alpha*(T[:]) + beta*(S[:]))\n",
    "    return rho\n",
    "\n",
    "def call_rho(t,state,zslice,xind,yind):\n",
    "    T = state.Temp.isel(T=t,Z=zslice,X=xind,Y=yind)\n",
    "    S = state.S.isel(T=t,Z=zslice,X=xind,Y=yind)\n",
    "    rho = calc_rho(RhoRef,T,S,alpha=2.0E-4, beta=7.4E-4)\n",
    "    return(rho) \n",
    "\n",
    "def getProfile(ptracers_file, mask, trac, xind, yind, zslice, tt):\n",
    "    \n",
    "    with Dataset(ptracers_file, 'r') as nbl:\n",
    "        \n",
    "        tr = np.ma.masked_array(nbl.variables[trac][tt,zslice,yind,xind], mask = mask[zslice,yind,xind])\n",
    "       \n",
    "    return (tr)"
   ]
  },
  {
   "cell_type": "code",
   "execution_count": 5,
   "metadata": {
    "collapsed": true
   },
   "outputs": [],
   "source": [
    "def Dh(f,L,N):\n",
    "    '''Vertical scale Dh'''\n",
    "    return((f*L)/(N))\n",
    "    \n",
    "def Ro(U,f,R):\n",
    "    '''Rossby number'''\n",
    "    return(U/(f*R))\n",
    "\n",
    "def F(Ro):\n",
    "    '''Function that estimates the ability of the flow to follow isobaths'''\n",
    "    return(Ro/(0.9+Ro))\n",
    "\n",
    "def Bu(N,f,W,Hs):\n",
    "    '''Burger number'''\n",
    "    return((N*Hs)/(f*W))\n",
    "\n",
    "def RossbyRad(N,Hs,f):\n",
    "    '''1st Rossby radius of deformation'''\n",
    "    return((N*Hs)/f)\n",
    "\n",
    "def SE(s,N,f,Fw,Rl):\n",
    "    '''Slope effect '''\n",
    "    return((s*N)/(f*(Fw/Rl)**0.5))\n",
    "\n",
    "def Z(U,f,L,W,N,s):\n",
    "    '''depth of upwelling as in Howatt and Allen 2013'''\n",
    "    return(1.8*(F(Ro(U,f,W))*Ro(U,f,L))**(0.5) *(1-0.42*SE(s,N,f,F(Ro(U,f,W)),Ro(U,f,L)))+0.05)\n"
   ]
  },
  {
   "cell_type": "code",
   "execution_count": 6,
   "metadata": {
    "collapsed": true
   },
   "outputs": [],
   "source": [
    "ptr_fileA = '/data/kramosmu/results/TracerExperiments/UPW_10TR_BF2_AST/01_Ast03/ptracersGlob.nc'\n",
    "grid_fileA = '/data/kramosmu/results/TracerExperiments/UPW_10TR_BF2_AST/01_Ast03/gridGlob.nc'\n",
    "\n",
    "ptr_fileANoC = '/data/kramosmu/results/TracerExperiments/UPW_10TR_BF2_AST/02_Ast03_No_Cny/ptracersGlob.nc'\n",
    "grid_fileANoC = '/data/kramosmu/results/TracerExperiments/UPW_10TR_BF2_AST/02_Ast03_No_Cny/gridGlob.nc'\n",
    "\n",
    "state_file = '/data/kramosmu/results/TracerExperiments/UPW_10TR_BF2_AST/01_Ast03/stateGlob.nc'\n",
    "state = xr.open_dataset(state_file)\n",
    "RhoRef = 999.79998779 # It is constant in all my runs, can't run rdmds"
   ]
  },
  {
   "cell_type": "code",
   "execution_count": 7,
   "metadata": {
    "collapsed": true
   },
   "outputs": [],
   "source": [
    "nz = 104\n",
    "sb_Ast = 29 # shelf break z-index Astoria\n",
    "sb_Bar = 39 # shelf break z-index Barkley\n",
    "\n",
    "with Dataset(ptr_fileA, 'r') as nbl:\n",
    "    time = nbl.variables['T'][:]\n",
    "        \n",
    "with Dataset(grid_fileA, 'r') as nbl:\n",
    "    ZA = nbl.variables['RC'][:]\n",
    "    YA = nbl.variables['Y'][:]\n",
    "    XA = nbl.variables['X'][:]\n",
    "    hFacA = nbl.variables['HFacC'][:]\n",
    "    DepthA = nbl.variables['Depth'][:]\n",
    "    hfac = np.ma.masked_values(hFacA, 0)\n",
    "    maskCA = np.ma.getmask(hfac)\n",
    "    rAA = nbl.variables['rA'][:]\n",
    "    drc = nbl.variables['drC'][:] \n",
    "\n",
    "with Dataset(grid_fileANoC, 'r') as nbl:\n",
    "    hFacANoC = nbl.variables['HFacC'][:]\n",
    "    hfacNoC = np.ma.masked_values(hFacANoC, 0)\n",
    "    maskCANoC = np.ma.getmask(hfacNoC)\n",
    "   "
   ]
  },
  {
   "cell_type": "code",
   "execution_count": 8,
   "metadata": {
    "collapsed": false
   },
   "outputs": [],
   "source": [
    "sb_Ast =  29# 29 shelf break z-index Astoria\n",
    "\n",
    "ptr_fileA = '/data/kramosmu/results/TracerExperiments/UPW_10TR_BF2_AST/01_Ast03/ptracersGlob.nc'\n",
    "\n",
    "tracers = ['Tr01','Tr02','Tr03','Tr04','Tr05','Tr06','Tr07','Tr08','Tr09','Tr10']\n",
    "labels = ['Linear','Salinty','Oxygen','Nitrate','Silicate','Phosphate','Nitrous Oxide','Methane',\n",
    "         'DIC', 'Alkalinity']\n",
    "colours = ['#332288','#44AA99','#117733','#999933','#DDCC77','#CC6677','#882255','#AA4499', 'dimgray', 'tan']\n",
    "\n",
    "sb_conc_A = np.empty(len(labels))\n",
    "sb_grad_A = np.empty(len(labels))\n",
    "sb_curv_A = np.empty(len(labels))\n",
    "\n",
    "for ii, trac in zip(range(len(tracers)),tracers):\n",
    "    for pfile,sb_array, sb_ind, grad_array, curv_array in zip([ptr_fileA],[sb_conc_A], [sb_Ast], \n",
    "                                                              [sb_grad_A], [sb_curv_A]):\n",
    "        with Dataset(pfile, 'r') as nbl:\n",
    "            \n",
    "            if (trac == 'Tr07' or trac == 'Tr08'):\n",
    "                tr_profile = 1E-3*nbl.variables[trac][0,:,10,180]\n",
    "                sb_array[ii] = tr_profile[sb_ind]\n",
    "                \n",
    "            elif(trac == 'Tr03' or (trac == 'Tr09' or trac == 'Tr10')):\n",
    "                density = call_rho(0,state,slice(0,104),180,20)\n",
    "                tr_profile = density.data*nbl.variables[trac][0,:,10,180]/1000\n",
    "                sb_array[ii] = tr_profile[sb_ind]\n",
    "\n",
    "            else:\n",
    "                tr_profile = nbl.variables[trac][0,:,10,180]\n",
    "                sb_array[ii] = tr_profile[sb_ind]\n",
    "            \n",
    "            tr_curv = (tr_profile[2:]-2*tr_profile[1:-1]+tr_profile[:-2])/(drc[3:]*drc[1:-2])\n",
    "            tr_grad = (tr_profile[2:]-tr_profile[:-2])/(drc[3:]+drc[1:-2])\n",
    "                \n",
    "            curv_array[ii] = np.nanmean(tr_curv[sb_ind-2:sb_ind+2]) # local mean\n",
    "            grad_array[ii] = np.nanmean(tr_grad[sb_ind-2:sb_ind+2]) \n",
    "                        "
   ]
  },
  {
   "cell_type": "code",
   "execution_count": 9,
   "metadata": {
    "collapsed": true
   },
   "outputs": [],
   "source": [
    "g = 9.81 # accel. gravity\n",
    "Hs = 152.5 # Shelf break depth\n",
    "s = 0.00230 # shelf slope \n",
    "N = np.array([5.5E-3,9.9E-3,5.5E-3,5.5E-3,])\n",
    "f = np.array([1.0E-4,1.05E-4,1E-4,1E-4])\n",
    "U = np.array([0.3,0.329,0.269,0.268]) \n",
    "Wiso = 8900\n",
    "L = 21800\n",
    "nz = 104\n",
    "ny = 360\n",
    "nx = 616\n",
    "epsilons = np.array([5,5,5,25])    \n",
    "Hrim = 120\n",
    "Hh = 97.5\n",
    "t = 6.5\n",
    "R = 4500\n",
    "kcans = np.array([1E-5,1E-5,1E-2,1E-2])\n",
    "kbgs = np.array([1E-5,1E-5,1E-5,1E-5])\n",
    "\n",
    "#H&A 2013\n",
    "slope = 0.91 \n",
    "param = 1.21\n",
    "intercept = 0.07\n",
    "\n",
    "#RM&A2019\n",
    "slope2 = 5\n",
    "param2 = 0.86\n",
    "intercept2 = -0.01"
   ]
  },
  {
   "cell_type": "code",
   "execution_count": 14,
   "metadata": {
    "collapsed": false
   },
   "outputs": [
    {
     "name": "stdout",
     "output_type": "stream",
     "text": [
      "Linear -0.0 -25.65966439763111\n",
      "Salinty 8.522328104029606 -0.12271746604307829\n",
      "Oxygen 5.859988699835416 25.86402014862974\n",
      "Nitrate 2.747735855821072 -7.439343077396522\n",
      "Silicate 7.605129213108507 -11.727897423128208\n",
      "Phosphate 7.242947706158106 -6.6425739039784295\n",
      "Nitrous Oxide 16.6682684504507 -0.7365989458731346\n",
      "Methane -7.643056173601988 -47.54869082105372\n",
      "DIC 11.538670230893812 1.0755767662341318\n",
      "Alkalinity 13.412756590780972 1.7328387341864953\n",
      "RMSE 0 for AST is 1.361921e+09 \n",
      "Linear -0.0 -26.48126196911039\n",
      "Salinty 5.008813497114553 -0.13973998390436657\n",
      "Oxygen 3.4440812574202706 27.70904292587297\n",
      "Nitrate 1.6149221519216903 -7.8186592539173425\n",
      "Silicate 4.469749742667937 -12.257136550214758\n",
      "Phosphate 4.2568854175358535 -7.003772395901989\n",
      "Nitrous Oxide 9.796413253400846 -1.2543577419715064\n",
      "Methane -4.492040491076751 -49.07156693574966\n",
      "DIC 6.781603158874819 0.9929029027471886\n",
      "Alkalinity 7.883056768683936 1.7055685483994893\n",
      "RMSE 0 for ARGO is 7.671456e+08 \n",
      "Linear -0.0 -29.955153146216105\n",
      "Salinty 7.855340397188775 -0.1739628667912307\n",
      "Oxygen 5.401365143301805 34.25565491797873\n",
      "Nitrate 2.5326882754994613 -9.169493147054563\n",
      "Silicate 7.00992475346314 -14.33102615039247\n",
      "Phosphate 6.67608885933499 -8.26615414872642\n",
      "Nitrous Oxide 15.363750481291921 -1.89867746323084\n",
      "Methane -7.0448834151422375 -52.937982294293064\n",
      "DIC 10.63561286166891 0.7676031809474652\n",
      "Alkalinity 12.363026557896033 1.621908056519868\n",
      "RMSE 0 for BAR is 2.253711e+08 \n",
      "Linear -0.0 -34.62856915742555\n",
      "Salinty 7.833514762776656 -0.20600457503901765\n",
      "Oxygen 5.386357745151845 42.02294433839447\n",
      "Nitrate 2.52565133940428 -10.586254780638086\n",
      "Silicate 6.990448060259583 -17.457542864794775\n",
      "Phosphate 6.657539710936684 -9.882779475555937\n",
      "Nitrous Oxide 15.321063139401083 -2.2551088562193007\n",
      "Methane -7.0253095912058585 -53.10037730265118\n",
      "DIC 10.606062392009989 0.5407501946991518\n",
      "Alkalinity 12.32867656359451 1.5015591500830985\n",
      "RMSE 0 for PATH is 3.399453e+08 \n"
     ]
    },
    {
     "data": {
      "image/png": "[encoded data removed]",
      "text/plain": [
       "<Figure size 360x165.6 with 2 Axes>"
      ]
     },
     "metadata": {},
     "output_type": "display_data"
    }
   ],
   "source": [
    "fig, (ax0,ax1) = plt.subplots(1,2,figsize=(5,2.3))\n",
    "\n",
    "tracers = ['phiTr01','phiTr02','phiTr03','phiTr04',\n",
    "           'phiTr05','phiTr06','phiTr07','phiTr08','phiTr09','phiTr10']\n",
    "\n",
    "exp_folders = ['UPW_10TR_BF2_AST','UPW_10TR_BF2_AST','UPW_10TR_BF4_BAR','UPW_10TR_BF4_BAR']\n",
    "exps = ['01_Ast03','03_Ast03_Argo','01_Bar03','03_Bar03_Path']\n",
    "markers=['o','^','s','d']\n",
    "run_labels=['AST', 'ARGO','BAR','PATH']\n",
    "\n",
    "xx = np.linspace(0,5E11,20)\n",
    "ax0.plot(xx,xx,color='0.5')\n",
    "\n",
    "for uu, nn, ff, run_lab, fold, exp, mark in zip(U, N, f, run_labels, exp_folders, exps, markers):\n",
    "    mse_0 = np.zeros(len(tracers))\n",
    "    \n",
    "    ii = 0\n",
    "    for key, col, lab, C, grad, curv in zip(tracers, colours, labels, sb_conc_A, sb_grad_A, sb_curv_A):\n",
    "        \n",
    "        # --- get Phi_tr ----\n",
    "        filename = ('/data/kramosmu/results/TracerExperiments/%s/phi_phiTr_transAlg_%s.csv' %(fold,exp))\n",
    "        df = pd.read_csv(filename)\n",
    "        HCW = 1000*df['Phi'][:] # *1000 to go from m^3/s to L/s\n",
    "\n",
    "        if (key == 'phiTr07' or key == 'phiTr08'):\n",
    "            TrMass = df[key][:]\n",
    "        else:\n",
    "            TrMass = df[key][:]*1E3\n",
    "\n",
    "        Phi = np.mean(np.array(HCW[8:]))\n",
    "        Phi_std = np.std(np.array(HCW[8:]))\n",
    "        \n",
    "        PhiTr = np.mean(np.array(TrMass[8:]))\n",
    "        PhiTr_std = np.std(np.array(TrMass[8:]))\n",
    "        \n",
    "        #Se = SE(s, nn, ff, F(Ro(uu,ff,Wiso)), Ro(uu,ff,L))\n",
    "        #HA2013=1000*((slope*(F(Ro(uu,ff,Wiso))**(3/2))*(Ro(uu,ff,L)**(1/2))*((1-param*Se)**3))+intercept)*(uu*Wiso*Dh(ff,L,nn))\n",
    "        \n",
    "        ZZ = Z(uu,ff,L,Wiso,nn,s)*Dh(ff,L,nn)\n",
    "        tau_v = -ZZ*curv/grad\n",
    "       \n",
    "        #ax0.errorbar(HA2013*C, PhiTr, yerr=PhiTr_std, marker=mark,ms=8, c=col, label=lab, mec='0.3',mew=1)\n",
    "        ax0.errorbar(Phi*C, PhiTr, xerr=C*Phi_std, yerr=PhiTr_std, marker=mark,ms=8, c=col, label=lab, mec='0.3',mew=1)\n",
    "        ax1.errorbar(tau_v,100*(((Phi*C)-PhiTr)/PhiTr), marker=mark,ms=8, c=col, label=lab, mec='0.3',mew=1)\n",
    "        mse_0[ii] = (PhiTr-Phi*C)**2\n",
    "        print(lab,tau_v,100*(((Phi*C)-PhiTr)/PhiTr))\n",
    "        ii=ii+1\n",
    "    print('RMSE 0 for %s is %e ' %(run_lab,np.sqrt(np.sum(mse_0)/len(mse_0))))\n",
    "    \n",
    "legend_elements = [Line2D([0], [0], marker='o',color='w', label='Astoria',\n",
    "                          markerfacecolor='k', mec='k',markersize=7),\n",
    "                   Line2D([0], [0], marker='^',color='w', label='ARGO',\n",
    "                          markerfacecolor='k', mec='k',markersize=7),\n",
    "                   Line2D([0], [0], marker='s',color='w', label='Barkley',\n",
    "                          markerfacecolor='k', mec='k',markersize=7),\n",
    "                   Line2D([0], [0], marker='d',color='w', label='Pathways',\n",
    "                          markerfacecolor='k', mec='k',markersize=7),\n",
    "                   ]\n",
    "\n",
    "\n",
    "ax0.legend(handles=legend_elements, bbox_to_anchor=(1.85,1), handletextpad=0)\n",
    "for ii in range(len(colours)):\n",
    "    legend_elements.append(Line2D([0], [0], marker='s',color='w', label=labels[ii],\n",
    "                           markerfacecolor=colours[ii], mec=colours[ii],markersize=10),)\n",
    "\n",
    "ax1.legend(handles=legend_elements, bbox_to_anchor=(1,1.1), handletextpad=0)\n",
    "   \n",
    "    \n",
    "ax0.set_ylabel(r'$\\Phi_{Tr}$ model / $\\mu$mol$s^{-1}$', labelpad=0)\n",
    "ax0.set_xlabel(r'$\\Phi_{Tr}=\\Phi C_{sb}$ / $\\mu$mol$s^{-1}$', labelpad=0)\n",
    "ax1.set_ylabel(r'Error (%)', labelpad=-2)\n",
    "ax1.set_xlabel(r'$\\tau_v$', labelpad=1)\n",
    "ax1.set_xticks([-5,0,5,10,15])\n",
    "ax0.set_xlim(5E5,5E11)\n",
    "ax0.set_ylim(5E5,5E11)\n",
    "ax0.set_aspect(1)\n",
    "ax0.set_yscale('log')\n",
    "ax0.set_xscale('log')\n",
    "ax1.yaxis.set_tick_params(pad=2)\n",
    "ax1.xaxis.set_tick_params(pad=2)\n",
    "ax0.yaxis.set_tick_params(pad=1)\n",
    "ax0.xaxis.set_tick_params(pad=2)\n",
    "\n",
    "ax0.text(0.87,0.05,'(a)',fontsize=10, fontweight='bold',  transform=ax0.transAxes)\n",
    "ax1.text(0.87,0.05,'(b)',fontsize=10, fontweight='bold',  transform=ax1.transAxes)\n",
    "\n",
    "plt.savefig('phitr_vs_scaling_transpAlg.eps',format='eps', bbox_inches='tight')"
   ]
  },
  {
   "cell_type": "code",
   "execution_count": null,
   "metadata": {
    "collapsed": false
   },
   "outputs": [],
   "source": [
    "tau_v = -ZZ*curv\n",
    "       "
   ]
  },
  {
   "cell_type": "code",
   "execution_count": null,
   "metadata": {
    "collapsed": false
   },
   "outputs": [],
   "source": [
    "curv"
   ]
  },
  {
   "cell_type": "code",
   "execution_count": null,
   "metadata": {
    "collapsed": true
   },
   "outputs": [],
   "source": []
  }
 ],
 "metadata": {
  "anaconda-cloud": {},
  "kernelspec": {
   "display_name": "Python [default]",
   "language": "python",
   "name": "python3"
  },
  "language_info": {
   "codemirror_mode": {
    "name": "ipython",
    "version": 3
   },
   "file_extension": ".py",
   "mimetype": "text/x-python",
   "name": "python",
   "nbconvert_exporter": "python",
   "pygments_lexer": "ipython3",
   "version": "3.5.4"
  }
 },
 "nbformat": 4,
 "nbformat_minor": 1
}
