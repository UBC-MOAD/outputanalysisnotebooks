{
 "cells": [
  {
   "cell_type": "markdown",
   "metadata": {},
   "source": [
    "### Pool of upwelled water and tracer for 10TR in Astoria and Barkley bathymetries"
   ]
  },
  {
   "cell_type": "code",
   "execution_count": 2,
   "metadata": {
    "collapsed": false
   },
   "outputs": [],
   "source": [
    "import cmocean as cmo\n",
    "from netCDF4 import Dataset\n",
    "import matplotlib.pyplot as plt\n",
    "import matplotlib as mpl\n",
    "%matplotlib inline\n",
    "import numpy as np\n",
    "import pandas as pd\n",
    "import seaborn as sns\n",
    "import canyon_tools.readout_tools as rout\n",
    "import canyon_tools.savitzky_golay as sg\n",
    "\n",
    "import matplotlib.gridspec as gspec"
   ]
  },
  {
   "cell_type": "code",
   "execution_count": 3,
   "metadata": {
    "collapsed": false
   },
   "outputs": [
    {
     "data": {
      "text/html": [
       "<script>\n",
       "code_show=true; \n",
       "function code_toggle() {\n",
       " if (code_show){\n",
       " $('div.input').hide();\n",
       " } else {\n",
       " $('div.input').show();\n",
       " }\n",
       " code_show = !code_show\n",
       "} \n",
       "$( document ).ready(code_toggle);\n",
       "</script>\n",
       "<form action=\"javascript:code_toggle()\"><input type=\"submit\" value=\"Click here to toggle on/off the raw code.\"></form>"
      ],
      "text/plain": [
       "<IPython.core.display.HTML object>"
      ]
     },
     "execution_count": 3,
     "metadata": {},
     "output_type": "execute_result"
    }
   ],
   "source": [
    "from IPython.display import HTML\n",
    "\n",
    "HTML('''<script>\n",
    "code_show=true; \n",
    "function code_toggle() {\n",
    " if (code_show){\n",
    " $('div.input').hide();\n",
    " } else {\n",
    " $('div.input').show();\n",
    " }\n",
    " code_show = !code_show\n",
    "} \n",
    "$( document ).ready(code_toggle);\n",
    "</script>\n",
    "<form action=\"javascript:code_toggle()\"><input type=\"submit\" value=\"Click here to toggle on/off the raw code.\"></form>''')\n"
   ]
  },
  {
   "cell_type": "code",
   "execution_count": 4,
   "metadata": {
    "collapsed": false
   },
   "outputs": [],
   "source": [
    "sns.set_context('notebook')\n",
    "sns.set_style('whitegrid')"
   ]
  },
  {
   "cell_type": "code",
   "execution_count": 5,
   "metadata": {
    "collapsed": true
   },
   "outputs": [],
   "source": [
    "def mask2DCanyon(bathy, sbdepth=-152.5):\n",
    "    '''Mask out the canyon from the shelf.\n",
    "    bathy : depths 2D array from the grid file\n",
    "    sbdepth: shelf depth, always negative float \n",
    "    Returns mask'''\n",
    "    \n",
    "    bathyMasked = np.ma.masked_less(-bathy, sbdepth)\n",
    "    return(bathyMasked.mask)\n",
    "\n",
    "def BottomConc(Tr, hfac, ra, bathy, nz, sbdepth=-152.5):\n",
    "    '''Tr: Tracer field (nt,nz,ny,nx)\n",
    "       hfac: fraction of open cell at center (nz,ny,nx)\n",
    "       ra: array of cell horizontal areas (ny,nx)\n",
    "       bathy : depths 2D array from the grid file (ny,nx)\n",
    "       sbdepth: shelf break depth (negative value)\n",
    "       \n",
    "       RETURNS:\n",
    "       ConcArea = concentration at cell closest to bottom times its area (nt,ny,nx)\n",
    "       Conc = cocnetration near bottom (nt,ny,nx)'''\n",
    "    \n",
    "    ConcArea = np.empty((360,616))\n",
    "    Conc = np.empty((360,616))\n",
    "    ConcFiltered = np.empty((360,616))\n",
    "    Area = np.empty((360,616))\n",
    "    BottomInd = np.argmax(hfac[::-1,:,:]>0.0,axis=0) # start looking for first no-land cell from the bottom up.\n",
    "    BottomInd = np.ones(np.shape(BottomInd))*nz - BottomInd # Get index of unreversed z axis\n",
    "    \n",
    "    for j in range(616):\n",
    "        for i in range(360):\n",
    "            TrBottom = Tr[BottomInd[i,j],i,j]\n",
    "            ConcArea[i,j] = TrBottom*ra[i,j]\n",
    "            Conc[i,j] = TrBottom\n",
    "            Area[i,j] = ra[i,j]\n",
    "                    \n",
    "        # Filter step noise\n",
    "        ConcFiltered[:,j] = sg.savitzky_golay(Conc[:,j], 7,3) \n",
    "                \n",
    "    maskShelf = mask2DCanyon(bathy, sbdepth)\n",
    "    maskShelf = np.expand_dims(maskShelf,0) # expand along time dimension\n",
    "    maskShelf = maskShelf + np.zeros(Conc.shape)\n",
    "    \n",
    "    return (ConcArea,\n",
    "            np.ma.masked_array(ConcFiltered, mask=maskShelf),\n",
    "            Area,\n",
    "           )\n",
    "\n",
    "def BottomAnom(Tr, hfac, ra, bathy,nz, sbdepth=-152.5):\n",
    "    '''Tr: Tracer field-Tr field no canyon (nt,nz,ny,nx)\n",
    "       hfac: fraction of open cell at center (nz,ny,nx)\n",
    "       ra: array of cell horizontal areas (ny,nx)\n",
    "       bathy : depths 2D array from the grid file (ny,nx)\n",
    "       sbdepth: shelf break depth (negative value)\n",
    "       \n",
    "       RETURNS:\n",
    "       ConcArea = concentration at cell closest to bottom times its area (nt,ny,nx)\n",
    "       Conc = cocnetration near bottom (nt,ny,nx)'''\n",
    "    \n",
    "    ConcArea = np.empty((360,616))\n",
    "    Conc = np.empty((360,616))\n",
    "    ConcFiltered = np.empty((360,616))\n",
    "    Area = np.empty((360,616))\n",
    "    BottomInd = np.argmax(hfac[::-1,:,:]>0.0,axis=0) # start looking for first no-land cell from the bottom up.\n",
    "    BottomInd = np.ones(np.shape(BottomInd))*nz - BottomInd # Get index of unreversed z axis\n",
    "    \n",
    "    for j in range(616):\n",
    "        for i in range(360):\n",
    "            TrBottom = Tr[BottomInd[i,j],i,j]\n",
    "            if TrBottom > 0.0:\n",
    "                ConcArea[i,j] = TrBottom*ra[i,j]\n",
    "                Conc[i,j] = TrBottom\n",
    "                Area[i,j] = ra[i,j]\n",
    "            else:\n",
    "                ConcArea[i,j] = np.NaN\n",
    "                Conc[i,j] = np.NaN\n",
    "                Area[i,j] = np.NaN\n",
    "                \n",
    "\n",
    "        # Filter step noise\n",
    "        ConcFiltered[:,j] = sg.savitzky_golay(Conc[:,j], 7,3) \n",
    "                \n",
    "    maskShelf = mask2DCanyon(bathy, sbdepth)\n",
    "    maskShelf = np.expand_dims(maskShelf,0) # expand along time dimension\n",
    "    maskShelf = maskShelf + np.zeros(Conc.shape)\n",
    "    \n",
    "    return (ConcArea,\n",
    "            np.ma.masked_array(ConcFiltered, mask=maskShelf),\n",
    "            Area,\n",
    "           )\n",
    "\n",
    "def PlotPool(ax,ConcFilt,X,Y,xslice,yslice,colmap, cmin=-1, cmax=1):\n",
    "    \n",
    "    BAC = ConcFilt[yslice,xslice]\n",
    "    \n",
    "    mesh = ax.contourf(X[xslice]/1000,Y[yslice]/1000,BAC,20,\n",
    "                       vmin=cmin, vmax=cmax, cmap=colmap, \n",
    "                      )\n",
    "    cs = ax.contour(X[xslice]/1000,Y[yslice]/1000,BAC,[0.5,0.6,0.8,1.0,1.2],colors='k')\n",
    "    plt.clabel(cs)\n",
    "    \n",
    "    ax.tick_params(axis='x', pad=1)\n",
    "    ax.tick_params(axis='y', pad=1)\n",
    "    ax.set_aspect(1)\n",
    "    return(mesh)\n",
    "\n",
    "def PlotPoolsTr(ax1, ax2, tt, key, ptr_fileA, ptr_fileB, \n",
    "                xslice_pl, yslice_pl, nz,\n",
    "                hFacA, rAA, DepthA, XA, YA,\n",
    "                hFacB, rAB, DepthB, XB, YB, sbdepthA=-150, sbdepthB=-200):\n",
    "    \n",
    "    sns.set_style('white')\n",
    "    with Dataset(ptr_fileA, 'r') as nbl:\n",
    "        ConcAreaLinA, ConcLinA, AreaTrA = BottomConc(nbl.variables[key][tt,:,:,:],\n",
    "                                                     hFacA,rAA,DepthA, nz-1,sbdepth=sbdepthA)\n",
    "        mesh1 = PlotPool(ax1,ConcLinA/nbl.variables[key][0,30,50,50],XA, YA,\n",
    "                         xslice_pl,yslice_pl, cmo.cm.matter, cmin=0, cmax=1.5)\n",
    "\n",
    "    plt.colorbar(mesh1, ax=ax1)\n",
    "    \n",
    "    with Dataset(ptr_fileB, 'r') as nbl:\n",
    "        ConcAreaLinB, ConcLinB, AreaTrB = BottomConc(nbl.variables[key][tt,:,:,:],\n",
    "                                                     hFacB,rAB,DepthB, nz-1,sbdepth=sbdepthB)\n",
    "        mesh2 = PlotPool(ax2,ConcLinB/nbl.variables[key][0,40,50,50],XB, YB,\n",
    "                         xslice_pl,yslice_pl, cmo.cm.matter, cmin=0, cmax=1.5)\n",
    "\n",
    "    plt.colorbar(mesh2, ax=ax2)\n",
    "        \n",
    "    for ax in [ax1,ax2]:\n",
    "        ax.set_facecolor(\"darkgrey\")\n",
    "        ax.set_ylabel('Cross-shelf / km')\n",
    "\n",
    "    ax1.set_xlabel('CS distance / km')\n",
    "    ax1.set_title('Astoria')\n",
    "    ax2.set_xlabel('CS distance / km')\n",
    "    ax2.set_title('Barkley day %1.1f' %(tt/2))\n",
    "\n",
    "    ax1.set_aspect(1)\n",
    "    return(ax1, ax2)\n",
    "\n",
    "def GetPoolArea(tt, key, ptr_fileA, ptr_fileB,nz,\n",
    "                hFacA, rAA, DepthA, \n",
    "                hFacB, rAB, DepthB, \n",
    "                sbdepthA=-150, sbdepthB=-200):\n",
    "    \n",
    "    with Dataset(ptr_fileA, 'r') as nbl:\n",
    "        ConcAreaLinA, ConcLinA, AreaTrA = BottomConc(nbl.variables[key][tt,:,:,:],\n",
    "                                                     hFacA,rAA,DepthA, nz-1,sbdepth=sbdepthA)\n",
    "        if key == 'Tr03':\n",
    "            mask = np.ma.getmask(np.ma.masked_greater((ConcLinA/nbl.variables[key][0,30,50,50]), 1.0))\n",
    "        else:\n",
    "            mask = np.ma.getmask(np.ma.masked_less((ConcLinA/nbl.variables[key][0,30,50,50]), 1.0))\n",
    "\n",
    "        Apool_Ast = np.ma.sum(np.ma.masked_array(AreaTrA, mask=mask))\n",
    "        \n",
    "    with Dataset(ptr_fileB, 'r') as nbl:\n",
    "        ConcAreaLinB, ConcLinB, AreaTrB = BottomConc(nbl.variables[key][tt,:,:,:],\n",
    "                                                     hFacB,rAB,DepthB, nz-1,sbdepth=sbdepthB)\n",
    "        if key == 'Tr03':\n",
    "            mask2 = np.ma.getmask(np.ma.masked_less((ConcLinB/nbl.variables[key][0,40,50,50]), 1.0))\n",
    "        else:    \n",
    "            mask2 = np.ma.getmask(np.ma.masked_less((ConcLinB/nbl.variables[key][0,40,50,50]), 1.0))\n",
    "        Apool_Bar = np.ma.sum(np.ma.masked_array(AreaTrB, mask=mask2))\n",
    "        \n",
    "    return(Apool_Ast, Apool_Bar)\n",
    "\n",
    "def GetPoolConc(tt, key, ptr_fileA, ptr_fileB,nz,\n",
    "                hFacA, rAA, DepthA, \n",
    "                hFacB, rAB, DepthB, \n",
    "                sbdepthA=-150, sbdepthB=-200):\n",
    "    \n",
    "    with Dataset(ptr_fileA, 'r') as nbl:\n",
    "        ConcAreaLinA, ConcLinA, AreaTrA = BottomConc(nbl.variables[key][tt,:,:,:],\n",
    "                                                     hFacA,rAA,DepthA, nz-1,sbdepth=sbdepthA)\n",
    "        if key == 'Tr03':\n",
    "            mask = np.ma.getmask(np.ma.masked_greater((ConcLinA/nbl.variables[key][0,30,50,50]), 1.0))\n",
    "        else:\n",
    "            mask = np.ma.getmask(np.ma.masked_less((ConcLinA/nbl.variables[key][0,30,50,50]), 1.0))\n",
    "\n",
    "        ConcPool_Ast = np.ma.mean(np.ma.masked_array(ConcAreaLinA/AreaTrA, mask=mask))\n",
    "        \n",
    "    with Dataset(ptr_fileB, 'r') as nbl:\n",
    "        ConcAreaLinB, ConcLinB, AreaTrB = BottomConc(nbl.variables[key][tt,:,:,:],\n",
    "                                                     hFacB,rAB,DepthB, nz-1,sbdepth=sbdepthB)\n",
    "        if key == 'Tr03':\n",
    "            mask2 = np.ma.getmask(np.ma.masked_less((ConcLinB/nbl.variables[key][0,40,50,50]), 1.0))\n",
    "        else:    \n",
    "            mask2 = np.ma.getmask(np.ma.masked_less((ConcLinB/nbl.variables[key][0,40,50,50]), 1.0))\n",
    "        ConcPool_Bar = np.ma.mean(np.ma.masked_array(ConcAreaLinB/AreaTrB, mask=mask2))\n",
    "        \n",
    "    return(ConcPool_Ast, ConcPool_Bar)\n",
    "\n",
    "def getProfile(ptracers_file, mask, trac, xind, yind, zslice, tt):\n",
    "    \n",
    "    with Dataset(ptracers_file, 'r') as nbl:\n",
    "        \n",
    "        tr = np.ma.masked_array(nbl.variables[trac][tt,zslice,yind,xind], mask = mask[zslice,yind,xind])\n",
    "       \n",
    "    return (tr)\n",
    "\n",
    "def plot_pool_profiles(ptr_fileA, ptr_fileANoC, ptr_fileB, ptr_fileBNoC, \n",
    "                                         key, units, zslice, zsliceB, ZA, ZB,\n",
    "                                         yindA, xindA, yindB, xindB):\n",
    "    \n",
    "    fig,ax = plt.subplots(2,3,figsize=(9,6), sharex=True)\n",
    "\n",
    "    pal1 = sns.color_palette('Greens', 10)\n",
    "    pal2 = sns.color_palette('Purples', 10)\n",
    "\n",
    "    for ii in range(3):\n",
    "        ax[0,ii].axhline(-20, color='0.8')\n",
    "\n",
    "    for ii in range(3):\n",
    "        for tt in range(0,19,2):\n",
    "\n",
    "            tr = getProfile(ptr_fileA, maskCA, key, xindA[ii], yindA[ii], zslice, tt)\n",
    "            trNoC = getProfile(ptr_fileANoC,maskCANoC, key, xindA[ii], yindA[ii], zslice, tt)\n",
    "            ax[0,ii].plot(tr-trNoC, ZA[zslice],color=pal1[int(tt/2)], label='%d' %(tt/2))\n",
    "         \n",
    "    ax[0,1].set_title('St. 2')\n",
    "    ax[0,2].set_title('St. 3')\n",
    "    ax[0,0].set_title('%s Astoria, St. 1' %key)\n",
    "    ax[0,0].set_ylabel('Depth / m')\n",
    "    \n",
    "    for ii in range(3):\n",
    "        ax[1,ii].axhline(-20, color='0.8')\n",
    "        ax[1,ii].set_xlabel(r'%s' %units)\n",
    "    \n",
    "    for ii in range(3):\n",
    "        for tt in range(0,19,2):\n",
    "            tr = getProfile(ptr_fileB, maskCB,key, xindB[ii], yindB[ii], zsliceB, tt)\n",
    "            trNoC = getProfile(ptr_fileBNoC,maskCBNoC, key, xindB[ii], yindB[ii], zsliceB, tt)\n",
    "            ax[1,ii].plot(tr-trNoC, ZB[zsliceB],color=pal2[int(tt/2)], label='%d' %(tt/2))\n",
    "        \n",
    "    ax[1,1].set_title('St. 2')\n",
    "    ax[1,2].set_title('St. 3')\n",
    "    ax[1,0].set_title('%s Barkley, St. 1' %key)\n",
    "    ax[1,0].set_ylabel('Depth / m')\n",
    "     \n",
    "    ax[0,2].legend(bbox_to_anchor=(1,1))   \n",
    "    ax[1,2].legend(bbox_to_anchor=(1,1))"
   ]
  },
  {
   "cell_type": "code",
   "execution_count": 6,
   "metadata": {
    "collapsed": true
   },
   "outputs": [],
   "source": [
    "ptr_fileB = '/data/kramosmu/results/TracerExperiments/UPW_10TR_BF4_BAR/01_Bar03/ptracersGlob.nc'\n",
    "grid_fileB = '/data/kramosmu/results/TracerExperiments/UPW_10TR_BF4_BAR/01_Bar03/gridGlob.nc'\n",
    "\n",
    "ptr_fileA = '/data/kramosmu/results/TracerExperiments/UPW_10TR_BF2_AST/01_Ast03/ptracersGlob.nc'\n",
    "grid_fileA = '/data/kramosmu/results/TracerExperiments/UPW_10TR_BF2_AST/01_Ast03/gridGlob.nc'\n",
    "\n",
    "ptr_fileBNoC = '/data/kramosmu/results/TracerExperiments/UPW_10TR_BF4_BAR/02_Bar03_No_Cny/ptracersGlob.nc'\n",
    "grid_fileBNoC = '/data/kramosmu/results/TracerExperiments/UPW_10TR_BF4_BAR/02_Bar03_No_Cny/gridGlob.nc'\n",
    "\n",
    "ptr_fileANoC = '/data/kramosmu/results/TracerExperiments/UPW_10TR_BF2_AST/02_Ast03_No_Cny/ptracersGlob.nc'\n",
    "grid_fileANoC = '/data/kramosmu/results/TracerExperiments/UPW_10TR_BF2_AST/02_Ast03_No_Cny/gridGlob.nc'"
   ]
  },
  {
   "cell_type": "code",
   "execution_count": 7,
   "metadata": {
    "collapsed": true
   },
   "outputs": [],
   "source": [
    "nz = 104\n",
    "sb_Ast = 29 # shelf break z-index Astoria\n",
    "sb_Bar = 39 # shelf break z-index Barkley\n",
    "\n",
    "with Dataset(grid_fileB, 'r') as nbl:\n",
    "    ZB = nbl.variables['RC'][:]\n",
    "    YB = nbl.variables['Y'][:]\n",
    "    XB = nbl.variables['X'][:]\n",
    "    hFacB = nbl.variables['HFacC'][:]\n",
    "    DepthB = nbl.variables['Depth'][:]\n",
    "    hfac = np.ma.masked_values(hFacB, 0)\n",
    "    maskCB = np.ma.getmask(hfac)\n",
    "    rAB = nbl.variables['rA'][:]\n",
    "    \n",
    "with Dataset(grid_fileA, 'r') as nbl:\n",
    "    ZA = nbl.variables['RC'][:]\n",
    "    YA = nbl.variables['Y'][:]\n",
    "    XA = nbl.variables['X'][:]\n",
    "    hFacA = nbl.variables['HFacC'][:]\n",
    "    DepthA = nbl.variables['Depth'][:]\n",
    "    hfac = np.ma.masked_values(hFacA, 0)\n",
    "    maskCA = np.ma.getmask(hfac)\n",
    "    rAA = nbl.variables['rA'][:]\n",
    "    \n",
    "with Dataset(grid_fileBNoC, 'r') as nbl:\n",
    "    hFacBNoC = nbl.variables['HFacC'][:]\n",
    "    hfacNoC = np.ma.masked_values(hFacBNoC, 0)\n",
    "    maskCBNoC = np.ma.getmask(hfacNoC)\n",
    "    \n",
    "with Dataset(grid_fileANoC, 'r') as nbl:\n",
    "    hFacANoC = nbl.variables['HFacC'][:]\n",
    "    hfacNoC = np.ma.masked_values(hFacANoC, 0)\n",
    "    maskCANoC = np.ma.getmask(hfacNoC)\n",
    "   "
   ]
  },
  {
   "cell_type": "markdown",
   "metadata": {},
   "source": [
    "### 01 - Initial profiles"
   ]
  },
  {
   "cell_type": "code",
   "execution_count": 8,
   "metadata": {
    "collapsed": false
   },
   "outputs": [
    {
     "data": {
      "text/plain": [
       "<matplotlib.legend.Legend at 0x7fd591f98470>"
      ]
     },
     "execution_count": 8,
     "metadata": {},
     "output_type": "execute_result"
    },
    {
     "data": {
      "image/png": "[encoded data removed]",
      "text/plain": [
       "<Figure size 1080x216 with 10 Axes>"
      ]
     },
     "metadata": {},
     "output_type": "display_data"
    }
   ],
   "source": [
    "tracers = ['Tr01','Tr02','Tr03','Tr04','Tr05','Tr06','Tr07','Tr08','Tr09','Tr10']\n",
    "labels = ['Linear 01','Salinty 02','Oxygen 03','Nitrate 04','Silicate 05','Phosphate 06','Nitrous Oxide 07','Methane 08',\n",
    "         'DIC 09', 'Alk 10']\n",
    "#colours = ['purple','blue','green','gold','orange','red','orchid','teal']\n",
    "colours = ['#332288','#44AA99','#117733','#999933','#DDCC77','#CC6677','#882255','#AA4499', 'brown', 'tan']\n",
    "fig,ax = plt.subplots(1,len(tracers),figsize=(15,3), sharey = True)\n",
    "    \n",
    "for ii, trac, col, lab in zip(range(len(tracers)),tracers , colours, labels):\n",
    "\n",
    "    ax[ii].axhline(-200, linestyle=':', color='0.5', label='sb Bar')\n",
    "    ax[ii].axhline(-150, linestyle=':', color='0.2', label='sb Ast')\n",
    "    \n",
    "    for pfile, Z, style in zip([ptr_fileB, ptr_fileA],[ZB, ZA],['-', '--']):\n",
    "        \n",
    "        with Dataset(pfile, 'r') as nbl:\n",
    "            tr_profile = nbl.variables[trac][0,:,10,180]\n",
    "\n",
    "        ax[ii].plot(tr_profile, Z, color=col,linestyle=style)\n",
    "        ax[ii].set_title(lab)\n",
    "        \n",
    "        if (trac == 'Tr07' or trac == 'Tr08'):\n",
    "            ax[ii].set_xlabel('C / nM')\n",
    "        else:\n",
    "            ax[ii].set_xlabel(r'C / $\\mu$M')\n",
    "\n",
    "ax[0].set_ylabel('Depth / m')        \n",
    "ax[0].legend(loc=0)"
   ]
  },
  {
   "cell_type": "markdown",
   "metadata": {},
   "source": [
    "Initial profiles. Profiles for both runs plotted to check they are actually the same."
   ]
  },
  {
   "cell_type": "markdown",
   "metadata": {},
   "source": [
    "#### Vertical tracer gradient"
   ]
  },
  {
   "cell_type": "code",
   "execution_count": 9,
   "metadata": {
    "collapsed": false
   },
   "outputs": [
    {
     "data": {
      "text/plain": [
       "<matplotlib.legend.Legend at 0x7fd5918576d8>"
      ]
     },
     "execution_count": 9,
     "metadata": {},
     "output_type": "execute_result"
    },
    {
     "data": {
      "image/png": "[encoded data removed]",
      "text/plain": [
       "<Figure size 1080x216 with 10 Axes>"
      ]
     },
     "metadata": {},
     "output_type": "display_data"
    }
   ],
   "source": [
    "dTr_Ast = np.empty(len(tracers))\n",
    "dTr_Bar = np.empty(len(tracers))\n",
    "Tr_Ast = np.empty(len(tracers))\n",
    "Tr_Bar = np.empty(len(tracers))\n",
    "\n",
    "fig,ax = plt.subplots(1,len(tracers),figsize=(15,3), sharey = True)\n",
    "    \n",
    "for ii, trac, col, lab in zip(range(len(tracers)),tracers , colours, labels):\n",
    "\n",
    "    ax[ii].axhline(-200, linestyle=':', color='0.5', label='sb Bar')\n",
    "    ax[ii].axhline(-150, linestyle=':', color='0.2', label='sb Ast')\n",
    "    \n",
    "    for pfile, Z, style in zip([ptr_fileB, ptr_fileA],[ZB, ZA],['-', '--']):\n",
    "        \n",
    "        with Dataset(pfile, 'r') as nbl:\n",
    "            tr_profile = nbl.variables[trac][0,:,10,180]\n",
    "            dTrdz = (tr_profile[2:]-tr_profile[:-2])/(-Z[2:]+Z[:-2])  \n",
    "            dTr_Ast[ii] = dTrdz[sb_Ast+1]/dTrdz[sb_Ast-1]\n",
    "            dTr_Bar[ii] = dTrdz[sb_Bar+1]/dTrdz[sb_Bar-1]\n",
    "            Tr_Ast[ii] = tr_profile[sb_Ast]\n",
    "            Tr_Bar[ii] = tr_profile[sb_Bar]\n",
    "            \n",
    "        ax[ii].plot(dTrdz, Z[1:-1], color=col,linestyle=style)\n",
    "        ax[ii].set_title(lab)\n",
    "        \n",
    "        if (trac == 'Tr07' or trac == 'Tr08'):\n",
    "            ax[ii].set_xlabel('$\\partial C_z$ / nMm$^{-1}$')\n",
    "        else:\n",
    "            ax[ii].set_xlabel(r'$\\partial C_z$ / $\\mu$Mm$^{-1}$')\n",
    "\n",
    "ax[0].set_ylabel('Depth / m')        \n",
    "ax[0].legend(loc=0)"
   ]
  },
  {
   "cell_type": "markdown",
   "metadata": {},
   "source": [
    "### 02 - Shelf-bottom pool "
   ]
  },
  {
   "cell_type": "markdown",
   "metadata": {},
   "source": [
    "Linear tracer (Tr01) \n",
    "\n",
    "Tracer gradients below shelf-break depth are the same for both canyons. This is the \"base case\" pool where both canyons have the same N,f, almost same U, and same dTr/dz at shelf-break depth."
   ]
  },
  {
   "cell_type": "code",
   "execution_count": 10,
   "metadata": {
    "collapsed": false
   },
   "outputs": [
    {
     "ename": "IndexError",
     "evalue": "only integers, slices (`:`), ellipsis (`...`), numpy.newaxis (`None`) and integer or boolean arrays are valid indices",
     "output_type": "error",
     "traceback": [
      "\u001b[0;31m---------------------------------------------------------------------------\u001b[0m",
      "\u001b[0;31mIndexError\u001b[0m                                Traceback (most recent call last)",
      "\u001b[0;32m<ipython-input-10-6fda91dfb151>\u001b[0m in \u001b[0;36m<module>\u001b[0;34m()\u001b[0m\n\u001b[1;32m     10\u001b[0m                           \u001b[0mxslice_pl\u001b[0m\u001b[0;34m,\u001b[0m \u001b[0myslice_pl\u001b[0m\u001b[0;34m,\u001b[0m \u001b[0mnz\u001b[0m\u001b[0;34m,\u001b[0m\u001b[0;34m\u001b[0m\u001b[0m\n\u001b[1;32m     11\u001b[0m                           \u001b[0mhFacA\u001b[0m\u001b[0;34m,\u001b[0m \u001b[0mrAA\u001b[0m\u001b[0;34m,\u001b[0m \u001b[0mDepthA\u001b[0m\u001b[0;34m,\u001b[0m \u001b[0mXA\u001b[0m\u001b[0;34m,\u001b[0m \u001b[0mYA\u001b[0m\u001b[0;34m,\u001b[0m\u001b[0;34m\u001b[0m\u001b[0m\n\u001b[0;32m---> 12\u001b[0;31m                           hFacB, rAB, DepthB, XB, YB, sbdepthA=-150, sbdepthB=-200)\n\u001b[0m\u001b[1;32m     13\u001b[0m \u001b[0;34m\u001b[0m\u001b[0m\n\u001b[1;32m     14\u001b[0m \u001b[0myindA\u001b[0m \u001b[0;34m=\u001b[0m \u001b[0;34m[\u001b[0m\u001b[0;36m235\u001b[0m\u001b[0;34m,\u001b[0m\u001b[0;36m255\u001b[0m\u001b[0;34m,\u001b[0m\u001b[0;36m250\u001b[0m\u001b[0;34m]\u001b[0m\u001b[0;34m\u001b[0m\u001b[0m\n",
      "\u001b[0;32m<ipython-input-5-f2ffd7e16446>\u001b[0m in \u001b[0;36mPlotPoolsTr\u001b[0;34m(ax1, ax2, tt, key, ptr_fileA, ptr_fileB, xslice_pl, yslice_pl, nz, hFacA, rAA, DepthA, XA, YA, hFacB, rAB, DepthB, XB, YB, sbdepthA, sbdepthB)\u001b[0m\n\u001b[1;32m    111\u001b[0m     \u001b[0;32mwith\u001b[0m \u001b[0mDataset\u001b[0m\u001b[0;34m(\u001b[0m\u001b[0mptr_fileA\u001b[0m\u001b[0;34m,\u001b[0m \u001b[0;34m'r'\u001b[0m\u001b[0;34m)\u001b[0m \u001b[0;32mas\u001b[0m \u001b[0mnbl\u001b[0m\u001b[0;34m:\u001b[0m\u001b[0;34m\u001b[0m\u001b[0m\n\u001b[1;32m    112\u001b[0m         ConcAreaLinA, ConcLinA, AreaTrA = BottomConc(nbl.variables[key][tt,:,:,:],\n\u001b[0;32m--> 113\u001b[0;31m                                                      hFacA,rAA,DepthA, nz-1,sbdepth=sbdepthA)\n\u001b[0m\u001b[1;32m    114\u001b[0m         mesh1 = PlotPool(ax1,ConcLinA/nbl.variables[key][0,30,50,50],XA, YA,\n\u001b[1;32m    115\u001b[0m                          xslice_pl,yslice_pl, cmo.cm.matter, cmin=0, cmax=1.5)\n",
      "\u001b[0;32m<ipython-input-5-f2ffd7e16446>\u001b[0m in \u001b[0;36mBottomConc\u001b[0;34m(Tr, hfac, ra, bathy, nz, sbdepth)\u001b[0m\n\u001b[1;32m     28\u001b[0m     \u001b[0;32mfor\u001b[0m \u001b[0mj\u001b[0m \u001b[0;32min\u001b[0m \u001b[0mrange\u001b[0m\u001b[0;34m(\u001b[0m\u001b[0;36m616\u001b[0m\u001b[0;34m)\u001b[0m\u001b[0;34m:\u001b[0m\u001b[0;34m\u001b[0m\u001b[0m\n\u001b[1;32m     29\u001b[0m         \u001b[0;32mfor\u001b[0m \u001b[0mi\u001b[0m \u001b[0;32min\u001b[0m \u001b[0mrange\u001b[0m\u001b[0;34m(\u001b[0m\u001b[0;36m360\u001b[0m\u001b[0;34m)\u001b[0m\u001b[0;34m:\u001b[0m\u001b[0;34m\u001b[0m\u001b[0m\n\u001b[0;32m---> 30\u001b[0;31m             \u001b[0mTrBottom\u001b[0m \u001b[0;34m=\u001b[0m \u001b[0mTr\u001b[0m\u001b[0;34m[\u001b[0m\u001b[0mBottomInd\u001b[0m\u001b[0;34m[\u001b[0m\u001b[0mi\u001b[0m\u001b[0;34m,\u001b[0m\u001b[0mj\u001b[0m\u001b[0;34m]\u001b[0m\u001b[0;34m,\u001b[0m\u001b[0mi\u001b[0m\u001b[0;34m,\u001b[0m\u001b[0mj\u001b[0m\u001b[0;34m]\u001b[0m\u001b[0;34m\u001b[0m\u001b[0m\n\u001b[0m\u001b[1;32m     31\u001b[0m             \u001b[0mConcArea\u001b[0m\u001b[0;34m[\u001b[0m\u001b[0mi\u001b[0m\u001b[0;34m,\u001b[0m\u001b[0mj\u001b[0m\u001b[0;34m]\u001b[0m \u001b[0;34m=\u001b[0m \u001b[0mTrBottom\u001b[0m\u001b[0;34m*\u001b[0m\u001b[0mra\u001b[0m\u001b[0;34m[\u001b[0m\u001b[0mi\u001b[0m\u001b[0;34m,\u001b[0m\u001b[0mj\u001b[0m\u001b[0;34m]\u001b[0m\u001b[0;34m\u001b[0m\u001b[0m\n\u001b[1;32m     32\u001b[0m             \u001b[0mConc\u001b[0m\u001b[0;34m[\u001b[0m\u001b[0mi\u001b[0m\u001b[0;34m,\u001b[0m\u001b[0mj\u001b[0m\u001b[0;34m]\u001b[0m \u001b[0;34m=\u001b[0m \u001b[0mTrBottom\u001b[0m\u001b[0;34m\u001b[0m\u001b[0m\n",
      "\u001b[0;31mIndexError\u001b[0m: only integers, slices (`:`), ellipsis (`...`), numpy.newaxis (`None`) and integer or boolean arrays are valid indices"
     ]
    },
    {
     "data": {
      "image/png": "[encoded data removed]",
      "text/plain": [
       "<Figure size 864x144 with 2 Axes>"
      ]
     },
     "metadata": {},
     "output_type": "display_data"
    }
   ],
   "source": [
    "yslice_pl = slice(110,360)\n",
    "xslice_pl = slice(120,500)\n",
    "\n",
    "key = 'Tr01'\n",
    "\n",
    "for tt in [0,4,8,12,16]:\n",
    "    fig, (ax1,ax2) = plt.subplots(1,2,figsize=(12,2), sharey=True, sharex = True)\n",
    "    \n",
    "    ax1,ax2 = PlotPoolsTr(ax1, ax2, tt, key, ptr_fileA, ptr_fileB, \n",
    "                          xslice_pl, yslice_pl, nz,\n",
    "                          hFacA, rAA, DepthA, XA, YA,\n",
    "                          hFacB, rAB, DepthB, XB, YB, sbdepthA=-150, sbdepthB=-200)\n",
    "\n",
    "yindA = [235,255,250]\n",
    "xindA = [180,300,400]\n",
    "yindB = [165, 170, 180]\n",
    "xindB = [180, 250, 300]    \n",
    "\n",
    "ax1.plot(XA[xindA]/1000, YA[yindA]/1000, 'og')\n",
    "ax2.plot(XB[xindB]/1000, YB[yindB]/1000, 'oy')    \n",
    "             "
   ]
  },
  {
   "cell_type": "code",
   "execution_count": null,
   "metadata": {
    "collapsed": false
   },
   "outputs": [],
   "source": [
    "key = 'Tr01'\n",
    "zslice = slice(0,30)\n",
    "zsliceB = slice(0,50)\n",
    "units = r'$\\mu$M'\n",
    "\n",
    "plot_pool_profiles(ptr_fileA, ptr_fileANoC, ptr_fileB, ptr_fileBNoC, key, units, zslice,\n",
    "                   zsliceB, ZA, ZB, yindA, xindA, yindB, xindB)"
   ]
  },
  {
   "cell_type": "markdown",
   "metadata": {},
   "source": [
    "Salinity (Tr02)"
   ]
  },
  {
   "cell_type": "code",
   "execution_count": null,
   "metadata": {
    "collapsed": false
   },
   "outputs": [],
   "source": [
    "key = 'Tr02'\n",
    "\n",
    "for tt in [0,4,8,12,16]:\n",
    "    fig, (ax1,ax2) = plt.subplots(1,2,figsize=(12,2), sharey=True, sharex = True)\n",
    "    \n",
    "    ax1,ax2 = PlotPoolsTr(ax1, ax2, tt, key, ptr_fileA, ptr_fileB, \n",
    "                          xslice_pl, yslice_pl, nz,\n",
    "                          hFacA, rAA, DepthA, XA, YA,\n",
    "                          hFacB, rAB, DepthB, XB, YB, sbdepthA=-150, sbdepthB=-200)\n",
    "yindA = [235,255,250]\n",
    "xindA = [180,300,400]\n",
    "yindB = [165, 170, 180]\n",
    "xindB = [180, 250, 300]    \n",
    "\n",
    "ax1.plot(XA[xindA]/1000, YA[yindA]/1000, 'og')\n",
    "ax2.plot(XB[xindB]/1000, YB[yindB]/1000, 'oy')    "
   ]
  },
  {
   "cell_type": "code",
   "execution_count": null,
   "metadata": {
    "collapsed": false
   },
   "outputs": [],
   "source": [
    "zslice = slice(0,30)\n",
    "zsliceB = slice(0,50)\n",
    "units = r'PSU'\n",
    "\n",
    "plot_pool_profiles(ptr_fileA, ptr_fileANoC, ptr_fileB, ptr_fileBNoC, key, units, zslice,\n",
    "                   zsliceB, ZA, ZB, yindA, xindA, yindB, xindB)"
   ]
  },
  {
   "cell_type": "markdown",
   "metadata": {},
   "source": [
    "Oxygen (Tr03)"
   ]
  },
  {
   "cell_type": "code",
   "execution_count": null,
   "metadata": {
    "collapsed": false
   },
   "outputs": [],
   "source": [
    "key = 'Tr03'\n",
    "\n",
    "for tt in [0,4,8,12,16]:\n",
    "    fig, (ax1,ax2) = plt.subplots(1,2,figsize=(12,2), sharey=True, sharex = True)\n",
    "    \n",
    "    ax1,ax2 = PlotPoolsTr(ax1, ax2, tt, key, ptr_fileA, ptr_fileB, \n",
    "                          xslice_pl, yslice_pl, nz,\n",
    "                          hFacA, rAA, DepthA, XA, YA,\n",
    "                          hFacB, rAB, DepthB, XB, YB, sbdepthA=-150, sbdepthB=-200)\n",
    "yindA = [235,255,250]\n",
    "xindA = [180,300,400]\n",
    "yindB = [165, 170, 180]\n",
    "xindB = [180, 250, 300]    \n",
    "\n",
    "ax1.plot(XA[xindA]/1000, YA[yindA]/1000, 'og')\n",
    "ax2.plot(XB[xindB]/1000, YB[yindB]/1000, 'oy')    "
   ]
  },
  {
   "cell_type": "code",
   "execution_count": null,
   "metadata": {
    "collapsed": false
   },
   "outputs": [],
   "source": [
    "zslice = slice(0,30)\n",
    "zsliceB = slice(0,50)\n",
    "units = r'$\\mu$M'\n",
    "\n",
    "plot_pool_profiles(ptr_fileA, ptr_fileANoC, ptr_fileB, ptr_fileBNoC, key, units, zslice,\n",
    "                   zsliceB, ZA, ZB, yindA, xindA, yindB, xindB)"
   ]
  },
  {
   "cell_type": "markdown",
   "metadata": {},
   "source": [
    "Nitrate (Tr04)"
   ]
  },
  {
   "cell_type": "code",
   "execution_count": null,
   "metadata": {
    "collapsed": false
   },
   "outputs": [],
   "source": [
    "key = 'Tr04'\n",
    "\n",
    "for tt in [0,4,8,12,16]:\n",
    "    fig, (ax1,ax2) = plt.subplots(1,2,figsize=(12,2), sharey=True, sharex = True)\n",
    "    \n",
    "    ax1,ax2 = PlotPoolsTr(ax1, ax2, tt, key, ptr_fileA, ptr_fileB, \n",
    "                          xslice_pl, yslice_pl, nz,\n",
    "                          hFacA, rAA, DepthA, XA, YA,\n",
    "                          hFacB, rAB, DepthB, XB, YB, sbdepthA=-150, sbdepthB=-200)\n",
    "yindA = [235,255,250]\n",
    "xindA = [180,300,400]\n",
    "yindB = [165, 170, 180]\n",
    "xindB = [180, 250, 300]    \n",
    "\n",
    "ax1.plot(XA[xindA]/1000, YA[yindA]/1000, 'og')\n",
    "ax2.plot(XB[xindB]/1000, YB[yindB]/1000, 'oy')    "
   ]
  },
  {
   "cell_type": "code",
   "execution_count": null,
   "metadata": {
    "collapsed": false
   },
   "outputs": [],
   "source": [
    "zslice = slice(0,30)\n",
    "zsliceB = slice(0,50)\n",
    "units = r'$\\mu$M'\n",
    "\n",
    "plot_pool_profiles(ptr_fileA, ptr_fileANoC, ptr_fileB, ptr_fileBNoC, key, units, zslice,\n",
    "                   zsliceB, ZA, ZB, yindA, xindA, yindB, xindB)"
   ]
  },
  {
   "cell_type": "markdown",
   "metadata": {},
   "source": [
    "Silicate (Tr05)"
   ]
  },
  {
   "cell_type": "code",
   "execution_count": null,
   "metadata": {
    "collapsed": false
   },
   "outputs": [],
   "source": [
    "key = 'Tr05'\n",
    "\n",
    "for tt in [0,4,8,12,16]:\n",
    "    fig, (ax1,ax2) = plt.subplots(1,2,figsize=(12,2), sharey=True, sharex = True)\n",
    "    \n",
    "    ax1,ax2 = PlotPoolsTr(ax1, ax2, tt, key, ptr_fileA, ptr_fileB, \n",
    "                          xslice_pl, yslice_pl, nz,\n",
    "                          hFacA, rAA, DepthA, XA, YA,\n",
    "                          hFacB, rAB, DepthB, XB, YB, sbdepthA=-150, sbdepthB=-200)\n",
    "yindA = [235,255,250]\n",
    "xindA = [180,300,400]\n",
    "yindB = [165, 170, 180]\n",
    "xindB = [180, 250, 300]    \n",
    "\n",
    "ax1.plot(XA[xindA]/1000, YA[yindA]/1000, 'og')\n",
    "ax2.plot(XB[xindB]/1000, YB[yindB]/1000, 'oy')    "
   ]
  },
  {
   "cell_type": "code",
   "execution_count": null,
   "metadata": {
    "collapsed": false
   },
   "outputs": [],
   "source": [
    "zslice = slice(0,30)\n",
    "zsliceB = slice(0,50)\n",
    "units = r'$\\mu$M'\n",
    "\n",
    "plot_pool_profiles(ptr_fileA, ptr_fileANoC, ptr_fileB, ptr_fileBNoC, key, units, zslice,\n",
    "                   zsliceB, ZA, ZB, yindA, xindA, yindB, xindB)"
   ]
  },
  {
   "cell_type": "markdown",
   "metadata": {},
   "source": [
    "Phosphate (Tr06)"
   ]
  },
  {
   "cell_type": "code",
   "execution_count": null,
   "metadata": {
    "collapsed": false,
    "scrolled": false
   },
   "outputs": [],
   "source": [
    "key = 'Tr06'\n",
    "\n",
    "for tt in [0,4,8,12,16]:\n",
    "    fig, (ax1,ax2) = plt.subplots(1,2,figsize=(12,2), sharey=True, sharex = True)\n",
    "    \n",
    "    ax1,ax2 = PlotPoolsTr(ax1, ax2, tt, key, ptr_fileA, ptr_fileB, \n",
    "                          xslice_pl, yslice_pl, nz,\n",
    "                          hFacA, rAA, DepthA, XA, YA,\n",
    "                          hFacB, rAB, DepthB, XB, YB, sbdepthA=-150, sbdepthB=-200)\n",
    "yindA = [235,255,250]\n",
    "xindA = [180,300,400]\n",
    "yindB = [165, 170, 180]\n",
    "xindB = [180, 250, 300]    \n",
    "\n",
    "ax1.plot(XA[xindA]/1000, YA[yindA]/1000, 'og')\n",
    "ax2.plot(XB[xindB]/1000, YB[yindB]/1000, 'oy')    "
   ]
  },
  {
   "cell_type": "code",
   "execution_count": null,
   "metadata": {
    "collapsed": false
   },
   "outputs": [],
   "source": [
    "zslice = slice(0,30)\n",
    "zsliceB = slice(0,50)\n",
    "units = r'$\\mu$M'\n",
    "\n",
    "plot_pool_profiles(ptr_fileA, ptr_fileANoC, ptr_fileB, ptr_fileBNoC, key, units, zslice,\n",
    "                   zsliceB, ZA, ZB, yindA, xindA, yindB, xindB)"
   ]
  },
  {
   "cell_type": "markdown",
   "metadata": {},
   "source": [
    "Nitrous Oxide (Tr07)"
   ]
  },
  {
   "cell_type": "code",
   "execution_count": null,
   "metadata": {
    "collapsed": false
   },
   "outputs": [],
   "source": [
    "key = 'Tr07'\n",
    "\n",
    "for tt in [0,4,8,12,16]:\n",
    "    fig, (ax1,ax2) = plt.subplots(1,2,figsize=(12,2), sharey=True, sharex = True)\n",
    "    \n",
    "    ax1,ax2 = PlotPoolsTr(ax1, ax2, tt, key, ptr_fileA, ptr_fileB, \n",
    "                          xslice_pl, yslice_pl, nz,\n",
    "                          hFacA, rAA, DepthA, XA, YA,\n",
    "                          hFacB, rAB, DepthB, XB, YB, sbdepthA=-150, sbdepthB=-200)\n",
    "yindA = [235,255,250]\n",
    "xindA = [180,300,400]\n",
    "yindB = [165, 170, 180]\n",
    "xindB = [180, 250, 300]    \n",
    "\n",
    "ax1.plot(XA[xindA]/1000, YA[yindA]/1000, 'og')\n",
    "ax2.plot(XB[xindB]/1000, YB[yindB]/1000, 'oy')    "
   ]
  },
  {
   "cell_type": "code",
   "execution_count": null,
   "metadata": {
    "collapsed": false
   },
   "outputs": [],
   "source": [
    "zslice = slice(0,30)\n",
    "zsliceB = slice(0,50)\n",
    "units = r'$n$M'\n",
    "\n",
    "plot_pool_profiles(ptr_fileA, ptr_fileANoC, ptr_fileB, ptr_fileBNoC, key, units, zslice,\n",
    "                   zsliceB, ZA, ZB, yindA, xindA, yindB, xindB)"
   ]
  },
  {
   "cell_type": "markdown",
   "metadata": {},
   "source": [
    "Methane (Tr08)"
   ]
  },
  {
   "cell_type": "code",
   "execution_count": null,
   "metadata": {
    "collapsed": false
   },
   "outputs": [],
   "source": [
    "key = 'Tr08'\n",
    "\n",
    "for tt in [0,4,8,12,16]:\n",
    "    fig, (ax1,ax2) = plt.subplots(1,2,figsize=(12,2), sharey=True, sharex = True)\n",
    "    \n",
    "    ax1,ax2 = PlotPoolsTr(ax1, ax2, tt, key, ptr_fileA, ptr_fileB, \n",
    "                          xslice_pl, yslice_pl, nz,\n",
    "                          hFacA, rAA, DepthA, XA, YA,\n",
    "                          hFacB, rAB, DepthB, XB, YB, sbdepthA=-150, sbdepthB=-200)\n",
    "yindA = [235,255,250]\n",
    "xindA = [180,300,400]\n",
    "yindB = [165, 170, 180]\n",
    "xindB = [180, 250, 300]    \n",
    "\n",
    "ax1.plot(XA[xindA]/1000, YA[yindA]/1000, 'og')\n",
    "ax2.plot(XB[xindB]/1000, YB[yindB]/1000, 'oy')    "
   ]
  },
  {
   "cell_type": "code",
   "execution_count": null,
   "metadata": {
    "collapsed": false
   },
   "outputs": [],
   "source": [
    "zslice = slice(0,30)\n",
    "zsliceB = slice(0,50)\n",
    "units = r'$n$M'\n",
    "\n",
    "plot_pool_profiles(ptr_fileA, ptr_fileANoC, ptr_fileB, ptr_fileBNoC, key, units, zslice,\n",
    "                   zsliceB, ZA, ZB, yindA, xindA, yindB, xindB)"
   ]
  },
  {
   "cell_type": "code",
   "execution_count": null,
   "metadata": {
    "collapsed": true
   },
   "outputs": [],
   "source": [
    "key = 'Tr09'\n",
    "\n",
    "for tt in [0,4,8,12,16]:\n",
    "    fig, (ax1,ax2) = plt.subplots(1,2,figsize=(12,2), sharey=True, sharex = True)\n",
    "    \n",
    "    ax1,ax2 = PlotPoolsTr(ax1, ax2, tt, key, ptr_fileA, ptr_fileB, \n",
    "                          xslice_pl, yslice_pl, nz,\n",
    "                          hFacA, rAA, DepthA, XA, YA,\n",
    "                          hFacB, rAB, DepthB, XB, YB, sbdepthA=-150, sbdepthB=-200)\n",
    "yindA = [235,255,250]\n",
    "xindA = [180,300,400]\n",
    "yindB = [165, 170, 180]\n",
    "xindB = [180, 250, 300]    \n",
    "\n",
    "ax1.plot(XA[xindA]/1000, YA[yindA]/1000, 'og')\n",
    "ax2.plot(XB[xindB]/1000, YB[yindB]/1000, 'oy')    "
   ]
  },
  {
   "cell_type": "code",
   "execution_count": null,
   "metadata": {
    "collapsed": true
   },
   "outputs": [],
   "source": [
    "zslice = slice(0,30)\n",
    "zsliceB = slice(0,50)\n",
    "units = r'$\\mu$M'\n",
    "\n",
    "plot_pool_profiles(ptr_fileA, ptr_fileANoC, ptr_fileB, ptr_fileBNoC, key, units, zslice,\n",
    "                   zsliceB, ZA, ZB, yindA, xindA, yindB, xindB)"
   ]
  },
  {
   "cell_type": "code",
   "execution_count": null,
   "metadata": {
    "collapsed": true
   },
   "outputs": [],
   "source": [
    "key = 'Tr10'\n",
    "\n",
    "for tt in [0,4,8,12,16]:\n",
    "    fig, (ax1,ax2) = plt.subplots(1,2,figsize=(12,2), sharey=True, sharex = True)\n",
    "    \n",
    "    ax1,ax2 = PlotPoolsTr(ax1, ax2, tt, key, ptr_fileA, ptr_fileB, \n",
    "                          xslice_pl, yslice_pl, nz,\n",
    "                          hFacA, rAA, DepthA, XA, YA,\n",
    "                          hFacB, rAB, DepthB, XB, YB, sbdepthA=-150, sbdepthB=-200)\n",
    "yindA = [235,255,250]\n",
    "xindA = [180,300,400]\n",
    "yindB = [165, 170, 180]\n",
    "xindB = [180, 250, 300]    \n",
    "\n",
    "ax1.plot(XA[xindA]/1000, YA[yindA]/1000, 'og')\n",
    "ax2.plot(XB[xindB]/1000, YB[yindB]/1000, 'oy')    "
   ]
  },
  {
   "cell_type": "code",
   "execution_count": null,
   "metadata": {
    "collapsed": true
   },
   "outputs": [],
   "source": [
    "zslice = slice(0,30)\n",
    "zsliceB = slice(0,50)\n",
    "units = r'$\\mu$M'\n",
    "\n",
    "plot_pool_profiles(ptr_fileA, ptr_fileANoC, ptr_fileB, ptr_fileBNoC, key, units, zslice,\n",
    "                   zsliceB, ZA, ZB, yindA, xindA, yindB, xindB)"
   ]
  },
  {
   "cell_type": "markdown",
   "metadata": {},
   "source": [
    "Which one is larger?\n",
    "\n",
    "Which one has higher concentration on average?\n",
    "\n",
    "Depth of largest gradients vs shelf?\n",
    "\n",
    "What matters is the tracer gradient below shelf break depth, but how deep is \"below\"? at shelf-break depth, Z (depth of upwelling), other scale?\n",
    "\n",
    "Does gradient above matter?\n",
    "\n",
    "Maybe I should also run a Barkley with same sb depth as Astoria or the opposite..."
   ]
  },
  {
   "cell_type": "markdown",
   "metadata": {
    "collapsed": true
   },
   "source": [
    "### HCW and tracer mass from all tracers\n",
    "\n",
    "- HCW all calculated with lin tracer, but shouldn't it be the same for all tracers ideally?\n",
    "- TrMass calculated using lin tracer to find cells with upwelled water and concetration from the tracer we are studying."
   ]
  },
  {
   "cell_type": "code",
   "execution_count": null,
   "metadata": {
    "collapsed": false
   },
   "outputs": [],
   "source": [
    "fig, ax = plt.subplots(1,2,figsize=(11,4))\n",
    "\n",
    "tracers2 = ['Tr01','Tr02','Tr04','Tr05','Tr06','Tr07','Tr08','Tr09','Tr10']\n",
    "labels2 = ['Linear 01','Salinty 02','Nitrate 04','Silicate 05','Phosphate 06','Nitrous Oxide 07',\n",
    "           'Methane 08','DIC 09', 'Alk 10']\n",
    "colours2 = ['#332288','#44AA99','#999933','#DDCC77','#CC6677','#882255','#AA4499', 'brown', 'tan']\n",
    "\n",
    "for key, col, lab in zip(tracers2, colours2, labels2):\n",
    "    \n",
    "    f_Ast = ('/data/kramosmu/results/TracerExperiments/UPW_10TR_BF2_AST/HCW_TrMass_%s_UPW_10TR_BF2_AST_01.csv' %key)\n",
    "    df_Ast = pd.read_csv(f_Ast)\n",
    "    HCW_Ast = df_Ast['HCW']\n",
    "    ax[0].plot(np.arange(19)/2, HCW_Ast, color=col, label=lab)\n",
    "    \n",
    "    f_Bar = ('/data/kramosmu/results/TracerExperiments/UPW_10TR_BF4_BAR/HCW_TrMass_%s_UPW_10TR_BF4_BAR_01.csv' %key)\n",
    "    df_Bar = pd.read_csv(f_Bar)\n",
    "    HCW_Bar = df_Bar['HCW']\n",
    "    ax[1].plot(np.arange(19)/2, HCW_Bar, color=col, label=lab)\n",
    "\n",
    "ax[0].set_ylabel('HCW / m$^3$')\n",
    "ax[0].set_xlabel('day')\n",
    "ax[1].set_xlabel('day')\n",
    "\n",
    "ax[1].legend(loc=0)"
   ]
  },
  {
   "cell_type": "code",
   "execution_count": null,
   "metadata": {
    "collapsed": false
   },
   "outputs": [],
   "source": [
    "fig, ax = plt.subplots(1,2,figsize=(11,4), sharey=True)\n",
    "\n",
    "for key, col, lab in zip(tracers2, colours2, labels):\n",
    "    \n",
    "    f_Ast = ('/data/kramosmu/results/TracerExperiments/UPW_10TR_BF2_AST/HCW_TrMass_%s_UPW_10TR_BF2_AST_01.csv' %key)\n",
    "    df_Ast = pd.read_csv(f_Ast)\n",
    "    TrMass_Ast = df_Ast['TrMassHCW']\n",
    "    \n",
    "    if (key == 'Tr07') or (key == 'Tr08'):\n",
    "        ax[0].plot(np.arange(19)/2, TrMass_Ast*1E-3, color=col, label=lab)\n",
    "    else:\n",
    "        ax[0].plot(np.arange(19)/2, TrMass_Ast, color=col, label=lab)\n",
    "   \n",
    "    f_Bar = ('/data/kramosmu/results/TracerExperiments/UPW_10TR_BF4_BAR/HCW_TrMass_%s_UPW_10TR_BF4_BAR_01.csv' %key)\n",
    "    df_Bar = pd.read_csv(f_Bar)\n",
    "    TrMass_Bar = df_Bar['TrMassHCW']\n",
    "    if (key == 'Tr07') or (key == 'Tr08'):\n",
    "        ax[1].plot(np.arange(19)/2, TrMass_Bar*1E-3, color=col, label=lab)\n",
    "    else:\n",
    "        ax[1].plot(np.arange(19)/2, TrMass_Bar, color=col, label=lab)\n",
    "\n",
    "ax[0].set_ylabel('TrMass / $\\mu$M')\n",
    "ax[0].set_xlabel('day')\n",
    "ax[1].set_xlabel('day')\n",
    "ax[0].set_title('Astoria')\n",
    "ax[1].set_title('Barkley')\n",
    "\n",
    "ax[1].legend(loc=0)\n"
   ]
  },
  {
   "cell_type": "markdown",
   "metadata": {},
   "source": [
    "Here we are comparing muM but not all moles are the same. We are not making a fair comparison because the concentrations are so different. The change in methane on the shelf is huge compared to initial values but it is measured in nM."
   ]
  },
  {
   "cell_type": "markdown",
   "metadata": {},
   "source": [
    "### Pool size"
   ]
  },
  {
   "cell_type": "code",
   "execution_count": null,
   "metadata": {
    "collapsed": false
   },
   "outputs": [],
   "source": [
    "# This cell is super slow\n",
    "\n",
    "keys = ['Tr01','Tr02','Tr03','Tr04','Tr05','Tr06','Tr07','Tr08','Tr09','Tr10']\n",
    "nt = 19\n",
    "pool_B = np.empty((len(keys),nt))\n",
    "pool_A = np.empty((len(keys),nt))\n",
    "ii = 0\n",
    "\n",
    "for key in keys:\n",
    "    \n",
    "    for tt in range(nt):\n",
    "        pool_A[ii,tt], pool_B[ii,tt] = GetPoolArea(tt, key, ptr_fileA, ptr_fileB,nz, hFacA, rAA, \n",
    "                                                   DepthA, hFacB, rAB, DepthB, sbdepthA=-150, sbdepthB=-200)\n",
    "    ii = ii+1"
   ]
  },
  {
   "cell_type": "code",
   "execution_count": null,
   "metadata": {
    "collapsed": false
   },
   "outputs": [],
   "source": [
    "A_Ast = 1.8E8 # m^2\n",
    "A_Bar = 8.7E7 # m^2\n",
    "\n",
    "sns.set_style('whitegrid')\n",
    "fig, ax = plt.subplots(1,3,figsize=(14,4))\n",
    "\n",
    "for lab,col,ii in zip(labels2, colours2, [0,1,3,4,5,6,7,8,9]):\n",
    "    ax[0].plot(np.arange(nt)/2,pool_A[ii,:], '-', color = col, label = lab)\n",
    "    ax[1].plot(np.arange(nt)/2,pool_B[ii,:], '-', color = col)\n",
    "    ax[2].plot(np.arange(nt)/2,pool_A[ii,:]/A_Ast, '-', color = col)\n",
    "    ax[2].plot(np.arange(nt)/2,pool_B[ii,:]/A_Bar, '--', color = col)\n",
    "\n",
    "for ii in range(len(ax)):\n",
    "    ax[ii].set_xlabel('days')\n",
    "\n",
    "ax[0].set_ylabel('Pool area / m$^{2}$')\n",
    "ax[2].set_ylabel('Pool area / Canyon area')\n",
    "ax[0].legend()\n",
    "ax[0].set_title('Astoria')\n",
    "ax[1].set_title('Barkley')\n",
    "ax[2].set_title('- - Barkley, - Astoria')\n"
   ]
  },
  {
   "cell_type": "markdown",
   "metadata": {},
   "source": [
    "If you approximate canyons as a triangle, their area would be:\n",
    "   \n",
    "   $A_{Ast} \\approx$ 22 km $\\times$ 16 km /2 = 1.8$\\times10^{8}$ m$^2$\n",
    "   \n",
    "   $A_{Bar} \\approx$ 6 km $\\times$ 13 km /2 = 8.7$\\times10^{7}$ m$^2$\n",
    "   \n",
    "   "
   ]
  },
  {
   "cell_type": "code",
   "execution_count": null,
   "metadata": {
    "collapsed": false
   },
   "outputs": [],
   "source": [
    "sns.set_style('whitegrid')\n",
    "fig, ax = plt.subplots(1,1,figsize=(6,4))\n",
    "\n",
    "for lab,col,ii in zip(labels2, colours2, [0,1,3,4,5,6,7,8,9]):\n",
    "    ax.plot(dTr_Ast[ii],np.mean(pool_A[ii,8:])/A_Ast, 'o', color = col, label = lab)\n",
    "    ax.plot(dTr_Bar[ii],np.mean(pool_B[ii,8:])/A_Bar, '^', color = col, label = lab)\n",
    "   \n",
    "ax.set_ylabel('Pool area / Canyon area')\n",
    "ax.set_xlabel('$\\partial C_z$ above SB/ $\\partial C_z$ below SB')\n",
    "ax.legend(bbox_to_anchor=(1,1))\n",
    "ax.set_title('Astoria: o, Barkley ^')\n"
   ]
  },
  {
   "cell_type": "markdown",
   "metadata": {
    "collapsed": false
   },
   "source": [
    "### Pool concentration"
   ]
  },
  {
   "cell_type": "code",
   "execution_count": null,
   "metadata": {
    "collapsed": false
   },
   "outputs": [],
   "source": [
    "# This cell is super slow\n",
    "\n",
    "keys = ['Tr01','Tr02','Tr03','Tr04','Tr05','Tr06','Tr07','Tr08','Tr09', 'Tr10']\n",
    "nt = 19\n",
    "Cpool_B = np.empty((len(keys),nt))\n",
    "Cpool_A = np.empty((len(keys),nt))\n",
    "ii = 0\n",
    "\n",
    "for key in keys:\n",
    "    \n",
    "    for tt in range(nt):\n",
    "        Cpool_A[ii,tt], Cpool_B[ii,tt] = GetPoolConc(tt, key, ptr_fileA, ptr_fileB,nz, hFacA, rAA, \n",
    "                                                     DepthA, hFacB, rAB, DepthB, sbdepthA=-150, sbdepthB=-200)\n",
    "    ii = ii+1"
   ]
  },
  {
   "cell_type": "code",
   "execution_count": null,
   "metadata": {
    "collapsed": false
   },
   "outputs": [],
   "source": [
    "A_Ast = 1.8E8 # m^2\n",
    "A_Bar = 8.7E7 # m^2\n",
    "\n",
    "sns.set_style('whitegrid')\n",
    "fig, ax = plt.subplots(1,3,figsize=(14,4))\n",
    "\n",
    "for lab,col,ii in zip(labels2, colours2, [0,1,3,4,5,6,7,8,9]):\n",
    "    ax[0].plot(np.arange(nt)/2,Cpool_A[ii,:]/Tr_Ast[ii], '-', color = col, label = lab)\n",
    "    ax[1].plot(np.arange(nt)/2,Cpool_B[ii,:]/Tr_Bar[ii], '-', color = col)\n",
    "    ax[2].plot(np.arange(nt)/2,Cpool_A[ii,:]/Tr_Ast[ii], '-', color = col)\n",
    "    ax[2].plot(np.arange(nt)/2,Cpool_B[ii,:]/Tr_Bar[ii], '--', color = col)\n",
    "\n",
    "for ii in range(len(ax)):\n",
    "    ax[ii].set_xlabel('days')\n",
    "\n",
    "ax[0].set_ylabel(r'Pool C / $\\mu$M')\n",
    "ax[2].set_ylabel(r'Pool C / $C_{sb}$')\n",
    "ax[0].legend(bbox_to_anchor=(4,1))\n",
    "ax[0].set_title('Astoria')\n",
    "ax[1].set_title('Barkley')\n",
    "ax[2].set_title('- - Barkley, - Astoria')\n"
   ]
  },
  {
   "cell_type": "code",
   "execution_count": null,
   "metadata": {
    "collapsed": false
   },
   "outputs": [],
   "source": [
    "sns.set_style('whitegrid')\n",
    "fig, ax = plt.subplots(1,1,figsize=(6,4))\n",
    "\n",
    "for lab,col,ii in zip(labels2, colours2, [0,1,3,4,5,6,7,8,9]):\n",
    "    ax.plot(dTr_Ast[ii],np.mean(Cpool_A[ii,8:]/Tr_Ast[ii]), 'o', color = col, label = lab)\n",
    "    ax.plot(dTr_Bar[ii],np.mean(Cpool_B[ii,8:]/Tr_Bar[ii]), '^', color = col, label = lab)\n",
    "   \n",
    "ax.set_ylabel('Mean pool concentration / $C_{sb}$')\n",
    "ax.set_xlabel('$\\partial C_z$ above SB/ $\\partial C_z$ below SB')\n",
    "ax.legend(bbox_to_anchor=(1,1))\n",
    "ax.set_title('Astoria: o, Barkley ^')\n"
   ]
  },
  {
   "cell_type": "markdown",
   "metadata": {
    "collapsed": true
   },
   "source": [
    "*"
   ]
  },
  {
   "cell_type": "code",
   "execution_count": null,
   "metadata": {
    "collapsed": true
   },
   "outputs": [],
   "source": []
  }
 ],
 "metadata": {
  "anaconda-cloud": {},
  "kernelspec": {
   "display_name": "Python [default]",
   "language": "python",
   "name": "python3"
  },
  "language_info": {
   "codemirror_mode": {
    "name": "ipython",
    "version": 3
   },
   "file_extension": ".py",
   "mimetype": "text/x-python",
   "name": "python",
   "nbconvert_exporter": "python",
   "pygments_lexer": "ipython3",
   "version": "3.5.4"
  }
 },
 "nbformat": 4,
 "nbformat_minor": 1
}
