{
 "cells": [
  {
   "cell_type": "markdown",
   "metadata": {},
   "source": [
    "### generate pool data table"
   ]
  },
  {
   "cell_type": "code",
   "execution_count": 2,
   "metadata": {
    "collapsed": false
   },
   "outputs": [],
   "source": [
    "import cmocean as cmo\n",
    "from netCDF4 import Dataset\n",
    "import matplotlib.pyplot as plt\n",
    "import matplotlib as mpl\n",
    "%matplotlib inline\n",
    "import numpy as np\n",
    "import pandas as pd\n",
    "import seaborn as sns\n",
    "import canyon_tools.readout_tools as rout\n",
    "import canyon_tools.savitzky_golay as sg\n",
    "import xarray as xr\n",
    "import matplotlib.gridspec as gspec"
   ]
  },
  {
   "cell_type": "code",
   "execution_count": 3,
   "metadata": {
    "collapsed": false
   },
   "outputs": [
    {
     "data": {
      "text/html": [
       "<script>\n",
       "code_show=true; \n",
       "function code_toggle() {\n",
       " if (code_show){\n",
       " $('div.input').hide();\n",
       " } else {\n",
       " $('div.input').show();\n",
       " }\n",
       " code_show = !code_show\n",
       "} \n",
       "$( document ).ready(code_toggle);\n",
       "</script>\n",
       "<form action=\"javascript:code_toggle()\"><input type=\"submit\" value=\"Click here to toggle on/off the raw code.\"></form>"
      ],
      "text/plain": [
       "<IPython.core.display.HTML object>"
      ]
     },
     "execution_count": 3,
     "metadata": {},
     "output_type": "execute_result"
    }
   ],
   "source": [
    "from IPython.display import HTML\n",
    "\n",
    "HTML('''<script>\n",
    "code_show=true; \n",
    "function code_toggle() {\n",
    " if (code_show){\n",
    " $('div.input').hide();\n",
    " } else {\n",
    " $('div.input').show();\n",
    " }\n",
    " code_show = !code_show\n",
    "} \n",
    "$( document ).ready(code_toggle);\n",
    "</script>\n",
    "<form action=\"javascript:code_toggle()\"><input type=\"submit\" value=\"Click here to toggle on/off the raw code.\"></form>''')\n"
   ]
  },
  {
   "cell_type": "code",
   "execution_count": 4,
   "metadata": {
    "collapsed": false
   },
   "outputs": [],
   "source": [
    "sns.set_context('notebook')\n",
    "sns.set_style('whitegrid')"
   ]
  },
  {
   "cell_type": "code",
   "execution_count": 5,
   "metadata": {
    "collapsed": true
   },
   "outputs": [],
   "source": [
    "sb_Ast = 29 # shelf break z-index Astoria\n",
    "sb_Bar = 39 # shelf break z-index Barkley\n",
    "\n",
    "ptr_fileB = '/data/kramosmu/results/TracerExperiments/UPW_10TR_BF4_BAR/01_Bar03/ptracersGlob.nc'\n",
    "ptr_fileA = '/data/kramosmu/results/TracerExperiments/UPW_10TR_BF2_AST/01_Ast03/ptracersGlob.nc'\n"
   ]
  },
  {
   "cell_type": "markdown",
   "metadata": {},
   "source": [
    "#### Get initial concentration at shelf break"
   ]
  },
  {
   "cell_type": "code",
   "execution_count": 6,
   "metadata": {
    "collapsed": false
   },
   "outputs": [],
   "source": [
    "tracers = ['Tr01','Tr02','Tr03','Tr04','Tr05','Tr06','Tr07','Tr08','Tr09','Tr10']\n",
    "labels = ['Linear 01','Salinty 02','Oxygen 03','Nitrate 04','Silicate 05','Phosphate 06','Nitrous Oxide 07','Methane 08',\n",
    "         'DIC 09', 'Alk 10']\n",
    "colours = ['#332288','#44AA99','#117733','#999933','#DDCC77','#CC6677','#882255','#AA4499', 'brown', 'tan']\n",
    "sb_conc_A = np.empty(len(labels))\n",
    "sb_conc_B = np.empty(len(labels))\n",
    "\n",
    "for ii, trac in zip(range(len(tracers)),tracers):\n",
    "    for pfile,sb_array, sb_ind in zip([ptr_fileB, ptr_fileA],[sb_conc_A, sb_conc_B], [sb_Ast, sb_Bar]):\n",
    "        with Dataset(pfile, 'r') as nbl:\n",
    "            tr_profile = nbl.variables[trac][0,:,10,180]\n",
    "            sb_array[ii] = tr_profile[sb_ind]\n",
    "\n",
    "    "
   ]
  },
  {
   "cell_type": "markdown",
   "metadata": {},
   "source": [
    "### Table all runs"
   ]
  },
  {
   "cell_type": "code",
   "execution_count": 20,
   "metadata": {
    "collapsed": false
   },
   "outputs": [
    {
     "name": "stdout",
     "output_type": "stream",
     "text": [
      "Run &\t$A_{pool}/A_{can}$ day 9 &\tmax $A_{pool}/A_{can}$) &\t$C$ at day 9 &\tmax $C$ &\tmax $\\Delta C$ (%) \n",
      "Astoria Lin &\t38.91 &\t38.91 &\t8.31 &\t9.25 &\t28.12 skl\n",
      "Ast. ARGO Lin &\t22.80 &\t22.80 &\t8.32 &\t8.71 &\t20.72 skl\n",
      "Barkley Lin &\t6.60 &\t11.18 &\t9.84 &\t9.95 &\t10.32 skl\n",
      "Bar. Path. Lin &\t23.48 &\t23.48 &\t10.08 &\t10.41 &\t15.40 skl\n",
      "Astoria Sal &\t3.84 &\t10.67 &\t33.93 &\t33.94 &\t0.13 skl\n",
      "Ast. ARGO Sal &\t2.66 &\t7.11 &\t33.94 &\t33.94 &\t0.12 skl\n",
      "Barkley Sal &\t3.44 &\t7.83 &\t33.95 &\t33.95 &\t0.04 skl\n",
      "Bar. Path. Sal &\t7.88 &\t15.04 &\t33.96 &\t33.96 &\t0.06 skl\n",
      "Astoria Oxy &\t35.26 &\t35.26 &\t96.20 &\t103.14 &\t-0.90 skl\n",
      "Ast. ARGO Oxy &\t20.45 &\t20.45 &\t95.46 &\t103.41 &\t-0.63 skl\n",
      "Barkley Oxy &\t208.20 &\t210.12 &\t123.30 &\t145.55 &\t71.74 skl\n",
      "Bar. Path. Oxy &\t204.45 &\t210.12 &\t127.97 &\t145.35 &\t71.50 skl\n",
      "Astoria Nit &\t37.00 &\t37.00 &\t33.70 &\t34.86 &\t6.91 skl\n",
      "Ast. ARGO Nit &\t21.92 &\t21.92 &\t33.75 &\t34.30 &\t5.20 skl\n",
      "Barkley Nit &\t3.08 &\t7.65 &\t35.69 &\t35.76 &\t2.38 skl\n",
      "Bar. Path. Nit &\t9.24 &\t14.61 &\t36.08 &\t36.14 &\t3.48 skl\n",
      "Astoria Sil &\t35.34 &\t35.34 &\t50.21 &\t52.91 &\t11.10 skl\n",
      "Ast. ARGO Sil &\t19.83 &\t19.83 &\t50.41 &\t51.48 &\t8.08 skl\n",
      "Barkley Sil &\t4.44 &\t8.76 &\t54.67 &\t54.94 &\t4.56 skl\n",
      "Bar. Path. Sil &\t17.04 &\t18.02 &\t55.63 &\t56.17 &\t6.89 skl\n",
      "Astoria Pho &\t35.91 &\t35.91 &\t2.31 &\t2.38 &\t6.18 skl\n",
      "Ast. ARGO Pho &\t20.52 &\t20.52 &\t2.32 &\t2.35 &\t4.63 skl\n",
      "Barkley Pho &\t2.43 &\t6.88 &\t2.44 &\t2.44 &\t2.04 skl\n",
      "Bar. Path. Pho &\t8.44 &\t12.56 &\t2.47 &\t2.47 &\t3.23 skl\n",
      "Astoria NiO &\t1.51 &\t6.46 &\t0.03 &\t0.03 &\t1.55 skl\n",
      "Ast. ARGO NiO &\t1.19 &\t4.41 &\t0.03 &\t0.03 &\t1.77 skl\n",
      "Barkley NiO &\t5.31 &\t10.36 &\t0.03 &\t0.03 &\t0.56 skl\n",
      "Bar. Path. NiO &\t9.49 &\t18.98 &\t0.03 &\t0.03 &\t0.81 skl\n",
      "Astoria Met &\t47.26 &\t47.26 &\t0.03 &\t0.03 &\t85.35 skl\n",
      "Ast. ARGO Met &\t32.92 &\t32.92 &\t0.02 &\t0.03 &\t69.19 skl\n",
      "Barkley Met &\t0.60 &\t5.04 &\t0.04 &\t0.04 &\t7.10 skl\n",
      "Bar. Path. Met &\t1.18 &\t7.50 &\t0.04 &\t0.04 &\t8.05 skl\n",
      "Astoria DIC &\t16.77 &\t21.83 &\t2233.42 &\t2242.57 &\t0.98 skl\n",
      "Ast. ARGO DIC &\t10.21 &\t11.57 &\t2234.71 &\t2238.27 &\t0.78 skl\n",
      "Barkley DIC &\t2.72 &\t9.41 &\t2249.33 &\t2249.49 &\t0.28 skl\n",
      "Bar. Path. DIC &\t7.81 &\t15.76 &\t2253.23 &\t2253.35 &\t0.45 skl\n",
      "Astoria Alk &\t9.00 &\t16.70 &\t2264.26 &\t2265.33 &\t0.33 skl\n",
      "Ast. ARGO Alk &\t5.95 &\t8.16 &\t2264.43 &\t2264.43 &\t0.29 skl\n",
      "Barkley Alk &\t7.13 &\t11.45 &\t2266.96 &\t2267.51 &\t0.18 skl\n",
      "Bar. Path. Alk &\t27.11 &\t27.11 &\t2267.58 &\t2269.53 &\t0.27 skl\n"
     ]
    }
   ],
   "source": [
    "labels_exp = ['Astoria', 'Ast. ARGO', 'Barkley', 'Bar. Path.']\n",
    "labels_tra = ['Lin','Sal','Oxy','Nit','Sil','Pho','NiO','Met','DIC','Alk']\n",
    "units = ['(muM)m3/s','PSU','(umol/kg)m3/s','(muM)m3/s','(muM)m3/s','muM)m3/s','(nM)m3/s','(nM)m3/s','(umol/kg)m3/s','(umol/kg)m3/s']\n",
    "\n",
    "factors = [1,1,1,1,1,1,1E-3,1E-3,1,1]\n",
    "\n",
    "print (\"\\t\".join(['Run &', \n",
    "                  '$A_{pool}/A_{can}$ day 9 &',\n",
    "                  'max $A_{pool}/A_{can}$) &',\n",
    "                  '$C$ at day 9 &',\n",
    "                  'max $C$ &',\n",
    "                  'max $\\Delta C$ (%) ',\n",
    "                 ]))\n",
    "\n",
    "exp_files = ['saved_calcs/pool_AST.nc',\n",
    "             'saved_calcs/pool_ARGO.nc',\n",
    "             'saved_calcs/pool_BAR.nc',\n",
    "             'saved_calcs/pool_PATH.nc']\n",
    "can_Area = [1.8E8,1.8E8,8.7E7,8.7E7]\n",
    "sb_conc = [sb_conc_A, sb_conc_A, sb_conc_B, sb_conc_B]\n",
    "\n",
    "for tr, unit, tr_lab, factor, ii, trac in zip(tracers, units, labels_tra, factors, range(len(units)), tracers):\n",
    "    for file, lab_exp, can_area, sb_c in zip(exp_files,labels_exp, can_Area, sb_conc):\n",
    "        with Dataset(file, 'r') as nbl:\n",
    "            \n",
    "            area = nbl.variables['area']\n",
    "            area_can = nbl.variables['area_can']\n",
    "            conc = nbl.variables['conc']\n",
    "            \n",
    "            A_day_9 = area[ii,-1]/can_area\n",
    "            A_max = np.nanmax(area[ii,:])/can_area\n",
    "\n",
    "            Conc = conc[ii,:]*factor\n",
    "            C_sb = sb_c[ii]*factor\n",
    "            C_day_9 = Conc[-1]\n",
    "            C_max = np.nanmax(Conc[:])\n",
    "\n",
    "            max_DC = ((C_max-C_sb)/C_sb)*100\n",
    "            print (\"\\t\".join(['%s %s &' %(lab_exp,tr_lab), \n",
    "                     '%1.2f &' %A_day_9,\n",
    "                     '%1.2f &' %A_max,\n",
    "                     '%1.2f &' %C_day_9,\n",
    "                     '%1.2f &' %C_max, \n",
    "                     '%1.2f skl' %max_DC, \n",
    "                    ]))"
   ]
  },
  {
   "cell_type": "code",
   "execution_count": null,
   "metadata": {
    "collapsed": false
   },
   "outputs": [],
   "source": []
  },
  {
   "cell_type": "code",
   "execution_count": null,
   "metadata": {
    "collapsed": true
   },
   "outputs": [],
   "source": []
  }
 ],
 "metadata": {
  "anaconda-cloud": {},
  "kernelspec": {
   "display_name": "Python [default]",
   "language": "python",
   "name": "python3"
  },
  "language_info": {
   "codemirror_mode": {
    "name": "ipython",
    "version": 3
   },
   "file_extension": ".py",
   "mimetype": "text/x-python",
   "name": "python",
   "nbconvert_exporter": "python",
   "pygments_lexer": "ipython3",
   "version": "3.5.4"
  }
 },
 "nbformat": 4,
 "nbformat_minor": 1
}
