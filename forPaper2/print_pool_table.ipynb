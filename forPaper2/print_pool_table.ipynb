{
 "cells": [
  {
   "cell_type": "markdown",
   "metadata": {},
   "source": [
    "### generate pool data table"
   ]
  },
  {
   "cell_type": "code",
   "execution_count": 2,
   "metadata": {
    "collapsed": false
   },
   "outputs": [],
   "source": [
    "import cmocean as cmo\n",
    "from netCDF4 import Dataset\n",
    "import matplotlib.pyplot as plt\n",
    "import matplotlib as mpl\n",
    "%matplotlib inline\n",
    "import numpy as np\n",
    "import pandas as pd\n",
    "import seaborn as sns\n",
    "import canyon_tools.readout_tools as rout\n",
    "import canyon_tools.savitzky_golay as sg\n",
    "import xarray as xr\n",
    "import matplotlib.gridspec as gspec"
   ]
  },
  {
   "cell_type": "code",
   "execution_count": 3,
   "metadata": {
    "collapsed": false
   },
   "outputs": [
    {
     "data": {
      "text/html": [
       "<script>\n",
       "code_show=true; \n",
       "function code_toggle() {\n",
       " if (code_show){\n",
       " $('div.input').hide();\n",
       " } else {\n",
       " $('div.input').show();\n",
       " }\n",
       " code_show = !code_show\n",
       "} \n",
       "$( document ).ready(code_toggle);\n",
       "</script>\n",
       "<form action=\"javascript:code_toggle()\"><input type=\"submit\" value=\"Click here to toggle on/off the raw code.\"></form>"
      ],
      "text/plain": [
       "<IPython.core.display.HTML object>"
      ]
     },
     "execution_count": 3,
     "metadata": {},
     "output_type": "execute_result"
    }
   ],
   "source": [
    "from IPython.display import HTML\n",
    "\n",
    "HTML('''<script>\n",
    "code_show=true; \n",
    "function code_toggle() {\n",
    " if (code_show){\n",
    " $('div.input').hide();\n",
    " } else {\n",
    " $('div.input').show();\n",
    " }\n",
    " code_show = !code_show\n",
    "} \n",
    "$( document ).ready(code_toggle);\n",
    "</script>\n",
    "<form action=\"javascript:code_toggle()\"><input type=\"submit\" value=\"Click here to toggle on/off the raw code.\"></form>''')\n"
   ]
  },
  {
   "cell_type": "code",
   "execution_count": 4,
   "metadata": {
    "collapsed": false
   },
   "outputs": [],
   "source": [
    "sns.set_context('notebook')\n",
    "sns.set_style('whitegrid')"
   ]
  },
  {
   "cell_type": "code",
   "execution_count": 5,
   "metadata": {
    "collapsed": true
   },
   "outputs": [],
   "source": [
    "sb_Ast = 29 # shelf break z-index Astoria\n",
    "sb_Bar = 39 # shelf break z-index Barkley\n",
    "\n",
    "ptr_fileB = '/data/kramosmu/results/TracerExperiments/UPW_10TR_BF4_BAR/01_Bar03/ptracersGlob.nc'\n",
    "ptr_fileA = '/data/kramosmu/results/TracerExperiments/UPW_10TR_BF2_AST/01_Ast03/ptracersGlob.nc'\n"
   ]
  },
  {
   "cell_type": "markdown",
   "metadata": {},
   "source": [
    "#### Get initial concentration at shelf break"
   ]
  },
  {
   "cell_type": "code",
   "execution_count": 6,
   "metadata": {
    "collapsed": false
   },
   "outputs": [],
   "source": [
    "tracers = ['Tr01','Tr02','Tr03','Tr04','Tr05','Tr06','Tr07','Tr08','Tr09','Tr10']\n",
    "labels = ['Linear 01','Salinty 02','Oxygen 03','Nitrate 04','Silicate 05','Phosphate 06','Nitrous Oxide 07','Methane 08',\n",
    "         'DIC 09', 'Alk 10']\n",
    "colours = ['#332288','#44AA99','#117733','#999933','#DDCC77','#CC6677','#882255','#AA4499', 'brown', 'tan']\n",
    "sb_conc_A = np.empty(len(labels))\n",
    "sb_conc_B = np.empty(len(labels))\n",
    "\n",
    "for ii, trac in zip(range(len(tracers)),tracers):\n",
    "    for pfile,sb_array, sb_ind in zip([ptr_fileB, ptr_fileA],[sb_conc_A, sb_conc_B], [sb_Ast, sb_Bar]):\n",
    "        with Dataset(pfile, 'r') as nbl:\n",
    "            tr_profile = nbl.variables[trac][0,:,10,180]\n",
    "            sb_array[ii] = tr_profile[sb_ind]\n",
    "\n",
    "    "
   ]
  },
  {
   "cell_type": "markdown",
   "metadata": {},
   "source": [
    "### Table all runs"
   ]
  },
  {
   "cell_type": "code",
   "execution_count": 14,
   "metadata": {
    "collapsed": false
   },
   "outputs": [
    {
     "name": "stdout",
     "output_type": "stream",
     "text": [
      "Run &\t$A_{pool}/A_{can}$ day 9 &\tmax $A_{pool}/A_{can}$) &\t$C$ at day 9 &\tmax C &max $\\Delta C$ (%) &\tmean adv BAC &mean adv BAC anom skl\n",
      "Astoria Lin &\t38.9 &\t38.9 &\t8.3 &\t9.2 &\t28.1 &\t7.0 &\t18.5 skl\n",
      "Ast. ARGO Lin &\t22.8 &\t22.8 &\t8.3 &\t8.7 &\t20.7 &\t6.7 &\t14.8 skl\n",
      "Barkley Lin &\t6.6 &\t11.2 &\t9.8 &\t9.9 &\t10.3 &\t6.2 &\t0.1 skl\n",
      "Bar. Path. Lin &\t23.5 &\t23.5 &\t10.1 &\t10.4 &\t15.4 &\t6.1 &\t0.5 skl\n",
      "Astoria Sal &\t3.8 &\t10.7 &\t33.9 &\t33.9 &\t0.1 &\t33.7 &\t-0.0 skl\n",
      "Ast. ARGO Sal &\t2.7 &\t7.1 &\t33.9 &\t33.9 &\t0.1 &\t33.7 &\t0.0 skl\n",
      "Barkley Sal &\t3.4 &\t7.8 &\t33.9 &\t34.0 &\t0.0 &\t33.5 &\t-0.0 skl\n",
      "Bar. Path. Sal &\t7.9 &\t15.0 &\t34.0 &\t34.0 &\t0.1 &\t33.5 &\t-0.0 skl\n",
      "Astoria Oxy &\t35.3 &\t35.3 &\t96.2 &\t86.7 &\t-16.7 &\t117.4 &\t-5.9 skl\n",
      "Ast. ARGO Oxy &\t20.4 &\t20.4 &\t95.5 &\t90.8 &\t-12.7 &\t118.7 &\t-5.3 skl\n",
      "Barkley Oxy &\t1.9 &\t6.5 &\t79.4 &\t79.4 &\t-6.4 &\t131.7 &\t0.6 skl\n",
      "Bar. Path. Oxy &\t5.7 &\t11.0 &\t75.7 &\t75.7 &\t-10.7 &\t135.0 &\t-0.0 skl\n",
      "Astoria Nit &\t37.0 &\t37.0 &\t33.7 &\t34.9 &\t6.9 &\t30.7 &\t2.4 skl\n",
      "Ast. ARGO Nit &\t21.9 &\t21.9 &\t33.8 &\t34.3 &\t5.2 &\t30.7 &\t2.5 skl\n",
      "Barkley Nit &\t3.1 &\t7.7 &\t35.7 &\t35.8 &\t2.4 &\t28.0 &\t-0.7 skl\n",
      "Bar. Path. Nit &\t9.2 &\t14.6 &\t36.1 &\t36.1 &\t3.5 &\t27.3 &\t-0.2 skl\n",
      "Astoria Sil &\t35.3 &\t35.3 &\t50.2 &\t52.9 &\t11.1 &\t44.8 &\t6.2 skl\n",
      "Ast. ARGO Sil &\t19.8 &\t19.8 &\t50.4 &\t51.5 &\t8.1 &\t44.3 &\t5.3 skl\n",
      "Barkley Sil &\t4.4 &\t8.8 &\t54.7 &\t54.9 &\t4.6 &\t40.9 &\t-0.4 skl\n",
      "Bar. Path. Sil &\t17.0 &\t18.0 &\t55.6 &\t56.2 &\t6.9 &\t40.1 &\t0.0 skl\n",
      "Astoria Pho &\t35.9 &\t35.9 &\t2.3 &\t2.4 &\t6.2 &\t2.1 &\t0.9 skl\n",
      "Ast. ARGO Pho &\t20.5 &\t20.5 &\t2.3 &\t2.3 &\t4.6 &\t2.1 &\t1.9 skl\n",
      "Barkley Pho &\t2.4 &\t6.9 &\t2.4 &\t2.4 &\t2.0 &\t1.8 &\t-1.4 skl\n",
      "Bar. Path. Pho &\t8.4 &\t12.6 &\t2.5 &\t2.5 &\t3.2 &\t1.7 &\t-0.7 skl\n",
      "Astoria NiO1E-3 &\t1.5 &\t6.5 &\t28.1 &\t28.1 &\t1.6 &\t24.5 &\t1.4 skl\n",
      "Ast. ARGO NiO1E-3 &\t1.2 &\t4.4 &\t28.2 &\t28.2 &\t1.8 &\t24.5 &\t1.5 skl\n",
      "Barkley NiO1E-3 &\t5.3 &\t10.4 &\t28.1 &\t28.2 &\t0.6 &\t23.3 &\t-0.3 skl\n",
      "Bar. Path. NiO1E-3 &\t9.5 &\t19.0 &\t28.2 &\t28.2 &\t0.8 &\t23.0 &\t0.0 skl\n",
      "Astoria Met1E-3 &\t47.3 &\t47.3 &\t25.6 &\t32.4 &\t85.4 &\t20.6 &\t39.5 skl\n",
      "Ast. ARGO Met1E-3 &\t32.9 &\t32.9 &\t24.9 &\t29.6 &\t69.2 &\t19.8 &\t34.5 skl\n",
      "Barkley Met1E-3 &\t0.6 &\t5.0 &\t38.6 &\t38.9 &\t7.1 &\t19.2 &\t0.9 skl\n",
      "Bar. Path. Met1E-3 &\t1.2 &\t7.5 &\t38.4 &\t39.2 &\t8.1 &\t18.9 &\t1.4 skl\n",
      "Astoria DIC &\t16.8 &\t21.8 &\t2233.4 &\t2242.6 &\t1.0 &\t2197.6 &\t0.4 skl\n",
      "Ast. ARGO DIC &\t10.2 &\t11.6 &\t2234.7 &\t2238.3 &\t0.8 &\t2197.6 &\t0.4 skl\n",
      "Barkley DIC &\t2.7 &\t9.4 &\t2249.3 &\t2249.5 &\t0.3 &\t2176.5 &\t-0.1 skl\n",
      "Bar. Path. DIC &\t7.8 &\t15.8 &\t2253.2 &\t2253.3 &\t0.4 &\t2170.5 &\t-0.0 skl\n",
      "Astoria Alk &\t9.0 &\t16.7 &\t2264.3 &\t2265.3 &\t0.3 &\t2245.1 &\t0.2 skl\n",
      "Ast. ARGO Alk &\t6.0 &\t8.2 &\t2264.4 &\t2264.4 &\t0.3 &\t2244.1 &\t0.2 skl\n",
      "Barkley Alk &\t7.1 &\t11.4 &\t2267.0 &\t2267.5 &\t0.2 &\t2236.6 &\t-0.0 skl\n",
      "Bar. Path. Alk &\t27.1 &\t27.1 &\t2267.6 &\t2269.5 &\t0.3 &\t2234.8 &\t0.0 skl\n"
     ]
    }
   ],
   "source": [
    "labels_exp = ['Astoria', 'Ast. ARGO', 'Barkley', 'Bar. Path.']\n",
    "labels_tra = ['Lin','Sal','Oxy','Nit','Sil','Pho','NiO1E-3','Met1E-3','DIC','Alk']\n",
    "units = ['(muM)m3/s','PSU','(umol/kg)m3/s','(muM)m3/s','(muM)m3/s','muM)m3/s','(nM)m3/s','(nM)m3/s','(umol/kg)m3/s','(umol/kg)m3/s']\n",
    "\n",
    "factors = [1,1,1,1,1,1,1,1,1,1]\n",
    "\n",
    "print (\"\\t\".join(['Run &', \n",
    "                  '$A_{pool}/A_{can}$ day 9 &',\n",
    "                  'max $A_{pool}/A_{can}$) &',\n",
    "                  '$C$ at day 9 &',\n",
    "                  'max C &'\n",
    "                  'max $\\Delta C$ (%) &',\n",
    "                  'mean adv BAC &'\n",
    "                  'mean adv BAC anom skl'\n",
    "                 ]))\n",
    "\n",
    "exp_files = ['saved_calcs/pool_AST.nc',\n",
    "             'saved_calcs/pool_ARGO.nc',\n",
    "             'saved_calcs/pool_BAR.nc',\n",
    "             'saved_calcs/pool_PATH.nc']\n",
    "\n",
    "exp_files_BAC = ['saved_calcs/BAC_AST.nc',\n",
    "                 'saved_calcs/BAC_ARGO.nc',\n",
    "                 'saved_calcs/BAC_BAR.nc',\n",
    "                 'saved_calcs/BAC_PATH.nc']\n",
    "\n",
    "\n",
    "can_Area = [1.8E8,1.8E8,8.7E7,8.7E7]\n",
    "sb_conc = [sb_conc_A, sb_conc_A, sb_conc_B, sb_conc_B]\n",
    "\n",
    "for tr, unit, tr_lab, factor, ii, trac in zip(tracers, units, labels_tra, factors, range(len(units)), tracers):\n",
    "    for file,file_bac, lab_exp, can_area, sb_c in zip(exp_files, exp_files_BAC, labels_exp, can_Area, sb_conc):\n",
    "        with Dataset(file, 'r') as nbl:\n",
    "            area = nbl.variables['area']\n",
    "            area_can = nbl.variables['area_can']\n",
    "            conc = nbl.variables['conc']\n",
    "            A_day_9 = area[ii,-1]/can_area\n",
    "            A_max = np.nanmax(area[ii,:])/can_area\n",
    "\n",
    "            Conc = conc[ii,:]*factor\n",
    "            C_sb = sb_c[ii]*factor\n",
    "            C_day_9 = Conc[-1]\n",
    "            if ii == 2: #oxygen\n",
    "                C_max = np.nanmin(Conc[:])\n",
    "            else:\n",
    "                C_max = np.nanmax(Conc[:])\n",
    "            \n",
    "        \n",
    "        with Dataset(file_bac,'r') as nbl:\n",
    "            bac = nbl.variables['bac']\n",
    "            bac_noc = nbl.variables['bac_noc']\n",
    "            bac_adv = np.nanmean(bac[ii,8:]*factor)\n",
    "            bac_anom = np.nanmean((bac[ii,8:]-bac_noc[ii,8:])/bac_noc[ii,8:])*100\n",
    "            \n",
    "        max_DC = ((C_max-C_sb)/C_sb)*100\n",
    "        print (\"\\t\".join(['%s %s &' %(lab_exp,tr_lab), \n",
    "                 '%1.1f &' %A_day_9,\n",
    "                 '%1.1f &' %A_max,\n",
    "                 '%1.1f &' %C_day_9,\n",
    "                 '%1.1f &' %C_max, \n",
    "                 '%1.1f &' %max_DC, \n",
    "                 '%1.1f &' %bac_adv, \n",
    "                 '%1.1f skl' %bac_anom, \n",
    "                          \n",
    "                ]))"
   ]
  },
  {
   "cell_type": "code",
   "execution_count": 15,
   "metadata": {
    "collapsed": false
   },
   "outputs": [
    {
     "name": "stdout",
     "output_type": "stream",
     "text": [
      "Run &\t$A_{pool}/A_{can}$ day 9 &\tmax $A_{pool}/A_{can}$) &\t$C$ at day 9 &\tmax C &max $\\Delta C$ (%) &\n",
      "Astoria Lin &\t38.9 &\t38.9 &\t8.3 &\t9.2 &\t28.1 skl\n",
      "Ast. ARGO Lin &\t22.8 &\t22.8 &\t8.3 &\t8.7 &\t20.7 skl\n",
      "Barkley Lin &\t6.6 &\t11.2 &\t9.8 &\t9.9 &\t10.3 skl\n",
      "Bar. Path. Lin &\t23.5 &\t23.5 &\t10.1 &\t10.4 &\t15.4 skl\n",
      "Astoria Sal &\t3.8 &\t10.7 &\t33.9 &\t33.9 &\t0.1 skl\n",
      "Ast. ARGO Sal &\t2.7 &\t7.1 &\t33.9 &\t33.9 &\t0.1 skl\n",
      "Barkley Sal &\t3.4 &\t7.8 &\t33.9 &\t34.0 &\t0.0 skl\n",
      "Bar. Path. Sal &\t7.9 &\t15.0 &\t34.0 &\t34.0 &\t0.1 skl\n",
      "Astoria Oxy &\t35.3 &\t35.3 &\t96.2 &\t86.7 &\t-16.7 skl\n",
      "Ast. ARGO Oxy &\t20.4 &\t20.4 &\t95.5 &\t90.8 &\t-12.7 skl\n",
      "Barkley Oxy &\t1.9 &\t6.5 &\t79.4 &\t79.4 &\t-6.4 skl\n",
      "Bar. Path. Oxy &\t5.7 &\t11.0 &\t75.7 &\t75.7 &\t-10.7 skl\n",
      "Astoria Nit &\t37.0 &\t37.0 &\t33.7 &\t34.9 &\t6.9 skl\n",
      "Ast. ARGO Nit &\t21.9 &\t21.9 &\t33.8 &\t34.3 &\t5.2 skl\n",
      "Barkley Nit &\t3.1 &\t7.7 &\t35.7 &\t35.8 &\t2.4 skl\n",
      "Bar. Path. Nit &\t9.2 &\t14.6 &\t36.1 &\t36.1 &\t3.5 skl\n",
      "Astoria Sil &\t35.3 &\t35.3 &\t50.2 &\t52.9 &\t11.1 skl\n",
      "Ast. ARGO Sil &\t19.8 &\t19.8 &\t50.4 &\t51.5 &\t8.1 skl\n",
      "Barkley Sil &\t4.4 &\t8.8 &\t54.7 &\t54.9 &\t4.6 skl\n",
      "Bar. Path. Sil &\t17.0 &\t18.0 &\t55.6 &\t56.2 &\t6.9 skl\n",
      "Astoria Pho &\t35.9 &\t35.9 &\t2.3 &\t2.4 &\t6.2 skl\n",
      "Ast. ARGO Pho &\t20.5 &\t20.5 &\t2.3 &\t2.3 &\t4.6 skl\n",
      "Barkley Pho &\t2.4 &\t6.9 &\t2.4 &\t2.4 &\t2.0 skl\n",
      "Bar. Path. Pho &\t8.4 &\t12.6 &\t2.5 &\t2.5 &\t3.2 skl\n",
      "Astoria NiO1E-3 &\t1.5 &\t6.5 &\t28.1 &\t28.1 &\t1.6 skl\n",
      "Ast. ARGO NiO1E-3 &\t1.2 &\t4.4 &\t28.2 &\t28.2 &\t1.8 skl\n",
      "Barkley NiO1E-3 &\t5.3 &\t10.4 &\t28.1 &\t28.2 &\t0.6 skl\n",
      "Bar. Path. NiO1E-3 &\t9.5 &\t19.0 &\t28.2 &\t28.2 &\t0.8 skl\n",
      "Astoria Met1E-3 &\t47.3 &\t47.3 &\t25.6 &\t32.4 &\t85.4 skl\n",
      "Ast. ARGO Met1E-3 &\t32.9 &\t32.9 &\t24.9 &\t29.6 &\t69.2 skl\n",
      "Barkley Met1E-3 &\t0.6 &\t5.0 &\t38.6 &\t38.9 &\t7.1 skl\n",
      "Bar. Path. Met1E-3 &\t1.2 &\t7.5 &\t38.4 &\t39.2 &\t8.1 skl\n",
      "Astoria DIC &\t16.8 &\t21.8 &\t2233.4 &\t2242.6 &\t1.0 skl\n",
      "Ast. ARGO DIC &\t10.2 &\t11.6 &\t2234.7 &\t2238.3 &\t0.8 skl\n",
      "Barkley DIC &\t2.7 &\t9.4 &\t2249.3 &\t2249.5 &\t0.3 skl\n",
      "Bar. Path. DIC &\t7.8 &\t15.8 &\t2253.2 &\t2253.3 &\t0.4 skl\n",
      "Astoria Alk &\t9.0 &\t16.7 &\t2264.3 &\t2265.3 &\t0.3 skl\n",
      "Ast. ARGO Alk &\t6.0 &\t8.2 &\t2264.4 &\t2264.4 &\t0.3 skl\n",
      "Barkley Alk &\t7.1 &\t11.4 &\t2267.0 &\t2267.5 &\t0.2 skl\n",
      "Bar. Path. Alk &\t27.1 &\t27.1 &\t2267.6 &\t2269.5 &\t0.3 skl\n"
     ]
    }
   ],
   "source": [
    "labels_exp = ['Astoria', 'Ast. ARGO', 'Barkley', 'Bar. Path.']\n",
    "labels_tra = ['Lin','Sal','Oxy','Nit','Sil','Pho','NiO1E-3','Met1E-3','DIC','Alk']\n",
    "units = ['(muM)m3/s','PSU','(umol/kg)m3/s','(muM)m3/s','(muM)m3/s','muM)m3/s','(nM)m3/s','(nM)m3/s','(umol/kg)m3/s','(umol/kg)m3/s']\n",
    "\n",
    "factors = [1,1,1,1,1,1,1,1,1,1]\n",
    "\n",
    "print (\"\\t\".join(['Run &', \n",
    "                  '$A_{pool}/A_{can}$ day 9 &',\n",
    "                  'max $A_{pool}/A_{can}$) &',\n",
    "                  '$C$ at day 9 &',\n",
    "                  'max C &'\n",
    "                  'max $\\Delta C$ (%) &',\n",
    "                 ]))\n",
    "\n",
    "exp_files = ['saved_calcs/pool_AST.nc',\n",
    "             'saved_calcs/pool_ARGO.nc',\n",
    "             'saved_calcs/pool_BAR.nc',\n",
    "             'saved_calcs/pool_PATH.nc']\n",
    "\n",
    "exp_files_BAC = ['saved_calcs/BAC_AST.nc',\n",
    "                 'saved_calcs/BAC_ARGO.nc',\n",
    "                 'saved_calcs/BAC_BAR.nc',\n",
    "                 'saved_calcs/BAC_PATH.nc']\n",
    "\n",
    "\n",
    "can_Area = [1.8E8,1.8E8,8.7E7,8.7E7]\n",
    "sb_conc = [sb_conc_A, sb_conc_A, sb_conc_B, sb_conc_B]\n",
    "\n",
    "for tr, unit, tr_lab, factor, ii, trac in zip(tracers, units, labels_tra, factors, range(len(units)), tracers):\n",
    "    for file,file_bac, lab_exp, can_area, sb_c in zip(exp_files, exp_files_BAC, labels_exp, can_Area, sb_conc):\n",
    "        with Dataset(file, 'r') as nbl:\n",
    "            area = nbl.variables['area']\n",
    "            area_can = nbl.variables['area_can']\n",
    "            conc = nbl.variables['conc']\n",
    "            A_day_9 = area[ii,-1]/can_area\n",
    "            A_max = np.nanmax(area[ii,:])/can_area\n",
    "\n",
    "            Conc = conc[ii,:]*factor\n",
    "            C_sb = sb_c[ii]*factor\n",
    "            C_day_9 = Conc[-1]\n",
    "            if ii == 2: #oxygen\n",
    "                C_max = np.nanmin(Conc[:])\n",
    "            else:\n",
    "                C_max = np.nanmax(Conc[:])\n",
    "                  \n",
    "        max_DC = ((C_max-C_sb)/C_sb)*100\n",
    "        print (\"\\t\".join(['%s %s &' %(lab_exp,tr_lab), \n",
    "                 '%1.1f &' %A_day_9,\n",
    "                 '%1.1f &' %A_max,\n",
    "                 '%1.1f &' %C_day_9,\n",
    "                 '%1.1f &' %C_max, \n",
    "                 '%1.1f skl' %max_DC,         \n",
    "                ]))"
   ]
  },
  {
   "cell_type": "code",
   "execution_count": 9,
   "metadata": {
    "collapsed": false
   },
   "outputs": [
    {
     "data": {
      "text/plain": [
       "43.6"
      ]
     },
     "execution_count": 9,
     "metadata": {},
     "output_type": "execute_result"
    }
   ],
   "source": [
    "21.8*2"
   ]
  },
  {
   "cell_type": "code",
   "execution_count": 10,
   "metadata": {
    "collapsed": false
   },
   "outputs": [
    {
     "data": {
      "text/plain": [
       "52"
      ]
     },
     "execution_count": 10,
     "metadata": {},
     "output_type": "execute_result"
    }
   ],
   "source": [
    "13*4\n"
   ]
  },
  {
   "cell_type": "code",
   "execution_count": null,
   "metadata": {
    "collapsed": true
   },
   "outputs": [],
   "source": []
  }
 ],
 "metadata": {
  "anaconda-cloud": {},
  "kernelspec": {
   "display_name": "Python [default]",
   "language": "python",
   "name": "python3"
  },
  "language_info": {
   "codemirror_mode": {
    "name": "ipython",
    "version": 3
   },
   "file_extension": ".py",
   "mimetype": "text/x-python",
   "name": "python",
   "nbconvert_exporter": "python",
   "pygments_lexer": "ipython3",
   "version": "3.5.4"
  }
 },
 "nbformat": 4,
 "nbformat_minor": 1
}
