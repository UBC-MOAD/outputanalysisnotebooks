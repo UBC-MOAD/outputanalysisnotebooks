{
 "cells": [
  {
   "cell_type": "markdown",
   "metadata": {},
   "source": [
    "## Calculate relevant  non-dimensional numbers"
   ]
  },
  {
   "cell_type": "code",
   "execution_count": 1,
   "metadata": {
    "collapsed": true
   },
   "outputs": [],
   "source": [
    "import numpy as np"
   ]
  },
  {
   "cell_type": "code",
   "execution_count": 29,
   "metadata": {
    "collapsed": true
   },
   "outputs": [],
   "source": [
    "# NOTE: The default values of all functions correspond to the base case\n",
    "def Dh(f=9.66E-4,L=6400.0,N=5.5E-3):\n",
    "    '''Vertical scale Dh'''\n",
    "    retun(f*L/(N))\n",
    "    \n",
    "def Z(f, U, R, L, N):\n",
    "    '''\n",
    "    INPUT\n",
    "    U: float: incomming velocity\n",
    "    R: float: Radius of curvature shelf-break isobath\n",
    "    f: float: Coriolis Parameter\n",
    "    L: float: Canyon length\n",
    "    N: float: initial stratification\n",
    "    RETURNS\n",
    "    Depth of upwelling from Allen and Hickey, 2010.\n",
    "    '''\n",
    "    return(((f*U*F(Ro(U,f,R))*L)**(0.5))/N)\n",
    "\n",
    "def Ro(U,f,L):\n",
    "    '''Rossby number'''\n",
    "    return(U/(f*L))\n",
    "\n",
    "def F(Ro):\n",
    "    '''Function that estimates the ability of the flow to follow isobaths'''\n",
    "    return(Ro/(0.9+Ro))\n",
    "\n",
    "def Bu(N,f,Hs,L):\n",
    "    '''Burger number'''\n",
    "    return(N*Hs/(f*L))\n",
    "\n",
    "def RossbyRad(N,f,Hs):\n",
    "    '''1st Rossby radius of deformation'''\n",
    "    return(N*Hs/f)"
   ]
  },
  {
   "cell_type": "code",
   "execution_count": 52,
   "metadata": {
    "collapsed": false
   },
   "outputs": [
    {
     "name": "stdout",
     "output_type": "stream",
     "text": [
      "Ro= 0.75\n",
      "RL= 0.29\n",
      "Rw_sb= 0.15\n",
      "Rw= 0.27\n",
      "Bu= 0.39\n",
      "a= 8540.37 m\n"
     ]
    }
   ],
   "source": [
    "# Astoria-like run\n",
    "\n",
    "L = 12800.0 # canyon length\n",
    "R = 5000.0 # Upstream radius of curvature\n",
    "g = 9.81 # accel. gravity\n",
    "Wm = 24432.4 # Width at shelf break\n",
    "W = 22044.8 # mid-length width at rim depth\n",
    "Ws = 13756.1 # mid-length width at shelf-break isobath\n",
    "Hs = 150.0 # Shelf break depth\n",
    "g = 9.81 # accel. gravity\n",
    "s = 0.005 # shelf slope \n",
    "Hh = 97.5 # head depth\n",
    "Hr = 132.0 # rim depth at DnS\n",
    "No = 5.5E-3 # Initial stratification at shelf-break depth\n",
    "f = 9.66E-5 # Coriois parameter \n",
    "U = 0.36 # incoming velocity base case, m/s\n",
    "N = 5.5E-3\n",
    "\n",
    "print('Ro= %1.2f' %Ro(U, f, R))\n",
    "print('RL= %1.2f' %Ro(U, f, L))\n",
    "print('Rw_sb= %1.2f' %Ro(U, f, Wm))\n",
    "print('Rw= %1.2f' %Ro(U, f, Ws))\n",
    "print('Bu= %1.2f' %Bu(N, f, Hs, W))\n",
    "print('a= %1.2f m' %RossbyRad(N,f,Hs))\n",
    "\n"
   ]
  },
  {
   "cell_type": "code",
   "execution_count": 50,
   "metadata": {
    "collapsed": false
   },
   "outputs": [
    {
     "name": "stdout",
     "output_type": "stream",
     "text": [
      "Base case, Barkley-like bathy\n",
      "Ro= 0.75\n",
      "RL= 0.58\n",
      "Rw_sb= 0.15\n",
      "Rw= 0.27\n",
      "Bu= 0.39\n",
      "a= 8540.37 m\n"
     ]
    }
   ],
   "source": [
    "print('Base case, Barkley-like bathy')\n",
    "# Astoria-like run\n",
    "\n",
    "L = 6400.0 # canyon length\n",
    "R = 5000.0 # Upstream radius of curvature (?)\n",
    "g = 9.81 # accel. gravity\n",
    "Wm = 24432.4 # Width at shelf break\n",
    "W = 22044.8 # mid-length width at rim depth\n",
    "Ws = 13756.1 # mid-length width at shelf-break isobath\n",
    "Hs = 150.0 # Shelf break depth\n",
    "Hh = 97.5 # head depth\n",
    "Hr = 132.0 # rim depth at DnS\n",
    "\n",
    "g = 9.81 # accel. gravity\n",
    "s = 0.005 # shelf slope \n",
    "No = 5.5E-3 # Initial stratification at shelf-break depth\n",
    "f = 9.66E-5 # Coriois parameter \n",
    "U = 0.36 # incoming velocity base case, m/s\n",
    "N = 5.5E-3\n",
    "\n",
    "print('Ro= %1.2f' %Ro(U, f, R))\n",
    "print('RL= %1.2f' %Ro(U, f, L))\n",
    "print('Rw_sb= %1.2f' %Ro(U, f, Wm))\n",
    "print('Rw= %1.2f' %Ro(U, f, Ws))\n",
    "print('Bu= %1.2f' %Bu(N, f, Hs, W))\n",
    "print('a= %1.2f m' %RossbyRad(N,f,Hs))\n"
   ]
  },
  {
   "cell_type": "code",
   "execution_count": 42,
   "metadata": {
    "collapsed": false
   },
   "outputs": [
    {
     "data": {
      "text/plain": [
       "0.1339842"
      ]
     },
     "execution_count": 42,
     "metadata": {},
     "output_type": "execute_result"
    }
   ],
   "source": [
    "0.2774*5000*9.66E-5"
   ]
  },
  {
   "cell_type": "code",
   "execution_count": null,
   "metadata": {
    "collapsed": true
   },
   "outputs": [],
   "source": []
  }
 ],
 "metadata": {
  "kernelspec": {
   "display_name": "Python [default]",
   "language": "python",
   "name": "python3"
  },
  "language_info": {
   "codemirror_mode": {
    "name": "ipython",
    "version": 3
   },
   "file_extension": ".py",
   "mimetype": "text/x-python",
   "name": "python",
   "nbconvert_exporter": "python",
   "pygments_lexer": "ipython3",
   "version": "3.5.4"
  }
 },
 "nbformat": 4,
 "nbformat_minor": 1
}
