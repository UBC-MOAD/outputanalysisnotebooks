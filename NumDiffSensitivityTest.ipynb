{
 "metadata": {
  "name": ""
 },
 "nbformat": 3,
 "nbformat_minor": 0,
 "worksheets": [
  {
   "cells": [
    {
     "cell_type": "markdown",
     "metadata": {},
     "source": [
      "Model sensitivity to different values of horizontal and vertical prescribed diffusivity coefficients."
     ]
    },
    {
     "cell_type": "markdown",
     "metadata": {},
     "source": [
      "Sensitivity to Explicit Diffusivity Coefficients\n",
      "============================\n",
      "\n",
      "This ipython notebook investigates the model sensitivity to different values of horizontal and vertical prescribed diffusivity coeffiecients. Experiment 360x360x90_BodyForcing_6tr_LinProfiles has upwelling body forcing. Run01 explores values of horizontal diffusivity (1E-7 to 50) with fixed vertical diffusivity (1E-5). Run02 explores values of vertical diffusivity (1E-7 to 10) keeping horizontal diffusivity fixed (1E-5)."
     ]
    },
    {
     "cell_type": "code",
     "collapsed": false,
     "input": [
      "#KRM\n",
      "import os\n",
      "\n",
      "import numpy as np\n",
      "\n",
      "import matplotlib.pyplot as plt\n",
      "\n",
      "from scipy.stats import nanmean\n",
      "\n",
      "from math import *\n",
      "\n",
      "%matplotlib inline\n",
      "\n",
      "import numpy as np\n",
      "\n",
      "import matplotlib.colors as mcolors\n",
      "\n",
      "from netCDF4 import Dataset\n",
      "\n",
      "import pylab as pl\n",
      "\n",
      "from decimal import getcontext, Decimal, Inexact\n",
      "\n",
      "import statsmodels.api as sm\n",
      "\n",
      "import pandas as pd"
     ],
     "language": "python",
     "metadata": {},
     "outputs": [],
     "prompt_number": 1
    },
    {
     "cell_type": "code",
     "collapsed": false,
     "input": [
      "#lib_path = os.path.abspath('../PythonModulesMITgcm') # Add absolute path to my python scripts\n",
      "#sys.path.append(lib_path)\n",
      "\n",
      "import NumDiffTools as dif"
     ],
     "language": "python",
     "metadata": {},
     "outputs": [],
     "prompt_number": 2
    },
    {
     "cell_type": "markdown",
     "metadata": {},
     "source": [
      "Important input parameters:\n",
      "------------------------"
     ]
    },
    {
     "cell_type": "code",
     "collapsed": false,
     "input": [
      "nx = 360  # number of x points in domain\n",
      "ny = 360  # number of y points in domain\n",
      "nz = 90  # number of z levels in domain\n",
      "nt = 10   # number of output files (n time) \n",
      "delt= 24*3600.0 # time interval between model output"
     ],
     "language": "python",
     "metadata": {},
     "outputs": [],
     "prompt_number": 3
    },
    {
     "cell_type": "markdown",
     "metadata": {},
     "source": [
      "Load output filenames:\n"
     ]
    },
    {
     "cell_type": "code",
     "collapsed": false,
     "input": [
      "### Load output filenames ###\n",
      "\n",
      "filename = '/ocean/kramosmu/MITgcm/CanyonUpwelling/360x360x90_BodyForcing_6Tr_LinProfiles/run02/tave.0000000000.glob.nc'\n",
      "StateOut = Dataset(filename)\n",
      "#for dimobj in StateOut.variables.values():\n",
      "#    print dimobj\n",
      "\n",
      "filename2 = '/ocean/kramosmu/MITgcm/CanyonUpwelling/360x360x90_BodyForcing_1Tr/run01/mnc_0001/grid.t001.nc'\n",
      "GridOut = Dataset(filename2)\n",
      "#for dimobj in GridOut.variables.values():\n",
      "#    print dimobj\n",
      "\n",
      "filename3 = '/ocean/kramosmu/MITgcm/CanyonUpwelling/360x360x90_BodyForcing_6Tr_LinProfiles/run02/ptr_tave.0000000000.glob.nc'\n",
      "PtracersOut = Dataset(filename3)\n",
      "#for dimobj in PtracersOut.variables.values():\n",
      "#    print dimobj\n"
     ],
     "language": "python",
     "metadata": {},
     "outputs": [],
     "prompt_number": 4
    },
    {
     "cell_type": "markdown",
     "metadata": {},
     "source": [
      "Vertical diffusivity\n",
      "--------------------\n",
      "\n",
      "Let's calculate the horizontal and vertical diffusivity for each of the 6 tracers in run02."
     ]
    },
    {
     "cell_type": "code",
     "collapsed": false,
     "input": [
      "tracer1 = dif.getField(filename3,'Tr1')\n",
      "\n",
      "tracer1msk = np.ma.masked_values(tracer1, 0)\n",
      "\n",
      "MASK = np.ma.getmask(tracer1msk)\n",
      "   \n",
      "    \n",
      "tracer2 = dif.getField(filename3,'Tr2')\n",
      "\n",
      "tracer2msk = np.ma.masked_values(tracer2, 0)\n",
      "\n",
      "\n",
      "\n",
      "tracer3 = dif.getField(filename3,'Tr3')\n",
      "\n",
      "tracer3msk = np.ma.masked_values(tracer3, 0)\n",
      "\n",
      "\n",
      "tracer4 = dif.getField(filename3,'Tr4')\n",
      "\n",
      "tracer4msk = np.ma.masked_values(tracer4, 0)\n",
      "\n",
      "\n",
      "tracer5 = dif.getField(filename3,'Tr5')\n",
      "\n",
      "tracer1msk = np.ma.masked_values(tracer1, 0)\n",
      "\n",
      "\n",
      "tracer6 = dif.getField(filename3,'Tr6')\n",
      "\n",
      "tracer6msk = np.ma.masked_values(tracer6, 0)\n"
     ],
     "language": "python",
     "metadata": {},
     "outputs": [],
     "prompt_number": 5
    },
    {
     "cell_type": "markdown",
     "metadata": {},
     "source": [
      "Calculate the volume of the domain\n"
     ]
    },
    {
     "cell_type": "code",
     "collapsed": false,
     "input": [
      "vol = dif.CalcDomVolume(filename2, nx, ny, nz)\n",
      "\n",
      "DomVolume = vol[0]\n",
      "hFacC = vol[1]\n",
      "drF = vol[2]\n",
      "rAC = vol[3]\n",
      "\n",
      "print(DomVolume)"
     ],
     "language": "python",
     "metadata": {},
     "outputs": [
      {
       "output_type": "stream",
       "stream": "stdout",
       "text": [
        "6.10285330795e+12\n"
       ]
      }
     ],
     "prompt_number": 7
    },
    {
     "cell_type": "markdown",
     "metadata": {},
     "source": [
      "Tracer 1\n"
     ]
    },
    {
     "cell_type": "code",
     "collapsed": false,
     "input": [
      "q2mean1 = dif.CalcVariance(nt, nz, ny, nx, DomVolume, hFacC, drF, rAC, tracer1)\n",
      "dqdt1 = dif.CalcTimeDer(q2mean1, nt, delt)\n",
      "qmeanDh1 = dif.CalcAvgHorGrad(filename2, nt,nz,ny,nx,tracer1,DomVolume,hFacC, drF, rAC)\n",
      "qmeanDz1=dif.CalcAvgVerGrad(filename2, nt,nz,ny,nx,tracer1,DomVolume,hFacC, drF, rAC)\n",
      "\n",
      "esth1=dif.FitDiffusivity(qmeanDh1[1:len(qmeanDh1)-1],dqdt1[0:len(dqdt1)], delt)\n",
      "print(esth1.params)\n",
      "\n",
      "estv1=dif.FitDiffusivity(qmeanDz1[1:len(qmeanDz1)-1],dqdt1[0:len(dqdt1)], delt)\n",
      "print(estv1.params)\n"
     ],
     "language": "python",
     "metadata": {},
     "outputs": [
      {
       "output_type": "stream",
       "stream": "stdout",
       "text": [
        "[ 0.16715813]\n",
        "[  2.89608059e-05]\n"
       ]
      }
     ],
     "prompt_number": 8
    },
    {
     "cell_type": "markdown",
     "metadata": {},
     "source": [
      "Tracer 2"
     ]
    },
    {
     "cell_type": "code",
     "collapsed": false,
     "input": [
      "q2mean2 = dif.CalcVariance(nt, nz, ny, nx, DomVolume, hFacC, drF, rAC, tracer2)\n",
      "dqdt2 = dif.CalcTimeDer(q2mean2, nt, delt)\n",
      "qmeanDh2 = dif.CalcAvgHorGrad(filename2, nt,nz,ny,nx,tracer2,DomVolume,hFacC, drF, rAC)\n",
      "qmeanDz2=dif.CalcAvgVerGrad(filename2, nt,nz,ny,nx,tracer2,DomVolume,hFacC, drF, rAC)\n",
      "\n",
      "esth2=dif.FitDiffusivity(qmeanDh2[1:len(qmeanDh2)-1],dqdt2[0:len(dqdt2)], delt)\n",
      "print(esth2.params)\n",
      "\n",
      "estv2=dif.FitDiffusivity(qmeanDz2[1:len(qmeanDz2)-1],dqdt2[0:len(dqdt2)], delt)\n",
      "print(estv2.params)\n"
     ],
     "language": "python",
     "metadata": {},
     "outputs": [
      {
       "output_type": "stream",
       "stream": "stdout",
       "text": [
        "[ 0.06788404]\n",
        "[  1.24610953e-05]\n"
       ]
      }
     ],
     "prompt_number": 9
    },
    {
     "cell_type": "markdown",
     "metadata": {},
     "source": [
      "Tracer 3"
     ]
    },
    {
     "cell_type": "code",
     "collapsed": false,
     "input": [
      "q2mean3 = dif.CalcVariance(nt, nz, ny, nx, DomVolume, hFacC, drF, rAC, tracer3)\n",
      "dqdt3 = dif.CalcTimeDer(q2mean3, nt, delt)\n",
      "qmeanDh3 = dif.CalcAvgHorGrad(filename2, nt,nz,ny,nx,tracer3,DomVolume,hFacC, drF, rAC)\n",
      "qmeanDz3=dif.CalcAvgVerGrad(filename2, nt,nz,ny,nx,tracer3,DomVolume,hFacC, drF, rAC)\n",
      "\n",
      "esth3=dif.FitDiffusivity(qmeanDh3[1:len(qmeanDh3)-1],dqdt3[0:len(dqdt3)], delt)\n",
      "print(esth3.params)\n",
      "\n",
      "estv3=dif.FitDiffusivity(qmeanDz3[1:len(qmeanDz3)-1],dqdt3[0:len(dqdt3)], delt)\n",
      "print(estv3.params)\n"
     ],
     "language": "python",
     "metadata": {},
     "outputs": [
      {
       "output_type": "stream",
       "stream": "stdout",
       "text": [
        "[-0.70864911]\n",
        "[-0.00014096]\n"
       ]
      }
     ],
     "prompt_number": 10
    },
    {
     "cell_type": "markdown",
     "metadata": {},
     "source": [
      "Tracer 4"
     ]
    },
    {
     "cell_type": "code",
     "collapsed": false,
     "input": [
      "q2mean4 = dif.CalcVariance(nt, nz, ny, nx, DomVolume, hFacC, drF, rAC, tracer4)\n",
      "dqdt4 = dif.CalcTimeDer(q2mean4, nt, delt)\n",
      "qmeanDh4 = dif.CalcAvgHorGrad(filename2, nt,nz,ny,nx,tracer4,DomVolume,hFacC, drF, rAC)\n",
      "qmeanDz4=dif.CalcAvgVerGrad(filename2, nt,nz,ny,nx,tracer4,DomVolume,hFacC, drF, rAC)\n",
      "\n",
      "esth4=dif.FitDiffusivity(qmeanDh4[1:len(qmeanDh4)-1],dqdt4[0:len(dqdt4)], delt)\n",
      "print(esth4.params)\n",
      "\n",
      "estv4=dif.FitDiffusivity(qmeanDz4[1:len(qmeanDz4)-1],dqdt4[0:len(dqdt4)], delt)\n",
      "print(estv4.params)\n"
     ],
     "language": "python",
     "metadata": {},
     "outputs": [],
     "prompt_number": "*"
    },
    {
     "cell_type": "markdown",
     "metadata": {},
     "source": [
      "Tracer 5"
     ]
    },
    {
     "cell_type": "code",
     "collapsed": false,
     "input": [
      "q2mean5 = dif.CalcVariance(nt, nz, ny, nx, DomVolume, hFacC, drF, rAC, tracer5)\n",
      "dqdt5 = dif.CalcTimeDer(q2mean5, nt, delt)\n",
      "qmeanDh5 = dif.CalcAvgHorGrad(filename2, nt,nz,ny,nx,tracer5,DomVolume,hFacC, drF, rAC)\n",
      "qmeanDz5=dif.CalcAvgVerGrad(filename2, nt,nz,ny,nx,tracer5,DomVolume,hFacC, drF, rAC)\n",
      "\n",
      "esth5=dif.FitDiffusivity(qmeanDh5[1:len(qmeanDh5)-1],dqdt5[0:len(dqdt5)], delt)\n",
      "print(esth5.params)\n",
      "\n",
      "estv5=dif.FitDiffusivity(qmeanDz5[1:len(qmeanDz5)-1],dqdt5[0:len(dqdt5)], delt)\n",
      "print(estv5.params)\n"
     ],
     "language": "python",
     "metadata": {},
     "outputs": []
    },
    {
     "cell_type": "markdown",
     "metadata": {},
     "source": [
      "Tracer 6"
     ]
    },
    {
     "cell_type": "code",
     "collapsed": false,
     "input": [
      "q2mean6 = dif.CalcVariance(nt, nz, ny, nx, DomVolume, hFacC, drF, rAC, tracer6)\n",
      "dqdt6 = dif.CalcTimeDer(q2mean6, nt, delt)\n",
      "qmeanDh6 = dif.CalcAvgHorGrad(filename2, nt,nz,ny,nx,tracer6,DomVolume,hFacC, drF, rAC)\n",
      "qmeanDz6=dif.CalcAvgVerGrad(filename2, nt,nz,ny,nx,tracer6,DomVolume,hFacC, drF, rAC)\n",
      "\n",
      "esth6=dif.FitDiffusivity(qmeanDh6[1:len(qmeanDh6)-1],dqdt6[0:len(dqdt6)], delt)\n",
      "print(esth6.params)\n",
      "\n",
      "estv6=dif.FitDiffusivity(qmeanDz6[1:len(qmeanDz6)-1],dqdt6[0:len(dqdt6)], delt)\n",
      "print(estv6.params)\n"
     ],
     "language": "python",
     "metadata": {},
     "outputs": []
    },
    {
     "cell_type": "markdown",
     "metadata": {},
     "source": [
      "Tracer variance plots:\n",
      "--------------------"
     ]
    },
    {
     "cell_type": "code",
     "collapsed": false,
     "input": [
      "\n",
      "fig1=plt.figure(figsize=(21,3))\n",
      "\n",
      "plt.subplot(1,3,1)\n",
      "ax=plt.gca()\n",
      "\n",
      "\n",
      "plt.plot(qmeanDh1[1:len(qmeanDh1)-1],dqdt1)\n",
      "plt.plot(qmeanDh2[1:len(qmeanDh2)-1],dqdt2)\n",
      "plt.plot(qmeanDh3[1:len(qmeanDh3)-1],dqdt3)\n",
      "plt.plot(qmeanDh4[1:len(qmeanDh4)-1],dqdt4)\n",
      "\n",
      "\n",
      "plt.xlabel('$<|\\partial_{h}q|^2>$')\n",
      "\n",
      "plt.ylabel('$\\partial{<q^2>}/\\partial{t}$')\n",
      "    \n",
      "\n",
      "plt.subplot(1,3,2)\n",
      "ax=plt.gca()\n",
      "\n",
      "plt.plot(qmeanDz1[1:len(qmeanDz1)-1],dqdt1)\n",
      "plt.plot(qmeanDz2[1:len(qmeanDz2)-1],dqdt2)\n",
      "plt.plot(qmeanDz3[1:len(qmeanDz3)-1],dqdt3)\n",
      "plt.plot(qmeanDz4[1:len(qmeanDz4)-1],dqdt4)\n",
      "\n",
      "\n",
      "plt.xlabel('$<\\partial{q^2}/\\partial{z}>$')\n",
      "\n",
      "plt.ylabel('$\\partial{<q^2>}/\\partial{t}$')\n",
      "\n",
      "plt.subplot(1,3,3)\n",
      "ax=plt.gca()\n",
      "\n",
      "\n",
      "plt.plot(np.arange(0,nt,1),q2mean1)\n",
      "plt.plot(np.arange(0,nt,1),q2mean2)\n",
      "plt.plot(np.arange(0,nt,1),q2mean3)\n",
      "plt.plot(np.arange(0,nt,1),q2mean4)\n",
      "\n",
      "plt.xlabel('hours')\n",
      "\n",
      "plt.ylabel('$<q^2>$')\n",
      "\n",
      "plt.tight_layout()"
     ],
     "language": "python",
     "metadata": {},
     "outputs": [
      {
       "metadata": {},
       "output_type": "display_data",
       "png": "[encoded data removed]",
       "text": [
        "<matplotlib.figure.Figure at 0x574c3d0>"
       ]
      }
     ],
     "prompt_number": 12
    },
    {
     "cell_type": "markdown",
     "metadata": {},
     "source": [
      "Numerical diffusivities as a function of prescribed vertical diffusivity"
     ]
    },
    {
     "cell_type": "code",
     "collapsed": false,
     "input": [
      "fig1=plt.figure(figsize=(15,6))\n",
      "\n",
      "plt.subplot(1,2,1)\n",
      "ax=plt.gca()\n",
      "\n",
      "ax.plot()\n",
      "ax.plot()\n",
      "#ax.plot((10E-7,10E-3,10E-2,10E-1,1.0,10.0),(esth1.params,esth2.params,esth3.params,esth4.params,esth5.params,esth6.params))\n",
      "ax.plot((10E-7,10E-3,10E-2),(esth1.params,esth2.params,esth3.params),'ro')\n",
      "\n",
      "\n",
      "plt.xlabel('Kv')\n",
      "\n",
      "plt.ylabel('Khnum')\n",
      "    \n",
      "plt.subplot(1,2,2)\n",
      "ax=plt.gca()\n",
      "\n",
      "ax.plot()\n",
      "ax.plot()\n",
      "#ax.plot((10E-7,10E-3,10E-2,10E-1,1.0,10.0),(estv1.params,estv2.params,estv3.params,estv4.params,estv5.params,estv6.params))\n",
      "ax.plot((10E-7,10E-3,10E-2),(estv1.params,estv2.params,estv3.params),'bo')\n",
      "\n",
      "\n",
      "plt.xlabel('Kv')\n",
      "\n",
      "plt.ylabel('Kvnum')\n",
      "   \n"
     ],
     "language": "python",
     "metadata": {},
     "outputs": [
      {
       "metadata": {},
       "output_type": "pyout",
       "prompt_number": 17,
       "text": [
        "<matplotlib.text.Text at 0x6b14c50>"
       ]
      },
      {
       "metadata": {},
       "output_type": "display_data",
       "png": "[encoded data removed]",
       "text": [
        "<matplotlib.figure.Figure at 0x5f63850>"
       ]
      }
     ],
     "prompt_number": 17
    },
    {
     "cell_type": "code",
     "collapsed": false,
     "input": [],
     "language": "python",
     "metadata": {},
     "outputs": [
      {
       "output_type": "stream",
       "stream": "stdout",
       "text": [
        "[-0.64339408]\n",
        "[ 0.]\n"
       ]
      }
     ],
     "prompt_number": 14
    },
    {
     "cell_type": "code",
     "collapsed": false,
     "input": [
      "\n"
     ],
     "language": "python",
     "metadata": {},
     "outputs": [
      {
       "html": [
        "<table class=\"simpletable\">\n",
        "<caption>GLS Regression Results</caption>\n",
        "<tr>\n",
        "  <th>Dep. Variable:</th>            <td>y</td>        <th>  R-squared:         </th> <td>   0.924</td>\n",
        "</tr>\n",
        "<tr>\n",
        "  <th>Model:</th>                   <td>GLS</td>       <th>  Adj. R-squared:    </th> <td>   0.906</td>\n",
        "</tr>\n",
        "<tr>\n",
        "  <th>Method:</th>             <td>Least Squares</td>  <th>  F-statistic:       </th> <td>   48.94</td>\n",
        "</tr>\n",
        "<tr>\n",
        "  <th>Date:</th>             <td>Fri, 28 Nov 2014</td> <th>  Prob (F-statistic):</th>  <td>0.00220</td>\n",
        "</tr>\n",
        "<tr>\n",
        "  <th>Time:</th>                 <td>10:19:48</td>     <th>  Log-Likelihood:    </th> <td>  71.507</td>\n",
        "</tr>\n",
        "<tr>\n",
        "  <th>No. Observations:</th>      <td>     5</td>      <th>  AIC:               </th> <td>  -141.0</td>\n",
        "</tr>\n",
        "<tr>\n",
        "  <th>Df Residuals:</th>          <td>     4</td>      <th>  BIC:               </th> <td>  -141.4</td>\n",
        "</tr>\n",
        "<tr>\n",
        "  <th>Df Model:</th>              <td>     1</td>      <th>                     </th>     <td> </td>   \n",
        "</tr>\n",
        "</table>\n",
        "<table class=\"simpletable\">\n",
        "<tr>\n",
        "   <td></td>     <th>coef</th>     <th>std err</th>      <th>t</th>      <th>P>|t|</th> <th>[95.0% Conf. Int.]</th> \n",
        "</tr>\n",
        "<tr>\n",
        "  <th>x1</th> <td> 7.362e-06</td> <td> 1.05e-06</td> <td>    6.996</td> <td> 0.002</td> <td> 4.44e-06  1.03e-05</td>\n",
        "</tr>\n",
        "</table>\n",
        "<table class=\"simpletable\">\n",
        "<tr>\n",
        "  <th>Omnibus:</th>       <td>   nan</td> <th>  Durbin-Watson:     </th> <td>   0.609</td>\n",
        "</tr>\n",
        "<tr>\n",
        "  <th>Prob(Omnibus):</th> <td>   nan</td> <th>  Jarque-Bera (JB):  </th> <td>   0.863</td>\n",
        "</tr>\n",
        "<tr>\n",
        "  <th>Skew:</th>          <td>-0.964</td> <th>  Prob(JB):          </th> <td>   0.650</td>\n",
        "</tr>\n",
        "<tr>\n",
        "  <th>Kurtosis:</th>      <td> 2.348</td> <th>  Cond. No.          </th> <td>    1.00</td>\n",
        "</tr>\n",
        "</table>"
       ],
       "metadata": {},
       "output_type": "pyout",
       "prompt_number": 16,
       "text": [
        "<class 'statsmodels.iolib.summary.Summary'>\n",
        "\"\"\"\n",
        "                            GLS Regression Results                            \n",
        "==============================================================================\n",
        "Dep. Variable:                      y   R-squared:                       0.924\n",
        "Model:                            GLS   Adj. R-squared:                  0.906\n",
        "Method:                 Least Squares   F-statistic:                     48.94\n",
        "Date:                Fri, 28 Nov 2014   Prob (F-statistic):            0.00220\n",
        "Time:                        10:19:48   Log-Likelihood:                 71.507\n",
        "No. Observations:                   5   AIC:                            -141.0\n",
        "Df Residuals:                       4   BIC:                            -141.4\n",
        "Df Model:                           1                                         \n",
        "==============================================================================\n",
        "                 coef    std err          t      P>|t|      [95.0% Conf. Int.]\n",
        "------------------------------------------------------------------------------\n",
        "x1          7.362e-06   1.05e-06      6.996      0.002      4.44e-06  1.03e-05\n",
        "==============================================================================\n",
        "Omnibus:                          nan   Durbin-Watson:                   0.609\n",
        "Prob(Omnibus):                    nan   Jarque-Bera (JB):                0.863\n",
        "Skew:                          -0.964   Prob(JB):                        0.650\n",
        "Kurtosis:                       2.348   Cond. No.                         1.00\n",
        "==============================================================================\n",
        "\"\"\""
       ]
      }
     ],
     "prompt_number": 16
    },
    {
     "cell_type": "code",
     "collapsed": false,
     "input": [],
     "language": "python",
     "metadata": {},
     "outputs": [],
     "prompt_number": 16
    },
    {
     "cell_type": "code",
     "collapsed": false,
     "input": [],
     "language": "python",
     "metadata": {},
     "outputs": []
    }
   ],
   "metadata": {}
  }
 ]
}