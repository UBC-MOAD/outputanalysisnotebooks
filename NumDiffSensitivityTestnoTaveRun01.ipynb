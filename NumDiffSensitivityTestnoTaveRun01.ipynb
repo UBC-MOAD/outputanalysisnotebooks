{
 "cells": [
  {
   "cell_type": "markdown",
   "metadata": {},
   "source": [
    "Model sensitivity to different values of horizontal and vertical prescribed diffusivity coefficients."
   ]
  },
  {
   "cell_type": "markdown",
   "metadata": {},
   "source": [
    "Sensitivity to Explicit Diffusivity Coefficients\n",
    "============================\n",
    "\n",
    "This ipython notebook investigates the model sensitivity to different values of horizontal and vertical prescribed diffusivity coeffiecients. Experiment 360x360x90_BodyForcing_6tr_LinProfiles has upwelling body forcing and a vertical gradient in the initial tracer concentration. Run01 explores values of horizontal diffusivity (1E-7 to 50) with fixed vertical diffusivity (1E-5). "
   ]
  },
  {
   "cell_type": "code",
   "execution_count": 1,
   "metadata": {
    "collapsed": false
   },
   "outputs": [],
   "source": [
    "#KRM\n",
    "import os\n",
    "\n",
    "import numpy as np\n",
    "\n",
    "import matplotlib.pyplot as plt\n",
    "\n",
    "from scipy.stats import nanmean\n",
    "\n",
    "from math import *\n",
    "\n",
    "%matplotlib inline\n",
    "\n",
    "import numpy as np\n",
    "\n",
    "import matplotlib.colors as mcolors\n",
    "\n",
    "from netCDF4 import Dataset\n",
    "\n",
    "import pylab as pl\n",
    "\n",
    "from decimal import getcontext, Decimal, Inexact\n",
    "\n",
    "import statsmodels.api as sm\n",
    "\n",
    "import pandas as pd"
   ]
  },
  {
   "cell_type": "code",
   "execution_count": 2,
   "metadata": {
    "collapsed": false
   },
   "outputs": [],
   "source": [
    "#lib_path = os.path.abspath('../PythonModulesMITgcm') # Add absolute path to my python scripts\n",
    "#sys.path.append(lib_path)\n",
    "\n",
    "import NumDiffTools as dif"
   ]
  },
  {
   "cell_type": "markdown",
   "metadata": {},
   "source": [
    "Important input parameters:\n",
    "------------------------"
   ]
  },
  {
   "cell_type": "code",
   "execution_count": 3,
   "metadata": {
    "collapsed": false
   },
   "outputs": [],
   "source": [
    "nx = 360  # number of x points in domain\n",
    "ny = 360  # number of y points in domain\n",
    "nz = 90  # number of z levels in domain\n",
    "nt = 21   # number of output files (n time) \n",
    "delt= 12*3600.0 # time interval between model output"
   ]
  },
  {
   "cell_type": "markdown",
   "metadata": {},
   "source": [
    "Load output filenames:\n"
   ]
  },
  {
   "cell_type": "code",
   "execution_count": 4,
   "metadata": {
    "collapsed": false
   },
   "outputs": [],
   "source": [
    "### Load output filenames ###\n",
    "\n",
    "filename = '/ocean/kramosmu/MITgcm/CanyonUpwelling/360x360x90_BodyForcing_6Tr_LinProfiles/run01notave/state.0000000000.glob.nc'\n",
    "StateOut = Dataset(filename)\n",
    "#for dimobj in StateOut.variables.values():\n",
    "#    print dimobj\n",
    "\n",
    "filename2 = '/ocean/kramosmu/MITgcm/CanyonUpwelling/360x360x90_BodyForcing_1Tr/run01/mnc_0001/grid.t001.nc'\n",
    "GridOut = Dataset(filename2)\n",
    "#for dimobj in GridOut.variables.values():\n",
    "  #  print dimobj\n",
    "\n",
    "filename3 = '/ocean/kramosmu/MITgcm/CanyonUpwelling/360x360x90_BodyForcing_6Tr_LinProfiles/run01notave/ptracers.0000000000.glob.nc'\n",
    "PtracersOut = Dataset(filename3)\n",
    "#for dimobj in PtracersOut.variables.values():\n",
    "#    print dimobj\n"
   ]
  },
  {
   "cell_type": "markdown",
   "metadata": {},
   "source": [
    "Horizontal diffusivity sensitivity\n",
    "--------------------\n",
    "\n",
    "Let's calculate the horizontal and vertical diffusivity for each of the 6 tracers in run01."
   ]
  },
  {
   "cell_type": "code",
   "execution_count": 5,
   "metadata": {
    "collapsed": false
   },
   "outputs": [],
   "source": [
    "tracer1 = dif.getField(filename3,'Tr1')\n",
    "\n",
    "tracer1msk = np.ma.masked_values(tracer1, 0)\n",
    "\n",
    "MASK = np.ma.getmask(tracer1msk)\n",
    "   \n",
    "    \n",
    "tracer2 = dif.getField(filename3,'Tr2')\n",
    "\n",
    "tracer2msk = np.ma.masked_values(tracer2, 0)\n",
    "\n",
    "\n",
    "\n",
    "tracer3 = dif.getField(filename3,'Tr3')\n",
    "\n",
    "tracer3msk = np.ma.masked_values(tracer3, 0)\n",
    "\n",
    "\n",
    "tracer4 = dif.getField(filename3,'Tr4')\n",
    "\n",
    "tracer4msk = np.ma.masked_values(tracer4, 0)\n",
    "\n",
    "\n",
    "tracer5 = dif.getField(filename3,'Tr5')\n",
    "\n",
    "tracer1msk = np.ma.masked_values(tracer1, 0)\n",
    "\n",
    "\n",
    "tracer6 = dif.getField(filename3,'Tr6')\n",
    "\n",
    "tracer6msk = np.ma.masked_values(tracer6, 0)\n"
   ]
  },
  {
   "cell_type": "markdown",
   "metadata": {},
   "source": [
    "\n",
    "Calculate the volume of the domain\n"
   ]
  },
  {
   "cell_type": "code",
   "execution_count": 6,
   "metadata": {
    "collapsed": false
   },
   "outputs": [
    {
     "name": "stdout",
     "output_type": "stream",
     "text": [
      "6.10285330795e+12\n"
     ]
    }
   ],
   "source": [
    "#vol = dif.CalcDomVolume(filename2, nx, ny, nz)\n",
    "\n",
    "#DomVolume = vol[0]\n",
    "#hFacC = vol[1]\n",
    "#drF = vol[2]\n",
    "#rAC = vol[3]\n",
    "\n",
    "#print(DomVolume)\n",
    "\n",
    "\n",
    "  \n",
    "DomVol = 0.0\n",
    "    \n",
    "hFacC = dif.getField(filename2,'HFacC')\n",
    "drF   = dif.getField(filename2,'drF')\n",
    "rAC   = dif.getField(filename2,'rA')\n",
    "    \n",
    "for jj in np.arange(ny):\n",
    "    for kk in np.arange(nz):\n",
    "      DomVol = DomVol + hFacC[kk,jj,:]*drF[kk]*rAC[jj,:]\n",
    "    #print DomVol\n",
    "  #print('\\n The total volume is %e m^3 \\n' %DomVolume)\n",
    "   \n",
    "DomVolume=sum(DomVol)\n",
    "print DomVolume    "
   ]
  },
  {
   "cell_type": "markdown",
   "metadata": {},
   "source": [
    "Tracer 1\n"
   ]
  },
  {
   "cell_type": "code",
   "execution_count": 7,
   "metadata": {
    "collapsed": false
   },
   "outputs": [
    {
     "name": "stdout",
     "output_type": "stream",
     "text": [
      "done\n",
      "done\n",
      "done\n",
      "done\n",
      "[-0.16499406]\n",
      "[ -3.37822892e-05]\n",
      "                            OLS Regression Results                            \n",
      "==============================================================================\n",
      "Dep. Variable:                      y   R-squared:                       0.958\n",
      "Model:                            OLS   Adj. R-squared:                  0.956\n",
      "Method:                 Least Squares   F-statistic:                     410.8\n",
      "Date:                Fri, 09 Jan 2015   Prob (F-statistic):           7.65e-14\n",
      "Time:                        10:44:20   Log-Likelihood:                 250.56\n",
      "No. Observations:                  19   AIC:                            -499.1\n",
      "Df Residuals:                      18   BIC:                            -498.2\n",
      "Df Model:                           1                                         \n",
      "==============================================================================\n",
      "                 coef    std err          t      P>|t|      [95.0% Conf. Int.]\n",
      "------------------------------------------------------------------------------\n",
      "x1            -0.1650      0.008    -20.269      0.000        -0.182    -0.148\n",
      "==============================================================================\n",
      "Omnibus:                       11.177   Durbin-Watson:                   0.487\n",
      "Prob(Omnibus):                  0.004   Jarque-Bera (JB):                9.461\n",
      "Skew:                          -1.130   Prob(JB):                      0.00882\n",
      "Kurtosis:                       5.617   Cond. No.                         1.00\n",
      "==============================================================================\n",
      "                            OLS Regression Results                            \n",
      "==============================================================================\n",
      "Dep. Variable:                      y   R-squared:                       0.960\n",
      "Model:                            OLS   Adj. R-squared:                  0.958\n",
      "Method:                 Least Squares   F-statistic:                     435.9\n",
      "Date:                Fri, 09 Jan 2015   Prob (F-statistic):           4.58e-14\n",
      "Time:                        10:44:20   Log-Likelihood:                 251.10\n",
      "No. Observations:                  19   AIC:                            -500.2\n",
      "Df Residuals:                      18   BIC:                            -499.2\n",
      "Df Model:                           1                                         \n",
      "==============================================================================\n",
      "                 coef    std err          t      P>|t|      [95.0% Conf. Int.]\n",
      "------------------------------------------------------------------------------\n",
      "x1         -3.378e-05   1.62e-06    -20.879      0.000     -3.72e-05 -3.04e-05\n",
      "==============================================================================\n",
      "Omnibus:                        8.979   Durbin-Watson:                   0.523\n",
      "Prob(Omnibus):                  0.011   Jarque-Bera (JB):                6.593\n",
      "Skew:                          -0.979   Prob(JB):                       0.0370\n",
      "Kurtosis:                       5.121   Cond. No.                         1.00\n",
      "==============================================================================\n"
     ]
    },
    {
     "name": "stderr",
     "output_type": "stream",
     "text": [
      "/home/kramosmu/anaconda/lib/python2.7/site-packages/scipy/stats/stats.py:1276: UserWarning: kurtosistest only valid for n>=20 ... continuing anyway, n=19\n",
      "  int(n))\n"
     ]
    }
   ],
   "source": [
    "\n",
    "q2mean1 = dif.CalcVariance(nt, nz, ny, nx, DomVolume, hFacC, drF, rAC, tracer1)\n",
    "print('done')\n",
    "dqdt1 = dif.CalcTimeDer(q2mean1, nt, delt)\n",
    "print('done')\n",
    "qmeanDh1 = dif.CalcAvgHorGrad(filename2, nt,nz,ny,nx,tracer1,DomVolume,hFacC, drF, rAC)\n",
    "print('done')\n",
    "qmeanDz1=dif.CalcAvgVerGrad(filename2, nt,nz,ny,nx,tracer1,DomVolume,hFacC, drF, rAC)\n",
    "print('done')\n",
    "\n",
    "esth1=dif.FitDiffusivity(-qmeanDh1[1:len(qmeanDh1)-1],dqdt1[0:len(dqdt1)], delt)\n",
    "print(esth1.params)\n",
    "\n",
    "estv1=dif.FitDiffusivity(-qmeanDz1[1:len(qmeanDz1)-1],dqdt1[0:len(dqdt1)], delt)\n",
    "print(estv1.params)\n",
    "\n",
    "print esth1.summary()\n",
    "print estv1.summary()"
   ]
  },
  {
   "cell_type": "markdown",
   "metadata": {},
   "source": [
    "\n",
    "Tracer 2"
   ]
  },
  {
   "cell_type": "code",
   "execution_count": 8,
   "metadata": {
    "collapsed": false
   },
   "outputs": [
    {
     "name": "stdout",
     "output_type": "stream",
     "text": [
      "done\n",
      "done\n",
      "done\n",
      "done\n",
      "[-0.16524882]\n",
      "[ -3.47822369e-05]\n",
      "                            OLS Regression Results                            \n",
      "==============================================================================\n",
      "Dep. Variable:                      y   R-squared:                       0.955\n",
      "Model:                            OLS   Adj. R-squared:                  0.953\n",
      "Method:                 Least Squares   F-statistic:                     384.8\n",
      "Date:                Fri, 09 Jan 2015   Prob (F-statistic):           1.34e-13\n",
      "Time:                        11:30:25   Log-Likelihood:                 250.17\n",
      "No. Observations:                  19   AIC:                            -498.3\n",
      "Df Residuals:                      18   BIC:                            -497.4\n",
      "Df Model:                           1                                         \n",
      "==============================================================================\n",
      "                 coef    std err          t      P>|t|      [95.0% Conf. Int.]\n",
      "------------------------------------------------------------------------------\n",
      "x1            -0.1652      0.008    -19.617      0.000        -0.183    -0.148\n",
      "==============================================================================\n",
      "Omnibus:                       10.000   Durbin-Watson:                   0.456\n",
      "Prob(Omnibus):                  0.007   Jarque-Bera (JB):                8.140\n",
      "Skew:                          -1.004   Prob(JB):                       0.0171\n",
      "Kurtosis:                       5.500   Cond. No.                         1.00\n",
      "==============================================================================\n",
      "                            OLS Regression Results                            \n",
      "==============================================================================\n",
      "Dep. Variable:                      y   R-squared:                       0.956\n",
      "Model:                            OLS   Adj. R-squared:                  0.953\n",
      "Method:                 Least Squares   F-statistic:                     389.7\n",
      "Date:                Fri, 09 Jan 2015   Prob (F-statistic):           1.21e-13\n",
      "Time:                        11:30:25   Log-Likelihood:                 250.28\n",
      "No. Observations:                  19   AIC:                            -498.6\n",
      "Df Residuals:                      18   BIC:                            -497.6\n",
      "Df Model:                           1                                         \n",
      "==============================================================================\n",
      "                 coef    std err          t      P>|t|      [95.0% Conf. Int.]\n",
      "------------------------------------------------------------------------------\n",
      "x1         -3.478e-05   1.76e-06    -19.740      0.000     -3.85e-05 -3.11e-05\n",
      "==============================================================================\n",
      "Omnibus:                        9.551   Durbin-Watson:                   0.463\n",
      "Prob(Omnibus):                  0.008   Jarque-Bera (JB):                7.552\n",
      "Skew:                          -0.972   Prob(JB):                       0.0229\n",
      "Kurtosis:                       5.401   Cond. No.                         1.00\n",
      "==============================================================================\n"
     ]
    }
   ],
   "source": [
    "q2mean2 = dif.CalcVariance(nt, nz, ny, nx, DomVolume, hFacC, drF, rAC, tracer2)\n",
    "print('done')\n",
    "dqdt2 = dif.CalcTimeDer(q2mean2, nt, delt)\n",
    "print('done')\n",
    "qmeanDh2 = dif.CalcAvgHorGrad(filename2, nt,nz,ny,nx,tracer2,DomVolume,hFacC, drF, rAC)\n",
    "print('done')\n",
    "qmeanDz2=dif.CalcAvgVerGrad(filename2, nt,nz,ny,nx,tracer2,DomVolume,hFacC, drF, rAC)\n",
    "print('done')\n",
    "\n",
    "esth2=dif.FitDiffusivity(-qmeanDh2[1:len(qmeanDh2)-1],dqdt2[0:len(dqdt2)], delt)\n",
    "print(esth2.params)\n",
    "\n",
    "estv2=dif.FitDiffusivity(-qmeanDz2[1:len(qmeanDz2)-1],dqdt2[0:len(dqdt2)], delt)\n",
    "print(estv2.params)\n",
    "\n",
    "print esth2.summary()\n",
    "print estv2.summary()"
   ]
  },
  {
   "cell_type": "markdown",
   "metadata": {},
   "source": [
    "Tracer 3"
   ]
  },
  {
   "cell_type": "code",
   "execution_count": 9,
   "metadata": {
    "collapsed": false
   },
   "outputs": [
    {
     "name": "stdout",
     "output_type": "stream",
     "text": [
      "done\n",
      "done\n",
      "done\n",
      "done\n",
      "[-0.16499406]\n",
      "[ -3.37822889e-05]\n",
      "                            OLS Regression Results                            \n",
      "==============================================================================\n",
      "Dep. Variable:                      y   R-squared:                       0.958\n",
      "Model:                            OLS   Adj. R-squared:                  0.956\n",
      "Method:                 Least Squares   F-statistic:                     410.8\n",
      "Date:                Fri, 09 Jan 2015   Prob (F-statistic):           7.65e-14\n",
      "Time:                        12:15:38   Log-Likelihood:                 250.56\n",
      "No. Observations:                  19   AIC:                            -499.1\n",
      "Df Residuals:                      18   BIC:                            -498.2\n",
      "Df Model:                           1                                         \n",
      "==============================================================================\n",
      "                 coef    std err          t      P>|t|      [95.0% Conf. Int.]\n",
      "------------------------------------------------------------------------------\n",
      "x1            -0.1650      0.008    -20.269      0.000        -0.182    -0.148\n",
      "==============================================================================\n",
      "Omnibus:                       11.177   Durbin-Watson:                   0.487\n",
      "Prob(Omnibus):                  0.004   Jarque-Bera (JB):                9.461\n",
      "Skew:                          -1.130   Prob(JB):                      0.00882\n",
      "Kurtosis:                       5.617   Cond. No.                         1.00\n",
      "==============================================================================\n",
      "                            OLS Regression Results                            \n",
      "==============================================================================\n",
      "Dep. Variable:                      y   R-squared:                       0.960\n",
      "Model:                            OLS   Adj. R-squared:                  0.958\n",
      "Method:                 Least Squares   F-statistic:                     435.9\n",
      "Date:                Fri, 09 Jan 2015   Prob (F-statistic):           4.58e-14\n",
      "Time:                        12:15:38   Log-Likelihood:                 251.10\n",
      "No. Observations:                  19   AIC:                            -500.2\n",
      "Df Residuals:                      18   BIC:                            -499.2\n",
      "Df Model:                           1                                         \n",
      "==============================================================================\n",
      "                 coef    std err          t      P>|t|      [95.0% Conf. Int.]\n",
      "------------------------------------------------------------------------------\n",
      "x1         -3.378e-05   1.62e-06    -20.879      0.000     -3.72e-05 -3.04e-05\n",
      "==============================================================================\n",
      "Omnibus:                        8.979   Durbin-Watson:                   0.523\n",
      "Prob(Omnibus):                  0.011   Jarque-Bera (JB):                6.593\n",
      "Skew:                          -0.979   Prob(JB):                       0.0370\n",
      "Kurtosis:                       5.121   Cond. No.                         1.00\n",
      "==============================================================================\n"
     ]
    }
   ],
   "source": [
    "q2mean3 = dif.CalcVariance(nt, nz, ny, nx, DomVolume, hFacC, drF, rAC, tracer3)\n",
    "print('done')\n",
    "dqdt3 = dif.CalcTimeDer(q2mean3, nt, delt)\n",
    "print('done')\n",
    "qmeanDh3 = dif.CalcAvgHorGrad(filename2, nt,nz,ny,nx,tracer3,DomVolume,hFacC, drF, rAC)\n",
    "print('done')\n",
    "qmeanDz3=dif.CalcAvgVerGrad(filename2, nt,nz,ny,nx,tracer3,DomVolume,hFacC, drF, rAC)\n",
    "print('done')\n",
    "\n",
    "esth3=dif.FitDiffusivity(-qmeanDh3[1:len(qmeanDh3)-1],dqdt3[0:len(dqdt3)], delt)\n",
    "print(esth3.params)\n",
    "\n",
    "estv3=dif.FitDiffusivity(-qmeanDz3[1:len(qmeanDz3)-1],dqdt3[0:len(dqdt3)], delt)\n",
    "print(estv3.params)\n",
    "\n",
    "print esth3.summary()\n",
    "print estv3.summary()"
   ]
  },
  {
   "cell_type": "markdown",
   "metadata": {},
   "source": [
    "\n",
    "\n",
    "Tracer 4"
   ]
  },
  {
   "cell_type": "code",
   "execution_count": 10,
   "metadata": {
    "collapsed": false
   },
   "outputs": [
    {
     "name": "stdout",
     "output_type": "stream",
     "text": [
      "done\n",
      "done\n",
      "done\n",
      "done\n",
      "[-0.16502153]\n",
      "[ -3.38562100e-05]\n",
      "                            OLS Regression Results                            \n",
      "==============================================================================\n",
      "Dep. Variable:                      y   R-squared:                       0.958\n",
      "Model:                            OLS   Adj. R-squared:                  0.955\n",
      "Method:                 Least Squares   F-statistic:                     408.1\n",
      "Date:                Fri, 09 Jan 2015   Prob (F-statistic):           8.11e-14\n",
      "Time:                        13:00:09   Log-Likelihood:                 250.53\n",
      "No. Observations:                  19   AIC:                            -499.1\n",
      "Df Residuals:                      18   BIC:                            -498.1\n",
      "Df Model:                           1                                         \n",
      "==============================================================================\n",
      "                 coef    std err          t      P>|t|      [95.0% Conf. Int.]\n",
      "------------------------------------------------------------------------------\n",
      "x1            -0.1650      0.008    -20.200      0.000        -0.182    -0.148\n",
      "==============================================================================\n",
      "Omnibus:                       11.150   Durbin-Watson:                   0.484\n",
      "Prob(Omnibus):                  0.004   Jarque-Bera (JB):                9.445\n",
      "Skew:                          -1.124   Prob(JB):                      0.00889\n",
      "Kurtosis:                       5.622   Cond. No.                         1.00\n",
      "==============================================================================\n",
      "                            OLS Regression Results                            \n",
      "==============================================================================\n",
      "Dep. Variable:                      y   R-squared:                       0.960\n",
      "Model:                            OLS   Adj. R-squared:                  0.958\n",
      "Method:                 Least Squares   F-statistic:                     432.6\n",
      "Date:                Fri, 09 Jan 2015   Prob (F-statistic):           4.89e-14\n",
      "Time:                        13:00:09   Log-Likelihood:                 251.07\n",
      "No. Observations:                  19   AIC:                            -500.1\n",
      "Df Residuals:                      18   BIC:                            -499.2\n",
      "Df Model:                           1                                         \n",
      "==============================================================================\n",
      "                 coef    std err          t      P>|t|      [95.0% Conf. Int.]\n",
      "------------------------------------------------------------------------------\n",
      "x1         -3.386e-05   1.63e-06    -20.799      0.000     -3.73e-05 -3.04e-05\n",
      "==============================================================================\n",
      "Omnibus:                        9.174   Durbin-Watson:                   0.516\n",
      "Prob(Omnibus):                  0.010   Jarque-Bera (JB):                6.854\n",
      "Skew:                          -0.987   Prob(JB):                       0.0325\n",
      "Kurtosis:                       5.183   Cond. No.                         1.00\n",
      "==============================================================================\n"
     ]
    }
   ],
   "source": [
    "q2mean4 = dif.CalcVariance(nt, nz, ny, nx, DomVolume, hFacC, drF, rAC, tracer4)\n",
    "print('done')\n",
    "dqdt4 = dif.CalcTimeDer(q2mean4, nt, delt)\n",
    "print('done')\n",
    "qmeanDh4 = dif.CalcAvgHorGrad(filename2, nt,nz,ny,nx,tracer4,DomVolume,hFacC, drF, rAC)\n",
    "print('done')\n",
    "qmeanDz4=dif.CalcAvgVerGrad(filename2, nt,nz,ny,nx,tracer4,DomVolume,hFacC, drF, rAC)\n",
    "print('done')\n",
    "\n",
    "esth4=dif.FitDiffusivity(-qmeanDh4[1:len(qmeanDh4)-1],dqdt4[0:len(dqdt4)], delt)\n",
    "print(esth4.params)\n",
    "\n",
    "estv4=dif.FitDiffusivity(-qmeanDz4[1:len(qmeanDz4)-1],dqdt4[0:len(dqdt4)], delt)\n",
    "print(estv4.params)\n",
    "\n",
    "print esth4.summary()\n",
    "print estv4.summary()"
   ]
  },
  {
   "cell_type": "markdown",
   "metadata": {},
   "source": [
    "Tracer 5"
   ]
  },
  {
   "cell_type": "code",
   "execution_count": 11,
   "metadata": {
    "collapsed": false
   },
   "outputs": [
    {
     "name": "stdout",
     "output_type": "stream",
     "text": [
      "done\n",
      "done\n",
      "done\n",
      "done\n",
      "[-0.16522534]\n",
      "[ -3.45147299e-05]\n",
      "                            OLS Regression Results                            \n",
      "==============================================================================\n",
      "Dep. Variable:                      y   R-squared:                       0.956\n",
      "Model:                            OLS   Adj. R-squared:                  0.954\n",
      "Method:                 Least Squares   F-statistic:                     393.8\n",
      "Date:                Fri, 09 Jan 2015   Prob (F-statistic):           1.10e-13\n",
      "Time:                        13:48:25   Log-Likelihood:                 250.32\n",
      "No. Observations:                  19   AIC:                            -498.6\n",
      "Df Residuals:                      18   BIC:                            -497.7\n",
      "Df Model:                           1                                         \n",
      "==============================================================================\n",
      "                 coef    std err          t      P>|t|      [95.0% Conf. Int.]\n",
      "------------------------------------------------------------------------------\n",
      "x1            -0.1652      0.008    -19.845      0.000        -0.183    -0.148\n",
      "==============================================================================\n",
      "Omnibus:                       10.529   Durbin-Watson:                   0.467\n",
      "Prob(Omnibus):                  0.005   Jarque-Bera (JB):                8.740\n",
      "Skew:                          -1.059   Prob(JB):                       0.0127\n",
      "Kurtosis:                       5.560   Cond. No.                         1.00\n",
      "==============================================================================\n",
      "                            OLS Regression Results                            \n",
      "==============================================================================\n",
      "Dep. Variable:                      y   R-squared:                       0.957\n",
      "Model:                            OLS   Adj. R-squared:                  0.955\n",
      "Method:                 Least Squares   F-statistic:                     404.3\n",
      "Date:                Fri, 09 Jan 2015   Prob (F-statistic):           8.78e-14\n",
      "Time:                        13:48:25   Log-Likelihood:                 250.56\n",
      "No. Observations:                  19   AIC:                            -499.1\n",
      "Df Residuals:                      18   BIC:                            -498.2\n",
      "Df Model:                           1                                         \n",
      "==============================================================================\n",
      "                 coef    std err          t      P>|t|      [95.0% Conf. Int.]\n",
      "------------------------------------------------------------------------------\n",
      "x1         -3.451e-05   1.72e-06    -20.107      0.000     -3.81e-05 -3.09e-05\n",
      "==============================================================================\n",
      "Omnibus:                        9.651   Durbin-Watson:                   0.480\n",
      "Prob(Omnibus):                  0.008   Jarque-Bera (JB):                7.586\n",
      "Skew:                          -0.995   Prob(JB):                       0.0225\n",
      "Kurtosis:                       5.371   Cond. No.                         1.00\n",
      "==============================================================================\n"
     ]
    }
   ],
   "source": [
    "q2mean5 = dif.CalcVariance(nt, nz, ny, nx, DomVolume, hFacC, drF, rAC, tracer5)\n",
    "print('done')\n",
    "dqdt5 = dif.CalcTimeDer(q2mean5, nt, delt)\n",
    "print('done')\n",
    "qmeanDh5 = dif.CalcAvgHorGrad(filename2, nt,nz,ny,nx,tracer5,DomVolume,hFacC, drF, rAC)\n",
    "print('done')\n",
    "qmeanDz5=dif.CalcAvgVerGrad(filename2, nt,nz,ny,nx,tracer5,DomVolume,hFacC, drF, rAC)\n",
    "print('done')\n",
    "\n",
    "esth5=dif.FitDiffusivity(-qmeanDh5[1:len(qmeanDh5)-1],dqdt5[0:len(dqdt5)], delt)\n",
    "print(esth5.params)\n",
    "\n",
    "estv5=dif.FitDiffusivity(-qmeanDz5[1:len(qmeanDz5)-1],dqdt5[0:len(dqdt5)], delt)\n",
    "print(estv5.params)\n",
    "\n",
    "print esth5.summary()\n",
    "print estv5.summary()"
   ]
  },
  {
   "cell_type": "markdown",
   "metadata": {},
   "source": [
    "Tracer 6"
   ]
  },
  {
   "cell_type": "code",
   "execution_count": 12,
   "metadata": {
    "collapsed": false
   },
   "outputs": [
    {
     "name": "stdout",
     "output_type": "stream",
     "text": [
      "done\n",
      "done\n",
      "done\n",
      "done\n",
      "[-0.16499451]\n",
      "[ -3.37818465e-05]\n",
      "                            OLS Regression Results                            \n",
      "==============================================================================\n",
      "Dep. Variable:                      y   R-squared:                       0.958\n",
      "Model:                            OLS   Adj. R-squared:                  0.956\n",
      "Method:                 Least Squares   F-statistic:                     410.8\n",
      "Date:                Fri, 09 Jan 2015   Prob (F-statistic):           7.66e-14\n",
      "Time:                        14:34:21   Log-Likelihood:                 250.56\n",
      "No. Observations:                  19   AIC:                            -499.1\n",
      "Df Residuals:                      18   BIC:                            -498.2\n",
      "Df Model:                           1                                         \n",
      "==============================================================================\n",
      "                 coef    std err          t      P>|t|      [95.0% Conf. Int.]\n",
      "------------------------------------------------------------------------------\n",
      "x1            -0.1650      0.008    -20.268      0.000        -0.182    -0.148\n",
      "==============================================================================\n",
      "Omnibus:                       11.177   Durbin-Watson:                   0.487\n",
      "Prob(Omnibus):                  0.004   Jarque-Bera (JB):                9.460\n",
      "Skew:                          -1.130   Prob(JB):                      0.00882\n",
      "Kurtosis:                       5.617   Cond. No.                         1.00\n",
      "==============================================================================\n",
      "                            OLS Regression Results                            \n",
      "==============================================================================\n",
      "Dep. Variable:                      y   R-squared:                       0.960\n",
      "Model:                            OLS   Adj. R-squared:                  0.958\n",
      "Method:                 Least Squares   F-statistic:                     435.9\n",
      "Date:                Fri, 09 Jan 2015   Prob (F-statistic):           4.58e-14\n",
      "Time:                        14:34:21   Log-Likelihood:                 251.10\n",
      "No. Observations:                  19   AIC:                            -500.2\n",
      "Df Residuals:                      18   BIC:                            -499.3\n",
      "Df Model:                           1                                         \n",
      "==============================================================================\n",
      "                 coef    std err          t      P>|t|      [95.0% Conf. Int.]\n",
      "------------------------------------------------------------------------------\n",
      "x1         -3.378e-05   1.62e-06    -20.878      0.000     -3.72e-05 -3.04e-05\n",
      "==============================================================================\n",
      "Omnibus:                        8.979   Durbin-Watson:                   0.523\n",
      "Prob(Omnibus):                  0.011   Jarque-Bera (JB):                6.594\n",
      "Skew:                          -0.979   Prob(JB):                       0.0370\n",
      "Kurtosis:                       5.121   Cond. No.                         1.00\n",
      "==============================================================================\n"
     ]
    }
   ],
   "source": [
    "q2mean6 = dif.CalcVariance(nt, nz, ny, nx, DomVolume, hFacC, drF, rAC, tracer6)\n",
    "print('done')\n",
    "dqdt6 = dif.CalcTimeDer(q2mean6, nt, delt)\n",
    "print('done')\n",
    "qmeanDh6 = dif.CalcAvgHorGrad(filename2, nt,nz,ny,nx,tracer6,DomVolume,hFacC, drF, rAC)\n",
    "print('done')\n",
    "qmeanDz6=dif.CalcAvgVerGrad(filename2, nt,nz,ny,nx,tracer6,DomVolume,hFacC, drF, rAC)\n",
    "print('done')\n",
    "\n",
    "esth6=dif.FitDiffusivity(-qmeanDh6[1:len(qmeanDh6)-1],dqdt6[0:len(dqdt6)], delt)\n",
    "\n",
    "print(esth6.params)\n",
    "\n",
    "estv6=dif.FitDiffusivity(-qmeanDz6[1:len(qmeanDz6)-1],dqdt6[0:len(dqdt6)], delt)\n",
    "print(estv6.params)\n",
    "\n",
    "print esth6.summary()\n",
    "print estv6.summary()"
   ]
  },
  {
   "cell_type": "markdown",
   "metadata": {},
   "source": [
    "Tracer variance plots:\n",
    "--------------------"
   ]
  },
  {
   "cell_type": "code",
   "execution_count": 13,
   "metadata": {
    "collapsed": false
   },
   "outputs": [
    {
     "data": {
      "image/png": "[encoded data removed]",
      "text/plain": [
       "<matplotlib.figure.Figure at 0x52cbf10>"
      ]
     },
     "metadata": {},
     "output_type": "display_data"
    }
   ],
   "source": [
    "\n",
    "kh1=esth1.params\n",
    "kv1=estv1.params\n",
    "\n",
    "kh2=esth2.params\n",
    "kv2=estv2.params\n",
    "\n",
    "kh3=esth3.params\n",
    "kv3=estv3.params\n",
    "\n",
    "kh4=esth4.params\n",
    "kv4=estv4.params\n",
    "\n",
    "kh5=esth5.params\n",
    "kv5=estv5.params\n",
    "\n",
    "kh6=esth6.params\n",
    "kv6=estv6.params\n",
    "\n",
    "\n",
    "fig1=plt.figure(figsize=(21,3))\n",
    "\n",
    "plt.subplot(1,3,1)\n",
    "ax=plt.gca()\n",
    "\n",
    "\n",
    "#plt.plot(qmeanDh1[1:len(qmeanDh1)-1],dqdt1)\n",
    "plt.plot(qmeanDh2[1:len(qmeanDh2)-1],dqdt2)\n",
    "plt.plot(qmeanDh3[1:len(qmeanDh3)-1],dqdt3)\n",
    "plt.plot(qmeanDh4[1:len(qmeanDh4)-1],dqdt4)\n",
    "plt.plot(qmeanDh5[1:len(qmeanDh5)-1],dqdt5)\n",
    "plt.plot(qmeanDh6[1:len(qmeanDh6)-1],dqdt6)\n",
    "\n",
    "\n",
    "plt.xlabel('$<|\\partial_{h}q|^2>$')\n",
    "\n",
    "plt.ylabel('$\\partial{<q^2>}/\\partial{t}$')\n",
    "    \n",
    "\n",
    "plt.subplot(1,3,2)\n",
    "ax=plt.gca()\n",
    "\n",
    "#plt.plot(qmeanDz1[1:len(qmeanDz1)-1],dqdt1)\n",
    "plt.plot(qmeanDz2[1:len(qmeanDz2)-1],dqdt2)\n",
    "plt.plot(qmeanDz3[1:len(qmeanDz3)-1],dqdt3)\n",
    "plt.plot(qmeanDz4[1:len(qmeanDz4)-1],dqdt4)\n",
    "plt.plot(qmeanDz5[1:len(qmeanDz5)-1],dqdt5)\n",
    "plt.plot(qmeanDz6[1:len(qmeanDz6)-1],dqdt6)\n",
    "\n",
    "\n",
    "plt.xlabel('$<\\partial{q^2}/\\partial{z}>$')\n",
    "\n",
    "plt.ylabel('$\\partial{<q^2>}/\\partial{t}$')\n",
    "\n",
    "plt.subplot(1,3,3)\n",
    "ax=plt.gca()\n",
    "\n",
    "\n",
    "#plt.plot(np.arange(0,nt,1),q2mean1)\n",
    "plt.plot(np.arange(0,nt,1),q2mean2)\n",
    "plt.plot(np.arange(0,nt,1),q2mean3)\n",
    "plt.plot(np.arange(0,nt,1),q2mean4)\n",
    "plt.plot(np.arange(0,nt,1),q2mean5)\n",
    "plt.plot(np.arange(0,nt,1),q2mean6)\n",
    "\n",
    "plt.xlabel('hours')\n",
    "\n",
    "plt.ylabel('$<q^2>$')\n",
    "\n",
    "plt.tight_layout()"
   ]
  },
  {
   "cell_type": "markdown",
   "metadata": {},
   "source": [
    "Numerical diffusivities as a function of prescribed vertical diffusivity"
   ]
  },
  {
   "cell_type": "code",
   "execution_count": 14,
   "metadata": {
    "collapsed": false
   },
   "outputs": [
    {
     "data": {
      "text/plain": [
       "<matplotlib.text.Text at 0x562c410>"
      ]
     },
     "execution_count": 14,
     "metadata": {},
     "output_type": "execute_result"
    },
    {
     "data": {
      "image/png": "[encoded data removed]",
      "text/plain": [
       "<matplotlib.figure.Figure at 0x52c42d0>"
      ]
     },
     "metadata": {},
     "output_type": "display_data"
    }
   ],
   "source": [
    "fig1=plt.figure(figsize=(15,6))\n",
    "\n",
    "plt.subplot(1,2,1)\n",
    "ax1=plt.gca()\n",
    "\n",
    "ax1.plot()\n",
    "ax1.plot()\n",
    "#ax.plot((10E-7,10E-3,10E-2,10E-1,1.0,10.0),(esth1.params,esth2.params,esth3.params,esth4.params,esth5.params,esth6.params))\n",
    "ax1.plot((10**(-7),50,10**(-5),1,20,10**(-2)),(kh1,kh2,kh3,kh4,kh5,kh6),'ro')\n",
    "ax1.set_yscale('symlog')\n",
    "ax1.set_xscale('symlog')\n",
    "plt.xlabel('Kh')\n",
    "\n",
    "plt.ylabel('Khnum')\n",
    "    \n",
    "plt.subplot(1,2,2)\n",
    "ax2=plt.gca()\n",
    "\n",
    "ax2.plot()\n",
    "ax2.plot()\n",
    "#ax.plot((10E-7,10E-3,10E-2,10E-1,1.0,10.0),(estv1.params,estv2.params,estv3.params,estv4.params,estv5.params,estv6.params))\n",
    "ax2.plot((10**-7,50,10**-5,1,20,10**-2),(kv1,kv2,kv3,kv4,kv5,kv6),'bo')\n",
    "\n",
    "ax2.set_yscale('symlog')\n",
    "\n",
    "ax2.set_xscale('symlog')\n",
    "\n",
    "plt.xlabel('Kh')\n",
    "\n",
    "plt.ylabel('Kvnum')\n",
    "   \n"
   ]
  },
  {
   "cell_type": "code",
   "execution_count": 15,
   "metadata": {
    "collapsed": false
   },
   "outputs": [
    {
     "data": {
      "text/plain": [
       "(21, 90, 360, 360)"
      ]
     },
     "execution_count": 15,
     "metadata": {},
     "output_type": "execute_result"
    }
   ],
   "source": []
  },
  {
   "cell_type": "code",
   "execution_count": 15,
   "metadata": {
    "collapsed": false
   },
   "outputs": [],
   "source": [
    "\n"
   ]
  },
  {
   "cell_type": "code",
   "execution_count": 15,
   "metadata": {
    "collapsed": false
   },
   "outputs": [],
   "source": []
  },
  {
   "cell_type": "code",
   "execution_count": 15,
   "metadata": {
    "collapsed": false
   },
   "outputs": [],
   "source": []
  }
 ],
 "metadata": {
  "kernelspec": {
   "display_name": "Python 2",
   "language": "python",
   "name": "python2"
  },
  "language_info": {
   "codemirror_mode": {
    "name": "ipython",
    "version": 2
   },
   "file_extension": ".py",
   "mimetype": "text/x-python",
   "name": "python",
   "nbconvert_exporter": "python",
   "pygments_lexer": "ipython2",
   "version": "2.7.11"
  }
 },
 "nbformat": 4,
 "nbformat_minor": 0
}
