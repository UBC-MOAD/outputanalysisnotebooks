{
 "metadata": {
  "name": ""
 },
 "nbformat": 3,
 "nbformat_minor": 0,
 "worksheets": [
  {
   "cells": [
    {
     "cell_type": "markdown",
     "metadata": {},
     "source": [
      "Model sensitivity to different values of horizontal and vertical prescribed diffusivity coefficients."
     ]
    },
    {
     "cell_type": "markdown",
     "metadata": {},
     "source": [
      "Sensitivity to Explicit Diffusivity Coefficients\n",
      "============================\n",
      "\n",
      "This ipython notebook investigates the model sensitivity to different values of horizontal and vertical prescribed diffusivity coeffiecients. Experiment 360x360x90_BodyForcing_6tr_LinProfiles has upwelling body forcing and a vertical gradient in the initial tracer concentration. Run01 explores values of horizontal diffusivity (1E-7 to 50) with fixed vertical diffusivity (1E-5). "
     ]
    },
    {
     "cell_type": "code",
     "collapsed": false,
     "input": [
      "#KRM\n",
      "import os\n",
      "\n",
      "import numpy as np\n",
      "\n",
      "import matplotlib.pyplot as plt\n",
      "\n",
      "from scipy.stats import nanmean\n",
      "\n",
      "from math import *\n",
      "\n",
      "%matplotlib inline\n",
      "\n",
      "import numpy as np\n",
      "\n",
      "import matplotlib.colors as mcolors\n",
      "\n",
      "from netCDF4 import Dataset\n",
      "\n",
      "import pylab as pl\n",
      "\n",
      "from decimal import getcontext, Decimal, Inexact\n",
      "\n",
      "import statsmodels.api as sm\n",
      "\n",
      "import pandas as pd"
     ],
     "language": "python",
     "metadata": {},
     "outputs": [],
     "prompt_number": 1
    },
    {
     "cell_type": "code",
     "collapsed": false,
     "input": [
      "#lib_path = os.path.abspath('../PythonModulesMITgcm') # Add absolute path to my python scripts\n",
      "#sys.path.append(lib_path)\n",
      "\n",
      "import NumDiffTools as dif"
     ],
     "language": "python",
     "metadata": {},
     "outputs": [],
     "prompt_number": 2
    },
    {
     "cell_type": "markdown",
     "metadata": {},
     "source": [
      "Important input parameters:\n",
      "------------------------"
     ]
    },
    {
     "cell_type": "code",
     "collapsed": false,
     "input": [
      "nx = 360  # number of x points in domain\n",
      "ny = 360  # number of y points in domain\n",
      "nz = 90  # number of z levels in domain\n",
      "nt = 21   # number of output files (n time) \n",
      "delt= 12*3600.0 # time interval between model output"
     ],
     "language": "python",
     "metadata": {},
     "outputs": [],
     "prompt_number": 3
    },
    {
     "cell_type": "markdown",
     "metadata": {},
     "source": [
      "Load output filenames:\n"
     ]
    },
    {
     "cell_type": "code",
     "collapsed": false,
     "input": [
      "### Load output filenames ###\n",
      "\n",
      "filename = '/ocean/kramosmu/MITgcm/CanyonUpwelling/360x360x90_BodyForcing_6Tr_LinProfiles/run01notave/state.0000000000.glob.nc'\n",
      "StateOut = Dataset(filename)\n",
      "#for dimobj in StateOut.variables.values():\n",
      "#    print dimobj\n",
      "\n",
      "filename2 = '/ocean/kramosmu/MITgcm/CanyonUpwelling/360x360x90_BodyForcing_1Tr/run01/mnc_0001/grid.t001.nc'\n",
      "GridOut = Dataset(filename2)\n",
      "#for dimobj in GridOut.variables.values():\n",
      "  #  print dimobj\n",
      "\n",
      "filename3 = '/ocean/kramosmu/MITgcm/CanyonUpwelling/360x360x90_BodyForcing_6Tr_LinProfiles/run01notave/ptracers.0000000000.glob.nc'\n",
      "PtracersOut = Dataset(filename3)\n",
      "#for dimobj in PtracersOut.variables.values():\n",
      "#    print dimobj\n"
     ],
     "language": "python",
     "metadata": {},
     "outputs": [],
     "prompt_number": 4
    },
    {
     "cell_type": "markdown",
     "metadata": {},
     "source": [
      "Horizontal diffusivity sensitivity\n",
      "--------------------\n",
      "\n",
      "Let's calculate the horizontal and vertical diffusivity for each of the 6 tracers in run01."
     ]
    },
    {
     "cell_type": "code",
     "collapsed": false,
     "input": [
      "tracer1 = dif.getField(filename3,'Tr1')\n",
      "\n",
      "tracer1msk = np.ma.masked_values(tracer1, 0)\n",
      "\n",
      "MASK = np.ma.getmask(tracer1msk)\n",
      "   \n",
      "    \n",
      "tracer2 = dif.getField(filename3,'Tr2')\n",
      "\n",
      "tracer2msk = np.ma.masked_values(tracer2, 0)\n",
      "\n",
      "\n",
      "\n",
      "tracer3 = dif.getField(filename3,'Tr3')\n",
      "\n",
      "tracer3msk = np.ma.masked_values(tracer3, 0)\n",
      "\n",
      "\n",
      "tracer4 = dif.getField(filename3,'Tr4')\n",
      "\n",
      "tracer4msk = np.ma.masked_values(tracer4, 0)\n",
      "\n",
      "\n",
      "tracer5 = dif.getField(filename3,'Tr5')\n",
      "\n",
      "tracer1msk = np.ma.masked_values(tracer1, 0)\n",
      "\n",
      "\n",
      "tracer6 = dif.getField(filename3,'Tr6')\n",
      "\n",
      "tracer6msk = np.ma.masked_values(tracer6, 0)\n"
     ],
     "language": "python",
     "metadata": {},
     "outputs": [],
     "prompt_number": 5
    },
    {
     "cell_type": "markdown",
     "metadata": {},
     "source": [
      "\n",
      "Calculate the volume of the domain\n"
     ]
    },
    {
     "cell_type": "code",
     "collapsed": false,
     "input": [
      "#vol = dif.CalcDomVolume(filename2, nx, ny, nz)\n",
      "\n",
      "#DomVolume = vol[0]\n",
      "#hFacC = vol[1]\n",
      "#drF = vol[2]\n",
      "#rAC = vol[3]\n",
      "\n",
      "#print(DomVolume)\n",
      "\n",
      "\n",
      "  \n",
      "DomVol = 0.0\n",
      "    \n",
      "hFacC = dif.getField(filename2,'HFacC')\n",
      "drF   = dif.getField(filename2,'drF')\n",
      "rAC   = dif.getField(filename2,'rA')\n",
      "    \n",
      "for jj in np.arange(ny):\n",
      "    for kk in np.arange(nz):\n",
      "      DomVol = DomVol + hFacC[kk,jj,:]*drF[kk]*rAC[jj,:]\n",
      "    #print DomVol\n",
      "  #print('\\n The total volume is %e m^3 \\n' %DomVolume)\n",
      "   \n",
      "DomVolume=sum(DomVol)\n",
      "print DomVolume    "
     ],
     "language": "python",
     "metadata": {},
     "outputs": [
      {
       "output_type": "stream",
       "stream": "stdout",
       "text": [
        "6.10285330795e+12\n"
       ]
      }
     ],
     "prompt_number": 6
    },
    {
     "cell_type": "markdown",
     "metadata": {},
     "source": [
      "Tracer 1\n"
     ]
    },
    {
     "cell_type": "code",
     "collapsed": false,
     "input": [
      "\n",
      "q2mean1 = dif.CalcVariance(nt, nz, ny, nx, DomVolume, hFacC, drF, rAC, tracer1)\n",
      "print('done')\n",
      "dqdt1 = dif.CalcTimeDer(q2mean1, nt, delt)\n",
      "print('done')\n",
      "qmeanDh1 = dif.CalcAvgHorGrad(filename2, nt,nz,ny,nx,tracer1,DomVolume,hFacC, drF, rAC)\n",
      "print('done')\n",
      "qmeanDz1=dif.CalcAvgVerGrad(filename2, nt,nz,ny,nx,tracer1,DomVolume,hFacC, drF, rAC)\n",
      "print('done')\n",
      "\n",
      "esth1=dif.FitDiffusivity(-qmeanDh1[1:len(qmeanDh1)-1],dqdt1[0:len(dqdt1)], delt)\n",
      "print(esth1.params)\n",
      "\n",
      "estv1=dif.FitDiffusivity(-qmeanDz1[1:len(qmeanDz1)-1],dqdt1[0:len(dqdt1)], delt)\n",
      "print(estv1.params)\n",
      "\n",
      "print esth1.summary()\n",
      "print estv1.summary()"
     ],
     "language": "python",
     "metadata": {},
     "outputs": [
      {
       "output_type": "stream",
       "stream": "stdout",
       "text": [
        "done\n",
        "done\n",
        "done"
       ]
      }
     ],
     "prompt_number": "*"
    },
    {
     "cell_type": "markdown",
     "metadata": {},
     "source": [
      "\n",
      "Tracer 2"
     ]
    },
    {
     "cell_type": "code",
     "collapsed": false,
     "input": [
      "q2mean2 = dif.CalcVariance(nt, nz, ny, nx, DomVolume, hFacC, drF, rAC, tracer2)\n",
      "print('done')\n",
      "dqdt2 = dif.CalcTimeDer(q2mean2, nt, delt)\n",
      "print('done')\n",
      "qmeanDh2 = dif.CalcAvgHorGrad(filename2, nt,nz,ny,nx,tracer2,DomVolume,hFacC, drF, rAC)\n",
      "print('done')\n",
      "qmeanDz2=dif.CalcAvgVerGrad(filename2, nt,nz,ny,nx,tracer2,DomVolume,hFacC, drF, rAC)\n",
      "print('done')\n",
      "\n",
      "esth2=dif.FitDiffusivity(-qmeanDh2[1:len(qmeanDh2)-1],dqdt2[0:len(dqdt2)], delt)\n",
      "print(esth2.params)\n",
      "\n",
      "estv2=dif.FitDiffusivity(-qmeanDz2[1:len(qmeanDz2)-1],dqdt2[0:len(dqdt2)], delt)\n",
      "print(estv2.params)\n",
      "\n",
      "print esth2.summary()\n",
      "print estv2.summary()"
     ],
     "language": "python",
     "metadata": {},
     "outputs": [],
     "prompt_number": "*"
    },
    {
     "cell_type": "markdown",
     "metadata": {},
     "source": [
      "Tracer 3"
     ]
    },
    {
     "cell_type": "code",
     "collapsed": false,
     "input": [
      "q2mean3 = dif.CalcVariance(nt, nz, ny, nx, DomVolume, hFacC, drF, rAC, tracer3)\n",
      "print('done')\n",
      "dqdt3 = dif.CalcTimeDer(q2mean3, nt, delt)\n",
      "print('done')\n",
      "qmeanDh3 = dif.CalcAvgHorGrad(filename2, nt,nz,ny,nx,tracer3,DomVolume,hFacC, drF, rAC)\n",
      "print('done')\n",
      "qmeanDz3=dif.CalcAvgVerGrad(filename2, nt,nz,ny,nx,tracer3,DomVolume,hFacC, drF, rAC)\n",
      "print('done')\n",
      "\n",
      "esth3=dif.FitDiffusivity(-qmeanDh3[1:len(qmeanDh3)-1],dqdt3[0:len(dqdt3)], delt)\n",
      "print(esth3.params)\n",
      "\n",
      "estv3=dif.FitDiffusivity(-qmeanDz3[1:len(qmeanDz3)-1],dqdt3[0:len(dqdt3)], delt)\n",
      "print(estv3.params)\n",
      "\n",
      "print esth3.summary()\n",
      "print estv3.summary()"
     ],
     "language": "python",
     "metadata": {},
     "outputs": [],
     "prompt_number": "*"
    },
    {
     "cell_type": "markdown",
     "metadata": {},
     "source": [
      "\n",
      "\n",
      "Tracer 4"
     ]
    },
    {
     "cell_type": "code",
     "collapsed": false,
     "input": [
      "q2mean4 = dif.CalcVariance(nt, nz, ny, nx, DomVolume, hFacC, drF, rAC, tracer4)\n",
      "print('done')\n",
      "dqdt4 = dif.CalcTimeDer(q2mean4, nt, delt)\n",
      "print('done')\n",
      "qmeanDh4 = dif.CalcAvgHorGrad(filename2, nt,nz,ny,nx,tracer4,DomVolume,hFacC, drF, rAC)\n",
      "print('done')\n",
      "qmeanDz4=dif.CalcAvgVerGrad(filename2, nt,nz,ny,nx,tracer4,DomVolume,hFacC, drF, rAC)\n",
      "print('done')\n",
      "\n",
      "esth4=dif.FitDiffusivity(-qmeanDh4[1:len(qmeanDh4)-1],dqdt4[0:len(dqdt4)], delt)\n",
      "print(esth4.params)\n",
      "\n",
      "estv4=dif.FitDiffusivity(-qmeanDz4[1:len(qmeanDz4)-1],dqdt4[0:len(dqdt4)], delt)\n",
      "print(estv4.params)\n",
      "\n",
      "print esth4.summary()\n",
      "print estv4.summary()"
     ],
     "language": "python",
     "metadata": {},
     "outputs": [],
     "prompt_number": "*"
    },
    {
     "cell_type": "markdown",
     "metadata": {},
     "source": [
      "Tracer 5"
     ]
    },
    {
     "cell_type": "code",
     "collapsed": false,
     "input": [
      "q2mean5 = dif.CalcVariance(nt, nz, ny, nx, DomVolume, hFacC, drF, rAC, tracer5)\n",
      "print('done')\n",
      "dqdt5 = dif.CalcTimeDer(q2mean5, nt, delt)\n",
      "print('done')\n",
      "qmeanDh5 = dif.CalcAvgHorGrad(filename2, nt,nz,ny,nx,tracer5,DomVolume,hFacC, drF, rAC)\n",
      "print('done')\n",
      "qmeanDz5=dif.CalcAvgVerGrad(filename2, nt,nz,ny,nx,tracer5,DomVolume,hFacC, drF, rAC)\n",
      "print('done')\n",
      "\n",
      "esth5=dif.FitDiffusivity(-qmeanDh5[1:len(qmeanDh5)-1],dqdt5[0:len(dqdt5)], delt)\n",
      "print(esth5.params)\n",
      "\n",
      "estv5=dif.FitDiffusivity(-qmeanDz5[1:len(qmeanDz5)-1],dqdt5[0:len(dqdt5)], delt)\n",
      "print(estv5.params)\n",
      "\n",
      "print esth5.summary()\n",
      "print estv5.summary()"
     ],
     "language": "python",
     "metadata": {},
     "outputs": [],
     "prompt_number": "*"
    },
    {
     "cell_type": "markdown",
     "metadata": {},
     "source": [
      "Tracer 6"
     ]
    },
    {
     "cell_type": "code",
     "collapsed": false,
     "input": [
      "q2mean6 = dif.CalcVariance(nt, nz, ny, nx, DomVolume, hFacC, drF, rAC, tracer6)\n",
      "print('done')\n",
      "dqdt6 = dif.CalcTimeDer(q2mean6, nt, delt)\n",
      "print('done')\n",
      "qmeanDh6 = dif.CalcAvgHorGrad(filename2, nt,nz,ny,nx,tracer6,DomVolume,hFacC, drF, rAC)\n",
      "print('done')\n",
      "qmeanDz6=dif.CalcAvgVerGrad(filename2, nt,nz,ny,nx,tracer6,DomVolume,hFacC, drF, rAC)\n",
      "print('done')\n",
      "\n",
      "esth6=dif.FitDiffusivity(-qmeanDh6[1:len(qmeanDh6)-1],dqdt6[0:len(dqdt6)], delt)\n",
      "\n",
      "print(esth6.params)\n",
      "\n",
      "estv6=dif.FitDiffusivity(-qmeanDz6[1:len(qmeanDz6)-1],dqdt6[0:len(dqdt6)], delt)\n",
      "print(estv6.params)\n",
      "\n",
      "print esth6.summary()\n",
      "print estv6.summary()"
     ],
     "language": "python",
     "metadata": {},
     "outputs": [],
     "prompt_number": "*"
    },
    {
     "cell_type": "markdown",
     "metadata": {},
     "source": [
      "Tracer variance plots:\n",
      "--------------------"
     ]
    },
    {
     "cell_type": "code",
     "collapsed": false,
     "input": [
      "kh1=-0.16499406\n",
      "kv1=-3.37822892e-05\n",
      "\n",
      "#kh1=esth1.params\n",
      "#kv1=estv1.params\n",
      "\n",
      "kh2=esth2.params\n",
      "kv2=estv2.params\n",
      "\n",
      "kh3=esth3.params\n",
      "kv3=estv3.params\n",
      "\n",
      "kh4=esth4.params\n",
      "kv4=estv4.params\n",
      "\n",
      "kh5=esth5.params\n",
      "kv5=estv5.params\n",
      "\n",
      "kh6=esth6.params\n",
      "kv6=estv6.params\n",
      "\n",
      "\n",
      "fig1=plt.figure(figsize=(21,3))\n",
      "\n",
      "plt.subplot(1,3,1)\n",
      "ax=plt.gca()\n",
      "\n",
      "\n",
      "#plt.plot(qmeanDh1[1:len(qmeanDh1)-1],dqdt1)\n",
      "plt.plot(qmeanDh2[1:len(qmeanDh2)-1],dqdt2)\n",
      "plt.plot(qmeanDh3[1:len(qmeanDh3)-1],dqdt3)\n",
      "plt.plot(qmeanDh4[1:len(qmeanDh4)-1],dqdt4)\n",
      "plt.plot(qmeanDh5[1:len(qmeanDh5)-1],dqdt5)\n",
      "plt.plot(qmeanDh6[1:len(qmeanDh6)-1],dqdt6)\n",
      "\n",
      "\n",
      "plt.xlabel('$<|\\partial_{h}q|^2>$')\n",
      "\n",
      "plt.ylabel('$\\partial{<q^2>}/\\partial{t}$')\n",
      "    \n",
      "\n",
      "plt.subplot(1,3,2)\n",
      "ax=plt.gca()\n",
      "\n",
      "#plt.plot(qmeanDz1[1:len(qmeanDz1)-1],dqdt1)\n",
      "plt.plot(qmeanDz2[1:len(qmeanDz2)-1],dqdt2)\n",
      "plt.plot(qmeanDz3[1:len(qmeanDz3)-1],dqdt3)\n",
      "plt.plot(qmeanDz4[1:len(qmeanDz4)-1],dqdt4)\n",
      "plt.plot(qmeanDz5[1:len(qmeanDz5)-1],dqdt5)\n",
      "plt.plot(qmeanDz6[1:len(qmeanDz6)-1],dqdt6)\n",
      "\n",
      "\n",
      "plt.xlabel('$<\\partial{q^2}/\\partial{z}>$')\n",
      "\n",
      "plt.ylabel('$\\partial{<q^2>}/\\partial{t}$')\n",
      "\n",
      "plt.subplot(1,3,3)\n",
      "ax=plt.gca()\n",
      "\n",
      "\n",
      "#plt.plot(np.arange(0,nt,1),q2mean1)\n",
      "plt.plot(np.arange(0,nt,1),q2mean2)\n",
      "plt.plot(np.arange(0,nt,1),q2mean3)\n",
      "plt.plot(np.arange(0,nt,1),q2mean4)\n",
      "plt.plot(np.arange(0,nt,1),q2mean5)\n",
      "plt.plot(np.arange(0,nt,1),q2mean6)\n",
      "\n",
      "plt.xlabel('hours')\n",
      "\n",
      "plt.ylabel('$<q^2>$')\n",
      "\n",
      "plt.tight_layout()"
     ],
     "language": "python",
     "metadata": {},
     "outputs": [],
     "prompt_number": "*"
    },
    {
     "cell_type": "markdown",
     "metadata": {},
     "source": [
      "Numerical diffusivities as a function of prescribed vertical diffusivity"
     ]
    },
    {
     "cell_type": "code",
     "collapsed": false,
     "input": [
      "fig1=plt.figure(figsize=(15,6))\n",
      "\n",
      "plt.subplot(1,2,1)\n",
      "ax1=plt.gca()\n",
      "\n",
      "ax1.plot()\n",
      "ax1.plot()\n",
      "#ax.plot((10E-7,10E-3,10E-2,10E-1,1.0,10.0),(esth1.params,esth2.params,esth3.params,esth4.params,esth5.params,esth6.params))\n",
      "ax1.plot((10**(-7),50,10**(-5),1,20,10**(-2)),(kh1,kh2,kh3,kh4,kh5,kh6),'ro')\n",
      "ax1.set_yscale('symlog')\n",
      "ax1.set_xscale('symlog')\n",
      "plt.xlabel('Kh')\n",
      "\n",
      "plt.ylabel('Khnum')\n",
      "    \n",
      "plt.subplot(1,2,2)\n",
      "ax2=plt.gca()\n",
      "\n",
      "ax2.plot()\n",
      "ax2.plot()\n",
      "#ax.plot((10E-7,10E-3,10E-2,10E-1,1.0,10.0),(estv1.params,estv2.params,estv3.params,estv4.params,estv5.params,estv6.params))\n",
      "ax2.plot((10**-7,50,10**-5,1,20,10**-2),(kv1,kv2,kv3,kv4,kv5,kv6),'bo')\n",
      "\n",
      "ax2.set_yscale('symlog')\n",
      "\n",
      "ax2.set_xscale('symlog')\n",
      "\n",
      "plt.xlabel('Kh')\n",
      "\n",
      "plt.ylabel('Kvnum')\n",
      "   \n"
     ],
     "language": "python",
     "metadata": {},
     "outputs": [],
     "prompt_number": "*"
    },
    {
     "cell_type": "code",
     "collapsed": false,
     "input": [
      "np.shape(tracer1)"
     ],
     "language": "python",
     "metadata": {},
     "outputs": [],
     "prompt_number": "*"
    },
    {
     "cell_type": "code",
     "collapsed": false,
     "input": [
      "\n"
     ],
     "language": "python",
     "metadata": {},
     "outputs": [],
     "prompt_number": "*"
    },
    {
     "cell_type": "code",
     "collapsed": false,
     "input": [],
     "language": "python",
     "metadata": {},
     "outputs": [],
     "prompt_number": "*"
    },
    {
     "cell_type": "code",
     "collapsed": false,
     "input": [],
     "language": "python",
     "metadata": {},
     "outputs": [],
     "prompt_number": "*"
    }
   ],
   "metadata": {}
  }
 ]
}