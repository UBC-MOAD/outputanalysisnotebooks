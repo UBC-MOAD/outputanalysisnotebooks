{
 "cells": [
  {
   "cell_type": "markdown",
   "metadata": {},
   "source": [
    "## Depth integrated tracer on shelf per km along shelf"
   ]
  },
  {
   "cell_type": "code",
   "execution_count": 1,
   "metadata": {
    "collapsed": false
   },
   "outputs": [],
   "source": [
    "#import gsw as sw # Gibbs seawater package\n",
    "\n",
    "from math import *\n",
    "\n",
    "import matplotlib.pyplot as plt\n",
    "\n",
    "import matplotlib.colors as mcolors\n",
    "\n",
    "%matplotlib inline\n",
    "\n",
    "#from MITgcmutils import rdmds\n",
    "\n",
    "from netCDF4 import Dataset\n",
    "\n",
    "import numpy as np\n",
    "\n",
    "import os \n",
    "\n",
    "import pandas as pd\n",
    "\n",
    "import pylab as pl\n",
    "\n",
    "import scipy.io\n",
    "\n",
    "import scipy as spy\n",
    "\n",
    "import seaborn as sns\n",
    "\n",
    "import sys"
   ]
  },
  {
   "cell_type": "code",
   "execution_count": 2,
   "metadata": {
    "collapsed": false
   },
   "outputs": [],
   "source": [
    "lib_path = os.path.abspath('../../Building_canyon/BuildCanyon/PythonModulesMITgcm') # Add absolute path to my python scripts\n",
    "#lib_path = os.path.abspath('../BuildCanyon/PythonModulesMITgcm') # Add absolute path to my python scripts\n",
    "\n",
    "sys.path.append(lib_path)\n",
    "\n",
    "import ReadOutTools_MITgcm as rout \n",
    "import MetricsPythonTools as mpt\n"
   ]
  },
  {
   "cell_type": "code",
   "execution_count": 3,
   "metadata": {
    "collapsed": false
   },
   "outputs": [],
   "source": [
    "sns.set()\n",
    "sns.set_style('white')\n",
    "sns.set_context('talk')"
   ]
  },
  {
   "cell_type": "code",
   "execution_count": 4,
   "metadata": {
    "collapsed": true
   },
   "outputs": [],
   "source": [
    "# plotting functions\n",
    "def plotCanyonPos(ax,UpX,DnX):\n",
    "    ax.axvline(UpX,color='0.70',linestyle='--')\n",
    "    ax.axvline(DnX,color='0.70',linestyle='--')\n"
   ]
  },
  {
   "cell_type": "code",
   "execution_count": 5,
   "metadata": {
    "collapsed": false
   },
   "outputs": [],
   "source": [
    "#Exp\n",
    "CGrid = '/ocean/kramosmu/MITgcm/TracerExperiments/BARKLEY/run01/gridGlob.nc' \n",
    "CGridOut = Dataset(CGrid)\n",
    "\n",
    "CGridNoC = '/ocean/kramosmu/MITgcm/TracerExperiments/BARKLEY/run02/gridGlob.nc' \n",
    "CGridNoCOut = Dataset(CGridNoC)\n",
    "\n",
    "Ptracers = '/ocean/kramosmu/MITgcm/TracerExperiments/BARKLEY/run01/ptracersGlob.nc' \n",
    "PtracersOut = Dataset(Ptracers)\n",
    "\n",
    "PtracersNoC = '/ocean/kramosmu/MITgcm/TracerExperiments/BARKLEY/run02/ptracersGlob.nc' \n",
    "PtracersOutNoC = Dataset(PtracersNoC)\n",
    "\n",
    "PtracersCNT = '/ocean/kramosmu/MITgcm/TracerExperiments/CNTDIFF/run03/ptracersGlob.nc' \n",
    "\n",
    "PtracersCNTNoC = '/ocean/kramosmu/MITgcm/TracerExperiments/CNTDIFF/run07/ptracersGlob.nc' \n"
   ]
  },
  {
   "cell_type": "code",
   "execution_count": null,
   "metadata": {
    "collapsed": true
   },
   "outputs": [],
   "source": []
  },
  {
   "cell_type": "code",
   "execution_count": 6,
   "metadata": {
    "collapsed": false
   },
   "outputs": [],
   "source": [
    "# General input\n",
    "\n",
    "nx = 360\n",
    "ny = 360\n",
    "nz = 90\n",
    "nt = 19 # t dimension size \n",
    "numTr = 22 # number of tracers in total (CNT =22, 3D = 4, total = 19)\n",
    "\n",
    "rc = CGridNoCOut.variables['RC']\n",
    "dxf = CGridNoCOut.variables['dxF']\n",
    "xc = rout.getField(CGridNoC, 'XC') # x coords tracer cells\n",
    "yc = rout.getField(CGridNoC, 'YC') # y coords tracer cells\n",
    "\n",
    "rA = rout.getField(CGridNoC, 'rA') \n",
    "\n",
    "drF = CGridNoCOut.variables['drF'] # vertical distance between faces\n",
    "drC = CGridNoCOut.variables['drC'] # vertical distance between centers\n",
    "\n",
    "hFacC = rout.getField(CGridNoC, 'HFacC')\n",
    "mask_NoC = rout.getMask(CGridNoC, 'HFacC')\n",
    "\n",
    "labels = ['Linear','Oxygen','Nitrate','Silicate','Phosphate','Nitrous Acid','Methane']\n",
    "\n",
    "times = np.arange(0,nt,1)\n",
    "\n",
    "#print(drC[:])\n",
    "#print(np.shape(drC))"
   ]
  },
  {
   "cell_type": "code",
   "execution_count": 7,
   "metadata": {
    "collapsed": false
   },
   "outputs": [],
   "source": [
    "def HCW_Tracer_AlongShelf(Tr,MaskC,nzlim,rA,hFacC,drF,yin,zfin,xi,yi):\n",
    "  '''\n",
    "  INPUT----------------------------------------------------------------------------------------------------------------\n",
    "    Tr    : Array with concentration values for a tracer. Until this function is more general, this should be size 19x90x360x360\n",
    "    MaskC : Land mask for tracer\n",
    "    nzlim : The nz index under which to look for water properties\n",
    "    rA    : Area of cell faces at C points (360x360)\n",
    "    fFacC : Fraction of open cell (90x360x360)\n",
    "    drF   : Distance between cell faces (90)\n",
    "    yin   : across-shore index of shelf break\n",
    "    zfin  : shelf break index + 1 \n",
    "    xi    : initial profile x index\n",
    "    yi    : initial profile y index\n",
    "    \n",
    "    OUTPUT----------------------------------------------------------------------------------------------------------------\n",
    "    VolWaterHighConc =  Array with the volume of water over the shelf [t,360] at every time output.\n",
    "    Total_Tracer =  Array with the mass of tracer (m^3*[C]*l/m^3) at each x-position over the shelf [t,360] at \n",
    "                    every time output. \n",
    "                                                \n",
    "  -----------------------------------------------------------------------------------------------------------------------\n",
    "  '''\n",
    "  maskExp = mpt.maskExpand(MaskC,Tr)\n",
    "\n",
    "  TrMask=np.ma.array(Tr,mask=maskExp)   \n",
    "    \n",
    "  trlim = TrMask[0,nzlim,yi,xi]\n",
    "    \n",
    "  print('tracer limit concentration is: ',trlim)\n",
    "    \n",
    "    \n",
    "  # mask cells with tracer concentration < trlim on shelf\n",
    "  HighConc_Masked = np.ma.masked_less(TrMask[:,:zfin,yin:,:], trlim) \n",
    "  HighConc_Mask = HighConc_Masked.mask\n",
    "    \n",
    "  #Get volume of water of cells with relatively high concentration\n",
    "  rA_exp = np.expand_dims(rA[yin:,:],0)\n",
    "  drF_exp = np.expand_dims(np.expand_dims(drF[:zfin],1),1)\n",
    "  rA_exp = rA_exp + np.zeros(hFacC[:zfin,yin:,:].shape)\n",
    "  drF_exp = drF_exp + np.zeros(hFacC[:zfin,yin:,:].shape)\n",
    "    \n",
    "  ShelfVolume = hFacC[:zfin,yin:,:]*drF_exp*rA_exp\n",
    "  ShelfVolume_exp = np.expand_dims(ShelfVolume,0)\n",
    "  ShelfVolume_exp = ShelfVolume_exp + np.zeros(HighConc_Mask.shape)\n",
    "    \n",
    "  HighConc_CellVol = np.ma.masked_array(ShelfVolume_exp,mask = HighConc_Mask) \n",
    "  VolWaterHighConc =np.ma.sum(np.ma.sum(HighConc_CellVol,axis = 1),axis=1)\n",
    "    \n",
    "   #Get total mass of tracer on shelf\n",
    "  Total_Tracer = np.ma.sum(np.ma.sum(ShelfVolume_exp*TrMask[:,:zfin,yin:,:]*1000.0,axis = 1),axis=1)\n",
    "   # 1 m^3 = 1000 l\n",
    "    \n",
    "  return (VolWaterHighConc, Total_Tracer)"
   ]
  },
  {
   "cell_type": "code",
   "execution_count": 8,
   "metadata": {
    "collapsed": false
   },
   "outputs": [
    {
     "ename": "MemoryError",
     "evalue": "",
     "output_type": "error",
     "traceback": [
      "\u001b[1;31m---------------------------------------------------------------------------\u001b[0m",
      "\u001b[1;31mMemoryError\u001b[0m                               Traceback (most recent call last)",
      "\u001b[1;32m<ipython-input-8-8d00935cb26e>\u001b[0m in \u001b[0;36m<module>\u001b[1;34m()\u001b[0m\n\u001b[1;32m----> 1\u001b[1;33m \u001b[0mLin\u001b[0m \u001b[1;33m=\u001b[0m \u001b[0mrout\u001b[0m\u001b[1;33m.\u001b[0m\u001b[0mgetField\u001b[0m\u001b[1;33m(\u001b[0m\u001b[0mPtracersCNT\u001b[0m\u001b[1;33m,\u001b[0m \u001b[1;34m'Tr1'\u001b[0m\u001b[1;33m)\u001b[0m\u001b[1;33m\u001b[0m\u001b[0m\n\u001b[0m\u001b[0;32m      2\u001b[0m \u001b[0mLinNoC\u001b[0m \u001b[1;33m=\u001b[0m \u001b[0mrout\u001b[0m\u001b[1;33m.\u001b[0m\u001b[0mgetField\u001b[0m\u001b[1;33m(\u001b[0m\u001b[0mPtracersCNTNoC\u001b[0m\u001b[1;33m,\u001b[0m \u001b[1;34m'Tr1'\u001b[0m\u001b[1;33m)\u001b[0m\u001b[1;33m\u001b[0m\u001b[0m\n\u001b[0;32m      3\u001b[0m \u001b[1;33m\u001b[0m\u001b[0m\n\u001b[0;32m      4\u001b[0m \u001b[1;31m# salinity is the profile for tracer 2 but I won't be using it\u001b[0m\u001b[1;33m\u001b[0m\u001b[1;33m\u001b[0m\u001b[0m\n\u001b[0;32m      5\u001b[0m \u001b[1;33m\u001b[0m\u001b[0m\n",
      "\u001b[1;32m/ocean/kramosmu/Building_canyon/BuildCanyon/PythonModulesMITgcm/ReadOutTools_MITgcm.pyc\u001b[0m in \u001b[0;36mgetField\u001b[1;34m(statefile, fieldname)\u001b[0m\n\u001b[0;32m     38\u001b[0m     \u001b[1;32melif\u001b[0m \u001b[0mlen\u001b[0m\u001b[1;33m(\u001b[0m\u001b[0mshFld\u001b[0m\u001b[1;33m)\u001b[0m \u001b[1;33m==\u001b[0m \u001b[1;36m4\u001b[0m\u001b[1;33m:\u001b[0m\u001b[1;33m\u001b[0m\u001b[0m\n\u001b[0;32m     39\u001b[0m \u001b[1;33m\u001b[0m\u001b[0m\n\u001b[1;32m---> 40\u001b[1;33m         \u001b[0mFld2\u001b[0m \u001b[1;33m=\u001b[0m \u001b[0mnp\u001b[0m\u001b[1;33m.\u001b[0m\u001b[0mzeros\u001b[0m\u001b[1;33m(\u001b[0m\u001b[1;33m(\u001b[0m\u001b[0mshFld\u001b[0m\u001b[1;33m[\u001b[0m\u001b[1;36m0\u001b[0m\u001b[1;33m]\u001b[0m\u001b[1;33m,\u001b[0m\u001b[0mshFld\u001b[0m\u001b[1;33m[\u001b[0m\u001b[1;36m1\u001b[0m\u001b[1;33m]\u001b[0m\u001b[1;33m,\u001b[0m\u001b[0mshFld\u001b[0m\u001b[1;33m[\u001b[0m\u001b[1;36m2\u001b[0m\u001b[1;33m]\u001b[0m\u001b[1;33m,\u001b[0m\u001b[0mshFld\u001b[0m\u001b[1;33m[\u001b[0m\u001b[1;36m3\u001b[0m\u001b[1;33m]\u001b[0m\u001b[1;33m)\u001b[0m\u001b[1;33m)\u001b[0m\u001b[1;33m\u001b[0m\u001b[0m\n\u001b[0m\u001b[0;32m     41\u001b[0m         \u001b[0mFld2\u001b[0m \u001b[1;33m=\u001b[0m \u001b[0mnp\u001b[0m\u001b[1;33m.\u001b[0m\u001b[0mreshape\u001b[0m\u001b[1;33m(\u001b[0m\u001b[0mFld\u001b[0m\u001b[1;33m,\u001b[0m\u001b[1;33m(\u001b[0m\u001b[0mshFld\u001b[0m\u001b[1;33m[\u001b[0m\u001b[1;36m0\u001b[0m\u001b[1;33m]\u001b[0m\u001b[1;33m,\u001b[0m\u001b[0mshFld\u001b[0m\u001b[1;33m[\u001b[0m\u001b[1;36m1\u001b[0m\u001b[1;33m]\u001b[0m\u001b[1;33m,\u001b[0m\u001b[0mshFld\u001b[0m\u001b[1;33m[\u001b[0m\u001b[1;36m2\u001b[0m\u001b[1;33m]\u001b[0m\u001b[1;33m,\u001b[0m\u001b[0mshFld\u001b[0m\u001b[1;33m[\u001b[0m\u001b[1;36m3\u001b[0m\u001b[1;33m]\u001b[0m\u001b[1;33m)\u001b[0m\u001b[1;33m)\u001b[0m \u001b[1;31m# reshape to pcolor order\u001b[0m\u001b[1;33m\u001b[0m\u001b[0m\n\u001b[0;32m     42\u001b[0m         \u001b[1;32mreturn\u001b[0m \u001b[0mFld2\u001b[0m\u001b[1;33m\u001b[0m\u001b[0m\n",
      "\u001b[1;31mMemoryError\u001b[0m: "
     ]
    }
   ],
   "source": [
    "Lin = rout.getField(PtracersCNT, 'Tr1')\n",
    "LinNoC = rout.getField(PtracersCNTNoC, 'Tr1')\n",
    "\n",
    "# salinity is the profile for tracer 2 but I won't be using it\n",
    "\n",
    "Oxy = rout.getField(Ptracers, 'Tr03')\n",
    "OxyNoC = rout.getField(PtracersNoC, 'Tr03')\n",
    "\n",
    "Nit = rout.getField(Ptracers, 'Tr04')\n",
    "NitNoC = rout.getField(PtracersNoC, 'Tr04')\n"
   ]
  },
  {
   "cell_type": "code",
   "execution_count": null,
   "metadata": {
    "collapsed": true
   },
   "outputs": [],
   "source": [
    "Sil = rout.getField(Ptracers, 'Tr05')\n",
    "SilNoC = rout.getField(PtracersNoC, 'Tr05')\n",
    "\n",
    "Pho = rout.getField(Ptracers, 'Tr06')\n",
    "PhoNoC = rout.getField(PtracersNoC, 'Tr06')\n",
    "\n",
    "NAc = rout.getField(Ptracers, 'Tr07')\n",
    "NAcNoC = rout.getField(PtracersNoC, 'Tr07')\n",
    "\n",
    "Met = rout.getField(Ptracers, 'Tr08')\n",
    "MetNoC = rout.getField(PtracersNoC, 'Tr08')\n"
   ]
  },
  {
   "cell_type": "markdown",
   "metadata": {},
   "source": [
    "\n",
    "## Bakley tracers - canyon "
   ]
  },
  {
   "cell_type": "code",
   "execution_count": null,
   "metadata": {
    "collapsed": false
   },
   "outputs": [],
   "source": [
    "HCWLin,TrMassLin = HCW_Tracer_AlongShelf(Lin,mask_NoC,30,rA,hFacC,drF,227,30,180,50)\n",
    "HCWLinNoC,TrMassLinNoC = HCW_Tracer_AlongShelf(LinNoC,mask_NoC,30,rA,hFacC,drF,227,30,180,50)\n",
    "\n",
    "HCWOxy,TrMassOxy = HCW_Tracer_AlongShelf(Oxy,mask_NoC,30,rA,hFacC,drF,227,30,180,50)\n",
    "HCWOxyNoC,TrMassOxyNoC = HCW_Tracer_AlongShelf(OxyNoC,mask_NoC,30,rA,hFacC,drF,227,30,180,50)\n",
    "\n",
    "HCWNit,TrMassNit = HCW_Tracer_AlongShelf(Nit,mask_NoC,30,rA,hFacC,drF,227,30,180,50)\n",
    "HCWNitNoC,TrMassNitNoC = HCW_Tracer_AlongShelf(NitNoC,mask_NoC,30,rA,hFacC,drF,227,30,180,50)\n",
    "\n",
    "HCWSil,TrMassSil = HCW_Tracer_AlongShelf(Sil,mask_NoC,30,rA,hFacC,drF,227,30,180,50)\n",
    "HCWSilNoC,TrMassSilNoC = HCW_Tracer_AlongShelf(SilNoC,mask_NoC,30,rA,hFacC,drF,227,30,180,50)\n",
    "\n",
    "HCWPho,TrMassPho = HCW_Tracer_AlongShelf(Pho,mask_NoC,30,rA,hFacC,drF,227,30,180,50)\n",
    "HCWPhoNoC,TrMassPhoNoC = HCW_Tracer_AlongShelf(PhoNoC,mask_NoC,30,rA,hFacC,drF,227,30,180,50)\n",
    "\n",
    "HCWNAc,TrMassNAc = HCW_Tracer_AlongShelf(NAc,mask_NoC,30,rA,hFacC,drF,227,30,180,50)\n",
    "HCWNAcNoC,TrMassNAcNoC = HCW_Tracer_AlongShelf(NAcNoC,mask_NoC,30,rA,hFacC,drF,227,30,180,50)\n",
    "\n",
    "HCWMet,TrMassMet = HCW_Tracer_AlongShelf(Met,mask_NoC,30,rA,hFacC,drF,227,30,180,50)\n",
    "HCWMetNoC,TrMassMetNoC = HCW_Tracer_AlongShelf(MetNoC,mask_NoC,30,rA,hFacC,drF,227,30,180,50)\n"
   ]
  },
  {
   "cell_type": "code",
   "execution_count": null,
   "metadata": {
    "collapsed": false
   },
   "outputs": [],
   "source": [
    "fig,((ax1,ax2,ax3),(ax4,ax5,ax6),(ax7,ax8,ax9)) = plt.subplots(3,3, figsize = (14,12),sharex=True, sharey=True)\n",
    "\n",
    "axlist = [ax1,ax2,ax3,ax4,ax5,ax6,ax7,ax8,ax9]\n",
    "\n",
    "times = [2,4,6,8,10,12,14,16,18]\n",
    "for ii,ax in zip(times,axlist):\n",
    "    ax.plot(xc[1,:]/1000,HCWLin[ii,:]/(1000*dxf[0,:]),sns.xkcd_rgb[\"purple\"],label=labels[0])\n",
    "    ax.plot(xc[1,:]/1000,HCWOxy[ii,:]/(1000*dxf[0,:]),sns.xkcd_rgb[\"blue\"],label=labels[1])\n",
    "    ax.plot(xc[1,:]/1000,HCWNit[ii,:]/(1000*dxf[0,:]),sns.xkcd_rgb[\"green\"],label=labels[2])\n",
    "    ax.plot(xc[1,:]/1000,HCWSil[ii,:]/(1000*dxf[0,:]),sns.xkcd_rgb[\"orange\"],label=labels[3])\n",
    "    ax.plot(xc[1,:]/1000,HCWPho[ii,:]/(1000*dxf[0,:]),sns.xkcd_rgb[\"gold\"],label=labels[4])\n",
    "    ax.plot(xc[1,:]/1000,HCWNAc[ii,:]/(1000*dxf[0,:]),sns.xkcd_rgb[\"red\"],label=labels[5])\n",
    "    ax.plot(xc[1,:]/1000,HCWMet[ii,:]/(1000*dxf[0,:]),sns.xkcd_rgb[\"magenta\"],label=labels[6])\n",
    "    \n",
    "    \n",
    "    \n",
    "    ax.set_title('day %d' %(ii/2))\n",
    "    plotCanyonPos(ax,xc[1,120]/1000,xc[1,240]/1000)\n",
    "\n",
    "ax1.legend(loc=0)\n",
    "ax8.set_xlabel('Alongshore distance (km)')\n",
    "ax4.set_ylabel('Volume HCW per m ($10^3$ $m^3$)')\n",
    "\n",
    "    \n",
    "plt.tight_layout()"
   ]
  },
  {
   "cell_type": "code",
   "execution_count": null,
   "metadata": {
    "collapsed": false
   },
   "outputs": [],
   "source": [
    "fig,((ax1,ax2,ax3),(ax4,ax5,ax6),(ax7,ax8,ax9)) = plt.subplots(3,3, figsize = (14,12),sharex=True, sharey=True)\n",
    "\n",
    "axlist = [ax1,ax2,ax3,ax4,ax5,ax6,ax7,ax8,ax9]\n",
    "\n",
    "times = [2,4,6,8,10,12,14,16,18]\n",
    "for ii,ax in zip(times,axlist):\n",
    "    ax.plot(xc[1,:]/1000,TrMassLin[ii,:]/(1000000*dxf[0,:]),sns.xkcd_rgb[\"purple\"],label=labels[0])\n",
    "    ax.plot(xc[1,:]/1000,TrMassOxy[ii,:]/(1000000*dxf[0,:]),sns.xkcd_rgb[\"blue\"],label=labels[1])\n",
    "    ax.plot(xc[1,:]/1000,TrMassNit[ii,:]/(1000000*dxf[0,:]),sns.xkcd_rgb[\"green\"],label=labels[2])\n",
    "    ax.plot(xc[1,:]/1000,TrMassSil[ii,:]/(1000000*dxf[0,:]),sns.xkcd_rgb[\"orange\"],label=labels[3])\n",
    "    ax.plot(xc[1,:]/1000,TrMassPho[ii,:]/(1000000*dxf[0,:]),sns.xkcd_rgb[\"gold\"],label=labels[4])\n",
    "    ax.plot(xc[1,:]/1000,TrMassNAc[ii,:]/(1000000*dxf[0,:]),sns.xkcd_rgb[\"red\"],label=labels[5])\n",
    "    ax.plot(xc[1,:]/1000,TrMassMet[ii,:]/(1000000*dxf[0,:]),sns.xkcd_rgb[\"magenta\"],label=labels[6])\n",
    "    \n",
    "    \n",
    "    \n",
    "    ax.set_title('day %d' %(ii/2))\n",
    "    plotCanyonPos(ax,xc[1,120]/1000,xc[1,240]/1000)\n",
    "\n",
    "ax1.legend(loc=0)\n",
    "ax8.set_xlabel('Alongshore distance (km)')\n",
    "ax4.set_ylabel('Tracer mass per m ($10^6$ $[C]m^3$)')\n",
    "\n",
    "plt.tight_layout()    \n"
   ]
  },
  {
   "cell_type": "code",
   "execution_count": null,
   "metadata": {
    "collapsed": false
   },
   "outputs": [],
   "source": [
    "fig,(ax1) = plt.subplots(1,1, figsize = (10,5),sharex=True)\n",
    "\n",
    "tt = np.arange(19)\n",
    "\n",
    "ax1.plot(tt/2.0,np.sum(TrMassLin,axis=1)/np.sum(TrMassLin,axis=1)[0],\n",
    "         sns.xkcd_rgb[\"purple\"],\n",
    "         marker = 'o',\n",
    "         label=labels[0])\n",
    "print((np.sum(TrMassLin,axis=1)[18]-np.sum(TrMassLin,axis=1)[9])/np.sum(TrMassLin,axis=1)[0])\n",
    "\n",
    "ax1.plot(tt/2.0,np.sum(TrMassOxy,axis=1)/np.sum(TrMassOxy,axis=1)[0],\n",
    "         sns.xkcd_rgb[\"blue\"],\n",
    "         marker = 'o',\n",
    "         label=labels[1])\n",
    "print((np.sum(TrMassOxy,axis=1)[18]-np.sum(TrMassOxy,axis=1)[9])/np.sum(TrMassOxy,axis=1)[0])\n",
    "\n",
    "ax1.plot(tt/2.0,np.sum(TrMassNit,axis=1)/np.sum(TrMassNit,axis=1)[0],\n",
    "         sns.xkcd_rgb[\"green\"],\n",
    "         marker = 'o',\n",
    "         label=labels[2])\n",
    "print((np.sum(TrMassNit,axis=1)[18]-np.sum(TrMassNit,axis=1)[9])/np.sum(TrMassNit,axis=1)[0])\n",
    "\n",
    "ax1.plot(tt/2.0,np.sum(TrMassSil,axis=1)/np.sum(TrMassSil,axis=1)[0],\n",
    "         sns.xkcd_rgb[\"orange\"],\n",
    "         marker = 'o',\n",
    "         label=labels[3])\n",
    "print((np.sum(TrMassSil,axis=1)[18]-np.sum(TrMassSil,axis=1)[9])/np.sum(TrMassSil,axis=1)[0])\n",
    "\n",
    "ax1.plot(tt/2.0,np.sum(TrMassPho,axis=1)/np.sum(TrMassPho,axis=1)[0],\n",
    "         sns.xkcd_rgb[\"gold\"],\n",
    "         marker = 'o',\n",
    "         label=labels[4])\n",
    "print((np.sum(TrMassPho,axis=1)[18]-np.sum(TrMassPho,axis=1)[9])/np.sum(TrMassPho,axis=1)[0])\n",
    "\n",
    "ax1.plot(tt/2.0,np.sum(TrMassNAc,axis=1)/np.sum(TrMassNAc,axis=1)[0],\n",
    "         sns.xkcd_rgb[\"red\"],\n",
    "         marker = 'o',\n",
    "         label=labels[5])\n",
    "print((np.sum(TrMassNAc,axis=1)[18]-np.sum(TrMassNAc,axis=1)[9])/np.sum(TrMassNAc,axis=1)[0])\n",
    "\n",
    "ax1.plot(tt/2.0,np.sum(TrMassMet,axis=1)/np.sum(TrMassMet,axis=1)[0],\n",
    "         sns.xkcd_rgb[\"magenta\"],\n",
    "         marker = 'o',\n",
    "         label=labels[6])\n",
    "print((np.sum(TrMassMet,axis=1)[18]-np.sum(TrMassMet,axis=1)[9])/np.sum(TrMassMet,axis=1)[0])\n",
    "    \n",
    "\n",
    "ax1.axhline(1.0,linestyle ='--',color='0.5')      \n",
    "ax1.legend(loc=0)\n",
    "ax1.set_xlabel('Day')\n",
    "ax1.set_ylabel('Tracer mass / Initial tracer mass')\n",
    "plt.tight_layout()\n",
    "\n",
    "plt.show()\n",
    "\n"
   ]
  },
  {
   "cell_type": "code",
   "execution_count": null,
   "metadata": {
    "collapsed": false
   },
   "outputs": [],
   "source": [
    "fig,(ax1) = plt.subplots(1,1, figsize = (10,5),sharex=True)\n",
    "\n",
    "tt = np.arange(19)\n",
    "\n",
    "ax1.plot(tt/2.0,(np.sum(TrMassLin,axis=1)-np.sum(TrMassLinNoC,axis=1))/np.sum(TrMassLin,axis=1)[0],\n",
    "         sns.xkcd_rgb[\"purple\"],\n",
    "         marker = 'o',\n",
    "         label=labels[0])\n",
    "ax1.plot(tt/2.0,(np.sum(TrMassOxy,axis=1)-np.sum(TrMassOxyNoC,axis=1))/np.sum(TrMassOxy,axis=1)[0],\n",
    "         sns.xkcd_rgb[\"blue\"],\n",
    "         marker = 'o',\n",
    "         label=labels[1])\n",
    "ax1.plot(tt/2.0,(np.sum(TrMassNit,axis=1)-np.sum(TrMassNitNoC,axis=1))/np.sum(TrMassNit,axis=1)[0],\n",
    "         sns.xkcd_rgb[\"green\"],\n",
    "         marker = 'o',\n",
    "         label=labels[2])\n",
    "ax1.plot(tt/2.0,(np.sum(TrMassSil,axis=1)-np.sum(TrMassSilNoC,axis=1))/np.sum(TrMassSil,axis=1)[0],\n",
    "         sns.xkcd_rgb[\"orange\"],\n",
    "         marker = 'o',\n",
    "         label=labels[3])\n",
    "ax1.plot(tt/2.0,(np.sum(TrMassPho,axis=1)-np.sum(TrMassPhoNoC,axis=1))/np.sum(TrMassPho,axis=1)[0],\n",
    "         sns.xkcd_rgb[\"gold\"],\n",
    "         marker = 'o',\n",
    "         label=labels[4])\n",
    "ax1.plot(tt/2.0,(np.sum(TrMassNAc,axis=1)-np.sum(TrMassNAcNoC,axis=1))/np.sum(TrMassNAc,axis=1)[0],\n",
    "         sns.xkcd_rgb[\"red\"],\n",
    "         marker = 'o',\n",
    "         label=labels[5])\n",
    "ax1.plot(tt/2.0,(np.sum(TrMassMet,axis=1)-np.sum(TrMassMetNoC,axis=1))/np.sum(TrMassMet,axis=1)[0],\n",
    "         sns.xkcd_rgb[\"magenta\"],\n",
    "         marker = 'o',\n",
    "         label=labels[6])\n",
    "    \n",
    "\n",
    "ax1.axhline(0.0,linestyle ='--',color='0.5')      \n",
    "ax1.legend(loc=0)\n",
    "ax1.set_xlabel('Day')\n",
    "ax1.set_ylabel('(Tracer mass - Tracer mass flat) / Initial tracer mass')\n",
    "plt.tight_layout()\n",
    "\n",
    "plt.show()\n",
    "\n"
   ]
  },
  {
   "cell_type": "code",
   "execution_count": null,
   "metadata": {
    "collapsed": true
   },
   "outputs": [],
   "source": []
  },
  {
   "cell_type": "code",
   "execution_count": null,
   "metadata": {
    "collapsed": false
   },
   "outputs": [],
   "source": []
  },
  {
   "cell_type": "code",
   "execution_count": null,
   "metadata": {
    "collapsed": false
   },
   "outputs": [],
   "source": []
  },
  {
   "cell_type": "code",
   "execution_count": null,
   "metadata": {
    "collapsed": false
   },
   "outputs": [],
   "source": []
  },
  {
   "cell_type": "code",
   "execution_count": null,
   "metadata": {
    "collapsed": false
   },
   "outputs": [],
   "source": []
  },
  {
   "cell_type": "code",
   "execution_count": null,
   "metadata": {
    "collapsed": true
   },
   "outputs": [],
   "source": []
  },
  {
   "cell_type": "code",
   "execution_count": null,
   "metadata": {
    "collapsed": false
   },
   "outputs": [],
   "source": []
  },
  {
   "cell_type": "code",
   "execution_count": null,
   "metadata": {
    "collapsed": false
   },
   "outputs": [],
   "source": []
  },
  {
   "cell_type": "code",
   "execution_count": null,
   "metadata": {
    "collapsed": false
   },
   "outputs": [],
   "source": []
  },
  {
   "cell_type": "code",
   "execution_count": null,
   "metadata": {
    "collapsed": false
   },
   "outputs": [],
   "source": []
  },
  {
   "cell_type": "code",
   "execution_count": null,
   "metadata": {
    "collapsed": false
   },
   "outputs": [],
   "source": []
  },
  {
   "cell_type": "code",
   "execution_count": null,
   "metadata": {
    "collapsed": false
   },
   "outputs": [],
   "source": []
  },
  {
   "cell_type": "code",
   "execution_count": null,
   "metadata": {
    "collapsed": false
   },
   "outputs": [],
   "source": []
  },
  {
   "cell_type": "code",
   "execution_count": null,
   "metadata": {
    "collapsed": false
   },
   "outputs": [],
   "source": []
  },
  {
   "cell_type": "code",
   "execution_count": null,
   "metadata": {
    "collapsed": false
   },
   "outputs": [],
   "source": []
  },
  {
   "cell_type": "code",
   "execution_count": null,
   "metadata": {
    "collapsed": false
   },
   "outputs": [],
   "source": []
  },
  {
   "cell_type": "code",
   "execution_count": null,
   "metadata": {
    "collapsed": false
   },
   "outputs": [],
   "source": []
  },
  {
   "cell_type": "code",
   "execution_count": null,
   "metadata": {
    "collapsed": false
   },
   "outputs": [],
   "source": []
  },
  {
   "cell_type": "code",
   "execution_count": null,
   "metadata": {
    "collapsed": false
   },
   "outputs": [],
   "source": []
  },
  {
   "cell_type": "code",
   "execution_count": null,
   "metadata": {
    "collapsed": false,
    "scrolled": false
   },
   "outputs": [],
   "source": []
  },
  {
   "cell_type": "code",
   "execution_count": null,
   "metadata": {
    "collapsed": false
   },
   "outputs": [],
   "source": []
  },
  {
   "cell_type": "code",
   "execution_count": null,
   "metadata": {
    "collapsed": false
   },
   "outputs": [],
   "source": []
  },
  {
   "cell_type": "code",
   "execution_count": null,
   "metadata": {
    "collapsed": false
   },
   "outputs": [],
   "source": []
  },
  {
   "cell_type": "code",
   "execution_count": null,
   "metadata": {
    "collapsed": false
   },
   "outputs": [],
   "source": []
  },
  {
   "cell_type": "code",
   "execution_count": null,
   "metadata": {
    "collapsed": false
   },
   "outputs": [],
   "source": []
  },
  {
   "cell_type": "code",
   "execution_count": null,
   "metadata": {
    "collapsed": false
   },
   "outputs": [],
   "source": []
  },
  {
   "cell_type": "code",
   "execution_count": null,
   "metadata": {
    "collapsed": false
   },
   "outputs": [],
   "source": []
  },
  {
   "cell_type": "code",
   "execution_count": null,
   "metadata": {
    "collapsed": true
   },
   "outputs": [],
   "source": [
    "\n"
   ]
  }
 ],
 "metadata": {
  "kernelspec": {
   "display_name": "Python 2",
   "language": "python",
   "name": "python2"
  },
  "language_info": {
   "codemirror_mode": {
    "name": "ipython",
    "version": 2
   },
   "file_extension": ".py",
   "mimetype": "text/x-python",
   "name": "python",
   "nbconvert_exporter": "python",
   "pygments_lexer": "ipython2",
   "version": "2.7.11"
  }
 },
 "nbformat": 4,
 "nbformat_minor": 0
}
