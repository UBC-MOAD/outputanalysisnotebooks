{
 "cells": [
  {
   "cell_type": "markdown",
   "metadata": {},
   "source": [
    "## Develop functions and script to write down metrics on files\n",
    "\n"
   ]
  },
  {
   "cell_type": "code",
   "execution_count": 1,
   "metadata": {
    "collapsed": false
   },
   "outputs": [],
   "source": [
    "#import gsw as sw # Gibbs seawater package\n",
    "\n",
    "from math import *\n",
    "\n",
    "from MITgcmutils import rdmds\n",
    "\n",
    "from netCDF4 import Dataset\n",
    "\n",
    "import numpy as np\n",
    "\n",
    "import os \n",
    "\n",
    "import pylab as pl\n",
    "\n",
    "import scipy.io\n",
    "\n",
    "import scipy as spy\n",
    "\n",
    "import sys"
   ]
  },
  {
   "cell_type": "code",
   "execution_count": 2,
   "metadata": {
    "collapsed": true
   },
   "outputs": [],
   "source": [
    "lib_path = os.path.abspath('../../Building_canyon/BuildCanyon/PythonModulesMITgcm') # Add absolute path to my python scripts\n",
    "sys.path.append(lib_path)\n",
    "\n",
    "import ReadOutTools_MITgcm as rout \n"
   ]
  },
  {
   "cell_type": "code",
   "execution_count": null,
   "metadata": {
    "collapsed": true
   },
   "outputs": [],
   "source": [
    " "
   ]
  },
  {
   "cell_type": "code",
   "execution_count": 3,
   "metadata": {
    "collapsed": false
   },
   "outputs": [],
   "source": [
    "def getDatasets(expPath, runName):\n",
    "    '''Specify the experiment and run from which to analyse state and ptracers output.\n",
    "    expName : (string) Path to experiment folder. E.g. '/ocean/kramosmu/MITgcm/TracerExperiments/BARKLEY', etc.\n",
    "    runName : (string) Folder name of the run. E.g. 'run01', 'run10', etc\n",
    "    '''\n",
    "    Grid =   \"%s/%s/gridGlob.nc\" %(expPath,runName)\n",
    "    GridOut = Dataset(Grid)\n",
    "\n",
    "    State =  \"%s/%s/stateGlob.nc\" %(expPath,runName)\n",
    "    StateOut = Dataset(State)\n",
    "\n",
    "    Ptracers =  \"%s/%s/ptracersGlob.nc\" %(expPath,runName)\n",
    "    PtracersOut = Dataset(Ptracers)\n",
    "    \n",
    "    return (Grid, GridOut, State,StateOut,Ptracers, PtracersOut)"
   ]
  },
  {
   "cell_type": "code",
   "execution_count": 5,
   "metadata": {
    "collapsed": false
   },
   "outputs": [],
   "source": [
    "def getProfile(Tr,yi,xi,nz0=0,nzf=89):\n",
    "    '''Slice tracer profile at x,y = xi,yi form depth index k=nz0 to k=nzf. Default values are nz0=0 (surface)\n",
    "    and nzf = 89, bottom. Tr is a time slice (3D) of the tracer field'''\n",
    "    IniProf = Tr[nz0:nzf,xi,yi]\n",
    "    return IniProf"
   ]
  },
  {
   "cell_type": "code",
   "execution_count": 7,
   "metadata": {
    "collapsed": false
   },
   "outputs": [],
   "source": [
    "def maskExpand(mask,Tr):\n",
    "    \n",
    "    '''Expand the dimensions of mask to fit those of Tr. mask should have one dimension less than Tr (time axis). \n",
    "    It adds a dimension before the first one.'''\n",
    "    \n",
    "    mask_expand = np.expand_dims(mask,0)\n",
    "    \n",
    "    mask_expand = mask_expand + np.zeros(Tr.shape)\n",
    "    \n",
    "    return mask_expand\n",
    "\n",
    "    "
   ]
  },
  {
   "cell_type": "code",
   "execution_count": 14,
   "metadata": {
    "collapsed": true
   },
   "outputs": [],
   "source": [
    "def howMuchWaterX(Tr,MaskC,nzlim,rA,hFacC,drF,yin,zfin,xi,yi):\n",
    "    '''\n",
    "    INPUT----------------------------------------------------------------------------------------------------------------\n",
    "    Tr    : Array with concentration values for a tracer. Until this function is more general, this should be size 19x90x360x360\n",
    "    MaskC : Land mask for tracer\n",
    "    nzlim : The nz index under which to look for water properties\n",
    "    rA    : Area of cell faces at C points (360x360)\n",
    "    fFacC : Fraction of open cell (90x360x360)\n",
    "    drF   : Distance between cell faces (90)\n",
    "    yin   : across-shore index of shelf break\n",
    "    zfin  : shelf break index + 1 \n",
    "    xi    : initial profile x index\n",
    "    yi    : initial profile y index\n",
    "    \n",
    "    OUTPUT----------------------------------------------------------------------------------------------------------------\n",
    "    VolWaterHighConc =  Array with the volume of water over the shelf [:,:30,227:,:] at every time output.\n",
    "    Total_Tracer =  Array with the mass of tracer (m^3*[C]*l/m^3) at each x-position over the shelf [:,:30,227:,:] at \n",
    "                    every time output. Total mass of tracer at xx on the shelf.\n",
    "                                                \n",
    "    -----------------------------------------------------------------------------------------------------------------------\n",
    "    '''\n",
    "    maskExp = maskExpand(MaskC,Tr)\n",
    "\n",
    "    TrMask=np.ma.array(Tr,mask=maskExp)   \n",
    "    \n",
    "    trlim = TrMask[0,nzlim,yi,xi]\n",
    "    \n",
    "    print('tracer limit concentration is: ',trlim)\n",
    "    \n",
    "    WaterX = 0\n",
    "    \n",
    "    # mask cells with tracer concentration < trlim on shelf\n",
    "    HighConc_Masked = np.ma.masked_less(TrMask[:,:zfin,yin:,:], trlim) \n",
    "    HighConc_Mask = HighConc_Masked.mask\n",
    "    \n",
    "    #Get volume of water of cells with relatively high concentration\n",
    "    rA_exp = np.expand_dims(rA[yin:,:],0)\n",
    "    drF_exp = np.expand_dims(np.expand_dims(drF[:zfin],1),1)\n",
    "    rA_exp = rA_exp + np.zeros(hFacC[:zfin,yin:,:].shape)\n",
    "    drF_exp = drF_exp + np.zeros(hFacC[:zfin,yin:,:].shape)\n",
    "    \n",
    "    ShelfVolume = hFacC[:zfin,yin:,:]*drF_exp*rA_exp\n",
    "    ShelfVolume_exp = np.expand_dims(ShelfVolume,0)\n",
    "    ShelfVolume_exp = ShelfVolume_exp + np.zeros(HighConc_Mask.shape)\n",
    "    \n",
    "    HighConc_CellVol = np.ma.masked_array(ShelfVolume_exp,mask = HighConc_Mask) \n",
    "    VolWaterHighConc = np.ma.sum(np.ma.sum(np.ma.sum(HighConc_CellVol,axis = 1),axis=1),axis=1)\n",
    "    \n",
    "    #Get total mass of tracer on shelf\n",
    "    Total_Tracer = np.ma.sum(np.ma.sum(np.ma.sum(ShelfVolume_exp*TrMask[:,:zfin,yin:,:]*1000.0,axis = 1),axis=1),axis=1) \n",
    "    # 1 m^3 = 1000 l\n",
    "    \n",
    "    return (VolWaterHighConc, Total_Tracer)\n",
    "\n"
   ]
  },
  {
   "cell_type": "code",
   "execution_count": null,
   "metadata": {
    "collapsed": false
   },
   "outputs": [],
   "source": [
    "#import glob\n",
    "#def specifyExpFluxes(expPath, runName):\n",
    "#    '''Specify the experiment and run from which to analyse output.\n",
    "#    expName : (string) Path to experiment folder. E.g. '/ocean/kramosmu/MITgcm/TracerExperiments/BARKLEY', etc.\n",
    "#    runName : (string) Folder name of the run. E.g. 'run01', 'run10', etc\n",
    "#    '''\n",
    "#    path = \"%s/%s/Flux*.nc\" %(expPath,runName)\n",
    "#    for fname in glob.glob(path):\n",
    "#    print(fname)\n"
   ]
  },
  {
   "cell_type": "code",
   "execution_count": 9,
   "metadata": {
    "collapsed": false
   },
   "outputs": [],
   "source": [
    "# General input\n",
    "\n",
    "Grid1, GridOut1, State1,StateOut1,Ptracers1, PtracersOut1 = getDatasets('/ocean/kramosmu/MITgcm/TracerExperiments/BARKLEY', 'run01')\n",
    "\n",
    "nx = 360\n",
    "ny = 360\n",
    "nz = 90\n",
    "nt = 19 # t dimension size \n",
    "\n",
    "rc = GridOut1.variables['RC']\n",
    "xc = rout.getField(Grid1, 'XC') # x coords tracer cells\n",
    "yc = rout.getField(Grid1, 'YC') # y coords tracer cells\n",
    "\n",
    "drF = GridOut1.variables['drF'] # vertical distance between faces\n",
    "dxG = rout.getField(Grid1,'dxG')\n",
    "\n",
    "MaskCan = rout.getMask(Grid1,'HFacC') \n",
    "hFacCCan = rout.getField(Grid1,'HFacC') \n",
    "rACan = rout.getField(Grid1,'rA') \n",
    "drFCan=GridOut1.variables['drF']\n"
   ]
  },
  {
   "cell_type": "code",
   "execution_count": null,
   "metadata": {
    "collapsed": false
   },
   "outputs": [],
   "source": []
  },
  {
   "cell_type": "code",
   "execution_count": 10,
   "metadata": {
    "collapsed": false
   },
   "outputs": [],
   "source": [
    "# Load tracers \n",
    "Tr1 = rout.getField(Ptracers1,'Tr01')\n",
    "#Tr2 = rout.getField(Ptracers1,'Tr02') \n",
    "#Tr3 = rout.getField(Ptracers1,'Tr03') \n",
    "#Tr4 = rout.getField(Ptracers1,'Tr04') \n"
   ]
  },
  {
   "cell_type": "code",
   "execution_count": 11,
   "metadata": {
    "collapsed": true
   },
   "outputs": [],
   "source": [
    "#Tr5 = rout.getField(Ptracers1,'Tr05') \n",
    "#Tr6 = rout.getField(Ptracers1,'Tr06') \n",
    "#Tr7 = rout.getField(Ptracers1,'Tr07') \n",
    "#Tr8 = rout.getField(Ptracers1,'Tr08') \n"
   ]
  },
  {
   "cell_type": "code",
   "execution_count": 12,
   "metadata": {
    "collapsed": false
   },
   "outputs": [],
   "source": [
    "Tr1ini = getProfile(Tr1[0,:,:,:],50,180) #Default is to get the whole column\n",
    "#Tr2ini = getProfile(Tr2[0,:,:,:],50,180)\n",
    "#Tr3ini = getProfile(Tr3[0,:,:,:],50,180)\n",
    "#Tr4ini = getProfile(Tr4[0,:,:,:],50,180)\n",
    "#Tr5ini = getProfile(Tr5[0,:,:,:],50,180)\n",
    "#Tr6ini = getProfile(Tr6[0,:,:,:],50,180)\n",
    "#Tr7ini = getProfile(Tr7[0,:,:,:],50,180)\n",
    "#r8ini = getProfile(Tr8[0,:,:,:],50,180)"
   ]
  },
  {
   "cell_type": "markdown",
   "metadata": {},
   "source": []
  },
  {
   "cell_type": "code",
   "execution_count": null,
   "metadata": {
    "collapsed": false
   },
   "outputs": [],
   "source": []
  },
  {
   "cell_type": "code",
   "execution_count": null,
   "metadata": {
    "collapsed": true
   },
   "outputs": [],
   "source": []
  },
  {
   "cell_type": "markdown",
   "metadata": {},
   "source": []
  },
  {
   "cell_type": "code",
   "execution_count": 15,
   "metadata": {
    "collapsed": false
   },
   "outputs": [
    {
     "name": "stdout",
     "output_type": "stream",
     "text": [
      "('tracer limit concentration is: ', 32.251045)\n"
     ]
    }
   ],
   "source": [
    "\n",
    "\n",
    "(WatTr1, TrMassTr1) = howMuchWaterX(Tr1,MaskCan,30,rACan,hFacCCan,drFCan,227,30,50,180) \n",
    "#(WatTr2, TrMassTr2) = howMuchWaterX(Tr2,MaskCan,30,rACan,hFacCCan,drFCan,227,30,50,180) \n",
    "#(WatTr3, TrMassTr3) = howMuchWaterX(Tr3,MaskCan,30,rACan,hFacCCan,drFCan,227,30,50,180) \n",
    "#(WatTr4, TrMassTr4) = howMuchWaterX(Tr4,MaskCan,30,rACan,hFacCCan,drFCan,227,30,50,180) \n",
    "#(WatTr5, TrMassTr5) = howMuchWaterX(Tr5,MaskCan,30,rACan,hFacCCan,drFCan,227,30,50,180) \n",
    "#(WatTr6, TrMassTr6) = howMuchWaterX(Tr6,MaskCan,30,rACan,hFacCCan,drFCan,227,30,50,180) \n",
    "#(WatTr7, TrMassTr7) = howMuchWaterX(Tr7,MaskCan,30,rACan,hFacCCan,drFCan,227,30,50,180) \n",
    "#(WatTr8, TrMassTr8) = howMuchWaterX(Tr8,MaskCan,30,rACan,hFacCCan,drFCan,227,30,50,180) \n",
    "      \n",
    "    "
   ]
  },
  {
   "cell_type": "code",
   "execution_count": 32,
   "metadata": {
    "collapsed": false
   },
   "outputs": [],
   "source": [
    "def dumpFiles(filename,variable,form = 'dump'):\n",
    "    \n",
    "    '''Filename is a string with the path,filename and extension to write into; variable is the np array to save \n",
    "    and form is the file format to save to, it can be either 'dump' which uses np.ma.dump or 'txt' for a regular \n",
    "    text file. To load the arrays use np.load(filename)'''\n",
    "     \n",
    "    if form == 'dump':\n",
    "        np.ma.dump(variable,filename)\n",
    "    elif form == 'txt':\n",
    "        np.savetxt(filename, variable)\n",
    "    else:\n",
    "        print('Format has to be dump or txt')\n",
    "        \n",
    "    "
   ]
  },
  {
   "cell_type": "code",
   "execution_count": 30,
   "metadata": {
    "collapsed": false
   },
   "outputs": [],
   "source": []
  },
  {
   "cell_type": "code",
   "execution_count": 25,
   "metadata": {
    "collapsed": false
   },
   "outputs": [],
   "source": [
    "\n"
   ]
  },
  {
   "cell_type": "markdown",
   "metadata": {
    "collapsed": false
   },
   "source": [
    "### Water deeper than 162.5 m"
   ]
  },
  {
   "cell_type": "code",
   "execution_count": 26,
   "metadata": {
    "collapsed": false
   },
   "outputs": [
    {
     "name": "stdout",
     "output_type": "stream",
     "text": [
      "[8195796777945992.0 8195821251187430.0 8195975235799495.0\n",
      " 8196366135696002.0 8196972989676607.0 8197690110522284.0\n",
      " 8198256360083678.0 8198658776969628.0 8199003407076114.0\n",
      " 8199282044098774.0 8199504173813754.0 8199701615939353.0\n",
      " 8199878884775144.0 8200036858983978.0 8200184274875904.0\n",
      " 8200327708268980.0 8200468391224096.0 8200603985024550.0\n",
      " 8200734089989144.0]\n"
     ]
    }
   ],
   "source": []
  },
  {
   "cell_type": "code",
   "execution_count": 27,
   "metadata": {
    "collapsed": false
   },
   "outputs": [
    {
     "name": "stdout",
     "output_type": "stream",
     "text": [
      "[8195796777945992.0 8195821251187430.0 8195975235799495.0\n",
      " 8196366135696002.0 8196972989676607.0 8197690110522284.0\n",
      " 8198256360083678.0 8198658776969628.0 8199003407076114.0\n",
      " 8199282044098774.0 8199504173813754.0 8199701615939353.0\n",
      " 8199878884775144.0 8200036858983978.0 8200184274875904.0\n",
      " 8200327708268980.0 8200468391224096.0 8200603985024550.0\n",
      " 8200734089989144.0]\n"
     ]
    }
   ],
   "source": []
  },
  {
   "cell_type": "code",
   "execution_count": null,
   "metadata": {
    "collapsed": false
   },
   "outputs": [],
   "source": []
  },
  {
   "cell_type": "code",
   "execution_count": null,
   "metadata": {
    "collapsed": false
   },
   "outputs": [],
   "source": []
  },
  {
   "cell_type": "code",
   "execution_count": null,
   "metadata": {
    "collapsed": false
   },
   "outputs": [],
   "source": []
  },
  {
   "cell_type": "code",
   "execution_count": null,
   "metadata": {
    "collapsed": false
   },
   "outputs": [],
   "source": [
    "\n"
   ]
  },
  {
   "cell_type": "markdown",
   "metadata": {},
   "source": []
  },
  {
   "cell_type": "code",
   "execution_count": null,
   "metadata": {
    "collapsed": false
   },
   "outputs": [],
   "source": []
  },
  {
   "cell_type": "code",
   "execution_count": null,
   "metadata": {
    "collapsed": false
   },
   "outputs": [],
   "source": []
  },
  {
   "cell_type": "code",
   "execution_count": null,
   "metadata": {
    "collapsed": false
   },
   "outputs": [],
   "source": []
  },
  {
   "cell_type": "code",
   "execution_count": null,
   "metadata": {
    "collapsed": false
   },
   "outputs": [],
   "source": []
  },
  {
   "cell_type": "code",
   "execution_count": null,
   "metadata": {
    "collapsed": false
   },
   "outputs": [],
   "source": []
  }
 ],
 "metadata": {
  "kernelspec": {
   "display_name": "Python 2",
   "language": "python",
   "name": "python2"
  },
  "language_info": {
   "codemirror_mode": {
    "name": "ipython",
    "version": 2
   },
   "file_extension": ".py",
   "mimetype": "text/x-python",
   "name": "python",
   "nbconvert_exporter": "python",
   "pygments_lexer": "ipython2",
   "version": "2.7.11"
  }
 },
 "nbformat": 4,
 "nbformat_minor": 0
}
