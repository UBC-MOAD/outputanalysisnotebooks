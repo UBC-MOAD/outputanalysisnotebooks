{
 "cells": [
  {
   "cell_type": "markdown",
   "metadata": {},
   "source": [
    "## Mass conservation in Tracer Experiments CNTDIFF, 3DDIFF, NOGMREDI"
   ]
  },
  {
   "cell_type": "markdown",
   "metadata": {},
   "source": [
    "This notebook explores the mass conservation properties of all the runs in experiments CNTDIFF, 3DDIFF, NOGMREDI. Water mass and tracer mass."
   ]
  },
  {
   "cell_type": "code",
   "execution_count": 1,
   "metadata": {
    "collapsed": false
   },
   "outputs": [
    {
     "name": "stderr",
     "output_type": "stream",
     "text": [
      "/home/kramosmu/anaconda/lib/python2.7/site-packages/mpl_toolkits/__init__.py:2: UserWarning: Module MITgcmutils was already imported from MITgcmutils/__init__.pyc, but /home/kramosmu/anaconda/lib/python2.7/site-packages/MITgcmutils-0.1.0-py2.7.egg is being added to sys.path\n",
      "  __import__('pkg_resources').declare_namespace(__name__)\n"
     ]
    }
   ],
   "source": [
    "from math import *\n",
    "\n",
    "import matplotlib.pyplot as plt\n",
    "\n",
    "import matplotlib.colors as mcolors\n",
    "\n",
    "%matplotlib inline\n",
    "\n",
    "from MITgcmutils import rdmds\n",
    "\n",
    "from netCDF4 import Dataset\n",
    "\n",
    "import numpy as np\n",
    "\n",
    "import os \n",
    "\n",
    "import pylab as pl\n",
    "\n",
    "import scipy.io\n",
    "\n",
    "import scipy as spy\n",
    "\n",
    "import seaborn as sns\n",
    "\n",
    "import sys"
   ]
  },
  {
   "cell_type": "code",
   "execution_count": 2,
   "metadata": {
    "collapsed": true
   },
   "outputs": [],
   "source": [
    "lib_path = os.path.abspath('../../Building_canyon/BuildCanyon/PythonModulesMITgcm') # Add absolute path to my python scripts\n",
    "sys.path.append(lib_path)\n",
    "\n",
    "import ReadOutTools_MITgcm as rout \n",
    "import TransportTools_MITgcm as trt"
   ]
  },
  {
   "cell_type": "code",
   "execution_count": 3,
   "metadata": {
    "collapsed": true
   },
   "outputs": [],
   "source": [
    "def TotalTracerInDomain(Tr,MaskC,rA,hFacC,drF,tt,nx,dx):\n",
    "    '''\n",
    "    INPUT----------------------------------------------------------------------------------------------------------------\n",
    "    Tr    : Array with concentration values for a tracer. Until this function is more general, this should be size 19x90x360x360\n",
    "    MaskC : Land mask for tracer\n",
    "    rA    : Area of cell faces at C points (360x360)\n",
    "    fFacC : Fraction of open cell (90x360x360)\n",
    "    drF   : Distance between cell faces (90)\n",
    "    tt    : Time slice to calculate. Int 0<=tt<=19\n",
    "    nx    : x dimension (along shelf) \n",
    "    dx    : \n",
    "    OUTPUT----------------------------------------------------------------------------------------------------------------\n",
    "    TrX = (1) Total mass of a tracer Tr in the whole domain at time tt. \n",
    "                                                \n",
    "    -----------------------------------------------------------------------------------------------------------------------\n",
    "    '''\n",
    "    hFacCSwap = np.swapaxes(hFacC, 0, 2)\n",
    "    \n",
    "    TrMask=np.ma.array(Tr[tt,:,:,:],mask=MaskC[:,:,:])\n",
    "    VolX = (np.swapaxes(hFacCSwap[:,:,:]*drF[:],0,2))*rA[:,:]\n",
    "          \n",
    "    TrX= np.sum((VolX*TrMask[:,:,:]*1000.0)) #[1 umol/l=1000 umol/m^3]\n",
    "         \n",
    "    return(TrX)\n",
    "            "
   ]
  },
  {
   "cell_type": "code",
   "execution_count": null,
   "metadata": {
    "collapsed": true
   },
   "outputs": [],
   "source": []
  },
  {
   "cell_type": "code",
   "execution_count": 4,
   "metadata": {
    "collapsed": true
   },
   "outputs": [],
   "source": [
    "# General input\n",
    "nx = 360\n",
    "ny = 360\n",
    "nz = 90\n",
    "nt = 19 # t dimension size \n",
    "\n",
    "Bs = 7.4E-4 # ppt^-1\n",
    "At = 2.0E-4 # K^-1"
   ]
  },
  {
   "cell_type": "markdown",
   "metadata": {},
   "source": [
    "## 3DDIFF experiment"
   ]
  },
  {
   "cell_type": "code",
   "execution_count": 5,
   "metadata": {
    "collapsed": false
   },
   "outputs": [],
   "source": [
    "# run01\n",
    "stateFile1='/ocean/kramosmu/MITgcm/TracerExperiments/3DDIFF/run01/stateGlob.nc'\n",
    "StateOut1 = Dataset(stateFile1)\n",
    "\n",
    "gridFile='/ocean/kramosmu/MITgcm/TracerExperiments/3DDIFF/run01/gridGlob.nc'\n",
    "GridOut = Dataset(gridFile)\n",
    "\n",
    "ptracersFile1='/ocean/kramosmu/MITgcm/TracerExperiments/3DDIFF/run01/ptracersGlob.nc'\n",
    "PtracersOut1 = Dataset(ptracersFile1)\n",
    "\n",
    "#run02\n",
    "stateFile2='/ocean/kramosmu/MITgcm/TracerExperiments/3DDIFF/run02/stateGlob.nc'\n",
    "StateOut2 = Dataset(stateFile2)\n",
    "\n",
    "ptracersFile2='/ocean/kramosmu/MITgcm/TracerExperiments/3DDIFF/run02/ptracersGlob.nc'\n",
    "PtracersOut2 = Dataset(ptracersFile2)\n",
    "\n",
    "#run03\n",
    "stateFile3='/ocean/kramosmu/MITgcm/TracerExperiments/3DDIFF/run03/stateGlob.nc'\n",
    "StateOut3 = Dataset(stateFile3)\n",
    "\n",
    "ptracersFile3='/ocean/kramosmu/MITgcm/TracerExperiments/3DDIFF/run03/ptracersGlob.nc'\n",
    "PtracersOut3 = Dataset(ptracersFile3)\n",
    "\n",
    "#for dimobj in PtracersOut1.variables.values():\n",
    "#    print dimobj\n"
   ]
  },
  {
   "cell_type": "code",
   "execution_count": 6,
   "metadata": {
    "collapsed": false
   },
   "outputs": [],
   "source": [
    "z = StateOut1.variables['Z']\n",
    "Time = StateOut1.variables['T']\n",
    "\n",
    "xc = rout.getField(gridFile, 'XC') # x coords tracer cells\n",
    "yc = rout.getField(gridFile, 'YC') # y coords tracer cells\n",
    "\n",
    "drF = GridOut.variables['drF'] # vertical distance between faces\n",
    "dxG = rout.getField(gridFile,'dxG')\n",
    "bathy = rout.getField(gridFile, 'Depth')\n",
    "\n",
    "rA = rout.getField(gridFile, 'rA') # area of cells (x-y)\n",
    "hFacC = rout.getField(gridFile, 'HFacC')\n",
    "MaskC = rout.getMask(gridFile,'HFacC') # same for 3 runs"
   ]
  },
  {
   "cell_type": "code",
   "execution_count": 7,
   "metadata": {
    "collapsed": true
   },
   "outputs": [],
   "source": [
    "Tr1Run01 = rout.getField(ptracersFile1,'Tr1') # [Tr#Run#] = mol/L = mol/dm^3\n",
    "Tr1Run02 = rout.getField(ptracersFile2,'Tr1') \n",
    "Tr1Run03 = rout.getField(ptracersFile3,'Tr1') "
   ]
  },
  {
   "cell_type": "code",
   "execution_count": 8,
   "metadata": {
    "collapsed": false
   },
   "outputs": [
    {
     "name": "stdout",
     "output_type": "stream",
     "text": [
      "0\n",
      "1\n",
      "2\n",
      "3\n",
      "4\n",
      "5\n",
      "6\n",
      "7\n",
      "8\n",
      "9\n",
      "10\n",
      "11\n",
      "12\n",
      "13\n",
      "14\n",
      "15\n",
      "16\n",
      "17\n",
      "18\n"
     ]
    }
   ],
   "source": [
    "TotTr1 = np.empty(19)\n",
    "TotTr2 = np.empty(19)\n",
    "TotTr3 = np.empty(19)\n",
    "\n",
    "for time in range(0,19,1):\n",
    "    print(time)    \n",
    "\n",
    "    TotTr1[time] = TotalTracerInDomain(Tr1Run01,MaskC,rA,hFacC,drF,time,nx,dxG)\n",
    "    TotTr2[time] = TotalTracerInDomain(Tr1Run02,MaskC,rA,hFacC,drF,time,nx,dxG)\n",
    "    TotTr3[time] = TotalTracerInDomain(Tr1Run03,MaskC,rA,hFacC,drF,time,nx,dxG)\n",
    "    "
   ]
  },
  {
   "cell_type": "code",
   "execution_count": 9,
   "metadata": {
    "collapsed": false
   },
   "outputs": [
    {
     "data": {
      "image/png": "[encoded data removed]",
      "text/plain": [
       "<matplotlib.figure.Figure at 0x7fe930ec2390>"
      ]
     },
     "metadata": {},
     "output_type": "display_data"
    }
   ],
   "source": [
    "fig66=plt.figure(figsize=(10,6))\n",
    "sns.set(context='talk', style='whitegrid', font='sans-serif', font_scale=1.3,rc={\"lines.linewidth\": 1.5})\n",
    "\n",
    "times = np.arange(0,19,1)\n",
    "gb = ['#008a31','#9428ae','#007dc1']\n",
    "with sns.color_palette(gb):\n",
    "        \n",
    "    line1 = plt.plot(times/2.0,TotTr1,'o-', label='01 - $K_{v_{in}}=10^{-3}$,$K_{v_{out}}=10^{-7}m^2s^{-1}$ ')\n",
    "    line2 = plt.plot(times/2.0,TotTr2,'o-', label='02 - $K_{v_{in}}=10^{-4}$,$K_{v_{out}}=10^{-7}m^2s^{-1}$')\n",
    "    line3 = plt.plot(times/2.0,TotTr3,'o-', label='03 - $K_{v_{in}}=10^{-3}$,$K_{v_{out}}=10^{-5}m^2s^{-1}$')\n",
    "        \n",
    "    plt.ylabel('Tracer Mass in Domain ($mol$)')\n",
    "    plt.xlabel('Day')\n",
    "    plt.legend(loc = 0)\n",
    "    \n",
    "\n",
    "fig66.savefig('/ocean/kramosmu/Figures/TotalTracerInDomain3DDIFF.eps', format='eps', dpi=1000, bbox_inches='tight')\n"
   ]
  },
  {
   "cell_type": "code",
   "execution_count": 10,
   "metadata": {
    "collapsed": false
   },
   "outputs": [
    {
     "name": "stdout",
     "output_type": "stream",
     "text": [
      "Canyon case: The difference between initial tracer mass and final is  4.73215197901e+14  mol\n"
     ]
    }
   ],
   "source": [
    "print 'Canyon case: The difference between initial tracer mass and final is ', TotTr1[18]-TotTr1[0], ' mol'"
   ]
  },
  {
   "cell_type": "markdown",
   "metadata": {},
   "source": [
    "## CNTDIFF"
   ]
  },
  {
   "cell_type": "code",
   "execution_count": 11,
   "metadata": {
    "collapsed": true
   },
   "outputs": [],
   "source": [
    "# run04\n",
    "stateFile4='/ocean/kramosmu/MITgcm/TracerExperiments/CNTDIFF/run04/stateGlob.nc'\n",
    "StateOut4 = Dataset(stateFile4)\n",
    "\n",
    "gridFile='/ocean/kramosmu/MITgcm/TracerExperiments/CNTDIFF/run04/gridGlob.nc'\n",
    "GridOut = Dataset(gridFile)\n",
    "\n",
    "ptracersFile4='/ocean/kramosmu/MITgcm/TracerExperiments/CNTDIFF/run04/ptracersGlob.nc'\n",
    "PtracersOut4 = Dataset(ptracersFile4)\n",
    "\n",
    "#run06\n",
    "stateFile6='/ocean/kramosmu/MITgcm/TracerExperiments/CNTDIFF/run06/stateGlob.nc'\n",
    "StateOut6 = Dataset(stateFile6)\n",
    "\n",
    "ptracersFile6='/ocean/kramosmu/MITgcm/TracerExperiments/CNTDIFF/run06/ptracersGlob.nc'\n",
    "PtracersOut6 = Dataset(ptracersFile6)\n",
    "\n",
    "#run07\n",
    "stateFile7='/ocean/kramosmu/MITgcm/TracerExperiments/CNTDIFF/run07/stateGlob.nc'\n",
    "StateOut7 = Dataset(stateFile7)\n",
    "\n",
    "ptracersFile7='/ocean/kramosmu/MITgcm/TracerExperiments/CNTDIFF/run07/ptracersGlob.nc'\n",
    "PtracersOut7 = Dataset(ptracersFile7)\n",
    "\n",
    "#run08\n",
    "stateFile8='/ocean/kramosmu/MITgcm/TracerExperiments/CNTDIFF/run08/stateGlob.nc'\n",
    "StateOut8 = Dataset(stateFile8)\n",
    "\n",
    "ptracersFile8='/ocean/kramosmu/MITgcm/TracerExperiments/CNTDIFF/run08/ptracersGlob.nc'\n",
    "PtracersOut8 = Dataset(ptracersFile8)\n",
    "\n",
    "gridFileNoC='/ocean/kramosmu/MITgcm/TracerExperiments/CNTDIFF/run08/gridGlob.nc'\n",
    "GridOutNoC = Dataset(gridFileNoC)\n",
    "\n"
   ]
  },
  {
   "cell_type": "code",
   "execution_count": 12,
   "metadata": {
    "collapsed": true
   },
   "outputs": [],
   "source": [
    "Time = StateOut4.variables['T']\n",
    "\n",
    "xc = rout.getField(gridFile, 'XC') # x coords tracer cells\n",
    "yc = rout.getField(gridFile, 'YC') # y coords tracer cells\n",
    "\n",
    "drF = GridOut.variables['drF'] # vertical distance between faces\n",
    "dxG = rout.getField(gridFile,'dxG')\n",
    "\n",
    "rA = rout.getField(gridFile, 'rA') # area of cells (x-y)\n",
    "hFacC = rout.getField(gridFile, 'HFacC')\n",
    "MaskC = rout.getMask(gridFile,'HFacC') # same for 3 runs\n",
    "\n",
    "drFNoC = GridOutNoC.variables['drF'] # vertical distance between faces\n",
    "dxGNoC = rout.getField(gridFileNoC,'dxG')\n",
    "\n",
    "rANoC = rout.getField(gridFileNoC, 'rA') # area of cells (x-y)\n",
    "hFacCNoC = rout.getField(gridFileNoC, 'HFacC')\n",
    "MaskCNoC = rout.getMask(gridFileNoC,'HFacC') # same for 3 runs"
   ]
  },
  {
   "cell_type": "code",
   "execution_count": 13,
   "metadata": {
    "collapsed": false
   },
   "outputs": [
    {
     "ename": "MemoryError",
     "evalue": "",
     "output_type": "error",
     "traceback": [
      "\u001b[1;31m---------------------------------------------------------------------------\u001b[0m",
      "\u001b[1;31mMemoryError\u001b[0m                               Traceback (most recent call last)",
      "\u001b[1;32m<ipython-input-13-740275378847>\u001b[0m in \u001b[0;36m<module>\u001b[1;34m()\u001b[0m\n\u001b[0;32m      1\u001b[0m \u001b[0mTr1Run04\u001b[0m \u001b[1;33m=\u001b[0m \u001b[0mrout\u001b[0m\u001b[1;33m.\u001b[0m\u001b[0mgetField\u001b[0m\u001b[1;33m(\u001b[0m\u001b[0mptracersFile4\u001b[0m\u001b[1;33m,\u001b[0m\u001b[1;34m'Tr1'\u001b[0m\u001b[1;33m)\u001b[0m \u001b[1;31m# [Tr#Run#] = mol/L = mol/dm^3\u001b[0m\u001b[1;33m\u001b[0m\u001b[0m\n\u001b[0;32m      2\u001b[0m \u001b[0mTr1Run06\u001b[0m \u001b[1;33m=\u001b[0m \u001b[0mrout\u001b[0m\u001b[1;33m.\u001b[0m\u001b[0mgetField\u001b[0m\u001b[1;33m(\u001b[0m\u001b[0mptracersFile6\u001b[0m\u001b[1;33m,\u001b[0m\u001b[1;34m'Tr1'\u001b[0m\u001b[1;33m)\u001b[0m\u001b[1;33m\u001b[0m\u001b[0m\n\u001b[1;32m----> 3\u001b[1;33m \u001b[0mTr1Run07\u001b[0m \u001b[1;33m=\u001b[0m \u001b[0mrout\u001b[0m\u001b[1;33m.\u001b[0m\u001b[0mgetField\u001b[0m\u001b[1;33m(\u001b[0m\u001b[0mptracersFile7\u001b[0m\u001b[1;33m,\u001b[0m\u001b[1;34m'Tr1'\u001b[0m\u001b[1;33m)\u001b[0m \u001b[1;31m# [Tr#Run#] = mol/L = mol/dm^3\u001b[0m\u001b[1;33m\u001b[0m\u001b[0m\n\u001b[0m\u001b[0;32m      4\u001b[0m \u001b[0mTr1Run08\u001b[0m \u001b[1;33m=\u001b[0m \u001b[0mrout\u001b[0m\u001b[1;33m.\u001b[0m\u001b[0mgetField\u001b[0m\u001b[1;33m(\u001b[0m\u001b[0mptracersFile8\u001b[0m\u001b[1;33m,\u001b[0m\u001b[1;34m'Tr1'\u001b[0m\u001b[1;33m)\u001b[0m\u001b[1;33m\u001b[0m\u001b[0m\n",
      "\u001b[1;32m/ocean/kramosmu/Building_canyon/BuildCanyon/PythonModulesMITgcm/ReadOutTools_MITgcm.pyc\u001b[0m in \u001b[0;36mgetField\u001b[1;34m(statefile, fieldname)\u001b[0m\n\u001b[0;32m     38\u001b[0m     \u001b[1;32melif\u001b[0m \u001b[0mlen\u001b[0m\u001b[1;33m(\u001b[0m\u001b[0mshFld\u001b[0m\u001b[1;33m)\u001b[0m \u001b[1;33m==\u001b[0m \u001b[1;36m4\u001b[0m\u001b[1;33m:\u001b[0m\u001b[1;33m\u001b[0m\u001b[0m\n\u001b[0;32m     39\u001b[0m \u001b[1;33m\u001b[0m\u001b[0m\n\u001b[1;32m---> 40\u001b[1;33m         \u001b[0mFld2\u001b[0m \u001b[1;33m=\u001b[0m \u001b[0mnp\u001b[0m\u001b[1;33m.\u001b[0m\u001b[0mzeros\u001b[0m\u001b[1;33m(\u001b[0m\u001b[1;33m(\u001b[0m\u001b[0mshFld\u001b[0m\u001b[1;33m[\u001b[0m\u001b[1;36m0\u001b[0m\u001b[1;33m]\u001b[0m\u001b[1;33m,\u001b[0m\u001b[0mshFld\u001b[0m\u001b[1;33m[\u001b[0m\u001b[1;36m1\u001b[0m\u001b[1;33m]\u001b[0m\u001b[1;33m,\u001b[0m\u001b[0mshFld\u001b[0m\u001b[1;33m[\u001b[0m\u001b[1;36m2\u001b[0m\u001b[1;33m]\u001b[0m\u001b[1;33m,\u001b[0m\u001b[0mshFld\u001b[0m\u001b[1;33m[\u001b[0m\u001b[1;36m3\u001b[0m\u001b[1;33m]\u001b[0m\u001b[1;33m)\u001b[0m\u001b[1;33m)\u001b[0m\u001b[1;33m\u001b[0m\u001b[0m\n\u001b[0m\u001b[0;32m     41\u001b[0m         \u001b[0mFld2\u001b[0m \u001b[1;33m=\u001b[0m \u001b[0mnp\u001b[0m\u001b[1;33m.\u001b[0m\u001b[0mreshape\u001b[0m\u001b[1;33m(\u001b[0m\u001b[0mFld\u001b[0m\u001b[1;33m,\u001b[0m\u001b[1;33m(\u001b[0m\u001b[0mshFld\u001b[0m\u001b[1;33m[\u001b[0m\u001b[1;36m0\u001b[0m\u001b[1;33m]\u001b[0m\u001b[1;33m,\u001b[0m\u001b[0mshFld\u001b[0m\u001b[1;33m[\u001b[0m\u001b[1;36m1\u001b[0m\u001b[1;33m]\u001b[0m\u001b[1;33m,\u001b[0m\u001b[0mshFld\u001b[0m\u001b[1;33m[\u001b[0m\u001b[1;36m2\u001b[0m\u001b[1;33m]\u001b[0m\u001b[1;33m,\u001b[0m\u001b[0mshFld\u001b[0m\u001b[1;33m[\u001b[0m\u001b[1;36m3\u001b[0m\u001b[1;33m]\u001b[0m\u001b[1;33m)\u001b[0m\u001b[1;33m)\u001b[0m \u001b[1;31m# reshape to pcolor order\u001b[0m\u001b[1;33m\u001b[0m\u001b[0m\n\u001b[0;32m     42\u001b[0m         \u001b[1;32mreturn\u001b[0m \u001b[0mFld2\u001b[0m\u001b[1;33m\u001b[0m\u001b[0m\n",
      "\u001b[1;31mMemoryError\u001b[0m: "
     ]
    }
   ],
   "source": [
    "Tr1Run04 = rout.getField(ptracersFile4,'Tr1') # [Tr#Run#] = mol/L = mol/dm^3\n",
    "Tr1Run06 = rout.getField(ptracersFile6,'Tr1') \n",
    "Tr1Run07 = rout.getField(ptracersFile7,'Tr1') # [Tr#Run#] = mol/L = mol/dm^3\n",
    "Tr1Run08 = rout.getField(ptracersFile8,'Tr1') \n"
   ]
  },
  {
   "cell_type": "code",
   "execution_count": null,
   "metadata": {
    "collapsed": false
   },
   "outputs": [],
   "source": [
    "TotTr4 = np.empty(19)\n",
    "TotTr6 = np.empty(19)\n",
    "TotTr7 = np.empty(19)\n",
    "TotTr8 = np.empty(19)\n",
    "\n",
    "for time in range(0,19,1):\n",
    "    print(time)    \n",
    "\n",
    "    TotTr4[time] = TotalTracerInDomain(Tr1Run04,MaskC,rA,hFacC,drF,time,nx,dxG)\n",
    "    TotTr6[time] = TotalTracerInDomain(Tr1Run06,MaskC,rA,hFacC,drF,time,nx,dxG)\n",
    "    TotTr7[time] = TotalTracerInDomain(Tr1Run07,MaskCNoC,rANoC,hFacCNoC,drFNoC,time,nx,dxGNoC)\n",
    "    TotTr8[time] = TotalTracerInDomain(Tr1Run08,MaskCNoC,rANoC,hFacCNoC,drFNoC,time,nx,dxGNoC)\n",
    "  "
   ]
  },
  {
   "cell_type": "code",
   "execution_count": null,
   "metadata": {
    "collapsed": false
   },
   "outputs": [],
   "source": [
    "fig66=plt.figure(figsize=(10,6))\n",
    "sns.set(context='talk', style='whitegrid', font='sans-serif', font_scale=1.3,rc={\"lines.linewidth\": 1.5})\n",
    "\n",
    "times = np.arange(0,19,1)\n",
    "gb = ['#008a31','#9428ae','#007dc1','orange']\n",
    "with sns.color_palette(gb):\n",
    "        \n",
    "    line1 = plt.plot(times/2.0,TotTr4,'o-', label='04 - $K_{iso}=10^{-1}$, $Kv=10^{-5}m^2s^{-1}$ ')\n",
    "    line2 = plt.plot(times/2.0,TotTr6,'o-', label='06 - $K_{iso}=1m^2s^{-1}$')\n",
    "    line3 = plt.plot(times/2.0,TotTr7,'o-', label='07 NoC - $K_{iso}=1m^2s^{-1}$')\n",
    "    line4 = plt.plot(times/2.0,TotTr8,'o-', label='08 NoC NoS - $K_{iso}=1m^2s^{-1}$')\n",
    "        \n",
    "    plt.ylabel('Tracer Mass in Domain ($mol$)')\n",
    "    plt.xlabel('Day')\n",
    "    plt.legend(loc = 0)\n",
    "    \n",
    "\n",
    "fig66.savefig('/ocean/kramosmu/Figures/TotalTracerInDomainCNTDIFFTr1.eps', format='eps', dpi=1000, bbox_inches='tight')\n"
   ]
  },
  {
   "cell_type": "code",
   "execution_count": null,
   "metadata": {
    "collapsed": false
   },
   "outputs": [],
   "source": [
    "print 'Canyon case: The difference between initial tracer mass and final is ', TotTr4[18]-TotTr4[0], ' mol'\n",
    "\n",
    "print 'No Canyon case: The difference between initial tracer mass and final is ', TotTr7[18]-TotTr7[0], ' mol'\n",
    "\n",
    "print 'No Canyon case, no stratification: The difference between initial tracer mass and final is ', TotTr8[18]-TotTr8[0], ' mol'"
   ]
  },
  {
   "cell_type": "code",
   "execution_count": null,
   "metadata": {
    "collapsed": true
   },
   "outputs": [],
   "source": [
    "Tr1Run04 = rout.getField(ptracersFile4,'Tr3') # [Tr#Run#] = mol/L = mol/dm^3\n",
    "Tr1Run06 = rout.getField(ptracersFile6,'Tr3') \n",
    "Tr1Run07 = rout.getField(ptracersFile7,'Tr3') # [Tr#Run#] = mol/L = mol/dm^3\n",
    "Tr1Run08 = rout.getField(ptracersFile8,'Tr3') \n"
   ]
  },
  {
   "cell_type": "code",
   "execution_count": null,
   "metadata": {
    "collapsed": false
   },
   "outputs": [],
   "source": [
    "TotTr4 = np.empty(19)\n",
    "TotTr6 = np.empty(19)\n",
    "TotTr7 = np.empty(19)\n",
    "TotTr8 = np.empty(19)\n",
    "\n",
    "for time in range(0,19,1):\n",
    "    print(time)    \n",
    "\n",
    "    TotTr4[time] = TotalTracerInDomain(Tr1Run04,MaskC,rA,hFacC,drF,time,nx,dxG)\n",
    "    TotTr6[time] = TotalTracerInDomain(Tr1Run06,MaskC,rA,hFacC,drF,time,nx,dxG)\n",
    "    TotTr7[time] = TotalTracerInDomain(Tr1Run07,MaskCNoC,rANoC,hFacCNoC,drFNoC,time,nx,dxGNoC)\n",
    "    TotTr8[time] = TotalTracerInDomain(Tr1Run08,MaskCNoC,rANoC,hFacCNoC,drFNoC,time,nx,dxGNoC)\n",
    "  "
   ]
  },
  {
   "cell_type": "code",
   "execution_count": null,
   "metadata": {
    "collapsed": false
   },
   "outputs": [],
   "source": [
    "fig66=plt.figure(figsize=(10,6))\n",
    "sns.set(context='talk', style='whitegrid', font='sans-serif', font_scale=1.3,rc={\"lines.linewidth\": 1.5})\n",
    "\n",
    "times = np.arange(0,19,1)\n",
    "gb = ['#008a31','#9428ae','#007dc1','orange']\n",
    "with sns.color_palette(gb):\n",
    "        \n",
    "    line1 = plt.plot(times/2.0,TotTr4,'o-', label='04 - $K_{iso}=10^{-1}$, $Kv=10^{-3}m^2s^{-1}$ ')\n",
    "    line2 = plt.plot(times/2.0,TotTr6,'o-', label='06 - $K_{iso}=1m^2s^{-1}$')\n",
    "    line3 = plt.plot(times/2.0,TotTr7,'o-', label='07 NoC - $K_{iso}=1m^2s^{-1}$')\n",
    "    line4 = plt.plot(times/2.0,TotTr8,'o-', label='08 NoC NoS - $K_{iso}=1m^2s^{-1}$')\n",
    "        \n",
    "    plt.ylabel('Tracer Mass in Domain ($mol$)')\n",
    "    plt.xlabel('Day')\n",
    "    plt.legend(loc = 0)\n",
    "    \n",
    "\n",
    "fig66.savefig('/ocean/kramosmu/Figures/TotalTracerInDomainCNTDIFFTr3.eps', format='eps', dpi=1000, bbox_inches='tight')\n"
   ]
  },
  {
   "cell_type": "code",
   "execution_count": null,
   "metadata": {
    "collapsed": false
   },
   "outputs": [],
   "source": [
    "print 'Canyon case: The difference between initial tracer mass and final is ', TotTr4[18]-TotTr4[0], ' mol'\n",
    "\n",
    "print 'No canyon case: The difference between initial tracer mass and final is ', TotTr7[18]-TotTr7[0], ' mol'\n",
    "\n",
    "print 'No canyon case, no stratification: The difference between initial tracer mass and final is ', TotTr8[18]-TotTr8[0], ' mol'\n",
    "\n"
   ]
  },
  {
   "cell_type": "markdown",
   "metadata": {},
   "source": [
    "## NOGMREDI"
   ]
  },
  {
   "cell_type": "code",
   "execution_count": null,
   "metadata": {
    "collapsed": true
   },
   "outputs": [],
   "source": [
    "# run01\n",
    "stateFile1='/ocean/kramosmu/MITgcm/TracerExperiments/NOGMREDI/run01/stateGlob.nc'\n",
    "StateOut1 = Dataset(stateFile1)\n",
    "\n",
    "gridFile='/ocean/kramosmu/MITgcm/TracerExperiments/NOGMREDI/run01/gridGlob.nc'\n",
    "GridOut = Dataset(gridFile)\n",
    "\n",
    "ptracersFile1='/ocean/kramosmu/MITgcm/TracerExperiments/NOGMREDI/run01/ptracersGlob.nc'\n",
    "PtracersOut1 = Dataset(ptracersFile1)\n",
    "\n",
    "#run02\n",
    "stateFile2='/ocean/kramosmu/MITgcm/TracerExperiments/NOGMREDI/run02/stateGlob.nc'\n",
    "StateOut2 = Dataset(stateFile6)\n",
    "\n",
    "ptracersFile2='/ocean/kramosmu/MITgcm/TracerExperiments/NOGMREDI/run02/ptracersGlob.nc'\n",
    "PtracersOut2 = Dataset(ptracersFile2)\n",
    "\n",
    "#run03\n",
    "stateFile3='/ocean/kramosmu/MITgcm/TracerExperiments/NOGMREDI/run03/stateGlob.nc'\n",
    "StateOut3 = Dataset(stateFile3)\n",
    "\n",
    "ptracersFile3='/ocean/kramosmu/MITgcm/TracerExperiments/NOGMREDI/run03/ptracersGlob.nc'\n",
    "PtracersOut3 = Dataset(ptracersFile3)\n",
    "\n",
    "#run04\n",
    "stateFile4='/ocean/kramosmu/MITgcm/TracerExperiments/NOGMREDI/run04/stateGlob.nc'\n",
    "StateOut4 = Dataset(stateFile4)\n",
    "\n",
    "ptracersFile4='/ocean/kramosmu/MITgcm/TracerExperiments/NOGMREDI/run04/ptracersGlob.nc'\n",
    "PtracersOut4 = Dataset(ptracersFile4)\n",
    "\n",
    "gridFileNoC='/ocean/kramosmu/MITgcm/TracerExperiments/NOGMREDI/run04/gridGlob.nc'\n",
    "GridOutNoC = Dataset(gridFileNoC)\n",
    "\n"
   ]
  },
  {
   "cell_type": "code",
   "execution_count": null,
   "metadata": {
    "collapsed": true
   },
   "outputs": [],
   "source": [
    "Time = StateOut4.variables['T']\n",
    "\n",
    "xc = rout.getField(gridFile, 'XC') # x coords tracer cells\n",
    "yc = rout.getField(gridFile, 'YC') # y coords tracer cells\n",
    "\n",
    "drF = GridOut.variables['drF'] # vertical distance between faces\n",
    "dxG = rout.getField(gridFile,'dxG')\n",
    "\n",
    "rA = rout.getField(gridFile, 'rA') # area of cells (x-y)\n",
    "hFacC = rout.getField(gridFile, 'HFacC')\n",
    "MaskC = rout.getMask(gridFile,'HFacC') # same for 3 runs\n",
    "\n",
    "drFNoC = GridOutNoC.variables['drF'] # vertical distance between faces\n",
    "dxGNoC = rout.getField(gridFileNoC,'dxG')\n",
    "\n",
    "rANoC = rout.getField(gridFileNoC, 'rA') # area of cells (x-y)\n",
    "hFacCNoC = rout.getField(gridFileNoC, 'HFacC')\n",
    "MaskCNoC = rout.getMask(gridFileNoC,'HFacC') # same for 3 runs"
   ]
  },
  {
   "cell_type": "code",
   "execution_count": null,
   "metadata": {
    "collapsed": true
   },
   "outputs": [],
   "source": [
    "Tr1Run01 = rout.getField(ptracersFile1,'Tr1') # [Tr#Run#] = mol/L = mol/dm^3\n",
    "Tr1Run02 = rout.getField(ptracersFile2,'Tr1') \n",
    "Tr1Run03 = rout.getField(ptracersFile3,'Tr1') # [Tr#Run#] = mol/L = mol/dm^3\n",
    "Tr1Run04 = rout.getField(ptracersFile4,'Tr1') \n"
   ]
  },
  {
   "cell_type": "code",
   "execution_count": null,
   "metadata": {
    "collapsed": false
   },
   "outputs": [],
   "source": [
    "TotTr1 = np.empty(19)\n",
    "TotTr2 = np.empty(19)\n",
    "TotTr3 = np.empty(19)\n",
    "TotTr4 = np.empty(19)\n",
    "\n",
    "for time in range(0,19,1):\n",
    "    print(time)    \n",
    "\n",
    "    TotTr1[time] = TotalTracerInDomain(Tr1Run01,MaskC,rA,hFacC,drF,time,nx,dxG)\n",
    "    TotTr2[time] = TotalTracerInDomain(Tr1Run02,MaskC,rA,hFacC,drF,time,nx,dxG)\n",
    "    TotTr3[time] = TotalTracerInDomain(Tr1Run03,MaskC,rA,hFacC,drF,time,nx,dxG)\n",
    "    TotTr4[time] = TotalTracerInDomain(Tr1Run04,MaskCNoC,rANoC,hFacCNoC,drFNoC,time,nx,dxGNoC)\n",
    "  "
   ]
  },
  {
   "cell_type": "code",
   "execution_count": null,
   "metadata": {
    "collapsed": false
   },
   "outputs": [],
   "source": [
    "fig66=plt.figure(figsize=(10,6))\n",
    "sns.set(context='talk', style='whitegrid', font='sans-serif', font_scale=1.3,rc={\"lines.linewidth\": 1.5})\n",
    "\n",
    "times = np.arange(0,19,1)\n",
    "gb = ['#008a31','#9428ae','#007dc1','orange']\n",
    "with sns.color_palette(gb):\n",
    "        \n",
    "    line1 = plt.plot(times/2.0,TotTr1,'o-', label='01 - $Kv=10^{-3}m^2s^{-1}$ ')\n",
    "    line2 = plt.plot(times/2.0,TotTr2,'o-', label='02 - $Kv=10^{-5}m^2s^{-1}$')\n",
    "    line3 = plt.plot(times/2.0,TotTr3,'o-', label='03 - $Kv=10^{-5}m^2s^{-1}$')\n",
    "    line4 = plt.plot(times/2.0,TotTr4,'o-', label='04 NoC - $Kv=10^{-5}m^2s^{-1}$ ')\n",
    "        \n",
    "    plt.ylabel('Tracer Mass in Domain ($mol$)')\n",
    "    plt.xlabel('Day')\n",
    "    plt.legend(loc = 0)\n",
    "    \n",
    "\n",
    "fig66.savefig('/ocean/kramosmu/Figures/TotalTracerInDomainNOGMREDITr1.eps', format='eps', dpi=1000, bbox_inches='tight')\n"
   ]
  },
  {
   "cell_type": "markdown",
   "metadata": {},
   "source": [
    "All lines for canyon cases fall under the blue dots. They have the same values.\n"
   ]
  },
  {
   "cell_type": "code",
   "execution_count": null,
   "metadata": {
    "collapsed": false,
    "scrolled": true
   },
   "outputs": [],
   "source": [
    "print 'Canyon case: The difference between initial tracer mass and final is ', TotTr1[18]-TotTr1[0], ' mol'"
   ]
  },
  {
   "cell_type": "code",
   "execution_count": null,
   "metadata": {
    "collapsed": false
   },
   "outputs": [],
   "source": [
    "print 'No Canyon case: The difference between initial tracer mass and final is ', TotTr4[18]-TotTr4[0], ' mol'"
   ]
  },
  {
   "cell_type": "markdown",
   "metadata": {
    "collapsed": true
   },
   "source": [
    "## Closed boundaries and periodic E-W NOGMREDI"
   ]
  },
  {
   "cell_type": "code",
   "execution_count": null,
   "metadata": {
    "collapsed": false
   },
   "outputs": [],
   "source": [
    "# run01\n",
    "stateFile5='/ocean/kramosmu/MITgcm/TracerExperiments/NOGMREDI/run05/stateGlob.nc'\n",
    "StateOut5 = Dataset(stateFile5)\n",
    "#for dimobj in StateOut5.variables.values():\n",
    "#    print dimobj\n",
    "\n",
    "gridFile='/ocean/kramosmu/MITgcm/TracerExperiments/NOGMREDI/run05/gridGlob.nc'\n",
    "GridOut = Dataset(gridFile)\n",
    "#for dimobj in GridOut.variables.values():\n",
    "#    print dimobj\n",
    "\n",
    "ptracersFile5='/ocean/kramosmu/MITgcm/TracerExperiments/NOGMREDI/run05/ptracersGlob.nc'\n",
    "PtracersOut5 = Dataset(ptracersFile5)\n",
    "\n"
   ]
  },
  {
   "cell_type": "code",
   "execution_count": null,
   "metadata": {
    "collapsed": true
   },
   "outputs": [],
   "source": [
    "Time = StateOut5.variables['T']\n",
    "\n",
    "xc = rout.getField(gridFile, 'XC') # x coords tracer cells\n",
    "yc = rout.getField(gridFile, 'YC') # y coords tracer cells\n",
    "\n",
    "drF = GridOut.variables['drF'] # vertical distance between faces\n",
    "dxG = rout.getField(gridFile,'dxG')\n",
    "\n",
    "rA = rout.getField(gridFile, 'rA') # area of cells (x-y)\n",
    "hFacC = rout.getField(gridFile, 'HFacC')\n",
    "MaskC = rout.getMask(gridFile,'HFacC') # same for 3 runs\n",
    "\n",
    "Tr1Run05 = rout.getField(ptracersFile5,'Tr1') # [Tr#Run#] = mol/L = mol/dm^3\n"
   ]
  },
  {
   "cell_type": "code",
   "execution_count": null,
   "metadata": {
    "collapsed": false
   },
   "outputs": [],
   "source": [
    "TotTr1 = np.empty(19)\n",
    "\n",
    "for time in range(0,19,1):\n",
    "    print(time)    \n",
    "\n",
    "    TotTr1[time] = TotalTracerInDomain(Tr1Run05,MaskC,rA,hFacC,drF,time,nx,dxG)\n",
    "    "
   ]
  },
  {
   "cell_type": "code",
   "execution_count": null,
   "metadata": {
    "collapsed": false
   },
   "outputs": [],
   "source": [
    "fig66=plt.figure(figsize=(10,6))\n",
    "sns.set(context='talk', style='whitegrid', font='sans-serif', font_scale=1.3,rc={\"lines.linewidth\": 1.5})\n",
    "\n",
    "times = np.arange(0,19,1)\n",
    "gb = ['#008a31','#9428ae','#007dc1','orange']\n",
    "with sns.color_palette(gb):\n",
    "        \n",
    "    line1 = plt.plot(times/2.0,TotTr1,'o-', label=' Closed Boundaries ')\n",
    "       \n",
    "    plt.ylabel('Tracer Mass in Domain ($mol$)')\n",
    "    plt.xlabel('Day')\n",
    "    plt.legend(loc = 0)\n",
    "    \n",
    "\n",
    "fig66.savefig('/ocean/kramosmu/Figures/TotalTracerInDomainNOGMREDIrun05.eps', format='eps', dpi=1000, bbox_inches='tight')\n"
   ]
  },
  {
   "cell_type": "code",
   "execution_count": null,
   "metadata": {
    "collapsed": false
   },
   "outputs": [],
   "source": [
    "print 'Canyon case: The difference between initial tracer mass and final is %e mol' % (TotTr1[18]-TotTr1[0])"
   ]
  },
  {
   "cell_type": "code",
   "execution_count": null,
   "metadata": {
    "collapsed": false
   },
   "outputs": [],
   "source": []
  },
  {
   "cell_type": "code",
   "execution_count": null,
   "metadata": {
    "collapsed": false
   },
   "outputs": [],
   "source": [
    "budget_new = (3600*12)*(   0.00000000e+00 +  8.45715318e+06  + 1.03799099e+07  + 7.87917883e+06\n",
    "   +1.56374187e+07  + 5.66293199e+06 +  1.37148554e+06   +5.77285026e+06\n",
    "  -1.58298957e+05  -1.31241600e+06  + 2.62639522e+06   +1.26691776e+06\n",
    "  + 1.65942058e+06  + 2.19549516e+06  + 4.64499412e+05   +1.10646472e+04\n",
    "  + 2.15841198e+06  + 1.90650476e+06  + 1.79825613e+06 )\n",
    "print('%e'  %budget_new)"
   ]
  },
  {
   "cell_type": "code",
   "execution_count": null,
   "metadata": {
    "collapsed": false
   },
   "outputs": [],
   "source": [
    "budget_new_water = (3600*12)*(0.          +0.0473604   +0.3237892 +  0.28619285 -0.15956105 -0.11318048\n",
    "  +0.0986069  -0.09230578 -0.00597239 + 0.04587772 -0.05921685  +0.02605842\n",
    "  +0.06325426  +0.01903799 + 0.07648633 + 0.08674414 -0.02820922 -0.02289115\n",
    " -0.01314601)\n",
    "print('%e'  %budget_new_water)"
   ]
  },
  {
   "cell_type": "code",
   "execution_count": null,
   "metadata": {
    "collapsed": true
   },
   "outputs": [],
   "source": []
  }
 ],
 "metadata": {
  "kernelspec": {
   "display_name": "Python 2",
   "language": "python",
   "name": "python2"
  },
  "language_info": {
   "codemirror_mode": {
    "name": "ipython",
    "version": 2
   },
   "file_extension": ".py",
   "mimetype": "text/x-python",
   "name": "python",
   "nbconvert_exporter": "python",
   "pygments_lexer": "ipython2",
   "version": "2.7.9"
  }
 },
 "nbformat": 4,
 "nbformat_minor": 0
}
