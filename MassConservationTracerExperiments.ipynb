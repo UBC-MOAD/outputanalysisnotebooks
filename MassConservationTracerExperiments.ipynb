{
 "cells": [
  {
   "cell_type": "markdown",
   "metadata": {},
   "source": [
    "## Mass conservation in Tracer Experiments CNTDIFF, 3DDIFF, NOGMREDI"
   ]
  },
  {
   "cell_type": "markdown",
   "metadata": {},
   "source": [
    "This notebook explores the mass conservation properties of all the runs in experiments CNTDIFF, 3DDIFF, NOGMREDI. Water mass and tracer mass."
   ]
  },
  {
   "cell_type": "code",
   "execution_count": 1,
   "metadata": {
    "collapsed": false
   },
   "outputs": [
    {
     "name": "stderr",
     "output_type": "stream",
     "text": [
      "/home/kramosmu/anaconda/lib/python2.7/site-packages/mpl_toolkits/__init__.py:2: UserWarning: Module MITgcmutils was already imported from MITgcmutils/__init__.pyc, but /home/kramosmu/anaconda/lib/python2.7/site-packages/MITgcmutils-0.1.0-py2.7.egg is being added to sys.path\n",
      "  __import__('pkg_resources').declare_namespace(__name__)\n"
     ]
    }
   ],
   "source": [
    "from math import *\n",
    "\n",
    "import matplotlib.pyplot as plt\n",
    "\n",
    "import matplotlib.colors as mcolors\n",
    "\n",
    "%matplotlib inline\n",
    "\n",
    "from MITgcmutils import rdmds\n",
    "\n",
    "from netCDF4 import Dataset\n",
    "\n",
    "import numpy as np\n",
    "\n",
    "import os \n",
    "\n",
    "import pylab as pl\n",
    "\n",
    "import scipy.io\n",
    "\n",
    "import scipy as spy\n",
    "\n",
    "import seaborn as sns\n",
    "\n",
    "import sys"
   ]
  },
  {
   "cell_type": "code",
   "execution_count": 2,
   "metadata": {
    "collapsed": true
   },
   "outputs": [],
   "source": [
    "lib_path = os.path.abspath('../../Building_canyon/BuildCanyon/PythonModulesMITgcm') # Add absolute path to my python scripts\n",
    "sys.path.append(lib_path)\n",
    "\n",
    "import ReadOutTools_MITgcm as rout \n",
    "import TransportTools_MITgcm as trt"
   ]
  },
  {
   "cell_type": "code",
   "execution_count": 13,
   "metadata": {
    "collapsed": true
   },
   "outputs": [],
   "source": [
    "def TotalTracerInDomain(Tr,MaskC,rA,hFacC,drF,tt,nx,dx):\n",
    "    '''\n",
    "    INPUT----------------------------------------------------------------------------------------------------------------\n",
    "    Tr    : Array with concentration values for a tracer. Until this function is more general, this should be size 19x90x360x360\n",
    "    MaskC : Land mask for tracer\n",
    "    rA    : Area of cell faces at C points (360x360)\n",
    "    fFacC : Fraction of open cell (90x360x360)\n",
    "    drF   : Distance between cell faces (90)\n",
    "    tt    : Time slice to calculate. Int 0<=tt<=19\n",
    "    nx    : x dimension (along shelf) \n",
    "    dx    : \n",
    "    OUTPUT----------------------------------------------------------------------------------------------------------------\n",
    "    TrX = (1) Total mass of a tracer Tr in the whole domain at time tt. \n",
    "                                                \n",
    "    -----------------------------------------------------------------------------------------------------------------------\n",
    "    '''\n",
    "    hFacCSwap = np.swapaxes(hFacC, 0, 2)\n",
    "    \n",
    "    TrMask=np.ma.array(Tr[tt,:,:,:],mask=MaskC[:,:,:])\n",
    "    VolX = (np.swapaxes(hFacCSwap[:,:,:]*drF[:],0,2))*rA[:,:]\n",
    "          \n",
    "    TrX= np.sum((VolX*TrMask[:,:,:]*1000.0)) #[1 umol/l=1000 umol/m^3]\n",
    "     \n",
    "    return(TrX)\n",
    "            "
   ]
  },
  {
   "cell_type": "code",
   "execution_count": null,
   "metadata": {
    "collapsed": true
   },
   "outputs": [],
   "source": []
  },
  {
   "cell_type": "code",
   "execution_count": 4,
   "metadata": {
    "collapsed": true
   },
   "outputs": [],
   "source": [
    "# General input\n",
    "nx = 360\n",
    "ny = 360\n",
    "nz = 90\n",
    "nt = 19 # t dimension size \n",
    "\n",
    "Bs = 7.4E-4 # ppt^-1\n",
    "At = 2.0E-4 # K^-1"
   ]
  },
  {
   "cell_type": "markdown",
   "metadata": {},
   "source": [
    "## 3DDIFF experiment"
   ]
  },
  {
   "cell_type": "code",
   "execution_count": 6,
   "metadata": {
    "collapsed": false
   },
   "outputs": [],
   "source": [
    "# run01\n",
    "stateFile1='/ocean/kramosmu/MITgcm/TracerExperiments/3DDIFF/run01/stateGlob.nc'\n",
    "StateOut1 = Dataset(stateFile1)\n",
    "\n",
    "gridFile='/ocean/kramosmu/MITgcm/TracerExperiments/3DDIFF/run01/gridGlob.nc'\n",
    "GridOut = Dataset(gridFile)\n",
    "\n",
    "ptracersFile1='/ocean/kramosmu/MITgcm/TracerExperiments/3DDIFF/run01/ptracersGlob.nc'\n",
    "PtracersOut1 = Dataset(ptracersFile1)\n",
    "\n",
    "#run02\n",
    "stateFile2='/ocean/kramosmu/MITgcm/TracerExperiments/3DDIFF/run02/stateGlob.nc'\n",
    "StateOut2 = Dataset(stateFile2)\n",
    "\n",
    "ptracersFile2='/ocean/kramosmu/MITgcm/TracerExperiments/3DDIFF/run02/ptracersGlob.nc'\n",
    "PtracersOut2 = Dataset(ptracersFile2)\n",
    "\n",
    "#run03\n",
    "stateFile3='/ocean/kramosmu/MITgcm/TracerExperiments/3DDIFF/run03/stateGlob.nc'\n",
    "StateOut3 = Dataset(stateFile3)\n",
    "\n",
    "ptracersFile3='/ocean/kramosmu/MITgcm/TracerExperiments/3DDIFF/run03/ptracersGlob.nc'\n",
    "PtracersOut3 = Dataset(ptracersFile3)\n",
    "\n"
   ]
  },
  {
   "cell_type": "code",
   "execution_count": 7,
   "metadata": {
    "collapsed": true
   },
   "outputs": [],
   "source": [
    "z = StateOut1.variables['Z']\n",
    "Time = StateOut1.variables['T']\n",
    "\n",
    "xc = rout.getField(gridFile, 'XC') # x coords tracer cells\n",
    "yc = rout.getField(gridFile, 'YC') # y coords tracer cells\n",
    "\n",
    "drF = GridOut.variables['drF'] # vertical distance between faces\n",
    "dxG = rout.getField(gridFile,'dxG')\n",
    "bathy = rout.getField(gridFile, 'Depth')\n",
    "\n",
    "rA = rout.getField(gridFile, 'rA') # area of cells (x-y)\n",
    "hFacC = rout.getField(gridFile, 'HFacC')\n",
    "MaskC = rout.getMask(gridFile,'HFacC') # same for 3 runs"
   ]
  },
  {
   "cell_type": "code",
   "execution_count": 8,
   "metadata": {
    "collapsed": true
   },
   "outputs": [],
   "source": [
    "Tr1Run01 = rout.getField(ptracersFile1,'Tr1') # [Tr#Run#] = mol/L = mol/dm^3\n",
    "Tr1Run02 = rout.getField(ptracersFile2,'Tr1') \n",
    "Tr1Run03 = rout.getField(ptracersFile3,'Tr1') "
   ]
  },
  {
   "cell_type": "code",
   "execution_count": 9,
   "metadata": {
    "collapsed": false
   },
   "outputs": [
    {
     "name": "stdout",
     "output_type": "stream",
     "text": [
      "0\n",
      "1\n",
      "2\n",
      "3\n",
      "4\n",
      "5\n",
      "6\n",
      "7\n",
      "8\n",
      "9\n",
      "10\n",
      "11\n",
      "12\n",
      "13\n",
      "14\n",
      "15\n",
      "16\n",
      "17\n",
      "18\n"
     ]
    }
   ],
   "source": [
    "TotTr1 = np.empty(19)\n",
    "TotTr2 = np.empty(19)\n",
    "TotTr3 = np.empty(19)\n",
    "\n",
    "for time in range(0,19,1):\n",
    "    print(time)    \n",
    "\n",
    "    TotTr1[time] = TotalTracerInDomain(Tr1Run01,MaskC,rA,hFacC,drF,time,nx,dxG)\n",
    "    TotTr2[time] = TotalTracerInDomain(Tr1Run02,MaskC,rA,hFacC,drF,time,nx,dxG)\n",
    "    TotTr3[time] = TotalTracerInDomain(Tr1Run03,MaskC,rA,hFacC,drF,time,nx,dxG)\n",
    "    "
   ]
  },
  {
   "cell_type": "code",
   "execution_count": 10,
   "metadata": {
    "collapsed": false
   },
   "outputs": [
    {
     "data": {
      "image/png": "[encoded data removed]",
      "text/plain": [
       "<matplotlib.figure.Figure at 0x7ffa07de0d50>"
      ]
     },
     "metadata": {},
     "output_type": "display_data"
    }
   ],
   "source": [
    "fig66=plt.figure(figsize=(10,6))\n",
    "sns.set(context='talk', style='whitegrid', font='sans-serif', font_scale=1.3,rc={\"lines.linewidth\": 1.5})\n",
    "\n",
    "times = np.arange(0,19,1)\n",
    "gb = ['#008a31','#9428ae','#007dc1']\n",
    "with sns.color_palette(gb):\n",
    "        \n",
    "    line1 = plt.plot(times/2.0,TotTr1,'o-', label='01 - $K_{v_{in}}=10^{-3}$,$K_{v_{out}}=10^{-7}m^2s^{-1}$ ')\n",
    "    line2 = plt.plot(times/2.0,TotTr2,'o-', label='02 - $K_{v_{in}}=10^{-4}$,$K_{v_{out}}=10^{-7}m^2s^{-1}$')\n",
    "    line3 = plt.plot(times/2.0,TotTr3,'o-', label='03 - $K_{v_{in}}=10^{-3}$,$K_{v_{out}}=10^{-5}m^2s^{-1}$')\n",
    "        \n",
    "    plt.ylabel('Tracer Mass in Domain ($mol$)')\n",
    "    plt.xlabel('Day')\n",
    "    plt.legend(loc = 0)\n",
    "    \n",
    "\n",
    "fig66.savefig('/ocean/kramosmu/Figures/TotalTracerInDomain3DDIFF.eps', format='eps', dpi=1000, bbox_inches='tight')\n"
   ]
  },
  {
   "cell_type": "code",
   "execution_count": 11,
   "metadata": {
    "collapsed": false
   },
   "outputs": [
    {
     "name": "stdout",
     "output_type": "stream",
     "text": [
      "Canyon case: The difference between initial tracer mass and final is  4.73215197901e+14  mol\n"
     ]
    }
   ],
   "source": [
    "print 'Canyon case: The difference between initial tracer mass and final is ', TotTr1[18]-TotTr1[0], ' mol'"
   ]
  },
  {
   "cell_type": "markdown",
   "metadata": {},
   "source": [
    "## CNTDIFF"
   ]
  },
  {
   "cell_type": "code",
   "execution_count": 12,
   "metadata": {
    "collapsed": true
   },
   "outputs": [],
   "source": [
    "# run04\n",
    "stateFile4='/ocean/kramosmu/MITgcm/TracerExperiments/CNTDIFF/run04/stateGlob.nc'\n",
    "StateOut4 = Dataset(stateFile4)\n",
    "\n",
    "gridFile='/ocean/kramosmu/MITgcm/TracerExperiments/CNTDIFF/run04/gridGlob.nc'\n",
    "GridOut = Dataset(gridFile)\n",
    "\n",
    "ptracersFile4='/ocean/kramosmu/MITgcm/TracerExperiments/CNTDIFF/run04/ptracersGlob.nc'\n",
    "PtracersOut4 = Dataset(ptracersFile4)\n",
    "\n",
    "#run06\n",
    "stateFile6='/ocean/kramosmu/MITgcm/TracerExperiments/CNTDIFF/run06/stateGlob.nc'\n",
    "StateOut6 = Dataset(stateFile6)\n",
    "\n",
    "ptracersFile6='/ocean/kramosmu/MITgcm/TracerExperiments/CNTDIFF/run06/ptracersGlob.nc'\n",
    "PtracersOut6 = Dataset(ptracersFile6)\n",
    "\n",
    "#run07\n",
    "stateFile7='/ocean/kramosmu/MITgcm/TracerExperiments/CNTDIFF/run07/stateGlob.nc'\n",
    "StateOut7 = Dataset(stateFile7)\n",
    "\n",
    "ptracersFile7='/ocean/kramosmu/MITgcm/TracerExperiments/CNTDIFF/run07/ptracersGlob.nc'\n",
    "PtracersOut7 = Dataset(ptracersFile7)\n",
    "\n",
    "#run08\n",
    "stateFile8='/ocean/kramosmu/MITgcm/TracerExperiments/CNTDIFF/run08/stateGlob.nc'\n",
    "StateOut8 = Dataset(stateFile8)\n",
    "\n",
    "ptracersFile8='/ocean/kramosmu/MITgcm/TracerExperiments/CNTDIFF/run08/ptracersGlob.nc'\n",
    "PtracersOut8 = Dataset(ptracersFile8)\n",
    "\n",
    "gridFileNoC='/ocean/kramosmu/MITgcm/TracerExperiments/CNTDIFF/run08/gridGlob.nc'\n",
    "GridOutNoC = Dataset(gridFileNoC)\n",
    "\n"
   ]
  },
  {
   "cell_type": "code",
   "execution_count": 13,
   "metadata": {
    "collapsed": true
   },
   "outputs": [],
   "source": [
    "Time = StateOut4.variables['T']\n",
    "\n",
    "xc = rout.getField(gridFile, 'XC') # x coords tracer cells\n",
    "yc = rout.getField(gridFile, 'YC') # y coords tracer cells\n",
    "\n",
    "drF = GridOut.variables['drF'] # vertical distance between faces\n",
    "dxG = rout.getField(gridFile,'dxG')\n",
    "\n",
    "rA = rout.getField(gridFile, 'rA') # area of cells (x-y)\n",
    "hFacC = rout.getField(gridFile, 'HFacC')\n",
    "MaskC = rout.getMask(gridFile,'HFacC') # same for 3 runs\n",
    "\n",
    "drFNoC = GridOutNoC.variables['drF'] # vertical distance between faces\n",
    "dxGNoC = rout.getField(gridFileNoC,'dxG')\n",
    "\n",
    "rANoC = rout.getField(gridFileNoC, 'rA') # area of cells (x-y)\n",
    "hFacCNoC = rout.getField(gridFileNoC, 'HFacC')\n",
    "MaskCNoC = rout.getMask(gridFileNoC,'HFacC') # same for 3 runs"
   ]
  },
  {
   "cell_type": "code",
   "execution_count": 14,
   "metadata": {
    "collapsed": true
   },
   "outputs": [],
   "source": [
    "Tr1Run04 = rout.getField(ptracersFile4,'Tr1') # [Tr#Run#] = mol/L = mol/dm^3\n",
    "Tr1Run06 = rout.getField(ptracersFile6,'Tr1') \n",
    "Tr1Run07 = rout.getField(ptracersFile7,'Tr1') # [Tr#Run#] = mol/L = mol/dm^3\n",
    "Tr1Run08 = rout.getField(ptracersFile8,'Tr1') \n"
   ]
  },
  {
   "cell_type": "code",
   "execution_count": 15,
   "metadata": {
    "collapsed": false
   },
   "outputs": [
    {
     "name": "stdout",
     "output_type": "stream",
     "text": [
      "0\n",
      "1\n",
      "2\n",
      "3\n",
      "4\n",
      "5\n",
      "6\n",
      "7\n",
      "8\n",
      "9\n",
      "10\n",
      "11\n",
      "12\n",
      "13\n",
      "14\n",
      "15\n",
      "16\n",
      "17\n",
      "18\n"
     ]
    }
   ],
   "source": [
    "TotTr4 = np.empty(19)\n",
    "TotTr6 = np.empty(19)\n",
    "TotTr7 = np.empty(19)\n",
    "TotTr8 = np.empty(19)\n",
    "\n",
    "for time in range(0,19,1):\n",
    "    print(time)    \n",
    "\n",
    "    TotTr4[time] = TotalTracerInDomain(Tr1Run04,MaskC,rA,hFacC,drF,time,nx,dxG)\n",
    "    TotTr6[time] = TotalTracerInDomain(Tr1Run06,MaskC,rA,hFacC,drF,time,nx,dxG)\n",
    "    TotTr7[time] = TotalTracerInDomain(Tr1Run07,MaskCNoC,rANoC,hFacCNoC,drFNoC,time,nx,dxGNoC)\n",
    "    TotTr8[time] = TotalTracerInDomain(Tr1Run08,MaskCNoC,rANoC,hFacCNoC,drFNoC,time,nx,dxGNoC)\n",
    "  "
   ]
  },
  {
   "cell_type": "code",
   "execution_count": 16,
   "metadata": {
    "collapsed": false
   },
   "outputs": [
    {
     "data": {
      "image/png": "[encoded data removed]",
      "text/plain": [
       "<matplotlib.figure.Figure at 0x7ffa06c7b4d0>"
      ]
     },
     "metadata": {},
     "output_type": "display_data"
    }
   ],
   "source": [
    "fig66=plt.figure(figsize=(10,6))\n",
    "sns.set(context='talk', style='whitegrid', font='sans-serif', font_scale=1.3,rc={\"lines.linewidth\": 1.5})\n",
    "\n",
    "times = np.arange(0,19,1)\n",
    "gb = ['#008a31','#9428ae','#007dc1','orange']\n",
    "with sns.color_palette(gb):\n",
    "        \n",
    "    line1 = plt.plot(times/2.0,TotTr4,'o-', label='04 - $K_{iso}=10^{-1}$, $Kv=10^{-5}m^2s^{-1}$ ')\n",
    "    line2 = plt.plot(times/2.0,TotTr6,'o-', label='06 - $K_{iso}=1m^2s^{-1}$')\n",
    "    line3 = plt.plot(times/2.0,TotTr7,'o-', label='07 NoC - $K_{iso}=1m^2s^{-1}$')\n",
    "    line4 = plt.plot(times/2.0,TotTr8,'o-', label='08 NoC NoS - $K_{iso}=1m^2s^{-1}$')\n",
    "        \n",
    "    plt.ylabel('Tracer Mass in Domain ($mol$)')\n",
    "    plt.xlabel('Day')\n",
    "    plt.legend(loc = 0)\n",
    "    \n",
    "\n",
    "fig66.savefig('/ocean/kramosmu/Figures/TotalTracerInDomainCNTDIFFTr1.eps', format='eps', dpi=1000, bbox_inches='tight')\n"
   ]
  },
  {
   "cell_type": "code",
   "execution_count": 17,
   "metadata": {
    "collapsed": false
   },
   "outputs": [
    {
     "name": "stdout",
     "output_type": "stream",
     "text": [
      "Canyon case: The difference between initial tracer mass and final is  4.71667994452e+14  mol\n",
      "No Canyon case: The difference between initial tracer mass and final is  2.21996892568e+14  mol\n",
      "No Canyon case, no stratification: The difference between initial tracer mass and final is  7.26117144668e+13  mol\n"
     ]
    }
   ],
   "source": [
    "print 'Canyon case: The difference between initial tracer mass and final is ', TotTr4[18]-TotTr4[0], ' mol'\n",
    "\n",
    "print 'No Canyon case: The difference between initial tracer mass and final is ', TotTr7[18]-TotTr7[0], ' mol'\n",
    "\n",
    "print 'No Canyon case, no stratification: The difference between initial tracer mass and final is ', TotTr8[18]-TotTr8[0], ' mol'"
   ]
  },
  {
   "cell_type": "code",
   "execution_count": 18,
   "metadata": {
    "collapsed": true
   },
   "outputs": [],
   "source": [
    "Tr1Run04 = rout.getField(ptracersFile4,'Tr3') # [Tr#Run#] = mol/L = mol/dm^3\n",
    "Tr1Run06 = rout.getField(ptracersFile6,'Tr3') \n",
    "Tr1Run07 = rout.getField(ptracersFile7,'Tr3') # [Tr#Run#] = mol/L = mol/dm^3\n",
    "Tr1Run08 = rout.getField(ptracersFile8,'Tr3') \n"
   ]
  },
  {
   "cell_type": "code",
   "execution_count": 19,
   "metadata": {
    "collapsed": false
   },
   "outputs": [
    {
     "name": "stdout",
     "output_type": "stream",
     "text": [
      "0\n",
      "1\n",
      "2\n",
      "3\n",
      "4\n",
      "5\n",
      "6\n",
      "7\n",
      "8\n",
      "9\n",
      "10\n",
      "11\n",
      "12\n",
      "13\n",
      "14\n",
      "15\n",
      "16\n",
      "17\n",
      "18\n"
     ]
    }
   ],
   "source": [
    "TotTr4 = np.empty(19)\n",
    "TotTr6 = np.empty(19)\n",
    "TotTr7 = np.empty(19)\n",
    "TotTr8 = np.empty(19)\n",
    "\n",
    "for time in range(0,19,1):\n",
    "    print(time)    \n",
    "\n",
    "    TotTr4[time] = TotalTracerInDomain(Tr1Run04,MaskC,rA,hFacC,drF,time,nx,dxG)\n",
    "    TotTr6[time] = TotalTracerInDomain(Tr1Run06,MaskC,rA,hFacC,drF,time,nx,dxG)\n",
    "    TotTr7[time] = TotalTracerInDomain(Tr1Run07,MaskCNoC,rANoC,hFacCNoC,drFNoC,time,nx,dxGNoC)\n",
    "    TotTr8[time] = TotalTracerInDomain(Tr1Run08,MaskCNoC,rANoC,hFacCNoC,drFNoC,time,nx,dxGNoC)\n",
    "  "
   ]
  },
  {
   "cell_type": "code",
   "execution_count": 20,
   "metadata": {
    "collapsed": false
   },
   "outputs": [
    {
     "data": {
      "image/png": "[encoded data removed]",
      "text/plain": [
       "<matplotlib.figure.Figure at 0x7ffa07db1910>"
      ]
     },
     "metadata": {},
     "output_type": "display_data"
    }
   ],
   "source": [
    "fig66=plt.figure(figsize=(10,6))\n",
    "sns.set(context='talk', style='whitegrid', font='sans-serif', font_scale=1.3,rc={\"lines.linewidth\": 1.5})\n",
    "\n",
    "times = np.arange(0,19,1)\n",
    "gb = ['#008a31','#9428ae','#007dc1','orange']\n",
    "with sns.color_palette(gb):\n",
    "        \n",
    "    line1 = plt.plot(times/2.0,TotTr4,'o-', label='04 - $K_{iso}=10^{-1}$, $Kv=10^{-3}m^2s^{-1}$ ')\n",
    "    line2 = plt.plot(times/2.0,TotTr6,'o-', label='06 - $K_{iso}=1m^2s^{-1}$')\n",
    "    line3 = plt.plot(times/2.0,TotTr7,'o-', label='07 NoC - $K_{iso}=1m^2s^{-1}$')\n",
    "    line4 = plt.plot(times/2.0,TotTr8,'o-', label='08 NoC NoS - $K_{iso}=1m^2s^{-1}$')\n",
    "        \n",
    "    plt.ylabel('Tracer Mass in Domain ($mol$)')\n",
    "    plt.xlabel('Day')\n",
    "    plt.legend(loc = 0)\n",
    "    \n",
    "\n",
    "fig66.savefig('/ocean/kramosmu/Figures/TotalTracerInDomainCNTDIFFTr3.eps', format='eps', dpi=1000, bbox_inches='tight')\n"
   ]
  },
  {
   "cell_type": "code",
   "execution_count": 21,
   "metadata": {
    "collapsed": false
   },
   "outputs": [
    {
     "name": "stdout",
     "output_type": "stream",
     "text": [
      "Canyon case: The difference between initial tracer mass and final is  4.62044100138e+14  mol\n",
      "No canyon case: The difference between initial tracer mass and final is  2.16122618433e+14  mol\n",
      "No canyon case, no stratification: The difference between initial tracer mass and final is  7.13383404135e+13  mol\n"
     ]
    }
   ],
   "source": [
    "print 'Canyon case: The difference between initial tracer mass and final is ', TotTr4[18]-TotTr4[0], ' mol'\n",
    "\n",
    "print 'No canyon case: The difference between initial tracer mass and final is ', TotTr7[18]-TotTr7[0], ' mol'\n",
    "\n",
    "print 'No canyon case, no stratification: The difference between initial tracer mass and final is ', TotTr8[18]-TotTr8[0], ' mol'\n",
    "\n"
   ]
  },
  {
   "cell_type": "markdown",
   "metadata": {},
   "source": [
    "## NOGMREDI"
   ]
  },
  {
   "cell_type": "code",
   "execution_count": 22,
   "metadata": {
    "collapsed": true
   },
   "outputs": [],
   "source": [
    "# run01\n",
    "stateFile1='/ocean/kramosmu/MITgcm/TracerExperiments/NOGMREDI/run01/stateGlob.nc'\n",
    "StateOut1 = Dataset(stateFile1)\n",
    "\n",
    "gridFile='/ocean/kramosmu/MITgcm/TracerExperiments/NOGMREDI/run01/gridGlob.nc'\n",
    "GridOut = Dataset(gridFile)\n",
    "\n",
    "ptracersFile1='/ocean/kramosmu/MITgcm/TracerExperiments/NOGMREDI/run01/ptracersGlob.nc'\n",
    "PtracersOut1 = Dataset(ptracersFile1)\n",
    "\n",
    "#run02\n",
    "stateFile2='/ocean/kramosmu/MITgcm/TracerExperiments/NOGMREDI/run02/stateGlob.nc'\n",
    "StateOut2 = Dataset(stateFile6)\n",
    "\n",
    "ptracersFile2='/ocean/kramosmu/MITgcm/TracerExperiments/NOGMREDI/run02/ptracersGlob.nc'\n",
    "PtracersOut2 = Dataset(ptracersFile2)\n",
    "\n",
    "#run03\n",
    "stateFile3='/ocean/kramosmu/MITgcm/TracerExperiments/NOGMREDI/run03/stateGlob.nc'\n",
    "StateOut3 = Dataset(stateFile3)\n",
    "\n",
    "ptracersFile3='/ocean/kramosmu/MITgcm/TracerExperiments/NOGMREDI/run03/ptracersGlob.nc'\n",
    "PtracersOut3 = Dataset(ptracersFile3)\n",
    "\n",
    "#run04\n",
    "stateFile4='/ocean/kramosmu/MITgcm/TracerExperiments/NOGMREDI/run04/stateGlob.nc'\n",
    "StateOut4 = Dataset(stateFile4)\n",
    "\n",
    "ptracersFile4='/ocean/kramosmu/MITgcm/TracerExperiments/NOGMREDI/run04/ptracersGlob.nc'\n",
    "PtracersOut4 = Dataset(ptracersFile4)\n",
    "\n",
    "gridFileNoC='/ocean/kramosmu/MITgcm/TracerExperiments/NOGMREDI/run04/gridGlob.nc'\n",
    "GridOutNoC = Dataset(gridFileNoC)\n",
    "\n"
   ]
  },
  {
   "cell_type": "code",
   "execution_count": 23,
   "metadata": {
    "collapsed": true
   },
   "outputs": [],
   "source": [
    "Time = StateOut4.variables['T']\n",
    "\n",
    "xc = rout.getField(gridFile, 'XC') # x coords tracer cells\n",
    "yc = rout.getField(gridFile, 'YC') # y coords tracer cells\n",
    "\n",
    "drF = GridOut.variables['drF'] # vertical distance between faces\n",
    "dxG = rout.getField(gridFile,'dxG')\n",
    "\n",
    "rA = rout.getField(gridFile, 'rA') # area of cells (x-y)\n",
    "hFacC = rout.getField(gridFile, 'HFacC')\n",
    "MaskC = rout.getMask(gridFile,'HFacC') # same for 3 runs\n",
    "\n",
    "drFNoC = GridOutNoC.variables['drF'] # vertical distance between faces\n",
    "dxGNoC = rout.getField(gridFileNoC,'dxG')\n",
    "\n",
    "rANoC = rout.getField(gridFileNoC, 'rA') # area of cells (x-y)\n",
    "hFacCNoC = rout.getField(gridFileNoC, 'HFacC')\n",
    "MaskCNoC = rout.getMask(gridFileNoC,'HFacC') # same for 3 runs"
   ]
  },
  {
   "cell_type": "code",
   "execution_count": 24,
   "metadata": {
    "collapsed": true
   },
   "outputs": [],
   "source": [
    "Tr1Run01 = rout.getField(ptracersFile1,'Tr1') # [Tr#Run#] = mol/L = mol/dm^3\n",
    "Tr1Run02 = rout.getField(ptracersFile2,'Tr1') \n",
    "Tr1Run03 = rout.getField(ptracersFile3,'Tr1') # [Tr#Run#] = mol/L = mol/dm^3\n",
    "Tr1Run04 = rout.getField(ptracersFile4,'Tr1') \n"
   ]
  },
  {
   "cell_type": "code",
   "execution_count": 25,
   "metadata": {
    "collapsed": false
   },
   "outputs": [
    {
     "name": "stdout",
     "output_type": "stream",
     "text": [
      "0\n",
      "1\n",
      "2\n",
      "3\n",
      "4\n",
      "5\n",
      "6\n",
      "7\n",
      "8\n",
      "9\n",
      "10\n",
      "11\n",
      "12\n",
      "13\n",
      "14\n",
      "15\n",
      "16\n",
      "17\n",
      "18\n"
     ]
    }
   ],
   "source": [
    "TotTr1 = np.empty(19)\n",
    "TotTr2 = np.empty(19)\n",
    "TotTr3 = np.empty(19)\n",
    "TotTr4 = np.empty(19)\n",
    "\n",
    "for time in range(0,19,1):\n",
    "    print(time)    \n",
    "\n",
    "    TotTr1[time] = TotalTracerInDomain(Tr1Run01,MaskC,rA,hFacC,drF,time,nx,dxG)\n",
    "    TotTr2[time] = TotalTracerInDomain(Tr1Run02,MaskC,rA,hFacC,drF,time,nx,dxG)\n",
    "    TotTr3[time] = TotalTracerInDomain(Tr1Run03,MaskC,rA,hFacC,drF,time,nx,dxG)\n",
    "    TotTr4[time] = TotalTracerInDomain(Tr1Run04,MaskCNoC,rANoC,hFacCNoC,drFNoC,time,nx,dxGNoC)\n",
    "  "
   ]
  },
  {
   "cell_type": "code",
   "execution_count": 26,
   "metadata": {
    "collapsed": false
   },
   "outputs": [
    {
     "data": {
      "image/png": "[encoded data removed]",
      "text/plain": [
       "<matplotlib.figure.Figure at 0x7ffa06a9cbd0>"
      ]
     },
     "metadata": {},
     "output_type": "display_data"
    }
   ],
   "source": [
    "fig66=plt.figure(figsize=(10,6))\n",
    "sns.set(context='talk', style='whitegrid', font='sans-serif', font_scale=1.3,rc={\"lines.linewidth\": 1.5})\n",
    "\n",
    "times = np.arange(0,19,1)\n",
    "gb = ['#008a31','#9428ae','#007dc1','orange']\n",
    "with sns.color_palette(gb):\n",
    "        \n",
    "    line1 = plt.plot(times/2.0,TotTr1,'o-', label='01 - $Kv=10^{-3}m^2s^{-1}$ ')\n",
    "    line2 = plt.plot(times/2.0,TotTr2,'o-', label='02 - $Kv=10^{-5}m^2s^{-1}$')\n",
    "    line3 = plt.plot(times/2.0,TotTr3,'o-', label='03 - $Kv=10^{-5}m^2s^{-1}$')\n",
    "    line4 = plt.plot(times/2.0,TotTr4,'o-', label='04 NoC - $Kv=10^{-5}m^2s^{-1}$ ')\n",
    "        \n",
    "    plt.ylabel('Tracer Mass in Domain ($mol$)')\n",
    "    plt.xlabel('Day')\n",
    "    plt.legend(loc = 0)\n",
    "    \n",
    "\n",
    "fig66.savefig('/ocean/kramosmu/Figures/TotalTracerInDomainNOGMREDITr1.eps', format='eps', dpi=1000, bbox_inches='tight')\n"
   ]
  },
  {
   "cell_type": "markdown",
   "metadata": {},
   "source": [
    "All lines for canyon cases fall under the blue dots. They have the same values.\n"
   ]
  },
  {
   "cell_type": "code",
   "execution_count": 27,
   "metadata": {
    "collapsed": false,
    "scrolled": true
   },
   "outputs": [
    {
     "name": "stdout",
     "output_type": "stream",
     "text": [
      "Canyon case: The difference between initial tracer mass and final is  4.62418685668e+14  mol\n"
     ]
    }
   ],
   "source": [
    "print 'Canyon case: The difference between initial tracer mass and final is ', TotTr1[18]-TotTr1[0], ' mol'"
   ]
  },
  {
   "cell_type": "code",
   "execution_count": 28,
   "metadata": {
    "collapsed": false
   },
   "outputs": [
    {
     "name": "stdout",
     "output_type": "stream",
     "text": [
      "No Canyon case: The difference between initial tracer mass and final is  2.26785283382e+14  mol\n"
     ]
    }
   ],
   "source": [
    "print 'No Canyon case: The difference between initial tracer mass and final is ', TotTr4[18]-TotTr4[0], ' mol'"
   ]
  },
  {
   "cell_type": "markdown",
   "metadata": {
    "collapsed": true
   },
   "source": [
    "## Closed boundaries and periodic E-W NOGMREDI"
   ]
  },
  {
   "cell_type": "code",
   "execution_count": 20,
   "metadata": {
    "collapsed": false
   },
   "outputs": [
    {
     "name": "stdout",
     "output_type": "stream",
     "text": [
      "<type 'netCDF4.Variable'>\n",
      "float64 Xp1(Xp1)\n",
      "    long_name: X-Coordinate of cell corner\n",
      "    units: meters\n",
      "unlimited dimensions: \n",
      "current shape = (361,)\n",
      "filling off\n",
      "\n",
      "<type 'netCDF4.Variable'>\n",
      "float64 Y(Y)\n",
      "    long_name: Y-Coordinate of cell center\n",
      "    units: meters\n",
      "unlimited dimensions: \n",
      "current shape = (360,)\n",
      "filling off\n",
      "\n",
      "<type 'netCDF4.Variable'>\n",
      "float64 Z(Z)\n",
      "    long_name: vertical coordinate of cell center\n",
      "    units: meters\n",
      "    positive: up\n",
      "unlimited dimensions: \n",
      "current shape = (90,)\n",
      "filling off\n",
      "\n",
      "<type 'netCDF4.Variable'>\n",
      "float64 X(X)\n",
      "    long_name: X-coordinate of cell center\n",
      "    units: meters\n",
      "unlimited dimensions: \n",
      "current shape = (360,)\n",
      "filling off\n",
      "\n",
      "<type 'netCDF4.Variable'>\n",
      "float64 Yp1(Yp1)\n",
      "    long_name: Y-Coordinate of cell corner\n",
      "    units: meters\n",
      "unlimited dimensions: \n",
      "current shape = (361,)\n",
      "filling off\n",
      "\n",
      "<type 'netCDF4.Variable'>\n",
      "float64 Zl(Zl)\n",
      "    long_name: vertical coordinate of upper cell interface\n",
      "    units: meters\n",
      "    positive: up\n",
      "unlimited dimensions: \n",
      "current shape = (90,)\n",
      "filling off\n",
      "\n",
      "<type 'netCDF4.Variable'>\n",
      "float64 T(T)\n",
      "    long_name: model_time\n",
      "    units: s\n",
      "unlimited dimensions: T\n",
      "current shape = (19,)\n",
      "filling off\n",
      "\n",
      "<type 'netCDF4.Variable'>\n",
      "int32 iter(T)\n",
      "    long_name: iteration_count\n",
      "unlimited dimensions: T\n",
      "current shape = (19,)\n",
      "filling off\n",
      "\n",
      "<type 'netCDF4.Variable'>\n",
      "float32 U(T, Z, Y, Xp1)\n",
      "    units: m/s\n",
      "    coordinates: XU YU RC iter\n",
      "unlimited dimensions: T\n",
      "current shape = (19, 90, 360, 361)\n",
      "filling off\n",
      "\n",
      "<type 'netCDF4.Variable'>\n",
      "float32 V(T, Z, Yp1, X)\n",
      "    units: m/s\n",
      "    coordinates: XV YV RC iter\n",
      "unlimited dimensions: T\n",
      "current shape = (19, 90, 361, 360)\n",
      "filling off\n",
      "\n",
      "<type 'netCDF4.Variable'>\n",
      "float32 Temp(T, Z, Y, X)\n",
      "    units: degC\n",
      "    long_name: potential_temperature\n",
      "    coordinates: XC YC RC iter\n",
      "unlimited dimensions: T\n",
      "current shape = (19, 90, 360, 360)\n",
      "filling off\n",
      "\n",
      "<type 'netCDF4.Variable'>\n",
      "float32 S(T, Z, Y, X)\n",
      "    long_name: salinity\n",
      "    coordinates: XC YC RC iter\n",
      "unlimited dimensions: T\n",
      "current shape = (19, 90, 360, 360)\n",
      "filling off\n",
      "\n",
      "<type 'netCDF4.Variable'>\n",
      "float32 Eta(T, Y, X)\n",
      "    long_name: free-surface_r-anomaly\n",
      "    units: m\n",
      "    coordinates: XC YC iter\n",
      "unlimited dimensions: T\n",
      "current shape = (19, 360, 360)\n",
      "filling off\n",
      "\n",
      "<type 'netCDF4.Variable'>\n",
      "float32 W(T, Zl, Y, X)\n",
      "    units: m/s\n",
      "    coordinates: XC YC RC iter\n",
      "unlimited dimensions: T\n",
      "current shape = (19, 90, 360, 360)\n",
      "filling off\n",
      "\n",
      "<type 'netCDF4.Variable'>\n",
      "float64 Z(Z)\n",
      "    long_name: vertical coordinate of cell center\n",
      "    units: meters\n",
      "    positive: up\n",
      "unlimited dimensions: \n",
      "current shape = (90,)\n",
      "filling off\n",
      "\n",
      "<type 'netCDF4.Variable'>\n",
      "float64 RC(Z)\n",
      "    description: R coordinate of cell center\n",
      "    units: m\n",
      "unlimited dimensions: \n",
      "current shape = (90,)\n",
      "filling off\n",
      "\n",
      "<type 'netCDF4.Variable'>\n",
      "float64 Zp1(Zp1)\n",
      "    long_name: vertical coordinate of cell interface\n",
      "    units: meters\n",
      "    positive: up\n",
      "unlimited dimensions: \n",
      "current shape = (91,)\n",
      "filling off\n",
      "\n",
      "<type 'netCDF4.Variable'>\n",
      "float64 RF(Zp1)\n",
      "    description: R coordinate of cell interface\n",
      "    units: m\n",
      "unlimited dimensions: \n",
      "current shape = (91,)\n",
      "filling off\n",
      "\n",
      "<type 'netCDF4.Variable'>\n",
      "float64 Zu(Zu)\n",
      "    long_name: vertical coordinate of lower cell interface\n",
      "    units: meters\n",
      "    positive: up\n",
      "unlimited dimensions: \n",
      "current shape = (90,)\n",
      "filling off\n",
      "\n",
      "<type 'netCDF4.Variable'>\n",
      "float64 RU(Zu)\n",
      "    description: R coordinate of upper interface\n",
      "    units: m\n",
      "unlimited dimensions: \n",
      "current shape = (90,)\n",
      "filling off\n",
      "\n",
      "<type 'netCDF4.Variable'>\n",
      "float64 Zl(Zl)\n",
      "    long_name: vertical coordinate of upper cell interface\n",
      "    units: meters\n",
      "    positive: up\n",
      "unlimited dimensions: \n",
      "current shape = (90,)\n",
      "filling off\n",
      "\n",
      "<type 'netCDF4.Variable'>\n",
      "float64 RL(Zl)\n",
      "    description: R coordinate of lower interface\n",
      "    units: m\n",
      "unlimited dimensions: \n",
      "current shape = (90,)\n",
      "filling off\n",
      "\n",
      "<type 'netCDF4.Variable'>\n",
      "float64 drC(Zp1)\n",
      "    description: r cell center separation\n",
      "unlimited dimensions: \n",
      "current shape = (91,)\n",
      "filling off\n",
      "\n",
      "<type 'netCDF4.Variable'>\n",
      "float64 drF(Z)\n",
      "    description: r cell face separation\n",
      "unlimited dimensions: \n",
      "current shape = (90,)\n",
      "filling off\n",
      "\n",
      "<type 'netCDF4.Variable'>\n",
      "float64 X(X)\n",
      "    long_name: X-coordinate of cell center\n",
      "    units: meters\n",
      "unlimited dimensions: \n",
      "current shape = (360,)\n",
      "filling off\n",
      "\n",
      "<type 'netCDF4.Variable'>\n",
      "float64 Y(Y)\n",
      "    long_name: Y-Coordinate of cell center\n",
      "    units: meters\n",
      "unlimited dimensions: \n",
      "current shape = (360,)\n",
      "filling off\n",
      "\n",
      "<type 'netCDF4.Variable'>\n",
      "float64 XC(Y, X)\n",
      "    description: X coordinate of cell center (T-P point)\n",
      "    units: degree_east\n",
      "unlimited dimensions: \n",
      "current shape = (360, 360)\n",
      "filling off\n",
      "\n",
      "<type 'netCDF4.Variable'>\n",
      "float64 YC(Y, X)\n",
      "    description: Y coordinate of cell center (T-P point)\n",
      "    units: degree_north\n",
      "unlimited dimensions: \n",
      "current shape = (360, 360)\n",
      "filling off\n",
      "\n",
      "<type 'netCDF4.Variable'>\n",
      "float64 Xp1(Xp1)\n",
      "    long_name: X-Coordinate of cell corner\n",
      "    units: meters\n",
      "unlimited dimensions: \n",
      "current shape = (361,)\n",
      "filling off\n",
      "\n",
      "<type 'netCDF4.Variable'>\n",
      "float64 Yp1(Yp1)\n",
      "    long_name: Y-Coordinate of cell corner\n",
      "    units: meters\n",
      "unlimited dimensions: \n",
      "current shape = (361,)\n",
      "filling off\n",
      "\n",
      "<type 'netCDF4.Variable'>\n",
      "float64 XG(Yp1, Xp1)\n",
      "    description: X coordinate of cell corner (Vorticity point)\n",
      "    units: degree_east\n",
      "unlimited dimensions: \n",
      "current shape = (361, 361)\n",
      "filling off\n",
      "\n",
      "<type 'netCDF4.Variable'>\n",
      "float64 YG(Yp1, Xp1)\n",
      "    description: Y coordinate of cell corner (Vorticity point)\n",
      "    units: degree_north\n",
      "unlimited dimensions: \n",
      "current shape = (361, 361)\n",
      "filling off\n",
      "\n",
      "<type 'netCDF4.Variable'>\n",
      "float64 dxC(Y, Xp1)\n",
      "    description: x cell center separation\n",
      "unlimited dimensions: \n",
      "current shape = (360, 361)\n",
      "filling off\n",
      "\n",
      "<type 'netCDF4.Variable'>\n",
      "float64 dyC(Yp1, X)\n",
      "    description: y cell center separation\n",
      "unlimited dimensions: \n",
      "current shape = (361, 360)\n",
      "filling off\n",
      "\n",
      "<type 'netCDF4.Variable'>\n",
      "float64 dxF(Y, X)\n",
      "    description: x cell face separation\n",
      "unlimited dimensions: \n",
      "current shape = (360, 360)\n",
      "filling off\n",
      "\n",
      "<type 'netCDF4.Variable'>\n",
      "float64 dyF(Y, X)\n",
      "    description: y cell face separation\n",
      "unlimited dimensions: \n",
      "current shape = (360, 360)\n",
      "filling off\n",
      "\n",
      "<type 'netCDF4.Variable'>\n",
      "float64 dxG(Yp1, X)\n",
      "    description: x cell corner separation\n",
      "unlimited dimensions: \n",
      "current shape = (361, 360)\n",
      "filling off\n",
      "\n",
      "<type 'netCDF4.Variable'>\n",
      "float64 dyG(Y, Xp1)\n",
      "    description: y cell corner separation\n",
      "unlimited dimensions: \n",
      "current shape = (360, 361)\n",
      "filling off\n",
      "\n",
      "<type 'netCDF4.Variable'>\n",
      "float64 dxV(Yp1, Xp1)\n",
      "    description: x v-velocity separation\n",
      "unlimited dimensions: \n",
      "current shape = (361, 361)\n",
      "filling off\n",
      "\n",
      "<type 'netCDF4.Variable'>\n",
      "float64 dyU(Yp1, Xp1)\n",
      "    description: y u-velocity separation\n",
      "unlimited dimensions: \n",
      "current shape = (361, 361)\n",
      "filling off\n",
      "\n",
      "<type 'netCDF4.Variable'>\n",
      "float64 rA(Y, X)\n",
      "    description: r-face area at cell center\n",
      "unlimited dimensions: \n",
      "current shape = (360, 360)\n",
      "filling off\n",
      "\n",
      "<type 'netCDF4.Variable'>\n",
      "float64 rAw(Y, Xp1)\n",
      "    description: r-face area at U point\n",
      "unlimited dimensions: \n",
      "current shape = (360, 361)\n",
      "filling off\n",
      "\n",
      "<type 'netCDF4.Variable'>\n",
      "float64 rAs(Yp1, X)\n",
      "    description: r-face area at V point\n",
      "unlimited dimensions: \n",
      "current shape = (361, 360)\n",
      "filling off\n",
      "\n",
      "<type 'netCDF4.Variable'>\n",
      "float64 rAz(Yp1, Xp1)\n",
      "    description: r-face area at cell corner\n",
      "unlimited dimensions: \n",
      "current shape = (361, 361)\n",
      "filling off\n",
      "\n",
      "<type 'netCDF4.Variable'>\n",
      "float64 fCori(Y, X)\n",
      "    description: Coriolis f at cell center\n",
      "unlimited dimensions: \n",
      "current shape = (360, 360)\n",
      "filling off\n",
      "\n",
      "<type 'netCDF4.Variable'>\n",
      "float64 fCoriG(Yp1, Xp1)\n",
      "    description: Coriolis f at cell corner\n",
      "unlimited dimensions: \n",
      "current shape = (361, 361)\n",
      "filling off\n",
      "\n",
      "<type 'netCDF4.Variable'>\n",
      "float64 R_low(Y, X)\n",
      "    description: base of fluid in r-units\n",
      "unlimited dimensions: \n",
      "current shape = (360, 360)\n",
      "filling off\n",
      "\n",
      "<type 'netCDF4.Variable'>\n",
      "float64 Ro_surf(Y, X)\n",
      "    description: surface reference (at rest) position\n",
      "unlimited dimensions: \n",
      "current shape = (360, 360)\n",
      "filling off\n",
      "\n",
      "<type 'netCDF4.Variable'>\n",
      "float64 Depth(Y, X)\n",
      "    description: fluid thickness in r coordinates (at rest)\n",
      "unlimited dimensions: \n",
      "current shape = (360, 360)\n",
      "filling off\n",
      "\n",
      "<type 'netCDF4.Variable'>\n",
      "float64 HFacC(Z, Y, X)\n",
      "    description: vertical fraction of open cell at cell center\n",
      "unlimited dimensions: \n",
      "current shape = (90, 360, 360)\n",
      "filling off\n",
      "\n",
      "<type 'netCDF4.Variable'>\n",
      "float64 HFacW(Z, Y, Xp1)\n",
      "    description: vertical fraction of open cell at West face\n",
      "unlimited dimensions: \n",
      "current shape = (90, 360, 361)\n",
      "filling off\n",
      "\n",
      "<type 'netCDF4.Variable'>\n",
      "float64 HFacS(Z, Yp1, X)\n",
      "    description: vertical fraction of open cell at South face\n",
      "unlimited dimensions: \n",
      "current shape = (90, 361, 360)\n",
      "filling off\n",
      "\n"
     ]
    },
    {
     "ename": "NameError",
     "evalue": "name 'p' is not defined",
     "output_type": "error",
     "traceback": [
      "\u001b[1;31m---------------------------------------------------------------------------\u001b[0m",
      "\u001b[1;31mNameError\u001b[0m                                 Traceback (most recent call last)",
      "\u001b[1;32m<ipython-input-20-20b21f36f29e>\u001b[0m in \u001b[0;36m<module>\u001b[1;34m()\u001b[0m\n\u001b[0;32m      9\u001b[0m \u001b[1;32mfor\u001b[0m \u001b[0mdimobj\u001b[0m \u001b[1;32min\u001b[0m \u001b[0mGridOut\u001b[0m\u001b[1;33m.\u001b[0m\u001b[0mvariables\u001b[0m\u001b[1;33m.\u001b[0m\u001b[0mvalues\u001b[0m\u001b[1;33m(\u001b[0m\u001b[1;33m)\u001b[0m\u001b[1;33m:\u001b[0m\u001b[1;33m\u001b[0m\u001b[0m\n\u001b[0;32m     10\u001b[0m     \u001b[1;32mprint\u001b[0m \u001b[0mdimobj\u001b[0m\u001b[1;33m\u001b[0m\u001b[0m\n\u001b[1;32m---> 11\u001b[1;33m \u001b[0mp\u001b[0m\u001b[1;33m\u001b[0m\u001b[0m\n\u001b[0m\u001b[0;32m     12\u001b[0m \u001b[0mptracersFile5\u001b[0m\u001b[1;33m=\u001b[0m\u001b[1;34m'/ocean/kramosmu/MITgcm/TracerExperiments/NOGMREDI/run05/ptracersGlob.nc'\u001b[0m\u001b[1;33m\u001b[0m\u001b[0m\n\u001b[0;32m     13\u001b[0m \u001b[0mPtracersOut5\u001b[0m \u001b[1;33m=\u001b[0m \u001b[0mDataset\u001b[0m\u001b[1;33m(\u001b[0m\u001b[0mptracersFile5\u001b[0m\u001b[1;33m)\u001b[0m\u001b[1;33m\u001b[0m\u001b[0m\n",
      "\u001b[1;31mNameError\u001b[0m: name 'p' is not defined"
     ]
    }
   ],
   "source": [
    "# run01\n",
    "stateFile5='/ocean/kramosmu/MITgcm/TracerExperiments/NOGMREDI/run05/stateGlob.nc'\n",
    "StateOut5 = Dataset(stateFile5)\n",
    "for dimobj in StateOut5.variables.values():\n",
    "    print dimobj\n",
    "\n",
    "gridFile='/ocean/kramosmu/MITgcm/TracerExperiments/NOGMREDI/run05/gridGlob.nc'\n",
    "GridOut = Dataset(gridFile)\n",
    "for dimobj in GridOut.variables.values():\n",
    "    print dimobj\n",
    "p\n",
    "ptracersFile5='/ocean/kramosmu/MITgcm/TracerExperiments/NOGMREDI/run05/ptracersGlob.nc'\n",
    "PtracersOut5 = Dataset(ptracersFile5)\n",
    "\n"
   ]
  },
  {
   "cell_type": "code",
   "execution_count": 6,
   "metadata": {
    "collapsed": true
   },
   "outputs": [],
   "source": [
    "Time = StateOut5.variables['T']\n",
    "\n",
    "xc = rout.getField(gridFile, 'XC') # x coords tracer cells\n",
    "yc = rout.getField(gridFile, 'YC') # y coords tracer cells\n",
    "\n",
    "drF = GridOut.variables['drF'] # vertical distance between faces\n",
    "dxG = rout.getField(gridFile,'dxG')\n",
    "\n",
    "rA = rout.getField(gridFile, 'rA') # area of cells (x-y)\n",
    "hFacC = rout.getField(gridFile, 'HFacC')\n",
    "MaskC = rout.getMask(gridFile,'HFacC') # same for 3 runs\n",
    "\n",
    "Tr1Run05 = rout.getField(ptracersFile5,'Tr1') # [Tr#Run#] = mol/L = mol/dm^3\n"
   ]
  },
  {
   "cell_type": "code",
   "execution_count": 14,
   "metadata": {
    "collapsed": false
   },
   "outputs": [
    {
     "name": "stdout",
     "output_type": "stream",
     "text": [
      "0\n",
      "1\n",
      "2\n",
      "3\n",
      "4\n",
      "5\n",
      "6\n",
      "7\n",
      "8\n",
      "9\n",
      "10\n",
      "11\n",
      "12\n",
      "13\n",
      "14\n",
      "15\n",
      "16\n",
      "17\n",
      "18\n"
     ]
    }
   ],
   "source": [
    "TotTr1 = np.empty(19)\n",
    "\n",
    "for time in range(0,19,1):\n",
    "    print(time)    \n",
    "\n",
    "    TotTr1[time] = TotalTracerInDomain(Tr1Run05,MaskC,rA,hFacC,drF,time,nx,dxG)\n",
    "    "
   ]
  },
  {
   "cell_type": "code",
   "execution_count": 15,
   "metadata": {
    "collapsed": false
   },
   "outputs": [
    {
     "data": {
      "image/png": "[encoded data removed]",
      "text/plain": [
       "<matplotlib.figure.Figure at 0x7f25e66bc950>"
      ]
     },
     "metadata": {},
     "output_type": "display_data"
    }
   ],
   "source": [
    "fig66=plt.figure(figsize=(10,6))\n",
    "sns.set(context='talk', style='whitegrid', font='sans-serif', font_scale=1.3,rc={\"lines.linewidth\": 1.5})\n",
    "\n",
    "times = np.arange(0,19,1)\n",
    "gb = ['#008a31','#9428ae','#007dc1','orange']\n",
    "with sns.color_palette(gb):\n",
    "        \n",
    "    line1 = plt.plot(times/2.0,TotTr1,'o-', label=' Closed Boundaries ')\n",
    "       \n",
    "    plt.ylabel('Tracer Mass in Domain ($mol$)')\n",
    "    plt.xlabel('Day')\n",
    "    plt.legend(loc = 0)\n",
    "    \n",
    "\n",
    "fig66.savefig('/ocean/kramosmu/Figures/TotalTracerInDomainNOGMREDIrun05.eps', format='eps', dpi=1000, bbox_inches='tight')\n"
   ]
  },
  {
   "cell_type": "code",
   "execution_count": 16,
   "metadata": {
    "collapsed": false
   },
   "outputs": [
    {
     "name": "stdout",
     "output_type": "stream",
     "text": [
      "Canyon case: The difference between initial tracer mass and final is  1041090608.0  mol\n"
     ]
    }
   ],
   "source": [
    "print 'Canyon case: The difference between initial tracer mass and final is ', TotTr1[18]-TotTr1[0], ' mol'"
   ]
  },
  {
   "cell_type": "code",
   "execution_count": 18,
   "metadata": {
    "collapsed": false
   },
   "outputs": [
    {
     "name": "stdout",
     "output_type": "stream",
     "text": [
      "1.00909055415e+12\n"
     ]
    }
   ],
   "source": [
    "budget = (3600*12)*(0.00000000e+00  + 2.81908773e+06  + 3.46710606e+06 +  2.69527912e+06+5.29448710e+06+\n",
    "                    1.98373006e+06   +5.34428852e+05   +1.98832556e+06 -4.70618033e+04  -4.16101149e+05+\n",
    "                    9.44357739e+05   +5.16473911e+05 +6.45859259e+05   +7.88403165e+05   +1.57099982e+05  \n",
    "                    -1.27040283e+02 + 7.11652503e+05  + 6.33010029e+05  +  6.42566565e+05)\n",
    "print(budget)"
   ]
  },
  {
   "cell_type": "code",
   "execution_count": null,
   "metadata": {
    "collapsed": true
   },
   "outputs": [],
   "source": []
  }
 ],
 "metadata": {
  "kernelspec": {
   "display_name": "Python 2",
   "language": "python",
   "name": "python2"
  },
  "language_info": {
   "codemirror_mode": {
    "name": "ipython",
    "version": 2
   },
   "file_extension": ".py",
   "mimetype": "text/x-python",
   "name": "python",
   "nbconvert_exporter": "python",
   "pygments_lexer": "ipython2",
   "version": "2.7.9"
  }
 },
 "nbformat": 4,
 "nbformat_minor": 0
}
