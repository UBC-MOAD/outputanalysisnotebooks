{
 "cells": [
  {
   "cell_type": "markdown",
   "metadata": {},
   "source": [
    "# BAC integrals along or cross-shelf\n",
    "\n"
   ]
  },
  {
   "cell_type": "code",
   "execution_count": 1,
   "metadata": {
    "collapsed": true
   },
   "outputs": [],
   "source": [
    "#KRM\n",
    "\n",
    "import numpy as np\n",
    "\n",
    "import matplotlib.pyplot as plt\n",
    "\n",
    "import matplotlib.colors as mcolors\n",
    "\n",
    "import matplotlib.cm as cm\n",
    "\n",
    "import matplotlib as mpl\n",
    "\n",
    "from matplotlib import gridspec\n",
    "\n",
    "from math import *\n",
    "\n",
    "from mpl_toolkits.mplot3d.axes3d import Axes3D\n",
    "\n",
    "import scipy.io\n",
    "\n",
    "import scipy as spy\n",
    "\n",
    "%matplotlib inline\n",
    "\n",
    "from netCDF4 import Dataset\n",
    "\n",
    "import pylab as pl\n",
    "\n",
    "import os \n",
    "\n",
    "import sys\n",
    "\n",
    "import seaborn as sns\n",
    "\n",
    "import canyon_tools.readout_tools as rout\n",
    "\n",
    "import canyon_tools.savitzky_golay as sg"
   ]
  },
  {
   "cell_type": "code",
   "execution_count": null,
   "metadata": {
    "collapsed": false
   },
   "outputs": [],
   "source": []
  },
  {
   "cell_type": "code",
   "execution_count": 2,
   "metadata": {
    "collapsed": true
   },
   "outputs": [],
   "source": [
    "sns.set()\n",
    "sns.set_style('white')\n",
    "sns.set_context('talk')"
   ]
  },
  {
   "cell_type": "code",
   "execution_count": 23,
   "metadata": {
    "collapsed": false
   },
   "outputs": [],
   "source": [
    "#Base case, iso =1 , No 3d diff.\n",
    "#CanyonGrid='/ocean/kramosmu/MITgcm/TracerExperiments/CNTDIFF/run03/gridGlob.nc'\n",
    "CanyonGrid='/ocean/kramosmu/MITgcm/TracerExperiments/CNTDIFF/run03/gridGlob.nc'\n",
    "CanyonGridOut = Dataset(CanyonGrid)\n",
    "\n",
    "NoCCanyonGrid='/ocean/kramosmu/MITgcm/TracerExperiments/CNTDIFF/run07/gridGlob.nc'\n",
    "NoCCanyonGridOut = Dataset(NoCCanyonGrid)\n",
    "\n",
    "CanyonState='/ocean/kramosmu/MITgcm/TracerExperiments/CNTDIFF/run03/stateGlob.nc'\n",
    "CanyonStateOut = Dataset(CanyonState)\n",
    "\n",
    "Ptracer='/ocean/kramosmu/MITgcm/TracerExperiments/CNTDIFF/run03/ptracersGlob.nc'\n",
    "PtracerOut = Dataset(Ptracer)\n",
    "Ptracer07='/ocean/kramosmu/MITgcm/TracerExperiments/CNTDIFF/run07/ptracersGlob.nc'\n",
    "PtracerOut07 = Dataset(Ptracer07)\n",
    "\n",
    "Ptracer12='/ocean/kramosmu/MITgcm/TracerExperiments/CNTDIFF/run12/ptracersGlob.nc'\n",
    "PtracerOut12 = Dataset(Ptracer12)\n",
    "Ptracer25='/ocean/kramosmu/MITgcm/TracerExperiments/CNTDIFF/run25/ptracersGlob.nc'\n",
    "PtracerOut25 = Dataset(Ptracer25)\n",
    "\n",
    "Ptracer11='/ocean/kramosmu/MITgcm/TracerExperiments/CNTDIFF/run11/ptracersGlob.nc'\n",
    "PtracerOut11 = Dataset(Ptracer11)\n",
    "Ptracer24='/ocean/kramosmu/MITgcm/TracerExperiments/CNTDIFF/run24/ptracersGlob.nc'\n",
    "PtracerOut24 = Dataset(Ptracer24)\n",
    "\n",
    "Ptracer3D04='/ocean/kramosmu/MITgcm/TracerExperiments/3DDIFF/run04/ptracersGlob.nc'\n",
    "PtracerOut3D04 = Dataset(Ptracer3D04)\n",
    "Ptracer3D05='/ocean/kramosmu/MITgcm/TracerExperiments/3DDIFF/run05/ptracersGlob.nc'\n",
    "PtracerOut3D05 = Dataset(Ptracer3D05)\n",
    "Ptracer30='/ocean/kramosmu/MITgcm/TracerExperiments/CNTDIFF/run30/ptracersGlob.nc'\n",
    "PtracerOut30 = Dataset(Ptracer30)\n",
    "\n",
    "Ptracer3D06='/ocean/kramosmu/MITgcm/TracerExperiments/3DDIFF/run06/ptracersGlob.nc'\n",
    "PtracerOut3D06 = Dataset(Ptracer3D06)\n",
    "\n",
    "Ptracer15='/ocean/kramosmu/MITgcm/TracerExperiments/CNTDIFF/run15/ptracersGlob.nc'\n",
    "PtracerOut15 = Dataset(Ptracer15)\n",
    "Ptracer27='/ocean/kramosmu/MITgcm/TracerExperiments/CNTDIFF/run27/ptracersGlob.nc'\n",
    "PtracerOut27 = Dataset(Ptracer27)\n",
    "\n",
    "Ptracer14='/ocean/kramosmu/MITgcm/TracerExperiments/CNTDIFF/run14/ptracersGlob.nc'\n",
    "PtracerOut14 = Dataset(Ptracer14)\n",
    "Ptracer26='/ocean/kramosmu/MITgcm/TracerExperiments/CNTDIFF/run26/ptracersGlob.nc'\n",
    "PtracerOut26 = Dataset(Ptracer26)\n",
    "\n",
    "Ptracer19='/ocean/kramosmu/MITgcm/TracerExperiments/CNTDIFF/run14/ptracersGlob.nc'\n",
    "PtracerOut19 = Dataset(Ptracer19)\n",
    "Ptracer23='/ocean/kramosmu/MITgcm/TracerExperiments/CNTDIFF/run23/ptracersGlob.nc'\n",
    "PtracerOut23 = Dataset(Ptracer23)\n",
    "\n",
    "\n",
    "expsCanyon = [Ptracer,Ptracer11,Ptracer12,Ptracer3D04,Ptracer3D05,Ptracer3D06,Ptracer15,Ptracer14,Ptracer19]\n",
    "expsFlat = [Ptracer07,Ptracer24,Ptracer25,Ptracer30,Ptracer30,Ptracer07,Ptracer27,Ptracer26,Ptracer23]\n",
    "\n",
    "labels = ['Base',\n",
    "          '$Kv=10^{-4}m^2s^{-1}$',\n",
    "          '$Kv=10^{-3}m^2s^{-1}$',\n",
    "          '$Kv_{can}=10^{-3},$Kv_{out}=10^{-7}m^2s^{-1}$',\n",
    "          '$Kv_{can}=10^{-4},$Kv_{out}=10^{-7}m^2s^{-1}$',\n",
    "          '$Kv_{can}=10^{-3},$Kv_{out}=10^{-5}m^2s^{-1}$',\n",
    "          'Higher N',\n",
    "          'Lower N',\n",
    "          'Lower f']\n",
    "\n",
    "tracers = ['Tr1','Tr2','Tr3','Tr1','Tr1','Tr1','Tr1','Tr1','Tr1','Tr1']\n",
    "tracersNoC = ['Tr1','Tr1','Tr1','Tr1','Tr1','Tr1','Tr1','Tr1','Tr1','Tr1']"
   ]
  },
  {
   "cell_type": "code",
   "execution_count": 4,
   "metadata": {
    "collapsed": false
   },
   "outputs": [],
   "source": [
    "nx = 360\n",
    "ny = 360\n",
    "nz = 90\n",
    "nt = 19 # t dimension size \n",
    "\n",
    "xc = rout.getField(CanyonGrid, 'XC') # x coords tracer cells\n",
    "yc = rout.getField(CanyonGrid, 'YC') # y coords tracer cells\n",
    "rc = CanyonGridOut.variables['RC']\n",
    "dxg = rout.getField(CanyonGrid, 'dxG') # x coords tracer cells\n",
    "dyg = rout.getField(CanyonGrid, 'dyG') # y coords tracer cells\n",
    "\n",
    "bathy = rout.getField(CanyonGrid, 'Depth')\n",
    "bathyNoC = rout.getField(NoCCanyonGrid, 'Depth')\n",
    "\n",
    "hFacC = rout.getField(CanyonGrid, 'HFacC')\n",
    "MaskC = rout.getMask(CanyonGrid, 'HFacC')\n",
    "\n",
    "hFacCNoC = rout.getField(NoCCanyonGrid, 'HFacC')\n",
    "MaskCNoC = rout.getMask(NoCCanyonGrid, 'HFacC')\n",
    "rANoC = rout.getField(NoCCanyonGrid, 'rA')\n",
    "rA = rout.getField(CanyonGrid, 'rA')\n",
    "\n",
    "z = CanyonStateOut.variables['Z']\n",
    "\n",
    "time = CanyonStateOut.variables['T']"
   ]
  },
  {
   "cell_type": "code",
   "execution_count": null,
   "metadata": {
    "collapsed": true
   },
   "outputs": [],
   "source": []
  },
  {
   "cell_type": "code",
   "execution_count": null,
   "metadata": {
    "collapsed": true
   },
   "outputs": [],
   "source": []
  },
  {
   "cell_type": "code",
   "execution_count": 11,
   "metadata": {
    "collapsed": false
   },
   "outputs": [],
   "source": [
    "def mask2DCanyon(bathy, sbdepth=-152.5):\n",
    "    '''Mask out the canyon from the shelf.\n",
    "    bathy : depths 2D array from the grid file\n",
    "    sbdepth: shelf depth, always negative float \n",
    "    Returns mask'''\n",
    "    \n",
    "    bathyMasked = np.ma.masked_less(-bathy, -152.5)\n",
    "    return(bathyMasked.mask)\n",
    "\n",
    "def ConcArea(Tr, hfac, ra, bathy, sbdepth=-152.5):\n",
    "    '''Tr: tracer field (nt,nz,ny,nx)\n",
    "       hfac: fraction of open cell at center (nz,ny,nx)\n",
    "       ra: array of cell horizontal areas (ny,nx)\n",
    "       bathy : depths 2D array from the grid file (ny,nx)\n",
    "       sbdepth: shelf break depth (negative value)\n",
    "       \n",
    "       RETURNS:\n",
    "       ConcArea = concentration at cell closest to bottom times its area (nt,ny,nx)\n",
    "       Conc = cocnetration near bottom (nt,ny,nx)'''\n",
    "    \n",
    "    ConcArea = np.empty((19,360,360))\n",
    "    Conc = np.empty((19,360,360))\n",
    "    ConcFiltered = np.empty((19,360,360))\n",
    "    Area = np.empty((360,360))\n",
    "    BottomInd = np.argmax(hfac[::-1,:,:]>0.0,axis=0) # start looking for first no-land cell from the bottom up.\n",
    "    BottomInd = np.ones(np.shape(BottomInd))*89 - BottomInd # Get index of unreversed z axis\n",
    "    \n",
    "    print(np.shape(BottomInd))\n",
    "    for tt in range(19):\n",
    "        #print(tt)\n",
    "        for j in range(360):\n",
    "            for i in range(360):\n",
    "                \n",
    "                TrBottom = Tr[tt,BottomInd[i,j],i,j]\n",
    "                ConcArea[tt,i,j] = TrBottom*ra[i,j]\n",
    "                Conc[tt,i,j] = TrBottom\n",
    "                Area[i,j] = ra[i,j]\n",
    "                \n",
    "            # Filter step noise\n",
    "            ConcFiltered[tt,:,j] = sg.savitzky_golay(Conc[tt,:,j], 7,3) \n",
    "                \n",
    "    print(np.shape(ConcArea))\n",
    "    \n",
    "    maskShelf = mask2DCanyon(bathy, sbdepth)\n",
    "    maskShelf = np.expand_dims(maskShelf,0) # expand along time dimension\n",
    "    maskShelf = maskShelf + np.zeros(Conc.shape)\n",
    "    \n",
    "    \n",
    "\n",
    "    #ConcAreaMasked = np.ma.masked_values(ConcDepths,-2.5)\n",
    "    #ConcDepths[np.where(np.ma.getmask(ConcDepthsMasked)==True)] = np.nan\n",
    "\n",
    "    return (ConcArea,\n",
    "            np.ma.masked_array(Conc, mask=maskShelf),\n",
    "            np.ma.masked_array(ConcFiltered, mask=maskShelf),\n",
    "            Area,\n",
    "           )\n",
    "\n",
    "def get_ConcArea(exp, hFacC, rA, bathy,tracer='Tr1'):\n",
    "    '''exp: netcdf dataset of tracer file\n",
    "       tracer: string with tracer name (default is 'Tr01)\n",
    "       \n",
    "       RETURNS: ConcFilt'''\n",
    "    \n",
    "    Tr = rout.getField(exp,tracer) \n",
    "    ConcArea1, Conc1, ConcFilt1, Area1 = ConcArea(Tr, hFacC, rA, bathy)\n",
    "    return(ConcFilt1)\n"
   ]
  },
  {
   "cell_type": "code",
   "execution_count": null,
   "metadata": {
    "collapsed": false
   },
   "outputs": [],
   "source": []
  },
  {
   "cell_type": "code",
   "execution_count": null,
   "metadata": {
    "collapsed": false
   },
   "outputs": [],
   "source": []
  },
  {
   "cell_type": "code",
   "execution_count": 8,
   "metadata": {
    "collapsed": true
   },
   "outputs": [],
   "source": [
    "def mean_AS_pool(data):\n",
    "    '''\n",
    "    INPUT:\n",
    "    data: 3d slice of output (np. array with t,y,x dimensions)\n",
    "    tt: time index\n",
    "     \n",
    "    RETURNS: AS_mean (alongshore mean of BAC)\n",
    "    \n",
    "    '''\n",
    "    return(np.nanmean(data,axis=0))\n",
    "   \n",
    "  \n",
    "    \n",
    "def mean_CS_pool(data):\n",
    "    '''\n",
    "    INPUT:\n",
    "    data: 3d slice of output (np. array with t,y,x dimensions)\n",
    "    RETURNS: CS_mean (cross-shore mean of BAC)\n",
    "    \n",
    "    '''\n",
    "    return(np.nanmean(data,axis=1))\n",
    "  "
   ]
  },
  {
   "cell_type": "code",
   "execution_count": null,
   "metadata": {
    "collapsed": false
   },
   "outputs": [
    {
     "name": "stdout",
     "output_type": "stream",
     "text": [
      "(360, 360)\n",
      "(19, 360, 360)\n",
      "(360, 360)\n",
      "(19, 360, 360)"
     ]
    }
   ],
   "source": [
    "sns.set_context('talk')\n",
    "sns.set_palette('rainbow')\n",
    "\n",
    "fig = plt.figure()\n",
    "ax1= plt.subplot(1,1,1,frameon = True)\n",
    "y_vect = yc[227:300,100]/1000.0\n",
    "x_vect = xc[227,100:]/1000.0\n",
    "\n",
    "tt = 6\n",
    "\n",
    "for exp,tracer,lab in zip(expsCanyon, tracers, labels):\n",
    "    BAC = get_ConcArea(exp, hFacC, rA, bathy,tracer=tracer) \n",
    "    data = BAC[tt,227:300,100:]\n",
    "    ax1.plot(x_vect,mean_AS_pool(data),'-', label = lab)\n",
    "    ax1.legend(loc=0)\n",
    "\n",
    "ax1.set_xlabel('Alongshore distance [km]')    \n",
    "ax1.set_ylabel('Mean bottom average concentration [$(Mol/l)m^{-1}$]') \n",
    "ax1.set_title('Canyon case, day %1.1f' %(tt/2.0))\n",
    "   \n"
   ]
  },
  {
   "cell_type": "code",
   "execution_count": null,
   "metadata": {
    "collapsed": false
   },
   "outputs": [],
   "source": [
    "fig = plt.figure()\n",
    "ax2= plt.subplot(1,1,1,frameon = True)\n",
    "sns.set_palette('rainbow')\n",
    "y_vect = yc[227:300,100]/1000.0\n",
    "x_vect = xc[227,100:]/1000.0\n",
    "\n",
    "tt_td = 6\n",
    "\n",
    "for exp,tracer in zip(expsCanyon, tracers):\n",
    "    BAC = get_ConcArea(exp, hFacC, rA, bathy,tracer=tracer) \n",
    "    data = BAC[tt_td,227:300,100:]\n",
    "    ax2.plot(y_vect,mean_CS_pool(data),'-')\n",
    "\n",
    " "
   ]
  },
  {
   "cell_type": "code",
   "execution_count": null,
   "metadata": {
    "collapsed": true
   },
   "outputs": [],
   "source": []
  }
 ],
 "metadata": {
  "kernelspec": {
   "display_name": "Python 2",
   "language": "python",
   "name": "python2"
  },
  "language_info": {
   "codemirror_mode": {
    "name": "ipython",
    "version": 2
   },
   "file_extension": ".py",
   "mimetype": "text/x-python",
   "name": "python",
   "nbconvert_exporter": "python",
   "pygments_lexer": "ipython2",
   "version": "2.7.11"
  }
 },
 "nbformat": 4,
 "nbformat_minor": 0
}
