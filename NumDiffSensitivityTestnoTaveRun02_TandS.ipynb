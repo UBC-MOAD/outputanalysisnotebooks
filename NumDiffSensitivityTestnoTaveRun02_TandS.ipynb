{
 "metadata": {
  "name": ""
 },
 "nbformat": 3,
 "nbformat_minor": 0,
 "worksheets": [
  {
   "cells": [
    {
     "cell_type": "markdown",
     "metadata": {},
     "source": [
      "Model sensitivity to different values of horizontal and vertical prescribed diffusivity coefficients."
     ]
    },
    {
     "cell_type": "markdown",
     "metadata": {},
     "source": [
      "Sensitivity to Explicit Diffusivity Coefficients\n",
      "============================\n",
      "\n",
      "This ipython notebook investigates the model sensitivity to different values of horizontal and vertical prescribed diffusivity coeffiecients. Experiment 360x360x90_BodyForcing_6tr_LinProfiles has upwelling body forcing and a vertical gradient in the initial tracer concentration. Run02 explores values of vertical diffusivity (1E-7 to 10) keeping horizontal diffusivity fixed (1E-5)."
     ]
    },
    {
     "cell_type": "code",
     "collapsed": false,
     "input": [
      "#KRM\n",
      "import os\n",
      "\n",
      "import numpy as np\n",
      "\n",
      "import matplotlib.pyplot as plt\n",
      "\n",
      "from scipy.stats import nanmean\n",
      "\n",
      "from math import *\n",
      "\n",
      "%matplotlib inline\n",
      "\n",
      "import numpy as np\n",
      "\n",
      "import matplotlib.colors as mcolors\n",
      "\n",
      "from netCDF4 import Dataset\n",
      "\n",
      "import pylab as pl\n",
      "\n",
      "from decimal import getcontext, Decimal, Inexact\n",
      "\n",
      "import statsmodels.api as sm\n",
      "\n",
      "import pandas as pd"
     ],
     "language": "python",
     "metadata": {},
     "outputs": [],
     "prompt_number": 1
    },
    {
     "cell_type": "code",
     "collapsed": false,
     "input": [
      "#lib_path = os.path.abspath('../PythonModulesMITgcm') # Add absolute path to my python scripts\n",
      "#sys.path.append(lib_path)\n",
      "\n",
      "import NumDiffTools as dif"
     ],
     "language": "python",
     "metadata": {},
     "outputs": [],
     "prompt_number": 2
    },
    {
     "cell_type": "markdown",
     "metadata": {},
     "source": [
      "Important input parameters:\n",
      "------------------------"
     ]
    },
    {
     "cell_type": "code",
     "collapsed": false,
     "input": [
      "nx = 360  # number of x points in domain\n",
      "ny = 360  # number of y points in domain\n",
      "nz = 90  # number of z levels in domain\n",
      "nt = 21   # number of output files (n time) \n",
      "delt= 12*3600.0 # time interval between model output"
     ],
     "language": "python",
     "metadata": {},
     "outputs": [],
     "prompt_number": 3
    },
    {
     "cell_type": "markdown",
     "metadata": {},
     "source": [
      "Load output filenames:\n"
     ]
    },
    {
     "cell_type": "code",
     "collapsed": false,
     "input": [
      "### Load output filenames ###\n",
      "\n",
      "filename = '/ocean/kramosmu/MITgcm/CanyonUpwelling/360x360x90_BodyForcing_6Tr_LinProfiles/run02notave/mnc_0001/state.0000000000.glob.nc'\n",
      "StateOut = Dataset(filename)\n",
      "#for dimobj in StateOut.variables.values():\n",
      "#    print dimobj\n",
      "\n",
      "filename2 = '/ocean/kramosmu/MITgcm/CanyonUpwelling/360x360x90_BodyForcing_1Tr/run01/mnc_0001/grid.t001.nc'\n",
      "GridOut = Dataset(filename2)\n",
      "#for dimobj in GridOut.variables.values():\n",
      "#    print dimobj\n",
      "\n",
      "filename3 = '/ocean/kramosmu/MITgcm/CanyonUpwelling/360x360x90_BodyForcing_6Tr_LinProfiles/run02notave/mnc_0001/ptracers.0000000000.glob.nc'\n",
      "PtracersOut = Dataset(filename3)\n",
      "#for dimobj in PtracersOut.variables.values():\n",
      "#    print dimobj\n"
     ],
     "language": "python",
     "metadata": {},
     "outputs": [],
     "prompt_number": 4
    },
    {
     "cell_type": "markdown",
     "metadata": {},
     "source": [
      "Vertical diffusivity Sensitivity\n",
      "--------------------\n",
      "\n",
      "Let's calculate the horizontal and vertical diffusivity for each of the 6 tracers in run02."
     ]
    },
    {
     "cell_type": "code",
     "collapsed": false,
     "input": [
      "tracer1 = dif.getField(filename,'Temp')\n",
      "\n",
      "tracer1msk = np.ma.masked_values(tracer1, 0)\n",
      "\n",
      "MASK = np.ma.getmask(tracer1msk)\n",
      "   \n",
      "    \n",
      "tracer2 = dif.getField(filename,'S')\n",
      "\n",
      "tracer2msk = np.ma.masked_values(tracer2, 0)\n",
      "\n",
      "\n",
      "\n"
     ],
     "language": "python",
     "metadata": {},
     "outputs": [],
     "prompt_number": 5
    },
    {
     "cell_type": "markdown",
     "metadata": {},
     "source": [
      "\n",
      "Calculate the volume of the domain\n"
     ]
    },
    {
     "cell_type": "code",
     "collapsed": false,
     "input": [
      "DomVol = 0.0\n",
      "    \n",
      "hFacC = dif.getField(filename2,'HFacC')\n",
      "drF   = dif.getField(filename2,'drF')\n",
      "rAC   = dif.getField(filename2,'rA')\n",
      "    \n",
      "for jj in np.arange(ny):\n",
      "    for kk in np.arange(nz):\n",
      "      DomVol = DomVol + hFacC[kk,jj,:]*drF[kk]*rAC[jj,:]\n",
      "    #print DomVol\n",
      "  #print('\\n The total volume is %e m^3 \\n' %DomVolume)\n",
      "   \n",
      "DomVolume=sum(DomVol)\n",
      "print DomVolume  \n",
      "#vol = dif.CalcDomVolume(filename2, nx, ny, nz)\n",
      "\n",
      "#DomVolume = vol[0]\n",
      "#hFacC = vol[1]\n",
      "#drF = vol[2]\n",
      "#rAC = vol[3]\n",
      "\n",
      "#print(DomVolume)"
     ],
     "language": "python",
     "metadata": {},
     "outputs": [
      {
       "output_type": "stream",
       "stream": "stdout",
       "text": [
        "6.10285330795e+12\n"
       ]
      }
     ],
     "prompt_number": 6
    },
    {
     "cell_type": "markdown",
     "metadata": {},
     "source": [
      "Temperature\n"
     ]
    },
    {
     "cell_type": "code",
     "collapsed": false,
     "input": [
      "q2mean1 = dif.CalcVariance(nt, nz, ny, nx, DomVolume, hFacC, drF, rAC, tracer1)\n",
      "print('done')\n",
      "dqdt1 = dif.CalcTimeDer(q2mean1, nt, delt)\n",
      "print('done')\n",
      "qmeanDh1 = dif.CalcAvgHorGrad(filename2, nt,nz,ny,nx,tracer1,DomVolume,hFacC, drF, rAC)\n",
      "print('done')\n",
      "qmeanDz1=dif.CalcAvgVerGrad(filename2, nt,nz,ny,nx,tracer1,DomVolume,hFacC, drF, rAC)\n",
      "print('done')\n",
      "\n",
      "esth1=dif.FitDiffusivity(qmeanDh1[1:len(qmeanDh1)-1],dqdt1[0:len(dqdt1)], delt)\n",
      "print(esth1.params)\n",
      "\n",
      "estv1=dif.FitDiffusivity(qmeanDz1[1:len(qmeanDz1)-1],dqdt1[0:len(dqdt1)], delt)\n",
      "print(estv1.params)\n",
      "\n",
      "print esth1.summary()\n",
      "print estv1.summary()"
     ],
     "language": "python",
     "metadata": {},
     "outputs": [
      {
       "output_type": "stream",
       "stream": "stdout",
       "text": [
        "done\n",
        "done\n",
        "done"
       ]
      },
      {
       "output_type": "stream",
       "stream": "stdout",
       "text": [
        "\n",
        "done"
       ]
      },
      {
       "output_type": "stream",
       "stream": "stdout",
       "text": [
        "\n",
        "[-0.12312596]\n",
        "[ -2.05264023e-06]\n",
        "                            OLS Regression Results                            \n",
        "==============================================================================\n",
        "Dep. Variable:                      y   R-squared:                       0.914\n",
        "Model:                            OLS   Adj. R-squared:                  0.909\n",
        "Method:                 Least Squares   F-statistic:                     190.7\n",
        "Date:                Tue, 13 Jan 2015   Prob (F-statistic):           5.10e-11\n",
        "Time:                        12:19:28   Log-Likelihood:                 298.86\n",
        "No. Observations:                  19   AIC:                            -595.7\n",
        "Df Residuals:                      18   BIC:                            -594.8\n",
        "Df Model:                           1                                         \n",
        "==============================================================================\n",
        "                 coef    std err          t      P>|t|      [95.0% Conf. Int.]\n",
        "------------------------------------------------------------------------------\n",
        "x1            -0.1231      0.009    -13.810      0.000        -0.142    -0.104\n",
        "==============================================================================\n",
        "Omnibus:                        1.137   Durbin-Watson:                   0.479\n",
        "Prob(Omnibus):                  0.566   Jarque-Bera (JB):                1.028\n",
        "Skew:                          -0.426   Prob(JB):                        0.598\n",
        "Kurtosis:                       2.244   Cond. No.                         1.00\n",
        "==============================================================================\n",
        "\n",
        "Warnings:\n",
        "[1] The smallest eigenvalue is 1.69e-11. This might indicate that there are\n",
        "strong multicollinearity problems or that the design matrix is singular.\n",
        "                            OLS Regression Results                            \n",
        "==============================================================================\n",
        "Dep. Variable:                      y   R-squared:                       0.915\n",
        "Model:                            OLS   Adj. R-squared:                  0.910\n",
        "Method:                 Least Squares   F-statistic:                     193.7\n",
        "Date:                Tue, 13 Jan 2015   Prob (F-statistic):           4.48e-11\n",
        "Time:                        12:19:28   Log-Likelihood:                 298.99\n",
        "No. Observations:                  19   AIC:                            -596.0\n",
        "Df Residuals:                      18   BIC:                            -595.0\n",
        "Df Model:                           1                                         \n",
        "==============================================================================\n",
        "                 coef    std err          t      P>|t|      [95.0% Conf. Int.]\n",
        "------------------------------------------------------------------------------\n",
        "x1         -2.053e-06   1.47e-07    -13.919      0.000     -2.36e-06 -1.74e-06\n",
        "==============================================================================\n",
        "Omnibus:                        1.287   Durbin-Watson:                   0.479\n",
        "Prob(Omnibus):                  0.526   Jarque-Bera (JB):                1.121\n",
        "Skew:                          -0.445   Prob(JB):                        0.571\n",
        "Kurtosis:                       2.211   Cond. No.                         1.00\n",
        "=============================================================================="
       ]
      },
      {
       "output_type": "stream",
       "stream": "stdout",
       "text": [
        "\n"
       ]
      },
      {
       "output_type": "stream",
       "stream": "stderr",
       "text": [
        "/home/kramosmu/anaconda/lib/python2.7/site-packages/scipy/stats/stats.py:1276: UserWarning: kurtosistest only valid for n>=20 ... continuing anyway, n=19\n",
        "  int(n))\n"
       ]
      }
     ],
     "prompt_number": 7
    },
    {
     "cell_type": "markdown",
     "metadata": {},
     "source": [
      "Salinity"
     ]
    },
    {
     "cell_type": "code",
     "collapsed": false,
     "input": [
      "q2mean2 = dif.CalcVariance(nt, nz, ny, nx, DomVolume, hFacC, drF, rAC, tracer2)\n",
      "print('done')\n",
      "dqdt2 = dif.CalcTimeDer(q2mean2, nt, delt)\n",
      "print('done')\n",
      "qmeanDh2 = dif.CalcAvgHorGrad(filename2, nt,nz,ny,nx,tracer2,DomVolume,hFacC, drF, rAC)\n",
      "print('done')\n",
      "qmeanDz2=dif.CalcAvgVerGrad(filename2, nt,nz,ny,nx,tracer2,DomVolume,hFacC, drF, rAC)\n",
      "print('done')\n",
      "\n",
      "esth2=dif.FitDiffusivity(qmeanDh2[1:len(qmeanDh2)-1],dqdt2[0:len(dqdt2)], delt)\n",
      "print(esth2.params)\n",
      "\n",
      "estv2=dif.FitDiffusivity(qmeanDz2[1:len(qmeanDz2)-1],dqdt2[0:len(dqdt2)], delt)\n",
      "print(estv2.params)\n",
      "\n",
      "print esth2.summary()\n",
      "print estv2.summary()"
     ],
     "language": "python",
     "metadata": {},
     "outputs": [
      {
       "output_type": "stream",
       "stream": "stdout",
       "text": [
        "done\n",
        "done\n",
        "done"
       ]
      },
      {
       "output_type": "stream",
       "stream": "stdout",
       "text": [
        "\n",
        "done"
       ]
      },
      {
       "output_type": "stream",
       "stream": "stdout",
       "text": [
        "\n",
        "[ 0.00702357]\n",
        "[  2.82860467e-07]\n",
        "                            OLS Regression Results                            \n",
        "==============================================================================\n",
        "Dep. Variable:                      y   R-squared:                       0.947\n",
        "Model:                            OLS   Adj. R-squared:                  0.944\n",
        "Method:                 Least Squares   F-statistic:                     319.5\n",
        "Date:                Tue, 13 Jan 2015   Prob (F-statistic):           6.63e-13\n",
        "Time:                        13:02:47   Log-Likelihood:                 304.85\n",
        "No. Observations:                  19   AIC:                            -607.7\n",
        "Df Residuals:                      18   BIC:                            -606.8\n",
        "Df Model:                           1                                         \n",
        "==============================================================================\n",
        "                 coef    std err          t      P>|t|      [95.0% Conf. Int.]\n",
        "------------------------------------------------------------------------------\n",
        "x1             0.0070      0.000     17.875      0.000         0.006     0.008\n",
        "==============================================================================\n",
        "Omnibus:                        1.855   Durbin-Watson:                   0.505\n",
        "Prob(Omnibus):                  0.395   Jarque-Bera (JB):                0.487\n",
        "Skew:                          -0.220   Prob(JB):                        0.784\n",
        "Kurtosis:                       3.650   Cond. No.                         1.00\n",
        "==============================================================================\n",
        "                            OLS Regression Results                            \n",
        "==============================================================================\n",
        "Dep. Variable:                      y   R-squared:                       0.947\n",
        "Model:                            OLS   Adj. R-squared:                  0.944\n",
        "Method:                 Least Squares   F-statistic:                     319.4\n",
        "Date:                Tue, 13 Jan 2015   Prob (F-statistic):           6.66e-13\n",
        "Time:                        13:02:47   Log-Likelihood:                 304.85\n",
        "No. Observations:                  19   AIC:                            -607.7\n",
        "Df Residuals:                      18   BIC:                            -606.8\n",
        "Df Model:                           1                                         \n",
        "==============================================================================\n",
        "                 coef    std err          t      P>|t|      [95.0% Conf. Int.]\n",
        "------------------------------------------------------------------------------\n",
        "x1          2.829e-07   1.58e-08     17.871      0.000       2.5e-07  3.16e-07\n",
        "==============================================================================\n",
        "Omnibus:                        1.846   Durbin-Watson:                   0.506\n",
        "Prob(Omnibus):                  0.397   Jarque-Bera (JB):                0.483\n",
        "Skew:                          -0.220   Prob(JB):                        0.785\n",
        "Kurtosis:                       3.646   Cond. No.                         1.00\n",
        "==============================================================================\n"
       ]
      }
     ],
     "prompt_number": 8
    },
    {
     "cell_type": "markdown",
     "metadata": {},
     "source": [
      "Tracer variance plots:\n",
      "--------------------"
     ]
    },
    {
     "cell_type": "code",
     "collapsed": false,
     "input": [
      "kh1=esth1.params\n",
      "kv1=estv1.params\n",
      "\n",
      "\n",
      "\n",
      "\n",
      "\n",
      "fig1=plt.figure(figsize=(21,3))\n",
      "\n",
      "plt.subplot(1,3,1)\n",
      "ax=plt.gca()\n",
      "\n",
      "\n",
      "plt.plot(qmeanDh1[1:len(qmeanDh1)-1],dqdt1)\n",
      "\n",
      "\n",
      "\n",
      "\n",
      "plt.xlabel('$<|\\partial_{h}q|^2>$')\n",
      "\n",
      "plt.ylabel('$\\partial{<q^2>}/\\partial{t}$')\n",
      "    \n",
      "\n",
      "plt.subplot(1,3,2)\n",
      "ax=plt.gca()\n",
      "\n",
      "plt.plot(qmeanDz1[1:len(qmeanDz1)-1],dqdt1)\n",
      "\n",
      "\n",
      "\n",
      "plt.xlabel('$<\\partial{q^2}/\\partial{z}>$')\n",
      "\n",
      "plt.ylabel('$\\partial{<q^2>}/\\partial{t}$')\n",
      "\n",
      "plt.subplot(1,3,3)\n",
      "ax=plt.gca()\n",
      "\n",
      "\n",
      "plt.plot(np.arange(0,nt,1),q2mean1)\n",
      "\n",
      "\n",
      "\n",
      "\n",
      "\n",
      "plt.xlabel('hours')\n",
      "\n",
      "plt.ylabel('$<q^2>$')\n",
      "\n",
      "plt.tight_layout()"
     ],
     "language": "python",
     "metadata": {},
     "outputs": [
      {
       "metadata": {},
       "output_type": "display_data",
       "png": "[encoded data removed]",
       "text": [
        "<matplotlib.figure.Figure at 0x52b5c10>"
       ]
      }
     ],
     "prompt_number": 10
    },
    {
     "cell_type": "markdown",
     "metadata": {},
     "source": []
    },
    {
     "cell_type": "code",
     "collapsed": false,
     "input": [
      "\n",
      "\n",
      "\n",
      "\n",
      "kh2=esth2.params\n",
      "kv2=estv2.params\n",
      "\n",
      "\n",
      "\n",
      "fig1=plt.figure(figsize=(21,3))\n",
      "\n",
      "plt.subplot(1,3,1)\n",
      "ax=plt.gca()\n",
      "\n",
      "\n",
      "\n",
      "plt.plot(qmeanDh2[1:len(qmeanDh2)-1],dqdt2)\n",
      "\n",
      "\n",
      "\n",
      "plt.xlabel('$<|\\partial_{h}q|^2>$')\n",
      "\n",
      "plt.ylabel('$\\partial{<q^2>}/\\partial{t}$')\n",
      "    \n",
      "\n",
      "plt.subplot(1,3,2)\n",
      "ax=plt.gca()\n",
      "\n",
      "\n",
      "plt.plot(qmeanDz2[1:len(qmeanDz2)-1],dqdt2)\n",
      "\n",
      "\n",
      "plt.xlabel('$<\\partial{q^2}/\\partial{z}>$')\n",
      "\n",
      "plt.ylabel('$\\partial{<q^2>}/\\partial{t}$')\n",
      "\n",
      "plt.subplot(1,3,3)\n",
      "ax=plt.gca()\n",
      "\n",
      "\n",
      "\n",
      "plt.plot(np.arange(0,nt,1),q2mean2)\n",
      "\n",
      "\n",
      "\n",
      "\n",
      "plt.xlabel('hours')\n",
      "\n",
      "plt.ylabel('$<q^2>$')\n",
      "\n",
      "plt.tight_layout()\n"
     ],
     "language": "python",
     "metadata": {},
     "outputs": [
      {
       "metadata": {},
       "output_type": "display_data",
       "png": "[encoded data removed]",
       "text": [
        "<matplotlib.figure.Figure at 0x540cd50>"
       ]
      }
     ],
     "prompt_number": 11
    },
    {
     "cell_type": "code",
     "collapsed": false,
     "input": [],
     "language": "python",
     "metadata": {},
     "outputs": [],
     "prompt_number": 15
    },
    {
     "cell_type": "code",
     "collapsed": false,
     "input": [
      "\n"
     ],
     "language": "python",
     "metadata": {},
     "outputs": [],
     "prompt_number": 15
    },
    {
     "cell_type": "code",
     "collapsed": false,
     "input": [],
     "language": "python",
     "metadata": {},
     "outputs": [],
     "prompt_number": 15
    },
    {
     "cell_type": "code",
     "collapsed": false,
     "input": [],
     "language": "python",
     "metadata": {},
     "outputs": [],
     "prompt_number": 15
    }
   ],
   "metadata": {}
  }
 ]
}