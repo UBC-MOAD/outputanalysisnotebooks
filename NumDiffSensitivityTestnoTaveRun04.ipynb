{
 "metadata": {
  "name": ""
 },
 "nbformat": 3,
 "nbformat_minor": 0,
 "worksheets": [
  {
   "cells": [
    {
     "cell_type": "markdown",
     "metadata": {},
     "source": [
      "Model sensitivity to different values of horizontal and vertical prescribed diffusivity coefficients."
     ]
    },
    {
     "cell_type": "markdown",
     "metadata": {},
     "source": [
      "Sensitivity to Explicit Diffusivity Coefficients\n",
      "============================\n",
      "\n",
      "This ipython notebook investigates the model sensitivity to different values of horizontal and vertical prescribed diffusivity coeffiecients. Experiment 360x360x90_BodyForcing_6tr_LinProfiles has upwelling body forcing and a horizontal gradient in the initial tracer concentration.  Run04notave explores values of vertical diffusivity (1E-7 to 10) keeping horizontal diffusivity fixed (1E-5)."
     ]
    },
    {
     "cell_type": "code",
     "collapsed": false,
     "input": [
      "#KRM\n",
      "import os\n",
      "\n",
      "import numpy as np\n",
      "\n",
      "import matplotlib.pyplot as plt\n",
      "\n",
      "from scipy.stats import nanmean\n",
      "\n",
      "from math import *\n",
      "\n",
      "%matplotlib inline\n",
      "\n",
      "import numpy as np\n",
      "\n",
      "import matplotlib.colors as mcolors\n",
      "\n",
      "from netCDF4 import Dataset\n",
      "\n",
      "import pylab as pl\n",
      "\n",
      "from decimal import getcontext, Decimal, Inexact\n",
      "\n",
      "import statsmodels.api as sm\n",
      "\n",
      "import pandas as pd"
     ],
     "language": "python",
     "metadata": {},
     "outputs": [],
     "prompt_number": 1
    },
    {
     "cell_type": "code",
     "collapsed": false,
     "input": [
      "#lib_path = os.path.abspath('../PythonModulesMITgcm') # Add absolute path to my python scripts\n",
      "#sys.path.append(lib_path)\n",
      "\n",
      "import NumDiffTools as dif"
     ],
     "language": "python",
     "metadata": {},
     "outputs": [],
     "prompt_number": 2
    },
    {
     "cell_type": "markdown",
     "metadata": {},
     "source": [
      "Important input parameters:\n",
      "------------------------"
     ]
    },
    {
     "cell_type": "code",
     "collapsed": false,
     "input": [
      "nx = 360  # number of x points in domain\n",
      "ny = 360  # number of y points in domain\n",
      "nz = 90  # number of z levels in domain\n",
      "nt = 21   # number of output files (n time) \n",
      "delt= 12*3600.0 # time interval between model output"
     ],
     "language": "python",
     "metadata": {},
     "outputs": [],
     "prompt_number": 3
    },
    {
     "cell_type": "markdown",
     "metadata": {},
     "source": [
      "Load output filenames:\n"
     ]
    },
    {
     "cell_type": "code",
     "collapsed": false,
     "input": [
      "### Load output filenames ###\n",
      "\n",
      "filename = '/ocean/kramosmu/MITgcm/CanyonUpwelling/360x360x90_BodyForcing_6Tr_LinProfiles/run04notave/mnc_0001/state.0000000000.glob.nc'\n",
      "StateOut = Dataset(filename)\n",
      "#for dimobj in StateOut.variables.values():\n",
      "#    print dimobj\n",
      "\n",
      "filename2 = '/ocean/kramosmu/MITgcm/CanyonUpwelling/360x360x90_BodyForcing_1Tr/run01/mnc_0001/grid.t001.nc'\n",
      "GridOut = Dataset(filename2)\n",
      "#for dimobj in GridOut.variables.values():\n",
      "#    print dimobj\n",
      "\n",
      "filename3 = '/ocean/kramosmu/MITgcm/CanyonUpwelling/360x360x90_BodyForcing_6Tr_LinProfiles/run04notave/mnc_0001/ptracers.0000000000.glob.nc'\n",
      "PtracersOut = Dataset(filename3)\n",
      "#for dimobj in PtracersOut.variables.values():\n",
      "#    print dimobj\n"
     ],
     "language": "python",
     "metadata": {},
     "outputs": [],
     "prompt_number": 4
    },
    {
     "cell_type": "markdown",
     "metadata": {},
     "source": [
      "Vertical diffusivity Sensitivity\n",
      "--------------------\n",
      "\n",
      "Let's calculate the horizontal and vertical diffusivity for each of the 6 tracers in run02."
     ]
    },
    {
     "cell_type": "code",
     "collapsed": false,
     "input": [
      "tracer1 = dif.getField(filename3,'Tr1')\n",
      "\n",
      "tracer1msk = np.ma.masked_values(tracer1, 0)\n",
      "\n",
      "MASK = np.ma.getmask(tracer1msk)\n",
      "   \n",
      "    \n",
      "tracer2 = dif.getField(filename3,'Tr2')\n",
      "\n",
      "tracer2msk = np.ma.masked_values(tracer2, 0)\n",
      "\n",
      "\n",
      "\n",
      "tracer3 = dif.getField(filename3,'Tr3')\n",
      "\n",
      "tracer3msk = np.ma.masked_values(tracer3, 0)\n",
      "\n",
      "\n",
      "tracer4 = dif.getField(filename3,'Tr4')\n",
      "\n",
      "tracer4msk = np.ma.masked_values(tracer4, 0)\n",
      "\n",
      "\n",
      "tracer5 = dif.getField(filename3,'Tr5')\n",
      "\n",
      "tracer1msk = np.ma.masked_values(tracer1, 0)\n",
      "\n",
      "\n",
      "tracer6 = dif.getField(filename3,'Tr6')\n",
      "\n",
      "tracer6msk = np.ma.masked_values(tracer6, 0)\n"
     ],
     "language": "python",
     "metadata": {},
     "outputs": [],
     "prompt_number": 5
    },
    {
     "cell_type": "markdown",
     "metadata": {},
     "source": [
      "\n",
      "Calculate the volume of the domain\n"
     ]
    },
    {
     "cell_type": "code",
     "collapsed": false,
     "input": [
      "vol = dif.CalcDomVolume(filename2, nx, ny, nz)\n",
      "\n",
      "DomVolume = vol[0]\n",
      "hFacC = vol[1]\n",
      "drF = vol[2]\n",
      "rAC = vol[3]\n",
      "\n",
      "print(DomVolume)"
     ],
     "language": "python",
     "metadata": {},
     "outputs": [
      {
       "output_type": "stream",
       "stream": "stdout",
       "text": [
        "6.10285330795e+12\n"
       ]
      }
     ],
     "prompt_number": 6
    },
    {
     "cell_type": "markdown",
     "metadata": {},
     "source": [
      "Tracer 1\n"
     ]
    },
    {
     "cell_type": "code",
     "collapsed": false,
     "input": [
      "q2mean1 = dif.CalcVariance(nt, nz, ny, nx, DomVolume, hFacC, drF, rAC, tracer1)\n",
      "print('done')\n",
      "dqdt1 = dif.CalcTimeDer(q2mean1, nt, delt)\n",
      "print('done')\n",
      "qmeanDh1 = dif.CalcAvgHorGrad(filename2, nt,nz,ny,nx,tracer1,DomVolume,hFacC, drF, rAC)\n",
      "print('done')\n",
      "qmeanDz1=dif.CalcAvgVerGrad(filename2, nt,nz,ny,nx,tracer1,DomVolume,hFacC, drF, rAC)\n",
      "print('done')\n",
      "\n",
      "esth1=dif.FitDiffusivity(-qmeanDh1[1:len(qmeanDh1)-1],dqdt1[0:len(dqdt1)], delt)\n",
      "print(esth1.params)\n",
      "\n",
      "estv1=dif.FitDiffusivity(-qmeanDz1[1:len(qmeanDz1)-1],dqdt1[0:len(dqdt1)], delt)\n",
      "print(estv1.params)\n",
      "\n",
      "print esth1.summary()\n",
      "print estv1.summary()"
     ],
     "language": "python",
     "metadata": {},
     "outputs": [
      {
       "output_type": "stream",
       "stream": "stdout",
       "text": [
        "done\n",
        "done\n",
        "done"
       ]
      },
      {
       "output_type": "stream",
       "stream": "stdout",
       "text": [
        "\n",
        "done"
       ]
      },
      {
       "output_type": "stream",
       "stream": "stdout",
       "text": [
        "\n",
        "[ 0.90405154]"
       ]
      },
      {
       "output_type": "stream",
       "stream": "stdout",
       "text": [
        "\n",
        "[ 0.00018185]\n",
        "                            OLS Regression Results                            \n",
        "==============================================================================\n",
        "Dep. Variable:                      y   R-squared:                       0.877\n",
        "Model:                            OLS   Adj. R-squared:                  0.871\n",
        "Method:                 Least Squares   F-statistic:                     128.9\n",
        "Date:                Thu, 08 Jan 2015   Prob (F-statistic):           1.22e-09\n",
        "Time:                        22:00:36   Log-Likelihood:                 178.70\n",
        "No. Observations:                  19   AIC:                            -355.4\n",
        "Df Residuals:                      18   BIC:                            -354.5\n",
        "Df Model:                           1                                         \n",
        "==============================================================================\n",
        "                 coef    std err          t      P>|t|      [95.0% Conf. Int.]\n",
        "------------------------------------------------------------------------------\n",
        "x1             0.9041      0.080     11.355      0.000         0.737     1.071\n",
        "==============================================================================\n",
        "Omnibus:                        2.372   Durbin-Watson:                   0.041\n",
        "Prob(Omnibus):                  0.305   Jarque-Bera (JB):                1.921\n",
        "Skew:                           0.676   Prob(JB):                        0.383\n",
        "Kurtosis:                       2.228   Cond. No.                         1.00\n",
        "=============================================================================="
       ]
      },
      {
       "output_type": "stream",
       "stream": "stdout",
       "text": [
        "\n",
        "                            OLS Regression Results                            \n",
        "==============================================================================\n",
        "Dep. Variable:                      y   R-squared:                       0.970\n",
        "Model:                            OLS   Adj. R-squared:                  0.968\n",
        "Method:                 Least Squares   F-statistic:                     584.9\n",
        "Date:                Thu, 08 Jan 2015   Prob (F-statistic):           3.54e-15\n",
        "Time:                        22:00:36   Log-Likelihood:                 192.11\n",
        "No. Observations:                  19   AIC:                            -382.2\n",
        "Df Residuals:                      18   BIC:                            -381.3\n",
        "Df Model:                           1                                         \n",
        "==============================================================================\n",
        "                 coef    std err          t      P>|t|      [95.0% Conf. Int.]\n",
        "------------------------------------------------------------------------------\n",
        "x1             0.0002   7.52e-06     24.184      0.000         0.000     0.000\n",
        "==============================================================================\n",
        "Omnibus:                        3.166   Durbin-Watson:                   0.090\n",
        "Prob(Omnibus):                  0.205   Jarque-Bera (JB):                2.393\n",
        "Skew:                           0.853   Prob(JB):                        0.302\n",
        "Kurtosis:                       2.664   Cond. No.                         1.00\n",
        "==============================================================================\n"
       ]
      },
      {
       "output_type": "stream",
       "stream": "stderr",
       "text": [
        "/home/kramosmu/anaconda/lib/python2.7/site-packages/scipy/stats/stats.py:1276: UserWarning: kurtosistest only valid for n>=20 ... continuing anyway, n=19\n",
        "  int(n))\n"
       ]
      }
     ],
     "prompt_number": 9
    },
    {
     "cell_type": "markdown",
     "metadata": {},
     "source": [
      "Tracer 2"
     ]
    },
    {
     "cell_type": "code",
     "collapsed": false,
     "input": [
      "q2mean2 = dif.CalcVariance(nt, nz, ny, nx, DomVolume, hFacC, drF, rAC, tracer2)\n",
      "print('done')\n",
      "dqdt2 = dif.CalcTimeDer(q2mean2, nt, delt)\n",
      "print('done')\n",
      "qmeanDh2 = dif.CalcAvgHorGrad(filename2, nt,nz,ny,nx,tracer2,DomVolume,hFacC, drF, rAC)\n",
      "print('done')\n",
      "qmeanDz2=dif.CalcAvgVerGrad(filename2, nt,nz,ny,nx,tracer2,DomVolume,hFacC, drF, rAC)\n",
      "print('done')\n",
      "\n",
      "esth2=dif.FitDiffusivity(-qmeanDh2[1:len(qmeanDh2)-1],dqdt2[0:len(dqdt2)], delt)\n",
      "print(esth2.params)\n",
      "\n",
      "estv2=dif.FitDiffusivity(-qmeanDz2[1:len(qmeanDz2)-1],dqdt2[0:len(dqdt2)], delt)\n",
      "print(estv2.params)\n",
      "\n",
      "print esth2.summary()\n",
      "print estv2.summary()\n"
     ],
     "language": "python",
     "metadata": {},
     "outputs": [
      {
       "output_type": "stream",
       "stream": "stdout",
       "text": [
        "done\n",
        "done\n",
        "done"
       ]
      },
      {
       "output_type": "stream",
       "stream": "stdout",
       "text": [
        "\n",
        "done"
       ]
      },
      {
       "output_type": "stream",
       "stream": "stdout",
       "text": [
        "\n",
        "[ 1.37974856]\n",
        "[ 0.00021694]\n",
        "                            OLS Regression Results                            \n",
        "==============================================================================\n",
        "Dep. Variable:                      y   R-squared:                       0.920\n",
        "Model:                            OLS   Adj. R-squared:                  0.916\n",
        "Method:                 Least Squares   F-statistic:                     207.2\n",
        "Date:                Thu, 08 Jan 2015   Prob (F-statistic):           2.57e-11\n",
        "Time:                        22:43:24   Log-Likelihood:                 180.53\n",
        "No. Observations:                  19   AIC:                            -359.1\n",
        "Df Residuals:                      18   BIC:                            -358.1\n",
        "Df Model:                           1                                         \n",
        "==============================================================================\n",
        "                 coef    std err          t      P>|t|      [95.0% Conf. Int.]\n",
        "------------------------------------------------------------------------------\n",
        "x1             1.3797      0.096     14.394      0.000         1.178     1.581\n",
        "==============================================================================\n",
        "Omnibus:                        3.667   Durbin-Watson:                   0.053\n",
        "Prob(Omnibus):                  0.160   Jarque-Bera (JB):                2.797\n",
        "Skew:                           0.926   Prob(JB):                        0.247\n",
        "Kurtosis:                       2.680   Cond. No.                         1.00\n",
        "=============================================================================="
       ]
      },
      {
       "output_type": "stream",
       "stream": "stdout",
       "text": [
        "\n",
        "                            OLS Regression Results                            \n",
        "==============================================================================\n",
        "Dep. Variable:                      y   R-squared:                       0.933\n",
        "Model:                            OLS   Adj. R-squared:                  0.929\n",
        "Method:                 Least Squares   F-statistic:                     249.9\n",
        "Date:                Thu, 08 Jan 2015   Prob (F-statistic):           5.35e-12\n",
        "Time:                        22:43:24   Log-Likelihood:                 182.18\n",
        "No. Observations:                  19   AIC:                            -362.4\n",
        "Df Residuals:                      18   BIC:                            -361.4\n",
        "Df Model:                           1                                         \n",
        "==============================================================================\n",
        "                 coef    std err          t      P>|t|      [95.0% Conf. Int.]\n",
        "------------------------------------------------------------------------------\n",
        "x1             0.0002   1.37e-05     15.807      0.000         0.000     0.000\n",
        "==============================================================================\n",
        "Omnibus:                        2.677   Durbin-Watson:                   0.051\n",
        "Prob(Omnibus):                  0.262   Jarque-Bera (JB):                2.006\n",
        "Skew:                           0.650   Prob(JB):                        0.367\n",
        "Kurtosis:                       2.081   Cond. No.                         1.00\n",
        "==============================================================================\n"
       ]
      }
     ],
     "prompt_number": 10
    },
    {
     "cell_type": "markdown",
     "metadata": {},
     "source": [
      "Tracer 3"
     ]
    },
    {
     "cell_type": "code",
     "collapsed": false,
     "input": [
      "q2mean3 = dif.CalcVariance(nt, nz, ny, nx, DomVolume, hFacC, drF, rAC, tracer3)\n",
      "print('done')\n",
      "dqdt3 = dif.CalcTimeDer(q2mean3, nt, delt)\n",
      "print('done')\n",
      "qmeanDh3 = dif.CalcAvgHorGrad(filename2, nt,nz,ny,nx,tracer3,DomVolume,hFacC, drF, rAC)\n",
      "print('done')\n",
      "qmeanDz3=dif.CalcAvgVerGrad(filename2, nt,nz,ny,nx,tracer3,DomVolume,hFacC, drF, rAC)\n",
      "print('done')\n",
      "\n",
      "esth3=dif.FitDiffusivity(-qmeanDh3[1:len(qmeanDh3)-1],dqdt3[0:len(dqdt3)], delt)\n",
      "print(esth3.params)\n",
      "\n",
      "estv3=dif.FitDiffusivity(-qmeanDz3[1:len(qmeanDz3)-1],dqdt3[0:len(dqdt3)], delt)\n",
      "print(estv3.params)\n",
      "\n",
      "print esth3.summary()\n",
      "print estv3.summary()"
     ],
     "language": "python",
     "metadata": {},
     "outputs": [
      {
       "output_type": "stream",
       "stream": "stdout",
       "text": [
        "done\n",
        "done\n",
        "done"
       ]
      },
      {
       "output_type": "stream",
       "stream": "stdout",
       "text": [
        "\n",
        "done"
       ]
      },
      {
       "output_type": "stream",
       "stream": "stdout",
       "text": [
        "\n",
        "[ 2.16812631]\n",
        "[ 0.00026035]\n",
        "                            OLS Regression Results                            \n",
        "==============================================================================\n",
        "Dep. Variable:                      y   R-squared:                       0.911\n",
        "Model:                            OLS   Adj. R-squared:                  0.906\n",
        "Method:                 Least Squares   F-statistic:                     185.1\n",
        "Date:                Thu, 08 Jan 2015   Prob (F-statistic):           6.53e-11\n",
        "Time:                        23:26:09   Log-Likelihood:                 176.26\n",
        "No. Observations:                  19   AIC:                            -350.5\n",
        "Df Residuals:                      18   BIC:                            -349.6\n",
        "Df Model:                           1                                         \n",
        "==============================================================================\n",
        "                 coef    std err          t      P>|t|      [95.0% Conf. Int.]\n",
        "------------------------------------------------------------------------------\n",
        "x1             2.1681      0.159     13.604      0.000         1.833     2.503\n",
        "==============================================================================\n",
        "Omnibus:                        5.170   Durbin-Watson:                   0.073\n",
        "Prob(Omnibus):                  0.075   Jarque-Bera (JB):                3.749\n",
        "Skew:                           1.088   Prob(JB):                        0.153\n",
        "Kurtosis:                       3.000   Cond. No.                         1.00\n",
        "==============================================================================\n",
        "                            OLS Regression Results                            \n",
        "==============================================================================\n",
        "Dep. Variable:                      y   R-squared:                       0.901\n",
        "Model:                            OLS   Adj. R-squared:                  0.895\n",
        "Method:                 Least Squares   F-statistic:                     163.2\n",
        "Date:                Thu, 08 Jan 2015   Prob (F-statistic):           1.83e-10\n",
        "Time:                        23:26:09   Log-Likelihood:                 175.18\n",
        "No. Observations:                  19   AIC:                            -348.4\n",
        "Df Residuals:                      18   BIC:                            -347.4\n",
        "Df Model:                           1                                         \n",
        "==============================================================================\n",
        "                 coef    std err          t      P>|t|      [95.0% Conf. Int.]\n",
        "------------------------------------------------------------------------------\n",
        "x1             0.0003   2.04e-05     12.775      0.000         0.000     0.000\n",
        "==============================================================================\n",
        "Omnibus:                        2.959   Durbin-Watson:                   0.050\n",
        "Prob(Omnibus):                  0.228   Jarque-Bera (JB):                2.233\n",
        "Skew:                           0.706   Prob(JB):                        0.327\n",
        "Kurtosis:                       2.090   Cond. No.                         1.00\n",
        "==============================================================================\n"
       ]
      }
     ],
     "prompt_number": 11
    },
    {
     "cell_type": "markdown",
     "metadata": {},
     "source": [
      "Tracer 4"
     ]
    },
    {
     "cell_type": "code",
     "collapsed": false,
     "input": [
      "q2mean4 = dif.CalcVariance(nt, nz, ny, nx, DomVolume, hFacC, drF, rAC, tracer4)\n",
      "print('done')\n",
      "dqdt4 = dif.CalcTimeDer(q2mean4, nt, delt)\n",
      "print('done')\n",
      "qmeanDh4 = dif.CalcAvgHorGrad(filename2, nt,nz,ny,nx,tracer4,DomVolume,hFacC, drF, rAC)\n",
      "print('done')\n",
      "qmeanDz4=dif.CalcAvgVerGrad(filename2, nt,nz,ny,nx,tracer4,DomVolume,hFacC, drF, rAC)\n",
      "print('done')\n",
      "\n",
      "esth4=dif.FitDiffusivity(-qmeanDh4[1:len(qmeanDh4)-1],dqdt4[0:len(dqdt4)], delt)\n",
      "print(esth4.params)\n",
      "\n",
      "estv4=dif.FitDiffusivity(-qmeanDz4[1:len(qmeanDz4)-1],dqdt4[0:len(dqdt4)], delt)\n",
      "print(estv4.params)\n",
      "\n",
      "kh4=esth4.params\n",
      "kv4=estv4.params\n",
      "\n",
      "print esth4.summary()\n",
      "print estv4.summary()"
     ],
     "language": "python",
     "metadata": {},
     "outputs": [
      {
       "output_type": "stream",
       "stream": "stdout",
       "text": [
        "done\n",
        "done\n",
        "done"
       ]
      },
      {
       "output_type": "stream",
       "stream": "stdout",
       "text": [
        "\n",
        "done"
       ]
      },
      {
       "output_type": "stream",
       "stream": "stdout",
       "text": [
        "\n",
        "[ 3.37716005]\n",
        "[ 0.00031334]\n",
        "                            OLS Regression Results                            \n",
        "==============================================================================\n",
        "Dep. Variable:                      y   R-squared:                       0.923\n",
        "Model:                            OLS   Adj. R-squared:                  0.919\n",
        "Method:                 Least Squares   F-statistic:                     215.7\n",
        "Date:                Fri, 09 Jan 2015   Prob (F-statistic):           1.83e-11\n",
        "Time:                        00:08:51   Log-Likelihood:                 173.76\n",
        "No. Observations:                  19   AIC:                            -345.5\n",
        "Df Residuals:                      18   BIC:                            -344.6\n",
        "Df Model:                           1                                         \n",
        "==============================================================================\n",
        "                 coef    std err          t      P>|t|      [95.0% Conf. Int.]\n",
        "------------------------------------------------------------------------------\n",
        "x1             3.3772      0.230     14.688      0.000         2.894     3.860\n",
        "==============================================================================\n",
        "Omnibus:                        1.309   Durbin-Watson:                   0.097\n",
        "Prob(Omnibus):                  0.520   Jarque-Bera (JB):                1.091\n",
        "Skew:                           0.401   Prob(JB):                        0.580\n",
        "Kurtosis:                       2.142   Cond. No.                         1.00\n",
        "==============================================================================\n",
        "                            OLS Regression Results                            \n",
        "==============================================================================\n",
        "Dep. Variable:                      y   R-squared:                       0.867\n",
        "Model:                            OLS   Adj. R-squared:                  0.859\n",
        "Method:                 Least Squares   F-statistic:                     117.1\n",
        "Date:                Fri, 09 Jan 2015   Prob (F-statistic):           2.61e-09\n",
        "Time:                        00:08:51   Log-Likelihood:                 168.56\n",
        "No. Observations:                  19   AIC:                            -335.1\n",
        "Df Residuals:                      18   BIC:                            -334.2\n",
        "Df Model:                           1                                         \n",
        "==============================================================================\n",
        "                 coef    std err          t      P>|t|      [95.0% Conf. Int.]\n",
        "------------------------------------------------------------------------------\n",
        "x1             0.0003    2.9e-05     10.823      0.000         0.000     0.000\n",
        "==============================================================================\n",
        "Omnibus:                        3.630   Durbin-Watson:                   0.054\n",
        "Prob(Omnibus):                  0.163   Jarque-Bera (JB):                2.468\n",
        "Skew:                           0.714   Prob(JB):                        0.291\n",
        "Kurtosis:                       1.962   Cond. No.                         1.00\n",
        "==============================================================================\n"
       ]
      }
     ],
     "prompt_number": 12
    },
    {
     "cell_type": "markdown",
     "metadata": {},
     "source": [
      "Tracer 5"
     ]
    },
    {
     "cell_type": "code",
     "collapsed": false,
     "input": [
      "q2mean5 = dif.CalcVariance(nt, nz, ny, nx, DomVolume, hFacC, drF, rAC, tracer5)\n",
      "dqdt5 = dif.CalcTimeDer(q2mean5, nt, delt)\n",
      "qmeanDh5 = dif.CalcAvgHorGrad(filename2, nt,nz,ny,nx,tracer5,DomVolume,hFacC, drF, rAC)\n",
      "print('done')\n",
      "qmeanDz5=dif.CalcAvgVerGrad(filename2, nt,nz,ny,nx,tracer5,DomVolume,hFacC, drF, rAC)\n",
      "print('done')\n",
      "\n",
      "esth5=dif.FitDiffusivity(-qmeanDh5[1:len(qmeanDh5)-1],dqdt5[0:len(dqdt5)], delt)\n",
      "print(esth5.params)\n",
      "\n",
      "estv5=dif.FitDiffusivity(-qmeanDz5[1:len(qmeanDz5)-1],dqdt5[0:len(dqdt5)], delt)\n",
      "print(estv5.params)\n",
      "\n",
      "print esth5.summary()\n",
      "print estv5.summary()\n"
     ],
     "language": "python",
     "metadata": {},
     "outputs": [
      {
       "output_type": "stream",
       "stream": "stdout",
       "text": [
        "done\n",
        "done"
       ]
      },
      {
       "output_type": "stream",
       "stream": "stdout",
       "text": [
        "\n",
        "[ 4.19804537]\n",
        "[ 0.00032622]\n",
        "                            OLS Regression Results                            \n",
        "==============================================================================\n",
        "Dep. Variable:                      y   R-squared:                       0.924\n",
        "Model:                            OLS   Adj. R-squared:                  0.920\n",
        "Method:                 Least Squares   F-statistic:                     220.2\n",
        "Date:                Fri, 09 Jan 2015   Prob (F-statistic):           1.54e-11\n",
        "Time:                        00:51:34   Log-Likelihood:                 172.89\n",
        "No. Observations:                  19   AIC:                            -343.8\n",
        "Df Residuals:                      18   BIC:                            -342.8\n",
        "Df Model:                           1                                         \n",
        "==============================================================================\n",
        "                 coef    std err          t      P>|t|      [95.0% Conf. Int.]\n",
        "------------------------------------------------------------------------------\n",
        "x1             4.1980      0.283     14.840      0.000         3.604     4.792\n",
        "==============================================================================\n",
        "Omnibus:                        3.481   Durbin-Watson:                   0.207\n",
        "Prob(Omnibus):                  0.175   Jarque-Bera (JB):                2.636\n",
        "Skew:                          -0.899   Prob(JB):                        0.268\n",
        "Kurtosis:                       2.683   Cond. No.                         1.00\n",
        "==============================================================================\n",
        "                            OLS Regression Results                            \n",
        "==============================================================================\n",
        "Dep. Variable:                      y   R-squared:                       0.848\n",
        "Model:                            OLS   Adj. R-squared:                  0.840\n",
        "Method:                 Least Squares   F-statistic:                     100.5\n",
        "Date:                Fri, 09 Jan 2015   Prob (F-statistic):           8.62e-09\n",
        "Time:                        00:51:34   Log-Likelihood:                 166.25\n",
        "No. Observations:                  19   AIC:                            -330.5\n",
        "Df Residuals:                      18   BIC:                            -329.6\n",
        "Df Model:                           1                                         \n",
        "==============================================================================\n",
        "                 coef    std err          t      P>|t|      [95.0% Conf. Int.]\n",
        "------------------------------------------------------------------------------\n",
        "x1             0.0003   3.25e-05     10.023      0.000         0.000     0.000\n",
        "==============================================================================\n",
        "Omnibus:                        3.929   Durbin-Watson:                   0.109\n",
        "Prob(Omnibus):                  0.140   Jarque-Bera (JB):                2.173\n",
        "Skew:                           0.585   Prob(JB):                        0.337\n",
        "Kurtosis:                       1.827   Cond. No.                         1.00\n",
        "==============================================================================\n"
       ]
      }
     ],
     "prompt_number": 13
    },
    {
     "cell_type": "markdown",
     "metadata": {},
     "source": [
      "Tracer 6"
     ]
    },
    {
     "cell_type": "code",
     "collapsed": false,
     "input": [
      "q2mean6 = dif.CalcVariance(nt, nz, ny, nx, DomVolume, hFacC, drF, rAC, tracer6)\n",
      "dqdt6 = dif.CalcTimeDer(q2mean6, nt, delt)\n",
      "qmeanDh6 = dif.CalcAvgHorGrad(filename2, nt,nz,ny,nx,tracer6,DomVolume,hFacC, drF, rAC)\n",
      "print('done')\n",
      "qmeanDz6=dif.CalcAvgVerGrad(filename2, nt,nz,ny,nx,tracer6,DomVolume,hFacC, drF, rAC)\n",
      "print('done')\n",
      "\n",
      "esth6=dif.FitDiffusivity(-qmeanDh6[1:len(qmeanDh6)-1],dqdt6[0:len(dqdt6)], delt)\n",
      "\n",
      "print(esth6.params)\n",
      "\n",
      "estv6=dif.FitDiffusivity(-qmeanDz6[1:len(qmeanDz6)-1],dqdt6[0:len(dqdt6)], delt)\n",
      "print(estv6.params)\n",
      "\n",
      "print esth6.summary()\n",
      "print estv6.summary()"
     ],
     "language": "python",
     "metadata": {},
     "outputs": [
      {
       "output_type": "stream",
       "stream": "stdout",
       "text": [
        "done\n",
        "done"
       ]
      },
      {
       "output_type": "stream",
       "stream": "stdout",
       "text": [
        "\n",
        "[ 2.69616455]\n",
        "[ 0.00025983]\n",
        "                            OLS Regression Results                            \n",
        "==============================================================================\n",
        "Dep. Variable:                      y   R-squared:                       0.863\n",
        "Model:                            OLS   Adj. R-squared:                  0.856\n",
        "Method:                 Least Squares   F-statistic:                     113.6\n",
        "Date:                Fri, 09 Jan 2015   Prob (F-statistic):           3.31e-09\n",
        "Time:                        01:34:21   Log-Likelihood:                 171.81\n",
        "No. Observations:                  19   AIC:                            -341.6\n",
        "Df Residuals:                      18   BIC:                            -340.7\n",
        "Df Model:                           1                                         \n",
        "==============================================================================\n",
        "                 coef    std err          t      P>|t|      [95.0% Conf. Int.]\n",
        "------------------------------------------------------------------------------\n",
        "x1             2.6962      0.253     10.660      0.000         2.165     3.228\n",
        "==============================================================================\n",
        "Omnibus:                        3.099   Durbin-Watson:                   0.226\n",
        "Prob(Omnibus):                  0.212   Jarque-Bera (JB):                1.930\n",
        "Skew:                          -0.781   Prob(JB):                        0.381\n",
        "Kurtosis:                       3.028   Cond. No.                         1.00\n",
        "==============================================================================\n",
        "                            OLS Regression Results                            \n",
        "==============================================================================\n",
        "Dep. Variable:                      y   R-squared:                       0.865\n",
        "Model:                            OLS   Adj. R-squared:                  0.858\n",
        "Method:                 Least Squares   F-statistic:                     115.3\n",
        "Date:                Fri, 09 Jan 2015   Prob (F-statistic):           2.94e-09\n",
        "Time:                        01:34:21   Log-Likelihood:                 171.93\n",
        "No. Observations:                  19   AIC:                            -341.9\n",
        "Df Residuals:                      18   BIC:                            -340.9\n",
        "Df Model:                           1                                         \n",
        "==============================================================================\n",
        "                 coef    std err          t      P>|t|      [95.0% Conf. Int.]\n",
        "------------------------------------------------------------------------------\n",
        "x1             0.0003   2.42e-05     10.740      0.000         0.000     0.000\n",
        "==============================================================================\n",
        "Omnibus:                        2.277   Durbin-Watson:                   0.229\n",
        "Prob(Omnibus):                  0.320   Jarque-Bera (JB):                1.197\n",
        "Skew:                           0.244   Prob(JB):                        0.550\n",
        "Kurtosis:                       1.871   Cond. No.                         1.00\n",
        "==============================================================================\n"
       ]
      }
     ],
     "prompt_number": 14
    },
    {
     "cell_type": "markdown",
     "metadata": {},
     "source": [
      "Tracer variance plots:\n",
      "--------------------"
     ]
    },
    {
     "cell_type": "code",
     "collapsed": false,
     "input": [
      "kh1=esth1.params\n",
      "kv1=estv1.params\n",
      "\n",
      "kh2=esth2.params\n",
      "kv2=estv2.params\n",
      "\n",
      "kh3=esth3.params\n",
      "kv3=estv3.params\n",
      "\n",
      "kh4=esth4.params\n",
      "kv4=estv4.params\n",
      "\n",
      "kh5=esth5.params\n",
      "kv5=estv5.params\n",
      "\n",
      "kh6=esth6.params\n",
      "kv6=estv6.params\n",
      "\n",
      "\n",
      "fig1=plt.figure(figsize=(21,3))\n",
      "\n",
      "plt.subplot(1,3,1)\n",
      "ax=plt.gca()\n",
      "\n",
      "\n",
      "plt.plot(qmeanDh1[1:len(qmeanDh1)-1],dqdt1)\n",
      "plt.plot(qmeanDh2[1:len(qmeanDh2)-1],dqdt2)\n",
      "plt.plot(qmeanDh3[1:len(qmeanDh3)-1],dqdt3)\n",
      "plt.plot(qmeanDh4[1:len(qmeanDh4)-1],dqdt4)\n",
      "plt.plot(qmeanDh5[1:len(qmeanDh5)-1],dqdt5)\n",
      "plt.plot(qmeanDh6[1:len(qmeanDh6)-1],dqdt6)\n",
      "\n",
      "\n",
      "plt.xlabel('$<|\\partial_{h}q|^2>$')\n",
      "\n",
      "plt.ylabel('$\\partial{<q^2>}/\\partial{t}$')\n",
      "    \n",
      "\n",
      "plt.subplot(1,3,2)\n",
      "ax=plt.gca()\n",
      "\n",
      "plt.plot(qmeanDz1[1:len(qmeanDz1)-1],dqdt1)\n",
      "plt.plot(qmeanDz2[1:len(qmeanDz2)-1],dqdt2)\n",
      "plt.plot(qmeanDz3[1:len(qmeanDz3)-1],dqdt3)\n",
      "plt.plot(qmeanDz4[1:len(qmeanDz4)-1],dqdt4)\n",
      "plt.plot(qmeanDz5[1:len(qmeanDz5)-1],dqdt5)\n",
      "plt.plot(qmeanDz6[1:len(qmeanDz6)-1],dqdt6)\n",
      "\n",
      "\n",
      "plt.xlabel('$<\\partial{q^2}/\\partial{z}>$')\n",
      "\n",
      "plt.ylabel('$\\partial{<q^2>}/\\partial{t}$')\n",
      "\n",
      "plt.subplot(1,3,3)\n",
      "ax=plt.gca()\n",
      "\n",
      "\n",
      "plt.plot(np.arange(0,nt,1),q2mean1)\n",
      "plt.plot(np.arange(0,nt,1),q2mean2)\n",
      "plt.plot(np.arange(0,nt,1),q2mean3)\n",
      "plt.plot(np.arange(0,nt,1),q2mean4)\n",
      "plt.plot(np.arange(0,nt,1),q2mean5)\n",
      "plt.plot(np.arange(0,nt,1),q2mean6)\n",
      "\n",
      "\n",
      "\n",
      "plt.xlabel('hours')\n",
      "\n",
      "plt.ylabel('$<q^2>$')\n",
      "\n",
      "plt.tight_layout()"
     ],
     "language": "python",
     "metadata": {},
     "outputs": [
      {
       "metadata": {},
       "output_type": "display_data",
       "png": "[encoded data removed]",
       "text": [
        "<matplotlib.figure.Figure at 0x5e55410>"
       ]
      }
     ],
     "prompt_number": 15
    },
    {
     "cell_type": "markdown",
     "metadata": {},
     "source": [
      "Numerical diffusivities as a function of prescribed vertical diffusivity"
     ]
    },
    {
     "cell_type": "code",
     "collapsed": false,
     "input": [
      "fig1=plt.figure(figsize=(15,6))\n",
      "\n",
      "plt.subplot(1,2,1)\n",
      "ax1=plt.gca()\n",
      "\n",
      "ax1.plot()\n",
      "ax1.plot()\n",
      "#ax.plot((10E-7,10E-3,10E-2,10E-1,1.0,10.0),(esth1.params,esth2.params,esth3.params,esth4.params,esth5.params,esth6.params))\n",
      "ax1.plot((10**-7,10**-3,10**-2,10**-1,1.0,10.0),(kh1,kh2,kh3,kh4,kh5,kh6),'ro')\n",
      "#ax1.set_yscale('symlog')\n",
      "#ax1.set_xscale('symlog')\n",
      "plt.xlabel('Kv')\n",
      "\n",
      "plt.ylabel('Khnum')\n",
      "    \n",
      "plt.subplot(1,2,2)\n",
      "ax2=plt.gca()\n",
      "\n",
      "ax2.plot()\n",
      "ax2.plot()\n",
      "#ax.plot((10E-7,10E-3,10E-2,10E-1,1.0,10.0),(estv1.params,estv2.params,estv3.params,estv4.params,estv5.params,estv6.params))\n",
      "ax2.plot((10**-7,10**-3,10**-2,10**-1,1.0,10.0),(kv1,kv2,kv3,kv4,kv5,kv6),'bo')\n",
      "\n",
      "#ax2.set_yscale('symlog')\n",
      "#ax2.set_xscale('symlog')\n",
      "\n",
      "plt.xlabel('Kv')\n",
      "\n",
      "plt.ylabel('Kvnum')\n",
      "   \n"
     ],
     "language": "python",
     "metadata": {},
     "outputs": [
      {
       "metadata": {},
       "output_type": "pyout",
       "prompt_number": 16,
       "text": [
        "<matplotlib.text.Text at 0x646f550>"
       ]
      },
      {
       "metadata": {},
       "output_type": "display_data",
       "png": "[encoded data removed]",
       "text": [
        "<matplotlib.figure.Figure at 0x608df10>"
       ]
      }
     ],
     "prompt_number": 16
    },
    {
     "cell_type": "code",
     "collapsed": false,
     "input": [],
     "language": "python",
     "metadata": {},
     "outputs": [],
     "prompt_number": 16
    },
    {
     "cell_type": "code",
     "collapsed": false,
     "input": [
      "\n"
     ],
     "language": "python",
     "metadata": {},
     "outputs": [],
     "prompt_number": 16
    },
    {
     "cell_type": "code",
     "collapsed": false,
     "input": [],
     "language": "python",
     "metadata": {},
     "outputs": [],
     "prompt_number": 16
    },
    {
     "cell_type": "code",
     "collapsed": false,
     "input": [],
     "language": "python",
     "metadata": {},
     "outputs": [],
     "prompt_number": 16
    }
   ],
   "metadata": {}
  }
 ]
}