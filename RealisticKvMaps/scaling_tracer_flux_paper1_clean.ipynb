{
 "cells": [
  {
   "cell_type": "markdown",
   "metadata": {},
   "source": [
    "## Final rescale for paper 1"
   ]
  },
  {
   "cell_type": "markdown",
   "metadata": {},
   "source": [
    "Final figures for the scaling section of paper 1 and cleaner fits for:\n",
    "\n",
    "* Maximum and minimum squeezing of isopyncals (max $N^2/N^2_0$, min $N^2/N^2_0$ )\n",
    "* Effective stratification ($N_{eff}$)\n",
    "* Upwelling flux induced by the canyon ($\\Phi$)\n",
    "\n",
    "* Maximum and minimum squeezing of isopyncals iso-concentration lines (max $\\partial_zC/\\partial_zC_0$, min $\\partial_zC/\\partial_zC_0$ ) *These won't be necessary for the paper(?)* \n",
    "* Mean concentration just above the rim during the advective phase ($\\bar{C}$)\n",
    "* Tracer upwelling flux induced by the canyon ($\\Phi_{Tr}$)"
   ]
  },
  {
   "cell_type": "code",
   "execution_count": 1,
   "metadata": {
    "collapsed": true
   },
   "outputs": [],
   "source": [
    "%matplotlib inline\n",
    "import matplotlib.pyplot as plt\n",
    "import matplotlib.colors as mcolors\n",
    "import matplotlib.gridspec as gspec\n",
    "from matplotlib.ticker import FormatStrFormatter\n",
    "from netCDF4 import Dataset\n",
    "import numpy as np\n",
    "import os\n",
    "import pandas as pd\n",
    "import seaborn as sns\n",
    "import sys\n",
    "import scipy.stats\n",
    "import warnings\n",
    "warnings.filterwarnings(\"ignore\")\n",
    "import canyon_tools.readout_tools as rout \n",
    "import canyon_tools.metrics_tools as mpt"
   ]
  },
  {
   "cell_type": "code",
   "execution_count": 2,
   "metadata": {
    "collapsed": false
   },
   "outputs": [
    {
     "data": {
      "text/html": [
       "<script>\n",
       "code_show=true; \n",
       "function code_toggle() {\n",
       " if (code_show){\n",
       " $('div.input').hide();\n",
       " } else {\n",
       " $('div.input').show();\n",
       " }\n",
       " code_show = !code_show\n",
       "} \n",
       "$( document ).ready(code_toggle);\n",
       "</script>\n",
       "<form action=\"javascript:code_toggle()\"><input type=\"submit\" value=\"Click here to toggle on/off the raw code.\"></form>"
      ],
      "text/plain": [
       "<IPython.core.display.HTML object>"
      ]
     },
     "execution_count": 2,
     "metadata": {},
     "output_type": "execute_result"
    }
   ],
   "source": [
    "from IPython.display import HTML\n",
    "\n",
    "HTML('''<script>\n",
    "code_show=true; \n",
    "function code_toggle() {\n",
    " if (code_show){\n",
    " $('div.input').hide();\n",
    " } else {\n",
    " $('div.input').show();\n",
    " }\n",
    " code_show = !code_show\n",
    "} \n",
    "$( document ).ready(code_toggle);\n",
    "</script>\n",
    "<form action=\"javascript:code_toggle()\"><input type=\"submit\" value=\"Click here to toggle on/off the raw code.\"></form>''')\n"
   ]
  },
  {
   "cell_type": "code",
   "execution_count": 6,
   "metadata": {
    "collapsed": true
   },
   "outputs": [],
   "source": [
    "sns.set_context('paper')\n",
    "sns.set_style('white')"
   ]
  },
  {
   "cell_type": "code",
   "execution_count": 7,
   "metadata": {
    "collapsed": true
   },
   "outputs": [],
   "source": [
    "CanyonGrid='/data/kramosmu/results/TracerExperiments/CNTDIFF/run38/gridGlob.nc'\n",
    "CanyonGridOut = Dataset(CanyonGrid)\n",
    "\n",
    "CanyonGridNoC='/data/kramosmu/results/TracerExperiments/CNTDIFF/run68/gridGlob.nc'\n",
    "CanyonGridOutNoC = Dataset(CanyonGridNoC)\n",
    "\n",
    "CanyonState='/data/kramosmu/results/TracerExperiments/CNTDIFF/run38/stateGlob.nc'\n",
    "CanyonStateOut = Dataset(CanyonState)\n",
    "\n",
    "# Grid variables\n",
    "nx = 616\n",
    "ny = 360\n",
    "nz = 90\n",
    "nt = 19 # t dimension size \n",
    "time = CanyonStateOut.variables['T']\n",
    "RC = CanyonGridOut.variables['RC']"
   ]
  },
  {
   "cell_type": "code",
   "execution_count": 8,
   "metadata": {
    "collapsed": false
   },
   "outputs": [],
   "source": [
    "# Constants and scales\n",
    "\n",
    "L = 6400.0 # canyon length\n",
    "R = 5000.0 # Upstream radius of curvature\n",
    "g = 9.81 # accel. gravity\n",
    "Hs = 149.8 # Shelf break depth\n",
    "s = 0.005 # shelf slope\n",
    "Wr = 13756.1 # mid-length width at shelf break isobath\n",
    "W = 22044.8 # mid-length width at rim depth\n",
    "Hh= 98.8 # head depth\n",
    "Hr = 108.1 # rim depth at UwH\n",
    "\n",
    "# NOTE: The default values of all functions correspond to the base case\n",
    "\n",
    "def Dh(f=9.66E-4,L=6400.0,N=5.5E-3):\n",
    "    '''Vertical scale Dh'''\n",
    "    return((f*L)/(N))\n",
    "    \n",
    "def Ro(U=0.37,f=9.66E-4,R=5000.0):\n",
    "    '''Rossby number using radius of curvature as length scale'''\n",
    "    return(U/(f*R))\n",
    "\n",
    "def F(Ro):\n",
    "    '''Function that estimates the ability of the flow to follow isobaths'''\n",
    "    return(Ro/(0.9+Ro))\n",
    "\n",
    "def Bu(N=5.5E-3,f=9.66E-5,W=8300,Hs=150.0):\n",
    "    '''Burger number'''\n",
    "    return(N*Hs/(f*W))\n",
    "\n",
    "def RossbyRad(N=5.5E-3,Hs=150.0,f=9.66E-4):\n",
    "    '''1st Rossby radius of deformation'''\n",
    "    return(N*Hs/f)"
   ]
  },
  {
   "cell_type": "code",
   "execution_count": 9,
   "metadata": {
    "collapsed": false
   },
   "outputs": [],
   "source": [
    "# Information for all runs is stored in canyon_records.py\n",
    "lib_path = os.path.abspath('/ocean/kramosmu/OutputAnalysis/outputanalysisnotebooks/PythonScripts/Paper1Figures/') # Add absolute path to my python scripts\n",
    "sys.path.append(lib_path)\n",
    "\n",
    "import canyon_records \n",
    "records = canyon_records.main()\n",
    "\n",
    "import nocanyon_records \n",
    "recordsNoC = nocanyon_records.main()"
   ]
  },
  {
   "cell_type": "markdown",
   "metadata": {},
   "source": [
    "### Not all runs are used to fit all variables\n",
    "\n",
    "**records_dyn** has all runs where f, N or U vary. USe this list to fit upwelling flux $\\Phi$ and modify *Howatt and Allen 2013*.\n",
    "\n",
    "**records_epsilon** has all runs in records_dyn plus the runs with a heaviside Kv profile. Use this list to fit $\\Phi$ with scaled N.\n",
    "\n",
    "**records_real** has all runs in records_epsilon plus the runs with a Kv profile inspired in observations."
   ]
  },
  {
   "cell_type": "code",
   "execution_count": 10,
   "metadata": {
    "collapsed": false
   },
   "outputs": [
    {
     "name": "stdout",
     "output_type": "stream",
     "text": [
      "0 base case CNTDIFF_run38\n",
      "1 $\\uparrow$ $K_{bg}$ CNTDIFF_run37\n",
      "2 $\\uparrow \\uparrow$ $K_{bg}$ CNTDIFF_run36\n",
      "3 $\\uparrow$ $N_0$ CNTDIFF_run45\n",
      "4 $\\uparrow \\uparrow$ $N_0$ CNTDIFF_run73\n",
      "5 $\\Downarrow$ $N_0$ CNTDIFF_run75\n",
      "51 $\\downarrow \\downarrow N_0$ CNTDIFF_run81\n",
      "6 $\\downarrow$ $N_0$ CNTDIFF_run79\n",
      "7 $\\uparrow f$ CNTDIFF_run67\n",
      "8 $\\downarrow \\downarrow$ $f$ CNTDIFF_run51\n",
      "9 $\\downarrow f$ CNTDIFF_run69\n",
      "10 $\\Downarrow f$ CNTDIFF_run71\n",
      "17 $\\downarrow$ U LOWER_BF_run01\n",
      "18 $\\downarrow \\downarrow$ U LOW_BF_run01\n",
      "19 $\\Downarrow$ U LOWEST_BF_run01\n",
      "20 $\\Downarrow$ U, $\\downarrow \\downarrow$ $N_0$ LOWEST_BF_run03\n",
      "21 $\\Downarrow$ U, $\\uparrow \\uparrow$ $N_0$ LOWEST_BF_run05\n",
      "22 $\\Downarrow$ U, $\\Downarrow$ $f$ LOWEST_BF_run07\n",
      "23 $\\Downarrow$ U, $\\uparrow \\uparrow K_{can}$ LOWEST_BF_run11\n",
      "24 $K_{can}$ Monterey (bot) 3DVISC_REALISTIC_run01\n",
      "25 $K_{can}$ Eel (bot) 3DVISC_REALISTIC_run02\n",
      "26 $K_{can}$ Monterey 3DVISC_REALISTIC_run03\n",
      "27 $K_{can}$ Ascension (bot) 3DVISC_REALISTIC_run05\n",
      "29 $\\Uparrow \\Uparrow K_{can}$, $\\epsilon 10$ 3DVISC_REALISTIC_run07\n",
      "30 $\\Uparrow \\Uparrow K_{can}$, $\\epsilon 25$ 3DVISC_REALISTIC_run08\n",
      "31 $\\Uparrow \\Uparrow K_{can}$, $\\epsilon 50$ 3DVISC_REALISTIC_run09\n",
      "32 $\\Uparrow \\Uparrow K_{can}$, $\\epsilon 100$ 3DVISC_REALISTIC_run10\n",
      "33 $\\Uparrow \\Uparrow K_{can}$, $\\epsilon 15$ 3DVISC_REALISTIC_run11\n",
      "34 $\\Uparrow \\Uparrow K_{can}$, $\\epsilon 75$ 3DVISC_REALISTIC_run12\n",
      "35 $\\Uparrow \\Uparrow K_{can}$, $\\epsilon 150$ 3DVISC_REALISTIC_run13\n",
      "38 $\\uparrow \\uparrow K_{can}$ 3DVISC_REALISTIC_run16\n",
      "39 $\\Uparrow \\uparrow K_{can}$ 3DVISC_REALISTIC_run17\n",
      "41 $\\uparrow \\uparrow K_{can}$ $\\epsilon 25$ 3DVISC_REALISTIC_run19\n",
      "42 $\\uparrow \\uparrow K_{can}$ $\\epsilon 100$ 3DVISC_REALISTIC_run20\n",
      "43 $\\Uparrow \\uparrow K_{can}$ $\\epsilon 25$ 3DVISC_REALISTIC_run21\n",
      "44 $\\Uparrow \\uparrow K_{can}$, $\\epsilon 100$ 3DVISC_REALISTIC_run22\n",
      "45 $\\Uparrow \\uparrow \\uparrow K_{can}$ 3DVISC_REALISTIC_run23\n",
      "46 $\\Uparrow \\Uparrow \\uparrow K_{can}$ 3DVISC_REALISTIC_run24\n",
      "47 $\\Uparrow K_{can}$ 3DVISC_REALISTIC_run25\n",
      "48 $\\uparrow K_{can}$ 3DVISC_REALISTIC_run26\n",
      "49 $\\Uparrow \\Uparrow K_{can}$ 3DVISC_REALISTIC_run27\n"
     ]
    }
   ],
   "source": [
    "# Indices of all runs that will be considered for paper 1\n",
    "\n",
    "select_rec = [0,1,2,3,4,5,51,6,7,8,9,10,17,18,19,20,21,\n",
    "              22,23,24,25,26,27,29,30,31,32,33,\n",
    "              34,35,38,39,41,42,43,44,45,46,47,48,49]\n",
    "\n",
    "for ii in select_rec:\n",
    "    print(ii,records[ii].label2, records[ii].name)"
   ]
  },
  {
   "cell_type": "code",
   "execution_count": 11,
   "metadata": {
    "collapsed": true
   },
   "outputs": [],
   "source": [
    "# records_dyn has all the runs without the ones where K_bg changes. Use these ones for fitting the data HA2013\n",
    "ind = [0,3,4,5,51,6,7,8,9,10,17,18,19,20,21,22]\n",
    "records_dyn = []\n",
    "for ii in ind:\n",
    "    records_dyn.append(records[ii])\n",
    "\n",
    "# records_epsilon has all the runs in records_step plus the epsilon runs (use these to fit Nmax+Nmin)\n",
    "ind = [0,3,4,5,51,6,7,8,9,10,17,18,19,20,21,22,29,30,31,32,33,\n",
    "       34,38,39,41,42,43,44,45,46,47,48,49]\n",
    "records_epsilon = []\n",
    "for ii in ind:\n",
    "    records_epsilon.append(records[ii])\n",
    "\n",
    "# records_real has all the runs in records_epsilon plus the realistic runs\n",
    "ind = [0,3,4,5,51,6,7,8,9,10,17,18,19,20,21,22,29,30,31,32,33,\n",
    "       34,38,41,42,39,43,44,45,46,47,48,49,24,25,26,27]\n",
    "records_real = []\n",
    "for ii in ind:\n",
    "    records_real.append(records[ii])"
   ]
  },
  {
   "cell_type": "code",
   "execution_count": 12,
   "metadata": {
    "collapsed": true
   },
   "outputs": [],
   "source": [
    "records_sel = []\n",
    "\n",
    "for ind in select_rec:\n",
    "    records_sel.append(records[ind])\n",
    "    file = ('/data/kramosmu/results/TracerExperiments/%s/HCW_TrMass_%s%s.csv' \n",
    "            %(records[ind].exp_code,records[ind].exp_code,records[ind].run_num))\n",
    "    dfcan = pd.read_csv(file)\n",
    "    records[ind].HCW = dfcan['HCW']\n",
    "    records[ind].HCWTr1 = dfcan['HCWTr1']\n",
    "    records[ind].TrMass = dfcan['TrMassHCW']\n",
    "    records[ind].TrMassTr1 = dfcan['TrMassHCWTr1']\n",
    "    records[ind].TrMassTr2 = dfcan['TrMassHCWTr2']\n",
    "    records[ind].TrMassTot = dfcan['TotTrMass']\n",
    "    records[ind].TrMassTotTr2 = dfcan['TotTrMassTr2']\n",
    "    records[ind].TrMassTotTr1 = dfcan['TotTrMassTr1']"
   ]
  },
  {
   "cell_type": "code",
   "execution_count": 13,
   "metadata": {
    "collapsed": false
   },
   "outputs": [],
   "source": [
    "records_selNoC = []\n",
    "\n",
    "for ind in select_rec:\n",
    "    records_selNoC.append(recordsNoC[ind])\n",
    "    file = ('/data/kramosmu/results/TracerExperiments/%s/HCW_TrMass_%s%s.csv' \n",
    "            %(recordsNoC[ind].exp_code, recordsNoC[ind].exp_code, recordsNoC[ind].run_num))\n",
    "    dfcan = pd.read_csv(file)\n",
    "    recordsNoC[ind].HCW = dfcan['HCW']\n",
    "    recordsNoC[ind].HCWTr1 = dfcan['HCWTr1']\n",
    "    recordsNoC[ind].TrMass = dfcan['TrMassHCW']\n",
    "    recordsNoC[ind].TrMassTr1 = dfcan['TrMassHCWTr1']\n",
    "    recordsNoC[ind].TrMassTr2 = dfcan['TrMassHCWTr2']\n",
    "    recordsNoC[ind].TrMassTot = dfcan['TotTrMass']\n",
    "    recordsNoC[ind].TrMassTotTr2 = dfcan['TotTrMassTr2']\n",
    "    recordsNoC[ind].TrMassTotTr1 = dfcan['TotTrMassTr1']"
   ]
  },
  {
   "cell_type": "code",
   "execution_count": 14,
   "metadata": {
    "collapsed": false
   },
   "outputs": [],
   "source": [
    "t=6.5\n",
    "stname = 'UwH' #Station downstream head of canyon\n",
    "\n",
    "keys2 = ['N_tt12','N_tt14']\n",
    "\n",
    "for ind in select_rec:\n",
    "    \n",
    "    filename1 = ('/ocean/kramosmu/OutputAnalysis/outputanalysisnotebooks/results/metricsDataFrames/N_%s_%s.csv' %\n",
    "                 (records[ind].name,stname))\n",
    "    df = pd.read_csv(filename1)\n",
    "    Nab = np.empty(len(keys2))\n",
    "    Nbe = np.empty(len(keys2))\n",
    "    \n",
    "    for key,ii in zip(keys2, range(len(keys2))):\n",
    "        Nab[ii] = np.max(df[keys2[ii]][:]) \n",
    "        Nbe[ii] = np.min(df[keys2[ii]][20:23]) \n",
    "        \n",
    "    records[ind].Nab = np.mean(Nab)\n",
    "    records[ind].Nbe = np.mean(Nbe)\n",
    "    records[ind].Nab_std = np.std(Nab)\n",
    "    records[ind].Nbe_std = np.std(Nbe)"
   ]
  },
  {
   "cell_type": "code",
   "execution_count": 15,
   "metadata": {
    "collapsed": false
   },
   "outputs": [],
   "source": [
    "keys2 = ['dTrdz_tt08','dTrdz_tt10','dTrdz_tt12','dTrdz_tt14','dTrdz_tt16','dTrdz_tt18']\n",
    "\n",
    "for ind in select_rec:\n",
    "    \n",
    "    filename1 = ('/ocean/kramosmu/OutputAnalysis/outputanalysisnotebooks/results/metricsDataFrames/dTr1dz_%s_%s.csv' %\n",
    "                 (records[ind].name,stname))\n",
    "    df = pd.read_csv(filename1)\n",
    "    dTrab = 0\n",
    "    dTrbe = 0\n",
    "          \n",
    "    for key,ii in zip(keys2, range(len(keys2))):\n",
    "        dTrab = dTrab + np.min(df[keys2[ii]][:]) #0:20\n",
    "        dTrbe = dTrbe + np.max(df[keys2[ii]][20:23]) #20:24\n",
    "    \n",
    "    records[ind].dTr_ab = dTrab/  len(keys2)\n",
    "    records[ind].dTr_be = dTrbe/  len(keys2)\n",
    "    records[ind].dTr0 = df['dTrdz_tt00'][15]"
   ]
  },
  {
   "cell_type": "code",
   "execution_count": 83,
   "metadata": {
    "collapsed": false
   },
   "outputs": [],
   "source": [
    "keys2 = ['Tr_profile_tt08','Tr_profile_tt10','Tr_profile_tt12','Tr_profile_tt14','Tr_profile_tt16','Tr_profile_tt18']\n",
    "\n",
    "for ind in select_rec:\n",
    "    \n",
    "    filename1 = ('/ocean/kramosmu/OutputAnalysis/outputanalysisnotebooks/results/metricsDataFrames/Tr1_profile_%s_%s.csv' %\n",
    "                 (records[ind].name,stname))\n",
    "    df = pd.read_csv(filename1)\n",
    "    Nab = np.zeros(len(keys2))\n",
    "          \n",
    "    for key,ii in zip(keys2, range(len(keys2))):\n",
    "        Nab[ii] = np.nanmean(df[keys2[ii]][19:21]) # just above rim depth\n",
    "        \n",
    "    records[ind].Tr = np.nanmean(Nab)\n",
    "    records[ind].Tr_std = np.std(Nab)\n",
    "    records[ind].Tr0 = (df['Tr_profile_tt00'][21])"
   ]
  },
  {
   "cell_type": "markdown",
   "metadata": {},
   "source": [
    "## Stratification and upwelling flux\n",
    "\n",
    "In previous notebooks I found that the upwelling flux is porportional to an effective stratification $N_{eff}$ given by the weighted sum of the maximum stratification above the rim, near the head and the minimum stratification below the rim:\n",
    "\n",
    "$$N_{eff} = {0.67N_{max}+0.33N_{min}}$$\n",
    "\n",
    "So first, we scale $N_{max}$ and $N_{min}$ using the information we got from the 1D model and modifications to the 1D model due to the enhanced diffusion above the rim when $\\epsilon$ is larger than the step case.\n",
    "\n",
    "Once we get both N's, we can scale $N_{eff}$ and use it in the depth scale $D_h$ in the scaling for $\\Phi$ by Howatt and Allen as $D_{eff}=fL/N_{eff}$, with proper fitting parameters."
   ]
  },
  {
   "cell_type": "code",
   "execution_count": 17,
   "metadata": {
    "collapsed": false
   },
   "outputs": [],
   "source": [
    "# Get kv form initial files\n",
    "\n",
    "records_kv_files = [24,25,26,27,29,30,31,32,33,34,38,39,41,42,43,44,45,46,47,48,49]\n",
    "\n",
    "kv_dir = '/ocean/kramosmu/Building_canyon/BuildCanyon/Stratification/616x360x90/'\n",
    "ini_kv_files = [kv_dir + 'KrDiff_Mty_90zlev_616x360_Quad.bin',\n",
    "                kv_dir + 'KrDiff_Eel_90zlev_616x360_Quad.bin',\n",
    "                kv_dir + 'KrDiff_Mty_rim_90zlev_616x360_Quad.bin',\n",
    "                kv_dir + 'KrDiff_Asc_90zlev_616x360_Quad.bin',\n",
    "                kv_dir + 'KrDiff_e10_kv1E2_90zlev_616x360_Quad.bin',\n",
    "                kv_dir + 'KrDiff_e25_kv1E2_90zlev_616x360_Quad.bin',\n",
    "                kv_dir + 'KrDiff_e50_kv1E2_90zlev_616x360_Quad.bin',\n",
    "                kv_dir + 'KrDiff_e100_kv1E2_90zlev_616x360_Quad.bin',\n",
    "                kv_dir + 'KrDiff_e15_kv1E2_90zlev_616x360_Quad.bin',\n",
    "                kv_dir + 'KrDiff_e75_kv1E2_90zlev_616x360_Quad.bin',\n",
    "                kv_dir + 'KrDiff_e05_kv1E3_90zlev_616x360_Quad.bin',\n",
    "                kv_dir + 'KrDiff_e05_kv5E3_90zlev_616x360_Quad.bin',\n",
    "                kv_dir + 'KrDiff_e25_kv1E3_90zlev_616x360_Quad.bin',\n",
    "                kv_dir + 'KrDiff_e100_kv1E3_90zlev_616x360_Quad.bin',\n",
    "                kv_dir + 'KrDiff_e25_kv5E3_90zlev_616x360_Quad.bin',\n",
    "                kv_dir + 'KrDiff_e100_kv5E3_90zlev_616x360_Quad.bin',\n",
    "                kv_dir + 'KrDiff_e05_kv8E3_90zlev_616x360_Quad.bin',\n",
    "                kv_dir + 'KrDiff_e05_exact1p2E2_90zlev_616x360_Quad.bin',\n",
    "                kv_dir + 'KrDiff_e05_kv2p5E3_90zlev_616x360_Quad.bin',\n",
    "                kv_dir + 'KrDiff_e05_kv5E4_90zlev_616x360_Quad.bin',\n",
    "                kv_dir + 'KrDiff_e05_exact_nosmooth_90zlev_616x360_Quad.bin',\n",
    "                ]\n",
    "\n",
    "dt = np.dtype('>f8')  # float 64 big endian\n",
    "st = [240, 200] # y, x indices of UwH station\n",
    "Hrim = 135\n",
    "dd = 1\n",
    "ini_kv_profiles = np.zeros((len(ini_kv_files),nz))\n",
    "\n",
    "for file, ii in zip(ini_kv_files, records_kv_files):\n",
    "    data = np.fromfile(file, dt)\n",
    "    ini_kv = np.reshape(data,(90,360,616),order='C')\n",
    "    KK = ini_kv[:, st[0], st[1]] \n",
    "    \n",
    "    records[ii].Zdif = (((KK[int(Hrim/5)+1]-KK[int(Hrim/5)-1]))*t*3600*24)**0.5\n",
    "    records[ii].dk =  KK[int(Hrim/5)+1]-KK[int(Hrim/5)-1]\n",
    "    records[ii].Kz =  KK[int(Hrim/5)-4]\n",
    "    records[ii].Kz_be =  KK[int(Hrim/5)+4]"
   ]
  },
  {
   "cell_type": "code",
   "execution_count": 18,
   "metadata": {
    "collapsed": false
   },
   "outputs": [],
   "source": [
    "for rec in records_real:\n",
    "\n",
    "    Dz = abs(RC[int(Hrim/5)+1]-RC[int(Hrim/5)-1])\n",
    "    rec.Z = ((rec.f*rec.u_mod*F(Ro(rec.u_mod,rec.f,R))*L)**(0.5))/rec.N\n",
    "    \n",
    "    if rec.kv == rec.kbg:\n",
    "        rec.Zdif = 0\n",
    "        rec.Sdif_min = np.exp(-0.1*rec.Zdif/Dz) # -0.1 comes from the 1D model\n",
    "        rec.dk = 0\n",
    "        rec.Kz = 1E-5\n",
    "        rec.Kz_be = 1E-5\n",
    "        rec.Sdif_max = (rec.Zdif/Dz)*np.exp(-(rec.Kz*t*3600*24)/((rec.epsilon)**2))\n",
    "    \n",
    "    else:\n",
    "        rec.Sdif_min = np.exp(-0.1*rec.Zdif/Dz)\n",
    "        rec.Sdif_max = (rec.Zdif/Dz)*np.exp(-(rec.Kz*t*3600*24)/((rec.epsilon)**2))\n",
    "        \n",
    "    rec.S_max = (rec.Z/Hh)*np.exp(-rec.Kz*t*3600*24/rec.Z**2)\n",
    "    rec.S_min = (rec.Z/Hh)*np.exp(-rec.Kz_be*t*3600*24/rec.Z**2)"
   ]
  },
  {
   "cell_type": "code",
   "execution_count": 19,
   "metadata": {
    "collapsed": false
   },
   "outputs": [],
   "source": [
    "X1_be = np.array([rec.S_min for rec in records_epsilon])\n",
    "X2_be = np.array([rec.Sdif_min for rec in records_epsilon])\n",
    "Y_be = np.array([(rec.Nbe)**2/(rec.N**2) for rec in records_epsilon])\n",
    "\n",
    "X1_ab = np.array([rec.S_max for rec in records_epsilon])\n",
    "X2_ab = np.array([rec.Sdif_max for rec in records_epsilon])\n",
    "Y_ab = np.array([(rec.Nab)**2/(rec.N**2) for rec in records_epsilon])"
   ]
  },
  {
   "cell_type": "code",
   "execution_count": 24,
   "metadata": {
    "collapsed": false
   },
   "outputs": [
    {
     "name": "stdout",
     "output_type": "stream",
     "text": [
      "min $N^2/N^2_0$ = 2.96 $S^-$ + 2.63 $S^-_{diff}$  -1.56 \n",
      "max $N^2/N^2_0$ = 8.17 $S^+$ + 0.22 $S^+_{diff}$ + 0.81 \n"
     ]
    }
   ],
   "source": [
    "from sklearn import linear_model\n",
    "reg_be = linear_model.LinearRegression()\n",
    "reg_be.fit (np.transpose([X1_be,X2_be]),np.transpose(Y_be) )\n",
    "print(r'min $N^2/N^2_0$ = %1.2f $S^-$ + %1.2f $S^-_{diff}$  %1.2f ' %\n",
    "      (reg_be.coef_[0],reg_be.coef_[1],reg_be.intercept_))\n",
    "\n",
    "reg_ab = linear_model.LinearRegression()\n",
    "reg_ab.fit (np.transpose([X1_ab, X2_ab]),np.transpose(Y_ab) )\n",
    "print(r'max $N^2/N^2_0$ = %1.2f $S^+$ + %1.2f $S^+_{diff}$ + %1.2f ' %\n",
    "      (reg_ab.coef_[0],reg_ab.coef_[1],reg_ab.intercept_))"
   ]
  },
  {
   "cell_type": "code",
   "execution_count": 59,
   "metadata": {
    "collapsed": false
   },
   "outputs": [],
   "source": [
    "# Save values of N_eff and Phi\n",
    "\n",
    "for rec in records_sel:  \n",
    "    can_eff = rec.HCW\n",
    "    Phi = np.mean(np.array([(can_eff[ii]-can_eff[ii-1])/(time[ii]-time[ii-1]) \n",
    "                            for ii in range (8,18)]))\n",
    "    Phi_std = np.std(np.array([(can_eff[ii]-can_eff[ii-1])/(time[ii]-time[ii-1]) \n",
    "                               for ii in range (8,18)]))\n",
    "    rec.Phi = Phi\n",
    "    rec.Phi_std = Phi_std\n",
    "\n",
    "for rec in records_real:\n",
    "    rec.Nbe_scaled =  np.sqrt(reg_be.coef_[0]*rec.S_min +\n",
    "                              reg_be.coef_[1]*rec.Sdif_min +\n",
    "                              reg_be.intercept_)*rec.N\n",
    "    rec.Nab_scaled =  np.sqrt(reg_ab.coef_[0]*rec.S_max +\n",
    "                              reg_ab.coef_[1]*rec.Sdif_max +\n",
    "                              reg_ab.intercept_)*rec.N\n",
    "     \n",
    "    if  (reg_be.coef_[0]*rec.S_min+ reg_be.coef_[1]*rec.Sdif_min +\n",
    "         reg_be.intercept_)< 0 :\n",
    "        rec.N_eff_scaled = (0.75*rec.Nab_scaled)\n",
    "    else:\n",
    "        rec.N_eff_scaled =  (0.75*rec.Nab_scaled + 0.25*rec.Nbe_scaled) \n",
    "    \n",
    "    rec.Neff = (0.75*rec.Nab+0.25*rec.Nbe)"
   ]
  },
  {
   "cell_type": "code",
   "execution_count": 63,
   "metadata": {
    "collapsed": false
   },
   "outputs": [
    {
     "name": "stdout",
     "output_type": "stream",
     "text": [
      "Using parameter 0.60: slope = 3.41, intercept = -0.015, r-value = 0.872\n",
      "Using parameter 0.62: slope = 3.56, intercept = -0.016, r-value = 0.883\n",
      "Using parameter 0.63: slope = 3.72, intercept = -0.017, r-value = 0.894\n",
      "Using parameter 0.65: slope = 3.87, intercept = -0.018, r-value = 0.904\n",
      "Using parameter 0.66: slope = 4.03, intercept = -0.019, r-value = 0.913\n",
      "Using parameter 0.68: slope = 4.18, intercept = -0.020, r-value = 0.922\n",
      "Using parameter 0.69: slope = 4.34, intercept = -0.020, r-value = 0.930\n",
      "Using parameter 0.71: slope = 4.49, intercept = -0.021, r-value = 0.937\n",
      "Using parameter 0.72: slope = 4.65, intercept = -0.021, r-value = 0.944\n",
      "Using parameter 0.74: slope = 4.81, intercept = -0.021, r-value = 0.950\n",
      "Using parameter 0.75: slope = 4.96, intercept = -0.021, r-value = 0.955\n",
      "Using parameter 0.77: slope = 5.12, intercept = -0.020, r-value = 0.960\n",
      "Using parameter 0.78: slope = 5.27, intercept = -0.020, r-value = 0.964\n",
      "Using parameter 0.80: slope = 5.42, intercept = -0.020, r-value = 0.967\n",
      "Using parameter 0.81: slope = 5.58, intercept = -0.019, r-value = 0.970\n",
      "Using parameter 0.83: slope = 5.73, intercept = -0.018, r-value = 0.972\n",
      "Using parameter 0.84: slope = 5.88, intercept = -0.017, r-value = 0.974\n",
      "Using parameter 0.86: slope = 6.03, intercept = -0.016, r-value = 0.975\n",
      "Using parameter 0.87: slope = 6.18, intercept = -0.015, r-value = 0.975\n",
      "Using parameter 0.89: slope = 6.33, intercept = -0.014, r-value = 0.975\n",
      "Using parameter 0.91: slope = 6.48, intercept = -0.013, r-value = 0.975\n",
      "Using parameter 0.92: slope = 6.63, intercept = -0.011, r-value = 0.974\n",
      "Using parameter 0.94: slope = 6.78, intercept = -0.010, r-value = 0.973\n",
      "Using parameter 0.95: slope = 6.94, intercept = -0.009, r-value = 0.972\n",
      "Using parameter 0.97: slope = 7.09, intercept = -0.007, r-value = 0.970\n",
      "Using parameter 0.98: slope = 7.25, intercept = -0.006, r-value = 0.968\n",
      "Using parameter 1.00: slope = 7.42, intercept = -0.004, r-value = 0.966\n",
      "Using parameter 1.01: slope = 7.58, intercept = -0.003, r-value = 0.963\n",
      "Using parameter 1.03: slope = 7.75, intercept = -0.001, r-value = 0.961\n",
      "Using parameter 1.04: slope = 7.93, intercept = 0.000, r-value = 0.958\n",
      "Using parameter 1.06: slope = 8.11, intercept = 0.002, r-value = 0.955\n",
      "Using parameter 1.07: slope = 8.30, intercept = 0.003, r-value = 0.952\n",
      "Using parameter 1.09: slope = 8.50, intercept = 0.004, r-value = 0.949\n",
      "Using parameter 1.10: slope = 8.71, intercept = 0.006, r-value = 0.946\n",
      "Using parameter 1.12: slope = 8.92, intercept = 0.007, r-value = 0.943\n",
      "Using parameter 1.13: slope = 9.14, intercept = 0.009, r-value = 0.940\n",
      "Using parameter 1.15: slope = 9.37, intercept = 0.010, r-value = 0.936\n",
      "Using parameter 1.16: slope = 9.62, intercept = 0.011, r-value = 0.933\n",
      "Using parameter 1.18: slope = 9.87, intercept = 0.012, r-value = 0.930\n",
      "Using parameter 1.19: slope = 10.14, intercept = 0.014, r-value = 0.927\n",
      "Using parameter 1.21: slope = 10.42, intercept = 0.015, r-value = 0.924\n",
      "Using parameter 1.23: slope = 10.72, intercept = 0.016, r-value = 0.920\n",
      "Using parameter 1.24: slope = 11.03, intercept = 0.017, r-value = 0.917\n",
      "Using parameter 1.26: slope = 11.35, intercept = 0.018, r-value = 0.914\n",
      "Using parameter 1.27: slope = 11.70, intercept = 0.020, r-value = 0.910\n",
      "Using parameter 1.29: slope = 12.05, intercept = 0.021, r-value = 0.907\n",
      "Using parameter 1.30: slope = 12.43, intercept = 0.022, r-value = 0.904\n",
      "Using parameter 1.32: slope = 12.82, intercept = 0.023, r-value = 0.900\n",
      "Using parameter 1.33: slope = 13.24, intercept = 0.024, r-value = 0.896\n",
      "Using parameter 1.35: slope = 13.67, intercept = 0.025, r-value = 0.893\n",
      "Using parameter 1.36: slope = 14.12, intercept = 0.026, r-value = 0.889\n",
      "Using parameter 1.38: slope = 14.59, intercept = 0.027, r-value = 0.885\n",
      "Using parameter 1.39: slope = 15.08, intercept = 0.028, r-value = 0.881\n",
      "Using parameter 1.41: slope = 15.59, intercept = 0.030, r-value = 0.876\n",
      "Using parameter 1.42: slope = 16.11, intercept = 0.031, r-value = 0.871\n",
      "Using parameter 1.44: slope = 16.66, intercept = 0.032, r-value = 0.867\n",
      "Using parameter 1.45: slope = 17.22, intercept = 0.033, r-value = 0.861\n",
      "Using parameter 1.47: slope = 17.80, intercept = 0.034, r-value = 0.856\n",
      "Using parameter 1.48: slope = 18.39, intercept = 0.036, r-value = 0.850\n",
      "Using parameter 1.50: slope = 19.00, intercept = 0.037, r-value = 0.844\n"
     ]
    }
   ],
   "source": [
    "# find best slope parameter to use\n",
    "\n",
    "for param in np.linspace(0.6, 1.5, 60):\n",
    "    for rec in records_real:\n",
    "        Se = (s*rec.N)/(rec.f*((F(Ro(rec.u_mod,rec.f,Wr))/Ro(rec.u_mod,rec.f,L))**(1/2)))\n",
    "        rec.X = (F(Ro(rec.u_mod,rec.f,Wr))**(3/2))*(Ro(rec.u_mod,rec.f,L)**(1/2))*((1-param*Se)**3)\n",
    "\n",
    "        rec.Phi_nonDim = rec.Phi/(rec.u_mod*W*Dh(rec.f,L,rec.N_eff_scaled))\n",
    "        \n",
    "    Y_array = np.array([rec.Phi_nonDim for rec in records_epsilon])\n",
    "    X_array = np.array([rec.X for rec in records_epsilon])\n",
    "\n",
    "    slope2, intercept2, r_value2, p_value2, std_err2 = scipy.stats.linregress(X_array,Y_array)\n",
    "\n",
    "    print('Using parameter %1.2f: slope = %1.2f, intercept = %1.3f, r-value = %1.3f' %(param, slope2, intercept2, r_value2))"
   ]
  },
  {
   "cell_type": "code",
   "execution_count": 64,
   "metadata": {
    "collapsed": false
   },
   "outputs": [],
   "source": [
    "# My re-fit of Howatt and Allen's function for Phi gave:\n",
    "slope = 2.78\n",
    "param = 0.89\n",
    "intercept = -0.004\n",
    "\n",
    "# Using parameter 0.89: slope = 6.33, intercept = -0.014, r-value = 0.975\n",
    "slope2 = 6.33\n",
    "param2 = 0.89\n",
    "intercept2 = -0.014\n",
    "\n",
    "for rec in records_real:\n",
    "    \n",
    "    Se = (s*rec.N)/(rec.f*((F(Ro(rec.u_mod,rec.f,Wr))/Ro(rec.u_mod,rec.f,L))**(1/2)))\n",
    "    HA2013=((slope*(F(Ro(rec.u_mod,rec.f,Wr))**(3/2))*(Ro(rec.u_mod,rec.f,L)**(1/2))*((1-param*Se)**3))+intercept)\n",
    "    RA2018=((slope2*(F(Ro(rec.u_mod,rec.f,Wr))**(3/2))*(Ro(rec.u_mod,rec.f,L)**(1/2))*((1-param2*Se)**3))+intercept2)\n",
    "    \n",
    "    rec.HA2013 = HA2013\n",
    "    rec.HA2013_sqe = (rec.Phi-rec.HA2013)**2\n",
    "    \n",
    "    rec.RA2018 = RA2018\n",
    "    rec.RA2018_sqe = (rec.Phi-rec.RA2018)**2"
   ]
  },
  {
   "cell_type": "markdown",
   "metadata": {
    "collapsed": true
   },
   "source": [
    "### Tracer gradient"
   ]
  },
  {
   "cell_type": "code",
   "execution_count": 73,
   "metadata": {
    "collapsed": true
   },
   "outputs": [],
   "source": [
    "X1_be = np.array([rec.S_min for rec in records_epsilon])\n",
    "X2_be = np.array([rec.Sdif_min for rec in records_epsilon])\n",
    "Y_be = np.array([(rec.dTr_be)/(rec.dTr0) for rec in records_epsilon])\n",
    "\n",
    "X1_ab = np.array([rec.S_max for rec in records_epsilon])\n",
    "X2_ab = np.array([rec.Sdif_max for rec in records_epsilon])\n",
    "Y_ab = np.array([(rec.dTr_ab)/(rec.dTr0) for rec in records_epsilon])"
   ]
  },
  {
   "cell_type": "code",
   "execution_count": 74,
   "metadata": {
    "collapsed": false
   },
   "outputs": [
    {
     "name": "stdout",
     "output_type": "stream",
     "text": [
      "min $dzC/dzCo$ = 3.81 $S^-$ + 1.77 $S^-_{diff}$  -1.16 \n",
      "max $dzC/dzCo$ = 8.10 $S^-$ + 0.23 $S^-_{diff}$  0.81 \n"
     ]
    }
   ],
   "source": [
    "from sklearn import linear_model\n",
    "reg_be_dTr = linear_model.LinearRegression()\n",
    "reg_be_dTr.fit (np.transpose([X1_be,X2_be]),np.transpose(Y_be) )\n",
    "print(r'min $dzC/dzCo$ = %1.2f $S^-$ + %1.2f $S^-_{diff}$  %1.2f ' %\n",
    "      (reg_be_dTr.coef_[0],reg_be_dTr.coef_[1],reg_be_dTr.intercept_))\n",
    "\n",
    "reg_ab_dTr = linear_model.LinearRegression()\n",
    "reg_ab_dTr.fit (np.transpose([X1_ab, X2_ab]),np.transpose(Y_ab) )\n",
    "print(r'max $dzC/dzCo$ = %1.2f $S^-$ + %1.2f $S^-_{diff}$  %1.2f ' %\n",
    "      (reg_ab_dTr.coef_[0],reg_ab_dTr.coef_[1],reg_ab_dTr.intercept_))\n"
   ]
  },
  {
   "cell_type": "code",
   "execution_count": 75,
   "metadata": {
    "collapsed": true
   },
   "outputs": [],
   "source": [
    "# save values of dTr scaled and PhiTr\n",
    "for rec in records_sel:\n",
    "    can_eff = rec.TrMass\n",
    "    Phi_Tr = np.mean(np.array([(can_eff[ii]-can_eff[ii-1])/(time[ii]-time[ii-1]) for ii in range (12,18)]))\n",
    "    Phi_Tr_std = np.std(np.array([(can_eff[ii]-can_eff[ii-1])/(time[ii]-time[ii-1]) for ii in range (12,18)]))\n",
    "    \n",
    "    rec.PhiTr = Phi_Tr\n",
    "    rec.PhiTr_std = Phi_Tr_std\n",
    "\n",
    "for rec in records_real:\n",
    "    rec.dTr_ab_scaled = (reg_ab_dTr.coef_[0]*rec.S_max+\n",
    "                         reg_ab_dTr.coef_[1]*rec.Sdif_max+\n",
    "                         reg_ab_dTr.intercept_)*rec.dTr0\n",
    "    rec.dTr_be_scaled = (reg_be_dTr.coef_[0]*rec.S_min+\n",
    "                         reg_be_dTr.coef_[1]*rec.Sdif_min+\n",
    "                         reg_be_dTr.intercept_)*rec.dTr0"
   ]
  },
  {
   "cell_type": "markdown",
   "metadata": {},
   "source": [
    "### Concentration"
   ]
  },
  {
   "cell_type": "code",
   "execution_count": 87,
   "metadata": {
    "collapsed": false
   },
   "outputs": [
    {
     "name": "stdout",
     "output_type": "stream",
     "text": [
      "$\\bar{C}/Co$ = 0.33 $S^+$ + 0.06 $S^+_{diff}$  1.01 \n"
     ]
    }
   ],
   "source": [
    "# Fit mean concentration just above the rim - I know using the max \n",
    "# worked slightly better (smaller mse). Co is the initial concentration just above rim depth\n",
    "\n",
    "X1_tr = np.array([rec.S_max for rec in records_epsilon])\n",
    "X2_tr = np.array([rec.Sdif_max for rec in records_epsilon])\n",
    "Y_tr = np.array([(rec.Tr/rec.Tr0) for rec in records_epsilon])\n",
    "\n",
    "reg_Tr = linear_model.LinearRegression()\n",
    "reg_Tr.fit (np.transpose([X1_tr,X2_tr]),np.transpose(Y_tr) )\n",
    "print(r'$\\bar{C}/Co$ = %1.2f $S^+$ + %1.2f $S^+_{diff}$  %1.2f ' %\n",
    "      (reg_Tr.coef_[0],reg_Tr.coef_[1],reg_Tr.intercept_))\n",
    "\n",
    "for rec in records_real:\n",
    "    rec.Tr_scaled = (reg_Tr.coef_[0]*(rec.S_max)+ reg_Tr.coef_[1]*(rec.Sdif_max)+\n",
    "                         reg_Tr.intercept_)*rec.Tr0"
   ]
  },
  {
   "cell_type": "markdown",
   "metadata": {},
   "source": [
    "### Tracer flux"
   ]
  },
  {
   "cell_type": "code",
   "execution_count": 89,
   "metadata": {
    "collapsed": false,
    "scrolled": true
   },
   "outputs": [
    {
     "name": "stdout",
     "output_type": "stream",
     "text": [
      "\\Phi_{Tr} = 1.00 $\\Phi \\ bar{C}$ + -441.22 \n"
     ]
    }
   ],
   "source": [
    "Y_array = np.array([rec.PhiTr for rec in records_epsilon])\n",
    "X_array = np.array([rec.RA2018*(rec.u_mod*W*Dh(rec.f,L,rec.N_eff_scaled))*\n",
    "                    (rec.Tr_scaled) for rec in records_epsilon])\n",
    "slope6, intercept6, r_value6, p_value6, std_err6 = scipy.stats.linregress(np.squeeze(X_array),\n",
    "                                                                          np.squeeze(Y_array))\n",
    "    \n",
    "for rec in records_real:\n",
    "    rec.Phi_scaled = rec.RA2018*(rec.u_mod*W*Dh(rec.f,L,rec.N_eff_scaled))\n",
    "    rec.PhiTr_scaled = np.squeeze((slope6*rec.Phi_scaled*(rec.Tr_scaled_max))+intercept6)\n",
    "    \n",
    "print('\\Phi_{Tr} = %1.2f $\\Phi \\ bar{C}$ + %1.2f ' %(slope6, intercept6))    "
   ]
  },
  {
   "cell_type": "markdown",
   "metadata": {},
   "source": [
    "## Figures"
   ]
  },
  {
   "cell_type": "code",
   "execution_count": 120,
   "metadata": {
    "collapsed": false
   },
   "outputs": [
    {
     "data": {
      "image/png": "[encoded data removed]",
      "text/plain": [
       "<Figure size 360x360 with 4 Axes>"
      ]
     },
     "metadata": {},
     "output_type": "display_data"
    }
   ],
   "source": [
    "sns.set_context('paper')\n",
    "plt.rcParams['font.size'] = 11.0\n",
    "f = plt.figure(figsize = (5,5)) # 190mm = 7.48 in, 230cm = 9.05in\n",
    "\n",
    "gs = gspec.GridSpec(2, 2,wspace=0.2)\n",
    "ax1 = plt.subplot(gs[0,0])\n",
    "ax0 = plt.subplot(gs[0,1])\n",
    "ax3 = plt.subplot(gs[1,0])\n",
    "ax2 = plt.subplot(gs[1,1])\n",
    "\n",
    "\n",
    "# ---- plot 1:1 line ----\n",
    "ax0.plot(np.linspace(-0.1,3.5,20),np.linspace(-0.1,3.5,20), '-',color='0.5')\n",
    "ax1.plot(np.linspace(2,8,20),np.linspace(2,8,20), '-', color='0.5')\n",
    "ax3.plot(np.linspace(5, 17, 20),np.linspace(5,17, 20),'-', color='0.5')\n",
    "ax2.plot(np.linspace(1, 1.8, 20),np.linspace(1, 1.8, 20),'-', color='0.5')\n",
    "\n",
    "# ---- plot error -----\n",
    "# MSE ax0    \n",
    "phi_array = np.array([(rec.Nbe_scaled/rec.N)**2 for rec in records_epsilon])\n",
    "sca_array = np.array([(rec.Nbe)**2/(rec.N**2)  for rec in records_epsilon])\n",
    "x_fit = np.linspace(-0.1, 3.5, 50)\n",
    "mean_sq_err = np.nanmean(((phi_array)-(sca_array))**2)\n",
    "upper_bound = ax0.plot(x_fit,x_fit+(mean_sq_err)**(0.5),linestyle = '--',color='0.5')\n",
    "lower_bound = ax0.plot(x_fit,x_fit-(mean_sq_err)**(0.5),linestyle = '--',color='0.5')\n",
    "\n",
    "# MSE ax1    \n",
    "phi_array = np.array([(rec.Nab_scaled/rec.N)**2 for rec in records_epsilon])\n",
    "sca_array = np.array([(rec.Nab)**2/(rec.N**2) for rec in records_epsilon])\n",
    "x_fit = np.linspace(2,8, 50)\n",
    "mean_sq_err = np.mean(((phi_array)-(sca_array))**2)\n",
    "upper_bound = ax1.plot(x_fit,x_fit+(mean_sq_err)**(0.5),linestyle = '--',color='0.5')\n",
    "lower_bound = ax1.plot(x_fit,x_fit-(mean_sq_err)**(0.5),linestyle = '--',color='0.5')\n",
    "\n",
    "# MSE ax2    \n",
    "phi_array = np.array([rec.N_eff_scaled/1E-3 for rec in records_epsilon])\n",
    "sca_array = np.array([rec.Neff/1E-3 for rec in records_epsilon])\n",
    "x_fit = np.linspace(5,17, 50)\n",
    "mean_sq_err = np.mean(((phi_array)-(sca_array))**2)\n",
    "upper_bound = ax3.plot(x_fit,x_fit+(mean_sq_err)**(0.5),linestyle = '--',color='0.5')\n",
    "lower_bound = ax3.plot(x_fit,x_fit-(mean_sq_err)**(0.5),linestyle = '--',color='0.5')\n",
    "\n",
    "# MSE ax3    \n",
    "phi_array = np.squeeze(np.array([rec.Tr_scaled/rec.Tr0 for rec in records_epsilon]))\n",
    "sca_array = np.squeeze(np.array([rec.Tr/rec.Tr0 for rec in records_epsilon]))\n",
    "x_fit = np.linspace(1,1.8, 50)\n",
    "mean_sq_err = np.mean(((phi_array)-(sca_array))**2)\n",
    "upper_bound = ax2.plot(x_fit,x_fit+(mean_sq_err)**(0.5),linestyle = '--',color='0.5')\n",
    "lower_bound = ax2.plot(x_fit,x_fit-(mean_sq_err)**(0.5),linestyle = '--',color='0.5')\n",
    "\n",
    "# ---- plot scaling ----\n",
    "for rec in records_real:\n",
    "    \n",
    "    plt0 = ax0.plot((rec.Nbe_scaled/rec.N)**2,(rec.Nbe)**2/(rec.N**2),\n",
    "                    marker = rec.mstyle,\n",
    "                    markersize = 7,\n",
    "                    color = sns.xkcd_rgb[rec.color2],\n",
    "                    markeredgewidth=0.5,\n",
    "                    markeredgecolor = 'k',\n",
    "                    label=rec.label2)\n",
    "      \n",
    "    plt1 = ax1.plot((rec.Nab_scaled/rec.N)**2,(rec.Nab)**2/(rec.N**2),\n",
    "                    marker = rec.mstyle,\n",
    "                    markersize = 7,\n",
    "                    color = sns.xkcd_rgb[rec.color2],\n",
    "                    markeredgewidth=0.5,\n",
    "                    markeredgecolor = 'k',\n",
    "                    label=rec.label2) \n",
    "    \n",
    "    plt2 = ax3.plot(rec.N_eff_scaled/1E-3,rec.Neff/1E-3,\n",
    "                    marker = rec.mstyle,\n",
    "                    markersize = 7,\n",
    "                    color = sns.xkcd_rgb[rec.color2],\n",
    "                    markeredgewidth=0.5,\n",
    "                    markeredgecolor = 'k',\n",
    "                    label=rec.label2)\n",
    "    plt3 = ax2.plot(rec.Tr_scaled/rec.Tr0,\n",
    "                    (rec.Tr/rec.Tr0),\n",
    "                     marker = rec.mstyle,\n",
    "                     markersize = 7,\n",
    "                     color = sns.xkcd_rgb[rec.color2],\n",
    "                     markeredgewidth=0.5,\n",
    "                     markeredgecolor = 'k',\n",
    "                     label=rec.label2)\n",
    "\n",
    "    \n",
    "    \n",
    "# ---- aesthetics -----\n",
    "ax0.set_xlim(-0.1,3.5)\n",
    "ax0.set_ylim(-0.1,3.5)\n",
    "\n",
    "ax1.set_xlim(2,8)\n",
    "ax1.set_ylim(2,8)\n",
    "\n",
    "ax3.set_xlim(7,15.5)\n",
    "ax3.set_ylim(7,15.5)\n",
    "\n",
    "ax2.set_xlim(1,1.62)\n",
    "ax2.set_ylim(1,1.62)\n",
    "\n",
    "\n",
    "ax0.set_ylabel('min $N^2/N^2_0$',labelpad=-1.5)\n",
    "ax1.set_ylabel('max $N^2/N^2_0$',labelpad=-1.5)\n",
    "ax0.set_xlabel(r'%1.2f$S^-$ + %1.2f$S^-_{dif}$  %1.2f' %(reg_be.coef_[0], \n",
    "                                                         reg_be.coef_[1], \n",
    "                                                         reg_be.intercept_),labelpad=0.5)\n",
    "ax1.set_xlabel(r'%1.2f$S^+$ + %1.2f$S^+_{dif}$ + %1.2f' %(reg_ab.coef_[0], \n",
    "                                                          reg_ab.coef_[1], \n",
    "                                                          reg_ab.intercept_),labelpad=0.5)\n",
    "\n",
    "ax3.set_ylabel('$N_{eff}$ model / $10^{-3}$ s$^{-1}$', labelpad=0)\n",
    "ax3.set_xlabel('$N_{eff}$ scaled / $10^{-3}$ s$^{-1}$',labelpad=0.0)\n",
    "ax2.set_ylabel(r'$C_{rim}$ model /$C_0$', labelpad=0)\n",
    "ax2.set_xlabel(r'$\\bar{C}$ /$C_0$', labelpad=0.0)\n",
    "\n",
    "ax0.tick_params(axis='x', pad=2)\n",
    "ax1.tick_params(axis='x', pad=2)\n",
    "ax3.tick_params(axis='x', pad=2)\n",
    "ax2.tick_params(axis='x', pad=2)\n",
    "\n",
    "ax0.tick_params(axis='y', pad=2)\n",
    "ax1.tick_params(axis='y', pad=2)\n",
    "ax3.tick_params(axis='y', pad=2)\n",
    "ax2.tick_params(axis='y', pad=2)\n",
    "\n",
    "ax0.legend(bbox_to_anchor=(1.05,1.3), ncol=1,columnspacing=0.1,labelspacing=0.1,frameon=True )\n",
    "\n",
    "ax0.set_aspect(1)\n",
    "ax1.set_aspect(1)\n",
    "ax2.set_aspect(1)\n",
    "ax3.set_aspect(1)\n",
    "\n",
    "ax1.text(2.8,6.9,'Eqn.2#')\n",
    "ax0.text(0.2,2.7,'Eqn.2#')\n",
    "ax3.text(8,13.0,'Eqn.2#')\n",
    "ax2.text(1.05,1.5,'Eqn.2#')\n",
    "\n",
    "ax1.text(0.87,0.05,'(a)',transform=ax1.transAxes)\n",
    "ax0.text(0.87,0.05,'(b)',transform=ax0.transAxes)\n",
    "ax3.text(0.87,0.05,'(c)',transform=ax3.transAxes)\n",
    "ax2.text(0.87,0.05,'(d)',transform=ax2.transAxes)\n",
    "\n",
    "plt.savefig('figure10_v2.eps',format='eps',bbox_inches='tight')\n"
   ]
  },
  {
   "cell_type": "code",
   "execution_count": 119,
   "metadata": {
    "collapsed": false
   },
   "outputs": [
    {
     "data": {
      "image/png": "[encoded data removed]",
      "text/plain": [
       "<Figure size 432x216 with 2 Axes>"
      ]
     },
     "metadata": {},
     "output_type": "display_data"
    }
   ],
   "source": [
    "sns.set_context('paper')\n",
    "plt.rcParams['font.size'] = 10.0\n",
    "f = plt.figure(figsize = (6,3)) # 190mm = 7.48 in, 230cm = 9.05in\n",
    "\n",
    "gs = gspec.GridSpec(1, 2)\n",
    "ax0 = plt.subplot(gs[0,0])\n",
    "ax1 = plt.subplot(gs[0,1])\n",
    "\n",
    "# ---- plot 1:1 lines ----\n",
    "ax0.plot(np.linspace(0,7,50),np.linspace(0,7,50),'-', color='0.5')\n",
    "ax1.plot(np.linspace(0,5.5,50),np.linspace(0,5.5,50),'-', color='0.5')\n",
    "\n",
    "# ---- plot errors ----\n",
    "# MSE ax0    \n",
    "phi_array = np.array([rec.Phi/1E4 for rec in records_dyn])\n",
    "sca_array = np.array([rec.Phi_scaled/1E4  for rec in records_dyn])\n",
    "x_fit = np.linspace(0,8, 50)\n",
    "mean_sq_err = np.mean(((phi_array)-(sca_array))**2)\n",
    "upper_bound = ax0.plot(x_fit,x_fit+(mean_sq_err)**(0.5),linestyle = '--',color='0.5')\n",
    "lower_bound = ax0.plot(x_fit,x_fit-(mean_sq_err)**(0.5),linestyle = '--',color='0.5')\n",
    "\n",
    "# MSE ax1    \n",
    "phi_array = np.array([rec.PhiTr_scaled/1E5 for rec in records_epsilon])\n",
    "sca_array = np.array([rec.PhiTr/1E5 for rec in records_epsilon])\n",
    "x_fit = np.linspace(0,6, 50)\n",
    "mean_sq_err = np.mean(((phi_array)-(sca_array))**2)\n",
    "upper_bound = ax1.plot(x_fit,x_fit+(mean_sq_err)**(0.5),linestyle = '--',color='0.5')\n",
    "lower_bound = ax1.plot(x_fit,x_fit-(mean_sq_err)**(0.5),linestyle = '--',color='0.5')\n",
    "\n",
    "# ---- plot scaling ----\n",
    "for rec in records_real:\n",
    "    \n",
    "    plt1 = ax0.errorbar(rec.Phi_scaled/1E4,\n",
    "                        rec.Phi/1E4,\n",
    "                        yerr=rec.Phi_std/1E4,\n",
    "                        marker = rec.mstyle,\n",
    "                        markersize = 8,\n",
    "                        color = sns.xkcd_rgb[rec.color2],\n",
    "                        markeredgewidth=0.5,\n",
    "                        markeredgecolor = 'k',\n",
    "                        label=rec.label2)\n",
    "    plt1 = ax1.errorbar(rec.PhiTr_scaled/1E5,\n",
    "                        rec.PhiTr/1E5,\n",
    "                        yerr=rec.PhiTr_std/1E5,\n",
    "                        marker = rec.mstyle,\n",
    "                        markersize = 8,\n",
    "                        color = sns.xkcd_rgb[rec.color2],\n",
    "                        markeredgewidth=0.5,\n",
    "                        markeredgecolor = 'k',\n",
    "                        label=rec.label2)\n",
    "\n",
    "\n",
    "# ---- aesthetics ----\n",
    "ax0.set_ylabel('Phi',labelpad=0.5)\n",
    "ax0.set_ylabel('Upwelling flux / $10^4$ m$^3$s$^{-1}$', labelpad=-0.5)\n",
    "ax1.set_ylabel('Tracer flux / $10^5$ $\\mu$Mm$^3$s$^{-1}$', labelpad=-0.5)\n",
    "\n",
    "ax0.set_xlabel(r'$\\Phi$ / $10^4$ m$^3$s$^{-1}$', labelpad=-0.5 )\n",
    "ax1.set_xlabel(r'$\\Phi_{Tr}$ / $10^5$ $\\mu$Mm$^3$s$^{-1}$', labelpad=-0.5)\n",
    "\n",
    "ax0.set_xlim(-0.2,7.2)\n",
    "ax0.set_ylim(-0.2,7.2)\n",
    "\n",
    "ax1.set_xlim(-0.2,5.8)\n",
    "ax1.set_ylim(-0.2,5.8)\n",
    "\n",
    "ax0.text(0.5,6.3,'Eqn. 27')\n",
    "ax1.text(0.5,5,'Eqn. 28')\n",
    "\n",
    "ax0.text(0.9,0.05,'(a)',transform=ax0.transAxes)\n",
    "ax1.text(0.9,0.05,'(b)',transform=ax1.transAxes)\n",
    "\n",
    "ax0.tick_params(axis='x', pad=2)\n",
    "ax1.tick_params(axis='x', pad=2)\n",
    "\n",
    "ax0.tick_params(axis='y', pad=2)\n",
    "ax1.tick_params(axis='y', pad=2)\n",
    "\n",
    "ax0.set_aspect(1)\n",
    "ax1.set_aspect(1)\n",
    "\n",
    "plt.savefig('figure11_v2.eps',format='eps',bbox_inches='tight')\n"
   ]
  },
  {
   "cell_type": "code",
   "execution_count": 166,
   "metadata": {
    "collapsed": false
   },
   "outputs": [
    {
     "data": {
      "image/png": "[encoded data removed]",
      "text/plain": [
       "<Figure size 216x216 with 1 Axes>"
      ]
     },
     "metadata": {},
     "output_type": "display_data"
    }
   ],
   "source": [
    "sns.set_context('paper')\n",
    "sns.set_style(\"white\")\n",
    "plt.rcParams['font.size'] = 10.0\n",
    "f = plt.figure(figsize = (3,3)) # 190mm = 7.48 in, 230cm = 9.05in\n",
    "\n",
    "gs = gspec.GridSpec(1, 1)\n",
    "ax0 = plt.subplot(gs[0])\n",
    "\n",
    "# ---- plot scaling ----\n",
    "for rec in records_real:\n",
    "    \n",
    "    plt1 = ax0.errorbar(rec.Phi/1E4,\n",
    "                        rec.PhiTr/1E5,\n",
    "                        yerr=rec.PhiTr_std/1E5,\n",
    "                        xerr = rec.Phi_std/1E4,\n",
    "                        marker = '.',\n",
    "                        markersize = 12,\n",
    "                        color = 'yellowgreen',\n",
    "                        markeredgewidth=1,\n",
    "                        markeredgecolor = 'k',\n",
    "                        label=rec.label2,\n",
    "                        capsize=2,\n",
    "                        ecolor = '0.7')\n",
    "    \n",
    "\n",
    "# ---- aesthetics ----\n",
    "ax0.set_xlabel('Upwelling flux / $10^4$ m$^3$s$^{-1}$', labelpad=-0.5)\n",
    "ax0.set_ylabel('Tracer flux / $10^5$ $\\mu$Mm$^3$s$^{-1}$', labelpad=-0.5)\n",
    "\n",
    "\n",
    "#ax0.set_xlim(-0.2,7.2)\n",
    "#ax0.set_ylim(-0.2,7.2)\n",
    "\n",
    "\n",
    "\n",
    "ax0.tick_params(axis='x', pad=2)\n",
    "\n",
    "ax0.tick_params(axis='y', pad=2)\n",
    "\n",
    "ax0.set_aspect(1)\n",
    "\n",
    "plt.savefig('figure_fluxes_comparison.eps',format='eps',bbox_inches='tight')\n"
   ]
  },
  {
   "cell_type": "markdown",
   "metadata": {},
   "source": [
    "### Tables"
   ]
  },
  {
   "cell_type": "code",
   "execution_count": 116,
   "metadata": {
    "collapsed": false
   },
   "outputs": [
    {
     "name": "stdout",
     "output_type": "stream",
     "text": [
      "Experiment &\t$\\kappa_{bg}$ &\t$\\kappa_{can}$&\t$\\epsilon$&\n",
      "base case\t&$1.00e-05$\t&$1.00e-05$\t&$5$ \n",
      "$\\uparrow$ $K_{bg}$\t&$1.00e-04$\t&$1.00e-04$\t&$5$ \n",
      "$\\uparrow \\uparrow$ $K_{bg}$\t&$1.00e-03$\t&$1.00e-03$\t&$5$ \n",
      "$\\uparrow$ $N_0$\t&$1.00e-05$\t&$1.00e-05$\t&$5$ \n",
      "$\\uparrow \\uparrow$ $N_0$\t&$1.00e-05$\t&$1.00e-05$\t&$5$ \n",
      "$\\Downarrow$ $N_0$\t&$1.00e-05$\t&$1.00e-05$\t&$5$ \n",
      "$\\downarrow \\downarrow N_0$\t&$1.00e-05$\t&$1.00e-05$\t&$5$ \n",
      "$\\downarrow$ $N_0$\t&$1.00e-05$\t&$1.00e-05$\t&$5$ \n",
      "$\\uparrow f$\t&$1.00e-05$\t&$1.00e-05$\t&$5$ \n",
      "$\\downarrow \\downarrow$ $f$\t&$1.00e-05$\t&$1.00e-05$\t&$5$ \n",
      "$\\downarrow f$\t&$1.00e-05$\t&$1.00e-05$\t&$5$ \n",
      "$\\Downarrow f$\t&$1.00e-05$\t&$1.00e-05$\t&$5$ \n",
      "$\\downarrow$ U\t&$1.00e-05$\t&$1.00e-05$\t&$5$ \n",
      "$\\downarrow \\downarrow$ U\t&$1.00e-05$\t&$1.00e-05$\t&$5$ \n",
      "$\\Downarrow$ U\t&$1.00e-05$\t&$1.00e-05$\t&$5$ \n",
      "$\\Downarrow$ U, $\\downarrow \\downarrow$ $N_0$\t&$1.00e-05$\t&$1.00e-05$\t&$5$ \n",
      "$\\Downarrow$ U, $\\uparrow \\uparrow$ $N_0$\t&$1.00e-05$\t&$1.00e-05$\t&$5$ \n",
      "$\\Downarrow$ U, $\\Downarrow$ $f$\t&$1.00e-05$\t&$1.00e-05$\t&$5$ \n",
      "$\\Downarrow$ U, $\\uparrow \\uparrow K_{can}$\t&$1.00e-03$\t&$1.00e-03$\t&$5$ \n",
      "$K_{can}$ Monterey (bot)\t&$6.84e-04$\t&$9.10e-03$\t&$10$ \n",
      "$K_{can}$ Eel (bot)\t&$8.52e-05$\t&$1.22e-03$\t&$10$ \n",
      "$K_{can}$ Monterey\t&$2.83e-04$\t&$8.11e-03$\t&$10$ \n",
      "$K_{can}$ Ascension (bot)\t&$6.53e-04$\t&$1.50e-03$\t&$10$ \n",
      "$\\Uparrow \\Uparrow K_{can}$, $\\epsilon 10$\t&$1.00e-05$\t&$1.00e-02$\t&$10$ \n",
      "$\\Uparrow \\Uparrow K_{can}$, $\\epsilon 25$\t&$1.00e-05$\t&$1.00e-02$\t&$25$ \n",
      "$\\Uparrow \\Uparrow K_{can}$, $\\epsilon 50$\t&$1.00e-05$\t&$1.00e-02$\t&$50$ \n",
      "$\\Uparrow \\Uparrow K_{can}$, $\\epsilon 100$\t&$1.00e-05$\t&$1.00e-02$\t&$100$ \n",
      "$\\Uparrow \\Uparrow K_{can}$, $\\epsilon 15$\t&$1.00e-05$\t&$1.00e-02$\t&$15$ \n",
      "$\\Uparrow \\Uparrow K_{can}$, $\\epsilon 75$\t&$1.00e-05$\t&$1.00e-02$\t&$75$ \n",
      "$\\Uparrow \\Uparrow K_{can}$, $\\epsilon 150$\t&$1.00e-05$\t&$1.00e-02$\t&$150$ \n",
      "$\\uparrow \\uparrow K_{can}$\t&$1.00e-05$\t&$1.00e-03$\t&$5$ \n",
      "$\\Uparrow \\uparrow K_{can}$\t&$1.00e-05$\t&$5.00e-03$\t&$5$ \n",
      "$\\uparrow \\uparrow K_{can}$ $\\epsilon 25$\t&$1.00e-05$\t&$1.00e-03$\t&$25$ \n",
      "$\\uparrow \\uparrow K_{can}$ $\\epsilon 100$\t&$1.00e-05$\t&$1.00e-03$\t&$100$ \n",
      "$\\Uparrow \\uparrow K_{can}$ $\\epsilon 25$\t&$1.00e-05$\t&$5.00e-03$\t&$25$ \n",
      "$\\Uparrow \\uparrow K_{can}$, $\\epsilon 100$\t&$1.00e-05$\t&$5.00e-03$\t&$100$ \n",
      "$\\Uparrow \\uparrow \\uparrow K_{can}$\t&$1.00e-05$\t&$8.00e-03$\t&$5$ \n",
      "$\\Uparrow \\Uparrow \\uparrow K_{can}$\t&$1.00e-05$\t&$1.20e-02$\t&$5$ \n",
      "$\\Uparrow K_{can}$\t&$1.00e-05$\t&$2.50e-03$\t&$5$ \n",
      "$\\uparrow K_{can}$\t&$1.00e-05$\t&$5.00e-04$\t&$5$ \n",
      "$\\Uparrow \\Uparrow K_{can}$\t&$1.00e-05$\t&$1.00e-02$\t&$5$ \n"
     ]
    }
   ],
   "source": [
    "print (\"\\t\".join(['Experiment &','$\\kappa_{bg}$ &','$\\kappa_{can}$&','$\\epsilon$&',\n",
    "                 ]))\n",
    "\n",
    "    \n",
    "for rec in records_sel:\n",
    "     print (\"\\t\".join(['%s\\t&$%0.2e$\\t&$%0.2e$\\t&$%1.0f$ ' \n",
    "                      % (rec.label2,\n",
    "                         rec.kbg,\n",
    "                         rec.kv, \n",
    "                         rec.epsilon,\n",
    "                         )\n",
    "                       ]))"
   ]
  },
  {
   "cell_type": "code",
   "execution_count": 117,
   "metadata": {
    "collapsed": false
   },
   "outputs": [
    {
     "name": "stdout",
     "output_type": "stream",
     "text": [
      "Experiment &\t$N$ (s$^{-1}$)$&\t$f$ (s$^{-1}$)&\tU (ms$^{-1}$)&\t$Bu$&\t$Ro$\n",
      "base case\t&\t&$5.5e-03$\t&$9.66e-05$\t&$0.36$\t&$0.39$\t&$0.59$\t \n",
      "$\\uparrow$ $K_{bg}$\t&\t&$5.5e-03$\t&$9.66e-05$\t&$0.36$\t&$0.39$\t&$0.59$\t \n",
      "$\\uparrow \\uparrow$ $K_{bg}$\t&\t&$5.5e-03$\t&$9.66e-05$\t&$0.32$\t&$0.39$\t&$0.52$\t \n",
      "$\\uparrow$ $N_0$\t&\t&$6.3e-03$\t&$9.66e-05$\t&$0.38$\t&$0.44$\t&$0.61$\t \n",
      "$\\uparrow \\uparrow$ $N_0$\t&\t&$7.4e-03$\t&$9.66e-05$\t&$0.40$\t&$0.52$\t&$0.64$\t \n",
      "$\\Downarrow$ $N_0$\t&\t&$4.6e-03$\t&$9.66e-05$\t&$0.35$\t&$0.32$\t&$0.56$\t \n",
      "$\\downarrow \\downarrow N_0$\t&\t&$4.7e-03$\t&$9.66e-05$\t&$0.35$\t&$0.33$\t&$0.56$\t \n",
      "$\\downarrow$ $N_0$\t&\t&$5.0e-03$\t&$9.66e-05$\t&$0.35$\t&$0.35$\t&$0.57$\t \n",
      "$\\uparrow f$\t&\t&$5.5e-03$\t&$1.00e-04$\t&$0.36$\t&$0.37$\t&$0.56$\t \n",
      "$\\downarrow \\downarrow$ $f$\t&\t&$5.5e-03$\t&$7.68e-05$\t&$0.39$\t&$0.49$\t&$0.80$\t \n",
      "$\\downarrow f$\t&\t&$5.5e-03$\t&$8.60e-05$\t&$0.38$\t&$0.43$\t&$0.69$\t \n",
      "$\\Downarrow f$\t&\t&$5.5e-03$\t&$6.40e-05$\t&$0.41$\t&$0.58$\t&$1.01$\t \n",
      "$\\downarrow$ U\t&\t&$5.5e-03$\t&$9.66e-05$\t&$0.31$\t&$0.39$\t&$0.51$\t \n",
      "$\\downarrow \\downarrow$ U\t&\t&$5.5e-03$\t&$9.66e-05$\t&$0.26$\t&$0.39$\t&$0.42$\t \n",
      "$\\Downarrow$ U\t&\t&$5.5e-03$\t&$9.66e-05$\t&$0.14$\t&$0.39$\t&$0.23$\t \n",
      "$\\Downarrow$ U, $\\downarrow \\downarrow$ $N_0$\t&\t&$4.6e-03$\t&$9.66e-05$\t&$0.13$\t&$0.32$\t&$0.22$\t \n",
      "$\\Downarrow$ U, $\\uparrow \\uparrow$ $N_0$\t&\t&$7.4e-03$\t&$9.66e-05$\t&$0.15$\t&$0.52$\t&$0.24$\t \n",
      "$\\Downarrow$ U, $\\Downarrow$ $f$\t&\t&$5.5e-03$\t&$7.00e-05$\t&$0.15$\t&$0.53$\t&$0.35$\t \n",
      "$\\Downarrow$ U, $\\uparrow \\uparrow K_{can}$\t&\t&$5.5e-03$\t&$9.66e-05$\t&$0.12$\t&$0.39$\t&$0.19$\t \n",
      "$K_{can}$ Monterey (bot)\t&\t&$5.5e-03$\t&$9.66e-05$\t&$0.34$\t&$0.39$\t&$0.55$\t \n",
      "$K_{can}$ Eel (bot)\t&\t&$5.5e-03$\t&$9.66e-05$\t&$0.36$\t&$0.39$\t&$0.58$\t \n",
      "$K_{can}$ Monterey\t&\t&$5.5e-03$\t&$9.66e-05$\t&$0.36$\t&$0.39$\t&$0.58$\t \n",
      "$K_{can}$ Ascension (bot)\t&\t&$5.5e-03$\t&$9.66e-05$\t&$0.35$\t&$0.39$\t&$0.57$\t \n",
      "$\\Uparrow \\Uparrow K_{can}$, $\\epsilon 10$\t&\t&$5.5e-03$\t&$9.66e-05$\t&$0.35$\t&$0.39$\t&$0.56$\t \n",
      "$\\Uparrow \\Uparrow K_{can}$, $\\epsilon 25$\t&\t&$5.5e-03$\t&$9.66e-05$\t&$0.34$\t&$0.39$\t&$0.55$\t \n",
      "$\\Uparrow \\Uparrow K_{can}$, $\\epsilon 50$\t&\t&$5.5e-03$\t&$9.66e-05$\t&$0.34$\t&$0.39$\t&$0.55$\t \n",
      "$\\Uparrow \\Uparrow K_{can}$, $\\epsilon 100$\t&\t&$5.5e-03$\t&$9.66e-05$\t&$0.34$\t&$0.39$\t&$0.55$\t \n",
      "$\\Uparrow \\Uparrow K_{can}$, $\\epsilon 15$\t&\t&$5.5e-03$\t&$9.66e-05$\t&$0.34$\t&$0.39$\t&$0.56$\t \n",
      "$\\Uparrow \\Uparrow K_{can}$, $\\epsilon 75$\t&\t&$5.5e-03$\t&$9.66e-05$\t&$0.34$\t&$0.39$\t&$0.55$\t \n",
      "$\\Uparrow \\Uparrow K_{can}$, $\\epsilon 150$\t&\t&$5.5e-03$\t&$9.66e-05$\t&$0.34$\t&$0.39$\t&$0.55$\t \n",
      "$\\uparrow \\uparrow K_{can}$\t&\t&$5.5e-03$\t&$9.66e-05$\t&$0.36$\t&$0.39$\t&$0.58$\t \n",
      "$\\Uparrow \\uparrow K_{can}$\t&\t&$5.5e-03$\t&$9.66e-05$\t&$0.35$\t&$0.39$\t&$0.56$\t \n",
      "$\\uparrow \\uparrow K_{can}$ $\\epsilon 25$\t&\t&$5.5e-03$\t&$9.66e-05$\t&$0.36$\t&$0.39$\t&$0.58$\t \n",
      "$\\uparrow \\uparrow K_{can}$ $\\epsilon 100$\t&\t&$5.5e-03$\t&$9.66e-05$\t&$0.36$\t&$0.39$\t&$0.58$\t \n",
      "$\\Uparrow \\uparrow K_{can}$ $\\epsilon 25$\t&\t&$5.5e-03$\t&$9.66e-05$\t&$0.35$\t&$0.39$\t&$0.56$\t \n",
      "$\\Uparrow \\uparrow K_{can}$, $\\epsilon 100$\t&\t&$5.5e-03$\t&$9.66e-05$\t&$0.34$\t&$0.39$\t&$0.56$\t \n",
      "$\\Uparrow \\uparrow \\uparrow K_{can}$\t&\t&$5.5e-03$\t&$9.66e-05$\t&$0.35$\t&$0.39$\t&$0.56$\t \n",
      "$\\Uparrow \\Uparrow \\uparrow K_{can}$\t&\t&$5.5e-03$\t&$9.66e-05$\t&$0.35$\t&$0.39$\t&$0.57$\t \n",
      "$\\Uparrow K_{can}$\t&\t&$5.5e-03$\t&$9.66e-05$\t&$0.35$\t&$0.39$\t&$0.57$\t \n",
      "$\\uparrow K_{can}$\t&\t&$5.5e-03$\t&$9.66e-05$\t&$0.36$\t&$0.39$\t&$0.58$\t \n",
      "$\\Uparrow \\Uparrow K_{can}$\t&\t&$5.5e-03$\t&$9.66e-05$\t&$0.35$\t&$0.39$\t&$0.57$\t \n"
     ]
    }
   ],
   "source": [
    "print (\"\\t\".join(['Experiment &', '$N$ (s$^{-1}$)$&', \n",
    "                  '$f$ (s$^{-1}$)&', 'U (ms$^{-1}$)&', '$Bu$&', '$Ro$' ,\n",
    "                 ]))\n",
    "\n",
    "    \n",
    "for rec in records_sel:\n",
    "     print (\"\\t\".join(['%s\\t&\\t&$%.1e$\\t&$%.2e$\\t&$%.2f$\\t&$%.2f$\\t&$%.2f$\\t ' \n",
    "                      % (rec.label2, \n",
    "                         rec.N,\n",
    "                         rec.f,\n",
    "                         rec.u_mod,\n",
    "                         Bu(rec.N, rec.f,W,Hs),\n",
    "                         Ro(U=rec.u_mod, f=rec.f, R=L),\n",
    "                         )\n",
    "                       ]))"
   ]
  },
  {
   "cell_type": "code",
   "execution_count": 118,
   "metadata": {
    "collapsed": false
   },
   "outputs": [
    {
     "name": "stdout",
     "output_type": "stream",
     "text": [
      "Exp name&\tPhi 1E4&\tPhiTr 1E5&\tTotal HCW $10^{10}$ m$^3$&\tCanyonHCW (%)&\tTotTrMassHCW $10^{11}$ $\\mu$Mm$^3$&\tCanyonTrMassHCW (%)&\tTotalTrMass $10^{11}$ $\\mu$Mm$^3$&\tCanyonTrMass (%) \n",
      "base case\t&3.85$\\pm$0.60\t&2.76$\\pm$ 0.26\t&2.83\t&82.32\t\t&2.19\t\t&83.24\t&1.93\t\t&16.43\t \n",
      "$\\uparrow$ $K_{bg}$\t&3.70$\\pm$0.73\t&2.29$\\pm$ 0.24\t&2.78\t&88.03\t\t&2.03\t\t&87.96\t&1.95\t\t&16.70\t \n",
      "$\\uparrow \\uparrow$ $K_{bg}$\t&3.72$\\pm$1.58\t&0.96$\\pm$ 0.40\t&3.09\t&64.28\t\t&1.77\t\t&59.27\t&2.22\t\t&17.07\t \n",
      "$\\uparrow$ $N_0$\t&2.86$\\pm$0.44\t&1.99$\\pm$ 0.19\t&2.06\t&89.34\t\t&1.55\t\t&89.53\t&1.64\t\t&11.93\t \n",
      "$\\uparrow \\uparrow$ $N_0$\t&1.32$\\pm$0.55\t&1.11$\\pm$ 0.44\t&1.08\t&79.51\t\t&0.80\t\t&79.64\t&1.35\t\t&7.43\t \n",
      "$\\Downarrow$ $N_0$\t&6.78$\\pm$0.94\t&5.21$\\pm$ 0.82\t&4.60\t&29.18\t\t&3.67\t\t&35.01\t&2.42\t\t&23.23\t \n",
      "$\\downarrow \\downarrow N_0$\t&6.34$\\pm$0.92\t&4.84$\\pm$ 0.72\t&4.33\t&31.01\t\t&3.44\t\t&36.55\t&2.35\t\t&22.33\t \n",
      "$\\downarrow$ $N_0$\t&5.15$\\pm$0.95\t&3.86$\\pm$ 0.74\t&3.67\t&35.74\t\t&2.89\t\t&40.58\t&2.18\t\t&20.13\t \n",
      "$\\uparrow f$\t&4.03$\\pm$0.58\t&2.95$\\pm$ 0.36\t&2.94\t&73.69\t\t&2.28\t\t&75.28\t&1.93\t\t&17.26\t \n",
      "$\\downarrow \\downarrow$ $f$\t&2.95$\\pm$0.72\t&1.96$\\pm$ 0.33\t&2.16\t&86.78\t\t&1.63\t\t&87.02\t&1.91\t\t&11.71\t \n",
      "$\\downarrow f$\t&3.42$\\pm$0.73\t&2.28$\\pm$ 0.14\t&2.48\t&89.16\t\t&1.90\t\t&89.45\t&1.91\t\t&13.84\t \n",
      "$\\Downarrow f$\t&1.83$\\pm$0.88\t&1.03$\\pm$ 0.42\t&1.53\t&78.00\t\t&1.15\t\t&78.28\t&1.88\t\t&8.83\t \n",
      "$\\downarrow$ U\t&3.02$\\pm$0.39\t&2.27$\\pm$ 0.27\t&2.16\t&87.86\t\t&1.65\t\t&88.24\t&1.48\t\t&16.13\t \n",
      "$\\downarrow \\downarrow$ U\t&1.92$\\pm$0.39\t&1.50$\\pm$ 0.26\t&1.38\t&83.62\t\t&1.04\t\t&84.03\t&1.07\t\t&15.43\t \n",
      "$\\Downarrow$ U\t&0.14$\\pm$0.23\t&0.15$\\pm$ 0.07\t&0.15\t&80.24\t\t&0.11\t\t&80.53\t&0.41\t\t&12.53\t \n",
      "$\\Downarrow$ U, $\\downarrow \\downarrow$ $N_0$\t&0.61$\\pm$0.27\t&0.40$\\pm$ 0.12\t&0.46\t&70.38\t\t&0.35\t\t&71.19\t&0.50\t\t&19.10\t \n",
      "$\\Downarrow$ U, $\\uparrow \\uparrow$ $N_0$\t&0.01$\\pm$0.07\t&-0.02$\\pm$ 0.02\t&0.01\t&160.36\t\t&0.01\t\t&157.44\t&0.29\t\t&6.97\t \n",
      "$\\Downarrow$ U, $\\Downarrow$ $f$\t&0.11$\\pm$0.35\t&-0.02$\\pm$ 0.04\t&0.08\t&23.64\t\t&0.06\t\t&24.59\t&0.40\t\t&7.32\t \n",
      "$\\Downarrow$ U, $\\uparrow \\uparrow K_{can}$\t&1.23$\\pm$0.46\t&0.74$\\pm$ 0.09\t&0.85\t&0.81\t\t&0.63\t\t&1.29\t&0.76\t\t&5.32\t \n",
      "$K_{can}$ Monterey (bot)\t&4.97$\\pm$0.48\t&3.77$\\pm$ 0.31\t&3.59\t&86.06\t\t&2.69\t\t&86.37\t&2.35\t\t&31.44\t \n",
      "$K_{can}$ Eel (bot)\t&3.86$\\pm$0.59\t&2.74$\\pm$ 0.20\t&2.86\t&82.51\t\t&2.20\t\t&83.36\t&2.06\t\t&22.00\t \n",
      "$K_{can}$ Monterey\t&3.87$\\pm$0.53\t&2.80$\\pm$ 0.16\t&2.84\t&82.39\t\t&2.23\t\t&83.60\t&2.07\t\t&22.22\t \n",
      "$K_{can}$ Ascension (bot)\t&4.18$\\pm$0.60\t&3.01$\\pm$ 0.24\t&3.05\t&83.57\t\t&2.36\t\t&84.45\t&2.14\t\t&24.79\t \n",
      "$\\Uparrow \\Uparrow K_{can}$, $\\epsilon 10$\t&4.07$\\pm$0.55\t&3.42$\\pm$ 0.34\t&3.07\t&83.71\t\t&2.52\t\t&85.43\t&2.21\t\t&27.09\t \n",
      "$\\Uparrow \\Uparrow K_{can}$, $\\epsilon 25$\t&4.12$\\pm$0.71\t&3.43$\\pm$ 0.50\t&3.12\t&83.94\t\t&2.50\t\t&85.36\t&2.29\t\t&29.83\t \n",
      "$\\Uparrow \\Uparrow K_{can}$, $\\epsilon 50$\t&4.21$\\pm$0.71\t&3.29$\\pm$ 0.55\t&3.15\t&84.13\t\t&2.44\t\t&84.99\t&2.34\t\t&31.23\t \n",
      "$\\Uparrow \\Uparrow K_{can}$, $\\epsilon 100$\t&4.51$\\pm$0.64\t&3.40$\\pm$ 0.46\t&3.33\t&84.99\t\t&2.50\t\t&85.36\t&2.37\t\t&32.00\t \n",
      "$\\Uparrow \\Uparrow K_{can}$, $\\epsilon 15$\t&4.08$\\pm$0.65\t&3.47$\\pm$ 0.41\t&3.09\t&83.83\t\t&2.53\t\t&85.49\t&2.24\t\t&28.31\t \n",
      "$\\Uparrow \\Uparrow K_{can}$, $\\epsilon 75$\t&4.39$\\pm$0.67\t&3.36$\\pm$ 0.50\t&3.26\t&84.64\t\t&2.47\t\t&85.18\t&2.36\t\t&31.71\t \n",
      "$\\Uparrow \\Uparrow K_{can}$, $\\epsilon 150$\t&4.70$\\pm$0.61\t&3.50$\\pm$ 0.40\t&3.43\t&85.41\t\t&2.54\t\t&85.59\t&2.37\t\t&32.09\t \n",
      "$\\uparrow \\uparrow K_{can}$\t&3.77$\\pm$0.62\t&2.71$\\pm$ 0.13\t&2.82\t&82.24\t\t&2.22\t\t&83.50\t&2.06\t\t&21.73\t \n",
      "$\\Uparrow \\uparrow K_{can}$\t&4.05$\\pm$0.50\t&3.21$\\pm$ 0.29\t&3.00\t&83.33\t\t&2.44\t\t&84.96\t&2.17\t\t&25.95\t \n",
      "$\\uparrow \\uparrow K_{can}$ $\\epsilon 25$\t&3.73$\\pm$0.63\t&2.65$\\pm$ 0.13\t&2.80\t&82.12\t\t&2.19\t\t&83.27\t&2.04\t\t&21.29\t \n",
      "$\\uparrow \\uparrow K_{can}$ $\\epsilon 100$\t&3.70$\\pm$0.67\t&2.57$\\pm$ 0.17\t&2.79\t&82.05\t\t&2.15\t\t&82.99\t&2.04\t\t&21.04\t \n",
      "$\\Uparrow \\uparrow K_{can}$ $\\epsilon 25$\t&3.98$\\pm$0.53\t&3.09$\\pm$ 0.30\t&2.97\t&83.15\t\t&2.37\t\t&84.54\t&2.21\t\t&27.24\t \n",
      "$\\Uparrow \\uparrow K_{can}$, $\\epsilon 100$\t&4.14$\\pm$0.56\t&3.04$\\pm$ 0.27\t&3.05\t&83.59\t\t&2.33\t\t&84.27\t&2.23\t\t&27.89\t \n",
      "$\\Uparrow \\uparrow \\uparrow K_{can}$\t&4.08$\\pm$0.54\t&3.35$\\pm$ 0.33\t&3.05\t&83.60\t\t&2.49\t\t&85.30\t&2.17\t\t&25.84\t \n",
      "$\\Uparrow \\Uparrow \\uparrow K_{can}$\t&4.17$\\pm$0.65\t&3.51$\\pm$ 0.39\t&3.11\t&83.88\t\t&2.53\t\t&85.54\t&2.14\t\t&24.69\t \n",
      "$\\Uparrow K_{can}$\t&3.91$\\pm$0.56\t&2.93$\\pm$ 0.16\t&2.90\t&82.73\t\t&2.32\t\t&84.21\t&2.13\t\t&24.45\t \n",
      "$\\uparrow K_{can}$\t&3.65$\\pm$0.67\t&2.57$\\pm$ 0.13\t&2.76\t&81.87\t\t&2.16\t\t&83.01\t&2.01\t\t&20.02\t \n",
      "$\\Uparrow \\Uparrow K_{can}$\t&4.09$\\pm$0.58\t&3.39$\\pm$ 0.37\t&3.07\t&83.69\t\t&2.51\t\t&85.39\t&2.15\t\t&25.33\t \n"
     ]
    }
   ],
   "source": [
    "print (\"\\t\".join(['Exp name&','Phi 1E4&','PhiTr 1E5&', 'Total HCW $10^{10}$ m$^3$&', \n",
    "                  'CanyonHCW (%)&',  'TotTrMassHCW $10^{11}$ $\\mu$Mm$^3$&', 'CanyonTrMassHCW (%)&',\n",
    "                  'TotalTrMass $10^{11}$ $\\mu$Mm$^3$&', 'CanyonTrMass (%) ' ]))\n",
    "\n",
    "    \n",
    "for rec,recNoC in zip(records_sel,records_selNoC):\n",
    "    \n",
    "    \n",
    "    print (\"\\t\".join(['%s\\t&%0.2f$\\pm$%0.2f\\t&%0.2f$\\pm$ %0.2f\\t&%.2f\\t&%.2f\\t\\t&%.2f\\t\\t&%.2f\\t&%.2f\\t\\t&%.2f\\t ' \n",
    "                      % (rec.label2,\n",
    "                         rec.Phi/1E4,rec.Phi_std/1E4,\n",
    "                         rec.PhiTr/1E5, rec.PhiTr_std/1E5,\n",
    "                         (rec.HCW[18]-rec.HCW[0])/1E10,\n",
    "                         (((rec.HCW[18]-rec.HCW[0])-(recNoC.HCW[18]-recNoC.HCW[0]))/(rec.HCW[18]-rec.HCW[0]))*100,\n",
    "                         (rec.TrMass[18]-rec.TrMass[0])/1E11,\n",
    "                         (((rec.TrMass[18]-rec.TrMass[0])-\n",
    "                           (recNoC.TrMass[18]-recNoC.TrMass[0]))/(rec.TrMass[18]-rec.TrMass[0]))*100,\n",
    "                         (rec.TrMassTot[18]-rec.TrMassTot[0])/1E11,\n",
    "                         (((rec.TrMassTot[18]-rec.TrMassTot[0]-\n",
    "                            recNoC.TrMassTot[18]+recNoC.TrMassTot[0]))/(rec.TrMassTot[18]-rec.TrMassTot[0]))*100)\n",
    "                     ]))\n",
    "    "
   ]
  }
 ],
 "metadata": {
  "anaconda-cloud": {},
  "kernelspec": {
   "display_name": "Python [default]",
   "language": "python",
   "name": "python3"
  },
  "language_info": {
   "codemirror_mode": {
    "name": "ipython",
    "version": 3
   },
   "file_extension": ".py",
   "mimetype": "text/x-python",
   "name": "python",
   "nbconvert_exporter": "python",
   "pygments_lexer": "ipython3",
   "version": "3.5.4"
  }
 },
 "nbformat": 4,
 "nbformat_minor": 1
}
