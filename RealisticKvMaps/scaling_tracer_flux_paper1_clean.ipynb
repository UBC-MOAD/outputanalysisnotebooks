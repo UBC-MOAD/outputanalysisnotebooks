{
 "cells": [
  {
   "cell_type": "markdown",
   "metadata": {},
   "source": [
    "## Final rescale for paper 1"
   ]
  },
  {
   "cell_type": "markdown",
   "metadata": {},
   "source": [
    "Final figures for the scaling section of paper 1 and cleaner fits for:\n",
    "\n",
    "* Maximum and minimum squeezing of isopyncals (max $N^2/N^2_0$, min $N^2/N^2_0$ )\n",
    "* Effective stratification ($N_{eff}$)\n",
    "* Upwelling flux induced by the canyon ($\\Phi$)\n",
    "\n",
    "* Maximum and minimum squeezing of isopyncals iso-concentration lines (max $\\partial_zC/\\partial_zC_0$, min $\\partial_zC/\\partial_zC_0$ ) *These won't be necessary for the paper(?)* \n",
    "* Mean concentration just above the rim during the advective phase ($\\bar{C}$)\n",
    "* Tracer upwelling flux induced by the canyon ($\\Phi_{Tr}$)"
   ]
  },
  {
   "cell_type": "code",
   "execution_count": 1,
   "metadata": {
    "collapsed": true
   },
   "outputs": [],
   "source": [
    "%matplotlib inline\n",
    "import matplotlib.pyplot as plt\n",
    "import matplotlib.colors as mcolors\n",
    "import matplotlib.gridspec as gspec\n",
    "from matplotlib.ticker import FormatStrFormatter\n",
    "from netCDF4 import Dataset\n",
    "import numpy as np\n",
    "import os\n",
    "import pandas as pd\n",
    "import seaborn as sns\n",
    "import sys\n",
    "import scipy.stats\n",
    "import warnings\n",
    "warnings.filterwarnings(\"ignore\")\n",
    "import canyon_tools.readout_tools as rout \n",
    "import canyon_tools.metrics_tools as mpt"
   ]
  },
  {
   "cell_type": "code",
   "execution_count": 2,
   "metadata": {
    "collapsed": false
   },
   "outputs": [
    {
     "data": {
      "text/html": [
       "<script>\n",
       "code_show=true; \n",
       "function code_toggle() {\n",
       " if (code_show){\n",
       " $('div.input').hide();\n",
       " } else {\n",
       " $('div.input').show();\n",
       " }\n",
       " code_show = !code_show\n",
       "} \n",
       "$( document ).ready(code_toggle);\n",
       "</script>\n",
       "<form action=\"javascript:code_toggle()\"><input type=\"submit\" value=\"Click here to toggle on/off the raw code.\"></form>"
      ],
      "text/plain": [
       "<IPython.core.display.HTML object>"
      ]
     },
     "execution_count": 2,
     "metadata": {},
     "output_type": "execute_result"
    }
   ],
   "source": [
    "from IPython.display import HTML\n",
    "\n",
    "HTML('''<script>\n",
    "code_show=true; \n",
    "function code_toggle() {\n",
    " if (code_show){\n",
    " $('div.input').hide();\n",
    " } else {\n",
    " $('div.input').show();\n",
    " }\n",
    " code_show = !code_show\n",
    "} \n",
    "$( document ).ready(code_toggle);\n",
    "</script>\n",
    "<form action=\"javascript:code_toggle()\"><input type=\"submit\" value=\"Click here to toggle on/off the raw code.\"></form>''')\n"
   ]
  },
  {
   "cell_type": "code",
   "execution_count": 3,
   "metadata": {
    "collapsed": false
   },
   "outputs": [],
   "source": [
    "sns.set_context('paper')\n",
    "sns.set_style('white')"
   ]
  },
  {
   "cell_type": "code",
   "execution_count": 4,
   "metadata": {
    "collapsed": true
   },
   "outputs": [],
   "source": [
    "CanyonGrid='/data/kramosmu/results/TracerExperiments/CNTDIFF/run38/gridGlob.nc'\n",
    "CanyonGridOut = Dataset(CanyonGrid)\n",
    "\n",
    "CanyonGridNoC='/data/kramosmu/results/TracerExperiments/CNTDIFF/run68/gridGlob.nc'\n",
    "CanyonGridOutNoC = Dataset(CanyonGridNoC)\n",
    "\n",
    "CanyonState='/data/kramosmu/results/TracerExperiments/CNTDIFF/run38/stateGlob.nc'\n",
    "CanyonStateOut = Dataset(CanyonState)\n",
    "\n",
    "# Grid variables\n",
    "nx = 616\n",
    "ny = 360\n",
    "nz = 90\n",
    "nt = 19 # t dimension size \n",
    "time = CanyonStateOut.variables['T']\n",
    "RC = CanyonGridOut.variables['RC']"
   ]
  },
  {
   "cell_type": "code",
   "execution_count": 5,
   "metadata": {
    "collapsed": false
   },
   "outputs": [],
   "source": [
    "# Constants and scales\n",
    "\n",
    "g = 9.81 # accel. gravity\n",
    "Hs = 149.8 # Shelf break depth\n",
    "s = 0.0061 # shelf slope \n",
    "\n",
    "def Dh(f,L,N):\n",
    "    '''Vertical scale Dh'''\n",
    "    return((f*L)/(N))\n",
    "    \n",
    "def Ro(U,f,R):\n",
    "    '''Rossby number'''\n",
    "    return(U/(f*R))\n",
    "\n",
    "def F(Ro):\n",
    "    '''Function that estimates the ability of the flow to follow isobaths'''\n",
    "    return(Ro/(0.9+Ro))\n",
    "\n",
    "def Bu(N,f,W,Hs):\n",
    "    '''Burger number'''\n",
    "    return((N*Hs)/(f*W))\n",
    "\n",
    "def RossbyRad(N,Hs,f):\n",
    "    '''1st Rossby radius of deformation'''\n",
    "    return((N*Hs)/f)\n",
    "\n",
    "def SE(s,N,f,Fw,Rl):\n",
    "    '''Slope effect '''\n",
    "    return((s*N)/(f*(Fw/Rl)**0.5))"
   ]
  },
  {
   "cell_type": "code",
   "execution_count": 6,
   "metadata": {
    "collapsed": false
   },
   "outputs": [],
   "source": [
    "# Information for all runs is stored in canyon_records.py\n",
    "lib_path = os.path.abspath('/ocean/kramosmu/OutputAnalysis/outputanalysisnotebooks/PythonScripts/Paper1Figures/') # Add absolute path to my python scripts\n",
    "sys.path.append(lib_path)\n",
    "\n",
    "import canyon_records \n",
    "records = canyon_records.main()\n",
    "\n",
    "import nocanyon_records \n",
    "recordsNoC = nocanyon_records.main()"
   ]
  },
  {
   "cell_type": "markdown",
   "metadata": {},
   "source": [
    "### Not all runs are used to fit all variables\n",
    "\n",
    "**records_dyn** has all runs where f, N or U vary. USe this list to fit upwelling flux $\\Phi$ and modify *Howatt and Allen 2013*.\n",
    "\n",
    "**records_epsilon** has all runs in records_dyn plus the runs with a heaviside Kv profile. Use this list to fit $\\Phi$ with scaled N.\n",
    "\n",
    "**records_real** has all runs in records_epsilon plus the runs with a Kv profile inspired in observations."
   ]
  },
  {
   "cell_type": "code",
   "execution_count": 7,
   "metadata": {
    "collapsed": false
   },
   "outputs": [
    {
     "name": "stdout",
     "output_type": "stream",
     "text": [
      "0 base case CNTDIFF_run38\n",
      "1 $\\uparrow$ $K_{bg}$ CNTDIFF_run37\n",
      "2 $\\uparrow \\uparrow$ $K_{bg}$ CNTDIFF_run36\n",
      "3 $\\uparrow$ $N_0$ CNTDIFF_run45\n",
      "4 $\\uparrow \\uparrow$ $N_0$ CNTDIFF_run73\n",
      "5 $\\Downarrow$ $N_0$ CNTDIFF_run75\n",
      "51 $\\downarrow \\downarrow N_0$ CNTDIFF_run81\n",
      "6 $\\downarrow$ $N_0$ CNTDIFF_run79\n",
      "7 $\\uparrow f$ CNTDIFF_run67\n",
      "8 $\\downarrow \\downarrow$ $f$ CNTDIFF_run51\n",
      "9 $\\downarrow f$ CNTDIFF_run69\n",
      "10 $\\Downarrow f$ CNTDIFF_run71\n",
      "17 $\\downarrow$ U LOWER_BF_run01\n",
      "18 $\\downarrow \\downarrow$ U LOW_BF_run01\n",
      "19 $\\Downarrow$ U LOWEST_BF_run01\n",
      "20 $\\Downarrow$ U, $\\downarrow \\downarrow$ $N_0$ LOWEST_BF_run03\n",
      "21 $\\Downarrow$ U, $\\uparrow \\uparrow$ $N_0$ LOWEST_BF_run05\n",
      "22 $\\Downarrow$ U, $\\Downarrow$ $f$ LOWEST_BF_run07\n",
      "23 $\\Downarrow$ U, $\\uparrow \\uparrow K_{can}$ LOWEST_BF_run11\n",
      "24 $K_{can}$ Monterey (bot) 3DVISC_REALISTIC_run01\n",
      "25 $K_{can}$ Eel (bot) 3DVISC_REALISTIC_run02\n",
      "26 $K_{can}$ Monterey 3DVISC_REALISTIC_run03\n",
      "27 $K_{can}$ Ascension (bot) 3DVISC_REALISTIC_run05\n",
      "29 $\\Uparrow \\Uparrow K_{can}$, $\\epsilon 10$ 3DVISC_REALISTIC_run07\n",
      "30 $\\Uparrow \\Uparrow K_{can}$, $\\epsilon 25$ 3DVISC_REALISTIC_run08\n",
      "31 $\\Uparrow \\Uparrow K_{can}$, $\\epsilon 50$ 3DVISC_REALISTIC_run09\n",
      "32 $\\Uparrow \\Uparrow K_{can}$, $\\epsilon 100$ 3DVISC_REALISTIC_run10\n",
      "33 $\\Uparrow \\Uparrow K_{can}$, $\\epsilon 15$ 3DVISC_REALISTIC_run11\n",
      "34 $\\Uparrow \\Uparrow K_{can}$, $\\epsilon 75$ 3DVISC_REALISTIC_run12\n",
      "35 $\\Uparrow \\Uparrow K_{can}$, $\\epsilon 150$ 3DVISC_REALISTIC_run13\n",
      "38 $\\uparrow \\uparrow K_{can}$ 3DVISC_REALISTIC_run16\n",
      "39 $\\Uparrow \\uparrow K_{can}$ 3DVISC_REALISTIC_run17\n",
      "41 $\\uparrow \\uparrow K_{can}$ $\\epsilon 25$ 3DVISC_REALISTIC_run19\n",
      "42 $\\uparrow \\uparrow K_{can}$ $\\epsilon 100$ 3DVISC_REALISTIC_run20\n",
      "43 $\\Uparrow \\uparrow K_{can}$ $\\epsilon 25$ 3DVISC_REALISTIC_run21\n",
      "44 $\\Uparrow \\uparrow K_{can}$, $\\epsilon 100$ 3DVISC_REALISTIC_run22\n",
      "45 $\\Uparrow \\uparrow \\uparrow K_{can}$ 3DVISC_REALISTIC_run23\n",
      "46 $\\Uparrow \\Uparrow \\uparrow K_{can}$ 3DVISC_REALISTIC_run24\n",
      "47 $\\Uparrow K_{can}$ 3DVISC_REALISTIC_run25\n",
      "48 $\\uparrow K_{can}$ 3DVISC_REALISTIC_run26\n",
      "49 $\\Uparrow \\Uparrow K_{can}$ 3DVISC_REALISTIC_run27\n",
      "52 2xL base LONGER_CNY_run01\n",
      "53 2xL, lowest $U$ LONGER_CNY_LOWEST_U_run01\n",
      "54 1.5xL, base LONGER_CNY2_run01\n",
      "55 1.5xL, lower $U$ LONGER_CNY2_LOWER_U_run01\n",
      "56 2xL, lower $U$ LONGER_CNY_LOWER_U_run01\n",
      "57 2xL, lower $U$, lower $f$ LONGER_CNY_LOWER_U_run02\n",
      "58 1.5xL, low $U$, low $f$ LONGER_CNY_LOWER_U_run03\n",
      "59 1.5xL, low $U$, low $N$ LONGER_CNY_LOWER_U_run04\n",
      "60 2xL, low $U$, low $N$ LONGER_CNY_LOWER_U_run05\n"
     ]
    }
   ],
   "source": [
    "# Indices of all runs that will be considered for paper 1\n",
    "\n",
    "select_rec = [0,1,2,3,4,5,51,6,7,8,9,10,17,18,19,20,21,\n",
    "              22,23,24,25,26,27,29,30,31,32,33,\n",
    "              34,35,38,39,41,42,43,44,45,46,47,48,49,52, 53, 54, 55, 56, 57, 58, 59, 60]\n",
    "\n",
    "for ii in select_rec:\n",
    "    print(ii,records[ii].label2, records[ii].name)"
   ]
  },
  {
   "cell_type": "code",
   "execution_count": 8,
   "metadata": {
    "collapsed": true
   },
   "outputs": [],
   "source": [
    "# records_dyn has all the runs without the ones where K_bg changes. Use these ones for fitting the data HA2013\n",
    "ind = [0,3,4,5,51,6,7,8,9,10,17,18,19,20,21,22] \n",
    "records_dyn = []\n",
    "for ii in ind:\n",
    "    records_dyn.append(records[ii])\n",
    "\n",
    "# records_epsilon has all the runs in records_step plus the epsilon runs (use these to fit Nmax+Nmin)\n",
    "ind = [0,3,4,5,51,6,7,8,9,10,17,18,19,20,21,22,29,30,31,32,33,\n",
    "       34,38,39,41,42,43,44,45,46,47,48,49,52, 53, 54, 55, 56, 57, 58, 59, 60]\n",
    "records_epsilon = []\n",
    "for ii in ind:\n",
    "    records_epsilon.append(records[ii])\n",
    "\n",
    "# records_real has all the runs in records_epsilon plus the realistic runs\n",
    "ind = [0,3,4,5,51,6,7,8,9,10,17,18,19,20,21,22,29,30,31,32,33,\n",
    "       34,38,41,42,39,43,44,45,46,47,48,49,24,25,26,27,52,53, 54, 55, 56, 57, 58, 59, 60]\n",
    "records_real = []\n",
    "for ii in ind:\n",
    "    records_real.append(records[ii])"
   ]
  },
  {
   "cell_type": "code",
   "execution_count": 9,
   "metadata": {
    "collapsed": false
   },
   "outputs": [],
   "source": [
    "records_sel = []\n",
    "\n",
    "for ind in select_rec:\n",
    "    records_sel.append(records[ind])\n",
    "    file = ('/data/kramosmu/results/TracerExperiments/%s/HCW_TrMass_%s%s.csv' \n",
    "            %(records[ind].exp_code,records[ind].exp_code,records[ind].run_num))\n",
    "    dfcan = pd.read_csv(file)\n",
    "    records[ind].HCW = dfcan['HCW']\n",
    "    records[ind].HCWTr1 = dfcan['HCWTr1']\n",
    "    records[ind].TrMass = dfcan['TrMassHCW']\n",
    "    records[ind].TrMassTr1 = dfcan['TrMassHCWTr1']\n",
    "    records[ind].TrMassTr2 = dfcan['TrMassHCWTr2']\n",
    "    records[ind].TrMassTot = dfcan['TotTrMass']\n",
    "    records[ind].TrMassTotTr2 = dfcan['TotTrMassTr2']\n",
    "    records[ind].TrMassTotTr1 = dfcan['TotTrMassTr1']"
   ]
  },
  {
   "cell_type": "code",
   "execution_count": 10,
   "metadata": {
    "collapsed": false
   },
   "outputs": [],
   "source": [
    "# records_selNoC = []\n",
    "\n",
    "# for ind in select_rec:\n",
    "#     records_selNoC.append(recordsNoC[ind])\n",
    "#     file = ('/data/kramosmu/results/TracerExperiments/%s/HCW_TrMass_%s%s.csv' \n",
    "#             %(recordsNoC[ind].exp_code,recordsNoC[ind].exp_code,recordsNoC[ind].run_num))\n",
    "#     dfcan = pd.read_csv(file)\n",
    "#     recordsNoC[ind].HCW = dfcan['HCW']\n",
    "#     recordsNoC[ind].HCWTr1 = dfcan['HCWTr1']\n",
    "#     recordsNoC[ind].TrMass = dfcan['TrMassHCW']\n",
    "#     recordsNoC[ind].TrMassTr1 = dfcan['TrMassHCWTr1']\n",
    "#     recordsNoC[ind].TrMassTr2 = dfcan['TrMassHCWTr2']\n",
    "#     recordsNoC[ind].TrMassTot = dfcan['TotTrMass']\n",
    "#     recordsNoC[ind].TrMassTotTr2 = dfcan['TotTrMassTr2']\n",
    "#     recordsNoC[ind].TrMassTotTr1 = dfcan['TotTrMassTr1']"
   ]
  },
  {
   "cell_type": "code",
   "execution_count": 11,
   "metadata": {
    "collapsed": false
   },
   "outputs": [
    {
     "name": "stdout",
     "output_type": "stream",
     "text": [
      "16592.7\n",
      "16592.7\n",
      "12407.7\n",
      "12407.7\n",
      "16592.7\n",
      "16592.7\n",
      "12407.7\n",
      "12407.7\n",
      "16592.7\n"
     ]
    }
   ],
   "source": [
    "t=6.5\n",
    "stname = 'UwH' #Station downstream head of canyon\n",
    "\n",
    "keys2 = ['N_tt12','N_tt14']\n",
    "\n",
    "for ind in select_rec:\n",
    "    \n",
    "    filename1 = ('/ocean/kramosmu/OutputAnalysis/outputanalysisnotebooks/results/metricsDataFrames/N_%s_%s.csv' %\n",
    "                 (records[ind].name,stname))\n",
    "    df = pd.read_csv(filename1)\n",
    "    Nab = np.empty(len(keys2))\n",
    "    Nbe = np.empty(len(keys2))\n",
    "    \n",
    "    if records[ind].L > 13000:\n",
    "        print(records[ind].L)\n",
    "        for key,ii in zip(keys2, range(len(keys2))):\n",
    "            Nab[ii] = np.max(df[keys2[ii]][:]) \n",
    "            Nbe[ii] = np.min(df[keys2[ii]][12:16]) \n",
    "    \n",
    "    elif (records[ind].L < 13000) & (records[ind].L > 8500):\n",
    "        print(records[ind].L)\n",
    "        for key,ii in zip(keys2, range(len(keys2))):\n",
    "            Nab[ii] = np.max(df[keys2[ii]][:]) \n",
    "            Nbe[ii] = np.min(df[keys2[ii]][16:19]) \n",
    "    \n",
    "        \n",
    "    else:\n",
    "        for key,ii in zip(keys2, range(len(keys2))):\n",
    "            Nab[ii] = np.max(df[keys2[ii]][:]) \n",
    "            Nbe[ii] = np.min(df[keys2[ii]][20:23]) \n",
    "        \n",
    "        \n",
    "    records[ind].Nab = np.mean(Nab)\n",
    "    records[ind].Nbe = np.mean(Nbe)\n",
    "    records[ind].Nab_std = np.std(Nab)\n",
    "    records[ind].Nbe_std = np.std(Nbe)"
   ]
  },
  {
   "cell_type": "code",
   "execution_count": 12,
   "metadata": {
    "collapsed": false
   },
   "outputs": [],
   "source": [
    "keys2 = ['dTrdz_tt08','dTrdz_tt10','dTrdz_tt12','dTrdz_tt14','dTrdz_tt16','dTrdz_tt18']\n",
    "\n",
    "for ind in select_rec:\n",
    "    \n",
    "    filename1 = ('/ocean/kramosmu/OutputAnalysis/outputanalysisnotebooks/results/metricsDataFrames/dTr1dz_%s_%s.csv' %\n",
    "                 (records[ind].name,stname))\n",
    "    df = pd.read_csv(filename1)\n",
    "    dTrab = 0\n",
    "    dTrbe = 0\n",
    "    \n",
    "    if records[ind].L > 13000:\n",
    "        for key,ii in zip(keys2, range(len(keys2))):\n",
    "            dTrab = dTrab + np.min(df[keys2[ii]][:]) \n",
    "            dTrbe = dTrbe + np.max(df[keys2[ii]][12:16]) \n",
    "        records[ind].dTr0 = df['dTrdz_tt00'][10] \n",
    "    \n",
    "    elif (records[ind].L < 13000) & (records[ind].L > 8500):\n",
    "        for key,ii in zip(keys2, range(len(keys2))):\n",
    "            dTrab = dTrab + np.min(df[keys2[ii]][:]) \n",
    "            dTrbe = dTrbe + np.max(df[keys2[ii]][16:19]) \n",
    "        records[ind].dTr0 = df['dTrdz_tt00'][10] \n",
    "   \n",
    "    else:\n",
    "        for key,ii in zip(keys2, range(len(keys2))):\n",
    "            dTrab = dTrab + np.min(df[keys2[ii]][:]) #0:20\n",
    "            dTrbe = dTrbe + np.max(df[keys2[ii]][20:23]) #20:24\n",
    "        records[ind].dTr0 = df['dTrdz_tt00'][10]\n",
    "    records[ind].dTr_ab = dTrab/  len(keys2)\n",
    "    records[ind].dTr_be = dTrbe/  len(keys2)\n",
    "    "
   ]
  },
  {
   "cell_type": "code",
   "execution_count": 13,
   "metadata": {
    "collapsed": false
   },
   "outputs": [],
   "source": [
    "keys2 = ['Tr_profile_tt08','Tr_profile_tt10','Tr_profile_tt12','Tr_profile_tt14','Tr_profile_tt16','Tr_profile_tt18']\n",
    "\n",
    "for ind in select_rec:\n",
    "    \n",
    "    filename1 = ('/ocean/kramosmu/OutputAnalysis/outputanalysisnotebooks/results/metricsDataFrames/Tr1_profile_%s_%s.csv' %\n",
    "                 (records[ind].name,stname))\n",
    "    df = pd.read_csv(filename1)\n",
    "    Nab = np.zeros(len(keys2))\n",
    "    \n",
    "    if records[ind].L > 13000:\n",
    "        for key,ii in zip(keys2, range(len(keys2))):\n",
    "            Nab[ii] = np.nanmean(df[keys2[ii]][11:13]) # just above rim depth\n",
    "        records[ind].Tr0 = (df['Tr_profile_tt00'][13])\n",
    "    elif (records[ind].L < 13000) & (records[ind].L > 8500):\n",
    "        for key,ii in zip(keys2, range(len(keys2))):\n",
    "            Nab[ii] = np.nanmean(df[keys2[ii]][15:17]) # just above rim depth\n",
    "        records[ind].Tr0 = (df['Tr_profile_tt00'][17])\n",
    "    else:\n",
    "        for key,ii in zip(keys2, range(len(keys2))):\n",
    "            Nab[ii] = np.nanmean(df[keys2[ii]][19:21]) # just above rim depth\n",
    "        records[ind].Tr0 = (df['Tr_profile_tt00'][21])\n",
    "    \n",
    "    records[ind].Tr = np.nanmean(Nab)\n",
    "    records[ind].Tr_std = np.std(Nab)\n",
    "    "
   ]
  },
  {
   "cell_type": "markdown",
   "metadata": {},
   "source": [
    "## Stratification and upwelling flux\n",
    "\n",
    "In previous notebooks I found that the upwelling flux is porportional to an effective stratification $N_{eff}$ given by the weighted sum of the maximum stratification above the rim, near the head and the minimum stratification below the rim:\n",
    "\n",
    "$$N_{eff} = {0.75N_{max}+0.25N_{min}}$$\n",
    "\n",
    "So first, we scale $N_{max}$ and $N_{min}$ using the information we got from the 1D model and modifications to the 1D model due to the enhanced diffusion above the rim when $\\epsilon$ is larger than the step case.\n",
    "\n",
    "Once we get both N's, we can scale $N_{eff}$ and use it in the depth scale $D_h$ in the scaling for $\\Phi$ by Howatt and Allen as $D_{eff}=fL/N_{eff}$, with proper fitting parameters."
   ]
  },
  {
   "cell_type": "code",
   "execution_count": 14,
   "metadata": {
    "collapsed": false
   },
   "outputs": [],
   "source": [
    "# Get kv form initial files\n",
    "\n",
    "records_kv_files = [24,25,26,27,29,30,31,32,33,34,38,39,41,42,43,44,45,46,47,48,49]\n",
    "\n",
    "kv_dir = '/ocean/kramosmu/Building_canyon/BuildCanyon/Stratification/616x360x90/'\n",
    "ini_kv_files = [kv_dir + 'KrDiff_Mty_90zlev_616x360_Quad.bin',\n",
    "                kv_dir + 'KrDiff_Eel_90zlev_616x360_Quad.bin',\n",
    "                kv_dir + 'KrDiff_Mty_rim_90zlev_616x360_Quad.bin',\n",
    "                kv_dir + 'KrDiff_Asc_90zlev_616x360_Quad.bin',\n",
    "                kv_dir + 'KrDiff_e10_kv1E2_90zlev_616x360_Quad.bin',\n",
    "                kv_dir + 'KrDiff_e25_kv1E2_90zlev_616x360_Quad.bin',\n",
    "                kv_dir + 'KrDiff_e50_kv1E2_90zlev_616x360_Quad.bin',\n",
    "                kv_dir + 'KrDiff_e100_kv1E2_90zlev_616x360_Quad.bin',\n",
    "                kv_dir + 'KrDiff_e15_kv1E2_90zlev_616x360_Quad.bin',\n",
    "                kv_dir + 'KrDiff_e75_kv1E2_90zlev_616x360_Quad.bin',\n",
    "                kv_dir + 'KrDiff_e05_kv1E3_90zlev_616x360_Quad.bin',\n",
    "                kv_dir + 'KrDiff_e05_kv5E3_90zlev_616x360_Quad.bin',\n",
    "                kv_dir + 'KrDiff_e25_kv1E3_90zlev_616x360_Quad.bin',\n",
    "                kv_dir + 'KrDiff_e100_kv1E3_90zlev_616x360_Quad.bin',\n",
    "                kv_dir + 'KrDiff_e25_kv5E3_90zlev_616x360_Quad.bin',\n",
    "                kv_dir + 'KrDiff_e100_kv5E3_90zlev_616x360_Quad.bin',\n",
    "                kv_dir + 'KrDiff_e05_kv8E3_90zlev_616x360_Quad.bin',\n",
    "                kv_dir + 'KrDiff_e05_exact1p2E2_90zlev_616x360_Quad.bin',\n",
    "                kv_dir + 'KrDiff_e05_kv2p5E3_90zlev_616x360_Quad.bin',\n",
    "                kv_dir + 'KrDiff_e05_kv5E4_90zlev_616x360_Quad.bin',\n",
    "                kv_dir + 'KrDiff_e05_exact_nosmooth_90zlev_616x360_Quad.bin',\n",
    "                ]\n",
    "\n",
    "dt = np.dtype('>f8')  # float 64 big endian\n",
    "st = [240, 200] # y, x indices of UwH station\n",
    "Hrim = 135\n",
    "dd = 1\n",
    "ini_kv_profiles = np.zeros((len(ini_kv_files),nz))\n",
    "\n",
    "for file, ii in zip(ini_kv_files, records_kv_files):\n",
    "    data = np.fromfile(file, dt)\n",
    "    ini_kv = np.reshape(data,(90,360,616),order='C')\n",
    "    \n",
    "    KK = ini_kv[:, st[0], st[1]] \n",
    "    \n",
    "    records[ii].Zdif = (((KK[int(Hrim/5)+1]-KK[int(Hrim/5)-1]))*t*3600*24)**0.5\n",
    "    records[ii].dk =  KK[int(Hrim/5)+1]-KK[int(Hrim/5)-1]\n",
    "    records[ii].Kz =  KK[int(Hrim/5)-4]\n",
    "    records[ii].Kz_be =  KK[int(Hrim/5)+4]"
   ]
  },
  {
   "cell_type": "code",
   "execution_count": 15,
   "metadata": {
    "collapsed": false
   },
   "outputs": [],
   "source": [
    "for rec in records_real:\n",
    "\n",
    "    Dz = abs(RC[int(Hrim/5)+1]-RC[int(Hrim/5)-1])\n",
    "    rec.Z = ((rec.f*rec.u_mod*F(Ro(rec.u_mod,rec.f,rec.R))*rec.L)**(0.5))/rec.N\n",
    "    \n",
    "    if rec.kv == rec.kbg:\n",
    "        rec.Zdif = 0\n",
    "        rec.Sdif_min = np.exp(-0.15*rec.Zdif/Dz) # -0.1 comes from the 1D model\n",
    "        rec.dk = 0\n",
    "        rec.Kz = 1E-5\n",
    "        rec.Kz_be = 1E-5\n",
    "        rec.Sdif_max = (rec.Zdif/Dz)*np.exp(-(rec.Kz*t*3600*24)/((rec.epsilon)**2))\n",
    "    \n",
    "    else:\n",
    "        rec.Sdif_min = np.exp(-0.15*rec.Zdif/Dz)\n",
    "        rec.Sdif_max = (rec.Zdif/Dz)*np.exp(-(rec.Kz*t*3600*24)/((rec.epsilon)**2))\n",
    "        \n",
    "    rec.S_max = (rec.Z/rec.Hh)*np.exp(-rec.Kz*t*3600*24/rec.Z**2)\n",
    "    rec.S_min = (rec.Z/rec.Hh)*np.exp(-rec.Kz_be*t*3600*24/rec.Z**2)"
   ]
  },
  {
   "cell_type": "code",
   "execution_count": 16,
   "metadata": {
    "collapsed": false
   },
   "outputs": [
    {
     "name": "stdout",
     "output_type": "stream",
     "text": [
      "LONGER_CNY_LOWER_U_run05\n"
     ]
    }
   ],
   "source": [
    "print(rec.name)"
   ]
  },
  {
   "cell_type": "code",
   "execution_count": 17,
   "metadata": {
    "collapsed": false
   },
   "outputs": [],
   "source": [
    "X1_be = np.array([rec.S_min for rec in records_epsilon])\n",
    "X2_be = np.array([rec.Sdif_min for rec in records_epsilon])\n",
    "Y_be = np.array([(rec.Nbe)**2/(rec.N**2) for rec in records_epsilon])\n",
    "\n",
    "X1_ab = np.array([rec.S_max for rec in records_epsilon])\n",
    "X2_ab = np.array([rec.Sdif_max for rec in records_epsilon])\n",
    "Y_ab = np.array([(rec.Nab)**2/(rec.N**2) for rec in records_epsilon])"
   ]
  },
  {
   "cell_type": "code",
   "execution_count": 18,
   "metadata": {
    "collapsed": false
   },
   "outputs": [
    {
     "name": "stdout",
     "output_type": "stream",
     "text": [
      "min $N^2/N^2_0$ = 0.38 $S^-$ + 3.32 $(1-S^-_{diff})$  -1.11 \n",
      "max $N^2/N^2_0$ = 2.32 $S^+$ + 0.31 $S^+_{diff}$ + 3.43 \n"
     ]
    }
   ],
   "source": [
    "from sklearn import linear_model\n",
    "reg_be = linear_model.LinearRegression()\n",
    "reg_be.fit (np.transpose([X1_be,X2_be]),np.transpose(Y_be) )\n",
    "print(r'min $N^2/N^2_0$ = %1.2f $S^-$ + %1.2f $(1-S^-_{diff})$  %1.2f ' %\n",
    "      (reg_be.coef_[0],reg_be.coef_[1],reg_be.intercept_))\n",
    "\n",
    "reg_ab = linear_model.LinearRegression()\n",
    "reg_ab.fit (np.transpose([X1_ab, X2_ab]),np.transpose(Y_ab) )\n",
    "print(r'max $N^2/N^2_0$ = %1.2f $S^+$ + %1.2f $S^+_{diff}$ + %1.2f ' %\n",
    "      (reg_ab.coef_[0],reg_ab.coef_[1],reg_ab.intercept_))"
   ]
  },
  {
   "cell_type": "code",
   "execution_count": 19,
   "metadata": {
    "collapsed": false
   },
   "outputs": [],
   "source": [
    "# Save values of N_eff and Phi\n",
    "\n",
    "for rec in records_sel:  \n",
    "    can_eff = rec.HCW\n",
    "    Phi = np.mean(np.array([(can_eff[ii]-can_eff[ii-1])/(time[ii]-time[ii-1]) \n",
    "                            for ii in range (8,18)]))\n",
    "    Phi_std = np.std(np.array([(can_eff[ii]-can_eff[ii-1])/(time[ii]-time[ii-1]) \n",
    "                               for ii in range (8,18)]))\n",
    "    rec.Phi = Phi\n",
    "    rec.Phi_std = Phi_std\n",
    "\n",
    "for rec in records_real:\n",
    "    rec.Nbe_scaled =  np.sqrt(reg_be.coef_[0]*rec.S_min +\n",
    "                              reg_be.coef_[1]*rec.Sdif_min +\n",
    "                              reg_be.intercept_)*rec.N\n",
    "    rec.Nab_scaled =  np.sqrt(reg_ab.coef_[0]*rec.S_max +\n",
    "                              reg_ab.coef_[1]*rec.Sdif_max +\n",
    "                              reg_ab.intercept_)*rec.N\n",
    "     \n",
    "    if  (reg_be.coef_[0]*rec.S_min+ reg_be.coef_[1]*rec.Sdif_min +\n",
    "         reg_be.intercept_)< 0 :\n",
    "        rec.N_eff_scaled = (0.75*rec.Nab_scaled)\n",
    "    else:\n",
    "        rec.N_eff_scaled =  (0.75*rec.Nab_scaled + 0.25*rec.Nbe_scaled) \n",
    "    \n",
    "    rec.Neff = (0.75*rec.Nab+0.25*rec.Nbe)"
   ]
  },
  {
   "cell_type": "code",
   "execution_count": 20,
   "metadata": {
    "collapsed": false
   },
   "outputs": [
    {
     "name": "stdout",
     "output_type": "stream",
     "text": [
      "Using parameter 0.30: slope = 1.07, intercept = 0.011, r-value = 0.682\n",
      "Using parameter 0.31: slope = 1.10, intercept = 0.010, r-value = 0.687\n",
      "Using parameter 0.32: slope = 1.12, intercept = 0.010, r-value = 0.692\n",
      "Using parameter 0.32: slope = 1.15, intercept = 0.009, r-value = 0.697\n",
      "Using parameter 0.33: slope = 1.18, intercept = 0.008, r-value = 0.702\n",
      "Using parameter 0.34: slope = 1.21, intercept = 0.008, r-value = 0.707\n",
      "Using parameter 0.35: slope = 1.24, intercept = 0.007, r-value = 0.712\n",
      "Using parameter 0.35: slope = 1.27, intercept = 0.007, r-value = 0.717\n",
      "Using parameter 0.36: slope = 1.30, intercept = 0.006, r-value = 0.722\n",
      "Using parameter 0.37: slope = 1.33, intercept = 0.005, r-value = 0.727\n",
      "Using parameter 0.38: slope = 1.37, intercept = 0.005, r-value = 0.732\n",
      "Using parameter 0.38: slope = 1.40, intercept = 0.004, r-value = 0.737\n",
      "Using parameter 0.39: slope = 1.44, intercept = 0.004, r-value = 0.742\n",
      "Using parameter 0.40: slope = 1.47, intercept = 0.003, r-value = 0.747\n",
      "Using parameter 0.41: slope = 1.51, intercept = 0.002, r-value = 0.752\n",
      "Using parameter 0.41: slope = 1.55, intercept = 0.002, r-value = 0.757\n",
      "Using parameter 0.42: slope = 1.58, intercept = 0.001, r-value = 0.762\n",
      "Using parameter 0.43: slope = 1.62, intercept = 0.001, r-value = 0.767\n",
      "Using parameter 0.44: slope = 1.66, intercept = -0.000, r-value = 0.772\n",
      "Using parameter 0.44: slope = 1.70, intercept = -0.001, r-value = 0.777\n",
      "Using parameter 0.45: slope = 1.74, intercept = -0.001, r-value = 0.782\n",
      "Using parameter 0.46: slope = 1.79, intercept = -0.002, r-value = 0.787\n",
      "Using parameter 0.47: slope = 1.83, intercept = -0.003, r-value = 0.792\n",
      "Using parameter 0.47: slope = 1.87, intercept = -0.003, r-value = 0.796\n",
      "Using parameter 0.48: slope = 1.92, intercept = -0.004, r-value = 0.801\n",
      "Using parameter 0.49: slope = 1.96, intercept = -0.004, r-value = 0.806\n",
      "Using parameter 0.50: slope = 2.01, intercept = -0.005, r-value = 0.810\n",
      "Using parameter 0.51: slope = 2.05, intercept = -0.005, r-value = 0.815\n",
      "Using parameter 0.51: slope = 2.10, intercept = -0.006, r-value = 0.819\n",
      "Using parameter 0.52: slope = 2.15, intercept = -0.007, r-value = 0.824\n",
      "Using parameter 0.53: slope = 2.20, intercept = -0.007, r-value = 0.828\n",
      "Using parameter 0.54: slope = 2.25, intercept = -0.008, r-value = 0.832\n",
      "Using parameter 0.54: slope = 2.30, intercept = -0.008, r-value = 0.837\n",
      "Using parameter 0.55: slope = 2.35, intercept = -0.009, r-value = 0.841\n",
      "Using parameter 0.56: slope = 2.40, intercept = -0.009, r-value = 0.845\n",
      "Using parameter 0.57: slope = 2.45, intercept = -0.010, r-value = 0.849\n",
      "Using parameter 0.57: slope = 2.51, intercept = -0.010, r-value = 0.852\n",
      "Using parameter 0.58: slope = 2.56, intercept = -0.011, r-value = 0.856\n",
      "Using parameter 0.59: slope = 2.62, intercept = -0.011, r-value = 0.860\n",
      "Using parameter 0.60: slope = 2.67, intercept = -0.011, r-value = 0.863\n",
      "Using parameter 0.60: slope = 2.73, intercept = -0.012, r-value = 0.866\n",
      "Using parameter 0.61: slope = 2.78, intercept = -0.012, r-value = 0.870\n",
      "Using parameter 0.62: slope = 2.84, intercept = -0.013, r-value = 0.873\n",
      "Using parameter 0.63: slope = 2.89, intercept = -0.013, r-value = 0.876\n",
      "Using parameter 0.63: slope = 2.95, intercept = -0.013, r-value = 0.878\n",
      "Using parameter 0.64: slope = 3.01, intercept = -0.014, r-value = 0.881\n",
      "Using parameter 0.65: slope = 3.06, intercept = -0.014, r-value = 0.884\n",
      "Using parameter 0.66: slope = 3.12, intercept = -0.014, r-value = 0.886\n",
      "Using parameter 0.66: slope = 3.18, intercept = -0.014, r-value = 0.888\n",
      "Using parameter 0.67: slope = 3.24, intercept = -0.015, r-value = 0.890\n",
      "Using parameter 0.68: slope = 3.30, intercept = -0.015, r-value = 0.892\n",
      "Using parameter 0.69: slope = 3.35, intercept = -0.015, r-value = 0.894\n",
      "Using parameter 0.69: slope = 3.41, intercept = -0.015, r-value = 0.895\n",
      "Using parameter 0.70: slope = 3.47, intercept = -0.015, r-value = 0.897\n",
      "Using parameter 0.71: slope = 3.53, intercept = -0.015, r-value = 0.898\n",
      "Using parameter 0.72: slope = 3.59, intercept = -0.015, r-value = 0.899\n",
      "Using parameter 0.73: slope = 3.64, intercept = -0.015, r-value = 0.900\n",
      "Using parameter 0.73: slope = 3.70, intercept = -0.015, r-value = 0.901\n",
      "Using parameter 0.74: slope = 3.76, intercept = -0.015, r-value = 0.901\n",
      "Using parameter 0.75: slope = 3.82, intercept = -0.015, r-value = 0.901\n",
      "Using parameter 0.76: slope = 3.87, intercept = -0.015, r-value = 0.901\n",
      "Using parameter 0.76: slope = 3.93, intercept = -0.015, r-value = 0.901\n",
      "Using parameter 0.77: slope = 3.99, intercept = -0.015, r-value = 0.901\n",
      "Using parameter 0.78: slope = 4.04, intercept = -0.015, r-value = 0.901\n",
      "Using parameter 0.79: slope = 4.10, intercept = -0.014, r-value = 0.900\n",
      "Using parameter 0.79: slope = 4.15, intercept = -0.014, r-value = 0.900\n",
      "Using parameter 0.80: slope = 4.21, intercept = -0.014, r-value = 0.899\n",
      "Using parameter 0.81: slope = 4.26, intercept = -0.014, r-value = 0.897\n",
      "Using parameter 0.82: slope = 4.31, intercept = -0.013, r-value = 0.896\n",
      "Using parameter 0.82: slope = 4.36, intercept = -0.013, r-value = 0.895\n",
      "Using parameter 0.83: slope = 4.42, intercept = -0.013, r-value = 0.893\n",
      "Using parameter 0.84: slope = 4.47, intercept = -0.012, r-value = 0.891\n",
      "Using parameter 0.85: slope = 4.52, intercept = -0.012, r-value = 0.889\n",
      "Using parameter 0.85: slope = 4.57, intercept = -0.011, r-value = 0.887\n",
      "Using parameter 0.86: slope = 4.62, intercept = -0.011, r-value = 0.885\n",
      "Using parameter 0.87: slope = 4.67, intercept = -0.011, r-value = 0.882\n",
      "Using parameter 0.88: slope = 4.72, intercept = -0.010, r-value = 0.880\n",
      "Using parameter 0.88: slope = 4.76, intercept = -0.010, r-value = 0.877\n",
      "Using parameter 0.89: slope = 4.81, intercept = -0.009, r-value = 0.874\n",
      "Using parameter 0.90: slope = 4.86, intercept = -0.009, r-value = 0.871\n"
     ]
    }
   ],
   "source": [
    "# find best slope parameter to use\n",
    "\n",
    "for param in np.linspace(0.3, 0.9, 80):\n",
    "    for rec in records_real:\n",
    "        Se = SE(s, rec.N, rec.f, F(Ro(rec.u_mod,rec.f,rec.Wiso)), Ro(rec.u_mod,rec.f,rec.L))\n",
    "        rec.X = ((F(Ro(rec.u_mod,rec.f,rec.Wiso)))**(1.5))*((Ro(rec.u_mod,rec.f,rec.L))**(0.5))*((1-param*Se)**3)\n",
    "\n",
    "        rec.Phi_nonDim = rec.Phi/(rec.u_mod*rec.W*Dh(rec.f,rec.L,rec.N_eff_scaled))\n",
    "        \n",
    "    Y_array = np.array([rec.Phi_nonDim for rec in records_epsilon])\n",
    "    X_array = np.array([rec.X for rec in records_epsilon])\n",
    "\n",
    "    slope2, intercept2, r_value2, p_value2, std_err2 = scipy.stats.linregress(X_array,Y_array)\n",
    "\n",
    "    print('Using parameter %1.2f: slope = %1.2f, intercept = %1.3f, r-value = %1.3f' %(param, slope2, intercept2, r_value2))"
   ]
  },
  {
   "cell_type": "code",
   "execution_count": 21,
   "metadata": {
    "collapsed": false
   },
   "outputs": [],
   "source": [
    "# My re-fit of Howatt and Allen's function for Phi gave:\n",
    "slope = 2.10\n",
    "param = 0.40\n",
    "intercept = -0.004\n",
    "\n",
    "#Using parameter 0.52: slope = 4.47, intercept = -0.015, r-value = 0.973\n",
    "\n",
    "slope2 = 3.89\n",
    "param2 = 0.77\n",
    "intercept2 = -0.015\n",
    "\n",
    "for rec in records_real:\n",
    "    \n",
    "    Se = SE(s, rec.N, rec.f, F(Ro(rec.u_mod,rec.f,rec.Wiso)), Ro(rec.u_mod,rec.f,rec.L))\n",
    "    \n",
    "    HA2013=((slope*(F(Ro(rec.u_mod,rec.f,rec.Wiso))**(3/2))*(Ro(rec.u_mod,rec.f,rec.L)**(1/2))*((1-param*Se)**3))+intercept)\n",
    "    RA2018 = (slope2*(F(Ro(rec.u_mod,rec.f,rec.Wiso))**(3/2))*(Ro(rec.u_mod,rec.f,rec.L)**(1/2))*((1-param2*Se)**3))+intercept2\n",
    "\n",
    "    rec.HA2013 = HA2013\n",
    "    rec.HA2013_sqe = (rec.Phi-rec.HA2013)**2\n",
    "    \n",
    "    rec.RA2018 = RA2018\n",
    "    rec.RA2018_sqe = (rec.Phi-rec.RA2018)**2"
   ]
  },
  {
   "cell_type": "markdown",
   "metadata": {
    "collapsed": true
   },
   "source": [
    "### Tracer gradient"
   ]
  },
  {
   "cell_type": "code",
   "execution_count": 22,
   "metadata": {
    "collapsed": true
   },
   "outputs": [],
   "source": [
    "X1_be = np.array([rec.S_min for rec in records_epsilon])\n",
    "X2_be = np.array([rec.Sdif_min for rec in records_epsilon])\n",
    "Y_be = np.array([(rec.dTr_be)/(rec.dTr0) for rec in records_epsilon])\n",
    "\n",
    "X1_ab = np.array([rec.S_max for rec in records_epsilon])\n",
    "X2_ab = np.array([rec.Sdif_max for rec in records_epsilon])\n",
    "Y_ab = np.array([(rec.dTr_ab)/(rec.dTr0) for rec in records_epsilon])"
   ]
  },
  {
   "cell_type": "code",
   "execution_count": 23,
   "metadata": {
    "collapsed": false
   },
   "outputs": [
    {
     "name": "stdout",
     "output_type": "stream",
     "text": [
      "min $dzC/dzCo$ = 0.92 $S^-$ + 2.79 $S^-_{diff}$  -0.96 \n",
      "max $dzC/dzCo$ = 2.32 $S^+$ + 0.31 $S^+_{diff}$  3.40 \n"
     ]
    }
   ],
   "source": [
    "from sklearn import linear_model\n",
    "reg_be_dTr = linear_model.LinearRegression()\n",
    "reg_be_dTr.fit (np.transpose([X1_be,X2_be]),np.transpose(Y_be) )\n",
    "print(r'min $dzC/dzCo$ = %1.2f $S^-$ + %1.2f $S^-_{diff}$  %1.2f ' %\n",
    "      (reg_be_dTr.coef_[0],reg_be_dTr.coef_[1],reg_be_dTr.intercept_))\n",
    "\n",
    "reg_ab_dTr = linear_model.LinearRegression()\n",
    "reg_ab_dTr.fit (np.transpose([X1_ab, X2_ab]),np.transpose(Y_ab) )\n",
    "print(r'max $dzC/dzCo$ = %1.2f $S^+$ + %1.2f $S^+_{diff}$  %1.2f ' %\n",
    "      (reg_ab_dTr.coef_[0],reg_ab_dTr.coef_[1],reg_ab_dTr.intercept_))\n"
   ]
  },
  {
   "cell_type": "code",
   "execution_count": 24,
   "metadata": {
    "collapsed": true
   },
   "outputs": [],
   "source": [
    "# save values of dTr scaled and PhiTr\n",
    "for rec in records_sel:\n",
    "    can_eff = rec.TrMass\n",
    "    Phi_Tr = np.mean(np.array([(can_eff[ii]-can_eff[ii-1])/(time[ii]-time[ii-1]) for ii in range (12,18)]))\n",
    "    Phi_Tr_std = np.std(np.array([(can_eff[ii]-can_eff[ii-1])/(time[ii]-time[ii-1]) for ii in range (12,18)]))\n",
    "    \n",
    "    rec.PhiTr = Phi_Tr\n",
    "    rec.PhiTr_std = Phi_Tr_std\n",
    "\n",
    "for rec in records_real:\n",
    "    rec.dTr_ab_scaled = (reg_ab_dTr.coef_[0]*rec.S_max+\n",
    "                         reg_ab_dTr.coef_[1]*rec.Sdif_max+\n",
    "                         reg_ab_dTr.intercept_)*rec.dTr0\n",
    "    rec.dTr_be_scaled = (reg_be_dTr.coef_[0]*rec.S_min+\n",
    "                         reg_be_dTr.coef_[1]*(1-rec.Sdif_min)+\n",
    "                         reg_be_dTr.intercept_)*rec.dTr0"
   ]
  },
  {
   "cell_type": "markdown",
   "metadata": {},
   "source": [
    "### Concentration"
   ]
  },
  {
   "cell_type": "code",
   "execution_count": 25,
   "metadata": {
    "collapsed": false
   },
   "outputs": [
    {
     "name": "stdout",
     "output_type": "stream",
     "text": [
      "$\\bar{C}/Co$ = 0.10 $S^+$ + 0.06 $S^+_{diff}$  1.11 \n",
      "4.33891201019\n",
      "-0.0359832525253\n"
     ]
    }
   ],
   "source": [
    "# Fit mean concentration just above the rim - I know using the max \n",
    "# worked slightly better (smaller mse). Co is the initial concentration just above rim depth\n",
    "\n",
    "X1_tr = np.array([rec.S_max for rec in records_epsilon])\n",
    "X2_tr = np.array([rec.Sdif_max for rec in records_epsilon])\n",
    "Y_tr = np.array([(rec.Tr/rec.Tr0) for rec in records_epsilon])\n",
    "\n",
    "reg_Tr = linear_model.LinearRegression()\n",
    "reg_Tr.fit (np.transpose([X1_tr,X2_tr]),np.transpose(Y_tr) )\n",
    "print(r'$\\bar{C}/Co$ = %1.2f $S^+$ + %1.2f $S^+_{diff}$  %1.2f ' %\n",
    "      (reg_Tr.coef_[0],reg_Tr.coef_[1],reg_Tr.intercept_))\n",
    "\n",
    "for rec in records_real:\n",
    "    rec.Tr_scaled = (reg_Tr.coef_[0]*(rec.S_max)+ reg_Tr.coef_[1]*(rec.Sdif_max)+\n",
    "                         reg_Tr.intercept_)*rec.Tr0\n",
    "print(rec.Tr0)\n",
    "print(rec.dTr0)"
   ]
  },
  {
   "cell_type": "markdown",
   "metadata": {},
   "source": [
    "### Tracer flux"
   ]
  },
  {
   "cell_type": "code",
   "execution_count": 26,
   "metadata": {
    "collapsed": false,
    "scrolled": true
   },
   "outputs": [
    {
     "name": "stdout",
     "output_type": "stream",
     "text": [
      "\\Phi/UWD_{eff} = 3.89 Fw^{3/2} Ro^{1/2} (1-0.77 *Se)^3 +-0.01\n",
      "\\Phi_{Tr} = 1.05 $\\Phi \\ bar{C}$ + 7239.77 \n"
     ]
    }
   ],
   "source": [
    "Y_array = np.array([rec.PhiTr for rec in records_epsilon])\n",
    "X_array = np.array([rec.RA2018*(rec.u_mod*rec.W*Dh(rec.f,rec.L,rec.N_eff_scaled))*\n",
    "                    (rec.Tr_scaled) for rec in records_epsilon])\n",
    "slope6, intercept6, r_value6, p_value6, std_err6 = scipy.stats.linregress(np.squeeze(X_array),\n",
    "                                                                          np.squeeze(Y_array))\n",
    "    \n",
    "for rec in records_real:\n",
    "    \n",
    "    depth_scale = Dh(rec.f,rec.L,rec.N_eff_scaled)\n",
    "        \n",
    "    rec.Phi_scaled = rec.RA2018*(rec.u_mod*rec.W*depth_scale)\n",
    "    rec.PhiTr_scaled = np.squeeze((slope6*rec.Phi_scaled*(rec.Tr_scaled))+intercept6)\n",
    "    \n",
    "print('\\Phi/UWD_{eff} = %1.2f Fw^{3/2} Ro^{1/2} (1-%1.2f *Se)^3 +%1.2f' %(slope2,param2,intercept2))    \n",
    "print('\\Phi_{Tr} = %1.2f $\\Phi \\ bar{C}$ + %1.2f ' %(slope6, intercept6))    "
   ]
  },
  {
   "cell_type": "markdown",
   "metadata": {},
   "source": [
    "## Figures"
   ]
  },
  {
   "cell_type": "code",
   "execution_count": 27,
   "metadata": {
    "collapsed": false
   },
   "outputs": [
    {
     "name": "stdout",
     "output_type": "stream",
     "text": [
      "MSE for Cbar/Co is 0.002482 and RMSE is 0.049823 \n",
      "CNTDIFF_run38 0.0113212340545\n",
      "CNTDIFF_run45 0.0127918278557\n",
      "CNTDIFF_run73 0.0148054366793\n",
      "CNTDIFF_run75 0.00965183838727\n",
      "CNTDIFF_run81 0.00983724846573\n",
      "CNTDIFF_run79 0.0103930254838\n",
      "CNTDIFF_run67 0.0113193080334\n",
      "CNTDIFF_run51 0.0113222410588\n",
      "CNTDIFF_run69 0.0113255826743\n",
      "CNTDIFF_run71 0.0113086318671\n",
      "LOWER_BF_run01 0.0111462587691\n",
      "LOW_BF_run01 0.0109460979328\n",
      "LOWEST_BF_run01 0.0104531362271\n",
      "LOWEST_BF_run03 0.00883135821298\n",
      "LOWEST_BF_run05 0.013850342367\n",
      "LOWEST_BF_run07 0.0104828354794\n",
      "3DVISC_REALISTIC_run07 0.0112547540008\n",
      "3DVISC_REALISTIC_run08 0.0113074492078\n",
      "3DVISC_REALISTIC_run09 0.0108401298277\n",
      "3DVISC_REALISTIC_run10 0.0107274547136\n",
      "3DVISC_REALISTIC_run11 0.0113889836069\n",
      "3DVISC_REALISTIC_run12 0.0107566452643\n",
      "3DVISC_REALISTIC_run16 0.0113039441312\n",
      "3DVISC_REALISTIC_run19 0.0113659294723\n",
      "3DVISC_REALISTIC_run20 0.0112744789336\n",
      "3DVISC_REALISTIC_run17 0.0112281634273\n",
      "3DVISC_REALISTIC_run21 0.0113598797121\n",
      "3DVISC_REALISTIC_run22 0.0110186024689\n",
      "3DVISC_REALISTIC_run23 0.0111121521387\n",
      "3DVISC_REALISTIC_run24 0.0108335700037\n",
      "3DVISC_REALISTIC_run25 0.0112783356403\n",
      "3DVISC_REALISTIC_run26 0.0113092306167\n",
      "3DVISC_REALISTIC_run27 0.0109032420459\n",
      "3DVISC_REALISTIC_run01 nan\n",
      "3DVISC_REALISTIC_run02 0.011237026543\n",
      "3DVISC_REALISTIC_run03 0.0111525437072\n",
      "3DVISC_REALISTIC_run05 0.0108788537583\n",
      "LONGER_CNY_run01 0.0133468272814\n",
      "LONGER_CNY_LOWEST_U_run01 0.0114969824657\n",
      "LONGER_CNY2_run01 0.0120942848035\n",
      "LONGER_CNY2_LOWER_U_run01 0.0115342321705\n",
      "LONGER_CNY_LOWER_U_run01 0.0126042806258\n",
      "LONGER_CNY_LOWER_U_run02 0.0126962491598\n",
      "LONGER_CNY_LOWER_U_run03 0.0123769388501\n",
      "LONGER_CNY_LOWER_U_run04 0.00982401221065\n",
      "LONGER_CNY_LOWER_U_run05 0.0107943724104\n"
     ]
    },
    {
     "data": {
      "image/png": "[encoded data removed]",
      "text/plain": [
       "<Figure size 360x360 with 4 Axes>"
      ]
     },
     "metadata": {},
     "output_type": "display_data"
    }
   ],
   "source": [
    "sns.set_context('paper')\n",
    "plt.rcParams['font.size'] = 11.0\n",
    "f = plt.figure(figsize = (5,5)) # 190mm = 7.48 in, 230cm = 9.05in\n",
    "\n",
    "gs = gspec.GridSpec(2, 2,wspace=0.2)\n",
    "ax1 = plt.subplot(gs[0,0])\n",
    "ax0 = plt.subplot(gs[0,1])\n",
    "ax3 = plt.subplot(gs[1,0])\n",
    "ax2 = plt.subplot(gs[1,1])\n",
    "\n",
    "\n",
    "# ---- plot 1:1 line ----\n",
    "ax0.plot(np.linspace(-0.1,3.5,20),np.linspace(-0.1,3.5,20), '-',color='0.5')\n",
    "ax1.plot(np.linspace(2,8,20),np.linspace(2,8,20), '-', color='0.5')\n",
    "ax2.plot(np.linspace(5, 17, 20),np.linspace(5,17, 20),'-', color='0.5')\n",
    "ax3.plot(np.linspace(1, 1.8, 20),np.linspace(1, 1.8, 20),'-', color='0.5')\n",
    "\n",
    "# ---- plot error -----\n",
    "# MSE ax0    \n",
    "phi_array = np.array([(rec.Nbe_scaled/rec.N)**2 for rec in records_epsilon])\n",
    "sca_array = np.array([(rec.Nbe)**2/(rec.N**2)  for rec in records_epsilon])\n",
    "x_fit = np.linspace(-0.1, 3.5, 50)\n",
    "mean_sq_err = np.nanmean(((phi_array)-(sca_array))**2)\n",
    "upper_bound = ax0.plot(x_fit,x_fit+(mean_sq_err)**(0.5),linestyle = '--',color='0.5')\n",
    "lower_bound = ax0.plot(x_fit,x_fit-(mean_sq_err)**(0.5),linestyle = '--',color='0.5')\n",
    "\n",
    "# MSE ax1    \n",
    "phi_array = np.array([(rec.Nab_scaled/rec.N)**2 for rec in records_epsilon])\n",
    "sca_array = np.array([(rec.Nab)**2/(rec.N**2) for rec in records_epsilon])\n",
    "x_fit = np.linspace(2,8, 50)\n",
    "mean_sq_err = np.mean(((phi_array)-(sca_array))**2)\n",
    "upper_bound = ax1.plot(x_fit,x_fit+(mean_sq_err)**(0.5),linestyle = '--',color='0.5')\n",
    "lower_bound = ax1.plot(x_fit,x_fit-(mean_sq_err)**(0.5),linestyle = '--',color='0.5')\n",
    "\n",
    "# MSE ax2    \n",
    "phi_array = np.array([rec.N_eff_scaled/1E-3 for rec in records_epsilon])\n",
    "sca_array = np.array([rec.Neff/1E-3 for rec in records_epsilon])\n",
    "x_fit = np.linspace(5,17, 50)\n",
    "mean_sq_err = np.mean(((phi_array)-(sca_array))**2)\n",
    "upper_bound = ax2.plot(x_fit,x_fit+(mean_sq_err)**(0.5),linestyle = '--',color='0.5')\n",
    "lower_bound = ax2.plot(x_fit,x_fit-(mean_sq_err)**(0.5),linestyle = '--',color='0.5')\n",
    "\n",
    "# MSE ax3    \n",
    "phi_array = np.squeeze(np.array([rec.Tr_scaled/rec.Tr0 for rec in records_epsilon]))\n",
    "sca_array = np.squeeze(np.array([rec.Tr/rec.Tr0 for rec in records_epsilon]))\n",
    "x_fit = np.linspace(1,1.8, 50)\n",
    "mean_sq_err = np.mean(((phi_array)-(sca_array))**2)\n",
    "print('MSE for Cbar/Co is %f and RMSE is %f ' %(mean_sq_err, mean_sq_err**(1/2)))\n",
    "upper_bound = ax3.plot(x_fit,x_fit+(mean_sq_err)**(0.5),linestyle = '--',color='0.5')\n",
    "lower_bound = ax3.plot(x_fit,x_fit-(mean_sq_err)**(0.5),linestyle = '--',color='0.5')\n",
    "\n",
    "# ---- plot scaling ----\n",
    "for rec in records_real:\n",
    "    \n",
    "    plt0 = ax0.plot((rec.Nbe_scaled/rec.N)**2,(rec.Nbe)**2/(rec.N**2),\n",
    "                    marker = rec.mstyle,\n",
    "                    markersize = 7,\n",
    "                    color = sns.xkcd_rgb[rec.color2],\n",
    "                    markeredgewidth=0.5,\n",
    "                    markeredgecolor = 'k',\n",
    "                    label=rec.label2)\n",
    "    \n",
    "    plt1 = ax1.plot((rec.Nab_scaled/rec.N)**2,(rec.Nab)**2/(rec.N**2),\n",
    "                    marker = rec.mstyle,\n",
    "                    markersize = 7,\n",
    "                    color = sns.xkcd_rgb[rec.color2],\n",
    "                    markeredgewidth=0.5,\n",
    "                    markeredgecolor = 'k',\n",
    "                    label=rec.label2) \n",
    "    \n",
    "    plt2 = ax2.plot(rec.N_eff_scaled/1E-3,rec.Neff/1E-3,\n",
    "                    marker = rec.mstyle,\n",
    "                    markersize = 7,\n",
    "                    color = sns.xkcd_rgb[rec.color2],\n",
    "                    markeredgewidth=0.5,\n",
    "                    markeredgecolor = 'k',\n",
    "                    label=rec.label2)\n",
    "    print(rec.name, rec.N_eff_scaled)\n",
    "    plt3 = ax3.plot(rec.Tr_scaled/rec.Tr0,\n",
    "                    (rec.Tr/rec.Tr0),\n",
    "                     marker = rec.mstyle,\n",
    "                     markersize = 7,\n",
    "                     color = sns.xkcd_rgb[rec.color2],\n",
    "                     markeredgewidth=0.5,\n",
    "                     markeredgecolor = 'k',\n",
    "                     label=rec.label2)\n",
    "\n",
    "    \n",
    "    \n",
    "# ---- aesthetics -----\n",
    "ax0.set_xlim(-0.1,3.5)\n",
    "ax0.set_ylim(-0.1,3.5)\n",
    "\n",
    "ax1.set_xlim(2,8)#\n",
    "ax1.set_ylim(2,8)\n",
    "\n",
    "ax2.set_xlim(7,15.5)\n",
    "ax2.set_ylim(7,15.5)\n",
    "\n",
    "ax3.set_xlim(1,1.62)\n",
    "ax3.set_ylim(1,1.62)\n",
    "\n",
    "\n",
    "ax0.set_ylabel('min $N^2/N^2_0$',labelpad=-1.5)\n",
    "ax1.set_ylabel('max $N^2/N^2_0$',labelpad=-1.5)\n",
    "ax0.set_xlabel(r'%1.2f$S^-$ + %1.2f$(1-S^-_{dif})$  %1.2f' %(reg_be.coef_[0], \n",
    "                                                         reg_be.coef_[1], \n",
    "                                                         reg_be.intercept_),labelpad=0.5)\n",
    "ax1.set_xlabel(r'%1.2f$S^+$ + %1.2f$S^+_{dif}$ + %1.2f' %(reg_ab.coef_[0], \n",
    "                                                          reg_ab.coef_[1], \n",
    "                                                          reg_ab.intercept_),labelpad=0.5)\n",
    "\n",
    "ax2.set_ylabel('$N_{eff}$ model / $10^{-3}$ s$^{-1}$', labelpad=0)\n",
    "ax2.set_xlabel('$N_{eff}$ scaled / $10^{-3}$ s$^{-1}$',labelpad=0.0)\n",
    "ax3.set_ylabel(r'$C_{rim}$ model /$C_0$', labelpad=0)\n",
    "ax3.set_xlabel(r'$\\bar{C}$ /$C_0$', labelpad=0.0)\n",
    "\n",
    "ax0.tick_params(axis='x', pad=2)\n",
    "ax1.tick_params(axis='x', pad=2)\n",
    "ax3.tick_params(axis='x', pad=2)\n",
    "ax2.tick_params(axis='x', pad=2)\n",
    "\n",
    "ax0.tick_params(axis='y', pad=2)\n",
    "ax1.tick_params(axis='y', pad=2)\n",
    "ax3.tick_params(axis='y', pad=2)\n",
    "ax2.tick_params(axis='y', pad=2)\n",
    "\n",
    "ax0.legend(bbox_to_anchor=(1.05,1.3), ncol=1,columnspacing=0.1,labelspacing=0.1,frameon=True )\n",
    "\n",
    "ax0.set_aspect(1)\n",
    "ax1.set_aspect(1)\n",
    "ax2.set_aspect(1)\n",
    "ax3.set_aspect(1)\n",
    "\n",
    "ax1.text(0.1,0.85,'Eqn. 22',transform=ax1.transAxes)\n",
    "ax0.text(0.1,0.85,'Eqn. 24',transform=ax0.transAxes)\n",
    "ax2.text(0.1,0.85,'Eqn. 27',transform=ax2.transAxes)\n",
    "ax3.text(0.1,0.85,'Eqn. 25',transform=ax3.transAxes)\n",
    "\n",
    "ax1.text(0.87,0.05,'(a)',transform=ax1.transAxes)\n",
    "ax0.text(0.87,0.05,'(b)',transform=ax0.transAxes)\n",
    "ax3.text(0.87,0.05,'(c)',transform=ax3.transAxes)\n",
    "ax2.text(0.87,0.05,'(d)',transform=ax2.transAxes)\n",
    "\n",
    "plt.savefig('figure10_v2.eps',format='eps',bbox_inches='tight')\n"
   ]
  },
  {
   "cell_type": "code",
   "execution_count": 28,
   "metadata": {
    "collapsed": false
   },
   "outputs": [
    {
     "name": "stdout",
     "output_type": "stream",
     "text": [
      "MSE for Cbar/Co is 0.002482 and RMSE is 0.049823 \n"
     ]
    },
    {
     "data": {
      "image/png": "[encoded data removed]",
      "text/plain": [
       "<Figure size 360x504 with 2 Axes>"
      ]
     },
     "metadata": {},
     "output_type": "display_data"
    }
   ],
   "source": [
    "sns.set_context('paper')\n",
    "plt.rcParams['font.size'] = 11.0\n",
    "f = plt.figure(figsize = (5,7)) # 190mm = 7.48 in, 230cm = 9.05in\n",
    "\n",
    "gs = gspec.GridSpec(1, 2,wspace=0.4)\n",
    "ax2 = plt.subplot(gs[0])\n",
    "ax3 = plt.subplot(gs[1])\n",
    "\n",
    "\n",
    "# ---- plot 1:1 line ----\n",
    "ax3.plot(np.linspace(5, 17, 20),np.linspace(5,17, 20),'-', color='0.5')\n",
    "ax2.plot(np.linspace(1, 1.8, 20),np.linspace(1, 1.8, 20),'-', color='0.5')\n",
    "\n",
    "# ---- plot error -----\n",
    "# MSE ax2    \n",
    "phi_array = np.array([rec.N_eff_scaled/1E-3 for rec in records_epsilon])\n",
    "sca_array = np.array([rec.Neff/1E-3 for rec in records_epsilon])\n",
    "x_fit = np.linspace(5,17, 50)\n",
    "mean_sq_err = np.mean(((phi_array)-(sca_array))**2)\n",
    "upper_bound = ax3.plot(x_fit,x_fit+(mean_sq_err)**(0.5),linestyle = '--',color='0.5')\n",
    "lower_bound = ax3.plot(x_fit,x_fit-(mean_sq_err)**(0.5),linestyle = '--',color='0.5')\n",
    "\n",
    "# MSE ax3    \n",
    "phi_array = np.squeeze(np.array([rec.Tr_scaled/rec.Tr0 for rec in records_epsilon]))\n",
    "sca_array = np.squeeze(np.array([rec.Tr/rec.Tr0 for rec in records_epsilon]))\n",
    "x_fit = np.linspace(1,1.8, 50)\n",
    "mean_sq_err = np.mean(((phi_array)-(sca_array))**2)\n",
    "upper_bound = ax2.plot(x_fit,x_fit+(mean_sq_err)**(0.5),linestyle = '--',color='0.5')\n",
    "lower_bound = ax2.plot(x_fit,x_fit-(mean_sq_err)**(0.5),linestyle = '--',color='0.5')\n",
    "print('MSE for Cbar/Co is %f and RMSE is %f ' %(mean_sq_err, mean_sq_err**(1/2)))\n",
    "\n",
    "# ---- plot scaling ----\n",
    "for rec in records_real:\n",
    "      \n",
    "    plt2 = ax3.plot(rec.N_eff_scaled/1E-3,rec.Neff/1E-3,\n",
    "                    marker = rec.mstyle,\n",
    "                    markersize = 7,\n",
    "                    color = sns.xkcd_rgb[rec.color2],\n",
    "                    markeredgewidth=0.5,\n",
    "                    markeredgecolor = 'k',\n",
    "                    label=rec.label2)\n",
    "    \n",
    "    plt3 = ax2.plot(rec.Tr_scaled/rec.Tr0,\n",
    "                    (rec.Tr/rec.Tr0),\n",
    "                     marker = rec.mstyle,\n",
    "                     markersize = 7,\n",
    "                     color = sns.xkcd_rgb[rec.color2],\n",
    "                     markeredgewidth=0.5,\n",
    "                     markeredgecolor = 'k',\n",
    "                     label=rec.label2)\n",
    "\n",
    "    \n",
    "    \n",
    "# ---- aesthetics -----\n",
    "#ax3.set_xlim(5,15.5)\n",
    "#ax3.set_ylim(5,15.5)\n",
    "\n",
    "#ax2.set_xlim(1,1.62)\n",
    "#ax2.set_ylim(1,1.62)\n",
    "\n",
    "\n",
    "ax3.set_ylabel('$N_{eff}$ model / $10^{-3}$ s$^{-1}$', labelpad=0)\n",
    "ax3.set_xlabel('$N_{eff}$ scaled / $10^{-3}$ s$^{-1}$',labelpad=0.0)\n",
    "ax2.set_ylabel(r'$C_{rim}$ model /$C_0$', labelpad=0)\n",
    "ax2.set_xlabel(r'$\\bar{C}$ /$C_0$', labelpad=0.0)\n",
    "\n",
    "ax3.tick_params(axis='x', pad=2)\n",
    "ax2.tick_params(axis='x', pad=2)\n",
    "\n",
    "ax3.tick_params(axis='y', pad=2)\n",
    "ax2.tick_params(axis='y', pad=2)\n",
    "\n",
    "ax2.legend(bbox_to_anchor=(3.2,-0.2), ncol=5,columnspacing=0.1,labelspacing=0.1,frameon=True )\n",
    "\n",
    "ax2.set_aspect(1)\n",
    "ax3.set_aspect(1)\n",
    "\n",
    "ax3.text(0.1,0.85,'Eqn. 27',transform=ax3.transAxes)\n",
    "ax2.text(0.1,0.85,'Eqn. 25',transform=ax2.transAxes)\n",
    "\n",
    "ax3.text(0.87,0.05,'(b)',transform=ax3.transAxes)\n",
    "ax2.text(0.87,0.05,'(a)',transform=ax2.transAxes)\n",
    "\n",
    "plt.savefig('scaling_w_Ls.eps',format='eps',bbox_inches='tight')\n"
   ]
  },
  {
   "cell_type": "code",
   "execution_count": 29,
   "metadata": {
    "collapsed": false
   },
   "outputs": [
    {
     "data": {
      "image/png": "[encoded data removed]",
      "text/plain": [
       "<Figure size 432x216 with 2 Axes>"
      ]
     },
     "metadata": {},
     "output_type": "display_data"
    }
   ],
   "source": [
    "sns.set_context('paper')\n",
    "plt.rcParams['font.size'] = 10.0\n",
    "f = plt.figure(figsize = (6,3)) # 190mm = 7.48 in, 230cm = 9.05in\n",
    "\n",
    "gs = gspec.GridSpec(1, 2)\n",
    "ax0 = plt.subplot(gs[0,0])\n",
    "ax1 = plt.subplot(gs[0,1])\n",
    "\n",
    "# ---- plot 1:1 lines ----\n",
    "ax0.plot(np.linspace(0,7,50),np.linspace(0,7,50),'-', color='0.5')\n",
    "ax1.plot(np.linspace(0,5.5,50),np.linspace(0,5.5,50),'-', color='0.5')\n",
    "\n",
    "# ---- plot errors ----\n",
    "# MSE ax0    \n",
    "phi_array = np.array([rec.Phi/1E4 for rec in records_dyn])\n",
    "sca_array = np.array([rec.Phi_scaled/1E4  for rec in records_dyn])\n",
    "x_fit = np.linspace(0,8, 50)\n",
    "mean_sq_err = np.mean(((phi_array)-(sca_array))**2)\n",
    "upper_bound = ax0.plot(x_fit,x_fit+(mean_sq_err)**(0.5),linestyle = '--',color='0.5')\n",
    "lower_bound = ax0.plot(x_fit,x_fit-(mean_sq_err)**(0.5),linestyle = '--',color='0.5')\n",
    "\n",
    "# MSE ax1    \n",
    "phi_array = np.array([rec.PhiTr_scaled/1E5 for rec in records_epsilon])\n",
    "sca_array = np.array([rec.PhiTr/1E5 for rec in records_epsilon])\n",
    "x_fit = np.linspace(0,6, 50)\n",
    "mean_sq_err = np.mean(((phi_array)-(sca_array))**2)\n",
    "upper_bound = ax1.plot(x_fit,x_fit+(mean_sq_err)**(0.5),linestyle = '--',color='0.5')\n",
    "lower_bound = ax1.plot(x_fit,x_fit-(mean_sq_err)**(0.5),linestyle = '--',color='0.5')\n",
    "\n",
    "# ---- plot scaling ----\n",
    "for rec in records_real:\n",
    "    \n",
    "    plt1 = ax0.errorbar(rec.Phi_scaled/1E4,\n",
    "                        rec.Phi/1E4,\n",
    "                        yerr=rec.Phi_std/1E4,\n",
    "                        marker = rec.mstyle,\n",
    "                        markersize = 8,\n",
    "                        color = sns.xkcd_rgb[rec.color2],\n",
    "                        markeredgewidth=0.5,\n",
    "                        markeredgecolor = 'k',\n",
    "                        label=rec.label2)\n",
    "    \n",
    "    plt1 = ax1.errorbar(rec.PhiTr_scaled/1E5,\n",
    "                        rec.PhiTr/1E5,\n",
    "                        yerr=rec.PhiTr_std/1E5,\n",
    "                        marker = rec.mstyle,\n",
    "                        markersize = 8,\n",
    "                        color = sns.xkcd_rgb[rec.color2],\n",
    "                        markeredgewidth=0.5,\n",
    "                        markeredgecolor = 'k',\n",
    "                        label=rec.label2)\n",
    "\n",
    "\n",
    "# ---- aesthetics ----\n",
    "ax0.set_ylabel('Phi',labelpad=0.5)\n",
    "ax0.set_ylabel('Upwelling flux / $10^4$ m$^3$s$^{-1}$', labelpad=-0.5)\n",
    "ax1.set_ylabel('Tracer flux / $10^5$ $\\mu$Mm$^3$s$^{-1}$', labelpad=-0.5)\n",
    "\n",
    "ax0.set_xlabel(r'$\\Phi$ / $10^4$ m$^3$s$^{-1}$', labelpad=-0.5 )\n",
    "ax1.set_xlabel(r'$\\Phi_{Tr}$ / $10^5$ $\\mu$Mm$^3$s$^{-1}$', labelpad=-0.5)\n",
    "\n",
    "ax0.set_xlim(-0.2,7.2)\n",
    "ax0.set_ylim(-0.2,7.2)\n",
    "\n",
    "ax1.set_xlim(-0.2,5.8)\n",
    "ax1.set_ylim(-0.2,5.8)\n",
    "\n",
    "ax0.text(0.1,0.85,'Eqn. 28',transform=ax0.transAxes)\n",
    "ax1.text(0.1,0.85,'Eqn. 29',transform=ax1.transAxes)\n",
    "\n",
    "ax0.text(0.9,0.05,'(a)',transform=ax0.transAxes)\n",
    "ax1.text(0.9,0.05,'(b)',transform=ax1.transAxes)\n",
    "\n",
    "ax0.tick_params(axis='x', pad=2)\n",
    "ax1.tick_params(axis='x', pad=2)\n",
    "\n",
    "ax0.tick_params(axis='y', pad=2)\n",
    "ax1.tick_params(axis='y', pad=2)\n",
    "\n",
    "ax0.set_aspect(1)\n",
    "ax1.set_aspect(1)\n",
    "#ax0.plot(57261.9871812/1E4,40630.372436/1E4, 'o', color='brown')\n",
    "#ax1.plot(520483.538981/1E5,298566.920079/1E5, 'o', color='brown')\n",
    "plt.savefig('figure11_v2.eps',format='eps',bbox_inches='tight')\n"
   ]
  },
  {
   "cell_type": "code",
   "execution_count": 30,
   "metadata": {
    "collapsed": false
   },
   "outputs": [
    {
     "name": "stdout",
     "output_type": "stream",
     "text": [
      "base\n",
      "higher $N$\n",
      "highest $N$\n",
      "lower $N$\n",
      "higher $N$\n",
      "medium $N$\n",
      "higher $f$\n",
      "lower $f$\n",
      "low $f$\n",
      "lowest $f$\n",
      "lower $U$\n",
      "low $U$\n",
      "lowest $U$\n",
      "lowest $U$, lowest $N$\n",
      "lowest $U$, highest $N$\n",
      "lowest $U$, lowest $f$\n",
      "$\\K_{can}=10^{-2}$, $\\epsilon=10$\n",
      "$\\K_{can}$, $\\epsilon=25$\n",
      "$\\K_{can}$, $\\epsilon=50$\n",
      "$\\K_{can}$, $\\epsilon=100$\n",
      "$\\K_{can}$, $\\epsilon=15$\n",
      "$\\K_{can}$, $\\epsilon=75$\n",
      "$\\K_{can}=5\\times10^{-3}$, $\\epsilon=5$\n",
      "$\\K_{can}=1\\times10^{-3}$, $\\epsilon=25$\n",
      "$\\K_{can}=1\\times10^{-3}$, $\\epsilon=100$\n",
      "$\\K_{can}=10^{-3}$, $\\epsilon=5$\n",
      "$\\K_{can}=5\\times10^{-3}$, $\\epsilon=25$\n",
      "$\\K_{can}=5\\times10^{-3}$, $\\epsilon=100$\n",
      "$K_{can}=8\\times10^{-3}$, $\\epsilon=5$\n",
      "$K_{can}=1.2\\times10^{-2}$, $\\epsilon=5$\n",
      "$K_{can}=2.5\\times10^{-3}$, $\\epsilon=5$\n",
      "$K_{can}=5\\times10^{-4}$, $\\epsilon=5$\n",
      "$K_{can}=10^{-2}$, $\\epsilon=5$\n",
      "$\\K_{can}$ Mty, bottom\n",
      "$\\K_{can}$ Eel, bottom\n",
      "$\\K_{can}$ Mty, rim\n",
      "$\\K_{can}$ Asc, bottom\n",
      "2xL base\n",
      "2xL, lowest $U$\n",
      "1.5xL, base\n",
      "1.5xL, lower $U$\n",
      "2xL, lower $U$\n",
      "2xL, lower $U$, lower $f$\n",
      "1.5xL, low $U$, low $f$\n",
      "1.5xL, low $U$, low $N$\n",
      "2xL, low $U$, low $N$\n"
     ]
    },
    {
     "data": {
      "image/png": "[encoded data removed]",
      "text/plain": [
       "<Figure size 432x158.4 with 3 Axes>"
      ]
     },
     "metadata": {},
     "output_type": "display_data"
    }
   ],
   "source": [
    "sns.set_context('paper')\n",
    "sns.set_style(\"white\")\n",
    "plt.rcParams['font.size'] = 10.0\n",
    "f = plt.figure(figsize = (6,2.2)) # 190mm = 7.48 in, 230cm = 9.05in\n",
    "\n",
    "gs = gspec.GridSpec(1, 2, width_ratios=(1.0,1), wspace=0.1)\n",
    "ax0 = plt.subplot(gs[0])\n",
    "ax1 = plt.subplot(gs[1])\n",
    "\n",
    "# ---- plot scaling ----\n",
    "for rec in records_real[:]:\n",
    "    print(rec.label)\n",
    "    plt1 = ax0.errorbar(rec.Phi/1E4,\n",
    "                        rec.PhiTr/1E5,\n",
    "                        yerr=rec.PhiTr_std/1E5,\n",
    "                        xerr = rec.Phi_std/1E4,\n",
    "                        marker = '.',\n",
    "                        markersize = 12,\n",
    "                        color = 'yellowgreen',\n",
    "                        markeredgewidth=1,\n",
    "                        markeredgecolor = 'k',\n",
    "                        label=rec.label2,\n",
    "                        capsize=2,\n",
    "                        ecolor = '0.7')\n",
    "    if rec.kv <= 1E-5:\n",
    "        plt1 = ax1.scatter(Ro(U=rec.u_mod, f=rec.f, R=rec.Wiso),\n",
    "                           Bu(rec.N, rec.f,rec.W,Hs),\n",
    "                           c = rec.PhiTr/1E5,\n",
    "                           vmin=0, vmax=5,\n",
    "                           cmap='Blues',\n",
    "                           marker = 'o',\n",
    "                           s = (rec.PhiTr/1E5)*25,\n",
    "                           linewidths=1,\n",
    "                           edgecolors='k',\n",
    "                           )\n",
    "    else:\n",
    "        plt1 = ax1.scatter(Ro(U=rec.u_mod, f=rec.f, R=rec.Wiso),\n",
    "                           Bu(rec.N, rec.f,rec.W,Hs),\n",
    "                           c = rec.PhiTr/1E5,\n",
    "                           vmin=0, vmax=5,\n",
    "                           cmap='Blues',\n",
    "                           marker = 'o',\n",
    "                           s = (rec.PhiTr/1E5)*25,\n",
    "                           linewidths=1,\n",
    "                           edgecolors='r',\n",
    "                           )\n",
    "# Longer canyon runs  \n",
    "cb=plt.colorbar(plt1 )\n",
    "cb.set_label('$10^5$ $\\mu$Mm$^3$s$^{-1}$')\n",
    "# ---- aesthetics ----\n",
    "ax0.set_xlabel('Upwelling flux / $10^4$ m$^3$s$^{-1}$', labelpad=-0.5)\n",
    "ax0.set_ylabel('Tracer flux / $10^5$ $\\mu$Mm$^3$s$^{-1}$', labelpad=-0.5)\n",
    "\n",
    "ax1.set_xlabel('$R_W$', labelpad=-0.5)\n",
    "ax1.set_ylabel('$Bu$', labelpad=-0.5)\n",
    "\n",
    "ax1.set_xlim(0,0.65)\n",
    "ax1.set_ylim(0.0,0.65)\n",
    "\n",
    "ax0.tick_params(axis='x', pad=2)\n",
    "ax0.tick_params(axis='y', pad=2)\n",
    "\n",
    "ax1.tick_params(axis='x', pad=2)\n",
    "ax1.tick_params(axis='y', pad=2)\n",
    "\n",
    "ax0.set_aspect(1)\n",
    "ax1.set_aspect(1)\n",
    "\n",
    "ax1.text(0.11,0.05,'Tracer Flux')\n",
    "\n",
    "ax0.text(0.9,0.05,'(a)',transform=ax0.transAxes)\n",
    "ax1.text(0.9,0.05,'(b)',transform=ax1.transAxes)\n",
    "plt.savefig('figure_fluxes_comparison.eps',format='eps',bbox_inches='tight')\n"
   ]
  },
  {
   "cell_type": "markdown",
   "metadata": {},
   "source": [
    "### Tables"
   ]
  },
  {
   "cell_type": "code",
   "execution_count": 31,
   "metadata": {
    "collapsed": false
   },
   "outputs": [
    {
     "name": "stdout",
     "output_type": "stream",
     "text": [
      "Experiment &\t$\\kappa_{bg}$ &\t$\\kappa_{can}$&\t$\\epsilon$&\n",
      "base case\t&$1.00e-05$\t&$1.00e-05$\t&$5$\t \n",
      "$\\uparrow$ $K_{bg}$\t&$1.00e-04$\t&$1.00e-04$\t&$5$\t \n",
      "$\\uparrow \\uparrow$ $K_{bg}$\t&$1.00e-03$\t&$1.00e-03$\t&$5$\t \n",
      "$\\uparrow$ $N_0$\t&$1.00e-05$\t&$1.00e-05$\t&$5$\t \n",
      "$\\uparrow \\uparrow$ $N_0$\t&$1.00e-05$\t&$1.00e-05$\t&$5$\t \n",
      "$\\Downarrow$ $N_0$\t&$1.00e-05$\t&$1.00e-05$\t&$5$\t \n",
      "$\\downarrow \\downarrow N_0$\t&$1.00e-05$\t&$1.00e-05$\t&$5$\t \n",
      "$\\downarrow$ $N_0$\t&$1.00e-05$\t&$1.00e-05$\t&$5$\t \n",
      "$\\uparrow f$\t&$1.00e-05$\t&$1.00e-05$\t&$5$\t \n",
      "$\\downarrow \\downarrow$ $f$\t&$1.00e-05$\t&$1.00e-05$\t&$5$\t \n",
      "$\\downarrow f$\t&$1.00e-05$\t&$1.00e-05$\t&$5$\t \n",
      "$\\Downarrow f$\t&$1.00e-05$\t&$1.00e-05$\t&$5$\t \n",
      "$\\downarrow$ U\t&$1.00e-05$\t&$1.00e-05$\t&$5$\t \n",
      "$\\downarrow \\downarrow$ U\t&$1.00e-05$\t&$1.00e-05$\t&$5$\t \n",
      "$\\Downarrow$ U\t&$1.00e-05$\t&$1.00e-05$\t&$5$\t \n",
      "$\\Downarrow$ U, $\\downarrow \\downarrow$ $N_0$\t&$1.00e-05$\t&$1.00e-05$\t&$5$\t \n",
      "$\\Downarrow$ U, $\\uparrow \\uparrow$ $N_0$\t&$1.00e-05$\t&$1.00e-05$\t&$5$\t \n",
      "$\\Downarrow$ U, $\\Downarrow$ $f$\t&$1.00e-05$\t&$1.00e-05$\t&$5$\t \n",
      "$\\Downarrow$ U, $\\uparrow \\uparrow K_{can}$\t&$1.00e-03$\t&$1.00e-03$\t&$5$\t \n",
      "$K_{can}$ Monterey (bot)\t&$6.84e-04$\t&$9.10e-03$\t&$10$\t \n",
      "$K_{can}$ Eel (bot)\t&$8.52e-05$\t&$1.22e-03$\t&$10$\t \n",
      "$K_{can}$ Monterey\t&$2.83e-04$\t&$8.11e-03$\t&$10$\t \n",
      "$K_{can}$ Ascension (bot)\t&$6.53e-04$\t&$1.50e-03$\t&$10$\t \n",
      "$\\Uparrow \\Uparrow K_{can}$, $\\epsilon 10$\t&$1.00e-05$\t&$1.00e-02$\t&$10$\t \n",
      "$\\Uparrow \\Uparrow K_{can}$, $\\epsilon 25$\t&$1.00e-05$\t&$1.00e-02$\t&$25$\t \n",
      "$\\Uparrow \\Uparrow K_{can}$, $\\epsilon 50$\t&$1.00e-05$\t&$1.00e-02$\t&$50$\t \n",
      "$\\Uparrow \\Uparrow K_{can}$, $\\epsilon 100$\t&$1.00e-05$\t&$1.00e-02$\t&$100$\t \n",
      "$\\Uparrow \\Uparrow K_{can}$, $\\epsilon 15$\t&$1.00e-05$\t&$1.00e-02$\t&$15$\t \n",
      "$\\Uparrow \\Uparrow K_{can}$, $\\epsilon 75$\t&$1.00e-05$\t&$1.00e-02$\t&$75$\t \n",
      "$\\Uparrow \\Uparrow K_{can}$, $\\epsilon 150$\t&$1.00e-05$\t&$1.00e-02$\t&$150$\t \n",
      "$\\uparrow \\uparrow K_{can}$\t&$1.00e-05$\t&$1.00e-03$\t&$5$\t \n",
      "$\\Uparrow \\uparrow K_{can}$\t&$1.00e-05$\t&$5.00e-03$\t&$5$\t \n",
      "$\\uparrow \\uparrow K_{can}$ $\\epsilon 25$\t&$1.00e-05$\t&$1.00e-03$\t&$25$\t \n",
      "$\\uparrow \\uparrow K_{can}$ $\\epsilon 100$\t&$1.00e-05$\t&$1.00e-03$\t&$100$\t \n",
      "$\\Uparrow \\uparrow K_{can}$ $\\epsilon 25$\t&$1.00e-05$\t&$5.00e-03$\t&$25$\t \n",
      "$\\Uparrow \\uparrow K_{can}$, $\\epsilon 100$\t&$1.00e-05$\t&$5.00e-03$\t&$100$\t \n",
      "$\\Uparrow \\uparrow \\uparrow K_{can}$\t&$1.00e-05$\t&$8.00e-03$\t&$5$\t \n",
      "$\\Uparrow \\Uparrow \\uparrow K_{can}$\t&$1.00e-05$\t&$1.20e-02$\t&$5$\t \n",
      "$\\Uparrow K_{can}$\t&$1.00e-05$\t&$2.50e-03$\t&$5$\t \n",
      "$\\uparrow K_{can}$\t&$1.00e-05$\t&$5.00e-04$\t&$5$\t \n",
      "$\\Uparrow \\Uparrow K_{can}$\t&$1.00e-05$\t&$1.00e-02$\t&$5$\t \n",
      "2xL base\t&$1.00e-05$\t&$1.00e-05$\t&$5$\t \n",
      "2xL, lowest $U$\t&$1.00e-05$\t&$1.00e-05$\t&$5$\t \n",
      "1.5xL, base\t&$1.00e-05$\t&$1.00e-05$\t&$5$\t \n",
      "1.5xL, lower $U$\t&$1.00e-05$\t&$1.00e-05$\t&$5$\t \n",
      "2xL, lower $U$\t&$1.00e-05$\t&$1.00e-05$\t&$5$\t \n",
      "2xL, lower $U$, lower $f$\t&$1.00e-05$\t&$1.00e-05$\t&$5$\t \n",
      "1.5xL, low $U$, low $f$\t&$1.00e-05$\t&$1.00e-05$\t&$5$\t \n",
      "1.5xL, low $U$, low $N$\t&$1.00e-05$\t&$1.00e-05$\t&$5$\t \n",
      "2xL, low $U$, low $N$\t&$1.00e-05$\t&$1.00e-05$\t&$5$\t \n"
     ]
    }
   ],
   "source": [
    "print (\"\\t\".join(['Experiment &','$\\kappa_{bg}$ &','$\\kappa_{can}$&','$\\epsilon$&'\n",
    "                 ]))\n",
    "\n",
    "    \n",
    "for rec in records_sel:\n",
    "     print (\"\\t\".join(['%s\\t&$%0.2e$\\t&$%0.2e$\\t&$%1.0f$\\t ' \n",
    "                      % (rec.label2,\n",
    "                         rec.kbg,\n",
    "                         rec.kv, \n",
    "                         rec.epsilon,\n",
    "                         )\n",
    "                       ]))"
   ]
  },
  {
   "cell_type": "code",
   "execution_count": 32,
   "metadata": {
    "collapsed": false
   },
   "outputs": [
    {
     "name": "stdout",
     "output_type": "stream",
     "text": [
      "Experiment &\t$N$ (s$^{-1}$)$&\t$f$ (s$^{-1}$)&\tU (ms$^{-1}$)&\t$Bu$&\t$R_L$\t$R_W$\n",
      "base case\t\t&$5.5e-03$\t&$9.66e-05$\t&$0.36$\t&$0.40$\t&$0.45$\t&$0.31$\t \n",
      "$\\uparrow$ $K_{bg}$\t\t&$5.5e-03$\t&$9.66e-05$\t&$0.36$\t&$0.40$\t&$0.45$\t&$0.30$\t \n",
      "$\\uparrow \\uparrow$ $K_{bg}$\t\t&$5.5e-03$\t&$9.66e-05$\t&$0.32$\t&$0.40$\t&$0.40$\t&$0.27$\t \n",
      "$\\uparrow$ $N_0$\t\t&$6.3e-03$\t&$9.66e-05$\t&$0.38$\t&$0.46$\t&$0.47$\t&$0.32$\t \n",
      "$\\uparrow \\uparrow$ $N_0$\t\t&$7.4e-03$\t&$9.66e-05$\t&$0.40$\t&$0.54$\t&$0.49$\t&$0.33$\t \n",
      "$\\Downarrow$ $N_0$\t\t&$4.6e-03$\t&$9.66e-05$\t&$0.35$\t&$0.34$\t&$0.43$\t&$0.29$\t \n",
      "$\\downarrow \\downarrow N_0$\t\t&$4.7e-03$\t&$9.66e-05$\t&$0.35$\t&$0.34$\t&$0.43$\t&$0.29$\t \n",
      "$\\downarrow$ $N_0$\t\t&$5.0e-03$\t&$9.66e-05$\t&$0.35$\t&$0.37$\t&$0.44$\t&$0.30$\t \n",
      "$\\uparrow f$\t\t&$5.5e-03$\t&$1.00e-04$\t&$0.36$\t&$0.39$\t&$0.43$\t&$0.29$\t \n",
      "$\\downarrow \\downarrow$ $f$\t\t&$5.5e-03$\t&$7.68e-05$\t&$0.39$\t&$0.51$\t&$0.61$\t&$0.41$\t \n",
      "$\\downarrow f$\t\t&$5.5e-03$\t&$8.60e-05$\t&$0.38$\t&$0.45$\t&$0.53$\t&$0.36$\t \n",
      "$\\Downarrow f$\t\t&$5.5e-03$\t&$6.40e-05$\t&$0.41$\t&$0.61$\t&$0.78$\t&$0.53$\t \n",
      "$\\downarrow$ U\t\t&$5.5e-03$\t&$9.66e-05$\t&$0.31$\t&$0.40$\t&$0.39$\t&$0.26$\t \n",
      "$\\downarrow \\downarrow$ U\t\t&$5.5e-03$\t&$9.66e-05$\t&$0.26$\t&$0.40$\t&$0.32$\t&$0.22$\t \n",
      "$\\Downarrow$ U\t\t&$5.5e-03$\t&$9.66e-05$\t&$0.14$\t&$0.40$\t&$0.18$\t&$0.12$\t \n",
      "$\\Downarrow$ U, $\\downarrow \\downarrow$ $N_0$\t\t&$4.6e-03$\t&$9.66e-05$\t&$0.13$\t&$0.34$\t&$0.17$\t&$0.11$\t \n",
      "$\\Downarrow$ U, $\\uparrow \\uparrow$ $N_0$\t\t&$7.4e-03$\t&$9.66e-05$\t&$0.15$\t&$0.54$\t&$0.19$\t&$0.13$\t \n",
      "$\\Downarrow$ U, $\\Downarrow$ $f$\t\t&$5.5e-03$\t&$7.00e-05$\t&$0.15$\t&$0.56$\t&$0.27$\t&$0.18$\t \n",
      "$\\Downarrow$ U, $\\uparrow \\uparrow K_{can}$\t\t&$5.5e-03$\t&$9.66e-05$\t&$0.12$\t&$0.40$\t&$0.15$\t&$0.10$\t \n",
      "$K_{can}$ Monterey (bot)\t\t&$5.5e-03$\t&$9.66e-05$\t&$0.34$\t&$0.40$\t&$0.42$\t&$0.29$\t \n",
      "$K_{can}$ Eel (bot)\t\t&$5.5e-03$\t&$9.66e-05$\t&$0.36$\t&$0.40$\t&$0.44$\t&$0.30$\t \n",
      "$K_{can}$ Monterey\t\t&$5.5e-03$\t&$9.66e-05$\t&$0.36$\t&$0.40$\t&$0.44$\t&$0.30$\t \n",
      "$K_{can}$ Ascension (bot)\t\t&$5.5e-03$\t&$9.66e-05$\t&$0.35$\t&$0.40$\t&$0.44$\t&$0.30$\t \n",
      "$\\Uparrow \\Uparrow K_{can}$, $\\epsilon 10$\t\t&$5.5e-03$\t&$9.66e-05$\t&$0.35$\t&$0.40$\t&$0.43$\t&$0.29$\t \n",
      "$\\Uparrow \\Uparrow K_{can}$, $\\epsilon 25$\t\t&$5.5e-03$\t&$9.66e-05$\t&$0.34$\t&$0.40$\t&$0.42$\t&$0.29$\t \n",
      "$\\Uparrow \\Uparrow K_{can}$, $\\epsilon 50$\t\t&$5.5e-03$\t&$9.66e-05$\t&$0.34$\t&$0.40$\t&$0.42$\t&$0.28$\t \n",
      "$\\Uparrow \\Uparrow K_{can}$, $\\epsilon 100$\t\t&$5.5e-03$\t&$9.66e-05$\t&$0.34$\t&$0.40$\t&$0.42$\t&$0.28$\t \n",
      "$\\Uparrow \\Uparrow K_{can}$, $\\epsilon 15$\t\t&$5.5e-03$\t&$9.66e-05$\t&$0.34$\t&$0.40$\t&$0.43$\t&$0.29$\t \n",
      "$\\Uparrow \\Uparrow K_{can}$, $\\epsilon 75$\t\t&$5.5e-03$\t&$9.66e-05$\t&$0.34$\t&$0.40$\t&$0.42$\t&$0.28$\t \n",
      "$\\Uparrow \\Uparrow K_{can}$, $\\epsilon 150$\t\t&$5.5e-03$\t&$9.66e-05$\t&$0.34$\t&$0.40$\t&$0.42$\t&$0.28$\t \n",
      "$\\uparrow \\uparrow K_{can}$\t\t&$5.5e-03$\t&$9.66e-05$\t&$0.36$\t&$0.40$\t&$0.44$\t&$0.30$\t \n",
      "$\\Uparrow \\uparrow K_{can}$\t\t&$5.5e-03$\t&$9.66e-05$\t&$0.35$\t&$0.40$\t&$0.43$\t&$0.29$\t \n",
      "$\\uparrow \\uparrow K_{can}$ $\\epsilon 25$\t\t&$5.5e-03$\t&$9.66e-05$\t&$0.36$\t&$0.40$\t&$0.44$\t&$0.30$\t \n",
      "$\\uparrow \\uparrow K_{can}$ $\\epsilon 100$\t\t&$5.5e-03$\t&$9.66e-05$\t&$0.36$\t&$0.40$\t&$0.44$\t&$0.30$\t \n",
      "$\\Uparrow \\uparrow K_{can}$ $\\epsilon 25$\t\t&$5.5e-03$\t&$9.66e-05$\t&$0.35$\t&$0.40$\t&$0.43$\t&$0.29$\t \n",
      "$\\Uparrow \\uparrow K_{can}$, $\\epsilon 100$\t\t&$5.5e-03$\t&$9.66e-05$\t&$0.34$\t&$0.40$\t&$0.43$\t&$0.29$\t \n",
      "$\\Uparrow \\uparrow \\uparrow K_{can}$\t\t&$5.5e-03$\t&$9.66e-05$\t&$0.35$\t&$0.40$\t&$0.43$\t&$0.29$\t \n",
      "$\\Uparrow \\Uparrow \\uparrow K_{can}$\t\t&$5.5e-03$\t&$9.66e-05$\t&$0.35$\t&$0.40$\t&$0.44$\t&$0.30$\t \n",
      "$\\Uparrow K_{can}$\t\t&$5.5e-03$\t&$9.66e-05$\t&$0.35$\t&$0.40$\t&$0.44$\t&$0.30$\t \n",
      "$\\uparrow K_{can}$\t\t&$5.5e-03$\t&$9.66e-05$\t&$0.36$\t&$0.40$\t&$0.44$\t&$0.30$\t \n",
      "$\\Uparrow \\Uparrow K_{can}$\t\t&$5.5e-03$\t&$9.66e-05$\t&$0.35$\t&$0.40$\t&$0.44$\t&$0.30$\t \n",
      "2xL base\t\t&$5.5e-03$\t&$9.66e-05$\t&$0.33$\t&$0.39$\t&$0.20$\t&$0.28$\t \n",
      "2xL, lowest $U$\t\t&$5.5e-03$\t&$9.66e-05$\t&$0.13$\t&$0.39$\t&$0.08$\t&$0.11$\t \n",
      "1.5xL, base\t\t&$5.5e-03$\t&$9.66e-05$\t&$0.35$\t&$0.40$\t&$0.29$\t&$0.31$\t \n",
      "1.5xL, lower $U$\t\t&$5.5e-03$\t&$9.66e-05$\t&$0.25$\t&$0.40$\t&$0.21$\t&$0.21$\t \n",
      "2xL, lower $U$\t\t&$5.5e-03$\t&$9.66e-05$\t&$0.24$\t&$0.39$\t&$0.15$\t&$0.20$\t \n",
      "2xL, lower $U$, lower $f$\t\t&$5.5e-03$\t&$7.66e-05$\t&$0.26$\t&$0.49$\t&$0.21$\t&$0.28$\t \n",
      "1.5xL, low $U$, low $f$\t\t&$5.5e-03$\t&$7.66e-05$\t&$0.27$\t&$0.51$\t&$0.28$\t&$0.29$\t \n",
      "1.5xL, low $U$, low $N$\t\t&$4.6e-03$\t&$9.66e-05$\t&$0.23$\t&$0.34$\t&$0.19$\t&$0.20$\t \n",
      "2xL, low $U$, low $N$\t\t&$4.6e-03$\t&$9.66e-05$\t&$0.22$\t&$0.32$\t&$0.14$\t&$0.19$\t \n"
     ]
    }
   ],
   "source": [
    "print (\"\\t\".join(['Experiment &', '$N$ (s$^{-1}$)$&', \n",
    "                  '$f$ (s$^{-1}$)&', 'U (ms$^{-1}$)&', '$Bu$&','$R_L$' ,'$R_W$' ,\n",
    "                 ]))\n",
    "\n",
    "    \n",
    "for rec in records_sel:\n",
    "     print (\"\\t\".join(['%s\\t\\t&$%.1e$\\t&$%.2e$\\t&$%.2f$\\t&$%.2f$\\t&$%.2f$\\t&$%.2f$\\t ' \n",
    "                      % (rec.label2, \n",
    "                         rec.N,\n",
    "                         rec.f,\n",
    "                         rec.u_mod,\n",
    "                         Bu(rec.N, rec.f, rec.W, Hs),\n",
    "                         Ro(U=rec.u_mod, f=rec.f, R=rec.L),\n",
    "                         Ro(U=rec.u_mod, f=rec.f, R=rec.Wiso),\n",
    "                         )\n",
    "                       ]))"
   ]
  },
  {
   "cell_type": "code",
   "execution_count": 33,
   "metadata": {
    "collapsed": false,
    "scrolled": true
   },
   "outputs": [
    {
     "name": "stdout",
     "output_type": "stream",
     "text": [
      "Exp name&\tPhi 1E4&\tPhiTr 1E5&\tTotal HCW $10^{10}$ m$^3$&\tCanyonHCW (%)&\tTotTrMassHCW $10^{11}$ $\\mu$Mm$^3$&\tCanyonTrMassHCW (%)&\tDelta inventory $10^{6}$ kg of NO3&\n"
     ]
    },
    {
     "ename": "NameError",
     "evalue": "name 'records_selNoC' is not defined",
     "output_type": "error",
     "traceback": [
      "\u001b[0;31m---------------------------------------------------------------------------\u001b[0m",
      "\u001b[0;31mNameError\u001b[0m                                 Traceback (most recent call last)",
      "\u001b[0;32m<ipython-input-33-d3b61b55ea3d>\u001b[0m in \u001b[0;36m<module>\u001b[0;34m()\u001b[0m\n\u001b[1;32m      4\u001b[0m \u001b[0;34m\u001b[0m\u001b[0m\n\u001b[1;32m      5\u001b[0m \u001b[0;34m\u001b[0m\u001b[0m\n\u001b[0;32m----> 6\u001b[0;31m \u001b[0;32mfor\u001b[0m \u001b[0mrec\u001b[0m\u001b[0;34m,\u001b[0m\u001b[0mrecNoC\u001b[0m \u001b[0;32min\u001b[0m \u001b[0mzip\u001b[0m\u001b[0;34m(\u001b[0m\u001b[0mrecords_sel\u001b[0m\u001b[0;34m,\u001b[0m\u001b[0mrecords_selNoC\u001b[0m\u001b[0;34m)\u001b[0m\u001b[0;34m:\u001b[0m\u001b[0;34m\u001b[0m\u001b[0m\n\u001b[0m\u001b[1;32m      7\u001b[0m \u001b[0;34m\u001b[0m\u001b[0m\n\u001b[1;32m      8\u001b[0m \u001b[0;34m\u001b[0m\u001b[0m\n",
      "\u001b[0;31mNameError\u001b[0m: name 'records_selNoC' is not defined"
     ]
    }
   ],
   "source": [
    "print (\"\\t\".join(['Exp name&','Phi 1E4&','PhiTr 1E5&', 'Total HCW $10^{10}$ m$^3$&', \n",
    "                  'CanyonHCW (%)&',  'TotTrMassHCW $10^{11}$ $\\mu$Mm$^3$&', 'CanyonTrMassHCW (%)&', \n",
    "                  'Delta inventory $10^{6}$ kg of NO3&' ]))\n",
    "\n",
    "    \n",
    "for rec,recNoC in zip(records_sel,records_selNoC):\n",
    "    \n",
    "    \n",
    "    print (\"\\t\".join(['%s\\t&%0.2f$\\pm$%0.2f\\t&%0.2f$\\pm$ %0.2f\\t&%.2f\\t&%.2f\\t\\t&%.2f\\t\\t&%.2f\\t&%.2f' \n",
    "                      % (rec.label2,\n",
    "                         rec.Phi/1E4,rec.Phi_std/1E4,\n",
    "                         rec.PhiTr/1E5, rec.PhiTr_std/1E5,\n",
    "                         (rec.HCW[18])/1E10,\n",
    "                         ((rec.HCW[18]-recNoC.HCW[18])/(rec.HCW[18]))*100,\n",
    "                         (rec.TrMass[18])/1E11,\n",
    "                         ((rec.TrMass[18]-recNoC.TrMass[18])/rec.TrMass[18])*100,\n",
    "                         ((rec.TrMassTot[18]-recNoC.TrMassTot[18])*6.2E-5)/1E6)]))\n",
    "    "
   ]
  },
  {
   "cell_type": "markdown",
   "metadata": {
    "collapsed": true
   },
   "source": [
    "Conversion form $\\mu Mm^3$ of $NO^-_3$ to kg of $NO^-_3$:\n",
    "\n",
    "molecular weight of $NO^-_3$ = 3x16 O + 1x12 N = 62 g/mol\n",
    "\n",
    "$\\mu$Mm$^3$  = 1 x $10^{-6}$ x mol/0.001 m$^3$ x 1 m$^3$ =  $10^{-3}$ mol\n",
    "\n",
    "$10^{-3}$ mol $NO_3$ = $10^{-3}$ mol x 62 g/mol = 0.062 g = $6.2 \\times 10^{-5}$ kg"
   ]
  },
  {
   "cell_type": "code",
   "execution_count": null,
   "metadata": {
    "collapsed": true
   },
   "outputs": [],
   "source": []
  },
  {
   "cell_type": "code",
   "execution_count": null,
   "metadata": {
    "collapsed": false
   },
   "outputs": [],
   "source": []
  },
  {
   "cell_type": "code",
   "execution_count": null,
   "metadata": {
    "collapsed": false
   },
   "outputs": [],
   "source": []
  },
  {
   "cell_type": "code",
   "execution_count": null,
   "metadata": {
    "collapsed": true
   },
   "outputs": [],
   "source": []
  }
 ],
 "metadata": {
  "anaconda-cloud": {},
  "kernelspec": {
   "display_name": "Python [default]",
   "language": "python",
   "name": "python3"
  },
  "language_info": {
   "codemirror_mode": {
    "name": "ipython",
    "version": 3
   },
   "file_extension": ".py",
   "mimetype": "text/x-python",
   "name": "python",
   "nbconvert_exporter": "python",
   "pygments_lexer": "ipython3",
   "version": "3.5.4"
  }
 },
 "nbformat": 4,
 "nbformat_minor": 1
}
