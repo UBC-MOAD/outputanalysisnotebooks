{
 "cells": [
  {
   "cell_type": "code",
   "execution_count": null,
   "metadata": {
    "collapsed": true
   },
   "outputs": [],
   "source": [
    "import cmocean as cmo\n",
    "from netCDF4 import Dataset\n",
    "import matplotlib.pyplot as plt\n",
    "import matplotlib as mpl\n",
    "%matplotlib inline\n",
    "import matplotlib.gridspec as gspec\n",
    "import numpy as np\n",
    "import seaborn as sns\n",
    "import scipy.stats\n",
    "import pandas as pd\n",
    "\n",
    "import canyon_tools.readout_tools as rout\n",
    "import canyon_tools.savitzky_golay as sg\n",
    "\n",
    "import os\n",
    "import sys\n",
    "import warnings\n",
    "warnings.filterwarnings(\"ignore\")"
   ]
  },
  {
   "cell_type": "code",
   "execution_count": null,
   "metadata": {
    "collapsed": true
   },
   "outputs": [],
   "source": [
    "grid_file1 = '/data/kramosmu/results/TracerExperiments/CNTDIFF/run38/gridGlob.nc'\n",
    "grid_file2 = '/data/kramosmu/results/TracerExperiments/3DVISC_REALISTIC/run01/gridGlob.nc'\n",
    "state_file2 = '/data/kramosmu/results/TracerExperiments/3DVISC_REALISTIC/run01/stateGlob.nc'\n",
    "\n",
    "with Dataset(grid_file1, 'r') as nbl:\n",
    "    Z1 = nbl.variables['RC'][:]\n",
    "with Dataset(grid_file2, 'r') as nbl:\n",
    "    Z2 = nbl.variables['RC'][:]\n",
    "    hfac = nbl.variables['HFacC'][:,:,:]\n",
    "with Dataset(state_file2,'r') as stfl:\n",
    "    time = stfl.variables['T'][:]\n",
    "    \n",
    "nx = 616\n",
    "ny = 360\n",
    "nz = 90\n"
   ]
  },
  {
   "cell_type": "code",
   "execution_count": null,
   "metadata": {
    "collapsed": true
   },
   "outputs": [],
   "source": [
    "class run:\n",
    "        pass\n",
    "    \n",
    "CNTDIFF_run38 = run()\n",
    "VISC3D_run06 = run()\n",
    "VISC3D_run05 = run()\n",
    "VISC3D_run03 = run()\n",
    "VISC3D_REALISTIC_run01 = run()\n",
    "VISC3D_REALISTIC_run02 = run()\n",
    "VISC3D_REALISTIC_run03 = run()\n",
    "VISC3D_REALISTIC_run04 = run()\n",
    "VISC3D_REALISTIC_run05 = run()\n",
    "VISC3D_REALISTIC_run06 = run()\n",
    "\n",
    "records = [ CNTDIFF_run38 ,\n",
    "            VISC3D_run06 ,\n",
    "            VISC3D_run05 ,\n",
    "            VISC3D_run03 ,\n",
    "            VISC3D_REALISTIC_run01 ,\n",
    "            VISC3D_REALISTIC_run03 ,\n",
    "            VISC3D_REALISTIC_run04 ,\n",
    "            VISC3D_REALISTIC_run02 ,\n",
    "            VISC3D_REALISTIC_run05 ,\n",
    "            VISC3D_REALISTIC_run06 ,\n",
    "           ]\n",
    "\n",
    "records_nobase = [ VISC3D_run06 ,\n",
    "                  VISC3D_run05 ,\n",
    "                  VISC3D_run03 ,\n",
    "                  VISC3D_REALISTIC_run01 ,\n",
    "                  VISC3D_REALISTIC_run03 ,\n",
    "                  VISC3D_REALISTIC_run04 ,\n",
    "                  VISC3D_REALISTIC_run02 ,\n",
    "                  VISC3D_REALISTIC_run05 ,\n",
    "                  VISC3D_REALISTIC_run06 ,\n",
    "                 ]\n",
    "names = ['CNTDIFF_run38', '3DVISC_run06','3DVISC_run05',  '3DVISC_run03',\n",
    "         '3DVISC_REALISTIC_run01','3DVISC_REALISTIC_run03','3DVISC_REALISTIC_run02',\n",
    "         '3DVISC_REALISTIC_run04','3DVISC_REALISTIC_run05','3DVISC_REALISTIC_run06']\n",
    "exps = ['CNTDIFF', '3DVISC', '3DVISC', '3DVISC','3DVISC_REALISTIC', '3DVISC_REALISTIC', \n",
    "        '3DVISC_REALISTIC','3DVISC_REALISTIC', '3DVISC_REALISTIC', '3DVISC_REALISTIC']\n",
    "runs= ['run38', 'run06', 'run05', 'run03', 'run01', 'run03','run02', 'run04', 'run05', 'run06']\n",
    "labels = [r'base',r'$K_{can}=10^{-2}$ $m^2$s$^{-1}$',r'$K_{can}=5\\times10^{-2}$ $m^2$s$^{-1}$',\n",
    "          '$K_{can}=10^{-3}$ $m^2$s$^{-1}$', '$K_{Mty}$', '$K_{Mty} rim$',\n",
    "          '$K_{Eel}$', '$K_{Eel}$ rim','$K_{Asc}$', '$K_{Asc}$ rim']\n",
    "colors = ['black', 'kelley green','leaf green', 'olive', 'cerulean','sky blue','purple','orchid','cherry', 'salmon']\n",
    "Zs = [Z1, Z1, Z1,Z1, Z2, Z2, Z2,Z2, Z2, Z2]\n",
    "\n",
    "\n",
    "for rec, name, exp, runnum, col, lab, Z in zip(records,names,exps,runs,colors,labels, Zs):\n",
    "    rec.name = name\n",
    "    rec.exp = exp\n",
    "    rec.run = runnum\n",
    "    rec.color = col\n",
    "    rec.label = lab\n",
    "    rec.Z = Z"
   ]
  },
  {
   "cell_type": "code",
   "execution_count": null,
   "metadata": {
    "collapsed": true
   },
   "outputs": [],
   "source": [
    "kv_dir = '/ocean/kramosmu/Building_canyon/BuildCanyon/Stratification/616x360x90/'\n",
    "ini_kv_files = [kv_dir + 'KrDiff1E_5_1E_2_90zlev_616x360_Quad.bin',\n",
    "                kv_dir + 'KrDiff1E_5_5E_3_90zlev_616x360_Quad.bin',\n",
    "                kv_dir + 'KrDiff1E_5_1E_3_90zlev_616x360_Quad.bin',\n",
    "                kv_dir + 'KrDiff_Mty_90zlev_616x360_Quad.bin',\n",
    "                kv_dir + 'KrDiff_Mty_rim_90zlev_616x360_Quad.bin',\n",
    "                kv_dir + 'KrDiff_Eel_90zlev_616x360_Quad.bin',\n",
    "                kv_dir + 'KrDiff_Eel_rim_90zlev_616x360_Quad.bin',\n",
    "                kv_dir + 'KrDiff_Asc_90zlev_616x360_Quad.bin',\n",
    "                kv_dir + 'KrDiff_Asc_rim_90zlev_616x360_Quad.bin']\n",
    "\n",
    "dt = np.dtype('>f8')  # float 64 big endian\n",
    "DnS = [245, 200] # y, x indices of DnS station\n",
    "\n",
    "ini_kv_profiles = np.zeros((len(ini_kv_files),nz))\n",
    "\n",
    "for file, ii in zip(ini_kv_files, range(len(ini_kv_files))):\n",
    "    data = np.fromfile(file, dt)\n",
    "    print(file)\n",
    "    ini_kv = np.reshape(data,(nz,ny,nx),order='C')\n",
    "    ini_kv_profiles[ii,:] = ini_kv[:, DnS[0], DnS[1]] "
   ]
  }
 ],
 "metadata": {
  "anaconda-cloud": {},
  "kernelspec": {
   "display_name": "Python [default]",
   "language": "python",
   "name": "python3"
  },
  "language_info": {
   "codemirror_mode": {
    "name": "ipython",
    "version": 3
   },
   "file_extension": ".py",
   "mimetype": "text/x-python",
   "name": "python",
   "nbconvert_exporter": "python",
   "pygments_lexer": "ipython3",
   "version": "3.5.4"
  }
 },
 "nbformat": 4,
 "nbformat_minor": 1
}
