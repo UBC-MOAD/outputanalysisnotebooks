{
 "cells": [
  {
   "cell_type": "markdown",
   "metadata": {},
   "source": [
    "## Use scaling for longer canyon"
   ]
  },
  {
   "cell_type": "markdown",
   "metadata": {},
   "source": [
    "Using scaling and fitted functions from notebook scalling_tracer_flux_paper1_clean.ipynb, see if our scaling works when using a longer canyon.\n",
    "\n",
    "L = 12800.0 m, vs 6400.0 m from Barkley-like run\n",
    "\n",
    "R = 5000.0 m\n",
    "\n",
    "Wm = 24432.4 m, Width at shelf break\n",
    "\n",
    "W = 22044.8 m, mid-length width at rim depth\n",
    "\n",
    "Ws = 13756.1 m, mid-length width at shelf-break isobath\n",
    "\n",
    "Hs = 150.0 m,  Shelf break depth\n",
    "\n",
    "s = 0.005 m, shelf slope \n",
    "\n",
    "Hh = 97.5 m, head depth\n",
    "\n",
    "Hr = 132.0 m, rim depth at DnS\n",
    "\n",
    "No = 5.5E-3 s$^{-1}$, Initial stratification at shelf-break depth\n",
    "\n",
    "f = 9.66E-5 s$^{-1}$, Coriois parameter \n",
    "\n",
    "U = 0.344 ms$^{-1}$,  incoming velocity base case, m/s (from model)\n",
    "\n"
   ]
  },
  {
   "cell_type": "code",
   "execution_count": 34,
   "metadata": {
    "collapsed": true
   },
   "outputs": [],
   "source": [
    "%matplotlib inline\n",
    "import matplotlib.pyplot as plt\n",
    "import matplotlib.colors as mcolors\n",
    "import matplotlib.gridspec as gspec\n",
    "from matplotlib.ticker import FormatStrFormatter\n",
    "from netCDF4 import Dataset\n",
    "import numpy as np\n",
    "import os\n",
    "import pandas as pd\n",
    "import seaborn as sns\n",
    "import sys\n",
    "import scipy.stats\n",
    "import warnings\n",
    "warnings.filterwarnings(\"ignore\")\n",
    "import canyon_tools.readout_tools as rout \n",
    "import canyon_tools.metrics_tools as mpt"
   ]
  },
  {
   "cell_type": "code",
   "execution_count": 35,
   "metadata": {
    "collapsed": false
   },
   "outputs": [
    {
     "data": {
      "text/html": [
       "<script>\n",
       "code_show=true; \n",
       "function code_toggle() {\n",
       " if (code_show){\n",
       " $('div.input').hide();\n",
       " } else {\n",
       " $('div.input').show();\n",
       " }\n",
       " code_show = !code_show\n",
       "} \n",
       "$( document ).ready(code_toggle);\n",
       "</script>\n",
       "<form action=\"javascript:code_toggle()\"><input type=\"submit\" value=\"Click here to toggle on/off the raw code.\"></form>"
      ],
      "text/plain": [
       "<IPython.core.display.HTML object>"
      ]
     },
     "execution_count": 35,
     "metadata": {},
     "output_type": "execute_result"
    }
   ],
   "source": [
    "from IPython.display import HTML\n",
    "\n",
    "HTML('''<script>\n",
    "code_show=true; \n",
    "function code_toggle() {\n",
    " if (code_show){\n",
    " $('div.input').hide();\n",
    " } else {\n",
    " $('div.input').show();\n",
    " }\n",
    " code_show = !code_show\n",
    "} \n",
    "$( document ).ready(code_toggle);\n",
    "</script>\n",
    "<form action=\"javascript:code_toggle()\"><input type=\"submit\" value=\"Click here to toggle on/off the raw code.\"></form>''')\n"
   ]
  },
  {
   "cell_type": "code",
   "execution_count": 36,
   "metadata": {
    "collapsed": false
   },
   "outputs": [],
   "source": [
    "sns.set_context('paper')\n",
    "sns.set_style('white')"
   ]
  },
  {
   "cell_type": "code",
   "execution_count": 37,
   "metadata": {
    "collapsed": true
   },
   "outputs": [],
   "source": [
    "CanyonGrid='/data/kramosmu/results/TracerExperiments/LONGER_CNY2/run01/gridGlob.nc'\n",
    "CanyonGridOut = Dataset(CanyonGrid)\n",
    "\n",
    "CanyonGridNoC='/data/kramosmu/results/TracerExperiments/CNTDIFF/run68/gridGlob.nc'\n",
    "CanyonGridOutNoC = Dataset(CanyonGridNoC)\n",
    "\n",
    "CanyonState='/data/kramosmu/results/TracerExperiments/LONGER_CNY2/run01/stateGlob.nc'\n",
    "CanyonStateOut = Dataset(CanyonState)\n",
    "\n",
    "# Grid variables\n",
    "nx = 616\n",
    "ny = 360\n",
    "nz = 90\n",
    "nt = 19 # t dimension size \n",
    "time = CanyonStateOut.variables['T']\n",
    "RC = CanyonGridOut.variables['RC']"
   ]
  },
  {
   "cell_type": "code",
   "execution_count": 38,
   "metadata": {
    "collapsed": false
   },
   "outputs": [],
   "source": [
    "# Constants and scales\n",
    "\n",
    "L = 9600 #12800#6400.0 # canyon length\n",
    "R = 5000.0 # Upstream radius of curvature\n",
    "g = 9.81 # accel. gravity\n",
    "Hs = 149.8 # Shelf break depth\n",
    "s = 0.005 # shelf slope\n",
    "Wr = 13756.1 # mid-length width at shelf break isobath\n",
    "W = 22044.8 # mid-length width at rim depth\n",
    "Hh= 72.3 #98.8 # head depth\n",
    "Hr = 89.1 # rim depth at UwH\n",
    "\n",
    "N = 5.5E-3\n",
    "f = 9.66E-5\n",
    "U = 0.35\n",
    "Co = 5.06\n",
    "\n",
    "# NOTE: The default values of all functions correspond to the base case\n",
    "\n",
    "def Dh(f,L,N):\n",
    "    '''Vertical scale Dh'''\n",
    "    return((f*L)/(N))\n",
    "    \n",
    "def Ro(U,f,R):\n",
    "    '''Rossby number using radius of curvature as length scale'''\n",
    "    return(U/(f*R))\n",
    "\n",
    "def F(Ro):\n",
    "    '''Function that estimates the ability of the flow to follow isobaths'''\n",
    "    return(Ro/(0.9+Ro))\n",
    "\n",
    "def Bu(N,f,W,Hs):\n",
    "    '''Burger number'''\n",
    "    return(N*Hs/(f*W))\n",
    "\n",
    "def RossbyRad(N,f,Hs):\n",
    "    '''1st Rossby radius of deformation'''\n",
    "    return(N*Hs/f)"
   ]
  },
  {
   "cell_type": "code",
   "execution_count": 39,
   "metadata": {
    "collapsed": false
   },
   "outputs": [],
   "source": [
    "# Get HCW, tracer on shelf, etc...\n",
    "\n",
    "file = ('/data/kramosmu/results/TracerExperiments/LONGER_CNY2/HCW_TrMass_LONGER_CNY2run01.csv') \n",
    "dfcan = pd.read_csv(file)\n",
    "HCW = dfcan['HCW']\n",
    "TrMass = dfcan['TrMassHCW']\n",
    "       \n",
    "Phi_mod = np.mean(np.array([(HCW[ii]-HCW[ii-1])/(time[ii]-time[ii-1]) for ii in range (8,18)]))\n",
    "Phi_std = np.std(np.array([(HCW[ii]-HCW[ii-1])/(time[ii]-time[ii-1])  for ii in range (8,18)]))\n",
    "\n",
    "Phi_Tr = np.mean(np.array([(TrMass[ii]-TrMass[ii-1])/(time[ii]-time[ii-1]) for ii in range (12,18)]))\n",
    "Phi_Tr_std = np.std(np.array([(TrMass[ii]-TrMass[ii-1])/(time[ii]-time[ii-1]) for ii in range (12,18)]))"
   ]
  },
  {
   "cell_type": "markdown",
   "metadata": {},
   "source": [
    "### Scaling"
   ]
  },
  {
   "cell_type": "code",
   "execution_count": 40,
   "metadata": {
    "collapsed": false
   },
   "outputs": [],
   "source": [
    "# Neff\n",
    "t = 6.5 # days\n",
    "epsilon = 5\n",
    "Hrim = 135\n",
    "\n",
    "Dz = abs(RC[int(Hrim/5)+1]-RC[int(Hrim/5)-1])\n",
    "Z = ((f*U*F(Ro(U,f,R))*L)**(0.5))/N\n",
    "dk = 0\n",
    "Kz = 1E-5\n",
    "Kz_be = 1E-5\n",
    "Zdif = 0\n",
    "\n",
    "Smin_dif = np.exp(-0.15*Zdif/Dz) # -0.1 comes from the 1D model\n",
    "Smax_dif = (Zdif/Dz)*np.exp(-(Kz*t*3600*24)/((epsilon)**2))\n",
    "Smax_upw = (Z/Hh)*np.exp(-Kz*t*3600*24/Z**2)\n",
    "Smin_upw = (Z/Hh)*np.exp(-Kz_be*t*3600*24/Z**2)\n",
    "\n",
    "A3 = 2.95\n",
    "B3 = 2.02\n",
    "C3 = 1.09\n",
    "Nmin = N*(A3*Smin_upw + B3*(1-Smin_dif) + C3)**0.5\n",
    "\n",
    "A1 = 8.17\n",
    "B1 = 0.22\n",
    "C1 = 0.81\n",
    "Nmax = N*(A1*Smax_upw + B1*Smax_dif + C1)**0.5\n",
    "\n",
    "Neff = 0.75*Nmax+0.25*Nmin\n",
    "\n",
    "#Concentration\n",
    "\n",
    "A5 = 0.33\n",
    "B5 = 0.06\n",
    "C5 = 1.01\n",
    "Cbar = Co*(A5*Smax_upw+B5*Smax_dif + C5)\n",
    "\n",
    "# Upwelling flux\n",
    "\n",
    "Se = (s*N)/(f*((F(Ro(U,f,Wr))/Ro(U,f,L))**(1/2)))\n",
    "#slope2 = 6.33\n",
    "#param2 = 0.89\n",
    "#intercept2 = -0.014\n",
    "\n",
    "slope = 2.11\n",
    "param = 0.79\n",
    "intercept = -0.005\n",
    "\n",
    "#Phi=((slope2*(F(Ro(U,f,Wr))**(3/2))*(Ro(U,f,L)**(1/2))*((1-param2*Se)**3))+intercept2)*(U*W*Dh(f,L,Neff))\n",
    "Phi=((slope*(F(Ro(U,f,Wr))**(3/2))*(Ro(U,f,L)**(1/2))*((1-param*Se)**3))+intercept)*(U*W*Dh(f,L,N))\n",
    "    \n",
    "# Tracer flux\n",
    "A6 = 1.00\n",
    "B6 = -442.22\n",
    "\n",
    "PhiTr = A6*Cbar*Phi - B6"
   ]
  },
  {
   "cell_type": "code",
   "execution_count": 41,
   "metadata": {
    "collapsed": false
   },
   "outputs": [
    {
     "name": "stdout",
     "output_type": "stream",
     "text": [
      "392171.466563\n",
      "299663.391529\n"
     ]
    }
   ],
   "source": [
    "print(PhiTr)\n",
    "print(Phi_Tr)"
   ]
  },
  {
   "cell_type": "code",
   "execution_count": 42,
   "metadata": {
    "collapsed": false,
    "scrolled": true
   },
   "outputs": [
    {
     "name": "stdout",
     "output_type": "stream",
     "text": [
      "58410.7510098461\n",
      "41463.8819239\n"
     ]
    }
   ],
   "source": [
    "print(Phi)\n",
    "print(Phi_mod)"
   ]
  },
  {
   "cell_type": "code",
   "execution_count": 43,
   "metadata": {
    "collapsed": false
   },
   "outputs": [
    {
     "data": {
      "text/plain": [
       "[<matplotlib.lines.Line2D at 0x7f64b86e02e8>]"
      ]
     },
     "execution_count": 43,
     "metadata": {},
     "output_type": "execute_result"
    },
    {
     "data": {
      "image/png": "[encoded data removed]",
      "text/plain": [
       "<Figure size 460.8x316.8 with 1 Axes>"
      ]
     },
     "metadata": {},
     "output_type": "display_data"
    }
   ],
   "source": [
    "file = ('/data/kramosmu/results/TracerExperiments/CNTDIFF/HCW_TrMass_CNTDIFFrun38.csv') \n",
    "dfcan = pd.read_csv(file)\n",
    "\n",
    "HCW_bar = dfcan['HCW']\n",
    "TrMass_bar = dfcan['TrMassHCW']\n",
    "       \n",
    "Phi_bar_mod = np.mean(np.array([(HCW_bar[ii]-HCW_bar[ii-1])/(time[ii]-time[ii-1]) for ii in range (8,18)]))\n",
    "\n",
    "Phi_Tr_bar = np.mean(np.array([(TrMass_bar[ii]-TrMass_bar[ii-1])/(time[ii]-time[ii-1]) for ii in range (12,18)]))\n",
    "\n",
    "plt.plot(HCW)\n",
    "plt.plot(HCW_bar)\n"
   ]
  },
  {
   "cell_type": "code",
   "execution_count": 44,
   "metadata": {
    "collapsed": false
   },
   "outputs": [
    {
     "data": {
      "text/plain": [
       "[<matplotlib.lines.Line2D at 0x7f64b86f9208>]"
      ]
     },
     "execution_count": 44,
     "metadata": {},
     "output_type": "execute_result"
    },
    {
     "data": {
      "image/png": "[encoded data removed]",
      "text/plain": [
       "<Figure size 460.8x316.8 with 1 Axes>"
      ]
     },
     "metadata": {},
     "output_type": "display_data"
    }
   ],
   "source": [
    "plt.plot(TrMass)\n",
    "plt.plot(TrMass_bar)"
   ]
  },
  {
   "cell_type": "code",
   "execution_count": 45,
   "metadata": {
    "collapsed": false
   },
   "outputs": [
    {
     "name": "stdout",
     "output_type": "stream",
     "text": [
      "38476.0463491 276314.623544\n",
      "41463.8819239 299663.391529\n"
     ]
    }
   ],
   "source": [
    "print(Phi_bar_mod, Phi_Tr_bar)\n",
    "print(Phi_mod, Phi_Tr)"
   ]
  },
  {
   "cell_type": "code",
   "execution_count": null,
   "metadata": {
    "collapsed": true
   },
   "outputs": [],
   "source": []
  },
  {
   "cell_type": "code",
   "execution_count": 15,
   "metadata": {
    "collapsed": false
   },
   "outputs": [
    {
     "data": {
      "text/plain": [
       "1155808.864"
      ]
     },
     "execution_count": 15,
     "metadata": {},
     "output_type": "execute_result"
    }
   ],
   "source": [
    "(U*W*Hs)"
   ]
  },
  {
   "cell_type": "code",
   "execution_count": 16,
   "metadata": {
    "collapsed": false
   },
   "outputs": [
    {
     "data": {
      "text/plain": [
       "1734597.0920727274"
      ]
     },
     "execution_count": 16,
     "metadata": {},
     "output_type": "execute_result"
    }
   ],
   "source": [
    "U*W*Dh(f=9.66E-5, L=12800, N=5.5E-3 )"
   ]
  },
  {
   "cell_type": "code",
   "execution_count": 17,
   "metadata": {
    "collapsed": false
   },
   "outputs": [
    {
     "data": {
      "text/plain": [
       "62.539677857024088"
      ]
     },
     "execution_count": 17,
     "metadata": {},
     "output_type": "execute_result"
    }
   ],
   "source": [
    "Dh(f,L,Neff)"
   ]
  },
  {
   "cell_type": "code",
   "execution_count": 18,
   "metadata": {
    "collapsed": false
   },
   "outputs": [
    {
     "data": {
      "text/plain": [
       "168.6109090909091"
      ]
     },
     "execution_count": 18,
     "metadata": {},
     "output_type": "execute_result"
    }
   ],
   "source": [
    "Dh(f,L,N)"
   ]
  },
  {
   "cell_type": "code",
   "execution_count": 81,
   "metadata": {
    "collapsed": false
   },
   "outputs": [
    {
     "data": {
      "text/plain": [
       "103.04"
      ]
     },
     "execution_count": 81,
     "metadata": {},
     "output_type": "execute_result"
    }
   ],
   "source": [
    "Dh(f,L,0.012)"
   ]
  },
  {
   "cell_type": "code",
   "execution_count": null,
   "metadata": {
    "collapsed": true
   },
   "outputs": [],
   "source": []
  }
 ],
 "metadata": {
  "anaconda-cloud": {},
  "kernelspec": {
   "display_name": "Python [default]",
   "language": "python",
   "name": "python3"
  },
  "language_info": {
   "codemirror_mode": {
    "name": "ipython",
    "version": 3
   },
   "file_extension": ".py",
   "mimetype": "text/x-python",
   "name": "python",
   "nbconvert_exporter": "python",
   "pygments_lexer": "ipython3",
   "version": "3.5.4"
  }
 },
 "nbformat": 4,
 "nbformat_minor": 1
}
