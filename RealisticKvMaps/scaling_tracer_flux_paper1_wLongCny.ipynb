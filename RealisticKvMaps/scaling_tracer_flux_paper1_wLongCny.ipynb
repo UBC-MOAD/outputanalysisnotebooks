{
 "cells": [
  {
   "cell_type": "markdown",
   "metadata": {},
   "source": [
    "## Use scaling for longer canyon"
   ]
  },
  {
   "cell_type": "markdown",
   "metadata": {},
   "source": [
    "Using scaling and fitted functions from notebook scalling_tracer_flux_paper1_clean.ipynb, see if our scaling works when using a longer canyon.\n",
    "\n",
    "L = 12800.0 m, vs 6400.0 m from Barkley-like run\n",
    "\n",
    "R = 5000.0 m\n",
    "\n",
    "Wm = 24432.4 m, Width at shelf break\n",
    "\n",
    "W = 22044.8 m, mid-length width at rim depth\n",
    "\n",
    "Ws = 13756.1 m, mid-length width at shelf-break isobath\n",
    "\n",
    "Hs = 150.0 m,  Shelf break depth\n",
    "\n",
    "s = 0.005 m, shelf slope \n",
    "\n",
    "Hh = 97.5 m, head depth\n",
    "\n",
    "Hr = 132.0 m, rim depth at DnS\n",
    "\n",
    "No = 5.5E-3 s$^{-1}$, Initial stratification at shelf-break depth\n",
    "\n",
    "f = 9.66E-5 s$^{-1}$, Coriois parameter \n",
    "\n",
    "U = 0.344 ms$^{-1}$,  incoming velocity base case, m/s (from model)\n",
    "\n"
   ]
  },
  {
   "cell_type": "code",
   "execution_count": 2,
   "metadata": {
    "collapsed": true
   },
   "outputs": [],
   "source": [
    "%matplotlib inline\n",
    "import matplotlib.pyplot as plt\n",
    "import matplotlib.colors as mcolors\n",
    "import matplotlib.gridspec as gspec\n",
    "from matplotlib.ticker import FormatStrFormatter\n",
    "from netCDF4 import Dataset\n",
    "import numpy as np\n",
    "import os\n",
    "import pandas as pd\n",
    "import seaborn as sns\n",
    "import sys\n",
    "import scipy.stats\n",
    "import warnings\n",
    "warnings.filterwarnings(\"ignore\")\n",
    "import canyon_tools.readout_tools as rout \n",
    "import canyon_tools.metrics_tools as mpt"
   ]
  },
  {
   "cell_type": "code",
   "execution_count": 3,
   "metadata": {
    "collapsed": false
   },
   "outputs": [
    {
     "data": {
      "text/html": [
       "<script>\n",
       "code_show=true; \n",
       "function code_toggle() {\n",
       " if (code_show){\n",
       " $('div.input').hide();\n",
       " } else {\n",
       " $('div.input').show();\n",
       " }\n",
       " code_show = !code_show\n",
       "} \n",
       "$( document ).ready(code_toggle);\n",
       "</script>\n",
       "<form action=\"javascript:code_toggle()\"><input type=\"submit\" value=\"Click here to toggle on/off the raw code.\"></form>"
      ],
      "text/plain": [
       "<IPython.core.display.HTML object>"
      ]
     },
     "execution_count": 3,
     "metadata": {},
     "output_type": "execute_result"
    }
   ],
   "source": [
    "from IPython.display import HTML\n",
    "\n",
    "HTML('''<script>\n",
    "code_show=true; \n",
    "function code_toggle() {\n",
    " if (code_show){\n",
    " $('div.input').hide();\n",
    " } else {\n",
    " $('div.input').show();\n",
    " }\n",
    " code_show = !code_show\n",
    "} \n",
    "$( document ).ready(code_toggle);\n",
    "</script>\n",
    "<form action=\"javascript:code_toggle()\"><input type=\"submit\" value=\"Click here to toggle on/off the raw code.\"></form>''')\n"
   ]
  },
  {
   "cell_type": "code",
   "execution_count": 4,
   "metadata": {
    "collapsed": true
   },
   "outputs": [],
   "source": [
    "sns.set_context('paper')\n",
    "sns.set_style('white')"
   ]
  },
  {
   "cell_type": "code",
   "execution_count": 5,
   "metadata": {
    "collapsed": true
   },
   "outputs": [],
   "source": [
    "CanyonGrid='/data/kramosmu/results/TracerExperiments/CNTDIFF/run38/gridGlob.nc'\n",
    "CanyonGridOut = Dataset(CanyonGrid)\n",
    "\n",
    "CanyonGridNoC='/data/kramosmu/results/TracerExperiments/CNTDIFF/run68/gridGlob.nc'\n",
    "CanyonGridOutNoC = Dataset(CanyonGridNoC)\n",
    "\n",
    "CanyonState='/data/kramosmu/results/TracerExperiments/CNTDIFF/run38/stateGlob.nc'\n",
    "CanyonStateOut = Dataset(CanyonState)\n",
    "\n",
    "# Grid variables\n",
    "nx = 616\n",
    "ny = 360\n",
    "nz = 90\n",
    "nt = 19 # t dimension size \n",
    "time = CanyonStateOut.variables['T']\n",
    "RC = CanyonGridOut.variables['RC']"
   ]
  },
  {
   "cell_type": "code",
   "execution_count": 6,
   "metadata": {
    "collapsed": false
   },
   "outputs": [],
   "source": [
    "# Constants and scales\n",
    "\n",
    "L = 12800.0 # canyon length\n",
    "R = 5000.0 # Upstream radius of curvature\n",
    "g = 9.81 # accel. gravity\n",
    "Hs = 149.8 # Shelf break depth\n",
    "s = 0.005 # shelf slope\n",
    "Wr = 13756.1 # mid-length width at shelf break isobath\n",
    "W = 22044.8 # mid-length width at rim depth\n",
    "Hh= 98.8 # head depth\n",
    "Hr = 108.1 # rim depth at UwH\n",
    "\n",
    "# NOTE: The default values of all functions correspond to the base case\n",
    "\n",
    "def Dh(f=9.66E-4,L=6400.0,N=5.5E-3):\n",
    "    '''Vertical scale Dh'''\n",
    "    return((f*L)/(N))\n",
    "    \n",
    "def Ro(U=0.37,f=9.66E-4,R=5000.0):\n",
    "    '''Rossby number using radius of curvature as length scale'''\n",
    "    return(U/(f*R))\n",
    "\n",
    "def F(Ro):\n",
    "    '''Function that estimates the ability of the flow to follow isobaths'''\n",
    "    return(Ro/(0.9+Ro))\n",
    "\n",
    "def Bu(N=5.5E-3,f=9.66E-5,W=8300,Hs=150.0):\n",
    "    '''Burger number'''\n",
    "    return(N*Hs/(f*W))\n",
    "\n",
    "def RossbyRad(N=5.5E-3,Hs=150.0,f=9.66E-4):\n",
    "    '''1st Rossby radius of deformation'''\n",
    "    return(N*Hs/f)"
   ]
  },
  {
   "cell_type": "code",
   "execution_count": 7,
   "metadata": {
    "collapsed": false
   },
   "outputs": [],
   "source": [
    "# Information for all runs is stored in canyon_records.py\n",
    "lib_path = os.path.abspath('/ocean/kramosmu/OutputAnalysis/outputanalysisnotebooks/PythonScripts/Paper1Figures/') # Add absolute path to my python scripts\n",
    "sys.path.append(lib_path)\n",
    "\n",
    "import canyon_records \n",
    "records = canyon_records.main()\n",
    "\n",
    "import nocanyon_records \n",
    "recordsNoC = nocanyon_records.main()"
   ]
  },
  {
   "cell_type": "markdown",
   "metadata": {},
   "source": [
    "### Not all runs are used to fit all variables\n",
    "\n",
    "**records_dyn** has all runs where f, N or U vary. USe this list to fit upwelling flux $\\Phi$ and modify *Howatt and Allen 2013*.\n",
    "\n",
    "**records_epsilon** has all runs in records_dyn plus the runs with a heaviside Kv profile. Use this list to fit $\\Phi$ with scaled N.\n",
    "\n",
    "**records_real** has all runs in records_epsilon plus the runs with a Kv profile inspired in observations."
   ]
  },
  {
   "cell_type": "code",
   "execution_count": 16,
   "metadata": {
    "collapsed": false
   },
   "outputs": [],
   "source": [
    "for rec in records_real:\n",
    "\n",
    "    Dz = abs(RC[int(Hrim/5)+1]-RC[int(Hrim/5)-1])\n",
    "    rec.Z = ((rec.f*rec.u_mod*F(Ro(rec.u_mod,rec.f,R))*L)**(0.5))/rec.N\n",
    "    \n",
    "    if rec.kv == rec.kbg:\n",
    "        rec.Zdif = 0\n",
    "        rec.Sdif_min = np.exp(-0.15*rec.Zdif/Dz) # -0.1 comes from the 1D model\n",
    "        rec.dk = 0\n",
    "        rec.Kz = 1E-5\n",
    "        rec.Kz_be = 1E-5\n",
    "        rec.Sdif_max = (rec.Zdif/Dz)*np.exp(-(rec.Kz*t*3600*24)/((rec.epsilon)**2))\n",
    "    \n",
    "    else:\n",
    "        rec.Sdif_min = np.exp(-0.15*rec.Zdif/Dz)\n",
    "        rec.Sdif_max = (rec.Zdif/Dz)*np.exp(-(rec.Kz*t*3600*24)/((rec.epsilon)**2))\n",
    "        \n",
    "    rec.S_max = (rec.Z/Hh)*np.exp(-rec.Kz*t*3600*24/rec.Z**2)\n",
    "    rec.S_min = (rec.Z/Hh)*np.exp(-rec.Kz_be*t*3600*24/rec.Z**2)"
   ]
  },
  {
   "cell_type": "code",
   "execution_count": 17,
   "metadata": {
    "collapsed": false
   },
   "outputs": [],
   "source": [
    "X1_be = np.array([rec.S_min for rec in records_epsilon])\n",
    "X2_be = np.array([rec.Sdif_min for rec in records_epsilon])\n",
    "Y_be = np.array([(rec.Nbe)**2/(rec.N**2) for rec in records_epsilon])\n",
    "\n",
    "X1_ab = np.array([rec.S_max for rec in records_epsilon])\n",
    "X2_ab = np.array([rec.Sdif_max for rec in records_epsilon])\n",
    "Y_ab = np.array([(rec.Nab)**2/(rec.N**2) for rec in records_epsilon])"
   ]
  },
  {
   "cell_type": "code",
   "execution_count": 18,
   "metadata": {
    "collapsed": false
   },
   "outputs": [
    {
     "name": "stdout",
     "output_type": "stream",
     "text": [
      "min $N^2/N^2_0$ = 2.95 $S^-$ + 2.02 $S^-_{diff}$  -0.93 \n",
      "max $N^2/N^2_0$ = 8.17 $S^+$ + 0.22 $S^+_{diff}$ + 0.81 \n"
     ]
    }
   ],
   "source": []
  },
  {
   "cell_type": "code",
   "execution_count": 19,
   "metadata": {
    "collapsed": false
   },
   "outputs": [],
   "source": []
  },
  {
   "cell_type": "code",
   "execution_count": 20,
   "metadata": {
    "collapsed": false
   },
   "outputs": [
    {
     "name": "stdout",
     "output_type": "stream",
     "text": [
      "Using parameter 0.60: slope = 3.42, intercept = -0.015, r-value = 0.872\n",
      "Using parameter 0.62: slope = 3.57, intercept = -0.016, r-value = 0.883\n",
      "Using parameter 0.63: slope = 3.72, intercept = -0.017, r-value = 0.894\n",
      "Using parameter 0.65: slope = 3.87, intercept = -0.018, r-value = 0.904\n",
      "Using parameter 0.66: slope = 4.03, intercept = -0.019, r-value = 0.913\n",
      "Using parameter 0.68: slope = 4.18, intercept = -0.020, r-value = 0.922\n",
      "Using parameter 0.69: slope = 4.34, intercept = -0.020, r-value = 0.930\n",
      "Using parameter 0.71: slope = 4.50, intercept = -0.021, r-value = 0.937\n",
      "Using parameter 0.72: slope = 4.65, intercept = -0.021, r-value = 0.944\n",
      "Using parameter 0.74: slope = 4.81, intercept = -0.021, r-value = 0.950\n",
      "Using parameter 0.75: slope = 4.97, intercept = -0.021, r-value = 0.955\n",
      "Using parameter 0.77: slope = 5.12, intercept = -0.020, r-value = 0.960\n",
      "Using parameter 0.78: slope = 5.27, intercept = -0.020, r-value = 0.964\n",
      "Using parameter 0.80: slope = 5.43, intercept = -0.020, r-value = 0.967\n",
      "Using parameter 0.81: slope = 5.58, intercept = -0.019, r-value = 0.970\n",
      "Using parameter 0.83: slope = 5.73, intercept = -0.018, r-value = 0.972\n",
      "Using parameter 0.84: slope = 5.88, intercept = -0.017, r-value = 0.974\n",
      "Using parameter 0.86: slope = 6.03, intercept = -0.016, r-value = 0.975\n",
      "Using parameter 0.87: slope = 6.18, intercept = -0.015, r-value = 0.975\n",
      "Using parameter 0.89: slope = 6.33, intercept = -0.014, r-value = 0.975\n",
      "Using parameter 0.91: slope = 6.48, intercept = -0.013, r-value = 0.975\n",
      "Using parameter 0.92: slope = 6.63, intercept = -0.011, r-value = 0.974\n",
      "Using parameter 0.94: slope = 6.79, intercept = -0.010, r-value = 0.973\n",
      "Using parameter 0.95: slope = 6.94, intercept = -0.009, r-value = 0.972\n",
      "Using parameter 0.97: slope = 7.10, intercept = -0.007, r-value = 0.970\n",
      "Using parameter 0.98: slope = 7.26, intercept = -0.006, r-value = 0.968\n",
      "Using parameter 1.00: slope = 7.42, intercept = -0.004, r-value = 0.966\n",
      "Using parameter 1.01: slope = 7.59, intercept = -0.003, r-value = 0.963\n",
      "Using parameter 1.03: slope = 7.76, intercept = -0.001, r-value = 0.961\n",
      "Using parameter 1.04: slope = 7.94, intercept = 0.000, r-value = 0.958\n",
      "Using parameter 1.06: slope = 8.12, intercept = 0.002, r-value = 0.955\n",
      "Using parameter 1.07: slope = 8.31, intercept = 0.003, r-value = 0.952\n",
      "Using parameter 1.09: slope = 8.51, intercept = 0.004, r-value = 0.949\n",
      "Using parameter 1.10: slope = 8.71, intercept = 0.006, r-value = 0.946\n",
      "Using parameter 1.12: slope = 8.92, intercept = 0.007, r-value = 0.943\n",
      "Using parameter 1.13: slope = 9.15, intercept = 0.009, r-value = 0.940\n",
      "Using parameter 1.15: slope = 9.38, intercept = 0.010, r-value = 0.937\n",
      "Using parameter 1.16: slope = 9.62, intercept = 0.011, r-value = 0.933\n",
      "Using parameter 1.18: slope = 9.88, intercept = 0.012, r-value = 0.930\n",
      "Using parameter 1.19: slope = 10.15, intercept = 0.014, r-value = 0.927\n",
      "Using parameter 1.21: slope = 10.43, intercept = 0.015, r-value = 0.924\n",
      "Using parameter 1.23: slope = 10.73, intercept = 0.016, r-value = 0.920\n",
      "Using parameter 1.24: slope = 11.04, intercept = 0.017, r-value = 0.917\n",
      "Using parameter 1.26: slope = 11.36, intercept = 0.018, r-value = 0.914\n",
      "Using parameter 1.27: slope = 11.70, intercept = 0.020, r-value = 0.910\n",
      "Using parameter 1.29: slope = 12.06, intercept = 0.021, r-value = 0.907\n",
      "Using parameter 1.30: slope = 12.44, intercept = 0.022, r-value = 0.904\n",
      "Using parameter 1.32: slope = 12.83, intercept = 0.023, r-value = 0.900\n",
      "Using parameter 1.33: slope = 13.24, intercept = 0.024, r-value = 0.896\n",
      "Using parameter 1.35: slope = 13.67, intercept = 0.025, r-value = 0.893\n",
      "Using parameter 1.36: slope = 14.13, intercept = 0.026, r-value = 0.889\n",
      "Using parameter 1.38: slope = 14.60, intercept = 0.027, r-value = 0.885\n",
      "Using parameter 1.39: slope = 15.09, intercept = 0.028, r-value = 0.881\n",
      "Using parameter 1.41: slope = 15.59, intercept = 0.030, r-value = 0.876\n",
      "Using parameter 1.42: slope = 16.12, intercept = 0.031, r-value = 0.871\n",
      "Using parameter 1.44: slope = 16.67, intercept = 0.032, r-value = 0.867\n",
      "Using parameter 1.45: slope = 17.23, intercept = 0.033, r-value = 0.861\n",
      "Using parameter 1.47: slope = 17.81, intercept = 0.034, r-value = 0.856\n",
      "Using parameter 1.48: slope = 18.40, intercept = 0.036, r-value = 0.850\n",
      "Using parameter 1.50: slope = 19.00, intercept = 0.037, r-value = 0.844\n"
     ]
    }
   ],
   "source": []
  },
  {
   "cell_type": "code",
   "execution_count": 21,
   "metadata": {
    "collapsed": false
   },
   "outputs": [],
   "source": []
  },
  {
   "cell_type": "markdown",
   "metadata": {
    "collapsed": true
   },
   "source": [
    "### Tracer gradient"
   ]
  },
  {
   "cell_type": "code",
   "execution_count": 22,
   "metadata": {
    "collapsed": true
   },
   "outputs": [],
   "source": []
  },
  {
   "cell_type": "code",
   "execution_count": 23,
   "metadata": {
    "collapsed": false
   },
   "outputs": [
    {
     "name": "stdout",
     "output_type": "stream",
     "text": [
      "min $dzC/dzCo$ = 3.81 $S^-$ + 1.35 $S^-_{diff}$  -0.73 \n",
      "max $dzC/dzCo$ = 8.10 $S^+$ + 0.23 $S^+_{diff}$  0.81 \n"
     ]
    }
   ],
   "source": []
  },
  {
   "cell_type": "code",
   "execution_count": 24,
   "metadata": {
    "collapsed": true
   },
   "outputs": [],
   "source": []
  },
  {
   "cell_type": "markdown",
   "metadata": {},
   "source": [
    "### Concentration"
   ]
  },
  {
   "cell_type": "code",
   "execution_count": 25,
   "metadata": {
    "collapsed": false
   },
   "outputs": [
    {
     "name": "stdout",
     "output_type": "stream",
     "text": [
      "$\\bar{C}/Co$ = 0.33 $S^+$ + 0.06 $S^+_{diff}$  1.01 \n"
     ]
    }
   ],
   "source": []
  },
  {
   "cell_type": "markdown",
   "metadata": {},
   "source": [
    "### Tracer flux"
   ]
  },
  {
   "cell_type": "code",
   "execution_count": null,
   "metadata": {
    "collapsed": true
   },
   "outputs": [],
   "source": [
    "Phi = 0.9*F()\n",
    "phiTr = C*Phi - 442.22"
   ]
  },
  {
   "cell_type": "code",
   "execution_count": 26,
   "metadata": {
    "collapsed": false,
    "scrolled": true
   },
   "outputs": [
    {
     "name": "stdout",
     "output_type": "stream",
     "text": [
      "\\Phi/UWD_{eff} = 6.33 Fw^{3/2} Ro^{1/2} (1-0.89 *Se)^3 +-0.01\n",
      "\\Phi_{Tr} = 1.00 $\\Phi \\ bar{C}$ + -1094.69 \n"
     ]
    }
   ],
   "source": [
    "Y_array = np.array([rec.PhiTr for rec in records_epsilon])\n",
    "X_array = np.array([rec.RA2018*(rec.u_mod*W*Dh(rec.f,L,rec.N_eff_scaled))*\n",
    "                    (rec.Tr_scaled) for rec in records_epsilon])\n",
    "slope6, intercept6, r_value6, p_value6, std_err6 = scipy.stats.linregress(np.squeeze(X_array),\n",
    "                                                                          np.squeeze(Y_array))\n",
    "    \n",
    "for rec in records_real:\n",
    "    rec.Phi_scaled = rec.RA2018*(rec.u_mod*W*Dh(rec.f,L,rec.N_eff_scaled))\n",
    "    rec.PhiTr_scaled = np.squeeze((slope6*rec.Phi_scaled*(rec.Tr_scaled))+intercept6)\n",
    "    \n",
    "print('\\Phi/UWD_{eff} = %1.2f Fw^{3/2} Ro^{1/2} (1-%1.2f *Se)^3 +%1.2f' %(slope2,param2,intercept2))    \n",
    "print('\\Phi_{Tr} = %1.2f $\\Phi \\ bar{C}$ + %1.2f ' %(slope6, intercept6))    "
   ]
  },
  {
   "cell_type": "markdown",
   "metadata": {},
   "source": [
    "## Figures"
   ]
  },
  {
   "cell_type": "code",
   "execution_count": 27,
   "metadata": {
    "collapsed": false
   },
   "outputs": [
    {
     "data": {
      "image/png": "[encoded data removed]",
      "text/plain": [
       "<Figure size 360x360 with 4 Axes>"
      ]
     },
     "metadata": {},
     "output_type": "display_data"
    }
   ],
   "source": [
    "sns.set_context('paper')\n",
    "plt.rcParams['font.size'] = 11.0\n",
    "f = plt.figure(figsize = (5,5)) # 190mm = 7.48 in, 230cm = 9.05in\n",
    "\n",
    "gs = gspec.GridSpec(2, 2,wspace=0.2)\n",
    "ax1 = plt.subplot(gs[0,0])\n",
    "ax0 = plt.subplot(gs[0,1])\n",
    "ax3 = plt.subplot(gs[1,0])\n",
    "ax2 = plt.subplot(gs[1,1])\n",
    "\n",
    "\n",
    "# ---- plot 1:1 line ----\n",
    "ax0.plot(np.linspace(-0.1,3.5,20),np.linspace(-0.1,3.5,20), '-',color='0.5')\n",
    "ax1.plot(np.linspace(2,8,20),np.linspace(2,8,20), '-', color='0.5')\n",
    "ax3.plot(np.linspace(5, 17, 20),np.linspace(5,17, 20),'-', color='0.5')\n",
    "ax2.plot(np.linspace(1, 1.8, 20),np.linspace(1, 1.8, 20),'-', color='0.5')\n",
    "\n",
    "# ---- plot error -----\n",
    "# MSE ax0    \n",
    "phi_array = np.array([(rec.Nbe_scaled/rec.N)**2 for rec in records_epsilon])\n",
    "sca_array = np.array([(rec.Nbe)**2/(rec.N**2)  for rec in records_epsilon])\n",
    "x_fit = np.linspace(-0.1, 3.5, 50)\n",
    "mean_sq_err = np.nanmean(((phi_array)-(sca_array))**2)\n",
    "upper_bound = ax0.plot(x_fit,x_fit+(mean_sq_err)**(0.5),linestyle = '--',color='0.5')\n",
    "lower_bound = ax0.plot(x_fit,x_fit-(mean_sq_err)**(0.5),linestyle = '--',color='0.5')\n",
    "\n",
    "# MSE ax1    \n",
    "phi_array = np.array([(rec.Nab_scaled/rec.N)**2 for rec in records_epsilon])\n",
    "sca_array = np.array([(rec.Nab)**2/(rec.N**2) for rec in records_epsilon])\n",
    "x_fit = np.linspace(2,8, 50)\n",
    "mean_sq_err = np.mean(((phi_array)-(sca_array))**2)\n",
    "upper_bound = ax1.plot(x_fit,x_fit+(mean_sq_err)**(0.5),linestyle = '--',color='0.5')\n",
    "lower_bound = ax1.plot(x_fit,x_fit-(mean_sq_err)**(0.5),linestyle = '--',color='0.5')\n",
    "\n",
    "# MSE ax2    \n",
    "phi_array = np.array([rec.N_eff_scaled/1E-3 for rec in records_epsilon])\n",
    "sca_array = np.array([rec.Neff/1E-3 for rec in records_epsilon])\n",
    "x_fit = np.linspace(5,17, 50)\n",
    "mean_sq_err = np.mean(((phi_array)-(sca_array))**2)\n",
    "upper_bound = ax3.plot(x_fit,x_fit+(mean_sq_err)**(0.5),linestyle = '--',color='0.5')\n",
    "lower_bound = ax3.plot(x_fit,x_fit-(mean_sq_err)**(0.5),linestyle = '--',color='0.5')\n",
    "\n",
    "# MSE ax3    \n",
    "phi_array = np.squeeze(np.array([rec.Tr_scaled/rec.Tr0 for rec in records_epsilon]))\n",
    "sca_array = np.squeeze(np.array([rec.Tr/rec.Tr0 for rec in records_epsilon]))\n",
    "x_fit = np.linspace(1,1.8, 50)\n",
    "mean_sq_err = np.mean(((phi_array)-(sca_array))**2)\n",
    "upper_bound = ax2.plot(x_fit,x_fit+(mean_sq_err)**(0.5),linestyle = '--',color='0.5')\n",
    "lower_bound = ax2.plot(x_fit,x_fit-(mean_sq_err)**(0.5),linestyle = '--',color='0.5')\n",
    "\n",
    "# ---- plot scaling ----\n",
    "for rec in records_real:\n",
    "    \n",
    "    plt0 = ax0.plot((rec.Nbe_scaled/rec.N)**2,(rec.Nbe)**2/(rec.N**2),\n",
    "                    marker = rec.mstyle,\n",
    "                    markersize = 7,\n",
    "                    color = sns.xkcd_rgb[rec.color2],\n",
    "                    markeredgewidth=0.5,\n",
    "                    markeredgecolor = 'k',\n",
    "                    label=rec.label2)\n",
    "      \n",
    "    plt1 = ax1.plot((rec.Nab_scaled/rec.N)**2,(rec.Nab)**2/(rec.N**2),\n",
    "                    marker = rec.mstyle,\n",
    "                    markersize = 7,\n",
    "                    color = sns.xkcd_rgb[rec.color2],\n",
    "                    markeredgewidth=0.5,\n",
    "                    markeredgecolor = 'k',\n",
    "                    label=rec.label2) \n",
    "    \n",
    "    plt2 = ax3.plot(rec.N_eff_scaled/1E-3,rec.Neff/1E-3,\n",
    "                    marker = rec.mstyle,\n",
    "                    markersize = 7,\n",
    "                    color = sns.xkcd_rgb[rec.color2],\n",
    "                    markeredgewidth=0.5,\n",
    "                    markeredgecolor = 'k',\n",
    "                    label=rec.label2)\n",
    "    plt3 = ax2.plot(rec.Tr_scaled/rec.Tr0,\n",
    "                    (rec.Tr/rec.Tr0),\n",
    "                     marker = rec.mstyle,\n",
    "                     markersize = 7,\n",
    "                     color = sns.xkcd_rgb[rec.color2],\n",
    "                     markeredgewidth=0.5,\n",
    "                     markeredgecolor = 'k',\n",
    "                     label=rec.label2)\n",
    "\n",
    "    \n",
    "    \n",
    "# ---- aesthetics -----\n",
    "ax0.set_xlim(-0.1,3.5)\n",
    "ax0.set_ylim(-0.1,3.5)\n",
    "\n",
    "ax1.set_xlim(2,8)\n",
    "ax1.set_ylim(2,8)\n",
    "\n",
    "ax3.set_xlim(7,15.5)\n",
    "ax3.set_ylim(7,15.5)\n",
    "\n",
    "ax2.set_xlim(1,1.62)\n",
    "ax2.set_ylim(1,1.62)\n",
    "\n",
    "\n",
    "ax0.set_ylabel('min $N^2/N^2_0$',labelpad=-1.5)\n",
    "ax1.set_ylabel('max $N^2/N^2_0$',labelpad=-1.5)\n",
    "ax0.set_xlabel(r'%1.2f$S^-$ + %1.2f$S^-_{dif}$  %1.2f' %(reg_be.coef_[0], \n",
    "                                                         reg_be.coef_[1], \n",
    "                                                         reg_be.intercept_),labelpad=0.5)\n",
    "ax1.set_xlabel(r'%1.2f$S^+$ + %1.2f$S^+_{dif}$ + %1.2f' %(reg_ab.coef_[0], \n",
    "                                                          reg_ab.coef_[1], \n",
    "                                                          reg_ab.intercept_),labelpad=0.5)\n",
    "\n",
    "ax3.set_ylabel('$N_{eff}$ model / $10^{-3}$ s$^{-1}$', labelpad=0)\n",
    "ax3.set_xlabel('$N_{eff}$ scaled / $10^{-3}$ s$^{-1}$',labelpad=0.0)\n",
    "ax2.set_ylabel(r'$C_{rim}$ model /$C_0$', labelpad=0)\n",
    "ax2.set_xlabel(r'$\\bar{C}$ /$C_0$', labelpad=0.0)\n",
    "\n",
    "ax0.tick_params(axis='x', pad=2)\n",
    "ax1.tick_params(axis='x', pad=2)\n",
    "ax3.tick_params(axis='x', pad=2)\n",
    "ax2.tick_params(axis='x', pad=2)\n",
    "\n",
    "ax0.tick_params(axis='y', pad=2)\n",
    "ax1.tick_params(axis='y', pad=2)\n",
    "ax3.tick_params(axis='y', pad=2)\n",
    "ax2.tick_params(axis='y', pad=2)\n",
    "\n",
    "ax0.legend(bbox_to_anchor=(1.05,1.3), ncol=1,columnspacing=0.1,labelspacing=0.1,frameon=True )\n",
    "\n",
    "ax0.set_aspect(1)\n",
    "ax1.set_aspect(1)\n",
    "ax2.set_aspect(1)\n",
    "ax3.set_aspect(1)\n",
    "\n",
    "ax1.text(0.1,0.85,'Eqn. 22',transform=ax1.transAxes)\n",
    "ax0.text(0.1,0.85,'Eqn. 24',transform=ax0.transAxes)\n",
    "ax3.text(0.1,0.85,'Eqn. 27',transform=ax3.transAxes)\n",
    "ax2.text(0.1,0.85,'Eqn. 25',transform=ax2.transAxes)\n",
    "\n",
    "ax1.text(0.87,0.05,'(a)',transform=ax1.transAxes)\n",
    "ax0.text(0.87,0.05,'(b)',transform=ax0.transAxes)\n",
    "ax3.text(0.87,0.05,'(c)',transform=ax3.transAxes)\n",
    "ax2.text(0.87,0.05,'(d)',transform=ax2.transAxes)\n",
    "\n",
    "plt.savefig('figure10_v2.eps',format='eps',bbox_inches='tight')\n"
   ]
  },
  {
   "cell_type": "code",
   "execution_count": 28,
   "metadata": {
    "collapsed": false
   },
   "outputs": [
    {
     "data": {
      "image/png": "[encoded data removed]",
      "text/plain": [
       "<Figure size 432x216 with 2 Axes>"
      ]
     },
     "metadata": {},
     "output_type": "display_data"
    }
   ],
   "source": [
    "sns.set_context('paper')\n",
    "plt.rcParams['font.size'] = 10.0\n",
    "f = plt.figure(figsize = (6,3)) # 190mm = 7.48 in, 230cm = 9.05in\n",
    "\n",
    "gs = gspec.GridSpec(1, 2)\n",
    "ax0 = plt.subplot(gs[0,0])\n",
    "ax1 = plt.subplot(gs[0,1])\n",
    "\n",
    "# ---- plot 1:1 lines ----\n",
    "ax0.plot(np.linspace(0,7,50),np.linspace(0,7,50),'-', color='0.5')\n",
    "ax1.plot(np.linspace(0,5.5,50),np.linspace(0,5.5,50),'-', color='0.5')\n",
    "\n",
    "# ---- plot errors ----\n",
    "# MSE ax0    \n",
    "phi_array = np.array([rec.Phi/1E4 for rec in records_dyn])\n",
    "sca_array = np.array([rec.Phi_scaled/1E4  for rec in records_dyn])\n",
    "x_fit = np.linspace(0,8, 50)\n",
    "mean_sq_err = np.mean(((phi_array)-(sca_array))**2)\n",
    "upper_bound = ax0.plot(x_fit,x_fit+(mean_sq_err)**(0.5),linestyle = '--',color='0.5')\n",
    "lower_bound = ax0.plot(x_fit,x_fit-(mean_sq_err)**(0.5),linestyle = '--',color='0.5')\n",
    "\n",
    "# MSE ax1    \n",
    "phi_array = np.array([rec.PhiTr_scaled/1E5 for rec in records_epsilon])\n",
    "sca_array = np.array([rec.PhiTr/1E5 for rec in records_epsilon])\n",
    "x_fit = np.linspace(0,6, 50)\n",
    "mean_sq_err = np.mean(((phi_array)-(sca_array))**2)\n",
    "upper_bound = ax1.plot(x_fit,x_fit+(mean_sq_err)**(0.5),linestyle = '--',color='0.5')\n",
    "lower_bound = ax1.plot(x_fit,x_fit-(mean_sq_err)**(0.5),linestyle = '--',color='0.5')\n",
    "\n",
    "# ---- plot scaling ----\n",
    "for rec in records_real:\n",
    "    \n",
    "    plt1 = ax0.errorbar(rec.Phi_scaled/1E4,\n",
    "                        rec.Phi/1E4,\n",
    "                        yerr=rec.Phi_std/1E4,\n",
    "                        marker = rec.mstyle,\n",
    "                        markersize = 8,\n",
    "                        color = sns.xkcd_rgb[rec.color2],\n",
    "                        markeredgewidth=0.5,\n",
    "                        markeredgecolor = 'k',\n",
    "                        label=rec.label2)\n",
    "    plt1 = ax1.errorbar(rec.PhiTr_scaled/1E5,\n",
    "                        rec.PhiTr/1E5,\n",
    "                        yerr=rec.PhiTr_std/1E5,\n",
    "                        marker = rec.mstyle,\n",
    "                        markersize = 8,\n",
    "                        color = sns.xkcd_rgb[rec.color2],\n",
    "                        markeredgewidth=0.5,\n",
    "                        markeredgecolor = 'k',\n",
    "                        label=rec.label2)\n",
    "\n",
    "\n",
    "# ---- aesthetics ----\n",
    "ax0.set_ylabel('Phi',labelpad=0.5)\n",
    "ax0.set_ylabel('Upwelling flux / $10^4$ m$^3$s$^{-1}$', labelpad=-0.5)\n",
    "ax1.set_ylabel('Tracer flux / $10^5$ $\\mu$Mm$^3$s$^{-1}$', labelpad=-0.5)\n",
    "\n",
    "ax0.set_xlabel(r'$\\Phi$ / $10^4$ m$^3$s$^{-1}$', labelpad=-0.5 )\n",
    "ax1.set_xlabel(r'$\\Phi_{Tr}$ / $10^5$ $\\mu$Mm$^3$s$^{-1}$', labelpad=-0.5)\n",
    "\n",
    "ax0.set_xlim(-0.2,7.2)\n",
    "ax0.set_ylim(-0.2,7.2)\n",
    "\n",
    "ax1.set_xlim(-0.2,5.8)\n",
    "ax1.set_ylim(-0.2,5.8)\n",
    "\n",
    "ax0.text(0.1,0.85,'Eqn. 28',transform=ax0.transAxes)\n",
    "ax1.text(0.1,0.85,'Eqn. 29',transform=ax1.transAxes)\n",
    "\n",
    "ax0.text(0.9,0.05,'(a)',transform=ax0.transAxes)\n",
    "ax1.text(0.9,0.05,'(b)',transform=ax1.transAxes)\n",
    "\n",
    "ax0.tick_params(axis='x', pad=2)\n",
    "ax1.tick_params(axis='x', pad=2)\n",
    "\n",
    "ax0.tick_params(axis='y', pad=2)\n",
    "ax1.tick_params(axis='y', pad=2)\n",
    "\n",
    "ax0.set_aspect(1)\n",
    "ax1.set_aspect(1)\n",
    "\n",
    "plt.savefig('figure11_v2.eps',format='eps',bbox_inches='tight')\n"
   ]
  },
  {
   "cell_type": "code",
   "execution_count": 42,
   "metadata": {
    "collapsed": false
   },
   "outputs": [
    {
     "data": {
      "image/png": "[encoded data removed]",
      "text/plain": [
       "<Figure size 432x216 with 2 Axes>"
      ]
     },
     "metadata": {},
     "output_type": "display_data"
    }
   ],
   "source": [
    "sns.set_context('paper')\n",
    "sns.set_style(\"white\")\n",
    "plt.rcParams['font.size'] = 10.0\n",
    "f = plt.figure(figsize = (6,3)) # 190mm = 7.48 in, 230cm = 9.05in\n",
    "\n",
    "gs = gspec.GridSpec(1, 2)\n",
    "ax0 = plt.subplot(gs[0])\n",
    "ax1 = plt.subplot(gs[1])\n",
    "\n",
    "# ---- plot scaling ----\n",
    "for rec in records_real:\n",
    "    \n",
    "    plt1 = ax0.errorbar(rec.Phi/1E4,\n",
    "                        rec.PhiTr/1E5,\n",
    "                        yerr=rec.PhiTr_std/1E5,\n",
    "                        xerr = rec.Phi_std/1E4,\n",
    "                        marker = '.',\n",
    "                        markersize = 12,\n",
    "                        color = 'yellowgreen',\n",
    "                        markeredgewidth=1,\n",
    "                        markeredgecolor = 'k',\n",
    "                        label=rec.label2,\n",
    "                        capsize=2,\n",
    "                        ecolor = '0.7')\n",
    "    if rec.kv <= 1E-5:\n",
    "        plt1 = ax1.scatter(Ro(U=rec.u_mod, f=rec.f, R=Wr),\n",
    "                           Bu(rec.N, rec.f,W,Hs),\n",
    "                           c = rec.PhiTr/1E5,\n",
    "                           vmin=0, vmax=5,\n",
    "                           cmap='Blues',\n",
    "                           marker = 'o',\n",
    "                           s = (rec.PhiTr/1E5)*20,\n",
    "                           linewidths=1,\n",
    "                           edgecolors='k',\n",
    "                           )\n",
    "    else:\n",
    "        plt1 = ax1.scatter(Ro(U=rec.u_mod, f=rec.f, R=Wr),\n",
    "                           Bu(rec.N, rec.f,W,Hs),\n",
    "                           c = rec.PhiTr/1E5,\n",
    "                           vmin=0, vmax=5,\n",
    "                           cmap='Blues',\n",
    "                           marker = 'o',\n",
    "                           s = (rec.PhiTr/1E5)*20,\n",
    "                           linewidths=1,\n",
    "                           edgecolors='r',\n",
    "                           )\n",
    "    \n",
    "\n",
    "# ---- aesthetics ----\n",
    "ax0.set_xlabel('Upwelling flux / $10^4$ m$^3$s$^{-1}$', labelpad=-0.5)\n",
    "ax0.set_ylabel('Tracer flux / $10^5$ $\\mu$Mm$^3$s$^{-1}$', labelpad=-0.5)\n",
    "\n",
    "ax1.set_xlabel('$R_W$', labelpad=-0.5)\n",
    "ax1.set_ylabel('$Bu$', labelpad=-0.5)\n",
    "\n",
    "#ax0.set_xlim(-0.2,7.2)\n",
    "#ax0.set_ylim(-0.2,7.2)\n",
    "\n",
    "ax0.tick_params(axis='x', pad=2)\n",
    "ax0.tick_params(axis='y', pad=2)\n",
    "\n",
    "ax1.tick_params(axis='x', pad=2)\n",
    "ax1.tick_params(axis='y', pad=2)\n",
    "\n",
    "ax0.set_aspect(1)\n",
    "ax1.set_aspect(1.07)\n",
    "\n",
    "ax1.text(0.1,0.56,'Tracer Flux')\n",
    "ax0.text(0.9,0.05,'(a)',transform=ax0.transAxes)\n",
    "ax1.text(0.9,0.05,'(b)',transform=ax1.transAxes)\n",
    "plt.savefig('figure_fluxes_comparison.eps',format='eps',bbox_inches='tight')\n"
   ]
  },
  {
   "cell_type": "markdown",
   "metadata": {},
   "source": [
    "### Tables"
   ]
  },
  {
   "cell_type": "code",
   "execution_count": 30,
   "metadata": {
    "collapsed": false
   },
   "outputs": [
    {
     "name": "stdout",
     "output_type": "stream",
     "text": [
      "Experiment &\t$\\kappa_{bg}$ &\t$\\kappa_{can}$&\t$\\epsilon$&\n",
      "base case\t&$1.00e-05$\t&$1.00e-05$\t&$5$ \n",
      "$\\uparrow$ $K_{bg}$\t&$1.00e-04$\t&$1.00e-04$\t&$5$ \n",
      "$\\uparrow \\uparrow$ $K_{bg}$\t&$1.00e-03$\t&$1.00e-03$\t&$5$ \n",
      "$\\uparrow$ $N_0$\t&$1.00e-05$\t&$1.00e-05$\t&$5$ \n",
      "$\\uparrow \\uparrow$ $N_0$\t&$1.00e-05$\t&$1.00e-05$\t&$5$ \n",
      "$\\Downarrow$ $N_0$\t&$1.00e-05$\t&$1.00e-05$\t&$5$ \n",
      "$\\downarrow \\downarrow N_0$\t&$1.00e-05$\t&$1.00e-05$\t&$5$ \n",
      "$\\downarrow$ $N_0$\t&$1.00e-05$\t&$1.00e-05$\t&$5$ \n",
      "$\\uparrow f$\t&$1.00e-05$\t&$1.00e-05$\t&$5$ \n",
      "$\\downarrow \\downarrow$ $f$\t&$1.00e-05$\t&$1.00e-05$\t&$5$ \n",
      "$\\downarrow f$\t&$1.00e-05$\t&$1.00e-05$\t&$5$ \n",
      "$\\Downarrow f$\t&$1.00e-05$\t&$1.00e-05$\t&$5$ \n",
      "$\\downarrow$ U\t&$1.00e-05$\t&$1.00e-05$\t&$5$ \n",
      "$\\downarrow \\downarrow$ U\t&$1.00e-05$\t&$1.00e-05$\t&$5$ \n",
      "$\\Downarrow$ U\t&$1.00e-05$\t&$1.00e-05$\t&$5$ \n",
      "$\\Downarrow$ U, $\\downarrow \\downarrow$ $N_0$\t&$1.00e-05$\t&$1.00e-05$\t&$5$ \n",
      "$\\Downarrow$ U, $\\uparrow \\uparrow$ $N_0$\t&$1.00e-05$\t&$1.00e-05$\t&$5$ \n",
      "$\\Downarrow$ U, $\\Downarrow$ $f$\t&$1.00e-05$\t&$1.00e-05$\t&$5$ \n",
      "$\\Downarrow$ U, $\\uparrow \\uparrow K_{can}$\t&$1.00e-03$\t&$1.00e-03$\t&$5$ \n",
      "$K_{can}$ Monterey (bot)\t&$6.84e-04$\t&$9.10e-03$\t&$10$ \n",
      "$K_{can}$ Eel (bot)\t&$8.52e-05$\t&$1.22e-03$\t&$10$ \n",
      "$K_{can}$ Monterey\t&$2.83e-04$\t&$8.11e-03$\t&$10$ \n",
      "$K_{can}$ Ascension (bot)\t&$6.53e-04$\t&$1.50e-03$\t&$10$ \n",
      "$\\Uparrow \\Uparrow K_{can}$, $\\epsilon 10$\t&$1.00e-05$\t&$1.00e-02$\t&$10$ \n",
      "$\\Uparrow \\Uparrow K_{can}$, $\\epsilon 25$\t&$1.00e-05$\t&$1.00e-02$\t&$25$ \n",
      "$\\Uparrow \\Uparrow K_{can}$, $\\epsilon 50$\t&$1.00e-05$\t&$1.00e-02$\t&$50$ \n",
      "$\\Uparrow \\Uparrow K_{can}$, $\\epsilon 100$\t&$1.00e-05$\t&$1.00e-02$\t&$100$ \n",
      "$\\Uparrow \\Uparrow K_{can}$, $\\epsilon 15$\t&$1.00e-05$\t&$1.00e-02$\t&$15$ \n",
      "$\\Uparrow \\Uparrow K_{can}$, $\\epsilon 75$\t&$1.00e-05$\t&$1.00e-02$\t&$75$ \n",
      "$\\Uparrow \\Uparrow K_{can}$, $\\epsilon 150$\t&$1.00e-05$\t&$1.00e-02$\t&$150$ \n",
      "$\\uparrow \\uparrow K_{can}$\t&$1.00e-05$\t&$1.00e-03$\t&$5$ \n",
      "$\\Uparrow \\uparrow K_{can}$\t&$1.00e-05$\t&$5.00e-03$\t&$5$ \n",
      "$\\uparrow \\uparrow K_{can}$ $\\epsilon 25$\t&$1.00e-05$\t&$1.00e-03$\t&$25$ \n",
      "$\\uparrow \\uparrow K_{can}$ $\\epsilon 100$\t&$1.00e-05$\t&$1.00e-03$\t&$100$ \n",
      "$\\Uparrow \\uparrow K_{can}$ $\\epsilon 25$\t&$1.00e-05$\t&$5.00e-03$\t&$25$ \n",
      "$\\Uparrow \\uparrow K_{can}$, $\\epsilon 100$\t&$1.00e-05$\t&$5.00e-03$\t&$100$ \n",
      "$\\Uparrow \\uparrow \\uparrow K_{can}$\t&$1.00e-05$\t&$8.00e-03$\t&$5$ \n",
      "$\\Uparrow \\Uparrow \\uparrow K_{can}$\t&$1.00e-05$\t&$1.20e-02$\t&$5$ \n",
      "$\\Uparrow K_{can}$\t&$1.00e-05$\t&$2.50e-03$\t&$5$ \n",
      "$\\uparrow K_{can}$\t&$1.00e-05$\t&$5.00e-04$\t&$5$ \n",
      "$\\Uparrow \\Uparrow K_{can}$\t&$1.00e-05$\t&$1.00e-02$\t&$5$ \n"
     ]
    }
   ],
   "source": [
    "print (\"\\t\".join(['Experiment &','$\\kappa_{bg}$ &','$\\kappa_{can}$&','$\\epsilon$&',\n",
    "                 ]))\n",
    "\n",
    "    \n",
    "for rec in records_sel:\n",
    "     print (\"\\t\".join(['%s\\t&$%0.2e$\\t&$%0.2e$\\t&$%1.0f$ ' \n",
    "                      % (rec.label2,\n",
    "                         rec.kbg,\n",
    "                         rec.kv, \n",
    "                         rec.epsilon,\n",
    "                         )\n",
    "                       ]))"
   ]
  },
  {
   "cell_type": "code",
   "execution_count": 34,
   "metadata": {
    "collapsed": false
   },
   "outputs": [
    {
     "name": "stdout",
     "output_type": "stream",
     "text": [
      "Experiment &\t$N$ (s$^{-1}$)$&\t$f$ (s$^{-1}$)&\tU (ms$^{-1}$)&\t$Bu$&\t$Ro$\t$R_L$\t$R_W$\n",
      "base case\t\t&$5.5e-03$\t&$9.66e-05$\t&$0.36$\t&$0.39$\t&$0.76$\t&$0.59$\t&$0.27$\t \n",
      "$\\uparrow$ $K_{bg}$\t\t&$5.5e-03$\t&$9.66e-05$\t&$0.36$\t&$0.39$\t&$0.75$\t&$0.59$\t&$0.27$\t \n",
      "$\\uparrow \\uparrow$ $K_{bg}$\t\t&$5.5e-03$\t&$9.66e-05$\t&$0.32$\t&$0.39$\t&$0.66$\t&$0.52$\t&$0.24$\t \n",
      "$\\uparrow$ $N_0$\t\t&$6.3e-03$\t&$9.66e-05$\t&$0.38$\t&$0.44$\t&$0.78$\t&$0.61$\t&$0.29$\t \n",
      "$\\uparrow \\uparrow$ $N_0$\t\t&$7.4e-03$\t&$9.66e-05$\t&$0.40$\t&$0.52$\t&$0.82$\t&$0.64$\t&$0.30$\t \n",
      "$\\Downarrow$ $N_0$\t\t&$4.6e-03$\t&$9.66e-05$\t&$0.35$\t&$0.32$\t&$0.72$\t&$0.56$\t&$0.26$\t \n",
      "$\\downarrow \\downarrow N_0$\t\t&$4.7e-03$\t&$9.66e-05$\t&$0.35$\t&$0.33$\t&$0.72$\t&$0.56$\t&$0.26$\t \n",
      "$\\downarrow$ $N_0$\t\t&$5.0e-03$\t&$9.66e-05$\t&$0.35$\t&$0.35$\t&$0.73$\t&$0.57$\t&$0.27$\t \n",
      "$\\uparrow f$\t\t&$5.5e-03$\t&$1.00e-04$\t&$0.36$\t&$0.37$\t&$0.72$\t&$0.56$\t&$0.26$\t \n",
      "$\\downarrow \\downarrow$ $f$\t\t&$5.5e-03$\t&$7.68e-05$\t&$0.39$\t&$0.49$\t&$1.02$\t&$0.80$\t&$0.37$\t \n",
      "$\\downarrow f$\t\t&$5.5e-03$\t&$8.60e-05$\t&$0.38$\t&$0.43$\t&$0.88$\t&$0.69$\t&$0.32$\t \n",
      "$\\Downarrow f$\t\t&$5.5e-03$\t&$6.40e-05$\t&$0.41$\t&$0.58$\t&$1.29$\t&$1.01$\t&$0.47$\t \n",
      "$\\downarrow$ U\t\t&$5.5e-03$\t&$9.66e-05$\t&$0.31$\t&$0.39$\t&$0.65$\t&$0.51$\t&$0.24$\t \n",
      "$\\downarrow \\downarrow$ U\t\t&$5.5e-03$\t&$9.66e-05$\t&$0.26$\t&$0.39$\t&$0.53$\t&$0.42$\t&$0.19$\t \n",
      "$\\Downarrow$ U\t\t&$5.5e-03$\t&$9.66e-05$\t&$0.14$\t&$0.39$\t&$0.29$\t&$0.23$\t&$0.11$\t \n",
      "$\\Downarrow$ U, $\\downarrow \\downarrow$ $N_0$\t\t&$4.6e-03$\t&$9.66e-05$\t&$0.13$\t&$0.32$\t&$0.28$\t&$0.22$\t&$0.10$\t \n",
      "$\\Downarrow$ U, $\\uparrow \\uparrow$ $N_0$\t\t&$7.4e-03$\t&$9.66e-05$\t&$0.15$\t&$0.52$\t&$0.31$\t&$0.24$\t&$0.11$\t \n",
      "$\\Downarrow$ U, $\\Downarrow$ $f$\t\t&$5.5e-03$\t&$7.00e-05$\t&$0.15$\t&$0.53$\t&$0.44$\t&$0.35$\t&$0.16$\t \n",
      "$\\Downarrow$ U, $\\uparrow \\uparrow K_{can}$\t\t&$5.5e-03$\t&$9.66e-05$\t&$0.12$\t&$0.39$\t&$0.24$\t&$0.19$\t&$0.09$\t \n",
      "$K_{can}$ Monterey (bot)\t\t&$5.5e-03$\t&$9.66e-05$\t&$0.34$\t&$0.39$\t&$0.71$\t&$0.55$\t&$0.26$\t \n",
      "$K_{can}$ Eel (bot)\t\t&$5.5e-03$\t&$9.66e-05$\t&$0.36$\t&$0.39$\t&$0.74$\t&$0.58$\t&$0.27$\t \n",
      "$K_{can}$ Monterey\t\t&$5.5e-03$\t&$9.66e-05$\t&$0.36$\t&$0.39$\t&$0.74$\t&$0.58$\t&$0.27$\t \n",
      "$K_{can}$ Ascension (bot)\t\t&$5.5e-03$\t&$9.66e-05$\t&$0.35$\t&$0.39$\t&$0.73$\t&$0.57$\t&$0.27$\t \n",
      "$\\Uparrow \\Uparrow K_{can}$, $\\epsilon 10$\t\t&$5.5e-03$\t&$9.66e-05$\t&$0.35$\t&$0.39$\t&$0.72$\t&$0.56$\t&$0.26$\t \n",
      "$\\Uparrow \\Uparrow K_{can}$, $\\epsilon 25$\t\t&$5.5e-03$\t&$9.66e-05$\t&$0.34$\t&$0.39$\t&$0.71$\t&$0.55$\t&$0.26$\t \n",
      "$\\Uparrow \\Uparrow K_{can}$, $\\epsilon 50$\t\t&$5.5e-03$\t&$9.66e-05$\t&$0.34$\t&$0.39$\t&$0.70$\t&$0.55$\t&$0.25$\t \n",
      "$\\Uparrow \\Uparrow K_{can}$, $\\epsilon 100$\t\t&$5.5e-03$\t&$9.66e-05$\t&$0.34$\t&$0.39$\t&$0.70$\t&$0.55$\t&$0.25$\t \n",
      "$\\Uparrow \\Uparrow K_{can}$, $\\epsilon 15$\t\t&$5.5e-03$\t&$9.66e-05$\t&$0.34$\t&$0.39$\t&$0.71$\t&$0.56$\t&$0.26$\t \n",
      "$\\Uparrow \\Uparrow K_{can}$, $\\epsilon 75$\t\t&$5.5e-03$\t&$9.66e-05$\t&$0.34$\t&$0.39$\t&$0.70$\t&$0.55$\t&$0.25$\t \n",
      "$\\Uparrow \\Uparrow K_{can}$, $\\epsilon 150$\t\t&$5.5e-03$\t&$9.66e-05$\t&$0.34$\t&$0.39$\t&$0.70$\t&$0.55$\t&$0.25$\t \n",
      "$\\uparrow \\uparrow K_{can}$\t\t&$5.5e-03$\t&$9.66e-05$\t&$0.36$\t&$0.39$\t&$0.74$\t&$0.58$\t&$0.27$\t \n",
      "$\\Uparrow \\uparrow K_{can}$\t\t&$5.5e-03$\t&$9.66e-05$\t&$0.35$\t&$0.39$\t&$0.72$\t&$0.56$\t&$0.26$\t \n",
      "$\\uparrow \\uparrow K_{can}$ $\\epsilon 25$\t\t&$5.5e-03$\t&$9.66e-05$\t&$0.36$\t&$0.39$\t&$0.74$\t&$0.58$\t&$0.27$\t \n",
      "$\\uparrow \\uparrow K_{can}$ $\\epsilon 100$\t\t&$5.5e-03$\t&$9.66e-05$\t&$0.36$\t&$0.39$\t&$0.74$\t&$0.58$\t&$0.27$\t \n",
      "$\\Uparrow \\uparrow K_{can}$ $\\epsilon 25$\t\t&$5.5e-03$\t&$9.66e-05$\t&$0.35$\t&$0.39$\t&$0.72$\t&$0.56$\t&$0.26$\t \n",
      "$\\Uparrow \\uparrow K_{can}$, $\\epsilon 100$\t\t&$5.5e-03$\t&$9.66e-05$\t&$0.34$\t&$0.39$\t&$0.71$\t&$0.56$\t&$0.26$\t \n",
      "$\\Uparrow \\uparrow \\uparrow K_{can}$\t\t&$5.5e-03$\t&$9.66e-05$\t&$0.35$\t&$0.39$\t&$0.72$\t&$0.56$\t&$0.26$\t \n",
      "$\\Uparrow \\Uparrow \\uparrow K_{can}$\t\t&$5.5e-03$\t&$9.66e-05$\t&$0.35$\t&$0.39$\t&$0.73$\t&$0.57$\t&$0.26$\t \n",
      "$\\Uparrow K_{can}$\t\t&$5.5e-03$\t&$9.66e-05$\t&$0.35$\t&$0.39$\t&$0.73$\t&$0.57$\t&$0.26$\t \n",
      "$\\uparrow K_{can}$\t\t&$5.5e-03$\t&$9.66e-05$\t&$0.36$\t&$0.39$\t&$0.74$\t&$0.58$\t&$0.27$\t \n",
      "$\\Uparrow \\Uparrow K_{can}$\t\t&$5.5e-03$\t&$9.66e-05$\t&$0.35$\t&$0.39$\t&$0.73$\t&$0.57$\t&$0.26$\t \n"
     ]
    }
   ],
   "source": [
    "print (\"\\t\".join(['Experiment &', '$N$ (s$^{-1}$)$&', \n",
    "                  '$f$ (s$^{-1}$)&', 'U (ms$^{-1}$)&', '$Bu$&', '$Ro$' ,'$R_L$' ,'$R_W$' ,\n",
    "                 ]))\n",
    "\n",
    "    \n",
    "for rec in records_sel:\n",
    "     print (\"\\t\".join(['%s\\t\\t&$%.1e$\\t&$%.2e$\\t&$%.2f$\\t&$%.2f$\\t&$%.2f$\\t&$%.2f$\\t&$%.2f$\\t ' \n",
    "                      % (rec.label2, \n",
    "                         rec.N,\n",
    "                         rec.f,\n",
    "                         rec.u_mod,\n",
    "                         Bu(rec.N, rec.f, W, Hs),\n",
    "                         Ro(U=rec.u_mod, f=rec.f, R=R),\n",
    "                         Ro(U=rec.u_mod, f=rec.f, R=L),\n",
    "                         Ro(U=rec.u_mod, f=rec.f, R=Wr),\n",
    "                         )\n",
    "                       ]))"
   ]
  },
  {
   "cell_type": "code",
   "execution_count": 32,
   "metadata": {
    "collapsed": false,
    "scrolled": true
   },
   "outputs": [
    {
     "name": "stdout",
     "output_type": "stream",
     "text": [
      "Exp name&\tPhi 1E4&\tPhiTr 1E5&\tTotal HCW $10^{10}$ m$^3$&\tCanyonHCW (%)&\tTotTrMassHCW $10^{11}$ $\\mu$Mm$^3$&\tCanyonTrMassHCW (%)&\tMcanDelta inventory $10^{6}$ kg of NO3&\n",
      "base case\t&3.85$\\pm$0.60\t&2.76$\\pm$ 0.26\t&2.86\t&81.61\t\t&2.20\t\t&82.57\t&22.60\t&1.96\n",
      "$\\uparrow$ $K_{bg}$\t&3.70$\\pm$0.73\t&2.29$\\pm$ 0.24\t&2.80\t&87.26\t\t&2.05\t\t&87.20\t&22.63\t&2.02\n",
      "$\\uparrow \\uparrow$ $K_{bg}$\t&3.72$\\pm$1.58\t&0.96$\\pm$ 0.40\t&3.12\t&63.77\t\t&1.79\t\t&58.68\t&22.90\t&2.35\n",
      "$\\uparrow$ $N_0$\t&2.86$\\pm$0.44\t&1.99$\\pm$ 0.19\t&2.08\t&88.29\t\t&1.57\t\t&88.52\t&22.31\t&1.21\n",
      "$\\uparrow \\uparrow$ $N_0$\t&1.32$\\pm$0.55\t&1.11$\\pm$ 0.44\t&1.10\t&77.74\t\t&0.82\t\t&77.91\t&22.03\t&0.62\n",
      "$\\Downarrow$ $N_0$\t&6.78$\\pm$0.94\t&5.21$\\pm$ 0.82\t&4.63\t&29.03\t\t&3.69\t\t&34.85\t&23.09\t&3.48\n",
      "$\\downarrow \\downarrow N_0$\t&6.34$\\pm$0.92\t&4.84$\\pm$ 0.72\t&4.35\t&30.84\t\t&3.45\t\t&36.36\t&23.02\t&3.25\n",
      "$\\downarrow$ $N_0$\t&5.15$\\pm$0.95\t&3.86$\\pm$ 0.74\t&3.69\t&35.50\t\t&2.90\t\t&40.33\t&22.86\t&2.73\n",
      "$\\uparrow f$\t&4.03$\\pm$0.58\t&2.95$\\pm$ 0.36\t&2.96\t&73.08\t\t&2.30\t\t&74.70\t&22.60\t&2.06\n",
      "$\\downarrow \\downarrow$ $f$\t&2.95$\\pm$0.72\t&1.96$\\pm$ 0.33\t&2.18\t&85.80\t\t&1.65\t\t&86.09\t&22.58\t&1.38\n",
      "$\\downarrow f$\t&3.42$\\pm$0.73\t&2.28$\\pm$ 0.14\t&2.51\t&88.28\t\t&1.92\t\t&88.62\t&22.59\t&1.64\n",
      "$\\Downarrow f$\t&1.83$\\pm$0.88\t&1.03$\\pm$ 0.42\t&1.56\t&76.77\t\t&1.17\t\t&77.09\t&22.56\t&1.03\n",
      "$\\downarrow$ U\t&3.02$\\pm$0.39\t&2.27$\\pm$ 0.27\t&2.18\t&86.87\t\t&1.66\t\t&87.30\t&22.16\t&1.48\n",
      "$\\downarrow \\downarrow$ U\t&1.92$\\pm$0.39\t&1.50$\\pm$ 0.26\t&1.41\t&82.16\t\t&1.06\t\t&82.63\t&21.75\t&1.03\n",
      "$\\Downarrow$ U\t&0.14$\\pm$0.23\t&0.15$\\pm$ 0.07\t&0.18\t&69.05\t\t&0.13\t\t&69.53\t&21.08\t&0.31\n",
      "$\\Downarrow$ U, $\\downarrow \\downarrow$ $N_0$\t&0.61$\\pm$0.27\t&0.40$\\pm$ 0.12\t&0.49\t&66.83\t\t&0.37\t\t&67.73\t&21.17\t&0.59\n",
      "$\\Downarrow$ U, $\\uparrow \\uparrow$ $N_0$\t&0.01$\\pm$0.07\t&-0.02$\\pm$ 0.02\t&0.03\t&40.56\t\t&0.02\t\t&41.18\t&20.97\t&0.13\n",
      "$\\Downarrow$ U, $\\Downarrow$ $f$\t&0.11$\\pm$0.35\t&-0.02$\\pm$ 0.04\t&0.10\t&17.99\t\t&0.08\t\t&18.79\t&21.08\t&0.18\n",
      "$\\Downarrow$ U, $\\uparrow \\uparrow K_{can}$\t&1.23$\\pm$0.46\t&0.74$\\pm$ 0.09\t&0.88\t&0.78\t\t&0.65\t\t&1.26\t&21.44\t&0.25\n",
      "$K_{can}$ Monterey (bot)\t&4.97$\\pm$0.48\t&3.77$\\pm$ 0.31\t&3.62\t&85.48\t\t&2.71\t\t&85.81\t&23.02\t&4.57\n",
      "$K_{can}$ Eel (bot)\t&3.86$\\pm$0.59\t&2.74$\\pm$ 0.20\t&2.89\t&81.81\t\t&2.22\t\t&82.69\t&22.74\t&2.81\n",
      "$K_{can}$ Monterey\t&3.87$\\pm$0.53\t&2.80$\\pm$ 0.16\t&2.87\t&81.69\t\t&2.25\t\t&82.94\t&22.74\t&2.85\n",
      "$K_{can}$ Ascension (bot)\t&4.18$\\pm$0.60\t&3.01$\\pm$ 0.24\t&3.07\t&82.91\t\t&2.37\t\t&83.82\t&22.82\t&3.29\n",
      "$\\Uparrow \\Uparrow K_{can}$, $\\epsilon 10$\t&4.07$\\pm$0.55\t&3.42$\\pm$ 0.34\t&3.10\t&83.05\t\t&2.53\t\t&84.83\t&22.88\t&3.71\n",
      "$\\Uparrow \\Uparrow K_{can}$, $\\epsilon 25$\t&4.12$\\pm$0.71\t&3.43$\\pm$ 0.50\t&3.14\t&83.29\t\t&2.52\t\t&84.76\t&22.97\t&4.24\n",
      "$\\Uparrow \\Uparrow K_{can}$, $\\epsilon 50$\t&4.21$\\pm$0.71\t&3.29$\\pm$ 0.55\t&3.18\t&83.48\t\t&2.46\t\t&84.38\t&23.02\t&4.53\n",
      "$\\Uparrow \\Uparrow K_{can}$, $\\epsilon 100$\t&4.51$\\pm$0.64\t&3.40$\\pm$ 0.46\t&3.36\t&84.37\t\t&2.52\t\t&84.76\t&23.04\t&4.70\n",
      "$\\Uparrow \\Uparrow K_{can}$, $\\epsilon 15$\t&4.08$\\pm$0.65\t&3.47$\\pm$ 0.41\t&3.12\t&83.17\t\t&2.54\t\t&84.89\t&22.92\t&3.94\n",
      "$\\Uparrow \\Uparrow K_{can}$, $\\epsilon 75$\t&4.39$\\pm$0.67\t&3.36$\\pm$ 0.50\t&3.28\t&84.01\t\t&2.49\t\t&84.57\t&23.03\t&4.63\n",
      "$\\Uparrow \\Uparrow K_{can}$, $\\epsilon 150$\t&4.70$\\pm$0.61\t&3.50$\\pm$ 0.40\t&3.45\t&84.80\t\t&2.56\t\t&85.00\t&23.05\t&4.71\n",
      "$\\uparrow \\uparrow K_{can}$\t&3.77$\\pm$0.62\t&2.71$\\pm$ 0.13\t&2.84\t&81.53\t\t&2.24\t\t&82.83\t&22.73\t&2.77\n",
      "$\\Uparrow \\uparrow K_{can}$\t&4.05$\\pm$0.50\t&3.21$\\pm$ 0.29\t&3.03\t&82.65\t\t&2.46\t\t&84.35\t&22.85\t&3.50\n",
      "$\\uparrow \\uparrow K_{can}$ $\\epsilon 25$\t&3.73$\\pm$0.63\t&2.65$\\pm$ 0.13\t&2.82\t&81.41\t\t&2.21\t\t&82.60\t&22.72\t&2.70\n",
      "$\\uparrow \\uparrow K_{can}$ $\\epsilon 100$\t&3.70$\\pm$0.67\t&2.57$\\pm$ 0.17\t&2.81\t&81.34\t\t&2.17\t\t&82.31\t&22.71\t&2.66\n",
      "$\\Uparrow \\uparrow K_{can}$ $\\epsilon 25$\t&3.98$\\pm$0.53\t&3.09$\\pm$ 0.30\t&3.00\t&82.47\t\t&2.39\t\t&83.91\t&22.89\t&3.73\n",
      "$\\Uparrow \\uparrow K_{can}$, $\\epsilon 100$\t&4.14$\\pm$0.56\t&3.04$\\pm$ 0.27\t&3.07\t&82.92\t\t&2.35\t\t&83.63\t&22.91\t&3.86\n",
      "$\\Uparrow \\uparrow \\uparrow K_{can}$\t&4.08$\\pm$0.54\t&3.35$\\pm$ 0.33\t&3.08\t&82.94\t\t&2.51\t\t&84.70\t&22.85\t&3.48\n",
      "$\\Uparrow \\Uparrow \\uparrow K_{can}$\t&4.17$\\pm$0.65\t&3.51$\\pm$ 0.39\t&3.13\t&83.22\t\t&2.55\t\t&84.95\t&22.81\t&3.27\n",
      "$\\Uparrow K_{can}$\t&3.91$\\pm$0.56\t&2.93$\\pm$ 0.16\t&2.92\t&82.03\t\t&2.34\t\t&83.57\t&22.81\t&3.23\n",
      "$\\uparrow K_{can}$\t&3.65$\\pm$0.67\t&2.57$\\pm$ 0.13\t&2.78\t&81.14\t\t&2.17\t\t&82.33\t&22.69\t&2.50\n",
      "$\\Uparrow \\Uparrow K_{can}$\t&4.09$\\pm$0.58\t&3.39$\\pm$ 0.37\t&3.09\t&83.02\t\t&2.53\t\t&84.79\t&22.83\t&3.38\n"
     ]
    }
   ],
   "source": [
    "print (\"\\t\".join(['Exp name&','Phi 1E4&','PhiTr 1E5&', 'Total HCW $10^{10}$ m$^3$&', \n",
    "                  'CanyonHCW (%)&',  'TotTrMassHCW $10^{11}$ $\\mu$Mm$^3$&', 'CanyonTrMassHCW (%)&', 'Mcan'\n",
    "                  'Delta inventory $10^{6}$ kg of NO3&' ]))\n",
    "\n",
    "    \n",
    "for rec,recNoC in zip(records_sel,records_selNoC):\n",
    "    \n",
    "    \n",
    "    print (\"\\t\".join(['%s\\t&%0.2f$\\pm$%0.2f\\t&%0.2f$\\pm$ %0.2f\\t&%.2f\\t&%.2f\\t\\t&%.2f\\t\\t&%.2f\\t&%.2f\\t&%.2f' \n",
    "                      % (rec.label2,\n",
    "                         rec.Phi/1E4,rec.Phi_std/1E4,\n",
    "                         rec.PhiTr/1E5, rec.PhiTr_std/1E5,\n",
    "                         (rec.HCW[18])/1E10,\n",
    "                         ((rec.HCW[18]-recNoC.HCW[18])/(rec.HCW[18]))*100,\n",
    "                         (rec.TrMass[18])/1E11,\n",
    "                         ((rec.TrMass[18]-recNoC.TrMass[18])/rec.TrMass[18])*100,\n",
    "                         (rec.TrMassTot[18]/1E11),\n",
    "                         ((rec.TrMassTot[18]-recNoC.TrMassTot[18])*6.2E-5)/1E6)]))\n",
    "    "
   ]
  },
  {
   "cell_type": "markdown",
   "metadata": {
    "collapsed": true
   },
   "source": [
    "Conversion form $\\mu Mm^3$ of $NO^-_3$ to kg of $NO^-_3$:\n",
    "\n",
    "molecular weight of $NO^-_3$ = 3x16 O + 1x12 N = 62 g/mol\n",
    "\n",
    "$\\mu$Mm$^3$  = 1 x $10^{-6}$ x mol/0.001 m$^3$ x 1 m$^3$ =  $10^{-3}$ mol\n",
    "\n",
    "$10^{-3}$ mol $NO_3$ = $10^{-3}$ mol x 62 g/mol = 0.062 g = $6.2 \\times 10^{-5}$ kg"
   ]
  },
  {
   "cell_type": "code",
   "execution_count": null,
   "metadata": {
    "collapsed": true
   },
   "outputs": [],
   "source": []
  },
  {
   "cell_type": "code",
   "execution_count": null,
   "metadata": {
    "collapsed": true
   },
   "outputs": [],
   "source": []
  }
 ],
 "metadata": {
  "anaconda-cloud": {},
  "kernelspec": {
   "display_name": "Python [default]",
   "language": "python",
   "name": "python3"
  },
  "language_info": {
   "codemirror_mode": {
    "name": "ipython",
    "version": 3
   },
   "file_extension": ".py",
   "mimetype": "text/x-python",
   "name": "python",
   "nbconvert_exporter": "python",
   "pygments_lexer": "ipython3",
   "version": "3.5.4"
  }
 },
 "nbformat": 4,
 "nbformat_minor": 1
}
