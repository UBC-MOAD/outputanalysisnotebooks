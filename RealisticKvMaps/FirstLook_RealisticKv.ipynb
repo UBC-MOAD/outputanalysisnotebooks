{
 "cells": [
  {
   "cell_type": "markdown",
   "metadata": {},
   "source": [
    "## Explore results from runs that have Kv maps inspired in measurements\n",
    "\n",
    "Compare Tr upwelled, HCW, N^2 and Tr concetration profiles."
   ]
  },
  {
   "cell_type": "code",
   "execution_count": 1,
   "metadata": {
    "collapsed": false
   },
   "outputs": [
    {
     "name": "stderr",
     "output_type": "stream",
     "text": [
      "/home/kramosmu/anaconda3/lib/python3.5/site-packages/cmocean/tools.py:76: MatplotlibDeprecationWarning: The is_string_like function was deprecated in version 2.1.\n",
      "  if not mpl.cbook.is_string_like(rgbin[0]):\n"
     ]
    }
   ],
   "source": [
    "import cmocean as cmo\n",
    "from netCDF4 import Dataset\n",
    "import matplotlib.pyplot as plt\n",
    "import matplotlib as mpl\n",
    "%matplotlib inline\n",
    "import numpy as np\n",
    "import seaborn as sns\n",
    "import canyon_tools.readout_tools as rout\n",
    "import canyon_tools.savitzky_golay as sg\n",
    "\n",
    "import matplotlib.gridspec as gspec\n",
    "\n",
    "import os\n",
    "import sys\n",
    "import warnings\n",
    "warnings.filterwarnings(\"ignore\")"
   ]
  },
  {
   "cell_type": "code",
   "execution_count": null,
   "metadata": {
    "collapsed": true
   },
   "outputs": [],
   "source": []
  },
  {
   "cell_type": "code",
   "execution_count": null,
   "metadata": {
    "collapsed": true
   },
   "outputs": [],
   "source": [
    "class run:\n",
    "        pass\n",
    "    \n",
    "CNTDIFF_base = run()\n",
    "VISC3D_run06 = run()\n",
    "VISC3D_run03 = run()\n",
    "VISC3D_REAL_run01 = run()\n",
    "    \n",
    "records = [ CNTDIFF_base ,\n",
    "            VISC3D_run06 ,\n",
    "            VISC3D_run03 ,\n",
    "            VISC3D_REAL_run01 ,\n",
    "           ]\n",
    "\n",
    "exps = ['CNTDIFF_STEP', '3DVISC', '3DVISC', '3DVISC_REALISTIC']\n",
    "runs= ['run38', 'run03', 'run06', 'run01']\n",
    "\n",
    "for rec, exp, runnum in zip(records,exp, runs):\n",
    "    rec.exp = exp\n",
    "    rec.run = runnum\n",
    "    "
   ]
  },
  {
   "cell_type": "code",
   "execution_count": null,
   "metadata": {
    "collapsed": true
   },
   "outputs": [],
   "source": [
    "for ii in range(len(records)):\n",
    "\n",
    "    file = ('/data/kramosmu/results/TracerExperiments/%s/HCW_TrMass_%s%s.csv' %(records[ii].exp,\n",
    "                                                                                records[ii].exp,\n",
    "                                                                                records[ii].run))\n",
    "    print(file)\n",
    "    dfcan = pd.read_csv(file)\n",
    "    records[ii].HCW = dfcan['HCW']\n",
    "    records[ii].TrMass = dfcan['TrMassHCW']\n",
    "    records[ii].TrMassTot = dfcan['TotTrMass']\n",
    " \n",
    " "
   ]
  },
  {
   "cell_type": "code",
   "execution_count": null,
   "metadata": {
    "collapsed": true
   },
   "outputs": [],
   "source": [
    "keys = ['N2_tt08','N2_tt10','N2_tt12','N2_tt14','N2_tt16',]\n",
    "key0 = 'N2_tt00'\n",
    "stname = 'DnC' # Station at downstream side of canyon\n",
    "\n",
    "for ii in range(len(records)):\n",
    "    \n",
    "    filename1 = ('/ocean/kramosmu/OutputAnalysis/outputanalysisnotebooks/results/metricsDataFrames/N2_%s_%s.csv' %\n",
    "                 (records[ii].name,stname))\n",
    "    df = pd.read_csv(filename1)\n",
    "    \n",
    "    df_anom=(df.sub(df[key0].squeeze(),axis=0)).add(df[key0][0])\n",
    "    \n",
    "    maxd3 = max(df_anom[keys[0]][26:])   # 22:26 for other scaling\n",
    "    maxd4 = max(df_anom[keys[1]][26:])   \n",
    "    maxd5 = max(df_anom[keys[2]][26:])   \n",
    "    maxd6 = max(df_anom[keys[3]][26:])   \n",
    "    maxd7 = max(df_anom[keys[4]][26:])   \n",
    "    \n",
    "    record.maxN = np.mean(np.array([maxd3,maxd4,maxd5,maxd6,maxd7]))\n",
    "    record.stdN = np.std(np.array([maxd3,maxd4,maxd5,maxd6,maxd7]))\n",
    "  \n",
    "    maxd3a = max(df_anom[keys[0]][22:26])   # 22:26 for other scaling\n",
    "    maxd4a = max(df_anom[keys[1]][22:26])   \n",
    "    maxd5a = max(df_anom[keys[2]][22:26])   \n",
    "    maxd6a = max(df_anom[keys[3]][22:26])   \n",
    "    maxd7a = max(df_anom[keys[4]][22:26])   \n",
    "    \n",
    "    record.maxNabove = np.mean(np.array([maxd3a,maxd4a,maxd5a,maxd6a,maxd7a]))\n",
    "    record.stdNabove = np.std(np.array([maxd3a,maxd4a,maxd5a,maxd6a,maxd7a]))\n",
    "  "
   ]
  },
  {
   "cell_type": "code",
   "execution_count": null,
   "metadata": {
    "collapsed": true
   },
   "outputs": [],
   "source": [
    "# Save mean maximum N of days 3-6 and std for each run.\n",
    "\n",
    "keys = ['dTrdz_tt08','dTrdz_tt10','dTrdz_tt12','dTrdz_tt14','dTrdz_tt16']\n",
    "key0 = 'dTrdz_tt00'\n",
    "stname = 'DnC' # Station at downstream side of canyon\n",
    "\n",
    "for record in records:\n",
    "    \n",
    "    filename1 = ('/ocean/kramosmu/OutputAnalysis/outputanalysisnotebooks/results/metricsDataFrames/dTr1dz_%s_%s.csv' %\n",
    "                 (record.name,stname))\n",
    "    df = pd.read_csv(filename1)\n",
    "    \n",
    "    df_anom=(df.sub(df[key0].squeeze(),axis=0)).add(df[key0][0])\n",
    "        \n",
    "    maxd3 = min(df_anom[keys[0]][22:26])   \n",
    "    maxd4 = min(df_anom[keys[1]][22:26])   \n",
    "    maxd5 = min(df_anom[keys[2]][22:26])   \n",
    "    maxd6 = min(df_anom[keys[3]][22:26])   \n",
    "    maxd7 = min(df_anom[keys[4]][22:26])   \n",
    "    \n",
    " \n",
    "    record.maxdTrdz = np.mean(np.array([maxd3,maxd4,maxd5,maxd6,maxd7]))\n",
    "    record.stddTrdz = np.std(np.array([maxd3,maxd4,maxd5,maxd6,maxd7]))\n",
    "    record.inidTrdz = df[key0][30]\n",
    "print('The initial tracer gradient is %f ' %(-1*record.inidTrdz))"
   ]
  },
  {
   "cell_type": "code",
   "execution_count": null,
   "metadata": {
    "collapsed": true
   },
   "outputs": [],
   "source": [
    "keys = ['Tr_profile_tt08','Tr_profile_tt10','Tr_profile_tt12','Tr_profile_tt14','Tr_profile_tt16']\n",
    "key0 = 'Tr_profile_tt00'\n",
    "stname = 'DnC' # Station at downstream side of canyon\n",
    "\n",
    "for record in records:\n",
    "    \n",
    "    filename1 = ('/ocean/kramosmu/OutputAnalysis/outputanalysisnotebooks/results/metricsDataFrames/Tr1_profile_%s_%s.csv' % (record.name,stname))\n",
    "    df = pd.read_csv(filename1)\n",
    "    df_anom=(df.sub(df[key0].squeeze(),axis=0))\n",
    "    maxd4 = np.mean(df[keys[0]][25:32])   \n",
    "    maxd5 = np.mean(df[keys[1]][25:32])   \n",
    "    maxd6 = np.mean(df[keys[2]][25:32]) \n",
    "    maxd7 = np.mean(df[keys[3]][25:32])  \n",
    "    maxd8 = np.mean(df[keys[4]][25:32])  \n",
    "    \n",
    "     \n",
    "    maxd0 = df[key0][29]\n",
    "    \n",
    "    \n",
    "    record.maxTr = np.mean(np.array([maxd4,maxd5,maxd6,maxd7,maxd8]))\n",
    "    record.stdTr = np.std(np.array([maxd4,maxd5,maxd6,maxd7,maxd8]))\n",
    "    \n",
    "    \n",
    "    record.TrSB = maxd0\n",
    "Ctop = df[key0][0]"
   ]
  }
 ],
 "metadata": {
  "anaconda-cloud": {},
  "kernelspec": {
   "display_name": "Python [default]",
   "language": "python",
   "name": "python3"
  },
  "language_info": {
   "codemirror_mode": {
    "name": "ipython",
    "version": 3
   },
   "file_extension": ".py",
   "mimetype": "text/x-python",
   "name": "python",
   "nbconvert_exporter": "python",
   "pygments_lexer": "ipython3",
   "version": "3.5.4"
  }
 },
 "nbformat": 4,
 "nbformat_minor": 1
}
