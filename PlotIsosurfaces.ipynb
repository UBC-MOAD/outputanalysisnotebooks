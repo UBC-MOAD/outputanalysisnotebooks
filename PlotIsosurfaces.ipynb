{
 "cells": [
  {
   "cell_type": "code",
   "execution_count": 24,
   "metadata": {
    "collapsed": false
   },
   "outputs": [
    {
     "name": "stdout",
     "output_type": "stream",
     "text": [
      "Populating the interactive namespace from numpy and matplotlib\n"
     ]
    },
    {
     "name": "stderr",
     "output_type": "stream",
     "text": [
      "WARNING: pylab import has clobbered these variables: ['mlab', 'sinh', 'trunc', 'tan', 'gamma', 'cosh', 'radians', 'sin', 'fmod', 'expm1', 'ldexp', 'exp', 'frexp', 'ceil', 'copysign', 'isnan', 'cos', 'degrees', 'tanh', 'fabs', 'sqrt', 'floor', 'hypot', 'log', 'log10', 'e', 'pi', 'log1p', 'modf', 'isinf']\n",
      "`%matplotlib` prevents importing * from pylab and numpy\n"
     ]
    }
   ],
   "source": [
    "#KRM\n",
    "\n",
    "import numpy as np\n",
    "\n",
    "import matplotlib.pyplot as plt\n",
    "\n",
    "import matplotlib.colors as mcolors\n",
    "\n",
    "from math import *\n",
    "\n",
    "import scipy.interpolate\n",
    "\n",
    "%matplotlib inline\n",
    "\n",
    "from netCDF4 import Dataset\n",
    "\n",
    "%pylab inline\n",
    "\n",
    "from mpl_toolkits.mplot3d import Axes3D"
   ]
  },
  {
   "cell_type": "code",
   "execution_count": 25,
   "metadata": {
    "collapsed": false
   },
   "outputs": [],
   "source": [
    "# Get field from MITgcm netCDF output\n",
    "#\n",
    "''' :statefile : string with /path/to/state.0000000000.t001.nc\n",
    "    :fieldname : string with the variable name as written on the netCDF file ('Temp', 'S','Eta', etc.)'''\n",
    "\n",
    "def getField(statefile, fieldname):\n",
    "    \n",
    "    StateOut = Dataset(statefile)\n",
    "    \n",
    "    Fld = StateOut.variables[fieldname][:]\n",
    "    \n",
    "    shFld = np.shape(Fld)\n",
    "    \n",
    "        \n",
    "    if len(shFld) == 2:\n",
    "        \n",
    "        Fld2 = np.reshape(Fld,(shFld[0],shFld[1])) # reshape to pcolor order\n",
    "        return Fld2 \n",
    "    \n",
    "    elif len(shFld) == 3:\n",
    "        \n",
    "        Fld2 = np.zeros((shFld[0],shFld[1],shFld[2])) \n",
    "        Fld2 = np.reshape(Fld,(shFld[0],shFld[1],shFld[2])) # reshape to pcolor order\n",
    "        return Fld2\n",
    "        \n",
    "    elif len(shFld) == 4:\n",
    "        \n",
    "        Fld2 = np.zeros((shFld[0],shFld[1],shFld[2],shFld[3])) \n",
    "        Fld2 = np.reshape(Fld,(shFld[0],shFld[1],shFld[2],shFld[3])) # reshape to pcolor order\n",
    "        return Fld2\n",
    "        \n",
    "    else:\n",
    "        \n",
    "        print (' Check size of field ')\n",
    "    \n",
    "    \n",
    "\n"
   ]
  },
  {
   "cell_type": "code",
   "execution_count": 26,
   "metadata": {
    "collapsed": false
   },
   "outputs": [],
   "source": [
    "filename='/ocean/kramosmu/MITgcm/CanyonUpwelling/360x360x90_8Tr_LinProfiles_BarkleyHyd_GMREDI/run13/state.0000000000.glob.nc'\n",
    "StateOut = Dataset(filename)\n",
    "\n",
    "#for dimobj in StateOut.variables.values():\n",
    "#    print dimobj\n",
    "\n",
    "\n",
    "filename2='/ocean/kramosmu/MITgcm/CanyonUpwelling/360x360x90_8Tr_LinProfiles_BarkleyHyd_GMREDI/run13/grid.glob.nc'\n",
    "GridOut = Dataset(filename2)\n",
    "\n",
    "#for dimobj in GridOut.variables.values():\n",
    "#    print dimobj\n",
    "\n",
    "\n",
    "filename3='/ocean/kramosmu/MITgcm/CanyonUpwelling/360x360x90_8Tr_LinProfiles_BarkleyHyd_GMREDI/run13/ptracers.0000000000.glob.nc'\n",
    "PtracersOut = Dataset(filename3)\n",
    "\n",
    "#for dimobj in PtracersOut.variables.values():\n",
    "#    print dimobj"
   ]
  },
  {
   "cell_type": "code",
   "execution_count": 27,
   "metadata": {
    "collapsed": false
   },
   "outputs": [
    {
     "name": "stdout",
     "output_type": "stream",
     "text": [
      "-52.5\n"
     ]
    }
   ],
   "source": [
    "# General input\n",
    "\n",
    "nx = 360\n",
    "ny = 360\n",
    "nz = 90\n",
    "\n",
    "nt = 19 # t dimension size \n",
    "\n",
    "z = StateOut.variables['Z']\n",
    "print(z[10])\n",
    "Time = StateOut.variables['T']\n",
    "#print(Time[:])\n",
    "\n",
    "xc = getField(filename2, 'XC') # x coords tracer cells\n",
    "\n",
    "yc = getField(filename2, 'YC') # y coords tracer cells\n",
    "\n",
    "bathy = getField(filename2, 'Depth')"
   ]
  },
  {
   "cell_type": "code",
   "execution_count": 28,
   "metadata": {
    "collapsed": false
   },
   "outputs": [],
   "source": [
    "\n",
    "\n",
    "# Nice cell center mask\n",
    "hFacC = getField(filename2,'HFacC') #(90,360,360)\n",
    "\n",
    "hFacCmasked = np.ma.masked_values(hFacC, 0)\n",
    "\n",
    "MASKhFacC = np.ma.getmask(hFacCmasked)\n",
    "\n"
   ]
  },
  {
   "cell_type": "code",
   "execution_count": 29,
   "metadata": {
    "collapsed": false
   },
   "outputs": [],
   "source": [
    "tt = 4\n",
    "\n",
    "Tr = getField(filename, 'Temp')\n",
    "Trmask=np.ma.array(Tr[tt,:,:,:],mask=MASKhFacC[:,:,:])\n"
   ]
  },
  {
   "cell_type": "code",
   "execution_count": 30,
   "metadata": {
    "collapsed": false
   },
   "outputs": [],
   "source": [
    "isoVal = 12.4\n"
   ]
  },
  {
   "cell_type": "code",
   "execution_count": 31,
   "metadata": {
    "collapsed": false
   },
   "outputs": [],
   "source": [
    "IsoSurf = np.where(Tr[tt,:,:,:]>12.5) \n",
    "\n",
    "#IsoIndex=~np.isnan(IsoSurf)\n",
    "IsoIndex = np.nonzero(IsoSurf)"
   ]
  },
  {
   "cell_type": "code",
   "execution_count": 32,
   "metadata": {
    "collapsed": false
   },
   "outputs": [
    {
     "name": "stdout",
     "output_type": "stream",
     "text": [
      "(array([ 0,  0,  0, ..., 89, 89, 89]), array([  0,   0,   0, ..., 359, 359, 359]), array([  0,   1,   2, ..., 357, 358, 359]))\n"
     ]
    }
   ],
   "source": [
    "print(IsoSurf)\n"
   ]
  },
  {
   "cell_type": "code",
   "execution_count": 33,
   "metadata": {
    "collapsed": false
   },
   "outputs": [
    {
     "data": {
      "image/png": "[encoded data removed]",
      "text/plain": [
       "<matplotlib.figure.Figure at 0x7faf0f665850>"
      ]
     },
     "metadata": {},
     "output_type": "display_data"
    }
   ],
   "source": [
    "\n",
    "x = IsoSurf[2][::1000]\n",
    "y = IsoSurf[1][::1000]\n",
    "z = IsoSurf[0][::1000]\n",
    "\n",
    "fig = plt.figure()\n",
    "ax = plt.axes(projection='3d')\n",
    "\n",
    "#ax.scatter(x, y, z, c='r', marker='o')\n",
    "ax.plot_surface(x, y, z, cmap=plt.cm.jet, rstride=1, cstride=1, linewidth=0)\n",
    "ax.set_xlabel('X Label')\n",
    "ax.set_ylabel('Y Label')\n",
    "ax.set_zlabel('Z Label')\n",
    "\n",
    "plt.show()"
   ]
  },
  {
   "cell_type": "code",
   "execution_count": null,
   "metadata": {
    "collapsed": false
   },
   "outputs": [],
   "source": []
  },
  {
   "cell_type": "code",
   "execution_count": null,
   "metadata": {
    "collapsed": false
   },
   "outputs": [],
   "source": []
  },
  {
   "cell_type": "code",
   "execution_count": 36,
   "metadata": {
    "collapsed": false
   },
   "outputs": [],
   "source": [
    "from mpl_toolkits.mplot3d.art3d import Poly3DCollection\n",
    "\n",
    "from skimage import measure\n"
   ]
  },
  {
   "cell_type": "code",
   "execution_count": 40,
   "metadata": {
    "collapsed": false
   },
   "outputs": [
    {
     "data": {
      "image/png": "[encoded data removed]",
      "text/plain": [
       "<matplotlib.figure.Figure at 0x7fae8aa4e2d0>"
      ]
     },
     "metadata": {},
     "output_type": "display_data"
    }
   ],
   "source": [
    "from skimage.draw import ellipsoid\n",
    "# Generate a level set about zero of two identical ellipsoids in 3D\n",
    "ellip_base = ellipsoid(6, 10, 16, levelset=True)\n",
    "ellip_double = np.concatenate((ellip_base[:-1, ...],\n",
    "                               ellip_base[2:, ...]), axis=0)\n",
    "# Use marching cubes to obtain the surface mesh of these ellipsoids\n",
    "verts, faces = measure.marching_cubes(ellip_double, 0)\n",
    "\n",
    "# Display resulting triangular mesh using Matplotlib. This can also be done\n",
    "# with mayavi (see skimage.measure.marching_cubes docstring).\n",
    "fig = plt.figure(figsize=(10, 12))\n",
    "ax = fig.add_subplot(111, projection='3d')\n",
    "\n",
    "# Fancy indexing: `verts[faces]` to generate a collection of triangles\n",
    "mesh = Poly3DCollection(verts[faces])\n",
    "ax.add_collection3d(mesh)\n",
    "\n",
    "#ax.set_xlabel(\"x-axis: a = 6 per ellipsoid\")\n",
    "#ax.set_ylabel(\"y-axis: b = 10\")\n",
    "#ax.set_zlabel(\"z-axis: c = 16\")\n",
    "\n",
    "#ax.set_xlim(0, 24)  # a = 6 (times two for 2nd ellipsoid)\n",
    "#ax.set_ylim(0, 20)  # b = 10\n",
    "#ax.set_zlim(0, 32)  # c = 16\n",
    "\n",
    "plt.show()\n"
   ]
  },
  {
   "cell_type": "code",
   "execution_count": 38,
   "metadata": {
    "collapsed": false
   },
   "outputs": [
    {
     "ename": "ValueError",
     "evalue": "Input volume must have 3 dimensions.",
     "output_type": "error",
     "traceback": [
      "\u001b[1;31m---------------------------------------------------------------------------\u001b[0m",
      "\u001b[1;31mValueError\u001b[0m                                Traceback (most recent call last)",
      "\u001b[1;32m<ipython-input-38-77c5f6755150>\u001b[0m in \u001b[0;36m<module>\u001b[1;34m()\u001b[0m\n\u001b[0;32m      1\u001b[0m \u001b[1;32mfrom\u001b[0m \u001b[0mmayavi\u001b[0m \u001b[1;32mimport\u001b[0m \u001b[0mmlab\u001b[0m\u001b[1;33m\u001b[0m\u001b[0m\n\u001b[1;32m----> 2\u001b[1;33m \u001b[0mverts\u001b[0m\u001b[1;33m,\u001b[0m \u001b[0mfaces\u001b[0m \u001b[1;33m=\u001b[0m \u001b[0mmeasure\u001b[0m\u001b[1;33m.\u001b[0m\u001b[0mmarching_cubes\u001b[0m\u001b[1;33m(\u001b[0m\u001b[0mTr\u001b[0m\u001b[1;33m,\u001b[0m \u001b[1;36m11.2\u001b[0m\u001b[1;33m,\u001b[0m \u001b[1;33m(\u001b[0m\u001b[1;36m1.\u001b[0m\u001b[1;33m,\u001b[0m \u001b[1;36m1.\u001b[0m\u001b[1;33m,\u001b[0m \u001b[1;36m2.\u001b[0m\u001b[1;33m)\u001b[0m\u001b[1;33m)\u001b[0m\u001b[1;33m\u001b[0m\u001b[0m\n\u001b[0m\u001b[0;32m      3\u001b[0m mlab.triangular_mesh([vert[0] for vert in verts],\n\u001b[0;32m      4\u001b[0m                     \u001b[1;33m[\u001b[0m\u001b[0mvert\u001b[0m\u001b[1;33m[\u001b[0m\u001b[1;36m1\u001b[0m\u001b[1;33m]\u001b[0m \u001b[1;32mfor\u001b[0m \u001b[0mvert\u001b[0m \u001b[1;32min\u001b[0m \u001b[0mverts\u001b[0m\u001b[1;33m]\u001b[0m\u001b[1;33m,\u001b[0m\u001b[1;33m\u001b[0m\u001b[0m\n\u001b[0;32m      5\u001b[0m                     \u001b[1;33m[\u001b[0m\u001b[0mvert\u001b[0m\u001b[1;33m[\u001b[0m\u001b[1;36m2\u001b[0m\u001b[1;33m]\u001b[0m \u001b[1;32mfor\u001b[0m \u001b[0mvert\u001b[0m \u001b[1;32min\u001b[0m \u001b[0mverts\u001b[0m\u001b[1;33m]\u001b[0m\u001b[1;33m,\u001b[0m\u001b[1;33m\u001b[0m\u001b[0m\n",
      "\u001b[1;32m/home/kramosmu/anaconda/lib/python2.7/site-packages/skimage/measure/_marching_cubes.pyc\u001b[0m in \u001b[0;36mmarching_cubes\u001b[1;34m(volume, level, spacing)\u001b[0m\n\u001b[0;32m    103\u001b[0m     \u001b[1;31m# Check inputs and ensure `volume` is C-contiguous for memoryviews\u001b[0m\u001b[1;33m\u001b[0m\u001b[1;33m\u001b[0m\u001b[0m\n\u001b[0;32m    104\u001b[0m     \u001b[1;32mif\u001b[0m \u001b[0mvolume\u001b[0m\u001b[1;33m.\u001b[0m\u001b[0mndim\u001b[0m \u001b[1;33m!=\u001b[0m \u001b[1;36m3\u001b[0m\u001b[1;33m:\u001b[0m\u001b[1;33m\u001b[0m\u001b[0m\n\u001b[1;32m--> 105\u001b[1;33m         \u001b[1;32mraise\u001b[0m \u001b[0mValueError\u001b[0m\u001b[1;33m(\u001b[0m\u001b[1;34m\"Input volume must have 3 dimensions.\"\u001b[0m\u001b[1;33m)\u001b[0m\u001b[1;33m\u001b[0m\u001b[0m\n\u001b[0m\u001b[0;32m    106\u001b[0m     \u001b[1;32mif\u001b[0m \u001b[0mlevel\u001b[0m \u001b[1;33m<\u001b[0m \u001b[0mvolume\u001b[0m\u001b[1;33m.\u001b[0m\u001b[0mmin\u001b[0m\u001b[1;33m(\u001b[0m\u001b[1;33m)\u001b[0m \u001b[1;32mor\u001b[0m \u001b[0mlevel\u001b[0m \u001b[1;33m>\u001b[0m \u001b[0mvolume\u001b[0m\u001b[1;33m.\u001b[0m\u001b[0mmax\u001b[0m\u001b[1;33m(\u001b[0m\u001b[1;33m)\u001b[0m\u001b[1;33m:\u001b[0m\u001b[1;33m\u001b[0m\u001b[0m\n\u001b[0;32m    107\u001b[0m         \u001b[1;32mraise\u001b[0m \u001b[0mValueError\u001b[0m\u001b[1;33m(\u001b[0m\u001b[1;34m\"Contour level must be within volume data range.\"\u001b[0m\u001b[1;33m)\u001b[0m\u001b[1;33m\u001b[0m\u001b[0m\n",
      "\u001b[1;31mValueError\u001b[0m: Input volume must have 3 dimensions."
     ]
    }
   ],
   "source": [
    "from mayavi import mlab \n",
    "verts, faces = measure.marching_cubes(Tr, 11.2, (1., 1., 2.)) \n",
    "mlab.triangular_mesh([vert[0] for vert in verts],\n",
    "                    [vert[1] for vert in verts],\n",
    "                    [vert[2] for vert in verts],\n",
    "                    faces) \n",
    "mlab.show() "
   ]
  },
  {
   "cell_type": "code",
   "execution_count": 39,
   "metadata": {
    "collapsed": false
   },
   "outputs": [
    {
     "data": {
      "image/png": "[encoded data removed]",
      "text/plain": [
       "<matplotlib.figure.Figure at 0x7faefce77b10>"
      ]
     },
     "metadata": {},
     "output_type": "display_data"
    }
   ],
   "source": [
    "fig = plt.figure(figsize=(10, 12))\n",
    "ax = fig.add_subplot(111, projection='3d')\n",
    "\n",
    "# Fancy indexing: `verts[faces]` to generate a collection of triangles\n",
    "mesh = Poly3DCollection(verts[faces])\n",
    "ax.add_collection3d(mesh)\n",
    "\n",
    "plt.show()"
   ]
  },
  {
   "cell_type": "code",
   "execution_count": null,
   "metadata": {
    "collapsed": false
   },
   "outputs": [],
   "source": []
  },
  {
   "cell_type": "code",
   "execution_count": null,
   "metadata": {
    "collapsed": true
   },
   "outputs": [],
   "source": []
  }
 ],
 "metadata": {
  "kernelspec": {
   "display_name": "Python 2",
   "language": "python",
   "name": "python2"
  },
  "language_info": {
   "codemirror_mode": {
    "name": "ipython",
    "version": 2
   },
   "file_extension": ".py",
   "mimetype": "text/x-python",
   "name": "python",
   "nbconvert_exporter": "python",
   "pygments_lexer": "ipython2",
   "version": "2.7.11"
  }
 },
 "nbformat": 4,
 "nbformat_minor": 0
}
