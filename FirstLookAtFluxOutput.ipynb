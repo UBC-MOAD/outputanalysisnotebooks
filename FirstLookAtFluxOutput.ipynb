{
 "cells": [
  {
   "cell_type": "markdown",
   "metadata": {},
   "source": [
    "## First look at advective and diffuisive fluxes from model output"
   ]
  },
  {
   "cell_type": "markdown",
   "metadata": {},
   "source": [
    "This notebook is a first look at the model's diffusive and advective fluxes form the diagnostics package.\n",
    "Frequency of output is 43200 s (half a day).\n",
    "\n",
    "Filename: Flux_TH (Theta), Flux_SLT (salinity)\n",
    "\n",
    "| Variable   |   Units         | Description |\n",
    "|------------|:---------------:|-------------:|\n",
    "| ADVr_TH     | $^{\\circ}C m^3s^{-1}$      | Vertical Advective Flux of Pot.Temperature|\n",
    "| ADVx_TH     | $^{\\circ}C m^3s^{-1}$      | Zonal Advective Flux of Pot.Temperature |\n",
    "| ADVy_TH     | $^{\\circ}C m^3s^{-1}$      | Meridional Advective Flux of Pot.Temperature|\n",
    "| DFrE_TH     | $^{\\circ}C m^3s^{-1}$      | Vertical Diffusive Flux of Pot.Temperature (Explicit part)|\n",
    "| DFxE_TH     | $^{\\circ}C m^3s^{-1}$      | Zonal      Diffusive Flux of Pot.Temperature|\n",
    "| DFyE_TH     | $^{\\circ}C m^3s^{-1}$      | Meridional Diffusive Flux of Pot.Temperature|\n",
    "| DFrI_TH     | $^{\\circ}C m^3s^{-1}$      | Vertical Diffusive Flux of Pot.Temperature (Implicit part)|   \n",
    "\n",
    "Same for salinity.\n",
    "\n",
    "For passive tracers, there are 3 extra fields besides these fluxes. Units correspond to DIC but it really doesn't matter.\n",
    "\n",
    "Filename: FluxTR01, FluxTr02 \n",
    "\n",
    "| Variable    |   Units                            | Description  |\n",
    "|------------ |:---------------------------------: |-------------:|\n",
    "| UTRAC01     |  $molC\\ m^{-1}\\cdot ms^{-1}$      |Zonal Mass-Weighted Transp of Tr01|\n",
    "| VTRAC01     |  $molC\\ m^{-1}\\cdot ms^{-1}$      |Meridional Mass-Weighted Transp of Tr01|\n",
    "| WTRAC01     |  $molC\\ m^{-1}\\cdot ms^{-1}$      |Vertical Mass-Weighted Transp of Tr01|\n",
    "| ADVrTr01    |  $molC\\ m^{-1}\\cdot m^3s^{-1}$    | Vertical Advective Flux of Tr01|\n",
    "| ADVxTr01    |  $molC\\ m^{-1}\\cdot m^3s^{-1}$    | Zonal Advective Flux of Tr01 |\n",
    "| ADVyTr01    |  $molC\\ m^{-1}\\cdot m^3s^{-1}$    | Meridional Advective Flux of Tr01|\n",
    "| DFrETr01    |  $molC\\ m^{-1}\\cdot m^3s^{-1}$    | Vertical Diffusive Flux of Tr01 (Explicit part)|\n",
    "| DFxETr01    |  $molC\\ m^{-1}\\cdot m^3s^{-1}$    | Zonal      Diffusive Flux of Tr01|\n",
    "| DFyETr01    |  $molC\\ m^{-1}\\cdot m^3s^{-1}$    | Meridional Diffusive Flux of Tr01|\n",
    "| DFrITr01    |  $molC\\ m^{-1}\\cdot m^3s^{-1}$    | Vertical Diffusive Flux of Tr01 (Implicit part)|   \n",
    " \n"
   ]
  },
  {
   "cell_type": "code",
   "execution_count": null,
   "metadata": {
    "collapsed": true
   },
   "outputs": [],
   "source": [
    "#import gsw as sw # Gibbs seawater package\n",
    "\n",
    "from math import *\n",
    "\n",
    "import matplotlib.pyplot as plt\n",
    "\n",
    "import matplotlib.colors as mcolors\n",
    "\n",
    "%matplotlib inline\n",
    "\n",
    "from MITgcmutils import rdmds\n",
    "\n",
    "from netCDF4 import Dataset\n",
    "\n",
    "import numpy as np\n",
    "\n",
    "import os \n",
    "\n",
    "import pylab as pl\n",
    "\n",
    "import scipy.io\n",
    "\n",
    "import scipy as spy\n",
    "\n",
    "import seaborn as sns\n",
    "\n",
    "import sys"
   ]
  },
  {
   "cell_type": "code",
   "execution_count": null,
   "metadata": {
    "collapsed": true
   },
   "outputs": [],
   "source": [
    "lib_path = os.path.abspath('../../Building_canyon/BuildCanyon/PythonModulesMITgcm') # Add absolute path to my python scripts\n",
    "sys.path.append(lib_path)\n",
    "\n",
    "import ReadOutTools_MITgcm as rout \n",
    "import TransportTools_MITgcm as trt"
   ]
  },
  {
   "cell_type": "code",
   "execution_count": null,
   "metadata": {
    "collapsed": true
   },
   "outputs": [],
   "source": [
    "sns.set()\n",
    "sns.set_style('darkgrid')\n",
    "sns.set_context('notebook')"
   ]
  },
  {
   "cell_type": "code",
   "execution_count": null,
   "metadata": {
    "collapsed": true
   },
   "outputs": [],
   "source": [
    "CanyonGrid='/ocean/kramosmu/MITgcm/CanyonUpwelling/360x360x90_3Tr_LinProfiles_BarkleyHyd_FluxDiagnostics/run01/gridGlob.nc'\n",
    "CanyonGridOut = Dataset(CanyonGrid)\n",
    "FluxTH = '/ocean/kramosmu/MITgcm/CanyonUpwelling/360x360x90_3Tr_LinProfiles_BarkleyHyd_GMREDI_FluxDiagnostics/run01/FluxTHGlob.nc'\n",
    "FluxSLT = '/ocean/kramosmu/MITgcm/CanyonUpwelling/360x360x90_3Tr_LinProfiles_BarkleyHyd_GMREDI_FluxDiagnostics/run01/FluxTHGlob.nc'\n",
    "FluxTR01 = '/ocean/kramosmu/MITgcm/CanyonUpwelling/360x360x90_3Tr_LinProfiles_BarkleyHyd_GMREDI_FluxDiagnostics/run01/FluxTHGlob.nc'\n",
    "FluxTR01 = '/ocean/kramosmu/MITgcm/CanyonUpwelling/360x360x90_3Tr_LinProfiles_BarkleyHyd_GMREDI_FluxDiagnostics/run01/FluxTHGlob.nc'\n"
   ]
  },
  {
   "cell_type": "code",
   "execution_count": null,
   "metadata": {
    "collapsed": true
   },
   "outputs": [],
   "source": [
    "# General input\n",
    "\n",
    "nx = 360\n",
    "ny = 360\n",
    "nz = 90\n",
    "\n",
    "nt = 19 # t dimension size \n",
    "\n",
    "z = StateOut13.variables['Z']\n",
    "#print(z[10])\n",
    "Time = StateOut13.variables['T']\n",
    "#print(Time[:])\n",
    "xc = rout.getField(CanyonGrid, 'XC') # x coords tracer cells\n",
    "yc = rout.getField(CanyonGrid, 'YC') # y coords tracer cells\n",
    "\n",
    "drF = CanyonGridOut.variables['drF'] # vertical distance between faces\n",
    "dxG = rout.getField(CanyonGrid,'dxG')\n",
    "bathy = rout.getField(CanyonGrid, 'Depth')\n",
    "\n",
    "rA = rout.getField(CanyonGrid, 'rA') # area of cells (x-y)\n",
    "hFacC = rout.getField(CanyonGrid, 'HFacC')\n",
    "MaskC = rout.getMask(CanyonGrid,'HFacC') # same for both runs\n"
   ]
  },
  {
   "cell_type": "code",
   "execution_count": null,
   "metadata": {
    "collapsed": true
   },
   "outputs": [],
   "source": [
    "Tr1Iso100 = rout.getField(CNTrun19Tr,'Tr1') # Tracer 1 CNT run19 , Kz = E-5\n"
   ]
  }
 ],
 "metadata": {
  "kernelspec": {
   "display_name": "Python 2",
   "language": "python",
   "name": "python2"
  },
  "language_info": {
   "codemirror_mode": {
    "name": "ipython",
    "version": 2
   },
   "file_extension": ".py",
   "mimetype": "text/x-python",
   "name": "python",
   "nbconvert_exporter": "python",
   "pygments_lexer": "ipython2",
   "version": "2.7.9"
  }
 },
 "nbformat": 4,
 "nbformat_minor": 0
}
