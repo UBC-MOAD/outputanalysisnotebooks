{
 "cells": [
  {
   "cell_type": "markdown",
   "metadata": {},
   "source": [
    "## Find vertical and horizontal components of the upwelling current in CNT and 3D experiments\n"
   ]
  },
  {
   "cell_type": "code",
   "execution_count": 10,
   "metadata": {
    "collapsed": false
   },
   "outputs": [],
   "source": [
    "#KRM\n",
    "\n",
    "import numpy as np\n",
    "\n",
    "import matplotlib.pyplot as plt\n",
    "\n",
    "import matplotlib.colors as mcolors\n",
    "\n",
    "from math import *\n",
    "\n",
    "import scipy.io\n",
    "\n",
    "import scipy as spy\n",
    "\n",
    "%matplotlib inline\n",
    "\n",
    "from netCDF4 import Dataset\n",
    "\n",
    "import pylab as pl\n",
    "\n",
    "import os \n",
    "\n",
    "import sys\n",
    "\n",
    "import seaborn as sns"
   ]
  },
  {
   "cell_type": "code",
   "execution_count": 11,
   "metadata": {
    "collapsed": false
   },
   "outputs": [],
   "source": [
    "lib_path = os.path.abspath('/ocean/kramosmu/Building_canyon/BuildCanyon/PythonModulesMITgcm') # Add absolute path to my python scripts\n",
    "sys.path.append(lib_path)\n",
    "\n",
    "import ReadOutTools_MITgcm as rout \n",
    "\n",
    "import ShelfBreakTools_MITgcm as sb\n"
   ]
  },
  {
   "cell_type": "code",
   "execution_count": 12,
   "metadata": {
    "collapsed": true
   },
   "outputs": [],
   "source": [
    "sns.set()\n",
    "sns.set_style('white')\n",
    "sns.set_context('talk')"
   ]
  },
  {
   "cell_type": "code",
   "execution_count": 32,
   "metadata": {
    "collapsed": true
   },
   "outputs": [],
   "source": [
    "# Functions\n",
    "def UpwellingVolAvg(Mask,Fld,ztop=30,zbot=37,xups=120,xdowns=240,yshore=267,yopen=227, to=10,tf=19):\n",
    "    '''Fld : unstaggered field to average\n",
    "       Mask: C grid mask'''\n",
    "    \n",
    "    mask_expand = np.expand_dims(Mask[ztop:zbot,yopen:yshore,xups:xdowns],0)\n",
    "    mask_expand = mask_expand + np.zeros(Fld[to:tf,ztop:zbot,yopen:yshore,xups:xdowns].shape)\n",
    "\n",
    "    Fld_small = Fld[to:tf,ztop:zbot,yopen:yshore,xups:xdowns]\n",
    "    Avg= np.mean(np.ma.masked_array(Fld_small,mask = mask_expand),axis=0)\n",
    "    \n",
    "    return np.max(Avg)\n"
   ]
  },
  {
   "cell_type": "code",
   "execution_count": 33,
   "metadata": {
    "collapsed": true
   },
   "outputs": [],
   "source": [
    "# Functions\n",
    "def UpwellingSpdAvg(Mask,Uvel,Vvel,ztop=30,zbot=37,xups=120,xdowns=240,yshore=267,yopen=227, to=10,tf=19):\n",
    "    '''Uvel : unstaggered U component\n",
    "       Vvel : unstaggered V component\n",
    "       Mask: C grid mask'''\n",
    "    \n",
    "    mask_expand = np.expand_dims(Mask[ztop:zbot,yopen:yshore,xups:xdowns],0)\n",
    "    mask_expand = mask_expand + np.zeros(Uvel[to:tf,ztop:zbot,yopen:yshore,xups:xdowns].shape)\n",
    "\n",
    "    U_small = Uvel[to:tf,ztop:zbot,yopen:yshore,xups:xdowns]\n",
    "    V_small = Vvel[to:tf,ztop:zbot,yopen:yshore,xups:xdowns]\n",
    "    spd = np.sqrt(U_small**2 +V_small**2)\n",
    "    AvgSpd= np.mean(np.ma.masked_array(spd,mask = mask_expand),axis=0)\n",
    "    \n",
    "    return np.max(AvgSpd)\n"
   ]
  },
  {
   "cell_type": "code",
   "execution_count": 37,
   "metadata": {
    "collapsed": true
   },
   "outputs": [],
   "source": [
    "# General input\n",
    "nx = 360\n",
    "ny = 360\n",
    "nz = 90\n",
    "nt = 19 # t dimension size \n",
    "\n",
    "\n",
    "#All experiments in CNT and 3D except no canyon one (run07)\n",
    "expList = ['/ocean/kramosmu/MITgcm/TracerExperiments/CNTDIFF/run02',\n",
    "           '/ocean/kramosmu/MITgcm/TracerExperiments/CNTDIFF/run03',\n",
    "          '/ocean/kramosmu/MITgcm/TracerExperiments/CNTDIFF/run04',\n",
    "          '/ocean/kramosmu/MITgcm/TracerExperiments/CNTDIFF/run09',\n",
    "          '/ocean/kramosmu/MITgcm/TracerExperiments/CNTDIFF/run10',\n",
    "          '/ocean/kramosmu/MITgcm/TracerExperiments/CNTDIFF/run11',\n",
    "          '/ocean/kramosmu/MITgcm/TracerExperiments/CNTDIFF/run12',\n",
    "          '/ocean/kramosmu/MITgcm/TracerExperiments/3DDIFF/run04',\n",
    "          '/ocean/kramosmu/MITgcm/TracerExperiments/3DDIFF/run05',\n",
    "          '/ocean/kramosmu/MITgcm/TracerExperiments/3DDIFF/run06',\n",
    "          '/ocean/kramosmu/MITgcm/TracerExperiments/3DDIFF/run07']\n"
   ]
  },
  {
   "cell_type": "code",
   "execution_count": 16,
   "metadata": {
    "collapsed": false
   },
   "outputs": [],
   "source": [
    "# The grid is the same for all experiments\n",
    "CanyonGrid='/ocean/kramosmu/MITgcm/TracerExperiments/CNTDIFF/run03/gridGlob.nc'\n",
    "CanyonGridOut = Dataset(CanyonGrid)\n",
    "\n",
    "xc = rout.getField(CanyonGrid, 'XC') # x coords tracer cells\n",
    "yc = rout.getField(CanyonGrid, 'YC') # y coords tracer cells\n",
    "rc =  CanyonGridOut.variables['RC'] # y coords tracer cells\n",
    "\n",
    "bathy = rout.getField(CanyonGrid, 'Depth')\n",
    "hFacC = rout.getField(CanyonGrid, 'HFacC')\n",
    "MaskC = rout.getMask(CanyonGrid, 'HFacC')\n",
    "rA = rout.getField(CanyonGrid, 'rA')\n"
   ]
  },
  {
   "cell_type": "markdown",
   "metadata": {},
   "source": [
    "### Find average vertical velocity and horizontal velocity within the canyon for each run"
   ]
  },
  {
   "cell_type": "code",
   "execution_count": 38,
   "metadata": {
    "collapsed": false
   },
   "outputs": [
    {
     "name": "stdout",
     "output_type": "stream",
     "text": [
      "done with vars\n",
      "(0, 0.00045448738253778883, 0.11794462468889025)\n",
      "done with vars\n",
      "(1, 0.00047388315821687382, 0.11769391430748834)\n",
      "done with vars\n",
      "(2, 0.00048389606591727998, 0.11797001626756456)\n",
      "done with vars\n",
      "(3, 0.00045448738253778883, 0.11794462468889025)\n",
      "done with vars\n",
      "(4, 0.00047388315821687382, 0.11769391430748834)\n",
      "done with vars\n",
      "(5, 0.00050575938075780869, 0.12017046080695258)\n",
      "done with vars\n",
      "(6, 0.00066237653502159647, 0.12329374419318305)\n",
      "done with vars\n",
      "(7, 0.00053769805365138583, 0.10586559772491455)\n",
      "done with vars\n",
      "(8, 0.00047219244556294545, 0.11636047893100315)\n",
      "done with vars\n",
      "(9, 0.00054023668376935855, 0.10611693064371745)\n",
      "done with vars\n",
      "(10, 0.00047599332821038034, 0.1168063481648763)\n"
     ]
    }
   ],
   "source": [
    "Omega = np.zeros(np.shape(expList))\n",
    "Spd = np.zeros(np.shape(expList))\n",
    "\n",
    "ii = 0\n",
    "\n",
    "for exp in expList:\n",
    "    \n",
    "    CanyonState= exp +'/stateGlob.nc'\n",
    "    CanyonStateOut = Dataset(CanyonState)\n",
    "    z = CanyonStateOut.variables['Z']\n",
    "    #print(z[37])\n",
    "    Time = CanyonStateOut.variables['T']\n",
    "    \n",
    "    W = rout.getField(CanyonState,'W')\n",
    "    Ustag = rout.getField(CanyonState,'U')\n",
    "    Vstag = rout.getField(CanyonState,'V')\n",
    "    \n",
    "    U,V = rout.unstagger(Ustag,Vstag)\n",
    "    print('done with vars')\n",
    "    Omega[ii] = UpwellingVolAvg(MaskC,W,ztop=30,zbot=37,xups=120,xdowns=240,yshore=267,yopen=227, to=10,tf=19)\n",
    "    Spd[ii] = UpwellingSpdAvg(MaskC,U,V,ztop=30,zbot=37,xups=120,xdowns=240,yshore=267,yopen=227, to=10,tf=19)\n",
    "    print(ii,Omega[ii], Spd[ii])\n",
    "    \n",
    "    ii = ii+1\n"
   ]
  },
  {
   "cell_type": "code",
   "execution_count": 44,
   "metadata": {
    "collapsed": false
   },
   "outputs": [],
   "source": [
    "import pandas as pd\n",
    "\n",
    "raw_data = {'run':expList, 'Omega': Omega, 'Ustar': Spd}\n",
    "\n",
    "df = pd.DataFrame(raw_data, columns = ['day', 'Omega','Ustar'])\n",
    "    \n",
    "filename = ('results/metricsDataFrames/OmegaUstarCNTand3D.csv')\n",
    "df.to_csv(filename)\n",
    "  \n"
   ]
  },
  {
   "cell_type": "code",
   "execution_count": null,
   "metadata": {
    "collapsed": true
   },
   "outputs": [],
   "source": []
  },
  {
   "cell_type": "code",
   "execution_count": null,
   "metadata": {
    "collapsed": false
   },
   "outputs": [],
   "source": []
  },
  {
   "cell_type": "code",
   "execution_count": null,
   "metadata": {
    "collapsed": false
   },
   "outputs": [],
   "source": [
    "\n",
    "\n"
   ]
  },
  {
   "cell_type": "code",
   "execution_count": null,
   "metadata": {
    "collapsed": false
   },
   "outputs": [],
   "source": []
  },
  {
   "cell_type": "code",
   "execution_count": null,
   "metadata": {
    "collapsed": false
   },
   "outputs": [],
   "source": []
  },
  {
   "cell_type": "code",
   "execution_count": null,
   "metadata": {
    "collapsed": true
   },
   "outputs": [],
   "source": []
  },
  {
   "cell_type": "markdown",
   "metadata": {},
   "source": [
    " "
   ]
  },
  {
   "cell_type": "code",
   "execution_count": null,
   "metadata": {
    "collapsed": false
   },
   "outputs": [],
   "source": []
  },
  {
   "cell_type": "code",
   "execution_count": null,
   "metadata": {
    "collapsed": false
   },
   "outputs": [],
   "source": []
  },
  {
   "cell_type": "code",
   "execution_count": null,
   "metadata": {
    "collapsed": false
   },
   "outputs": [],
   "source": []
  },
  {
   "cell_type": "code",
   "execution_count": null,
   "metadata": {
    "collapsed": true
   },
   "outputs": [],
   "source": []
  },
  {
   "cell_type": "code",
   "execution_count": null,
   "metadata": {
    "collapsed": false
   },
   "outputs": [],
   "source": []
  },
  {
   "cell_type": "code",
   "execution_count": null,
   "metadata": {
    "collapsed": false
   },
   "outputs": [],
   "source": []
  },
  {
   "cell_type": "code",
   "execution_count": null,
   "metadata": {
    "collapsed": false
   },
   "outputs": [],
   "source": []
  },
  {
   "cell_type": "code",
   "execution_count": null,
   "metadata": {
    "collapsed": false
   },
   "outputs": [],
   "source": []
  },
  {
   "cell_type": "code",
   "execution_count": null,
   "metadata": {
    "collapsed": false
   },
   "outputs": [],
   "source": []
  },
  {
   "cell_type": "code",
   "execution_count": null,
   "metadata": {
    "collapsed": true
   },
   "outputs": [],
   "source": []
  },
  {
   "cell_type": "code",
   "execution_count": null,
   "metadata": {
    "collapsed": false
   },
   "outputs": [],
   "source": [
    "\n"
   ]
  },
  {
   "cell_type": "code",
   "execution_count": null,
   "metadata": {
    "collapsed": false
   },
   "outputs": [],
   "source": []
  },
  {
   "cell_type": "code",
   "execution_count": null,
   "metadata": {
    "collapsed": false
   },
   "outputs": [],
   "source": []
  },
  {
   "cell_type": "code",
   "execution_count": null,
   "metadata": {
    "collapsed": false
   },
   "outputs": [],
   "source": []
  },
  {
   "cell_type": "code",
   "execution_count": null,
   "metadata": {
    "collapsed": false
   },
   "outputs": [],
   "source": []
  },
  {
   "cell_type": "markdown",
   "metadata": {},
   "source": [
    "\n"
   ]
  },
  {
   "cell_type": "code",
   "execution_count": null,
   "metadata": {
    "collapsed": false
   },
   "outputs": [],
   "source": []
  },
  {
   "cell_type": "code",
   "execution_count": null,
   "metadata": {
    "collapsed": false
   },
   "outputs": [],
   "source": []
  },
  {
   "cell_type": "code",
   "execution_count": null,
   "metadata": {
    "collapsed": false
   },
   "outputs": [],
   "source": [
    "\n",
    "\n",
    "\n"
   ]
  },
  {
   "cell_type": "code",
   "execution_count": null,
   "metadata": {
    "collapsed": false
   },
   "outputs": [],
   "source": []
  },
  {
   "cell_type": "code",
   "execution_count": null,
   "metadata": {
    "collapsed": false
   },
   "outputs": [],
   "source": []
  },
  {
   "cell_type": "code",
   "execution_count": null,
   "metadata": {
    "collapsed": true
   },
   "outputs": [],
   "source": []
  },
  {
   "cell_type": "code",
   "execution_count": null,
   "metadata": {
    "collapsed": true
   },
   "outputs": [],
   "source": []
  },
  {
   "cell_type": "code",
   "execution_count": null,
   "metadata": {
    "collapsed": true
   },
   "outputs": [],
   "source": []
  },
  {
   "cell_type": "code",
   "execution_count": null,
   "metadata": {
    "collapsed": true
   },
   "outputs": [],
   "source": []
  },
  {
   "cell_type": "code",
   "execution_count": null,
   "metadata": {
    "collapsed": true
   },
   "outputs": [],
   "source": []
  },
  {
   "cell_type": "code",
   "execution_count": null,
   "metadata": {
    "collapsed": true
   },
   "outputs": [],
   "source": []
  },
  {
   "cell_type": "code",
   "execution_count": null,
   "metadata": {
    "collapsed": true
   },
   "outputs": [],
   "source": []
  }
 ],
 "metadata": {
  "kernelspec": {
   "display_name": "Python 2",
   "language": "python",
   "name": "python2"
  },
  "language_info": {
   "codemirror_mode": {
    "name": "ipython",
    "version": 2
   },
   "file_extension": ".py",
   "mimetype": "text/x-python",
   "name": "python",
   "nbconvert_exporter": "python",
   "pygments_lexer": "ipython2",
   "version": "2.7.11"
  }
 },
 "nbformat": 4,
 "nbformat_minor": 0
}
