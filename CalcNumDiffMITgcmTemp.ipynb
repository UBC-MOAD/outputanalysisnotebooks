{
 "metadata": {
  "name": ""
 },
 "nbformat": 3,
 "nbformat_minor": 0,
 "worksheets": [
  {
   "cells": [
    {
     "cell_type": "markdown",
     "metadata": {},
     "source": [
      "Calculate Numerical Diffusivity\n",
      "============================\n",
      "\n",
      "This ipython notebook calculates the numerical diffusivity on a tracer, associated to a specific configuration of the MITgcm. In particular, t was developed to calculate the equavalent diffusivity $\\kappa$, defined (here) as $\\kappa = \\kappa_{pres}+\\kappa_{num}$, where $\\kappa_{pres}$ \n",
      "is the prescibed or explicit tracer diffusivity one imposes on the model and $k_{num}$ is the additional diffusivity due to numerical truncation errors. Note that there are two $\\kappa_{pres}$ and therefore two $\\kappa$, one for the horizontal dimensions and one for the vertical one.\n",
      "\n",
      "These calculations try to reproduce the method used by [1] Abernathy et al. 2010, [2] Hill et al. 2011[3], Leibensperger and Plumb, 2013 to determine the numerical diffusivity MITgcm Southern Ocean configurations [1,2] and a baroclinic flow simulation simulation [3].\n",
      "\n",
      "The method goes as follows:\n",
      "\n",
      "From the evolution equation for the variance of the tracer concentration in the model output\n",
      "\n",
      "\\begin{equation}\n",
      "\\frac{1}{2}\\frac{\\partial{\\overline{q^{2}}}}{\\partial{t}}=-\\kappa_{h} \\overline{|\\nabla_h q|^2}-\\kappa_{v} \\overline{(\\frac{\\partial{q}}{\\partial {z}})^{2}}\n",
      "\\end{equation}\n",
      "\n",
      "one can fit by a least squares regression, suitable values of $\\kappa_h$ and $\\kappa_v$ that satisfy the equation."
     ]
    },
    {
     "cell_type": "code",
     "collapsed": false,
     "input": [
      "#KRM\n",
      "import os\n",
      "\n",
      "import numpy as np\n",
      "\n",
      "import matplotlib.pyplot as plt\n",
      "\n",
      "from scipy.stats import nanmean\n",
      "\n",
      "from math import *\n",
      "\n",
      "%matplotlib inline\n",
      "\n",
      "import numpy as np\n",
      "\n",
      "import matplotlib.colors as mcolors\n",
      "\n",
      "from netCDF4 import Dataset\n",
      "\n",
      "import pylab as pl\n",
      "\n",
      "from decimal import getcontext, Decimal, Inexact"
     ],
     "language": "python",
     "metadata": {},
     "outputs": [],
     "prompt_number": 63
    },
    {
     "cell_type": "code",
     "collapsed": false,
     "input": [
      "#'''\n",
      "#NAME\n",
      "#    Custom Colormaps for Matplotlib\n",
      "#PURPOSE\n",
      "#    This program shows how to implement make_cmap which is a function that\n",
      "#    generates a colorbar.  If you want to look at different color schemes,\n",
      "#    check out https://kuler.adobe.com/create.\n",
      "#PROGRAMMER(S)\n",
      "#    Chris Slocum\n",
      "#REVISION HISTORY\n",
      "#    20130411 -- Initial version created\n",
      "#    20140313 -- Small changes made and code posted online\n",
      "#    20140320 -- Added the ability to set the position of each color\n",
      "#'''\n",
      "\n",
      "def make_cmap(colors, position=None, bit=False):\n",
      "    #'''\n",
      "    #make_cmap takes a list of tuples which contain RGB values. The RGB\n",
      "    #values may either be in 8-bit [0 to 255] (in which bit must be set to\n",
      "    #rue when called) or arithmetic [0 to 1] (default). make_cmap returns\n",
      "    #a cmap with equally spaced colors.\n",
      "    #Arrange your tuples so that the first color is the lowest value for the\n",
      "    #colorbar and the last is the highest.\n",
      "    #position contains values from 0 to 1 to dictate the location of each color.\n",
      "    #'''\n",
      "    import matplotlib as mpl\n",
      "    import numpy as np\n",
      "    bit_rgb = np.linspace(0,1,256)\n",
      "    if position == None:\n",
      "        position = np.linspace(0,1,len(colors))\n",
      "    else:\n",
      "        if len(position) != len(colors):\n",
      "            sys.exit(\"position length must be the same as colors\")\n",
      "        elif position[0] != 0 or position[-1] != 1:\n",
      "            sys.exit(\"position must start with 0 and end with 1\")\n",
      "    if bit:\n",
      "        for i in range(len(colors)):\n",
      "            colors[i] = (bit_rgb[colors[i][0]],\n",
      "                         bit_rgb[colors[i][1]],\n",
      "                         bit_rgb[colors[i][2]])\n",
      "    cdict = {'red':[], 'green':[], 'blue':[]}\n",
      "    for pos, color in zip(position, colors):\n",
      "        cdict['red'].append((pos, color[0], color[0]))\n",
      "        cdict['green'].append((pos, color[1], color[1]))\n",
      "        cdict['blue'].append((pos, color[2], color[2]))\n",
      "\n",
      "    cmap = mpl.colors.LinearSegmentedColormap('my_colormap',cdict,256)\n",
      "    return cmap"
     ],
     "language": "python",
     "metadata": {},
     "outputs": [],
     "prompt_number": 64
    },
    {
     "cell_type": "code",
     "collapsed": false,
     "input": [
      "# Get field from MITgcm netCDF output\n",
      "#\n",
      "# statefile : string with /path/to/state.0000000000.t001.nc\n",
      "# fieldname : string with the variable name as written on the netCDF file ('Temp', 'S','Eta', etc.)\n",
      "#\n",
      "def getField(statefile, fieldname):\n",
      "    \n",
      "    StateOut = Dataset(statefile)\n",
      "    \n",
      "    Fld = StateOut.variables[fieldname][:]\n",
      "    \n",
      "    shFld = np.shape(Fld)\n",
      "    \n",
      "    if len(shFld) == 1:\n",
      "        \n",
      "        return Fld\n",
      "    \n",
      "    if len(shFld) == 2:\n",
      "        \n",
      "        Fld2 = np.reshape(Fld,(shFld[0],shFld[1])) # reshape to pcolor order\n",
      "        return Fld2 \n",
      "    \n",
      "    elif len(shFld) == 3:\n",
      "        \n",
      "        Fld2 = np.zeros((shFld[0],shFld[1],shFld[2])) \n",
      "        Fld2 = np.reshape(Fld,(shFld[0],shFld[1],shFld[2])) # reshape to pcolor order\n",
      "        return Fld2 \n",
      "        \n",
      "    elif len(shFld) == 4:\n",
      "        \n",
      "        Fld2 = np.zeros((shFld[0],shFld[1],shFld[2],shFld[3])) \n",
      "        Fld2 = np.reshape(Fld,(shFld[0],shFld[1],shFld[2],shFld[3])) # reshape to pcolor order\n",
      "        return Fld2\n",
      "        \n",
      "    else:\n",
      "        \n",
      "        print (' Check size of field ')\n",
      "    \n",
      "    \n"
     ],
     "language": "python",
     "metadata": {},
     "outputs": [],
     "prompt_number": 65
    },
    {
     "cell_type": "code",
     "collapsed": false,
     "input": [
      "\n",
      "def dsum(iterable):\n",
      "    \n",
      "    \"Full precision summation using Decimal objects for intermediate values\"\n",
      "    # Transform (exactly) a float to m * 2 ** e where m and e are integers.\n",
      "    # Convert (mant, exp) to a Decimal and add to the cumulative sum.\n",
      "    # If the precision is too small for exact conversion and addition,\n",
      "    # then retry with a larger precision.\n",
      "    from decimal import getcontext, Decimal, Inexact\n",
      "    getcontext().traps[Inexact] = True\n",
      "\n",
      "    total = Decimal(0)\n",
      "    for x in iterable:\n",
      "        mant, exp = frexp(x)\n",
      "        mant, exp = int(mant * 2.0 ** 53), exp-53\n",
      "        while True:\n",
      "            try:\n",
      "                total += mant * Decimal(2) ** exp\n",
      "                break\n",
      "            except Inexact:\n",
      "                getcontext().prec += 1\n",
      "    return float(total)\n"
     ],
     "language": "python",
     "metadata": {},
     "outputs": [],
     "prompt_number": 66
    },
    {
     "cell_type": "markdown",
     "metadata": {},
     "source": [
      "Important input parameters:\n",
      "------------------------"
     ]
    },
    {
     "cell_type": "code",
     "collapsed": false,
     "input": [
      "nx = 480  # number of x points in domain\n",
      "ny = 120  # number of y points in domain\n",
      "nz = 43   # number of z levels in domain\n",
      "nt = 37   # number of output files (n time) "
     ],
     "language": "python",
     "metadata": {},
     "outputs": [],
     "prompt_number": 67
    },
    {
     "cell_type": "markdown",
     "metadata": {},
     "source": [
      "Load output filenames:\n"
     ]
    },
    {
     "cell_type": "code",
     "collapsed": false,
     "input": [
      "### Load output filenames ###\n",
      "\n",
      "filename = '/ocean/kramosmu/MITgcm/CanyonUpwelling/480x360x43_UpwLinRampWind_4Tr_BCC/output_0001/state.0000000000.glob.nc'\n",
      "StateOut = Dataset(filename)\n",
      "\n",
      "filename2 = '/ocean/kramosmu/MITgcm/CanyonUpwelling/480x360x43_UpwLinRampWind_4Tr_BCC/output_0001/grid.glob.nc'\n",
      "GridOut = Dataset(filename2)\n",
      "#for dimobj in StateOut.variables.values():\n",
      "#    print dimobj\n",
      "filename3 = '/ocean/kramosmu/MITgcm/CanyonUpwelling/480x360x43_UpwLinRampWind_4Tr_BCC/output_0001/ptracers.0000000000.glob.nc'\n",
      "PtracersOut = Dataset(filename3)\n",
      "#for dimobj in PtracersOut.variables.values():\n",
      "#    print dimobj\n"
     ],
     "language": "python",
     "metadata": {},
     "outputs": [],
     "prompt_number": 68
    },
    {
     "cell_type": "markdown",
     "metadata": {},
     "source": [
      "Make some plots "
     ]
    },
    {
     "cell_type": "code",
     "collapsed": false,
     "input": [
      "plt.rcParams.update({'font.size':13})\n",
      "\n",
      "tracer1=getField(filename3,'O2')\n",
      "\n",
      "tracer1msk = np.ma.masked_values(tracer1, 0)\n",
      "\n",
      "MASK = np.ma.getmask(tracer1msk)\n",
      "\n",
      "### PLOT TRACER 1 at zlev and time###\n",
      "\n",
      "zlev =5\n",
      "time =5\n",
      "\n",
      "plt.figure(figsize=(10,7))\n",
      "\n",
      "ax=plt.gca()\n",
      "ax.set_axis_bgcolor((205/255.0, 201/255.0, 201/255.0))\n",
      "\n",
      "plt.contourf(tracer1msk[time,zlev,:,:],30, cmap='rainbow')\n",
      "cb = plt.colorbar()\n",
      "cb.set_label('C', position=(0, 1),rotation=0)\n",
      "\n",
      "z=StateOut.variables['Z']\n",
      "\n",
      "plt.title(\"Tracer at z=%d m\" % -z[zlev])\n",
      "\n",
      " \n",
      "plt.figure(figsize=(10,7))\n",
      "\n",
      "ax=plt.gca()\n",
      "ax.set_axis_bgcolor((205/255.0, 201/255.0, 201/255.0))\n",
      "\n",
      "plt.contourf(tracer1msk[time,:,:,60],30, cmap='rainbow')\n",
      "plt.gca().invert_yaxis()\n",
      "cb = plt.colorbar()\n",
      "cb.set_label('C', position=(0, 1),rotation=0)\n",
      "\n",
      "z=StateOut.variables['Z']\n",
      "\n",
      "plt.title(\"Tracer at x=60 nx\")\n",
      "\n",
      "\n"
     ],
     "language": "python",
     "metadata": {},
     "outputs": [
      {
       "metadata": {},
       "output_type": "pyout",
       "prompt_number": 69,
       "text": [
        "<matplotlib.text.Text at 0x913d310>"
       ]
      },
      {
       "metadata": {},
       "output_type": "display_data",
       "png": "[encoded data removed]",
       "text": [
        "<matplotlib.figure.Figure at 0x7f5a0d0>"
       ]
      },
      {
       "metadata": {},
       "output_type": "display_data",
       "png": "[encoded data removed]",
       "text": [
        "<matplotlib.figure.Figure at 0x7d87650>"
       ]
      }
     ],
     "prompt_number": 69
    },
    {
     "cell_type": "markdown",
     "metadata": {},
     "source": [
      "Calculate the volume of the domain\n",
      "-------------------------------\n",
      "The volume of a tracer cell (remember we have an Arakawa C grid, so this changes depending on which kind of cell we are thinking about) is given by\n",
      "\n",
      "$V(i,j,k)=depth \\times area = (hfacC(i,j,k)\\times dRf(k)) \\times rA(i,j) = (hfacC(i,j,k)\\times dRf(k)) \\times dXg(i,j) \\times dYg(i,j)$,\n",
      "\n",
      "where hfacC is the fraction of the cell that is open (not occupied with land). So, the total volume of the domain is \n",
      "\n",
      "$\\sum\\limits_{i=1}^{nx}{\\sum\\limits_{j=1}^{ny}{\\sum\\limits_{k=1}^{nz}{(hfacC(i,j,k)\\times dRf(k)) \\times rA(i,j)}}}$"
     ]
    },
    {
     "cell_type": "code",
     "collapsed": false,
     "input": [
      "DomVolume = 0.0\n",
      "\n",
      "hFacC = getField(filename2,'HFacC')\n",
      "drF   = getField(filename2,'drF')\n",
      "rAC   = getField(filename2,'rA')\n",
      "\n",
      "\n",
      "for ii in np.arange(nx):\n",
      "    \n",
      "    for jj in np.arange(ny):\n",
      "        \n",
      "        for kk in np.arange(nz):\n",
      "            \n",
      "            DomVolume = DomVolume + hFacC[kk,jj,ii]*drF[kk]*rAC[jj,ii]\n",
      "                \n",
      "print('\\n The total volume is %e m^3 \\n' %DomVolume)\n"
     ],
     "language": "python",
     "metadata": {},
     "outputs": [
      {
       "output_type": "stream",
       "stream": "stdout",
       "text": [
        "\n",
        " The total volume is 4.205218e+12 m^3 \n",
        "\n"
       ]
      }
     ],
     "prompt_number": 70
    },
    {
     "cell_type": "markdown",
     "metadata": {},
     "source": [
      "1st Term: The volume-weighted average of the squared concentration\n",
      "-------------------------------------------------------------\n",
      "The first term in the variance evolution equation is $\\frac{1}{2}\\frac{\\partial{\\overline{q^{2}}}}{\\partial{t}}$. Note that we care about the time derivative of the variance, so that the mean concentration that usually appears in the definition of variance will not play a role here, since it is constant in time (we are not putting in or letting out any tracer). \n",
      "\n",
      "We are going to calculate $\\overline{q^2}$, the volume-weighted average of the squared concentration, and then the time derivative of that using a centered difference scheme."
     ]
    },
    {
     "cell_type": "code",
     "collapsed": false,
     "input": [
      "### Calculate the volume-weighted mean of q^2\n",
      "\n",
      "q2mean = np.zeros((nt,1))\n",
      "\n",
      "for tt in np.arange(nt):\n",
      "    q2sum = 0.0\n",
      "    for kk in np.arange(nz):\n",
      "        \n",
      "        for jj in np.arange(ny):\n",
      "            \n",
      "            q2sum = q2sum + np.sum(((hFacC[kk,jj,:]*drF[kk]*rAC[jj,:])/DomVolume)*(tracer1[tt,kk,jj,:])**2)\n",
      "                \n",
      "    q2mean[tt] = q2sum\n",
      "   \n",
      "    print('volume-weighted mean of q^2 nt=%d is %e  \\n' %(tt, q2mean[tt]))\n",
      "\n"
     ],
     "language": "python",
     "metadata": {},
     "outputs": [
      {
       "output_type": "stream",
       "stream": "stdout",
       "text": [
        "volume-weighted mean of q^2 nt=0 is 4.748420e+03  \n",
        "\n",
        "volume-weighted mean of q^2 nt=1 is 4.756569e+03  \n"
       ]
      },
      {
       "output_type": "stream",
       "stream": "stdout",
       "text": [
        "\n",
        "volume-weighted mean of q^2 nt=2 is 4.752646e+03  \n"
       ]
      },
      {
       "output_type": "stream",
       "stream": "stdout",
       "text": [
        "\n",
        "volume-weighted mean of q^2 nt=3 is 4.752232e+03  \n"
       ]
      },
      {
       "output_type": "stream",
       "stream": "stdout",
       "text": [
        "\n",
        "volume-weighted mean of q^2 nt=4 is 4.754435e+03  \n"
       ]
      },
      {
       "output_type": "stream",
       "stream": "stdout",
       "text": [
        "\n",
        "volume-weighted mean of q^2 nt=5 is 4.754446e+03  \n"
       ]
      },
      {
       "output_type": "stream",
       "stream": "stdout",
       "text": [
        "\n",
        "volume-weighted mean of q^2 nt=6 is 4.753132e+03  \n"
       ]
      },
      {
       "output_type": "stream",
       "stream": "stdout",
       "text": [
        "\n",
        "volume-weighted mean of q^2 nt=7 is 4.753143e+03  \n"
       ]
      },
      {
       "output_type": "stream",
       "stream": "stdout",
       "text": [
        "\n",
        "volume-weighted mean of q^2 nt=8 is 4.753315e+03  \n"
       ]
      },
      {
       "output_type": "stream",
       "stream": "stdout",
       "text": [
        "\n",
        "volume-weighted mean of q^2 nt=9 is 4.752507e+03  \n"
       ]
      },
      {
       "output_type": "stream",
       "stream": "stdout",
       "text": [
        "\n",
        "volume-weighted mean of q^2 nt=10 is 4.751642e+03  \n"
       ]
      },
      {
       "output_type": "stream",
       "stream": "stdout",
       "text": [
        "\n",
        "volume-weighted mean of q^2 nt=11 is 4.751041e+03  \n"
       ]
      },
      {
       "output_type": "stream",
       "stream": "stdout",
       "text": [
        "\n",
        "volume-weighted mean of q^2 nt=12 is 4.750143e+03  \n"
       ]
      },
      {
       "output_type": "stream",
       "stream": "stdout",
       "text": [
        "\n",
        "volume-weighted mean of q^2 nt=13 is 4.749022e+03  \n"
       ]
      },
      {
       "output_type": "stream",
       "stream": "stdout",
       "text": [
        "\n",
        "volume-weighted mean of q^2 nt=14 is 4.747833e+03  \n"
       ]
      },
      {
       "output_type": "stream",
       "stream": "stdout",
       "text": [
        "\n",
        "volume-weighted mean of q^2 nt=15 is 4.746476e+03  \n"
       ]
      },
      {
       "output_type": "stream",
       "stream": "stdout",
       "text": [
        "\n",
        "volume-weighted mean of q^2 nt=16 is 4.744982e+03  \n"
       ]
      },
      {
       "output_type": "stream",
       "stream": "stdout",
       "text": [
        "\n",
        "volume-weighted mean of q^2 nt=17 is 4.743395e+03  \n"
       ]
      },
      {
       "output_type": "stream",
       "stream": "stdout",
       "text": [
        "\n",
        "volume-weighted mean of q^2 nt=18 is 4.741590e+03  \n"
       ]
      },
      {
       "output_type": "stream",
       "stream": "stdout",
       "text": [
        "\n",
        "volume-weighted mean of q^2 nt=19 is 4.739640e+03  \n"
       ]
      },
      {
       "output_type": "stream",
       "stream": "stdout",
       "text": [
        "\n",
        "volume-weighted mean of q^2 nt=20 is 4.737647e+03  \n"
       ]
      },
      {
       "output_type": "stream",
       "stream": "stdout",
       "text": [
        "\n",
        "volume-weighted mean of q^2 nt=21 is 4.735496e+03  \n"
       ]
      },
      {
       "output_type": "stream",
       "stream": "stdout",
       "text": [
        "\n",
        "volume-weighted mean of q^2 nt=22 is 4.733157e+03  \n"
       ]
      },
      {
       "output_type": "stream",
       "stream": "stdout",
       "text": [
        "\n",
        "volume-weighted mean of q^2 nt=23 is 4.730762e+03  \n"
       ]
      },
      {
       "output_type": "stream",
       "stream": "stdout",
       "text": [
        "\n",
        "volume-weighted mean of q^2 nt=24 is 4.728278e+03  \n"
       ]
      },
      {
       "output_type": "stream",
       "stream": "stdout",
       "text": [
        "\n",
        "volume-weighted mean of q^2 nt=25 is 4.725636e+03  \n"
       ]
      },
      {
       "output_type": "stream",
       "stream": "stdout",
       "text": [
        "\n",
        "volume-weighted mean of q^2 nt=26 is 4.722898e+03  \n"
       ]
      },
      {
       "output_type": "stream",
       "stream": "stdout",
       "text": [
        "\n",
        "volume-weighted mean of q^2 nt=27 is 4.720092e+03  \n"
       ]
      },
      {
       "output_type": "stream",
       "stream": "stdout",
       "text": [
        "\n",
        "volume-weighted mean of q^2 nt=28 is 4.717169e+03  \n"
       ]
      },
      {
       "output_type": "stream",
       "stream": "stdout",
       "text": [
        "\n",
        "volume-weighted mean of q^2 nt=29 is 4.714144e+03  \n"
       ]
      },
      {
       "output_type": "stream",
       "stream": "stdout",
       "text": [
        "\n",
        "volume-weighted mean of q^2 nt=30 is 4.711042e+03  \n"
       ]
      },
      {
       "output_type": "stream",
       "stream": "stdout",
       "text": [
        "\n",
        "volume-weighted mean of q^2 nt=31 is 4.707858e+03  \n"
       ]
      },
      {
       "output_type": "stream",
       "stream": "stdout",
       "text": [
        "\n",
        "volume-weighted mean of q^2 nt=32 is 4.704578e+03  \n"
       ]
      },
      {
       "output_type": "stream",
       "stream": "stdout",
       "text": [
        "\n",
        "volume-weighted mean of q^2 nt=33 is 4.701229e+03  \n"
       ]
      },
      {
       "output_type": "stream",
       "stream": "stdout",
       "text": [
        "\n",
        "volume-weighted mean of q^2 nt=34 is 4.697810e+03  \n"
       ]
      },
      {
       "output_type": "stream",
       "stream": "stdout",
       "text": [
        "\n",
        "volume-weighted mean of q^2 nt=35 is 4.694310e+03  \n"
       ]
      },
      {
       "output_type": "stream",
       "stream": "stdout",
       "text": [
        "\n",
        "volume-weighted mean of q^2 nt=36 is 4.690739e+03  \n"
       ]
      },
      {
       "output_type": "stream",
       "stream": "stdout",
       "text": [
        "\n"
       ]
      }
     ],
     "prompt_number": 71
    },
    {
     "cell_type": "code",
     "collapsed": false,
     "input": [
      "### Calculate time derivative \n",
      "dt = (3600.*12.) # half day\n",
      "\n",
      "\n",
      "\n",
      "dqdt = np.zeros(nt-2)\n",
      "\n",
      "for tt in np.arange(nt-2):\n",
      "    \n",
      "    dqdt[tt] = (q2mean[tt+2]-q2mean[tt])/(dt+dt) # approximation of time derivative of v-w mean q^2\n",
      "      "
     ],
     "language": "python",
     "metadata": {},
     "outputs": [],
     "prompt_number": 72
    },
    {
     "cell_type": "markdown",
     "metadata": {},
     "source": [
      "2nd Term: The volume-weighted average of the squared horizontal gradient\n",
      "------------------------------------------------------------------\n",
      "The second term in the variance evolution equation is $-\\kappa_{h} \\overline{|\\nabla_h q|^2}$. Next, we calculate the square of the horizontal gradient $|\\nabla_h q|^2=(\\frac{\\partial{q}}{\\partial{x}})^2+(\\frac{\\partial{q}}{\\partial{y}})^2$.\n",
      "\n",
      "Spatial derivatives are approximated using a centered-difference scheme."
     ]
    },
    {
     "cell_type": "code",
     "collapsed": false,
     "input": [
      "\n",
      "### Calculate mean of (dq/dx)^2 + (dq/dy)^2)\n",
      "\n",
      "dxG = getField(filename2,'dxG')\n",
      "dyG = getField(filename2,'dyG')\n",
      "\n",
      "qmeanDh = np.zeros((nt,1))\n",
      "qmeanDx = np.zeros((nt,1))\n",
      "qmeanDy = np.zeros((nt,1))\n",
      "\n",
      "for tt in np.arange(nt):\n",
      "    \n",
      "    sumDx = 0.0\n",
      "    \n",
      "    tracer2dx = tracer1[tt,:,:,2:nx]\n",
      "    tracer0dx = tracer1[tt,:,:,0:nx-2]\n",
      "    tracerDerX = ((tracer2dx-tracer0dx)/(2.0*dxG[:,1:nx-1]))**2\n",
      "    #print tracerDerX\n",
      "    \n",
      "    for kk in np.arange(nz):\n",
      "        for jj in np.arange(ny):\n",
      "            sumDx = sumDx + np.sum((hFacC[kk,jj,1:nx-1]*drF[kk]*rAC[jj,1:nx-1])*(tracerDerX[kk,jj,:]))\n",
      "        #print(sumDx)    \n",
      "    \n",
      "    qmeanDx[tt] = sumDx/DomVolume \n",
      "    \n",
      "    print('The v-w mean of (dq/dx)^2 at nt=%d is %e \\n' % (tt,qmeanDx[tt]))            \n",
      "   \n",
      "    \n",
      "for tt in np.arange(nt):\n",
      "    \n",
      "    sumDy = 0.0\n",
      "    \n",
      "    tracer2dy = tracer1[tt,:,2:ny,:]\n",
      "    tracer0dy = tracer1[tt,:,0:ny-2,:]\n",
      "    tracerDerY = ((tracer2dy-tracer0dy)/(2.0*dyG[1:ny-1,:]))**2\n",
      "    \n",
      "    \n",
      "    for kk in np.arange(nz):\n",
      "        for ii in np.arange(nx):\n",
      "            sumDy = sumDy + np.sum((hFacC[kk,1:ny-1,ii]*drF[kk]*rAC[1:ny-1,ii])*(tracerDerY[kk,:,ii]))\n",
      "        #print(sumDy)    \n",
      "    \n",
      "    qmeanDy[tt] = sumDy/DomVolume \n",
      "    \n",
      "    print('The v-w mean of (dq/dy)^2 at nt=%d is %e \\n' % (tt,qmeanDy[tt]))            \n",
      "\n",
      "                \n",
      "qmeanDh = qmeanDx + qmeanDy\n"
     ],
     "language": "python",
     "metadata": {},
     "outputs": [
      {
       "output_type": "stream",
       "stream": "stdout",
       "text": [
        "The v-w mean of (dq/dx)^2 at nt=0 is 4.034261e-09 \n",
        "\n",
        "The v-w mean of (dq/dx)^2 at nt=1 is 4.083236e-09 \n"
       ]
      },
      {
       "output_type": "stream",
       "stream": "stdout",
       "text": [
        "\n",
        "The v-w mean of (dq/dx)^2 at nt=2 is 4.097932e-09 \n"
       ]
      },
      {
       "output_type": "stream",
       "stream": "stdout",
       "text": [
        "\n",
        "The v-w mean of (dq/dx)^2 at nt=3 is 4.112076e-09 \n"
       ]
      },
      {
       "output_type": "stream",
       "stream": "stdout",
       "text": [
        "\n",
        "The v-w mean of (dq/dx)^2 at nt=4 is 4.122707e-09 \n"
       ]
      },
      {
       "output_type": "stream",
       "stream": "stdout",
       "text": [
        "\n",
        "The v-w mean of (dq/dx)^2 at nt=5 is 4.129387e-09 \n"
       ]
      },
      {
       "output_type": "stream",
       "stream": "stdout",
       "text": [
        "\n",
        "The v-w mean of (dq/dx)^2 at nt=6 is 4.135393e-09 \n"
       ]
      },
      {
       "output_type": "stream",
       "stream": "stdout",
       "text": [
        "\n",
        "The v-w mean of (dq/dx)^2 at nt=7 is 4.140423e-09 \n"
       ]
      },
      {
       "output_type": "stream",
       "stream": "stdout",
       "text": [
        "\n",
        "The v-w mean of (dq/dx)^2 at nt=8 is 4.144909e-09 \n"
       ]
      },
      {
       "output_type": "stream",
       "stream": "stdout",
       "text": [
        "\n",
        "The v-w mean of (dq/dx)^2 at nt=9 is 4.149382e-09 \n"
       ]
      },
      {
       "output_type": "stream",
       "stream": "stdout",
       "text": [
        "\n",
        "The v-w mean of (dq/dx)^2 at nt=10 is 4.153325e-09 \n"
       ]
      },
      {
       "output_type": "stream",
       "stream": "stdout",
       "text": [
        "\n",
        "The v-w mean of (dq/dx)^2 at nt=11 is 4.157115e-09 \n"
       ]
      },
      {
       "output_type": "stream",
       "stream": "stdout",
       "text": [
        "\n",
        "The v-w mean of (dq/dx)^2 at nt=12 is 4.159474e-09 \n"
       ]
      },
      {
       "output_type": "stream",
       "stream": "stdout",
       "text": [
        "\n",
        "The v-w mean of (dq/dx)^2 at nt=13 is 4.162074e-09 \n"
       ]
      },
      {
       "output_type": "stream",
       "stream": "stdout",
       "text": [
        "\n",
        "The v-w mean of (dq/dx)^2 at nt=14 is 4.164404e-09 \n"
       ]
      },
      {
       "output_type": "stream",
       "stream": "stdout",
       "text": [
        "\n",
        "The v-w mean of (dq/dx)^2 at nt=15 is 4.165952e-09 \n"
       ]
      },
      {
       "output_type": "stream",
       "stream": "stdout",
       "text": [
        "\n",
        "The v-w mean of (dq/dx)^2 at nt=16 is 4.167517e-09 \n"
       ]
      },
      {
       "output_type": "stream",
       "stream": "stdout",
       "text": [
        "\n",
        "The v-w mean of (dq/dx)^2 at nt=17 is 4.168834e-09 \n"
       ]
      },
      {
       "output_type": "stream",
       "stream": "stdout",
       "text": [
        "\n",
        "The v-w mean of (dq/dx)^2 at nt=18 is 4.170027e-09 \n"
       ]
      },
      {
       "output_type": "stream",
       "stream": "stdout",
       "text": [
        "\n",
        "The v-w mean of (dq/dx)^2 at nt=19 is 4.171000e-09 \n"
       ]
      },
      {
       "output_type": "stream",
       "stream": "stdout",
       "text": [
        "\n",
        "The v-w mean of (dq/dx)^2 at nt=20 is 4.171309e-09 \n"
       ]
      },
      {
       "output_type": "stream",
       "stream": "stdout",
       "text": [
        "\n",
        "The v-w mean of (dq/dx)^2 at nt=21 is 4.171370e-09 \n"
       ]
      },
      {
       "output_type": "stream",
       "stream": "stdout",
       "text": [
        "\n",
        "The v-w mean of (dq/dx)^2 at nt=22 is 4.170988e-09 \n"
       ]
      },
      {
       "output_type": "stream",
       "stream": "stdout",
       "text": [
        "\n",
        "The v-w mean of (dq/dx)^2 at nt=23 is 4.170812e-09 \n"
       ]
      },
      {
       "output_type": "stream",
       "stream": "stdout",
       "text": [
        "\n",
        "The v-w mean of (dq/dx)^2 at nt=24 is 4.170793e-09 \n"
       ]
      },
      {
       "output_type": "stream",
       "stream": "stdout",
       "text": [
        "\n",
        "The v-w mean of (dq/dx)^2 at nt=25 is 4.170865e-09 \n"
       ]
      },
      {
       "output_type": "stream",
       "stream": "stdout",
       "text": [
        "\n",
        "The v-w mean of (dq/dx)^2 at nt=26 is 4.171215e-09 \n"
       ]
      },
      {
       "output_type": "stream",
       "stream": "stdout",
       "text": [
        "\n",
        "The v-w mean of (dq/dx)^2 at nt=27 is 4.171621e-09 \n"
       ]
      },
      {
       "output_type": "stream",
       "stream": "stdout",
       "text": [
        "\n",
        "The v-w mean of (dq/dx)^2 at nt=28 is 4.172339e-09 \n"
       ]
      },
      {
       "output_type": "stream",
       "stream": "stdout",
       "text": [
        "\n",
        "The v-w mean of (dq/dx)^2 at nt=29 is 4.173181e-09 \n"
       ]
      },
      {
       "output_type": "stream",
       "stream": "stdout",
       "text": [
        "\n",
        "The v-w mean of (dq/dx)^2 at nt=30 is 4.173976e-09 \n"
       ]
      },
      {
       "output_type": "stream",
       "stream": "stdout",
       "text": [
        "\n",
        "The v-w mean of (dq/dx)^2 at nt=31 is 4.174881e-09 \n"
       ]
      },
      {
       "output_type": "stream",
       "stream": "stdout",
       "text": [
        "\n",
        "The v-w mean of (dq/dx)^2 at nt=32 is 4.175694e-09 \n"
       ]
      },
      {
       "output_type": "stream",
       "stream": "stdout",
       "text": [
        "\n",
        "The v-w mean of (dq/dx)^2 at nt=33 is 4.176713e-09 \n"
       ]
      },
      {
       "output_type": "stream",
       "stream": "stdout",
       "text": [
        "\n",
        "The v-w mean of (dq/dx)^2 at nt=34 is 4.177971e-09 \n"
       ]
      },
      {
       "output_type": "stream",
       "stream": "stdout",
       "text": [
        "\n",
        "The v-w mean of (dq/dx)^2 at nt=35 is 4.179558e-09 \n"
       ]
      },
      {
       "output_type": "stream",
       "stream": "stdout",
       "text": [
        "\n",
        "The v-w mean of (dq/dx)^2 at nt=36 is 4.181456e-09 \n"
       ]
      },
      {
       "output_type": "stream",
       "stream": "stdout",
       "text": [
        "\n",
        "The v-w mean of (dq/dy)^2 at nt=0 is 5.839977e-07 \n"
       ]
      },
      {
       "output_type": "stream",
       "stream": "stdout",
       "text": [
        "\n",
        "The v-w mean of (dq/dy)^2 at nt=1 is 5.850888e-07 \n"
       ]
      },
      {
       "output_type": "stream",
       "stream": "stdout",
       "text": [
        "\n",
        "The v-w mean of (dq/dy)^2 at nt=2 is 5.849502e-07 \n"
       ]
      },
      {
       "output_type": "stream",
       "stream": "stdout",
       "text": [
        "\n",
        "The v-w mean of (dq/dy)^2 at nt=3 is 5.851254e-07 \n"
       ]
      },
      {
       "output_type": "stream",
       "stream": "stdout",
       "text": [
        "\n",
        "The v-w mean of (dq/dy)^2 at nt=4 is 5.854212e-07 \n"
       ]
      },
      {
       "output_type": "stream",
       "stream": "stdout",
       "text": [
        "\n",
        "The v-w mean of (dq/dy)^2 at nt=5 is 5.856096e-07 \n"
       ]
      },
      {
       "output_type": "stream",
       "stream": "stdout",
       "text": [
        "\n",
        "The v-w mean of (dq/dy)^2 at nt=6 is 5.858870e-07 \n"
       ]
      },
      {
       "output_type": "stream",
       "stream": "stdout",
       "text": [
        "\n",
        "The v-w mean of (dq/dy)^2 at nt=7 is 5.863068e-07 \n"
       ]
      },
      {
       "output_type": "stream",
       "stream": "stdout",
       "text": [
        "\n",
        "The v-w mean of (dq/dy)^2 at nt=8 is 5.867181e-07 \n"
       ]
      },
      {
       "output_type": "stream",
       "stream": "stdout",
       "text": [
        "\n",
        "The v-w mean of (dq/dy)^2 at nt=9 is 5.871297e-07 \n"
       ]
      },
      {
       "output_type": "stream",
       "stream": "stdout",
       "text": [
        "\n",
        "The v-w mean of (dq/dy)^2 at nt=10 is 5.876651e-07 \n"
       ]
      },
      {
       "output_type": "stream",
       "stream": "stdout",
       "text": [
        "\n",
        "The v-w mean of (dq/dy)^2 at nt=11 is 5.882482e-07 \n"
       ]
      },
      {
       "output_type": "stream",
       "stream": "stdout",
       "text": [
        "\n",
        "The v-w mean of (dq/dy)^2 at nt=12 is 5.888198e-07 \n"
       ]
      },
      {
       "output_type": "stream",
       "stream": "stdout",
       "text": [
        "\n",
        "The v-w mean of (dq/dy)^2 at nt=13 is 5.894476e-07 \n"
       ]
      },
      {
       "output_type": "stream",
       "stream": "stdout",
       "text": [
        "\n",
        "The v-w mean of (dq/dy)^2 at nt=14 is 5.901115e-07 \n"
       ]
      },
      {
       "output_type": "stream",
       "stream": "stdout",
       "text": [
        "\n",
        "The v-w mean of (dq/dy)^2 at nt=15 is 5.907567e-07 \n"
       ]
      },
      {
       "output_type": "stream",
       "stream": "stdout",
       "text": [
        "\n",
        "The v-w mean of (dq/dy)^2 at nt=16 is 5.914231e-07 \n"
       ]
      },
      {
       "output_type": "stream",
       "stream": "stdout",
       "text": [
        "\n",
        "The v-w mean of (dq/dy)^2 at nt=17 is 5.921284e-07 \n"
       ]
      },
      {
       "output_type": "stream",
       "stream": "stdout",
       "text": [
        "\n",
        "The v-w mean of (dq/dy)^2 at nt=18 is 5.928249e-07 \n"
       ]
      },
      {
       "output_type": "stream",
       "stream": "stdout",
       "text": [
        "\n",
        "The v-w mean of (dq/dy)^2 at nt=19 is 5.935090e-07 \n"
       ]
      },
      {
       "output_type": "stream",
       "stream": "stdout",
       "text": [
        "\n",
        "The v-w mean of (dq/dy)^2 at nt=20 is 5.942113e-07 \n"
       ]
      },
      {
       "output_type": "stream",
       "stream": "stdout",
       "text": [
        "\n",
        "The v-w mean of (dq/dy)^2 at nt=21 is 5.949072e-07 \n"
       ]
      },
      {
       "output_type": "stream",
       "stream": "stdout",
       "text": [
        "\n",
        "The v-w mean of (dq/dy)^2 at nt=22 is 5.955840e-07 \n"
       ]
      },
      {
       "output_type": "stream",
       "stream": "stdout",
       "text": [
        "\n",
        "The v-w mean of (dq/dy)^2 at nt=23 is 5.962508e-07 \n"
       ]
      },
      {
       "output_type": "stream",
       "stream": "stdout",
       "text": [
        "\n",
        "The v-w mean of (dq/dy)^2 at nt=24 is 5.969071e-07 \n"
       ]
      },
      {
       "output_type": "stream",
       "stream": "stdout",
       "text": [
        "\n",
        "The v-w mean of (dq/dy)^2 at nt=25 is 5.975439e-07 \n"
       ]
      },
      {
       "output_type": "stream",
       "stream": "stdout",
       "text": [
        "\n",
        "The v-w mean of (dq/dy)^2 at nt=26 is 5.981661e-07 \n"
       ]
      },
      {
       "output_type": "stream",
       "stream": "stdout",
       "text": [
        "\n",
        "The v-w mean of (dq/dy)^2 at nt=27 is 5.987823e-07 \n"
       ]
      },
      {
       "output_type": "stream",
       "stream": "stdout",
       "text": [
        "\n",
        "The v-w mean of (dq/dy)^2 at nt=28 is 5.993891e-07 \n"
       ]
      },
      {
       "output_type": "stream",
       "stream": "stdout",
       "text": [
        "\n",
        "The v-w mean of (dq/dy)^2 at nt=29 is 5.999802e-07 \n"
       ]
      },
      {
       "output_type": "stream",
       "stream": "stdout",
       "text": [
        "\n",
        "The v-w mean of (dq/dy)^2 at nt=30 is 6.005613e-07 \n"
       ]
      },
      {
       "output_type": "stream",
       "stream": "stdout",
       "text": [
        "\n",
        "The v-w mean of (dq/dy)^2 at nt=31 is 6.011350e-07 \n"
       ]
      },
      {
       "output_type": "stream",
       "stream": "stdout",
       "text": [
        "\n",
        "The v-w mean of (dq/dy)^2 at nt=32 is 6.017001e-07 \n"
       ]
      },
      {
       "output_type": "stream",
       "stream": "stdout",
       "text": [
        "\n",
        "The v-w mean of (dq/dy)^2 at nt=33 is 6.022564e-07 \n"
       ]
      },
      {
       "output_type": "stream",
       "stream": "stdout",
       "text": [
        "\n",
        "The v-w mean of (dq/dy)^2 at nt=34 is 6.028067e-07 \n"
       ]
      },
      {
       "output_type": "stream",
       "stream": "stdout",
       "text": [
        "\n",
        "The v-w mean of (dq/dy)^2 at nt=35 is 6.033455e-07 \n"
       ]
      },
      {
       "output_type": "stream",
       "stream": "stdout",
       "text": [
        "\n",
        "The v-w mean of (dq/dy)^2 at nt=36 is 6.038719e-07 \n"
       ]
      },
      {
       "output_type": "stream",
       "stream": "stdout",
       "text": [
        "\n"
       ]
      }
     ],
     "prompt_number": 73
    },
    {
     "cell_type": "markdown",
     "metadata": {},
     "source": [
      "3rd Term: The volume-weighted average of the squared vertical derivative\n",
      "------------------------------------------------------------------\n",
      "The third term in the variance evolution equation is $-\\kappa_{v} \\overline{(\\frac{\\partial{q}}{\\partial{z}})^2}$. Next, we calculate the square of the vertical gradient $(\\frac{\\partial{q}}{\\partial{z}})^2$.\n",
      "\n",
      "The vertical derivative is approximated using a centered-difference scheme."
     ]
    },
    {
     "cell_type": "code",
     "collapsed": false,
     "input": [
      "### Calculate mean of (dq/dz)^2 \n",
      "\n",
      "qmeanDz = np.zeros((nt,1))\n",
      "\n",
      "\n",
      "for tt in np.arange(nt):\n",
      "    qsumDz = 0.0\n",
      "    for ii in np.arange(nx):\n",
      "        \n",
      "        for jj in np.arange(ny):\n",
      "            \n",
      "            for kk in np.arange(nz-2):\n",
      "                \n",
      "                if (hFacC[kk,jj,ii]*drF[kk])+(hFacC[kk+1,jj,ii]*drF[kk+1]) == 0:\n",
      "                    \n",
      "                    continue\n",
      "                    \n",
      "                else :\n",
      "                    \n",
      "                   qsumDz =qsumDz +(hFacC[kk,jj,ii]*drF[kk]*rAC[jj,ii])*(((tracer1[tt,kk+2,jj,ii]-tracer1[tt,kk,jj,ii])/((hFacC[kk+1,jj,ii]*drF[kk+1])+(hFacC[kk,jj,ii]*drF[kk])))**2)\n",
      "    \n",
      "    qmeanDz[tt] = qsumDz/DomVolume\n",
      "    \n",
      "    print('Mean (dq/dz)^2 at nt=%d is %e \\n' %(tt, qmeanDz[tt]))\n",
      "  \n",
      "\n"
     ],
     "language": "python",
     "metadata": {},
     "outputs": [
      {
       "output_type": "stream",
       "stream": "stdout",
       "text": [
        "Mean (dq/dz)^2 at nt=0 is 1.889592e-01 \n",
        "\n",
        "Mean (dq/dz)^2 at nt=1 is 1.888139e-01 \n"
       ]
      },
      {
       "output_type": "stream",
       "stream": "stdout",
       "text": [
        "\n",
        "Mean (dq/dz)^2 at nt=2 is 1.887896e-01 \n"
       ]
      },
      {
       "output_type": "stream",
       "stream": "stdout",
       "text": [
        "\n",
        "Mean (dq/dz)^2 at nt=3 is 1.887755e-01 \n"
       ]
      },
      {
       "output_type": "stream",
       "stream": "stdout",
       "text": [
        "\n",
        "Mean (dq/dz)^2 at nt=4 is 1.886880e-01 \n"
       ]
      },
      {
       "output_type": "stream",
       "stream": "stdout",
       "text": [
        "\n",
        "Mean (dq/dz)^2 at nt=5 is 1.886365e-01 \n"
       ]
      },
      {
       "output_type": "stream",
       "stream": "stdout",
       "text": [
        "\n",
        "Mean (dq/dz)^2 at nt=6 is 1.886157e-01 \n"
       ]
      },
      {
       "output_type": "stream",
       "stream": "stdout",
       "text": [
        "\n",
        "Mean (dq/dz)^2 at nt=7 is 1.885373e-01 \n"
       ]
      },
      {
       "output_type": "stream",
       "stream": "stdout",
       "text": [
        "\n",
        "Mean (dq/dz)^2 at nt=8 is 1.884423e-01 \n"
       ]
      },
      {
       "output_type": "stream",
       "stream": "stdout",
       "text": [
        "\n",
        "Mean (dq/dz)^2 at nt=9 is 1.883601e-01 \n"
       ]
      },
      {
       "output_type": "stream",
       "stream": "stdout",
       "text": [
        "\n",
        "Mean (dq/dz)^2 at nt=10 is 1.882548e-01 \n"
       ]
      },
      {
       "output_type": "stream",
       "stream": "stdout",
       "text": [
        "\n",
        "Mean (dq/dz)^2 at nt=11 is 1.881200e-01 \n"
       ]
      },
      {
       "output_type": "stream",
       "stream": "stdout",
       "text": [
        "\n",
        "Mean (dq/dz)^2 at nt=12 is 1.879749e-01 \n"
       ]
      },
      {
       "output_type": "stream",
       "stream": "stdout",
       "text": [
        "\n",
        "Mean (dq/dz)^2 at nt=13 is 1.878100e-01 \n"
       ]
      },
      {
       "output_type": "stream",
       "stream": "stdout",
       "text": [
        "\n",
        "Mean (dq/dz)^2 at nt=14 is 1.876207e-01 \n"
       ]
      },
      {
       "output_type": "stream",
       "stream": "stdout",
       "text": [
        "\n",
        "Mean (dq/dz)^2 at nt=15 is 1.874122e-01 \n"
       ]
      },
      {
       "output_type": "stream",
       "stream": "stdout",
       "text": [
        "\n",
        "Mean (dq/dz)^2 at nt=16 is 1.871805e-01 \n"
       ]
      },
      {
       "output_type": "stream",
       "stream": "stdout",
       "text": [
        "\n",
        "Mean (dq/dz)^2 at nt=17 is 1.869234e-01 \n"
       ]
      },
      {
       "output_type": "stream",
       "stream": "stdout",
       "text": [
        "\n",
        "Mean (dq/dz)^2 at nt=18 is 1.866459e-01 \n"
       ]
      },
      {
       "output_type": "stream",
       "stream": "stdout",
       "text": [
        "\n",
        "Mean (dq/dz)^2 at nt=19 is 1.863452e-01 \n"
       ]
      },
      {
       "output_type": "stream",
       "stream": "stdout",
       "text": [
        "\n",
        "Mean (dq/dz)^2 at nt=20 is 1.860183e-01 \n"
       ]
      },
      {
       "output_type": "stream",
       "stream": "stdout",
       "text": [
        "\n",
        "Mean (dq/dz)^2 at nt=21 is 1.856688e-01 \n"
       ]
      },
      {
       "output_type": "stream",
       "stream": "stdout",
       "text": [
        "\n",
        "Mean (dq/dz)^2 at nt=22 is 1.852978e-01 \n"
       ]
      },
      {
       "output_type": "stream",
       "stream": "stdout",
       "text": [
        "\n",
        "Mean (dq/dz)^2 at nt=23 is 1.849016e-01 \n"
       ]
      },
      {
       "output_type": "stream",
       "stream": "stdout",
       "text": [
        "\n",
        "Mean (dq/dz)^2 at nt=24 is 1.844818e-01 \n"
       ]
      },
      {
       "output_type": "stream",
       "stream": "stdout",
       "text": [
        "\n",
        "Mean (dq/dz)^2 at nt=25 is 1.840405e-01 \n"
       ]
      },
      {
       "output_type": "stream",
       "stream": "stdout",
       "text": [
        "\n",
        "Mean (dq/dz)^2 at nt=26 is 1.835766e-01 \n"
       ]
      },
      {
       "output_type": "stream",
       "stream": "stdout",
       "text": [
        "\n",
        "Mean (dq/dz)^2 at nt=27 is 1.830900e-01 \n"
       ]
      },
      {
       "output_type": "stream",
       "stream": "stdout",
       "text": [
        "\n",
        "Mean (dq/dz)^2 at nt=28 is 1.825829e-01 \n"
       ]
      },
      {
       "output_type": "stream",
       "stream": "stdout",
       "text": [
        "\n",
        "Mean (dq/dz)^2 at nt=29 is 1.820552e-01 \n"
       ]
      },
      {
       "output_type": "stream",
       "stream": "stdout",
       "text": [
        "\n",
        "Mean (dq/dz)^2 at nt=30 is 1.815069e-01 \n"
       ]
      },
      {
       "output_type": "stream",
       "stream": "stdout",
       "text": [
        "\n",
        "Mean (dq/dz)^2 at nt=31 is 1.809395e-01 \n"
       ]
      },
      {
       "output_type": "stream",
       "stream": "stdout",
       "text": [
        "\n",
        "Mean (dq/dz)^2 at nt=32 is 1.803536e-01 \n"
       ]
      },
      {
       "output_type": "stream",
       "stream": "stdout",
       "text": [
        "\n",
        "Mean (dq/dz)^2 at nt=33 is 1.797497e-01 \n"
       ]
      },
      {
       "output_type": "stream",
       "stream": "stdout",
       "text": [
        "\n",
        "Mean (dq/dz)^2 at nt=34 is 1.791287e-01 \n"
       ]
      },
      {
       "output_type": "stream",
       "stream": "stdout",
       "text": [
        "\n",
        "Mean (dq/dz)^2 at nt=35 is 1.784912e-01 \n"
       ]
      },
      {
       "output_type": "stream",
       "stream": "stdout",
       "text": [
        "\n",
        "Mean (dq/dz)^2 at nt=36 is 1.778380e-01 \n"
       ]
      },
      {
       "output_type": "stream",
       "stream": "stdout",
       "text": [
        "\n"
       ]
      }
     ],
     "prompt_number": 74
    },
    {
     "cell_type": "code",
     "collapsed": false,
     "input": [],
     "language": "python",
     "metadata": {},
     "outputs": [],
     "prompt_number": 74
    },
    {
     "cell_type": "code",
     "collapsed": false,
     "input": [
      "\n",
      "fig1=plt.figure(figsize=(21,3))\n",
      "\n",
      "plt.subplot(1,3,1)\n",
      "ax=plt.gca()\n",
      "ax.set_axis_bgcolor((205/255.0, 201/255.0, 201/255.0))\n",
      "\n",
      "plt.plot(qmeanDh[1:len(qmeanDh)-1],dqdt)\n",
      "\n",
      "\n",
      "plt.xlabel('$<|\\partial_{h}q|^2>$')\n",
      "\n",
      "plt.ylabel('$\\partial{<q^2>}/\\partial{t}$')\n",
      "    \n",
      "\n",
      "plt.subplot(1,3,2)\n",
      "ax=plt.gca()\n",
      "ax.set_axis_bgcolor((205/255.0, 201/255.0, 201/255.0))\n",
      "\n",
      "plt.plot(qmeanDz[1:len(qmeanDz)-1],dqdt)\n",
      "\n",
      "\n",
      "plt.xlabel('$<\\partial{q^2}/\\partial{z}>$')\n",
      "\n",
      "plt.ylabel('$\\partial{<q^2>}/\\partial{t}$')\n",
      "\n",
      "plt.subplot(1,3,3)\n",
      "ax=plt.gca()\n",
      "ax.set_axis_bgcolor((205/255.0, 201/255.0, 201/255.0))\n",
      "\n",
      "plt.plot(np.arange(0,nt*0.5,0.5),q2mean)\n",
      "\n",
      "plt.xlabel('days')\n",
      "\n",
      "plt.ylabel('$<q^2>$')\n",
      "\n",
      "plt.tight_layout()"
     ],
     "language": "python",
     "metadata": {},
     "outputs": [
      {
       "metadata": {},
       "output_type": "display_data",
       "png": "[encoded data removed]",
       "text": [
        "<matplotlib.figure.Figure at 0x96f3b10>"
       ]
      }
     ],
     "prompt_number": 75
    },
    {
     "cell_type": "code",
     "collapsed": false,
     "input": [
      "import pandas as pd\n",
      "import statsmodels.api as sm\n",
      "\n",
      "dt = 1*3600.0*12.0 # 1/2 day\n",
      "\n",
      "x = np.column_stack((qmeanDh[1:len(qmeanDh)-1], qmeanDz[1:len(qmeanDz)-1])) #variance of space derivatives\n",
      "#x = qmeanDh[1:len(qmeanDh)-1]\n",
      "y = dqdt[0:len(dqdt)]\n",
      "\n",
      "\n",
      "## fit a OLS model with intercept \n",
      "#x = sm.add_constant(x)\n",
      "est = sm.OLS(y, x).fit()\n",
      "\n",
      "est.summary()\n"
     ],
     "language": "python",
     "metadata": {},
     "outputs": [
      {
       "html": [
        "<table class=\"simpletable\">\n",
        "<caption>OLS Regression Results</caption>\n",
        "<tr>\n",
        "  <th>Dep. Variable:</th>            <td>y</td>        <th>  R-squared:         </th> <td>   0.903</td>\n",
        "</tr>\n",
        "<tr>\n",
        "  <th>Model:</th>                   <td>OLS</td>       <th>  Adj. R-squared:    </th> <td>   0.897</td>\n",
        "</tr>\n",
        "<tr>\n",
        "  <th>Method:</th>             <td>Least Squares</td>  <th>  F-statistic:       </th> <td>   153.8</td>\n",
        "</tr>\n",
        "<tr>\n",
        "  <th>Date:</th>             <td>Tue, 26 Aug 2014</td> <th>  Prob (F-statistic):</th> <td>1.88e-17</td>\n",
        "</tr>\n",
        "<tr>\n",
        "  <th>Time:</th>                 <td>15:16:27</td>     <th>  Log-Likelihood:    </th> <td>  337.24</td>\n",
        "</tr>\n",
        "<tr>\n",
        "  <th>No. Observations:</th>      <td>    35</td>      <th>  AIC:               </th> <td>  -670.5</td>\n",
        "</tr>\n",
        "<tr>\n",
        "  <th>Df Residuals:</th>          <td>    33</td>      <th>  BIC:               </th> <td>  -667.4</td>\n",
        "</tr>\n",
        "<tr>\n",
        "  <th>Df Model:</th>              <td>     2</td>      <th>                     </th>     <td> </td>   \n",
        "</tr>\n",
        "</table>\n",
        "<table class=\"simpletable\">\n",
        "<tr>\n",
        "   <td></td>     <th>coef</th>     <th>std err</th>      <th>t</th>      <th>P>|t|</th> <th>[95.0% Conf. Int.]</th> \n",
        "</tr>\n",
        "<tr>\n",
        "  <th>x1</th> <td>-1754.9657</td> <td>  171.393</td> <td>  -10.239</td> <td> 0.000</td> <td>-2103.667 -1406.264</td>\n",
        "</tr>\n",
        "<tr>\n",
        "  <th>x2</th> <td>    0.0054</td> <td>    0.001</td> <td>    9.853</td> <td> 0.000</td> <td>    0.004     0.007</td>\n",
        "</tr>\n",
        "</table>\n",
        "<table class=\"simpletable\">\n",
        "<tr>\n",
        "  <th>Omnibus:</th>       <td>18.397</td> <th>  Durbin-Watson:     </th> <td>   1.962</td>\n",
        "</tr>\n",
        "<tr>\n",
        "  <th>Prob(Omnibus):</th> <td> 0.000</td> <th>  Jarque-Bera (JB):  </th> <td>  33.935</td>\n",
        "</tr>\n",
        "<tr>\n",
        "  <th>Skew:</th>          <td> 1.195</td> <th>  Prob(JB):          </th> <td>4.28e-08</td>\n",
        "</tr>\n",
        "<tr>\n",
        "  <th>Kurtosis:</th>      <td> 7.190</td> <th>  Cond. No.          </th> <td>1.16e+07</td>\n",
        "</tr>\n",
        "</table>"
       ],
       "metadata": {},
       "output_type": "pyout",
       "prompt_number": 81,
       "text": [
        "<class 'statsmodels.iolib.summary.Summary'>\n",
        "\"\"\"\n",
        "                            OLS Regression Results                            \n",
        "==============================================================================\n",
        "Dep. Variable:                      y   R-squared:                       0.903\n",
        "Model:                            OLS   Adj. R-squared:                  0.897\n",
        "Method:                 Least Squares   F-statistic:                     153.8\n",
        "Date:                Tue, 26 Aug 2014   Prob (F-statistic):           1.88e-17\n",
        "Time:                        15:16:27   Log-Likelihood:                 337.24\n",
        "No. Observations:                  35   AIC:                            -670.5\n",
        "Df Residuals:                      33   BIC:                            -667.4\n",
        "Df Model:                           2                                         \n",
        "==============================================================================\n",
        "                 coef    std err          t      P>|t|      [95.0% Conf. Int.]\n",
        "------------------------------------------------------------------------------\n",
        "x1         -1754.9657    171.393    -10.239      0.000     -2103.667 -1406.264\n",
        "x2             0.0054      0.001      9.853      0.000         0.004     0.007\n",
        "==============================================================================\n",
        "Omnibus:                       18.397   Durbin-Watson:                   1.962\n",
        "Prob(Omnibus):                  0.000   Jarque-Bera (JB):               33.935\n",
        "Skew:                           1.195   Prob(JB):                     4.28e-08\n",
        "Kurtosis:                       7.190   Cond. No.                     1.16e+07\n",
        "==============================================================================\n",
        "\n",
        "Warnings:\n",
        "[1] The smallest eigenvalue is 9.03e-15. This might indicate that there are\n",
        "strong multicollinearity problems or that the design matrix is singular.\n",
        "\"\"\""
       ]
      }
     ],
     "prompt_number": 81
    },
    {
     "cell_type": "code",
     "collapsed": false,
     "input": [],
     "language": "python",
     "metadata": {},
     "outputs": [],
     "prompt_number": 21
    },
    {
     "cell_type": "code",
     "collapsed": false,
     "input": [],
     "language": "python",
     "metadata": {},
     "outputs": [],
     "prompt_number": 21
    },
    {
     "cell_type": "code",
     "collapsed": false,
     "input": [],
     "language": "python",
     "metadata": {},
     "outputs": []
    }
   ],
   "metadata": {}
  }
 ]
}