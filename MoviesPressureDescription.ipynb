{
 "cells": [
  {
   "cell_type": "markdown",
   "metadata": {},
   "source": [
    "### Movies for SSH and pressure - Aids to visualize the flow"
   ]
  },
  {
   "cell_type": "code",
   "execution_count": 1,
   "metadata": {
    "collapsed": true
   },
   "outputs": [],
   "source": [
    "#KRM\n",
    "\n",
    "import numpy as np\n",
    "\n",
    "import matplotlib.pyplot as plt\n",
    "\n",
    "import matplotlib.colors as mcolors\n",
    "\n",
    "import matplotlib as mpl\n",
    "#%matplotlib inline\n",
    "from math import *\n",
    "\n",
    "import scipy.io\n",
    "\n",
    "import scipy as spy\n",
    "\n",
    "from netCDF4 import Dataset\n",
    "\n",
    "import pylab as pl\n",
    "\n",
    "import os \n",
    "\n",
    "import sys\n",
    "\n",
    "import seaborn as sns"
   ]
  },
  {
   "cell_type": "code",
   "execution_count": 2,
   "metadata": {
    "collapsed": true
   },
   "outputs": [],
   "source": [
    "lib_path = os.path.abspath('../../Building_canyon/BuildCanyon/PythonModulesMITgcm') # Add absolute path to my python scripts\n",
    "sys.path.append(lib_path)\n",
    "\n",
    "import ReadOutTools_MITgcm as rout \n"
   ]
  },
  {
   "cell_type": "code",
   "execution_count": 3,
   "metadata": {
    "collapsed": false
   },
   "outputs": [],
   "source": [
    "CanyonGrid='/ocean/kramosmu/MITgcm/TracerExperiments/3DDIFF/run02/gridGlob.nc'\n",
    "CanyonGridOut = Dataset(CanyonGrid)\n",
    "\n",
    "CanyonState='/ocean/kramosmu/MITgcm/TracerExperiments/3DDIFF/run02/stateGlob.nc'\n",
    "CanyonStateOut = Dataset(CanyonState)\n",
    "\n",
    "CanyonPressure='/ocean/kramosmu/MITgcm/TracerExperiments/3DDIFF/run02/phiHydGlob.nc'\n",
    "CanyonPressureOut = Dataset(CanyonPressure)\n",
    "#for dimobj in CanyonPressureOut.variables.values():\n",
    "#    print dimobj\n",
    "\n",
    "#CanyonPressureLow='/ocean/kramosmu/MITgcm/TracerExperiments/CNTDIFF/run07/phiHydLowGlob.nc'\n",
    "#CanyonPressureLowOut = Dataset(CanyonPressureLow)\n",
    "#for dimobj in CanyonPressureLowOut.variables.values():\n",
    "#    print dimobj\n"
   ]
  },
  {
   "cell_type": "code",
   "execution_count": null,
   "metadata": {
    "collapsed": false
   },
   "outputs": [],
   "source": []
  },
  {
   "cell_type": "code",
   "execution_count": 4,
   "metadata": {
    "collapsed": true
   },
   "outputs": [],
   "source": [
    "# General input\n",
    "\n",
    "nx = 360\n",
    "ny = 360\n",
    "nz = 90\n",
    "nt = 19 # t dimension size \n",
    "\n",
    "z = CanyonStateOut.variables['Z']\n",
    "Time = CanyonStateOut.variables['T']\n",
    "\n",
    "xc = rout.getField(CanyonGrid, 'XC') # x coords tracer cells\n",
    "yc = rout.getField(CanyonGrid, 'YC') # y coords tracer cells\n",
    "\n",
    "bathy = rout.getField(CanyonGrid, 'Depth')\n",
    "\n",
    "hFacC = rout.getField(CanyonGrid, 'HFacC')\n",
    "MaskC = rout.getMask(CanyonGrid, 'HFacC')\n",
    "\n",
    "hFacW = rout.getField(CanyonGrid, 'HFacW') # (Z,Y,Xp1) for zonal fluxes\n",
    "MaskW = rout.getMask(CanyonGrid,'HFacW') \n",
    "\n",
    "hFacS = rout.getField(CanyonGrid, 'HFacS') # (Z,Yp1,X) for meridional fluxes\n",
    "MaskS = rout.getMask(CanyonGrid,'HFacS') \n"
   ]
  },
  {
   "cell_type": "code",
   "execution_count": 5,
   "metadata": {
    "collapsed": false
   },
   "outputs": [],
   "source": [
    "# Load velocity components\n",
    "uu = rout.getField(CanyonState,'U')\n",
    "vv = rout.getField(CanyonState,'V')\n",
    "\n",
    "U,V = rout.unstagger(uu,vv)\n",
    "\n"
   ]
  },
  {
   "cell_type": "code",
   "execution_count": 6,
   "metadata": {
    "collapsed": false
   },
   "outputs": [],
   "source": [
    "phiHyd = rout.getField(CanyonPressure,'phiHyd')\n",
    "Eta = rout.getField(CanyonState,'Eta')"
   ]
  },
  {
   "cell_type": "code",
   "execution_count": null,
   "metadata": {
    "collapsed": false
   },
   "outputs": [],
   "source": []
  },
  {
   "cell_type": "code",
   "execution_count": 7,
   "metadata": {
    "collapsed": true
   },
   "outputs": [],
   "source": [
    "import matplotlib.animation as animation"
   ]
  },
  {
   "cell_type": "code",
   "execution_count": 8,
   "metadata": {
    "collapsed": false
   },
   "outputs": [],
   "source": [
    "sns.set()\n",
    "sns.set_style('white')\n",
    "sns.set_context(\"talk\")\n",
    "etamap = sns.cubehelix_palette(light=1, as_cmap=True)\n",
    "presmap = sns.cubehelix_palette(start=0.3, rot=-0.5, as_cmap=True)"
   ]
  },
  {
   "cell_type": "code",
   "execution_count": 18,
   "metadata": {
    "collapsed": false
   },
   "outputs": [],
   "source": [
    "def Plot1(t,ax1):\n",
    "    Uplot=np.ma.array(phiHyd[t,:,:,xslice],mask=MaskC[:,:,xslice])\n",
    "    csU = np.linspace(PhiHydmin1,PhiHydmax1,num=31)\n",
    "    csU2 = np.linspace(PhiHydmin1,PhiHydmax1,num=15)\n",
    "    ax1.clear()\n",
    "    mesh=ax1.contourf(yc[100:,200],z[:58],Uplot[:58,100:],csU,cmap=presmap)\n",
    "    if t == 1:    \n",
    "        cbar=plt.colorbar(mesh,ax=ax1,cmap =\"RdYlGn_r\")\n",
    "    CS = ax1.contour(yc[100:,200],z[:58],Uplot[:58,100:],csU2,colors='k',linewidths=[0.75] )\n",
    "    ax1.set_axis_bgcolor((205/255.0, 201/255.0, 201/255.0))\n",
    "    ax1.set_xlabel('Across-shore distance [km]')\n",
    "    ax1.set_xticks([40000,50000,60000,70000,80000])\n",
    "    ax1.set_xticklabels(['40', '50', '60', '70', '80'])\n",
    "    ax1.set_ylabel('Depth [m]')\n",
    "    ax1.set_title('Hydrostatic pressure pot. at day %0.1f [$m^2/s^2$]' %(t/2.0))\n",
    "\n",
    "def Plot2(t,ax2):    \n",
    "    Uplot=np.ma.array(phiHyd[t,:,yslice,:],mask=MaskC[:,yslice,:])\n",
    "    csU = np.linspace(PhiHydmin2,PhiHydmax2,num=20)\n",
    "    csU2 = np.linspace(PhiHydmin2,PhiHydmax2,num=11)\n",
    "    ax2.clear()\n",
    "    mesh=ax2.contourf(xc[200,100:260],z[:58],Uplot[:58,100:260],csU,cmap=presmap)\n",
    "    if t == 1:\n",
    "        cbar=plt.colorbar(mesh,ax=ax2)\n",
    "    CS=ax2.contour(xc[200,100:260],z[:58],Uplot[:58,100:260],csU2,colors='k',linewidths=[0.75] )\n",
    "    ax2.set_axis_bgcolor((205/255.0, 201/255.0, 201/255.0))\n",
    "    ax2.set_xlabel('Alongshore distance [km]')\n",
    "    ax2.set_xticks([50000,55000,60000,65000, 70000])\n",
    "    ax2.set_xticklabels(['50','55','60','65','70'])\n",
    "    ax2.set_ylabel('Depth [m]')\n",
    "    ax2.set_title('Hydrostatic pressure pot. [$m^2/s^2$]')\n",
    "    \n",
    "def Plot3(t,ax3):   \n",
    "    Etaplot = np.ma.array(Eta[t,:,:],mask=MaskC[0,:,:])\n",
    "    uplane = np.ma.array(U[t,zslice2,:,1:],mask=MaskC[zslice2,1:,1:])\n",
    "    vplane = np.ma.array(V[t,zslice2,1:,:],mask=MaskC[zslice2,1:,1:])\n",
    "    csSpd = np.linspace(Etamin,Etamax,num=25)\n",
    "    csU2 = np.linspace(Etamin,Etamax,num=16)\n",
    "    ax3.clear()\n",
    "    mesh=ax3.contourf(xc[145:265,:],yc[145:265,:],Etaplot[145:265,:],csSpd,cmap=etamap)\n",
    "    if t == 1:\n",
    "        cbar=plt.colorbar(mesh,ax=ax3)\n",
    "    CS = ax3.contour(xc[145:265,1:],yc[145:265,1:],bathy[145:265,1:],[145],colors='k',linewidths=[2.0] )\n",
    "    vect = ax3.quiver(xc[145:265:5, 1::20], yc[145:265:5, 1::20], uplane[145:265:5, ::20], vplane[145:265:5, ::20]\n",
    "                      , color='k')\n",
    "    \n",
    "    MerPlane = ax3.plot(xc[yslice,:],yc[yslice,:],'k:',linewidth = 2)\n",
    "    ZonPlane = ax3.plot(xc[145:265,xslice],yc[145:265,xslice],'k:',linewidth = 2)\n",
    "    CS2=ax3.contour(xc[145:265,:],yc[145:265,:],Etaplot[145:265,:],csU2,colors='k',linewidths=[0.75])\n",
    "    ax3.set_axis_bgcolor((205/255.0, 201/255.0, 201/255.0))\n",
    "    ax3.set_xlabel('Alongshore distance [km]')\n",
    "    ax3.set_xticks([20000,40000,60000,80000,100000])\n",
    "    ax3.set_xticklabels(['20', '40', '60', '80', '100'])\n",
    "    ax3.set_ylabel('Across-shore distance [km]')\n",
    "    ax3.set_yticks([40000,45000,50000,55000])\n",
    "    ax3.set_yticklabels(['40', '45', '50', '55'])\n",
    "    ax3.set_title('$\\eta$ [$m$]')\n",
    "\n",
    "\n",
    "def Plot4(t,ax4):\n",
    "    \n",
    "    Phiplot = np.ma.array(phiHyd[t,zslice,:,:],mask=MaskC[zslice,:,:])\n",
    "    uplane = np.ma.array(U[t,zslice,:,1:],mask=MaskC[zslice,1:,1:])\n",
    "    vplane = np.ma.array(V[t,zslice,1:,:],mask=MaskC[zslice,1:,1:])\n",
    "    csSpd = np.linspace(PhiHydmin3,PhiHydmax3,num=30)\n",
    "    csU2 = np.linspace(PhiHydmin3,PhiHydmax3,num=16)\n",
    "    ax4.clear()\n",
    "    mesh=ax4.contourf(xc[145:265,:],yc[145:265,:],Phiplot[145:265,:],csSpd,cmap=presmap)\n",
    "    if t == 1:\n",
    "        cbar=plt.colorbar(mesh,ax=ax4)\n",
    "    CS = ax4.contour(xc[145:265,1:],yc[145:265,1:],bathy[145:265,1:],[145],colors='k',linewidths=[2.0] )\n",
    "    CS2=ax4.contour(xc[145:265,:],yc[145:265,:],Phiplot[145:265,:],csU2,colors='k',linewidths=[0.75] )\n",
    "    vect = ax4.quiver(xc[145:265:5, 1::20], yc[145:265:5, 1::20], uplane[145:265:5, ::20], vplane[145:265:5, ::20]\n",
    "                      , color='k')\n",
    "    \n",
    "    MerPlane = ax4.plot(xc[yslice,:],yc[yslice,:],'k:',linewidth = 2)\n",
    "    ZonPlane = ax4.plot(xc[145:265,xslice],yc[145:265,xslice],'k:',linewidth = 2)\n",
    "    ax4.set_axis_bgcolor((205/255.0, 201/255.0, 201/255.0))\n",
    "    ax4.set_xlabel('Alongshore distance [km]')\n",
    "    ax4.set_xticks([20000,40000,60000,80000,100000])\n",
    "    ax4.set_xticklabels(['20', '40', '60', '80', '100'])\n",
    "    ax4.set_ylabel('Across-shore distance [km]')\n",
    "    ax4.set_yticks([40000,45000,50000,55000])\n",
    "    ax4.set_yticklabels(['40', '45', '50', '55'])\n",
    "    ax4.set_title('Hydrostatic pressure pot. at shelf break')"
   ]
  },
  {
   "cell_type": "code",
   "execution_count": 22,
   "metadata": {
    "collapsed": false
   },
   "outputs": [],
   "source": [
    "## Animation\n",
    "#N=5\n",
    "xslice=180\n",
    "yslice=235\n",
    "zslice= 29 # shelf break index\n",
    "zslice2=0 \n",
    "\n",
    "PhiHydmax1 = 20\n",
    "PhiHydmax2 = 16\n",
    "PhiHydmax3 = 4.6\n",
    "\n",
    "PhiHydmin1 = -1\n",
    "PhiHydmin2 = -0.5\n",
    "PhiHydmin3 = 3.6\n",
    "\n",
    "Etamax = np.max(Eta)\n",
    "Etamin = np.min(Eta)\n",
    "#Empty figures\n",
    "fig,((ax1,ax2),(ax3, ax4))  = plt.subplots(2, 2, figsize=(18, 12))\n",
    "\n",
    "#Initial image\n",
    "def init():\n",
    "    Plot1(0,ax1)\n",
    "    Plot2(0,ax2)\n",
    "    Plot3(0,ax3)\n",
    "    Plot4(0,ax4)\n",
    "    \n",
    "    \n",
    "    plt.tight_layout()\n",
    "    #return[ax1,ax2,ax3,ax4,ax5,ax6,ax7,ax8,ax9]\n",
    "    \n",
    "\n",
    "def animate(tt):\n",
    "    Plot1(tt,ax1)\n",
    "    Plot2(tt,ax2)\n",
    "    Plot3(tt,ax3)\n",
    "    Plot4(tt,ax4)\n",
    "    \n",
    "    plt.tight_layout()\n",
    "#The animation function (max frames=47)   \n",
    "\n",
    "\n",
    "anim = animation.FuncAnimation(fig, animate, init_func=init,frames=18, interval = 200,blit=False, repeat=False)\n",
    "\n",
    "##A line that makes it all work\n",
    "mywriter = animation.FFMpegWriter()\n",
    "\n",
    "##Save in current folder\n",
    "anim.save('Pressure_3DDIFF_run02.mp4',writer=mywriter,fps=0.2, dpi = 300, bitrate = 1000000, codec = \"libx264\")\n",
    "\n",
    "plt.show()\n",
    "\n"
   ]
  },
  {
   "cell_type": "code",
   "execution_count": null,
   "metadata": {
    "collapsed": false
   },
   "outputs": [],
   "source": [
    "\n",
    "\n"
   ]
  },
  {
   "cell_type": "code",
   "execution_count": null,
   "metadata": {
    "collapsed": true
   },
   "outputs": [],
   "source": []
  }
 ],
 "metadata": {
  "kernelspec": {
   "display_name": "Python 2",
   "language": "python",
   "name": "python2"
  },
  "language_info": {
   "codemirror_mode": {
    "name": "ipython",
    "version": 2
   },
   "file_extension": ".py",
   "mimetype": "text/x-python",
   "name": "python",
   "nbconvert_exporter": "python",
   "pygments_lexer": "ipython2",
   "version": "2.7.9"
  }
 },
 "nbformat": 4,
 "nbformat_minor": 0
}
