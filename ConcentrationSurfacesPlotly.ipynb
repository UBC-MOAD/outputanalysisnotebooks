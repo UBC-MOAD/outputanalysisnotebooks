{
 "cells": [
  {
   "cell_type": "markdown",
   "metadata": {},
   "source": [
    "## Trying to plot concentrations surfaces using plotly "
   ]
  },
  {
   "cell_type": "code",
   "execution_count": 1,
   "metadata": {
    "collapsed": true
   },
   "outputs": [],
   "source": [
    "# (*) To communicate with Plotly's server, sign in with credentials file\n",
    "import plotly.plotly as py\n",
    "\n",
    "# (*) Useful Python/Plotly tools\n",
    "import plotly.tools as tls\n",
    "\n",
    "# (*) Graph objects to piece together plots\n",
    "from plotly.graph_objs import *\n",
    "\n",
    "import numpy as np  \n",
    "\n",
    "from netCDF4 import Dataset\n",
    "\n",
    "import os \n",
    "\n",
    "import sys"
   ]
  },
  {
   "cell_type": "code",
   "execution_count": 2,
   "metadata": {
    "collapsed": false
   },
   "outputs": [],
   "source": [
    "#lib_path = os.path.abspath('/ocean/kramosmu/Building_canyon/BuildCanyon/PythonModulesMITgcm') # Add absolute path to my python scripts\n",
    "lib_path = os.path.abspath('/Users/anakarinarm/SubmarineCanyonsResearch/PythonModulesMITgcm') # Add absolute path to my python scripts\n",
    "\n",
    "sys.path.append(lib_path)\n",
    "\n",
    "import ReadOutTools_MITgcm as rout \n"
   ]
  },
  {
   "cell_type": "code",
   "execution_count": 3,
   "metadata": {
    "collapsed": true
   },
   "outputs": [],
   "source": [
    "#Base case, iso =1 , No 3d diff.\n",
    "#CanyonGrid='/ocean/kramosmu/MITgcm/TracerExperiments/CNTDIFF/run03/gridGlob.nc'\n",
    "CanyonGrid='/Volumes/MOBY/NOGMREDI/run03/gridGlob.nc'\n",
    "CanyonGridOut = Dataset(CanyonGrid)\n",
    "\n",
    "CanyonState='/Volumes/MOBY/NOGMREDI/run03/stateGlob.nc'\n",
    "CanyonStateOut = Dataset(CanyonState)\n",
    "\n",
    "Ptracer='/Volumes/MOBY/NOGMREDI/run03/ptracersGlob.nc'\n",
    "PtracerOut = Dataset(Ptracer)\n"
   ]
  },
  {
   "cell_type": "code",
   "execution_count": 4,
   "metadata": {
    "collapsed": true
   },
   "outputs": [],
   "source": [
    "# General input\n",
    "nx = 360\n",
    "ny = 360\n",
    "nz = 90\n",
    "nt = 19 # t dimension size \n",
    "\n",
    "z = CanyonStateOut.variables['Z']\n",
    "#print(z[10])\n",
    "Time = CanyonStateOut.variables['T']\n",
    "#print(Time[:])\n",
    "\n",
    "xc = rout.getField(CanyonGrid, 'XC') # x coords tracer cells\n",
    "\n",
    "yc = rout.getField(CanyonGrid, 'YC') # y coords tracer cells\n",
    "\n",
    "bathy = rout.getField(CanyonGrid, 'Depth')\n",
    "\n",
    "hFacC = rout.getField(CanyonGrid, 'HFacC')\n",
    "MaskC = rout.getMask(CanyonGrid, 'HFacC')\n",
    "\n",
    "dxF = rout.getField(CanyonGrid, 'dxF')\n",
    "drF = CanyonGridOut.variables['drF']"
   ]
  },
  {
   "cell_type": "code",
   "execution_count": 5,
   "metadata": {
    "collapsed": true
   },
   "outputs": [],
   "source": [
    "Tr1 = rout.getField(Ptracer,'Tr1') # \n"
   ]
  },
  {
   "cell_type": "code",
   "execution_count": 27,
   "metadata": {
    "collapsed": false
   },
   "outputs": [],
   "source": [
    "ConcInd = np.argmax(Tr1[5,:,:,:]>=7.4,axis=0)\n",
    "ConcDepths = np.empty((360,360))\n",
    "for i in range(360):\n",
    "    for j in range(360):\n",
    "        ConcDepths[i,j] = z[ConcInd[i,j]]\n",
    "\n",
    "ConcDepthsMasked = np.ma.masked_values(ConcDepths,-2.5)\n",
    "\n",
    "#print(ConcDepths)\n"
   ]
  },
  {
   "cell_type": "code",
   "execution_count": 38,
   "metadata": {
    "collapsed": false
   },
   "outputs": [
    {
     "name": "stdout",
     "output_type": "stream",
     "text": [
      "[[-157.5 -157.5 -157.5 ..., -157.5 -157.5 -157.5]\n",
      " [-157.5 -157.5 -157.5 ..., -157.5 -157.5 -157.5]\n",
      " [-157.5 -157.5 -157.5 ..., -157.5 -157.5 -157.5]\n",
      " ..., \n",
      " [   nan    nan    nan ...,    nan    nan    nan]\n",
      " [   nan    nan    nan ...,    nan    nan    nan]\n",
      " [   nan    nan    nan ...,    nan    nan    nan]]\n"
     ]
    }
   ],
   "source": []
  },
  {
   "cell_type": "code",
   "execution_count": 29,
   "metadata": {
    "collapsed": false
   },
   "outputs": [],
   "source": [
    "ConcSurf = Surface(\n",
    "    z=ConcDepthsMasked,  # link the fxy 2d numpy array\n",
    "    x=xc[1,:],  # link 1d numpy array of x coords\n",
    "    y=yc[:,1],\n",
    "    opacity=0.9# link 1d numpy array of y coords\n",
    ")\n",
    "\n",
    "# Package the trace dictionary into a data object\n",
    "data2 = Data([ConcSurf])"
   ]
  },
  {
   "cell_type": "code",
   "execution_count": 30,
   "metadata": {
    "collapsed": true
   },
   "outputs": [],
   "source": [
    "# Dictionary of style options for all axes\n",
    "axis2 = dict(\n",
    "    showbackground=True, # (!) show axis background\n",
    "    backgroundcolor=\"rgb(204, 204, 204)\", # set background color to grey\n",
    "    gridcolor=\"rgb(255, 255, 255)\",       # set grid line color\n",
    "    zerolinecolor=\"rgb(255, 255, 255)\",   # set zero grid line color\n",
    ")\n",
    "\n",
    "# Make a layout object\n",
    "layout2 = Layout(\n",
    "    title='Canyon bathymetry', # set plot title\n",
    "    scene=Scene(  # (!) axes are part of a 'scene' in 3d plots\n",
    "        xaxis=XAxis(axis2), # set x-axis style\n",
    "        yaxis=YAxis(axis2), # set y-axis style\n",
    "        zaxis=ZAxis(axis2)  # set z-axis style\n",
    "    )\n",
    ")\n"
   ]
  },
  {
   "cell_type": "code",
   "execution_count": 35,
   "metadata": {
    "collapsed": false
   },
   "outputs": [
    {
     "data": {
      "text/html": [
       "<iframe id=\"igraph\" scrolling=\"no\" style=\"border:none;\"seamless=\"seamless\" src=\"https://plot.ly/~kramosmu/14.embed\" height=\"525px\" width=\"100%\"></iframe>"
      ],
      "text/plain": [
       "<plotly.tools.PlotlyDisplay object>"
      ]
     },
     "execution_count": 35,
     "metadata": {},
     "output_type": "execute_result"
    }
   ],
   "source": [
    "## Make a figure object\n",
    "##fig = Figure(data=data2, layout=layout2)\n",
    "\n",
    "## (@) Send to Plotly and show in notebook\n",
    "##py.iplot(fig, filename='s8_surface')\n",
    "\n",
    "#py.plot([\n",
    "#    dict(z=-bathy,x=xc[1,:],y=yc[:,1],colorscale=\"Greys\", type='surface'),\n",
    "#    dict(z=ConcDepths,x=xc[1,:],y=yc[:,1],opacity=0.7, type='surface'),\n",
    "#    ], auto_open='false', filename='ConcPrueba')\n",
    "\n",
    "py.iplot([\n",
    "    dict(z=-bathy[200:-50,100:-100],x=xc[1,100:-100],y=yc[200:-50,1],colorscale=\"Greys\", type='surface'),\n",
    "    dict(z=ConcDepthsMasked[200:-50,100:-100],x=xc[1,100:-100],y=yc[200:-50,1],opacity=1.0, type='surface'),\n",
    "    ],auto_open='false', filename='ConcPrueba')\n"
   ]
  },
  {
   "cell_type": "code",
   "execution_count": null,
   "metadata": {
    "collapsed": true
   },
   "outputs": [],
   "source": []
  }
 ],
 "metadata": {
  "kernelspec": {
   "display_name": "Python 2",
   "language": "python",
   "name": "python2"
  },
  "language_info": {
   "codemirror_mode": {
    "name": "ipython",
    "version": 2
   },
   "file_extension": ".py",
   "mimetype": "text/x-python",
   "name": "python",
   "nbconvert_exporter": "python",
   "pygments_lexer": "ipython2",
   "version": "2.7.10"
  }
 },
 "nbformat": 4,
 "nbformat_minor": 0
}
