{
 "cells": [
  {
   "cell_type": "markdown",
   "metadata": {},
   "source": [
    "## How bad is the scaling estimate for $\\Phi_{Tr}$ for profiles other than linear?\n",
    "\n",
    "Comparison between estimated tracer flux onto the shelf through the canyon and the real deal.\n",
    "\n",
    "$\\Phi_{Tr}=\\Phi \\bar{C}$\n",
    "\n",
    "where $\\frac{\\Phi}{WUD_h} = 0.9\\mathcal{F}_w^{3/2}R_o^{1/2}(1-1.21S_E)^3+0.07$, $\\mathcal{F}_w=R_w/(0.9+R_w)$, $R_w=U/fW$, $S_E=sN/f(\\mathcal{F}_w/R_o)^{1/2}$.\n",
    "\n",
    "And, $\\bar{C}$ is \n",
    "$\\frac{\\bar{C}}{C_0}= 0.02\\frac{\\partial_zC}{2} (H_s+H_r) + 0.94$\n",
    "\n",
    "where\n",
    "$\\frac{\\partial_zC}{\\partial_zC_0}= 5.81\\frac{Z+Z_{dif}}{H_s}+1.03$\n"
   ]
  },
  {
   "cell_type": "code",
   "execution_count": 1,
   "metadata": {
    "collapsed": true
   },
   "outputs": [],
   "source": [
    "import cmocean as cmo\n",
    "import matplotlib.pyplot as plt\n",
    "%matplotlib inline\n",
    "import numpy as np\n",
    "import pandas as pd\n",
    "import seaborn as sns\n",
    "import xarray as xr\n",
    "import canyon_tools.readout_tools as rout\n",
    "import canyon_tools.savitzky_golay as sg"
   ]
  },
  {
   "cell_type": "code",
   "execution_count": 2,
   "metadata": {
    "collapsed": true
   },
   "outputs": [],
   "source": [
    "sns.set_context('notebook')\n",
    "sns.set_style('whitegrid')"
   ]
  },
  {
   "cell_type": "code",
   "execution_count": 3,
   "metadata": {
    "collapsed": true
   },
   "outputs": [],
   "source": [
    "# Constants and scales\n",
    "\n",
    "L = 6400.0 # canyon length\n",
    "R = 5000.0 # Upstream radius of curvature\n",
    "g = 9.81 # accel. gravity\n",
    "Wsb = 13000 # Width at shelf break\n",
    "Hs = 147.5 # Shelf break depth\n",
    "s = 0.005 # shelf slope \n",
    "W = 8300 # mid-length width\n",
    "Hh = 97.5 # head depth\n",
    "Hr = 132.0 # rim depth at DnS\n",
    "No = 5.5E-3\n",
    "f = 9.66E-5\n",
    "kv = 1E-5\n",
    "t = 6 # days\n",
    "U = 0.35 # m/s\n",
    "\n",
    "# NOTE: The default values of all functions correspond to the base case\n",
    "\n",
    "def Dh(f=9.66E-4,L=6400.0,N=5.5E-3):\n",
    "    '''Vertical scale Dh'''\n",
    "    return((f*L)/(N))\n",
    "    \n",
    "def Ro(U=0.37,f=9.66E-4,R=5000.0):\n",
    "    '''Rossby number using radius of curvature as length scale'''\n",
    "    return(U/(f*R))\n",
    "\n",
    "def F(Ro):\n",
    "    '''Function that estimates the ability of the flow to follow isobaths'''\n",
    "    return(Ro/(0.9+Ro))\n",
    "\n",
    "def Bu(N=5.5E-3,f=9.66E-5,W=8300,Hs=150.0):\n",
    "    '''Burger number'''\n",
    "    return(N*Hs/(f*W))\n",
    "\n",
    "def RossbyRad(N=5.5E-3,Hs=150.0,f=9.66E-4):\n",
    "    '''1st Rossby radius of deformation'''\n",
    "    return(N*Hs/f)\n"
   ]
  },
  {
   "cell_type": "code",
   "execution_count": 11,
   "metadata": {
    "collapsed": false
   },
   "outputs": [],
   "source": [
    "# Grid, state and tracers datasets of base case\n",
    "grid_file = '/ocean/kramosmu/MITgcm/TracerExperiments/BARKLEY/run01/gridGlob.nc'\n",
    "grid = xr.open_dataset(grid_file)\n",
    "\n",
    "state_file = '/ocean/kramosmu/MITgcm/TracerExperiments/BARKLEY/run01/stateGlob.nc' \n",
    "state = xr.open_dataset(state_file)\n",
    "\n",
    "ptracers_file = '/ocean/kramosmu/MITgcm/TracerExperiments/BARKLEY/run01/ptracersGlob.nc'\n",
    "ptracers = xr.open_dataset(ptracers_file)\n",
    "\n",
    "ptracers_fileNoC = '/ocean/kramosmu/MITgcm/TracerExperiments/BARKLEY/run02/ptracersGlob.nc'\n",
    "ptracersNoC = xr.open_dataset(ptracers_fileNoC)\n",
    "\n",
    "time = state.variables['T']\n"
   ]
  },
  {
   "cell_type": "code",
   "execution_count": 5,
   "metadata": {
    "collapsed": false
   },
   "outputs": [],
   "source": [
    "fileBAR = ('/ocean/kramosmu/MITgcm/TracerExperiments/BARKLEY/HCW_TrMass_BARKLEY_run01.csv')\n",
    "fileBARNoC = ('/ocean/kramosmu/MITgcm/TracerExperiments/BARKLEY/HCW_TrMass_BARKLEY_run02.csv') \n",
    "\n",
    "fileLWR = ('/ocean/kramosmu/MITgcm/TracerExperiments/CNTDIFF_LOWER_SR_7Tr/HCW_TrMass_CNTDIFF_LOWER_SR_7Tr_run01.csv')\n",
    "fileLWRNoC = ('/ocean/kramosmu/MITgcm/TracerExperiments/CNTDIFF_LOWER_SR_7Tr/HCW_TrMass_CNTDIFF_LOWER_SR_7Tr_run02.csv') \n",
    "\n",
    "dfBAR = pd.read_csv(fileBAR)\n",
    "dfBARnoc = pd.read_csv(fileBARNoC)\n",
    "\n",
    "dfLWR = pd.read_csv(fileLWR)\n",
    "dfLWRnoc = pd.read_csv(fileLWRNoC)                "
   ]
  },
  {
   "cell_type": "code",
   "execution_count": 25,
   "metadata": {
    "collapsed": false
   },
   "outputs": [],
   "source": [
    "Mass_Bark = ['TrMassHCW01','TrMassHCW02','TrMassHCW03','TrMassHCW04',\n",
    "             'TrMassHCW05','TrMassHCW06','TrMassHCW07','TrMassHCW08']\n",
    "labels_Bark = ['Linear','Salinity','Oxygen','Nitrate','Silicate','Phosphate','Nitrous Acid','Methane']\n",
    "colours_Bark = ['purple','blue','green','gold','orange','red','orchid','teal']\n",
    "dTr0_Bark = [ -0.001673,-0.00196495056152,0.286328125,-0.0376,-0.08477,-0.00222,-0.046969,-0.23884]\n",
    "\n",
    "\n",
    "Mass_Para = ['TrMassHCW01','TrMassHCW02','TrMassHCW03','TrMassHCW04',\n",
    "             'TrMassHCW05','TrMassHCW06','TrMassHCW07']\n",
    "labels_Para = ['Tr1','Tr2','Tr3','Tr4','Tr5','Tr6','Tr7']\n",
    "colours_Para = ['0.1','0.2','0.3','0.4','0.5','0.6','0.7'] \n",
    "dTr0_Para = [-0.05,-0.05180,-0.050294,-0.049734,-0.04855,-0.0625,-0.0375]\n"
   ]
  },
  {
   "cell_type": "code",
   "execution_count": 26,
   "metadata": {
    "collapsed": false
   },
   "outputs": [],
   "source": [
    "Z = ((f*U*F(Ro(U,f,R))*L)**(0.5))/No\n",
    "Zdif = np.sqrt(t*3600*24*kv)\n",
    "    \n",
    "Se = (s*No)/(f*((F(Ro(U,f,W))/Ro(U,f,L))**(1/2)))\n",
    "HA2013=(U*W*Dh(f,L,No))*((0.91*(F(Ro(U,f,W))**(3/2))*(Ro(U,f,L)**(1/2))*((1-1.21*Se)**3))+0.07)"
   ]
  },
  {
   "cell_type": "code",
   "execution_count": 29,
   "metadata": {
    "collapsed": false
   },
   "outputs": [
    {
     "data": {
      "text/plain": [
       "(-5, 140)"
      ]
     },
     "execution_count": 29,
     "metadata": {},
     "output_type": "execute_result"
    },
    {
     "data": {
      "image/png": "[encoded data removed]",
      "text/plain": [
       "<matplotlib.figure.Figure at 0x7f4e685f65f8>"
      ]
     },
     "metadata": {},
     "output_type": "display_data"
    }
   ],
   "source": [
    "fig,ax = plt.subplots(1,1,figsize=(4,4))\n",
    "\n",
    "for TrMass, dTr0, lab, col in zip(Mass_Para,dTr0_Para,labels_Para,colours_Para):\n",
    "    \n",
    "    mass_can_eff = dfLWR[TrMass]-dfLWRnoc[TrMass]\n",
    "    PhiTr = np.mean(np.array([(mass_can_eff[ii]-mass_can_eff[ii-1])/(time[ii]-time[ii-1]) for ii in range (8,15)]))\n",
    "    PhiTr_std = np.std(np.array([(mass_can_eff[ii]-mass_can_eff[ii-1])/(time[ii]-time[ii-1]) for ii in range (8,15)]))\n",
    "    \n",
    "    dTrdz = -dTr0*(5.81*(((Z+Zdif)/Hs))+1.03)\n",
    "    Capprox=(0.116*(dTrdz*(Hh+132.0)/2.0))+6.81\n",
    "    scale_PhiTr = HA2013*Capprox\n",
    "    \n",
    "    ax.errorbar(scale_PhiTr/1E4, PhiTr/1E4, yerr=PhiTr_std/1E4, color=col, label=lab, marker='o')\n",
    "\n",
    "for TrMass, dTr0, lab, col in zip(Mass_Bark,dTr0_Bark,labels_Bark,colours_Bark):\n",
    "    \n",
    "    mass_can_eff = dfBAR[TrMass]-dfBARnoc[TrMass]\n",
    "    PhiTr = np.mean(np.array([(mass_can_eff[ii]-mass_can_eff[ii-1])/(time[ii]-time[ii-1]) for ii in range (8,15)]))\n",
    "    PhiTr_std = np.std(np.array([(mass_can_eff[ii]-mass_can_eff[ii-1])/(time[ii]-time[ii-1]) for ii in range (8,15)]))\n",
    "    \n",
    "    dTrdz = -dTr0*(5.81*(((Z+Zdif)/Hs))+1.03)\n",
    "    Capprox=(0.116*(dTrdz*(Hh+132.0)/2.0))+6.81\n",
    "    scale_PhiTr = HA2013*Capprox\n",
    "    \n",
    "    ax.errorbar(scale_PhiTr/1E4, PhiTr/1E4, yerr=PhiTr_std/1E4, color=col, label=lab, marker='o')\n",
    "\n",
    "ax.legend(bbox_to_anchor=(1.5,1),ncol=1, columnspacing=0.1)\n",
    "ax.set_xlabel(r'$\\Phi_{Tr}$')\n",
    "ax.set_ylabel('Tr mass in HCW anom ($[C]$m$^{-3}$)')\n",
    "\n",
    "ax.set_ylim(-5,140)"
   ]
  },
  {
   "cell_type": "code",
   "execution_count": null,
   "metadata": {
    "collapsed": false
   },
   "outputs": [],
   "source": []
  },
  {
   "cell_type": "code",
   "execution_count": null,
   "metadata": {
    "collapsed": false
   },
   "outputs": [],
   "source": [
    "   "
   ]
  },
  {
   "cell_type": "code",
   "execution_count": null,
   "metadata": {
    "collapsed": false
   },
   "outputs": [],
   "source": []
  },
  {
   "cell_type": "code",
   "execution_count": null,
   "metadata": {
    "collapsed": false
   },
   "outputs": [],
   "source": []
  },
  {
   "cell_type": "code",
   "execution_count": null,
   "metadata": {
    "collapsed": false
   },
   "outputs": [],
   "source": []
  },
  {
   "cell_type": "code",
   "execution_count": null,
   "metadata": {
    "collapsed": true
   },
   "outputs": [],
   "source": []
  }
 ],
 "metadata": {
  "anaconda-cloud": {},
  "kernelspec": {
   "display_name": "Python [default]",
   "language": "python",
   "name": "python3"
  },
  "language_info": {
   "codemirror_mode": {
    "name": "ipython",
    "version": 3
   },
   "file_extension": ".py",
   "mimetype": "text/x-python",
   "name": "python",
   "nbconvert_exporter": "python",
   "pygments_lexer": "ipython3",
   "version": "3.5.2"
  }
 },
 "nbformat": 4,
 "nbformat_minor": 1
}
