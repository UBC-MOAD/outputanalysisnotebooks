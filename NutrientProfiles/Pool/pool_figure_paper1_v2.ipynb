{
 "cells": [
  {
   "cell_type": "markdown",
   "metadata": {},
   "source": [
    "## Extension of the 10% pool in paper 1"
   ]
  },
  {
   "cell_type": "code",
   "execution_count": 2,
   "metadata": {
    "collapsed": false
   },
   "outputs": [
    {
     "name": "stderr",
     "output_type": "stream",
     "text": [
      "/home/kramosmu/anaconda3/lib/python3.5/site-packages/cmocean/tools.py:76: MatplotlibDeprecationWarning: The is_string_like function was deprecated in version 2.1.\n",
      "  if not mpl.cbook.is_string_like(rgbin[0]):\n"
     ]
    }
   ],
   "source": [
    "import cmocean as cmo\n",
    "from netCDF4 import Dataset\n",
    "import matplotlib.pyplot as plt\n",
    "import matplotlib as mpl\n",
    "%matplotlib inline\n",
    "import numpy as np\n",
    "import seaborn as sns\n",
    "import canyon_tools.readout_tools as rout\n",
    "import canyon_tools.savitzky_golay as sg\n",
    "import scipy.stats \n",
    "\n",
    "import matplotlib.gridspec as gspec\n",
    "\n",
    "import os\n",
    "import sys\n",
    "import warnings\n",
    "warnings.filterwarnings(\"ignore\")"
   ]
  },
  {
   "cell_type": "code",
   "execution_count": 3,
   "metadata": {
    "collapsed": true
   },
   "outputs": [],
   "source": [
    "sns.set_context('notebook')\n",
    "sns.set_style('white')"
   ]
  },
  {
   "cell_type": "code",
   "execution_count": 4,
   "metadata": {
    "collapsed": true
   },
   "outputs": [],
   "source": [
    "# Grid, state and tracers datasets of base case\n",
    "grid_file = '/data/kramosmu/results/TracerExperiments/CNTDIFF/run38/gridGlob.nc'\n",
    "grid_fileNoC = '/data/kramosmu/results/TracerExperiments/CNTDIFF/run68/gridGlob.nc'\n",
    "state_file = '/data/kramosmu/results/TracerExperiments/CNTDIFF/run38/stateGlob.nc' \n",
    "\n",
    "ptracers_file = '/data/kramosmu/results/TracerExperiments/CNTDIFF/run38/ptracersGlob.nc'\n",
    "ptracers_fileNoC = '/data/kramosmu/results/TracerExperiments/CNTDIFF/run68/ptracersGlob.nc'"
   ]
  },
  {
   "cell_type": "code",
   "execution_count": 5,
   "metadata": {
    "collapsed": false
   },
   "outputs": [],
   "source": [
    "with Dataset(grid_file, 'r') as nbl:\n",
    "    Z = nbl.variables['RC'][:]\n",
    "    X = nbl.variables['X'][:]\n",
    "    Y = nbl.variables['Y'][:]\n",
    "    hFacC = nbl.variables['HFacC'][:]\n",
    "    rA = nbl.variables['rA'][:]\n",
    "    Depth = nbl.variables['Depth'][:]\n",
    "\n",
    "hfac = np.ma.masked_values(hFacC, 0)\n",
    "maskC = np.ma.getmask(hfac)\n",
    "\n",
    "with Dataset(grid_fileNoC, 'r') as nbl:\n",
    "    hFacCNoC = nbl.variables['HFacC'][:]\n",
    "\n",
    "hfac = np.ma.masked_values(hFacCNoC, 0)\n",
    "maskCNoC = np.ma.getmask(hfac)\n",
    " \n",
    "\n",
    "with Dataset(state_file, 'r') as nbl:\n",
    "    iters = nbl.variables['iter'][:]\n",
    " "
   ]
  },
  {
   "cell_type": "code",
   "execution_count": 6,
   "metadata": {
    "collapsed": false
   },
   "outputs": [
    {
     "name": "stdout",
     "output_type": "stream",
     "text": [
      "0 CNTDIFF_run38 5 1e-05\n",
      "1 CNTDIFF_run37 5 0.0001\n",
      "2 CNTDIFF_run36 5 0.001\n",
      "3 CNTDIFF_run45 5 1e-05\n",
      "4 CNTDIFF_run73 5 1e-05\n",
      "5 CNTDIFF_run75 5 1e-05\n",
      "6 CNTDIFF_run79 5 1e-05\n",
      "7 CNTDIFF_run67 5 1e-05\n",
      "8 CNTDIFF_run51 5 1e-05\n",
      "9 CNTDIFF_run69 5 1e-05\n",
      "10 CNTDIFF_run71 5 1e-05\n",
      "11 3DVISC_run01 5 0.001\n",
      "12 3DVISC_run02 5 0.0001\n",
      "13 3DVISC_run04 5 0.0001\n",
      "14 3DVISC_run03 5 0.001\n",
      "15 3DVISC_run05 5 0.005\n",
      "16 3DVISC_run06 5 0.01\n",
      "17 LOWER_BF_run01 5 1e-05\n",
      "18 LOW_BF_run01 5 1e-05\n",
      "19 LOWEST_BF_run01 5 1e-05\n",
      "20 LOWEST_BF_run03 5 1e-05\n",
      "21 LOWEST_BF_run05 5 1e-05\n",
      "22 LOWEST_BF_run07 5 1e-05\n",
      "23 LOWEST_BF_run11 5 0.001\n",
      "24 3DVISC_REALISTIC_run01 50 0.0091\n",
      "25 3DVISC_REALISTIC_run02 50 0.00122\n",
      "26 3DVISC_REALISTIC_run03 50 0.00811\n",
      "27 3DVISC_REALISTIC_run05 50 0.0015\n",
      "28 3DVISC_REALISTIC_run06 50 0.00154\n",
      "29 3DVISC_REALISTIC_run07 10 0.01\n",
      "30 3DVISC_REALISTIC_run08 25 0.01\n",
      "31 3DVISC_REALISTIC_run09 50 0.01\n",
      "32 3DVISC_REALISTIC_run10 100 0.01\n",
      "33 3DVISC_REALISTIC_run11 15 0.01\n",
      "34 3DVISC_REALISTIC_run12 75 0.01\n",
      "35 3DVISC_REALISTIC_run13 150 0.01\n",
      "36 3DVISC_REALISTIC_run14 5 0.0\n",
      "37 3DVISC_REALISTIC_run15 5 0.0\n",
      "38 3DVISC_REALISTIC_run16 5 0.001\n",
      "39 3DVISC_REALISTIC_run17 5 0.005\n",
      "40 3DVISC_REALISTIC_run18 5 0.0\n",
      "41 3DVISC_REALISTIC_run19 25 0.001\n",
      "42 3DVISC_REALISTIC_run20 100 0.001\n",
      "43 3DVISC_REALISTIC_run21 25 0.005\n",
      "44 3DVISC_REALISTIC_run22 100 0.005\n",
      "45 3DVISC_REALISTIC_run23 5 0.008\n",
      "46 3DVISC_REALISTIC_run24 5 0.012\n",
      "47 3DVISC_REALISTIC_run25 5 0.0025\n",
      "48 3DVISC_REALISTIC_run26 5 0.0005\n",
      "49 3DVISC_REALISTIC_run27 5 0.01\n",
      "50 3DVISC_REALISTIC_run28 5 0.0\n",
      "51 CNTDIFF_run81 5 1e-05\n"
     ]
    }
   ],
   "source": [
    "lib_path = os.path.abspath('/ocean/kramosmu/OutputAnalysis/outputanalysisnotebooks/PythonScripts/Paper1Figures/') # Add absolute path to my python scripts\n",
    "sys.path.append(lib_path)\n",
    "\n",
    "import canyon_records \n",
    "import nocanyon_records\n",
    "\n",
    "records = canyon_records.main()\n",
    "recordsNoC = nocanyon_records.main()\n",
    "\n",
    "for ii in range(len(records)):\n",
    "    print(ii,records[ii].name, records[ii].epsilon,records[ii].kv)\n",
    "select_rec = [0,2,38,11,49,33,31,5,10,18]\n",
    "    \n",
    "records2 = [records[0],\n",
    "            records[38],\n",
    "            records[11],\n",
    "            records[49],\n",
    "            records[33],\n",
    "            records[31],\n",
    "            records[5],\n",
    "            records[10],\n",
    "            records[18],\n",
    "            ]\n",
    "\n",
    "\n",
    "recordsNoC2 = [recordsNoC[0],\n",
    "               recordsNoC[38],\n",
    "               recordsNoC[11],\n",
    "               recordsNoC[49],\n",
    "               recordsNoC[33],\n",
    "               recordsNoC[31],\n",
    "               recordsNoC[5],\n",
    "               recordsNoC[10],\n",
    "               recordsNoC[18],\n",
    "               ]\n",
    "\n"
   ]
  },
  {
   "cell_type": "code",
   "execution_count": 7,
   "metadata": {
    "collapsed": false
   },
   "outputs": [],
   "source": [
    "def mask2DCanyon(bathy, sbdepth=-152.5):\n",
    "    '''Mask out the canyon from the shelf.\n",
    "    bathy : depths 2D array from the grid file\n",
    "    sbdepth: shelf depth, always negative float \n",
    "    Returns mask'''\n",
    "    \n",
    "    bathyMasked = np.ma.masked_less(-bathy, -152.5)\n",
    "    return(bathyMasked.mask)\n",
    "\n",
    "def ConcAreaPool(Tr, hfac, ra, bathy, sbdepth=-152.5):\n",
    "    '''Tr: Tracer field (nt,nz,ny,nx)\n",
    "       hfac: fraction of open cell at center (nz,ny,nx)\n",
    "       ra: array of cell horizontal areas (ny,nx)\n",
    "       bathy : depths 2D array from the grid file (ny,nx)\n",
    "       sbdepth: shelf break depth (negative value)\n",
    "       \n",
    "       RETURNS:\n",
    "       ConcArea = concentration at cell closest to bottom times its area (nt,ny,nx)\n",
    "       Conc = cocnetration near bottom (nt,ny,nx)'''\n",
    "    \n",
    "    ConcArea = np.empty((360,616))\n",
    "    Conc = np.empty((360,616))\n",
    "    ConcFiltered = np.empty((360,616))\n",
    "    Area = np.empty((360,616))\n",
    "    BottomInd = np.argmax(hfac[::-1,:,:]>0.0,axis=0) # start looking for first no-land cell from the bottom up.\n",
    "    BottomInd = np.ones(np.shape(BottomInd))*89 - BottomInd # Get index of unreversed z axis\n",
    "    \n",
    "    for j in range(616):\n",
    "        for i in range(360):\n",
    "            TrBottom = Tr[BottomInd[i,j],i,j]\n",
    "            if TrBottom > 0.0:\n",
    "                ConcArea[i,j] = TrBottom*ra[i,j]\n",
    "                Conc[i,j] = TrBottom\n",
    "                Area[i,j] = ra[i,j]\n",
    "            else:\n",
    "                ConcArea[i,j] = np.NaN\n",
    "                Conc[i,j] = np.NaN\n",
    "                Area[i,j] = np.NaN\n",
    "                    \n",
    "        # Filter step noise\n",
    "        ConcFiltered[:,j] = sg.savitzky_golay(Conc[:,j], 7,3) \n",
    "                \n",
    "    maskShelf = mask2DCanyon(bathy, sbdepth)\n",
    "    maskShelf = np.expand_dims(maskShelf,0) # expand along time dimension\n",
    "    maskShelf = maskShelf + np.zeros(Conc.shape)\n",
    "    \n",
    "    return (ConcArea,\n",
    "            np.ma.masked_array(ConcFiltered, mask=maskShelf),\n",
    "            Area,\n",
    "           )\n",
    "\n",
    "def BottomConc(Tr, hfac, ra, bathy, sbdepth=-152.5):\n",
    "    '''Tr: Tracer field (nt,nz,ny,nx)\n",
    "       hfac: fraction of open cell at center (nz,ny,nx)\n",
    "       ra: array of cell horizontal areas (ny,nx)\n",
    "       bathy : depths 2D array from the grid file (ny,nx)\n",
    "       sbdepth: shelf break depth (negative value)\n",
    "       \n",
    "       RETURNS:\n",
    "       ConcArea = concentration at cell closest to bottom times its area (nt,ny,nx)\n",
    "       Conc = cocnetration near bottom (nt,ny,nx)'''\n",
    "    \n",
    "    ConcArea = np.empty((360,616))\n",
    "    Conc = np.empty((360,616))\n",
    "    ConcFiltered = np.empty((360,616))\n",
    "    Area = np.empty((360,616))\n",
    "    BottomInd = np.argmax(hfac[::-1,:,:]>0.0,axis=0) # start looking for first no-land cell from the bottom up.\n",
    "    BottomInd = np.ones(np.shape(BottomInd))*89 - BottomInd # Get index of unreversed z axis\n",
    "    \n",
    "    for j in range(616):\n",
    "        for i in range(360):\n",
    "            TrBottom = Tr[BottomInd[i,j],i,j]\n",
    "            ConcArea[i,j] = TrBottom*ra[i,j]\n",
    "            Conc[i,j] = TrBottom\n",
    "            Area[i,j] = ra[i,j]\n",
    "                    \n",
    "        # Filter step noise\n",
    "        ConcFiltered[:,j] = sg.savitzky_golay(Conc[:,j], 7,3) \n",
    "                \n",
    "    maskShelf = mask2DCanyon(bathy, sbdepth)\n",
    "    maskShelf = np.expand_dims(maskShelf,0) # expand along time dimension\n",
    "    maskShelf = maskShelf + np.zeros(Conc.shape)\n",
    "    \n",
    "    return (ConcArea,\n",
    "            np.ma.masked_array(ConcFiltered, mask=maskShelf),\n",
    "            Area,\n",
    "           )\n",
    "\n",
    "def PlotPool(ax,ConcFilt,xslice,yslice,cont_value,col, lines='solid'):\n",
    "    \n",
    "    #ax.axvline(X[xind_CS]/1000, color = '0.5', linestyle = '-', linewidth = 1)\n",
    "    ax.axhline(Y[yind_AS]/1000, color = '0.5', linestyle = ':', linewidth = 1)\n",
    "    \n",
    "    BAC = ConcFilt[yslice,xslice]\n",
    "    \n",
    "   \n",
    "    mesh = ax.contour(X[xslice]/1000,Y[yslice]/1000,BAC,[cont_value], \n",
    "                      colors=col, linestyles=lines,\n",
    "                      )\n",
    "    \n",
    "    SB = ax.contour(X[xslice]/1000,Y[yslice]/1000,\n",
    "                    Depth[yslice,xslice],\n",
    "                    [150.0],\n",
    "                    colors='0.1',linewidths=[0.75] )\n",
    "    ax.tick_params(axis='x', pad=1)\n",
    "    ax.tick_params(axis='y', pad=1)\n",
    "    ax.set_aspect(1)\n",
    "    \n",
    "def PlotAS(ax,Conc,xsl,zsl,cont_value,col, lines='solid'):\n",
    "    print(np.shape(X[xsl]/1000),np.shape(Z[zsl]), np.shape(Conc))\n",
    "   \n",
    "    mesh = ax.contour(X[xsl]/1000,Z[zsl],Conc,[cont_value], \n",
    "                      colors=col,linestyles=lines, \n",
    "                      )\n",
    "    \n",
    "    ax.plot(X[xsl]/1000,-Depth[yind_AS,xsl],\n",
    "           '-',\n",
    "           color='0.5',\n",
    "           linewidth=2,\n",
    "           )\n",
    "    ax.tick_params(axis='x', pad=1)\n",
    "    ax.tick_params(axis='y', pad=1)\n",
    "    \n",
    "def PlotCS(ax,Conc,yslice,zslice,cont_value,col):\n",
    "    \n",
    "    mesh = ax.contour(Y[yslice]/1000,Z[zslice],Conc,[cont_value], \n",
    "                      colors=col, \n",
    "                      )\n",
    "    \n",
    "    ax.plot(Y[yslice]/1000,-Depth[yslice_CS, xind_CS],\n",
    "           '-',\n",
    "           color='0.5',\n",
    "           linewidth=2,\n",
    "           )\n",
    "    ax.yaxis.tick_right()\n",
    "    ax.yaxis.set_label_position(\"right\")\n",
    "        \n",
    "    ax.tick_params(axis='x', pad=1)\n",
    "    ax.tick_params(axis='y', pad=1)"
   ]
  },
  {
   "cell_type": "code",
   "execution_count": 8,
   "metadata": {
    "collapsed": true
   },
   "outputs": [],
   "source": [
    "# General input\n",
    "nx = 616\n",
    "ny = 360\n",
    "nz = 90\n",
    "nt = 19 # t dimension size \n",
    "yind_AS = 286\n",
    "xind_CS = 260\n",
    "\n",
    "xslice_AS = slice(120,500)\n",
    "yslice_CS = slice(227,360)\n",
    "zslice_AS = slice(0,30)\n",
    "\n",
    "yslice = slice(225,360)\n",
    "xslice = slice(120,500)"
   ]
  },
  {
   "cell_type": "code",
   "execution_count": 8,
   "metadata": {
    "collapsed": false
   },
   "outputs": [
    {
     "name": "stdout",
     "output_type": "stream",
     "text": [
      "done with tracer CNTDIFF run38\n",
      "done with tracer 3DVISC_REALISTIC run16\n",
      "done with tracer 3DVISC run01\n",
      "done with tracer 3DVISC_REALISTIC run27\n",
      "done with tracer 3DVISC_REALISTIC run11\n",
      "done with tracer 3DVISC_REALISTIC run09\n",
      "done with tracer CNTDIFF run75\n",
      "done with tracer CNTDIFF run71\n",
      "done with tracer LOW_BF run01\n"
     ]
    }
   ],
   "source": [
    "for rec in records2:\n",
    "    \n",
    "    ptracers_file = '/data/kramosmu/results/TracerExperiments/%s/%s/ptracersGlob.nc' %(rec.exp_code,rec.run_num)\n",
    "    with Dataset(ptracers_file, 'r') as nbl:\n",
    "        \n",
    "        ConcArea, rec.concBOT, Area = BottomConc(np.mean(nbl.variables['Tr1'][8:18,:,:,:], axis=0),hFacC,rA,Depth)\n",
    "        rec.concAS = np.ma.array(np.nanmean(nbl.variables['Tr1'][8:18,zslice_AS,yind_AS,xslice_AS],0),\n",
    "                                  mask=maskCNoC[zslice_AS,yind_AS,xslice_AS])\n",
    "        rec.concCS = np.ma.array(np.nanmean(nbl.variables['Tr1'][8:18,zslice_AS,yslice_CS,xind_CS],0),\n",
    "                                  mask=maskCNoC[zslice_AS,yslice_CS,xind_CS])\n",
    "       \n",
    "    print('done with tracer %s %s' %(rec.exp_code, rec.run_num) )"
   ]
  },
  {
   "cell_type": "code",
   "execution_count": 9,
   "metadata": {
    "collapsed": false
   },
   "outputs": [
    {
     "name": "stdout",
     "output_type": "stream",
     "text": [
      "done with tracer CNTDIFF run38\n",
      "done with tracer 3DVISC_REALISTIC run16\n",
      "done with tracer 3DVISC run01\n",
      "done with tracer 3DVISC_REALISTIC run27\n",
      "done with tracer 3DVISC_REALISTIC run11\n",
      "done with tracer 3DVISC_REALISTIC run09\n",
      "done with tracer CNTDIFF run75\n",
      "done with tracer CNTDIFF run71\n",
      "done with tracer LOW_BF run01\n"
     ]
    }
   ],
   "source": [
    "for rec in records2:\n",
    "    \n",
    "    ptracers_file = '/data/kramosmu/results/TracerExperiments/%s/%s/ptracersGlob.nc' %(rec.exp_code,rec.run_num)\n",
    "    with Dataset(ptracers_file, 'r') as nbl:\n",
    "        \n",
    "        ConcArea, rec.concBOT_ini, Area = BottomConc(nbl.variables['Tr1'][0,:,:,:],hFacC,rA,Depth)\n",
    "        rec.concAS_ini = np.ma.array(nbl.variables['Tr1'][0,zslice_AS,yind_AS,xslice_AS],\n",
    "                                  mask=maskCNoC[zslice_AS,yind_AS,xslice_AS])\n",
    "        rec.concCS_ini = np.ma.array(nbl.variables['Tr1'][0,zslice_AS,yslice_CS,xind_CS],\n",
    "                                  mask=maskCNoC[zslice_AS,yslice_CS,xind_CS])\n",
    "       \n",
    "       \n",
    "    print('done with tracer %s %s' %(rec.exp_code, rec.run_num) )\n"
   ]
  },
  {
   "cell_type": "code",
   "execution_count": 10,
   "metadata": {
    "collapsed": false
   },
   "outputs": [
    {
     "name": "stdout",
     "output_type": "stream",
     "text": [
      "done with tracer CNTDIFF run38\n",
      "done with tracer 3DVISC_REALISTIC run16\n",
      "done with tracer 3DVISC run01\n",
      "done with tracer 3DVISC_REALISTIC run27\n",
      "done with tracer 3DVISC_REALISTIC run11\n",
      "done with tracer 3DVISC_REALISTIC run09\n",
      "done with tracer CNTDIFF run75\n",
      "done with tracer CNTDIFF run71\n",
      "done with tracer LOW_BF run01\n"
     ]
    }
   ],
   "source": [
    "for rec, recNoC in zip(records2, recordsNoC2):\n",
    "    \n",
    "    ptracers_file = '/data/kramosmu/results/TracerExperiments/%s/%s/ptracersGlob.nc' %(rec.exp_code,rec.run_num)\n",
    "    ptracers_fileNoC = '/data/kramosmu/results/TracerExperiments/%s/%s/ptracersGlob.nc' %(recNoC.exp_code,recNoC.run_num)\n",
    "    \n",
    "    with Dataset(ptracers_file, 'r') as nbl:\n",
    "        with Dataset(ptracers_fileNoC, 'r') as noc:\n",
    "            ConcArea, rec.concBOT_anom, Area = BottomConc(np.nanmean(nbl.variables['Tr1'][8:18,:,:,:]-\n",
    "                                                          noc.variables['Tr1'][8:18,:,:,:],axis=0),hFacC,rA,Depth)\n",
    "            rec.concAS_anom = np.ma.array(np.nanmean(nbl.variables['Tr1'][8:18,zslice_AS,yind_AS,xslice_AS]-\n",
    "                                                     noc.variables['Tr1'][8:18,zslice_AS,yind_AS,xslice_AS],0),\n",
    "                                          mask=maskCNoC[zslice_AS,yind_AS,xslice_AS])\n",
    "            rec.concCS_anom = np.ma.array(np.nanmean(nbl.variables['Tr1'][8:18,zslice_AS,yslice_CS,xind_CS]-\n",
    "                                                 noc.variables['Tr1'][8:18,zslice_AS,yslice_CS,xind_CS],0),\n",
    "                                          mask=maskCNoC[zslice_AS,yslice_CS,xind_CS])\n",
    "       \n",
    "       \n",
    "    print('done with tracer %s %s' %(rec.exp_code, rec.run_num) )"
   ]
  },
  {
   "cell_type": "markdown",
   "metadata": {},
   "source": [
    "## Bottom concentrations"
   ]
  },
  {
   "cell_type": "code",
   "execution_count": 11,
   "metadata": {
    "collapsed": false
   },
   "outputs": [],
   "source": [
    "for rec, recNoC in zip(records2, recordsNoC2):\n",
    "    ptracers_file = '/data/kramosmu/results/TracerExperiments/%s/%s/ptracersGlob.nc' %(rec.exp_code,rec.run_num)\n",
    "    ptracers_fileNoC = '/data/kramosmu/results/TracerExperiments/%s/%s/ptracersGlob.nc' %(recNoC.exp_code,recNoC.run_num)\n",
    "    rec.BCA = np.empty((nt,ny,nx))\n",
    "    rec.BC = np.empty((nt,ny,nx))\n",
    "    with Dataset(ptracers_file, 'r') as nbl:\n",
    "        with Dataset(ptracers_fileNoC, 'r') as noc:\n",
    "            for ii in range(nt):\n",
    "                rec.BCA[ii,:,:], dummy, rec.AreaTot1 = BottomConc(noc.variables['Tr1'][ii,:,:,:], hFacCNoC,rA,Depth)\n",
    "                rec.BC[ii,:,:], dummy, rec.AreaTot2 = BottomConc(nbl.variables['Tr1'][ii,:,:,:],hFacCNoC,rA,Depth)\n"
   ]
  },
  {
   "cell_type": "code",
   "execution_count": 12,
   "metadata": {
    "collapsed": false
   },
   "outputs": [
    {
     "name": "stdout",
     "output_type": "stream",
     "text": [
      "(380,) (15,) (15, 380)\n",
      "(380,) (15,) (15, 380)\n",
      "(380,) (15,) (15, 380)\n",
      "(380,) (15,) (15, 380)\n",
      "(380,) (15,) (15, 380)\n",
      "(380,) (15,) (15, 380)\n",
      "(380,) (15,) (15, 380)\n",
      "(380,) (15,) (15, 380)\n",
      "(380,) (15,) (15, 380)\n"
     ]
    },
    {
     "data": {
      "image/png": "[encoded data removed]",
      "text/plain": [
       "<Figure size 504x417.6 with 5 Axes>"
      ]
     },
     "metadata": {},
     "output_type": "display_data"
    }
   ],
   "source": [
    "linestyles=['solid','solid','dashdot','solid','dashed','dotted','solid','solid','solid']\n",
    "\n",
    "\n",
    "f1 = plt.figure(figsize = (7,5.8)) # 19.0cm = 7.4in, 115cm = 4.52in\n",
    "sns.set_style('white')\n",
    "sns.set_context('paper')\n",
    "gs0 = gspec.GridSpec(2, 1, height_ratios=[1,0.35], hspace=0.15)\n",
    "gs01 = gspec.GridSpecFromSubplotSpec(3, 1, subplot_spec=gs0[0])\n",
    "gs02 = gspec.GridSpecFromSubplotSpec(1, 3, subplot_spec=gs0[1],width_ratios=[1,1,0.4], wspace=0.3)\n",
    "    \n",
    "ax2 = plt.subplot(gs01[1])\n",
    "ax3 = plt.subplot(gs01[2])\n",
    "ax0 = plt.subplot(gs01[0])\n",
    "ax4 = plt.subplot(gs02[0])\n",
    "ax5 = plt.subplot(gs02[1])\n",
    "\n",
    "ii = 0    \n",
    "\n",
    "CONT = 0.1\n",
    "\n",
    "yslice2 = slice(225,320)\n",
    "xslice2 = slice(120,500)\n",
    "zslice_AS2 = slice(5,20)\n",
    "zslice_CS2 = slice(5,30)\n",
    "xslice_AS = slice(120,500)\n",
    "\n",
    "\n",
    "for rec,line in zip(records2, linestyles):\n",
    "    \n",
    "    # -------- 10% contours ----------\n",
    "    PlotPool(ax2,(rec.concBOT_anom)/rec.concBOT_ini,xslice2,yslice2,CONT,sns.xkcd_rgb[rec.color], lines=line)\n",
    "    \n",
    "    # -------- Thickness, 10% contours -----\n",
    "    PlotAS(ax0,(rec.concAS_anom[zslice_AS2, :]/rec.concAS_ini[zslice_AS2, :]),xslice_AS,zslice_AS2,CONT,\n",
    "           sns.xkcd_rgb[rec.color], lines=line)\n",
    "    \n",
    "    # ------- BCA ----------\n",
    "    ax4.plot(np.arange(19)/2,(((np.nansum(np.nansum(rec.BC[:,227:315,120:463],axis=1),axis=1)/\n",
    "                                (np.nansum(rec.AreaTot2[227:315,120:463])))/\n",
    "                               (np.nansum(rec.BC[0,227:315,120:463])/(np.nansum(rec.AreaTot2[227:315,120:463]))))-\n",
    "                               ((np.nansum(np.nansum(rec.BCA[:,227:315,120:463],axis=1),axis=1)/\n",
    "                                 (np.nansum(rec.AreaTot1[227:315,120:463])))/\n",
    "                                (np.nansum(rec.BCA[0,227:315,120:463])/(np.nansum(rec.AreaTot1[227:315,120:463])))))*100,\n",
    "             color=sns.xkcd_rgb[rec.color], label=rec.label2, linestyle=line)\n",
    "    # ----- AREA ------------\n",
    "    area_array = np.zeros(19)\n",
    "    for tt in range(19):\n",
    "        can = (rec.BC[tt,227:315,120:463]/(rec.AreaTot2[227:315,120:463]))/(rec.BC[0,227:315,120:463]/(rec.AreaTot2[227:315,120:463]))\n",
    "        noc = (rec.BCA[tt,227:315,120:463]/(rec.AreaTot1[227:315,120:463]))/(rec.BCA[0,227:315,120:463]/(rec.AreaTot1[227:315,120:463]))\n",
    "        anomaly = np.ma.masked_less((can-noc)*100,10)\n",
    "        mask = np.ma.getmask(anomaly)\n",
    "        area_array[tt] = np.sum(np.ma.masked_array(rec.AreaTot2[227:315,120:463], mask = mask))\n",
    "        \n",
    "    ax5.plot(np.arange(19)/2, (area_array/np.nansum(rec.AreaTot2[227:315,120:463]))*100, color=sns.xkcd_rgb[rec.color],\n",
    "             label=rec.label2, linestyle=line)\n",
    "\n",
    "# --------- CONTOURS -------------------------\n",
    "rec_base = records2[0]    \n",
    "BAC = ((rec_base.concBOT_anom)/rec_base.concBOT_ini)[yslice2,xslice2]\n",
    "\n",
    "levels = [-0.8,-0.7,-0.6,-0.5,-0.4,-0.3,-0.2,-0.1,0,0.1,0.2,0.3,0.4,0.5,0.6,0.7,0.8]\n",
    "levels = [-0.8,-0.7,-0.6,-0.5,-0.3,-0.1,0,0.1,0.2,0.3,0.4,0.5]\n",
    "\n",
    "mesh = ax3.contourf(X[xslice2]/1000,Y[yslice2]/1000,BAC,levels,cmap = cmo.cm.balance)\n",
    "mesh2 = ax3.contour(X[xslice2]/1000,Y[yslice2]/1000,BAC,levels)\n",
    "SB = ax3.contour(X[xslice2]/1000,Y[yslice2]/1000,\n",
    "                    Depth[yslice2,xslice2],\n",
    "                    [150.0],\n",
    "                    colors='0.1',linewidths=[0.75] )\n",
    "plt.clabel(mesh2, fontsize=9, inline=1, fmt='%1.1f')\n",
    "ax3.tick_params(axis='x', pad=1)\n",
    "ax3.tick_params(axis='y', pad=1)\n",
    "ax3.set_aspect(1)\n",
    "\n",
    "# --------- Box for calculations -------------\n",
    "ax3.plot([X[120]/1000,X[120]/1000],[Y[227]/1000,Y[315]/1000], '-', color='yellow')\n",
    "ax3.plot([X[120]/1000,X[463]/1000],[Y[315]/1000,Y[315]/1000], '-', color='yellow')\n",
    "ax3.plot([X[463]/1000,X[463]/1000],[Y[315]/1000,Y[227]/1000], '-', color='yellow')\n",
    "ax3.plot([X[463]/1000,X[120]/1000],[Y[227]/1000,Y[227]/1000], '-', color='yellow')\n",
    "\n",
    "# ----------- LABELS, etc ---------------------\n",
    "ax0.set_yticks([-25,-50,-75,-100])\n",
    "ax2.set_yticks([55,65,75])\n",
    "ax3.set_yticks([55,65,75])\n",
    "ax5.set_yticks([0,20,40,60,80])\n",
    "ax4.set_yticks([0,5,10,15,20,25])\n",
    "\n",
    "ax0.set_ylabel('Depth / m',labelpad=-0.5)\n",
    "ax3.set_xlabel('Alongshelf distance / km', labelpad=0.2)\n",
    "ax2.set_ylabel('C-S distance / km ',labelpad=0.5)\n",
    "ax3.set_ylabel('C-S distance / km',labelpad=0.5)\n",
    "\n",
    "ax4.set_xlabel('Days', labelpad=0.1)\n",
    "ax4.set_ylabel('BCA (%)', labelpad=2)\n",
    "ax4.set_xlim(0,9)\n",
    "\n",
    "ax5.set_xlabel('Days', labelpad=0.1)\n",
    "ax5.set_ylabel('Pool area (%)', labelpad=2)\n",
    "ax5.set_xlim(0,9)\n",
    "\n",
    "ax0.tick_params(axis='x', pad=1.2)\n",
    "ax0.tick_params(axis='y', pad=1)\n",
    "\n",
    "ax2.tick_params(axis='x', pad=1.2)\n",
    "ax2.tick_params(axis='y', pad=2)\n",
    "\n",
    "ax3.tick_params(axis='x', pad=1.2)\n",
    "ax3.tick_params(axis='y', pad=2)\n",
    "\n",
    "ax4.tick_params(axis='x', pad=1.2)\n",
    "ax4.tick_params(axis='y', pad=2)\n",
    "\n",
    "ax5.tick_params(axis='x', pad=1.2)\n",
    "ax5.tick_params(axis='y', pad=1)\n",
    "\n",
    "ax5.legend(ncol=1, bbox_to_anchor=(1,1.1), labelspacing=0 )\n",
    "\n",
    "ax0.text(0.96,0.83,'(a)',fontsize=9,transform=ax0.transAxes)\n",
    "ax2.text(0.96,0.83,'(b)',fontsize=9,transform=ax2.transAxes)\n",
    "ax3.text(0.96,0.83,'(c)',fontsize=9,transform=ax3.transAxes)\n",
    "ax4.text(0.05,0.83,'(d)',fontsize=9,transform=ax4.transAxes)\n",
    "ax5.text(0.05,0.83,'(e)',fontsize=9,transform=ax5.transAxes)\n",
    "\n",
    "f1.savefig('figure_pool_v2.eps', format='eps',bbox_inches='tight')\n"
   ]
  },
  {
   "cell_type": "markdown",
   "metadata": {
    "collapsed": false
   },
   "source": [
    "### BAC and pool area for all runs"
   ]
  },
  {
   "cell_type": "code",
   "execution_count": 37,
   "metadata": {
    "collapsed": true
   },
   "outputs": [],
   "source": [
    "# records_real has all the runs in records_epsilon plus the realistic runs\n",
    "ind = [0,3,4,5,51,6,7,8,9,10,17,18,19,20,21,22,29,30,31,32,33,\n",
    "       34,35,38,41,42,39,43,44,45,46,47,48,49,24,25,26,27,28]\n",
    "\n",
    "records_real = []\n",
    "records_real_NoC = []\n",
    "for ii in ind:\n",
    "    records_real.append(records[ii])\n",
    "    records_real_NoC.append(recordsNoC[ii])\n",
    "    \n"
   ]
  },
  {
   "cell_type": "code",
   "execution_count": 38,
   "metadata": {
    "collapsed": false
   },
   "outputs": [],
   "source": [
    "for rec, recNoC in zip(records_real, records_real_NoC):\n",
    "    ptracers_file = '/data/kramosmu/results/TracerExperiments/%s/%s/ptracersGlob.nc' %(rec.exp_code,rec.run_num)\n",
    "    ptracers_fileNoC = '/data/kramosmu/results/TracerExperiments/%s/%s/ptracersGlob.nc' %(recNoC.exp_code,recNoC.run_num)\n",
    "    rec.BCA = np.empty((nt,ny,nx))\n",
    "    rec.BC = np.empty((nt,ny,nx))\n",
    "    with Dataset(ptracers_file, 'r') as nbl:\n",
    "        with Dataset(ptracers_fileNoC, 'r') as noc:\n",
    "            for ii in range(nt):\n",
    "                rec.BCA[ii,:,:], dummy, rec.AreaTot1 = BottomConc(noc.variables['Tr1'][ii,:,:,:], hFacCNoC,rA,Depth)\n",
    "                rec.BC[ii,:,:], dummy, rec.AreaTot2 = BottomConc(nbl.variables['Tr1'][ii,:,:,:],hFacCNoC,rA,Depth)"
   ]
  },
  {
   "cell_type": "code",
   "execution_count": 43,
   "metadata": {
    "collapsed": false
   },
   "outputs": [
    {
     "data": {
      "text/plain": [
       "'run42'"
      ]
     },
     "execution_count": 43,
     "metadata": {},
     "output_type": "execute_result"
    }
   ],
   "source": [
    "recNoC.exp_code\n",
    "recNoC.run_num"
   ]
  },
  {
   "cell_type": "code",
   "execution_count": 52,
   "metadata": {
    "collapsed": false
   },
   "outputs": [],
   "source": [
    "BAC_array = np.empty(len(records_real))\n",
    "\n",
    "for rec,ii in zip(records_real, range(len(records_real))):\n",
    "    \n",
    "    BC_time = np.nansum(np.nansum(rec.BC[:,227:315,120:463],axis=1),axis=1)/(np.nansum(rec.AreaTot2[227:315,120:463]))\n",
    "    BC_0 = np.nansum(rec.BC[0,227:315,120:463])/np.nansum(rec.AreaTot2[227:315,120:463])\n",
    "    BCA_time = np.nansum(np.nansum(rec.BCA[:,227:315,120:463],axis=1),axis=1)/np.nansum(rec.AreaTot1[227:315,120:463])\n",
    "    BCA_0 = np.nansum(rec.BCA[0,227:315,120:463])/np.nansum(rec.AreaTot1[227:315,120:463])\n",
    "    \n",
    "    BAC_array[ii]=((BC_time/BC_0) - (BCA_time/BCA_0))[12]*100 # on day 9"
   ]
  },
  {
   "cell_type": "code",
   "execution_count": 53,
   "metadata": {
    "collapsed": false
   },
   "outputs": [
    {
     "data": {
      "text/plain": [
       "array([ 10.51325415,   7.04127235,   3.98023107,  17.10060821,\n",
       "        16.11140949,  13.85213877,  11.05337763,   7.45709706,\n",
       "         8.86285309,   5.65066655,   8.86225387,   6.00296182,\n",
       "         1.2629518 ,   2.56032869,   0.3393471 ,   0.80551852,\n",
       "        18.04660234,  15.68697396,  11.99783917,   9.06529572,\n",
       "        17.51985767,  10.00787355,   8.11634524,  12.70847682,\n",
       "        11.95856312,  10.69285533,  16.37336583,  14.14683837,\n",
       "         9.92706316,  17.7683478 ,  18.73067473,  14.50473729,\n",
       "        11.81661951,  18.35687705,   9.23065985,  10.46856391,\n",
       "        12.61419497,  11.21805623,  11.79427934])"
      ]
     },
     "execution_count": 53,
     "metadata": {},
     "output_type": "execute_result"
    }
   ],
   "source": [
    "BAC_array"
   ]
  },
  {
   "cell_type": "code",
   "execution_count": 48,
   "metadata": {
    "collapsed": false
   },
   "outputs": [],
   "source": [
    "\n",
    "tt = 18    \n",
    "for rec in records_real:\n",
    "    can = (rec.BC[tt,227:315,120:463]/(rec.AreaTot2[227:315,120:463]))/(rec.BC[0,227:315,120:463]/(rec.AreaTot2[227:315,120:463]))\n",
    "    noc = (rec.BCA[tt,227:315,120:463]/(rec.AreaTot1[227:315,120:463]))/(rec.BCA[0,227:315,120:463]/(rec.AreaTot1[227:315,120:463]))\n",
    "    anomaly = np.ma.masked_less((can-noc)*100,10)\n",
    "    mask = np.ma.getmask(anomaly)\n",
    "    area_temp = np.sum(np.ma.masked_array(rec.AreaTot2[227:315,120:463], mask = mask))\n",
    "    rec.area = (area_temp/np.nansum(rec.AreaTot2[227:315,120:463]))*100\n"
   ]
  },
  {
   "cell_type": "code",
   "execution_count": 49,
   "metadata": {
    "collapsed": false
   },
   "outputs": [
    {
     "name": "stdout",
     "output_type": "stream",
     "text": [
      "51.9378556793\n",
      "43.7716967003\n",
      "23.8599442393\n",
      "56.9494128871\n",
      "56.4227841838\n",
      "54.9318373338\n",
      "52.6813749274\n",
      "44.7821150233\n",
      "48.8364838706\n",
      "34.5472563863\n",
      "47.1979105753\n",
      "37.1816910408\n",
      "6.62645914596\n",
      "18.7349038177\n",
      "0.182410728344\n",
      "1.00476696718\n",
      "69.9315237347\n",
      "69.7614052315\n",
      "62.0467433654\n",
      "42.2697002921\n",
      "70.6950736839\n",
      "53.637519626\n",
      "35.1744944413\n",
      "58.3594470384\n",
      "56.7842261926\n",
      "54.077858421\n",
      "66.3033133128\n",
      "64.3532141897\n",
      "55.3072920287\n",
      "68.09799419\n",
      "68.3369773711\n",
      "62.7345123348\n",
      "55.9413732661\n",
      "68.4649818476\n",
      "57.0164929786\n",
      "54.6565106366\n",
      "58.1747220003\n",
      "57.5438533625\n",
      "58.5797419151\n"
     ]
    }
   ],
   "source": [
    "for rec in records_real:\n",
    "    print(rec.area)"
   ]
  },
  {
   "cell_type": "code",
   "execution_count": 50,
   "metadata": {
    "collapsed": true
   },
   "outputs": [],
   "source": [
    "tt = 14    \n",
    "for rec in records_real:\n",
    "    can = (rec.BC[tt,227:315,120:463]/(rec.AreaTot2[227:315,120:463]))/(rec.BC[0,227:315,120:463]/(rec.AreaTot2[227:315,120:463]))\n",
    "    noc = (rec.BCA[tt,227:315,120:463]/(rec.AreaTot1[227:315,120:463]))/(rec.BCA[0,227:315,120:463]/(rec.AreaTot1[227:315,120:463]))\n",
    "    anomaly = np.ma.masked_less((can-noc)*100,10)\n",
    "    mask = np.ma.getmask(anomaly)\n",
    "    area_temp = np.sum(np.ma.masked_array(rec.AreaTot2[227:315,120:463], mask = mask))\n",
    "    rec.area = (area_temp/np.nansum(rec.AreaTot2[227:315,120:463]))*100\n"
   ]
  },
  {
   "cell_type": "code",
   "execution_count": 51,
   "metadata": {
    "collapsed": false
   },
   "outputs": [
    {
     "name": "stdout",
     "output_type": "stream",
     "text": [
      "46.5491335754\n",
      "38.2917934328\n",
      "26.9448332095\n",
      "56.3817703596\n",
      "55.182684103\n",
      "51.9903642063\n",
      "47.8059790456\n",
      "37.6237425458\n",
      "42.0910214116\n",
      "30.7664212385\n",
      "40.8465914993\n",
      "32.9580624808\n",
      "7.68000144345\n",
      "13.6185030516\n",
      "0.415876594776\n",
      "2.16785064766\n",
      "63.1188268131\n",
      "63.1616737274\n",
      "57.8566896409\n",
      "46.9466246469\n",
      "63.5691961993\n",
      "52.4247201538\n",
      "37.7064332802\n",
      "51.2272862284\n",
      "50.1747159478\n",
      "48.4492795904\n",
      "58.4347067957\n",
      "57.1715659942\n",
      "50.5199063321\n",
      "60.9728115171\n",
      "62.4251483425\n",
      "54.6991068101\n",
      "49.2334222265\n",
      "62.0793817652\n",
      "51.4493454317\n",
      "49.1100729942\n",
      "51.1891636369\n",
      "50.6646476173\n",
      "51.3909571846\n"
     ]
    }
   ],
   "source": [
    "for rec in records_real:\n",
    "    print(rec.area)"
   ]
  },
  {
   "cell_type": "code",
   "execution_count": null,
   "metadata": {
    "collapsed": true
   },
   "outputs": [],
   "source": []
  }
 ],
 "metadata": {
  "anaconda-cloud": {},
  "kernelspec": {
   "display_name": "Python [default]",
   "language": "python",
   "name": "python3"
  },
  "language_info": {
   "codemirror_mode": {
    "name": "ipython",
    "version": 3
   },
   "file_extension": ".py",
   "mimetype": "text/x-python",
   "name": "python",
   "nbconvert_exporter": "python",
   "pygments_lexer": "ipython3",
   "version": "3.5.4"
  }
 },
 "nbformat": 4,
 "nbformat_minor": 1
}
