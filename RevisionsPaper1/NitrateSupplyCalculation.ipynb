{
 "cells": [
  {
   "cell_type": "markdown",
   "metadata": {},
   "source": [
    "## Nitrate supply calculation\n",
    "\n",
    "To add some context to the values of canyon-induced tracer transport we get, I did a back of the envelop calculation to compare to the nitrate supply estimate reported by Messie et al. 2009 to our tracer transport onto the shelf.\n",
    "\n",
    "In their paper, Messie el at. calculate the nitrate supply due to Ekman transport (wind stress contributon) and Ekman pumping (wind curl contribution) for 4 different eastern boundary current systems. I chose the California Current System to compare our results. They calculate using satellite data (QuikSCAT winds) and assume that Ekman transport takes place over the Rossby radius of deformation, and that Ekman pumping takes place over a 150 km coastal band, during upwelling season. The number they get is 19.3 mmol s$^{-1 }$m$^{-1}$, that is 19.3 mmol/s per meter of coast. They considered a 150 km coast, so we can convert the per m back:\n",
    "\n",
    "19.3 mmol s$^{-1 }$m$^{-1}$ $\\times$ $150\\times 10^{3}$ m = 2.9 $\\times 10^6$  mmol s$^{-1 }$.\n",
    "\n",
    "\n",
    "Our units for transport are $\\mu$mol m$^3$l$^{-1}$s$^{-1}$, which actually are mmol s$^{-1 }$:\n",
    "\n",
    "$\\mu$mol m$^3$ l$^{-1}$ s$^{-1}$ = $\\mu$mol m$^3$ $10^{-3}$m$^{-3}$s$^{-1}$ = mmol s$^{-1}$.\n",
    "\n",
    "\n",
    "For the base case we got that VTT (vertical tracer transport during the advective phase) is 1.6$\\times10^{5}$ mmol s$^{-1}$.\n",
    "\n",
    "Total tracer trasnport (canyon-no canyon) is $0.46\\times10^{4}$ mmol s$^{-1}$ for the base case; $1.3\\times10^{4}$ mmol s$^{-1}$ for $\\epsilon=100$ m, $K_{can}$=$10^{-2}$ m$^2$s$^{-1}$; and $0.97\\times10^{4}$ mmol s$^{-1}$ for $K_{can}$=$10^{-2}$ m$^2$s$^{-1}$.\n",
    "\n",
    "### References: \n",
    "Messie,  M.,  J.  Ledesma,  D.  D.  Kolber,  R.  P.  Michisaki,  D.  G.  Foley,  and  F.  P.  Chavez,  2009:  Potential  new  production  estimates  in  four  eastern  boundary  upwelling  ecosystems. Prog.  Oceanogr., 83 (1-4), 151–158,  doi:10.1016/J.POCEAN.2009.07.018\n"
   ]
  },
  {
   "cell_type": "code",
   "execution_count": 1,
   "metadata": {
    "collapsed": false
   },
   "outputs": [
    {
     "data": {
      "text/plain": [
       "2895000.0"
      ]
     },
     "execution_count": 1,
     "metadata": {},
     "output_type": "execute_result"
    }
   ],
   "source": [
    "19.3*150000"
   ]
  },
  {
   "cell_type": "code",
   "execution_count": 5,
   "metadata": {
    "collapsed": false
   },
   "outputs": [
    {
     "data": {
      "text/plain": [
       "0.15916955017301038"
      ]
     },
     "execution_count": 5,
     "metadata": {},
     "output_type": "execute_result"
    }
   ],
   "source": [
    "0.46E4*100/2.89E6\n"
   ]
  },
  {
   "cell_type": "code",
   "execution_count": 15,
   "metadata": {
    "collapsed": false
   },
   "outputs": [
    {
     "data": {
      "text/plain": [
       "4.642857142857143"
      ]
     },
     "execution_count": 15,
     "metadata": {},
     "output_type": "execute_result"
    }
   ],
   "source": [
    "13*100/280"
   ]
  },
  {
   "cell_type": "code",
   "execution_count": null,
   "metadata": {
    "collapsed": true
   },
   "outputs": [],
   "source": []
  }
 ],
 "metadata": {
  "anaconda-cloud": {},
  "kernelspec": {
   "display_name": "Python [default]",
   "language": "python",
   "name": "python3"
  },
  "language_info": {
   "codemirror_mode": {
    "name": "ipython",
    "version": 3
   },
   "file_extension": ".py",
   "mimetype": "text/x-python",
   "name": "python",
   "nbconvert_exporter": "python",
   "pygments_lexer": "ipython3",
   "version": "3.5.4"
  }
 },
 "nbformat": 4,
 "nbformat_minor": 1
}
