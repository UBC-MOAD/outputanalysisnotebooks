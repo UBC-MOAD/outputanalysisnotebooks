{
 "cells": [
  {
   "cell_type": "markdown",
   "metadata": {},
   "source": [
    "##  Analytical definition of Heaviside Kv profile \n",
    "\n",
    "Reviewer 2: \"You are using the opposite sign convention\".\n",
    "\n",
    "Fix: For z that increases upwards (positive above surface) the smoothed Heaviside function should be:\n",
    "\n",
    "$Kv(z) = \\begin{cases}\n",
    "\\kappa_{bg} &\\mbox{if } z > H_r+\\epsilon \\\\\n",
    "\\kappa_{bg}+ \\kappa_{can}\\left(0.5 + \\frac{H_r-z}{2\\epsilon} + \\frac{1}{2\\pi}\\sin{\\frac{\\pi(H_r-z)}{\\epsilon}}\\right) & \\mbox{if } H_r+\\epsilon > z > H_r-\\epsilon \\\\\n",
    "\\kappa_{can}+\\kappa_{bg} & \\mbox{if }  H_r-\\epsilon > z\n",
    " \\end{cases} $\n",
    "\n",
    "\n",
    " $H_{r}$ is rim depth ($<0$)\n",
    " \n",
    " $z$ < 0 "
   ]
  },
  {
   "cell_type": "code",
   "execution_count": 1,
   "metadata": {
    "collapsed": true
   },
   "outputs": [],
   "source": [
    "import matplotlib.pyplot as plt\n",
    "%matplotlib inline\n",
    "import numpy as np\n",
    "import seaborn as sns\n",
    "import sympy as sym\n",
    "sym.init_printing() # enable fancy printing"
   ]
  },
  {
   "cell_type": "code",
   "execution_count": 106,
   "metadata": {
    "collapsed": true
   },
   "outputs": [],
   "source": [
    "# Set appearance options seaborn\n",
    "\n",
    "sns.set_style('darkgrid')\n",
    "sns.set_context('notebook')"
   ]
  },
  {
   "cell_type": "code",
   "execution_count": 107,
   "metadata": {
    "collapsed": false
   },
   "outputs": [],
   "source": [
    "def Kv(kbg,kcan,Hr,eps,z):\n",
    "    \n",
    "    k1 = np.where(z > Hr+eps ,kbg, 0.)\n",
    "    k2 = np.where((z <= Hr+eps) & (z >= Hr-eps), \n",
    "                  kbg + kcan*(0.5 + ((Hr-z)/(2*eps)) + (1/(2*np.pi))*(np.sin(np.pi*(Hr-z)/eps))),\n",
    "                  0.)    \n",
    "    k3 = np.where(z < Hr-eps ,kcan+kbg, 0.)\n",
    "    \n",
    "    return(k1+k2+k3)\n",
    "        "
   ]
  },
  {
   "cell_type": "code",
   "execution_count": 115,
   "metadata": {
    "collapsed": false
   },
   "outputs": [
    {
     "data": {
      "text/plain": [
       "<matplotlib.legend.Legend at 0x7f4713112550>"
      ]
     },
     "execution_count": 115,
     "metadata": {},
     "output_type": "execute_result"
    },
    {
     "data": {
      "image/png": "[encoded data removed]",
      "text/plain": [
       "<Figure size 576x396 with 1 Axes>"
      ]
     },
     "metadata": {},
     "output_type": "display_data"
    }
   ],
   "source": [
    "kbg = 1E-5\n",
    "kcan = 1E-3\n",
    "Hr = -100\n",
    "eps = 40\n",
    "z = np.linspace(-300,0,200)\n",
    "diffusi = Kv(kbg,kcan,Hr,eps,z)\n",
    "\n",
    "plt.plot(diffusi,Hr*np.ones(np.shape(diffusi)),color='0.4',label='Hr')\n",
    "plt.plot(diffusi,Hr*np.ones(np.shape(diffusi))+eps,'--',color='grey',label='Hr+$\\epsilon$')\n",
    "plt.plot(diffusi,Hr*np.ones(np.shape(diffusi))-eps,'--',color='grey',label='Hr-$\\epsilon$')\n",
    "plt.plot(diffusi,z, 'g', linewidth=2, label='$Kv$')\n",
    "plt.xlabel(r'Kv / m$^2$s$^{-1}$')\n",
    "plt.ylabel('Z')\n",
    "plt.legend(loc=0)"
   ]
  },
  {
   "cell_type": "code",
   "execution_count": null,
   "metadata": {
    "collapsed": true
   },
   "outputs": [],
   "source": []
  }
 ],
 "metadata": {
  "anaconda-cloud": {},
  "kernelspec": {
   "display_name": "Python [default]",
   "language": "python",
   "name": "python3"
  },
  "language_info": {
   "codemirror_mode": {
    "name": "ipython",
    "version": 3
   },
   "file_extension": ".py",
   "mimetype": "text/x-python",
   "name": "python",
   "nbconvert_exporter": "python",
   "pygments_lexer": "ipython3",
   "version": "3.5.4"
  }
 },
 "nbformat": 4,
 "nbformat_minor": 1
}
