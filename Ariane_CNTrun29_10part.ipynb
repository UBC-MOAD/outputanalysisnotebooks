{
 "cells": [
  {
   "cell_type": "markdown",
   "metadata": {},
   "source": [
    "## Ariane particels on long MITgcm run (CNT29)\n",
    "\n",
    "10 particles initialized at dufferent upstream positions and depths in CNT run29 , 20 day run with output every 6 hours."
   ]
  },
  {
   "cell_type": "code",
   "execution_count": 10,
   "metadata": {
    "collapsed": false
   },
   "outputs": [],
   "source": [
    "from math import *\n",
    "\n",
    "import matplotlib.pyplot as plt\n",
    "\n",
    "import matplotlib.colors as mcolors\n",
    "\n",
    "%matplotlib inline\n",
    "\n",
    "#from MITgcmutils import rdmds\n",
    "\n",
    "from netCDF4 import Dataset\n",
    "\n",
    "import numpy as np\n",
    "\n",
    "import os \n",
    "\n",
    "import pandas as pd\n",
    "\n",
    "import pylab as pl\n",
    "\n",
    "import scipy.io\n",
    "\n",
    "import scipy as spy\n",
    "\n",
    "import seaborn as sns\n",
    "\n",
    "import sys\n",
    "#####\n",
    "from matplotlib import pylab\n",
    "\n",
    "from mpl_toolkits.mplot3d import Axes3D\n",
    "\n",
    "import matplotlib.cm as cm\n",
    "\n",
    "from matplotlib import animation\n"
   ]
  },
  {
   "cell_type": "code",
   "execution_count": 11,
   "metadata": {
    "collapsed": true
   },
   "outputs": [],
   "source": [
    "lib_path = os.path.abspath('../../Building_canyon/BuildCanyon/PythonModulesMITgcm') # Add absolute path to my python scripts\n",
    "#lib_path = os.path.abspath('../BuildCanyon/PythonModulesMITgcm') # Add absolute path to my python scripts\n",
    "\n",
    "sys.path.append(lib_path)\n",
    "\n",
    "import ReadOutTools_MITgcm as rout \n",
    "import MetricsPythonTools as mpt"
   ]
  },
  {
   "cell_type": "code",
   "execution_count": 12,
   "metadata": {
    "collapsed": true
   },
   "outputs": [],
   "source": [
    "sns.set()\n",
    "sns.set_style('white')\n",
    "sns.set_context('talk')"
   ]
  },
  {
   "cell_type": "code",
   "execution_count": 13,
   "metadata": {
    "collapsed": false
   },
   "outputs": [],
   "source": [
    "CGrid ='/ocean/kramosmu/MITgcm/TracerExperiments/CNTDIFF/run29/gridGlob_cropped.nc' \n",
    "\n",
    "CGridOut=Dataset(CGrid)\n",
    "CState ='/ocean/kramosmu/MITgcm/TracerExperiments/CNTDIFF/run29/stateGlob_cropped.nc' \n",
    "\n"
   ]
  },
  {
   "cell_type": "code",
   "execution_count": 14,
   "metadata": {
    "collapsed": false
   },
   "outputs": [],
   "source": [
    "# General input\n",
    "npart = 10\n",
    "nx = 360\n",
    "ny = 360\n",
    "nz = 90\n",
    "nt = 19 # t dimension size \n",
    "\n",
    "\n",
    "rc = CGridOut.variables['RC']\n",
    "\n",
    "\n",
    "dxf = CGridOut.variables['dxF']\n",
    "xc = rout.getField(CGrid, 'XC') # x coords tracer cells\n",
    "yc = rout.getField(CGrid, 'YC') # y coords tracer cells\n",
    "\n",
    "rA = rout.getField(CGrid, 'rA') \n",
    "\n",
    "drF = CGridOut.variables['drF'] # vertical distance between faces\n",
    "drC = CGridOut.variables['drC'] # vertical distance between centers\n",
    "\n",
    "hFacC = rout.getField(CGrid, 'HFacC')\n",
    "mask_NoC = rout.getMask(CGrid, 'HFacC')\n",
    "\n",
    "bathy = rout.getField(CGrid,'Depth')\n",
    "times = np.arange(0,nt,1)\n"
   ]
  },
  {
   "cell_type": "code",
   "execution_count": 18,
   "metadata": {
    "collapsed": false
   },
   "outputs": [
    {
     "name": "stdout",
     "output_type": "stream",
     "text": [
      "<type 'netCDF4.Variable'>\n",
      "float64 init_x(ntraj)\n",
      "    title: What is init_x ?\n",
      "    longname: Initial position in i\n",
      "    units: No dimension\n",
      "    missing_value: 1e+20\n",
      "unlimited dimensions: \n",
      "current shape = (10,)\n",
      "filling off\n",
      "\n",
      "<type 'netCDF4.Variable'>\n",
      "float64 init_y(ntraj)\n",
      "    title: What is init_y ?\n",
      "    longname: Initial position in j\n",
      "    units: No dimension\n",
      "    missing_value: 1e+20\n",
      "unlimited dimensions: \n",
      "current shape = (10,)\n",
      "filling off\n",
      "\n",
      "<type 'netCDF4.Variable'>\n",
      "float64 init_z(ntraj)\n",
      "    title: What is init_z ?\n",
      "    longname: Initial position in k\n",
      "    units: No dimension\n",
      "    missing_value: 1e+20\n",
      "unlimited dimensions: \n",
      "current shape = (10,)\n",
      "filling off\n",
      "\n",
      "<type 'netCDF4.Variable'>\n",
      "float64 init_t(ntraj)\n",
      "    title: What is init_t ?\n",
      "    longname: Initial position in l (time)\n",
      "    units: See global attributes...\n",
      "    missing_value: 1e+20\n",
      "unlimited dimensions: \n",
      "current shape = (10,)\n",
      "filling off\n",
      "\n",
      "<type 'netCDF4.Variable'>\n",
      "float64 init_age(ntraj)\n",
      "    title: What is init_age ?\n",
      "    longname: Initial age (time)\n",
      "    units: seconds\n",
      "    missing_value: 1e+20\n",
      "unlimited dimensions: \n",
      "current shape = (10,)\n",
      "filling off\n",
      "\n",
      "<type 'netCDF4.Variable'>\n",
      "float64 init_transp(ntraj)\n",
      "    title: What is init_transp ?\n",
      "    longname: Initial transport\n",
      "    units: m3/s\n",
      "    missing_value: 1e+20\n",
      "unlimited dimensions: \n",
      "current shape = (10,)\n",
      "filling off\n",
      "\n",
      "<type 'netCDF4.Variable'>\n",
      "float64 final_x(ntraj)\n",
      "    title: What is final_x ?\n",
      "    longname: Final position in x (or i)\n",
      "    units: No dimension\n",
      "    missing_value: 1e+20\n",
      "unlimited dimensions: \n",
      "current shape = (10,)\n",
      "filling off\n",
      "\n",
      "<type 'netCDF4.Variable'>\n",
      "float64 final_y(ntraj)\n",
      "    title: What is final_y ?\n",
      "    longname: Final position in y (or j)\n",
      "    units: No dimension\n",
      "    missing_value: 1e+20\n",
      "unlimited dimensions: \n",
      "current shape = (10,)\n",
      "filling off\n",
      "\n",
      "<type 'netCDF4.Variable'>\n",
      "float64 final_z(ntraj)\n",
      "    title: What is final_z ?\n",
      "    longname: Final position in z (or k)\n",
      "    units: No dimension\n",
      "    missing_value: 1e+20\n",
      "unlimited dimensions: \n",
      "current shape = (10,)\n",
      "filling off\n",
      "\n",
      "<type 'netCDF4.Variable'>\n",
      "float64 final_t(ntraj)\n",
      "    title: What is final_t ?\n",
      "    longname: Final position in t (time)\n",
      "    units: See global attributes...\n",
      "    missing_value: 1e+20\n",
      "unlimited dimensions: \n",
      "current shape = (10,)\n",
      "filling off\n",
      "\n",
      "<type 'netCDF4.Variable'>\n",
      "float64 final_age(ntraj)\n",
      "    title: What is fial_age ?\n",
      "    longname: Final Age.\n",
      "    units: seconds\n",
      "    missing_value: 1e+20\n",
      "unlimited dimensions: \n",
      "current shape = (10,)\n",
      "filling off\n",
      "\n",
      "<type 'netCDF4.Variable'>\n",
      "float64 final_transp(ntraj)\n",
      "    title: What is final_transp ?\n",
      "    longname: Final transport\n",
      "    units: m3/s\n",
      "    missing_value: 1e+20\n",
      "unlimited dimensions: \n",
      "current shape = (10,)\n",
      "filling off\n",
      "\n",
      "<type 'netCDF4.Variable'>\n",
      "float64 traj_lon(nb_output, ntraj)\n",
      "    title: What is traj_lon ?\n",
      "    longname: Trajectory: x positions\n",
      "    units: No dimension\n",
      "    missing_value: 1e+20\n",
      "unlimited dimensions: nb_output\n",
      "current shape = (35, 10)\n",
      "filling off\n",
      "\n",
      "<type 'netCDF4.Variable'>\n",
      "float64 traj_lat(nb_output, ntraj)\n",
      "    title: What is traj_lat ?\n",
      "    longname: Trajectory: y positions\n",
      "    units: No dimension\n",
      "    missing_value: 1e+20\n",
      "unlimited dimensions: nb_output\n",
      "current shape = (35, 10)\n",
      "filling off\n",
      "\n",
      "<type 'netCDF4.Variable'>\n",
      "float64 traj_depth(nb_output, ntraj)\n",
      "    title: What is traj_depth ?\n",
      "    longname: Trajectory: z positions\n",
      "    units: No dimension\n",
      "    missing_value: 1e+20\n",
      "unlimited dimensions: nb_output\n",
      "current shape = (35, 10)\n",
      "filling off\n",
      "\n",
      "<type 'netCDF4.Variable'>\n",
      "float64 traj_time(nb_output, ntraj)\n",
      "    title: What is traj_time ?\n",
      "    longname: Trajectory: time positions\n",
      "    units: See global attributes\n",
      "    missing_value: 1e+20\n",
      "unlimited dimensions: nb_output\n",
      "current shape = (35, 10)\n",
      "filling off\n",
      "\n"
     ]
    }
   ],
   "source": [
    "f = Dataset('/ocean/kramosmu/Ariane/TracerExperiments/CNTDIFF/run29_10part_AdvPahse/ariane_trajectories_qualitative.nc','r');\n",
    "\n",
    "for dimobj in f.variables.values():\n",
    "    print dimobj\n"
   ]
  },
  {
   "cell_type": "code",
   "execution_count": 16,
   "metadata": {
    "collapsed": false
   },
   "outputs": [
    {
     "data": {
      "text/plain": [
       "(35, 10)"
      ]
     },
     "execution_count": 16,
     "metadata": {},
     "output_type": "execute_result"
    }
   ],
   "source": [
    "f_lont=f.variables['traj_lon']\n",
    "f_latt=f.variables['traj_lat']\n",
    "f_dept=f.variables['traj_depth']\n",
    "f_timet=f.variables['traj_time']\n",
    "\n",
    "f_zs=f.variables['init_z']\n",
    "f_xs=f.variables['init_x']\n",
    "f_ys=f.variables['init_y']\n",
    "f_lont.shape"
   ]
  },
  {
   "cell_type": "code",
   "execution_count": 17,
   "metadata": {
    "collapsed": false,
    "scrolled": true
   },
   "outputs": [
    {
     "data": {
      "text/plain": [
       "<matplotlib.text.Text at 0x7f03c82580d0>"
      ]
     },
     "execution_count": 17,
     "metadata": {},
     "output_type": "execute_result"
    },
    {
     "data": {
      "image/png": "[encoded data removed]",
      "text/plain": [
       "<matplotlib.figure.Figure at 0x7f03f99663d0>"
      ]
     },
     "metadata": {},
     "output_type": "display_data"
    },
    {
     "data": {
      "image/png": "[encoded data removed]",
      "text/plain": [
       "<matplotlib.figure.Figure at 0x7f03c851ef10>"
      ]
     },
     "metadata": {},
     "output_type": "display_data"
    }
   ],
   "source": [
    "n = np.arange(npart)\n",
    "colors = cm.rainbow(np.linspace(0, 1, len(n)))\n",
    "\n",
    "# 2D\n",
    "fig, ax = plt.subplots(1,1,figsize=(10,6.6))\n",
    "\n",
    "for N,c in zip(n,colors):\n",
    "    ax.scatter(f_lont[1:20,N],f_latt[1:20,N],color=c,linestyle='-')\n",
    "    ax.scatter(f_lont[0,N],f_latt[0,N],color='0.30',marker='s')\n",
    "\n",
    "ax.contour(xc,yc,bathy,colors = 'k')\n",
    "\n",
    "ax.set_title('Top view')\n",
    "ax.set_xlabel('x')\n",
    "ax.set_ylabel('y')\n",
    "\n",
    "\n",
    "# 2D\n",
    "fig, ax = plt.subplots(1,1,figsize=(10,6.6))\n",
    "for N,c in zip(n,colors):\n",
    "    ax.plot(f_lont[1:20,N],f_dept[1:20,N],'-o',color=c,linewidth=1,markersize=6)\n",
    "    ax.scatter(f_lont[0,N],f_dept[0,N],color='0.30',marker='s')\n",
    "\n",
    "ax.axhline(y=-150.0,color = '0.5')\n",
    "ax.axvline(x=70000.0,color = '0.5', linestyle = '--')\n",
    "ax.axvline(x=50000.0,color = '0.5', linestyle = '--')\n",
    "\n",
    "\n",
    "ax.set_title('Side view')\n",
    "ax.set_xlabel('x')\n",
    "ax.set_ylabel('depth')\n",
    "\n"
   ]
  },
  {
   "cell_type": "code",
   "execution_count": 22,
   "metadata": {
    "collapsed": false
   },
   "outputs": [
    {
     "name": "stdout",
     "output_type": "stream",
     "text": [
      "[ 734400.  734400.  734400.  734400.  734400.  734400.  734400.  734400.\n",
      "  734400.  734400.]\n"
     ]
    }
   ],
   "source": [
    "age = f.variables['final_age']\n",
    "print(age[:])"
   ]
  },
  {
   "cell_type": "code",
   "execution_count": 25,
   "metadata": {
    "collapsed": false
   },
   "outputs": [
    {
     "data": {
      "text/plain": [
       "array([ 8.5,  8.5,  8.5,  8.5,  8.5,  8.5,  8.5,  8.5,  8.5,  8.5])"
      ]
     },
     "execution_count": 25,
     "metadata": {},
     "output_type": "execute_result"
    }
   ],
   "source": [
    "age[:]/(3600.0*24.0)"
   ]
  },
  {
   "cell_type": "code",
   "execution_count": null,
   "metadata": {
    "collapsed": false
   },
   "outputs": [],
   "source": []
  },
  {
   "cell_type": "code",
   "execution_count": null,
   "metadata": {
    "collapsed": false
   },
   "outputs": [],
   "source": []
  },
  {
   "cell_type": "code",
   "execution_count": null,
   "metadata": {
    "collapsed": false
   },
   "outputs": [],
   "source": []
  },
  {
   "cell_type": "code",
   "execution_count": null,
   "metadata": {
    "collapsed": false
   },
   "outputs": [],
   "source": []
  },
  {
   "cell_type": "code",
   "execution_count": null,
   "metadata": {
    "collapsed": false
   },
   "outputs": [],
   "source": []
  },
  {
   "cell_type": "code",
   "execution_count": null,
   "metadata": {
    "collapsed": true
   },
   "outputs": [],
   "source": []
  }
 ],
 "metadata": {
  "kernelspec": {
   "display_name": "Python 2",
   "language": "python",
   "name": "python2"
  },
  "language_info": {
   "codemirror_mode": {
    "name": "ipython",
    "version": 2
   },
   "file_extension": ".py",
   "mimetype": "text/x-python",
   "name": "python",
   "nbconvert_exporter": "python",
   "pygments_lexer": "ipython2",
   "version": "2.7.11"
  }
 },
 "nbformat": 4,
 "nbformat_minor": 0
}
