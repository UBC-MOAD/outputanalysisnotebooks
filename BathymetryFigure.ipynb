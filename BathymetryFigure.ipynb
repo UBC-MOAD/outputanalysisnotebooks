{
 "cells": [
  {
   "cell_type": "markdown",
   "metadata": {},
   "source": [
    "Tracer experiments bathymetry figures"
   ]
  },
  {
   "cell_type": "markdown",
   "metadata": {},
   "source": []
  },
  {
   "cell_type": "code",
   "execution_count": 19,
   "metadata": {
    "collapsed": false
   },
   "outputs": [],
   "source": [
    "#KRM\n",
    "\n",
    "import numpy as np\n",
    "\n",
    "import matplotlib.pyplot as plt\n",
    "\n",
    "import matplotlib.colors as mcolors\n",
    "\n",
    "from math import *\n",
    "\n",
    "import scipy.io\n",
    "\n",
    "import scipy as spy\n",
    "\n",
    "%matplotlib inline\n",
    "\n",
    "from netCDF4 import Dataset\n",
    "\n",
    "import pylab as pl\n",
    "\n",
    "import os \n",
    "\n",
    "import sys\n",
    "\n",
    "import seaborn as sns"
   ]
  },
  {
   "cell_type": "code",
   "execution_count": 20,
   "metadata": {
    "collapsed": true
   },
   "outputs": [],
   "source": [
    "lib_path = os.path.abspath('../buildcanyon/PythonModulesMITgcm/') # Add absolute path to my python scripts\n",
    "sys.path.append(lib_path)\n",
    "\n",
    "import ReadOutTools_MITgcm as rout \n"
   ]
  },
  {
   "cell_type": "code",
   "execution_count": 21,
   "metadata": {
    "collapsed": false
   },
   "outputs": [],
   "source": [
    "\n",
    "#CanyonGrid='/ocean/kramosmu/MITgcm/TracerExperiments/CNTDIFF/run03/gridGlob.nc'\n",
    "CanyonGrid='/Users/Karina/Research/PhD/Tracers/TemporaryData/BARKLEY/run01/gridGlob.nc'\n",
    "\n",
    "CanyonGridOut = Dataset(CanyonGrid)\n",
    "#for dimobj in CanyonGridOut.variables.values():\n",
    "#    print (dimobj)\n",
    "CanyonState='/Users/Karina/Research/PhD/Tracers/TemporaryData/BARKLEY/run01/stateGlob.nc'\n",
    "CanyonStateOut = Dataset(CanyonState)\n",
    "#for dimobj in CanyonStateOut.variables.values():\n",
    "#    print dimobj\n"
   ]
  },
  {
   "cell_type": "code",
   "execution_count": 22,
   "metadata": {
    "collapsed": false
   },
   "outputs": [],
   "source": [
    "# General input\n",
    "\n",
    "nx = 360\n",
    "ny = 360\n",
    "nz = 90\n",
    "\n",
    "nt = 19 # t dimension size \n",
    "\n",
    "z = CanyonStateOut.variables['Z']\n",
    "#print(z[10])\n",
    "Time = CanyonStateOut.variables['T']\n",
    "#print(Time[:])\n",
    "\n",
    "xc = rout.getField(CanyonGrid, 'XC') # x coords tracer cells\n",
    "\n",
    "yc = rout.getField(CanyonGrid, 'YC') # y coords tracer cells\n",
    "\n",
    "bathy = rout.getField(CanyonGrid, 'Depth')\n",
    "\n",
    "hFacC = rout.getField(CanyonGrid, 'HFacC')\n",
    "MaskC = rout.getMask(CanyonGrid, 'HFacC')\n",
    "\n",
    "hFacW = rout.getField(CanyonGrid, 'HFacW') # (Z,Y,Xp1) for zonal fluxes\n",
    "MaskW = rout.getMask(CanyonGrid,'HFacW') \n",
    "\n",
    "hFacS = rout.getField(CanyonGrid, 'HFacS') # (Z,Yp1,X) for meridional fluxes\n",
    "MaskS = rout.getMask(CanyonGrid,'HFacS') \n"
   ]
  },
  {
   "cell_type": "code",
   "execution_count": 23,
   "metadata": {
    "collapsed": false
   },
   "outputs": [
    {
     "name": "stderr",
     "output_type": "stream",
     "text": [
      "/Users/Karina/anaconda3/lib/python3.5/site-packages/matplotlib/__init__.py:872: UserWarning: axes.color_cycle is deprecated and replaced with axes.prop_cycle; please use the latter.\n",
      "  warnings.warn(self.msg_depr % (key, alt_key))\n"
     ]
    }
   ],
   "source": [
    "sns.set()\n",
    "sns.set_style('white')\n",
    "sns.set_context('paper')"
   ]
  },
  {
   "cell_type": "code",
   "execution_count": 24,
   "metadata": {
    "collapsed": false
   },
   "outputs": [
    {
     "name": "stdout",
     "output_type": "stream",
     "text": [
      "The shelf-break isobath (sb=291.44 m) upstream of the canyon corresponds to the y-index 198\n",
      "The corresponding index for z is   (z(29)=147.50 m)\n"
     ]
    },
    {
     "data": {
      "image/png": "[encoded data removed]",
      "text/plain": [
       "<matplotlib.figure.Figure at 0x145c5acc0>"
      ]
     },
     "metadata": {},
     "output_type": "display_data"
    }
   ],
   "source": [
    "fig = plt.figure(figsize=(6,6))\n",
    "\n",
    "CS = plt.plot(range(360),-bathy[:,120],'ko-',markersize=5,linewidth=0.5)\n",
    "plt.plot(226,-bathy[226,120],'ro',markersize=8)\n",
    "plt.axhline(y=z[29],xmin=0,xmax=360,linestyle='-', color='0.75')\n",
    "\n",
    "plt.ylabel('Depth (m)')\n",
    "plt.xlabel('y index')\n",
    "print('The shelf-break isobath (sb=%.2f m) upstream of the canyon corresponds to the y-index 198' % bathy[198,120])\n",
    "print('The corresponding index for z is   (z(29)=%.2f m)' % -z[29])"
   ]
  },
  {
   "cell_type": "code",
   "execution_count": 25,
   "metadata": {
    "collapsed": false
   },
   "outputs": [
    {
     "name": "stdout",
     "output_type": "stream",
     "text": [
      "(360,)\n"
     ]
    }
   ],
   "source": [
    "ix,iy = np.where((bathy>=146.8) & (bathy<=148.7))\n",
    "print(np.shape(ix))\n"
   ]
  },
  {
   "cell_type": "code",
   "execution_count": 26,
   "metadata": {
    "collapsed": false
   },
   "outputs": [
    {
     "name": "stderr",
     "output_type": "stream",
     "text": [
      "/Users/Karina/anaconda3/lib/python3.5/site-packages/matplotlib/__init__.py:872: UserWarning: axes.color_cycle is deprecated and replaced with axes.prop_cycle; please use the latter.\n",
      "  warnings.warn(self.msg_depr % (key, alt_key))\n"
     ]
    },
    {
     "data": {
      "text/plain": [
       "<matplotlib.text.Text at 0x145819630>"
      ]
     },
     "execution_count": 26,
     "metadata": {},
     "output_type": "execute_result"
    },
    {
     "data": {
      "image/png": "[encoded data removed]",
      "text/plain": [
       "<matplotlib.figure.Figure at 0x14580d9e8>"
      ]
     },
     "metadata": {},
     "output_type": "display_data"
    }
   ],
   "source": [
    "sns.set(context='paper', style='white', font='sans-serif', font_scale=2)\n",
    "\n",
    "fig = plt.figure(figsize=(8,6))\n",
    "\n",
    "plt.plot(xc[:,::10],yc[:,::10] ,'k',linewidth = 0.5,color = '0.75')\n",
    "\n",
    "for ii in range(0,360,10):\n",
    "    plt.axhline(y=yc[ii,1],xmin=0,xmax=360,linestyle='-', color='0.75')\n",
    "\n",
    "\n",
    "levels = [50,100,148.17,200,300,400,500,600,700,800,900,1000,1100,1200]\n",
    "\n",
    "CS = plt.contour(xc,yc,bathy,levels,colors='k',linewidths=[0.75,0.75,2,0.75,0.75,0.75,0.75,0.75,0.75,0.75,0.75,0.75,0.75] )\n",
    "\n",
    "plt.clabel(CS, \n",
    "           inline=1,\n",
    "          fmt='%1.1f',\n",
    "           fontsize=12)\n",
    "\n",
    "    \n",
    "plt.xticks(np.arange(0,120000,10000), [' ','10','20','30','40','50','60','70','80','90','100','110','120'])\n",
    "plt.yticks(np.arange(0,90000,10000), [' ','10','20','30','40','50','60','70','80','90'])\n",
    "\n",
    "plt.xlabel('km',fontsize=14)\n",
    "plt.ylabel('km',fontsize=14)\n",
    "\n",
    "plt.title('Depth (m)',fontsize=16)\n"
   ]
  },
  {
   "cell_type": "code",
   "execution_count": null,
   "metadata": {
    "collapsed": false
   },
   "outputs": [],
   "source": []
  },
  {
   "cell_type": "code",
   "execution_count": null,
   "metadata": {
    "collapsed": true
   },
   "outputs": [],
   "source": []
  }
 ],
 "metadata": {
  "kernelspec": {
   "display_name": "Python 3",
   "language": "python",
   "name": "python3"
  },
  "language_info": {
   "codemirror_mode": {
    "name": "ipython",
    "version": 3
   },
   "file_extension": ".py",
   "mimetype": "text/x-python",
   "name": "python",
   "nbconvert_exporter": "python",
   "pygments_lexer": "ipython3",
   "version": "3.5.1"
  }
 },
 "nbformat": 4,
 "nbformat_minor": 0
}
