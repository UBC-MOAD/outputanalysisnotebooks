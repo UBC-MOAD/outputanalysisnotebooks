{
 "cells": [
  {
   "cell_type": "markdown",
   "metadata": {},
   "source": [
    "Model sensitivity to different values of horizontal and vertical prescribed diffusivity coefficients."
   ]
  },
  {
   "cell_type": "markdown",
   "metadata": {},
   "source": [
    "Sensitivity to Explicit Diffusivity Coefficients\n",
    "============================\n",
    "\n",
    "This ipython notebook investigates the model sensitivity to different values of horizontal and vertical prescribed diffusivity coeffiecients. Experiment 360x360x90_BodyForcing_6tr_LinProfiles has upwelling body forcing and a vertical gradient in the initial tracer concentration. Run02 explores values of vertical diffusivity (1E-7 to 10) keeping horizontal diffusivity fixed (1E-5)."
   ]
  },
  {
   "cell_type": "code",
   "execution_count": 2,
   "metadata": {
    "collapsed": false
   },
   "outputs": [],
   "source": [
    "#KRM\n",
    "import os\n",
    "\n",
    "import numpy as np\n",
    "\n",
    "import matplotlib.pyplot as plt\n",
    "\n",
    "from scipy.stats import nanmean\n",
    "\n",
    "from math import *\n",
    "\n",
    "%matplotlib inline\n",
    "\n",
    "import numpy as np\n",
    "\n",
    "import matplotlib.colors as mcolors\n",
    "\n",
    "from netCDF4 import Dataset\n",
    "\n",
    "import pylab as pl\n",
    "\n",
    "from decimal import getcontext, Decimal, Inexact\n",
    "\n",
    "import statsmodels.api as sm\n",
    "\n",
    "import pandas as pd"
   ]
  },
  {
   "cell_type": "code",
   "execution_count": 3,
   "metadata": {
    "collapsed": false
   },
   "outputs": [],
   "source": [
    "#lib_path = os.path.abspath('../PythonModulesMITgcm') # Add absolute path to my python scripts\n",
    "#sys.path.append(lib_path)\n",
    "\n",
    "import NumDiffTools as dif"
   ]
  },
  {
   "cell_type": "markdown",
   "metadata": {},
   "source": [
    "Important input parameters:\n",
    "------------------------"
   ]
  },
  {
   "cell_type": "code",
   "execution_count": 4,
   "metadata": {
    "collapsed": false
   },
   "outputs": [],
   "source": [
    "nx = 360  # number of x points in domain\n",
    "ny = 360  # number of y points in domain\n",
    "nz = 90  # number of z levels in domain\n",
    "nt = 21   # number of output files (n time) \n",
    "delt= 12*3600.0 # time interval between model output"
   ]
  },
  {
   "cell_type": "markdown",
   "metadata": {},
   "source": [
    "Load output filenames:\n"
   ]
  },
  {
   "cell_type": "code",
   "execution_count": 5,
   "metadata": {
    "collapsed": false
   },
   "outputs": [],
   "source": [
    "### Load output filenames ###\n",
    "\n",
    "filename = '/ocean/kramosmu/MITgcm/CanyonUpwelling/360x360x90_BodyForcing_6Tr_LinProfiles/run07notave/state.0000000000.glob.nc'\n",
    "StateOut = Dataset(filename)\n",
    "#for dimobj in StateOut.variables.values():\n",
    "#    print dimobj\n",
    "\n",
    "filename2 = '/ocean/kramosmu/MITgcm/CanyonUpwelling/360x360x90_BodyForcing_1Tr/run01/mnc_0001/grid.t001.nc'\n",
    "GridOut = Dataset(filename2)\n",
    "#for dimobj in GridOut.variables.values():\n",
    "#    print dimobj\n",
    "\n",
    "filename3 = '/ocean/kramosmu/MITgcm/CanyonUpwelling/360x360x90_BodyForcing_6Tr_LinProfiles/run07notave/ptracers.0000000000.glob.nc'\n",
    "PtracersOut = Dataset(filename3)\n",
    "#for dimobj in PtracersOut.variables.values():\n",
    "#    print dimobj\n"
   ]
  },
  {
   "cell_type": "markdown",
   "metadata": {},
   "source": [
    "Vertical diffusivity Sensitivity\n",
    "--------------------\n",
    "\n",
    "Let's calculate the horizontal and vertical diffusivity for T and S."
   ]
  },
  {
   "cell_type": "code",
   "execution_count": 6,
   "metadata": {
    "collapsed": false
   },
   "outputs": [],
   "source": [
    "tracer1 = dif.getField(filename,'Temp')\n",
    "\n",
    "tracer1msk = np.ma.masked_values(tracer1, 0)\n",
    "\n",
    "MASK = np.ma.getmask(tracer1msk)\n",
    "   \n",
    "    \n",
    "tracer2 = dif.getField(filename,'S')\n",
    "\n",
    "tracer2msk = np.ma.masked_values(tracer2, 0)\n",
    "\n",
    "\n",
    "\n"
   ]
  },
  {
   "cell_type": "markdown",
   "metadata": {},
   "source": [
    "\n",
    "Calculate the volume of the domain\n"
   ]
  },
  {
   "cell_type": "code",
   "execution_count": 7,
   "metadata": {
    "collapsed": false
   },
   "outputs": [
    {
     "name": "stdout",
     "output_type": "stream",
     "text": [
      "6.10285330795e+12\n"
     ]
    }
   ],
   "source": [
    "DomVol = 0.0\n",
    "    \n",
    "hFacC = dif.getField(filename2,'HFacC')\n",
    "drF   = dif.getField(filename2,'drF')\n",
    "rAC   = dif.getField(filename2,'rA')\n",
    "    \n",
    "for jj in np.arange(ny):\n",
    "    for kk in np.arange(nz):\n",
    "      DomVol = DomVol + hFacC[kk,jj,:]*drF[kk]*rAC[jj,:]\n",
    "    #print DomVol\n",
    "  #print('\\n The total volume is %e m^3 \\n' %DomVolume)\n",
    "   \n",
    "DomVolume=sum(DomVol)\n",
    "print DomVolume  \n",
    "#vol = dif.CalcDomVolume(filename2, nx, ny, nz)\n",
    "\n",
    "#DomVolume = vol[0]\n",
    "#hFacC = vol[1]\n",
    "#drF = vol[2]\n",
    "#rAC = vol[3]\n",
    "\n",
    "#print(DomVolume)"
   ]
  },
  {
   "cell_type": "markdown",
   "metadata": {},
   "source": [
    "Temperature\n"
   ]
  },
  {
   "cell_type": "code",
   "execution_count": 8,
   "metadata": {
    "collapsed": false
   },
   "outputs": [
    {
     "name": "stdout",
     "output_type": "stream",
     "text": [
      "done\n",
      "done\n",
      "done\n",
      "done\n",
      "[-0.20834655]\n",
      "[ -3.43521913e-06]\n",
      "                            OLS Regression Results                            \n",
      "==============================================================================\n",
      "Dep. Variable:                      y   R-squared:                       0.966\n",
      "Model:                            OLS   Adj. R-squared:                  0.964\n",
      "Method:                 Least Squares   F-statistic:                     512.3\n",
      "Date:                Thu, 15 Jan 2015   Prob (F-statistic):           1.13e-14\n",
      "Time:                        12:22:45   Log-Likelihood:                 297.98\n",
      "No. Observations:                  19   AIC:                            -594.0\n",
      "Df Residuals:                      18   BIC:                            -593.0\n",
      "Df Model:                           1                                         \n",
      "==============================================================================\n",
      "                 coef    std err          t      P>|t|      [95.0% Conf. Int.]\n",
      "------------------------------------------------------------------------------\n",
      "x1            -0.2083      0.009    -22.634      0.000        -0.228    -0.189\n",
      "==============================================================================\n",
      "Omnibus:                        1.708   Durbin-Watson:                   0.469\n",
      "Prob(Omnibus):                  0.426   Jarque-Bera (JB):                1.419\n",
      "Skew:                          -0.606   Prob(JB):                        0.492\n",
      "Kurtosis:                       2.429   Cond. No.                         1.00\n",
      "==============================================================================\n",
      "\n",
      "Warnings:\n",
      "[1] The smallest eigenvalue is 1.74e-11. This might indicate that there are\n",
      "strong multicollinearity problems or that the design matrix is singular.\n",
      "                            OLS Regression Results                            \n",
      "==============================================================================\n",
      "Dep. Variable:                      y   R-squared:                       0.967\n",
      "Model:                            OLS   Adj. R-squared:                  0.965\n",
      "Method:                 Least Squares   F-statistic:                     522.4\n",
      "Date:                Thu, 15 Jan 2015   Prob (F-statistic):           9.50e-15\n",
      "Time:                        12:22:45   Log-Likelihood:                 298.16\n",
      "No. Observations:                  19   AIC:                            -594.3\n",
      "Df Residuals:                      18   BIC:                            -593.4\n",
      "Df Model:                           1                                         \n",
      "==============================================================================\n",
      "                 coef    std err          t      P>|t|      [95.0% Conf. Int.]\n",
      "------------------------------------------------------------------------------\n",
      "x1         -3.435e-06    1.5e-07    -22.857      0.000     -3.75e-06 -3.12e-06\n",
      "==============================================================================\n",
      "Omnibus:                        1.908   Durbin-Watson:                   0.466\n",
      "Prob(Omnibus):                  0.385   Jarque-Bera (JB):                1.589\n",
      "Skew:                          -0.632   Prob(JB):                        0.452\n",
      "Kurtosis:                       2.358   Cond. No.                         1.00\n",
      "==============================================================================\n"
     ]
    },
    {
     "name": "stderr",
     "output_type": "stream",
     "text": [
      "/home/kramosmu/anaconda/lib/python2.7/site-packages/scipy/stats/stats.py:1276: UserWarning: kurtosistest only valid for n>=20 ... continuing anyway, n=19\n",
      "  int(n))\n"
     ]
    }
   ],
   "source": [
    "q2mean1 = dif.CalcVariance(nt, nz, ny, nx, DomVolume, hFacC, drF, rAC, tracer1)\n",
    "print('done')\n",
    "dqdt1 = dif.CalcTimeDer(q2mean1, nt, delt)\n",
    "print('done')\n",
    "qmeanDh1 = dif.CalcAvgHorGrad(filename2, nt,nz,ny,nx,tracer1,DomVolume,hFacC, drF, rAC)\n",
    "print('done')\n",
    "qmeanDz1=dif.CalcAvgVerGrad(filename2, nt,nz,ny,nx,tracer1,DomVolume,hFacC, drF, rAC)\n",
    "print('done')\n",
    "\n",
    "esth1=dif.FitDiffusivity(qmeanDh1[1:len(qmeanDh1)-1],dqdt1[0:len(dqdt1)], delt)\n",
    "print(esth1.params)\n",
    "\n",
    "estv1=dif.FitDiffusivity(qmeanDz1[1:len(qmeanDz1)-1],dqdt1[0:len(dqdt1)], delt)\n",
    "print(estv1.params)\n",
    "\n",
    "print esth1.summary()\n",
    "print estv1.summary()"
   ]
  },
  {
   "cell_type": "markdown",
   "metadata": {},
   "source": [
    "Salinity"
   ]
  },
  {
   "cell_type": "code",
   "execution_count": 9,
   "metadata": {
    "collapsed": false
   },
   "outputs": [
    {
     "name": "stdout",
     "output_type": "stream",
     "text": [
      "done\n",
      "done\n",
      "done\n",
      "done\n",
      "[ 0.00720116]\n",
      "[  2.90003441e-07]\n",
      "                            OLS Regression Results                            \n",
      "==============================================================================\n",
      "Dep. Variable:                      y   R-squared:                       0.943\n",
      "Model:                            OLS   Adj. R-squared:                  0.940\n",
      "Method:                 Least Squares   F-statistic:                     300.3\n",
      "Date:                Thu, 15 Jan 2015   Prob (F-statistic):           1.13e-12\n",
      "Time:                        13:09:39   Log-Likelihood:                 303.78\n",
      "No. Observations:                  19   AIC:                            -605.6\n",
      "Df Residuals:                      18   BIC:                            -604.6\n",
      "Df Model:                           1                                         \n",
      "==============================================================================\n",
      "                 coef    std err          t      P>|t|      [95.0% Conf. Int.]\n",
      "------------------------------------------------------------------------------\n",
      "x1             0.0072      0.000     17.329      0.000         0.006     0.008\n",
      "==============================================================================\n",
      "Omnibus:                        1.412   Durbin-Watson:                   0.488\n",
      "Prob(Omnibus):                  0.494   Jarque-Bera (JB):                0.257\n",
      "Skew:                           0.114   Prob(JB):                        0.879\n",
      "Kurtosis:                       3.522   Cond. No.                         1.00\n",
      "==============================================================================\n",
      "                            OLS Regression Results                            \n",
      "==============================================================================\n",
      "Dep. Variable:                      y   R-squared:                       0.943\n",
      "Model:                            OLS   Adj. R-squared:                  0.940\n",
      "Method:                 Least Squares   F-statistic:                     300.2\n",
      "Date:                Thu, 15 Jan 2015   Prob (F-statistic):           1.13e-12\n",
      "Time:                        13:09:39   Log-Likelihood:                 303.78\n",
      "No. Observations:                  19   AIC:                            -605.6\n",
      "Df Residuals:                      18   BIC:                            -604.6\n",
      "Df Model:                           1                                         \n",
      "==============================================================================\n",
      "                 coef    std err          t      P>|t|      [95.0% Conf. Int.]\n",
      "------------------------------------------------------------------------------\n",
      "x1            2.9e-07   1.67e-08     17.326      0.000      2.55e-07  3.25e-07\n",
      "==============================================================================\n",
      "Omnibus:                        1.402   Durbin-Watson:                   0.489\n",
      "Prob(Omnibus):                  0.496   Jarque-Bera (JB):                0.253\n",
      "Skew:                           0.114   Prob(JB):                        0.881\n",
      "Kurtosis:                       3.518   Cond. No.                         1.00\n",
      "==============================================================================\n"
     ]
    }
   ],
   "source": [
    "q2mean2 = dif.CalcVariance(nt, nz, ny, nx, DomVolume, hFacC, drF, rAC, tracer2)\n",
    "print('done')\n",
    "dqdt2 = dif.CalcTimeDer(q2mean2, nt, delt)\n",
    "print('done')\n",
    "qmeanDh2 = dif.CalcAvgHorGrad(filename2, nt,nz,ny,nx,tracer2,DomVolume,hFacC, drF, rAC)\n",
    "print('done')\n",
    "qmeanDz2=dif.CalcAvgVerGrad(filename2, nt,nz,ny,nx,tracer2,DomVolume,hFacC, drF, rAC)\n",
    "print('done')\n",
    "\n",
    "esth2=dif.FitDiffusivity(qmeanDh2[1:len(qmeanDh2)-1],dqdt2[0:len(dqdt2)], delt)\n",
    "print(esth2.params)\n",
    "\n",
    "estv2=dif.FitDiffusivity(qmeanDz2[1:len(qmeanDz2)-1],dqdt2[0:len(dqdt2)], delt)\n",
    "print(estv2.params)\n",
    "\n",
    "print esth2.summary()\n",
    "print estv2.summary()"
   ]
  },
  {
   "cell_type": "markdown",
   "metadata": {},
   "source": [
    "Tracer variance plots:\n",
    "--------------------"
   ]
  },
  {
   "cell_type": "code",
   "execution_count": 10,
   "metadata": {
    "collapsed": false
   },
   "outputs": [
    {
     "data": {
      "image/png": "[encoded data removed]",
      "text/plain": [
       "<matplotlib.figure.Figure at 0x516d190>"
      ]
     },
     "metadata": {},
     "output_type": "display_data"
    }
   ],
   "source": [
    "kh1=esth1.params\n",
    "kv1=estv1.params\n",
    "\n",
    "\n",
    "\n",
    "\n",
    "\n",
    "fig1=plt.figure(figsize=(21,3))\n",
    "\n",
    "plt.subplot(1,3,1)\n",
    "ax=plt.gca()\n",
    "\n",
    "\n",
    "plt.plot(qmeanDh1[1:len(qmeanDh1)-1],dqdt1)\n",
    "\n",
    "\n",
    "\n",
    "\n",
    "plt.xlabel('$<|\\partial_{h}q|^2>$')\n",
    "\n",
    "plt.ylabel('$\\partial{<q^2>}/\\partial{t}$')\n",
    "    \n",
    "\n",
    "plt.subplot(1,3,2)\n",
    "ax=plt.gca()\n",
    "\n",
    "plt.plot(qmeanDz1[1:len(qmeanDz1)-1],dqdt1)\n",
    "\n",
    "\n",
    "\n",
    "plt.xlabel('$<\\partial{q^2}/\\partial{z}>$')\n",
    "\n",
    "plt.ylabel('$\\partial{<q^2>}/\\partial{t}$')\n",
    "\n",
    "plt.subplot(1,3,3)\n",
    "ax=plt.gca()\n",
    "\n",
    "\n",
    "plt.plot(np.arange(0,nt,1),q2mean1)\n",
    "\n",
    "\n",
    "\n",
    "\n",
    "\n",
    "plt.xlabel('hours')\n",
    "\n",
    "plt.ylabel('$<q^2>$')\n",
    "\n",
    "plt.tight_layout()"
   ]
  },
  {
   "cell_type": "markdown",
   "metadata": {},
   "source": []
  },
  {
   "cell_type": "code",
   "execution_count": 11,
   "metadata": {
    "collapsed": false
   },
   "outputs": [
    {
     "data": {
      "image/png": "[encoded data removed]",
      "text/plain": [
       "<matplotlib.figure.Figure at 0x53b0990>"
      ]
     },
     "metadata": {},
     "output_type": "display_data"
    }
   ],
   "source": [
    "\n",
    "\n",
    "\n",
    "\n",
    "kh2=esth2.params\n",
    "kv2=estv2.params\n",
    "\n",
    "\n",
    "\n",
    "fig1=plt.figure(figsize=(21,3))\n",
    "\n",
    "plt.subplot(1,3,1)\n",
    "ax=plt.gca()\n",
    "\n",
    "\n",
    "\n",
    "plt.plot(qmeanDh2[1:len(qmeanDh2)-1],dqdt2)\n",
    "\n",
    "\n",
    "\n",
    "plt.xlabel('$<|\\partial_{h}q|^2>$')\n",
    "\n",
    "plt.ylabel('$\\partial{<q^2>}/\\partial{t}$')\n",
    "    \n",
    "\n",
    "plt.subplot(1,3,2)\n",
    "ax=plt.gca()\n",
    "\n",
    "\n",
    "plt.plot(qmeanDz2[1:len(qmeanDz2)-1],dqdt2)\n",
    "\n",
    "\n",
    "plt.xlabel('$<\\partial{q^2}/\\partial{z}>$')\n",
    "\n",
    "plt.ylabel('$\\partial{<q^2>}/\\partial{t}$')\n",
    "\n",
    "plt.subplot(1,3,3)\n",
    "ax=plt.gca()\n",
    "\n",
    "\n",
    "\n",
    "plt.plot(np.arange(0,nt,1),q2mean2)\n",
    "\n",
    "\n",
    "\n",
    "\n",
    "plt.xlabel('hours')\n",
    "\n",
    "plt.ylabel('$<q^2>$')\n",
    "\n",
    "plt.tight_layout()\n"
   ]
  },
  {
   "cell_type": "code",
   "execution_count": 15,
   "metadata": {
    "collapsed": false
   },
   "outputs": [],
   "source": []
  },
  {
   "cell_type": "code",
   "execution_count": 15,
   "metadata": {
    "collapsed": false
   },
   "outputs": [],
   "source": [
    "\n"
   ]
  },
  {
   "cell_type": "code",
   "execution_count": 15,
   "metadata": {
    "collapsed": false
   },
   "outputs": [],
   "source": []
  },
  {
   "cell_type": "code",
   "execution_count": 15,
   "metadata": {
    "collapsed": false
   },
   "outputs": [],
   "source": []
  }
 ],
 "metadata": {
  "kernelspec": {
   "display_name": "Python 2",
   "language": "python",
   "name": "python2"
  },
  "language_info": {
   "codemirror_mode": {
    "name": "ipython",
    "version": 2
   },
   "file_extension": ".py",
   "mimetype": "text/x-python",
   "name": "python",
   "nbconvert_exporter": "python",
   "pygments_lexer": "ipython2",
   "version": "2.7.11"
  }
 },
 "nbformat": 4,
 "nbformat_minor": 0
}
