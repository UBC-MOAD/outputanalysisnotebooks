{
 "cells": [
  {
   "cell_type": "markdown",
   "metadata": {},
   "source": [
    "### Movie for T, S, Tracers Tracers - Aids to visualize the flow"
   ]
  },
  {
   "cell_type": "code",
   "execution_count": 1,
   "metadata": {
    "collapsed": true
   },
   "outputs": [],
   "source": [
    "#KRM\n",
    "\n",
    "import numpy as np\n",
    "\n",
    "import matplotlib.pyplot as plt\n",
    "\n",
    "import matplotlib.colors as mcolors\n",
    "\n",
    "import matplotlib as mpl\n",
    "#%matplotlib inline\n",
    "from math import *\n",
    "\n",
    "import scipy.io\n",
    "\n",
    "import scipy as spy\n",
    "\n",
    "from netCDF4 import Dataset\n",
    "\n",
    "import pylab as pl\n",
    "\n",
    "import os \n",
    "\n",
    "import sys\n",
    "\n",
    "import seaborn as sns"
   ]
  },
  {
   "cell_type": "code",
   "execution_count": 2,
   "metadata": {
    "collapsed": true
   },
   "outputs": [],
   "source": [
    "lib_path = os.path.abspath('../../Building_canyon/BuildCanyon/PythonModulesMITgcm') # Add absolute path to my python scripts\n",
    "sys.path.append(lib_path)\n",
    "\n",
    "import ReadOutTools_MITgcm as rout \n"
   ]
  },
  {
   "cell_type": "code",
   "execution_count": 3,
   "metadata": {
    "collapsed": true
   },
   "outputs": [],
   "source": [
    "CanyonGrid='/ocean/kramosmu/MITgcm/TracerExperiments/CNTDIFF/run07/gridGlob.nc'\n",
    "CanyonGridOut = Dataset(CanyonGrid)\n",
    "\n",
    "CanyonState='/ocean/kramosmu/MITgcm/TracerExperiments/CNTDIFF/run07/stateGlob.nc'\n",
    "CanyonStateOut = Dataset(CanyonState)\n",
    "\n",
    "CanyonPtracers='/ocean/kramosmu/MITgcm/TracerExperiments/CNTDIFF/run07/ptracersGlob.nc'\n",
    "CanyonPtracersOut = Dataset(CanyonPtracers)\n",
    "\n"
   ]
  },
  {
   "cell_type": "code",
   "execution_count": 4,
   "metadata": {
    "collapsed": false
   },
   "outputs": [],
   "source": [
    "#for dimobj in CanyonPtracersOut.variables.values():\n",
    "#    print dimobj"
   ]
  },
  {
   "cell_type": "code",
   "execution_count": null,
   "metadata": {
    "collapsed": true
   },
   "outputs": [],
   "source": [
    "# General input\n",
    "\n",
    "nx = 360\n",
    "ny = 360\n",
    "nz = 90\n",
    "nt = 19 # t dimension size \n",
    "\n",
    "z = CanyonStateOut.variables['Z']\n",
    "Time = CanyonStateOut.variables['T']\n",
    "\n",
    "xc = rout.getField(CanyonGrid, 'XC') # x coords tracer cells\n",
    "yc = rout.getField(CanyonGrid, 'YC') # y coords tracer cells\n",
    "\n",
    "bathy = rout.getField(CanyonGrid, 'Depth')\n",
    "\n",
    "hFacC = rout.getField(CanyonGrid, 'HFacC')\n",
    "MaskC = rout.getMask(CanyonGrid, 'HFacC')\n",
    "\n",
    "hFacW = rout.getField(CanyonGrid, 'HFacW') # (Z,Y,Xp1) for zonal fluxes\n",
    "MaskW = rout.getMask(CanyonGrid,'HFacW') \n",
    "\n",
    "hFacS = rout.getField(CanyonGrid, 'HFacS') # (Z,Yp1,X) for meridional fluxes\n",
    "MaskS = rout.getMask(CanyonGrid,'HFacS') \n"
   ]
  },
  {
   "cell_type": "code",
   "execution_count": 6,
   "metadata": {
    "collapsed": false
   },
   "outputs": [],
   "source": [
    "# Load velocity components\n",
    "T = rout.getField(CanyonState,'Temp')\n",
    "S = rout.getField(CanyonState,'S')\n",
    "Tr01= rout.getField(CanyonPtracers,'Tr1')\n"
   ]
  },
  {
   "cell_type": "code",
   "execution_count": 7,
   "metadata": {
    "collapsed": false
   },
   "outputs": [
    {
     "name": "stdout",
     "output_type": "stream",
     "text": [
      "(20.0, 0.0)\n",
      "(34.0, 0.0)\n",
      "(45.0, 0.0)\n"
     ]
    }
   ],
   "source": [
    "print(np.max(T), np.min(T))\n",
    "print(np.max(S), np.min(S))\n",
    "print(np.max(Tr01), np.min(Tr01))\n",
    "\n",
    "Tmax = np.max(T)\n",
    "Smax = np.max(S)\n",
    "Trmax=np.max(Tr01)"
   ]
  },
  {
   "cell_type": "code",
   "execution_count": 8,
   "metadata": {
    "collapsed": true
   },
   "outputs": [],
   "source": [
    "import matplotlib.animation as animation"
   ]
  },
  {
   "cell_type": "code",
   "execution_count": 9,
   "metadata": {
    "collapsed": false
   },
   "outputs": [],
   "source": [
    "sns.set()\n",
    "sns.set_style('white')\n",
    "sns.set_context(\"talk\")\n",
    "Tcmap = sns.cubehelix_palette(light=1, as_cmap=True)\n",
    "Scmap = sns.light_palette(\"navy\", as_cmap=True)\n",
    "Trcmap = sns.cubehelix_palette(8, start=.5, rot=-.75, as_cmap=True)\n",
    "\n"
   ]
  },
  {
   "cell_type": "code",
   "execution_count": 10,
   "metadata": {
    "collapsed": false
   },
   "outputs": [],
   "source": [
    "def Plot1(t,ax1):\n",
    "    \n",
    "    Tplot=np.ma.array(T[t,:,:,xslice],mask=MaskC[:,:,xslice])\n",
    "    csT = np.linspace(0.41,0.77,num=30)\n",
    "    csT2 = np.linspace(0.41,0.77,num=15)\n",
    "    ax1.clear()\n",
    "    mesh=ax1.contourf(yc[100:,200],z[:58],Tplot[:58,100:]/Tmax,csT,cmap=Tcmap)\n",
    "    if t == 1:    \n",
    "        cbar=plt.colorbar(mesh,ax=ax1,cmap =\"\")\n",
    "    CS = ax1.contour(yc[100:,200],z[:58],Tplot[:58,100:]/Tmax,csT2,colors='k',linewidths=[0.75] )\n",
    "    ax1.set_axis_bgcolor((205/255.0, 201/255.0, 201/255.0))\n",
    "    ax1.set_xlabel('Across-shore distance [km]')\n",
    "    ax1.set_xticks([40000,50000,60000,70000,80000])\n",
    "    ax1.set_xticklabels(['40', '50', '60', '70', '80'])\n",
    "    ax1.set_ylabel('Depth [m]')\n",
    "    ax1.set_title('Temperature at day %0.1f' %(t/2.0))\n",
    "    plt.cla()\n",
    "\n",
    "def Plot2(t,ax2):    \n",
    "    Tplot=np.ma.array(T[t,:,yslice,:],mask=MaskC[:,yslice,:])\n",
    "    csT = np.linspace(0.4,0.75,num=30)\n",
    "    csT2 = np.linspace(0.4,0.75,num=15)\n",
    "    ax2.clear()\n",
    "    mesh=ax2.contourf(xc[200,100:260],z[:58],Tplot[:58,100:260]/Tmax,csT,cmap=Tcmap)\n",
    "    if t == 1:\n",
    "        cbar=plt.colorbar(mesh,ax=ax2)\n",
    "    CS = ax2.contour(xc[200,100:260],z[:58],Tplot[:58,100:260]/Tmax,csT2,colors='k',linewidths=[0.75] )\n",
    "    ax2.set_axis_bgcolor((205/255.0, 201/255.0, 201/255.0))\n",
    "    ax2.set_xlabel('Alongshore distance [km]')\n",
    "    ax2.set_xticks([50000,55000,60000,65000, 70000])\n",
    "    ax2.set_xticklabels(['50','55','60','65','70'])\n",
    "    ax2.set_ylabel('Depth [m]')\n",
    "    ax2.set_title('Temperature')\n",
    "    \n",
    "def Plot3(t,ax3):    \n",
    "    Tplot = np.ma.array(T[t,zslice,:,:],mask=MaskC[zslice,:,:])\n",
    "    csT = np.linspace(0.55,0.65,num=30)\n",
    "    csT2 = np.linspace(0.55,0.65,num=15)\n",
    "    ax3.clear()\n",
    "    mesh=ax3.contourf(xc[145:265,:],yc[145:265,:],Tplot[145:265,:]/Tmax,csT,cmap=Tcmap)\n",
    "    if t == 1:\n",
    "        cbar=plt.colorbar(mesh,ax=ax3)\n",
    "    CS = ax3.contour(xc[145:265,:],yc[145:265,:],bathy[145:265,:],[147],colors='k',linewidths=[2.0] )\n",
    "    CSS = ax3.contour(xc[145:265,:],yc[145:265,:],Tplot[145:265,:]/Tmax,csT2,colors='k',linewidths=[0.75] )\n",
    "    MerPlane = ax3.plot(xc[yslice,:],yc[yslice,:],'k--',linewidth = 0.5)\n",
    "    ZonPlane = ax3.plot(xc[145:265,xslice],yc[145:265,xslice],'k--',linewidth = 0.5)\n",
    "    \n",
    "    ax3.set_axis_bgcolor((205/255.0, 201/255.0, 201/255.0))\n",
    "    ax3.set_xlabel('Alongshore distance [km]')\n",
    "    ax3.set_xticks([20000,40000,60000,80000,100000])\n",
    "    ax3.set_xticklabels(['20', '40', '60', '80', '100'])\n",
    "    ax3.set_ylabel('Across-shore distance [km]')\n",
    "    ax3.set_yticks([40000,45000,50000,55000])\n",
    "    ax3.set_yticklabels(['40', '45', '50', '55'])\n",
    "    ax3.set_title('Temperature at shelf break')\n",
    "\n",
    "def Plot4(t,ax4):\n",
    "    Splot=np.ma.array(S[t,:,:,xslice],mask=MaskC[:,:,xslice])\n",
    "    csS = np.linspace(0.92,0.98,num=30)\n",
    "    csS2 = np.linspace(0.92,0.98,num=15)\n",
    "    ax4.clear()\n",
    "    \n",
    "    mesh=ax4.contourf(yc[100:,200],z[:58],Splot[:58,100:]/Smax,csS,cmap=Scmap)\n",
    "    if t == 1:\n",
    "        cbar=plt.colorbar(mesh,ax=ax4)\n",
    "    CS=ax4.contour(yc[100:,200],z[:58],Splot[:58,100:]/Smax,csS2,colors='k',linewidths=[0.75])\n",
    "    ax4.set_axis_bgcolor((205/255.0, 201/255.0, 201/255.0))\n",
    "    ax4.set_xlabel('Across-shore distance [km]')\n",
    "    ax4.set_xticks([40000,50000,60000,70000,80000])\n",
    "    ax4.set_xticklabels(['40', '50', '60', '70', '80'])\n",
    "    ax4.set_ylabel('Depth [m]')\n",
    "    ax4.set_title('Salinity')\n",
    "    \n",
    "def Plot5(t,ax5):    \n",
    "    Splot=np.ma.array(S[t,:,yslice,:],mask=MaskC[:,yslice,:])\n",
    "    csS = np.linspace(0.94,0.97,num=30)\n",
    "    csS2 = np.linspace(0.94,0.97,num=15)\n",
    "    ax5.clear()\n",
    "    mesh=ax5.contourf(xc[200,100:260],z[:58],Splot[:58,100:260]/Smax,csS,cmap=Scmap)\n",
    "    if t == 1:\n",
    "        cbar=plt.colorbar(mesh,ax=ax5)\n",
    "    CS=ax5.contour(xc[200,100:260],z[:58],Splot[:58,100:260]/Smax,csS2,colors='k',linewidths=[0.75])\n",
    "    ax5.set_axis_bgcolor((205/255.0, 201/255.0, 201/255.0))\n",
    "    ax5.set_xlabel('Alongshore distance [km]')\n",
    "    ax5.set_xticks([50000,55000,60000,65000, 70000])\n",
    "    ax5.set_xticklabels(['50','55','60','65','70'])\n",
    "    ax5.set_ylabel('Depth [m]')\n",
    "    ax5.set_title('Salinity')\n",
    "\n",
    "def Plot6(t,ax6):\n",
    "    Splot = np.ma.array(S[t,zslice,:,:],mask=MaskC[zslice,:,:])\n",
    "    csS = np.linspace(0.945,0.955,num=26)\n",
    "    csS2 = np.linspace(0.945,0.955,num=13)\n",
    "    ax6.clear()\n",
    "    \n",
    "    mesh=ax6.contourf(xc[145:265,:],yc[145:265,:],Splot[145:265,:]/Smax,csS,cmap=Scmap)\n",
    "    if t == 1:\n",
    "        cbar=plt.colorbar(mesh,ax=ax6)\n",
    "    CS = ax6.contour(xc[145:265,:],yc[145:265,:],bathy[145:265,:],[147],colors='k',linewidths=[2.25] )\n",
    "    CSS=ax6.contour(xc[145:265,:],yc[145:265,:],Splot[145:265,:]/Smax,csS2,colors='k',linewidths=[0.75])\n",
    "    MerPlane = ax6.plot(xc[yslice,:],yc[yslice,:],'k--',linewidth = 0.5)\n",
    "    ZonPlane = ax6.plot(xc[145:265,xslice],yc[145:265,xslice],'k--',linewidth = 0.5)\n",
    "    ax6.set_axis_bgcolor((205/255.0, 201/255.0, 201/255.0))\n",
    "    ax6.set_xlabel('Alongshore distance [km]')\n",
    "    ax6.set_xticks( [20000,40000,60000,80000,100000])\n",
    "    ax6.set_xticklabels(['20', '40', '60', '80', '100'] )\n",
    "    ax6.set_ylabel('Across-shore distance [km]')\n",
    "    ax6.set_yticks([40000,45000,50000,55000])\n",
    "    ax6.set_yticklabels(['40', '45', '50', '55'])\n",
    "    ax6.set_title('Salinity at shelf break')\n",
    "\n",
    "def Plot7(t,ax7):\n",
    "    Trplot=np.ma.array(Tr01[t,:,:,xslice],mask=MaskC[:,:,xslice])\n",
    "    csTr = np.linspace(0,0.6,num=30)\n",
    "    csTr2 = np.linspace(0,0.6,num=15)\n",
    "    ax7.clear()\n",
    "    mesh=ax7.contourf(yc[100:,200],z[:58],Trplot[:58,100:]/Trmax,csTr,cmap=Trcmap)\n",
    "    if t == 1:\n",
    "        cbar=plt.colorbar(mesh,ax=ax7)\n",
    "    CS=ax7.contour(yc[100:,200],z[:58],Trplot[:58,100:]/Trmax,csTr2,colors='k',linewidths=[0.75])\n",
    "    ax7.set_axis_bgcolor((205/255.0, 201/255.0, 201/255.0))\n",
    "    ax7.set_xlabel('Across-shore distance [km]')\n",
    "    ax7.set_xticks([40000,50000,60000,70000,80000])\n",
    "    ax7.set_xticklabels(['40', '50', '60', '70', '80'])\n",
    "    ax7.set_ylabel('Depth [m]')\n",
    "    ax7.set_title('Tracer concentration')\n",
    "\n",
    "def Plot8(t,ax8):\n",
    "    Trplot=np.ma.array(Tr01[t,:,yslice,:],mask=MaskC[:,yslice,:])\n",
    "    csTr = np.linspace(0.0,0.5,num=30)\n",
    "    csTr2 = np.linspace(0,0.5,num=15)\n",
    "    ax8.clear()\n",
    "    \n",
    "    mesh=ax8.contourf(xc[200,100:260],z[:58],Trplot[:58,100:260]/Trmax,csTr,cmap=Trcmap)\n",
    "    if t == 1:\n",
    "        cbar=plt.colorbar(mesh,ax=ax8)\n",
    "    CS=ax8.contour(xc[200,100:260],z[:58],Trplot[:58,100:260]/Trmax,csTr2,colors='k',linewidths=[0.75])\n",
    "    ax8.set_axis_bgcolor((205/255.0, 201/255.0, 201/255.0))\n",
    "    ax8.set_xlabel('Alongshore distance [km]')\n",
    "    ax8.set_xticks([50000,55000,60000,65000, 70000])\n",
    "    ax8.set_xticklabels(['50','55','60','65','70'])\n",
    "    ax8.set_ylabel('Depth [m]')\n",
    "    ax8.set_title('Tracer concentration')\n",
    "    \n",
    "def Plot9(t,ax9):\n",
    "    Trplot = np.ma.array(Tr01[t,zslice,:,:],mask=MaskC[zslice,:,:])\n",
    "    csTr = np.linspace(0.14,0.24,num=30)\n",
    "    csTr2 = np.linspace(0.14,0.24,num=15)\n",
    "    ax9.clear()\n",
    "    mesh=ax9.contourf(xc[145:265,:],yc[145:265,:],Trplot[145:265,:]/Trmax,csTr,cmap=Trcmap)\n",
    "    if t == 1:\n",
    "        cbar=plt.colorbar(mesh,ax=ax9)\n",
    "    CS = ax9.contour(xc[145:265,:],yc[145:265,:],bathy[145:265,:],[147],colors='k',linewidths=[2.25] )\n",
    "    CSS = ax9.contour(xc[145:265,:],yc[145:265,:],Trplot[145:265,:]/Trmax,csTr2,colors='k',linewidths=[0.75] )\n",
    "    MerPlane = ax9.plot(xc[yslice,:],yc[yslice,:],'k--',linewidth = 0.5)\n",
    "    ZonPlane = ax9.plot(xc[145:265,xslice],yc[145:265,xslice],'k--',linewidth = 0.5)\n",
    "    ax9.set_axis_bgcolor((205/255.0, 201/255.0, 201/255.0))\n",
    "    ax9.set_xlabel('Alongshore distance [km]')\n",
    "    plt.xticks( (20000,40000,60000,80000,100000), ('20', '40', '60', '80', '100') )\n",
    "    ax9.set_ylabel('Across-shore distance [km]')\n",
    "    plt.yticks( (40000,45000,50000,55000), ('40', '45', '50', '55') )\n",
    "    ax9.set_title('Tracer Concentration')"
   ]
  },
  {
   "cell_type": "code",
   "execution_count": 11,
   "metadata": {
    "collapsed": false
   },
   "outputs": [],
   "source": [
    "## Animation\n",
    "#N=5\n",
    "xslice=180\n",
    "yslice=235\n",
    "zslice= 29 # shelf break index\n",
    "zslice2= 23 \n",
    "\n",
    "#Empty figures\n",
    "fig,((ax1,ax2,ax3),(ax4, ax5,ax6),(ax7,ax8,ax9))  = plt.subplots(3, 3, figsize=(18, 12))\n",
    "\n",
    "#Initial image\n",
    "def init():\n",
    "    Plot1(0,ax1)\n",
    "    Plot2(0,ax2)\n",
    "    Plot3(0,ax3)\n",
    "    Plot4(0,ax4)\n",
    "    Plot5(0,ax5)\n",
    "    Plot6(0,ax6)\n",
    "    Plot7(0,ax7)\n",
    "    Plot8(0,ax8)\n",
    "    Plot9(0,ax9)\n",
    "    \n",
    "    plt.tight_layout()\n",
    "    #return[ax1,ax2,ax3,ax4,ax5,ax6,ax7,ax8,ax9]\n",
    "    \n",
    "\n",
    "def animate(tt):\n",
    "    Plot1(tt,ax1)\n",
    "    Plot2(tt,ax2)\n",
    "    Plot3(tt,ax3)\n",
    "    Plot4(tt,ax4)\n",
    "    Plot5(tt,ax5)\n",
    "    Plot6(tt,ax6)\n",
    "    Plot7(tt,ax7)\n",
    "    Plot8(tt,ax8)\n",
    "    Plot9(tt,ax9)\n",
    "    plt.tight_layout()\n",
    "#The animation function (max frames=47)   \n",
    "\n",
    "\n",
    "anim = animation.FuncAnimation(fig, animate, init_func=init,frames=18, interval = 200,blit=False, repeat=False)\n",
    "\n",
    "##A line that makes it all work\n",
    "mywriter = animation.FFMpegWriter()\n",
    "\n",
    "##Save in current folder\n",
    "anim.save('Trac_CNTDIFF_run07.mp4',writer=mywriter,fps=0.2, dpi = 300, bitrate = 1000000, codec = \"libx264\")\n",
    "\n",
    "plt.show()\n",
    "\n"
   ]
  },
  {
   "cell_type": "code",
   "execution_count": null,
   "metadata": {
    "collapsed": false
   },
   "outputs": [],
   "source": [
    "\n",
    "\n"
   ]
  },
  {
   "cell_type": "code",
   "execution_count": null,
   "metadata": {
    "collapsed": true
   },
   "outputs": [],
   "source": []
  }
 ],
 "metadata": {
  "kernelspec": {
   "display_name": "Python 2",
   "language": "python",
   "name": "python2"
  },
  "language_info": {
   "codemirror_mode": {
    "name": "ipython",
    "version": 2
   },
   "file_extension": ".py",
   "mimetype": "text/x-python",
   "name": "python",
   "nbconvert_exporter": "python",
   "pygments_lexer": "ipython2",
   "version": "2.7.11"
  }
 },
 "nbformat": 4,
 "nbformat_minor": 0
}
