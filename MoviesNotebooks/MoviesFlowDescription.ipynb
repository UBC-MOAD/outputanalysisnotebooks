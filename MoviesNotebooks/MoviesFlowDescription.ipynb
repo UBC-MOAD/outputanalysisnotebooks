{
 "cells": [
  {
   "cell_type": "markdown",
   "metadata": {},
   "source": [
    "### Movie with u, v, w, $\\rho$, tr, vorticity alongshore section"
   ]
  },
  {
   "cell_type": "code",
   "execution_count": 1,
   "metadata": {
    "collapsed": false,
    "scrolled": true
   },
   "outputs": [],
   "source": [
    "#KRM\n",
    "import matplotlib.pyplot as plt\n",
    "import matplotlib.colors as mcolors\n",
    "import matplotlib as mpl\n",
    "#from MITgcmutils import rdmds # not working\n",
    "#%matplotlib inline\n",
    "import os\n",
    "from netCDF4 import Dataset\n",
    "import numpy as np\n",
    "import pandas as pd\n",
    "import seaborn as sns\n",
    "import struct\n",
    "import xarray as xr\n",
    "import canyon_tools.readout_tools as rout"
   ]
  },
  {
   "cell_type": "markdown",
   "metadata": {},
   "source": [
    "## Functions"
   ]
  },
  {
   "cell_type": "code",
   "execution_count": 2,
   "metadata": {
    "collapsed": true
   },
   "outputs": [],
   "source": [
    "def rel_vort(x,y,u,v):\n",
    "    \"\"\"-----------------------------------------------------------------------------\n",
    "    rel_vort calculates the z component of relative vorticity.\n",
    "    \n",
    "    INPUT:\n",
    "    x,y,u,v should be at least 2D arrays in coordinate order (..., Y , X ) \n",
    "    \n",
    "    OUTPUT:\n",
    "    relvort - z-relative vorticity array of size u[...,2:-2,2:-2]\n",
    "    -----------------------------------------------------------------------------\"\"\"\n",
    "    \n",
    "    dvdx = (v[...,1:-1, 2:]-v[...,1:-1, :-2])/(x[...,1:-1, 2:]-x[...,1:-1, :-2])\n",
    "    dudy = (u[...,2:,1:-1]-u[..., :-2,1:-1])/(y[..., 2:,1:-1]-y[..., :-2,1:-1])\n",
    "    relvort = dvdx - dudy\n",
    "    return relvort\n",
    "\n",
    "\n",
    "def calc_rho(RhoRef,T,S,alpha=2.0E-4, beta=7.4E-4):\n",
    "    \"\"\"-----------------------------------------------------------------------------\n",
    "    calc_rho calculates the density using a linear equation of state.\n",
    "    \n",
    "    INPUT:\n",
    "    RhoRef : reference density at the same z as T and S slices. Can be a scalar or a \n",
    "             vector, depending on the size of T and S.\n",
    "    T, S   : should be at least 2D arrays in coordinate order (..., Y , X ) \n",
    "    alpha = 2.0E-4 # 1/degC, thermal expansion coefficient\n",
    "    beta = 7.4E-4, haline expansion coefficient\n",
    "    OUTPUT:\n",
    "    rho - Density [...,ny,nx]\n",
    "    -----------------------------------------------------------------------------\"\"\"\n",
    "    \n",
    "    #Linear eq. of state \n",
    "    rho = RhoRef*(np.ones(np.shape(T)) - alpha*(T[...,:,:]) + beta*(S[...,:,:]))\n",
    "    return rho\n",
    "\n",
    "def call_unstag(t):\n",
    "    UU,VV = rout.unstagger(state.U.isel(T=t),state.V.isel(T=t))\n",
    "    return(UU,VV)\n",
    "\n",
    "\n",
    "def call_rho(t):\n",
    "    T = state.Temp.isel(T=t,Y=yind)\n",
    "    S = state.S.isel(T=t,Y=yind)\n",
    "    rho = calc_rho(RhoRef,T,S,alpha=2.0E-4, beta=7.4E-4)\n",
    "    return(rho) "
   ]
  },
  {
   "cell_type": "markdown",
   "metadata": {},
   "source": [
    "## Frame functions"
   ]
  },
  {
   "cell_type": "code",
   "execution_count": 3,
   "metadata": {
    "collapsed": false
   },
   "outputs": [],
   "source": [
    "# if y = 230, z from 0 to 56\n",
    "# if y=245, z from 0 to 47 \n",
    "# if y=260, z from 0 to 30 \n",
    "\n",
    "# ALONGSHORE VELOCITY   \n",
    "def Plot1(t,ax1,UU):\n",
    "    umin = -0.55 # 0.50\n",
    "    umax= 0.55\n",
    "    Uplot=np.ma.array(UU.isel(Y=yind).data,mask=MaskC[:,yind,:])\n",
    "    csU = np.linspace(umin,umax,num=20)\n",
    "    csU2 = np.linspace(umin,umax,num=10)\n",
    "    ax1.clear()\n",
    "    #mesh=ax1.contourf(grid.X/1000,grid.Z[:47],Uplot[:47,:],csU,cmap='RdYlBu_r') # full shelf\n",
    "    mesh=ax1.contourf(grid.X[120:240]/1000,grid.Z[:47],Uplot[:47,120:240],csU,cmap='RdYlBu_r') # zoom canyon\n",
    "    \n",
    "    if t == 1:    \n",
    "        cax,kw = mpl.colorbar.make_axes([ax1],location='top',anchor=(0.5,0.0),shrink=0.96)\n",
    "        cb = plt.colorbar(mesh, cax=cax,ticks=[np.linspace(umin, umax,8) ],format='%.2f',**kw)\n",
    "       \n",
    "    ax1.set_axis_bgcolor((205/255.0, 201/255.0, 201/255.0))\n",
    "    ax1.set_ylabel('Depth (m)')\n",
    "    ax1.text(0.7,0.1,'u (m/s)',transform=ax1.transAxes)\n",
    "\n",
    "# ACROSS-SHORE VELOCITY    \n",
    "def Plot2(t,ax2,VV):\n",
    "    vmin = -0.25\n",
    "    vmax = 0.25\n",
    "    Uplot=np.ma.array(VV.isel(Yp1=yind).data,mask=MaskC[:,yind,:])\n",
    "    csU = np.linspace(vmin,vmax,num=20)\n",
    "    csU2 = np.linspace(vmin,vmax,num=10)\n",
    "    ax2.clear()\n",
    "    #mesh=ax2.contourf(grid.X/1000,grid.Z[:47],Uplot[:47,:],csU,cmap='RdYlBu_r') # full shelf\n",
    "    mesh=ax2.contourf(grid.X[120:240]/1000,grid.Z[:47],Uplot[:47,120:240],csU,cmap='RdYlBu_r') # canyon zoom\n",
    "    \n",
    "    if t == 1:    \n",
    "        cax,kw = mpl.colorbar.make_axes([ax2],location='top',anchor=(0.5,0.0),shrink=0.96)\n",
    "        cb = plt.colorbar(mesh, cax=cax,ticks=[np.linspace(vmin,vmax,8) ],format='%.2f',**kw)\n",
    "        \n",
    "    ax2.set_axis_bgcolor((205/255.0, 201/255.0, 201/255.0))\n",
    "    ax2.text(0.7,0.1,'v (m/s)',transform=ax2.transAxes)\n",
    "\n",
    "# VERTICAL VELOCITY    \n",
    "def Plot3(t,ax3):    \n",
    "    wmin = -3.0\n",
    "    wmax = 3.0\n",
    "    Uplot=np.ma.array(state.W.isel(T=t,Y=yind).data,mask=MaskC[:,yind,:])\n",
    "    csU = np.linspace(wmin,wmax,num=20)\n",
    "    csU2 = np.linspace(wmin,wmax,num=10)\n",
    "    ax3.clear()\n",
    "    #mesh=ax3.contourf(grid.X/1000,grid.Z[:47],Uplot[:47,:]*1000,csU,cmap='RdYlBu_r')\n",
    "    mesh=ax3.contourf(grid.X[120:240]/1000,grid.Z[:47],Uplot[:47,120:240]*1000,csU,cmap='RdYlBu_r')\n",
    "    \n",
    "    if t == 1:    \n",
    "        cax,kw = mpl.colorbar.make_axes([ax3],location='top',anchor=(0.5,0.0),shrink=0.96)\n",
    "        cb = plt.colorbar(mesh, cax=cax,ticks=[np.linspace(wmin,wmax,8) ],format='%.1f',**kw)\n",
    "        \n",
    "    ax3.set_axis_bgcolor((205/255.0, 201/255.0, 201/255.0))\n",
    "    ax3.text(0.6,0.1,'w ($10^{-3}$ m/s)',transform=ax3.transAxes)\n",
    "    props = dict(boxstyle='round', facecolor='white', alpha=0.5)\n",
    "    ax3.text(1.05,0.86,'day %0.1f' %(t/2.0),fontsize=20,transform=ax3.transAxes,bbox=props)\n",
    "\n",
    "# ISOPYCNALS\n",
    "def Plot4(t,ax4):\n",
    "    rho_min = 1020.4-1000 # 1020.4\n",
    "    rho_max = 1021.9-1000 # 1022.4 if y=230,1021.4 if y=260,1021.9 if y=245\n",
    "    density = call_rho(t)\n",
    "    csU = np.linspace(rho_min,rho_max,num=21) #21\n",
    "    csU2 = np.linspace(rho_min,rho_max,num=31) #31\n",
    "    ax4.clear()\n",
    "    #mesh=ax4.contourf(grid.X/1000,grid.Z[:47],\n",
    "    #                   np.ma.array(density[:47,:].data,mask=MaskC[:47,yind,:]),\n",
    "    #                  csU,cmap='inferno')\n",
    "    mesh=ax4.contourf(grid.X[120:240]/1000,grid.Z[:47],\n",
    "                      np.ma.array(density[:47,120:240].data,mask=MaskC[:47,yind,120:240])-1000,\n",
    "                      csU,cmap='inferno')\n",
    "    \n",
    "    if t == 1:\n",
    "        cax,kw = mpl.colorbar.make_axes([ax4],location='top',anchor=(0.5,0),shrink=0.96)\n",
    "        cb = plt.colorbar(mesh, cax=cax,ticks=[np.linspace(rho_min,rho_max,6) ],format='%.1f',**kw)\n",
    "        \n",
    "    #CS = ax4.contour(grid.X/1000,grid.Z[:47],\n",
    "    #                 np.ma.array(density[:47,:].data,mask=MaskC[:47,yind,:]),\n",
    "    #                 csU2,colors='k',linewidths=[0.75] )\n",
    "    CS = ax4.contour(grid.X[120:240]/1000,grid.Z[:47],\n",
    "                     np.ma.array(density[:47,120:240].data,mask=MaskC[:47,yind,120:240])-1000,\n",
    "                     csU2,colors='k',linewidths=[0.75] )\n",
    "    \n",
    "    ax4.set_axis_bgcolor((205/255.0, 201/255.0, 201/255.0))\n",
    "    ax4.text(0.6,0.1,r'$\\sigma$ (kg/m$^{3}$)',transform=ax4.transAxes)\n",
    "    ax4.set_ylabel('Depth (m)')\n",
    "    ax4.set_xlabel('Alongshore distance (km)')\n",
    "\n",
    "# TRACER    \n",
    "def Plot5(t,ax5):    \n",
    "    tr_min = 0\n",
    "    tr_max = 20 # 21 if y=230, 12 if y=260, 17 if y=245\n",
    "    csU = np.linspace(tr_min,tr_max,num=25)\n",
    "    csU2 = np.linspace(tr_min,tr_max,num=31)\n",
    "    ax5.clear()\n",
    "    #mesh=ax5.contourf(grid.X/1000,grid.Z[:47],\n",
    "    #                  np.ma.array(ptracers.Tr1[t,:47,yind,:].data,mask=MaskC[:47,yind,:]),\n",
    "    #                  csU,cmap='viridis')\n",
    "    mesh=ax5.contourf(grid.X[120:240]/1000,grid.Z[:47],\n",
    "                      np.ma.array(ptracers.Tr1[t,:47,yind,120:240].data,mask=MaskC[:47,yind,120:240]),\n",
    "                      csU,cmap='viridis')\n",
    "    \n",
    "    if t == 1:\n",
    "        cax,kw = mpl.colorbar.make_axes([ax5],location='top',anchor=(0.5,0),shrink=0.96)\n",
    "        cb = plt.colorbar(mesh, cax=cax,ticks=[np.linspace(tr_min,tr_max,9) ],format='%.1f',**kw)\n",
    "        \n",
    "    #CS = ax5.contour(grid.X/1000,grid.Z[:47],\n",
    "    #                 np.ma.array(ptracers.Tr1[t,:47,yind,:].data,mask=MaskC[:47,yind,:]),\n",
    "    #                 csU2,colors='k',linewidths=[0.75] )\n",
    "    CS = ax5.contour(grid.X[120:240]/1000,grid.Z[:47],\n",
    "                     np.ma.array(ptracers.Tr1[t,:47,yind,120:240].data,mask=MaskC[:47,yind,120:240]),\n",
    "                     csU2,colors='k',linewidths=[0.75] )\n",
    "    ax5.set_axis_bgcolor((205/255.0, 201/255.0, 201/255.0))\n",
    "    ax5.text(0.6,0.1,'Tracer ($\\mu$mol/l)',transform=ax5.transAxes)\n",
    "    ax5.set_xlabel('Alongshore distance (km)')\n",
    "\n",
    "# VORTICITY\n",
    "def Plot6(t,ax6,UU,VV):\n",
    "    vort_min = -40\n",
    "    vort_max = 40\n",
    "    relvort = rel_vort(grid.XC.data,grid.YC.data,UU.data,VV.data)\n",
    "    Uplot=np.ma.array(relvort[:,yind-1,:],mask=MaskC[:,yind,1:-1])\n",
    "    csU = np.linspace(vort_min,vort_max,num=20)\n",
    "    csU2 = np.linspace(vort_min,vort_max,num=10)\n",
    "    ax6.clear()\n",
    "    #mesh=ax6.contourf(grid.X[1:-1]/1000,grid.Z[:47],Uplot[:47,:]*1E5,\n",
    "    #                  csU,\n",
    "    #                  cmap='PiYG_r')\n",
    "    mesh=ax6.contourf(grid.X[120:240]/1000,grid.Z[:47],Uplot[:47,120:240]*1E5,\n",
    "                      csU,\n",
    "                      cmap='PiYG_r')\n",
    "    \n",
    "    if t == 1:    \n",
    "        cax,kw = mpl.colorbar.make_axes([ax6],location='top',anchor=(0.5,0.0),shrink=0.96)\n",
    "        cb = plt.colorbar(mesh, cax=cax,\n",
    "                          ticks=[np.linspace(vort_min,vort_max,8) ],\n",
    "                          format='%.1f',**kw)\n",
    "        \n",
    "    ax6.set_axis_bgcolor((205/255.0, 201/255.0, 201/255.0))\n",
    "    ax6.text(0.6,0.1,'$\\zeta$ ($10^{-5}$ s$^{-1}$)',transform=ax6.transAxes)\n",
    "    ax6.set_xlabel('Alongshore distance (km)')\n",
    "    props = dict(boxstyle='round', facecolor='white', alpha=0.5)\n",
    "    ax6.text(1.05,0.1,'Near \\n mid-length',fontsize=15,transform=ax6.transAxes,bbox=props)\n",
    "    \n"
   ]
  },
  {
   "cell_type": "markdown",
   "metadata": {},
   "source": [
    "## Set-up"
   ]
  },
  {
   "cell_type": "code",
   "execution_count": 4,
   "metadata": {
    "collapsed": false
   },
   "outputs": [],
   "source": [
    "# Grid, state and tracers datasets of base case\n",
    "grid_file = '/ocean/kramosmu/MITgcm/TracerExperiments/CNTDIFF/run38/gridGlob.nc'\n",
    "grid = xr.open_dataset(grid_file)\n",
    "\n",
    "state_file = '/ocean/kramosmu/MITgcm/TracerExperiments/CNTDIFF/run38/stateGlob.nc' \n",
    "state = xr.open_dataset(state_file)\n",
    "\n",
    "ptracers_file = '/ocean/kramosmu/MITgcm/TracerExperiments/CNTDIFF/run38/ptracersGlob.nc'\n",
    "ptracers = xr.open_dataset(ptracers_file)\n",
    "\n",
    "#RhoRef = np.squeeze(rdmds('/ocean/kramosmu/MITgcm/TracerExperiments/CNTDIFF/run38/RhoRef'))\n",
    "RhoRef = 999.79998779 # It is constant in all my runs, can't run rdmds"
   ]
  },
  {
   "cell_type": "code",
   "execution_count": 5,
   "metadata": {
    "collapsed": false
   },
   "outputs": [],
   "source": [
    "# General input\n",
    "nx = 360\n",
    "ny = 360\n",
    "nz = 90\n",
    "nt = 19 # t dimension size \n",
    "\n",
    "yind = 245 # y index for alongshore cross-section\n",
    "\n",
    "hFacmasked = np.ma.masked_values(grid.HFacC.data, 0)\n",
    "MaskC = np.ma.getmask(hFacmasked)\n",
    "    \n",
    "    "
   ]
  },
  {
   "cell_type": "code",
   "execution_count": 8,
   "metadata": {
    "collapsed": false
   },
   "outputs": [
    {
     "name": "stdout",
     "output_type": "stream",
     "text": [
      "['avconv', 'imagemagick', 'imagemagick_file', 'avconv_file']\n"
     ]
    }
   ],
   "source": [
    "import matplotlib.animation as animation\n",
    "print(animation.writers.list())"
   ]
  },
  {
   "cell_type": "code",
   "execution_count": 7,
   "metadata": {
    "collapsed": false
   },
   "outputs": [
    {
     "ename": "KeyError",
     "evalue": "'ffmpeg'",
     "output_type": "error",
     "traceback": [
      "\u001b[0;31m---------------------------------------------------------------------------\u001b[0m",
      "\u001b[0;31mKeyError\u001b[0m                                  Traceback (most recent call last)",
      "\u001b[0;32m<ipython-input-7-204ff4542c31>\u001b[0m in \u001b[0;36m<module>\u001b[0;34m()\u001b[0m\n\u001b[1;32m     31\u001b[0m \u001b[0;34m\u001b[0m\u001b[0m\n\u001b[1;32m     32\u001b[0m \u001b[0;34m\u001b[0m\u001b[0m\n\u001b[0;32m---> 33\u001b[0;31m \u001b[0mWriter\u001b[0m \u001b[0;34m=\u001b[0m \u001b[0manimation\u001b[0m\u001b[0;34m.\u001b[0m\u001b[0mwriters\u001b[0m\u001b[0;34m[\u001b[0m\u001b[0;34m'ffmpeg'\u001b[0m\u001b[0;34m]\u001b[0m\u001b[0;34m\u001b[0m\u001b[0m\n\u001b[0m\u001b[1;32m     34\u001b[0m \u001b[0mwriter\u001b[0m \u001b[0;34m=\u001b[0m \u001b[0mWriter\u001b[0m\u001b[0;34m(\u001b[0m\u001b[0mfps\u001b[0m\u001b[0;34m=\u001b[0m\u001b[0;36m1\u001b[0m\u001b[0;34m,\u001b[0m \u001b[0mmetadata\u001b[0m\u001b[0;34m=\u001b[0m\u001b[0mdict\u001b[0m\u001b[0;34m(\u001b[0m\u001b[0martist\u001b[0m\u001b[0;34m=\u001b[0m\u001b[0;34m'Me'\u001b[0m\u001b[0;34m)\u001b[0m\u001b[0;34m,\u001b[0m \u001b[0mbitrate\u001b[0m\u001b[0;34m=\u001b[0m\u001b[0;36m1800\u001b[0m\u001b[0;34m)\u001b[0m\u001b[0;34m\u001b[0m\u001b[0m\n\u001b[1;32m     35\u001b[0m \u001b[0;34m\u001b[0m\u001b[0m\n",
      "\u001b[0;32m/home/kramosmu/anaconda3/lib/python3.5/site-packages/matplotlib/animation.py\u001b[0m in \u001b[0;36m__getitem__\u001b[0;34m(self, name)\u001b[0m\n\u001b[1;32m     88\u001b[0m         \u001b[0;32mif\u001b[0m \u001b[0;32mnot\u001b[0m \u001b[0mself\u001b[0m\u001b[0;34m.\u001b[0m\u001b[0mavail\u001b[0m\u001b[0;34m:\u001b[0m\u001b[0;34m\u001b[0m\u001b[0m\n\u001b[1;32m     89\u001b[0m             \u001b[0;32mraise\u001b[0m \u001b[0mRuntimeError\u001b[0m\u001b[0;34m(\u001b[0m\u001b[0;34m\"No MovieWriters available!\"\u001b[0m\u001b[0;34m)\u001b[0m\u001b[0;34m\u001b[0m\u001b[0m\n\u001b[0;32m---> 90\u001b[0;31m         \u001b[0;32mreturn\u001b[0m \u001b[0mself\u001b[0m\u001b[0;34m.\u001b[0m\u001b[0mavail\u001b[0m\u001b[0;34m[\u001b[0m\u001b[0mname\u001b[0m\u001b[0;34m]\u001b[0m\u001b[0;34m\u001b[0m\u001b[0m\n\u001b[0m\u001b[1;32m     91\u001b[0m \u001b[0;34m\u001b[0m\u001b[0m\n\u001b[1;32m     92\u001b[0m \u001b[0mwriters\u001b[0m \u001b[0;34m=\u001b[0m \u001b[0mMovieWriterRegistry\u001b[0m\u001b[0;34m(\u001b[0m\u001b[0;34m)\u001b[0m\u001b[0;34m\u001b[0m\u001b[0m\n",
      "\u001b[0;31mKeyError\u001b[0m: 'ffmpeg'"
     ]
    }
   ],
   "source": [
    "sns.set_style('white')\n",
    "sns.set_context(\"talk\")\n",
    "\n",
    "#Empty figures\n",
    "fig,((ax1,ax2,ax3),(ax4, ax5,ax6)) = plt.subplots(2, 3, figsize=(15, 8),sharex='col', sharey='row')\n",
    "plt.subplots_adjust(hspace =0.1, wspace=0.1)\n",
    "\n",
    "#Initial image\n",
    "def init():\n",
    "    UU,VV = call_unstag(0)\n",
    "    Plot1(0,ax1,UU)\n",
    "    Plot2(0,ax2,VV)\n",
    "    Plot3(0,ax3)\n",
    "    Plot4(0,ax4)\n",
    "    Plot5(0,ax5)\n",
    "    Plot6(0,ax6,UU,VV)\n",
    "    #plt.tight_layout()\n",
    "    \n",
    "def animate(tt):\n",
    "    UU,VV = call_unstag(tt)\n",
    "    Plot1(tt,ax1,UU)\n",
    "    Plot2(tt,ax2,VV)\n",
    "    Plot3(tt,ax3)\n",
    "    Plot4(tt,ax4)\n",
    "    Plot5(tt,ax5)\n",
    "    Plot6(tt,ax6,UU,VV)\n",
    "    xticklabels = ax1.get_xticklabels() + ax2.get_xticklabels() + ax3.get_xticklabels()\n",
    "    plt.setp(xticklabels, visible=False)\n",
    "    yticklabels = ax2.get_yticklabels() + ax3.get_yticklabels() + ax5.get_yticklabels() + ax6.get_yticklabels()\n",
    "    plt.setp(yticklabels, visible=False)\n",
    "\n",
    "\n",
    "Writer = animation.writers['ffmpeg']\n",
    "writer = Writer(fps=1, metadata=dict(artist='Me'), bitrate=1800)\n",
    "\n",
    "\n",
    "anim = animation.FuncAnimation(fig, animate, init_func=init,frames=19,repeat=False)\n",
    "anim.save('3DVISC_run06__alongshore_section_y245_ZOOM.mp4', writer=writer)\n",
    "\n",
    "plt.show()\n",
    "\n"
   ]
  },
  {
   "cell_type": "code",
   "execution_count": null,
   "metadata": {
    "collapsed": true
   },
   "outputs": [],
   "source": []
  }
 ],
 "metadata": {
  "anaconda-cloud": {},
  "kernelspec": {
   "display_name": "Python [conda root]",
   "language": "python",
   "name": "conda-root-py"
  },
  "language_info": {
   "codemirror_mode": {
    "name": "ipython",
    "version": 3
   },
   "file_extension": ".py",
   "mimetype": "text/x-python",
   "name": "python",
   "nbconvert_exporter": "python",
   "pygments_lexer": "ipython3",
   "version": "3.5.2"
  }
 },
 "nbformat": 4,
 "nbformat_minor": 0
}
