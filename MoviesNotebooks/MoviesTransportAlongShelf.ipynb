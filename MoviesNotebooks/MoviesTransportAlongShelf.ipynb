{
 "cells": [
  {
   "cell_type": "markdown",
   "metadata": {},
   "source": [
    "### Movies for Along Shelf Flux "
   ]
  },
  {
   "cell_type": "code",
   "execution_count": 1,
   "metadata": {
    "collapsed": true
   },
   "outputs": [],
   "source": [
    "#KRM\n",
    "\n",
    "import numpy as np\n",
    "\n",
    "import matplotlib.pyplot as plt\n",
    "\n",
    "import matplotlib.colors as mcolors\n",
    "\n",
    "import matplotlib as mpl\n",
    "#%matplotlib inline\n",
    "from math import *\n",
    "\n",
    "import scipy.io\n",
    "\n",
    "import scipy as spy\n",
    "\n",
    "from netCDF4 import Dataset\n",
    "\n",
    "import pylab as pl\n",
    "\n",
    "import os \n",
    "\n",
    "import sys\n",
    "\n",
    "import seaborn as sns"
   ]
  },
  {
   "cell_type": "code",
   "execution_count": 2,
   "metadata": {
    "collapsed": true
   },
   "outputs": [],
   "source": [
    "lib_path = os.path.abspath('../../Building_canyon/BuildCanyon/PythonModulesMITgcm') # Add absolute path to my python scripts\n",
    "sys.path.append(lib_path)\n",
    "\n",
    "import ReadOutTools_MITgcm as rout \n"
   ]
  },
  {
   "cell_type": "code",
   "execution_count": 3,
   "metadata": {
    "collapsed": true
   },
   "outputs": [],
   "source": [
    "def vTracAlong(Mask,V,zlim=30, ylim=230):\n",
    "    '''MaskC : mask corresponding to '''\n",
    "    mask_expand2 = np.expand_dims(Mask[:zlim,ylim,:],0)\n",
    "    mask_expand2 = mask_expand2 + np.zeros(V[:,:zlim,ylim,:].shape)\n",
    "\n",
    "    VTRACbox= np.ma.masked_array(V[:,:zlim,ylim,:],mask = mask_expand2)\n",
    "    return(VTRACbox)\n",
    "\n"
   ]
  },
  {
   "cell_type": "code",
   "execution_count": 4,
   "metadata": {
    "collapsed": false
   },
   "outputs": [],
   "source": [
    "NoCCanyonGrid='/ocean/kramosmu/MITgcm/TracerExperiments/CNTDIFF/run07/gridGlob.nc'\n",
    "NoCCanyonGridOut = Dataset(NoCCanyonGrid)\n",
    "\n",
    "NoCCanyonState='/ocean/kramosmu/MITgcm/TracerExperiments/CNTDIFF/run07/stateGlob.nc'\n",
    "NoCCanyonStateOut = Dataset(NoCCanyonState)\n",
    "\n",
    "FluxTR01NoC = '/ocean/kramosmu/MITgcm/TracerExperiments/CNTDIFF/run07/FluxTR01Glob.nc'\n",
    "NoCFluxOut = Dataset(FluxTR01NoC)\n",
    "\n",
    "CanyonGrid='/ocean/kramosmu/MITgcm/TracerExperiments/CNTDIFF/run03/gridGlob.nc' # this has a canyon but calling it no canyon to use old code\n",
    "CanyonGridOut = Dataset(CanyonGrid)\n",
    "\n",
    "CanyonState='/ocean/kramosmu/MITgcm/TracerExperiments/CNTDIFF/run03/stateGlob.nc'\n",
    "CanyonStateOut = Dataset(CanyonState)\n",
    "\n",
    "FluxTR01 = '/ocean/kramosmu/MITgcm/TracerExperiments/CNTDIFF/run03/FluxTR01Glob.nc'\n",
    "FluxOut = Dataset(FluxTR01)\n",
    "\n"
   ]
  },
  {
   "cell_type": "code",
   "execution_count": 5,
   "metadata": {
    "collapsed": false
   },
   "outputs": [],
   "source": [
    "#for dimobj in CanyonStateOut.variables.values():\n",
    "#    print dimobj"
   ]
  },
  {
   "cell_type": "code",
   "execution_count": 6,
   "metadata": {
    "collapsed": true
   },
   "outputs": [],
   "source": [
    "# General input\n",
    "\n",
    "nx = 360\n",
    "ny = 360\n",
    "nz = 90\n",
    "nt = 19 # t dimension size \n",
    "\n",
    "z = CanyonStateOut.variables['Z']\n",
    "Time = CanyonStateOut.variables['T']\n",
    "\n",
    "xc = rout.getField(CanyonGrid, 'XC') # x coords tracer cells\n",
    "yc = rout.getField(CanyonGrid, 'YC') # y coords tracer cells\n",
    "\n",
    "bathy = rout.getField(CanyonGrid, 'Depth')\n",
    "\n",
    "hFacC = rout.getField(CanyonGrid, 'HFacC')\n",
    "MaskC = rout.getMask(CanyonGrid, 'HFacC')\n",
    "MaskCNoC = rout.getMask(NoCCanyonGrid, 'HFacC')\n",
    "\n"
   ]
  },
  {
   "cell_type": "code",
   "execution_count": 7,
   "metadata": {
    "collapsed": false
   },
   "outputs": [],
   "source": [
    "VTR = rout.getField(FluxTR01,'VTRAC01') # \n",
    "UTR = rout.getField(FluxTR01,'UTRAC01') # \n",
    "UTRAC,VTRAC = rout.unstagger(UTR, VTR)\n",
    "\n",
    "VTR = rout.getField(FluxTR01NoC,'VTRAC01') # \n",
    "UTR = rout.getField(FluxTR01NoC,'UTRAC01') # \n",
    "UTRACNoC,VTRACNoC = rout.unstagger(UTR, VTR)\n",
    "\n",
    "#WTRAC = rout.getField(FluxTR01,'ADVrTr01') # \n",
    "#WTRACNoC = rout.getField(FluxTR01NoC,'ADVrTr01') # \n"
   ]
  },
  {
   "cell_type": "code",
   "execution_count": 8,
   "metadata": {
    "collapsed": false
   },
   "outputs": [],
   "source": [
    "CSbase = vTracAlong(MaskC,VTRAC,zlim=30,ylim=230)*1000.0\n",
    "CSbaseNoC = vTracAlong(MaskCNoC,VTRACNoC,zlim=30,ylim=230)*1000.0\n",
    "Anom = (CSbase-CSbaseNoC)"
   ]
  },
  {
   "cell_type": "code",
   "execution_count": 9,
   "metadata": {
    "collapsed": false
   },
   "outputs": [
    {
     "name": "stdout",
     "output_type": "stream",
     "text": [
      "(-711.20728, 757.87689)\n",
      "(-37.202591, 273.61804)\n",
      "(-934.50385, 591.75635)\n"
     ]
    }
   ],
   "source": [
    "minT = CSbase.min()\n",
    "maxT = CSbase.max()\n",
    "\n",
    "minTNoC = CSbaseNoC.min()\n",
    "maxTNoC = CSbaseNoC.max()\n",
    "\n",
    "minTAnom = Anom.min()\n",
    "maxTAnom = Anom.max()\n",
    "\n",
    "print(minT, maxT)\n",
    "print(minTNoC, maxTNoC)\n",
    "print(minTAnom,maxTAnom)\n"
   ]
  },
  {
   "cell_type": "code",
   "execution_count": 10,
   "metadata": {
    "collapsed": true
   },
   "outputs": [],
   "source": [
    "import matplotlib.animation as animation"
   ]
  },
  {
   "cell_type": "code",
   "execution_count": 11,
   "metadata": {
    "collapsed": false
   },
   "outputs": [],
   "source": [
    "sns.set()\n",
    "sns.set_style('white')\n",
    "sns.set_context(\"talk\")\n",
    "\n",
    "\n",
    "#divmap = sns.diverging_palette(255, 100, l=60, n=7, center=\"dark\", as_cmap=True)"
   ]
  },
  {
   "cell_type": "code",
   "execution_count": 26,
   "metadata": {
    "collapsed": false
   },
   "outputs": [],
   "source": [
    "def Plot1(t,ax1):\n",
    "    ax1.clear()\n",
    "    csU = np.linspace(-maxT,maxT,num=31)\n",
    "    Base = ax1.contourf(xc[230,:], z[:30],CSbase[t,:,:],csU,cmap='RdYlGn')\n",
    "    \n",
    "    if t == 1:    \n",
    "        cbar=plt.colorbar(Base,ax=ax1,ticks=[np.arange(-maxT,maxT,250)])\n",
    "        cbar.set_label('$ mol \\cdot m /l \\cdot s$')\n",
    "        \n",
    "    #CS = ax1.contour(yc[100:-1,200],z[:58],Uplot[:58,100:]/Umax,csU2,colors='k',linewidths=[0.75] )\n",
    "    ax1.set_axis_bgcolor((205/255.0, 201/255.0, 201/255.0))\n",
    "    ax1.set_xlabel('Along-shore distance [km]')\n",
    "    ax1.set_xticks([10000,20000,30000,40000,50000,60000,70000,80000,90000,100000,110000,120000])\n",
    "    ax1.set_xticklabels(['10','20','30','40', '50', '60', '70', '80','90','100','110','120'])\n",
    "    ax1.set_ylabel('Depth [m]')\n",
    "    ax1.set_title('Base case - Cross-shore transport at day %0.1f' %(t/2.0+0.5))\n",
    "\n",
    "def Plot2(t,ax2):\n",
    "    ax2.clear()\n",
    "    csU = np.linspace(-maxTNoC,maxTNoC,num=31)\n",
    "    Base = ax2.contourf(xc[230,:], z[:30],CSbaseNoC[t,:,:],csU,cmap='RdYlGn')\n",
    "    \n",
    "    if t == 1:    \n",
    "        cbar=plt.colorbar(Base,ax=ax2,ticks=[np.arange(-maxTNoC,maxTNoC,100)])\n",
    "        cbar.set_label('$mol \\cdot m /l \\cdot s$')\n",
    "        \n",
    "    #CS = ax1.contour(yc[100:-1,200],z[:58],Uplot[:58,100:]/Umax,csU2,colors='k',linewidths=[0.75] )\n",
    "    ax2.set_axis_bgcolor((205/255.0, 201/255.0, 201/255.0))\n",
    "    ax2.set_xlabel('Along-shore distance [km]')\n",
    "    ax2.set_xticks([10000,20000,30000,40000,50000,60000,70000,80000,90000,100000,110000,120000])\n",
    "    ax2.set_xticklabels(['10','20','30','40', '50', '60', '70', '80','90','100','110','120'])\n",
    "    ax2.set_ylabel('Depth [m]')\n",
    "    ax2.set_title('No canyon case')\n",
    "\n",
    "def Plot3(t,ax3):\n",
    "    ax3.clear()\n",
    "    csU = np.linspace(minTAnom,-minTAnom,num=31)\n",
    "    Base = ax3.contourf(xc[230,:], z[:30],Anom[t,:,:],csU,cmap='RdYlBu')\n",
    "    \n",
    "    if t == 1:    \n",
    "        cbar=plt.colorbar(Base,ax=ax3,ticks=[np.arange(minTAnom,-minTAnom,250)])\n",
    "        cbar.set_label('$mol \\cdot m /l \\cdot s$')\n",
    "        \n",
    "    #CS = ax3.contour(yc[100:-1,200],z[:58],Uplot[:58,100:]/Umax,csU2,colors='k',linewidths=[0.75] )\n",
    "    ax3.set_axis_bgcolor((205/255.0, 201/255.0, 201/255.0))\n",
    "    ax3.set_xlabel('Along-shore distance [km]')\n",
    "    ax3.set_xticks([10000,20000,30000,40000,50000,60000,70000,80000,90000,100000,110000,120000])\n",
    "    ax3.set_xticklabels(['10','20','30','40', '50', '60', '70', '80','90','100','110','120'])\n",
    "    ax3.set_ylabel('Depth [m]')\n",
    "    ax3.set_title('Difference')\n",
    "\n",
    "\n"
   ]
  },
  {
   "cell_type": "code",
   "execution_count": 28,
   "metadata": {
    "collapsed": false
   },
   "outputs": [],
   "source": [
    "## Animation\n",
    "#N=5\n",
    "xslice=180\n",
    "yslice=235\n",
    "zslice= 29 # shelf break index\n",
    "zslice2= 23 \n",
    "\n",
    "#Empty figures\n",
    "fig,((ax1),(ax2),(ax3))  = plt.subplots(3, 1)\n",
    "\n",
    "#Initial image\n",
    "def init():\n",
    "    Plot1(0,ax1)\n",
    "    Plot2(0,ax2)\n",
    "    Plot3(0,ax3)\n",
    "    \n",
    "    plt.tight_layout()\n",
    "    #return[ax1,ax2,ax3,ax4,ax5,ax6,ax7,ax8,ax9]\n",
    "    \n",
    "\n",
    "def animate(tt):\n",
    "    Plot1(tt,ax1)\n",
    "    Plot2(tt,ax2)\n",
    "    Plot3(tt,ax3)\n",
    "    plt.tight_layout()\n",
    "#The animation function (max frames=47)   \n",
    "\n",
    "\n",
    "anim = animation.FuncAnimation(fig, animate, init_func=init,frames=18, interval = 200,blit=False, repeat=False)\n",
    "\n",
    "##A line that makes it all work\n",
    "mywriter = animation.FFMpegWriter()\n",
    "\n",
    "##Save in current folder\n",
    "anim.save('TransportAlongTr01_Base_and_NoC.mp4',writer=mywriter,fps=0.2, dpi = 200, bitrate = 1000000, codec = \"libx264\")\n",
    "\n",
    "plt.show()\n",
    "\n"
   ]
  },
  {
   "cell_type": "code",
   "execution_count": null,
   "metadata": {
    "collapsed": false
   },
   "outputs": [],
   "source": [
    "\n",
    "\n"
   ]
  },
  {
   "cell_type": "code",
   "execution_count": null,
   "metadata": {
    "collapsed": true
   },
   "outputs": [],
   "source": []
  }
 ],
 "metadata": {
  "kernelspec": {
   "display_name": "Python 2",
   "language": "python",
   "name": "python2"
  },
  "language_info": {
   "codemirror_mode": {
    "name": "ipython",
    "version": 2
   },
   "file_extension": ".py",
   "mimetype": "text/x-python",
   "name": "python",
   "nbconvert_exporter": "python",
   "pygments_lexer": "ipython2",
   "version": "2.7.9"
  }
 },
 "nbformat": 4,
 "nbformat_minor": 0
}
