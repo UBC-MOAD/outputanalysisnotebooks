{
 "cells": [
  {
   "cell_type": "markdown",
   "metadata": {},
   "source": [
    "### Movies for vorticity - Aids to visualize the flow"
   ]
  },
  {
   "cell_type": "code",
   "execution_count": 1,
   "metadata": {
    "collapsed": true
   },
   "outputs": [],
   "source": [
    "#KRM\n",
    "\n",
    "import numpy as np\n",
    "\n",
    "import matplotlib.pyplot as plt\n",
    "\n",
    "import matplotlib.colors as mcolors\n",
    "\n",
    "import matplotlib as mpl\n",
    "#%matplotlib inline\n",
    "from math import *\n",
    "\n",
    "import scipy.io\n",
    "\n",
    "import scipy as spy\n",
    "\n",
    "from netCDF4 import Dataset\n",
    "\n",
    "import pylab as pl\n",
    "\n",
    "import os \n",
    "\n",
    "import sys\n",
    "\n",
    "import seaborn as sns"
   ]
  },
  {
   "cell_type": "code",
   "execution_count": 2,
   "metadata": {
    "collapsed": true
   },
   "outputs": [],
   "source": [
    "lib_path = os.path.abspath('../../Building_canyon/BuildCanyon/PythonModulesMITgcm') # Add absolute path to my python scripts\n",
    "sys.path.append(lib_path)\n",
    "\n",
    "import ReadOutTools_MITgcm as rout \n"
   ]
  },
  {
   "cell_type": "code",
   "execution_count": 90,
   "metadata": {
    "collapsed": true
   },
   "outputs": [],
   "source": [
    "CanyonGrid='/ocean/kramosmu/MITgcm/TracerExperiments/3DDIFF/run02/gridGlob.nc'\n",
    "CanyonGridOut = Dataset(CanyonGrid)\n",
    "\n",
    "CanyonState='/ocean/kramosmu/MITgcm/TracerExperiments/3DDIFF/run02/stateGlob.nc'\n",
    "CanyonStateOut = Dataset(CanyonState)\n",
    "\n"
   ]
  },
  {
   "cell_type": "code",
   "execution_count": 91,
   "metadata": {
    "collapsed": false
   },
   "outputs": [],
   "source": [
    "#for dimobj in CanyonStateOut.variables.values():\n",
    "#    print dimobj"
   ]
  },
  {
   "cell_type": "code",
   "execution_count": 92,
   "metadata": {
    "collapsed": true
   },
   "outputs": [],
   "source": [
    "# General input\n",
    "\n",
    "nx = 360\n",
    "ny = 360\n",
    "nz = 90\n",
    "nt = 19 # t dimension size \n",
    "\n",
    "z = CanyonStateOut.variables['Z']\n",
    "Time = CanyonStateOut.variables['T']\n",
    "\n",
    "xc = rout.getField(CanyonGrid, 'XC') # x coords tracer cells\n",
    "yc = rout.getField(CanyonGrid, 'YC') # y coords tracer cells\n",
    "\n",
    "bathy = rout.getField(CanyonGrid, 'Depth')\n",
    "\n",
    "hFacC = rout.getField(CanyonGrid, 'HFacC')\n",
    "MaskC = rout.getMask(CanyonGrid, 'HFacC')\n",
    "\n",
    "hFacW = rout.getField(CanyonGrid, 'HFacW') # (Z,Y,Xp1) for zonal fluxes\n",
    "MaskW = rout.getMask(CanyonGrid,'HFacW') \n",
    "\n",
    "hFacS = rout.getField(CanyonGrid, 'HFacS') # (Z,Yp1,X) for meridional fluxes\n",
    "MaskS = rout.getMask(CanyonGrid,'HFacS') \n"
   ]
  },
  {
   "cell_type": "code",
   "execution_count": 93,
   "metadata": {
    "collapsed": false
   },
   "outputs": [],
   "source": [
    "# Load velocity components\n",
    "uu = rout.getField(CanyonState,'U')\n",
    "vv = rout.getField(CanyonState,'V')\n",
    "\n",
    "U,V = rout.unstagger(uu,vv)"
   ]
  },
  {
   "cell_type": "code",
   "execution_count": 94,
   "metadata": {
    "collapsed": false
   },
   "outputs": [
    {
     "name": "stdout",
     "output_type": "stream",
     "text": [
      "(0.45190895, -0.15401502)\n",
      "(0.1515148, -0.16446754)\n"
     ]
    }
   ],
   "source": [
    "print(np.max(uu), np.min(uu))\n",
    "print(np.max(vv), np.min(vv))\n",
    "\n",
    "Umax = np.max(uu)"
   ]
  },
  {
   "cell_type": "code",
   "execution_count": 95,
   "metadata": {
    "collapsed": true
   },
   "outputs": [],
   "source": [
    "import matplotlib.animation as animation"
   ]
  },
  {
   "cell_type": "code",
   "execution_count": 96,
   "metadata": {
    "collapsed": false
   },
   "outputs": [],
   "source": [
    "sns.set()\n",
    "sns.set_style('white')\n",
    "sns.set_context(\"talk\")\n",
    "#spdcmap = sns.cubehelix_palette(light=1, as_cmap=True)\n",
    "spdcmap = 'RdYlGn_r'"
   ]
  },
  {
   "cell_type": "code",
   "execution_count": 97,
   "metadata": {
    "collapsed": true
   },
   "outputs": [],
   "source": [
    "def rel_vort(x,y,u,v):\n",
    "    \"\"\"-----------------------------------------------------------------------------\n",
    "    rel_vort calculates the z component of relative vorticity.\n",
    "    \n",
    "    INPUT:\n",
    "    x,y,u,v should be at least 2D arrays in coordinate order (..., Y , X ) \n",
    "    \n",
    "    OUTPUT:\n",
    "    relvort - z-relative vorticity array of size u[...,2:-2,2:-2]\n",
    "    -----------------------------------------------------------------------------\"\"\"\n",
    "    \n",
    "    dvdx = (v[...,1:-1, 2:]-v[...,1:-1, :-2])/(x[...,1:-1, 2:]-x[...,1:-1, :-2])\n",
    "    dudy = (u[...,2:, 1:-1]-u[..., :-2,1:-1])/(y[..., 2:,1:-1]-y[..., :-2,1:-1])\n",
    "    relvort = dvdx - dudy\n",
    "    return relvort"
   ]
  },
  {
   "cell_type": "code",
   "execution_count": 98,
   "metadata": {
    "collapsed": false
   },
   "outputs": [],
   "source": [
    "def Plot1(t,ax1):    \n",
    "    uplane = np.ma.array(U[t,zslice1,:,1:],mask=MaskC[zslice1,1:,1:])\n",
    "    vplane = np.ma.array(V[t,zslice1,1:,:],mask=MaskC[zslice1,1:,1:])\n",
    "    vort = rel_vort(xc[1:,1:],yc[1:,1:],uplane,vplane)\n",
    "    csSpd = np.linspace(-0.00034,0.00034,num=25)\n",
    "    ax1.clear()\n",
    "    mesh=ax1.contourf(xc[145+1:265+1,2:-1],yc[145+1:265+1,2:-1],vort[145:265,:],csSpd,cmap=spdcmap)\n",
    "    if t == 1:\n",
    "        cbar=plt.colorbar(mesh,ax=ax1)\n",
    "    CS = ax1.contour(xc[145:265,1:],yc[145:265,1:],bathy[145:265,1:],[147],colors='k',linewidths=[2.0] )\n",
    "    vect = ax1.quiver(xc[145:265:5, 1::20], yc[145:265:5, 1::20], uplane[145:265:5, ::20]/Umax, vplane[145:265:5, ::20]/Umax\n",
    "                      , color='k')\n",
    "    \n",
    "    ax1.set_axis_bgcolor((205/255.0, 201/255.0, 201/255.0))\n",
    "    ax1.set_xlabel('Alongshore distance [km]')\n",
    "    ax1.set_xticks([20000,40000,60000,80000,100000])\n",
    "    ax1.set_xticklabels(['20', '40', '60', '80', '100'])\n",
    "    ax1.set_ylabel('Across-shore distance [km]')\n",
    "    ax1.set_yticks([40000,45000,50000,55000])\n",
    "    ax1.set_yticklabels(['40', '45', '50', '55'])\n",
    "    ax1.set_title('Relative vorticity at %0.2f m , day %0.1f' %(z[zslice1], (t/2.0)))\n",
    "\n",
    "def Plot2(t,ax2):    \n",
    "    uplane = np.ma.array(U[t,zslice2,:,1:],mask=MaskC[zslice2,1:,1:])\n",
    "    vplane = np.ma.array(V[t,zslice2,1:,:],mask=MaskC[zslice2,1:,1:])\n",
    "    vort = rel_vort(xc[1:,1:],yc[1:,1:],uplane,vplane)\n",
    "    csSpd = np.linspace(-0.00034,0.00034,num=25)\n",
    "    ax2.clear()\n",
    "    mesh=ax2.contourf(xc[145+1:265+1,2:-1],yc[145+1:265+1,2:-1],vort[145:265,:],csSpd,cmap=spdcmap)\n",
    "    if t == 1:\n",
    "        cbar=plt.colorbar(mesh,ax=ax2)\n",
    "    CS = ax2.contour(xc[145:265,1:],yc[145:265,1:],bathy[145:265,1:],[147],colors='k',linewidths=[2.0] )\n",
    "    vect = ax2.quiver(xc[145:265:5, 1::20], yc[145:265:5, 1::20], uplane[145:265:5, ::20]/Umax, vplane[145:265:5, ::20]/Umax\n",
    "                      , color='k')\n",
    "    \n",
    "    ax2.set_axis_bgcolor((205/255.0, 201/255.0, 201/255.0))\n",
    "    ax2.set_xlabel('Alongshore distance [km]')\n",
    "    ax2.set_xticks([20000,40000,60000,80000,100000])\n",
    "    ax2.set_xticklabels(['20', '40', '60', '80', '100'])\n",
    "    ax2.set_ylabel('Across-shore distance [km]')\n",
    "    ax2.set_yticks([40000,45000,50000,55000])\n",
    "    ax2.set_yticklabels(['40', '45', '50', '55'])\n",
    "    ax2.set_title('Relative vorticity at %0.2f m' %z[zslice2])\n",
    "\n",
    "def Plot3(t,ax3):    \n",
    "    uplane = np.ma.array(U[t,zslice3,:,1:],mask=MaskC[zslice3,1:,1:])\n",
    "    vplane = np.ma.array(V[t,zslice3,1:,:],mask=MaskC[zslice3,1:,1:])\n",
    "    vort = rel_vort(xc[1:,1:],yc[1:,1:],uplane,vplane)\n",
    "    csSpd = np.linspace(-0.00035,0.00035,num=25)\n",
    "    ax3.clear()\n",
    "    mesh=ax3.contourf(xc[145+1:265+1,2:-1],yc[145+1:265+1,2:-1],vort[145:265,:],csSpd,cmap=spdcmap)\n",
    "    if t == 1:\n",
    "        cbar=plt.colorbar(mesh,ax=ax3)\n",
    "    CS = ax3.contour(xc[145:265,1:],yc[145:265,1:],bathy[145:265,1:],[147],colors='k',linewidths=[2.0] )\n",
    "    vect = ax3.quiver(xc[145:265:5, 1::20], yc[145:265:5, 1::20], uplane[145:265:5, ::20]/Umax, vplane[145:265:5, ::20]/Umax\n",
    "                      , color='k')\n",
    "    \n",
    "    ax3.set_axis_bgcolor((205/255.0, 201/255.0, 201/255.0))\n",
    "    ax3.set_xlabel('Alongshore distance [km]')\n",
    "    ax3.set_xticks([20000,40000,60000,80000,100000])\n",
    "    ax3.set_xticklabels(['20', '40', '60', '80', '100'])\n",
    "    ax3.set_ylabel('Across-shore distance [km]')\n",
    "    ax3.set_yticks([40000,45000,50000,55000])\n",
    "    ax3.set_yticklabels(['40', '45', '50', '55'])\n",
    "    ax3.set_title('Relative vorticity at %0.2f m' %z[zslice3])\n",
    "\n",
    "def Plot4(t,ax4):    \n",
    "    uplane = np.ma.array(U[t,zslice4,:,1:],mask=MaskC[zslice4,1:,1:])\n",
    "    vplane = np.ma.array(V[t,zslice4,1:,:],mask=MaskC[zslice4,1:,1:])\n",
    "    vort = rel_vort(xc[1:,1:],yc[1:,1:],uplane,vplane)\n",
    "    csSpd = np.linspace(-0.00034,0.00034,num=25)\n",
    "    ax4.clear()\n",
    "    mesh=ax4.contourf(xc[145+1:265+1,2:-1],yc[145+1:265+1,2:-1],vort[145:265,:],csSpd,cmap=spdcmap)\n",
    "    if t == 1:\n",
    "        cbar=plt.colorbar(mesh,ax=ax4)\n",
    "    CS = ax4.contour(xc[145:265,1:],yc[145:265,1:],bathy[145:265,1:],[147],colors='k',linewidths=[2.0] )\n",
    "    vect = ax4.quiver(xc[145:265:5, 1::20], yc[145:265:5, 1::20], uplane[145:265:5, ::20]/Umax, vplane[145:265:5, ::20]/Umax\n",
    "                      , color='k')\n",
    "    \n",
    "    ax4.set_axis_bgcolor((205/255.0, 201/255.0, 201/255.0))\n",
    "    ax4.set_xlabel('Alongshore distance [km]')\n",
    "    ax4.set_xticks([20000,40000,60000,80000,100000])\n",
    "    ax4.set_xticklabels(['20', '40', '60', '80', '100'])\n",
    "    ax4.set_ylabel('Across-shore distance [km]')\n",
    "    ax4.set_yticks([40000,45000,50000,55000])\n",
    "    ax4.set_yticklabels(['40', '45', '50', '55'])\n",
    "    ax4.set_title('Relative vorticity at %0.2f m' %z[zslice4])\n"
   ]
  },
  {
   "cell_type": "code",
   "execution_count": 99,
   "metadata": {
    "collapsed": false
   },
   "outputs": [],
   "source": [
    "## Animation\n",
    "#N=5\n",
    "xslice=180\n",
    "yslice=235\n",
    "zslice1= 15 \n",
    "zslice2= 24 \n",
    "zslice3= 29 # shelf break index\n",
    "zslice4= 33 \n",
    "\n",
    "#Empty figures\n",
    "fig,((ax1,ax2),(ax3, ax4))= plt.subplots(2, 2, figsize=(18, 12))\n",
    "\n",
    "#Initial image\n",
    "def init():\n",
    "    Plot1(0,ax1)\n",
    "    Plot2(0,ax2)\n",
    "    Plot3(0,ax3)\n",
    "    Plot4(0,ax4)\n",
    "    \n",
    "    \n",
    "    plt.tight_layout()\n",
    "    #return[ax1,ax2,ax3,ax4,ax5,ax6,ax7,ax8,ax9]\n",
    "    \n",
    "\n",
    "def animate(tt):\n",
    "    Plot1(tt,ax1)\n",
    "    Plot2(tt,ax2)\n",
    "    Plot3(tt,ax3)\n",
    "    Plot4(tt,ax4)\n",
    "    \n",
    "    \n",
    "    plt.tight_layout()\n",
    "#The animation function (max frames=47)   \n",
    "\n",
    "\n",
    "anim = animation.FuncAnimation(fig, animate, init_func=init,frames=18, interval = 200,blit=False, repeat=False)\n",
    "\n",
    "##A line that makes it all work\n",
    "mywriter = animation.FFMpegWriter()\n",
    "\n",
    "##Save in current folder\n",
    "anim.save('Vort_3DDIFF_run02.mp4',writer=mywriter,fps=0.2, dpi = 300, bitrate = 1000000, codec = \"libx264\")\n",
    "\n",
    "plt.show()\n",
    "\n"
   ]
  },
  {
   "cell_type": "code",
   "execution_count": 58,
   "metadata": {
    "collapsed": false
   },
   "outputs": [
    {
     "name": "stdout",
     "output_type": "stream",
     "text": [
      "[[-4.81306756920906e-06 -4.812143357447648e-06 -4.811075740523128e-06 ...,\n",
      "  -4.816991287254473e-06 -4.81601223831029e-06 -4.815143862845296e-06]\n",
      " [-5.408844333573336e-06 -5.408979175087809e-06 -5.409014033619401e-06 ...,\n",
      "  -5.411781484724782e-06 -5.41075867661367e-06 -5.409888840691513e-06]\n",
      " [-5.871989838591586e-06 -5.872339938753922e-06 -5.872719266467937e-06 ...,\n",
      "  -5.8744208981143455e-06 -5.873524413280235e-06 -5.8727596730414195e-06]\n",
      " ..., \n",
      " [-- -- -- ..., -- -- --]\n",
      " [-- -- -- ..., -- -- --]\n",
      " [-- -- -- ..., -- -- --]]\n"
     ]
    }
   ],
   "source": []
  },
  {
   "cell_type": "code",
   "execution_count": null,
   "metadata": {
    "collapsed": true
   },
   "outputs": [],
   "source": []
  }
 ],
 "metadata": {
  "kernelspec": {
   "display_name": "Python [mypython3]",
   "language": "python",
   "name": "Python [mypython3]"
  },
  "language_info": {
   "codemirror_mode": {
    "name": "ipython",
    "version": 3
   },
   "file_extension": ".py",
   "mimetype": "text/x-python",
   "name": "python",
   "nbconvert_exporter": "python",
   "pygments_lexer": "ipython3",
   "version": "3.5.2"
  }
 },
 "nbformat": 4,
 "nbformat_minor": 0
}
