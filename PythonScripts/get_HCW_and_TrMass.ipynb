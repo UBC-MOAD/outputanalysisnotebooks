{
 "cells": [
  {
   "cell_type": "markdown",
   "metadata": {},
   "source": [
    "# Calculate and save HCW and tracer mass on shelf \n",
    "\n",
    "It has the same content as the script but I couldn't run ir remotely because of the netcdf library load."
   ]
  },
  {
   "cell_type": "code",
   "execution_count": 1,
   "metadata": {
    "collapsed": true
   },
   "outputs": [],
   "source": [
    "# Calculate and save HCW and tracer mass on shelf\n",
    "from netCDF4 import Dataset\n",
    "import numpy as np\n",
    "import pandas as pd\n",
    "\n",
    "import canyon_tools.metrics_tools as mtt \n",
    "import canyon_tools.readout_tools as rout"
   ]
  },
  {
   "cell_type": "code",
   "execution_count": 2,
   "metadata": {
    "collapsed": true
   },
   "outputs": [],
   "source": [
    "# -------------------------------------------------------------------------------------------------------------------------\n",
    "def Tracer_AlongShelf(Tr,TrAdv,MaskC,rA,hFacC,drF,yin,zfin,xi,yi,nzlim):\n",
    "    '''\n",
    "    INPUT----------------------------------------------------------------------------------------------------------------\n",
    "    Tr    : Array with concentration values for a tracer. Until this function is more general, size 19x90x360x360\n",
    "    TrAdv : Array with concentration values for low diffusivity tracer. Until this function is more general, size 19x90x360x360\n",
    "    MaskC : Land mask for tracer\n",
    "    nzlim : The nz index under which to look for water properties\n",
    "    rA    : Area of cell faces at C points (360x360)\n",
    "    fFacC : Fraction of open cell (90x360x360)\n",
    "    drF   : Distance between cell faces (90)\n",
    "    yin   : across-shore index of shelf break\n",
    "    zfin  : shelf break index + 1 \n",
    "    xi    : initial profile x index\n",
    "    yi    : initial profile y index\n",
    "    \n",
    "    OUTPUT----------------------------------------------------------------------------------------------------------------\n",
    "    TrMass =  Array with the mass of tracer over the shelf in HCW [t,360] at every time output.\n",
    "    Total_Tracer =  Array with the mass of tracer (m^3*[C]*l/m^3) at each x-position over the shelf [t,360] at \n",
    "                    every time output. \n",
    "    -----------------------------------------------------------------------------------------------------------------------\n",
    "    '''\n",
    "    maskExp = mtt.maskExpand(MaskC,TrAdv)\n",
    "\n",
    "    TrMask=np.ma.array(TrAdv,mask=maskExp)   \n",
    "    Tr1Mask=np.ma.array(Tr,mask=maskExp)   \n",
    "    \n",
    "    trlim1 = TrMask[0,nzlim,yi,xi]\n",
    "    trlim2 = TrMask[0,nzlim+1,yi,xi]\n",
    "\n",
    "\n",
    "    trlim = (trlim1+trlim2)/2.0\n",
    "\n",
    "    print('tracer limit concentration is: ',trlim)\n",
    "    print(trlim1,trlim2)\n",
    "\n",
    "\n",
    "\n",
    "    # mask cells with tracer concentration < trlim on shelf\n",
    "    HighConc_Masked = np.ma.masked_less(TrMask[:,:zfin,yin:,:], trlim) \n",
    "    HighConc_Mask = HighConc_Masked.mask\n",
    "\n",
    "    #Get volume of water of cells with relatively high concentration\n",
    "    rA_exp = np.expand_dims(rA[yin:,:],0)\n",
    "    drF_exp = np.expand_dims(np.expand_dims(drF[:zfin],1),1)\n",
    "    rA_exp = rA_exp + np.zeros(hFacC[:zfin,yin:,:].shape)\n",
    "    drF_exp = drF_exp + np.zeros(hFacC[:zfin,yin:,:].shape)\n",
    "\n",
    "    ShelfVolume = hFacC[:zfin,yin:,:]*drF_exp*rA_exp\n",
    "    ShelfVolume_exp = np.expand_dims(ShelfVolume,0)\n",
    "    ShelfVolume_exp = ShelfVolume_exp + np.zeros(HighConc_Mask.shape)\n",
    "   \n",
    "    HighConc_CellVol = np.ma.masked_array(ShelfVolume_exp,mask = HighConc_Mask) \n",
    "    TrConc_HCW = np.ma.masked_array(Tr[:,:zfin,yin:,:],mask = HighConc_Mask) \n",
    "\n",
    "    MassTrHighConc =np.ma.sum(np.ma.sum(np.ma.sum(HighConc_CellVol*TrConc_HCW,axis = 1),axis=1),axis=1)\n",
    "\n",
    "    #Get total mass of tracer on shelf\n",
    "    Total_Tracer = np.ma.sum(np.ma.sum(np.ma.sum(ShelfVolume_exp*Tr1Mask[:,:zfin,yin:,:],axis = 1),axis=1),axis=1)\n",
    "    \n",
    "    return (MassTrHighConc, Total_Tracer)"
   ]
  },
  {
   "cell_type": "code",
   "execution_count": 3,
   "metadata": {
    "collapsed": true
   },
   "outputs": [],
   "source": [
    "# Load grid files\n",
    "CanyonGrid='/ocean/kramosmu/MITgcm/TracerExperiments/CNTDIFF/run38/gridGlob.nc'\n",
    "CanyonGridOut = Dataset(CanyonGrid)\n",
    "\n",
    "CanyonGridNoC='/ocean/kramosmu/MITgcm/TracerExperiments/CNTDIFF/run42/gridGlob.nc'\n",
    "CanyonGridOutNoC = Dataset(CanyonGridNoC)\n",
    "\n",
    "CanyonState='/ocean/kramosmu/MITgcm/TracerExperiments/CNTDIFF/run38/stateGlob.nc'\n",
    "CanyonStateOut = Dataset(CanyonState)\n",
    "\n",
    "# Grid variables\n",
    "nx = 360\n",
    "ny = 360\n",
    "nz = 90\n",
    "nt = 19 # t dimension size \n",
    "\n",
    "xc = rout.getField(CanyonGrid, 'XC') # x coords tracer cells\n",
    "yc = rout.getField(CanyonGrid, 'YC') # y coords tracer cells\n",
    "rc = CanyonGridOut.variables['RC']\n",
    "dxg = rout.getField(CanyonGrid, 'dxG') # x coords tracer cells\n",
    "dyg = rout.getField(CanyonGrid, 'dyG') # y coords tracer cells\n",
    "\n",
    "bathy = rout.getField(CanyonGrid, 'Depth')\n",
    "hFacC = rout.getField(CanyonGrid, 'HFacC')\n",
    "MaskC = rout.getMask(CanyonGrid, 'HFacC')\n",
    "\n",
    "bathyNoC = rout.getField(CanyonGridNoC, 'Depth')\n",
    "hFacCNoC = rout.getField(CanyonGridNoC, 'HFacC')\n",
    "MaskCNoC = rout.getMask(CanyonGridNoC, 'HFacC')\n",
    "\n",
    "rA = rout.getField(CanyonGrid, 'rA')\n",
    "\n",
    "z = CanyonStateOut.variables['Z']\n",
    "drF = CanyonGridOut.variables['drF']\n",
    "time = CanyonStateOut.variables['T']"
   ]
  },
  {
   "cell_type": "code",
   "execution_count": 4,
   "metadata": {
    "collapsed": false
   },
   "outputs": [],
   "source": [
    "# Load records for each run\n",
    "import os\n",
    "import sys\n",
    "lib_path = os.path.abspath('Paper1Figures/') # Add absolute path to my python scripts\n",
    "sys.path.append(lib_path)\n",
    "\n",
    "import canyon_records \n",
    "import nocanyon_records"
   ]
  },
  {
   "cell_type": "code",
   "execution_count": 5,
   "metadata": {
    "collapsed": false
   },
   "outputs": [],
   "source": [
    "records = canyon_records.main()\n",
    "recordsNoC = nocanyon_records.main()"
   ]
  },
  {
   "cell_type": "code",
   "execution_count": 6,
   "metadata": {
    "collapsed": false
   },
   "outputs": [
    {
     "name": "stdout",
     "output_type": "stream",
     "text": [
      "0 CNTDIFF_run38\n",
      "1 CNTDIFF_run37\n",
      "2 CNTDIFF_run36\n",
      "3 CNTDIFF_run45\n",
      "4 CNTDIFF_run73\n",
      "5 CNTDIFF_run75\n",
      "6 CNTDIFF_run67\n",
      "7 CNTDIFF_run51\n",
      "8 CNTDIFF_run69\n",
      "9 CNTDIFF_run71\n",
      "10 3DVISC_run01\n",
      "11 3DVISC_run02\n",
      "12 3DVISC_run03\n",
      "13 3DVISC_run04\n",
      "14 3DVISC_run06\n",
      "15 LOW_BF_run01\n",
      "16 LOWER_BF_run01\n",
      "17 LOWEST_BF_run01\n",
      "18 LOWEST_BF_run03\n",
      "19 LOWEST_BF_run05\n",
      "20 LOWEST_BF_run07\n",
      "21 LOWEST_BF_run11\n",
      "22 3DVISC_run05\n"
     ]
    }
   ],
   "source": [
    "ii=0\n",
    "for rec in records:\n",
    "    print(ii,rec.name)\n",
    "    ii=ii+1\n"
   ]
  },
  {
   "cell_type": "code",
   "execution_count": 27,
   "metadata": {
    "collapsed": false
   },
   "outputs": [],
   "source": [
    "records_sel = records[20:22]\n",
    "recordsNoC_sel = recordsNoC[20:22]\n"
   ]
  },
  {
   "cell_type": "code",
   "execution_count": 28,
   "metadata": {
    "collapsed": false
   },
   "outputs": [
    {
     "name": "stdout",
     "output_type": "stream",
     "text": [
      "tracer limit concentration is:  7.30753135681\n",
      "7.21757 7.39749\n",
      "tracer limit concentration is:  7.30753135681\n",
      "tracer limit concentration is:  7.30753135681\n",
      "7.21757 7.39749\n",
      "tracer limit concentration is:  7.30753135681\n",
      "tracer limit concentration is:  7.30753135681\n",
      "7.21757 7.39749\n",
      "LOWEST_BF run07\n",
      "tracer limit concentration is:  7.30753135681\n",
      "7.21757 7.39749\n",
      "tracer limit concentration is:  7.30753135681\n",
      "tracer limit concentration is:  7.30753135681\n",
      "7.21757 7.39749\n",
      "tracer limit concentration is:  7.30753135681\n",
      "tracer limit concentration is:  7.30753135681\n",
      "7.21757 7.39749\n",
      "LOWEST_BF run11\n"
     ]
    }
   ],
   "source": [
    "# Calculate HCW and TR Mass\n",
    "for record in records_sel:\n",
    "    \n",
    "    filename=('/ocean/kramosmu/MITgcm/TracerExperiments/%s/%s/ptracersGlob.nc' %(record.exp_code,record.run_num))\n",
    "    Tr1 = rout.getField(filename,'Tr1') \n",
    "    Tr2 = rout.getField(filename,'Tr2') \n",
    "     \n",
    "    if record.exp_code == 'LOW_BF_7Tr' or record.exp_code == 'LOWER_BF_7Tr':\n",
    "        TrMassHCW, TotTrMass = Tracer_AlongShelf(Tr1-6.44246864319,Tr1-6.44246864319, MaskCNoC, rA, hFacCNoC, drF[:], 227, 30,  180, 50,29)\n",
    "        HCW = mtt.calc_HCW(Tr2-6.44246864319, MaskCNoC, rA, hFacCNoC, drF[:],nzlim=29, yin=227, xin=0, xfin=359, zfin=30, xi=180, yi=50)\n",
    "    \n",
    "        TrMassHCWTr1, TotTrMassTr1 = Tracer_AlongShelf(Tr1-6.44246864319,Tr1-6.44246864319, MaskCNoC, rA, hFacCNoC, drF[:], 227, 30,  180, 50,29)\n",
    "        HCWTr1 = mtt.calc_HCW(Tr1-6.44246864319, MaskCNoC, rA, hFacCNoC, drF[:],nzlim=29, yin=227, xin=0, xfin=359, zfin=30, xi=180, yi=50)\n",
    "    \n",
    "        TrMassHCWTr2, TotTrMassTr2 = Tracer_AlongShelf(Tr1-6.44246864319,Tr1-6.44246864319, MaskCNoC, rA, hFacCNoC, drF[:], 227, 30,  180, 50,29)\n",
    "        \n",
    "    else:   \n",
    "        TrMassHCW, TotTrMass = Tracer_AlongShelf(Tr1,Tr2, MaskCNoC, rA, hFacCNoC, drF[:], 227, 30,  180, 50,29)\n",
    "        HCW = mtt.calc_HCW(Tr2, MaskCNoC, rA, hFacCNoC, drF[:],nzlim=29, yin=227, xin=0, xfin=359, zfin=30, xi=180, yi=50)\n",
    "\n",
    "        TrMassHCWTr1, TotTrMassTr1 = Tracer_AlongShelf(Tr1,Tr1, MaskCNoC, rA, hFacCNoC, drF[:], 227, 30,  180, 50,29)\n",
    "        HCWTr1 = mtt.calc_HCW(Tr1, MaskCNoC, rA, hFacCNoC, drF[:],nzlim=29, yin=227, xin=0, xfin=359, zfin=30, xi=180, yi=50)\n",
    "\n",
    "        TrMassHCWTr2, TotTrMassTr2 = Tracer_AlongShelf(Tr2,Tr2, MaskCNoC, rA, hFacCNoC, drF[:], 227, 30,  180, 50,29)\n",
    "       \n",
    "    raw_data = {'time' : time,'HCW': HCW,'HCWTr1': HCWTr1[0:20],'TrMassHCW': TrMassHCW,'TotTrMass':TotTrMass,'TrMassHCWTr1': TrMassHCWTr1,\n",
    "                'TotTrMassTr1':TotTrMassTr1,'TrMassHCWTr2': TrMassHCWTr2,'TotTrMassTr2':TotTrMassTr2}\n",
    "    df = pd.DataFrame(raw_data, columns = ['time' ,'HCW','HCWTr1','TrMassHCW','TotTrMass',\n",
    "                                           'TrMassHCWTr1','TotTrMassTr1','TrMassHCWTr2','TotTrMassTr2'])\n",
    "    filename1 = ('/ocean/kramosmu/MITgcm/TracerExperiments/%s/HCW_TrMass_%s%s.csv' %(record.exp_code,record.exp_code,record.run_num))\n",
    "    df.to_csv(filename1)\n",
    "    print(record.exp_code,record.run_num)"
   ]
  },
  {
   "cell_type": "code",
   "execution_count": 29,
   "metadata": {
    "collapsed": false
   },
   "outputs": [
    {
     "name": "stdout",
     "output_type": "stream",
     "text": [
      "tracer limit concentration is:  7.30753135681\n",
      "7.21757 7.39749\n",
      "tracer limit concentration is:  7.30753135681\n",
      "tracer limit concentration is:  7.30753135681\n",
      "7.21757 7.39749\n",
      "tracer limit concentration is:  7.30753135681\n",
      "tracer limit concentration is:  7.30753135681\n",
      "7.21757 7.39749\n",
      "LOWEST_BF run08\n",
      "tracer limit concentration is:  7.30753135681\n",
      "7.21757 7.39749\n",
      "tracer limit concentration is:  7.30753135681\n",
      "tracer limit concentration is:  7.30753135681\n",
      "7.21757 7.39749\n",
      "tracer limit concentration is:  7.30753135681\n",
      "tracer limit concentration is:  7.30753135681\n",
      "7.21757 7.39749\n",
      "LOWEST_BF run12\n"
     ]
    }
   ],
   "source": [
    "for record in recordsNoC_sel:\n",
    "    \n",
    "    filename=('/ocean/kramosmu/MITgcm/TracerExperiments/%s/%s/ptracersGlob.nc' %(record.exp_code,record.run_num))\n",
    "    Tr1 = rout.getField(filename,'Tr1') \n",
    "    Tr2 = rout.getField(filename,'Tr2') \n",
    "     \n",
    "    if record.exp_code == 'LOW_BF_7Tr' or record.exp_code == 'LOWER_BF_7Tr':\n",
    "        TrMassHCW, TotTrMass = Tracer_AlongShelf(Tr1-6.44246864319,Tr1-6.44246864319, MaskCNoC, rA, hFacCNoC, drF[:], 227, 30,  180, 50,29)\n",
    "        HCW = mtt.calc_HCW(Tr2-6.44246864319, MaskCNoC, rA, hFacCNoC, drF[:],nzlim=29, yin=227, xin=0, xfin=359, zfin=30, xi=180, yi=50)\n",
    "    \n",
    "        TrMassHCWTr1, TotTrMassTr1 = Tracer_AlongShelf(Tr1-6.44246864319,Tr1-6.44246864319, MaskCNoC, rA, hFacCNoC, drF[:], 227, 30,  180, 50,29)\n",
    "        HCWTr1 = mtt.calc_HCW(Tr1-6.44246864319, MaskCNoC, rA, hFacCNoC, drF[:],nzlim=29, yin=227, xin=0, xfin=359, zfin=30, xi=180, yi=50)\n",
    "    \n",
    "        TrMassHCWTr2, TotTrMassTr2 = Tracer_AlongShelf(Tr1-6.44246864319,Tr1-6.44246864319, MaskCNoC, rA, hFacCNoC, drF[:], 227, 30,  180, 50,29)\n",
    "        \n",
    "    else:   \n",
    "        TrMassHCW, TotTrMass = Tracer_AlongShelf(Tr1,Tr2, MaskCNoC, rA, hFacCNoC, drF[:], 227, 30,  180, 50,29)\n",
    "        HCW = mtt.calc_HCW(Tr2, MaskCNoC, rA, hFacCNoC, drF[:],nzlim=29, yin=227, xin=0, xfin=359, zfin=30, xi=180, yi=50)\n",
    "\n",
    "        TrMassHCWTr1, TotTrMassTr1 = Tracer_AlongShelf(Tr1,Tr1, MaskCNoC, rA, hFacCNoC, drF[:], 227, 30,  180, 50,29)\n",
    "        HCWTr1 = mtt.calc_HCW(Tr1, MaskCNoC, rA, hFacCNoC, drF[:],nzlim=29, yin=227, xin=0, xfin=359, zfin=30, xi=180, yi=50)\n",
    "\n",
    "        TrMassHCWTr2, TotTrMassTr2 = Tracer_AlongShelf(Tr2,Tr2, MaskCNoC, rA, hFacCNoC, drF[:], 227, 30,  180, 50,29)\n",
    "    \n",
    "    raw_data = {'time' : time,'HCW': HCW[0:20],'HCWTr1': HCWTr1[0:20],'TrMassHCW': TrMassHCW[0:20],\n",
    "                'TotTrMass':TotTrMass[0:20],'TrMassHCWTr1': TrMassHCWTr1[0:20],\n",
    "                'TotTrMassTr1':TotTrMassTr1[0:20],'TrMassHCWTr2': TrMassHCWTr2[0:20],\n",
    "                'TotTrMassTr2':TotTrMassTr2[0:20]}\n",
    "    df = pd.DataFrame(raw_data, columns = ['time' ,'HCW','HCWTr1','TrMassHCW','TotTrMass',\n",
    "                                           'TrMassHCWTr1','TotTrMassTr1','TrMassHCWTr2','TotTrMassTr2'])\n",
    "    \n",
    "    filename1 = ('/ocean/kramosmu/MITgcm/TracerExperiments/%s/HCW_TrMass_%s%s.csv' %(record.exp_code,record.exp_code,record.run_num))\n",
    "    df.to_csv(filename1)\n",
    "    print(record.exp_code,record.run_num)"
   ]
  },
  {
   "cell_type": "code",
   "execution_count": 17,
   "metadata": {
    "collapsed": false
   },
   "outputs": [
    {
     "data": {
      "text/plain": [
       "6.44246864319"
      ]
     },
     "execution_count": 17,
     "metadata": {},
     "output_type": "execute_result"
    }
   ],
   "source": [
    "# Discrepancy between linear profiles in \n",
    "13.75-7.30753135681"
   ]
  },
  {
   "cell_type": "code",
   "execution_count": null,
   "metadata": {
    "collapsed": true
   },
   "outputs": [],
   "source": []
  }
 ],
 "metadata": {
  "anaconda-cloud": {},
  "kernelspec": {
   "display_name": "Python [default]",
   "language": "python",
   "name": "python3"
  },
  "language_info": {
   "codemirror_mode": {
    "name": "ipython",
    "version": 3
   },
   "file_extension": ".py",
   "mimetype": "text/x-python",
   "name": "python",
   "nbconvert_exporter": "python",
   "pygments_lexer": "ipython3",
   "version": "3.5.2"
  }
 },
 "nbformat": 4,
 "nbformat_minor": 1
}
