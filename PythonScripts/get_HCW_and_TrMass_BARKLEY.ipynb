{
 "cells": [
  {
   "cell_type": "markdown",
   "metadata": {},
   "source": [
    "# Calculate and save HCW and tracer mass on shelf \n",
    "\n",
    "It has the same content as the script but I couldn't run ir remotely because of the netcdf library load."
   ]
  },
  {
   "cell_type": "code",
   "execution_count": 1,
   "metadata": {
    "collapsed": true
   },
   "outputs": [],
   "source": [
    "# Calculate and save HCW and tracer mass on shelf\n",
    "from netCDF4 import Dataset\n",
    "import numpy as np\n",
    "import pandas as pd\n",
    "\n",
    "import canyon_tools.metrics_tools as mtt \n",
    "import canyon_tools.readout_tools as rout"
   ]
  },
  {
   "cell_type": "code",
   "execution_count": 9,
   "metadata": {
    "collapsed": true
   },
   "outputs": [],
   "source": [
    "# -------------------------------------------------------------------------------------------------------------------------\n",
    "def Tracer_AlongShelf(Tr,TrAdv,MaskC,rA,hFacC,drF,yin,zfin,xi,yi,nzlim):\n",
    "    '''\n",
    "    INPUT----------------------------------------------------------------------------------------------------------------\n",
    "    Tr    : Array with concentration values for a tracer. Until this function is more general, size 19x90x360x360\n",
    "    TrAdv : Array with concentration values for low diffusivity tracer. Until this function is more general, size 19x90x360x360\n",
    "    MaskC : Land mask for tracer\n",
    "    nzlim : The nz index under which to look for water properties\n",
    "    rA    : Area of cell faces at C points (360x360)\n",
    "    fFacC : Fraction of open cell (90x360x360)\n",
    "    drF   : Distance between cell faces (90)\n",
    "    yin   : across-shore index of shelf break\n",
    "    zfin  : shelf break index + 1 \n",
    "    xi    : initial profile x index\n",
    "    yi    : initial profile y index\n",
    "    \n",
    "    OUTPUT----------------------------------------------------------------------------------------------------------------\n",
    "    TrMass =  Array with the mass of tracer over the shelf in HCW at every time output.\n",
    "    Total_Tracer =  Array with the mass of tracer (m^3*[C]*l/m^3) over the shelf at \n",
    "                    every time output. \n",
    "    -----------------------------------------------------------------------------------------------------------------------\n",
    "    '''\n",
    "    maskExp = mtt.maskExpand(MaskC,TrAdv)\n",
    "\n",
    "    Tr_profile=np.ma.array(Tr[0,:,yi,xi],mask=maskExp[0,:,yi,xi])   \n",
    "    TrAdv_profile=np.ma.array(TrAdv[0,:,yi,xi],mask=maskExp[0,:,yi,xi])   \n",
    "    \n",
    "    trlim1 = Tr_profile[nzlim]\n",
    "    trlim2 = Tr_profile[nzlim+1]\n",
    "    \n",
    "    trlim1Adv = TrAdv_profile[nzlim]\n",
    "    trlim2Adv = TrAdv_profile[nzlim+1]\n",
    "    \n",
    "    trlim = trlim1 #(trlim1+trlim2)/2.0\n",
    "    trlimAdv = trlim1Adv #(trlim1Adv+trlim2Adv)/2.0\n",
    "    \n",
    "    print('tracer limit concentration is: ',trlim)\n",
    "    print(trlim1,trlim2)\n",
    "\n",
    "    TrMask=np.ma.array(TrAdv,mask=maskExp)  \n",
    "    Tr1Mask=np.ma.array(Tr,mask=maskExp)   \n",
    "    \n",
    "\n",
    "    # mask cells with tracer concentration < trlim on shelf\n",
    "    HighConc_Masked = np.ma.masked_less(TrMask[:,:zfin,yin:,:], trlim) \n",
    "    HighConc_Mask = HighConc_Masked.mask\n",
    "\n",
    "    #Get volume of water of cells with relatively high concentration\n",
    "    rA_exp = np.expand_dims(rA[yin:,:],0)\n",
    "    drF_exp = np.expand_dims(np.expand_dims(drF[:zfin],1),1)\n",
    "    rA_exp = rA_exp + np.zeros(hFacC[:zfin,yin:,:].shape)\n",
    "    drF_exp = drF_exp + np.zeros(hFacC[:zfin,yin:,:].shape)\n",
    "\n",
    "    ShelfVolume = hFacC[:zfin,yin:,:]*drF_exp*rA_exp\n",
    "    ShelfVolume_exp = np.expand_dims(ShelfVolume,0)\n",
    "    ShelfVolume_exp = ShelfVolume_exp + np.zeros(HighConc_Mask.shape)\n",
    "   \n",
    "    HighConc_CellVol = np.ma.masked_array(ShelfVolume_exp,mask = HighConc_Mask) \n",
    "    TrConc_HCW = np.ma.masked_array(Tr[:,:zfin,yin:,:],mask = HighConc_Mask)\n",
    "\n",
    "    MassTrHighConc =np.ma.sum(np.ma.sum(np.ma.sum(HighConc_CellVol*TrConc_HCW,axis = 1),axis=1),axis=1)\n",
    "\n",
    "    #Get total mass of tracer on shelf\n",
    "    Total_Tracer = np.ma.sum(np.ma.sum(np.ma.sum(ShelfVolume_exp*Tr1Mask[:,:zfin,yin:,:],axis = 1),axis=1),axis=1)\n",
    "    \n",
    "    return (MassTrHighConc, Total_Tracer)"
   ]
  },
  {
   "cell_type": "code",
   "execution_count": 3,
   "metadata": {
    "collapsed": false
   },
   "outputs": [],
   "source": [
    "# Load grid files\n",
    "CanyonGrid='/ocean/kramosmu/MITgcm/TracerExperiments/BARKLEY/run01/gridGlob.nc'\n",
    "CanyonGridOut = Dataset(CanyonGrid)\n",
    "\n",
    "CanyonGridNoC='/ocean/kramosmu/MITgcm/TracerExperiments/BARKLEY/run02/gridGlob.nc'\n",
    "CanyonGridOutNoC = Dataset(CanyonGridNoC)\n",
    "\n",
    "CanyonState='/ocean/kramosmu/MITgcm/TracerExperiments/BARKLEY/run01/stateGlob.nc'\n",
    "CanyonStateOut = Dataset(CanyonState)\n",
    "\n",
    "# Grid variables\n",
    "nx = 360\n",
    "ny = 360\n",
    "nz = 90\n",
    "nt = 19 # t dimension size \n",
    "\n",
    "xc = rout.getField(CanyonGrid, 'XC') # x coords tracer cells\n",
    "yc = rout.getField(CanyonGrid, 'YC') # y coords tracer cells\n",
    "rc = CanyonGridOut.variables['RC']\n",
    "dxg = rout.getField(CanyonGrid, 'dxG') # x coords tracer cells\n",
    "dyg = rout.getField(CanyonGrid, 'dyG') # y coords tracer cells\n",
    "\n",
    "bathy = rout.getField(CanyonGrid, 'Depth')\n",
    "hFacC = rout.getField(CanyonGrid, 'HFacC')\n",
    "MaskC = rout.getMask(CanyonGrid, 'HFacC')\n",
    "\n",
    "bathyNoC = rout.getField(CanyonGridNoC, 'Depth')\n",
    "hFacCNoC = rout.getField(CanyonGridNoC, 'HFacC')\n",
    "MaskCNoC = rout.getMask(CanyonGridNoC, 'HFacC')\n",
    "\n",
    "rA = rout.getField(CanyonGrid, 'rA')\n",
    "\n",
    "z = CanyonStateOut.variables['Z']\n",
    "drF = CanyonGridOut.variables['drF']\n",
    "time = CanyonStateOut.variables['T']"
   ]
  },
  {
   "cell_type": "code",
   "execution_count": null,
   "metadata": {
    "collapsed": false
   },
   "outputs": [],
   "source": []
  },
  {
   "cell_type": "code",
   "execution_count": 4,
   "metadata": {
    "collapsed": false
   },
   "outputs": [],
   "source": [
    "expNames = ['BARKLEY']\n",
    "trNames = ['Tr01','Tr02','Tr03','Tr04','Tr05','Tr06','Tr07','Tr08']"
   ]
  },
  {
   "cell_type": "code",
   "execution_count": 7,
   "metadata": {
    "collapsed": false
   },
   "outputs": [
    {
     "name": "stdout",
     "output_type": "stream",
     "text": [
      "tracer limit concentration is:  32.2468643188\n",
      "32.2427 32.251\n",
      "tracer limit concentration is:  32.2468643188\n",
      "tracer limit concentration is:  33.8964080811\n",
      "33.8939 33.8989\n",
      "tracer limit concentration is:  32.2468643188\n",
      "tracer limit concentration is:  103.605239868\n",
      "104.071 103.14\n",
      "tracer limit concentration is:  32.2468643188\n",
      "tracer limit concentration is:  32.6857452393\n",
      "32.6079 32.7636\n",
      "tracer limit concentration is:  32.2468643188\n",
      "tracer limit concentration is:  47.7441177368\n",
      "47.626 47.8622\n",
      "tracer limit concentration is:  32.2468643188\n",
      "tracer limit concentration is:  2.24897241592\n",
      "2.24576 2.25218\n",
      "tracer limit concentration is:  32.2468643188\n",
      "tracer limit concentration is:  27.6841201782\n",
      "27.6674 27.7009\n",
      "tracer limit concentration is:  32.2468643188\n",
      "tracer limit concentration is:  18.443195343\n",
      "17.5046 19.3818\n",
      "tracer limit concentration is:  32.2468643188\n",
      "/ocean/kramosmu/MITgcm/TracerExperiments/BARKLEY/HCW_TrMass_BARKLEY_run01.csv\n"
     ]
    }
   ],
   "source": [
    "# Calculate HCW and TR Mass\n",
    "for exp in expNames:\n",
    "    \n",
    "    # initialize data arrays\n",
    "    TrMassHCW = np.empty((8,19)) # 7 tracers and 21 time indices. Some have less than 21.\n",
    "    TotTrMass = np.empty((8,19)) \n",
    "    HCW = np.empty((8,19)) \n",
    "    \n",
    "    filename=('/ocean/kramosmu/MITgcm/TracerExperiments/%s/run01/ptracersGlob.nc' %exp)\n",
    "    \n",
    "    TrAdv = rout.getField(filename,'Tr01') # tracer used to map upwelled water (linear)\n",
    "    \n",
    "    for tr,ii in zip(trNames,range(8)):\n",
    "    \n",
    "        Tr = rout.getField(filename,tr) \n",
    "        \n",
    "        TrMassHCWTemp, TotTrMassTemp = Tracer_AlongShelf(Tr,TrAdv, MaskCNoC, rA, hFacCNoC, drF[:], 227, 30,  180, 50,29)\n",
    "        TrMassHCW[ii,:] = TrMassHCWTemp[0:19]\n",
    "        TotTrMass[ii,:] = TotTrMassTemp[0:19]\n",
    "        \n",
    "        HCWTemp = mtt.calc_HCW(TrAdv, MaskCNoC, rA, hFacCNoC, drF[:],\n",
    "                               nzlim=29, yin=227, xin=0, \n",
    "                               xfin=359, zfin=30, xi=180, yi=50)\n",
    "        \n",
    "       \n",
    "        HCW[ii,:] = HCWTemp[0:19]\n",
    "        \n",
    "    raw_data = {'time' : time[0:19],'HCW01': HCW[0,0:19],'HCW02': HCW[1,0:19],'HCW03': HCW[2,0:19],'HCW04': HCW[3,0:19],\n",
    "                'HCW05': HCW[4,0:19],'HCW06': HCW[5,0:19],'HCW07': HCW[6,0:19],'HCW08': HCW[7,0:19],\n",
    "                'TrMassHCW01':TrMassHCW[0,0:19],'TrMassHCW02':TrMassHCW[1,0:19],'TrMassHCW03':TrMassHCW[2,0:19],\n",
    "                'TrMassHCW04':TrMassHCW[3,0:19],'TrMassHCW05':TrMassHCW[4,0:19],'TrMassHCW06':TrMassHCW[5,0:19],\n",
    "                'TrMassHCW07':TrMassHCW[6,0:19],'TrMassHCW08':TrMassHCW[7,0:19],\n",
    "                'TotTrMass01':TotTrMass[0,0:19],'TotTrMass02':TotTrMass[1,0:19],'TotTrMass03':TotTrMass[2,0:19],\n",
    "                'TotTrMass04':TotTrMass[3,0:19],'TotTrMass05':TotTrMass[4,0:19],'TotTrMass06':TotTrMass[5,0:19],\n",
    "                'TotTrMass07':TotTrMass[6,0:19],'TotTrMass08':TotTrMass[7,0:19]}\n",
    "    \n",
    "    \n",
    "    df = pd.DataFrame(raw_data, columns = ['time' ,'HCW01','HCW02','HCW03','HCW04','HCW05','HCW06','HCW07','HCW08',\n",
    "                                           'TrMassHCW01','TrMassHCW02','TrMassHCW03','TrMassHCW04','TrMassHCW05',\n",
    "                                           'TrMassHCW06','TrMassHCW07','TrMassHCW08',\n",
    "                                           'TotTrMass01','TotTrMass02','TotTrMass03',\n",
    "                                           'TotTrMass04','TotTrMass05','TotTrMass06','TotTrMass07','TotTrMass08'])\n",
    "    filename1 = ('/ocean/kramosmu/MITgcm/TracerExperiments/%s/HCW_TrMass_%s_run01.csv' %(exp,exp))\n",
    "    df.to_csv(filename1)\n",
    "    print(filename1)"
   ]
  },
  {
   "cell_type": "code",
   "execution_count": 8,
   "metadata": {
    "collapsed": false
   },
   "outputs": [
    {
     "name": "stdout",
     "output_type": "stream",
     "text": [
      "tracer limit concentration is:  32.2468643188\n",
      "32.2427 32.251\n",
      "tracer limit concentration is:  32.2468643188\n",
      "tracer limit concentration is:  33.8964080811\n",
      "33.8939 33.8989\n",
      "tracer limit concentration is:  32.2468643188\n",
      "tracer limit concentration is:  103.605239868\n",
      "104.071 103.14\n",
      "tracer limit concentration is:  32.2468643188\n",
      "tracer limit concentration is:  32.6857452393\n",
      "32.6079 32.7636\n",
      "tracer limit concentration is:  32.2468643188\n",
      "tracer limit concentration is:  47.7441177368\n",
      "47.626 47.8622\n",
      "tracer limit concentration is:  32.2468643188\n",
      "tracer limit concentration is:  2.24897241592\n",
      "2.24576 2.25218\n",
      "tracer limit concentration is:  32.2468643188\n",
      "tracer limit concentration is:  27.6841201782\n",
      "27.6674 27.7009\n",
      "tracer limit concentration is:  32.2468643188\n",
      "tracer limit concentration is:  18.443195343\n",
      "17.5046 19.3818\n",
      "tracer limit concentration is:  32.2468643188\n",
      "/ocean/kramosmu/MITgcm/TracerExperiments/BARKLEY/HCW_TrMass_BARKLEY_run02.csv\n"
     ]
    }
   ],
   "source": [
    "# Calculate HCW and TR Mass\n",
    "for exp in expNames:\n",
    "    \n",
    "    # initialize data arrays\n",
    "    TrMassHCW = np.empty((8,19)) # 7 tracers and 21 time indices. Some have less than 21.\n",
    "    TotTrMass = np.empty((8,19)) \n",
    "    HCW = np.empty((8,19)) \n",
    "    \n",
    "    filename=('/ocean/kramosmu/MITgcm/TracerExperiments/%s/run02/ptracersGlob.nc' %exp)\n",
    "    \n",
    "    TrAdv = rout.getField(filename,'Tr01') # tracer used to map upwelled water (linear)\n",
    "   \n",
    "    for tr,ii in zip(trNames,range(8)):\n",
    "    \n",
    "        Tr = rout.getField(filename,tr) \n",
    "        \n",
    "        TrMassHCWTemp, TotTrMassTemp = Tracer_AlongShelf(Tr,TrAdv, MaskCNoC, rA, hFacCNoC, drF[:], 227, 30,  180, 50,29)\n",
    "        TrMassHCW[ii,:] = TrMassHCWTemp[0:19]\n",
    "        TotTrMass[ii,:] = TotTrMassTemp[0:19]\n",
    "        \n",
    "        HCWTemp = mtt.calc_HCW(TrAdv, MaskCNoC, rA, hFacCNoC, drF[:],\n",
    "                               nzlim=29, yin=227, xin=0, \n",
    "                               xfin=359, zfin=30, xi=180, yi=50)\n",
    "        HCW[ii,:] = HCWTemp[0:19]\n",
    "        \n",
    "    raw_data = {'time' : time[0:19],'HCW01': HCW[0,0:19],'HCW02': HCW[1,0:19],'HCW03': HCW[2,0:19],'HCW04': HCW[3,0:19],\n",
    "                'HCW05': HCW[4,0:19],'HCW06': HCW[5,0:19],'HCW07': HCW[6,0:19],'HCW08': HCW[7,0:19],\n",
    "                'TrMassHCW01':TrMassHCW[0,0:19],'TrMassHCW02':TrMassHCW[1,0:19],'TrMassHCW03':TrMassHCW[2,0:19],\n",
    "                'TrMassHCW04':TrMassHCW[3,0:19],'TrMassHCW05':TrMassHCW[4,0:19],'TrMassHCW06':TrMassHCW[5,0:19],\n",
    "                'TrMassHCW07':TrMassHCW[6,0:19],'TrMassHCW08':TrMassHCW[7,0:19],\n",
    "                'TotTrMass01':TotTrMass[0,0:19],'TotTrMass02':TotTrMass[1,0:19],'TotTrMass03':TotTrMass[2,0:19],\n",
    "                'TotTrMass04':TotTrMass[3,0:19],'TotTrMass05':TotTrMass[4,0:19],'TotTrMass06':TotTrMass[5,0:19],\n",
    "                'TotTrMass07':TotTrMass[6,0:19],'TotTrMass08':TotTrMass[7,0:19]}\n",
    "    \n",
    "    \n",
    "    df = pd.DataFrame(raw_data, columns = ['time' ,'HCW01','HCW02','HCW03','HCW04','HCW05','HCW06','HCW07','HCW08',\n",
    "                                           'TrMassHCW01','TrMassHCW02','TrMassHCW03','TrMassHCW04','TrMassHCW05',\n",
    "                                           'TrMassHCW06','TrMassHCW07','TrMassHCW08',\n",
    "                                           'TotTrMass01','TotTrMass02','TotTrMass03',\n",
    "                                           'TotTrMass04','TotTrMass05','TotTrMass06','TotTrMass07','TotTrMass08'])\n",
    "    filename1 = ('/ocean/kramosmu/MITgcm/TracerExperiments/%s/HCW_TrMass_%s_run02.csv' %(exp,exp))\n",
    "    df.to_csv(filename1)\n",
    "    print(filename1)"
   ]
  },
  {
   "cell_type": "code",
   "execution_count": null,
   "metadata": {
    "collapsed": false
   },
   "outputs": [],
   "source": [
    "\n"
   ]
  },
  {
   "cell_type": "code",
   "execution_count": null,
   "metadata": {
    "collapsed": true
   },
   "outputs": [],
   "source": []
  }
 ],
 "metadata": {
  "anaconda-cloud": {},
  "kernelspec": {
   "display_name": "Python [default]",
   "language": "python",
   "name": "python3"
  },
  "language_info": {
   "codemirror_mode": {
    "name": "ipython",
    "version": 3
   },
   "file_extension": ".py",
   "mimetype": "text/x-python",
   "name": "python",
   "nbconvert_exporter": "python",
   "pygments_lexer": "ipython3",
   "version": "3.5.2"
  }
 },
 "nbformat": 4,
 "nbformat_minor": 1
}
