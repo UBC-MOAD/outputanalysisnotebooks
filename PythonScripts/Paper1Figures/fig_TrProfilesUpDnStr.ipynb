{
 "cells": [
  {
   "cell_type": "markdown",
   "metadata": {},
   "source": [
    "## Tracer concentration profiles upstream and downstream"
   ]
  },
  {
   "cell_type": "code",
   "execution_count": 1,
   "metadata": {
    "collapsed": true
   },
   "outputs": [],
   "source": [
    "#import gsw as sw # Gibbs seawater package\n",
    "import cmocean as cmo\n",
    "import matplotlib.pyplot as plt\n",
    "import matplotlib.colors as mcolors\n",
    "import matplotlib.gridspec as gspec\n",
    "%matplotlib inline\n",
    "\n",
    "from netCDF4 import Dataset\n",
    "import numpy as np\n",
    "import pandas as pd\n",
    "import seaborn as sns\n",
    "import sys\n",
    "import xarray as xr\n",
    "import canyon_tools.readout_tools as rout \n",
    "import canyon_tools.metrics_tools as mpt\n",
    "\n",
    "import warnings\n",
    "warnings.filterwarnings(\"ignore\")"
   ]
  },
  {
   "cell_type": "code",
   "execution_count": 2,
   "metadata": {
    "collapsed": true
   },
   "outputs": [],
   "source": [
    "sns.set_context('paper')\n",
    "sns.set_style('white')"
   ]
  },
  {
   "cell_type": "code",
   "execution_count": null,
   "metadata": {
    "collapsed": true
   },
   "outputs": [],
   "source": []
  },
  {
   "cell_type": "code",
   "execution_count": 3,
   "metadata": {
    "collapsed": false
   },
   "outputs": [],
   "source": [
    "CanyonGrid='/ocean/kramosmu/MITgcm/TracerExperiments/CNTDIFF/run38/gridGlob.nc'\n",
    "CanyonGridOut = Dataset(CanyonGrid)\n",
    "\n",
    "CanyonGridNoC='/ocean/kramosmu/MITgcm/TracerExperiments/CNTDIFF/run42/gridGlob.nc'\n",
    "CanyonGridOutNoC = Dataset(CanyonGridNoC)\n",
    "\n",
    "CanyonState='/ocean/kramosmu/MITgcm/TracerExperiments/CNTDIFF/run38/stateGlob.nc'\n",
    "CanyonStateOut = Dataset(CanyonState)\n",
    "\n",
    "# Grid variables\n",
    "nx = 360\n",
    "ny = 360\n",
    "nz = 90\n",
    "nt = 19 # t dimension size \n",
    "time = CanyonStateOut.variables['T']"
   ]
  },
  {
   "cell_type": "code",
   "execution_count": 4,
   "metadata": {
    "collapsed": true
   },
   "outputs": [],
   "source": [
    "# Grid, state and tracers datasets of base case\n",
    "grid_file = '/ocean/kramosmu/MITgcm/TracerExperiments/CNTDIFF/run38/gridGlob.nc'\n",
    "grid = xr.open_dataset(grid_file)\n",
    "\n",
    "state_file = '/ocean/kramosmu/MITgcm/TracerExperiments/CNTDIFF/run38/stateGlob.nc' \n",
    "state = xr.open_dataset(state_file)\n",
    "\n",
    "ptracers_file = '/ocean/kramosmu/MITgcm/TracerExperiments/CNTDIFF/run38/ptracersGlob.nc'\n",
    "ptracers = xr.open_dataset(ptracers_file)\n",
    "\n",
    "#RhoRef = np.squeeze(rdmds('/ocean/kramosmu/MITgcm/TracerExperiments/CNTDIFF/run38/RhoRef'))\n",
    "RhoRef = 999.79998779 # It is constant in all my runs, can't run rdmds"
   ]
  },
  {
   "cell_type": "code",
   "execution_count": 5,
   "metadata": {
    "collapsed": true
   },
   "outputs": [],
   "source": [
    "import canyon_records \n",
    "import nocanyon_records\n",
    "\n",
    "records = canyon_records.main()\n",
    "recordsNoC = nocanyon_records.main()"
   ]
  },
  {
   "cell_type": "code",
   "execution_count": 24,
   "metadata": {
    "collapsed": false
   },
   "outputs": [
    {
     "name": "stdout",
     "output_type": "stream",
     "text": [
      "0 CNTDIFF_run38\n",
      "1 CNTDIFF_run37\n",
      "2 CNTDIFF_run36\n",
      "3 CNTDIFF_run45\n",
      "4 CNTDIFF_run73\n",
      "5 CNTDIFF_run75\n",
      "6 CNTDIFF_run67\n",
      "7 CNTDIFF_run51\n",
      "8 CNTDIFF_run69\n",
      "9 CNTDIFF_run71\n",
      "10 3DVISC_run01\n",
      "11 3DVISC_run02\n",
      "12 3DVISC_run03\n",
      "13 3DVISC_run04\n",
      "14 3DVISC_run06\n",
      "15 LOW_BF_run01\n",
      "16 LOWER_BF_run01\n",
      "17 LOWEST_BF_run01\n",
      "18 LOWEST_BF_run03\n",
      "19 LOWEST_BF_run05\n",
      "20 LOWEST_BF_run07\n",
      "21 LOWEST_BF_run11\n",
      "22 3DVISC_run05\n"
     ]
    }
   ],
   "source": [
    "ii=0\n",
    "for rec in records:\n",
    "    print(ii,rec.name)\n",
    "    ii = ii+1\n",
    "select_rec = [0]"
   ]
  },
  {
   "cell_type": "code",
   "execution_count": 30,
   "metadata": {
    "collapsed": false
   },
   "outputs": [],
   "source": [
    "keys = ['Tr_profile_tt06','Tr_profile_tt08','Tr_profile_tt10','Tr_profile_tt12']\n",
    "key0 = 'Tr_profile_tt00'\n",
    "\n",
    "for record in records:\n",
    "    \n",
    "    filename1 = ('/ocean/kramosmu/OutputAnalysis/outputanalysisnotebooks/results/metricsDataFrames/Tr1_profile_%s_%s.csv' %\n",
    "                 (record.name,'UpSh'))\n",
    "    filename2 = ('/ocean/kramosmu/OutputAnalysis/outputanalysisnotebooks/results/metricsDataFrames/Tr1_profile_%s_%s.csv' %\n",
    "                 (record.name,'DnSh'))\n",
    "    \n",
    "    df1 = pd.read_csv(filename1)\n",
    "    df2 = pd.read_csv(filename2)\n",
    "    \n",
    "    record.CprofUp = df1[keys[2]][:]\n",
    "    record.CprofUp0 = df1[key0[:]]\n",
    "    \n",
    "    record.CprofDn = df2[keys[2]][:]\n",
    "    record.CprofDn0 = df2[key0[:]]\n",
    "\n"
   ]
  },
  {
   "cell_type": "code",
   "execution_count": 40,
   "metadata": {
    "collapsed": false
   },
   "outputs": [
    {
     "data": {
      "image/png": "[encoded data removed]",
      "text/plain": [
       "<matplotlib.figure.Figure at 0x7f7efbb923c8>"
      ]
     },
     "metadata": {},
     "output_type": "display_data"
    }
   ],
   "source": [
    "plt.rcParams['font.size'] = 8.0\n",
    "fig, ax1 = plt.subplots(1,1,figsize = (2,3.5))\n",
    "\n",
    "ax1.axvline(0,color='0.8',linestyle='-')\n",
    "ax1.axhline(-grid.Depth[267,100],linestyle=':',color='0.8',linewidth=3)\n",
    "ax1.axhline(-grid.Depth[226,100],linestyle=':',color='0.8',linewidth=3)\n",
    "ax1.axhline(grid.Z[26],linestyle=':',color='0.8',linewidth=3)\n",
    "   \n",
    "for ind in select_rec:\n",
    "    rec=records[ind]\n",
    "    ax1.plot(rec.CprofUp[:48]-rec.CprofUp0[:48],grid.Z[:48],color=sns.xkcd_rgb[rec.color],label=rec.label)\n",
    "    \n",
    "ax1.set_xlabel('$C$ ($\\mu$M)',labelpad=0.0)\n",
    "ax1.set_ylabel('Depth (m)',labelpad=0.0)\n",
    "#ax1.legend(bbox_to_anchor=(1.0,1.0),ncol=1,labelspacing=0.1,columnspacing=0.1,frameon=True)\n",
    "ax1.set_ylim(-110,0)\n",
    "ax1.set_xlim(-0.5,2.8)\n",
    "\n",
    "plt.savefig('fig_TrProfileUps.png',format='png',bbox_inches='tight')\n"
   ]
  },
  {
   "cell_type": "code",
   "execution_count": 39,
   "metadata": {
    "collapsed": false
   },
   "outputs": [
    {
     "data": {
      "image/png": "[encoded data removed]",
      "text/plain": [
       "<matplotlib.figure.Figure at 0x7f7efc598ac8>"
      ]
     },
     "metadata": {},
     "output_type": "display_data"
    }
   ],
   "source": [
    "plt.rcParams['font.size'] = 8.0\n",
    "fig, ax1 = plt.subplots(1,1,figsize = (2,3.5))\n",
    "\n",
    "ax1.axvline(0,color='0.8',linestyle='-')\n",
    "ax1.axhline(-grid.Depth[267,100],linestyle=':',color='0.8',linewidth=3)\n",
    "ax1.axhline(-grid.Depth[226,100],linestyle=':',color='0.8',linewidth=3)\n",
    "ax1.axhline(grid.Z[26],linestyle=':',color='0.8',linewidth=3)\n",
    "   \n",
    "for ind in select_rec:\n",
    "    rec=records[ind]\n",
    "    ax1.plot(rec.CprofDn[:48]-rec.CprofDn0[:48],grid.Z[:48],color=sns.xkcd_rgb[rec.color],label=rec.label)\n",
    "    \n",
    "ax1.set_xlabel('$C$ ($\\mu$M)',labelpad=0.0)\n",
    "ax1.set_ylabel('Depth (m)',labelpad=0.0)\n",
    "#ax1.legend(bbox_to_anchor=(1.0,1.0),ncol=1,labelspacing=0.1,columnspacing=0.1,frameon=True)\n",
    "ax1.set_ylim(-110,0)\n",
    "ax1.set_xlim(-0.5,2.8)\n",
    "\n",
    "plt.savefig('fig_TrProfileDns.png',format='png',bbox_inches='tight')\n"
   ]
  },
  {
   "cell_type": "code",
   "execution_count": null,
   "metadata": {
    "collapsed": true
   },
   "outputs": [],
   "source": []
  },
  {
   "cell_type": "code",
   "execution_count": null,
   "metadata": {
    "collapsed": true
   },
   "outputs": [],
   "source": []
  },
  {
   "cell_type": "code",
   "execution_count": null,
   "metadata": {
    "collapsed": true
   },
   "outputs": [],
   "source": []
  }
 ],
 "metadata": {
  "anaconda-cloud": {},
  "kernelspec": {
   "display_name": "Python [conda root]",
   "language": "python",
   "name": "conda-root-py"
  },
  "language_info": {
   "codemirror_mode": {
    "name": "ipython",
    "version": 3
   },
   "file_extension": ".py",
   "mimetype": "text/x-python",
   "name": "python",
   "nbconvert_exporter": "python",
   "pygments_lexer": "ipython3",
   "version": "3.5.4"
  }
 },
 "nbformat": 4,
 "nbformat_minor": 1
}
