{
 "cells": [
  {
   "cell_type": "markdown",
   "metadata": {},
   "source": [
    "## Vertical transport figure"
   ]
  },
  {
   "cell_type": "code",
   "execution_count": 1,
   "metadata": {
    "collapsed": true
   },
   "outputs": [],
   "source": [
    "#import gsw as sw # Gibbs seawater package\n",
    "\n",
    "import matplotlib.pyplot as plt\n",
    "import matplotlib.colors as mcolors\n",
    "import matplotlib.gridspec as gspec\n",
    "%matplotlib inline\n",
    "\n",
    "from netCDF4 import Dataset\n",
    "import numpy as np\n",
    "import pandas as pd\n",
    "import seaborn as sns\n",
    "import sys\n",
    "import xarray as xr\n",
    "import canyon_tools.readout_tools as rout \n",
    "import canyon_tools.metrics_tools as mpt"
   ]
  },
  {
   "cell_type": "code",
   "execution_count": 2,
   "metadata": {
    "collapsed": true
   },
   "outputs": [],
   "source": [
    "sns.set_context('paper')\n",
    "sns.set_style('white')"
   ]
  },
  {
   "cell_type": "code",
   "execution_count": 3,
   "metadata": {
    "collapsed": true
   },
   "outputs": [],
   "source": [
    "def plotCSPos(ax,CS1,CS2,CS3,CS4):\n",
    "    ax.axvline(CS1,color='k',linestyle=':')\n",
    "    ax.axvline(CS2,color='k',linestyle=':')\n",
    "    ax.axvline(CS3,color='k',linestyle=':')\n",
    "    ax.axvline(CS4,color='k',linestyle=':')\n",
    "    \n",
    "def unstagger_xarray(qty, index):\n",
    "    \"\"\"Interpolate u, v, or w component values to values at grid cell centres.\n",
    "    \n",
    "    Named indexing requires that input arrays are XArray DataArrays.\n",
    "\n",
    "    :arg qty: u, v, or w component values\n",
    "    :type qty: :py:class:`xarray.DataArray`\n",
    "    \n",
    "    :arg index: index name along which to centre\n",
    "        (generally one of 'gridX', 'gridY', or 'depth')\n",
    "    :type index: str\n",
    "\n",
    "    :returns qty: u, v, or w component values at grid cell centres\n",
    "    :rtype: :py:class:`xarray.DataArray`\n",
    "    \"\"\"\n",
    "    \n",
    "    qty = (qty + qty.shift(**{index: 1})) / 2\n",
    "    \n",
    "    return qty\n"
   ]
  },
  {
   "cell_type": "code",
   "execution_count": 4,
   "metadata": {
    "collapsed": false
   },
   "outputs": [],
   "source": [
    "#Exp\n",
    "CGrid = '/ocean/kramosmu/MITgcm/TracerExperiments/CNTDIFF/run38/gridGlob.nc' \n",
    "CGridOut = Dataset(CGrid)\n",
    "\n",
    "CGridNoC = '/ocean/kramosmu/MITgcm/TracerExperiments/CNTDIFF/run42/gridGlob.nc' \n",
    "CGridNoCOut = Dataset(CGridNoC)\n",
    "\n",
    "Ptracers = '/ocean/kramosmu/MITgcm/TracerExperiments/CNTDIFF/run38/ptracersGlob.nc' \n",
    "PtracersOut = Dataset(Ptracers)\n",
    "\n",
    "PtracersNoC = '/ocean/kramosmu/MITgcm/TracerExperiments/CNTDIFF/run42/ptracersGlob.nc' \n",
    "PtracersOutNoC = Dataset(PtracersNoC)\n",
    "\n",
    "State = '/ocean/kramosmu/MITgcm/TracerExperiments/CNTDIFF/run38/stateGlob.nc' \n",
    "StateNoC = '/ocean/kramosmu/MITgcm/TracerExperiments/CNTDIFF/run42/stateGlob.nc' \n",
    "\n",
    "flux_file = '/ocean/kramosmu/MITgcm/TracerExperiments/CNTDIFF/run38/FluxTR01Glob.nc'\n",
    "fluxNoC_file = '/ocean/kramosmu/MITgcm/TracerExperiments/CNTDIFF/run42/FluxTR01Glob.nc'\n",
    "\n",
    "grid = xr.open_dataset(CGrid)\n",
    "\n",
    "flux_file = '/ocean/kramosmu/MITgcm/TracerExperiments/CNTDIFF/run38/FluxTR01Glob.nc'\n",
    "fluxNoC_file = '/ocean/kramosmu/MITgcm/TracerExperiments/CNTDIFF/run42/FluxTR01Glob.nc'\n",
    "\n",
    "flux = xr.open_dataset(flux_file)\n",
    "fluxNoC = xr.open_dataset(fluxNoC_file)"
   ]
  },
  {
   "cell_type": "code",
   "execution_count": null,
   "metadata": {
    "collapsed": true
   },
   "outputs": [],
   "source": []
  },
  {
   "cell_type": "code",
   "execution_count": null,
   "metadata": {
    "collapsed": true
   },
   "outputs": [],
   "source": []
  },
  {
   "cell_type": "code",
   "execution_count": 5,
   "metadata": {
    "collapsed": true
   },
   "outputs": [],
   "source": [
    "# General input\n",
    "\n",
    "nx = 360\n",
    "ny = 360\n",
    "nz = 90\n",
    "nt = 19 # t dimension size \n",
    "numTr = 22 # number of tracers in total (CNT =22, 3D = 4, total = 19)\n",
    "\n",
    "rc = CGridNoCOut.variables['RC']\n",
    "dxf = CGridNoCOut.variables['dxF']\n",
    "xc = rout.getField(CGridNoC, 'XC') # x coords tracer cells\n",
    "yc = rout.getField(CGridNoC, 'YC') # y coords tracer cells\n",
    "\n",
    "rA = rout.getField(CGridNoC, 'rA') \n",
    "\n",
    "drF = CGridNoCOut.variables['drF'] # vertical distance between faces\n",
    "drC = CGridNoCOut.variables['drC'] # vertical distance between centers\n",
    "\n",
    "hFacC = rout.getField(CGridNoC, 'HFacC')\n",
    "mask_NoC = rout.getMask(CGridNoC, 'HFacC')\n",
    "\n",
    "\n",
    "\n",
    "times = np.arange(0,nt,1)\n",
    "\n",
    "#print(drC[:])\n",
    "#print(np.shape(drC))"
   ]
  },
  {
   "cell_type": "code",
   "execution_count": 6,
   "metadata": {
    "collapsed": true
   },
   "outputs": [],
   "source": [
    "import canyon_records \n",
    "import nocanyon_records\n",
    "\n",
    "records = canyon_records.main()\n",
    "recordsNoC = nocanyon_records.main()"
   ]
  },
  {
   "cell_type": "code",
   "execution_count": 7,
   "metadata": {
    "collapsed": false
   },
   "outputs": [
    {
     "name": "stdout",
     "output_type": "stream",
     "text": [
      "0 CNTDIFF_run38\n",
      "1 CNTDIFF_run37\n",
      "2 CNTDIFF_run36\n",
      "3 CNTDIFF_run45\n",
      "4 CNTDIFF_run73\n",
      "5 CNTDIFF_run75\n",
      "6 CNTDIFF_run67\n",
      "7 CNTDIFF_run51\n",
      "8 CNTDIFF_run69\n",
      "9 CNTDIFF_run71\n",
      "10 3DVISC_run01\n",
      "11 3DVISC_run02\n",
      "12 3DVISC_run03\n",
      "13 3DVISC_run04\n",
      "14 3DVISC_run06\n",
      "15 LOW_BF_run01\n",
      "16 LOWER_BF_run01\n",
      "17 LOWEST_BF_run01\n",
      "18 LOWEST_BF_run03\n",
      "19 LOWEST_BF_run05\n",
      "20 LOWEST_BF_run07\n",
      "21 LOWEST_BF_run11\n",
      "22 3DVISC_run05\n"
     ]
    }
   ],
   "source": [
    "ii=0\n",
    "for rec in records:\n",
    "    print(ii,rec.name)\n",
    "    ii=ii+1\n",
    "    \n",
    "select_rec=[14,0,10,2,5,7,17]\n",
    "line_col = ['k','0.5','0.3','k', 'k','0.3','0.5']\n",
    "line_sty = ['-','-','-',':','--','--','--']\n",
    "labels = ['Base $\\kappa_v$ bkg,\\n$10^{-2}m^2s^{-1}$ $\\kappa_v$ cny',\n",
    "          'Base',\n",
    "          'Base $\\kappa_v$ bkg,\\n$10^{-3}m^2s^{-1}$ $\\kappa_v$ cny',\n",
    "          'Higher $\\kappa_v$ bkg',\n",
    "          'Lower $N$',\n",
    "          'Lower $f$',\n",
    "          'Lowest $U$',\n",
    "          ]"
   ]
  },
  {
   "cell_type": "code",
   "execution_count": 8,
   "metadata": {
    "collapsed": false
   },
   "outputs": [],
   "source": [
    "fileBase = ('/ocean/kramosmu/MITgcm/TracerExperiments/CNTDIFF/run38advTracer_CS_transports.nc')\n",
    "filewatBase = ('/ocean/kramosmu/MITgcm/TracerExperiments/CNTDIFF/run38water_CS_transports.nc')\n",
    "filedifBase = ('/ocean/kramosmu/MITgcm/TracerExperiments/CNTDIFF/run38difTracer_CS_transports.nc')\n",
    "    \n",
    "dfcanBase = xr.open_dataset(fileBase)\n",
    "dfdifBase = xr.open_dataset(filedifBase)\n",
    "dfwatBase = xr.open_dataset(filewatBase)\n",
    "    \n",
    "verticalBase = (dfdifBase.Vert_dif_trans_sb + dfcanBase.Vert_adv_trans_sb)  \n"
   ]
  },
  {
   "cell_type": "code",
   "execution_count": 9,
   "metadata": {
    "collapsed": false
   },
   "outputs": [
    {
     "name": "stdout",
     "output_type": "stream",
     "text": [
      "water, Base $\\kappa_v$ bkg,\n",
      "$10^{-2}m^2s^{-1}$ $\\kappa_v$ cny\n",
      "1.13142339611\n",
      "0.165488280426\n",
      "adv, Base $\\kappa_v$ bkg,\n",
      "$10^{-2}m^2s^{-1}$ $\\kappa_v$ cny\n",
      "1.1743\n",
      "0.162151\n",
      "total tracer, Base $\\kappa_v$ bkg,\n",
      "$10^{-2}m^2s^{-1}$ $\\kappa_v$ cny\n",
      "1.31409\n",
      "0.195613\n",
      "water, Base\n",
      "1.0\n",
      "0.0\n",
      "adv, Base\n",
      "1.0\n",
      "0.0\n",
      "total tracer, Base\n",
      "1.0\n",
      "0.0\n",
      "water, Base $\\kappa_v$ bkg,\n",
      "$10^{-3}m^2s^{-1}$ $\\kappa_v$ cny\n",
      "1.15021665616\n",
      "0.116800282593\n",
      "adv, Base $\\kappa_v$ bkg,\n",
      "$10^{-3}m^2s^{-1}$ $\\kappa_v$ cny\n",
      "1.18052\n",
      "0.132704\n",
      "total tracer, Base $\\kappa_v$ bkg,\n",
      "$10^{-3}m^2s^{-1}$ $\\kappa_v$ cny\n",
      "1.22166\n",
      "0.147973\n",
      "water, Higher $\\kappa_v$ bkg\n",
      "1.11315013645\n",
      "0.10483018757\n",
      "adv, Higher $\\kappa_v$ bkg\n",
      "1.13965\n",
      "0.120297\n",
      "total tracer, Higher $\\kappa_v$ bkg\n",
      "1.18658\n",
      "0.137692\n",
      "water, Lower $N$\n",
      "1.30569714633\n",
      "0.186515021035\n",
      "adv, Lower $N$\n",
      "1.43043\n",
      "0.187001\n",
      "total tracer, Lower $N$\n",
      "1.42936\n",
      "0.187528\n",
      "water, Lower $f$\n",
      "0.750437623631\n",
      "0.0952879304672\n",
      "adv, Lower $f$\n",
      "0.761553\n",
      "0.0823513\n",
      "total tracer, Lower $f$\n",
      "0.761682\n",
      "0.0823607\n",
      "water, Lowest $U$\n",
      "0.33675397789\n",
      "0.076576374085\n",
      "adv, Lowest $U$\n",
      "0.286682\n",
      "0.0652095\n",
      "total tracer, Lowest $U$\n",
      "0.286922\n",
      "0.0652842\n"
     ]
    },
    {
     "data": {
      "image/png": "[encoded data removed]",
      "text/plain": [
       "<matplotlib.figure.Figure at 0x7fbb786e50b8>"
      ]
     },
     "metadata": {},
     "output_type": "display_data"
    }
   ],
   "source": [
    "plt.rcParams['font.size'] = 8.0\n",
    "f = plt.figure(figsize = (3.74,4.6)) # 95mm = 3.74 in, 115cm = 4.52in\n",
    "\n",
    "gs = gspec.GridSpec(3, 1,hspace=0.1)\n",
    "\n",
    "ax0 = plt.subplot(gs[0],xticks=[],yticks=[0.4,0.6,0.8,1,1.2,1.4,1.6,1.8,2])\n",
    "ax1 = plt.subplot(gs[1],xticks=[],yticks=[0.4,0.6,0.8,1,1.2,1.4,1.6,1.8,2])\n",
    "ax2 = plt.subplot(gs[2],yticks=[0.4,0.6,0.8,1,1.2,1.4,1.6,1.8,2])\n",
    "\n",
    "ii=0\n",
    "\n",
    "# Time series\n",
    "\n",
    "for ind in select_rec:\n",
    "\n",
    "    file = (('/ocean/kramosmu/MITgcm/TracerExperiments/%s/%s' %(records[ind].exp_code,\n",
    "                                                                records[ind].run_num))+\n",
    "            'advTracer_CS_transports.nc')\n",
    "    \n",
    "    filedif = (('/ocean/kramosmu/MITgcm/TracerExperiments/%s/%s' %(records[ind].exp_code,\n",
    "                                                                   records[ind].run_num))+\n",
    "            'difTracer_CS_transports.nc')\n",
    "    \n",
    "    filewat = (('/ocean/kramosmu/MITgcm/TracerExperiments/%s/%s' %(records[ind].exp_code,\n",
    "                                                                   records[ind].run_num))+\n",
    "            'water_CS_transports.nc')\n",
    "    \n",
    "    dfcan = xr.open_dataset(file)\n",
    "    dfdif = xr.open_dataset(filedif)\n",
    "    dfwat = xr.open_dataset(filewat)\n",
    "    \n",
    "    vertical = (dfdif.Vert_dif_trans_sb + dfcan.Vert_adv_trans_sb)  \n",
    "\n",
    "    ax0.plot(np.arange(6,19,1)/2.0,(dfwat.Vert_water_trans_sb[6:].data/dfwatBase.Vert_water_trans_sb[6:].data),\n",
    "             linestyle=line_sty[ii],\n",
    "             color=line_col[ii])\n",
    "    print('water, %s' %labels[ii])\n",
    "    print(np.mean(dfwat.Vert_water_trans_sb[6:].data/dfwatBase.Vert_water_trans_sb[6:].data))\n",
    "    print(np.std(dfwat.Vert_water_trans_sb[6:].data/dfwatBase.Vert_water_trans_sb[6:].data))\n",
    "    \n",
    "    ax1.plot(np.arange(6,19,1)/2.0,(dfcan.Vert_adv_trans_sb[5:].data/dfcanBase.Vert_adv_trans_sb[5:].data),\n",
    "             linestyle=line_sty[ii],\n",
    "             color=line_col[ii])\n",
    "    print('adv, %s' %labels[ii])\n",
    "    print(np.mean(dfcan.Vert_adv_trans_sb[5:].data/dfcanBase.Vert_adv_trans_sb[5:].data))\n",
    "    print(np.std(dfcan.Vert_adv_trans_sb[5:].data/dfcanBase.Vert_adv_trans_sb[5:].data))\n",
    "    \n",
    "    ax2.plot(np.arange(6,19,1)/2.0,(vertical[5:].data/verticalBase[5:].data),\n",
    "             linestyle=line_sty[ii],\n",
    "             color=line_col[ii],\n",
    "             label=labels[ii])\n",
    "    print('total tracer, %s' %labels[ii])\n",
    "    print(np.mean(vertical[5:].data/verticalBase[5:].data))\n",
    "    print(np.std(vertical[5:].data/verticalBase[5:].data))\n",
    "    \n",
    "    ii=ii+1\n",
    "    \n",
    "    \n",
    "ax2.set_xlabel('Days',labelpad=0.5)\n",
    "ax1.set_ylabel('Trans/Trans$_{base}$',labelpad=0.5)\n",
    "ax0.set_ylabel('Trans/Trans$_{base}$',labelpad=0.5)\n",
    "ax2.set_ylabel('Trans/Trans$_{base}$',labelpad=0.5)\n",
    "\n",
    "ax0.text(0.02,0.9,'(a) LID water',transform=ax0.transAxes)\n",
    "ax1.text(0.02,0.9,'(b) LID tracer advective',transform=ax1.transAxes)\n",
    "ax2.text(0.02,0.9,'(c) LID tracer total',transform=ax2.transAxes)\n",
    "\n",
    "ax0.set_ylim(0.4,1.9)   \n",
    "ax1.set_ylim(0.4,1.9)   \n",
    "ax2.set_ylim(0.4,1.9)   \n",
    "\n",
    "ax2.legend(ncol=3,bbox_to_anchor=(1.05,-0.2),mode='extend',labelspacing=0.2,columnspacing=0.7,handletextpad=0.2)\n",
    "\n",
    "ax0.tick_params(axis='x', pad=1)\n",
    "ax1.tick_params(axis='x', pad=1)\n",
    "\n",
    "ax0.tick_params(axis='y', pad=3)\n",
    "ax1.tick_params(axis='y', pad=3)\n",
    "ax2.tick_params(axis='y', pad=3)\n",
    "\n",
    "#plt.savefig('fig_vert_transport.eps',format='eps',bbox_inches='tight')\n"
   ]
  },
  {
   "cell_type": "markdown",
   "metadata": {
    "collapsed": false
   },
   "source": []
  },
  {
   "cell_type": "code",
   "execution_count": 11,
   "metadata": {
    "collapsed": true
   },
   "outputs": [],
   "source": [
    "# Constants and scales\n",
    "L = 6400.0 # canyon length\n",
    "R = 5000.0 # Upstream radius of curvature\n",
    "g = 9.81 # accel. gravity\n",
    "Wsb = 13000 # Width at shelf break\n",
    "Hs = 147.5 # Shelf break depth\n",
    "s = 0.005 # shelf slope \n",
    "W = 8300 # mid-length width\n",
    "Hh=97.5 # head depth\n",
    "# NOTE: The default values of all functions correspond to the base case\n",
    "\n",
    "def Dh(f=9.66E-4,L=6400.0,N=5.5E-3):\n",
    "    '''Vertical scale Dh'''\n",
    "    return((f*L)/(N))\n",
    "    \n",
    "def Ro(U=0.37,f=9.66E-4,R=5000.0):\n",
    "    '''Rossby number using radius of curvature as length scale'''\n",
    "    return(U/(f*R))\n",
    "\n",
    "def F(Ro):\n",
    "    '''Function that estimates the ability of the flow to follow isobaths'''\n",
    "    return(Ro/(0.9+Ro))\n",
    "\n",
    "def Bu(N=5.5E-3,f=9.66E-5,L=6400.0,Hs=150.0):\n",
    "    '''Burger number'''\n",
    "    return(N*Hs/(f*L))\n",
    "\n",
    "def RossbyRad(N=5.5E-3,Hs=150.0,f=9.66E-4):\n",
    "    '''1st Rossby radius of deformation'''\n",
    "    return(N*Hs/f)\n"
   ]
  },
  {
   "cell_type": "code",
   "execution_count": 14,
   "metadata": {
    "collapsed": false
   },
   "outputs": [
    {
     "name": "stdout",
     "output_type": "stream",
     "text": [
      "$Ro$&\t$N_o$&\t$\\kappa_{can}$&\tWater $10^{4}$ m$^3$s$^{-1}$&\tAdvective $10^{4}$ $\\mu$Mm$^3$s$^{-1}$&\tTotal $10^{4}$ $\\mu$Mm$^3$s$^{-1}$&\n",
      "0.741\t&5.50e-03\t&1.0e-05\t&2.34$\\pm$0.56\t&17.90$\\pm$3.82\t&17.90$\\pm$3.82\t \n",
      "0.741\t&5.50e-03\t&1.0e-04\t&2.36$\\pm$0.57\t&18.15$\\pm$3.87\t&18.22$\\pm$3.87\t \n",
      "0.741\t&5.50e-03\t&1.0e-03\t&2.47$\\pm$0.54\t&19.35$\\pm$3.68\t&20.12$\\pm$3.67\t \n",
      "0.741\t&6.30e-03\t&1.0e-05\t&1.86$\\pm$0.38\t&13.62$\\pm$2.37\t&13.62$\\pm$2.37\t \n",
      "0.741\t&7.40e-03\t&1.0e-05\t&1.38$\\pm$0.29\t&9.79$\\pm$1.68\t&9.79$\\pm$1.68\t \n",
      "0.741\t&4.50e-03\t&1.0e-05\t&3.23$\\pm$0.74\t&26.55$\\pm$5.76\t&26.54$\\pm$5.76\t \n",
      "0.716\t&5.50e-03\t&1.0e-05\t&2.44$\\pm$0.62\t&18.76$\\pm$4.19\t&18.75$\\pm$4.18\t \n",
      "0.932\t&5.50e-03\t&1.0e-05\t&1.75$\\pm$0.41\t&13.13$\\pm$2.38\t&13.13$\\pm$2.38\t \n",
      "0.833\t&5.50e-03\t&1.0e-05\t&2.00$\\pm$0.46\t&15.14$\\pm$2.85\t&15.14$\\pm$2.85\t \n",
      "1.119\t&5.50e-03\t&1.0e-05\t&1.43$\\pm$0.44\t&10.87$\\pm$2.58\t&10.87$\\pm$2.58\t \n",
      "0.741\t&5.50e-03\t&1.0e-03\t&2.61$\\pm$0.44\t&20.56$\\pm$2.85\t&21.25$\\pm$2.85\t \n",
      "0.741\t&5.50e-03\t&1.0e-04\t&2.36$\\pm$0.45\t&18.17$\\pm$2.96\t&18.24$\\pm$2.95\t \n",
      "0.741\t&5.50e-03\t&1.0e-03\t&2.60$\\pm$0.44\t&20.49$\\pm$2.91\t&21.18$\\pm$2.91\t \n",
      "0.741\t&5.50e-03\t&1.0e-04\t&2.36$\\pm$0.46\t&18.15$\\pm$3.00\t&18.23$\\pm$3.00\t \n",
      "0.741\t&5.50e-03\t&1.0e-02\t&2.59$\\pm$0.33\t&20.82$\\pm$2.40\t&23.19$\\pm$2.51\t \n",
      "0.503\t&5.50e-03\t&1.0e-05\t&1.79$\\pm$0.26\t&13.02$\\pm$1.92\t&13.02$\\pm$1.92\t \n",
      "0.613\t&5.50e-03\t&1.0e-05\t&2.15$\\pm$0.54\t&15.54$\\pm$3.67\t&15.54$\\pm$3.67\t \n",
      "0.257\t&5.50e-03\t&1.0e-05\t&0.75$\\pm$0.06\t&5.09$\\pm$0.40\t&5.09$\\pm$0.40\t \n",
      "0.257\t&4.50e-03\t&1.0e-05\t&1.07$\\pm$0.04\t&7.73$\\pm$0.20\t&7.73$\\pm$0.20\t \n",
      "0.257\t&7.40e-03\t&1.0e-05\t&0.44$\\pm$0.04\t&2.71$\\pm$0.24\t&2.71$\\pm$0.24\t \n",
      "0.354\t&5.50e-03\t&1.0e-05\t&0.53$\\pm$0.05\t&3.32$\\pm$0.29\t&3.32$\\pm$0.29\t \n",
      "0.257\t&5.50e-03\t&1.0e-03\t&0.84$\\pm$0.04\t&6.02$\\pm$0.28\t&6.46$\\pm$0.29\t \n",
      "0.741\t&5.50e-03\t&5.0e-03\t&2.84$\\pm$0.36\t&22.64$\\pm$2.58\t&24.58$\\pm$2.67\t \n"
     ]
    }
   ],
   "source": [
    "print (\"\\t\".join(['$Ro$&','$N_o$&','$\\kappa_{can}$&', 'Water $10^{4}$ m$^3$s$^{-1}$&', \n",
    "                  'Advective $10^{4}$ $\\mu$Mm$^3$s$^{-1}$&',\n",
    "                  'Total $10^{4}$ $\\mu$Mm$^3$s$^{-1}$&']))\n",
    "\n",
    "select_rec = [0,1,2,3,4,5,6,7,8,9,10,11,12,13,14,15,16,17,18,19,20,21,22]\n",
    "for ind in select_rec:\n",
    "    \n",
    "    file = (('/ocean/kramosmu/MITgcm/TracerExperiments/%s/%s' %(records[ind].exp_code,\n",
    "                                                                records[ind].run_num))+\n",
    "            'advTracer_CS_transports.nc')\n",
    "    \n",
    "    filedif = (('/ocean/kramosmu/MITgcm/TracerExperiments/%s/%s' %(records[ind].exp_code,\n",
    "                                                                   records[ind].run_num))+\n",
    "            'difTracer_CS_transports.nc')\n",
    "    \n",
    "    filewat = (('/ocean/kramosmu/MITgcm/TracerExperiments/%s/%s' %(records[ind].exp_code,\n",
    "                                                                   records[ind].run_num))+\n",
    "            'water_CS_transports.nc')\n",
    "    \n",
    "    dfcan = xr.open_dataset(file)\n",
    "    dfdif = xr.open_dataset(filedif)\n",
    "    dfwat = xr.open_dataset(filewat)\n",
    "    \n",
    "    vertical = (dfdif.Vert_dif_trans_sb + dfcan.Vert_adv_trans_sb)  \n",
    "\n",
    "    wat = np.mean(dfwat.Vert_water_trans_sb[8:14].data)\n",
    "    wat_std = np.std(dfwat.Vert_water_trans_sb[8:14].data)\n",
    "    \n",
    "   \n",
    "    adv = np.mean(dfcan.Vert_adv_trans_sb[8:14].data)\n",
    "    adv_std = np.std(dfcan.Vert_adv_trans_sb[8:14].data)\n",
    "    \n",
    "    total = np.mean(vertical[8:14].data)\n",
    "    total_std = np.std(vertical[8:14].data)\n",
    "  \n",
    "    print (\"\\t\".join(['%0.3f\\t&%0.2e\\t&%0.1e\\t&%.2f$\\pm$%0.2f\\t&%.2f$\\pm$%0.2f\\t&%.2f$\\pm$%0.2f\\t ' \n",
    "                      % (Ro(records[ind].u,\n",
    "                        records[ind].f,R),\n",
    "                        records[ind].N,\n",
    "                        records[ind].kv,\n",
    "                        wat/1E4,wat_std/1E4,\n",
    "                        adv/1E4,adv_std/1E4,\n",
    "                        total/1E4,total_std/1E4)]))\n",
    "                                                              \n"
   ]
  },
  {
   "cell_type": "code",
   "execution_count": null,
   "metadata": {
    "collapsed": true
   },
   "outputs": [],
   "source": []
  },
  {
   "cell_type": "code",
   "execution_count": null,
   "metadata": {
    "collapsed": true
   },
   "outputs": [],
   "source": []
  }
 ],
 "metadata": {
  "anaconda-cloud": {},
  "kernelspec": {
   "display_name": "Python [conda root]",
   "language": "python",
   "name": "conda-root-py"
  },
  "language_info": {
   "codemirror_mode": {
    "name": "ipython",
    "version": 3
   },
   "file_extension": ".py",
   "mimetype": "text/x-python",
   "name": "python",
   "nbconvert_exporter": "python",
   "pygments_lexer": "ipython3",
   "version": "3.5.2"
  }
 },
 "nbformat": 4,
 "nbformat_minor": 1
}
