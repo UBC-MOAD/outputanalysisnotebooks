{
 "cells": [
  {
   "cell_type": "markdown",
   "metadata": {},
   "source": [
    "## Vertical transport figure"
   ]
  },
  {
   "cell_type": "code",
   "execution_count": 2,
   "metadata": {
    "collapsed": true
   },
   "outputs": [],
   "source": [
    "#import gsw as sw # Gibbs seawater package\n",
    "\n",
    "import matplotlib.pyplot as plt\n",
    "import matplotlib.colors as mcolors\n",
    "import matplotlib.gridspec as gspec\n",
    "%matplotlib inline\n",
    "\n",
    "from netCDF4 import Dataset\n",
    "import numpy as np\n",
    "import pandas as pd\n",
    "import seaborn as sns\n",
    "import sys\n",
    "import xarray as xr\n",
    "import canyon_tools.readout_tools as rout \n",
    "import canyon_tools.metrics_tools as mpt"
   ]
  },
  {
   "cell_type": "code",
   "execution_count": 3,
   "metadata": {
    "collapsed": true
   },
   "outputs": [],
   "source": [
    "sns.set_context('paper')\n",
    "sns.set_style('white')"
   ]
  },
  {
   "cell_type": "code",
   "execution_count": 4,
   "metadata": {
    "collapsed": true
   },
   "outputs": [],
   "source": [
    "def plotCSPos(ax,CS1,CS2,CS3,CS4):\n",
    "    ax.axvline(CS1,color='k',linestyle=':')\n",
    "    ax.axvline(CS2,color='k',linestyle=':')\n",
    "    ax.axvline(CS3,color='k',linestyle=':')\n",
    "    ax.axvline(CS4,color='k',linestyle=':')\n",
    "    \n",
    "def unstagger_xarray(qty, index):\n",
    "    \"\"\"Interpolate u, v, or w component values to values at grid cell centres.\n",
    "    \n",
    "    Named indexing requires that input arrays are XArray DataArrays.\n",
    "\n",
    "    :arg qty: u, v, or w component values\n",
    "    :type qty: :py:class:`xarray.DataArray`\n",
    "    \n",
    "    :arg index: index name along which to centre\n",
    "        (generally one of 'gridX', 'gridY', or 'depth')\n",
    "    :type index: str\n",
    "\n",
    "    :returns qty: u, v, or w component values at grid cell centres\n",
    "    :rtype: :py:class:`xarray.DataArray`\n",
    "    \"\"\"\n",
    "    \n",
    "    qty = (qty + qty.shift(**{index: 1})) / 2\n",
    "    \n",
    "    return qty\n"
   ]
  },
  {
   "cell_type": "code",
   "execution_count": 5,
   "metadata": {
    "collapsed": false
   },
   "outputs": [],
   "source": [
    "#Exp\n",
    "CGrid = '/ocean/kramosmu/MITgcm/TracerExperiments/CNTDIFF/run38/gridGlob.nc' \n",
    "CGridOut = Dataset(CGrid)\n",
    "\n",
    "CGridNoC = '/ocean/kramosmu/MITgcm/TracerExperiments/CNTDIFF/run42/gridGlob.nc' \n",
    "CGridNoCOut = Dataset(CGridNoC)\n",
    "\n",
    "Ptracers = '/ocean/kramosmu/MITgcm/TracerExperiments/CNTDIFF/run38/ptracersGlob.nc' \n",
    "PtracersOut = Dataset(Ptracers)\n",
    "\n",
    "PtracersNoC = '/ocean/kramosmu/MITgcm/TracerExperiments/CNTDIFF/run42/ptracersGlob.nc' \n",
    "PtracersOutNoC = Dataset(PtracersNoC)\n",
    "\n",
    "State = '/ocean/kramosmu/MITgcm/TracerExperiments/CNTDIFF/run38/stateGlob.nc' \n",
    "StateNoC = '/ocean/kramosmu/MITgcm/TracerExperiments/CNTDIFF/run42/stateGlob.nc' \n",
    "\n",
    "flux_file = '/ocean/kramosmu/MITgcm/TracerExperiments/CNTDIFF/run38/FluxTR01Glob.nc'\n",
    "fluxNoC_file = '/ocean/kramosmu/MITgcm/TracerExperiments/CNTDIFF/run42/FluxTR01Glob.nc'\n",
    "\n",
    "grid = xr.open_dataset(CGrid)\n",
    "\n",
    "flux_file = '/ocean/kramosmu/MITgcm/TracerExperiments/CNTDIFF/run38/FluxTR01Glob.nc'\n",
    "fluxNoC_file = '/ocean/kramosmu/MITgcm/TracerExperiments/CNTDIFF/run42/FluxTR01Glob.nc'\n",
    "\n",
    "flux = xr.open_dataset(flux_file)\n",
    "fluxNoC = xr.open_dataset(fluxNoC_file)"
   ]
  },
  {
   "cell_type": "code",
   "execution_count": null,
   "metadata": {
    "collapsed": true
   },
   "outputs": [],
   "source": []
  },
  {
   "cell_type": "code",
   "execution_count": null,
   "metadata": {
    "collapsed": true
   },
   "outputs": [],
   "source": []
  },
  {
   "cell_type": "code",
   "execution_count": 6,
   "metadata": {
    "collapsed": true
   },
   "outputs": [],
   "source": [
    "# General input\n",
    "\n",
    "nx = 360\n",
    "ny = 360\n",
    "nz = 90\n",
    "nt = 19 # t dimension size \n",
    "numTr = 22 # number of tracers in total (CNT =22, 3D = 4, total = 19)\n",
    "\n",
    "rc = CGridNoCOut.variables['RC']\n",
    "dxf = CGridNoCOut.variables['dxF']\n",
    "xc = rout.getField(CGridNoC, 'XC') # x coords tracer cells\n",
    "yc = rout.getField(CGridNoC, 'YC') # y coords tracer cells\n",
    "\n",
    "rA = rout.getField(CGridNoC, 'rA') \n",
    "\n",
    "drF = CGridNoCOut.variables['drF'] # vertical distance between faces\n",
    "drC = CGridNoCOut.variables['drC'] # vertical distance between centers\n",
    "\n",
    "hFacC = rout.getField(CGridNoC, 'HFacC')\n",
    "mask_NoC = rout.getMask(CGridNoC, 'HFacC')\n",
    "\n",
    "\n",
    "\n",
    "times = np.arange(0,nt,1)\n",
    "\n",
    "#print(drC[:])\n",
    "#print(np.shape(drC))"
   ]
  },
  {
   "cell_type": "code",
   "execution_count": 7,
   "metadata": {
    "collapsed": true
   },
   "outputs": [],
   "source": [
    "import canyon_records \n",
    "import nocanyon_records\n",
    "\n",
    "records = canyon_records.main()\n",
    "recordsNoC = nocanyon_records.main()"
   ]
  },
  {
   "cell_type": "code",
   "execution_count": 47,
   "metadata": {
    "collapsed": false
   },
   "outputs": [
    {
     "name": "stdout",
     "output_type": "stream",
     "text": [
      "0 CNTDIFF_run43\n",
      "1 CNTDIFF_run38\n",
      "2 CNTDIFF_run37\n",
      "3 CNTDIFF_run36\n",
      "4 CNTDIFF_run45\n",
      "5 CNTDIFF_run73\n",
      "6 CNTDIFF_run75\n",
      "7 CNTDIFF_run67\n",
      "8 CNTDIFF_run51\n",
      "9 CNTDIFF_run69\n",
      "10 CNTDIFF_run71\n",
      "11 3DVISC_run01\n",
      "12 3DVISC_run02\n",
      "13 3DVISC_run03\n",
      "14 3DVISC_run04\n",
      "15 LOW_BF_run01\n",
      "16 LOWER_BF_run01\n"
     ]
    }
   ],
   "source": [
    "ii=0\n",
    "for rec in records:\n",
    "    print(ii,rec.name)\n",
    "    ii=ii+1\n",
    "    \n",
    "select_rec=[11,1,12,3,13]\n",
    "line_col = ['k','0.3','0.5','k', 'k']\n",
    "line_sty = ['-','-','-','--',':']\n",
    "labels = ['Base $\\kappa_v$ bkg,\\nhighest $\\kappa_v$ cny',\n",
    "          'Base',\n",
    "          'Base $\\kappa_v$ bkg,\\nhigher $\\kappa_v$ cny',\n",
    "          'High $\\kappa_v$ bkg',\n",
    "          'Low $\\kappa_v$ bkg,\\nhighest $\\kappa_v$ cny',\n",
    "          ]"
   ]
  },
  {
   "cell_type": "code",
   "execution_count": 9,
   "metadata": {
    "collapsed": false
   },
   "outputs": [],
   "source": [
    "fileBase = ('/ocean/kramosmu/MITgcm/TracerExperiments/CNTDIFF/run38advTracer_CS_transports.nc')\n",
    "    \n",
    "filedifBase = ('/ocean/kramosmu/MITgcm/TracerExperiments/CNTDIFF/run38difTracer_CS_transports.nc')\n",
    "    \n",
    "dfcanBase = xr.open_dataset(fileBase)\n",
    "dfdifBase = xr.open_dataset(filedifBase)\n",
    "    \n",
    "verticalBase = (dfdifBase.Vert_dif_trans_sb + dfcanBase.Vert_adv_trans_sb)  \n"
   ]
  },
  {
   "cell_type": "code",
   "execution_count": 58,
   "metadata": {
    "collapsed": false
   },
   "outputs": [
    {
     "data": {
      "image/png": "[encoded data removed]",
      "text/plain": [
       "<matplotlib.figure.Figure at 0x7f0a1c767470>"
      ]
     },
     "metadata": {},
     "output_type": "display_data"
    }
   ],
   "source": [
    "plt.rcParams['font.size'] = 8.0\n",
    "f = plt.figure(figsize = (3.74,4.6)) # 95mm = 3.74 in, 115cm = 4.52in\n",
    "\n",
    "gs = gspec.GridSpec(3, 1,hspace=0.1)\n",
    "\n",
    "ax0 = plt.subplot(gs[0],xticks=[],yticks=[0,0.1,0.2,0.3,0.4,0.5])\n",
    "ax1 = plt.subplot(gs[1],xticks=[])\n",
    "ax2 = plt.subplot(gs[2],yticks=[0,0.1,0.2,0.3,0.4,0.5])\n",
    "\n",
    "ii=0\n",
    "\n",
    "# Time series\n",
    "\n",
    "for ind in select_rec:\n",
    "\n",
    "    file = (('/ocean/kramosmu/MITgcm/TracerExperiments/%s/%s' %(records[ind].exp_code,\n",
    "                                                                records[ind].run_num))+\n",
    "            'advTracer_CS_transports.nc')\n",
    "    \n",
    "    filedif = (('/ocean/kramosmu/MITgcm/TracerExperiments/%s/%s' %(records[ind].exp_code,\n",
    "                                                                   records[ind].run_num))+\n",
    "            'difTracer_CS_transports.nc')\n",
    "    \n",
    "    dfcan = xr.open_dataset(file)\n",
    "    dfdif = xr.open_dataset(filedif)\n",
    "    \n",
    "    vertical = (dfdif.Vert_dif_trans_sb + dfcan.Vert_adv_trans_sb)  \n",
    "\n",
    "    ax0.plot(np.arange(6,19,1)/2.0,(((dfcan.Vert_adv_trans_sb[5:].data-dfcanBase.Vert_adv_trans_sb[5:].data)**2)**(1/2))/\n",
    "             (dfcanBase.Vert_adv_trans_sb[5:].data**2)**(1/2),\n",
    "             linestyle=line_sty[ii],\n",
    "             color=line_col[ii])\n",
    "    ax1.plot(np.arange(6,19,1)/2.0,(((dfdif.Vert_dif_trans_sb[5:].data-dfdifBase.Vert_dif_trans_sb[5:].data)**2)**(1/2))/\n",
    "             (dfdifBase.Vert_dif_trans_sb[5:].data**2)**(1/2),\n",
    "             linestyle=line_sty[ii],\n",
    "             color=line_col[ii])\n",
    "    ax2.plot(np.arange(6,19,1)/2.0,(((vertical[5:].data-verticalBase[5:].data)**2)**(1/2))/(verticalBase[5:].data**2)**(1/2),\n",
    "             linestyle=line_sty[ii],\n",
    "             color=line_col[ii],\n",
    "             label=labels[ii])\n",
    "    ii=ii+1\n",
    "    \n",
    "    \n",
    "ax2.set_xlabel('Days',labelpad=0.5)\n",
    "ax0.set_ylabel('Advective',labelpad=0.5)\n",
    "ax1.set_ylabel('Diffusive',labelpad=0.5)\n",
    "ax2.set_ylabel('Total',labelpad=0.5)\n",
    "\n",
    "ax0.set_ylim(0,0.5)   \n",
    "\n",
    "ax2.legend(ncol=3,bbox_to_anchor=(1.05,-0.2),mode='extend',labelspacing=0.2,columnspacing=0.7,handletextpad=0.2)\n",
    "\n",
    "ax0.tick_params(axis='x', pad=1)\n",
    "ax1.tick_params(axis='x', pad=1)\n",
    "\n",
    "ax0.tick_params(axis='y', pad=3)\n",
    "ax1.tick_params(axis='y', pad=3)\n",
    "ax2.tick_params(axis='y', pad=3)\n",
    "\n",
    "plt.savefig('fig_vert_transport.pdf',format='pdf',bbox_inches='tight')\n"
   ]
  },
  {
   "cell_type": "markdown",
   "metadata": {
    "collapsed": false
   },
   "source": []
  },
  {
   "cell_type": "code",
   "execution_count": 12,
   "metadata": {
    "collapsed": false
   },
   "outputs": [
    {
     "data": {
      "text/plain": [
       "array([ 0.5,  1. ,  1.5,  2. ,  2.5,  3. ,  3.5,  4. ,  4.5,  5. ,  5.5,\n",
       "        6. ,  6.5,  7. ,  7.5,  8. ,  8.5,  9. ])"
      ]
     },
     "execution_count": 12,
     "metadata": {},
     "output_type": "execute_result"
    }
   ],
   "source": []
  },
  {
   "cell_type": "code",
   "execution_count": null,
   "metadata": {
    "collapsed": true
   },
   "outputs": [],
   "source": []
  },
  {
   "cell_type": "code",
   "execution_count": null,
   "metadata": {
    "collapsed": true
   },
   "outputs": [],
   "source": []
  }
 ],
 "metadata": {
  "anaconda-cloud": {},
  "kernelspec": {
   "display_name": "Python [conda root]",
   "language": "python",
   "name": "conda-root-py"
  },
  "language_info": {
   "codemirror_mode": {
    "name": "ipython",
    "version": 3
   },
   "file_extension": ".py",
   "mimetype": "text/x-python",
   "name": "python",
   "nbconvert_exporter": "python",
   "pygments_lexer": "ipython3",
   "version": "3.5.2"
  }
 },
 "nbformat": 4,
 "nbformat_minor": 1
}
