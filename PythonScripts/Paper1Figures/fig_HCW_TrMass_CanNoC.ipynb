{
 "cells": [
  {
   "cell_type": "markdown",
   "metadata": {},
   "source": [
    "##  Volume of water and tracer mass upwelled onto the shelf"
   ]
  },
  {
   "cell_type": "code",
   "execution_count": 1,
   "metadata": {
    "collapsed": true
   },
   "outputs": [],
   "source": [
    "#import gsw as sw # Gibbs seawater package\n",
    "\n",
    "import matplotlib.pyplot as plt\n",
    "import matplotlib.colors as mcolors\n",
    "import matplotlib.gridspec as gspec\n",
    "%matplotlib inline\n",
    "\n",
    "from netCDF4 import Dataset\n",
    "import numpy as np\n",
    "import pandas as pd\n",
    "import seaborn as sns\n",
    "import sys\n",
    "\n",
    "import canyon_tools.readout_tools as rout \n",
    "import canyon_tools.metrics_tools as mpt"
   ]
  },
  {
   "cell_type": "code",
   "execution_count": 2,
   "metadata": {
    "collapsed": true
   },
   "outputs": [],
   "source": [
    "sns.set_context('paper')\n",
    "sns.set_style('white')"
   ]
  },
  {
   "cell_type": "code",
   "execution_count": 3,
   "metadata": {
    "collapsed": true
   },
   "outputs": [],
   "source": [
    "def plotCanyonPos(ax,UpX,DnX):\n",
    "    ax.axvline(UpX,color='0.70',linestyle='--')\n",
    "    ax.axvline(DnX,color='0.70',linestyle='--')\n",
    "def HCW_Tracer_AlongShelf(Tr,Tr1,MaskC,nzlim,rA,hFacC,drF,yin,zfin,xi,yi):\n",
    "    '''\n",
    "    INPUT----------------------------------------------------------------------------------------------------------------\n",
    "    Tr    : Array with concentration values for a tracer. Until this function is more general, this should be size 19x90x360x360\n",
    "    MaskC : Land mask for tracer\n",
    "    nzlim : The nz index under which to look for water properties\n",
    "    rA    : Area of cell faces at C points (360x360)\n",
    "    fFacC : Fraction of open cell (90x360x360)\n",
    "    drF   : Distance between cell faces (90)\n",
    "    yin   : across-shore index of shelf break\n",
    "    zfin  : shelf break index + 1 \n",
    "    xi    : initial profile x index\n",
    "    yi    : initial profile y index\n",
    "    \n",
    "    OUTPUT----------------------------------------------------------------------------------------------------------------\n",
    "    VolWaterHighConc =  Array with the volume of water over the shelf [t,360] at every time output.\n",
    "    Total_Tracer =  Array with the mass of tracer (m^3*[C]*l/m^3) at each x-position over the shelf [t,360] at \n",
    "                    every time output. \n",
    "                                                \n",
    "    -----------------------------------------------------------------------------------------------------------------------\n",
    "    '''\n",
    "    maskExp = mpt.maskExpand(MaskC,Tr)\n",
    "\n",
    "    TrMask=np.ma.array(Tr,mask=maskExp)   \n",
    "    Tr1Mask=np.ma.array(Tr1,mask=maskExp)   \n",
    "    \n",
    "    #trlim1 = TrMask[0,nzlim,yi,xi]\n",
    "    #trlim2 = TrMask[0,nzlim+1,yi,xi]\n",
    "    #trlim = (trlim1+trlim2)/2\n",
    "    trlim = 7.21757 # this should be trlim1 but the code has memory errors so I'm trying to make arrays smaller\n",
    "    print('tracer limit concentration is: ',trlim)\n",
    "    \n",
    "    \n",
    "    # mask cells with tracer concentration < trlim on shelf\n",
    "    HighConc_Masked = np.ma.masked_less(TrMask[:,:zfin,yin:,:], trlim) \n",
    "    HighConc_Mask = HighConc_Masked.mask\n",
    "    \n",
    "    #Get volume of water of cells with relatively high concentration\n",
    "    rA_exp = np.expand_dims(rA[yin:,:],0)\n",
    "    drF_exp = np.expand_dims(np.expand_dims(drF[:zfin],1),1)\n",
    "    rA_exp = rA_exp + np.zeros(hFacC[:zfin,yin:,:].shape)\n",
    "    drF_exp = drF_exp + np.zeros(hFacC[:zfin,yin:,:].shape)\n",
    "    \n",
    "    ShelfVolume = hFacC[:zfin,yin:,:]*drF_exp*rA_exp\n",
    "    ShelfVolume_exp = np.expand_dims(ShelfVolume,0)\n",
    "    ShelfVolume_exp = ShelfVolume_exp + np.zeros(HighConc_Mask.shape)\n",
    "     \n",
    "    HighConc_CellVol = np.ma.masked_array(ShelfVolume_exp,mask = HighConc_Mask) \n",
    "    VolWaterHighConc =np.ma.sum(np.ma.sum(HighConc_CellVol,axis = 1),axis=1)\n",
    "    \n",
    "     #Get total mass of tracer on shelf\n",
    "    Total_Tracer = np.ma.sum(np.ma.sum(ShelfVolume_exp*Tr1Mask[:,:zfin,yin:,:]*1000.0,axis = 1),axis=1)\n",
    "    # 1 m^3 = 1000 l\n",
    "    \n",
    "    return (VolWaterHighConc, Total_Tracer)"
   ]
  },
  {
   "cell_type": "code",
   "execution_count": 4,
   "metadata": {
    "collapsed": true
   },
   "outputs": [],
   "source": [
    "# Constants and scales\n",
    "L = 6400.0 # canyon length\n",
    "R = 5000.0 # Upstream radius of curvature\n",
    "g = 9.81 # accel. gravity\n",
    "Wsb = 13000 # Width at shelf break\n",
    "Hs = 147.5 # Shelf break depth\n",
    "s = 0.005 # shelf slope \n",
    "W = 8300 # mid-length width\n",
    "Hh=97.5 # head depth\n",
    "# NOTE: The default values of all functions correspond to the base case\n",
    "\n",
    "def Dh(f=9.66E-4,L=6400.0,N=5.5E-3):\n",
    "    '''Vertical scale Dh'''\n",
    "    return((f*L)/(N))\n",
    "    \n",
    "def Ro(U=0.37,f=9.66E-4,R=5000.0):\n",
    "    '''Rossby number using radius of curvature as length scale'''\n",
    "    return(U/(f*R))\n",
    "\n",
    "def F(Ro):\n",
    "    '''Function that estimates the ability of the flow to follow isobaths'''\n",
    "    return(Ro/(0.9+Ro))\n",
    "\n",
    "def Bu(N=5.5E-3,f=9.66E-5,L=6400.0,Hs=150.0):\n",
    "    '''Burger number'''\n",
    "    return(N*Hs/(f*L))\n",
    "\n",
    "def RossbyRad(N=5.5E-3,Hs=150.0,f=9.66E-4):\n",
    "    '''1st Rossby radius of deformation'''\n",
    "    return(N*Hs/f)\n",
    "\n"
   ]
  },
  {
   "cell_type": "code",
   "execution_count": 5,
   "metadata": {
    "collapsed": false
   },
   "outputs": [],
   "source": [
    "#Exp\n",
    "CGrid = '/data/kramosmu/results/TracerExperiments/CNTDIFF/run38/gridGlob.nc' \n",
    "CGridOut = Dataset(CGrid)\n",
    "\n",
    "CGridNoC = '/data/kramosmu/results/TracerExperiments/CNTDIFF/run68/gridGlob.nc' \n",
    "CGridNoCOut = Dataset(CGridNoC)\n",
    "\n",
    "State = '/data/kramosmu/results/TracerExperiments/CNTDIFF/run38/stateGlob.nc' \n",
    "StateNoC = '/data/kramosmu/results/TracerExperiments/CNTDIFF/run42/stateGlob.nc' \n",
    "\n",
    "Ptracers = '/data/kramosmu/results/TracerExperiments/CNTDIFF/run38/ptracersGlob.nc' \n",
    "PtracersOut = Dataset(Ptracers)\n",
    "\n",
    "Ptracers3D = '/data/kramosmu/results/TracerExperiments/3DVISC_REALISTIC/run27/ptracersGlob.nc' \n",
    "PtracersOut3D = Dataset(Ptracers3D)\n",
    "\n",
    "PtracersHD = '/data/kramosmu/results/TracerExperiments/3DVISC_REALISTIC/run16/ptracersGlob.nc' \n",
    "PtracersOutHD = Dataset(PtracersHD)\n",
    "\n",
    "PtracersNoC = '/data/kramosmu/results/TracerExperiments/CNTDIFF/run42/ptracersGlob.nc' \n",
    "PtracersOutNoC = Dataset(PtracersNoC)\n"
   ]
  },
  {
   "cell_type": "code",
   "execution_count": 6,
   "metadata": {
    "collapsed": true
   },
   "outputs": [],
   "source": [
    "# General input\n",
    "\n",
    "nx = 616\n",
    "ny = 360\n",
    "nz = 90\n",
    "nt = 19 # t dimension size \n",
    "\n",
    "rc = CGridNoCOut.variables['RC']\n",
    "dxf = CGridNoCOut.variables['dxF']\n",
    "xc = rout.getField(CGridNoC, 'XC') # x coords tracer cells\n",
    "yc = rout.getField(CGridNoC, 'YC') # y coords tracer cells\n",
    "\n",
    "rA = rout.getField(CGridNoC, 'rA') \n",
    "\n",
    "drF = CGridNoCOut.variables['drF'] # vertical distance between faces\n",
    "drC = CGridNoCOut.variables['drC'] # vertical distance between centers\n",
    "\n",
    "hFacC = Dataset(CGridNoC).variables['HFacC'][:31,227:,:] \n",
    "mask_NoC = rout.getMask(CGridNoC, 'HFacC')[:31,227:,:]\n",
    "\n",
    "times = np.arange(0,nt,1)"
   ]
  },
  {
   "cell_type": "code",
   "execution_count": 7,
   "metadata": {
    "collapsed": false
   },
   "outputs": [],
   "source": [
    "Tr1 = Dataset(Ptracers).variables['Tr1'][:,:31,227:,:]\n",
    "Tr1NoC = Dataset(PtracersNoC).variables['Tr1'][:,:31,227:,:]\n",
    "     \n",
    "Tr2 = Dataset(Ptracers).variables['Tr2'][:,:31,227:,:]\n",
    "Tr2NoC = Dataset(PtracersNoC).variables['Tr2'][:,:31,227:,:]\n",
    "\n",
    "Tr13D = Dataset(Ptracers3D).variables['Tr1'][:,:31,227:,:]\n",
    "Tr23D = Dataset(Ptracers3D).variables['Tr2'][:,:31,227:,:]\n",
    "\n",
    "Tr1HD = Dataset(PtracersHD).variables['Tr1'][:,:31,227:,:]\n",
    "Tr2HD = Dataset(PtracersHD).variables['Tr2'][:,:31,227:,:]\n"
   ]
  },
  {
   "cell_type": "code",
   "execution_count": 8,
   "metadata": {
    "collapsed": false
   },
   "outputs": [
    {
     "name": "stdout",
     "output_type": "stream",
     "text": [
      "tracer limit concentration is:  7.21757\n",
      "tracer limit concentration is:  7.21757\n",
      "tracer limit concentration is:  7.21757\n",
      "tracer limit concentration is:  7.21757\n"
     ]
    }
   ],
   "source": [
    "HCW,TrMass = HCW_Tracer_AlongShelf(Tr2,Tr1,mask_NoC,29,rA[227:,:],hFacC,drF[:31],0,30,180,50)\n",
    "\n",
    "HCWNoC,TrMassNoc = HCW_Tracer_AlongShelf(Tr2NoC,Tr1NoC,mask_NoC,29,rA[227:,:],hFacC,drF[:31],0,30,180,50)\n",
    "\n",
    "HCW3D,TrMass3D = HCW_Tracer_AlongShelf(Tr23D,Tr13D,mask_NoC,29,rA[227:,:],hFacC,drF[:31],0,30,180,50)\n",
    "HCWHD,TrMassHD = HCW_Tracer_AlongShelf(Tr2HD,Tr1HD,mask_NoC,29,rA[227:,:],hFacC,drF[:31],0,30,180,50)\n"
   ]
  },
  {
   "cell_type": "code",
   "execution_count": null,
   "metadata": {
    "collapsed": true
   },
   "outputs": [],
   "source": []
  },
  {
   "cell_type": "code",
   "execution_count": 9,
   "metadata": {
    "collapsed": true
   },
   "outputs": [],
   "source": [
    "import canyon_records \n",
    "import nocanyon_records\n",
    "\n",
    "records = canyon_records.main()\n",
    "recordsNoC = nocanyon_records.main()"
   ]
  },
  {
   "cell_type": "code",
   "execution_count": 10,
   "metadata": {
    "collapsed": false
   },
   "outputs": [
    {
     "name": "stdout",
     "output_type": "stream",
     "text": [
      "0 CNTDIFF_run38\n",
      "1 CNTDIFF_run37\n",
      "2 CNTDIFF_run36\n",
      "3 CNTDIFF_run45\n",
      "4 CNTDIFF_run73\n",
      "5 CNTDIFF_run75\n",
      "6 CNTDIFF_run79\n",
      "7 CNTDIFF_run67\n",
      "8 CNTDIFF_run51\n",
      "9 CNTDIFF_run69\n",
      "10 CNTDIFF_run71\n",
      "11 3DVISC_run01\n",
      "12 3DVISC_run02\n",
      "13 3DVISC_run04\n",
      "14 3DVISC_run03\n",
      "15 3DVISC_run05\n",
      "16 3DVISC_run06\n",
      "17 LOWER_BF_run01\n",
      "18 LOW_BF_run01\n",
      "19 LOWEST_BF_run01\n",
      "20 LOWEST_BF_run03\n",
      "21 LOWEST_BF_run05\n",
      "22 LOWEST_BF_run07\n",
      "23 LOWEST_BF_run11\n",
      "24 3DVISC_REALISTIC_run01\n",
      "25 3DVISC_REALISTIC_run02\n",
      "26 3DVISC_REALISTIC_run03\n",
      "27 3DVISC_REALISTIC_run05\n",
      "28 3DVISC_REALISTIC_run06\n",
      "29 3DVISC_REALISTIC_run07\n",
      "30 3DVISC_REALISTIC_run08\n",
      "31 3DVISC_REALISTIC_run09\n",
      "32 3DVISC_REALISTIC_run10\n",
      "33 3DVISC_REALISTIC_run11\n",
      "34 3DVISC_REALISTIC_run12\n",
      "35 3DVISC_REALISTIC_run13\n",
      "36 3DVISC_REALISTIC_run14\n",
      "37 3DVISC_REALISTIC_run15\n",
      "38 3DVISC_REALISTIC_run16\n",
      "39 3DVISC_REALISTIC_run17\n",
      "40 3DVISC_REALISTIC_run18\n",
      "41 3DVISC_REALISTIC_run19\n",
      "42 3DVISC_REALISTIC_run20\n",
      "43 3DVISC_REALISTIC_run21\n",
      "44 3DVISC_REALISTIC_run22\n",
      "45 3DVISC_REALISTIC_run23\n",
      "46 3DVISC_REALISTIC_run24\n",
      "47 3DVISC_REALISTIC_run25\n",
      "48 3DVISC_REALISTIC_run26\n",
      "49 3DVISC_REALISTIC_run27\n",
      "50 3DVISC_REALISTIC_run28\n"
     ]
    }
   ],
   "source": [
    "ii=0\n",
    "for rec in records:\n",
    "    print(ii,rec.name)\n",
    "    ii=ii+1\n",
    "    \n",
    "select_rec=[0,38,49,33,31,5,10,19]\n",
    "\n",
    "line_sty = ['-','-','-','--',':','-','-','-']\n",
    "line_w = [2,1,1,1,1,1,1,1]"
   ]
  },
  {
   "cell_type": "code",
   "execution_count": 14,
   "metadata": {
    "collapsed": false
   },
   "outputs": [
    {
     "name": "stdout",
     "output_type": "stream",
     "text": [
      "/data/kramosmu/results/TracerExperiments/CNTDIFF/HCW_TrMass_CNTDIFFrun38.csv /data/kramosmu/results/TracerExperiments/CNTDIFF/HCW_TrMass_CNTDIFFrun42.csv\n",
      "/data/kramosmu/results/TracerExperiments/3DVISC_REALISTIC/HCW_TrMass_3DVISC_REALISTICrun16.csv /data/kramosmu/results/TracerExperiments/CNTDIFF/HCW_TrMass_CNTDIFFrun42.csv\n",
      "/data/kramosmu/results/TracerExperiments/3DVISC_REALISTIC/HCW_TrMass_3DVISC_REALISTICrun27.csv /data/kramosmu/results/TracerExperiments/CNTDIFF/HCW_TrMass_CNTDIFFrun42.csv\n",
      "/data/kramosmu/results/TracerExperiments/3DVISC_REALISTIC/HCW_TrMass_3DVISC_REALISTICrun11.csv /data/kramosmu/results/TracerExperiments/CNTDIFF/HCW_TrMass_CNTDIFFrun42.csv\n",
      "/data/kramosmu/results/TracerExperiments/3DVISC_REALISTIC/HCW_TrMass_3DVISC_REALISTICrun09.csv /data/kramosmu/results/TracerExperiments/CNTDIFF/HCW_TrMass_CNTDIFFrun42.csv\n",
      "/data/kramosmu/results/TracerExperiments/CNTDIFF/HCW_TrMass_CNTDIFFrun75.csv /data/kramosmu/results/TracerExperiments/CNTDIFF/HCW_TrMass_CNTDIFFrun76.csv\n",
      "/data/kramosmu/results/TracerExperiments/CNTDIFF/HCW_TrMass_CNTDIFFrun71.csv /data/kramosmu/results/TracerExperiments/CNTDIFF/HCW_TrMass_CNTDIFFrun72.csv\n",
      "/data/kramosmu/results/TracerExperiments/LOWEST_BF/HCW_TrMass_LOWEST_BFrun01.csv /data/kramosmu/results/TracerExperiments/LOWEST_BF/HCW_TrMass_LOWEST_BFrun02.csv\n"
     ]
    },
    {
     "data": {
      "image/png": "[encoded data removed]",
      "text/plain": [
       "<Figure size 468x360 with 8 Axes>"
      ]
     },
     "metadata": {},
     "output_type": "display_data"
    }
   ],
   "source": [
    "plt.rcParams['font.size'] = 8.0\n",
    "f = plt.figure(figsize = (6.5,5)) # 190mm = 7.5in, 115cm = 4.52in\n",
    "\n",
    "gs = gspec.GridSpec(2, 2,wspace=0.15,height_ratios=[1,3])\n",
    "\n",
    "gs1 = gspec.GridSpecFromSubplotSpec(3, 1, subplot_spec=gs[1,0],hspace=0.2 )\n",
    "gs2 = gspec.GridSpecFromSubplotSpec(3, 1, subplot_spec=gs[1,1],hspace=0.2)\n",
    "\n",
    "ax0 = plt.subplot(gs1[0,0],xticks=[])\n",
    "ax1 = plt.subplot(gs1[1,0],xticks=[])\n",
    "ax2 = plt.subplot(gs1[2,0])\n",
    "ax3 = plt.subplot(gs2[0,0],xticks=[])\n",
    "ax4 = plt.subplot(gs2[1,0],xticks=[])\n",
    "ax5 = plt.subplot(gs2[2,0])\n",
    "ax6 = plt.subplot(gs[0,0])\n",
    "ax7 = plt.subplot(gs[0,1])\n",
    "\n",
    "jj = 0\n",
    "\n",
    "for ind in select_rec:\n",
    "    file = ('/data/kramosmu/results/TracerExperiments/%s/HCW_TrMass_%s%s.csv' %(records[ind].exp_code,\n",
    "                                                                                records[ind].exp_code,\n",
    "                                                                                records[ind].run_num))\n",
    "    fileNoC = ('/data/kramosmu/results/TracerExperiments/%s/HCW_TrMass_%s%s.csv' %(recordsNoC[ind].exp_code,\n",
    "                                                                                   recordsNoC[ind].exp_code,\n",
    "                                                                                   recordsNoC[ind].run_num))\n",
    "    print(file, fileNoC)\n",
    "    dfcan = pd.read_csv(file)\n",
    "    dfnoc = pd.read_csv(fileNoC)\n",
    "    \n",
    "    ax0.plot(np.arange(0,19,1)/2.0,\n",
    "             (dfcan['HCW'][0:19])/1E10,\n",
    "             line_sty[jj],color=sns.xkcd_rgb[records[ind].color],linewidth=line_w[jj])\n",
    "    \n",
    "    ax3.plot(np.arange(0,19,1)/2.0,\n",
    "             (dfcan['TotTrMass'][0:19]-dfnoc['TotTrMass'][0])/1E10,\n",
    "             line_sty[jj],\n",
    "             color=sns.xkcd_rgb[records[ind].color],linewidth=line_w[jj])\n",
    "    \n",
    "    ax1.plot(np.arange(0,19,1)/2.0,\n",
    "             (dfnoc['HCW'][0:19])/1E10,\n",
    "             line_sty[jj],color=sns.xkcd_rgb[records[ind].color],linewidth=line_w[jj])\n",
    "    \n",
    "    ax4.plot(np.arange(0,19,1)/2.0,\n",
    "             (dfnoc['TotTrMass'][0:19]-dfnoc['TotTrMass'][0])/1E10,\n",
    "             line_sty[jj],\n",
    "             color=sns.xkcd_rgb[records[ind].color2],linewidth=line_w[jj])\n",
    "    \n",
    "    ax2.plot(np.arange(0,19,1)/2.0,\n",
    "             (dfcan['HCW'][0:19]-dfnoc['HCW'][0:19])/1E10,\n",
    "             line_sty[jj],color=sns.xkcd_rgb[records[ind].color],linewidth=line_w[jj],\n",
    "             label=records[ind].label2)\n",
    "    \n",
    "    ax5.plot(np.arange(0,19,1)/2.0,\n",
    "             (dfcan['TotTrMass'][0:19]-dfnoc['TotTrMass'][0:19])/1E10,\n",
    "             line_sty[jj],\n",
    "             color=sns.xkcd_rgb[records[ind].color],linewidth=line_w[jj])\n",
    "    jj=jj+1\n",
    "    \n",
    "# -  --------------------------------------------------------------------------------------------\n",
    "ii = 7\n",
    "ax6.axhline(0,color='0.8')\n",
    "ax6.plot(xc[1,:]/1000,(HCW[ii,:]-HCWNoC[ii,:])/(100000*dxf[0,:]),\n",
    "         color='black',linestyle='-')\n",
    "ax6.plot(xc[1,:]/1000,(HCWHD[ii,:]-HCWNoC[ii,:])/(100000*dxf[0,:]),\n",
    "         color=sns.xkcd_rgb['cerulean'],linestyle='-')\n",
    "ax6.plot(xc[1,:]/1000,(HCW3D[ii,:]-HCWNoC[ii,:])/(100000*dxf[0,:]),\n",
    "         color=sns.xkcd_rgb['kelly green'],linestyle='-')\n",
    "\n",
    "ax7.axhline(0,color='0.8')\n",
    "ax7.plot(xc[1,:]/1000,(TrMass[ii,:]-TrMassNoc[ii,:])/(100000000*dxf[0,:]),'-',\n",
    "        color='black')\n",
    "ax7.plot(xc[1,:]/1000,(TrMassHD[ii,:]-TrMassNoc[ii,:])/(100000000*dxf[0,:]),'-',\n",
    "        color=sns.xkcd_rgb['cerulean'])\n",
    "ax7.plot(xc[1,:]/1000,(TrMass3D[ii,:]-TrMassNoc[ii,:])/(100000000*dxf[0,:]),'-',\n",
    "        color=sns.xkcd_rgb['kelly green'])\n",
    "\n",
    "plotCanyonPos(ax6,xc[1,120]/1000,xc[1,240]/1000)\n",
    "plotCanyonPos(ax7,xc[1,120]/1000,xc[1,240]/1000)\n",
    "\n",
    "\n",
    "ax7.text(0.02,0.85,'(b) $10^8$ $\\mu$Mm$^3$ Tr',transform=ax7.transAxes)    \n",
    "ax6.text(0.02,0.85,'(a) $10^5$ m$^3$',transform=ax6.transAxes)\n",
    "\n",
    "# ----------------------------------------------------------------------------------------------\n",
    "\n",
    "ax0.text(0.02,0.85,'(c) 10$^{10}$m$^3$',transform=ax0.transAxes)\n",
    "ax1.text(0.02,0.85,'(d) 10$^{10}$m$^3$',transform=ax1.transAxes)    \n",
    "ax2.text(0.02,0.85,'(e) 10$^{10}$m$^3$',transform=ax2.transAxes)\n",
    "ax3.text(0.02,0.85,'(f) 10$^{10}$$\\mu$Mm$^3$',transform=ax3.transAxes)    \n",
    "ax4.text(0.02,0.85,'(g) 10$^{10}$$\\mu$Mm$^3$',transform=ax4.transAxes)\n",
    "ax5.text(0.02,0.85,'(h) 10$^{10}$$\\mu$Mm$^3$',transform=ax5.transAxes)    \n",
    "\n",
    "\n",
    "ax0.set_ylabel('$V_{can}$ ',labelpad=0)\n",
    "ax1.set_ylabel('$V_{nc}$ ',labelpad=0)\n",
    "ax2.set_ylabel('$V_{can}-V_{nc}$ ',labelpad=-4)\n",
    "ax2.set_xlabel('Days')\n",
    "\n",
    "ax3.set_ylabel('$M_{can}$ ',labelpad=0)\n",
    "ax4.set_ylabel('$M_{nc}$ ',labelpad=0)\n",
    "ax5.set_ylabel('$M_{can}-M_{nc}$ ',labelpad=0)\n",
    "\n",
    "\n",
    "ax5.set_xlabel('Days')\n",
    "\n",
    "ax2.legend(bbox_to_anchor=(1.95,-0.35),ncol=4,labelspacing=0.1,frameon=True)\n",
    "\n",
    "ax5.tick_params(axis='x', pad=1)\n",
    "ax2.tick_params(axis='x', pad=1)\n",
    "ax0.tick_params(axis='x', pad=0.1)\n",
    "ax1.tick_params(axis='x', pad=0.1)\n",
    "\n",
    "ax0.tick_params(axis='y', pad=3)\n",
    "ax1.tick_params(axis='y', pad=3)\n",
    "ax2.tick_params(axis='y', pad=3)\n",
    "ax3.tick_params(axis='y', pad=3)\n",
    "ax4.tick_params(axis='y', pad=3)\n",
    "ax5.tick_params(axis='y', pad=3)\n",
    "ax6.tick_params(axis='y', pad=3)\n",
    "ax7.tick_params(axis='y', pad=3)\n",
    "\n",
    "ax7.set_yticks([0,4,8])\n",
    "\n",
    "ax6.set_xlabel('Alongshelf distance (km)',labelpad=-1)\n",
    "ax7.set_xlabel('Alongshelf distance (km)',labelpad=-1)\n",
    "\n",
    "ax6.set_ylabel('$V_{anom}$ per m',labelpad=-5)\n",
    "ax7.set_ylabel('$M_{anom}$ per m ',labelpad=-2)\n",
    "ax6.set_xlim(0,120)\n",
    "ax7.set_xlim(0,120)\n",
    "plt.savefig('figure4_v2.eps',format='eps',bbox_inches='tight')\n"
   ]
  },
  {
   "cell_type": "code",
   "execution_count": 15,
   "metadata": {
    "collapsed": false,
    "scrolled": false
   },
   "outputs": [
    {
     "name": "stdout",
     "output_type": "stream",
     "text": [
      "name&\tTotal HCW $10^{10}$ m$^3$&\tCanyonHCW (\\%)&\tTotTrMassHCW $10^{11}$ $\\mu$Mm$^3$&\tCanyonTrMassHCW (\\%)&\tTotalTrMass $10^{11}$ $\\mu$Mm$^3$&\tCanyonTotTrMass (\\%)\n",
      "CNTDIFF_run38\t&2.86\t&81.61\t\t&2.20\t\t&82.57\t&22.60\t\t&1.40\t \n",
      "CNTDIFF_run37\t&2.80\t&87.26\t\t&2.05\t\t&87.20\t&22.63\t\t&1.44\t \n",
      "CNTDIFF_run36\t&3.12\t&63.77\t\t&1.79\t\t&58.68\t&22.90\t\t&1.66\t \n",
      "CNTDIFF_run45\t&2.08\t&88.29\t\t&1.57\t\t&88.52\t&22.31\t\t&0.87\t \n",
      "CNTDIFF_run73\t&1.10\t&77.74\t\t&0.82\t\t&77.91\t&22.03\t\t&0.46\t \n",
      "CNTDIFF_run75\t&4.63\t&29.03\t\t&3.69\t\t&34.85\t&23.09\t\t&2.43\t \n"
     ]
    },
    {
     "ename": "OSError",
     "evalue": "File b'/data/kramosmu/results/TracerExperiments/CNTDIFF/HCW_TrMass_CNTDIFFrun80.csv' does not exist",
     "output_type": "error",
     "traceback": [
      "\u001b[0;31m---------------------------------------------------------------------------\u001b[0m",
      "\u001b[0;31mOSError\u001b[0m                                   Traceback (most recent call last)",
      "\u001b[0;32m<ipython-input-15-046199c79e62>\u001b[0m in \u001b[0;36m<module>\u001b[0;34m()\u001b[0m\n\u001b[1;32m     16\u001b[0m \u001b[0;34m\u001b[0m\u001b[0m\n\u001b[1;32m     17\u001b[0m     \u001b[0mdfcan\u001b[0m \u001b[0;34m=\u001b[0m \u001b[0mpd\u001b[0m\u001b[0;34m.\u001b[0m\u001b[0mread_csv\u001b[0m\u001b[0;34m(\u001b[0m\u001b[0mfile\u001b[0m\u001b[0;34m)\u001b[0m\u001b[0;34m\u001b[0m\u001b[0m\n\u001b[0;32m---> 18\u001b[0;31m     \u001b[0mdfnoc\u001b[0m \u001b[0;34m=\u001b[0m \u001b[0mpd\u001b[0m\u001b[0;34m.\u001b[0m\u001b[0mread_csv\u001b[0m\u001b[0;34m(\u001b[0m\u001b[0mfileNoC\u001b[0m\u001b[0;34m)\u001b[0m\u001b[0;34m\u001b[0m\u001b[0m\n\u001b[0m\u001b[1;32m     19\u001b[0m \u001b[0;34m\u001b[0m\u001b[0m\n\u001b[1;32m     20\u001b[0m     print (\"\\t\".join(['%s\\t&%.2f\\t&%.2f\\t\\t&%.2f\\t\\t&%.2f\\t&%.2f\\t\\t&%.2f\\t ' \n",
      "\u001b[0;32m/home/kramosmu/anaconda3/lib/python3.5/site-packages/pandas/io/parsers.py\u001b[0m in \u001b[0;36mparser_f\u001b[0;34m(filepath_or_buffer, sep, delimiter, header, names, index_col, usecols, squeeze, prefix, mangle_dupe_cols, dtype, engine, converters, true_values, false_values, skipinitialspace, skiprows, skipfooter, nrows, na_values, keep_default_na, na_filter, verbose, skip_blank_lines, parse_dates, infer_datetime_format, keep_date_col, date_parser, dayfirst, iterator, chunksize, compression, thousands, decimal, lineterminator, quotechar, quoting, escapechar, comment, encoding, dialect, tupleize_cols, error_bad_lines, warn_bad_lines, skip_footer, doublequote, delim_whitespace, as_recarray, compact_ints, use_unsigned, low_memory, buffer_lines, memory_map, float_precision)\u001b[0m\n\u001b[1;32m    560\u001b[0m                     skip_blank_lines=skip_blank_lines)\n\u001b[1;32m    561\u001b[0m \u001b[0;34m\u001b[0m\u001b[0m\n\u001b[0;32m--> 562\u001b[0;31m         \u001b[0;32mreturn\u001b[0m \u001b[0m_read\u001b[0m\u001b[0;34m(\u001b[0m\u001b[0mfilepath_or_buffer\u001b[0m\u001b[0;34m,\u001b[0m \u001b[0mkwds\u001b[0m\u001b[0;34m)\u001b[0m\u001b[0;34m\u001b[0m\u001b[0m\n\u001b[0m\u001b[1;32m    563\u001b[0m \u001b[0;34m\u001b[0m\u001b[0m\n\u001b[1;32m    564\u001b[0m     \u001b[0mparser_f\u001b[0m\u001b[0;34m.\u001b[0m\u001b[0m__name__\u001b[0m \u001b[0;34m=\u001b[0m \u001b[0mname\u001b[0m\u001b[0;34m\u001b[0m\u001b[0m\n",
      "\u001b[0;32m/home/kramosmu/anaconda3/lib/python3.5/site-packages/pandas/io/parsers.py\u001b[0m in \u001b[0;36m_read\u001b[0;34m(filepath_or_buffer, kwds)\u001b[0m\n\u001b[1;32m    313\u001b[0m \u001b[0;34m\u001b[0m\u001b[0m\n\u001b[1;32m    314\u001b[0m     \u001b[0;31m# Create the parser.\u001b[0m\u001b[0;34m\u001b[0m\u001b[0;34m\u001b[0m\u001b[0m\n\u001b[0;32m--> 315\u001b[0;31m     \u001b[0mparser\u001b[0m \u001b[0;34m=\u001b[0m \u001b[0mTextFileReader\u001b[0m\u001b[0;34m(\u001b[0m\u001b[0mfilepath_or_buffer\u001b[0m\u001b[0;34m,\u001b[0m \u001b[0;34m**\u001b[0m\u001b[0mkwds\u001b[0m\u001b[0;34m)\u001b[0m\u001b[0;34m\u001b[0m\u001b[0m\n\u001b[0m\u001b[1;32m    316\u001b[0m \u001b[0;34m\u001b[0m\u001b[0m\n\u001b[1;32m    317\u001b[0m     \u001b[0;32mif\u001b[0m \u001b[0;34m(\u001b[0m\u001b[0mnrows\u001b[0m \u001b[0;32mis\u001b[0m \u001b[0;32mnot\u001b[0m \u001b[0;32mNone\u001b[0m\u001b[0;34m)\u001b[0m \u001b[0;32mand\u001b[0m \u001b[0;34m(\u001b[0m\u001b[0mchunksize\u001b[0m \u001b[0;32mis\u001b[0m \u001b[0;32mnot\u001b[0m \u001b[0;32mNone\u001b[0m\u001b[0;34m)\u001b[0m\u001b[0;34m:\u001b[0m\u001b[0;34m\u001b[0m\u001b[0m\n",
      "\u001b[0;32m/home/kramosmu/anaconda3/lib/python3.5/site-packages/pandas/io/parsers.py\u001b[0m in \u001b[0;36m__init__\u001b[0;34m(self, f, engine, **kwds)\u001b[0m\n\u001b[1;32m    643\u001b[0m             \u001b[0mself\u001b[0m\u001b[0;34m.\u001b[0m\u001b[0moptions\u001b[0m\u001b[0;34m[\u001b[0m\u001b[0;34m'has_index_names'\u001b[0m\u001b[0;34m]\u001b[0m \u001b[0;34m=\u001b[0m \u001b[0mkwds\u001b[0m\u001b[0;34m[\u001b[0m\u001b[0;34m'has_index_names'\u001b[0m\u001b[0;34m]\u001b[0m\u001b[0;34m\u001b[0m\u001b[0m\n\u001b[1;32m    644\u001b[0m \u001b[0;34m\u001b[0m\u001b[0m\n\u001b[0;32m--> 645\u001b[0;31m         \u001b[0mself\u001b[0m\u001b[0;34m.\u001b[0m\u001b[0m_make_engine\u001b[0m\u001b[0;34m(\u001b[0m\u001b[0mself\u001b[0m\u001b[0;34m.\u001b[0m\u001b[0mengine\u001b[0m\u001b[0;34m)\u001b[0m\u001b[0;34m\u001b[0m\u001b[0m\n\u001b[0m\u001b[1;32m    646\u001b[0m \u001b[0;34m\u001b[0m\u001b[0m\n\u001b[1;32m    647\u001b[0m     \u001b[0;32mdef\u001b[0m \u001b[0mclose\u001b[0m\u001b[0;34m(\u001b[0m\u001b[0mself\u001b[0m\u001b[0;34m)\u001b[0m\u001b[0;34m:\u001b[0m\u001b[0;34m\u001b[0m\u001b[0m\n",
      "\u001b[0;32m/home/kramosmu/anaconda3/lib/python3.5/site-packages/pandas/io/parsers.py\u001b[0m in \u001b[0;36m_make_engine\u001b[0;34m(self, engine)\u001b[0m\n\u001b[1;32m    797\u001b[0m     \u001b[0;32mdef\u001b[0m \u001b[0m_make_engine\u001b[0m\u001b[0;34m(\u001b[0m\u001b[0mself\u001b[0m\u001b[0;34m,\u001b[0m \u001b[0mengine\u001b[0m\u001b[0;34m=\u001b[0m\u001b[0;34m'c'\u001b[0m\u001b[0;34m)\u001b[0m\u001b[0;34m:\u001b[0m\u001b[0;34m\u001b[0m\u001b[0m\n\u001b[1;32m    798\u001b[0m         \u001b[0;32mif\u001b[0m \u001b[0mengine\u001b[0m \u001b[0;34m==\u001b[0m \u001b[0;34m'c'\u001b[0m\u001b[0;34m:\u001b[0m\u001b[0;34m\u001b[0m\u001b[0m\n\u001b[0;32m--> 799\u001b[0;31m             \u001b[0mself\u001b[0m\u001b[0;34m.\u001b[0m\u001b[0m_engine\u001b[0m \u001b[0;34m=\u001b[0m \u001b[0mCParserWrapper\u001b[0m\u001b[0;34m(\u001b[0m\u001b[0mself\u001b[0m\u001b[0;34m.\u001b[0m\u001b[0mf\u001b[0m\u001b[0;34m,\u001b[0m \u001b[0;34m**\u001b[0m\u001b[0mself\u001b[0m\u001b[0;34m.\u001b[0m\u001b[0moptions\u001b[0m\u001b[0;34m)\u001b[0m\u001b[0;34m\u001b[0m\u001b[0m\n\u001b[0m\u001b[1;32m    800\u001b[0m         \u001b[0;32melse\u001b[0m\u001b[0;34m:\u001b[0m\u001b[0;34m\u001b[0m\u001b[0m\n\u001b[1;32m    801\u001b[0m             \u001b[0;32mif\u001b[0m \u001b[0mengine\u001b[0m \u001b[0;34m==\u001b[0m \u001b[0;34m'python'\u001b[0m\u001b[0;34m:\u001b[0m\u001b[0;34m\u001b[0m\u001b[0m\n",
      "\u001b[0;32m/home/kramosmu/anaconda3/lib/python3.5/site-packages/pandas/io/parsers.py\u001b[0m in \u001b[0;36m__init__\u001b[0;34m(self, src, **kwds)\u001b[0m\n\u001b[1;32m   1211\u001b[0m         \u001b[0mkwds\u001b[0m\u001b[0;34m[\u001b[0m\u001b[0;34m'allow_leading_cols'\u001b[0m\u001b[0;34m]\u001b[0m \u001b[0;34m=\u001b[0m \u001b[0mself\u001b[0m\u001b[0;34m.\u001b[0m\u001b[0mindex_col\u001b[0m \u001b[0;32mis\u001b[0m \u001b[0;32mnot\u001b[0m \u001b[0;32mFalse\u001b[0m\u001b[0;34m\u001b[0m\u001b[0m\n\u001b[1;32m   1212\u001b[0m \u001b[0;34m\u001b[0m\u001b[0m\n\u001b[0;32m-> 1213\u001b[0;31m         \u001b[0mself\u001b[0m\u001b[0;34m.\u001b[0m\u001b[0m_reader\u001b[0m \u001b[0;34m=\u001b[0m \u001b[0m_parser\u001b[0m\u001b[0;34m.\u001b[0m\u001b[0mTextReader\u001b[0m\u001b[0;34m(\u001b[0m\u001b[0msrc\u001b[0m\u001b[0;34m,\u001b[0m \u001b[0;34m**\u001b[0m\u001b[0mkwds\u001b[0m\u001b[0;34m)\u001b[0m\u001b[0;34m\u001b[0m\u001b[0m\n\u001b[0m\u001b[1;32m   1214\u001b[0m \u001b[0;34m\u001b[0m\u001b[0m\n\u001b[1;32m   1215\u001b[0m         \u001b[0;31m# XXX\u001b[0m\u001b[0;34m\u001b[0m\u001b[0;34m\u001b[0m\u001b[0m\n",
      "\u001b[0;32mpandas/parser.pyx\u001b[0m in \u001b[0;36mpandas.parser.TextReader.__cinit__ (pandas/parser.c:3427)\u001b[0;34m()\u001b[0m\n",
      "\u001b[0;32mpandas/parser.pyx\u001b[0m in \u001b[0;36mpandas.parser.TextReader._setup_parser_source (pandas/parser.c:6861)\u001b[0;34m()\u001b[0m\n",
      "\u001b[0;31mOSError\u001b[0m: File b'/data/kramosmu/results/TracerExperiments/CNTDIFF/HCW_TrMass_CNTDIFFrun80.csv' does not exist"
     ]
    }
   ],
   "source": [
    "print (\"\\t\".join(['name&', 'Total HCW $10^{10}$ m$^3$&', \n",
    "                  'CanyonHCW (\\%)&',  'TotTrMassHCW $10^{11}$ $\\mu$Mm$^3$&', 'CanyonTrMassHCW (\\%)&',\n",
    "                  'TotalTrMass $10^{11}$ $\\mu$Mm$^3$&', 'CanyonTotTrMass (\\%)' ]))\n",
    "\n",
    "select_rec = [0,1,2,3,4,5,6,7,8,9,10,11,12,13,14,15,16,17,18,19,20,21,22]\n",
    "for ind in select_rec:\n",
    "    \n",
    "    file = ('/data/kramosmu/results/TracerExperiments/%s/HCW_TrMass_%s%s.csv' \n",
    "            %(records[ind].exp_code,\n",
    "              records[ind].exp_code,\n",
    "              records[ind].run_num))\n",
    "    fileNoC = ('/data/kramosmu/results/TracerExperiments/%s/HCW_TrMass_%s%s.csv' \n",
    "               %(recordsNoC[ind].exp_code,\n",
    "                 recordsNoC[ind].exp_code,\n",
    "                 recordsNoC[ind].run_num))\n",
    "    \n",
    "    dfcan = pd.read_csv(file)\n",
    "    dfnoc = pd.read_csv(fileNoC)\n",
    "    \n",
    "    print (\"\\t\".join(['%s\\t&%.2f\\t&%.2f\\t\\t&%.2f\\t\\t&%.2f\\t&%.2f\\t\\t&%.2f\\t ' \n",
    "                      % (records[ind].name,\n",
    "                         dfcan['HCW'][18]/1E10,\n",
    "                         ((dfcan['HCW'][18]-dfnoc['HCW'][18])/dfcan['HCW'][18])*100,\n",
    "                         (dfcan['TrMassHCW'][18])/1E11,\n",
    "                         (((dfcan['TrMassHCW'][18])-\n",
    "                           (dfnoc['TrMassHCW'][18]))/(dfcan['TrMassHCW'][18]))*100,\n",
    "                         (dfcan['TotTrMass'][18])/1E11,\n",
    "                         (((dfcan['TotTrMass'][18]-dfnoc['TotTrMass'][18]))/(dfcan['TotTrMass'][18]))*100)\n",
    "                     ]))\n",
    "                                                              \n",
    "                                                                                                    \n",
    "\n"
   ]
  },
  {
   "cell_type": "code",
   "execution_count": null,
   "metadata": {
    "collapsed": true
   },
   "outputs": [],
   "source": []
  }
 ],
 "metadata": {
  "anaconda-cloud": {},
  "kernelspec": {
   "display_name": "Python [conda root]",
   "language": "python",
   "name": "conda-root-py"
  },
  "language_info": {
   "codemirror_mode": {
    "name": "ipython",
    "version": 3
   },
   "file_extension": ".py",
   "mimetype": "text/x-python",
   "name": "python",
   "nbconvert_exporter": "python",
   "pygments_lexer": "ipython3",
   "version": "3.5.4"
  }
 },
 "nbformat": 4,
 "nbformat_minor": 1
}
