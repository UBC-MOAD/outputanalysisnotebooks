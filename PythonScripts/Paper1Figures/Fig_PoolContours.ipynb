{
 "cells": [
  {
   "cell_type": "markdown",
   "metadata": {},
   "source": [
    "## Figure of pool contours"
   ]
  },
  {
   "cell_type": "code",
   "execution_count": 1,
   "metadata": {
    "collapsed": true
   },
   "outputs": [],
   "source": [
    "import cmocean as cmo\n",
    "import matplotlib.pyplot as plt\n",
    "import matplotlib.gridspec as gspec\n",
    "import matplotlib as mpl\n",
    "%matplotlib inline\n",
    "from netCDF4 import Dataset\n",
    "import numpy as np\n",
    "import seaborn as sns\n",
    "import xarray as xr\n",
    "import canyon_tools.readout_tools as rout\n",
    "import canyon_tools.savitzky_golay as sg\n",
    "\n",
    "import warnings\n",
    "warnings.filterwarnings('ignore')"
   ]
  },
  {
   "cell_type": "code",
   "execution_count": 2,
   "metadata": {
    "collapsed": true
   },
   "outputs": [],
   "source": [
    "def findBottInd(hfac):\n",
    "    \n",
    "    BottomInd = np.argmax(hfac[::-1,:,:]>0.0,axis=0) # start looking for first no-land cell from the bottom up.\n",
    "    BottomInd = np.ones(np.shape(BottomInd))*89 - BottomInd # Get index of unreversed z axis\n",
    "    \n",
    "    return BottomInd\n",
    "\n",
    "def ConcAreaShelf(Tr, hfac, ra, bathy, sbdepth=-152.5):\n",
    "    '''Tr: Tracer field (nt,nz,ny,nx)\n",
    "       hfac: fraction of open cell at center (nz,ny,nx)\n",
    "       ra: array of cell horizontal areas (ny,nx)\n",
    "       bathy : depths 2D array from the grid file (ny,nx)\n",
    "       sbdepth: shelf break depth (negative value)\n",
    "       \n",
    "       RETURNS:\n",
    "       ConcArea = concentration at cell closest to bottom times its area (nt,ny,nx). \n",
    "       Conc = cocetration near bottom (nt,ny,nx)\n",
    "       Area = 2D array of cell areas on shelf (ny,nx)\n",
    "       NOTE: Everything below the canyon rim is masked out'''\n",
    "    \n",
    "    ConcArea = np.empty((19,360,360))\n",
    "    Conc = np.empty((19,360,360))\n",
    "    ConcFiltered = np.empty((19,360,360))\n",
    "    Area = np.empty((19,360,360))\n",
    "    \n",
    "    BottomInd = findBottInd(hfac)  \n",
    "    \n",
    "    for tt in range(19):\n",
    "        for j in range(360):\n",
    "            for i in range(360):\n",
    "                TrBottom = Tr[tt,BottomInd[i,j],i,j]\n",
    "                if TrBottom > 0.0:\n",
    "                    ConcArea[tt,i,j] = TrBottom*ra[i,j]\n",
    "                    Conc[tt,i,j] = TrBottom\n",
    "                    Area[tt,i,j] = ra[i,j]\n",
    "                else:\n",
    "                    ConcArea[tt,i,j] = np.NaN\n",
    "                    Conc[tt,i,j] = np.NaN\n",
    "                    Area[tt,i,j] = np.NaN\n",
    "                \n",
    "            # Filter step noise\n",
    "            ConcFiltered[tt,:,j] = sg.savitzky_golay(Conc[tt,:,j], 7,3) \n",
    "                \n",
    "    maskShelf = np.ma.masked_invalid(ConcFiltered) \n",
    "    \n",
    "    return (np.ma.masked_invalid(ConcArea),\n",
    "            np.ma.masked_invalid(ConcFiltered),\n",
    "            np.ma.masked_invalid(Area))"
   ]
  },
  {
   "cell_type": "code",
   "execution_count": 3,
   "metadata": {
    "collapsed": false
   },
   "outputs": [],
   "source": [
    "# Cross-shelf velocity, Plot1\n",
    "def Plot1anom(gs_ax,Tr_slice,Tr_sliceNoC,zslice,yind,xslice,color='black'): \n",
    "    '''gs_ax: grid handle\n",
    "       Tr_slice: tracer concentration sliced in x-z (nt,nz,nx)\n",
    "       tslice: advective phase slice to average over.\n",
    "       yind: cross-shore index of the plot\n",
    "    '''\n",
    "    ax = plt.subplot(gs_ax)\n",
    "    \n",
    "    Trplot = np.ma.array(np.nanmean(Tr_slice.isel(T=tslice).data-Tr_sliceNoC.isel(T=tslice).data,0),\n",
    "                         mask=MaskCNoC[:,yind,:])\n",
    "    \n",
    "    CS = ax.contour(grid.X[xslice]/1000,grid.Z[zslice],\n",
    "                    Trplot[zslice,xslice],\n",
    "                    [1],\n",
    "                    colors=sns.xkcd_rgb[color],\n",
    "                    linewidths=[1],\n",
    "                    )\n",
    "    \n",
    "    \n",
    "    \n",
    "\n",
    "    \n",
    "    ax.plot(grid.X[xslice]/1000,-grid.Depth[yind,xslice],\n",
    "           '-',\n",
    "           color='0.5',\n",
    "           linewidth=1,\n",
    "           )\n",
    "    \n",
    "    ax.set_axis_bgcolor((255/255.0, 255/255.0, 255/255.0))\n",
    "    \n",
    "    return ax"
   ]
  },
  {
   "cell_type": "code",
   "execution_count": 4,
   "metadata": {
    "collapsed": true
   },
   "outputs": [],
   "source": [
    "def Plot2anom(gs_ax,Tr_slice,Tr_sliceNoC,yslice,zslice,xind,color='black'): \n",
    "    '''gs_ax: grid handle\n",
    "       Tr_slice: tracer concentration sliced in y-z (nt,nz,ny)\n",
    "       tslice: advective phase slice to average over.\n",
    "       xind: cross-shore index of the plot\n",
    "    '''\n",
    "    ax = plt.subplot(gs_ax)\n",
    "    \n",
    "    \n",
    "    Trplot = np.ma.array(np.nanmean(Tr_slice.isel(T=tslice).data-Tr_sliceNoC.isel(T=tslice).data,0),\n",
    "                         mask=MaskCNoC[:,:,xind])\n",
    "    \n",
    "     \n",
    "    CS = ax.contour(grid.Y[yslice]/1000,grid.Z[zslice],\n",
    "                    (Trplot[zslice,yslice]),\n",
    "                    [1],\n",
    "                    colors=sns.xkcd_rgb[color],\n",
    "                    linewidths=[1] )\n",
    "    \n",
    "    SB = ax.plot(grid.Y[yslice]/1000,-grid.Depth[yslice,xind],\n",
    "                 '-',\n",
    "                 color='0.5',\n",
    "                 linewidth=1)\n",
    "    \n",
    "    ax.set_axis_bgcolor((255/255.0, 255/255.0, 255/255.0))\n",
    "    \n",
    "    return ax"
   ]
  },
  {
   "cell_type": "code",
   "execution_count": 24,
   "metadata": {
    "collapsed": false
   },
   "outputs": [],
   "source": [
    "def Plot3anom(gs_ax,ConcFilt,tslice,xslice,yslice,xind,yind,color='black',label='base'):\n",
    "    \n",
    "    ax = plt.subplot(gs_ax)\n",
    "    BAC = np.nanmean(ConcFilt[tslice,yslice,xslice],axis=0)\n",
    "    \n",
    "    \n",
    "    CS = ax.contour(grid.X[xslice]/1000,grid.Y[yslice]/1000,BAC,\n",
    "                    [1],\n",
    "                    colors=sns.xkcd_rgb[color],\n",
    "                    linewidths=[1] )\n",
    "      \n",
    "    ax.set_axis_bgcolor((255/255.0, 255/255.0, 255/255.0))\n",
    "    \n",
    "    \n",
    "    SB = ax.contour(grid.X[xslice]/1000,grid.Y[yslice]/1000,\n",
    "                     grid.Depth[yslice,xslice],\n",
    "                    [150.0],\n",
    "                    colors=['0.5'],\n",
    "                    linewidths=[1] )\n",
    "    \n",
    "    ax.axhline(grid.Y[yind]/1000,color='k',linestyle='--')\n",
    "    ax.axvline(grid.X[xind]/1000,color='k',linestyle='--')\n",
    "    \n",
    "    CS.collections[0].set_label(label)\n",
    "    plt.legend(bbox_to_anchor=(1.7,1.75),ncol=2)\n",
    "\n",
    "    return ax\n",
    "    "
   ]
  },
  {
   "cell_type": "code",
   "execution_count": 6,
   "metadata": {
    "collapsed": false
   },
   "outputs": [],
   "source": [
    "import canyon_records \n",
    "import nocanyon_records"
   ]
  },
  {
   "cell_type": "code",
   "execution_count": 7,
   "metadata": {
    "collapsed": false
   },
   "outputs": [],
   "source": [
    "records = canyon_records.main()\n",
    "recordsNoC = nocanyon_records.main()"
   ]
  },
  {
   "cell_type": "code",
   "execution_count": 8,
   "metadata": {
    "collapsed": true
   },
   "outputs": [],
   "source": [
    "# Grid, state and tracers datasets of base case\n",
    "grid_file = '/ocean/kramosmu/MITgcm/TracerExperiments/CNTDIFF/run38/gridGlob.nc'\n",
    "grid = xr.open_dataset(grid_file)\n",
    "\n",
    "grid_fileNoC = '/ocean/kramosmu/MITgcm/TracerExperiments/CNTDIFF/run42/gridGlob.nc'\n",
    "gridNoC = xr.open_dataset(grid_fileNoC)\n",
    "\n",
    "state_file = '/ocean/kramosmu/MITgcm/TracerExperiments/CNTDIFF/run38/stateGlob.nc' \n",
    "state = xr.open_dataset(state_file)\n",
    "\n",
    "ptracers_file = '/ocean/kramosmu/MITgcm/TracerExperiments/CNTDIFF/run38/ptracersGlob.nc'\n",
    "ptracers = xr.open_dataset(ptracers_file)\n",
    "\n",
    "ptracersNoC_file = '/ocean/kramosmu/MITgcm/TracerExperiments/CNTDIFF/run42/ptracersGlob.nc'\n",
    "ptracersNoC = xr.open_dataset(ptracersNoC_file)\n",
    "\n",
    "#RhoRef = np.squeeze(rdmds('/ocean/kramosmu/MITgcm/TracerExperiments/CNTDIFF/run38/RhoRef'))\n",
    "RhoRef = 999.79998779 # It is constant in all my runs, can't run rdmds"
   ]
  },
  {
   "cell_type": "code",
   "execution_count": 9,
   "metadata": {
    "collapsed": true
   },
   "outputs": [],
   "source": [
    "# General input\n",
    "nx = 360\n",
    "ny = 360\n",
    "nz = 90\n",
    "nt = 19 # t dimension size \n",
    "\n",
    "xslice=slice(100,360)\n",
    "yslice=slice(120,310)\n",
    "\n",
    "tslice = slice(8,16)\n",
    "\n",
    "xind = 240\n",
    "yind = 267 # y index for alongshore cross-section\n",
    "zind = 27\n",
    "\n",
    "zslice = slice(10,22)\n",
    "# plot2\n",
    "zslice_2 = slice(10,32)\n",
    "# plot 3\n",
    "yslice_bac = slice(220,310)\n",
    "xslice_bac = slice(120,360)\n",
    "\n",
    "hFacmasked = np.ma.masked_values(grid.HFacC.data, 0)\n",
    "MaskC = np.ma.getmask(hFacmasked)\n",
    "\n",
    "hFacmaskedNoC = np.ma.masked_values(gridNoC.HFacC.data, 0)\n",
    "MaskCNoC = np.ma.getmask(hFacmaskedNoC)\n",
    "\n",
    "MaskExpand = np.expand_dims(MaskC,0) \n",
    "MaskExpand = MaskExpand + np.zeros((ptracers.Tr1).shape)    "
   ]
  },
  {
   "cell_type": "code",
   "execution_count": 10,
   "metadata": {
    "collapsed": false
   },
   "outputs": [],
   "source": [
    "BottInd = findBottInd(grid.HFacC.data)\n",
    "BottIndNoC = findBottInd(gridNoC.HFacC.data)"
   ]
  },
  {
   "cell_type": "code",
   "execution_count": 11,
   "metadata": {
    "collapsed": false
   },
   "outputs": [],
   "source": [
    "# Find mask shelf bottom\n",
    "\n",
    "hold_maskSB = np.empty((ny,nx))\n",
    "\n",
    "for j in range (nx):\n",
    "    for i in range(ny):\n",
    "        if  abs(BottInd[i,j]-BottIndNoC[i,j]) <= 1:\n",
    "            hold_maskSB[i,j] = 1\n",
    "        else:\n",
    "            hold_maskSB[i,j]= 0\n",
    "    \n",
    "maskSB = np.ma.masked_equal(hold_maskSB,0)     \n",
    "bathyMasked = np.ma.masked_less(-gridNoC.Depth, -152.5)\n",
    "\n",
    "MASK_SB = np.ma.mask_or(bathyMasked.mask, maskSB.mask)\n",
    "\n",
    "maskExpandSB = np.expand_dims(MASK_SB,0) \n",
    "maskExpandSB = maskExpandSB + np.zeros((nt,ny,nx))   \n"
   ]
  },
  {
   "cell_type": "code",
   "execution_count": 12,
   "metadata": {
    "collapsed": false
   },
   "outputs": [
    {
     "name": "stdout",
     "output_type": "stream",
     "text": [
      "0 CNTDIFF_run61\n",
      "1 CNTDIFF_run38\n",
      "2 CNTDIFF_run62\n",
      "3 CNTDIFF_run63\n",
      "4 CNTDIFF_run45\n",
      "5 CNTDIFF_run73\n",
      "6 CNTDIFF_run75\n",
      "7 CNTDIFF_run67\n",
      "8 CNTDIFF_run51\n",
      "9 CNTDIFF_run69\n",
      "10 CNTDIFF_run71\n",
      "11 3DDIFF_run04\n",
      "12 3DDIFF_run05\n",
      "13 3DDIFF_run06\n",
      "14 3DDIFF_run07\n",
      "15 LOWER_BF_run01\n"
     ]
    }
   ],
   "source": [
    "for ii in range(len(records)):\n",
    "    print(ii,records[ii].name)"
   ]
  },
  {
   "cell_type": "code",
   "execution_count": null,
   "metadata": {
    "collapsed": false
   },
   "outputs": [],
   "source": [
    "records2 = [records[0],\n",
    "            records[2],\n",
    "            #records[3],\n",
    "            #records[14],\n",
    "            #records[15],\n",
    "            #records[16],\n",
    "            #records[17],\n",
    "            #records[1],\n",
    "            ]\n",
    "recordsNoC2 = [recordsNoC[0],\n",
    "               recordsNoC[2],\n",
    "               #recordsNoC[3],\n",
    "               #recordsNoC[14],\n",
    "               #recordsNoC[15],\n",
    "               #recordsNoC[16],\n",
    "               #recordsNoC[17],\n",
    "               #recordsNoC[1],\n",
    "               ]\n",
    "\n",
    "cmap_name = cmo.cm.balance\n",
    "sns.set_context('paper')\n",
    "sns.set_style('white')\n",
    "\n",
    "plt.rcParams['font.size'] = 8.0\n",
    "\n",
    "f = plt.figure(figsize = (7.4,4.6)) # 19.0cm = 7.4in, 115cm = 4.52in\n",
    "\n",
    "gs0 = gspec.GridSpec(2, 2, height_ratios=[0.6,1], width_ratios=[1,0.6])\n",
    "\n",
    "\n",
    "for rec,recNoC in zip(records,recordsNoC):\n",
    "    \n",
    "    ptracers_file = '/ocean/kramosmu/MITgcm/TracerExperiments/%s/%s/ptracersGlob.nc' %(rec.exp_code,rec.run_num)\n",
    "    ptracers = xr.open_dataset(ptracers_file)\n",
    "\n",
    "    ptracersNoC_file = '/ocean/kramosmu/MITgcm/TracerExperiments/%s/%s/ptracersGlob.nc' %(recNoC.exp_code,recNoC.run_num)\n",
    "    ptracersNoC = xr.open_dataset(ptracersNoC_file)\n",
    "\n",
    "    ConcAreaWeighted, ConcFilt, Area = ConcAreaShelf(ptracers.Tr1.data, grid.HFacC.data, grid.rA.data,\n",
    "                                                 grid.Depth.data)\n",
    "\n",
    "    ConcAreaWeightedNoC, ConcFiltNoC, AreaNoC = ConcAreaShelf(ptracersNoC.Tr1.data,gridNoC.HFacC.data, \n",
    "                                                                     gridNoC.rA.data, gridNoC.Depth.data)\n",
    "    print('done getting bottom concentrations')\n",
    "    ax1=Plot1anom(gs0[0,0],ptracers.Tr1.isel(Y=yind),ptracersNoC.Tr1.isel(Y=yind),\n",
    "              zslice,267,xslice,color=rec.color) # x-z contours conc\n",
    "\n",
    "    ax2=Plot2anom(gs0[1,1],ptracers.Tr1.isel(X=xind),ptracersNoC.Tr1.isel(X=xind),\n",
    "              yslice_bac,zslice_2,250,color=rec.color) # bottom concentration\n",
    "\n",
    "    ax3=Plot3anom(gs0[1,0],np.ma.masked_array(ConcFilt-ConcFiltNoC,mask=maskExpandSB),\n",
    "              tslice,xslice,yslice_bac,250,267,color=rec.color,label=rec.label)\n",
    "\n",
    "\n",
    "ax1.set_ylabel('Depth (m)',labelpad=0.3)\n",
    "ax1.text(0.05,0.9,'1 Mol/l contours',transform=ax1.transAxes)\n",
    "\n",
    "ax2.set_ylabel('Depth (m)',labelpad=0.3)\n",
    "ax2.set_xlabel('Cross-shelf distnce (km)',labelpad=0.3)\n",
    "    \n",
    "#ax2.text(0.2,0.02,'Tracer concentration Anomaly (Mol/l)',transform=ax2.transAxes)\n",
    "\n",
    "ax3.text(0.05,0.8,' Bottom\\n Concentration\\n Anomaly',transform=ax3.transAxes)\n",
    "ax3.set_xlabel('Alongshore distance (km)',labelpad=0.3)\n",
    "ax3.set_ylabel('Cross-shore distance (km)',labelpad=0.3)\n",
    "\n",
    "\n",
    "plt.tight_layout()\n",
    "\n",
    "plt.savefig('fig_PoolContours.pdf',format='pdf')\n"
   ]
  },
  {
   "cell_type": "code",
   "execution_count": null,
   "metadata": {
    "collapsed": false
   },
   "outputs": [],
   "source": [
    "\n"
   ]
  },
  {
   "cell_type": "code",
   "execution_count": null,
   "metadata": {
    "collapsed": false
   },
   "outputs": [],
   "source": []
  },
  {
   "cell_type": "code",
   "execution_count": null,
   "metadata": {
    "collapsed": true
   },
   "outputs": [],
   "source": []
  }
 ],
 "metadata": {
  "anaconda-cloud": {},
  "kernelspec": {
   "display_name": "Python [default]",
   "language": "python",
   "name": "python3"
  },
  "language_info": {
   "codemirror_mode": {
    "name": "ipython",
    "version": 3
   },
   "file_extension": ".py",
   "mimetype": "text/x-python",
   "name": "python",
   "nbconvert_exporter": "python",
   "pygments_lexer": "ipython3",
   "version": "3.5.2"
  }
 },
 "nbformat": 4,
 "nbformat_minor": 1
}
