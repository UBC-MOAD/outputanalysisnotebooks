{
 "cells": [
  {
   "cell_type": "markdown",
   "metadata": {},
   "source": [
    "## Depth integrated volume of water upwelled onto shelf per km"
   ]
  },
  {
   "cell_type": "code",
   "execution_count": 2,
   "metadata": {
    "collapsed": true
   },
   "outputs": [],
   "source": [
    "#import gsw as sw # Gibbs seawater package\n",
    "\n",
    "import matplotlib.pyplot as plt\n",
    "import matplotlib.colors as mcolors\n",
    "import matplotlib.gridspec as gspec\n",
    "%matplotlib inline\n",
    "\n",
    "from netCDF4 import Dataset\n",
    "import numpy as np\n",
    "import pandas as pd\n",
    "import seaborn as sns\n",
    "import sys\n",
    "\n",
    "import canyon_tools.readout_tools as rout \n",
    "import canyon_tools.metrics_tools as mpt"
   ]
  },
  {
   "cell_type": "code",
   "execution_count": 3,
   "metadata": {
    "collapsed": true
   },
   "outputs": [],
   "source": [
    "sns.set_context('paper')\n",
    "sns.set_style('white')"
   ]
  },
  {
   "cell_type": "code",
   "execution_count": 4,
   "metadata": {
    "collapsed": true
   },
   "outputs": [],
   "source": [
    "# plotting functions\n",
    "def plotCanyonPos(ax,UpX,DnX):\n",
    "    ax.axvline(UpX,color='0.70',linestyle='--')\n",
    "    ax.axvline(DnX,color='0.70',linestyle='--')"
   ]
  },
  {
   "cell_type": "code",
   "execution_count": 5,
   "metadata": {
    "collapsed": false
   },
   "outputs": [],
   "source": [
    "#Exp\n",
    "CGrid = '/ocean/kramosmu/MITgcm/TracerExperiments/CNTDIFF/run38/gridGlob.nc' \n",
    "CGridOut = Dataset(CGrid)\n",
    "\n",
    "CGridNoC = '/ocean/kramosmu/MITgcm/TracerExperiments/CNTDIFF/run42/gridGlob.nc' \n",
    "CGridNoCOut = Dataset(CGridNoC)\n",
    "\n",
    "Ptracers = '/ocean/kramosmu/MITgcm/TracerExperiments/CNTDIFF/run38/ptracersGlob.nc' \n",
    "PtracersOut = Dataset(Ptracers)\n",
    "\n",
    "PtracersN = '/ocean/kramosmu/MITgcm/TracerExperiments/CNTDIFF/run75/ptracersGlob.nc' \n",
    "PtracersOutN = Dataset(PtracersN)\n",
    "\n",
    "Ptracersf = '/ocean/kramosmu/MITgcm/TracerExperiments/CNTDIFF/run71/ptracersGlob.nc' \n",
    "PtracersOutf = Dataset(Ptracersf)\n",
    "\n",
    "PtracersU = '/ocean/kramosmu/MITgcm/TracerExperiments/LOW_BF/run01/ptracersGlob.nc' \n",
    "PtracersOutU = Dataset(PtracersU)\n",
    "\n",
    "PtracersNoC = '/ocean/kramosmu/MITgcm/TracerExperiments/CNTDIFF/run42/ptracersGlob.nc' \n",
    "PtracersOutNoC = Dataset(PtracersNoC)\n",
    "\n",
    "PtracersNoCN = '/ocean/kramosmu/MITgcm/TracerExperiments/CNTDIFF/run76/ptracersGlob.nc' \n",
    "PtracersOutNoCN = Dataset(PtracersNoCN)\n",
    "\n",
    "PtracersNoCf = '/ocean/kramosmu/MITgcm/TracerExperiments/CNTDIFF/run72/ptracersGlob.nc' \n",
    "PtracersOutNoCf = Dataset(PtracersNoCf)\n",
    "\n",
    "PtracersNoCU = '/ocean/kramosmu/MITgcm/TracerExperiments/LOW_BF/run02/ptracersGlob.nc' \n",
    "PtracersOutNoCU = Dataset(PtracersNoCU)\n",
    "\n",
    "State = '/ocean/kramosmu/MITgcm/TracerExperiments/CNTDIFF/run38/stateGlob.nc' \n",
    "StateNoC = '/ocean/kramosmu/MITgcm/TracerExperiments/CNTDIFF/run42/stateGlob.nc' "
   ]
  },
  {
   "cell_type": "code",
   "execution_count": 6,
   "metadata": {
    "collapsed": true
   },
   "outputs": [],
   "source": [
    "# General input\n",
    "\n",
    "nx = 360\n",
    "ny = 360\n",
    "nz = 90\n",
    "nt = 19 # t dimension size \n",
    "numTr = 22 # number of tracers in total (CNT =22, 3D = 4, total = 19)\n",
    "\n",
    "rc = CGridNoCOut.variables['RC']\n",
    "dxf = CGridNoCOut.variables['dxF']\n",
    "xc = rout.getField(CGridNoC, 'XC') # x coords tracer cells\n",
    "yc = rout.getField(CGridNoC, 'YC') # y coords tracer cells\n",
    "\n",
    "rA = rout.getField(CGridNoC, 'rA') \n",
    "\n",
    "drF = CGridNoCOut.variables['drF'] # vertical distance between faces\n",
    "drC = CGridNoCOut.variables['drC'] # vertical distance between centers\n",
    "\n",
    "hFacC = rout.getField(CGridNoC, 'HFacC')\n",
    "mask_NoC = rout.getMask(CGridNoC, 'HFacC')\n",
    "\n",
    "\n",
    "\n",
    "times = np.arange(0,nt,1)\n",
    "\n",
    "#print(drC[:])\n",
    "#print(np.shape(drC))"
   ]
  },
  {
   "cell_type": "code",
   "execution_count": 7,
   "metadata": {
    "collapsed": true
   },
   "outputs": [],
   "source": [
    "def HCW_Tracer_AlongShelf(Tr,Tr1,MaskC,nzlim,rA,hFacC,drF,yin,zfin,xi,yi):\n",
    "  '''\n",
    "  INPUT----------------------------------------------------------------------------------------------------------------\n",
    "    Tr    : Array with concentration values for a tracer. Until this function is more general, this should be size 19x90x360x360\n",
    "    MaskC : Land mask for tracer\n",
    "    nzlim : The nz index under which to look for water properties\n",
    "    rA    : Area of cell faces at C points (360x360)\n",
    "    fFacC : Fraction of open cell (90x360x360)\n",
    "    drF   : Distance between cell faces (90)\n",
    "    yin   : across-shore index of shelf break\n",
    "    zfin  : shelf break index + 1 \n",
    "    xi    : initial profile x index\n",
    "    yi    : initial profile y index\n",
    "    \n",
    "    OUTPUT----------------------------------------------------------------------------------------------------------------\n",
    "    VolWaterHighConc =  Array with the volume of water over the shelf [t,360] at every time output.\n",
    "    Total_Tracer =  Array with the mass of tracer (m^3*[C]*l/m^3) at each x-position over the shelf [t,360] at \n",
    "                    every time output. \n",
    "                                                \n",
    "  -----------------------------------------------------------------------------------------------------------------------\n",
    "  '''\n",
    "  maskExp = mpt.maskExpand(MaskC,Tr)\n",
    "\n",
    "  TrMask=np.ma.array(Tr,mask=maskExp)   \n",
    "  Tr1Mask=np.ma.array(Tr1,mask=maskExp)   \n",
    "    \n",
    "  trlim = TrMask[0,nzlim,yi,xi]\n",
    "    \n",
    "  print('tracer limit concentration is: ',trlim)\n",
    "    \n",
    "    \n",
    "  # mask cells with tracer concentration < trlim on shelf\n",
    "  HighConc_Masked = np.ma.masked_less(TrMask[:,:zfin,yin:,:], trlim) \n",
    "  HighConc_Mask = HighConc_Masked.mask\n",
    "    \n",
    "  #Get volume of water of cells with relatively high concentration\n",
    "  rA_exp = np.expand_dims(rA[yin:,:],0)\n",
    "  drF_exp = np.expand_dims(np.expand_dims(drF[:zfin],1),1)\n",
    "  rA_exp = rA_exp + np.zeros(hFacC[:zfin,yin:,:].shape)\n",
    "  drF_exp = drF_exp + np.zeros(hFacC[:zfin,yin:,:].shape)\n",
    "    \n",
    "  ShelfVolume = hFacC[:zfin,yin:,:]*drF_exp*rA_exp\n",
    "  ShelfVolume_exp = np.expand_dims(ShelfVolume,0)\n",
    "  ShelfVolume_exp = ShelfVolume_exp + np.zeros(HighConc_Mask.shape)\n",
    "    \n",
    "  HighConc_CellVol = np.ma.masked_array(ShelfVolume_exp,mask = HighConc_Mask) \n",
    "  VolWaterHighConc =np.ma.sum(np.ma.sum(HighConc_CellVol,axis = 1),axis=1)\n",
    "    \n",
    "   #Get total mass of tracer on shelf\n",
    "  Total_Tracer = np.ma.sum(np.ma.sum(ShelfVolume_exp*Tr1Mask[:,:zfin,yin:,:]*1000.0,axis = 1),axis=1)\n",
    "   # 1 m^3 = 1000 l\n",
    "    \n",
    "  return (VolWaterHighConc, Total_Tracer)"
   ]
  },
  {
   "cell_type": "code",
   "execution_count": 8,
   "metadata": {
    "collapsed": true
   },
   "outputs": [],
   "source": [
    "Tr1 = rout.getField(Ptracers, 'Tr1')\n",
    "Tr1NoC = rout.getField(PtracersNoC, 'Tr1')\n",
    "\n",
    "Tr2 = rout.getField(Ptracers, 'Tr2')\n",
    "Tr2NoC = rout.getField(PtracersNoC, 'Tr2')"
   ]
  },
  {
   "cell_type": "code",
   "execution_count": 9,
   "metadata": {
    "collapsed": true
   },
   "outputs": [],
   "source": [
    "Tr1N = rout.getField(PtracersN, 'Tr1')\n",
    "Tr2N = rout.getField(PtracersN, 'Tr2')\n",
    "Tr1NoCN = rout.getField(PtracersNoCN, 'Tr1')\n",
    "Tr2NoCN = rout.getField(PtracersNoCN, 'Tr2')"
   ]
  },
  {
   "cell_type": "code",
   "execution_count": 10,
   "metadata": {
    "collapsed": true
   },
   "outputs": [],
   "source": [
    "Tr1f = rout.getField(Ptracersf, 'Tr1')\n",
    "Tr1NoCf = rout.getField(PtracersNoCf, 'Tr1')\n",
    "\n",
    "Tr2f = rout.getField(Ptracersf, 'Tr2')\n",
    "Tr2NoCf = rout.getField(PtracersNoCf, 'Tr2')"
   ]
  },
  {
   "cell_type": "code",
   "execution_count": 11,
   "metadata": {
    "collapsed": true
   },
   "outputs": [],
   "source": [
    "Tr1U = rout.getField(PtracersU, 'Tr1')\n",
    "Tr1NoCU = rout.getField(PtracersNoCU, 'Tr1')\n",
    "\n",
    "Tr2U = rout.getField(PtracersU, 'Tr2')\n",
    "Tr2NoCU = rout.getField(PtracersNoCU, 'Tr2')"
   ]
  },
  {
   "cell_type": "code",
   "execution_count": 12,
   "metadata": {
    "collapsed": true
   },
   "outputs": [],
   "source": [
    "import canyon_records \n",
    "import nocanyon_records\n",
    "\n",
    "records = canyon_records.main()\n",
    "recordsNoC = nocanyon_records.main()"
   ]
  },
  {
   "cell_type": "code",
   "execution_count": 13,
   "metadata": {
    "collapsed": false
   },
   "outputs": [
    {
     "name": "stdout",
     "output_type": "stream",
     "text": [
      "0 CNTDIFF_run43\n",
      "1 CNTDIFF_run38\n",
      "2 CNTDIFF_run37\n",
      "3 CNTDIFF_run36\n",
      "4 CNTDIFF_run45\n",
      "5 CNTDIFF_run73\n",
      "6 CNTDIFF_run75\n",
      "7 CNTDIFF_run67\n",
      "8 CNTDIFF_run51\n",
      "9 CNTDIFF_run69\n",
      "10 CNTDIFF_run71\n",
      "11 3DVISC_run01\n",
      "12 3DVISC_run02\n",
      "13 3DVISC_run03\n",
      "14 3DVISC_run04\n",
      "15 LOW_BF_run01\n",
      "16 LOWER_BF_run01\n"
     ]
    }
   ],
   "source": [
    "ii=0\n",
    "for rec in records:\n",
    "    print(ii,rec.name)\n",
    "    ii=ii+1\n",
    "    \n",
    "select_rec=[3,6,10,15]\n",
    "labels = ['Base case',\n",
    "          'Lower $N$',\n",
    "          'Lower $f$',\n",
    "          'Lower $U$']\n",
    "colors = ['0.4','k','k','k']\n",
    "line_sty = ['-','-','--',':']"
   ]
  },
  {
   "cell_type": "code",
   "execution_count": 14,
   "metadata": {
    "collapsed": false
   },
   "outputs": [
    {
     "name": "stdout",
     "output_type": "stream",
     "text": [
      "tracer limit concentration is:  7.21757\n",
      "tracer limit concentration is:  7.21757\n"
     ]
    }
   ],
   "source": [
    "HCW,TrMass = HCW_Tracer_AlongShelf(Tr2,Tr1,mask_NoC,29,rA,hFacC,drF,227,30,180,50)\n",
    "\n",
    "HCWNoC,TrMassNoc = HCW_Tracer_AlongShelf(Tr2NoC,Tr1NoC,mask_NoC,29,rA,hFacC,drF,227,30,180,50)"
   ]
  },
  {
   "cell_type": "code",
   "execution_count": 15,
   "metadata": {
    "collapsed": false
   },
   "outputs": [
    {
     "name": "stdout",
     "output_type": "stream",
     "text": [
      "tracer limit concentration is:  7.21757\n",
      "tracer limit concentration is:  7.21757\n",
      "tracer limit concentration is:  7.21757\n",
      "tracer limit concentration is:  7.21757\n",
      "tracer limit concentration is:  7.21757\n",
      "tracer limit concentration is:  7.21757\n"
     ]
    }
   ],
   "source": [
    "HCWN,TrMassN = HCW_Tracer_AlongShelf(Tr2N,Tr1N,mask_NoC,29,rA,hFacC,drF,227,30,180,50)\n",
    "HCWf,TrMassf = HCW_Tracer_AlongShelf(Tr2f,Tr1f,mask_NoC,29,rA,hFacC,drF,227,30,180,50)\n",
    "HCWU,TrMassU = HCW_Tracer_AlongShelf(Tr2U,Tr1U,mask_NoC,29,rA,hFacC,drF,227,30,180,50)\n",
    "\n",
    "HCWNoCN,TrMassNocN = HCW_Tracer_AlongShelf(Tr2NoCN,Tr1NoCN,mask_NoC,29,\n",
    "                                           rA,hFacC,drF,227,30,180,50)\n",
    "HCWNoCf,TrMassNocf = HCW_Tracer_AlongShelf(Tr2NoCf,Tr1NoCf,mask_NoC,29,\n",
    "                                           rA,hFacC,drF,227,30,180,50)\n",
    "HCWNoCU,TrMassNocU = HCW_Tracer_AlongShelf(Tr2NoCU,Tr1NoCU,mask_NoC,29,\n",
    "                                           rA,hFacC,drF,227,30,180,50)"
   ]
  },
  {
   "cell_type": "code",
   "execution_count": 20,
   "metadata": {
    "collapsed": false
   },
   "outputs": [
    {
     "name": "stdout",
     "output_type": "stream",
     "text": [
      "Mean HCW/HCWNoC $\\pm$ STD\n",
      "3.482431751393845\n",
      "0.9142598121307769\n",
      "Mean TrMass/TrMassNoC \n",
      "1.631137064885716\n",
      "0.141884196780973\n",
      "Mean HCW/HCWNoC $\\pm$ STD\n",
      "2.950421374750377\n",
      "0.24463606881486935\n",
      "Mean TrMass/TrMassNoC \n",
      "1.9990522297436268\n",
      "0.2768342164340831\n",
      "Mean HCW/HCWNoC $\\pm$ STD\n",
      "5.179376531068784\n",
      "2.0266992625140263\n",
      "Mean TrMass/TrMassNoC \n",
      "1.3472131460331898\n",
      "0.11206358752562683\n",
      "Mean HCW/HCWNoC $\\pm$ STD\n",
      "6.156237536767444\n",
      "2.335014078611171\n",
      "Mean TrMass/TrMassNoC \n",
      "1.62007192101791\n",
      "0.19629282101932405\n"
     ]
    },
    {
     "data": {
      "image/png": "[encoded data removed]",
      "text/plain": [
       "<matplotlib.figure.Figure at 0x7f61800894e0>"
      ]
     },
     "metadata": {},
     "output_type": "display_data"
    }
   ],
   "source": [
    "plt.rcParams['font.size'] = 8.0\n",
    "f = plt.figure(figsize = (3.75,4.6)) # 95mm = 3.74in, 115cm = 4.52in\n",
    "\n",
    "gs = gspec.GridSpec(2, 1, height_ratios=[0.9,1.3])\n",
    "gs0 = gspec.GridSpecFromSubplotSpec(1, 2, subplot_spec=gs[0,0],wspace=0.3)\n",
    "gs1 = gspec.GridSpecFromSubplotSpec(2, 1, subplot_spec=gs[1,0],hspace=0.1)\n",
    "\n",
    "ax0 = plt.subplot(gs0[0,0])\n",
    "ax1 = plt.subplot(gs0[0,1])\n",
    "ax2 = plt.subplot(gs1[0,0],xticks=[])\n",
    "ax3 = plt.subplot(gs1[1,0])\n",
    "\n",
    "ii=7\n",
    "jj = 0\n",
    "\n",
    "ax0.axhline(0,color='0.8')\n",
    "ax0.plot(xc[1,:]/1000,(HCW[ii,:]-HCWNoC[ii,:])/(100000*dxf[0,:]),\n",
    "         color='0.4',linestyle='-')\n",
    "ax0.plot(xc[1,:]/1000,(HCWN[ii,:]-HCWNoCN[ii,:])/(100000*dxf[0,:]),\n",
    "         sns.xkcd_rgb[\"black\"],linestyle='-')\n",
    "ax0.plot(xc[1,:]/1000,(HCWf[ii,:]-HCWNoCf[ii,:])/(100000*dxf[0,:]),\n",
    "         sns.xkcd_rgb[\"black\"],linestyle='--')\n",
    "ax0.plot(xc[1,:]/1000,(HCWU[ii,:]-HCWNoCU[ii,:])/(100000*dxf[0,:]),\n",
    "         sns.xkcd_rgb[\"black\"],linestyle=':')\n",
    "\n",
    "ax0.text(0.85,0.9,'(a)',transform=ax0.transAxes)\n",
    "ax0.text(0.05,0.9,'$10^5$ m$^3$',transform=ax0.transAxes)\n",
    "\n",
    "ax1.axhline(0,color='0.8')\n",
    "ax1.plot(xc[1,:]/1000,(TrMass[ii,:]-TrMassNoc[ii,:])/(100000000*dxf[0,:]),'-',\n",
    "         color='0.4')\n",
    "ax1.plot(xc[1,:]/1000,(TrMassN[ii,:]-TrMassNocN[ii,:])/(100000000*dxf[0,:]),'-',\n",
    "         color=sns.xkcd_rgb[\"black\"])\n",
    "ax1.plot(xc[1,:]/1000,(TrMassf[ii,:]-TrMassNocf[ii,:])/(100000000*dxf[0,:]),'--',\n",
    "         color=sns.xkcd_rgb[\"black\"])\n",
    "ax1.plot(xc[1,:]/1000,(TrMassU[ii,:]-TrMassNocU[ii,:])/(100000000*dxf[0,:]),':',\n",
    "         color=sns.xkcd_rgb[\"black\"])\n",
    "\n",
    "ax1.text(0.85,0.9,'(b)',transform=ax1.transAxes)    \n",
    "ax1.text(0.05,0.9,'$10^8$ Mol/l',transform=ax1.transAxes)    \n",
    "\n",
    "ax2.axvline(3.5,color='0.8')\n",
    "ax3.axvline(3.5,color='0.8')\n",
    "for ind in select_rec:\n",
    "    file = ('/ocean/kramosmu/MITgcm/TracerExperiments/%s/HCW_TrMass_%s%s.csv' %(records[ind].exp_code,\n",
    "                                                                                records[ind].exp_code,\n",
    "                                                                                records[ind].run_num))\n",
    "    fileNoC = ('/ocean/kramosmu/MITgcm/TracerExperiments/%s/HCW_TrMass_%s%s.csv' %(recordsNoC[ind].exp_code,\n",
    "                                                                                   recordsNoC[ind].exp_code,\n",
    "                                                                                   recordsNoC[ind].run_num))\n",
    "    dfcan = pd.read_csv(file)\n",
    "    dfnoc = pd.read_csv(fileNoC)\n",
    "    \n",
    "    ax2.plot(np.arange(6,19,1)/2.0,\n",
    "             (dfcan['HCW'][6:19])/(dfnoc['HCW'][6:19]),\n",
    "             line_sty[jj],color=colors[jj],\n",
    "             label=labels[jj])\n",
    "    print('Mean HCW/HCWNoC $\\pm$ STD')\n",
    "    print(np.mean(dfcan['HCW'][6:19]/dfnoc['HCW'][6:19]))\n",
    "    print(np.std(dfcan['HCW'][6:19]/dfnoc['HCW'][6:19]))\n",
    "    \n",
    "    ax3.plot(np.arange(6,19,1)/2.0,\n",
    "             (dfcan['TotTrMass'][6:19]-dfnoc['TotTrMass'][0])/\n",
    "             (dfnoc['TotTrMass'][6:19]-dfnoc['TotTrMass'][0]),\n",
    "             line_sty[jj],\n",
    "             color=colors[jj],label=labels[jj])\n",
    "    print('Mean TrMass/TrMassNoC ')\n",
    "    print(np.mean((dfcan['TotTrMass'][6:19]-dfnoc['TotTrMass'][0])/\n",
    "                  (dfnoc['TotTrMass'][6:19]-dfnoc['TotTrMass'][0])))\n",
    "    print(np.std((dfcan['TotTrMass'][6:19]-dfnoc['TotTrMass'][0])/\n",
    "                 (dfnoc['TotTrMass'][6:19]-dfnoc['TotTrMass'][0])))\n",
    "    \n",
    "    jj=jj+1\n",
    "    \n",
    "\n",
    "ax2.text(0.95,0.1,'(c)',transform=ax2.transAxes)\n",
    "ax3.text(0.95,0.1,'(d)',transform=ax3.transAxes)    \n",
    "\n",
    "#ax.axhline(0,color='0.3')\n",
    "plotCanyonPos(ax0,xc[1,120]/1000,xc[1,240]/1000)\n",
    "plotCanyonPos(ax1,xc[1,120]/1000,xc[1,240]/1000)\n",
    "\n",
    "ax0.set_ylabel('$V_{cny}-V_{nc}$ per m',labelpad=-7)\n",
    "ax0.set_xlabel('Alongshore distance (km)',labelpad=0.5)\n",
    "ax1.set_xlabel('Alongshore distance (km)',labelpad=0.5)\n",
    "ax1.set_ylabel('$M_{cny}-M_{nc}$ per m ',labelpad=-6)\n",
    "ax2.set_ylabel('$V_{cny}/V_{nc}$',labelpad=0.2)\n",
    "ax3.set_ylabel('$M_{cny}/M_{nc}$',labelpad=0.2)\n",
    "ax3.set_xlabel('Days')\n",
    "\n",
    "#ax2.set_ylim(0,2.2)\n",
    "\n",
    "#ax3.set_ylim(0,6)\n",
    "ax3.legend(bbox_to_anchor=(0.85,-0.2),ncol=2,labelspacing=0.1)\n",
    "\n",
    "ax0.tick_params(axis='x', pad=1)\n",
    "ax1.tick_params(axis='x', pad=1)\n",
    "ax3.tick_params(axis='x', pad=1)\n",
    "\n",
    "ax0.tick_params(axis='y', pad=3)\n",
    "ax1.tick_params(axis='y', pad=3)\n",
    "ax2.tick_params(axis='y', pad=3)\n",
    "ax3.tick_params(axis='y', pad=3)\n",
    "\n",
    "plt.savefig('fig_HCW_TrMass_DynVar.eps',format='eps',bbox_inches='tight')\n"
   ]
  },
  {
   "cell_type": "code",
   "execution_count": null,
   "metadata": {
    "collapsed": true
   },
   "outputs": [],
   "source": []
  }
 ],
 "metadata": {
  "anaconda-cloud": {},
  "kernelspec": {
   "display_name": "Python [conda root]",
   "language": "python",
   "name": "conda-root-py"
  },
  "language_info": {
   "codemirror_mode": {
    "name": "ipython",
    "version": 3
   },
   "file_extension": ".py",
   "mimetype": "text/x-python",
   "name": "python",
   "nbconvert_exporter": "python",
   "pygments_lexer": "ipython3",
   "version": "3.5.2"
  }
 },
 "nbformat": 4,
 "nbformat_minor": 1
}
