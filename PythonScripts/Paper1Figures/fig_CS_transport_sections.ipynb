{
 "cells": [
  {
   "cell_type": "markdown",
   "metadata": {},
   "source": [
    "## Cross-shelf transport sections figure"
   ]
  },
  {
   "cell_type": "code",
   "execution_count": 1,
   "metadata": {
    "collapsed": true
   },
   "outputs": [],
   "source": [
    "#import gsw as sw # Gibbs seawater package\n",
    "\n",
    "import matplotlib.pyplot as plt\n",
    "import matplotlib.colors as mcolors\n",
    "import matplotlib.gridspec as gspec\n",
    "%matplotlib inline\n",
    "\n",
    "from netCDF4 import Dataset\n",
    "import numpy as np\n",
    "import pandas as pd\n",
    "import seaborn as sns\n",
    "import sys\n",
    "import xarray as xr\n",
    "import canyon_tools.readout_tools as rout \n",
    "import canyon_tools.metrics_tools as mpt"
   ]
  },
  {
   "cell_type": "code",
   "execution_count": 2,
   "metadata": {
    "collapsed": true
   },
   "outputs": [],
   "source": [
    "sns.set_context('paper')\n",
    "sns.set_style('white')"
   ]
  },
  {
   "cell_type": "code",
   "execution_count": 3,
   "metadata": {
    "collapsed": true
   },
   "outputs": [],
   "source": [
    "def plotCSPos(ax,CS1,CS2,CS3,CS4):\n",
    "    ax.axvline(CS1,color='k',linestyle=':')\n",
    "    ax.axvline(CS2,color='k',linestyle=':')\n",
    "    ax.axvline(CS3,color='k',linestyle=':')\n",
    "    ax.axvline(CS4,color='k',linestyle=':')\n",
    "    \n",
    "def unstagger_xarray(qty, index):\n",
    "    \"\"\"Interpolate u, v, or w component values to values at grid cell centres.\n",
    "    \n",
    "    Named indexing requires that input arrays are XArray DataArrays.\n",
    "\n",
    "    :arg qty: u, v, or w component values\n",
    "    :type qty: :py:class:`xarray.DataArray`\n",
    "    \n",
    "    :arg index: index name along which to centre\n",
    "        (generally one of 'gridX', 'gridY', or 'depth')\n",
    "    :type index: str\n",
    "\n",
    "    :returns qty: u, v, or w component values at grid cell centres\n",
    "    :rtype: :py:class:`xarray.DataArray`\n",
    "    \"\"\"\n",
    "    \n",
    "    qty = (qty + qty.shift(**{index: 1})) / 2\n",
    "    \n",
    "    return qty\n"
   ]
  },
  {
   "cell_type": "code",
   "execution_count": 4,
   "metadata": {
    "collapsed": false
   },
   "outputs": [],
   "source": [
    "#Exp\n",
    "CGrid = '/ocean/kramosmu/MITgcm/TracerExperiments/CNTDIFF/run38/gridGlob.nc' \n",
    "CGridOut = Dataset(CGrid)\n",
    "\n",
    "CGridNoC = '/ocean/kramosmu/MITgcm/TracerExperiments/CNTDIFF/run42/gridGlob.nc' \n",
    "CGridNoCOut = Dataset(CGridNoC)\n",
    "\n",
    "State = '/ocean/kramosmu/MITgcm/TracerExperiments/CNTDIFF/run38/stateGlob.nc' \n",
    "StateNoC = '/ocean/kramosmu/MITgcm/TracerExperiments/CNTDIFF/run42/stateGlob.nc' \n",
    "\n",
    "grid = xr.open_dataset(CGrid)\n"
   ]
  },
  {
   "cell_type": "code",
   "execution_count": null,
   "metadata": {
    "collapsed": true
   },
   "outputs": [],
   "source": []
  },
  {
   "cell_type": "code",
   "execution_count": null,
   "metadata": {
    "collapsed": true
   },
   "outputs": [],
   "source": []
  },
  {
   "cell_type": "code",
   "execution_count": 5,
   "metadata": {
    "collapsed": true
   },
   "outputs": [],
   "source": [
    "# General input\n",
    "\n",
    "nx = 360\n",
    "ny = 360\n",
    "nz = 90\n",
    "nt = 19 # t dimension size \n",
    "numTr = 22 # number of tracers in total (CNT =22, 3D = 4, total = 19)\n",
    "\n",
    "rc = CGridNoCOut.variables['RC']\n",
    "dxf = CGridNoCOut.variables['dxF']\n",
    "xc = rout.getField(CGridNoC, 'XC') # x coords tracer cells\n",
    "yc = rout.getField(CGridNoC, 'YC') # y coords tracer cells\n",
    "\n",
    "rA = rout.getField(CGridNoC, 'rA') \n",
    "\n",
    "drF = CGridNoCOut.variables['drF'] # vertical distance between faces\n",
    "drC = CGridNoCOut.variables['drC'] # vertical distance between centers\n",
    "\n",
    "hFacC = rout.getField(CGridNoC, 'HFacC')\n",
    "mask_NoC = rout.getMask(CGridNoC, 'HFacC')\n",
    "\n",
    "\n",
    "\n",
    "times = np.arange(0,nt,1)\n",
    "\n",
    "#print(drC[:])\n",
    "#print(np.shape(drC))"
   ]
  },
  {
   "cell_type": "code",
   "execution_count": 6,
   "metadata": {
    "collapsed": true
   },
   "outputs": [],
   "source": [
    "import canyon_records \n",
    "import nocanyon_records\n",
    "\n",
    "records = canyon_records.main()\n",
    "recordsNoC = nocanyon_records.main()"
   ]
  },
  {
   "cell_type": "code",
   "execution_count": 7,
   "metadata": {
    "collapsed": false
   },
   "outputs": [
    {
     "name": "stdout",
     "output_type": "stream",
     "text": [
      "0 CNTDIFF_run38 9.66e-05\n",
      "1 CNTDIFF_run37 9.66e-05\n",
      "2 CNTDIFF_run36 9.66e-05\n",
      "3 CNTDIFF_run45 9.66e-05\n",
      "4 CNTDIFF_run73 9.66e-05\n",
      "5 CNTDIFF_run75 9.66e-05\n",
      "6 CNTDIFF_run67 0.0001\n",
      "7 CNTDIFF_run51 7.68e-05\n",
      "8 CNTDIFF_run69 8.6e-05\n",
      "9 CNTDIFF_run71 6.4e-05\n",
      "10 3DVISC_run01 9.66e-05\n",
      "11 3DVISC_run02 9.66e-05\n",
      "12 3DVISC_run03 9.66e-05\n",
      "13 3DVISC_run04 9.66e-05\n",
      "14 3DVISC_run05 9.66e-05\n",
      "15 3DVISC_run06 9.66e-05\n",
      "16 LOW_BF_run01 9.66e-05\n",
      "17 LOWER_BF_run01 9.66e-05\n",
      "18 LOWEST_BF_run01 9.66e-05\n",
      "19 LOWEST_BF_run03 9.66e-05\n",
      "20 LOWEST_BF_run05 9.66e-05\n",
      "21 LOWEST_BF_run07 7e-05\n",
      "22 LOWEST_BF_run11 9.66e-05\n"
     ]
    }
   ],
   "source": [
    "ii=0\n",
    "for rec in records:\n",
    "    print(ii,rec.name,rec.f)\n",
    "    ii=ii+1\n",
    "    \n",
    "select_rec2=[0,2,4,5,6,7,12,14,15,17]\n",
    "select_rec=[0,2,12,14,4,5,6,7,15]"
   ]
  },
  {
   "cell_type": "code",
   "execution_count": null,
   "metadata": {
    "collapsed": false
   },
   "outputs": [],
   "source": [
    "plt.rcParams['font.size'] = 8.0\n",
    "f = plt.figure(figsize = (7.48,4.6)) # 190mm = 7.48 in, 115cm = 4.52in\n",
    "\n",
    "gs = gspec.GridSpec(2, 2, height_ratios=[1,1,1],wspace=0.1,hspace=0.05)\n",
    "\n",
    "ax0 = plt.subplot(gs[0,0],xticks=[])\n",
    "ax1 = plt.subplot(gs[1,0])\n",
    "ax2 = plt.subplot(gs[0,1],xticks=[])\n",
    "ax3 = plt.subplot(gs[1,1])\n",
    "\n",
    "\n",
    "index_base = 0\n",
    "file = (('/ocean/kramosmu/MITgcm/TracerExperiments/%s/%s' %(records[index_base].exp_code,records[index_base].run_num))+\n",
    "        'advTracer_CS_transports.nc')\n",
    "filedif = (('/ocean/kramosmu/MITgcm/TracerExperiments/%s/%s' %(records[index_base].exp_code,records[index_base].run_num))+\n",
    "            'difTracer_CS_transports.nc')\n",
    "fileNoC = (('/ocean/kramosmu/MITgcm/TracerExperiments/%s/%s' %(recordsNoC[index_base].exp_code,recordsNoC[index_base].run_num))+\n",
    "            'advTracer_CS_transports.nc')\n",
    "dfcan_base = xr.open_dataset(file)\n",
    "dfdif_base = xr.open_dataset(filedif)\n",
    "dfnoc_base = xr.open_dataset(fileNoC)\n",
    "vertical_base = (dfdif_base.Vert_dif_trans_sb + dfcan_base.Vert_adv_trans_sb)-dfnoc_base.Vert_adv_trans_sb   \n",
    "total_base = (dfcan_base.CS1_adv_trans-dfnoc_base.CS1_adv_trans +\n",
    "             dfcan_base.CS2_adv_trans-dfnoc_base.CS2_adv_trans +\n",
    "             dfcan_base.CS3_adv_trans-dfnoc_base.CS3_adv_trans +\n",
    "             dfcan_base.CS4_adv_trans-dfnoc_base.CS4_adv_trans +\n",
    "             dfcan_base.CS5_adv_trans-dfnoc_base.CS5_adv_trans +\n",
    "             vertical_base)\n",
    "    \n",
    "for ind in select_rec:\n",
    "    file = (('/ocean/kramosmu/MITgcm/TracerExperiments/%s/%s' %(records[ind].exp_code,records[ind].run_num))+\n",
    "        'advTracer_CS_transports.nc')\n",
    "    filedif = (('/ocean/kramosmu/MITgcm/TracerExperiments/%s/%s' %(records[ind].exp_code,records[ind].run_num))+\n",
    "            'difTracer_CS_transports.nc')\n",
    "    fileNoC = (('/ocean/kramosmu/MITgcm/TracerExperiments/%s/%s' %(recordsNoC[ind].exp_code,recordsNoC[ind].run_num))+\n",
    "            'advTracer_CS_transports.nc')\n",
    "    dfcan = xr.open_dataset(file)\n",
    "    dfdif = xr.open_dataset(filedif)\n",
    "    dfnoc = xr.open_dataset(fileNoC)\n",
    "\n",
    "    vertical = (dfdif.Vert_dif_trans_sb + dfcan.Vert_adv_trans_sb)-dfnoc.Vert_adv_trans_sb   \n",
    "    #print('mean vert %s' %records[ind].name)\n",
    "    #print(np.mean(vertical[8:18]/vertical_base[8:18]))\n",
    "    ax0.plot(np.arange(1,19,1)/2.0,(vertical)/(vertical_base),color=sns.xkcd_rgb[records[ind].color])\n",
    "    ax1.plot(np.arange(1,19,1)/2.0,(dfcan.CS3_adv_trans-dfnoc.CS3_adv_trans)/\n",
    "             (dfcan_base.CS3_adv_trans-dfnoc_base.CS3_adv_trans),\n",
    "             color=sns.xkcd_rgb[records[ind].color])\n",
    "    ax2.plot(np.arange(1,19,1)/2.0,(dfcan.CS4_adv_trans-dfnoc.CS4_adv_trans)/\n",
    "             (dfcan_base.CS4_adv_trans-dfnoc_base.CS4_adv_trans),\n",
    "             color=sns.xkcd_rgb[records[ind].color])\n",
    "    \n",
    "    total = (dfcan.CS1_adv_trans-dfnoc.CS1_adv_trans +\n",
    "             dfcan.CS2_adv_trans-dfnoc.CS2_adv_trans +\n",
    "             dfcan.CS3_adv_trans-dfnoc.CS3_adv_trans +\n",
    "             dfcan.CS4_adv_trans-dfnoc.CS4_adv_trans +\n",
    "             dfcan.CS5_adv_trans-dfnoc.CS5_adv_trans +\n",
    "             vertical)\n",
    "    \n",
    "    #print('mean total %s' %records[ind].name)\n",
    "    #print(np.mean(total[8:18]/total_base[8:18]))\n",
    "    \n",
    "    ax3.plot(np.arange(1,19,1)/2.0,total/total_base,color=sns.xkcd_rgb[records[ind].color],label=records[ind].label)\n",
    "\n",
    "ax1.set_xlabel('Days',labelpad=0.5)\n",
    "ax3.set_xlabel('Days',labelpad=0.5)\n",
    "    \n",
    "ax0.set_ylabel('Trans/Trans$_{base}$',labelpad=0.5)\n",
    "ax1.set_ylabel('Trans/Trans$_{base}$',labelpad=-2)\n",
    "\n",
    "# General looks\n",
    "ax0.text(0.01,0.9,'(a) LID',transform=ax0.transAxes)\n",
    "ax1.text(0.01,0.9,'(b) CS3',transform=ax1.transAxes)    \n",
    "ax2.text(0.01,0.9,'(c) CS4',transform=ax2.transAxes)\n",
    "ax3.text(0.01,0.9,'(d) Total',transform=ax3.transAxes)    \n",
    "\n",
    "ax3.legend(ncol=5,bbox_to_anchor=(1.0,-0.1))\n",
    "\n",
    "ax1.tick_params(axis='x', pad=1)\n",
    "ax3.tick_params(axis='x', pad=1)\n",
    "\n",
    "ax0.tick_params(axis='y', pad=2)\n",
    "ax1.tick_params(axis='y', pad=2)\n",
    "ax2.tick_params(axis='y', pad=2)\n",
    "ax3.tick_params(axis='y', pad=2)\n",
    "\n",
    "ax0.set_xlim(4,9)\n",
    "ax1.set_xlim(4,9)\n",
    "ax2.set_xlim(4,9)\n",
    "ax3.set_xlim(4,9)\n",
    "\n",
    "#ax0.set_ylim(0.4,1.6)\n",
    "ax1.set_ylim(-0,2)\n",
    "#ax2.set_ylim(0,2)\n",
    "#ax3.set_ylim(0,2)\n",
    "\n",
    "plt.savefig('fig_CS_transport_sections.eps',format='eps',bbox_inches='tight')\n",
    "\n"
   ]
  },
  {
   "cell_type": "code",
   "execution_count": null,
   "metadata": {
    "collapsed": false
   },
   "outputs": [],
   "source": [
    "plt.rcParams['font.size'] = 8.0\n",
    "f = plt.figure(figsize = (7.48,4.6)) # 190mm = 7.48 in, 115cm = 4.52in\n",
    "\n",
    "gs = gspec.GridSpec(2, 2, height_ratios=[1,1,1],wspace=0.1,hspace=0.05)\n",
    "\n",
    "ax0 = plt.subplot(gs[0,0],xticks=[])\n",
    "ax1 = plt.subplot(gs[1,0])\n",
    "ax2 = plt.subplot(gs[0,1],xticks=[])\n",
    "ax3 = plt.subplot(gs[1,1])\n",
    "\n",
    "\n",
    "# Time series\n",
    "ax0.axhline(0,color='0.8',linewidth=2)\n",
    "ax1.axhline(0,color='0.8',linewidth=2)\n",
    "ax2.axhline(0,color='0.8',linewidth=2)\n",
    "ax3.axhline(0,color='0.8',linewidth=2)\n",
    "\n",
    "for ind in select_rec2:\n",
    "    file = (('/ocean/kramosmu/MITgcm/TracerExperiments/%s/%s' %(records[ind].exp_code,records[ind].run_num))+\n",
    "        'advTracer_CS_transports.nc')\n",
    "    filedif = (('/ocean/kramosmu/MITgcm/TracerExperiments/%s/%s' %(records[ind].exp_code,records[ind].run_num))+\n",
    "            'difTracer_CS_transports.nc')\n",
    "    fileNoC = (('/ocean/kramosmu/MITgcm/TracerExperiments/%s/%s' %(recordsNoC[ind].exp_code,recordsNoC[ind].run_num))+\n",
    "            'advTracer_CS_transports.nc')\n",
    "    dfcan = xr.open_dataset(file)\n",
    "    dfdif = xr.open_dataset(filedif)\n",
    "    dfnoc = xr.open_dataset(fileNoC)\n",
    "\n",
    "    vertical = (dfdif.Vert_dif_trans_sb + dfcan.Vert_adv_trans_sb)-dfnoc.Vert_adv_trans_sb   \n",
    "    ax0.plot(np.arange(1,19,1)/2.0,(vertical)/1E5,color=sns.xkcd_rgb[records[ind].color])\n",
    "    ax1.plot(np.arange(1,19,1)/2.0,(dfcan.CS3_adv_trans-dfnoc.CS3_adv_trans)/1E5,color=sns.xkcd_rgb[records[ind].color])\n",
    "    ax2.plot(np.arange(1,19,1)/2.0,(dfcan.CS4_adv_trans-dfnoc.CS4_adv_trans)/1E5,color=sns.xkcd_rgb[records[ind].color])\n",
    "    \n",
    "    total = (dfcan.CS1_adv_trans-dfnoc.CS1_adv_trans +\n",
    "             dfcan.CS2_adv_trans-dfnoc.CS2_adv_trans +\n",
    "             dfcan.CS3_adv_trans-dfnoc.CS3_adv_trans +\n",
    "             dfcan.CS4_adv_trans-dfnoc.CS4_adv_trans +\n",
    "             dfcan.CS5_adv_trans-dfnoc.CS5_adv_trans +\n",
    "             vertical)\n",
    "\n",
    "    ax3.plot(np.arange(1,19,1)/2.0,total/1E5,color=sns.xkcd_rgb[records[ind].color],label=records[ind].label)\n",
    "\n",
    "ax1.set_xlabel('Days',labelpad=0.5)\n",
    "ax3.set_xlabel('Days',labelpad=0.5)\n",
    "    \n",
    "ax0.set_ylabel('Transport ($10^8$ $\\mu$mol/s)',labelpad=0.5)\n",
    "ax1.set_ylabel('Transport ($10^8$ $\\mu$mol/s)',labelpad=-3)\n",
    "\n",
    "# General looks\n",
    "ax0.text(0.01,0.9,'(a) LID',transform=ax0.transAxes)\n",
    "ax1.text(0.01,0.9,'(b) CS3',transform=ax1.transAxes)    \n",
    "ax2.text(0.01,0.9,'(c) CS4',transform=ax2.transAxes)\n",
    "ax3.text(0.01,0.9,'(d) Total',transform=ax3.transAxes)    \n",
    "\n",
    "ax3.legend(ncol=5,bbox_to_anchor=(1.05,-0.1))\n",
    "\n",
    "ax1.tick_params(axis='x', pad=1)\n",
    "ax3.tick_params(axis='x', pad=1)\n",
    "\n",
    "ax0.tick_params(axis='y', pad=2)\n",
    "ax1.tick_params(axis='y', pad=2)\n",
    "ax2.tick_params(axis='y', pad=2)\n",
    "ax3.tick_params(axis='y', pad=2)\n",
    "\n",
    "ax1.set_ylim(0,3.5)\n",
    "\n"
   ]
  },
  {
   "cell_type": "code",
   "execution_count": null,
   "metadata": {
    "collapsed": true
   },
   "outputs": [],
   "source": [
    "# Constants and scales\n",
    "L = 6400.0 # canyon length\n",
    "R = 5000.0 # Upstream radius of curvature\n",
    "g = 9.81 # accel. gravity\n",
    "Wsb = 13000 # Width at shelf break\n",
    "Hs = 147.5 # Shelf break depth\n",
    "s = 0.005 # shelf slope \n",
    "W = 8300 # mid-length width\n",
    "Hh=97.5 # head depth\n",
    "# NOTE: The default values of all functions correspond to the base case\n",
    "\n",
    "def Dh(f=9.66E-4,L=6400.0,N=5.5E-3):\n",
    "    '''Vertical scale Dh'''\n",
    "    return((f*L)/(N))\n",
    "    \n",
    "def Ro(U=0.37,f=9.66E-4,R=5000.0):\n",
    "    '''Rossby number using radius of curvature as length scale'''\n",
    "    return(U/(f*R))\n",
    "\n",
    "def F(Ro):\n",
    "    '''Function that estimates the ability of the flow to follow isobaths'''\n",
    "    return(Ro/(0.9+Ro))\n",
    "\n",
    "def Bu(N=5.5E-3,f=9.66E-5,L=6400.0,Hs=150.0):\n",
    "    '''Burger number'''\n",
    "    return(N*Hs/(f*L))\n",
    "\n",
    "def RossbyRad(N=5.5E-3,Hs=150.0,f=9.66E-4):\n",
    "    '''1st Rossby radius of deformation'''\n",
    "    return(N*Hs/f)\n"
   ]
  },
  {
   "cell_type": "code",
   "execution_count": 21,
   "metadata": {
    "collapsed": false
   },
   "outputs": [
    {
     "name": "stdout",
     "output_type": "stream",
     "text": [
      "Name &\tVertical $10^{5}$ $\\mu$Mm$^3$s$^{-1}$&\tAdvective vert. $10^{5}$ $\\mu$Mm$^3$s$^{-1}$&\tTotal $10^{4}$ $\\mu$Mm$^3$s$^{-1}$&\tVertical $10^{4}$ m$^3$s$^{-1}$&\tTotal $10^{2}$ m$^3$s$^{-1}$&\n",
      "CNTDIFF_run38\t&1.65$\\pm$0.43\t&1.42$\\pm$0.42\t&6.44$\\pm$1.79\t&1.67$\\pm$0.58\t&-5.29$\\pm$5.09\t \n",
      "CNTDIFF_run37\t&1.70$\\pm$0.42\t&1.47$\\pm$0.40\t&5.91$\\pm$5.38\t&1.70$\\pm$0.57\t&-6.53$\\pm$4.96\t \n",
      "CNTDIFF_run36\t&1.89$\\pm$0.36\t&1.66$\\pm$0.34\t&7.55$\\pm$5.81\t&1.83$\\pm$0.50\t&-13.92$\\pm$3.67\t \n",
      "CNTDIFF_run45\t&1.30$\\pm$0.30\t&1.07$\\pm$0.28\t&4.08$\\pm$4.62\t&1.30$\\pm$0.41\t&-5.64$\\pm$6.12\t \n",
      "CNTDIFF_run73\t&0.97$\\pm$0.22\t&0.75$\\pm$0.20\t&2.83$\\pm$3.89\t&0.91$\\pm$0.30\t&-7.86$\\pm$5.93\t \n",
      "CNTDIFF_run75\t&2.32$\\pm$0.71\t&2.09$\\pm$0.69\t&9.00$\\pm$6.59\t&2.26$\\pm$0.91\t&-6.96$\\pm$6.31\t \n",
      "CNTDIFF_run67\t&1.71$\\pm$0.47\t&1.49$\\pm$0.45\t&5.70$\\pm$5.35\t&1.75$\\pm$0.63\t&-4.89$\\pm$5.44\t \n",
      "CNTDIFF_run51\t&1.27$\\pm$0.27\t&1.05$\\pm$0.26\t&4.91$\\pm$5.40\t&1.14$\\pm$0.44\t&-14.81$\\pm$6.37\t \n",
      "CNTDIFF_run69\t&1.43$\\pm$0.34\t&1.20$\\pm$0.33\t&5.13$\\pm$5.37\t&1.37$\\pm$0.48\t&-8.96$\\pm$4.79\t \n",
      "CNTDIFF_run71\t&1.11$\\pm$0.24\t&0.88$\\pm$0.23\t&4.64$\\pm$5.47\t&0.92$\\pm$0.39\t&-22.80$\\pm$7.31\t \n",
      "3DVISC_run01\t&1.95$\\pm$0.35\t&1.72$\\pm$0.33\t&7.78$\\pm$5.22\t&1.97$\\pm$0.48\t&-2.63$\\pm$3.55\t \n",
      "3DVISC_run02\t&1.71$\\pm$0.35\t&1.49$\\pm$0.34\t&6.56$\\pm$5.27\t&1.73$\\pm$0.47\t&-4.21$\\pm$4.54\t \n",
      "3DVISC_run03\t&1.95$\\pm$0.35\t&1.72$\\pm$0.33\t&8.66$\\pm$1.33\t&1.97$\\pm$0.48\t&-2.66$\\pm$3.63\t \n",
      "3DVISC_run04\t&1.71$\\pm$0.35\t&1.48$\\pm$0.34\t&7.43$\\pm$1.54\t&1.73$\\pm$0.48\t&-4.43$\\pm$4.60\t \n",
      "3DVISC_run05\t&2.14$\\pm$0.35\t&1.92$\\pm$0.33\t&9.95$\\pm$1.28\t&2.17$\\pm$0.45\t&5.23$\\pm$2.94\t \n",
      "3DVISC_run06\t&1.95$\\pm$0.35\t&1.73$\\pm$0.33\t&9.46$\\pm$1.44\t&1.93$\\pm$0.43\t&6.88$\\pm$3.07\t \n"
     ]
    },
    {
     "ename": "ValueError",
     "evalue": "cannot reindex or align along dimension 'T' because the index has duplicate values",
     "output_type": "error",
     "traceback": [
      "\u001b[0;31m---------------------------------------------------------------------------\u001b[0m",
      "\u001b[0;31mValueError\u001b[0m                                Traceback (most recent call last)",
      "\u001b[0;32m<ipython-input-21-61afa816b3ba>\u001b[0m in \u001b[0;36m<module>\u001b[0;34m()\u001b[0m\n\u001b[1;32m     24\u001b[0m     \u001b[0mdfnocw\u001b[0m \u001b[0;34m=\u001b[0m \u001b[0mxr\u001b[0m\u001b[0;34m.\u001b[0m\u001b[0mopen_dataset\u001b[0m\u001b[0;34m(\u001b[0m\u001b[0mfileNoCw\u001b[0m\u001b[0;34m)\u001b[0m\u001b[0;34m\u001b[0m\u001b[0m\n\u001b[1;32m     25\u001b[0m \u001b[0;34m\u001b[0m\u001b[0m\n\u001b[0;32m---> 26\u001b[0;31m     \u001b[0mvertical\u001b[0m \u001b[0;34m=\u001b[0m \u001b[0;34m(\u001b[0m\u001b[0;34m(\u001b[0m\u001b[0mdfdif\u001b[0m\u001b[0;34m.\u001b[0m\u001b[0mVert_dif_trans_sb\u001b[0m \u001b[0;34m+\u001b[0m \u001b[0mdfcan\u001b[0m\u001b[0;34m.\u001b[0m\u001b[0mVert_adv_trans_sb\u001b[0m\u001b[0;34m)\u001b[0m\u001b[0;34m-\u001b[0m\u001b[0mdfnoc\u001b[0m\u001b[0;34m.\u001b[0m\u001b[0mVert_adv_trans_sb\u001b[0m\u001b[0;34m)\u001b[0m\u001b[0;34m\u001b[0m\u001b[0m\n\u001b[0m\u001b[1;32m     27\u001b[0m     \u001b[0madv_vert\u001b[0m \u001b[0;34m=\u001b[0m \u001b[0;34m(\u001b[0m\u001b[0mdfcan\u001b[0m\u001b[0;34m.\u001b[0m\u001b[0mVert_adv_trans_sb\u001b[0m\u001b[0;34m)\u001b[0m\u001b[0;34m-\u001b[0m\u001b[0mdfnoc\u001b[0m\u001b[0;34m.\u001b[0m\u001b[0mVert_adv_trans_sb\u001b[0m\u001b[0;34m\u001b[0m\u001b[0m\n\u001b[1;32m     28\u001b[0m \u001b[0;34m\u001b[0m\u001b[0m\n",
      "\u001b[0;32m/home/kramosmu/anaconda3/lib/python3.5/site-packages/xarray/core/dataarray.py\u001b[0m in \u001b[0;36mfunc\u001b[0;34m(self, other)\u001b[0m\n\u001b[1;32m   1293\u001b[0m                 \u001b[0;32mreturn\u001b[0m \u001b[0mNotImplemented\u001b[0m\u001b[0;34m\u001b[0m\u001b[0m\n\u001b[1;32m   1294\u001b[0m             \u001b[0;32mif\u001b[0m \u001b[0mhasattr\u001b[0m\u001b[0;34m(\u001b[0m\u001b[0mother\u001b[0m\u001b[0;34m,\u001b[0m \u001b[0;34m'indexes'\u001b[0m\u001b[0;34m)\u001b[0m\u001b[0;34m:\u001b[0m\u001b[0;34m\u001b[0m\u001b[0m\n\u001b[0;32m-> 1295\u001b[0;31m                 \u001b[0mself\u001b[0m\u001b[0;34m,\u001b[0m \u001b[0mother\u001b[0m \u001b[0;34m=\u001b[0m \u001b[0malign\u001b[0m\u001b[0;34m(\u001b[0m\u001b[0mself\u001b[0m\u001b[0;34m,\u001b[0m \u001b[0mother\u001b[0m\u001b[0;34m,\u001b[0m \u001b[0mjoin\u001b[0m\u001b[0;34m=\u001b[0m\u001b[0mjoin\u001b[0m\u001b[0;34m,\u001b[0m \u001b[0mcopy\u001b[0m\u001b[0;34m=\u001b[0m\u001b[0;32mFalse\u001b[0m\u001b[0;34m)\u001b[0m\u001b[0;34m\u001b[0m\u001b[0m\n\u001b[0m\u001b[1;32m   1296\u001b[0m             \u001b[0mother_variable\u001b[0m \u001b[0;34m=\u001b[0m \u001b[0mgetattr\u001b[0m\u001b[0;34m(\u001b[0m\u001b[0mother\u001b[0m\u001b[0;34m,\u001b[0m \u001b[0;34m'variable'\u001b[0m\u001b[0;34m,\u001b[0m \u001b[0mother\u001b[0m\u001b[0;34m)\u001b[0m\u001b[0;34m\u001b[0m\u001b[0m\n\u001b[1;32m   1297\u001b[0m             \u001b[0mother_coords\u001b[0m \u001b[0;34m=\u001b[0m \u001b[0mgetattr\u001b[0m\u001b[0;34m(\u001b[0m\u001b[0mother\u001b[0m\u001b[0;34m,\u001b[0m \u001b[0;34m'coords'\u001b[0m\u001b[0;34m,\u001b[0m \u001b[0;32mNone\u001b[0m\u001b[0;34m)\u001b[0m\u001b[0;34m\u001b[0m\u001b[0m\n",
      "\u001b[0;32m/home/kramosmu/anaconda3/lib/python3.5/site-packages/xarray/core/alignment.py\u001b[0m in \u001b[0;36malign\u001b[0;34m(*objects, **kwargs)\u001b[0m\n\u001b[1;32m    103\u001b[0m         valid_indexers = dict((k, v) for k, v in joined_indexes.items()\n\u001b[1;32m    104\u001b[0m                               if k in obj.dims)\n\u001b[0;32m--> 105\u001b[0;31m         \u001b[0mresult\u001b[0m\u001b[0;34m.\u001b[0m\u001b[0mappend\u001b[0m\u001b[0;34m(\u001b[0m\u001b[0mobj\u001b[0m\u001b[0;34m.\u001b[0m\u001b[0mreindex\u001b[0m\u001b[0;34m(\u001b[0m\u001b[0mcopy\u001b[0m\u001b[0;34m=\u001b[0m\u001b[0mcopy\u001b[0m\u001b[0;34m,\u001b[0m \u001b[0;34m**\u001b[0m\u001b[0mvalid_indexers\u001b[0m\u001b[0;34m)\u001b[0m\u001b[0;34m)\u001b[0m\u001b[0;34m\u001b[0m\u001b[0m\n\u001b[0m\u001b[1;32m    106\u001b[0m \u001b[0;34m\u001b[0m\u001b[0m\n\u001b[1;32m    107\u001b[0m     \u001b[0;32mreturn\u001b[0m \u001b[0mtuple\u001b[0m\u001b[0;34m(\u001b[0m\u001b[0mresult\u001b[0m\u001b[0;34m)\u001b[0m\u001b[0;34m\u001b[0m\u001b[0m\n",
      "\u001b[0;32m/home/kramosmu/anaconda3/lib/python3.5/site-packages/xarray/core/dataarray.py\u001b[0m in \u001b[0;36mreindex\u001b[0;34m(self, method, tolerance, copy, **indexers)\u001b[0m\n\u001b[1;32m    739\u001b[0m         \"\"\"\n\u001b[1;32m    740\u001b[0m         ds = self._to_temp_dataset().reindex(\n\u001b[0;32m--> 741\u001b[0;31m             method=method, tolerance=tolerance, copy=copy, **indexers)\n\u001b[0m\u001b[1;32m    742\u001b[0m         \u001b[0;32mreturn\u001b[0m \u001b[0mself\u001b[0m\u001b[0;34m.\u001b[0m\u001b[0m_from_temp_dataset\u001b[0m\u001b[0;34m(\u001b[0m\u001b[0mds\u001b[0m\u001b[0;34m)\u001b[0m\u001b[0;34m\u001b[0m\u001b[0m\n\u001b[1;32m    743\u001b[0m \u001b[0;34m\u001b[0m\u001b[0m\n",
      "\u001b[0;32m/home/kramosmu/anaconda3/lib/python3.5/site-packages/xarray/core/dataset.py\u001b[0m in \u001b[0;36mreindex\u001b[0;34m(self, indexers, method, tolerance, copy, **kw_indexers)\u001b[0m\n\u001b[1;32m   1215\u001b[0m \u001b[0;34m\u001b[0m\u001b[0m\n\u001b[1;32m   1216\u001b[0m         variables = alignment.reindex_variables(\n\u001b[0;32m-> 1217\u001b[0;31m             self.variables, self.indexes, indexers, method, tolerance, copy=copy)\n\u001b[0m\u001b[1;32m   1218\u001b[0m         \u001b[0;32mreturn\u001b[0m \u001b[0mself\u001b[0m\u001b[0;34m.\u001b[0m\u001b[0m_replace_vars_and_dims\u001b[0m\u001b[0;34m(\u001b[0m\u001b[0mvariables\u001b[0m\u001b[0;34m)\u001b[0m\u001b[0;34m\u001b[0m\u001b[0m\n\u001b[1;32m   1219\u001b[0m \u001b[0;34m\u001b[0m\u001b[0m\n",
      "\u001b[0;32m/home/kramosmu/anaconda3/lib/python3.5/site-packages/xarray/core/alignment.py\u001b[0m in \u001b[0;36mreindex_variables\u001b[0;34m(variables, indexes, indexers, method, tolerance, copy)\u001b[0m\n\u001b[1;32m    168\u001b[0m                 raise ValueError(\n\u001b[1;32m    169\u001b[0m                     \u001b[0;34m'cannot reindex or align along dimension %r because the '\u001b[0m\u001b[0;34m\u001b[0m\u001b[0m\n\u001b[0;32m--> 170\u001b[0;31m                     'index has duplicate values' % name)\n\u001b[0m\u001b[1;32m    171\u001b[0m             indexer = index.get_indexer(target, method=method,\n\u001b[1;32m    172\u001b[0m                                         **get_indexer_kwargs)\n",
      "\u001b[0;31mValueError\u001b[0m: cannot reindex or align along dimension 'T' because the index has duplicate values"
     ]
    }
   ],
   "source": [
    "print (\"\\t\".join(['Name &', 'Vertical $10^{5}$ $\\mu$Mm$^3$s$^{-1}$&', 'Advective vert. $10^{5}$ $\\mu$Mm$^3$s$^{-1}$&',\n",
    "                  'Total $10^{4}$ $\\mu$Mm$^3$s$^{-1}$&',\n",
    "                  'Vertical $10^{4}$ m$^3$s$^{-1}$&', \n",
    "                  'Total $10^{2}$ m$^3$s$^{-1}$&']))\n",
    "\n",
    "select_rec = [0,1,2,3,4,5,6,7,8,9,10,11,12,13,14,15,16,17,18,19,20,21,22]\n",
    "for ind in select_rec:\n",
    "    \n",
    "    file = (('/ocean/kramosmu/MITgcm/TracerExperiments/%s/%s' %(records[ind].exp_code,records[ind].run_num))+\n",
    "        'advTracer_CS_transports.nc')\n",
    "    filedif = (('/ocean/kramosmu/MITgcm/TracerExperiments/%s/%s' %(records[ind].exp_code,records[ind].run_num))+\n",
    "            'difTracer_CS_transports.nc')\n",
    "    fileNoC = (('/ocean/kramosmu/MITgcm/TracerExperiments/%s/%s' %(recordsNoC[ind].exp_code,recordsNoC[ind].run_num))+\n",
    "            'advTracer_CS_transports.nc')\n",
    "    dfcan = xr.open_dataset(file)\n",
    "    dfdif = xr.open_dataset(filedif)\n",
    "    dfnoc = xr.open_dataset(fileNoC)\n",
    "\n",
    "    filew = (('/ocean/kramosmu/MITgcm/TracerExperiments/%s/%s' %(records[ind].exp_code,records[ind].run_num))+\n",
    "        'water_CS_transports.nc')\n",
    "    fileNoCw = (('/ocean/kramosmu/MITgcm/TracerExperiments/%s/%s' %(recordsNoC[ind].exp_code,recordsNoC[ind].run_num))+\n",
    "            'water_CS_transports.nc')\n",
    "    dfcanw = xr.open_dataset(filew)\n",
    "    dfnocw = xr.open_dataset(fileNoCw)\n",
    "\n",
    "    vertical = ((dfdif.Vert_dif_trans_sb + dfcan.Vert_adv_trans_sb)-dfnoc.Vert_adv_trans_sb)\n",
    "    adv_vert = (dfcan.Vert_adv_trans_sb)-dfnoc.Vert_adv_trans_sb\n",
    "    \n",
    "    vertical_mean = np.mean(vertical[8:18])\n",
    "    std_vert = np.std(vertical[8:18])\n",
    "    \n",
    "    adv_vert_mean = np.mean(adv_vert[8:18])\n",
    "    adv_vert_std = np.std(adv_vert[8:18])\n",
    "    \n",
    "    verticalw = ((dfcanw.Vert_water_trans_sb)-dfnocw.Vert_water_trans_sb)\n",
    "    verticalw_mean = np.mean(verticalw[8:18])\n",
    "    std_vertw = np.std(verticalw[8:18])\n",
    "    \n",
    "    \n",
    "    total = (dfcan.CS1_adv_trans-dfnoc.CS1_adv_trans +\n",
    "            dfcan.CS2_adv_trans-dfnoc.CS2_adv_trans +\n",
    "            dfcan.CS3_adv_trans-dfnoc.CS3_adv_trans +\n",
    "            dfcan.CS4_adv_trans-dfnoc.CS4_adv_trans +\n",
    "            dfcan.CS5_adv_trans-dfnoc.CS5_adv_trans +\n",
    "            vertical)\n",
    "    mean_tot = np.mean(total[8:18])\n",
    "    std_tot = np.std(total[8:18])\n",
    "    \n",
    "    totalw = (dfcanw.CS1_water_trans-dfnocw.CS1_water_trans +\n",
    "            dfcanw.CS2_water_trans-dfnocw.CS2_water_trans +\n",
    "            dfcanw.CS3_water_trans-dfnocw.CS3_water_trans +\n",
    "            dfcanw.CS4_water_trans-dfnocw.CS4_water_trans +\n",
    "            dfcanw.CS5_water_trans-dfnocw.CS5_water_trans +\n",
    "            verticalw)\n",
    "    mean_totw = np.mean(totalw[8:18])\n",
    "    std_totw = np.std(totalw[8:18])\n",
    "  \n",
    "    print (\"\\t\".join(['%s\\t&%.2f$\\pm$%0.2f\\t&%.2f$\\pm$%0.2f\\t&%.2f$\\pm$%0.2f\\t&%.2f$\\pm$%0.2f\\t&%.2f$\\pm$%0.2f\\t ' \n",
    "                      % (records[ind].name,\n",
    "                        vertical_mean/1E5,std_vert/1E5,\n",
    "                        adv_vert_mean/1E5,adv_vert_std/1E5,\n",
    "                        mean_tot/1E4,std_tot/1E4,\n",
    "                        verticalw_mean/1E4,std_vertw/1E4,\n",
    "                        mean_totw/1E2,std_totw/1E2)]))\n",
    "                                                              \n"
   ]
  },
  {
   "cell_type": "code",
   "execution_count": 18,
   "metadata": {
    "collapsed": false
   },
   "outputs": [
    {
     "data": {
      "text/plain": [
       "<xarray.Dataset>\n",
       "Dimensions:            (T: 19)\n",
       "Coordinates:\n",
       "  * T                  (T) float64 4.32e+04 8.64e+04 1.296e+05 1.728e+05 ...\n",
       "    Zld000090          int32 30\n",
       "Data variables:\n",
       "    CS4_adv_trans      (T) float64 -314.8 -1.307e+03 -2.101e+03 -3.181e+03 ...\n",
       "    CS5_adv_trans      (T) float64 -596.0 -1.76e+03 -2.717e+03 -1.897e+03 ...\n",
       "    CS1_adv_trans      (T) float64 -594.3 -1.603e+03 -2.417e+03 -725.2 ...\n",
       "    CS3_adv_trans      (T) float64 -282.2 -1.433e+03 -2.083e+03 -2.425e+03 ...\n",
       "    CS3b_adv_trans     (T) float64 0.0 0.0 0.0 0.0 0.0 0.0 0.0 0.0 0.0 0.0 ...\n",
       "    Vert_adv_trans_sb  (T) float32 167.888 1100.0 3594.68 6358.35 8463.15 ...\n",
       "    CS2_adv_trans      (T) float64 -299.3 -1.165e+03 -1.551e+03 -629.2 ..."
      ]
     },
     "execution_count": 18,
     "metadata": {},
     "output_type": "execute_result"
    }
   ],
   "source": [
    "dfnoc.T"
   ]
  },
  {
   "cell_type": "code",
   "execution_count": null,
   "metadata": {
    "collapsed": false
   },
   "outputs": [],
   "source": []
  },
  {
   "cell_type": "code",
   "execution_count": null,
   "metadata": {
    "collapsed": true
   },
   "outputs": [],
   "source": []
  }
 ],
 "metadata": {
  "anaconda-cloud": {},
  "kernelspec": {
   "display_name": "Python [conda root]",
   "language": "python",
   "name": "conda-root-py"
  },
  "language_info": {
   "codemirror_mode": {
    "name": "ipython",
    "version": 3
   },
   "file_extension": ".py",
   "mimetype": "text/x-python",
   "name": "python",
   "nbconvert_exporter": "python",
   "pygments_lexer": "ipython3",
   "version": "3.5.2"
  }
 },
 "nbformat": 4,
 "nbformat_minor": 1
}
