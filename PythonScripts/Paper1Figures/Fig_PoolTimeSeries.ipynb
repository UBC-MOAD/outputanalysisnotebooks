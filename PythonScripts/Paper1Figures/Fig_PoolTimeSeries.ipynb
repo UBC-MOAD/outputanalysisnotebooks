{
 "cells": [
  {
   "cell_type": "markdown",
   "metadata": {},
   "source": [
    "## Figure of pool timeseries"
   ]
  },
  {
   "cell_type": "code",
   "execution_count": 1,
   "metadata": {
    "collapsed": true
   },
   "outputs": [],
   "source": [
    "import cmocean as cmo\n",
    "import matplotlib.pyplot as plt\n",
    "import matplotlib.gridspec as gspec\n",
    "import matplotlib as mpl\n",
    "%matplotlib inline\n",
    "from netCDF4 import Dataset\n",
    "import numpy as np\n",
    "import seaborn as sns\n",
    "import xarray as xr\n",
    "import canyon_tools.readout_tools as rout\n",
    "import canyon_tools.savitzky_golay as sg\n",
    "\n",
    "import warnings\n",
    "warnings.filterwarnings('ignore')"
   ]
  },
  {
   "cell_type": "code",
   "execution_count": 2,
   "metadata": {
    "collapsed": true
   },
   "outputs": [],
   "source": [
    "def findBottInd(hfac):\n",
    "    \n",
    "    BottomInd = np.argmax(hfac[::-1,:,:]>0.0,axis=0) # start looking for first no-land cell from the bottom up.\n",
    "    BottomInd = np.ones(np.shape(BottomInd))*89 - BottomInd # Get index of unreversed z axis\n",
    "    \n",
    "    return BottomInd\n",
    "\n",
    "def ConcAreaShelf(Tr, hfac, ra, bathy):\n",
    "    '''Tr: Tracer field (nt,nz,ny,nx)\n",
    "       hfac: fraction of open cell at center (nz,ny,nx)\n",
    "       ra: array of cell horizontal areas (ny,nx)\n",
    "       bathy : depths 2D array from the grid file (ny,nx)\n",
    "       sbdepth: shelf break depth (negative value)\n",
    "       \n",
    "       RETURNS:\n",
    "       ConcArea = concentration at cell closest to bottom times its area (nt,ny,nx). \n",
    "       Conc = cocetration near bottom (nt,ny,nx)\n",
    "       Area = 2D array of cell areas on shelf (ny,nx)\n",
    "       NOTE: Everything below the canyon rim is masked out'''\n",
    "    \n",
    "    sh = np.shape(Tr)\n",
    "    nx = sh[3]\n",
    "    ny = sh[2]\n",
    "    nz = sh[1]\n",
    "    nt = sh[0]\n",
    "    \n",
    "    ConcArea = np.empty((nt,ny,nx))\n",
    "    Conc = np.empty((nt,ny,nx))\n",
    "    ConcFiltered = np.empty((nt,ny,nx))\n",
    "    Area = np.empty((nt,ny,nx))\n",
    "    \n",
    "    BottomInd = findBottInd(hfac)  \n",
    "    \n",
    "    for tt in range(nt):\n",
    "        for j in range(nx):\n",
    "            for i in range(ny):\n",
    "                TrBottom = Tr[tt,BottomInd[i,j],i,j]\n",
    "                ConcArea[tt,i,j] = TrBottom*ra[i,j]\n",
    "                Conc[tt,i,j] = TrBottom\n",
    "                Area[tt,i,j] = ra[i,j]\n",
    "                \n",
    "            # Filter step noise\n",
    "            ConcFiltered[tt,:,j] = sg.savitzky_golay(Conc[tt,:,j], 7,3) \n",
    "                \n",
    "    maskShelf = np.ma.masked_invalid(ConcFiltered) \n",
    "    \n",
    "    return (np.ma.masked_invalid(ConcArea),\n",
    "            np.ma.masked_invalid(ConcFiltered),\n",
    "            np.ma.masked_invalid(Area))\n",
    "\n",
    "def ConcAreaPool(Tr, hfac, ra, bathy):\n",
    "    '''Tr: Tracer field (nt,nz,ny,nx)\n",
    "       hfac: fraction of open cell at center (nz,ny,nx)\n",
    "       ra: array of cell horizontal areas (ny,nx)\n",
    "       bathy : depths 2D array from the grid file (ny,nx)\n",
    "       sbdepth: shelf break depth (negative value)\n",
    "       \n",
    "       RETURNS:\n",
    "       ConcArea = concentration at cell closest to bottom times its area (nt,ny,nx). \n",
    "       Conc = cocetration near bottom (nt,ny,nx)\n",
    "       Area = 2D array of cell areas on shelf (ny,nx)\n",
    "       NOTE: Everything below the canyon rim is masked out'''\n",
    "    \n",
    "    sh = np.shape(Tr)\n",
    "    nx = sh[3]\n",
    "    ny = sh[2]\n",
    "    nz = sh[1]\n",
    "    nt = sh[0]\n",
    "    \n",
    "    ConcArea = np.empty((nt,ny,nx))\n",
    "    Conc = np.empty((nt,ny,nx))\n",
    "    ConcFiltered = np.empty((nt,ny,nx))\n",
    "    Area = np.empty((nt,ny,nx))\n",
    "    \n",
    "    BottomInd = findBottInd(hfac)  \n",
    "    \n",
    "    for tt in range(nt):\n",
    "        for j in range(nx):\n",
    "            for i in range(ny):\n",
    "                TrBottom = Tr[tt,BottomInd[i,j],i,j]\n",
    "                if TrBottom > 0.0:\n",
    "                    ConcArea[tt,i,j] = TrBottom*ra[i,j]\n",
    "                    Conc[tt,i,j] = TrBottom\n",
    "                    Area[tt,i,j] = ra[i,j]\n",
    "                else:\n",
    "                    ConcArea[tt,i,j] = np.NaN\n",
    "                    Conc[tt,i,j] = np.NaN\n",
    "                    Area[tt,i,j] = np.NaN\n",
    "                \n",
    "            # Filter step noise\n",
    "            ConcFiltered[tt,:,j] = sg.savitzky_golay(Conc[tt,:,j], 7,3) \n",
    "                \n",
    "    maskShelf = np.ma.masked_invalid(ConcFiltered) \n",
    "    \n",
    "    return (np.ma.masked_invalid(ConcArea),\n",
    "            np.ma.masked_invalid(ConcFiltered),\n",
    "            np.ma.masked_invalid(Area))"
   ]
  },
  {
   "cell_type": "code",
   "execution_count": 3,
   "metadata": {
    "collapsed": false
   },
   "outputs": [],
   "source": [
    "def PlotAnomTimeSeries(gs_ax,ConcFilt,Area,ConcFiltNoC,AreaNoC,color='black',label='base'):\n",
    "    \n",
    "    ax = plt.subplot(gs_ax)\n",
    "    BACpool = np.nansum(np.nansum(np.ma.masked_array((ConcFilt*Area),mask=maskExpandSB[:,yslice_bac,xslice_bac]),axis=1),axis=1)\n",
    "    BACNoC = np.nansum(np.nansum(np.ma.masked_array((ConcFiltNoC*AreaNoC),mask=maskExpandSB[:,yslice_bac,xslice_bac]),axis=1),axis=1)\n",
    "    \n",
    "    ax.plot(np.arange(len(BACpool))/2,(BACpool*100)/BACNoC,'-',\n",
    "            color = sns.xkcd_rgb[color],\n",
    "            linewidth = 1,label=label)\n",
    "    \n",
    "    #ax.axvline(x=8,color = 'k',linestyle = '--')\n",
    "    \n",
    "    labels.append(label)\n",
    "    \n",
    "    return ax\n",
    "    "
   ]
  },
  {
   "cell_type": "code",
   "execution_count": 4,
   "metadata": {
    "collapsed": false
   },
   "outputs": [],
   "source": [
    "import canyon_records \n",
    "import nocanyon_records"
   ]
  },
  {
   "cell_type": "code",
   "execution_count": 5,
   "metadata": {
    "collapsed": false
   },
   "outputs": [],
   "source": [
    "records = canyon_records.main()\n",
    "recordsNoC = nocanyon_records.main()"
   ]
  },
  {
   "cell_type": "code",
   "execution_count": 6,
   "metadata": {
    "collapsed": true
   },
   "outputs": [],
   "source": [
    "# Grid, state and tracers datasets of base case\n",
    "grid_file = '/ocean/kramosmu/MITgcm/TracerExperiments/CNTDIFF/run38/gridGlob.nc'\n",
    "grid = xr.open_dataset(grid_file)\n",
    "\n",
    "grid_fileNoC = '/ocean/kramosmu/MITgcm/TracerExperiments/CNTDIFF/run42/gridGlob.nc'\n",
    "gridNoC = xr.open_dataset(grid_fileNoC)\n",
    "\n",
    "state_file = '/ocean/kramosmu/MITgcm/TracerExperiments/CNTDIFF/run38/stateGlob.nc' \n",
    "state = xr.open_dataset(state_file)\n",
    "\n",
    "ptracers_file = '/ocean/kramosmu/MITgcm/TracerExperiments/CNTDIFF/run38/ptracersGlob.nc'\n",
    "ptracers = xr.open_dataset(ptracers_file)\n",
    "\n",
    "ptracersNoC_file = '/ocean/kramosmu/MITgcm/TracerExperiments/CNTDIFF/run42/ptracersGlob.nc'\n",
    "ptracersNoC = xr.open_dataset(ptracersNoC_file)\n",
    "\n",
    "#RhoRef = np.squeeze(rdmds('/ocean/kramosmu/MITgcm/TracerExperiments/CNTDIFF/run38/RhoRef'))\n",
    "RhoRef = 999.79998779 # It is constant in all my runs, can't run rdmds"
   ]
  },
  {
   "cell_type": "code",
   "execution_count": 7,
   "metadata": {
    "collapsed": true
   },
   "outputs": [],
   "source": [
    "# General input\n",
    "nx = 360\n",
    "ny = 360\n",
    "nz = 90\n",
    "nt = 19 # t dimension size \n",
    "\n",
    "xslice=slice(100,360)\n",
    "yslice=slice(120,310)\n",
    "\n",
    "tslice = slice(8,16)\n",
    "\n",
    "xind = 240\n",
    "yind = 267 # y index for alongshore cross-section\n",
    "zind = 27\n",
    "\n",
    "zslice = slice(10,22)\n",
    "# plot2\n",
    "zslice_2 = slice(10,32)\n",
    "# plot 3\n",
    "yslice_bac = slice(227,300)\n",
    "xslice_bac = slice(100,360)\n",
    "\n",
    "hFacmasked = np.ma.masked_values(grid.HFacC.data, 0)\n",
    "MaskC = np.ma.getmask(hFacmasked)\n",
    "\n",
    "hFacmaskedNoC = np.ma.masked_values(gridNoC.HFacC.data, 0)\n",
    "MaskCNoC = np.ma.getmask(hFacmaskedNoC)\n",
    "\n",
    "MaskExpand = np.expand_dims(MaskC,0) \n",
    "MaskExpand = MaskExpand + np.zeros((ptracers.Tr1).shape)    "
   ]
  },
  {
   "cell_type": "code",
   "execution_count": 8,
   "metadata": {
    "collapsed": false
   },
   "outputs": [],
   "source": [
    "BottInd = findBottInd(grid.HFacC.data)\n",
    "BottIndNoC = findBottInd(gridNoC.HFacC.data)"
   ]
  },
  {
   "cell_type": "code",
   "execution_count": 9,
   "metadata": {
    "collapsed": false
   },
   "outputs": [],
   "source": [
    "# Find mask shelf bottom\n",
    "\n",
    "hold_maskSB = np.empty((ny,nx))\n",
    "\n",
    "for j in range (nx):\n",
    "    for i in range(ny):\n",
    "        if  abs(BottInd[i,j]-BottIndNoC[i,j]) <= 1:\n",
    "            hold_maskSB[i,j] = 1\n",
    "        else:\n",
    "            hold_maskSB[i,j]= 0\n",
    "    \n",
    "maskSB = np.ma.masked_equal(hold_maskSB,0)     \n",
    "bathyMasked = np.ma.masked_less(-gridNoC.Depth, -152.5)\n",
    "\n",
    "MASK_SB = np.ma.mask_or(bathyMasked.mask, maskSB.mask)\n",
    "\n",
    "maskExpandSB = np.expand_dims(MASK_SB,0) \n",
    "maskExpandSB = maskExpandSB + np.zeros((nt,ny,nx))   \n"
   ]
  },
  {
   "cell_type": "code",
   "execution_count": 10,
   "metadata": {
    "collapsed": false
   },
   "outputs": [
    {
     "name": "stdout",
     "output_type": "stream",
     "text": [
      "0 CNTDIFF_run61\n",
      "1 CNTDIFF_run38\n",
      "2 CNTDIFF_run62\n",
      "3 CNTDIFF_run63\n",
      "4 CNTDIFF_run45\n",
      "5 CNTDIFF_run73\n",
      "6 CNTDIFF_run75\n",
      "7 CNTDIFF_run67\n",
      "8 CNTDIFF_run51\n",
      "9 CNTDIFF_run69\n",
      "10 CNTDIFF_run71\n",
      "11 3DDIFF_run04\n",
      "12 3DDIFF_run05\n",
      "13 3DDIFF_run06\n",
      "14 3DDIFF_run07\n",
      "15 LOWER_BF_run01\n"
     ]
    }
   ],
   "source": [
    "for ii in range(len(records)):\n",
    "    print(ii,records[ii].name)"
   ]
  },
  {
   "cell_type": "code",
   "execution_count": 12,
   "metadata": {
    "collapsed": false
   },
   "outputs": [
    {
     "name": "stdout",
     "output_type": "stream",
     "text": [
      "done getting bottom concentrations\n",
      "done getting bottom concentrations\n",
      "done getting bottom concentrations\n",
      "done getting bottom concentrations\n",
      "done getting bottom concentrations\n",
      "done getting bottom concentrations\n",
      "done getting bottom concentrations\n",
      "done getting bottom concentrations\n",
      "done getting bottom concentrations\n",
      "done getting bottom concentrations\n",
      "done getting bottom concentrations\n",
      "done getting bottom concentrations\n",
      "done getting bottom concentrations\n",
      "done getting bottom concentrations\n",
      "done getting bottom concentrations\n",
      "done getting bottom concentrations\n"
     ]
    },
    {
     "data": {
      "image/png": "[encoded data removed]",
      "text/plain": [
       "<matplotlib.figure.Figure at 0x7f2294655710>"
      ]
     },
     "metadata": {},
     "output_type": "display_data"
    }
   ],
   "source": [
    "records2 = [records[0],\n",
    "            records[2],\n",
    "            #records[3],\n",
    "            #records[14],\n",
    "            #records[15],\n",
    "            #records[16],\n",
    "            #records[17],\n",
    "            #records[1],\n",
    "            ]\n",
    "recordsNoC2 = [recordsNoC[0],\n",
    "               recordsNoC[2],\n",
    "               #recordsNoC[3],\n",
    "               #recordsNoC[14],\n",
    "               #recordsNoC[15],\n",
    "               #recordsNoC[16],\n",
    "               #recordsNoC[17],\n",
    "               #recordsNoC[1],\n",
    "               ]\n",
    "\n",
    "cmap_name = cmo.cm.balance\n",
    "sns.set_context('paper')\n",
    "sns.set_style('white')\n",
    "\n",
    "plt.rcParams['font.size'] = 8.0\n",
    "\n",
    "f = plt.figure(figsize = (7.4,4.6)) # 19.0cm = 7.4in, 115cm = 4.52in\n",
    "\n",
    "gs0 = gspec.GridSpec(1, 1, height_ratios=[1,1], width_ratios=[1,1])\n",
    "\n",
    "labels=[]\n",
    "\n",
    "for rec,recNoC in zip(records,recordsNoC):\n",
    "    \n",
    "    ptracers_file = '/ocean/kramosmu/MITgcm/TracerExperiments/%s/%s/ptracersGlob.nc' %(rec.exp_code,rec.run_num)\n",
    "    ptracers = xr.open_dataset(ptracers_file)\n",
    "\n",
    "    ptracersNoC_file = '/ocean/kramosmu/MITgcm/TracerExperiments/%s/%s/ptracersGlob.nc' %(recNoC.exp_code,recNoC.run_num)\n",
    "    ptracersNoC = xr.open_dataset(ptracersNoC_file)\n",
    "\n",
    "    ConcAreaWeighted, ConcFilt, Area = ConcAreaPool(ptracers.Tr1.data[:,:,yslice_bac,xslice_bac]-ptracersNoC.Tr1.data[:,:,yslice_bac,xslice_bac], \n",
    "                                                     grid.HFacC.data[:,yslice_bac,xslice_bac], \n",
    "                                                     grid.rA.data[yslice_bac,xslice_bac],\n",
    "                                                     grid.Depth.data[yslice_bac,xslice_bac])\n",
    "\n",
    "    ConcAreaWeightedNoC, ConcFiltNoC, AreaNoC = ConcAreaShelf(ptracersNoC.Tr1.data[:,:,yslice_bac,xslice_bac],\n",
    "                                                              gridNoC.HFacC.data[:,yslice_bac,xslice_bac], \n",
    "                                                              gridNoC.rA.data[yslice_bac,xslice_bac], \n",
    "                                                              gridNoC.Depth.data[yslice_bac,xslice_bac])\n",
    "    print('done getting bottom concentrations')\n",
    "    \n",
    "    ax1=PlotAnomTimeSeries(gs0[0,0],ConcFilt,Area,ConcFiltNoC,AreaNoC,\n",
    "                           color=rec.color,\n",
    "                           label=rec.label)\n",
    "\n",
    "    #ax2=PlotAnomTimeSeries(gs0[1],np.ma.masked_array(ConcFilt-ConcFiltNoC,mask=maskExpandSB),\n",
    "    #          xslice,yslice_bac,250,267,color=rec.color,label=rec.label)\n",
    "\n",
    "\n",
    "ax1.set_ylabel('$\\mathcal{C}$ (%)',labelpad=0.3)\n",
    "\n",
    "#ax2.set_ylabel('Area-weighted Bottom Concentration (Mol/L)',labelpad=0.3)\n",
    "ax1.set_xlabel('Days',labelpad=0.3)\n",
    "\n",
    "plt.legend(labels,bbox_to_anchor=(1.75,1),ncol=2)\n",
    "   \n",
    "plt.tight_layout()\n",
    "\n",
    "plt.savefig('fig_PoolTimeSeries.pdf',format='pdf')\n"
   ]
  },
  {
   "cell_type": "code",
   "execution_count": null,
   "metadata": {
    "collapsed": false
   },
   "outputs": [],
   "source": []
  },
  {
   "cell_type": "code",
   "execution_count": null,
   "metadata": {
    "collapsed": false
   },
   "outputs": [],
   "source": []
  },
  {
   "cell_type": "code",
   "execution_count": null,
   "metadata": {
    "collapsed": true
   },
   "outputs": [],
   "source": []
  }
 ],
 "metadata": {
  "anaconda-cloud": {},
  "kernelspec": {
   "display_name": "Python [default]",
   "language": "python",
   "name": "python3"
  },
  "language_info": {
   "codemirror_mode": {
    "name": "ipython",
    "version": 3
   },
   "file_extension": ".py",
   "mimetype": "text/x-python",
   "name": "python",
   "nbconvert_exporter": "python",
   "pygments_lexer": "ipython3",
   "version": "3.5.2"
  }
 },
 "nbformat": 4,
 "nbformat_minor": 1
}
