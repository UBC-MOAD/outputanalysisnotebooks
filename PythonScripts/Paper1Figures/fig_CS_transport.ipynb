{
 "cells": [
  {
   "cell_type": "markdown",
   "metadata": {},
   "source": [
    "## Cross-shelf transport figure"
   ]
  },
  {
   "cell_type": "code",
   "execution_count": 1,
   "metadata": {
    "collapsed": true
   },
   "outputs": [],
   "source": [
    "#import gsw as sw # Gibbs seawater package\n",
    "\n",
    "import matplotlib.pyplot as plt\n",
    "import matplotlib.colors as mcolors\n",
    "import matplotlib.gridspec as gspec\n",
    "%matplotlib inline\n",
    "\n",
    "from netCDF4 import Dataset\n",
    "import numpy as np\n",
    "import pandas as pd\n",
    "import seaborn as sns\n",
    "import sys\n",
    "import xarray as xr\n",
    "import canyon_tools.readout_tools as rout \n",
    "import canyon_tools.metrics_tools as mpt"
   ]
  },
  {
   "cell_type": "code",
   "execution_count": 2,
   "metadata": {
    "collapsed": true
   },
   "outputs": [],
   "source": [
    "sns.set_context('paper')\n",
    "sns.set_style('white')"
   ]
  },
  {
   "cell_type": "code",
   "execution_count": 3,
   "metadata": {
    "collapsed": true
   },
   "outputs": [],
   "source": [
    "def plotCSPos(ax,CS1,CS2,CS3,CS4):\n",
    "    ax.axvline(CS1,color='k',linestyle=':')\n",
    "    ax.axvline(CS2,color='k',linestyle=':')\n",
    "    ax.axvline(CS3,color='k',linestyle=':')\n",
    "    ax.axvline(CS4,color='k',linestyle=':')\n",
    "    \n",
    "def unstagger_xarray(qty, index):\n",
    "    \"\"\"Interpolate u, v, or w component values to values at grid cell centres.\n",
    "    \n",
    "    Named indexing requires that input arrays are XArray DataArrays.\n",
    "\n",
    "    :arg qty: u, v, or w component values\n",
    "    :type qty: :py:class:`xarray.DataArray`\n",
    "    \n",
    "    :arg index: index name along which to centre\n",
    "        (generally one of 'gridX', 'gridY', or 'depth')\n",
    "    :type index: str\n",
    "\n",
    "    :returns qty: u, v, or w component values at grid cell centres\n",
    "    :rtype: :py:class:`xarray.DataArray`\n",
    "    \"\"\"\n",
    "    \n",
    "    qty = (qty + qty.shift(**{index: 1})) / 2\n",
    "    \n",
    "    return qty\n"
   ]
  },
  {
   "cell_type": "code",
   "execution_count": 4,
   "metadata": {
    "collapsed": false
   },
   "outputs": [],
   "source": [
    "#Exp\n",
    "CGrid = '/ocean/kramosmu/MITgcm/TracerExperiments/CNTDIFF/run38/gridGlob.nc' \n",
    "CGridOut = Dataset(CGrid)\n",
    "\n",
    "CGridNoC = '/ocean/kramosmu/MITgcm/TracerExperiments/CNTDIFF/run42/gridGlob.nc' \n",
    "CGridNoCOut = Dataset(CGridNoC)\n",
    "\n",
    "Ptracers = '/ocean/kramosmu/MITgcm/TracerExperiments/CNTDIFF/run38/ptracersGlob.nc' \n",
    "PtracersOut = Dataset(Ptracers)\n",
    "\n",
    "PtracersNoC = '/ocean/kramosmu/MITgcm/TracerExperiments/CNTDIFF/run42/ptracersGlob.nc' \n",
    "PtracersOutNoC = Dataset(PtracersNoC)\n",
    "\n",
    "State = '/ocean/kramosmu/MITgcm/TracerExperiments/CNTDIFF/run38/stateGlob.nc' \n",
    "StateNoC = '/ocean/kramosmu/MITgcm/TracerExperiments/CNTDIFF/run42/stateGlob.nc' \n",
    "\n",
    "flux_file = '/ocean/kramosmu/MITgcm/TracerExperiments/CNTDIFF/run38/FluxTR01Glob.nc'\n",
    "fluxNoC_file = '/ocean/kramosmu/MITgcm/TracerExperiments/CNTDIFF/run42/FluxTR01Glob.nc'\n",
    "\n",
    "grid = xr.open_dataset(CGrid)\n",
    "\n",
    "flux_file = '/ocean/kramosmu/MITgcm/TracerExperiments/CNTDIFF/run38/FluxTR01Glob.nc'\n",
    "fluxNoC_file = '/ocean/kramosmu/MITgcm/TracerExperiments/CNTDIFF/run42/FluxTR01Glob.nc'\n",
    "\n",
    "flux = xr.open_dataset(flux_file)\n",
    "fluxNoC = xr.open_dataset(fluxNoC_file)"
   ]
  },
  {
   "cell_type": "code",
   "execution_count": 5,
   "metadata": {
    "collapsed": true
   },
   "outputs": [],
   "source": [
    "adv_flux_AP = (flux.ADVyTr01[6:,:,227,:]-fluxNoC.ADVyTr01[6:,:,227,:]).mean(dim='T')\n",
    "dif_flux_AP = (flux.DFyETr01[6:,:,227,:]-fluxNoC.DFyETr01[6:,:,227,:]).mean(dim='T')\n",
    "\n",
    "Flux = adv_flux_AP + dif_flux_AP"
   ]
  },
  {
   "cell_type": "code",
   "execution_count": 6,
   "metadata": {
    "collapsed": true
   },
   "outputs": [],
   "source": [
    "adv_fluxV_AP = (flux.ADVrTr01[6:,30,:,:]-fluxNoC.ADVrTr01[6:,30,:,:]).mean(dim='T')\n",
    "dif_fluxV_AP = (flux.DFrITr01[6:,30,:,:]+flux.DFrETr01[6:,30,:,:]-\n",
    "                (fluxNoC.DFrITr01[6:,30,:,:]+fluxNoC.DFrETr01[6:,30,:,:])).mean(dim='T')\n",
    "FluxV = adv_fluxV_AP + dif_fluxV_AP  \n"
   ]
  },
  {
   "cell_type": "code",
   "execution_count": 7,
   "metadata": {
    "collapsed": true
   },
   "outputs": [],
   "source": [
    "# General input\n",
    "\n",
    "nx = 360\n",
    "ny = 360\n",
    "nz = 90\n",
    "nt = 19 # t dimension size \n",
    "numTr = 22 # number of tracers in total (CNT =22, 3D = 4, total = 19)\n",
    "\n",
    "rc = CGridNoCOut.variables['RC']\n",
    "dxf = CGridNoCOut.variables['dxF']\n",
    "xc = rout.getField(CGridNoC, 'XC') # x coords tracer cells\n",
    "yc = rout.getField(CGridNoC, 'YC') # y coords tracer cells\n",
    "\n",
    "rA = rout.getField(CGridNoC, 'rA') \n",
    "\n",
    "drF = CGridNoCOut.variables['drF'] # vertical distance between faces\n",
    "drC = CGridNoCOut.variables['drC'] # vertical distance between centers\n",
    "\n",
    "hFacC = rout.getField(CGridNoC, 'HFacC')\n",
    "mask_NoC = rout.getMask(CGridNoC, 'HFacC')\n",
    "\n",
    "\n",
    "\n",
    "times = np.arange(0,nt,1)\n",
    "\n",
    "#print(drC[:])\n",
    "#print(np.shape(drC))"
   ]
  },
  {
   "cell_type": "code",
   "execution_count": 8,
   "metadata": {
    "collapsed": true
   },
   "outputs": [],
   "source": [
    "import canyon_records \n",
    "import nocanyon_records\n",
    "\n",
    "records = canyon_records.main()\n",
    "recordsNoC = nocanyon_records.main()"
   ]
  },
  {
   "cell_type": "code",
   "execution_count": 9,
   "metadata": {
    "collapsed": false
   },
   "outputs": [
    {
     "name": "stdout",
     "output_type": "stream",
     "text": [
      "0 CNTDIFF_run43\n",
      "1 CNTDIFF_run38\n",
      "2 CNTDIFF_run37\n",
      "3 CNTDIFF_run36\n",
      "4 CNTDIFF_run45\n",
      "5 CNTDIFF_run73\n",
      "6 CNTDIFF_run75\n",
      "7 CNTDIFF_run67\n",
      "8 CNTDIFF_run51\n",
      "9 CNTDIFF_run69\n",
      "10 CNTDIFF_run71\n",
      "11 3DVISC_run01\n",
      "12 3DVISC_run02\n",
      "13 3DVISC_run03\n",
      "14 3DVISC_run04\n",
      "15 LOW_BF_run01\n",
      "16 LOWER_BF_run01\n"
     ]
    }
   ],
   "source": [
    "ii=0\n",
    "for rec in records:\n",
    "    print(ii,rec.name)\n",
    "    ii=ii+1\n",
    "    \n",
    "select_rec=[1]"
   ]
  },
  {
   "cell_type": "code",
   "execution_count": 1,
   "metadata": {
    "collapsed": false
   },
   "outputs": [
    {
     "ename": "NameError",
     "evalue": "name 'plt' is not defined",
     "output_type": "error",
     "traceback": [
      "\u001b[0;31m---------------------------------------------------------------------------\u001b[0m",
      "\u001b[0;31mNameError\u001b[0m                                 Traceback (most recent call last)",
      "\u001b[0;32m<ipython-input-1-ddd155cc3945>\u001b[0m in \u001b[0;36m<module>\u001b[0;34m()\u001b[0m\n\u001b[0;32m----> 1\u001b[0;31m \u001b[0mplt\u001b[0m\u001b[0;34m.\u001b[0m\u001b[0mrcParams\u001b[0m\u001b[0;34m[\u001b[0m\u001b[0;34m'font.size'\u001b[0m\u001b[0;34m]\u001b[0m \u001b[0;34m=\u001b[0m \u001b[0;36m8.0\u001b[0m\u001b[0;34m\u001b[0m\u001b[0m\n\u001b[0m\u001b[1;32m      2\u001b[0m \u001b[0mf\u001b[0m \u001b[0;34m=\u001b[0m \u001b[0mplt\u001b[0m\u001b[0;34m.\u001b[0m\u001b[0mfigure\u001b[0m\u001b[0;34m(\u001b[0m\u001b[0mfigsize\u001b[0m \u001b[0;34m=\u001b[0m \u001b[0;34m(\u001b[0m\u001b[0;36m7.48\u001b[0m\u001b[0;34m,\u001b[0m\u001b[0;36m4.6\u001b[0m\u001b[0;34m)\u001b[0m\u001b[0;34m)\u001b[0m \u001b[0;31m# 190mm = 7.48 in, 115cm = 4.52in\u001b[0m\u001b[0;34m\u001b[0m\u001b[0m\n\u001b[1;32m      3\u001b[0m \u001b[0;34m\u001b[0m\u001b[0m\n\u001b[1;32m      4\u001b[0m \u001b[0mgs\u001b[0m \u001b[0;34m=\u001b[0m \u001b[0mgspec\u001b[0m\u001b[0;34m.\u001b[0m\u001b[0mGridSpec\u001b[0m\u001b[0;34m(\u001b[0m\u001b[0;36m2\u001b[0m\u001b[0;34m,\u001b[0m \u001b[0;36m1\u001b[0m\u001b[0;34m,\u001b[0m \u001b[0mheight_ratios\u001b[0m\u001b[0;34m=\u001b[0m\u001b[0;34m[\u001b[0m\u001b[0;36m0.8\u001b[0m\u001b[0;34m,\u001b[0m\u001b[0;36m1.3\u001b[0m\u001b[0;34m]\u001b[0m\u001b[0;34m)\u001b[0m\u001b[0;34m\u001b[0m\u001b[0m\n\u001b[1;32m      5\u001b[0m \u001b[0mgs0\u001b[0m \u001b[0;34m=\u001b[0m \u001b[0mgspec\u001b[0m\u001b[0;34m.\u001b[0m\u001b[0mGridSpecFromSubplotSpec\u001b[0m\u001b[0;34m(\u001b[0m\u001b[0;36m1\u001b[0m\u001b[0;34m,\u001b[0m \u001b[0;36m2\u001b[0m\u001b[0;34m,\u001b[0m \u001b[0msubplot_spec\u001b[0m\u001b[0;34m=\u001b[0m\u001b[0mgs\u001b[0m\u001b[0;34m[\u001b[0m\u001b[0;36m0\u001b[0m\u001b[0;34m,\u001b[0m\u001b[0;36m0\u001b[0m\u001b[0;34m]\u001b[0m\u001b[0;34m,\u001b[0m\u001b[0mwspace\u001b[0m\u001b[0;34m=\u001b[0m\u001b[0;36m0.15\u001b[0m\u001b[0;34m)\u001b[0m\u001b[0;34m\u001b[0m\u001b[0m\n",
      "\u001b[0;31mNameError\u001b[0m: name 'plt' is not defined"
     ]
    }
   ],
   "source": [
    "plt.rcParams['font.size'] = 8.0\n",
    "f = plt.figure(figsize = (7.48,4.6)) # 190mm = 7.48 in, 115cm = 4.52in\n",
    "\n",
    "gs = gspec.GridSpec(2, 1, height_ratios=[0.8,1.3])\n",
    "gs0 = gspec.GridSpecFromSubplotSpec(1, 2, subplot_spec=gs[0,0],wspace=0.15)\n",
    "gs1 = gspec.GridSpecFromSubplotSpec(2, 2, subplot_spec=gs[1,0],hspace=0.1,wspace=0.15,width_ratios=[1,0.3])\n",
    "\n",
    "ax0 = plt.subplot(gs0[0,0])\n",
    "ax1 = plt.subplot(gs0[0,1])\n",
    "ax2 = plt.subplot(gs1[0,0],xticks=[])\n",
    "ax3 = plt.subplot(gs1[1,0])\n",
    "ax4 = plt.subplot(gs1[1,1])\n",
    "ii=7\n",
    "\n",
    "# Full shelf\n",
    "cnt=ax3.contourf(grid.X.isel(X=slice(60,300))/1000,grid.Z.isel(Z=slice(0,60)),\n",
    "                Flux.isel(Zmd000090=slice(0,60),X=slice(60,300))/1E3,16,cmap='RdYlBu_r',vmax=5, vmin=-5)\n",
    "ax3.contourf(grid.X.isel(X=slice(60,300))/1000,grid.Z.isel(Z=slice(0,60)),\n",
    "             grid.HFacC.isel(Z=slice(0,60),Y=227,X=slice(60,300)),[0,0.1])\n",
    "\n",
    "cbar_ax = f.add_axes([0.13, 0.17, 0.17, 0.03])\n",
    "cb=f.colorbar(cnt, cax=cbar_ax,orientation='horizontal',ticks=[-6,-4,-2,0,2,4,6])\n",
    "\n",
    "ax3.axhline(y=grid.Z[30], linestyle=':',color='k')\n",
    "ax3.set_xlabel('Alongshore distance (km)',labelpad=0.5)\n",
    "ax3.set_ylabel('Depth (m)',labelpad=0.5)\n",
    "\n",
    "ax3.text(0.11,0.5,'$10^6$ Mol/s',transform=ax3.transAxes)\n",
    "\n",
    "\n",
    "# Zoom shelf\n",
    "cnt=ax2.contourf(grid.X.isel(X=slice(60,300))/1000,grid.Z.isel(Z=slice(0,30)),\n",
    "                Flux.isel(Zmd000090=slice(0,30),X=slice(60,300))/100,16,cmap='RdYlBu_r',vmax=4, vmin=-4)\n",
    "ax2.contourf(grid.X.isel(X=slice(60,300))/1000,grid.Z.isel(Z=slice(0,30)),\n",
    "            grid.HFacC.isel(Z=slice(0,30),Y=227,X=slice(60,300)),[0,0.1])\n",
    "\n",
    "cbar_ax = f.add_axes([0.69, 0.36, 0.02, 0.19])\n",
    "cb=f.colorbar(cnt, cax=cbar_ax)\n",
    "\n",
    "ax2.set_ylabel('Depth (m)',labelpad=0.5)\n",
    "ax2.text(0.87,0.86,'$10^{5}$ Mol/s',transform=ax2.transAxes)    \n",
    "\n",
    "# Time series\n",
    "\n",
    "ax0.axhline(0,color='0.8',linewidth=2)\n",
    "ax1.axhline(0,color='0.8',linewidth=2)\n",
    "\n",
    "ind = 1\n",
    "file = (('/ocean/kramosmu/MITgcm/TracerExperiments/%s/%s' %(records[ind].exp_code,records[ind].run_num))+\n",
    "        'advTracer_CS_transports.nc')\n",
    "filedif = (('/ocean/kramosmu/MITgcm/TracerExperiments/%s/%s' %(records[ind].exp_code,records[ind].run_num))+\n",
    "        'difTracer_CS_transports.nc')\n",
    "fileNoC = (('/ocean/kramosmu/MITgcm/TracerExperiments/%s/%s' %(recordsNoC[ind].exp_code,recordsNoC[ind].run_num))+\n",
    "        'advTracer_CS_transports.nc')\n",
    "dfcan = xr.open_dataset(file)\n",
    "dfdif = xr.open_dataset(filedif)\n",
    "dfnoc = xr.open_dataset(fileNoC)\n",
    "\n",
    "vertical = (dfdif.Vert_dif_trans_sb + dfcan.Vert_adv_trans_sb)-dfnoc.Vert_adv_trans_sb   \n",
    "ax0.plot(np.arange(1,19,1)/2.0,(vertical)/1E5,':',color='k')\n",
    "ax0.plot(np.arange(1,19,1)/2.0,(dfcan.CS1_adv_trans-dfnoc.CS1_adv_trans)/1E5,color='0.3')\n",
    "ax0.plot(np.arange(1,19,1)/2.0,(dfcan.CS2_adv_trans-dfnoc.CS2_adv_trans)/1E5,color='0.5')\n",
    "ax0.plot(np.arange(1,19,1)/2.0,(dfcan.CS3_adv_trans-dfnoc.CS3_adv_trans)/1E5,color='k')\n",
    "ax0.plot(np.arange(1,19,1)/2.0,(dfcan.CS4_adv_trans-dfnoc.CS4_adv_trans)/1E5,':',color='0.5')\n",
    "ax0.plot(np.arange(1,19,1)/2.0,(dfcan.CS5_adv_trans-dfnoc.CS5_adv_trans)/1E5,color='0.3')\n",
    "    \n",
    "total = (dfcan.CS1_adv_trans-dfnoc.CS1_adv_trans +\n",
    "         dfcan.CS2_adv_trans-dfnoc.CS2_adv_trans +\n",
    "         dfcan.CS3_adv_trans-dfnoc.CS3_adv_trans +\n",
    "         dfcan.CS4_adv_trans-dfnoc.CS4_adv_trans +\n",
    "         dfcan.CS5_adv_trans-dfnoc.CS5_adv_trans +\n",
    "         vertical)\n",
    "    \n",
    "ax0.plot(np.arange(1,19,1)/2.0,total/1E5,'--',color='k')\n",
    "ax0.set_xlabel('Days',labelpad=0.5)\n",
    "ax0.set_ylabel('($10^8$ Mol/s)',labelpad=0.5)\n",
    "\n",
    "file2 = (('/ocean/kramosmu/MITgcm/TracerExperiments/%s/%s' %(records[ind].exp_code,records[ind].run_num))+\n",
    "        'water_CS_transports.nc')\n",
    "fileNoC2 = (('/ocean/kramosmu/MITgcm/TracerExperiments/%s/%s' %(recordsNoC[ind].exp_code,recordsNoC[ind].run_num))+\n",
    "        'water_CS_transports.nc')\n",
    "dfcan2 = xr.open_dataset(file2)\n",
    "dfnoc2 = xr.open_dataset(fileNoC2)\n",
    "    \n",
    "ax1.plot(np.arange(19)/2.0,(dfcan2.Vert_water_trans_sb-dfnoc2.Vert_water_trans_sb)/1E4,':',color='k',label = 'LID')\n",
    "ax1.plot(np.arange(19)/2.0,(dfcan2.CS1_water_trans-dfnoc2.CS1_water_trans)/1E4,color='0.3',label = 'CS1')\n",
    "ax1.plot(np.arange(19)/2.0,(dfcan2.CS2_water_trans-dfnoc2.CS2_water_trans)/1E4,color='0.5',label = 'CS2')\n",
    "ax1.plot(np.arange(19)/2.0,(dfcan2.CS3_water_trans-dfnoc2.CS3_water_trans)/1E4,color='k',label = 'CS3')\n",
    "ax1.plot(np.arange(19)/2.0,(dfcan2.CS4_water_trans-dfnoc2.CS4_water_trans)/1E4,':',color='0.5',label= 'CS4')\n",
    "ax1.plot(np.arange(19)/2.0,(dfcan2.CS5_water_trans-dfnoc2.CS5_water_trans)/1E4,color='0.3',label = 'CS5')\n",
    "    \n",
    "total = (dfcan2.CS1_water_trans-dfnoc2.CS1_water_trans +\n",
    "         dfcan2.CS2_water_trans-dfnoc2.CS2_water_trans +\n",
    "         dfcan2.CS3_water_trans-dfnoc2.CS3_water_trans +\n",
    "         dfcan2.CS4_water_trans-dfnoc2.CS4_water_trans +\n",
    "         dfcan2.CS5_water_trans-dfnoc2.CS5_water_trans +\n",
    "         dfcan2.Vert_water_trans_sb-dfnoc2.Vert_water_trans_sb)\n",
    "    \n",
    "ax1.plot(np.arange(19)/2.0,total/1E4,'--',color='k',label = 'Total')\n",
    "ax1.set_xlabel('Days',labelpad=0.5)\n",
    "ax1.set_ylabel('(m$^3$/s)',labelpad=-4)\n",
    "\n",
    "# Vertical section\n",
    "\n",
    "cnt=ax4.contourf(grid.X.isel(X=slice(120,240))/1000,grid.Y.isel(Y=slice(225,270))/1000,\n",
    "                   FluxV.isel(X=slice(120,240),Y=slice(225,270))/100,16,cmap='RdYlBu_r',vmax=4.80,vmin=-4.80)\n",
    "ax4.contourf(grid.X.isel(X=slice(120,240))/1000,grid.Y.isel(Y=slice(225,270))/1000,\n",
    "            grid.HFacC.isel(Z=30,X=slice(120,240),Y=slice(225,270)),[0,0.1])\n",
    "\n",
    "cbar_ax = f.add_axes([0.91, 0.12, 0.02, 0.21])\n",
    "cb=f.colorbar(cnt, cax=cbar_ax)\n",
    "\n",
    "ax4.set_xlabel('Alongshore distance (km)',labelpad=0.5)\n",
    "ax4.set_ylabel('CS distance (km)',labelpad=0.5)\n",
    "ax4.text(0.6,0.85,'$10^5$ Mol/l',transform=ax4.transAxes)    \n",
    "\n",
    "# General looks\n",
    "ax0.text(0.6,0.1,'(a) Tracer transport',transform=ax0.transAxes)\n",
    "ax1.text(0.6,0.1,'(b) Water transport',transform=ax1.transAxes)    \n",
    "ax2.text(0.01,0.9,'(c)',transform=ax2.transAxes)\n",
    "ax3.text(0.01,0.9,'(d)',transform=ax3.transAxes)    \n",
    "ax4.text(0.02,0.9,'(e) LID',transform=ax4.transAxes)    \n",
    "\n",
    "ax2.text(0.24,0.9,'CS2',transform=ax2.transAxes)\n",
    "ax2.text(0.47,0.9,'CS3',transform=ax2.transAxes)\n",
    "ax2.text(0.7,0.9,'CS4',transform=ax2.transAxes)\n",
    "\n",
    "\n",
    "plotCSPos(ax2,xc[1,60]/1000,xc[1,120]/1000,xc[1,240]/1000,xc[1,300]/1000)\n",
    "plotCSPos(ax3,xc[1,60]/1000,xc[1,120]/1000,xc[1,240]/1000,xc[1,300]/1000)\n",
    "\n",
    "\n",
    "#ax2.set_ylim(0,2.2)\n",
    "#ax3.set_ylim(0,15)\n",
    "\n",
    "ax1.legend(ncol=1,bbox_to_anchor=(1.05,-0.1))\n",
    "\n",
    "ax0.tick_params(axis='x', pad=1)\n",
    "ax1.tick_params(axis='x', pad=1)\n",
    "ax3.tick_params(axis='x', pad=1)\n",
    "ax4.tick_params(axis='x', pad=1)\n",
    "\n",
    "ax0.tick_params(axis='y', pad=3)\n",
    "ax1.tick_params(axis='y', pad=3)\n",
    "ax2.tick_params(axis='y', pad=3)\n",
    "ax3.tick_params(axis='y', pad=3)\n",
    "ax4.tick_params(axis='y', pad=3)\n",
    "\n",
    "plt.savefig('fig_CS_transport.pdf',format='pdf')\n"
   ]
  },
  {
   "cell_type": "code",
   "execution_count": null,
   "metadata": {
    "collapsed": true
   },
   "outputs": [],
   "source": [
    "\n"
   ]
  },
  {
   "cell_type": "code",
   "execution_count": null,
   "metadata": {
    "collapsed": true
   },
   "outputs": [],
   "source": []
  },
  {
   "cell_type": "code",
   "execution_count": null,
   "metadata": {
    "collapsed": true
   },
   "outputs": [],
   "source": []
  },
  {
   "cell_type": "code",
   "execution_count": null,
   "metadata": {
    "collapsed": true
   },
   "outputs": [],
   "source": []
  }
 ],
 "metadata": {
  "anaconda-cloud": {},
  "kernelspec": {
   "display_name": "Python [conda root]",
   "language": "python",
   "name": "conda-root-py"
  },
  "language_info": {
   "codemirror_mode": {
    "name": "ipython",
    "version": 3
   },
   "file_extension": ".py",
   "mimetype": "text/x-python",
   "name": "python",
   "nbconvert_exporter": "python",
   "pygments_lexer": "ipython3",
   "version": "3.5.2"
  }
 },
 "nbformat": 4,
 "nbformat_minor": 1
}
